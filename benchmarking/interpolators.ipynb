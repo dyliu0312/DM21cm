{
 "cells": [
  {
   "cell_type": "code",
   "execution_count": 2,
   "metadata": {},
   "outputs": [],
   "source": [
    "%reload_ext autoreload\n",
    "%autoreload 2\n",
    "\n",
    "import os\n",
    "import sys\n",
    "import numpy as np\n",
    "\n",
    "sys.path.append(\"..\")\n",
    "from dm21cm.interpolators import BatchInterpolator as BatchInterpolatorSciPy\n",
    "from dm21cm.interpolators_jax import BatchInterpolator as BatchInterpolatorJax"
   ]
  },
  {
   "cell_type": "code",
   "execution_count": 5,
   "metadata": {},
   "outputs": [],
   "source": [
    "import h5py\n",
    "import numpy as np\n",
    "from functools import partial\n",
    "\n",
    "import jax.numpy as jnp\n",
    "from jax import jit, vmap, device_put\n",
    "\n",
    "EPSILON = 1e-6"
   ]
  },
  {
   "cell_type": "code",
   "execution_count": 6,
   "metadata": {},
   "outputs": [],
   "source": [
    "@jit\n",
    "def interp1d(fp, xp, x):\n",
    "    \"\"\"Interpolates f(x), described by points fp and xp, at values in x.\n",
    "\n",
    "    Args:\n",
    "        fp (array): n(>=1)D array of function values. First dimension will be interpolated.\n",
    "        xp (array): 1D array of x values.\n",
    "        x (array): x values to interpolate.\n",
    "\n",
    "    Notes:\n",
    "        xp must be sorted. Does not do bound checks.\n",
    "    \"\"\"\n",
    "    il = jnp.searchsorted(xp, x, side='right') - 1\n",
    "    wl = (xp[il+1] - x) / (xp[il+1] - xp[il])\n",
    "    return fp[il] * wl + fp[il+1] * (1 - wl)\n",
    "\n",
    "@jit\n",
    "@partial(vmap, in_axes=(None, None, None, 0))\n",
    "def interp2d(fp, x0p, x1p, x01):\n",
    "    \"\"\"Interpolates f(x0, x1), described by points fp, x0p, and x1p, at values in x01.\n",
    "\n",
    "    Args:\n",
    "        fp (array): n(>=2)D array of function values. First two dimensions will be interpolated.\n",
    "        x0p (array): 1D array of x0 values (first dimension of fp).\n",
    "        x1p (array): 1D array of x1 values (second dimension of fp).\n",
    "        x01 (array): [x0, x1] values to interpolate.\n",
    "\n",
    "    Notes:\n",
    "        x0p and x1p must be sorted. Does not do bound checks.\n",
    "    \"\"\"\n",
    "    x0, x1 = x01\n",
    "    \n",
    "    i0l = jnp.searchsorted(x0p, x0, side='right') - 1\n",
    "    wl0 = (x0p[i0l+1] - x0) / (x0p[i0l+1] - x0p[i0l])\n",
    "    wr0 = 1 - wl0\n",
    "    \n",
    "    i1l = jnp.searchsorted(x1p, x1, side='right') - 1\n",
    "    wl1 = (x1p[i1l+1] - x1) / (x1p[i1l+1] - x1p[i1l])\n",
    "    wr1 = 1 - wl1\n",
    "    \n",
    "    return fp[i0l,i1l]*wl0*wl1 + fp[i0l+1,i1l]*wr0*wl1 + fp[i0l,i1l+1]*wl0*wr1 + fp[i0l+1,i1l+1]*wr0*wr1"
   ]
  },
  {
   "cell_type": "code",
   "execution_count": 7,
   "metadata": {},
   "outputs": [],
   "source": [
    "def bound_action(v, absc, out_of_bounds_action):\n",
    "    if out_of_bounds_action == 'clip':\n",
    "        return jnp.clip(v, jnp.min(absc)*(1+EPSILON), jnp.max(absc)/(1+EPSILON))\n",
    "    else:\n",
    "        if not (jnp.all(v >= jnp.min(absc)) and jnp.all(v <= jnp.max(absc))):\n",
    "            raise ValueError('value out of bounds.')\n",
    "        return v"
   ]
  },
  {
   "cell_type": "code",
   "execution_count": 9,
   "metadata": {},
   "outputs": [],
   "source": [
    "class BatchInterpolator:\n",
    "    \"\"\"Interpolator for multidimensional data. Currently supports axes=('rs', 'Ein', 'nBs', 'x', 'out').\n",
    "\n",
    "    Args:\n",
    "        filename (str): HDF5 data file name.\n",
    "        on_device (bool, optional): Whether to save data on device (GPU). Default: True.\n",
    "\n",
    "    Attributes:\n",
    "        axes (list): List of axis names.\n",
    "        abscs (dict): Abscissas of axes.\n",
    "        data (array): Grid data consistent with axes and abscs.\n",
    "    \"\"\"\n",
    "    \n",
    "    def __init__(self, filename, on_device=True):\n",
    "        \n",
    "        with h5py.File(filename, 'r') as hf:\n",
    "            self.axes = hf['axes'][:]\n",
    "            self.abscs = {}\n",
    "            for k, item in hf['abscs'].items():\n",
    "                self.abscs[k] = item[:]\n",
    "            self.data = jnp.array(hf['data'][:]) # load into memory\n",
    "\n",
    "        self.on_device = on_device\n",
    "        if self.on_device:\n",
    "            self.data = device_put(self.data)\n",
    "            \n",
    "        self.fixed_in_spec = None\n",
    "        self.fixed_in_spec_data = None\n",
    "    \n",
    "    \n",
    "    def set_fixed_in_spec(self, in_spec):\n",
    "        \n",
    "        self.fixed_in_spec = in_spec\n",
    "        self.fixed_in_spec_data = jnp.einsum('e,renxo->rnxo', in_spec, self.data)\n",
    "        if self.on_device:\n",
    "            self.fixed_in_spec_data = device_put(self.fixed_in_spec_data)\n",
    "        \n",
    "        \n",
    "    def __call__(self, rs=None, in_spec=None, nBs_s=None, x_s=None,\n",
    "                 sum_result=False, sum_weight=None, sum_batch_size=256**3,\n",
    "                 out_of_bounds_action='error'):\n",
    "        \"\"\"Batch interpolate in (nBs and) x directions.\n",
    "        \n",
    "        First sum with in_spec (with caching), then interpolate to a rs point,\n",
    "        then perform the interpolation on [(nBs_s), x_s]. If sum_result is True,\n",
    "        sum over all interpolated value.\n",
    "        \n",
    "        Parameters:\n",
    "            rs : [1]\n",
    "            in_spec : [N * ...]\n",
    "            nBs_s : [1]\n",
    "            x_s : [1]\n",
    "            sum_result : if True, return average in the batch dimension.\n",
    "            sum_weight : if None, just sum. otherwise dot.\n",
    "            sum_batch_size : perform batch interpolation (and averaging) in batches of this size.\n",
    "            out_of_bounds_action : {'error', 'clip'}\n",
    "        \n",
    "        Return:\n",
    "            interpolated box or average of interpolated box.\n",
    "        \"\"\"\n",
    "\n",
    "        rs = bound_action(rs, self.abscs['rs'], out_of_bounds_action)\n",
    "        x_s = bound_action(x_s, self.abscs['x'], out_of_bounds_action)\n",
    "        nBs_s = bound_action(nBs_s, self.abscs['nBs'], out_of_bounds_action)\n",
    "        \n",
    "        # 1. in_spec sum\n",
    "        if jnp.all(in_spec == self.fixed_in_spec):\n",
    "            in_spec_data = self.fixed_in_spec_data\n",
    "        else:\n",
    "            in_spec_data = jnp.einsum('e,renxo->rnxo', in_spec, self.data)\n",
    "        \n",
    "        # 2. rs interpolation\n",
    "        data_at_rs = interp1d(in_spec_data, jnp.array(self.abscs['rs']), rs)\n",
    "        \n",
    "        if not sum_result:\n",
    "            # 3. (nBs) x interpolation\n",
    "            nBs_x_in = jnp.stack([nBs_s, x_s], axis=-1)\n",
    "            return interp2d(\n",
    "                data_at_rs,\n",
    "                jnp.array(self.abscs['nBs']),\n",
    "                jnp.array(self.abscs['x']),\n",
    "                nBs_x_in\n",
    "            )\n",
    "            \n",
    "        else:\n",
    "            ## 3. (nBs) x sum\n",
    "            split_n = int(jnp.ceil( len(x_s)/sum_batch_size ))\n",
    "            if sum_weight is not None:\n",
    "                sum_weight_batches = jnp.array_split(sum_weight, split_n)\n",
    "                \n",
    "            result = jnp.zeros( (len(self.abscs['out']),) ) # use numpy?\n",
    "            \n",
    "            nBs_x_in = jnp.stack([nBs_s, x_s], axis=-1)\n",
    "            nBs_x_in_batches = jnp.array_split(nBs_x_in, split_n)\n",
    "\n",
    "            for i_batch, nBs_x_in_batch in enumerate(nBs_x_in_batches):\n",
    "                interp_result = interp2d(\n",
    "                    data_at_rs,\n",
    "                    self.abscs['nBs'],\n",
    "                    self.abscs['x'],\n",
    "                    nBs_x_in_batch\n",
    "                )\n",
    "                if sum_weight is None:\n",
    "                    result += jnp.sum(interp_result, axis=0)\n",
    "                else:\n",
    "                    result += jnp.dot(sum_weight_batches[i_batch], interp_result)\n",
    "                    \n",
    "            return result\n",
    "        \n",
    "    \n",
    "    def point_interp(self, rs=None, nBs=None, x=None, out_of_bounds_action='error'):\n",
    "        \"\"\"Returns the transfer function at a (rs, nBs, x) point.\"\"\"\n",
    "\n",
    "        rs = bound_action(rs, self.abscs['rs'], out_of_bounds_action)\n",
    "        nBs = bound_action(nBs, self.abscs['nBs'], out_of_bounds_action)\n",
    "        x = bound_action(x, self.abscs['x'], out_of_bounds_action)\n",
    "        \n",
    "        data = interp1d(self.data, self.abscs['rs'], rs) # enxo\n",
    "        data = np.einsum('enxo -> nxeo', data) # nxeo\n",
    "        data = interp1d(data, self.abscs['nBs'], nBs) # xeo\n",
    "        data = interp1d(data, self.abscs['x'], x) # eo\n",
    "        return data"
   ]
  },
  {
   "cell_type": "markdown",
   "metadata": {},
   "source": [
    "## fake data"
   ]
  },
  {
   "cell_type": "code",
   "execution_count": 13,
   "metadata": {},
   "outputs": [],
   "source": [
    "rs = 10.\n",
    "in_spec = jnp.array(np.random.uniform(size=(500,)))\n",
    "\n",
    "box_dim = 128\n",
    "\n",
    "n_in = jnp.array(np.random.uniform(size=(box_dim**3,)))\n",
    "x_in = jnp.array(np.random.uniform(size=(box_dim**3,)))\n",
    "w = jnp.array(np.random.uniform(size=(box_dim**3,)))"
   ]
  },
  {
   "cell_type": "code",
   "execution_count": 10,
   "metadata": {},
   "outputs": [],
   "source": [
    "bi = BatchInterpolator(f\"{os.environ['DM21CM_DATA_DIR']}/tf/zf01/data/phot_scat.h5\")"
   ]
  },
  {
   "cell_type": "code",
   "execution_count": 14,
   "metadata": {},
   "outputs": [
    {
     "name": "stdout",
     "output_type": "stream",
     "text": [
      "571 ms ± 2.69 ms per loop (mean ± std. dev. of 7 runs, 1 loop each)\n"
     ]
    }
   ],
   "source": [
    "%%timeit\n",
    "\n",
    "result = bi(rs=rs, in_spec=in_spec, nBs_s=n_in, x_s=x_in, sum_result=True, sum_weight=w, out_of_bounds_action='clip').block_until_ready()"
   ]
  },
  {
   "cell_type": "code",
   "execution_count": null,
   "metadata": {},
   "outputs": [],
   "source": [
    "result"
   ]
  },
  {
   "cell_type": "code",
   "execution_count": null,
   "metadata": {},
   "outputs": [],
   "source": []
  },
  {
   "cell_type": "code",
   "execution_count": null,
   "metadata": {},
   "outputs": [],
   "source": []
  },
  {
   "cell_type": "code",
   "execution_count": null,
   "metadata": {},
   "outputs": [],
   "source": []
  },
  {
   "cell_type": "code",
   "execution_count": 26,
   "metadata": {},
   "outputs": [],
   "source": [
    "rs = 20.\n",
    "in_spec = np.linspace(3., 4., 500)\n",
    "n_in = np.linspace(0.5, 1.5, 64**3)\n",
    "x_in = np.linspace(0.01, 0.99, 64**3)\n",
    "w = np.linspace(0.5, 1.5, 64**3)"
   ]
  },
  {
   "cell_type": "code",
   "execution_count": null,
   "metadata": {},
   "outputs": [],
   "source": [
    "bi_scipy = BatchInterpolatorSciPy(f\"{os.environ['DM21CM_DATA_DIR']}/tf/230629/phot/phot_prop.h5\")"
   ]
  },
  {
   "cell_type": "code",
   "execution_count": 34,
   "metadata": {},
   "outputs": [],
   "source": [
    "bi_jax = BatchInterpolatorJax(f\"{os.environ['DM21CM_DATA_DIR']}/tf/230629/phot/phot_prop.h5\")"
   ]
  },
  {
   "cell_type": "markdown",
   "metadata": {},
   "source": [
    "| Exec time (s) on | 48CPU 32GB mem        | 48CPU A100            |\n",
    "|------------------|-----------------------|-----------------------|\n",
    "| scipy (base)     | 3.997290 +/- 0.004115 | 4.304705 +/- 0.068191 |\n",
    "| jax (base)       | 0.506022 +/- 0.006346 | 0.010241 +/- 0.000188 |"
   ]
  },
  {
   "cell_type": "code",
   "execution_count": 15,
   "metadata": {},
   "outputs": [],
   "source": [
    "result_scipy = bi_scipy(rs=rs, in_spec=in_spec, nBs_s=n_in, x_s=x_in, sum_result=True, sum_weight=w)"
   ]
  },
  {
   "cell_type": "code",
   "execution_count": 28,
   "metadata": {},
   "outputs": [],
   "source": [
    "result_jax = bi_jax(rs=rs, in_spec=in_spec, nBs_s=n_in, x_s=x_in, sum_result=True, sum_weight=w)"
   ]
  },
  {
   "cell_type": "code",
   "execution_count": 21,
   "metadata": {},
   "outputs": [
    {
     "name": "stdout",
     "output_type": "stream",
     "text": [
      "3.95 s ± 1.83 ms per loop (mean ± std. dev. of 7 runs, 1 loop each)\n"
     ]
    }
   ],
   "source": [
    "%timeit result_scipy = bi_scipy(rs=rs, in_spec=in_spec, nBs_s=n_in, x_s=x_in, sum_result=True, sum_weight=w)"
   ]
  },
  {
   "cell_type": "code",
   "execution_count": 36,
   "metadata": {},
   "outputs": [
    {
     "name": "stdout",
     "output_type": "stream",
     "text": [
      "157 ms ± 2.64 ms per loop (mean ± std. dev. of 7 runs, 10 loops each)\n"
     ]
    }
   ],
   "source": [
    "%timeit result_jax = bi_jax(rs=rs, in_spec=in_spec, nBs_s=n_in, x_s=x_in, sum_result=True, sum_weight=w).block_until_ready()"
   ]
  },
  {
   "cell_type": "code",
   "execution_count": null,
   "metadata": {},
   "outputs": [],
   "source": [
    "result_scipy / result_jax"
   ]
  },
  {
   "cell_type": "code",
   "execution_count": 31,
   "metadata": {},
   "outputs": [
    {
     "data": {
      "text/plain": [
       "jaxlib.xla_extension.ArrayImpl"
      ]
     },
     "execution_count": 31,
     "metadata": {},
     "output_type": "execute_result"
    }
   ],
   "source": [
    "type(result_jax)"
   ]
  },
  {
   "cell_type": "markdown",
   "metadata": {},
   "source": [
    "## A. Interpolators from scratch"
   ]
  },
  {
   "cell_type": "code",
   "execution_count": 2,
   "metadata": {},
   "outputs": [],
   "source": [
    "z = np.random.uniform(0, 1, 1000*500*500).reshape(10, 10, 10, 500, 500)\n",
    "a0 = np.sort(list(np.random.uniform(0, 1, 8)) + [0., 1.])\n",
    "a1 = np.sort(list(np.random.uniform(0, 1, 8)) + [0., 1.])\n",
    "a2 = np.sort(list(np.random.uniform(0, 1, 8)) + [0., 1.])\n",
    "in_spec = np.random.uniform(0, 1, 500)"
   ]
  },
  {
   "cell_type": "code",
   "execution_count": 6,
   "metadata": {},
   "outputs": [],
   "source": [
    "in0 = np.random.uniform(0, 1)\n",
    "in1 = np.random.uniform(0, 1, 64**3)\n",
    "in2 = np.random.uniform(0, 1, 64**3)\n",
    "in12 = np.stack([in1, in2], axis=-1)\n",
    "w = np.random.uniform(0, 1, 64**3)"
   ]
  },
  {
   "cell_type": "markdown",
   "metadata": {},
   "source": [
    "## 1. Scipy"
   ]
  },
  {
   "cell_type": "code",
   "execution_count": 10,
   "metadata": {},
   "outputs": [],
   "source": [
    "from scipy import interpolate"
   ]
  },
  {
   "cell_type": "code",
   "execution_count": 15,
   "metadata": {},
   "outputs": [],
   "source": [
    "def fscipy():\n",
    "    d = np.einsum('i,abcio->abco', in_spec, z) # (0, 1, 2, out)\n",
    "    d2 = interpolate.interp1d(a0, d, axis=0, copy=False)(in0) # (1, 2, out)\n",
    "    interpolator = interpolate.RegularGridInterpolator((a1, a2), d2)\n",
    "    return np.dot(w, interpolator(in12))"
   ]
  },
  {
   "cell_type": "code",
   "execution_count": 18,
   "metadata": {},
   "outputs": [
    {
     "name": "stdout",
     "output_type": "stream",
     "text": [
      "3.95 s ± 2.14 ms per loop (mean ± std. dev. of 7 runs, 1 loop each)\n"
     ]
    }
   ],
   "source": [
    "%timeit s = fscipy()"
   ]
  },
  {
   "cell_type": "code",
   "execution_count": 20,
   "metadata": {},
   "outputs": [],
   "source": [
    "in012 = np.stack([np.full_like(in1, in0), in1, in2], axis=-1)"
   ]
  },
  {
   "cell_type": "code",
   "execution_count": 21,
   "metadata": {},
   "outputs": [],
   "source": [
    "def fscipy2():\n",
    "    d = np.einsum('i,abcio->abco', in_spec, z) # (0, 1, 2, out)\n",
    "    interpolator = interpolate.RegularGridInterpolator((a0, a1, a2), d)\n",
    "    return np.dot(w, interpolator(in012))"
   ]
  },
  {
   "cell_type": "code",
   "execution_count": 22,
   "metadata": {},
   "outputs": [
    {
     "name": "stdout",
     "output_type": "stream",
     "text": [
      "7.72 s ± 4.17 ms per loop (mean ± std. dev. of 7 runs, 1 loop each)\n"
     ]
    }
   ],
   "source": [
    "%timeit s2 = fscipy2()"
   ]
  },
  {
   "cell_type": "code",
   "execution_count": 23,
   "metadata": {},
   "outputs": [
    {
     "data": {
      "text/plain": [
       "True"
      ]
     },
     "execution_count": 23,
     "metadata": {},
     "output_type": "execute_result"
    }
   ],
   "source": [
    "np.all(np.isclose(fscipy(), fscipy2()))"
   ]
  },
  {
   "cell_type": "markdown",
   "metadata": {},
   "source": [
    "## 2 Jax"
   ]
  },
  {
   "cell_type": "code",
   "execution_count": 24,
   "metadata": {},
   "outputs": [],
   "source": [
    "import jax.numpy as jnp\n",
    "from jax import jit, vmap"
   ]
  },
  {
   "cell_type": "code",
   "execution_count": 25,
   "metadata": {},
   "outputs": [],
   "source": [
    "def interp1d(f, x, xv):\n",
    "    \"\"\"Interpolates f(x) at values in xvs. Does not do bound checks.\n",
    "    f : (n>=1 D) array of function value.\n",
    "    x : 1D array of input value, corresponding to first dimension of f.\n",
    "    xv : x values to interpolate.\n",
    "    \"\"\"\n",
    "    li = jnp.searchsorted(x, xv) - 1\n",
    "    lx = x[li]\n",
    "    rx = x[li+1]\n",
    "    p = (xv-lx) / (rx-lx)\n",
    "    fl = f[li]\n",
    "    return fl + (f[li+1]-fl) * p\n",
    "\n",
    "interp1d_vmap = jit(vmap(interp1d, in_axes=(None, None, 0)))\n",
    "\n",
    "\n",
    "def interp2d(f, x0, x1, xv):\n",
    "    \"\"\"Interpolates f(x) at values in xvs. Does not do bound checks.\n",
    "    f : (n>=2 D) array of function value.\n",
    "    x0 : 1D array of input value, corresponding to first dimension of f.\n",
    "    x1 : 1D array of input value, corresponding to second dimension of f.\n",
    "    xv : [x0, x1] values to interpolate.\n",
    "    \"\"\"\n",
    "    xv0, xv1 = xv\n",
    "    \n",
    "    li0 = jnp.searchsorted(x0, xv0, side='right') - 1\n",
    "    lx0 = x0[li0]\n",
    "    rx0 = x0[li0+1]\n",
    "    wl0 = (rx0-xv0) / (rx0-lx0)\n",
    "    wr0 = 1 - wl0\n",
    "    \n",
    "    li1 = jnp.searchsorted(x1, xv1, side='right') - 1\n",
    "    lx1 = x1[li1]\n",
    "    rx1 = x1[li1+1]\n",
    "    wl1 = (rx1-xv1) / (rx1-lx1)\n",
    "    wr1 = 1 - wl1\n",
    "    \n",
    "    return f[li0,li1]*wl0*wl1 + f[li0+1,li1]*wr0*wl1 + f[li0,li1+1]*wl0*wr1 + f[li0+1,li1+1]*wr0*wr1\n",
    "\n",
    "interp2d_vmap = jit(vmap(interp2d, in_axes=(None, None, None, 0)))"
   ]
  },
  {
   "cell_type": "code",
   "execution_count": 26,
   "metadata": {},
   "outputs": [],
   "source": [
    "def fjax():\n",
    "    d = jnp.einsum('i,abcio->abco', in_spec, z) # (0, 1, 2, out)\n",
    "    d2 = interp1d(d, a0, in0) # (1, 2, out)\n",
    "    return jnp.dot(w, interp2d_vmap(d2, a1, a2, in12))"
   ]
  },
  {
   "cell_type": "code",
   "execution_count": null,
   "metadata": {},
   "outputs": [],
   "source": [
    "np.isclose?"
   ]
  },
  {
   "cell_type": "code",
   "execution_count": 32,
   "metadata": {},
   "outputs": [
    {
     "data": {
      "text/plain": [
       "True"
      ]
     },
     "execution_count": 32,
     "metadata": {},
     "output_type": "execute_result"
    }
   ],
   "source": [
    "np.all(np.isclose(fscipy(), fjax(), atol=1e100))"
   ]
  },
  {
   "cell_type": "code",
   "execution_count": 33,
   "metadata": {},
   "outputs": [
    {
     "name": "stdout",
     "output_type": "stream",
     "text": [
      "514 ms ± 9.98 ms per loop (mean ± std. dev. of 7 runs, 1 loop each)\n"
     ]
    }
   ],
   "source": [
    "%timeit s3 = fjax()"
   ]
  },
  {
   "cell_type": "code",
   "execution_count": null,
   "metadata": {},
   "outputs": [],
   "source": []
  }
 ],
 "metadata": {
  "kernelspec": {
   "display_name": "21cmfast",
   "language": "python",
   "name": "python3"
  },
  "language_info": {
   "codemirror_mode": {
    "name": "ipython",
    "version": 3
   },
   "file_extension": ".py",
   "mimetype": "text/x-python",
   "name": "python",
   "nbconvert_exporter": "python",
   "pygments_lexer": "ipython3",
   "version": "3.11.5"
  },
  "orig_nbformat": 4
 },
 "nbformat": 4,
 "nbformat_minor": 2
}
