{
 "cells": [
  {
   "cell_type": "code",
   "execution_count": 33,
   "metadata": {},
   "outputs": [],
   "source": [
    "%reload_ext autoreload\n",
    "%autoreload 2\n",
    "\n",
    "import os\n",
    "import sys\n",
    "import numpy as np\n",
    "\n",
    "sys.path.append(\"..\")\n",
    "from dm21cm.interpolators import BatchInterpolator as BatchInterpolatorSciPy\n",
    "from dm21cm.interpolators_jax import BatchInterpolator as BatchInterpolatorJax"
   ]
  },
  {
   "cell_type": "code",
   "execution_count": 26,
   "metadata": {},
   "outputs": [],
   "source": [
    "rs = 20.\n",
    "in_spec = np.linspace(3., 4., 500)\n",
    "n_in = np.linspace(0.5, 1.5, 64**3)\n",
    "x_in = np.linspace(0.01, 0.99, 64**3)\n",
    "w = np.linspace(0.5, 1.5, 64**3)"
   ]
  },
  {
   "cell_type": "code",
   "execution_count": null,
   "metadata": {},
   "outputs": [],
   "source": [
    "bi_scipy = BatchInterpolatorSciPy(f\"{os.environ['DM21CM_DATA_DIR']}/tf/230629/phot/phot_prop.h5\")"
   ]
  },
  {
   "cell_type": "code",
   "execution_count": 34,
   "metadata": {},
   "outputs": [],
   "source": [
    "bi_jax = BatchInterpolatorJax(f\"{os.environ['DM21CM_DATA_DIR']}/tf/230629/phot/phot_prop.h5\")"
   ]
  },
  {
   "cell_type": "markdown",
   "metadata": {},
   "source": [
    "| Exec time (s) on | 48CPU 32GB mem        | 48CPU A100            |\n",
    "|------------------|-----------------------|-----------------------|\n",
    "| scipy (base)     | 3.997290 +/- 0.004115 | 4.304705 +/- 0.068191 |\n",
    "| jax (base)       | 0.506022 +/- 0.006346 | 0.010241 +/- 0.000188 |"
   ]
  },
  {
   "cell_type": "code",
   "execution_count": 15,
   "metadata": {},
   "outputs": [],
   "source": [
    "result_scipy = bi_scipy(rs=rs, in_spec=in_spec, nBs_s=n_in, x_s=x_in, sum_result=True, sum_weight=w)"
   ]
  },
  {
   "cell_type": "code",
   "execution_count": 28,
   "metadata": {},
   "outputs": [],
   "source": [
    "result_jax = bi_jax(rs=rs, in_spec=in_spec, nBs_s=n_in, x_s=x_in, sum_result=True, sum_weight=w)"
   ]
  },
  {
   "cell_type": "code",
   "execution_count": 21,
   "metadata": {},
   "outputs": [
    {
     "name": "stdout",
     "output_type": "stream",
     "text": [
      "3.95 s ± 1.83 ms per loop (mean ± std. dev. of 7 runs, 1 loop each)\n"
     ]
    }
   ],
   "source": [
    "%timeit result_scipy = bi_scipy(rs=rs, in_spec=in_spec, nBs_s=n_in, x_s=x_in, sum_result=True, sum_weight=w)"
   ]
  },
  {
   "cell_type": "code",
   "execution_count": 36,
   "metadata": {},
   "outputs": [
    {
     "name": "stdout",
     "output_type": "stream",
     "text": [
      "157 ms ± 2.64 ms per loop (mean ± std. dev. of 7 runs, 10 loops each)\n"
     ]
    }
   ],
   "source": [
    "%timeit result_jax = bi_jax(rs=rs, in_spec=in_spec, nBs_s=n_in, x_s=x_in, sum_result=True, sum_weight=w).block_until_ready()"
   ]
  },
  {
   "cell_type": "code",
   "execution_count": null,
   "metadata": {},
   "outputs": [],
   "source": [
    "result_scipy / result_jax"
   ]
  },
  {
   "cell_type": "code",
   "execution_count": 31,
   "metadata": {},
   "outputs": [
    {
     "data": {
      "text/plain": [
       "jaxlib.xla_extension.ArrayImpl"
      ]
     },
     "execution_count": 31,
     "metadata": {},
     "output_type": "execute_result"
    }
   ],
   "source": [
    "type(result_jax)"
   ]
  },
  {
   "cell_type": "markdown",
   "metadata": {},
   "source": [
    "## A. Interpolators from scratch"
   ]
  },
  {
   "cell_type": "code",
   "execution_count": 2,
   "metadata": {},
   "outputs": [],
   "source": [
    "z = np.random.uniform(0, 1, 1000*500*500).reshape(10, 10, 10, 500, 500)\n",
    "a0 = np.sort(list(np.random.uniform(0, 1, 8)) + [0., 1.])\n",
    "a1 = np.sort(list(np.random.uniform(0, 1, 8)) + [0., 1.])\n",
    "a2 = np.sort(list(np.random.uniform(0, 1, 8)) + [0., 1.])\n",
    "in_spec = np.random.uniform(0, 1, 500)"
   ]
  },
  {
   "cell_type": "code",
   "execution_count": 6,
   "metadata": {},
   "outputs": [],
   "source": [
    "in0 = np.random.uniform(0, 1)\n",
    "in1 = np.random.uniform(0, 1, 64**3)\n",
    "in2 = np.random.uniform(0, 1, 64**3)\n",
    "in12 = np.stack([in1, in2], axis=-1)\n",
    "w = np.random.uniform(0, 1, 64**3)"
   ]
  },
  {
   "cell_type": "markdown",
   "metadata": {},
   "source": [
    "## 1. Scipy"
   ]
  },
  {
   "cell_type": "code",
   "execution_count": 10,
   "metadata": {},
   "outputs": [],
   "source": [
    "from scipy import interpolate"
   ]
  },
  {
   "cell_type": "code",
   "execution_count": 15,
   "metadata": {},
   "outputs": [],
   "source": [
    "def fscipy():\n",
    "    d = np.einsum('i,abcio->abco', in_spec, z) # (0, 1, 2, out)\n",
    "    d2 = interpolate.interp1d(a0, d, axis=0, copy=False)(in0) # (1, 2, out)\n",
    "    interpolator = interpolate.RegularGridInterpolator((a1, a2), d2)\n",
    "    return np.dot(w, interpolator(in12))"
   ]
  },
  {
   "cell_type": "code",
   "execution_count": 18,
   "metadata": {},
   "outputs": [
    {
     "name": "stdout",
     "output_type": "stream",
     "text": [
      "3.95 s ± 2.14 ms per loop (mean ± std. dev. of 7 runs, 1 loop each)\n"
     ]
    }
   ],
   "source": [
    "%timeit s = fscipy()"
   ]
  },
  {
   "cell_type": "code",
   "execution_count": 20,
   "metadata": {},
   "outputs": [],
   "source": [
    "in012 = np.stack([np.full_like(in1, in0), in1, in2], axis=-1)"
   ]
  },
  {
   "cell_type": "code",
   "execution_count": 21,
   "metadata": {},
   "outputs": [],
   "source": [
    "def fscipy2():\n",
    "    d = np.einsum('i,abcio->abco', in_spec, z) # (0, 1, 2, out)\n",
    "    interpolator = interpolate.RegularGridInterpolator((a0, a1, a2), d)\n",
    "    return np.dot(w, interpolator(in012))"
   ]
  },
  {
   "cell_type": "code",
   "execution_count": 22,
   "metadata": {},
   "outputs": [
    {
     "name": "stdout",
     "output_type": "stream",
     "text": [
      "7.72 s ± 4.17 ms per loop (mean ± std. dev. of 7 runs, 1 loop each)\n"
     ]
    }
   ],
   "source": [
    "%timeit s2 = fscipy2()"
   ]
  },
  {
   "cell_type": "code",
   "execution_count": 23,
   "metadata": {},
   "outputs": [
    {
     "data": {
      "text/plain": [
       "True"
      ]
     },
     "execution_count": 23,
     "metadata": {},
     "output_type": "execute_result"
    }
   ],
   "source": [
    "np.all(np.isclose(fscipy(), fscipy2()))"
   ]
  },
  {
   "cell_type": "markdown",
   "metadata": {},
   "source": [
    "## 2 Jax"
   ]
  },
  {
   "cell_type": "code",
   "execution_count": 24,
   "metadata": {},
   "outputs": [],
   "source": [
    "import jax.numpy as jnp\n",
    "from jax import jit, vmap"
   ]
  },
  {
   "cell_type": "code",
   "execution_count": 25,
   "metadata": {},
   "outputs": [],
   "source": [
    "def interp1d(f, x, xv):\n",
    "    \"\"\"Interpolates f(x) at values in xvs. Does not do bound checks.\n",
    "    f : (n>=1 D) array of function value.\n",
    "    x : 1D array of input value, corresponding to first dimension of f.\n",
    "    xv : x values to interpolate.\n",
    "    \"\"\"\n",
    "    li = jnp.searchsorted(x, xv) - 1\n",
    "    lx = x[li]\n",
    "    rx = x[li+1]\n",
    "    p = (xv-lx) / (rx-lx)\n",
    "    fl = f[li]\n",
    "    return fl + (f[li+1]-fl) * p\n",
    "\n",
    "interp1d_vmap = jit(vmap(interp1d, in_axes=(None, None, 0)))\n",
    "\n",
    "\n",
    "def interp2d(f, x0, x1, xv):\n",
    "    \"\"\"Interpolates f(x) at values in xvs. Does not do bound checks.\n",
    "    f : (n>=2 D) array of function value.\n",
    "    x0 : 1D array of input value, corresponding to first dimension of f.\n",
    "    x1 : 1D array of input value, corresponding to second dimension of f.\n",
    "    xv : [x0, x1] values to interpolate.\n",
    "    \"\"\"\n",
    "    xv0, xv1 = xv\n",
    "    \n",
    "    li0 = jnp.searchsorted(x0, xv0, side='right') - 1\n",
    "    lx0 = x0[li0]\n",
    "    rx0 = x0[li0+1]\n",
    "    wl0 = (rx0-xv0) / (rx0-lx0)\n",
    "    wr0 = 1 - wl0\n",
    "    \n",
    "    li1 = jnp.searchsorted(x1, xv1, side='right') - 1\n",
    "    lx1 = x1[li1]\n",
    "    rx1 = x1[li1+1]\n",
    "    wl1 = (rx1-xv1) / (rx1-lx1)\n",
    "    wr1 = 1 - wl1\n",
    "    \n",
    "    return f[li0,li1]*wl0*wl1 + f[li0+1,li1]*wr0*wl1 + f[li0,li1+1]*wl0*wr1 + f[li0+1,li1+1]*wr0*wr1\n",
    "\n",
    "interp2d_vmap = jit(vmap(interp2d, in_axes=(None, None, None, 0)))"
   ]
  },
  {
   "cell_type": "code",
   "execution_count": 26,
   "metadata": {},
   "outputs": [],
   "source": [
    "def fjax():\n",
    "    d = jnp.einsum('i,abcio->abco', in_spec, z) # (0, 1, 2, out)\n",
    "    d2 = interp1d(d, a0, in0) # (1, 2, out)\n",
    "    return jnp.dot(w, interp2d_vmap(d2, a1, a2, in12))"
   ]
  },
  {
   "cell_type": "code",
   "execution_count": null,
   "metadata": {},
   "outputs": [],
   "source": [
    "np.isclose?"
   ]
  },
  {
   "cell_type": "code",
   "execution_count": 32,
   "metadata": {},
   "outputs": [
    {
     "data": {
      "text/plain": [
       "True"
      ]
     },
     "execution_count": 32,
     "metadata": {},
     "output_type": "execute_result"
    }
   ],
   "source": [
    "np.all(np.isclose(fscipy(), fjax(), atol=1e100))"
   ]
  },
  {
   "cell_type": "code",
   "execution_count": 33,
   "metadata": {},
   "outputs": [
    {
     "name": "stdout",
     "output_type": "stream",
     "text": [
      "514 ms ± 9.98 ms per loop (mean ± std. dev. of 7 runs, 1 loop each)\n"
     ]
    }
   ],
   "source": [
    "%timeit s3 = fjax()"
   ]
  },
  {
   "cell_type": "code",
   "execution_count": null,
   "metadata": {},
   "outputs": [],
   "source": []
  }
 ],
 "metadata": {
  "kernelspec": {
   "display_name": "21cmfast",
   "language": "python",
   "name": "python3"
  },
  "language_info": {
   "codemirror_mode": {
    "name": "ipython",
    "version": 3
   },
   "file_extension": ".py",
   "mimetype": "text/x-python",
   "name": "python",
   "nbconvert_exporter": "python",
   "pygments_lexer": "ipython3",
   "version": "3.10.12"
  },
  "orig_nbformat": 4
 },
 "nbformat": 4,
 "nbformat_minor": 2
}
