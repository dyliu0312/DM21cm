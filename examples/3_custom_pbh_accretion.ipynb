{
 "cells": [
  {
   "cell_type": "markdown",
   "id": "b393f4ff",
   "metadata": {},
   "source": [
    "# III. Precomputing your favorite PBH accretion emission model (WIP)"
   ]
  },
  {
   "cell_type": "markdown",
   "id": "5af4f4a9",
   "metadata": {},
   "source": [
    "In 2509.22772, we explored a set of PBH accretion models as variations to base models $\\textbf{PR}$ and $\\textbf{BHL}$, based on Park and Ricotti (2013) and the Bondi-Hoyle-Lyttleton accretion model respectively, with the emission mechanism based on the hot Advection-Dominated Accretion Flow (ADAF) model. We have demonstrated that model variations to both the accretion and the emission model can impact the modification to the $T_{21}$ power spectrum, and hence the projected sensitivity for HERA. Here, we provide the reader with a guide to run `DM21cm` with alternative modeling choices to further explore the modeling variations."
   ]
  },
  {
   "cell_type": "markdown",
   "id": "80f407ba",
   "metadata": {},
   "source": [
    "# 1. Modify existing `PBHAccretionModel` options"
   ]
  },
  {
   "cell_type": "code",
   "execution_count": 1,
   "id": "51494588",
   "metadata": {},
   "outputs": [
    {
     "name": "stderr",
     "output_type": "stream",
     "text": [
      "/n/home07/yitians/.conda/envs/dm21cm/lib/python3.11/site-packages/halomod/halo_model.py:32: UserWarning: Warning: Some Halo-Exclusion models have significant speedup when using Numba\n",
      "  from .halo_exclusion import Exclusion, NoExclusion\n"
     ]
    }
   ],
   "source": [
    "%reload_ext autoreload\n",
    "%autoreload 2\n",
    "\n",
    "from dm21cm.precompute.accretion import PBHAccretionModel"
   ]
  },
  {
   "cell_type": "markdown",
   "id": "89f1a3ce",
   "metadata": {},
   "source": [
    "The options for `PBHAccretionModel` can be viewed in the docstring:"
   ]
  },
  {
   "cell_type": "code",
   "execution_count": 2,
   "id": "51494588",
   "metadata": {},
   "outputs": [
    {
     "name": "stdout",
     "output_type": "stream",
     "text": [
      "\u001b[0;31mInit signature:\u001b[0m\n",
      "\u001b[0mPBHAccretionModel\u001b[0m\u001b[0;34m(\u001b[0m\u001b[0;34m\u001b[0m\n",
      "\u001b[0;34m\u001b[0m    \u001b[0mmodel\u001b[0m\u001b[0;34m,\u001b[0m\u001b[0;34m\u001b[0m\n",
      "\u001b[0;34m\u001b[0m    \u001b[0mc_in\u001b[0m\u001b[0;34m=\u001b[0m\u001b[0;36m23\u001b[0m\u001b[0;34m,\u001b[0m\u001b[0;34m\u001b[0m\n",
      "\u001b[0;34m\u001b[0m    \u001b[0mlambda_fudge\u001b[0m\u001b[0;34m=\u001b[0m\u001b[0;36m1\u001b[0m\u001b[0;34m,\u001b[0m\u001b[0;34m\u001b[0m\n",
      "\u001b[0;34m\u001b[0m    \u001b[0mv_rel_type\u001b[0m\u001b[0;34m=\u001b[0m\u001b[0;34m'DMRest'\u001b[0m\u001b[0;34m,\u001b[0m\u001b[0;34m\u001b[0m\n",
      "\u001b[0;34m\u001b[0m    \u001b[0mdelta_e\u001b[0m\u001b[0;34m=\u001b[0m\u001b[0;36m0.1\u001b[0m\u001b[0;34m,\u001b[0m\u001b[0;34m\u001b[0m\n",
      "\u001b[0;34m\u001b[0m\u001b[0;34m)\u001b[0m\u001b[0;34m\u001b[0m\u001b[0;34m\u001b[0m\u001b[0m\n",
      "\u001b[0;31mDocstring:\u001b[0m      <no docstring>\n",
      "\u001b[0;31mInit docstring:\u001b[0m\n",
      "PBH accretion emission model.\n",
      "\n",
      "Args:\n",
      "    model (str): supports 'PR-ADAF', 'BHL-ADAF', 'PRHALO-ADAF'.\n",
      "    c_in (float): Sound speed inside the I-front [km/s] in PR models. Required for PR models.\n",
      "    lambda_fudge (float): Fudge factor in front of Mdot. Required for BHL models.\n",
      "    v_rel_type {'DMDM', 'DMRest'}: Velocity distribution option.\n",
      "        'DMDM'   - DM-DM relative velocity distribution function.\n",
      "        'DMRest' - DM-rest frame relative velocity distribution function (default).\n",
      "    delta_e (float): ADAF electron heating fraction. Default is 0.1.\n",
      "\u001b[0;31mFile:\u001b[0m           ~/dm21cm/DM21cm/src/dm21cm/precompute/accretion.py\n",
      "\u001b[0;31mType:\u001b[0m           type\n",
      "\u001b[0;31mSubclasses:\u001b[0m     "
     ]
    }
   ],
   "source": [
    "PBHAccretionModel?"
   ]
  },
  {
   "cell_type": "markdown",
   "id": "caebcede",
   "metadata": {},
   "source": [
    "For example, we can combine the effect of a decreased interior sound speed $c_\\text{in}$, and an increased electron heating fraction $\\delta_e$ (i.e. combining $\\textbf{PR}$-$c_\\text{in}^-$ and $\\textbf{PR}$-$\\delta_e^+$, see text in Sec. III of 2509.22772), by doing:"
   ]
  },
  {
   "cell_type": "code",
   "execution_count": 3,
   "id": "7e38c73e",
   "metadata": {},
   "outputs": [],
   "source": [
    "am = PBHAccretionModel(model='PR-ADAF', c_in=14, delta_e=0.5)"
   ]
  },
  {
   "cell_type": "markdown",
   "id": "ee6998af",
   "metadata": {},
   "source": [
    "One can then put this line in the `===== Initialization =====` section of [build_pbhacc_tables.py](../src/dm21cm/precompute/scripts/build_pbhacc_tables.py), and run the script."
   ]
  },
  {
   "cell_type": "markdown",
   "id": "19e2c278",
   "metadata": {},
   "source": [
    "# 2. Defining a fully custom model"
   ]
  }
 ],
 "metadata": {
  "kernelspec": {
   "display_name": "dm21cm",
   "language": "python",
   "name": "python3"
  },
  "language_info": {
   "codemirror_mode": {
    "name": "ipython",
    "version": 3
   },
   "file_extension": ".py",
   "mimetype": "text/x-python",
   "name": "python",
   "nbconvert_exporter": "python",
   "pygments_lexer": "ipython3",
   "version": "3.11.5"
  }
 },
 "nbformat": 4,
 "nbformat_minor": 5
}
