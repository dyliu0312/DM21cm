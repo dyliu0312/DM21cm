{
 "cells": [
  {
   "cell_type": "code",
   "execution_count": 1,
   "id": "c7e41a8b-f299-439b-b129-ee96ad6aabd8",
   "metadata": {},
   "outputs": [],
   "source": [
    "%reload_ext autoreload\n",
    "%autoreload 2\n",
    "\n",
    "import os, sys\n",
    "sys.path.append('..')\n",
    "\n",
    "import numpy as np\n",
    "from astropy.io import fits\n",
    "import pickle\n",
    "\n",
    "%matplotlib inline\n",
    "import matplotlib as mpl\n",
    "import matplotlib.pyplot as plt\n",
    "mpl.rc_file('../matplotlibrc')"
   ]
  },
  {
   "cell_type": "code",
   "execution_count": 2,
   "id": "563858d2-60c2-4093-8e16-fa916ebcdf9b",
   "metadata": {},
   "outputs": [],
   "source": [
    "def plot_val(x):\n",
    "    return np.flipud(np.log(np.clip(np.abs(x), 1e-100, None)))"
   ]
  },
  {
   "cell_type": "markdown",
   "id": "02be1ae2-5e38-4851-b1c2-6b7764f0ee4c",
   "metadata": {},
   "source": [
    "## compare idl output"
   ]
  },
  {
   "cell_type": "code",
   "execution_count": 114,
   "id": "89e849a2-de9d-4a60-8cc2-03a3df0cb356",
   "metadata": {},
   "outputs": [
    {
     "data": {
      "text/plain": [
       "3.476364899916862e-16"
      ]
     },
     "execution_count": 114,
     "metadata": {},
     "output_type": "execute_result"
    }
   ],
   "source": [
    "name = 'hep_tf'\n",
    "tf = np.load(f'../data/tfdata/array/nBs_test_2/{name}.npy')\n",
    "tf_slice_old = np.clip(tf[i_nBs, i_x, i_rs], 1e-100, None)\n",
    "tf_new = np.load(f'../data/tfdata/test/{name}.npy')\n",
    "tf_slice_new = np.clip(tf_new[0,0,0], 1e-100, None)\n",
    "np.max(np.abs(tf_slice_new-tf_slice_old)/tf_slice_old)"
   ]
  },
  {
   "cell_type": "code",
   "execution_count": 115,
   "id": "0c756c8e-765b-401f-89e1-62991fcdf13b",
   "metadata": {},
   "outputs": [
    {
     "data": {
      "text/plain": [
       "4.440892098500626e-16"
      ]
     },
     "execution_count": 115,
     "metadata": {},
     "output_type": "execute_result"
    }
   ],
   "source": [
    "name = 'lep_tf'\n",
    "tf = np.load(f'../data/tfdata/array/nBs_test_2/{name}.npy')\n",
    "tf_slice_old = np.clip(tf[i_nBs, i_x, i_rs], 1e-100, None)\n",
    "for i in range(500):\n",
    "    if tf_slice_old[i][i] > 1e-40:\n",
    "        break\n",
    "    tf_slice_old[i][i] = 1\n",
    "    \n",
    "tf_new = np.load(f'../data/tfdata/test/{name}.npy')\n",
    "tf_slice_new = np.clip(tf_new[0,0,0], 1e-100, None)\n",
    "for i in range(500):\n",
    "    if tf_slice_new[i][i] > 1e-40:\n",
    "        break\n",
    "    tf_slice_new[i][i] = 1\n",
    "np.max(np.abs(tf_slice_new-tf_slice_old)/tf_slice_old)"
   ]
  },
  {
   "cell_type": "code",
   "execution_count": 134,
   "id": "80bf3702-64b2-4621-9046-f46d9cb43783",
   "metadata": {},
   "outputs": [
    {
     "data": {
      "text/plain": [
       "2.756036242423921e-16"
      ]
     },
     "execution_count": 134,
     "metadata": {},
     "output_type": "execute_result"
    }
   ],
   "source": [
    "name = 'lee_tf'\n",
    "tf = np.load(f'../data/tfdata/array/nBs_test_2/{name}.npy')\n",
    "tf_slice_old = np.clip(tf[i_nBs, i_x, i_rs], 1e-100, None)\n",
    "tf_new = np.load(f'../data/tfdata/test/{name}.npy')\n",
    "tf_slice_new = np.clip(tf_new[0,0,0], 1e-100, None)\n",
    "np.max(np.abs(tf_slice_new-tf_slice_old)/tf_slice_old)"
   ]
  },
  {
   "cell_type": "code",
   "execution_count": 133,
   "id": "ca07df11-535a-4941-9ef9-de3d9eb7e9bf",
   "metadata": {},
   "outputs": [
    {
     "data": {
      "text/plain": [
       "2.756036242423921e-16"
      ]
     },
     "execution_count": 133,
     "metadata": {},
     "output_type": "execute_result"
    }
   ],
   "source": [
    "name = 'lee_tf'\n",
    "tf = np.load(f'../data/tfdata/array/nBs_test_2/{name}.npy')\n",
    "tf_slice_old = np.clip(tf[i_nBs, i_x, i_rs], 1e-100, None)\n",
    "tf_new = np.load(f'../data/tfdata/test/{name}.npy')\n",
    "tf_slice_new = np.clip(tf_new[0,0,0], 1e-100, None)\n",
    "np.max(np.abs(tf_slice_new-tf_slice_old)/tf_slice_old)"
   ]
  },
  {
   "cell_type": "code",
   "execution_count": 111,
   "id": "6d7db58f-2127-44a5-b1aa-523d3472f1cc",
   "metadata": {},
   "outputs": [
    {
     "data": {
      "text/plain": [
       "0.0"
      ]
     },
     "execution_count": 111,
     "metadata": {},
     "output_type": "execute_result"
    }
   ],
   "source": [
    "name = 'hed_tf'\n",
    "tf = np.load(f'../data/tfdata/array/nBs_test_2/{name}.npy')\n",
    "tf_slice_old = np.clip(tf[i_nBs, i_x, i_rs], 1e-100, None)\n",
    "tf_new = np.load(f'../data/tfdata/test/{name}.npy')\n",
    "tf_slice_new = np.clip(tf_new[0,0,0], 1e-100, None)\n",
    "np.max(np.abs(tf_slice_new-tf_slice_old)/tf_slice_old)"
   ]
  },
  {
   "cell_type": "code",
   "execution_count": 112,
   "id": "fd5f8302-adc2-4268-9689-a52ea6118364",
   "metadata": {},
   "outputs": [
    {
     "data": {
      "text/plain": [
       "0.0"
      ]
     },
     "execution_count": 112,
     "metadata": {},
     "output_type": "execute_result"
    }
   ],
   "source": [
    "name = 'cmbloss'\n",
    "tf = np.load(f'../data/tfdata/array/nBs_test_2/{name}.npy')\n",
    "tf_slice_old = np.clip(tf[i_nBs, i_x, i_rs], 1e-100, None)\n",
    "tf_new = np.load(f'../data/tfdata/test/{name}.npy')\n",
    "tf_slice_new = np.clip(tf_new[0,0,0], 1e-100, None)\n",
    "np.max(np.abs(tf_slice_new-tf_slice_old)/tf_slice_old)"
   ]
  },
  {
   "cell_type": "code",
   "execution_count": 113,
   "id": "da5de035-d8ee-425a-b265-5048fc1c8a8e",
   "metadata": {},
   "outputs": [
    {
     "data": {
      "text/plain": [
       "0.0"
      ]
     },
     "execution_count": 113,
     "metadata": {},
     "output_type": "execute_result"
    }
   ],
   "source": [
    "name = 'lowerbound'\n",
    "tf = np.load(f'../data/tfdata/array/nBs_test_2/{name}.npy')\n",
    "tf_slice_old = np.clip(tf[i_nBs, i_x, i_rs], 1e-100, None)\n",
    "tf_new = np.load(f'../data/tfdata/test/{name}.npy')\n",
    "tf_slice_new = np.clip(tf_new[0,0,0], 1e-100, None)\n",
    "np.max(np.abs(tf_slice_new-tf_slice_old)/tf_slice_old)"
   ]
  }
 ],
 "metadata": {
  "kernelspec": {
   "display_name": "Python 3",
   "language": "python",
   "name": "python3"
  },
  "language_info": {
   "codemirror_mode": {
    "name": "ipython",
    "version": 3
   },
   "file_extension": ".py",
   "mimetype": "text/x-python",
   "name": "python",
   "nbconvert_exporter": "python",
   "pygments_lexer": "ipython3",
   "version": "3.8.8"
  }
 },
 "nbformat": 4,
 "nbformat_minor": 5
}
