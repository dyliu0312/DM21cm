{
 "cells": [
  {
   "cell_type": "code",
   "execution_count": 3,
   "id": "3e0c6c5b-0240-49e5-96e2-a3d30b51b870",
   "metadata": {
    "tags": []
   },
   "outputs": [],
   "source": [
    "%reload_ext autoreload\n",
    "%autoreload 2\n",
    "\n",
    "import os\n",
    "import sys\n",
    "import time\n",
    "from tqdm import tqdm\n",
    "\n",
    "import numpy as np\n",
    "\n",
    "from low_energy.lowE_electrons import make_interpolator\n",
    "from low_energy.lowE_deposition import compute_fs\n",
    "from utils import load_dict\n",
    "\n",
    "sys.path.append(os.environ['DH_DIR'])\n",
    "from darkhistory.config import load_data\n",
    "from darkhistory.main import get_elec_cooling_data\n",
    "from   darkhistory.spec.spectrum import Spectrum\n",
    "import darkhistory.physics as phys\n",
    "import darkhistory.spec.spectools as spectools\n",
    "from   darkhistory.electrons import positronium as pos\n",
    "from   darkhistory.electrons.elec_cooling import get_elec_cooling_tf"
   ]
  },
  {
   "cell_type": "markdown",
   "id": "01c097ef-93eb-4ad4-8c24-2746419eb747",
   "metadata": {},
   "source": [
    "## Config"
   ]
  },
  {
   "cell_type": "code",
   "execution_count": 4,
   "id": "599711d5-64fa-440b-a41f-9df7b203a073",
   "metadata": {
    "tags": []
   },
   "outputs": [],
   "source": [
    "run_name = '230629'\n",
    "tf_type = 'phot' # {'phot', 'elec'}\n",
    "include_f_xray = True\n",
    "xray_eng_range = (1e2, 1e4) # [eV]\n",
    "use_tqdm = True\n",
    "verbose = 0 # {0, 1}\n",
    "stop_after_n = np.inf\n",
    "\n",
    "abscs = load_dict(f\"../data/abscissas/abscs_{run_name}.h5\")\n",
    "inj_abscs = abscs['photE'] if tf_type == 'phot' else abscs['elecEk'] + phys.me\n",
    "MEDEA_dir = '../data/MEDEA'\n",
    "data_dir = f'../data/tf/{run_name}/{tf_type}'\n",
    "save_dir = f'../data/tf/{run_name}/{tf_type}'\n",
    "os.makedirs(save_dir, exist_ok=True)"
   ]
  },
  {
   "cell_type": "code",
   "execution_count": 5,
   "id": "0ff128b7-7733-4f6e-b57b-fc543a17315b",
   "metadata": {
    "tags": []
   },
   "outputs": [
    {
     "data": {
      "text/plain": [
       "array([b'H ion', b'He ion', b'exc', b'heat', b'cont', b'xray'],\n",
       "      dtype=object)"
      ]
     },
     "execution_count": 5,
     "metadata": {},
     "output_type": "execute_result"
    }
   ],
   "source": [
    "abscs['dep_c']"
   ]
  },
  {
   "cell_type": "markdown",
   "id": "b4952aa2-c9fc-45b6-9a6e-5b6b380ae2af",
   "metadata": {},
   "source": [
    "## Load"
   ]
  },
  {
   "cell_type": "code",
   "execution_count": 6,
   "id": "57be1568-bdca-44ce-b941-769f1f9251d6",
   "metadata": {
    "tags": []
   },
   "outputs": [
    {
     "data": {
      "text/plain": [
       "[]"
      ]
     },
     "execution_count": 6,
     "metadata": {},
     "output_type": "execute_result"
    }
   ],
   "source": [
    "os.listdir(data_dir)"
   ]
  },
  {
   "cell_type": "code",
   "execution_count": 5,
   "id": "189b33f1-9fec-40a6-b2e6-24388a442ab8",
   "metadata": {},
   "outputs": [
    {
     "name": "stdout",
     "output_type": "stream",
     "text": [
      "Loading tf:  hep lep lee hed cmb."
     ]
    }
   ],
   "source": [
    "print('Loading tf: ', end=' ', flush=True)\n",
    "hep_tfgv = np.load(f'{data_dir}/hep_tf_rxneo.npy')\n",
    "print('hep', end=' ', flush=True)\n",
    "lep_tfgv = np.load(f'{data_dir}/lep_tf_rxneo.npy')\n",
    "print('lep', end=' ', flush=True)\n",
    "lee_tfgv = np.load(f'{data_dir}/lee_tf_rxneo.npy')\n",
    "print('lee', end=' ', flush=True)\n",
    "hed_tfgv = np.load(f'{data_dir}/hed_tf_rxneo.npy')\n",
    "print('hed', end=' ', flush=True)\n",
    "cmbloss_gv = np.load(f'{data_dir}/cmbloss_rxneo.npy')\n",
    "print('cmb', end='.', flush=True)"
   ]
  },
  {
   "cell_type": "markdown",
   "id": "096710e2-5dea-4390-9a30-ef575fc868fe",
   "metadata": {},
   "source": [
    "## Loop over `rs` `x` `nBs`"
   ]
  },
  {
   "cell_type": "code",
   "execution_count": 6,
   "id": "3d10ceca-63b7-439d-8c2e-9c8d29a8ff3e",
   "metadata": {
    "tags": []
   },
   "outputs": [
    {
     "name": "stderr",
     "output_type": "stream",
     "text": [
      "100%|██████████| 1000/1000 [19:27<00:00,  1.17s/it]"
     ]
    }
   ],
   "source": [
    "tfgv = np.zeros_like(hep_tfgv) # in: elec/phot, out: phot\n",
    "depgv = np.zeros(\n",
    "    hed_tfgv.shape[:-1] + (len(abscs['dep_c']),)\n",
    ") # channels: {H ionization, He ionization, excitation, heat, continuum, xray}\n",
    "\n",
    "dlnz = abscs['dlnz']\n",
    "MEDEA_interp = make_interpolator(prefix=MEDEA_dir)\n",
    "\n",
    "n_run = -1\n",
    "\n",
    "if use_tqdm:\n",
    "    pbar = tqdm( total = len(abscs['rs'])*len(abscs['x'])*len(abscs['nBs']) )\n",
    "\n",
    "for i_rs, rs in enumerate(abscs['rs']):\n",
    "    \n",
    "    dt = dlnz / phys.hubble(rs)\n",
    "            \n",
    "    #==============================\n",
    "    # Add cmbloss to highengphot\n",
    "    cmb_un = spectools.discretize(abscs['photE'], phys.CMB_spec, phys.TCMB(rs))\n",
    "    cmb_un_E = cmb_un.toteng()\n",
    "    \n",
    "    for i_x, x in enumerate(abscs['x']):\n",
    "        for i_nBs, nBs in enumerate(abscs['nBs']):\n",
    "            \n",
    "            for i in range(len(inj_abscs)):\n",
    "                cmb_E = cmbloss_gv[i_rs, i_x, i_nBs][i] * dt\n",
    "                hep_tfgv[i_rs, i_x, i_nBs][i] += (-cmb_E/cmb_un_E) * cmb_un.N\n",
    "\n",
    "            #==============================\n",
    "            # Add lowengphot diagonal\n",
    "            if nBs == 0: # lowengphot is 0 when nBs is 0\n",
    "                raise NotImplementedError\n",
    "            if tf_type == 'phot':\n",
    "                for i in range(len(inj_abscs)):\n",
    "                    if lep_tfgv[i_rs, i_x, i_nBs][i][i] > 1e-40:\n",
    "                        break\n",
    "                    lep_tfgv[i_rs, i_x, i_nBs][i][i] = 1\n",
    "            \n",
    "            for i_injE, injE in enumerate(inj_abscs):\n",
    "                \n",
    "                assert n_run <= stop_after_n\n",
    "                n_run += 1\n",
    "\n",
    "                #==============================\n",
    "                # Injection\n",
    "                # inject one photon at i_injE\n",
    "                timer = time.time()\n",
    "                \n",
    "                hep_spec_N = hep_tfgv[i_rs, i_x, i_nBs, i_injE]\n",
    "                lep_spec_N = lep_tfgv[i_rs, i_x, i_nBs, i_injE]\n",
    "                lee_spec_N = lee_tfgv[i_rs, i_x, i_nBs, i_injE]\n",
    "                hed_arr    = hed_tfgv[i_rs, i_x, i_nBs, i_injE]\n",
    "\n",
    "                lowengelec_spec_at_rs = Spectrum(abscs['elecEk'], lee_spec_N, spec_type='N')\n",
    "                lowengelec_spec_at_rs.rs = rs\n",
    "\n",
    "                lowengphot_spec_at_rs = Spectrum(abscs['photE'], lep_spec_N, spec_type='N')\n",
    "                lowengphot_spec_at_rs.rs = rs\n",
    "\n",
    "                highengdep_at_rs = hed_arr\n",
    "\n",
    "                #==============================\n",
    "                # Compute f's\n",
    "                x_vec_for_f = np.array( [1-x, phys.chi*(1-x), phys.chi*x] ) # [HI, HeI, HeII]/nH\n",
    "                nBs_ref = 1\n",
    "                dE_dVdt_inj = injE * phys.nB * nBs_ref * rs**3 / dt # [eV/cm^3 s]\n",
    "                # in DH.main: (dN_inj/dB) / (dE_inj  /dVdt)\n",
    "                # here:       (dN_inj   ) / (dE_injdB/dVdt)\n",
    "                f_low, f_high = compute_fs(\n",
    "                    MEDEA_interp=MEDEA_interp,\n",
    "                    rs=rs,\n",
    "                    x=x_vec_for_f,\n",
    "                    elec_spec=lowengelec_spec_at_rs,\n",
    "                    phot_spec=lowengphot_spec_at_rs,\n",
    "                    dE_dVdt_inj=dE_dVdt_inj,\n",
    "                    dt=dt,\n",
    "                    highengdep=highengdep_at_rs,\n",
    "                    cmbloss=0, # turned off in darkhistory main as well\n",
    "                    method='no_He',\n",
    "                    cross_check=False,\n",
    "                    ion_old=False\n",
    "                )\n",
    "                f_raw = f_low + f_high\n",
    "\n",
    "                #==============================\n",
    "                # Compute tf & f values\n",
    "                lep_prop_spec_N = lep_spec_N * (abscs['photE'] < 10.2)\n",
    "                f_lep_prop = np.dot(abscs['photE'], lep_prop_spec_N) / injE\n",
    "                phot_spec_N = hep_spec_N + lep_prop_spec_N\n",
    "                f_prop = np.dot(abscs['photE'], phot_spec_N) / injE\n",
    "\n",
    "                f_dep = f_raw\n",
    "                f_dep[4] -= f_lep_prop # adjust for the propagating lowengphot\n",
    "                f_tot = f_prop + np.sum(f_dep)\n",
    "\n",
    "                #==============================\n",
    "                # Fix energy conservation (known issues)\n",
    "                if tf_type == 'phot':\n",
    "                    if i_injE == 153: # issue at around 13.6 eV. Adjusting H_ion.\n",
    "                        f_dep[0] += 1 - f_tot\n",
    "                    if i_injE in range(224, 228): # ??? issue. Adjusting hep propagating bin.\n",
    "                        phot_spec_N[i_injE] += 1 - f_tot\n",
    "\n",
    "                f_prop = np.dot(abscs['photE'], phot_spec_N) / injE\n",
    "                f_tot = f_prop + np.sum(f_dep)\n",
    "\n",
    "                #==============================\n",
    "                # Energy conservation\n",
    "                f_dep_str = ' '.join([f'{v:.3e}' for v in f_dep])\n",
    "                print_str = f'{n_run} | {i_rs} {i_x} {i_nBs} {i_injE} | f_prop={f_prop:.6f} f_dep={f_dep_str} f_tot={f_tot:.6f}'\n",
    "                if np.abs(f_tot - 1.) > 1e-2:\n",
    "                    print_str += ' | Energy error > 1%'\n",
    "                if verbose >= 1 or np.abs(f_tot - 1.) > 1e-2:\n",
    "                    print(print_str, flush=True)\n",
    "                \n",
    "                phot_spec_N[i_injE] += 1 - f_tot # gives all extra energy to propagating photons\n",
    "                \n",
    "                #==============================\n",
    "                # Dependent variables (Xray)\n",
    "                if include_f_xray:\n",
    "                    i_xray_fm = np.searchsorted(abscs['photE'], xray_eng_range[0])\n",
    "                    i_xray_to = np.searchsorted(abscs['photE'], xray_eng_range[1])\n",
    "                    f_xray = np.dot(abscs['photE'][i_xray_fm:i_xray_to], phot_spec_N[i_xray_fm:i_xray_to]) / injE\n",
    "                    if i_xray_fm <= i_injE and i_injE < i_xray_to:\n",
    "                        f_xray -= phot_spec_N[i_injE] # ignore diagonal for now # NEED TO EXTRACT PROP\n",
    "                    f_dep = np.append(f_dep, f_xray)\n",
    "\n",
    "                #==============================\n",
    "                # Populate transfer functions\n",
    "                tfgv[i_rs, i_x, i_nBs, i_injE] = phot_spec_N\n",
    "                depgv[i_rs, i_x, i_nBs, i_injE] = f_dep\n",
    "            \n",
    "            if use_tqdm:\n",
    "                pbar.update()"
   ]
  },
  {
   "cell_type": "markdown",
   "id": "856dd96c-aa72-4529-8b55-c1dfa1870c50",
   "metadata": {},
   "source": [
    "## Save"
   ]
  },
  {
   "cell_type": "code",
   "execution_count": 7,
   "id": "17bd7daa-e9bb-4afb-a6a0-6725fb1f0e5d",
   "metadata": {},
   "outputs": [],
   "source": [
    "np.save(f'{save_dir}/{tf_type}_tfgv.npy', tfgv)\n",
    "np.save(f'{save_dir}/{tf_type}_depgv.npy', depgv)"
   ]
  },
  {
   "cell_type": "code",
   "execution_count": null,
   "id": "fed3ddf4-4eee-4683-b477-c3a3907b2f22",
   "metadata": {},
   "outputs": [],
   "source": []
  }
 ],
 "metadata": {
  "kernelspec": {
   "display_name": "Python 3 (ipykernel)",
   "language": "python",
   "name": "python3"
  },
  "language_info": {
   "codemirror_mode": {
    "name": "ipython",
    "version": 3
   },
   "file_extension": ".py",
   "mimetype": "text/x-python",
   "name": "python",
   "nbconvert_exporter": "python",
   "pygments_lexer": "ipython3",
   "version": "3.10.12"
  }
 },
 "nbformat": 4,
 "nbformat_minor": 5
}
