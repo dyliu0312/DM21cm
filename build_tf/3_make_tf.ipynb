{
 "cells": [
  {
   "cell_type": "code",
   "execution_count": 1,
   "id": "3e0c6c5b-0240-49e5-96e2-a3d30b51b870",
   "metadata": {},
   "outputs": [],
   "source": [
    "%reload_ext autoreload\n",
    "%autoreload 2\n",
    "\n",
    "import os\n",
    "import sys\n",
    "import time\n",
    "from tqdm import tqdm\n",
    "\n",
    "import numpy as np\n",
    "\n",
    "from low_energy.lowE_electrons import make_interpolator\n",
    "from low_energy.lowE_deposition import compute_fs\n",
    "from utils import load_dict\n",
    "\n",
    "sys.path.append(os.environ['DH_DIR'])\n",
    "from darkhistory.config import load_data\n",
    "from darkhistory.main import get_elec_cooling_data\n",
    "from   darkhistory.spec.spectrum import Spectrum\n",
    "import darkhistory.physics as phys\n",
    "import darkhistory.spec.spectools as spectools\n",
    "from   darkhistory.electrons import positronium as pos\n",
    "from   darkhistory.electrons.elec_cooling import get_elec_cooling_tf"
   ]
  },
  {
   "cell_type": "markdown",
   "id": "01c097ef-93eb-4ad4-8c24-2746419eb747",
   "metadata": {},
   "source": [
    "## Config"
   ]
  },
  {
   "cell_type": "code",
   "execution_count": 2,
   "id": "599711d5-64fa-440b-a41f-9df7b203a073",
   "metadata": {},
   "outputs": [],
   "source": [
    "run_name = '230629'\n",
    "tf_type = 'phot' # {'phot', 'elec'}\n",
    "include_f_xray = True\n",
    "xray_eng_range = (1e2, 1e4) # [eV]\n",
    "use_tqdm = True\n",
    "verbose = 0 # {0, 1}\n",
    "stop_after_n = np.inf\n",
    "\n",
    "abscs = load_dict(f\"../data/abscissas/abscs_{run_name}.h5\")\n",
    "inj_abscs = abscs['photE'] if tf_type == 'phot' else abscs['elecEk'] + phys.me\n",
    "MEDEA_dir = '../data/MEDEA'\n",
    "data_dir = f'../data/tf/{run_name}/{tf_type}'\n",
    "save_dir = f'../data/tf/{run_name}/{tf_type}'\n",
    "os.makedirs(save_dir, exist_ok=True)"
   ]
  },
  {
   "cell_type": "code",
   "execution_count": 3,
   "id": "0ff128b7-7733-4f6e-b57b-fc543a17315b",
   "metadata": {},
   "outputs": [
    {
     "data": {
      "text/plain": [
       "array(['H ion', 'He ion', 'exc', 'heat', 'cont', 'xray'], dtype=object)"
      ]
     },
     "execution_count": 3,
     "metadata": {},
     "output_type": "execute_result"
    }
   ],
   "source": [
    "abscs['dep_c']"
   ]
  },
  {
   "cell_type": "markdown",
   "id": "b4952aa2-c9fc-45b6-9a6e-5b6b380ae2af",
   "metadata": {},
   "source": [
    "## Load"
   ]
  },
  {
   "cell_type": "code",
   "execution_count": 4,
   "id": "57be1568-bdca-44ce-b941-769f1f9251d6",
   "metadata": {},
   "outputs": [
    {
     "data": {
      "text/plain": [
       "['lep_tf_rxneo.npy',\n",
       " 'highengdep_interp.raw',\n",
       " 'lowengelec_tf_interp.raw',\n",
       " 'phot_dep.h5',\n",
       " 'lowerbound_rxneo.npy',\n",
       " 'phot_depgv.npy',\n",
       " 'highengphot_tf_interp.raw',\n",
       " 'hed_tf_rxneo.npy',\n",
       " 'lowengphot_tf_interp.raw',\n",
       " 'cmbloss_rxneo.npy',\n",
       " 'phot_tfgv.npy',\n",
       " 'phot_phot.h5',\n",
       " 'CMB_engloss_interp.raw',\n",
       " 'phot_scat.h5',\n",
       " 'hep_tf_rxneo.npy',\n",
       " 'phot_prop.h5',\n",
       " '.ipynb_checkpoints',\n",
       " 'ionhist_output',\n",
       " 'phot_prop_diag.h5',\n",
       " 'lee_tf_rxneo.npy']"
      ]
     },
     "execution_count": 4,
     "metadata": {},
     "output_type": "execute_result"
    }
   ],
   "source": [
    "os.listdir(data_dir)"
   ]
  },
  {
   "cell_type": "code",
   "execution_count": 7,
   "id": "189b33f1-9fec-40a6-b2e6-24388a442ab8",
   "metadata": {},
   "outputs": [
    {
     "name": "stdout",
     "output_type": "stream",
     "text": [
      "Loading tf:  hep lep lee hed cmb."
     ]
    }
   ],
   "source": [
    "print('Loading tf: ', end=' ', flush=True)\n",
    "hep_tfgv = np.load(f'{data_dir}/hep_tf_rxneo.npy')\n",
    "print('hep', end=' ', flush=True)\n",
    "lep_tfgv = np.load(f'{data_dir}/lep_tf_rxneo.npy')\n",
    "print('lep', end=' ', flush=True)\n",
    "lee_tfgv = np.load(f'{data_dir}/lee_tf_rxneo.npy')\n",
    "print('lee', end=' ', flush=True)\n",
    "hed_tfgv = np.load(f'{data_dir}/hed_tf_rxneo.npy')\n",
    "print('hed', end=' ', flush=True)\n",
    "cmbloss_gv = np.load(f'{data_dir}/cmbloss_rxneo.npy')\n",
    "print('cmb', end='.', flush=True)"
   ]
  },
  {
   "cell_type": "markdown",
   "id": "3283c632-3e35-454c-8463-39dbbb87fe1f",
   "metadata": {},
   "source": [
    "## Debug"
   ]
  },
  {
   "cell_type": "code",
   "execution_count": 53,
   "id": "7bee9ca3-4d7d-4893-b6f4-d6070a2e86b5",
   "metadata": {},
   "outputs": [],
   "source": [
    "tfgv = np.zeros_like(hep_tfgv) # in: elec/phot, out: phot\n",
    "depgv = np.zeros(\n",
    "    hed_tfgv.shape[:-1] + (len(abscs['dep_c']),)\n",
    ") # channels: {H ionization, He ionization, excitation, heat, continuum, xray}"
   ]
  },
  {
   "cell_type": "code",
   "execution_count": 54,
   "id": "be0ea395-5d9d-4b13-8111-b55621967c39",
   "metadata": {},
   "outputs": [
    {
     "name": "stdout",
     "output_type": "stream",
     "text": [
      "0.009950330853168092\n"
     ]
    }
   ],
   "source": [
    "dlnz = abscs['dlnz']\n",
    "print(dlnz)"
   ]
  },
  {
   "cell_type": "code",
   "execution_count": 55,
   "id": "3bf3d563-aa5b-44cd-a540-cedef78779b0",
   "metadata": {},
   "outputs": [],
   "source": [
    "MEDEA_interp = make_interpolator(prefix=MEDEA_dir)"
   ]
  },
  {
   "cell_type": "code",
   "execution_count": 56,
   "id": "41c4e1fb-8086-44ca-94da-5d8486463fe1",
   "metadata": {},
   "outputs": [],
   "source": [
    "n_run = -1"
   ]
  },
  {
   "cell_type": "code",
   "execution_count": 57,
   "id": "c154be4c-8811-483b-b90b-d857d98a800c",
   "metadata": {},
   "outputs": [
    {
     "name": "stdout",
     "output_type": "stream",
     "text": [
      "38.71318413405634\n"
     ]
    }
   ],
   "source": [
    "i_rs = 8\n",
    "rs = abscs['rs'][i_rs]\n",
    "print(rs)"
   ]
  },
  {
   "cell_type": "code",
   "execution_count": 58,
   "id": "6944a767-b1bd-43f4-a0e0-86b9eba79231",
   "metadata": {},
   "outputs": [],
   "source": [
    "dt = dlnz / phys.hubble(rs)\n",
    "cmb_un = spectools.discretize(abscs['photE'], phys.CMB_spec, phys.TCMB(rs))\n",
    "cmb_un_E = cmb_un.toteng()"
   ]
  },
  {
   "cell_type": "code",
   "execution_count": 59,
   "id": "03bc508e-453d-4aa9-a979-d077634b40d7",
   "metadata": {},
   "outputs": [
    {
     "name": "stdout",
     "output_type": "stream",
     "text": [
      "0.01\n"
     ]
    }
   ],
   "source": [
    "i_x = 3\n",
    "x = abscs['x'][i_x]\n",
    "print(x)"
   ]
  },
  {
   "cell_type": "code",
   "execution_count": 9,
   "id": "f867f8ee-f6d2-4363-b9d4-37ac08cdae3e",
   "metadata": {},
   "outputs": [
    {
     "data": {
      "text/plain": [
       "(0.0967741935483871, 0.9032258064516129)"
      ]
     },
     "execution_count": 9,
     "metadata": {},
     "output_type": "execute_result"
    }
   ],
   "source": [
    "nBs = 1\n",
    "nBs_f_left = (abscs['nBs'][6] - 1) / (abscs['nBs'][6] - abscs['nBs'][5])\n",
    "nBs_f_right = (1 - abscs['nBs'][5]) / (abscs['nBs'][6] - abscs['nBs'][5])\n",
    "nBs_f_left, nBs_f_right"
   ]
  },
  {
   "cell_type": "code",
   "execution_count": 61,
   "id": "aac7c77e-9a6c-4258-beea-2d6975d9458b",
   "metadata": {},
   "outputs": [],
   "source": [
    "i = 300"
   ]
  },
  {
   "cell_type": "code",
   "execution_count": 62,
   "id": "641e69b1-2dec-44fb-8e2c-48f3f84f29fc",
   "metadata": {},
   "outputs": [],
   "source": [
    "cmbloss_gv_interp = cmbloss_gv[i_rs, i_x, 5][i]*nBs_f_left + cmbloss_gv[i_rs, i_x, 6][i]*nBs_f_right"
   ]
  },
  {
   "cell_type": "code",
   "execution_count": 63,
   "id": "77b5f000-70dd-45c5-bf53-57b4d6d577a2",
   "metadata": {},
   "outputs": [],
   "source": [
    "cmb_E = cmbloss_gv_interp * dt"
   ]
  },
  {
   "cell_type": "code",
   "execution_count": 64,
   "id": "94b583f3-dd0e-4ea3-b613-10a2b1e8873d",
   "metadata": {},
   "outputs": [],
   "source": [
    "hep_tfgv_interp = (-cmb_E/cmb_un_E) * cmb_un.N + hep_tfgv[i_rs, i_x, 5][i]*nBs_f_left + hep_tfgv[i_rs, i_x, 6][i]*nBs_f_right"
   ]
  },
  {
   "cell_type": "code",
   "execution_count": 65,
   "id": "31705dd6-3ff8-479a-b3b4-f3a4fe5ed78d",
   "metadata": {
    "tags": []
   },
   "outputs": [],
   "source": [
    "for i in range(len(inj_abscs)):\n",
    "    if lep_tfgv[i_rs, i_x, 5][i][i] > 1e-40:\n",
    "        break\n",
    "    lep_tfgv[i_rs, i_x, 5][i][i] = 1"
   ]
  },
  {
   "cell_type": "code",
   "execution_count": 66,
   "id": "d9cbecb9-21eb-4fa5-92c3-8e89ae9b5c9c",
   "metadata": {},
   "outputs": [],
   "source": [
    "for i in range(len(inj_abscs)):\n",
    "    if lep_tfgv[i_rs, i_x, 6][i][i] > 1e-40:\n",
    "        break\n",
    "    lep_tfgv[i_rs, i_x, 6][i][i] = 1"
   ]
  },
  {
   "cell_type": "code",
   "execution_count": 67,
   "id": "7df1698f-363b-467d-ab4e-52e112af4f72",
   "metadata": {},
   "outputs": [],
   "source": [
    "lep_tfgv_interp = lep_tfgv[i_rs, i_x, 5][300]*nBs_f_left + lep_tfgv[i_rs, i_x, 6][300]*nBs_f_right"
   ]
  },
  {
   "cell_type": "code",
   "execution_count": 68,
   "id": "d39c2500-eacf-447a-9ffb-04af41fda6e6",
   "metadata": {},
   "outputs": [],
   "source": [
    "i_injE = 300\n",
    "hep_spec_N = hep_tfgv_interp\n",
    "lep_spec_N = lep_tfgv_interp\n",
    "lee_spec_N = lee_tfgv[i_rs, i_x, 5, i_injE]*nBs_f_left + lee_tfgv[i_rs, i_x, 6, i_injE]*nBs_f_right\n",
    "hed_arr    = hed_tfgv[i_rs, i_x, 5, i_injE]*nBs_f_left + hed_tfgv[i_rs, i_x, 6, i_injE]*nBs_f_right"
   ]
  },
  {
   "cell_type": "code",
   "execution_count": null,
   "id": "54d532be-0955-43ff-b43d-ceb9972ada67",
   "metadata": {},
   "outputs": [],
   "source": [
    "# darkhistory\n",
    "highengphot_spec_at_rs.toteng() 97.94601294262714\n",
    "lowengphot_spec_at_rs.toteng() 0.0\n",
    "lowengelec_spec_at_rs.toteng() 0.009064424094655703\n",
    "highengdep_at_rs [ 1.20416521e-16  9.49196961e-17  3.18061073e-17 -6.01312711e-19]"
   ]
  },
  {
   "cell_type": "code",
   "execution_count": 73,
   "id": "92332c28-80b5-4445-9f5b-cbf9e5568a28",
   "metadata": {},
   "outputs": [
    {
     "name": "stdout",
     "output_type": "stream",
     "text": [
      "[9.90000000e-01 8.03145695e-02 8.11258278e-04]\n"
     ]
    }
   ],
   "source": [
    "x_vec_for_f = np.array( [1-x, phys.chi*(1-x), phys.chi*x] )\n",
    "print(x_vec_for_f)"
   ]
  },
  {
   "cell_type": "code",
   "execution_count": 75,
   "id": "9b35bbac-8a7e-4848-b200-d6ac95973582",
   "metadata": {},
   "outputs": [],
   "source": [
    "injE = abscs['photE'][300]"
   ]
  },
  {
   "cell_type": "code",
   "execution_count": 76,
   "id": "fe88b157-4303-459c-aa5a-b03f2c7f68fd",
   "metadata": {},
   "outputs": [],
   "source": [
    "nBs_ref = 1\n",
    "dE_dVdt_inj = injE * phys.nB * nBs_ref * rs**3 / dt # [eV/cm^3 s]"
   ]
  },
  {
   "cell_type": "code",
   "execution_count": 78,
   "id": "e7a3b1dd-af34-49c0-815c-6297aee68ec7",
   "metadata": {},
   "outputs": [],
   "source": [
    "lep_prop_spec_N = lep_spec_N * (abscs['photE'] < 10.2)"
   ]
  },
  {
   "cell_type": "code",
   "execution_count": 80,
   "id": "bf00c196-5089-436a-a62a-6605c7fe1c12",
   "metadata": {},
   "outputs": [],
   "source": [
    "f_lep_prop = np.dot(abscs['photE'], lep_prop_spec_N) / injE"
   ]
  },
  {
   "cell_type": "code",
   "execution_count": 82,
   "id": "47de7dd1-7e0a-450e-aaaf-f8ee4aaf451f",
   "metadata": {},
   "outputs": [],
   "source": [
    "phot_spec_N = hep_spec_N + lep_prop_spec_N\n",
    "f_prop = np.dot(abscs['photE'], phot_spec_N) / injE"
   ]
  },
  {
   "cell_type": "code",
   "execution_count": 83,
   "id": "69da2761-d3d4-4ea8-8a73-faa1726c4a0b",
   "metadata": {},
   "outputs": [],
   "source": [
    "lowengelec_spec_at_rs = Spectrum(abscs['elecEk'], lee_spec_N, spec_type='N')\n",
    "lowengelec_spec_at_rs.rs = rs\n",
    "\n",
    "lowengphot_spec_at_rs = Spectrum(abscs['photE'], lep_spec_N, spec_type='N')\n",
    "lowengphot_spec_at_rs.rs = rs\n",
    "\n",
    "highengdep_at_rs = hed_arr"
   ]
  },
  {
   "cell_type": "code",
   "execution_count": 90,
   "id": "cbe98163-823c-4813-82bf-180a7657fd49",
   "metadata": {},
   "outputs": [
    {
     "data": {
      "text/plain": [
       "0.08031456953642384"
      ]
     },
     "execution_count": 90,
     "metadata": {},
     "output_type": "execute_result"
    }
   ],
   "source": [
    "phys.chi*0.99"
   ]
  },
  {
   "cell_type": "code",
   "execution_count": 94,
   "id": "eaaa159b-45cb-4675-9e46-f13d0eeb2e6e",
   "metadata": {},
   "outputs": [
    {
     "name": "stdout",
     "output_type": "stream",
     "text": [
      "98.8932046183508\n",
      "0.0\n",
      "0.009064424094655701\n"
     ]
    },
    {
     "data": {
      "text/plain": [
       "array([ 1.20416521e-16,  9.49196961e-17,  3.18061073e-17, -6.01312711e-19])"
      ]
     },
     "execution_count": 94,
     "metadata": {},
     "output_type": "execute_result"
    }
   ],
   "source": [
    "print(np.dot(r*hep_spec_N, abscs['photE']))\n",
    "print(np.dot(r*lep_spec_N, abscs['photE']))\n",
    "print(np.dot(r*lee_spec_N, abscs['elecEk'])) # 0.009064424094655703\n",
    "r*hed_arr # [ 1.20416521e-16  9.49196961e-17  3.18061073e-17 -6.01312711e-19]"
   ]
  },
  {
   "cell_type": "code",
   "execution_count": 88,
   "id": "85e31f72-1130-4287-b353-9e346a51fe4b",
   "metadata": {},
   "outputs": [
    {
     "data": {
      "text/plain": [
       "array([9.90000000e-01, 8.03145695e-02, 8.11258278e-04])"
      ]
     },
     "execution_count": 88,
     "metadata": {},
     "output_type": "execute_result"
    }
   ],
   "source": [
    "x_vec_for_f # x_vec_for_f [9.90000000e-01 8.03145695e-02 8.11258278e-04]"
   ]
  },
  {
   "cell_type": "code",
   "execution_count": 92,
   "id": "fb0b3eee-21dc-4afc-8822-a63d8fff00d2",
   "metadata": {},
   "outputs": [
    {
     "data": {
      "text/plain": [
       "4.2993000138117e-14"
      ]
     },
     "execution_count": 92,
     "metadata": {},
     "output_type": "execute_result"
    }
   ],
   "source": [
    "dE_dVdt_inj*r # rate_func_eng_unclustered(rs) 4.2993000138112976e-14"
   ]
  },
  {
   "cell_type": "code",
   "execution_count": 95,
   "id": "f83eb4da-2b5d-4b17-8268-837c5f7ed51b",
   "metadata": {},
   "outputs": [
    {
     "data": {
      "text/plain": [
       "33533238902782.5"
      ]
     },
     "execution_count": 95,
     "metadata": {},
     "output_type": "execute_result"
    }
   ],
   "source": [
    "dt # dt 33533238902782.5"
   ]
  },
  {
   "cell_type": "code",
   "execution_count": null,
   "id": "b30dd4df-9cfe-4997-9430-fd4e064c21bc",
   "metadata": {},
   "outputs": [],
   "source": [
    "method no_He\n",
    "cross_check False\n",
    "Main loop time: 0.051 s"
   ]
  },
  {
   "cell_type": "code",
   "execution_count": 84,
   "id": "6c9125ce-f9e7-444c-a50b-bf48be6df4c3",
   "metadata": {},
   "outputs": [],
   "source": [
    "f_low, f_high = compute_fs(\n",
    "    MEDEA_interp=MEDEA_interp,\n",
    "    rs=rs,\n",
    "    x=x_vec_for_f,\n",
    "    elec_spec=lowengelec_spec_at_rs,\n",
    "    phot_spec=lowengphot_spec_at_rs,\n",
    "    dE_dVdt_inj=dE_dVdt_inj,\n",
    "    dt=dt,\n",
    "    highengdep=highengdep_at_rs,\n",
    "    cmbloss=0, # turned off in darkhistory main as well\n",
    "    method='no_He',\n",
    "    cross_check=False,\n",
    "    ion_old=False\n",
    ")"
   ]
  },
  {
   "cell_type": "code",
   "execution_count": 85,
   "id": "0a685eb1-7aca-4505-b4fe-059d9c8e845b",
   "metadata": {},
   "outputs": [
    {
     "data": {
      "text/plain": [
       "array([1.70541817e-05, 9.59149095e-07, 1.43085440e-05, 5.30452476e-05,\n",
       "       6.27643362e-06])"
      ]
     },
     "execution_count": 85,
     "metadata": {},
     "output_type": "execute_result"
    }
   ],
   "source": [
    "f_low #[1.70541817e-05 9.59149095e-07 1.43085440e-05 5.30452476e-05 6.27643362e-06]"
   ]
  },
  {
   "cell_type": "code",
   "execution_count": 86,
   "id": "0c322905-bf70-4f1d-a60c-23fbd9d6b14c",
   "metadata": {},
   "outputs": [
    {
     "data": {
      "text/plain": [
       "array([ 4.08247276e-05,  0.00000000e+00,  3.21805571e-05,  1.07832020e-05,\n",
       "       -2.03862621e-07])"
      ]
     },
     "execution_count": 86,
     "metadata": {},
     "output_type": "execute_result"
    }
   ],
   "source": [
    "f_high #[ 4.08247276e-05  0.00000000e+00  3.21805571e-05  1.07832020e-05 -2.03862621e-07]"
   ]
  },
  {
   "cell_type": "code",
   "execution_count": 6,
   "id": "3d10ceca-63b7-439d-8c2e-9c8d29a8ff3e",
   "metadata": {
    "tags": []
   },
   "outputs": [
    {
     "name": "stderr",
     "output_type": "stream",
     "text": [
      "100%|██████████| 1000/1000 [19:27<00:00,  1.17s/it]"
     ]
    }
   ],
   "source": [
    "\n",
    "                # in DH.main: (dN_inj/dB) / (dE_inj  /dVdt)\n",
    "                # here:       (dN_inj   ) / (dE_injdB/dVdt)\n",
    "                f_low, f_high = compute_fs(\n",
    "                    MEDEA_interp=MEDEA_interp,\n",
    "                    rs=rs,\n",
    "                    x=x_vec_for_f,\n",
    "                    elec_spec=lowengelec_spec_at_rs,\n",
    "                    phot_spec=lowengphot_spec_at_rs,\n",
    "                    dE_dVdt_inj=dE_dVdt_inj,\n",
    "                    dt=dt,\n",
    "                    highengdep=highengdep_at_rs,\n",
    "                    cmbloss=0, # turned off in darkhistory main as well\n",
    "                    method='no_He',\n",
    "                    cross_check=False,\n",
    "                    ion_old=False\n",
    "                )\n",
    "                f_raw = f_low + f_high\n",
    "\n",
    "\n",
    "                f_dep = f_raw\n",
    "                f_dep[4] -= f_lep_prop # adjust for the propagating lowengphot\n",
    "                f_tot = f_prop + np.sum(f_dep)\n",
    "\n",
    "                #==============================\n",
    "                # Fix energy conservation (known issues)\n",
    "                if tf_type == 'phot':\n",
    "                    if i_injE == 153: # issue at around 13.6 eV. Adjusting H_ion.\n",
    "                        f_dep[0] += 1 - f_tot\n",
    "                    if i_injE in range(224, 228): # ??? issue. Adjusting hep propagating bin.\n",
    "                        phot_spec_N[i_injE] += 1 - f_tot\n",
    "\n",
    "                f_prop = np.dot(abscs['photE'], phot_spec_N) / injE\n",
    "                f_tot = f_prop + np.sum(f_dep)\n",
    "\n",
    "                #==============================\n",
    "                # Energy conservation\n",
    "                f_dep_str = ' '.join([f'{v:.3e}' for v in f_dep])\n",
    "                print_str = f'{n_run} | {i_rs} {i_x} {i_nBs} {i_injE} | f_prop={f_prop:.6f} f_dep={f_dep_str} f_tot={f_tot:.6f}'\n",
    "                if np.abs(f_tot - 1.) > 1e-2:\n",
    "                    print_str += ' | Energy error > 1%'\n",
    "                if verbose >= 1 or np.abs(f_tot - 1.) > 1e-2:\n",
    "                    print(print_str, flush=True)\n",
    "                \n",
    "                phot_spec_N[i_injE] += 1 - f_tot # gives all extra energy to propagating photons\n",
    "                \n",
    "                #==============================\n",
    "                # Dependent variables (Xray)\n",
    "                if include_f_xray:\n",
    "                    i_xray_fm = np.searchsorted(abscs['photE'], xray_eng_range[0])\n",
    "                    i_xray_to = np.searchsorted(abscs['photE'], xray_eng_range[1])\n",
    "                    f_xray = np.dot(abscs['photE'][i_xray_fm:i_xray_to], phot_spec_N[i_xray_fm:i_xray_to]) / injE\n",
    "                    if i_xray_fm <= i_injE and i_injE < i_xray_to:\n",
    "                        f_xray -= phot_spec_N[i_injE] # ignore diagonal for now # NEED TO EXTRACT PROP\n",
    "                    f_dep = np.append(f_dep, f_xray)\n",
    "\n",
    "                #==============================\n",
    "                # Populate transfer functions\n",
    "                tfgv[i_rs, i_x, i_nBs, i_injE] = phot_spec_N\n",
    "                depgv[i_rs, i_x, i_nBs, i_injE] = f_dep\n",
    "            \n",
    "            if use_tqdm:\n",
    "                pbar.update()"
   ]
  },
  {
   "cell_type": "markdown",
   "id": "5e6e0f94-4946-4349-aef6-010e22218363",
   "metadata": {},
   "source": [
    "## Loop over `rs` `x` `nBs`"
   ]
  },
  {
   "cell_type": "code",
   "execution_count": 8,
   "id": "57687aa6-41e5-4c53-84ec-c2e25305a0b0",
   "metadata": {
    "tags": []
   },
   "outputs": [
    {
     "name": "stderr",
     "output_type": "stream",
     "text": [
      "\n",
      "  0%|          | 0/1000 [00:00<?, ?it/s]\u001b[A\n",
      "  0%|          | 1/1000 [00:01<20:51,  1.25s/it]\u001b[A\n",
      "  0%|          | 2/1000 [00:02<19:41,  1.18s/it]\u001b[A\n",
      "  0%|          | 3/1000 [00:03<19:18,  1.16s/it]\u001b[A\n",
      "  0%|          | 4/1000 [00:04<19:21,  1.17s/it]\u001b[A\n",
      "  0%|          | 5/1000 [00:05<19:17,  1.16s/it]\u001b[A"
     ]
    },
    {
     "name": "stdout",
     "output_type": "stream",
     "text": [
      "[1.56553207e-05 8.81128673e-07 1.31330824e-05 4.86090148e-05\n",
      " 5.76069252e-06]\n",
      "[ 3.73711820e-05  0.00000000e+00  2.94393096e-05  9.85873873e-06\n",
      " -1.95871606e-07]\n",
      "[5.30265027e-05 8.81128673e-07 4.25723920e-05 5.84677536e-05\n",
      " 5.56482091e-06]\n"
     ]
    },
    {
     "name": "stderr",
     "output_type": "stream",
     "text": [
      "\n",
      "  1%|          | 6/1000 [00:06<19:08,  1.16s/it]\u001b[A"
     ]
    },
    {
     "name": "stdout",
     "output_type": "stream",
     "text": [
      "[1.72040597e-05 9.67508425e-07 1.44344863e-05 5.35205583e-05\n",
      " 6.33169159e-06]\n",
      "[ 4.11947504e-05  0.00000000e+00  3.24742622e-05  1.08822516e-05\n",
      " -2.04718801e-07]\n",
      "[5.83988101e-05 9.67508425e-07 4.69087486e-05 6.44028099e-05\n",
      " 6.12697279e-06]\n"
     ]
    },
    {
     "name": "stderr",
     "output_type": "stream",
     "text": [
      "\n",
      "  1%|          | 7/1000 [00:08<19:01,  1.15s/it]\u001b[A\n",
      "  1%|          | 8/1000 [00:09<18:56,  1.15s/it]\u001b[A\n",
      "  1%|          | 9/1000 [00:10<19:04,  1.15s/it]\u001b[A\n",
      "  1%|          | 10/1000 [00:11<18:57,  1.15s/it]\u001b[A"
     ]
    }
   ],
   "source": [
    "tfgv = np.zeros_like(hep_tfgv) # in: elec/phot, out: phot\n",
    "depgv = np.zeros(\n",
    "    hed_tfgv.shape[:-1] + (len(abscs['dep_c']),)\n",
    ") # channels: {H ionization, He ionization, excitation, heat, continuum, xray}\n",
    "\n",
    "dlnz = abscs['dlnz']\n",
    "MEDEA_interp = make_interpolator(prefix=MEDEA_dir)\n",
    "\n",
    "n_run = -1\n",
    "\n",
    "if use_tqdm:\n",
    "    pbar = tqdm( total = len(abscs['rs'])*len(abscs['x'])*len(abscs['nBs']) )\n",
    "\n",
    "for i_rs, rs in enumerate(abscs['rs']):\n",
    "    \n",
    "    if i_rs != 8:\n",
    "        continue\n",
    "    \n",
    "    dt = dlnz / phys.hubble(rs)\n",
    "            \n",
    "    #==============================\n",
    "    # Add cmbloss to highengphot\n",
    "    cmb_un = spectools.discretize(abscs['photE'], phys.CMB_spec, phys.TCMB(rs))\n",
    "    cmb_un_E = cmb_un.toteng()\n",
    "    \n",
    "    for i_x, x in enumerate(abscs['x']):\n",
    "        if i_x != 3:\n",
    "            continue\n",
    "        for i_nBs, nBs in enumerate(abscs['nBs']):\n",
    "            \n",
    "            for i in range(len(inj_abscs)):\n",
    "                cmb_E = cmbloss_gv[i_rs, i_x, i_nBs][i] * dt\n",
    "                hep_tfgv[i_rs, i_x, i_nBs][i] += (-cmb_E/cmb_un_E) * cmb_un.N\n",
    "\n",
    "            #==============================\n",
    "            # Add lowengphot diagonal\n",
    "            if nBs == 0: # lowengphot is 0 when nBs is 0\n",
    "                raise NotImplementedError\n",
    "            if tf_type == 'phot':\n",
    "                for i in range(len(inj_abscs)):\n",
    "                    if lep_tfgv[i_rs, i_x, i_nBs][i][i] > 1e-40:\n",
    "                        break\n",
    "                    lep_tfgv[i_rs, i_x, i_nBs][i][i] = 1\n",
    "            \n",
    "            for i_injE, injE in enumerate(inj_abscs):\n",
    "                \n",
    "                assert n_run <= stop_after_n\n",
    "                n_run += 1\n",
    "\n",
    "                #==============================\n",
    "                # Injection\n",
    "                # inject one photon at i_injE\n",
    "                timer = time.time()\n",
    "                \n",
    "                hep_spec_N = hep_tfgv[i_rs, i_x, i_nBs, i_injE]\n",
    "                lep_spec_N = lep_tfgv[i_rs, i_x, i_nBs, i_injE]\n",
    "                lee_spec_N = lee_tfgv[i_rs, i_x, i_nBs, i_injE]\n",
    "                hed_arr    = hed_tfgv[i_rs, i_x, i_nBs, i_injE]\n",
    "\n",
    "                lowengelec_spec_at_rs = Spectrum(abscs['elecEk'], lee_spec_N, spec_type='N')\n",
    "                lowengelec_spec_at_rs.rs = rs\n",
    "\n",
    "                lowengphot_spec_at_rs = Spectrum(abscs['photE'], lep_spec_N, spec_type='N')\n",
    "                lowengphot_spec_at_rs.rs = rs\n",
    "\n",
    "                highengdep_at_rs = hed_arr\n",
    "\n",
    "                #==============================\n",
    "                # Compute f's\n",
    "                x_vec_for_f = np.array( [1-x, phys.chi*(1-x), phys.chi*x] ) # [HI, HeI, HeII]/nH\n",
    "                nBs_ref = 1\n",
    "                dE_dVdt_inj = injE * phys.nB * nBs_ref * rs**3 / dt # [eV/cm^3 s]\n",
    "                # in DH.main: (dN_inj/dB) / (dE_inj  /dVdt)\n",
    "                # here:       (dN_inj   ) / (dE_injdB/dVdt)\n",
    "                f_low, f_high = compute_fs(\n",
    "                    MEDEA_interp=MEDEA_interp,\n",
    "                    rs=rs,\n",
    "                    x=x_vec_for_f,\n",
    "                    elec_spec=lowengelec_spec_at_rs,\n",
    "                    phot_spec=lowengphot_spec_at_rs,\n",
    "                    dE_dVdt_inj=dE_dVdt_inj,\n",
    "                    dt=dt,\n",
    "                    highengdep=highengdep_at_rs,\n",
    "                    cmbloss=0, # turned off in darkhistory main as well\n",
    "                    method='no_He',\n",
    "                    cross_check=False,\n",
    "                    ion_old=False\n",
    "                )\n",
    "                f_raw = f_low + f_high\n",
    "                \n",
    "                # debug\n",
    "                if i_rs == 8 and i_x == 3 and (i_nBs in [5, 6]) and i_injE == 300:\n",
    "                    print(f_low)\n",
    "                    print(f_high)\n",
    "                    print(f_raw)\n",
    "\n",
    "                #==============================\n",
    "                # Compute tf & f values\n",
    "                lep_prop_spec_N = lep_spec_N * (abscs['photE'] < 10.2)\n",
    "                f_lep_prop = np.dot(abscs['photE'], lep_prop_spec_N) / injE\n",
    "                phot_spec_N = hep_spec_N + lep_prop_spec_N\n",
    "                f_prop = np.dot(abscs['photE'], phot_spec_N) / injE\n",
    "\n",
    "                f_dep = f_raw\n",
    "                f_dep[4] -= f_lep_prop # adjust for the propagating lowengphot\n",
    "                f_tot = f_prop + np.sum(f_dep)\n",
    "\n",
    "                #==============================\n",
    "                # Fix energy conservation (known issues)\n",
    "                if tf_type == 'phot':\n",
    "                    if i_injE == 153: # issue at around 13.6 eV. Adjusting H_ion.\n",
    "                        f_dep[0] += 1 - f_tot\n",
    "                    if i_injE in range(224, 228): # ??? issue. Adjusting hep propagating bin.\n",
    "                        phot_spec_N[i_injE] += 1 - f_tot\n",
    "\n",
    "                f_prop = np.dot(abscs['photE'], phot_spec_N) / injE\n",
    "                f_tot = f_prop + np.sum(f_dep)\n",
    "\n",
    "                #==============================\n",
    "                # Energy conservation\n",
    "                f_dep_str = ' '.join([f'{v:.3e}' for v in f_dep])\n",
    "                print_str = f'{n_run} | {i_rs} {i_x} {i_nBs} {i_injE} | f_prop={f_prop:.6f} f_dep={f_dep_str} f_tot={f_tot:.6f}'\n",
    "                if np.abs(f_tot - 1.) > 1e-2:\n",
    "                    print_str += ' | Energy error > 1%'\n",
    "                if verbose >= 1 or np.abs(f_tot - 1.) > 1e-2:\n",
    "                    print(print_str, flush=True)\n",
    "                \n",
    "                phot_spec_N[i_injE] += 1 - f_tot # gives all extra energy to propagating photons\n",
    "                \n",
    "                #==============================\n",
    "                # Dependent variables (Xray)\n",
    "                if include_f_xray:\n",
    "                    i_xray_fm = np.searchsorted(abscs['photE'], xray_eng_range[0])\n",
    "                    i_xray_to = np.searchsorted(abscs['photE'], xray_eng_range[1])\n",
    "                    f_xray = np.dot(abscs['photE'][i_xray_fm:i_xray_to], phot_spec_N[i_xray_fm:i_xray_to]) / injE\n",
    "                    if i_xray_fm <= i_injE and i_injE < i_xray_to:\n",
    "                        f_xray -= phot_spec_N[i_injE] # ignore diagonal for now # NEED TO EXTRACT PROP\n",
    "                    f_dep = np.append(f_dep, f_xray)\n",
    "\n",
    "                #==============================\n",
    "                # Populate transfer functions\n",
    "                tfgv[i_rs, i_x, i_nBs, i_injE] = phot_spec_N\n",
    "                depgv[i_rs, i_x, i_nBs, i_injE] = f_dep\n",
    "            \n",
    "            if use_tqdm:\n",
    "                pbar.update()"
   ]
  },
  {
   "cell_type": "code",
   "execution_count": 11,
   "id": "3eb86559-d144-4555-975e-e6ff4cbc9888",
   "metadata": {},
   "outputs": [
    {
     "data": {
      "text/plain": [
       "array([5.78789094e-05, 9.59149095e-07, 4.64891012e-05, 6.38284496e-05,\n",
       "       6.07257100e-06, 6.21134076e-11])"
      ]
     },
     "execution_count": 11,
     "metadata": {},
     "output_type": "execute_result"
    }
   ],
   "source": [
    "depgv[8, 3, 5, 300]*nBs_f_left + depgv[8, 3, 6, 300]*nBs_f_right"
   ]
  },
  {
   "cell_type": "code",
   "execution_count": 15,
   "id": "5800c2fd-62b9-43ce-ad22-dbb918b7bccc",
   "metadata": {},
   "outputs": [],
   "source": [
    "z = np.load(f\"{data_dir}/phot_depgv.npy\")"
   ]
  },
  {
   "cell_type": "code",
   "execution_count": 18,
   "id": "209cb592-2904-4dc9-a01a-ba578dc8e33f",
   "metadata": {},
   "outputs": [
    {
     "data": {
      "text/plain": [
       "(array([5.30265027e-05, 8.81128673e-07, 4.25723920e-05, 5.84677536e-05,\n",
       "        5.56482091e-06, 5.86350563e-11]),\n",
       " array([5.83988101e-05, 9.67508425e-07, 4.69087486e-05, 6.44028099e-05,\n",
       "        6.12697279e-06, 6.24860881e-11]))"
      ]
     },
     "execution_count": 18,
     "metadata": {},
     "output_type": "execute_result"
    }
   ],
   "source": [
    "z[8, 3, 5, 300], z[8, 3, 6, 300]"
   ]
  },
  {
   "cell_type": "code",
   "execution_count": null,
   "id": "ec28f5b0-534c-4bb7-8007-e41b03f5f818",
   "metadata": {},
   "outputs": [],
   "source": [
    "from dm21cm."
   ]
  },
  {
   "cell_type": "code",
   "execution_count": 17,
   "id": "2e6ddd1f-8b9b-43fa-bf43-52383060fd24",
   "metadata": {},
   "outputs": [
    {
     "ename": "TypeError",
     "evalue": "load_data() got an unexpected keyword argument 'reload'",
     "output_type": "error",
     "traceback": [
      "\u001b[0;31m---------------------------------------------------------------------------\u001b[0m",
      "\u001b[0;31mTypeError\u001b[0m                                 Traceback (most recent call last)",
      "\u001b[0;32m<ipython-input-17-fd9c81c016e2>\u001b[0m in \u001b[0;36m<module>\u001b[0;34m\u001b[0m\n\u001b[0;32m----> 1\u001b[0;31m dmcm_dep_tf = load_data(\n\u001b[0m\u001b[1;32m      2\u001b[0m     \u001b[0;34m'phot_dep'\u001b[0m\u001b[0;34m,\u001b[0m\u001b[0;34m\u001b[0m\u001b[0;34m\u001b[0m\u001b[0m\n\u001b[1;32m      3\u001b[0m     \u001b[0mprefix\u001b[0m\u001b[0;34m=\u001b[0m\u001b[0mos\u001b[0m\u001b[0;34m.\u001b[0m\u001b[0menviron\u001b[0m\u001b[0;34m[\u001b[0m\u001b[0;34m'DM21CM_DATA_DIR'\u001b[0m\u001b[0;34m]\u001b[0m \u001b[0;34m+\u001b[0m \u001b[0;34m'/tf/230629/phot'\u001b[0m\u001b[0;34m,\u001b[0m\u001b[0;34m\u001b[0m\u001b[0;34m\u001b[0m\u001b[0m\n\u001b[1;32m      4\u001b[0m     \u001b[0mreload\u001b[0m\u001b[0;34m=\u001b[0m\u001b[0;32mTrue\u001b[0m\u001b[0;34m\u001b[0m\u001b[0;34m\u001b[0m\u001b[0m\n\u001b[1;32m      5\u001b[0m )\n",
      "\u001b[0;31mTypeError\u001b[0m: load_data() got an unexpected keyword argument 'reload'"
     ]
    }
   ],
   "source": [
    "dmcm_dep_tf = load_data(\n",
    "    'phot_dep',\n",
    "    prefix=os.environ['DM21CM_DATA_DIR'] + '/tf/230629/phot',\n",
    "    reload=True\n",
    ")"
   ]
  },
  {
   "cell_type": "markdown",
   "id": "856dd96c-aa72-4529-8b55-c1dfa1870c50",
   "metadata": {},
   "source": [
    "## Save"
   ]
  },
  {
   "cell_type": "code",
   "execution_count": 7,
   "id": "17bd7daa-e9bb-4afb-a6a0-6725fb1f0e5d",
   "metadata": {},
   "outputs": [],
   "source": [
    "np.save(f'{save_dir}/{tf_type}_tfgv.npy', tfgv)\n",
    "np.save(f'{save_dir}/{tf_type}_depgv.npy', depgv)"
   ]
  },
  {
   "cell_type": "code",
   "execution_count": null,
   "id": "fed3ddf4-4eee-4683-b477-c3a3907b2f22",
   "metadata": {},
   "outputs": [],
   "source": []
  }
 ],
 "metadata": {
  "kernelspec": {
   "display_name": "Python 3",
   "language": "python",
   "name": "python3"
  },
  "language_info": {
   "codemirror_mode": {
    "name": "ipython",
    "version": 3
   },
   "file_extension": ".py",
   "mimetype": "text/x-python",
   "name": "python",
   "nbconvert_exporter": "python",
   "pygments_lexer": "ipython3",
   "version": "3.8.8"
  }
 },
 "nbformat": 4,
 "nbformat_minor": 5
}
