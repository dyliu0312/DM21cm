{
 "cells": [
  {
   "cell_type": "markdown",
   "id": "6a79a245-4e61-4096-b7c6-3cf66b563810",
   "metadata": {},
   "source": [
    "## Make fake tf to compare DH v 21cmFAST"
   ]
  },
  {
   "cell_type": "code",
   "execution_count": 32,
   "id": "3e6af5f6-469c-4f7a-9cef-003665a5260d",
   "metadata": {},
   "outputs": [],
   "source": [
    "%reload_ext autoreload\n",
    "%autoreload 2\n",
    "\n",
    "import os\n",
    "import sys\n",
    "import time\n",
    "from tqdm import tqdm\n",
    "import pickle\n",
    "\n",
    "import numpy as np\n",
    "from scipy import interpolate\n",
    "\n",
    "from low_energy.lowE_electrons import make_interpolator\n",
    "\n",
    "sys.path.append(\"..\")\n",
    "from dm21cm.utils import load_dict\n",
    "\n",
    "sys.path.append(os.environ['DH_DIR'])\n",
    "import darkhistory.physics as phys"
   ]
  },
  {
   "cell_type": "markdown",
   "id": "de002212-addf-41fe-ab15-9caa6544fbc3",
   "metadata": {},
   "source": [
    "## 0. setting\n",
    "1e-3 fraction of photons goes into heating. Others stay the same."
   ]
  },
  {
   "cell_type": "code",
   "execution_count": 15,
   "id": "8cd21401-482c-45d8-9b1b-4238a34e41e5",
   "metadata": {},
   "outputs": [
    {
     "name": "stdout",
     "output_type": "stream",
     "text": [
      "0.04879016416943205\n",
      "100\n",
      "[ 0. 10.]\n",
      "[0. 1.]\n",
      "['H ion' 'He ion' 'exc' 'heat' 'cont' 'xray']\n"
     ]
    }
   ],
   "source": [
    "run_name = 'debug_230802'\n",
    "abscs = load_dict(f\"../data/abscissas/abscs_{run_name}.h5\")\n",
    "print(abscs['dlnz'])\n",
    "print(len(abscs['rs']))\n",
    "print(abscs['nBs'])\n",
    "print(abscs['x'])\n",
    "print(abscs['dep_c'])"
   ]
  },
  {
   "cell_type": "markdown",
   "id": "48e51170-ff54-4618-b81c-f7954b8adc78",
   "metadata": {},
   "source": [
    "## 1. dm21cm tf"
   ]
  },
  {
   "cell_type": "code",
   "execution_count": 19,
   "id": "741cc01e-14be-4ff9-8e38-2c8257445d21",
   "metadata": {},
   "outputs": [],
   "source": [
    "fixed_f = 1e-3\n",
    "\n",
    "tfgv = np.zeros((100, 2, 2, 500, 500)) # rxneo\n",
    "depgv = np.zeros((100, 2, 2, 500, 6)) # rxneo\n",
    "hed_tf = np.zeros((100, 2, 500, 4)) # rxeo\n",
    "\n",
    "for i_rs, rs in enumerate(abscs['rs']):\n",
    "    for i_x, x in enumerate(abscs['x']):\n",
    "        for i_nBs, nBs in enumerate(abscs['nBs']):\n",
    "            for i_injE, injE in enumerate(abscs['photE']):\n",
    "                \n",
    "                hep_spec_N = np.zeros((500,))\n",
    "                hep_spec_N[i_injE] = 1 - fixed_f\n",
    "                \n",
    "                tfgv[i_rs, i_x, i_nBs, i_injE] = hep_spec_N\n",
    "                depgv[i_rs, i_x, i_nBs, i_injE, 3] = fixed_f\n",
    "                dt = abscs['dlnz'] / phys.hubble(rs)\n",
    "                hed_tf[i_rs, i_x, i_injE, 3] = fixed_f * abscs['photE'][i_injE] / dt\n",
    "\n",
    "tf_type = 'phot'\n",
    "save_dir = f'../data/tf/{run_name}/{tf_type}'\n",
    "os.makedirs(save_dir, exist_ok=True)\n",
    "np.save(f'{save_dir}/{tf_type}_tfgv.npy', tfgv)\n",
    "np.save(f'{save_dir}/{tf_type}_depgv.npy', depgv)"
   ]
  },
  {
   "cell_type": "markdown",
   "id": "5c8d6d3c-1e4f-40e9-96de-d61b95045d41",
   "metadata": {},
   "source": [
    "## 2. DH tf"
   ]
  },
  {
   "cell_type": "code",
   "execution_count": 28,
   "id": "84a9817e-527b-402f-b59d-5ff36e258c94",
   "metadata": {},
   "outputs": [],
   "source": [
    "data_dir = f'../data/tf/{run_name}/{tf_type}'"
   ]
  },
  {
   "cell_type": "code",
   "execution_count": 20,
   "id": "54ff7434-f2f0-469e-ae93-25b4179ca9e3",
   "metadata": {},
   "outputs": [],
   "source": [
    "hep_tf = tfgv[:, :, 0, :, :] # rxeo\n",
    "lep_tf = np.zeros((100, 2, 500, 500))\n",
    "lee_tf = np.zeros((100, 2, 500, 500))\n",
    "#hed_tf = np.zeros((100, 2, 500, 4)) # see previous\n",
    "cmbloss = np.zeros((100, 2, 500))"
   ]
  },
  {
   "cell_type": "code",
   "execution_count": 23,
   "id": "7e6ea1d2-495a-4fd7-b784-b51770f22cbe",
   "metadata": {},
   "outputs": [
    {
     "name": "stdout",
     "output_type": "stream",
     "text": [
      "0.6326848741799451\n"
     ]
    }
   ],
   "source": [
    "dlnz = abscs['dlnz']\n",
    "dlnphoteng = np.log(5565952217145.328/1e-4)/500\n",
    "rate = dlnz/dlnphoteng\n",
    "print(rate)"
   ]
  },
  {
   "cell_type": "code",
   "execution_count": 25,
   "id": "4a02f4ea-8472-44b8-8419-5d25f3a40a5d",
   "metadata": {},
   "outputs": [
    {
     "name": "stderr",
     "output_type": "stream",
     "text": [
      "100%|██████████| 100/100 [00:00<00:00, 805.48it/s]\n"
     ]
    }
   ],
   "source": [
    "for i_rs in tqdm(range(len(abscs['rs']))):\n",
    "    for i_x in range(len(abscs['x'])):\n",
    "        tf = hep_tf[i_rs, i_x]\n",
    "        rs = abscs['rs'][i_rs]\n",
    "        for i_in in range(1, 500):\n",
    "            tf[i_in][i_in-1] += rate\n",
    "            tf[i_in][i_in]   -= rate"
   ]
  },
  {
   "cell_type": "code",
   "execution_count": 27,
   "id": "f47335bb-7fea-4558-b4d4-2d24b08aaf87",
   "metadata": {},
   "outputs": [],
   "source": [
    "tfgv_dict = {\n",
    "    'highengphot' : hep_tf,\n",
    "    'lowengphot' : lep_tf,\n",
    "    'lowengelec': lee_tf,\n",
    "}"
   ]
  },
  {
   "cell_type": "code",
   "execution_count": 33,
   "id": "39b3fedd-c1f6-4b89-948e-8e77570161dd",
   "metadata": {},
   "outputs": [
    {
     "name": "stdout",
     "output_type": "stream",
     "text": [
      "highengphot\n",
      "lowengphot\n",
      "lowengelec\n"
     ]
    }
   ],
   "source": [
    "for name in ['highengphot', 'lowengphot', 'lowengelec']:\n",
    "    print(name)\n",
    "    tf = pickle.load(open(os.environ['DH_DATA_DIR']+f'/{name}_tf_interp.raw', 'rb'))\n",
    "    tfgv = tfgv_dict[name]\n",
    "\n",
    "    tf.rs_nodes = np.array([49., 1600.])\n",
    "    tf._log_interp = False\n",
    "    tf.dlnz = [dlnz, 0.001, 0.001]\n",
    "    tf.rs[0] = abscs['rs']\n",
    "\n",
    "    xHe_s = np.array([0., 1.])\n",
    "    xHe_grid, xH_grid = np.meshgrid(xHe_s, abscs['x'])\n",
    "    tf.x[0] = np.stack([xH_grid, xHe_grid], axis=-1)\n",
    "\n",
    "    tfgv_expanded = np.repeat([tfgv], 2, axis=0)\n",
    "    tfgv_xhreo = np.einsum('hrxeo -> xhreo', tfgv_expanded)\n",
    "    tf.grid_vals[0] = tfgv_xhreo\n",
    "    tf.interp_func[0] = interpolate.RegularGridInterpolator(\n",
    "        (abscs['x'], xHe_s, abscs['rs']), tf.grid_vals[0]\n",
    "    )\n",
    "\n",
    "    pickle.dump(tf, open(f'{data_dir}/{name}_tf_interp.raw', 'wb'))"
   ]
  },
  {
   "cell_type": "code",
   "execution_count": 34,
   "id": "9b42fec3-0836-4121-86b7-73f8e17db7b1",
   "metadata": {},
   "outputs": [],
   "source": [
    "tf = pickle.load(open(os.environ['DH_DATA_DIR']+'/highengdep_interp.raw', 'rb'))\n",
    "tfgv = hed_tf\n",
    "\n",
    "tf.rs_nodes = np.array([49., 1600.])\n",
    "tf._log_interp = False\n",
    "tf.dlnz = [dlnz, 0.001, 0.001]\n",
    "tf.rs[0] = abscs['rs']\n",
    "\n",
    "xHe_s = np.array([0., 1.])\n",
    "xHe_grid, xH_grid = np.meshgrid(xHe_s, abscs['x'])\n",
    "tf.x[0] = np.stack([xH_grid, xHe_grid], axis=-1)\n",
    "\n",
    "tfgv_expanded = np.repeat([tfgv], 2, axis=0)\n",
    "tfgv_xhreo = np.einsum('hrxeo -> xhreo', tfgv_expanded)\n",
    "tf.grid_vals[0] = tfgv_xhreo\n",
    "tf.interp_func[0] = interpolate.RegularGridInterpolator(\n",
    "    (abscs['x'], xHe_s, abscs['rs']), tf.grid_vals[0]\n",
    ")\n",
    "\n",
    "pickle.dump(tf, open(f'{data_dir}/highengdep_interp.raw', 'wb'))"
   ]
  },
  {
   "cell_type": "code",
   "execution_count": 35,
   "id": "edc92078-fd8c-4e13-bf8c-d0238331691d",
   "metadata": {},
   "outputs": [],
   "source": [
    "tf = pickle.load(open(os.environ['DH_DATA_DIR']+'/CMB_engloss_interp.raw', 'rb'))\n",
    "tfgv = cmbloss\n",
    "\n",
    "tf.rs_nodes = np.array([49., 1600.])\n",
    "tf._log_interp = False\n",
    "tf.dlnz = [dlnz, 0.001, 0.001]\n",
    "tf.rs[0] = abscs['rs']\n",
    "\n",
    "xHe_s = np.array([0., 1.])\n",
    "xHe_grid, xH_grid = np.meshgrid(xHe_s, abscs['x'])\n",
    "tf.x[0] = np.stack([xH_grid, xHe_grid], axis=-1)\n",
    "\n",
    "tfgv_expanded = np.repeat([tfgv], 2, axis=0)\n",
    "tfgv_xhre = np.einsum('hrxe -> xhre', tfgv_expanded)\n",
    "tf.grid_vals[0] = tfgv_xhre\n",
    "tf.interp_func[0] = interpolate.RegularGridInterpolator(\n",
    "    (abscs['x'], xHe_s, abscs['rs']), tf.grid_vals[0]\n",
    ")\n",
    "\n",
    "pickle.dump(tf, open(f'{data_dir}/CMB_engloss_interp.raw', 'wb'))"
   ]
  },
  {
   "cell_type": "markdown",
   "id": "8b14c548-7b2e-415a-86ce-6f72ea5c741f",
   "metadata": {},
   "source": [
    "## test"
   ]
  },
  {
   "cell_type": "code",
   "execution_count": 40,
   "id": "152dd243-860f-47e1-a77f-0932016da92d",
   "metadata": {},
   "outputs": [],
   "source": [
    "%matplotlib inline\n",
    "import matplotlib as mpl\n",
    "import matplotlib.pyplot as plt\n",
    "mpl.rc_file('../matplotlibrc')"
   ]
  },
  {
   "cell_type": "code",
   "execution_count": 36,
   "id": "915cfc0b-3fc1-448e-a8ca-062c34dea51b",
   "metadata": {},
   "outputs": [],
   "source": [
    "z = pickle.load(open(f'{data_dir}/highengdep_interp.raw', 'rb'))"
   ]
  },
  {
   "cell_type": "code",
   "execution_count": 43,
   "id": "94726c69-6805-4d7e-a311-347b877d73bd",
   "metadata": {},
   "outputs": [
    {
     "data": {
      "text/plain": [
       "<matplotlib.contour.QuadContourSet at 0x7f914a4ee0a0>"
      ]
     },
     "execution_count": 43,
     "metadata": {},
     "output_type": "execute_result"
    },
    {
     "data": {
      "image/png": "[encoded data removed]",
      "text/plain": [
       "<Figure size 720x480 with 1 Axes>"
      ]
     },
     "metadata": {},
     "output_type": "display_data"
    }
   ],
   "source": [
    "plt.contourf(np.flipud(np.log(z.grid_vals[0][0,0,:,:,3])))"
   ]
  },
  {
   "cell_type": "code",
   "execution_count": null,
   "id": "1ae1c1b6-bc1b-49f6-9017-8682b8b504f2",
   "metadata": {},
   "outputs": [],
   "source": []
  }
 ],
 "metadata": {
  "kernelspec": {
   "display_name": "Python 3",
   "language": "python",
   "name": "python3"
  },
  "language_info": {
   "codemirror_mode": {
    "name": "ipython",
    "version": 3
   },
   "file_extension": ".py",
   "mimetype": "text/x-python",
   "name": "python",
   "nbconvert_exporter": "python",
   "pygments_lexer": "ipython3",
   "version": "3.8.8"
  }
 },
 "nbformat": 4,
 "nbformat_minor": 5
}
