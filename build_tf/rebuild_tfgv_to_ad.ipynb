{
 "cells": [
  {
   "cell_type": "code",
   "execution_count": 1,
   "id": "a75495fe-580a-45f8-a7cc-26e9c261cf66",
   "metadata": {},
   "outputs": [],
   "source": [
    "%reload_ext autoreload\n",
    "%autoreload 2\n",
    "\n",
    "import sys, os\n",
    "import pickle\n",
    "\n",
    "import numpy as np\n",
    "\n",
    "%matplotlib inline\n",
    "import matplotlib as mpl\n",
    "import matplotlib.pyplot as plt\n",
    "mpl.rc_file('../matplotlibrc')"
   ]
  },
  {
   "cell_type": "code",
   "execution_count": 2,
   "id": "2a2c2bf2-725c-4a44-8901-1d9a2f36e106",
   "metadata": {},
   "outputs": [],
   "source": [
    "# import darkhistory\n",
    "if os.environ['USER'] == 'yitians' and 'submit' in os.uname().nodename:\n",
    "    os.environ['DH_DIR'] = '/work/submit/yitians/darkhistory/DarkHistory'\n",
    "    os.environ['DM21CM_DATA_DIR'] = '/data/submit/yitians/DM21cm'\n",
    "sys.path.append(os.environ['DH_DIR'])\n",
    "# import DM21cm\n",
    "sys.path.append('..')"
   ]
  },
  {
   "cell_type": "code",
   "execution_count": 3,
   "id": "afd34591-95bd-4f14-8cb6-06e3837ded14",
   "metadata": {},
   "outputs": [],
   "source": [
    "from dm21cm.common import abscs_nBs_test"
   ]
  },
  {
   "cell_type": "code",
   "execution_count": 4,
   "id": "d92fbcfa-d40c-4ef7-9b73-73dacdb96041",
   "metadata": {},
   "outputs": [
    {
     "data": {
      "text/plain": [
       "['phot_cdep_dlnz48m_renxo_ad.p',\n",
       " 'phot_tfgv.npy',\n",
       " 'phot_cdep_dlnz48m_nxreo_ad.p',\n",
       " 'phot_dep_renxo_ad.p',\n",
       " 'phot_ctf_dlnz48m_nxreo_ad.p',\n",
       " 'phot_tf_renxo_ad.p',\n",
       " 'phot_ctf_dlnz48m_renxo_ad.p',\n",
       " 'phot_tf_nxreo_ad.p',\n",
       " 'phot_depgv.npy',\n",
       " 'archive',\n",
       " 'phot_dep_nxreo_ad.p']"
      ]
     },
     "execution_count": 4,
     "metadata": {},
     "output_type": "execute_result"
    }
   ],
   "source": [
    "DATA_DIR = os.environ['DM21CM_DATA_DIR'] + '/transferfunctions/nBs_test'\n",
    "os.listdir(DATA_DIR)"
   ]
  },
  {
   "cell_type": "markdown",
   "id": "25585901-5fbc-4b9c-83ba-e2bb7c767959",
   "metadata": {},
   "source": [
    "## 1. Energy deposition transfer function\n",
    "- `tfgv` is f values ($E\\rightarrow E$). To make it a $N\\rightarrow E$ transfer function, need to first multiply by the energy abscissa.\n",
    "- `tfgv` is ~ (nBs x rs Ein out). Transpose to make it ~ (rs Ein nBs x out)."
   ]
  },
  {
   "cell_type": "code",
   "execution_count": 5,
   "id": "2a4ecf7b-acff-4de0-8a9c-13a6ca406372",
   "metadata": {},
   "outputs": [],
   "source": [
    "abscs = {\n",
    "    'rs' : abscs_nBs_test['rs'],\n",
    "    'Ein' : abscs_nBs_test['photE'],\n",
    "    'nBs' : abscs_nBs_test['nBs'],\n",
    "    'x' : abscs_nBs_test['x'],\n",
    "    'out' : abscs_nBs_test['dep_c']\n",
    "}"
   ]
  },
  {
   "cell_type": "markdown",
   "id": "2b163fca-af18-483d-9005-2db3c41a08e4",
   "metadata": {},
   "source": [
    "### 1.1 permute to renxo"
   ]
  },
  {
   "cell_type": "code",
   "execution_count": 6,
   "id": "2698c055-4ec7-44e7-acbc-8b179eae3f0b",
   "metadata": {},
   "outputs": [
    {
     "name": "stdout",
     "output_type": "stream",
     "text": [
      "(10, 10, 20, 500, 5)\n",
      "(20, 500, 10, 10, 5)\n"
     ]
    }
   ],
   "source": [
    "data = np.load(DATA_DIR + '/phot_depgv.npy')\n",
    "print(data.shape)\n",
    "data_permuted = np.transpose(data, axes=[2, 3, 0, 1, 4])\n",
    "print(data_permuted.shape)"
   ]
  },
  {
   "cell_type": "code",
   "execution_count": 7,
   "id": "5194ea0a-7615-4013-86ac-f6ca05055859",
   "metadata": {},
   "outputs": [
    {
     "name": "stdout",
     "output_type": "stream",
     "text": [
      "(20, 500, 10, 10, 5)\n"
     ]
    }
   ],
   "source": [
    "# multiply in energy\n",
    "eng = abscs['Ein']\n",
    "data_NEtf = np.einsum('renxo,e->renxo', data_permuted, eng)\n",
    "print(data_NEtf.shape)"
   ]
  },
  {
   "cell_type": "code",
   "execution_count": 8,
   "id": "b947ffb6-5c9d-4d03-834e-3cbe3e578f36",
   "metadata": {},
   "outputs": [],
   "source": [
    "pickle.dump((abscs, data_NEtf), open(DATA_DIR + '/phot_dep_renxo_ad.p', 'wb'))"
   ]
  },
  {
   "cell_type": "markdown",
   "id": "5be0b1ef-b180-435f-981e-d91f0f554504",
   "metadata": {},
   "source": [
    "### 1.2 don't permute (nxreo)"
   ]
  },
  {
   "cell_type": "code",
   "execution_count": 9,
   "id": "0b59ff01-2c3b-4406-9c73-f970106eeccd",
   "metadata": {},
   "outputs": [
    {
     "name": "stdout",
     "output_type": "stream",
     "text": [
      "(10, 10, 20, 500, 5)\n"
     ]
    }
   ],
   "source": [
    "data = np.load(DATA_DIR + '/phot_depgv.npy')\n",
    "print(data.shape)"
   ]
  },
  {
   "cell_type": "code",
   "execution_count": 10,
   "id": "471dbd23-874d-4cf1-ad0d-56a98a5a5264",
   "metadata": {},
   "outputs": [
    {
     "name": "stdout",
     "output_type": "stream",
     "text": [
      "(10, 10, 20, 500, 5)\n"
     ]
    }
   ],
   "source": [
    "# multiply in energy\n",
    "eng = abscs['Ein']\n",
    "data_NEtf = np.einsum('nxreo,e->nxreo', data, eng)\n",
    "print(data_NEtf.shape)"
   ]
  },
  {
   "cell_type": "code",
   "execution_count": 11,
   "id": "c4dd9260-0c4d-4c53-a167-fc72ba41b7ae",
   "metadata": {},
   "outputs": [],
   "source": [
    "pickle.dump((abscs, data_NEtf), open(DATA_DIR + '/phot_dep_nxreo_ad.p', 'wb'))"
   ]
  },
  {
   "cell_type": "markdown",
   "id": "13d0a281-2ad4-4152-91dc-a789b0666f48",
   "metadata": {},
   "source": [
    "## 2. Photon number transfer function\n",
    "- `tfgv` is already in $N\\rightarrow N$.\n",
    "- `tfgv` is ~ (nBs x rs Ein out). Transpose to make it ~ (rs Ein nBs x out)."
   ]
  },
  {
   "cell_type": "code",
   "execution_count": 12,
   "id": "1cc60be4-8da4-4353-b028-f487975d3db5",
   "metadata": {},
   "outputs": [],
   "source": [
    "abscs = {\n",
    "    'rs' : abscs_nBs_test['rs'],\n",
    "    'Ein' : abscs_nBs_test['photE'],\n",
    "    'nBs' : abscs_nBs_test['nBs'],\n",
    "    'x' : abscs_nBs_test['x'],\n",
    "    'out' : abscs_nBs_test['photE']\n",
    "}"
   ]
  },
  {
   "cell_type": "markdown",
   "id": "61f0f16b-46dd-4e7f-9de2-80f940e3f41a",
   "metadata": {},
   "source": [
    "### 2.1 permute to renxo"
   ]
  },
  {
   "cell_type": "code",
   "execution_count": 13,
   "id": "11941c6f-7615-40ce-8627-08d4ea808442",
   "metadata": {},
   "outputs": [
    {
     "name": "stdout",
     "output_type": "stream",
     "text": [
      "(10, 10, 20, 500, 500)\n",
      "(20, 500, 10, 10, 500)\n"
     ]
    }
   ],
   "source": [
    "data = np.load(DATA_DIR + '/phot_tfgv.npy')\n",
    "print(data.shape)\n",
    "data_permuted = np.transpose(data, axes=[2, 3, 0, 1, 4])\n",
    "print(data_permuted.shape)"
   ]
  },
  {
   "cell_type": "code",
   "execution_count": 14,
   "id": "bc068530-4e8c-4f68-8237-42161c85df02",
   "metadata": {},
   "outputs": [],
   "source": [
    "pickle.dump((abscs, data_permuted), open(DATA_DIR + '/phot_tf_renxo_ad.p', 'wb'))"
   ]
  },
  {
   "cell_type": "markdown",
   "id": "ae366422-3935-4ef3-a924-2529d8eb312c",
   "metadata": {},
   "source": [
    "### 2.2 don't permute (nxreo)"
   ]
  },
  {
   "cell_type": "code",
   "execution_count": 15,
   "id": "1614640c-2034-4335-94ef-dfc572352c75",
   "metadata": {},
   "outputs": [
    {
     "name": "stdout",
     "output_type": "stream",
     "text": [
      "(10, 10, 20, 500, 500)\n"
     ]
    }
   ],
   "source": [
    "data = np.load(DATA_DIR + '/phot_tfgv.npy')\n",
    "print(data.shape)"
   ]
  },
  {
   "cell_type": "code",
   "execution_count": 16,
   "id": "acbc60eb-6a02-4a02-841d-0d96edc9dc50",
   "metadata": {},
   "outputs": [],
   "source": [
    "pickle.dump((abscs, data), open(DATA_DIR + '/phot_tf_nxreo_ad.p', 'wb'))"
   ]
  },
  {
   "cell_type": "markdown",
   "id": "5c19dd03-53cf-4545-9e6a-af274b5084c3",
   "metadata": {},
   "source": [
    "## 3. Compound to fixed power (48)"
   ]
  },
  {
   "cell_type": "code",
   "execution_count": 17,
   "id": "2057c2f3-efa8-407a-9f2c-fb9072066878",
   "metadata": {},
   "outputs": [],
   "source": [
    "from jax import jit\n",
    "import jax.numpy as jnp\n",
    "\n",
    "from tqdm import tqdm"
   ]
  },
  {
   "cell_type": "code",
   "execution_count": 18,
   "id": "f54eca77-ea69-4ab8-9bb9-5889f6c32acb",
   "metadata": {},
   "outputs": [],
   "source": [
    "@jit\n",
    "def compound_48(tf, dep):\n",
    "    \n",
    "    dot = jnp.dot\n",
    "    \n",
    "    s2 = jnp.identity(tf.shape[0]) + tf\n",
    "    p2 = dot(tf, tf)\n",
    "    s4 = s2 + dot(p2, s2)\n",
    "    p4 = dot(p2, p2)\n",
    "    s8 = s4 + dot(p4, s4)\n",
    "    p8 = dot(p4, p4)\n",
    "    s16 = s8 + dot(p8, s8)\n",
    "    p16 = dot(p8, p8)\n",
    "    s32 = s16 + dot(p16, s16)\n",
    "    p32 = dot(p16, p16)\n",
    "    \n",
    "    p48 = dot(p32, p16)\n",
    "    s48 = s32 + dot(p32, s16)\n",
    "    #p50 = dot(p48, p2)\n",
    "    #s50 = s32 + dot(p32, s16) + dot(p48, s2)\n",
    "    \n",
    "    return p48, dot(s48, dep)"
   ]
  },
  {
   "cell_type": "code",
   "execution_count": 19,
   "id": "d53f1a17-1026-4737-a1b6-2349b43c316a",
   "metadata": {},
   "outputs": [],
   "source": [
    "tf_abscs, tf_full = pickle.load(open(DATA_DIR + '/phot_tf_nxreo_ad.p', 'rb'))\n",
    "dep_abscs, dep_full = pickle.load(open(DATA_DIR + '/phot_dep_nxreo_ad.p', 'rb'))"
   ]
  },
  {
   "cell_type": "code",
   "execution_count": 20,
   "id": "7a4b261b-0afc-4871-8e35-6a42adeaca7a",
   "metadata": {},
   "outputs": [
    {
     "name": "stderr",
     "output_type": "stream",
     "text": [
      "  0%|          | 0/2000 [00:00<?, ?it/s]WARNING:jax._src.lib.xla_bridge:No GPU/TPU found, falling back to CPU. (Set TF_CPP_MIN_LOG_LEVEL=0 and rerun for more info.)\n",
      "100%|█████████▉| 1999/2000 [00:27<00:00, 61.75it/s]"
     ]
    }
   ],
   "source": [
    "ctf_full = np.zeros_like(tf_full)\n",
    "cdep_full = np.zeros_like(dep_full)\n",
    "\n",
    "n_i, n_j, n_k, _, _ = tf_full.shape\n",
    "pbar = tqdm(total=n_i*n_j*n_k)\n",
    "\n",
    "for i in range(n_i):\n",
    "    for j in range(n_j):\n",
    "        for k in range(n_k):\n",
    "            tf = tf_full[i,j,k]\n",
    "            dep = dep_full[i,j,k]\n",
    "            ctf, cdep = compound_48(tf, dep)\n",
    "            ctf_full[i,j,k] = np.array(ctf)\n",
    "            cdep_full[i,j,k] = np.array(cdep)\n",
    "            pbar.update()"
   ]
  },
  {
   "cell_type": "code",
   "execution_count": 21,
   "id": "2c0272f5-f627-46ed-b74a-dd77565d9f29",
   "metadata": {},
   "outputs": [
    {
     "name": "stderr",
     "output_type": "stream",
     "text": [
      "100%|██████████| 2000/2000 [00:43<00:00, 61.75it/s]"
     ]
    }
   ],
   "source": [
    "pickle.dump((tf_abscs, ctf_full), open(DATA_DIR + '/phot_ctf_dlnz48m_nxreo_ad.p', 'wb'))\n",
    "pickle.dump((dep_abscs, cdep_full), open(DATA_DIR + '/phot_cdep_dlnz48m_nxreo_ad.p', 'wb'))"
   ]
  },
  {
   "cell_type": "markdown",
   "id": "6cf13131-68cb-47d0-8101-66b56843bf83",
   "metadata": {},
   "source": [
    "### 3.1 permute"
   ]
  },
  {
   "cell_type": "code",
   "execution_count": 22,
   "id": "416268eb-e392-4041-b65f-ec6ccffa53af",
   "metadata": {},
   "outputs": [
    {
     "name": "stdout",
     "output_type": "stream",
     "text": [
      "(10, 10, 20, 500, 500) -> (20, 500, 10, 10, 500)\n",
      "(10, 10, 20, 500, 5) -> (20, 500, 10, 10, 5)\n"
     ]
    }
   ],
   "source": [
    "# tf\n",
    "print(ctf_full.shape, end=' -> ')\n",
    "ctf_full_permuted = np.transpose(ctf_full, axes=[2, 3, 0, 1, 4])\n",
    "print(ctf_full_permuted.shape)\n",
    "# dep\n",
    "print(cdep_full.shape, end=' -> ')\n",
    "cdep_full_permuted = np.transpose(cdep_full, axes=[2, 3, 0, 1, 4])\n",
    "print(cdep_full_permuted.shape)"
   ]
  },
  {
   "cell_type": "code",
   "execution_count": 23,
   "id": "61206338-88d9-426f-9127-6556fad9a7af",
   "metadata": {},
   "outputs": [],
   "source": [
    "pickle.dump((tf_abscs, ctf_full_permuted), open(DATA_DIR + '/phot_ctf_dlnz48m_renxo_ad.p', 'wb'))\n",
    "pickle.dump((dep_abscs, cdep_full_permuted), open(DATA_DIR + '/phot_cdep_dlnz48m_renxo_ad.p', 'wb'))"
   ]
  },
  {
   "cell_type": "code",
   "execution_count": 24,
   "id": "29a5bf76-ee38-4aa4-b899-cd4d44e4fcbc",
   "metadata": {},
   "outputs": [
    {
     "name": "stdout",
     "output_type": "stream",
     "text": [
      "3.8G\t/data/submit/yitians/DM21cm/transferfunctions/nBs_test/archive\n",
      "39M\t/data/submit/yitians/DM21cm/transferfunctions/nBs_test/phot_cdep_dlnz48m_nxreo_ad.p\n",
      "39M\t/data/submit/yitians/DM21cm/transferfunctions/nBs_test/phot_cdep_dlnz48m_renxo_ad.p\n",
      "3.8G\t/data/submit/yitians/DM21cm/transferfunctions/nBs_test/phot_ctf_dlnz48m_nxreo_ad.p\n",
      "3.8G\t/data/submit/yitians/DM21cm/transferfunctions/nBs_test/phot_ctf_dlnz48m_renxo_ad.p\n",
      "39M\t/data/submit/yitians/DM21cm/transferfunctions/nBs_test/phot_depgv.npy\n",
      "39M\t/data/submit/yitians/DM21cm/transferfunctions/nBs_test/phot_dep_nxreo_ad.p\n",
      "39M\t/data/submit/yitians/DM21cm/transferfunctions/nBs_test/phot_dep_renxo_ad.p\n",
      "3.8G\t/data/submit/yitians/DM21cm/transferfunctions/nBs_test/phot_tfgv.npy\n",
      "3.8G\t/data/submit/yitians/DM21cm/transferfunctions/nBs_test/phot_tf_nxreo_ad.p\n",
      "3.8G\t/data/submit/yitians/DM21cm/transferfunctions/nBs_test/phot_tf_renxo_ad.p\n"
     ]
    }
   ],
   "source": [
    "! du -smh /data/submit/yitians/DM21cm/transferfunctions/nBs_test/*"
   ]
  },
  {
   "cell_type": "code",
   "execution_count": null,
   "id": "c7dec9e0-9568-420e-95d4-a4bed499cf49",
   "metadata": {},
   "outputs": [],
   "source": []
  }
 ],
 "metadata": {
  "kernelspec": {
   "display_name": "21cmfast",
   "language": "python",
   "name": "21cmfast"
  },
  "language_info": {
   "codemirror_mode": {
    "name": "ipython",
    "version": 3
   },
   "file_extension": ".py",
   "mimetype": "text/x-python",
   "name": "python",
   "nbconvert_exporter": "python",
   "pygments_lexer": "ipython3",
   "version": "3.7.12"
  }
 },
 "nbformat": 4,
 "nbformat_minor": 5
}
