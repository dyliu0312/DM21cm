{
 "cells": [
  {
   "cell_type": "code",
   "execution_count": 2,
   "id": "3e0c6c5b-0240-49e5-96e2-a3d30b51b870",
   "metadata": {},
   "outputs": [],
   "source": [
    "%reload_ext autoreload\n",
    "%autoreload 2\n",
    "\n",
    "import os\n",
    "import sys\n",
    "import time\n",
    "from tqdm import tqdm\n",
    "\n",
    "import numpy as np\n",
    "\n",
    "sys.path.append(os.environ['DH_DIR'])\n",
    "from config import load_data\n",
    "from main import get_elec_cooling_data\n",
    "from   darkhistory.spec.spectrum import Spectrum\n",
    "import darkhistory.physics as phys\n",
    "import darkhistory.spec.spectools as spectools\n",
    "from   darkhistory.electrons import positronium as pos\n",
    "from   darkhistory.electrons.elec_cooling import get_elec_cooling_tf\n",
    "from   darkhistory.spec import pppc\n",
    "\n",
    "from darkhistory.low_energy.lowE_electrons import make_interpolator\n",
    "from darkhistory.low_energy.lowE_deposition import compute_fs\n",
    "from low_energy.lowE_electrons import make_interpolator as my_make_interpolator\n",
    "from low_energy.lowE_deposition import compute_fs as my_compute_fs\n",
    "from utils import load_dict\n",
    "\n",
    "%matplotlib inline\n",
    "import matplotlib as mpl\n",
    "import matplotlib.pyplot as plt\n",
    "mpl.rc_file('../matplotlibrc')"
   ]
  },
  {
   "cell_type": "markdown",
   "id": "01c097ef-93eb-4ad4-8c24-2746419eb747",
   "metadata": {},
   "source": [
    "## Config"
   ]
  },
  {
   "cell_type": "code",
   "execution_count": 3,
   "id": "599711d5-64fa-440b-a41f-9df7b203a073",
   "metadata": {},
   "outputs": [],
   "source": [
    "run_name = '230629'\n",
    "tf_type = 'phot' # {'phot', 'elec'}\n",
    "include_f_xray = True\n",
    "xray_eng_range = (1e2, 1e4) # [eV]\n",
    "use_tqdm = True\n",
    "verbose = 0 # {0, 1}\n",
    "stop_after_n = np.inf\n",
    "\n",
    "abscs = load_dict(f\"../data/abscissas/abscs_{run_name}.h5\")\n",
    "inj_abscs = abscs['photE'] if tf_type == 'phot' else abscs['elecEk'] + phys.me\n",
    "MEDEA_dir = '../data/MEDEA'\n",
    "data_dir = f'../data/tf/{run_name}/{tf_type}'\n",
    "save_dir = f'../data/tf/{run_name}/{tf_type}'\n",
    "os.makedirs(save_dir, exist_ok=True)"
   ]
  },
  {
   "cell_type": "code",
   "execution_count": 4,
   "id": "0ff128b7-7733-4f6e-b57b-fc543a17315b",
   "metadata": {},
   "outputs": [
    {
     "data": {
      "text/plain": [
       "array(['H ion', 'He ion', 'exc', 'heat', 'cont', 'xray'], dtype=object)"
      ]
     },
     "execution_count": 4,
     "metadata": {},
     "output_type": "execute_result"
    }
   ],
   "source": [
    "abscs['dep_c']"
   ]
  },
  {
   "cell_type": "markdown",
   "id": "b4952aa2-c9fc-45b6-9a6e-5b6b380ae2af",
   "metadata": {},
   "source": [
    "## Load"
   ]
  },
  {
   "cell_type": "code",
   "execution_count": 4,
   "id": "57be1568-bdca-44ce-b941-769f1f9251d6",
   "metadata": {
    "collapsed": true,
    "jupyter": {
     "outputs_hidden": true
    },
    "tags": []
   },
   "outputs": [
    {
     "data": {
      "text/plain": [
       "['lep_tf_rxneo.npy',\n",
       " 'phot_dep.h5',\n",
       " 'lowerbound_rxneo.npy',\n",
       " 'phot_depgv.npy',\n",
       " 'hed_tf_rxneo.npy',\n",
       " 'cmbloss_rxneo.npy',\n",
       " 'phot_tfgv.npy',\n",
       " 'phot_phot.h5',\n",
       " 'phot_scat.h5',\n",
       " 'hep_tf_rxneo.npy',\n",
       " 'phot_prop.h5',\n",
       " '.ipynb_checkpoints',\n",
       " 'ionhist_output',\n",
       " 'phot_prop_diag.h5',\n",
       " 'lee_tf_rxneo.npy']"
      ]
     },
     "execution_count": 4,
     "metadata": {},
     "output_type": "execute_result"
    }
   ],
   "source": [
    "os.listdir(data_dir)"
   ]
  },
  {
   "cell_type": "code",
   "execution_count": 10,
   "id": "189b33f1-9fec-40a6-b2e6-24388a442ab8",
   "metadata": {},
   "outputs": [
    {
     "name": "stdout",
     "output_type": "stream",
     "text": [
      "Loading tf:  hep lep lee hed cmb."
     ]
    }
   ],
   "source": [
    "print('Loading tf: ', end=' ', flush=True)\n",
    "hep_tfgv = np.load(f'{data_dir}/hep_tf_rxneo.npy')\n",
    "print('hep', end=' ', flush=True)\n",
    "lep_tfgv = np.load(f'{data_dir}/lep_tf_rxneo.npy')\n",
    "print('lep', end=' ', flush=True)\n",
    "lee_tfgv = np.load(f'{data_dir}/lee_tf_rxneo.npy')\n",
    "print('lee', end=' ', flush=True)\n",
    "hed_tfgv = np.load(f'{data_dir}/hed_tf_rxneo.npy')\n",
    "print('hed', end=' ', flush=True)\n",
    "cmbloss_gv = np.load(f'{data_dir}/cmbloss_rxneo.npy')\n",
    "print('cmb', end='.', flush=True)"
   ]
  },
  {
   "cell_type": "markdown",
   "id": "331a40c2-010d-424d-9467-45b45ea0883d",
   "metadata": {},
   "source": [
    "## uhm"
   ]
  },
  {
   "cell_type": "code",
   "execution_count": 129,
   "id": "b1ede29b-2dcf-4a8f-890f-92566efca490",
   "metadata": {},
   "outputs": [
    {
     "name": "stdout",
     "output_type": "stream",
     "text": [
      "(array([299]),) 2.1603348648263028\n"
     ]
    }
   ],
   "source": [
    "in_spec_phot = pppc.get_pppc_spec(photeng[300], photeng, 'phot_delta', 'phot')\n",
    "print(np.where(in_spec_phot.N), in_spec_phot.N[299])"
   ]
  },
  {
   "cell_type": "markdown",
   "id": "096710e2-5dea-4390-9a30-ef575fc868fe",
   "metadata": {},
   "source": [
    "## Loop over `rs` `x` `nBs` NEW!!"
   ]
  },
  {
   "cell_type": "code",
   "execution_count": 11,
   "id": "75d97b9a-510c-446e-9a0d-c11cb1643d83",
   "metadata": {},
   "outputs": [
    {
     "name": "stdout",
     "output_type": "stream",
     "text": [
      "38.71318413405634 0.001 1.006\n"
     ]
    }
   ],
   "source": [
    "i_rs = 8\n",
    "i_x = 2\n",
    "i_nBs = 6\n",
    "rs = abscs['rs'][i_rs]\n",
    "x = abscs['x'][i_x]\n",
    "nBs = abscs['nBs'][i_nBs]\n",
    "print(rs, x, nBs)\n",
    "\n",
    "dlnz = abscs['dlnz']\n",
    "dt = dlnz / phys.hubble(rs)\n",
    "\n",
    "i_Ein = 300"
   ]
  },
  {
   "cell_type": "code",
   "execution_count": 12,
   "id": "b277ac4e-56ef-4063-8be8-bb8d95f350c7",
   "metadata": {},
   "outputs": [],
   "source": [
    "hep_tf = hep_tfgv[i_rs, i_x, i_nBs].copy()\n",
    "lep_tf = lep_tfgv[i_rs, i_x, i_nBs].copy()\n",
    "lee_tf = lee_tfgv[i_rs, i_x, i_nBs].copy()\n",
    "hed_tf = hed_tfgv[i_rs, i_x, i_nBs].copy()\n",
    "\n",
    "# process hep_tf\n",
    "cmb_un = spectools.discretize(abscs['photE'], phys.CMB_spec, phys.TCMB(rs))\n",
    "cmb_un_E = cmb_un.toteng()\n",
    "cmb_E = cmbloss_gv[i_rs, i_x, i_nBs, i_Ein] * dt\n",
    "hep_tf[i_Ein] += (-cmb_E/cmb_un_E) * cmb_un.N\n",
    "\n",
    "# process lep_tf\n",
    "for i in range(len(abscs['photE'])):\n",
    "    if lep_tf[i][i] > 1e-40:\n",
    "        break\n",
    "    lep_tf[i][i] = 1"
   ]
  },
  {
   "cell_type": "code",
   "execution_count": 15,
   "id": "bda95c4e-f093-468d-8d8b-07777f70db44",
   "metadata": {},
   "outputs": [
    {
     "data": {
      "text/plain": [
       "2300596905829076.5"
      ]
     },
     "execution_count": 15,
     "metadata": {},
     "output_type": "execute_result"
    }
   ],
   "source": [
    "norm_fac(rs)"
   ]
  },
  {
   "cell_type": "code",
   "execution_count": 14,
   "id": "70ffb4e9-8f51-4ad6-aa63-73a31849220b",
   "metadata": {},
   "outputs": [
    {
     "name": "stdout",
     "output_type": "stream",
     "text": [
      "lep E 4.763673821012494e-05\n",
      "lee E 0.0\n",
      "x     [0.999     0.0810447 0.001    ]\n",
      "rateu 1158962.0723298236\n",
      "dlnz  0.009950330853168092\n",
      "hubbl 2.9673038390402664e-16\n",
      "dt    3.353e+13\n",
      "hed   [ 2.12807794e-05  1.67609907e-05  5.84832912e-07 -1.03879246e-07]\n",
      "fs    [6.65252694e-05 1.04326618e-06 5.65002650e-05 3.82248125e-05\n",
      " 1.00113427e-05]\n"
     ]
    }
   ],
   "source": [
    "photeng = abscs['photE']\n",
    "eleceng = abscs['elecEk']\n",
    "\n",
    "in_spec_phot_N = np.zeros((500,))\n",
    "in_spec_phot_N[300] = 1.\n",
    "in_spec_phot = Spectrum(photeng, in_spec_phot_N, spec_type='N', rs=rs)\n",
    "\n",
    "struct_boost = lambda x: 1.\n",
    "rate_func_N = lambda x: 1.\n",
    "rate_func_eng = lambda x: photeng[i_Ein]\n",
    "\n",
    "start_rs = rs\n",
    "dt = dlnz * 1 / phys.hubble(rs)\n",
    "\n",
    "def norm_fac(rs):\n",
    "    # Normalization to convert from per injection event to \n",
    "    # per baryon per dlnz step. \n",
    "    return rate_func_N(rs) * (\n",
    "        dlnz * 1 / phys.hubble(rs) / (phys.nB * rs**3)\n",
    "    )\n",
    "\n",
    "def rate_func_eng_unclustered(rs):\n",
    "    return rate_func_eng(rs)\n",
    "\n",
    "highengdep_grid = np.empty((0,4))\n",
    "\n",
    "MEDEA_interp = make_interpolator(interp_type='2D', cross_check=False)\n",
    "    \n",
    "highengphot_spec_at_rs = Spectrum(photeng, hep_tf[i_Ein], spec_type='N', rs=rs) * norm_fac(rs)\n",
    "lowengphot_spec_at_rs  = Spectrum(photeng, lep_tf[i_Ein], spec_type='N', rs=rs) * norm_fac(rs)\n",
    "lowengelec_spec_at_rs  = Spectrum(eleceng, lee_tf[i_Ein], spec_type='N', rs=rs) * norm_fac(rs)\n",
    "highengdep_at_rs       = hed_tf[i_Ein] * norm_fac(rs)\n",
    "\n",
    "\n",
    "highengphot_spec_at_rs += in_spec_phot * norm_fac(rs)\n",
    "highengphot_spec_at_rs.rs = rs\n",
    "\n",
    "x_vec_for_f = np.array([1-x, phys.chi*(1-x), x])\n",
    "\n",
    "print('lep E', lowengelec_spec_at_rs.toteng()/highengphot_spec_at_rs.toteng())\n",
    "print('lee E', lowengphot_spec_at_rs.toteng()/highengphot_spec_at_rs.toteng())\n",
    "print('x    ', x_vec_for_f)\n",
    "print('rateu', rate_func_eng_unclustered(rs))\n",
    "print('dlnz ', dlnz)\n",
    "print('hubbl', phys.hubble(rs))\n",
    "print('dt   ', f'{dt:.3e}')\n",
    "print('hed  ', highengdep_at_rs*dt/highengphot_spec_at_rs.toteng())\n",
    "\n",
    "\n",
    "f_raw = compute_fs(\n",
    "    MEDEA_interp, lowengelec_spec_at_rs, lowengphot_spec_at_rs,\n",
    "    x_vec_for_f, rate_func_eng_unclustered(rs), dt,\n",
    "    highengdep_at_rs, method='no_He', cross_check=False\n",
    ")\n",
    "fs = np.sum(f_raw, axis=0)\n",
    "print('fs   ', fs) # H ion, He ion, exc, heat, cont"
   ]
  },
  {
   "cell_type": "code",
   "execution_count": 32,
   "id": "892b8dc1-98e8-4f45-b792-a80ac387d725",
   "metadata": {},
   "outputs": [],
   "source": [
    "from main import evolve"
   ]
  },
  {
   "cell_type": "code",
   "execution_count": 151,
   "id": "ca677453-8e92-4c37-90bb-557c088f396d",
   "metadata": {
    "tags": []
   },
   "outputs": [
    {
     "name": "stdout",
     "output_type": "stream",
     "text": [
      "Loading time: 0.000 s\n",
      "Initialization time: 0.003 s\n",
      "lep E 0.0\n",
      "lee E 0.0\n",
      "x     [0.999      0.08012583 0.001     ]\n",
      "rateu 4.2993000138112975e-11\n",
      "dlnz  0.001\n",
      "hubbl 2.9673038390402664e-16\n",
      "dt    3.370e+12\n",
      "hed   [0. 0. 0. 0.]\n",
      "lep E 4.777348001673408e-06\n",
      "lee E 0.0\n",
      "x     [9.99000002e-01 8.11258278e-02 5.43939893e-14]\n",
      "rateu 4.273581446585765e-11\n",
      "dlnz  0.001\n",
      "hubbl 2.962841982615395e-16\n",
      "dt    3.375e+12\n",
      "hed   [ 2.17399974e-06  1.71442982e-06  1.05873113e-07 -1.08326370e-08]\n",
      "Main loop time: 0.092 s\n"
     ]
    }
   ],
   "source": [
    "soln = evolve(\n",
    "    DM_process='swave', mDM=photeng[i_Ein+1], sigmav=1e-20, primary='phot_delta',\n",
    "    start_rs=rs, end_rs=rs/1.001**2,\n",
    "    coarsen_factor=1, backreaction=True, \n",
    "    struct_boost=lambda rs: 1.,\n",
    "    init_cond=[x, x, 10],\n",
    "    reion_switch=False,\n",
    "    compute_fs_method='He',\n",
    "#     photoion_rate_func = [lambda rs: 0.] * 3,\n",
    "#     photoheat_rate_func = [lambda rs: 0.] * 3,\n",
    "#     xe_reion_func = lambda rs: xe,\n",
    "    use_tqdm=False, verbose=1\n",
    ")"
   ]
  },
  {
   "cell_type": "code",
   "execution_count": 156,
   "id": "2d1335c3-4538-4d5c-826f-696de32c0224",
   "metadata": {},
   "outputs": [
    {
     "name": "stderr",
     "output_type": "stream",
     "text": [
      "findfont: Font family ['serif'] not found. Falling back to DejaVu Sans.\n"
     ]
    },
    {
     "data": {
      "image/png": "[encoded data removed]",
      "text/plain": [
       "<Figure size 720x480 with 1 Axes>"
      ]
     },
     "metadata": {},
     "output_type": "display_data"
    }
   ],
   "source": [
    "plt.plot(np.abs(soln['highengphot'][1].N), color='k', label='DH')\n",
    "plt.plot(np.abs(highengphot_spec_at_rs.N * np.max(soln['highengphot'][1].N) / np.max(highengphot_spec_at_rs.N)), ls=':', color='r', label='my')\n",
    "plt.yscale('log')\n",
    "plt.legend();"
   ]
  },
  {
   "cell_type": "code",
   "execution_count": 132,
   "id": "f33eb559-4b29-4128-9bf2-bcd3faa839b7",
   "metadata": {},
   "outputs": [],
   "source": [
    "dh_fs = np.array([soln['f']['low'][k][1] + soln['f']['low'][k][1] for k in soln['f']['low']])"
   ]
  },
  {
   "cell_type": "code",
   "execution_count": 133,
   "id": "f416d271-31f9-4fdd-bc21-fd12b73295c6",
   "metadata": {},
   "outputs": [
    {
     "data": {
      "text/plain": [
       "array([4.80989826e-06, 2.09484231e-07, 4.61139089e-06, 7.43298680e-06,\n",
       "       2.05055326e-06])"
      ]
     },
     "execution_count": 133,
     "metadata": {},
     "output_type": "execute_result"
    }
   ],
   "source": [
    "dh_fs"
   ]
  },
  {
   "cell_type": "code",
   "execution_count": 190,
   "id": "b3db2b1c-5ae5-434a-a703-3f73f8ed32f1",
   "metadata": {},
   "outputs": [],
   "source": [
    "old_fs = np.array([6.65252694e-05, 1.04326618e-06, 5.65002650e-05, 3.82248125e-05,1.00113427e-05])\n",
    "old_fs = [6.65252694e-05 1.04326618e-06 5.65002650e-05 3.82248125e-05\n",
    " 1.00113427e-05]"
   ]
  },
  {
   "cell_type": "code",
   "execution_count": 192,
   "id": "ed0a8122-6f84-490f-9ee4-41b7c215a956",
   "metadata": {},
   "outputs": [
    {
     "data": {
      "image/png": "[encoded data removed]",
      "text/plain": [
       "<Figure size 720x480 with 1 Axes>"
      ]
     },
     "metadata": {},
     "output_type": "display_data"
    }
   ],
   "source": [
    "fig, ax = plt.subplots()\n",
    "ax.plot(dh_fs, color='k', label='DH')\n",
    "ax.plot(fs/(dlnz/0.001), color='r', label='my')\n",
    "ax.plot(old_fs/(dlnz/0.001), color='blue', label='old', ls=':')\n",
    "ax.set_yscale('log')\n",
    "ax.legend()\n",
    "ax.set_xticks(np.arange(5))\n",
    "ax.set_xticklabels(['H ion', 'He ion', 'exc', 'heat', 'cont']);"
   ]
  },
  {
   "cell_type": "code",
   "execution_count": 159,
   "id": "3995730e-45cc-430c-b713-a83d8f31e616",
   "metadata": {},
   "outputs": [
    {
     "data": {
      "text/plain": [
       "array([0.71942706, 1.99799192, 0.8121177 , 1.93488661, 2.03805664])"
      ]
     },
     "execution_count": 159,
     "metadata": {},
     "output_type": "execute_result"
    }
   ],
   "source": [
    "dh_fs/(fs/(dlnz/0.001))"
   ]
  },
  {
   "cell_type": "markdown",
   "id": "1257ebfd-13eb-49ca-af5c-43ac3145caa5",
   "metadata": {},
   "source": [
    "## Loop over `rs` `x` `nBs`"
   ]
  },
  {
   "cell_type": "code",
   "execution_count": 8,
   "id": "1dad04d3-b3f0-4987-9240-e59b0bd44d7d",
   "metadata": {},
   "outputs": [
    {
     "name": "stdout",
     "output_type": "stream",
     "text": [
      "Loading tf:  hep lep lee hed cmb."
     ]
    }
   ],
   "source": [
    "print('Loading tf: ', end=' ', flush=True)\n",
    "hep_tfgv = np.load(f'{data_dir}/hep_tf_rxneo.npy')\n",
    "print('hep', end=' ', flush=True)\n",
    "lep_tfgv = np.load(f'{data_dir}/lep_tf_rxneo.npy')\n",
    "print('lep', end=' ', flush=True)\n",
    "lee_tfgv = np.load(f'{data_dir}/lee_tf_rxneo.npy')\n",
    "print('lee', end=' ', flush=True)\n",
    "hed_tfgv = np.load(f'{data_dir}/hed_tf_rxneo.npy')\n",
    "print('hed', end=' ', flush=True)\n",
    "cmbloss_gv = np.load(f'{data_dir}/cmbloss_rxneo.npy')\n",
    "print('cmb', end='.', flush=True)"
   ]
  },
  {
   "cell_type": "code",
   "execution_count": 6,
   "id": "a7ef2d1f-9b73-4c96-9935-36c62597cd87",
   "metadata": {},
   "outputs": [],
   "source": [
    "use_tqdm = False"
   ]
  },
  {
   "cell_type": "code",
   "execution_count": 9,
   "id": "3d10ceca-63b7-439d-8c2e-9c8d29a8ff3e",
   "metadata": {
    "tags": []
   },
   "outputs": [
    {
     "name": "stdout",
     "output_type": "stream",
     "text": [
      "lep E 9.528120052257906e-05\n",
      "lee E 0.0\n",
      "x     [0.999     0.0810447 0.001    ]\n",
      "dlnz  0.009950330853168092\n",
      "hubbl 2.9673038390402664e-16\n",
      "dt    3.353e+13\n",
      "hed   [ 4.25650094e-05  3.35246991e-05  1.16976065e-06 -2.07775335e-07]\n",
      "[6.65252694e-05 1.04326618e-06 5.65002650e-05 3.82248125e-05\n",
      " 1.00113427e-05]\n"
     ]
    },
    {
     "ename": "RuntimeError",
     "evalue": "",
     "output_type": "error",
     "traceback": [
      "\u001b[0;31m---------------------------------------------------------------------------\u001b[0m",
      "\u001b[0;31mRuntimeError\u001b[0m                              Traceback (most recent call last)",
      "\u001b[0;32m<ipython-input-9-ee92bcd3030d>\u001b[0m in \u001b[0;36m<module>\u001b[0;34m\u001b[0m\n\u001b[1;32m    108\u001b[0m                 \u001b[0mprint\u001b[0m\u001b[0;34m(\u001b[0m\u001b[0mf_raw\u001b[0m\u001b[0;34m)\u001b[0m\u001b[0;34m\u001b[0m\u001b[0;34m\u001b[0m\u001b[0m\n\u001b[1;32m    109\u001b[0m \u001b[0;34m\u001b[0m\u001b[0m\n\u001b[0;32m--> 110\u001b[0;31m                 \u001b[0;32mraise\u001b[0m \u001b[0mRuntimeError\u001b[0m\u001b[0;34m\u001b[0m\u001b[0;34m\u001b[0m\u001b[0m\n\u001b[0m\u001b[1;32m    111\u001b[0m \u001b[0;34m\u001b[0m\u001b[0m\n\u001b[1;32m    112\u001b[0m                 \u001b[0;31m#==============================\u001b[0m\u001b[0;34m\u001b[0m\u001b[0;34m\u001b[0m\u001b[0;34m\u001b[0m\u001b[0m\n",
      "\u001b[0;31mRuntimeError\u001b[0m: "
     ]
    }
   ],
   "source": [
    "# tfgv = np.zeros_like(hep_tfgv) # in: elec/phot, out: phot\n",
    "# depgv = np.zeros(\n",
    "#     hed_tfgv.shape[:-1] + (len(abscs['dep_c']),)\n",
    "# ) # channels: {H ionization, He ionization, excitation, heat, continuum, xray}\n",
    "\n",
    "dlnz = abscs['dlnz']\n",
    "MEDEA_interp = my_make_interpolator(prefix=MEDEA_dir)\n",
    "\n",
    "n_run = -1\n",
    "\n",
    "if use_tqdm:\n",
    "    pbar = tqdm( total = len(abscs['rs'])*len(abscs['x'])*len(abscs['nBs']) )\n",
    "\n",
    "for i_rs, rs in enumerate(abscs['rs']):\n",
    "    \n",
    "    if i_rs != 8:# TMP TMP TMP TMP TMP TMP TMP TMP TMP TMP TMP TMP TMP TMP TMP TMP TMP TMP TMP TMP TMP TMP TMP TMP TMP TMP TMP TMP TMP TMP TMP TMP\n",
    "        continue\n",
    "    \n",
    "    dt = dlnz / phys.hubble(rs)\n",
    "            \n",
    "    #==============================\n",
    "    # Add cmbloss to highengphot\n",
    "    cmb_un = spectools.discretize(abscs['photE'], phys.CMB_spec, phys.TCMB(rs))\n",
    "    cmb_un_E = cmb_un.toteng()\n",
    "    \n",
    "    for i_x, x in enumerate(abscs['x']):\n",
    "        \n",
    "        if i_x != 2:# TMP TMP TMP TMP TMP TMP TMP TMP TMP TMP TMP TMP TMP TMP TMP TMP TMP TMP TMP TMP TMP TMP TMP TMP TMP TMP TMP TMP TMP TMP TMP TMP\n",
    "            continue\n",
    "        for i_nBs, nBs in enumerate(abscs['nBs']):\n",
    "            \n",
    "            if i_nBs != 6:# TMP TMP TMP TMP TMP TMP TMP TMP TMP TMP TMP TMP TMP TMP TMP TMP TMP TMP TMP TMP TMP TMP TMP TMP TMP TMP TMP TMP TMP TMP TMP TMP\n",
    "                continue\n",
    "            \n",
    "            for i in range(len(inj_abscs)):\n",
    "                cmb_E = cmbloss_gv[i_rs, i_x, i_nBs][i] * dt\n",
    "                hep_tfgv[i_rs, i_x, i_nBs][i] += (-cmb_E/cmb_un_E) * cmb_un.N\n",
    "\n",
    "            #==============================\n",
    "            # Add lowengphot diagonal\n",
    "            if nBs == 0: # lowengphot is 0 when nBs is 0\n",
    "                raise NotImplementedError\n",
    "            if tf_type == 'phot':\n",
    "                for i in range(len(inj_abscs)):\n",
    "                    if lep_tfgv[i_rs, i_x, i_nBs][i][i] > 1e-40:\n",
    "                        break\n",
    "                    lep_tfgv[i_rs, i_x, i_nBs][i][i] = 1\n",
    "            \n",
    "            for i_injE, injE in enumerate(inj_abscs):\n",
    "                \n",
    "                if i_injE != 300:# TMP TMP TMP TMP TMP TMP TMP TMP TMP TMP TMP TMP TMP TMP TMP TMP TMP TMP TMP TMP TMP TMP TMP TMP TMP TMP TMP TMP TMP TMP TMP TMP\n",
    "                    continue\n",
    "                \n",
    "                assert n_run <= stop_after_n\n",
    "                n_run += 1\n",
    "\n",
    "                #==============================\n",
    "                # Injection\n",
    "                # inject one photon at i_injE\n",
    "                timer = time.time()\n",
    "                \n",
    "                hep_spec_N = hep_tfgv[i_rs, i_x, i_nBs, i_injE]\n",
    "                lep_spec_N = lep_tfgv[i_rs, i_x, i_nBs, i_injE]\n",
    "                lee_spec_N = lee_tfgv[i_rs, i_x, i_nBs, i_injE]\n",
    "                hed_arr    = hed_tfgv[i_rs, i_x, i_nBs, i_injE]\n",
    "\n",
    "                lowengelec_spec_at_rs = Spectrum(abscs['elecEk'], lee_spec_N, spec_type='N')\n",
    "                lowengelec_spec_at_rs.rs = rs\n",
    "\n",
    "                lowengphot_spec_at_rs = Spectrum(abscs['photE'], lep_spec_N, spec_type='N')\n",
    "                lowengphot_spec_at_rs.rs = rs\n",
    "\n",
    "                highengdep_at_rs = hed_arr\n",
    "\n",
    "                #==============================\n",
    "                # Compute f's\n",
    "                x_vec_for_f = np.array( [1-x, phys.chi*(1-x), x] ) # [HI, HeI, HeII]/nH\n",
    "                nBs_ref = 1\n",
    "                dE_dVdt_inj = injE * phys.nB * nBs_ref * rs**3 / dt # [eV/cm^3 s]\n",
    "                # in DH.main: (dN_inj/dB) / (dE_inj  /dVdt)\n",
    "                # here:       (dN_inj   ) / (dE_injdB/dVdt)\n",
    "                \n",
    "                print('lep E', lowengelec_spec_at_rs.toteng()/np.dot(inj_abscs, hep_spec_N))\n",
    "                print('lee E', lowengphot_spec_at_rs.toteng()/np.dot(inj_abscs, hep_spec_N))\n",
    "                print('x    ', x_vec_for_f)\n",
    "                #print('rateu', rate_func_eng_unclustered(rs))\n",
    "                print('dlnz ', dlnz)\n",
    "                print('hubbl', phys.hubble(rs))\n",
    "                print('dt   ', f'{dt:.3e}')\n",
    "                print('hed  ', highengdep_at_rs*dt/np.dot(inj_abscs, hep_spec_N))\n",
    "                \n",
    "                f_low, f_high = my_compute_fs(\n",
    "                    MEDEA_interp=MEDEA_interp,\n",
    "                    rs=rs,\n",
    "                    x=x_vec_for_f,\n",
    "                    elec_spec=lowengelec_spec_at_rs,\n",
    "                    phot_spec=lowengphot_spec_at_rs,\n",
    "                    dE_dVdt_inj=dE_dVdt_inj,\n",
    "                    dt=dt,\n",
    "                    highengdep=highengdep_at_rs,\n",
    "                    cmbloss=0, # turned off in darkhistory main as well\n",
    "                    method='no_He',\n",
    "                    cross_check=False,\n",
    "                    ion_old=False\n",
    "                )\n",
    "                f_raw = f_low + f_high\n",
    "                \n",
    "                print(f_raw)\n",
    "                \n",
    "                raise RuntimeError\n",
    "\n",
    "                #==============================\n",
    "                # Compute tf & f values\n",
    "                lep_prop_spec_N = lep_spec_N * (abscs['photE'] < 10.2)\n",
    "                f_lep_prop = np.dot(abscs['photE'], lep_prop_spec_N) / injE\n",
    "                phot_spec_N = hep_spec_N + lep_prop_spec_N\n",
    "                f_prop = np.dot(abscs['photE'], phot_spec_N) / injE\n",
    "\n",
    "                f_dep = f_raw\n",
    "                f_dep[4] -= f_lep_prop # adjust for the propagating lowengphot\n",
    "                f_tot = f_prop + np.sum(f_dep)\n",
    "\n",
    "                #==============================\n",
    "                # Fix energy conservation (known issues)\n",
    "                if tf_type == 'phot':\n",
    "                    if i_injE == 153: # issue at around 13.6 eV. Adjusting H_ion.\n",
    "                        f_dep[0] += 1 - f_tot\n",
    "                    if i_injE in range(224, 228): # ??? issue. Adjusting hep propagating bin.\n",
    "                        phot_spec_N[i_injE] += 1 - f_tot\n",
    "\n",
    "                f_prop = np.dot(abscs['photE'], phot_spec_N) / injE\n",
    "                f_tot = f_prop + np.sum(f_dep)\n",
    "\n",
    "                #==============================\n",
    "                # Energy conservation\n",
    "                f_dep_str = ' '.join([f'{v:.3e}' for v in f_dep])\n",
    "                print_str = f'{n_run} | {i_rs} {i_x} {i_nBs} {i_injE} | f_prop={f_prop:.6f} f_dep={f_dep_str} f_tot={f_tot:.6f}'\n",
    "                if np.abs(f_tot - 1.) > 1e-2:\n",
    "                    print_str += ' | Energy error > 1%'\n",
    "                if verbose >= 1 or np.abs(f_tot - 1.) > 1e-2:\n",
    "                    print(print_str, flush=True)\n",
    "                \n",
    "                phot_spec_N[i_injE] += 1 - f_tot # gives all extra energy to propagating photons\n",
    "                \n",
    "                #==============================\n",
    "                # Dependent variables (Xray)\n",
    "                if include_f_xray:\n",
    "                    i_xray_fm = np.searchsorted(abscs['photE'], xray_eng_range[0])\n",
    "                    i_xray_to = np.searchsorted(abscs['photE'], xray_eng_range[1])\n",
    "                    f_xray = np.dot(abscs['photE'][i_xray_fm:i_xray_to], phot_spec_N[i_xray_fm:i_xray_to]) / injE\n",
    "                    if i_xray_fm <= i_injE and i_injE < i_xray_to:\n",
    "                        f_xray -= phot_spec_N[i_injE] # ignore diagonal for now # NEED TO EXTRACT PROP\n",
    "                    f_dep = np.append(f_dep, f_xray)\n",
    "\n",
    "                #==============================\n",
    "                # Populate transfer functions\n",
    "                tfgv[i_rs, i_x, i_nBs, i_injE] = phot_spec_N\n",
    "                depgv[i_rs, i_x, i_nBs, i_injE] = f_dep\n",
    "            \n",
    "            if use_tqdm:\n",
    "                pbar.update()"
   ]
  },
  {
   "cell_type": "code",
   "execution_count": 189,
   "id": "695c3d17-8337-4da3-a576-41e4bc3494aa",
   "metadata": {},
   "outputs": [
    {
     "data": {
      "text/plain": [
       "[<matplotlib.lines.Line2D at 0x7f7d543b9280>]"
      ]
     },
     "execution_count": 189,
     "metadata": {},
     "output_type": "execute_result"
    },
    {
     "data": {
      "image/png": "[encoded data removed]",
      "text/plain": [
       "<Figure size 720x480 with 1 Axes>"
      ]
     },
     "metadata": {},
     "output_type": "display_data"
    }
   ],
   "source": [
    "plt.plot(np.diag(lep_tfgv[i_rs, i_x, i_nBs]))"
   ]
  },
  {
   "cell_type": "markdown",
   "id": "856dd96c-aa72-4529-8b55-c1dfa1870c50",
   "metadata": {},
   "source": [
    "## Save"
   ]
  },
  {
   "cell_type": "code",
   "execution_count": 8,
   "id": "17bd7daa-e9bb-4afb-a6a0-6725fb1f0e5d",
   "metadata": {},
   "outputs": [],
   "source": [
    "np.save(f'{save_dir}/{tf_type}_tfgv.npy', tfgv)\n",
    "np.save(f'{save_dir}/{tf_type}_depgv.npy', depgv)"
   ]
  },
  {
   "cell_type": "code",
   "execution_count": null,
   "id": "fed3ddf4-4eee-4683-b477-c3a3907b2f22",
   "metadata": {},
   "outputs": [],
   "source": []
  }
 ],
 "metadata": {
  "kernelspec": {
   "display_name": "Python 3",
   "language": "python",
   "name": "python3"
  },
  "language_info": {
   "codemirror_mode": {
    "name": "ipython",
    "version": 3
   },
   "file_extension": ".py",
   "mimetype": "text/x-python",
   "name": "python",
   "nbconvert_exporter": "python",
   "pygments_lexer": "ipython3",
   "version": "3.8.8"
  }
 },
 "nbformat": 4,
 "nbformat_minor": 5
}
