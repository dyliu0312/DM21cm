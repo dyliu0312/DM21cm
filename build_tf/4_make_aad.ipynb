{
 "cells": [
  {
   "cell_type": "code",
   "execution_count": 4,
   "id": "a75495fe-580a-45f8-a7cc-26e9c261cf66",
   "metadata": {},
   "outputs": [],
   "source": [
    "%reload_ext autoreload\n",
    "%autoreload 2\n",
    "\n",
    "import os\n",
    "import sys\n",
    "\n",
    "import numpy as np\n",
    "import h5py\n",
    "\n",
    "from utils import load_dict\n",
    "\n",
    "%matplotlib inline\n",
    "import matplotlib as mpl\n",
    "import matplotlib.pyplot as plt\n",
    "mpl.rc_file('../matplotlibrc')"
   ]
  },
  {
   "cell_type": "markdown",
   "id": "2823178a-80ca-458d-8609-d4dd5651b5ec",
   "metadata": {},
   "source": [
    "# Electrons transfer functions"
   ]
  },
  {
   "cell_type": "markdown",
   "id": "44a3baf9-54bd-425c-857d-c46f4502fb61",
   "metadata": {},
   "source": [
    "## 1. Energy deposition transfer function\n",
    "- `tfgv` is f values ($E\\rightarrow E$). To make it a $N\\rightarrow E$ transfer function, need to first multiply by the energy abscissa.\n",
    "- `tfgv` is ~ (rs Ein x out)."
   ]
  },
  {
   "cell_type": "code",
   "execution_count": null,
   "id": "d92fbcfa-d40c-4ef7-9b73-73dacdb96041",
   "metadata": {},
   "outputs": [],
   "source": [
    "data_dir = os.environ['DM21CM_DATA_DIR'] + '/tf/230408'"
   ]
  },
  {
   "cell_type": "code",
   "execution_count": null,
   "id": "ad6b6e15-e092-4adc-a65e-21ffca876cc1",
   "metadata": {},
   "outputs": [],
   "source": [
    "os.listdir(data_dir+'/elec')"
   ]
  },
  {
   "cell_type": "code",
   "execution_count": null,
   "id": "1db2107d-c7f1-4c5b-b4c2-ee14f70c8c1c",
   "metadata": {},
   "outputs": [],
   "source": [
    "abscs_in_tf = {\n",
    "    'rs' : abscs['rs'],\n",
    "    'Ein' : abscs['elecEk'],\n",
    "    'x' : abscs['x'],\n",
    "    'out' : abscs['dep_c']\n",
    "}"
   ]
  },
  {
   "cell_type": "code",
   "execution_count": null,
   "id": "fa4bb2fe-83d8-465e-a42c-7e413be54de6",
   "metadata": {},
   "outputs": [],
   "source": [
    "data = np.load(data_dir+'/elec/depgv_rexo.npy')\n",
    "print(data.shape)"
   ]
  },
  {
   "cell_type": "code",
   "execution_count": null,
   "id": "b44eef4b-cfda-4c3c-82fe-6249351a63bc",
   "metadata": {},
   "outputs": [],
   "source": [
    "# multiply in energy\n",
    "eng = abscs['Ein']\n",
    "data_NEtf = np.einsum('rexo,e->rexo', data, eng)\n",
    "print(data_NEtf.shape)"
   ]
  },
  {
   "cell_type": "code",
   "execution_count": null,
   "id": "948261ce-ab2a-402f-a115-eea2a5e399d9",
   "metadata": {},
   "outputs": [],
   "source": [
    "pickle.dump((abscs, data_NEtf), open(data_dir + '/elec_dep_dlnz4.879E-2_rexo_ad.p', 'wb'))"
   ]
  },
  {
   "cell_type": "markdown",
   "id": "f210fbbd-6d90-4a31-a290-291dbab786ae",
   "metadata": {},
   "source": [
    "## 2. Electron number transfer function\n",
    "- `tfgv` is already in $N\\rightarrow N$.\n",
    "- `tfgv` is ~ (rs Ein x out)."
   ]
  },
  {
   "cell_type": "code",
   "execution_count": null,
   "id": "4b93fc14-277b-4354-8b46-bfcf0c1fbefd",
   "metadata": {},
   "outputs": [],
   "source": [
    "abscs = {\n",
    "    'rs' : abscs_nBs['rs'],\n",
    "    'Ein' : abscs_nBs['elecEk'],\n",
    "    'x' : abscs_nBs['x'],\n",
    "    'out' : abscs_nBs['photE']\n",
    "}"
   ]
  },
  {
   "cell_type": "code",
   "execution_count": null,
   "id": "e6fdd607-b4e9-4a36-9e7a-627ce40ad332",
   "metadata": {},
   "outputs": [],
   "source": [
    "data = np.load(data_dir + '/elec_phot_tfgv_rexo.npy')\n",
    "print(data.shape)"
   ]
  },
  {
   "cell_type": "code",
   "execution_count": null,
   "id": "871a7698-fa6c-424b-afb3-a115ffcaf39e",
   "metadata": {},
   "outputs": [],
   "source": [
    "pickle.dump((abscs, data), open(data_dir + '/elec_tf_dlnz4.879E-2_rexo_ad.p', 'wb'))"
   ]
  },
  {
   "cell_type": "markdown",
   "id": "5fd3e582-c675-4ecd-8b77-e94013f8c002",
   "metadata": {},
   "source": [
    "# Photons transfer functions"
   ]
  },
  {
   "cell_type": "code",
   "execution_count": 6,
   "id": "9085343b-9970-45f6-b92b-1b57c129f354",
   "metadata": {},
   "outputs": [
    {
     "data": {
      "text/plain": [
       "['lep_tf_rxneo.npy',\n",
       " 'lowerbound_rxneo.npy',\n",
       " 'phot_depgv.npy',\n",
       " 'hed_tf_rxneo.npy',\n",
       " 'cmbloss_rxneo.npy',\n",
       " 'phot_tfgv.npy',\n",
       " 'hep_tf_rxneo.npy',\n",
       " '.ipynb_checkpoints',\n",
       " 'ionhist_output',\n",
       " 'lee_tf_rxneo.npy']"
      ]
     },
     "execution_count": 6,
     "metadata": {},
     "output_type": "execute_result"
    }
   ],
   "source": [
    "run_name = '230629'\n",
    "\n",
    "data_dir = os.environ['DM21CM_DATA_DIR'] + f'/tf/{run_name}'\n",
    "save_dir = os.environ['DM21CM_DATA_DIR'] + f'/tf/{run_name}'\n",
    "os.listdir(data_dir+'/phot')"
   ]
  },
  {
   "cell_type": "code",
   "execution_count": 5,
   "id": "adf469c6-6e9e-4113-80d1-e35a42fe48d9",
   "metadata": {},
   "outputs": [],
   "source": [
    "abscs = load_dict(f\"../data/abscissas/abscs_{run_name}.h5\")"
   ]
  },
  {
   "cell_type": "markdown",
   "id": "9aa394d0-a5b6-45e0-81af-7be30f1d2098",
   "metadata": {},
   "source": [
    "## 1. Photon number transfer function\n",
    "- `tfgv` is already in $N\\rightarrow N$.\n",
    "- `tfgv` is ~ (nBs x rs Ein out). Transpose to make it ~ (rs Ein nBs x out)."
   ]
  },
  {
   "cell_type": "markdown",
   "id": "77010a56-8a83-4abf-9bb0-1fb86b6adef4",
   "metadata": {},
   "source": [
    "### 1.1 phot_phot"
   ]
  },
  {
   "cell_type": "code",
   "execution_count": 7,
   "id": "82daf7b1-5e1d-46ee-95a2-14b86ab16df5",
   "metadata": {},
   "outputs": [
    {
     "name": "stdout",
     "output_type": "stream",
     "text": [
      "(10, 10, 10, 500, 500) -> (10, 500, 10, 10, 500)\n"
     ]
    }
   ],
   "source": [
    "data = np.load(data_dir + '/phot/phot_tfgv.npy')\n",
    "data_permuted = np.einsum('nxreo -> renxo', data)\n",
    "print(data.shape, '->', data_permuted.shape)"
   ]
  },
  {
   "cell_type": "code",
   "execution_count": 8,
   "id": "f70e5453-a9a6-4a25-ac3d-e5a89421b203",
   "metadata": {},
   "outputs": [],
   "source": [
    "with h5py.File(f\"{save_dir}/phot/phot_phot.h5\", 'w') as hf:\n",
    "    hf.create_dataset('axes', data=np.array(['rs', 'Ein', 'nBs', 'x', 'out'], dtype=h5py.string_dtype()))\n",
    "    hf_abscs = hf.create_group('abscs')\n",
    "    hf_abscs.create_dataset('rs',  data=abscs['rs'][:])\n",
    "    hf_abscs.create_dataset('Ein', data=abscs['photE'][:])\n",
    "    hf_abscs.create_dataset('nBs', data=abscs['nBs'][:])\n",
    "    hf_abscs.create_dataset('x',   data=abscs['x'][:])\n",
    "    hf_abscs.create_dataset('out', data=abscs['photE'][:])\n",
    "    hf.create_dataset('data', data=data_permuted)"
   ]
  },
  {
   "cell_type": "markdown",
   "id": "1355696f-8f7b-4455-830f-51204fc107a6",
   "metadata": {},
   "source": [
    "### 1.2 phot_prop"
   ]
  },
  {
   "cell_type": "code",
   "execution_count": 9,
   "id": "5d0059ff-bd1e-4ec1-891d-4a9aa7bb8d62",
   "metadata": {},
   "outputs": [
    {
     "name": "stdout",
     "output_type": "stream",
     "text": [
      "(10, 10, 10, 500, 500) -> (10, 500, 10, 10, 500)\n"
     ]
    }
   ],
   "source": [
    "data = np.load(data_dir + '/phot/phot_tfgv.npy')\n",
    "data_prop = np.zeros_like(data)\n",
    "for i in range(10):\n",
    "    for j in range(10):\n",
    "        for k in range(10):\n",
    "            np.fill_diagonal(data_prop[i,j,k], np.diagonal(data[i,j,k]))\n",
    "data_prop_permuted = np.einsum('nxreo -> renxo', data_prop)\n",
    "print(data.shape, '->', data_prop_permuted.shape)"
   ]
  },
  {
   "cell_type": "code",
   "execution_count": 10,
   "id": "95eafd8f-840a-4201-99db-6c0036397cd2",
   "metadata": {},
   "outputs": [],
   "source": [
    "with h5py.File(f\"{save_dir}/phot/phot_prop.h5\", 'w') as hf:\n",
    "    hf.create_dataset('axes', data=np.array(['rs', 'Ein', 'nBs', 'x', 'out'], dtype=h5py.string_dtype()))\n",
    "    hf_abscs = hf.create_group('abscs')\n",
    "    hf_abscs.create_dataset('rs',  data=abscs['rs'][:])\n",
    "    hf_abscs.create_dataset('Ein', data=abscs['photE'][:])\n",
    "    hf_abscs.create_dataset('nBs', data=abscs['nBs'][:])\n",
    "    hf_abscs.create_dataset('x',   data=abscs['x'][:])\n",
    "    hf_abscs.create_dataset('out', data=abscs['photE'][:])\n",
    "    hf.create_dataset('data', data=data_prop_permuted)"
   ]
  },
  {
   "cell_type": "markdown",
   "id": "6116c2ff-0d5f-492e-a153-a5704a6ca58f",
   "metadata": {},
   "source": [
    "### 1.3 phot_prop_diag"
   ]
  },
  {
   "cell_type": "code",
   "execution_count": 11,
   "id": "b3f12af0-ecff-41d0-a3e6-eaa003b84b73",
   "metadata": {},
   "outputs": [
    {
     "name": "stdout",
     "output_type": "stream",
     "text": [
      "(10, 10, 10, 500)\n"
     ]
    }
   ],
   "source": [
    "data_prop_diag = np.zeros((10, 10, 10, 500))\n",
    "for i in range(10):\n",
    "    for j in range(10):\n",
    "        for k in range(10):\n",
    "            data_prop_diag[i,j,k] = np.diagonal(data[i,j,k])\n",
    "data_prop_diag_permuted = np.einsum('nxro -> rnxo', data_prop_diag) # o for both input and output\n",
    "print(data_prop_diag_permuted.shape)"
   ]
  },
  {
   "cell_type": "code",
   "execution_count": 12,
   "id": "c890dd86-c7e7-411b-b058-3621874621e5",
   "metadata": {},
   "outputs": [],
   "source": [
    "with h5py.File(f\"{save_dir}/phot/phot_prop_diag.h5\", 'w') as hf:\n",
    "    hf.create_dataset('axes', data=np.array(['rs', 'nBs', 'x', 'out'], dtype=h5py.string_dtype()))\n",
    "    hf_abscs = hf.create_group('abscs')\n",
    "    hf_abscs.create_dataset('rs',  data=abscs['rs'][:])\n",
    "    hf_abscs.create_dataset('nBs', data=abscs['nBs'][:])\n",
    "    hf_abscs.create_dataset('x',   data=abscs['x'][:])\n",
    "    hf_abscs.create_dataset('out', data=abscs['photE'][:])\n",
    "    hf.create_dataset('data', data=data_prop_diag_permuted)"
   ]
  },
  {
   "cell_type": "markdown",
   "id": "4962b5e9-77a3-44e5-b20c-f43fd212acf1",
   "metadata": {},
   "source": [
    "### 1.4 phot_scat"
   ]
  },
  {
   "cell_type": "code",
   "execution_count": 13,
   "id": "a972df40-ce6e-4f47-97ce-8d89519a5bdf",
   "metadata": {},
   "outputs": [
    {
     "name": "stdout",
     "output_type": "stream",
     "text": [
      "(10, 10, 10, 500, 500) -> (10, 500, 10, 10, 500)\n"
     ]
    }
   ],
   "source": [
    "data_scat = data - data_prop\n",
    "data_scat_permuted = np.einsum('nxreo -> renxo', data_scat)\n",
    "print(data.shape, '->', data_scat_permuted.shape)"
   ]
  },
  {
   "cell_type": "code",
   "execution_count": 14,
   "id": "9a22071d-3b90-4726-b060-8c522055ab9e",
   "metadata": {},
   "outputs": [],
   "source": [
    "with h5py.File(f\"{save_dir}/phot/phot_scat.h5\", 'w') as hf:\n",
    "    hf.create_dataset('axes', data=np.array(['rs', 'Ein', 'nBs', 'x', 'out'], dtype=h5py.string_dtype()))\n",
    "    hf_abscs = hf.create_group('abscs')\n",
    "    hf_abscs.create_dataset('rs',  data=abscs['rs'][:])\n",
    "    hf_abscs.create_dataset('Ein', data=abscs['photE'][:])\n",
    "    hf_abscs.create_dataset('nBs', data=abscs['nBs'][:])\n",
    "    hf_abscs.create_dataset('x',   data=abscs['x'][:])\n",
    "    hf_abscs.create_dataset('out', data=abscs['photE'][:])\n",
    "    hf.create_dataset('data', data=data_scat_permuted)"
   ]
  },
  {
   "cell_type": "code",
   "execution_count": 15,
   "id": "6cbd5d1d-5cef-4c79-a7a8-9f47dc9e2191",
   "metadata": {},
   "outputs": [],
   "source": [
    "del data_prop, data_scat, data"
   ]
  },
  {
   "cell_type": "markdown",
   "id": "25585901-5fbc-4b9c-83ba-e2bb7c767959",
   "metadata": {},
   "source": [
    "## 2. Energy deposition transfer function\n",
    "- `tfgv` is f values ($E\\rightarrow E$). To make it a $N\\rightarrow E$ transfer function, need to first multiply by the energy abscissa.\n",
    "- `tfgv` is ~ (nBs x rs Ein out). Transpose to make it ~ (rs Ein nBs x out)."
   ]
  },
  {
   "cell_type": "markdown",
   "id": "dfb15988-3d5b-4ff7-abce-a3e106845787",
   "metadata": {},
   "source": [
    "### 2.1 phot_dep"
   ]
  },
  {
   "cell_type": "code",
   "execution_count": 25,
   "id": "e1b6b8c1-35ab-4a50-90da-e1b99969f9d2",
   "metadata": {},
   "outputs": [
    {
     "name": "stdout",
     "output_type": "stream",
     "text": [
      "(10, 10, 10, 500, 6) -> (10, 500, 10, 10, 6)\n"
     ]
    }
   ],
   "source": [
    "data = np.load(data_dir + '/phot/phot_depgv.npy')\n",
    "data_permuted = np.einsum('nxreo -> renxo', data)\n",
    "print(data.shape, '->', data_permuted.shape)"
   ]
  },
  {
   "cell_type": "code",
   "execution_count": 26,
   "id": "ba5e6aad-bfa5-4449-bff2-3d3d8da3f4d7",
   "metadata": {},
   "outputs": [],
   "source": [
    "# multiply in energy\n",
    "data_NEtf = np.einsum('renxo,e->renxo', data_permuted, abscs['photE'][:])"
   ]
  },
  {
   "cell_type": "code",
   "execution_count": 27,
   "id": "45512b37-dd2a-459f-89ae-a05c27873d1c",
   "metadata": {},
   "outputs": [
    {
     "data": {
      "image/png": "[encoded data removed]",
      "text/plain": [
       "<Figure size 720x480 with 1 Axes>"
      ]
     },
     "metadata": {},
     "output_type": "display_data"
    }
   ],
   "source": [
    "plt.plot(data_NEtf[3,:,4,5,-1])\n",
    "plt.yscale('log')"
   ]
  },
  {
   "cell_type": "code",
   "execution_count": 28,
   "id": "fd196bf5-53bb-409c-8d4f-90e09d17f01e",
   "metadata": {},
   "outputs": [],
   "source": [
    "with h5py.File(f\"{save_dir}/phot/phot_dep.h5\", 'w') as hf:\n",
    "    hf.create_dataset('axes', data=np.array(['rs', 'Ein', 'nBs', 'x', 'out'], dtype=h5py.string_dtype()))\n",
    "    hf_abscs = hf.create_group('abscs')\n",
    "    hf_abscs.create_dataset('rs',  data=abscs['rs'][:])\n",
    "    hf_abscs.create_dataset('Ein', data=abscs['photE'][:])\n",
    "    hf_abscs.create_dataset('nBs', data=abscs['nBs'][:])\n",
    "    hf_abscs.create_dataset('x',   data=abscs['x'][:])\n",
    "    hf_abscs.create_dataset('out', data=abscs['dep_c'][:])\n",
    "    hf.create_dataset('data', data=data_NEtf)"
   ]
  },
  {
   "cell_type": "markdown",
   "id": "1424e639-0a45-4798-b58c-5275aa3a553b",
   "metadata": {},
   "source": [
    "### 2.2 phot_dep adjusting xray band energy"
   ]
  },
  {
   "cell_type": "code",
   "execution_count": 29,
   "id": "ff893be8-81fd-483a-b184-51240073734a",
   "metadata": {},
   "outputs": [],
   "source": [
    "with h5py.File(f\"{save_dir}/phot/phot_scat.h5\", 'r') as hf:\n",
    "    tf = hf['data'][:]"
   ]
  },
  {
   "cell_type": "code",
   "execution_count": 30,
   "id": "e8baa186-71bd-45f5-890f-17f4329dfff5",
   "metadata": {},
   "outputs": [
    {
     "name": "stdout",
     "output_type": "stream",
     "text": [
      "179 239\n"
     ]
    }
   ],
   "source": [
    "xray_eng_range = (1e2, 1e4)\n",
    "i_xray_low = np.searchsorted(abscs['photE'], xray_eng_range[0])\n",
    "i_xray_high = np.searchsorted(abscs['photE'], xray_eng_range[1])\n",
    "print(i_xray_low, i_xray_high)"
   ]
  },
  {
   "cell_type": "code",
   "execution_count": 31,
   "id": "1bbd48b9-3275-40d8-8903-424cd4a92e39",
   "metadata": {},
   "outputs": [
    {
     "name": "stdout",
     "output_type": "stream",
     "text": [
      "(10, 500, 10, 10)\n"
     ]
    }
   ],
   "source": [
    "eng_tf = np.dot(tf[..., i_xray_low:i_xray_high], abscs['photE'][i_xray_low:i_xray_high])\n",
    "print(eng_tf.shape)"
   ]
  },
  {
   "cell_type": "code",
   "execution_count": 32,
   "id": "8043e570-a96e-47ed-8fc2-1ebd35edf793",
   "metadata": {},
   "outputs": [],
   "source": [
    "data_NEtf_withx = np.zeros((10, 500, 10, 10, 6))\n",
    "data_NEtf_withx[...,:5] = data_NEtf[...,:5]\n",
    "data_NEtf_withx[..., 5] = eng_tf"
   ]
  },
  {
   "cell_type": "code",
   "execution_count": 34,
   "id": "3fef79a8-4a4a-46e2-a419-fbadc6bd1906",
   "metadata": {
    "collapsed": true,
    "jupyter": {
     "outputs_hidden": true
    },
    "tags": []
   },
   "outputs": [
    {
     "data": {
      "image/png": "[encoded data removed]",
      "text/plain": [
       "<Figure size 720x480 with 1 Axes>"
      ]
     },
     "metadata": {},
     "output_type": "display_data"
    }
   ],
   "source": [
    "plt.plot(data_NEtf_withx[3,:,4,5,-1])\n",
    "plt.plot(data_NEtf[3,:,4,5,-1])\n",
    "plt.yscale('log')"
   ]
  },
  {
   "cell_type": "code",
   "execution_count": 35,
   "id": "670a57e2-3a50-452f-b52d-fe6829d93647",
   "metadata": {},
   "outputs": [],
   "source": [
    "with h5py.File(f\"{save_dir}/phot/phot_dep.h5\", 'w') as hf:\n",
    "    hf.create_dataset('axes', data=np.array(['rs', 'Ein', 'nBs', 'x', 'out'], dtype=h5py.string_dtype()))\n",
    "    hf_abscs = hf.create_group('abscs')\n",
    "    hf_abscs.create_dataset('rs',  data=abscs['rs'][:])\n",
    "    hf_abscs.create_dataset('Ein', data=abscs['photE'][:])\n",
    "    hf_abscs.create_dataset('nBs', data=abscs['nBs'][:])\n",
    "    hf_abscs.create_dataset('x',   data=abscs['x'][:])\n",
    "    hf_abscs.create_dataset('out', data=abscs['dep_c'][:])\n",
    "    hf.create_dataset('data', data=data_NEtf_withx)"
   ]
  },
  {
   "cell_type": "code",
   "execution_count": 36,
   "id": "10f87912-5399-4d10-9584-174ca0eb11f0",
   "metadata": {},
   "outputs": [
    {
     "data": {
      "image/png": "[encoded data removed]",
      "text/plain": [
       "<Figure size 720x480 with 1 Axes>"
      ]
     },
     "metadata": {},
     "output_type": "display_data"
    }
   ],
   "source": [
    "# check f values\n",
    "f_tf = eng_tf / abscs['photE'][:][None, :, None, None]\n",
    "plt.hist(f_tf.flatten(), bins=50, range=(0,0.001))\n",
    "plt.yscale('log');"
   ]
  },
  {
   "cell_type": "markdown",
   "id": "5c19dd03-53cf-4545-9e6a-af274b5084c3",
   "metadata": {},
   "source": [
    "## A. Compound to fixed power (48)"
   ]
  },
  {
   "cell_type": "code",
   "execution_count": 17,
   "id": "2057c2f3-efa8-407a-9f2c-fb9072066878",
   "metadata": {},
   "outputs": [],
   "source": [
    "from jax import jit\n",
    "import jax.numpy as jnp\n",
    "\n",
    "from tqdm import tqdm"
   ]
  },
  {
   "cell_type": "code",
   "execution_count": 18,
   "id": "f54eca77-ea69-4ab8-9bb9-5889f6c32acb",
   "metadata": {},
   "outputs": [],
   "source": [
    "@jit\n",
    "def compound_48(tf, dep):\n",
    "    \n",
    "    dot = jnp.dot\n",
    "    \n",
    "    s2 = jnp.identity(tf.shape[0]) + tf\n",
    "    p2 = dot(tf, tf)\n",
    "    s4 = s2 + dot(p2, s2)\n",
    "    p4 = dot(p2, p2)\n",
    "    s8 = s4 + dot(p4, s4)\n",
    "    p8 = dot(p4, p4)\n",
    "    s16 = s8 + dot(p8, s8)\n",
    "    p16 = dot(p8, p8)\n",
    "    s32 = s16 + dot(p16, s16)\n",
    "    p32 = dot(p16, p16)\n",
    "    \n",
    "    p48 = dot(p32, p16)\n",
    "    s48 = s32 + dot(p32, s16)\n",
    "    #p50 = dot(p48, p2)\n",
    "    #s50 = s32 + dot(p32, s16) + dot(p48, s2)\n",
    "    \n",
    "    return p48, dot(s48, dep)"
   ]
  },
  {
   "cell_type": "code",
   "execution_count": 19,
   "id": "d53f1a17-1026-4737-a1b6-2349b43c316a",
   "metadata": {},
   "outputs": [],
   "source": [
    "tf_abscs, tf_full = pickle.load(open(data_dir + '/phot_tf_nxreo_ad.p', 'rb'))\n",
    "dep_abscs, dep_full = pickle.load(open(data_dir + '/phot_dep_nxreo_ad.p', 'rb'))"
   ]
  },
  {
   "cell_type": "code",
   "execution_count": 20,
   "id": "7a4b261b-0afc-4871-8e35-6a42adeaca7a",
   "metadata": {},
   "outputs": [
    {
     "name": "stderr",
     "output_type": "stream",
     "text": [
      "  0%|          | 0/2000 [00:00<?, ?it/s]WARNING:jax._src.lib.xla_bridge:No GPU/TPU found, falling back to CPU. (Set TF_CPP_MIN_LOG_LEVEL=0 and rerun for more info.)\n",
      "100%|█████████▉| 1999/2000 [00:27<00:00, 61.75it/s]"
     ]
    }
   ],
   "source": [
    "ctf_full = np.zeros_like(tf_full)\n",
    "cdep_full = np.zeros_like(dep_full)\n",
    "\n",
    "n_i, n_j, n_k, _, _ = tf_full.shape\n",
    "pbar = tqdm(total=n_i*n_j*n_k)\n",
    "\n",
    "for i in range(n_i):\n",
    "    for j in range(n_j):\n",
    "        for k in range(n_k):\n",
    "            tf = tf_full[i,j,k]\n",
    "            dep = dep_full[i,j,k]\n",
    "            ctf, cdep = compound_48(tf, dep)\n",
    "            ctf_full[i,j,k] = np.array(ctf)\n",
    "            cdep_full[i,j,k] = np.array(cdep)\n",
    "            pbar.update()"
   ]
  },
  {
   "cell_type": "code",
   "execution_count": 21,
   "id": "2c0272f5-f627-46ed-b74a-dd77565d9f29",
   "metadata": {},
   "outputs": [
    {
     "name": "stderr",
     "output_type": "stream",
     "text": [
      "100%|██████████| 2000/2000 [00:43<00:00, 61.75it/s]"
     ]
    }
   ],
   "source": [
    "pickle.dump((tf_abscs, ctf_full), open(data_dir + '/phot_ctf_dlnz48m_nxreo_ad.p', 'wb'))\n",
    "pickle.dump((dep_abscs, cdep_full), open(data_dir + '/phot_cdep_dlnz48m_nxreo_ad.p', 'wb'))"
   ]
  },
  {
   "cell_type": "markdown",
   "id": "6cf13131-68cb-47d0-8101-66b56843bf83",
   "metadata": {},
   "source": [
    "### 3.1 permute"
   ]
  },
  {
   "cell_type": "code",
   "execution_count": 22,
   "id": "416268eb-e392-4041-b65f-ec6ccffa53af",
   "metadata": {},
   "outputs": [
    {
     "name": "stdout",
     "output_type": "stream",
     "text": [
      "(10, 10, 20, 500, 500) -> (20, 500, 10, 10, 500)\n",
      "(10, 10, 20, 500, 5) -> (20, 500, 10, 10, 5)\n"
     ]
    }
   ],
   "source": [
    "# tf\n",
    "print(ctf_full.shape, end=' -> ')\n",
    "ctf_full_permuted = np.transpose(ctf_full, axes=[2, 3, 0, 1, 4])\n",
    "print(ctf_full_permuted.shape)\n",
    "# dep\n",
    "print(cdep_full.shape, end=' -> ')\n",
    "cdep_full_permuted = np.transpose(cdep_full, axes=[2, 3, 0, 1, 4])\n",
    "print(cdep_full_permuted.shape)"
   ]
  },
  {
   "cell_type": "code",
   "execution_count": 23,
   "id": "61206338-88d9-426f-9127-6556fad9a7af",
   "metadata": {},
   "outputs": [],
   "source": [
    "pickle.dump((tf_abscs, ctf_full_permuted), open(data_dir + '/phot_ctf_dlnz48m_renxo_ad.p', 'wb'))\n",
    "pickle.dump((dep_abscs, cdep_full_permuted), open(data_dir + '/phot_cdep_dlnz48m_renxo_ad.p', 'wb'))"
   ]
  },
  {
   "cell_type": "code",
   "execution_count": 24,
   "id": "29a5bf76-ee38-4aa4-b899-cd4d44e4fcbc",
   "metadata": {},
   "outputs": [
    {
     "name": "stdout",
     "output_type": "stream",
     "text": [
      "3.8G\t/data/submit/yitians/DM21cm/transferfunctions/nBs_test/archive\n",
      "39M\t/data/submit/yitians/DM21cm/transferfunctions/nBs_test/phot_cdep_dlnz48m_nxreo_ad.p\n",
      "39M\t/data/submit/yitians/DM21cm/transferfunctions/nBs_test/phot_cdep_dlnz48m_renxo_ad.p\n",
      "3.8G\t/data/submit/yitians/DM21cm/transferfunctions/nBs_test/phot_ctf_dlnz48m_nxreo_ad.p\n",
      "3.8G\t/data/submit/yitians/DM21cm/transferfunctions/nBs_test/phot_ctf_dlnz48m_renxo_ad.p\n",
      "39M\t/data/submit/yitians/DM21cm/transferfunctions/nBs_test/phot_depgv.npy\n",
      "39M\t/data/submit/yitians/DM21cm/transferfunctions/nBs_test/phot_dep_nxreo_ad.p\n",
      "39M\t/data/submit/yitians/DM21cm/transferfunctions/nBs_test/phot_dep_renxo_ad.p\n",
      "3.8G\t/data/submit/yitians/DM21cm/transferfunctions/nBs_test/phot_tfgv.npy\n",
      "3.8G\t/data/submit/yitians/DM21cm/transferfunctions/nBs_test/phot_tf_nxreo_ad.p\n",
      "3.8G\t/data/submit/yitians/DM21cm/transferfunctions/nBs_test/phot_tf_renxo_ad.p\n"
     ]
    }
   ],
   "source": [
    "! du -smh /data/submit/yitians/DM21cm/transferfunctions/nBs_test/*"
   ]
  },
  {
   "cell_type": "code",
   "execution_count": null,
   "id": "c7dec9e0-9568-420e-95d4-a4bed499cf49",
   "metadata": {},
   "outputs": [],
   "source": []
  }
 ],
 "metadata": {
  "kernelspec": {
   "display_name": "Python 3",
   "language": "python",
   "name": "python3"
  },
  "language_info": {
   "codemirror_mode": {
    "name": "ipython",
    "version": 3
   },
   "file_extension": ".py",
   "mimetype": "text/x-python",
   "name": "python",
   "nbconvert_exporter": "python",
   "pygments_lexer": "ipython3",
   "version": "3.8.8"
  }
 },
 "nbformat": 4,
 "nbformat_minor": 5
}
