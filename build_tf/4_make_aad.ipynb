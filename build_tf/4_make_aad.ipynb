{
 "cells": [
  {
   "cell_type": "code",
   "execution_count": 1,
   "id": "a75495fe-580a-45f8-a7cc-26e9c261cf66",
   "metadata": {},
   "outputs": [],
   "source": [
    "%reload_ext autoreload\n",
    "%autoreload 2\n",
    "\n",
    "import os\n",
    "import sys\n",
    "sys.path.append(\"..\")\n",
    "sys.path.append(os.environ['DH_DIR'])\n",
    "\n",
    "import pickle\n",
    "\n",
    "import numpy as np\n",
    "\n",
    "%matplotlib inline\n",
    "import matplotlib as mpl\n",
    "import matplotlib.pyplot as plt\n",
    "mpl.rc_file('../matplotlibrc')"
   ]
  },
  {
   "cell_type": "code",
   "execution_count": 2,
   "id": "afd34591-95bd-4f14-8cb6-06e3837ded14",
   "metadata": {},
   "outputs": [],
   "source": [
    "abscs = pickle.load(open('../data/abscissas/abscs_230408.p', 'rb'))"
   ]
  },
  {
   "cell_type": "markdown",
   "id": "2823178a-80ca-458d-8609-d4dd5651b5ec",
   "metadata": {},
   "source": [
    "# Electrons transfer functions"
   ]
  },
  {
   "cell_type": "markdown",
   "id": "44a3baf9-54bd-425c-857d-c46f4502fb61",
   "metadata": {},
   "source": [
    "## 1. Energy deposition transfer function\n",
    "- `tfgv` is f values ($E\\rightarrow E$). To make it a $N\\rightarrow E$ transfer function, need to first multiply by the energy abscissa.\n",
    "- `tfgv` is ~ (rs Ein x out)."
   ]
  },
  {
   "cell_type": "code",
   "execution_count": null,
   "id": "d92fbcfa-d40c-4ef7-9b73-73dacdb96041",
   "metadata": {},
   "outputs": [],
   "source": [
    "data_dir = os.environ['DM21CM_DATA_DIR'] + '/tf/230408'"
   ]
  },
  {
   "cell_type": "code",
   "execution_count": null,
   "id": "ad6b6e15-e092-4adc-a65e-21ffca876cc1",
   "metadata": {},
   "outputs": [],
   "source": [
    "os.listdir(data_dir+'/elec')"
   ]
  },
  {
   "cell_type": "code",
   "execution_count": null,
   "id": "1db2107d-c7f1-4c5b-b4c2-ee14f70c8c1c",
   "metadata": {},
   "outputs": [],
   "source": [
    "abscs_in_tf = {\n",
    "    'rs' : abscs['rs'],\n",
    "    'Ein' : abscs['elecEk'],\n",
    "    'x' : abscs['x'],\n",
    "    'out' : abscs['dep_c']\n",
    "}"
   ]
  },
  {
   "cell_type": "code",
   "execution_count": null,
   "id": "fa4bb2fe-83d8-465e-a42c-7e413be54de6",
   "metadata": {},
   "outputs": [],
   "source": [
    "data = np.load(data_dir+'/elec/depgv_rexo.npy')\n",
    "print(data.shape)"
   ]
  },
  {
   "cell_type": "code",
   "execution_count": null,
   "id": "b44eef4b-cfda-4c3c-82fe-6249351a63bc",
   "metadata": {},
   "outputs": [],
   "source": [
    "# multiply in energy\n",
    "eng = abscs['Ein']\n",
    "data_NEtf = np.einsum('rexo,e->rexo', data, eng)\n",
    "print(data_NEtf.shape)"
   ]
  },
  {
   "cell_type": "code",
   "execution_count": null,
   "id": "948261ce-ab2a-402f-a115-eea2a5e399d9",
   "metadata": {},
   "outputs": [],
   "source": [
    "pickle.dump((abscs, data_NEtf), open(data_dir + '/elec_dep_dlnz4.879E-2_rexo_ad.p', 'wb'))"
   ]
  },
  {
   "cell_type": "markdown",
   "id": "f210fbbd-6d90-4a31-a290-291dbab786ae",
   "metadata": {},
   "source": [
    "## 2. Electron number transfer function\n",
    "- `tfgv` is already in $N\\rightarrow N$.\n",
    "- `tfgv` is ~ (rs Ein x out)."
   ]
  },
  {
   "cell_type": "code",
   "execution_count": null,
   "id": "4b93fc14-277b-4354-8b46-bfcf0c1fbefd",
   "metadata": {},
   "outputs": [],
   "source": [
    "abscs = {\n",
    "    'rs' : abscs_nBs['rs'],\n",
    "    'Ein' : abscs_nBs['elecEk'],\n",
    "    'x' : abscs_nBs['x'],\n",
    "    'out' : abscs_nBs['photE']\n",
    "}"
   ]
  },
  {
   "cell_type": "code",
   "execution_count": null,
   "id": "e6fdd607-b4e9-4a36-9e7a-627ce40ad332",
   "metadata": {},
   "outputs": [],
   "source": [
    "data = np.load(data_dir + '/elec_phot_tfgv_rexo.npy')\n",
    "print(data.shape)"
   ]
  },
  {
   "cell_type": "code",
   "execution_count": null,
   "id": "871a7698-fa6c-424b-afb3-a115ffcaf39e",
   "metadata": {},
   "outputs": [],
   "source": [
    "pickle.dump((abscs, data), open(data_dir + '/elec_tf_dlnz4.879E-2_rexo_ad.p', 'wb'))"
   ]
  },
  {
   "cell_type": "markdown",
   "id": "5fd3e582-c675-4ecd-8b77-e94013f8c002",
   "metadata": {},
   "source": [
    "# Photons transfer functions"
   ]
  },
  {
   "cell_type": "markdown",
   "id": "25585901-5fbc-4b9c-83ba-e2bb7c767959",
   "metadata": {},
   "source": [
    "## 1. Energy deposition transfer function\n",
    "- `tfgv` is f values ($E\\rightarrow E$). To make it a $N\\rightarrow E$ transfer function, need to first multiply by the energy abscissa.\n",
    "- `tfgv` is ~ (nBs x rs Ein out). Transpose to make it ~ (rs Ein nBs x out)."
   ]
  },
  {
   "cell_type": "code",
   "execution_count": 9,
   "id": "1e41e3d2-1255-4a9f-bbb9-83a601c6e62b",
   "metadata": {},
   "outputs": [],
   "source": [
    "data_dir = os.environ['DM21CM_DATA_DIR'] + '/tf/230408x'"
   ]
  },
  {
   "cell_type": "code",
   "execution_count": 10,
   "id": "8ecf8930-3794-408e-9735-6e4e8732e94b",
   "metadata": {},
   "outputs": [
    {
     "data": {
      "text/plain": [
       "['phot_prop_renxo_aad.p', 'phot_dep_renxo_aad.p', 'phot_scat_renxo_aad.p']"
      ]
     },
     "execution_count": 10,
     "metadata": {},
     "output_type": "execute_result"
    }
   ],
   "source": [
    "os.listdir(data_dir+'/phot')"
   ]
  },
  {
   "cell_type": "code",
   "execution_count": 7,
   "id": "2a4ecf7b-acff-4de0-8a9c-13a6ca406372",
   "metadata": {},
   "outputs": [],
   "source": [
    "abscs_in_tf = {\n",
    "    'rs' : abscs['rs'],\n",
    "    'Ein' : abscs['photE'],\n",
    "    'nBs' : abscs['nBs'],\n",
    "    'x' : abscs['x'],\n",
    "    'out' : abscs['dep_c']\n",
    "}"
   ]
  },
  {
   "cell_type": "markdown",
   "id": "2b163fca-af18-483d-9005-2db3c41a08e4",
   "metadata": {},
   "source": [
    "### 1.1 permute to renxo"
   ]
  },
  {
   "cell_type": "code",
   "execution_count": 9,
   "id": "2698c055-4ec7-44e7-acbc-8b179eae3f0b",
   "metadata": {},
   "outputs": [
    {
     "name": "stdout",
     "output_type": "stream",
     "text": [
      "(10, 10, 10, 500, 5)\n",
      "(10, 500, 10, 10, 5)\n"
     ]
    }
   ],
   "source": [
    "data = np.load(data_dir + '/phot/phot_depgv.npy') # rxneo\n",
    "print(data.shape)\n",
    "data_permuted = np.transpose(data, axes=[0, 3, 2, 1, 4])\n",
    "print(data_permuted.shape)"
   ]
  },
  {
   "cell_type": "code",
   "execution_count": 10,
   "id": "5194ea0a-7615-4013-86ac-f6ca05055859",
   "metadata": {},
   "outputs": [
    {
     "name": "stdout",
     "output_type": "stream",
     "text": [
      "(10, 500, 10, 10, 5)\n"
     ]
    }
   ],
   "source": [
    "# multiply in energy\n",
    "eng = abscs_in_tf['Ein']\n",
    "data_NEtf = np.einsum('renxo,e->renxo', data_permuted, eng)\n",
    "print(data_NEtf.shape)"
   ]
  },
  {
   "cell_type": "code",
   "execution_count": 9,
   "id": "b947ffb6-5c9d-4d03-834e-3cbe3e578f36",
   "metadata": {},
   "outputs": [],
   "source": [
    "axes = ('rs', 'Ein', 'nBs', 'x', 'out')\n",
    "pickle.dump(\n",
    "    (abscs_in_tf, axes, data_NEtf),\n",
    "    open(data_dir + '/phot/phot_dep_renxo_aad.p', 'wb')\n",
    ")"
   ]
  },
  {
   "cell_type": "markdown",
   "id": "1424e639-0a45-4798-b58c-5275aa3a553b",
   "metadata": {},
   "source": [
    "### 1.1.1 TMP: getting $E_\\text{xray}$ and putting it in dep tf"
   ]
  },
  {
   "cell_type": "code",
   "execution_count": 27,
   "id": "ff893be8-81fd-483a-b184-51240073734a",
   "metadata": {},
   "outputs": [],
   "source": [
    "_, _, tf = pickle.load(\n",
    "    open(data_dir + '/phot/phot_scat_renxo_aad.p', 'rb')\n",
    ")"
   ]
  },
  {
   "cell_type": "code",
   "execution_count": 28,
   "id": "e8baa186-71bd-45f5-890f-17f4329dfff5",
   "metadata": {},
   "outputs": [
    {
     "name": "stdout",
     "output_type": "stream",
     "text": [
      "179 239\n"
     ]
    }
   ],
   "source": [
    "xray_eng_range = (1e2, 1e4)\n",
    "i_xray_low = np.searchsorted(abscs['photE'], xray_eng_range[0])\n",
    "i_xray_high = np.searchsorted(abscs['photE'], xray_eng_range[1])\n",
    "print(i_xray_low, i_xray_high)"
   ]
  },
  {
   "cell_type": "code",
   "execution_count": 29,
   "id": "1bbd48b9-3275-40d8-8903-424cd4a92e39",
   "metadata": {},
   "outputs": [
    {
     "name": "stdout",
     "output_type": "stream",
     "text": [
      "(10, 500, 10, 10)\n"
     ]
    }
   ],
   "source": [
    "eng_tf = np.dot(tf[..., i_xray_low:i_xray_high], abscs['photE'][i_xray_low:i_xray_high])\n",
    "print(eng_tf.shape)"
   ]
  },
  {
   "cell_type": "code",
   "execution_count": 30,
   "id": "5e7b73b2-b0db-456d-be70-5437574804c0",
   "metadata": {},
   "outputs": [
    {
     "name": "stdout",
     "output_type": "stream",
     "text": [
      "(10, 500, 10, 10, 6)\n"
     ]
    }
   ],
   "source": [
    "# load old tf\n",
    "abscs, axes, deptf = pickle.load(\n",
    "    open(data_dir + '/phot/phot_dep_renxo_aad.p', 'rb')\n",
    ")\n",
    "print(deptf.shape)"
   ]
  },
  {
   "cell_type": "code",
   "execution_count": 31,
   "id": "2e915bc1-b5c3-4110-86e5-b3023ab12c6e",
   "metadata": {},
   "outputs": [],
   "source": [
    "new_deptf = np.zeros((10, 500, 10, 10, 6))\n",
    "new_deptf[...,:5] = deptf[...,:5]\n",
    "new_deptf[..., 5] = eng_tf"
   ]
  },
  {
   "cell_type": "code",
   "execution_count": 32,
   "id": "0313bc96-dee1-4f94-9f8d-1f8f4070bd88",
   "metadata": {},
   "outputs": [
    {
     "data": {
      "text/plain": [
       "['H ion', 'He ion', 'exc', 'heat', 'cont', 'xray']"
      ]
     },
     "execution_count": 32,
     "metadata": {},
     "output_type": "execute_result"
    }
   ],
   "source": [
    "abscs['out']"
   ]
  },
  {
   "cell_type": "code",
   "execution_count": null,
   "id": "5ab1ddee-cc3b-4fd2-8ff5-a7f3ff00b999",
   "metadata": {},
   "outputs": [],
   "source": [
    "abscs['out'].append('xray')"
   ]
  },
  {
   "cell_type": "code",
   "execution_count": 33,
   "id": "70265823-c1c1-4f02-aa3e-bdbbb2eb5154",
   "metadata": {},
   "outputs": [],
   "source": [
    "pickle.dump(\n",
    "    (abscs, axes, new_deptf),\n",
    "    open(data_dir + '/phot/phot_dep_renxo_aad.p', 'wb')\n",
    ")"
   ]
  },
  {
   "cell_type": "code",
   "execution_count": 37,
   "id": "10f87912-5399-4d10-9584-174ca0eb11f0",
   "metadata": {},
   "outputs": [
    {
     "data": {
      "image/png": "[encoded data removed]",
      "text/plain": [
       "<Figure size 720x480 with 1 Axes>"
      ]
     },
     "metadata": {},
     "output_type": "display_data"
    }
   ],
   "source": [
    "# check f values\n",
    "f_tf = eng_tf / abscs['Ein'][None, :, None, None]\n",
    "plt.hist(f_tf.flatten(), bins=50, range=(0,0.001));"
   ]
  },
  {
   "cell_type": "markdown",
   "id": "5be0b1ef-b180-435f-981e-d91f0f554504",
   "metadata": {},
   "source": [
    "### 1.2 don't permute (nxreo)"
   ]
  },
  {
   "cell_type": "code",
   "execution_count": null,
   "id": "0b59ff01-2c3b-4406-9c73-f970106eeccd",
   "metadata": {},
   "outputs": [],
   "source": [
    "data = np.load(data_dir + '/phot_depgv.npy')\n",
    "print(data.shape)"
   ]
  },
  {
   "cell_type": "code",
   "execution_count": null,
   "id": "471dbd23-874d-4cf1-ad0d-56a98a5a5264",
   "metadata": {},
   "outputs": [],
   "source": [
    "# multiply in energy\n",
    "eng = abscs['Ein']\n",
    "data_NEtf = np.einsum('nxreo,e->nxreo', data, eng)\n",
    "print(data_NEtf.shape)"
   ]
  },
  {
   "cell_type": "code",
   "execution_count": null,
   "id": "c4dd9260-0c4d-4c53-a167-fc72ba41b7ae",
   "metadata": {},
   "outputs": [],
   "source": [
    "pickle.dump((abscs, data_NEtf), open(data_dir + '/phot_dep_nxreo_ad.p', 'wb'))"
   ]
  },
  {
   "cell_type": "markdown",
   "id": "13d0a281-2ad4-4152-91dc-a789b0666f48",
   "metadata": {},
   "source": [
    "## 2. Photon number transfer function\n",
    "- `tfgv` is already in $N\\rightarrow N$.\n",
    "- `tfgv` is ~ (nBs x rs Ein out). Transpose to make it ~ (rs Ein nBs x out)."
   ]
  },
  {
   "cell_type": "code",
   "execution_count": 11,
   "id": "1cc60be4-8da4-4353-b028-f487975d3db5",
   "metadata": {},
   "outputs": [],
   "source": [
    "abscs_in_tf = {\n",
    "    'rs' : abscs['rs'],\n",
    "    'Ein' : abscs['photE'],\n",
    "    'nBs' : abscs['nBs'],\n",
    "    'x' : abscs['x'],\n",
    "    'out' : abscs['photE']\n",
    "}"
   ]
  },
  {
   "cell_type": "markdown",
   "id": "61f0f16b-46dd-4e7f-9de2-80f940e3f41a",
   "metadata": {},
   "source": [
    "### 2.1 permute to renxo"
   ]
  },
  {
   "cell_type": "code",
   "execution_count": 12,
   "id": "11941c6f-7615-40ce-8627-08d4ea808442",
   "metadata": {},
   "outputs": [
    {
     "name": "stdout",
     "output_type": "stream",
     "text": [
      "(10, 10, 10, 500, 500)\n",
      "(10, 500, 10, 10, 500)\n"
     ]
    }
   ],
   "source": [
    "data = np.load(data_dir + '/phot/phot_tfgv.npy')\n",
    "print(data.shape)\n",
    "data_permuted = np.transpose(data, axes=[0, 3, 2, 1, 4])\n",
    "print(data_permuted.shape)"
   ]
  },
  {
   "cell_type": "code",
   "execution_count": 12,
   "id": "aa73ba5a-2e83-489f-b9f2-ccaa501acc9c",
   "metadata": {},
   "outputs": [],
   "source": [
    "axes = ('rs', 'Ein', 'nBs', 'x', 'out')\n",
    "pickle.dump(\n",
    "    (abscs_in_tf, axes, data_permuted),\n",
    "    open(data_dir + '/phot/phot_phot_renxo_aad.p', 'wb')\n",
    ")"
   ]
  },
  {
   "cell_type": "markdown",
   "id": "809242a9-2ff7-4978-b624-0d0fbd94ad07",
   "metadata": {},
   "source": [
    "### 2.1.1 TMP: split into prop and scat"
   ]
  },
  {
   "cell_type": "code",
   "execution_count": 13,
   "id": "8ce5afc7-bb9c-4fbc-b762-b6485019f1e2",
   "metadata": {},
   "outputs": [
    {
     "name": "stdout",
     "output_type": "stream",
     "text": [
      "(10, 10, 10, 500, 500)\n"
     ]
    }
   ],
   "source": [
    "data = np.load(data_dir + '/phot/phot_tfgv.npy')\n",
    "print(data.shape)"
   ]
  },
  {
   "cell_type": "code",
   "execution_count": 21,
   "id": "8d91b635-6aab-41cc-90ea-204694dcf73f",
   "metadata": {},
   "outputs": [],
   "source": [
    "data_prop = np.zeros_like(data)\n",
    "for i in range(10):\n",
    "    for j in range(10):\n",
    "        for k in range(10):\n",
    "            np.fill_diagonal(data_prop[i,j,k], np.diagonal(data[i,j,k]))"
   ]
  },
  {
   "cell_type": "code",
   "execution_count": 23,
   "id": "968aa51a-9609-428f-bb12-6780bf65ebd9",
   "metadata": {},
   "outputs": [
    {
     "name": "stdout",
     "output_type": "stream",
     "text": [
      "(10, 500, 10, 10, 500)\n"
     ]
    }
   ],
   "source": [
    "data_prop_permuted = np.transpose(data_prop, axes=[0, 3, 2, 1, 4])\n",
    "print(data_prop_permuted.shape)\n",
    "axes = ('rs', 'Ein', 'nBs', 'x', 'out')\n",
    "pickle.dump(\n",
    "    (abscs_in_tf, axes, data_prop_permuted),\n",
    "    open(data_dir + '/phot/phot_prop_renxo_aad.p', 'wb')\n",
    ")"
   ]
  },
  {
   "cell_type": "code",
   "execution_count": 24,
   "id": "90adc060-e9e4-4c32-9f30-8392bf721e4e",
   "metadata": {},
   "outputs": [],
   "source": [
    "data_scat = data - data_prop"
   ]
  },
  {
   "cell_type": "code",
   "execution_count": 25,
   "id": "e336074c-0b54-4bf7-b67a-a56b82d7a284",
   "metadata": {},
   "outputs": [
    {
     "name": "stdout",
     "output_type": "stream",
     "text": [
      "(10, 500, 10, 10, 500)\n"
     ]
    }
   ],
   "source": [
    "data_scat_permuted = np.transpose(data_scat, axes=[0, 3, 2, 1, 4])\n",
    "print(data_scat_permuted.shape)\n",
    "axes = ('rs', 'Ein', 'nBs', 'x', 'out')\n",
    "pickle.dump(\n",
    "    (abscs_in_tf, axes, data_scat_permuted),\n",
    "    open(data_dir + '/phot/phot_scat_renxo_aad.p', 'wb')\n",
    ")"
   ]
  },
  {
   "cell_type": "code",
   "execution_count": 26,
   "id": "d3115696-a040-438f-9a52-82e8645a5a26",
   "metadata": {},
   "outputs": [],
   "source": [
    "del data_prop, data_scat, data"
   ]
  },
  {
   "cell_type": "markdown",
   "id": "ae366422-3935-4ef3-a924-2529d8eb312c",
   "metadata": {},
   "source": [
    "### 2.2 don't permute (nxreo)"
   ]
  },
  {
   "cell_type": "code",
   "execution_count": null,
   "id": "1614640c-2034-4335-94ef-dfc572352c75",
   "metadata": {},
   "outputs": [],
   "source": [
    "data = np.load(data_dir + '/phot_tfgv.npy')\n",
    "print(data.shape)"
   ]
  },
  {
   "cell_type": "code",
   "execution_count": null,
   "id": "acbc60eb-6a02-4a02-841d-0d96edc9dc50",
   "metadata": {},
   "outputs": [],
   "source": [
    "pickle.dump((abscs, data), open(data_dir + '/phot_tf_nxreo_ad.p', 'wb'))"
   ]
  },
  {
   "cell_type": "markdown",
   "id": "5c19dd03-53cf-4545-9e6a-af274b5084c3",
   "metadata": {},
   "source": [
    "## 3. Compound to fixed power (48)"
   ]
  },
  {
   "cell_type": "code",
   "execution_count": 17,
   "id": "2057c2f3-efa8-407a-9f2c-fb9072066878",
   "metadata": {},
   "outputs": [],
   "source": [
    "from jax import jit\n",
    "import jax.numpy as jnp\n",
    "\n",
    "from tqdm import tqdm"
   ]
  },
  {
   "cell_type": "code",
   "execution_count": 18,
   "id": "f54eca77-ea69-4ab8-9bb9-5889f6c32acb",
   "metadata": {},
   "outputs": [],
   "source": [
    "@jit\n",
    "def compound_48(tf, dep):\n",
    "    \n",
    "    dot = jnp.dot\n",
    "    \n",
    "    s2 = jnp.identity(tf.shape[0]) + tf\n",
    "    p2 = dot(tf, tf)\n",
    "    s4 = s2 + dot(p2, s2)\n",
    "    p4 = dot(p2, p2)\n",
    "    s8 = s4 + dot(p4, s4)\n",
    "    p8 = dot(p4, p4)\n",
    "    s16 = s8 + dot(p8, s8)\n",
    "    p16 = dot(p8, p8)\n",
    "    s32 = s16 + dot(p16, s16)\n",
    "    p32 = dot(p16, p16)\n",
    "    \n",
    "    p48 = dot(p32, p16)\n",
    "    s48 = s32 + dot(p32, s16)\n",
    "    #p50 = dot(p48, p2)\n",
    "    #s50 = s32 + dot(p32, s16) + dot(p48, s2)\n",
    "    \n",
    "    return p48, dot(s48, dep)"
   ]
  },
  {
   "cell_type": "code",
   "execution_count": 19,
   "id": "d53f1a17-1026-4737-a1b6-2349b43c316a",
   "metadata": {},
   "outputs": [],
   "source": [
    "tf_abscs, tf_full = pickle.load(open(data_dir + '/phot_tf_nxreo_ad.p', 'rb'))\n",
    "dep_abscs, dep_full = pickle.load(open(data_dir + '/phot_dep_nxreo_ad.p', 'rb'))"
   ]
  },
  {
   "cell_type": "code",
   "execution_count": 20,
   "id": "7a4b261b-0afc-4871-8e35-6a42adeaca7a",
   "metadata": {},
   "outputs": [
    {
     "name": "stderr",
     "output_type": "stream",
     "text": [
      "  0%|          | 0/2000 [00:00<?, ?it/s]WARNING:jax._src.lib.xla_bridge:No GPU/TPU found, falling back to CPU. (Set TF_CPP_MIN_LOG_LEVEL=0 and rerun for more info.)\n",
      "100%|█████████▉| 1999/2000 [00:27<00:00, 61.75it/s]"
     ]
    }
   ],
   "source": [
    "ctf_full = np.zeros_like(tf_full)\n",
    "cdep_full = np.zeros_like(dep_full)\n",
    "\n",
    "n_i, n_j, n_k, _, _ = tf_full.shape\n",
    "pbar = tqdm(total=n_i*n_j*n_k)\n",
    "\n",
    "for i in range(n_i):\n",
    "    for j in range(n_j):\n",
    "        for k in range(n_k):\n",
    "            tf = tf_full[i,j,k]\n",
    "            dep = dep_full[i,j,k]\n",
    "            ctf, cdep = compound_48(tf, dep)\n",
    "            ctf_full[i,j,k] = np.array(ctf)\n",
    "            cdep_full[i,j,k] = np.array(cdep)\n",
    "            pbar.update()"
   ]
  },
  {
   "cell_type": "code",
   "execution_count": 21,
   "id": "2c0272f5-f627-46ed-b74a-dd77565d9f29",
   "metadata": {},
   "outputs": [
    {
     "name": "stderr",
     "output_type": "stream",
     "text": [
      "100%|██████████| 2000/2000 [00:43<00:00, 61.75it/s]"
     ]
    }
   ],
   "source": [
    "pickle.dump((tf_abscs, ctf_full), open(data_dir + '/phot_ctf_dlnz48m_nxreo_ad.p', 'wb'))\n",
    "pickle.dump((dep_abscs, cdep_full), open(data_dir + '/phot_cdep_dlnz48m_nxreo_ad.p', 'wb'))"
   ]
  },
  {
   "cell_type": "markdown",
   "id": "6cf13131-68cb-47d0-8101-66b56843bf83",
   "metadata": {},
   "source": [
    "### 3.1 permute"
   ]
  },
  {
   "cell_type": "code",
   "execution_count": 22,
   "id": "416268eb-e392-4041-b65f-ec6ccffa53af",
   "metadata": {},
   "outputs": [
    {
     "name": "stdout",
     "output_type": "stream",
     "text": [
      "(10, 10, 20, 500, 500) -> (20, 500, 10, 10, 500)\n",
      "(10, 10, 20, 500, 5) -> (20, 500, 10, 10, 5)\n"
     ]
    }
   ],
   "source": [
    "# tf\n",
    "print(ctf_full.shape, end=' -> ')\n",
    "ctf_full_permuted = np.transpose(ctf_full, axes=[2, 3, 0, 1, 4])\n",
    "print(ctf_full_permuted.shape)\n",
    "# dep\n",
    "print(cdep_full.shape, end=' -> ')\n",
    "cdep_full_permuted = np.transpose(cdep_full, axes=[2, 3, 0, 1, 4])\n",
    "print(cdep_full_permuted.shape)"
   ]
  },
  {
   "cell_type": "code",
   "execution_count": 23,
   "id": "61206338-88d9-426f-9127-6556fad9a7af",
   "metadata": {},
   "outputs": [],
   "source": [
    "pickle.dump((tf_abscs, ctf_full_permuted), open(data_dir + '/phot_ctf_dlnz48m_renxo_ad.p', 'wb'))\n",
    "pickle.dump((dep_abscs, cdep_full_permuted), open(data_dir + '/phot_cdep_dlnz48m_renxo_ad.p', 'wb'))"
   ]
  },
  {
   "cell_type": "code",
   "execution_count": 24,
   "id": "29a5bf76-ee38-4aa4-b899-cd4d44e4fcbc",
   "metadata": {},
   "outputs": [
    {
     "name": "stdout",
     "output_type": "stream",
     "text": [
      "3.8G\t/data/submit/yitians/DM21cm/transferfunctions/nBs_test/archive\n",
      "39M\t/data/submit/yitians/DM21cm/transferfunctions/nBs_test/phot_cdep_dlnz48m_nxreo_ad.p\n",
      "39M\t/data/submit/yitians/DM21cm/transferfunctions/nBs_test/phot_cdep_dlnz48m_renxo_ad.p\n",
      "3.8G\t/data/submit/yitians/DM21cm/transferfunctions/nBs_test/phot_ctf_dlnz48m_nxreo_ad.p\n",
      "3.8G\t/data/submit/yitians/DM21cm/transferfunctions/nBs_test/phot_ctf_dlnz48m_renxo_ad.p\n",
      "39M\t/data/submit/yitians/DM21cm/transferfunctions/nBs_test/phot_depgv.npy\n",
      "39M\t/data/submit/yitians/DM21cm/transferfunctions/nBs_test/phot_dep_nxreo_ad.p\n",
      "39M\t/data/submit/yitians/DM21cm/transferfunctions/nBs_test/phot_dep_renxo_ad.p\n",
      "3.8G\t/data/submit/yitians/DM21cm/transferfunctions/nBs_test/phot_tfgv.npy\n",
      "3.8G\t/data/submit/yitians/DM21cm/transferfunctions/nBs_test/phot_tf_nxreo_ad.p\n",
      "3.8G\t/data/submit/yitians/DM21cm/transferfunctions/nBs_test/phot_tf_renxo_ad.p\n"
     ]
    }
   ],
   "source": [
    "! du -smh /data/submit/yitians/DM21cm/transferfunctions/nBs_test/*"
   ]
  },
  {
   "cell_type": "code",
   "execution_count": null,
   "id": "c7dec9e0-9568-420e-95d4-a4bed499cf49",
   "metadata": {},
   "outputs": [],
   "source": []
  }
 ],
 "metadata": {
  "kernelspec": {
   "display_name": "Python 3 (ipykernel)",
   "language": "python",
   "name": "python3"
  },
  "language_info": {
   "codemirror_mode": {
    "name": "ipython",
    "version": 3
   },
   "file_extension": ".py",
   "mimetype": "text/x-python",
   "name": "python",
   "nbconvert_exporter": "python",
   "pygments_lexer": "ipython3",
   "version": "3.6.8"
  }
 },
 "nbformat": 4,
 "nbformat_minor": 5
}
