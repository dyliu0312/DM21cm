{
 "cells": [
  {
   "cell_type": "code",
   "execution_count": 1,
   "id": "0669c0df-56fa-43ee-a935-c249e68ac5d3",
   "metadata": {},
   "outputs": [],
   "source": [
    "%reload_ext autoreload\n",
    "%autoreload 2\n",
    "\n",
    "import numpy as np\n",
    "import pickle\n",
    "\n",
    "%matplotlib inline\n",
    "import matplotlib as mpl\n",
    "import matplotlib.pyplot as plt\n",
    "mpl.rc_file('../matplotlibrc')"
   ]
  },
  {
   "cell_type": "code",
   "execution_count": 2,
   "id": "778ebc8d-6b62-4789-9530-369b9919e94d",
   "metadata": {},
   "outputs": [],
   "source": [
    "def photE_DH(n=500):\n",
    "    dlnphoteng   = np.log(5565952217145.328/1e-4) / n\n",
    "    photbins     = 1e-4 * np.exp(np.arange(n+1)*dlnphoteng)\n",
    "    photenglow   = photbins[:n]\n",
    "    photenghigh  = photbins[1:]\n",
    "    photeng      = np.sqrt(photenglow * photenghigh)\n",
    "    return photeng\n",
    "\n",
    "def elecEk_DH(n=500):\n",
    "    dlneng       = np.log(5565952217145.328)/n\n",
    "    melec        = 510998.903\n",
    "    elecbins     = melec + np.exp(np.arange(n+1) * dlneng)\n",
    "    elecenglow   = elecbins[:n]\n",
    "    elecenghigh  = elecbins[1:]\n",
    "    eleckeng     = np.sqrt((elecenglow - melec) * (elecenghigh - melec))\n",
    "    return eleckeng"
   ]
  },
  {
   "cell_type": "code",
   "execution_count": 3,
   "id": "0619e96a-34ef-4b44-ac62-b037e89ba204",
   "metadata": {},
   "outputs": [],
   "source": [
    "SAVE_DIR = '../data/abscissas'"
   ]
  },
  {
   "cell_type": "markdown",
   "id": "bf52ad69-1330-4be0-abb4-0e5913cb3b59",
   "metadata": {},
   "source": [
    "## IDL string generator"
   ]
  },
  {
   "cell_type": "code",
   "execution_count": 5,
   "id": "a1f430fa-164f-4c1b-bd7e-72244bb04ba6",
   "metadata": {},
   "outputs": [
    {
     "name": "stdout",
     "output_type": "stream",
     "text": [
      "z_s_global = [15.0000000000d]\n",
      "x_s_global = [0.0000100000d, 0.5000000000d, 0.9999900000d]\n",
      "nBs_s_global = [0.0001000000d, 0.0001995262d, 0.0003981072d, 0.0007943282d, 0.0015848932d, 0.0031622777d, 0.0063095734d, 0.0125892541d, 0.0251188643d, 0.0501187234d, 0.1000000000d, 0.2900000000d, 0.4800000000d, 0.6700000000d, 0.8600000000d, 1.0500000000d, 1.2400000000d, 1.4300000000d, 1.6200000000d, 1.8100000000d, 2.0000000000d, 3.4444444444d, 4.8888888889d, 6.3333333333d, 7.7777777778d, 9.2222222222d, 10.6666666667d, 12.1111111111d, 13.5555555556d, 15.0000000000d]\n"
     ]
    }
   ],
   "source": [
    "# for idl\n",
    "for key, item in abscs.items():\n",
    "    if key not in ['photE', 'elecEk', 'dep_c', 'dlnz']:\n",
    "        key_show = key if key != 'rs' else 'z'\n",
    "        print(key_show+'_s_global = ['+'d, '.join([f'{v:.10f}' for v in item])+'d]')"
   ]
  },
  {
   "cell_type": "markdown",
   "id": "86cc0666-7666-4898-a48b-d881cd3c1e48",
   "metadata": {},
   "source": [
    "## abscissas"
   ]
  },
  {
   "cell_type": "code",
   "execution_count": 4,
   "id": "da7ba1fc-4fba-4560-8fc5-5ea82dd139ba",
   "metadata": {},
   "outputs": [],
   "source": [
    "abscs_name = 'abscs_test'\n",
    "abscs = {\n",
    "    'rs' : np.array([15.0]),\n",
    "    'x' : np.array([1e-5, 0.5, 1-1e-5]),\n",
    "    'nBs' : np.concatenate([\n",
    "        np.logspace(-4, -1, 10, endpoint=False),\n",
    "        np.linspace(0.1, 2, 10, endpoint=False),\n",
    "        np.linspace(2, 15, 10),\n",
    "    ]),\n",
    "    'photE' : photE_DH(n=500),\n",
    "    'elecEk' : elecEk_DH(n=500),\n",
    "    'dep_c' : ['H ion', 'He ion', 'exc', 'heat', 'cont'],\n",
    "    'dlnz' : 0.04879016,\n",
    "}\n",
    "pickle.dump(abscs, open(f'{SAVE_DIR}/{abscs_name}.p', 'wb'))"
   ]
  },
  {
   "cell_type": "code",
   "execution_count": 5,
   "id": "e829dd3b-207e-4cdd-8b48-8944def639df",
   "metadata": {},
   "outputs": [],
   "source": [
    "abscs_name = 'abscs_nBs_test_2'\n",
    "abscs = {\n",
    "    'nBs' : np.linspace(0., 15., 10),\n",
    "    'x' : np.linspace(1e-5, 1-1e-5, 10),\n",
    "    'rs' : np.logspace(np.log10(5.), np.log10(100.), 20),\n",
    "    'photE' : photE_DH(n=500),\n",
    "    'elecEk' : elecEk_DH(n=500),\n",
    "    'dep_c' : ['H ion', 'He ion', 'exc', 'heat', 'cont'],\n",
    "    'dlnz' : 0.04879016,\n",
    "}\n",
    "pickle.dump(abscs, open(f'{SAVE_DIR}/{abscs_name}.p', 'wb'))"
   ]
  },
  {
   "cell_type": "code",
   "execution_count": 6,
   "id": "75d46182-164e-47bd-91ee-3fecfbd7e047",
   "metadata": {},
   "outputs": [],
   "source": [
    "abscs_name = 'abscs_nBs_test'\n",
    "abscs = {\n",
    "    'nBs' : np.linspace(0., 2.7, 10),\n",
    "    'x' : np.linspace(1e-5, 1-1e-5, 10),\n",
    "    'rs' : np.logspace(np.log10(5.), np.log10(50.), 20),\n",
    "    'photE' : photE_DH(n=500),\n",
    "    'elecEk' : elecEk_DH(n=500),\n",
    "    'dep_c' : ['H ion', 'He ion', 'exc', 'heat', 'cont'],\n",
    "    'dlnz' : 0.001,\n",
    "}\n",
    "pickle.dump(abscs, open(f'{SAVE_DIR}/{abscs_name}.p', 'wb'))"
   ]
  },
  {
   "cell_type": "code",
   "execution_count": null,
   "id": "983bd6e6-acff-4807-8e65-e730b28b5385",
   "metadata": {},
   "outputs": [],
   "source": []
  }
 ],
 "metadata": {
  "kernelspec": {
   "display_name": "Python 3",
   "language": "python",
   "name": "python3"
  },
  "language_info": {
   "codemirror_mode": {
    "name": "ipython",
    "version": 3
   },
   "file_extension": ".py",
   "mimetype": "text/x-python",
   "name": "python",
   "nbconvert_exporter": "python",
   "pygments_lexer": "ipython3",
   "version": "3.8.8"
  }
 },
 "nbformat": 4,
 "nbformat_minor": 5
}
