{
 "cells": [
  {
   "cell_type": "code",
   "execution_count": 1,
   "metadata": {},
   "outputs": [],
   "source": [
    "\"\"\"Make photon transfer functions.\"\"\"\n",
    "\n",
    "import os\n",
    "import sys\n",
    "import time\n",
    "from tqdm import tqdm\n",
    "import argparse\n",
    "\n",
    "import numpy as np\n",
    "\n",
    "from low_energy.lowE_electrons import make_interpolator\n",
    "from low_energy.lowE_deposition import compute_fs\n",
    "\n",
    "sys.path.append(\"..\")\n",
    "from dm21cm.utils import load_h5_dict\n",
    "import dm21cm.physics as phys\n",
    "\n",
    "sys.path.append(os.environ['DH_DIR'])\n",
    "from   darkhistory.spec.spectrum import Spectrum\n",
    "import darkhistory.physics as dh_phys\n",
    "import darkhistory.spec.spectools as spectools"
   ]
  },
  {
   "cell_type": "code",
   "execution_count": 2,
   "metadata": {},
   "outputs": [
    {
     "name": "stdout",
     "output_type": "stream",
     "text": [
      "Loading tf:  hep lep lee hed cmb dt."
     ]
    }
   ],
   "source": [
    "run_name = 'zf01'\n",
    "tf_type = 'phot'\n",
    "do_not_track_lowengphot = True\n",
    "include_f_xray = True\n",
    "xray_eng_range = (1e2, 1e4) # [eV]\n",
    "use_tqdm = True\n",
    "verbose = 0 # {0, 1}\n",
    "stop_after_n = np.inf\n",
    "\n",
    "\n",
    "#===== Load =====\n",
    "data_dir = f\"{os.environ['DM21CM_DATA_DIR']}/tf/{run_name}/{tf_type}\"\n",
    "save_dir = f\"{os.environ['DM21CM_DATA_DIR']}/tf/{run_name}/{tf_type}\"\n",
    "os.makedirs(save_dir, exist_ok=True)\n",
    "\n",
    "print('Loading tf: ', end=' ', flush=True)\n",
    "hep_tfgv = np.load(f'{data_dir}/hep_tf_rxneo.npy')\n",
    "print('hep', end=' ', flush=True)\n",
    "lep_tfgv = np.load(f'{data_dir}/lep_tf_rxneo.npy')\n",
    "print('lep', end=' ', flush=True)\n",
    "lee_tfgv = np.load(f'{data_dir}/lee_tf_rxneo.npy')\n",
    "print('lee', end=' ', flush=True)\n",
    "hed_tfgv = np.load(f'{data_dir}/hed_tf_rxneo.npy')\n",
    "print('hed', end=' ', flush=True)\n",
    "cmbloss_gv = np.load(f'{data_dir}/cmbloss_rxneo.npy')\n",
    "print('cmb', end=' ', flush=True)\n",
    "dts = np.load(f'{data_dir}/dt_rxneo.npy')\n",
    "print('dt',  end='.', flush=True)"
   ]
  },
  {
   "cell_type": "code",
   "execution_count": 3,
   "metadata": {},
   "outputs": [],
   "source": [
    "#===== Initialize =====\n",
    "abscs = load_h5_dict(f\"../data/abscissas/abscs_{run_name}.h5\")\n",
    "dlnz = abscs['dlnz']\n",
    "inj_abscs = abscs['photE'] if tf_type == 'phot' else abscs['elecEk'] + dh_phys.me\n",
    "i_xray_fm = np.searchsorted(abscs['photE'], xray_eng_range[0])\n",
    "i_xray_to = np.searchsorted(abscs['photE'], xray_eng_range[1])\n",
    "MEDEA_interp = make_interpolator(prefix='../data/MEDEA')\n",
    "\n",
    "tfgv = np.zeros_like(hep_tfgv) # in: elec/phot, out: phot\n",
    "depgv = np.zeros(\n",
    "    hed_tfgv.shape[:-1] + (len(abscs['dep_c']),)\n",
    ") # channels: {H ionization, He ionization, excitation, heat, continuum, xray}\n",
    "\n",
    "\n",
    "#===== Loop =====\n",
    "n_run = -1"
   ]
  },
  {
   "cell_type": "code",
   "execution_count": 4,
   "metadata": {},
   "outputs": [],
   "source": [
    "i_rs = 5\n",
    "rs = abscs['rs'][i_rs]\n",
    "\n",
    "i_x = 4\n",
    "x = abscs['x'][i_x]\n",
    "\n",
    "i_nBs = 6\n",
    "nBs = abscs['nBs'][i_nBs]\n",
    "\n",
    "    \n",
    "#===== Timestepping =====\n",
    "# We will always assume ionhist (IDL) uses the 21cmFAST's dt. This will be fixed in ionhist.\n",
    "dlnz = abscs['dlnz']\n",
    "zplusone_factor = np.exp(dlnz)\n",
    "dt = phys.dt_step(rs-1, zplusone_factor) # 21cmFAST dt\n",
    "# dt = dlnz / dh_phys.hubble(rs) # DH dt\n",
    "# dt = dts[i_rs, 1] # (rs, step) # IDL dt\n",
    "\n",
    "#===== Add cmbloss to highengphot =====\n",
    "cmb_un = spectools.discretize(abscs['photE'], dh_phys.CMB_spec, dh_phys.TCMB(rs))\n",
    "cmb_un_E = cmb_un.toteng()\n",
    "    \n",
    "for i in range(len(inj_abscs)):\n",
    "    cmb_E = cmbloss_gv[i_rs, i_x, i_nBs][i]# * dt # now [eV/Bavg]\n",
    "    hep_tfgv[i_rs, i_x, i_nBs][i] += (-cmb_E/cmb_un_E) * cmb_un.N\n",
    "\n",
    "#===== Add lowengphot diagonal =====\n",
    "if tf_type == 'phot':\n",
    "    for i in range(len(inj_abscs)):\n",
    "        if lep_tfgv[i_rs, i_x, i_nBs][i][i] > 1e-40:\n",
    "            break\n",
    "        lep_tfgv[i_rs, i_x, i_nBs][i][i] = 1."
   ]
  },
  {
   "cell_type": "code",
   "execution_count": 6,
   "metadata": {},
   "outputs": [
    {
     "name": "stdout",
     "output_type": "stream",
     "text": [
      "i=202 f_xray=0.352328\n",
      "i=203 f_xray=0.495962\n",
      "i=204 f_xray=0.608012\n",
      "i=205 f_xray=0.695353\n",
      "i=206 f_xray=0.763383\n",
      "i=207 f_xray=0.816333\n",
      "i=208 f_xray=0.857517\n",
      "i=209 f_xray=0.889528\n",
      "i=210 f_xray=0.914393\n",
      "i=211 f_xray=0.933696\n",
      "i=212 f_xray=0.948672\n",
      "i=213 f_xray=0.960284\n",
      "i=214 f_xray=0.969283\n",
      "i=215 f_xray=0.976253\n",
      "i=216 f_xray=0.981648\n",
      "i=217 f_xray=0.985823\n",
      "i=218 f_xray=0.989052\n",
      "i=219 f_xray=0.991548\n",
      "i=220 f_xray=0.993476\n",
      "i=221 f_xray=0.994965\n",
      "i=222 f_xray=0.996115\n",
      "i=223 f_xray=0.996992\n",
      "i=224 f_xray=0.997816\n",
      "i=225 f_xray=0.998141\n",
      "i=226 f_xray=0.998570\n",
      "i=227 f_xray=0.998987\n",
      "i=228 f_xray=0.999167\n",
      "i=229 f_xray=0.999313\n",
      "i=230 f_xray=0.999521\n",
      "i=231 f_xray=0.999617\n",
      "i=232 f_xray=0.999659\n",
      "i=233 f_xray=0.999761\n",
      "i=234 f_xray=0.999809\n",
      "i=235 f_xray=0.999819\n",
      "i=236 f_xray=0.999865\n",
      "i=237 f_xray=0.999886\n",
      "i=238 f_xray=0.999890\n"
     ]
    }
   ],
   "source": [
    "for i_injE, injE in enumerate(inj_abscs):\n",
    "    \n",
    "    assert n_run <= stop_after_n\n",
    "    n_run += 1\n",
    "\n",
    "    #===== Injection =====\n",
    "    # inject one photon at i_injE\n",
    "    timer = time.time()\n",
    "    \n",
    "    hep_spec_N = hep_tfgv[i_rs, i_x, i_nBs, i_injE]\n",
    "    lep_spec_N = lep_tfgv[i_rs, i_x, i_nBs, i_injE]\n",
    "    lee_spec_N = lee_tfgv[i_rs, i_x, i_nBs, i_injE]\n",
    "    hed_arr    = hed_tfgv[i_rs, i_x, i_nBs, i_injE]\n",
    "\n",
    "    lowengelec_spec_at_rs = Spectrum(abscs['elecEk'], lee_spec_N, spec_type='N')\n",
    "    lowengelec_spec_at_rs.rs = rs\n",
    "\n",
    "    lowengphot_spec_at_rs = Spectrum(abscs['photE'], lep_spec_N, spec_type='N')\n",
    "    lowengphot_spec_at_rs.rs = rs\n",
    "\n",
    "    highengdep_at_rs = hed_arr / dt # [eV/Bavg/s]\n",
    "\n",
    "    #===== Compute f's =====\n",
    "    x_vec_for_f = np.array( [1-x, dh_phys.chi*(1-x), dh_phys.chi*x] ) # [HI, HeI, HeII]/nH\n",
    "    nBs_ref = 1\n",
    "    dE_dVdt_inj = injE * dh_phys.nB * nBs_ref * rs**3 / dt # [eV/cm^3 s]\n",
    "    # in DH.main: (dN_inj/dB) / (dE_inj  /dVdt)\n",
    "    # here:       (dN_inj   ) / (dE_injdB/dVdt)\n",
    "    f_low, f_high = compute_fs(\n",
    "        MEDEA_interp=MEDEA_interp,\n",
    "        rs=rs,\n",
    "        x=x_vec_for_f,\n",
    "        elec_spec=lowengelec_spec_at_rs,\n",
    "        phot_spec=lowengphot_spec_at_rs,\n",
    "        dE_dVdt_inj=dE_dVdt_inj,\n",
    "        dt=dt,\n",
    "        highengdep=highengdep_at_rs,\n",
    "        cmbloss=0, # turned off in darkhistory main as well\n",
    "        method='no_He',\n",
    "        cross_check=False,\n",
    "        ion_old=False\n",
    "    )\n",
    "    f_raw = f_low + f_high\n",
    "\n",
    "    #===== Compute tf & f values =====\n",
    "    f_dep = f_raw\n",
    "    if do_not_track_lowengphot:\n",
    "        phot_spec_N = hep_spec_N\n",
    "        f_prop = np.dot(abscs['photE'], phot_spec_N) / injE\n",
    "    else:\n",
    "        i_exc_bin = np.searchsorted(spectools.get_bin_bound(abscs['photE']), 10.2) - 1 # 149\n",
    "        lep_prop_spec_N = lep_spec_N.copy()\n",
    "        lep_prop_spec_N[:i_exc_bin] *= 0.\n",
    "        f_lep_prop = np.dot(abscs['photE'], lep_prop_spec_N) / injE\n",
    "        phot_spec_N = hep_spec_N + lep_prop_spec_N\n",
    "        f_dep[4] -= f_lep_prop # adjust for the propagating lowengphot\n",
    "\n",
    "    f_prop = np.dot(abscs['photE'], phot_spec_N) / injE\n",
    "    f_tot = f_prop + np.sum(f_dep)\n",
    "\n",
    "    #===== Fix energy conservation (known issues) =====\n",
    "    if i_injE == 153: # issue at around 13.6 eV. Adjusting H_ion.\n",
    "        f_dep[0] += 1 - f_tot\n",
    "\n",
    "    f_prop = np.dot(abscs['photE'], phot_spec_N) / injE\n",
    "    f_tot = f_prop + np.sum(f_dep)\n",
    "\n",
    "    #===== Energy conservation =====\n",
    "    f_dep_str = ' '.join([f'{v:.3e}' for v in f_dep])\n",
    "    print_str = f'{n_run} | {i_rs} {i_x} {i_nBs} {i_injE} | f_prop={f_prop:.6f} f_dep={f_dep_str} f_tot={f_tot:.6f}'\n",
    "    energy_conservation_threshold = 1e-3\n",
    "    if np.abs(f_tot - 1.) > energy_conservation_threshold:\n",
    "        print_str += f' | Energy error > {energy_conservation_threshold}'\n",
    "    if verbose >= 1 or np.abs(f_tot - 1.) > energy_conservation_threshold:\n",
    "        print(print_str, flush=True)\n",
    "    \n",
    "    # enforce energy conservation\n",
    "    phot_spec_N[i_injE] += 1 - f_tot # gives all extra energy to propagating photons\n",
    "    \n",
    "    #===== Dependent variables (Xray) =====\n",
    "    if include_f_xray:\n",
    "        f_xray = np.dot(abscs['photE'][i_xray_fm:i_xray_to], phot_spec_N[i_xray_fm:i_xray_to]) / injE\n",
    "        # if i_xray_fm <= i_injE and i_injE < i_xray_to:\n",
    "        #     f_xray -= phot_spec_N[i_injE] # ignore diagonal for now # NEED TO EXTRACT PROP\n",
    "        f_dep = np.append(f_dep, f_xray)\n",
    "        if f_xray > 0.001:\n",
    "            print(f'i={i_injE} f_xray={f_xray:.6f}')\n",
    "\n",
    "    #===== Populate transfer functions =====\n",
    "    tfgv[i_rs, i_x, i_nBs, i_injE] = phot_spec_N\n",
    "    depgv[i_rs, i_x, i_nBs, i_injE] = f_dep"
   ]
  },
  {
   "cell_type": "code",
   "execution_count": 25,
   "metadata": {},
   "outputs": [],
   "source": [
    "data_dir = os.environ['DM21CM_DATA_DIR'] + '/tf/zf01-nopropxray/data'"
   ]
  },
  {
   "cell_type": "code",
   "execution_count": 8,
   "metadata": {},
   "outputs": [],
   "source": [
    "import h5py"
   ]
  },
  {
   "cell_type": "code",
   "execution_count": 26,
   "metadata": {},
   "outputs": [],
   "source": [
    "with h5py.File(data_dir+'/phot_dep.h5', 'r') as hf:\n",
    "    axes = hf['axes'][()]\n",
    "    dep_tf = hf['data'][()]"
   ]
  },
  {
   "cell_type": "code",
   "execution_count": 20,
   "metadata": {},
   "outputs": [
    {
     "data": {
      "text/plain": [
       "array([b'H ion', b'He ion', b'exc', b'heat', b'cont', b'xray'],\n",
       "      dtype=object)"
      ]
     },
     "execution_count": 20,
     "metadata": {},
     "output_type": "execute_result"
    }
   ],
   "source": [
    "abscs['dep_c']"
   ]
  },
  {
   "cell_type": "code",
   "execution_count": 23,
   "metadata": {},
   "outputs": [],
   "source": [
    "import matplotlib.pyplot as plt"
   ]
  },
  {
   "cell_type": "code",
   "execution_count": 27,
   "metadata": {},
   "outputs": [
    {
     "data": {
      "text/plain": [
       "[<matplotlib.lines.Line2D at 0x7fa4db3c7d10>]"
      ]
     },
     "execution_count": 27,
     "metadata": {},
     "output_type": "execute_result"
    },
    {
     "data": {
      "image/png": "[encoded data removed]",
      "text/plain": [
       "<Figure size 640x480 with 1 Axes>"
      ]
     },
     "metadata": {},
     "output_type": "display_data"
    }
   ],
   "source": [
    "plt.plot(dep_tf[3, :, 4, 5, -1] / abscs['photE'])"
   ]
  },
  {
   "cell_type": "code",
   "execution_count": 28,
   "metadata": {},
   "outputs": [],
   "source": [
    "with h5py.File(data_dir+'/phot_scat.h5', 'r') as hf:\n",
    "    axes = hf['axes'][()]\n",
    "    scat_tf = hf['data'][()]"
   ]
  },
  {
   "cell_type": "code",
   "execution_count": 32,
   "metadata": {},
   "outputs": [],
   "source": [
    "ilo = np.searchsorted(abscs['photE'], 1e2)\n",
    "ihi = np.searchsorted(abscs['photE'], 1e4)"
   ]
  },
  {
   "cell_type": "code",
   "execution_count": 33,
   "metadata": {},
   "outputs": [
    {
     "data": {
      "text/plain": [
       "[<matplotlib.lines.Line2D at 0x7fa4dc98f750>]"
      ]
     },
     "execution_count": 33,
     "metadata": {},
     "output_type": "execute_result"
    },
    {
     "data": {
      "image/png": "[encoded data removed]",
      "text/plain": [
       "<Figure size 640x480 with 1 Axes>"
      ]
     },
     "metadata": {},
     "output_type": "display_data"
    }
   ],
   "source": [
    "plt.plot(np.einsum('ij,j->i', scat_tf[3, :, 4, 5, ilo:ihi], abscs['photE'][ilo:ihi]) / abscs['photE'])"
   ]
  },
  {
   "cell_type": "code",
   "execution_count": null,
   "metadata": {},
   "outputs": [],
   "source": []
  }
 ],
 "metadata": {
  "kernelspec": {
   "display_name": "dm21cm",
   "language": "python",
   "name": "python3"
  },
  "language_info": {
   "codemirror_mode": {
    "name": "ipython",
    "version": 3
   },
   "file_extension": ".py",
   "mimetype": "text/x-python",
   "name": "python",
   "nbconvert_exporter": "python",
   "pygments_lexer": "ipython3",
   "version": "3.11.5"
  }
 },
 "nbformat": 4,
 "nbformat_minor": 2
}
