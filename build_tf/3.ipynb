{
 "cells": [
  {
   "cell_type": "code",
   "execution_count": 1,
   "id": "3e0c6c5b-0240-49e5-96e2-a3d30b51b870",
   "metadata": {},
   "outputs": [],
   "source": [
    "%reload_ext autoreload\n",
    "%autoreload 2\n",
    "\n",
    "import os, sys\n",
    "sys.path.append(os.environ['DH_DIR'])\n",
    "sys.path.append('..')\n",
    "\n",
    "import numpy as np\n",
    "import pickle\n",
    "import time\n",
    "from tqdm import tqdm\n",
    "\n",
    "from low_energy.lowE_electrons import make_interpolator\n",
    "from low_energy.lowE_deposition import compute_fs\n",
    "\n",
    "from config import load_data\n",
    "from main import get_elec_cooling_data\n",
    "from   darkhistory.spec.spectrum import Spectrum\n",
    "import darkhistory.physics as phys\n",
    "import darkhistory.spec.spectools as spectools\n",
    "from   darkhistory.electrons import positronium as pos\n",
    "from   darkhistory.electrons.elec_cooling import get_elec_cooling_tf"
   ]
  },
  {
   "cell_type": "markdown",
   "id": "01c097ef-93eb-4ad4-8c24-2746419eb747",
   "metadata": {},
   "source": [
    "## Config"
   ]
  },
  {
   "cell_type": "code",
   "execution_count": 32,
   "id": "599711d5-64fa-440b-a41f-9df7b203a073",
   "metadata": {},
   "outputs": [],
   "source": [
    "run_name = '230408x'\n",
    "tf_type = 'phot' # {'phot', 'elec'}\n",
    "include_f_xray = True\n",
    "xray_eng_range = (1e3, 1e4) # [eV]\n",
    "use_tqdm = True\n",
    "verbose = 0 # {0, 1}\n",
    "stop_after_n = np.inf\n",
    "\n",
    "abscs = pickle.load(open(f'../data/abscissas/abscs_{run_name}.p', 'rb'))\n",
    "inj_abscs = abscs['photE'] if tf_type == 'phot' else abscs['elecEk'] + phys.me\n",
    "MEDEA_dir = '../data/MEDEA'\n",
    "data_dir = f'../data/tf/230408/{tf_type}'\n",
    "save_dir = f'../data/tf/{run_name}/{tf_type}'\n",
    "os.makedirs(save_dir, exist_ok=True)"
   ]
  },
  {
   "cell_type": "code",
   "execution_count": 5,
   "id": "0ff128b7-7733-4f6e-b57b-fc543a17315b",
   "metadata": {},
   "outputs": [
    {
     "data": {
      "text/plain": [
       "['H ion', 'He ion', 'exc', 'heat', 'cont', 'xray']"
      ]
     },
     "execution_count": 5,
     "metadata": {},
     "output_type": "execute_result"
    }
   ],
   "source": [
    "abscs['dep_c']"
   ]
  },
  {
   "cell_type": "markdown",
   "id": "b4952aa2-c9fc-45b6-9a6e-5b6b380ae2af",
   "metadata": {},
   "source": [
    "## Load"
   ]
  },
  {
   "cell_type": "code",
   "execution_count": 3,
   "id": "189b33f1-9fec-40a6-b2e6-24388a442ab8",
   "metadata": {},
   "outputs": [
    {
     "name": "stdout",
     "output_type": "stream",
     "text": [
      "Loading tf:  hep lep lee hed cmb."
     ]
    }
   ],
   "source": [
    "print('Loading tf: ', end=' ', flush=True)\n",
    "hep_tfgv = np.load(f'{data_dir}/hep_tf_rxneo.npy')\n",
    "print('hep', end=' ', flush=True)\n",
    "lep_tfgv = np.load(f'{data_dir}/lep_tf_rxneo.npy')\n",
    "print('lep', end=' ', flush=True)\n",
    "lee_tfgv = np.load(f'{data_dir}/lee_tf_rxneo.npy')\n",
    "print('lee', end=' ', flush=True)\n",
    "hed_tfgv = np.load(f'{data_dir}/hed_tf_rxneo.npy')\n",
    "print('hed', end=' ', flush=True)\n",
    "cmbloss_gv = np.load(f'{data_dir}/cmbloss_rxneo.npy')\n",
    "print('cmb', end='.', flush=True)"
   ]
  },
  {
   "cell_type": "markdown",
   "id": "096710e2-5dea-4390-9a30-ef575fc868fe",
   "metadata": {},
   "source": [
    "## Loop over `rs` `x` `nBs`"
   ]
  },
  {
   "cell_type": "code",
   "execution_count": 33,
   "id": "3d10ceca-63b7-439d-8c2e-9c8d29a8ff3e",
   "metadata": {
    "tags": []
   },
   "outputs": [
    {
     "name": "stderr",
     "output_type": "stream",
     "text": [
      " 79%|███████▉  | 789/1000 [15:25<04:09,  1.18s/it]"
     ]
    },
    {
     "name": "stdout",
     "output_type": "stream",
     "text": [
      "394730 | 7 8 9 230 | f_prop=0.872475 f_dep=1.362e-04 9.247e-06 1.143e-04 1.172e-01 6.561e-06 f_tot=0.989904 | Energy error > 1%\n"
     ]
    },
    {
     "name": "stderr",
     "output_type": "stream",
     "text": [
      " 80%|███████▉  | 799/1000 [15:36<03:55,  1.17s/it]"
     ]
    },
    {
     "name": "stdout",
     "output_type": "stream",
     "text": [
      "399730 | 7 9 9 230 | f_prop=0.872400 f_dep=1.320e-04 6.717e-06 1.120e-04 1.172e-01 6.459e-06 f_tot=0.989897 | Energy error > 1%\n"
     ]
    },
    {
     "name": "stderr",
     "output_type": "stream",
     "text": [
      " 87%|████████▋ | 869/1000 [16:58<02:33,  1.17s/it]"
     ]
    },
    {
     "name": "stdout",
     "output_type": "stream",
     "text": [
      "434730 | 8 6 9 230 | f_prop=0.846278 f_dep=2.558e-03 2.920e-04 1.881e-03 1.367e-01 4.069e-04 f_tot=0.988088 | Energy error > 1%\n"
     ]
    },
    {
     "name": "stderr",
     "output_type": "stream",
     "text": [
      " 88%|████████▊ | 879/1000 [17:10<02:20,  1.16s/it]"
     ]
    },
    {
     "name": "stdout",
     "output_type": "stream",
     "text": [
      "439730 | 8 7 9 230 | f_prop=0.824050 f_dep=9.923e-04 2.645e-04 6.886e-04 1.600e-01 1.228e-04 f_tot=0.986167 | Energy error > 1%\n"
     ]
    },
    {
     "name": "stderr",
     "output_type": "stream",
     "text": [
      " 89%|████████▉ | 889/1000 [17:21<02:09,  1.17s/it]"
     ]
    },
    {
     "name": "stdout",
     "output_type": "stream",
     "text": [
      "444730 | 8 8 9 230 | f_prop=0.813048 f_dep=2.037e-04 1.356e-05 1.710e-04 1.718e-01 9.511e-06 f_tot=0.985222 | Energy error > 1%\n"
     ]
    },
    {
     "name": "stderr",
     "output_type": "stream",
     "text": [
      " 90%|████████▉ | 899/1000 [17:33<01:58,  1.17s/it]"
     ]
    },
    {
     "name": "stdout",
     "output_type": "stream",
     "text": [
      "449730 | 8 9 9 230 | f_prop=0.812938 f_dep=1.975e-04 9.850e-06 1.675e-04 1.719e-01 9.361e-06 f_tot=0.985212 | Energy error > 1%\n"
     ]
    },
    {
     "name": "stderr",
     "output_type": "stream",
     "text": [
      " 96%|█████████▌| 959/1000 [18:44<00:48,  1.18s/it]"
     ]
    },
    {
     "name": "stdout",
     "output_type": "stream",
     "text": [
      "479730 | 9 5 9 230 | f_prop=0.839968 f_dep=1.076e-02 5.894e-04 7.964e-03 1.272e-01 1.890e-03 f_tot=0.988403 | Energy error > 1%\n"
     ]
    },
    {
     "name": "stderr",
     "output_type": "stream",
     "text": [
      " 97%|█████████▋| 969/1000 [18:55<00:36,  1.17s/it]"
     ]
    },
    {
     "name": "stdout",
     "output_type": "stream",
     "text": [
      "484729 | 9 6 9 229 | f_prop=0.710123 f_dep=5.441e-03 6.715e-04 4.001e-03 2.898e-01 9.344e-04 f_tot=1.010960 | Energy error > 1%\n",
      "484730 | 9 6 9 230 | f_prop=0.774749 f_dep=3.788e-03 4.281e-04 2.785e-03 2.003e-01 5.964e-04 f_tot=0.982601 | Energy error > 1%\n",
      "484731 | 9 6 9 231 | f_prop=0.824585 f_dep=3.014e-03 3.144e-04 2.216e-03 1.585e-01 4.386e-04 f_tot=0.989026 | Energy error > 1%\n"
     ]
    },
    {
     "name": "stderr",
     "output_type": "stream",
     "text": [
      " 98%|█████████▊| 979/1000 [19:07<00:24,  1.16s/it]"
     ]
    },
    {
     "name": "stdout",
     "output_type": "stream",
     "text": [
      "489729 | 9 7 9 229 | f_prop=0.668032 f_dep=2.101e-03 6.083e-04 1.445e-03 3.398e-01 2.820e-04 f_tot=1.012257 | Energy error > 1%\n",
      "489730 | 9 7 9 230 | f_prop=0.742162 f_dep=1.471e-03 3.876e-04 1.022e-03 2.346e-01 1.798e-04 f_tot=0.979779 | Energy error > 1%\n",
      "489731 | 9 7 9 231 | f_prop=0.799366 f_dep=1.178e-03 2.843e-04 8.246e-04 1.854e-01 1.320e-04 f_tot=0.987183 | Energy error > 1%\n"
     ]
    },
    {
     "name": "stderr",
     "output_type": "stream",
     "text": [
      " 99%|█████████▉| 988/1000 [19:17<00:13,  1.15s/it]"
     ]
    },
    {
     "name": "stdout",
     "output_type": "stream",
     "text": [
      "494230 | 9 8 8 230 | f_prop=0.867145 f_dep=1.450e-04 9.650e-06 1.217e-04 1.222e-01 6.230e-06 f_tot=0.989629 | Energy error > 1%\n"
     ]
    },
    {
     "name": "stderr",
     "output_type": "stream",
     "text": [
      " 99%|█████████▉| 989/1000 [19:18<00:12,  1.17s/it]"
     ]
    },
    {
     "name": "stdout",
     "output_type": "stream",
     "text": [
      "494729 | 9 8 9 229 | f_prop=0.647201 f_dep=4.039e-04 3.090e-05 3.383e-04 3.649e-01 2.149e-05 f_tot=1.012910 | Energy error > 1%\n",
      "494730 | 9 8 9 230 | f_prop=0.726033 f_dep=3.046e-04 1.988e-05 2.557e-04 2.518e-01 1.373e-05 f_tot=0.978389 | Energy error > 1%\n",
      "494731 | 9 8 9 231 | f_prop=0.786885 f_dep=2.582e-04 1.474e-05 2.173e-04 1.989e-01 1.011e-05 f_tot=0.986278 | Energy error > 1%\n",
      "494733 | 9 8 9 233 | f_prop=0.869837 f_dep=1.737e-04 7.808e-06 1.470e-04 1.194e-01 5.297e-06 f_tot=0.989554 | Energy error > 1%\n"
     ]
    },
    {
     "name": "stderr",
     "output_type": "stream",
     "text": [
      "100%|█████████▉| 998/1000 [19:29<00:02,  1.17s/it]"
     ]
    },
    {
     "name": "stdout",
     "output_type": "stream",
     "text": [
      "499230 | 9 9 8 230 | f_prop=0.867067 f_dep=1.406e-04 7.010e-06 1.193e-04 1.223e-01 6.123e-06 f_tot=0.989622 | Energy error > 1%\n"
     ]
    },
    {
     "name": "stderr",
     "output_type": "stream",
     "text": [
      "100%|█████████▉| 999/1000 [19:30<00:01,  1.17s/it]"
     ]
    },
    {
     "name": "stdout",
     "output_type": "stream",
     "text": [
      "499729 | 9 9 9 229 | f_prop=0.646992 f_dep=3.909e-04 2.236e-05 3.312e-04 3.652e-01 2.115e-05 f_tot=1.012917 | Energy error > 1%\n",
      "499730 | 9 9 9 230 | f_prop=0.725872 f_dep=2.955e-04 1.444e-05 2.506e-04 2.519e-01 1.351e-05 f_tot=0.978375 | Energy error > 1%\n",
      "499731 | 9 9 9 231 | f_prop=0.786760 f_dep=2.509e-04 1.075e-05 2.131e-04 1.990e-01 9.953e-06 f_tot=0.986269 | Energy error > 1%\n",
      "499733 | 9 9 9 233 | f_prop=0.869763 f_dep=1.693e-04 5.776e-06 1.444e-04 1.195e-01 5.217e-06 f_tot=0.989547 | Energy error > 1%\n"
     ]
    },
    {
     "name": "stderr",
     "output_type": "stream",
     "text": [
      "100%|██████████| 1000/1000 [19:31<00:00,  1.17s/it]"
     ]
    }
   ],
   "source": [
    "tfgv = np.zeros_like(hep_tfgv) # in: elec/phot, out: phot\n",
    "depgv = np.zeros(\n",
    "    hed_tfgv.shape[:-1] + (len(abscs['dep_c']),)\n",
    ") # channels: {H ionization, He ionization, excitation, heat, continuum}\n",
    "\n",
    "dlnz = abscs['dlnz']\n",
    "MEDEA_interp = make_interpolator(prefix=MEDEA_dir)\n",
    "\n",
    "n_run = -1\n",
    "\n",
    "if use_tqdm:\n",
    "    pbar = tqdm( total = len(abscs['rs'])*len(abscs['x'])*len(abscs['nBs']) )\n",
    "\n",
    "for i_rs, rs in enumerate(abscs['rs']):\n",
    "    \n",
    "    dt = dlnz / phys.hubble(rs)\n",
    "            \n",
    "    #==============================\n",
    "    # Add cmbloss to highengphot\n",
    "    cmb_un = spectools.discretize(abscs['photE'], phys.CMB_spec, phys.TCMB(rs))\n",
    "    cmb_un_E = cmb_un.toteng()\n",
    "    \n",
    "    for i_x, x in enumerate(abscs['x']):\n",
    "        for i_nBs, nBs in enumerate(abscs['nBs']):\n",
    "            \n",
    "            for i in range(len(inj_abscs)):\n",
    "                cmb_E = cmbloss_gv[i_rs, i_x, i_nBs][i] * dt\n",
    "                hep_tfgv[i_rs, i_x, i_nBs][i] += (-cmb_E/cmb_un_E) * cmb_un.N\n",
    "\n",
    "            #==============================\n",
    "            # Add lowengphot diagonal\n",
    "            if nBs == 0: # lowengphot is 0 when nBs is 0\n",
    "                raise NotImplementedError\n",
    "            if tf_type == 'phot':\n",
    "                for i in range(len(inj_abscs)):\n",
    "                    if lep_tfgv[i_rs, i_x, i_nBs][i][i] > 1e-40:\n",
    "                        break\n",
    "                    lep_tfgv[i_rs, i_x, i_nBs][i][i] = 1\n",
    "            \n",
    "            for i_injE, injE in enumerate(inj_abscs):\n",
    "                \n",
    "                assert n_run <= stop_after_n\n",
    "                n_run += 1\n",
    "\n",
    "                #==============================\n",
    "                # Injection\n",
    "                # inject one photon at i_injE\n",
    "                timer = time.time()\n",
    "                \n",
    "                hep_spec_N = hep_tfgv[i_rs, i_x, i_nBs, i_injE]\n",
    "                lep_spec_N = lep_tfgv[i_rs, i_x, i_nBs, i_injE]\n",
    "                lee_spec_N = lee_tfgv[i_rs, i_x, i_nBs, i_injE]\n",
    "                hed_arr    = hed_tfgv[i_rs, i_x, i_nBs, i_injE]\n",
    "\n",
    "                lowengelec_spec_at_rs = Spectrum(abscs['elecEk'], lee_spec_N, spec_type='N')\n",
    "                lowengelec_spec_at_rs.rs = rs\n",
    "\n",
    "                lowengphot_spec_at_rs = Spectrum(abscs['photE'], lep_spec_N, spec_type='N')\n",
    "                lowengphot_spec_at_rs.rs = rs\n",
    "\n",
    "                highengdep_at_rs = hed_arr\n",
    "\n",
    "                #==============================\n",
    "                # Compute f's\n",
    "                x_vec_for_f = np.array( [1-x, phys.chi*(1-x), x] ) # [HI, HeI, HeII]/nH\n",
    "                nBs_ref = 1\n",
    "                dE_dVdt_inj = injE * phys.nB * nBs_ref * rs**3 / dt # [eV/cm^3 s]\n",
    "                # in DH.main: (dN_inj/dB) / (dE_inj  /dVdt)\n",
    "                # here:       (dN_inj   ) / (dE_injdB/dVdt)\n",
    "                f_low, f_high = compute_fs(\n",
    "                    MEDEA_interp=MEDEA_interp,\n",
    "                    rs=rs,\n",
    "                    x=x_vec_for_f,\n",
    "                    elec_spec=lowengelec_spec_at_rs,\n",
    "                    phot_spec=lowengphot_spec_at_rs,\n",
    "                    dE_dVdt_inj=dE_dVdt_inj,\n",
    "                    dt=dt,\n",
    "                    highengdep=highengdep_at_rs,\n",
    "                    cmbloss=0, # turned off in darkhistory main as well\n",
    "                    method='no_He',\n",
    "                    cross_check=False,\n",
    "                    ion_old=False\n",
    "                )\n",
    "                f_raw = f_low + f_high\n",
    "\n",
    "                #==============================\n",
    "                # Compute tf & f values\n",
    "                lep_prop_spec_N = lep_spec_N * (abscs['photE'] < 10.2)\n",
    "                f_lep_prop = np.dot(abscs['photE'], lep_prop_spec_N) / injE\n",
    "                phot_spec_N = hep_spec_N + lep_prop_spec_N\n",
    "                f_prop = np.dot(abscs['photE'], phot_spec_N) / injE\n",
    "\n",
    "                f_dep = f_raw\n",
    "                f_dep[4] -= f_lep_prop # adjust for the propagating lowengphot\n",
    "                f_tot = f_prop + np.sum(f_dep)\n",
    "\n",
    "                #==============================\n",
    "                # Fix energy conservation (known issues)\n",
    "                if tf_type == 'phot':\n",
    "                    if i_injE == 153: # issue at around 13.6 eV. Adjusting H_ion.\n",
    "                        f_dep[0] += 1 - f_tot\n",
    "                    if i_injE in range(224, 228): # ??? issue. Adjusting hep propagating bin.\n",
    "                        phot_spec_N[i_injE] += 1 - f_tot\n",
    "\n",
    "                f_prop = np.dot(abscs['photE'], phot_spec_N) / injE\n",
    "                f_tot = f_prop + np.sum(f_dep)\n",
    "\n",
    "                #==============================\n",
    "                # Energy conservation\n",
    "                f_dep_str = ' '.join([f'{v:.3e}' for v in f_dep])\n",
    "                print_str = f'{n_run} | {i_rs} {i_x} {i_nBs} {i_injE} | f_prop={f_prop:.6f} f_dep={f_dep_str} f_tot={f_tot:.6f}'\n",
    "                if np.abs(f_tot - 1.) > 1e-2:\n",
    "                    print_str += ' | Energy error > 1%'\n",
    "                if verbose >= 1 or np.abs(f_tot - 1.) > 1e-2:\n",
    "                    print(print_str, flush=True)\n",
    "                \n",
    "                phot_spec_N[i_injE] += 1 - f_tot # gives all extra energy to propagating photons\n",
    "                \n",
    "                #==============================\n",
    "                # Dependent variables (Xray)\n",
    "                if include_f_xray:\n",
    "                    i_xray_fm = np.searchsorted(abscs['photE'], xray_eng_range[0])\n",
    "                    i_xray_to = np.searchsorted(abscs['photE'], xray_eng_range[1])\n",
    "                    f_xray = np.dot(abscs['photE'][i_xray_fm:i_xray_to], phot_spec_N[i_xray_fm:i_xray_to]) / injE\n",
    "                    f_dep = np.append(f_dep, f_xray)\n",
    "\n",
    "                #==============================\n",
    "                # Populate transfer functions\n",
    "                tfgv[i_rs, i_x, i_nBs, i_injE] = phot_spec_N\n",
    "                depgv[i_rs, i_x, i_nBs, i_injE] = f_dep\n",
    "            \n",
    "            if use_tqdm:\n",
    "                pbar.update()"
   ]
  },
  {
   "cell_type": "markdown",
   "id": "856dd96c-aa72-4529-8b55-c1dfa1870c50",
   "metadata": {},
   "source": [
    "## Save"
   ]
  },
  {
   "cell_type": "code",
   "execution_count": null,
   "id": "17bd7daa-e9bb-4afb-a6a0-6725fb1f0e5d",
   "metadata": {},
   "outputs": [],
   "source": [
    "np.save(f'{save_dir}/{tf_type}_tfgv.npy', tfgv)\n",
    "np.save(f'{save_dir}/{tf_type}_depgv.npy', depgv)"
   ]
  }
 ],
 "metadata": {
  "kernelspec": {
   "display_name": "Python 3",
   "language": "python",
   "name": "python3"
  },
  "language_info": {
   "codemirror_mode": {
    "name": "ipython",
    "version": 3
   },
   "file_extension": ".py",
   "mimetype": "text/x-python",
   "name": "python",
   "nbconvert_exporter": "python",
   "pygments_lexer": "ipython3",
   "version": "3.8.8"
  }
 },
 "nbformat": 4,
 "nbformat_minor": 5
}
