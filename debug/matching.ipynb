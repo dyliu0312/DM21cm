{
 "cells": [
  {
   "cell_type": "code",
   "execution_count": 1,
   "metadata": {},
   "outputs": [],
   "source": [
    "%reload_ext autoreload\n",
    "%autoreload 2\n",
    "\n",
    "import sys\n",
    "import gc\n",
    "\n",
    "import numpy as np\n",
    "\n",
    "sys.path.append(\"..\")\n",
    "from dm21cm.dm_params import DMParams\n",
    "\n",
    "%matplotlib inline\n",
    "import matplotlib as mpl\n",
    "import matplotlib.pyplot as plt\n",
    "from matplotlib import colormaps as cms\n",
    "mpl.rc_file(\"../matplotlibrc\")"
   ]
  },
  {
   "cell_type": "code",
   "execution_count": 2,
   "metadata": {},
   "outputs": [
    {
     "name": "stderr",
     "output_type": "stream",
     "text": [
      "/n/home07/yitians/.conda/envs/dm21cm/lib/python3.11/site-packages/py21cmfast/_cfg.py:58: UserWarning: Your configuration file is out of date. Updating...\n",
      "  warnings.warn(\n",
      "/n/home07/yitians/.conda/envs/dm21cm/lib/python3.11/site-packages/py21cmfast/_cfg.py:42: UserWarning: Your configuration file is out of date. Updating...\n",
      "  warnings.warn(\"Your configuration file is out of date. Updating...\")\n"
     ]
    }
   ],
   "source": [
    "\"\"\"Main evolution function.\"\"\"\n",
    "\n",
    "import os\n",
    "import sys\n",
    "import logging\n",
    "\n",
    "import numpy as np\n",
    "from scipy import interpolate\n",
    "from astropy.cosmology import Planck18\n",
    "import astropy.units as u\n",
    "import jax.numpy as jnp\n",
    "\n",
    "import py21cmfast as p21c\n",
    "from py21cmfast import cache_tools\n",
    "\n",
    "sys.path.append(os.environ['DH_DIR']) # use branch test_dm21cm\n",
    "from darkhistory.spec.spectrum import Spectrum\n",
    "\n",
    "sys.path.append(\"..\")\n",
    "import dm21cm.physics as phys\n",
    "from dm21cm.dh_wrappers import DarkHistoryWrapper, TransferFunctionWrapper\n",
    "from dm21cm.utils import load_h5_dict\n",
    "from dm21cm.data_cacher import Cacher\n",
    "from dm21cm.profiler import Profiler\n",
    "\n",
    "logging.getLogger().setLevel(logging.INFO)\n",
    "logging.getLogger('21cmFAST').setLevel(logging.CRITICAL+1)\n",
    "logging.getLogger('py21cmfast._utils').setLevel(logging.CRITICAL+1)\n",
    "logging.getLogger('py21cmfast.wrapper').setLevel(logging.CRITICAL+1)"
   ]
  },
  {
   "cell_type": "code",
   "execution_count": 5,
   "metadata": {},
   "outputs": [],
   "source": [
    "#===== utilities for evolve =====\n",
    "\n",
    "def get_z_edges(z_max, z_min, zplusone_step_factor):\n",
    "    z_s = [z_min]\n",
    "    while z_s[-1] < z_max:\n",
    "        z_s.append((z_s[-1] + 1.0) * zplusone_step_factor - 1.0)\n",
    "    \n",
    "    return np.clip(z_s[::-1], None, z_max)\n",
    "\n",
    "\n",
    "def split_xray(phot_N, phot_eng):\n",
    "    \"\"\"Split a photon spectrum (N in bin) into bath and xray band.\"\"\"\n",
    "\n",
    "    ex_lo, ex_hi = 1e2, 1e4 # [eV]\n",
    "    ix_lo = np.searchsorted(phot_eng, ex_lo) # i of first bin greater than ex_lo, excluded\n",
    "    ix_hi = np.searchsorted(phot_eng, ex_hi) # i of first bin greater than ex_hi, included\n",
    "\n",
    "    bath_N = np.array(phot_N).copy()\n",
    "    xray_N = np.array(phot_N).copy()\n",
    "    bath_N[ix_lo:ix_hi] *= 0\n",
    "    xray_N[:ix_lo] *= 0\n",
    "    xray_N[ix_hi:] *= 0\n",
    "    \n",
    "    return bath_N, xray_N\n",
    "\n",
    "\n",
    "def gen_injection_boxes(z_next, p21c_initial_conditions):\n",
    "    \n",
    "    input_heating = p21c.input_heating(redshift=z_next, init_boxes=p21c_initial_conditions, write=False)\n",
    "    input_ionization = p21c.input_ionization(redshift=z_next, init_boxes=p21c_initial_conditions, write=False)\n",
    "    input_jalpha = p21c.input_jalpha(redshift=z_next, init_boxes=p21c_initial_conditions, write=False)\n",
    "    \n",
    "    return input_heating, input_ionization, input_jalpha\n",
    "\n",
    "global_astro_params = p21c.AstroParams(\n",
    "    L_X = 0. # L_X = 10**0.\n",
    ")\n",
    "\n",
    "def p21c_step(perturbed_field, spin_temp, ionized_box,\n",
    "             input_heating=None, input_ionization=None, input_jalpha=None):\n",
    "    \n",
    "    # Calculate the spin temperature, possibly using our inputs\n",
    "    spin_temp = p21c.spin_temperature(\n",
    "        perturbed_field = perturbed_field,\n",
    "        previous_spin_temp = spin_temp,\n",
    "        input_heating_box = input_heating,\n",
    "        input_ionization_box = input_ionization,\n",
    "        input_jalpha_box = input_jalpha,\n",
    "        astro_params=global_astro_params,\n",
    "    )\n",
    "    \n",
    "    # Calculate the ionized box\n",
    "    ionized_box = p21c.ionize_box(\n",
    "        perturbed_field = perturbed_field,\n",
    "        previous_ionize_box = ionized_box,\n",
    "        spin_temp = spin_temp,\n",
    "        astro_params=global_astro_params,\n",
    "    )\n",
    "    \n",
    "    # Calculate the brightness temperature\n",
    "    brightness_temp = p21c.brightness_temperature(\n",
    "        ionized_box = ionized_box,\n",
    "        perturbed_field = perturbed_field,\n",
    "        spin_temp = spin_temp\n",
    "    )\n",
    "    \n",
    "    return spin_temp, ionized_box, brightness_temp"
   ]
  },
  {
   "cell_type": "code",
   "execution_count": 6,
   "metadata": {},
   "outputs": [],
   "source": [
    "run_name = 'test'\n",
    "z_start = 45.\n",
    "z_end = 5.\n",
    "zplusone_step_factor = 1.01\n",
    "dm_params = DMParams(\n",
    "    mode = 'swave',\n",
    "    primary = 'phot_delta',\n",
    "    m_DM = 1e10,\n",
    "    sigmav = 1e-23,\n",
    "    struct_boost_model = 'erfc 1e-3',\n",
    ")\n",
    "enable_elec = False\n",
    "tf_version = '230629xc'\n",
    "\n",
    "p21c_initial_conditions = p21c.initial_conditions(\n",
    "    user_params = p21c.UserParams(\n",
    "        HII_DIM = 32,\n",
    "        BOX_LEN = 32 * 2, # [conformal Mpc]\n",
    "        N_THREADS = 32,\n",
    "    ),\n",
    "    cosmo_params = p21c.CosmoParams(\n",
    "        OMm = Planck18.Om0,\n",
    "        OMb = Planck18.Ob0,\n",
    "        POWER_INDEX = Planck18.meta['n'],\n",
    "        SIGMA_8 = Planck18.meta['sigma8'],\n",
    "        hlittle = Planck18.h,\n",
    "    ),\n",
    "    random_seed = 54321,\n",
    "    write = True,\n",
    ")\n",
    "\n",
    "rerun_DH = False\n",
    "clear_cache = True\n",
    "use_tqdm = False\n",
    "debug_flags = []"
   ]
  },
  {
   "cell_type": "code",
   "execution_count": 34,
   "metadata": {},
   "outputs": [
    {
     "name": "stderr",
     "output_type": "stream",
     "text": [
      "INFO:root:Using 21cmFAST version 0.1.dev1580+g2fe9754\n",
      "INFO:root:Cache dir: /n/holyscratch01/iaifi_lab/yitians/21cmFAST-cache/test\n"
     ]
    },
    {
     "name": "stderr",
     "output_type": "stream",
     "text": [
      "INFO:root:DarkHistoryWrapper: Found existing DarkHistory initial conditions.\n"
     ]
    }
   ],
   "source": [
    "logging.info(f'Using 21cmFAST version {p21c.__version__}')\n",
    "\n",
    "#===== cache and memory =====\n",
    "p21c.config['direc'] = f\"{os.environ['P21C_CACHE_DIR']}/{run_name}\"\n",
    "logging.info(f\"Cache dir: {p21c.config['direc']}\")\n",
    "os.makedirs(p21c.config['direc'], exist_ok=True)\n",
    "if clear_cache:\n",
    "    cache_tools.clear_cache()\n",
    "gc.collect()\n",
    "\n",
    "#===== initialize =====\n",
    "#--- physics parameters ---\n",
    "p21c.global_params.Z_HEAT_MAX = z_start + 1e-6\n",
    "p21c.global_params.ZPRIME_STEP_FACTOR = zplusone_step_factor\n",
    "p21c.global_params.CLUMPING_FACTOR = 1.\n",
    "EPSILON = 1e-6\n",
    "\n",
    "abscs = load_h5_dict(f'../data/abscissas/abscs_{tf_version}.h5')\n",
    "if not np.isclose(np.log(zplusone_step_factor), abscs['dlnz']):\n",
    "    raise ValueError('zplusone_step_factor and tf_version mismatch')\n",
    "dm_params.set_inj_specs(abscs)\n",
    "\n",
    "box_dim = p21c_initial_conditions.user_params.HII_DIM\n",
    "box_len = p21c_initial_conditions.user_params.BOX_LEN\n",
    "cosmo = Planck18\n",
    "\n",
    "#--- DarkHistory and transfer functions ---\n",
    "dh_wrapper = DarkHistoryWrapper(\n",
    "    dm_params,\n",
    "    prefix = p21c.config[f'direc'],\n",
    ")\n",
    "\n",
    "#--- redshift stepping ---\n",
    "z_edges = get_z_edges(z_start, z_end, p21c.global_params.ZPRIME_STEP_FACTOR)\n",
    "\n",
    "#===== initial step =====\n",
    "perturbed_field = p21c.perturb_field(redshift=z_edges[0], init_boxes=p21c_initial_conditions)\n",
    "spin_temp, ionized_box, brightness_temp = p21c_step(perturbed_field=perturbed_field, spin_temp=None, ionized_box=None)\n",
    "\n",
    "dh_wrapper.evolve(end_rs=(1+z_start)*0.9, rerun=rerun_DH)\n",
    "dh_wrapper.match(spin_temp, ionized_box)\n",
    "phot_bath_spec = dh_wrapper.get_phot_bath(rs=1+z_edges[0])"
   ]
  },
  {
   "cell_type": "code",
   "execution_count": 35,
   "metadata": {},
   "outputs": [
    {
     "data": {
      "text/plain": [
       "(242.32991, 0.0057613607)"
      ]
     },
     "execution_count": 35,
     "metadata": {},
     "output_type": "execute_result"
    }
   ],
   "source": [
    "np.mean(spin_temp.Tk_box), np.mean(spin_temp.x_e_box)"
   ]
  },
  {
   "cell_type": "code",
   "execution_count": 36,
   "metadata": {},
   "outputs": [
    {
     "data": {
      "text/plain": [
       "(45.0, 44.67846508307498)"
      ]
     },
     "execution_count": 36,
     "metadata": {},
     "output_type": "execute_result"
    }
   ],
   "source": [
    "z_edges[0], z_edges[1]"
   ]
  },
  {
   "cell_type": "code",
   "execution_count": 37,
   "metadata": {},
   "outputs": [],
   "source": [
    "perturbed_field = p21c.perturb_field(redshift=z_edges[1], init_boxes=p21c_initial_conditions)"
   ]
  },
  {
   "cell_type": "code",
   "execution_count": 38,
   "metadata": {},
   "outputs": [],
   "source": [
    "spin_temp = p21c.spin_temperature(\n",
    "    perturbed_field = perturbed_field,\n",
    "    previous_spin_temp = spin_temp,\n",
    "    input_heating_box = None,\n",
    "    input_ionization_box = None,\n",
    "    input_jalpha_box = None,\n",
    "    write=True,\n",
    ")"
   ]
  },
  {
   "cell_type": "code",
   "execution_count": 39,
   "metadata": {},
   "outputs": [
    {
     "data": {
      "text/plain": [
       "40.20591"
      ]
     },
     "execution_count": 39,
     "metadata": {},
     "output_type": "execute_result"
    }
   ],
   "source": [
    "np.mean(spin_temp.Tk_box)"
   ]
  },
  {
   "cell_type": "code",
   "execution_count": 31,
   "metadata": {},
   "outputs": [
    {
     "data": {
      "text/plain": [
       "['IonizedBox_669a86d5ccc561535be3cc44fa387174_r54321.h5',\n",
       " 'BrightnessTemp_aa5af2d9482c35f94212b81caa89b093_r54321.h5',\n",
       " 'PerturbedField_61c17a37cfa4fbf33c31f1b8c831a186_r54321.h5',\n",
       " 'dh_init_soln.p',\n",
       " 'TsBox_1e5806275944908f8dd13625d8befc1a_r54321.h5',\n",
       " 'PerturbedField_593ee2d337d9a446d967e4d1d760967b_r54321.h5',\n",
       " 'xraycheck_brightness.h5',\n",
       " 'TsBox_df092d5cf742677ce97b15765fc607d1_r54321.h5',\n",
       " 'InitialConditions_21beb02d574389c977e5ff74ec0d8b7c_r54321.h5']"
      ]
     },
     "execution_count": 31,
     "metadata": {},
     "output_type": "execute_result"
    }
   ],
   "source": [
    "os.listdir(os.environ['P21C_CACHE_DIR']+'/test')"
   ]
  },
  {
   "cell_type": "code",
   "execution_count": null,
   "metadata": {},
   "outputs": [],
   "source": []
  },
  {
   "cell_type": "code",
   "execution_count": null,
   "metadata": {},
   "outputs": [],
   "source": []
  },
  {
   "cell_type": "code",
   "execution_count": null,
   "metadata": {},
   "outputs": [],
   "source": [
    "spin_temp, ionized_box, brightness_temp = p21c_step(perturbed_field=perturbed_field, spin_temp=None, ionized_box=None)"
   ]
  },
  {
   "cell_type": "code",
   "execution_count": null,
   "metadata": {},
   "outputs": [],
   "source": [
    "def p21c_step(perturbed_field, spin_temp, ionized_box,\n",
    "             input_heating=None, input_ionization=None, input_jalpha=None):\n",
    "    \n",
    "    # Calculate the spin temperature, possibly using our inputs\n",
    "    spin_temp = p21c.spin_temperature(\n",
    "        perturbed_field = perturbed_field,\n",
    "        previous_spin_temp = spin_temp,\n",
    "        input_heating_box = input_heating,\n",
    "        input_ionization_box = input_ionization,\n",
    "        input_jalpha_box = input_jalpha,\n",
    "        astro_params=global_astro_params,\n",
    "    )\n",
    "    \n",
    "    # Calculate the ionized box\n",
    "    ionized_box = p21c.ionize_box(\n",
    "        perturbed_field = perturbed_field,\n",
    "        previous_ionize_box = ionized_box,\n",
    "        spin_temp = spin_temp,\n",
    "        astro_params=global_astro_params,\n",
    "    )\n",
    "    \n",
    "    # Calculate the brightness temperature\n",
    "    brightness_temp = p21c.brightness_temperature(\n",
    "        ionized_box = ionized_box,\n",
    "        perturbed_field = perturbed_field,\n",
    "        spin_temp = spin_temp\n",
    "    )\n",
    "    \n",
    "    return spin_temp, ionized_box, brightness_temp"
   ]
  }
 ],
 "metadata": {
  "kernelspec": {
   "display_name": "dm21cm",
   "language": "python",
   "name": "python3"
  },
  "language_info": {
   "codemirror_mode": {
    "name": "ipython",
    "version": 3
   },
   "file_extension": ".py",
   "mimetype": "text/x-python",
   "name": "python",
   "nbconvert_exporter": "python",
   "pygments_lexer": "ipython3",
   "version": "3.11.5"
  },
  "orig_nbformat": 4
 },
 "nbformat": 4,
 "nbformat_minor": 2
}
