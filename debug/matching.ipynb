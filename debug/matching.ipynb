{
 "cells": [
  {
   "cell_type": "code",
   "execution_count": 1,
   "metadata": {},
   "outputs": [],
   "source": [
    "%reload_ext autoreload\n",
    "%autoreload 2\n",
    "\n",
    "import sys\n",
    "import gc\n",
    "\n",
    "import numpy as np\n",
    "\n",
    "sys.path.append(\"..\")\n",
    "from dm21cm.dm_params import DMParams\n",
    "\n",
    "%matplotlib inline\n",
    "import matplotlib as mpl\n",
    "import matplotlib.pyplot as plt\n",
    "from matplotlib import colormaps as cms\n",
    "mpl.rc_file(\"../matplotlibrc\")"
   ]
  },
  {
   "cell_type": "code",
   "execution_count": 2,
   "metadata": {},
   "outputs": [
    {
     "name": "stderr",
     "output_type": "stream",
     "text": [
      "/n/home07/yitians/.conda/envs/dm21cm/lib/python3.11/site-packages/py21cmfast/_cfg.py:58: UserWarning: Your configuration file is out of date. Updating...\n",
      "  warnings.warn(\n",
      "/n/home07/yitians/.conda/envs/dm21cm/lib/python3.11/site-packages/py21cmfast/_cfg.py:42: UserWarning: Your configuration file is out of date. Updating...\n",
      "  warnings.warn(\"Your configuration file is out of date. Updating...\")\n"
     ]
    }
   ],
   "source": [
    "\"\"\"Main evolution function.\"\"\"\n",
    "\n",
    "import os\n",
    "import sys\n",
    "import logging\n",
    "\n",
    "import numpy as np\n",
    "from scipy import interpolate\n",
    "from astropy.cosmology import Planck18\n",
    "import astropy.units as u\n",
    "import jax.numpy as jnp\n",
    "\n",
    "import py21cmfast as p21c\n",
    "from py21cmfast import cache_tools\n",
    "\n",
    "sys.path.append(os.environ['DH_DIR']) # use branch test_dm21cm\n",
    "from darkhistory.spec.spectrum import Spectrum\n",
    "\n",
    "sys.path.append(\"..\")\n",
    "import dm21cm.physics as phys\n",
    "from dm21cm.dh_wrappers import DarkHistoryWrapper, TransferFunctionWrapper\n",
    "from dm21cm.utils import load_h5_dict\n",
    "from dm21cm.data_cacher import Cacher\n",
    "from dm21cm.profiler import Profiler\n",
    "\n",
    "logging.getLogger().setLevel(logging.INFO)\n",
    "logging.getLogger('21cmFAST').setLevel(logging.CRITICAL+1)\n",
    "logging.getLogger('py21cmfast._utils').setLevel(logging.CRITICAL+1)\n",
    "logging.getLogger('py21cmfast.wrapper').setLevel(logging.CRITICAL+1)"
   ]
  },
  {
   "cell_type": "code",
   "execution_count": 3,
   "metadata": {},
   "outputs": [],
   "source": [
    "#===== utilities for evolve =====\n",
    "\n",
    "def get_z_edges(z_max, z_min, zplusone_step_factor):\n",
    "    z_s = [z_min]\n",
    "    while z_s[-1] < z_max:\n",
    "        z_s.append((z_s[-1] + 1.0) * zplusone_step_factor - 1.0)\n",
    "    \n",
    "    return np.clip(z_s[::-1], None, z_max)\n",
    "\n",
    "\n",
    "def split_xray(phot_N, phot_eng):\n",
    "    \"\"\"Split a photon spectrum (N in bin) into bath and xray band.\"\"\"\n",
    "\n",
    "    ex_lo, ex_hi = 1e2, 1e4 # [eV]\n",
    "    ix_lo = np.searchsorted(phot_eng, ex_lo) # i of first bin greater than ex_lo, excluded\n",
    "    ix_hi = np.searchsorted(phot_eng, ex_hi) # i of first bin greater than ex_hi, included\n",
    "\n",
    "    bath_N = np.array(phot_N).copy()\n",
    "    xray_N = np.array(phot_N).copy()\n",
    "    bath_N[ix_lo:ix_hi] *= 0\n",
    "    xray_N[:ix_lo] *= 0\n",
    "    xray_N[ix_hi:] *= 0\n",
    "    \n",
    "    return bath_N, xray_N\n",
    "\n",
    "\n",
    "def gen_injection_boxes(z_next, p21c_initial_conditions):\n",
    "    \n",
    "    input_heating = p21c.input_heating(redshift=z_next, init_boxes=p21c_initial_conditions, write=False)\n",
    "    input_ionization = p21c.input_ionization(redshift=z_next, init_boxes=p21c_initial_conditions, write=False)\n",
    "    input_jalpha = p21c.input_jalpha(redshift=z_next, init_boxes=p21c_initial_conditions, write=False)\n",
    "    \n",
    "    return input_heating, input_ionization, input_jalpha\n",
    "\n",
    "global_astro_params = p21c.AstroParams(\n",
    "    L_X = 0. # L_X = 10**0.\n",
    ")\n",
    "\n",
    "def p21c_step(perturbed_field, spin_temp, ionized_box,\n",
    "             input_heating=None, input_ionization=None, input_jalpha=None):\n",
    "    \n",
    "    # Calculate the spin temperature, possibly using our inputs\n",
    "    spin_temp = p21c.spin_temperature(\n",
    "        perturbed_field = perturbed_field,\n",
    "        previous_spin_temp = spin_temp,\n",
    "        input_heating_box = input_heating,\n",
    "        input_ionization_box = input_ionization,\n",
    "        input_jalpha_box = input_jalpha,\n",
    "        astro_params=global_astro_params,\n",
    "    )\n",
    "    \n",
    "    # Calculate the ionized box\n",
    "    ionized_box = p21c.ionize_box(\n",
    "        perturbed_field = perturbed_field,\n",
    "        previous_ionize_box = ionized_box,\n",
    "        spin_temp = spin_temp,\n",
    "        astro_params=global_astro_params,\n",
    "    )\n",
    "    \n",
    "    # Calculate the brightness temperature\n",
    "    brightness_temp = p21c.brightness_temperature(\n",
    "        ionized_box = ionized_box,\n",
    "        perturbed_field = perturbed_field,\n",
    "        spin_temp = spin_temp\n",
    "    )\n",
    "    \n",
    "    return spin_temp, ionized_box, brightness_temp"
   ]
  },
  {
   "cell_type": "code",
   "execution_count": 49,
   "metadata": {},
   "outputs": [
    {
     "name": "stderr",
     "output_type": "stream",
     "text": [
      "/n/home07/yitians/.conda/envs/dm21cm/lib/python3.11/site-packages/py21cmfast/inputs.py:487: UserWarning: The USE_INTERPOLATION_TABLES setting has changed in v3.1.2 to be default True. You can likely ignore this warning, but if you relied onhaving USE_INTERPOLATION_TABLES=False by *default*, please set it explicitly. To silence this warning, set it explicitly to True. Thiswarning will be removed in v4.\n",
      "  warnings.warn(\n"
     ]
    }
   ],
   "source": [
    "run_name = 'test'\n",
    "z_start = 45.\n",
    "z_end = 5.\n",
    "zplusone_step_factor = 1.01\n",
    "dm_params = DMParams(\n",
    "    mode = 'swave',\n",
    "    primary = 'phot_delta',\n",
    "    m_DM = 1e10,\n",
    "    sigmav = 1e-23,\n",
    "    struct_boost_model = 'erfc 1e-3',\n",
    ")\n",
    "enable_elec = False\n",
    "tf_version = '230629xc'\n",
    "\n",
    "p21c_initial_conditions = p21c.initial_conditions(\n",
    "    user_params = p21c.UserParams(\n",
    "        HII_DIM = 128,\n",
    "        BOX_LEN = 128 * 2, # [conformal Mpc]\n",
    "        N_THREADS = 32,\n",
    "    ),\n",
    "    cosmo_params = p21c.CosmoParams(\n",
    "        OMm = Planck18.Om0,\n",
    "        OMb = Planck18.Ob0,\n",
    "        POWER_INDEX = Planck18.meta['n'],\n",
    "        SIGMA_8 = Planck18.meta['sigma8'],\n",
    "        hlittle = Planck18.h,\n",
    "    ),\n",
    "    random_seed = 3458,\n",
    "    write = True,\n",
    ")\n",
    "\n",
    "rerun_DH = False\n",
    "clear_cache = True\n",
    "use_tqdm = False\n",
    "debug_flags = []"
   ]
  },
  {
   "cell_type": "code",
   "execution_count": 61,
   "metadata": {},
   "outputs": [
    {
     "name": "stderr",
     "output_type": "stream",
     "text": [
      "INFO:root:Using 21cmFAST version 0.1.dev1580+g2fe9754\n",
      "INFO:root:Cache dir: /n/holyscratch01/iaifi_lab/yitians/21cmFAST-cache/test\n",
      "INFO:root:DarkHistoryWrapper: Found existing DarkHistory initial conditions.\n"
     ]
    }
   ],
   "source": [
    "logging.info(f'Using 21cmFAST version {p21c.__version__}')\n",
    "\n",
    "#===== cache and memory =====\n",
    "p21c.config['direc'] = f\"{os.environ['P21C_CACHE_DIR']}/{run_name}\"\n",
    "logging.info(f\"Cache dir: {p21c.config['direc']}\")\n",
    "os.makedirs(p21c.config['direc'], exist_ok=True)\n",
    "if clear_cache:\n",
    "    cache_tools.clear_cache()\n",
    "gc.collect()\n",
    "\n",
    "#===== initialize =====\n",
    "#--- physics parameters ---\n",
    "p21c.global_params.Z_HEAT_MAX = z_start\n",
    "p21c.global_params.ZPRIME_STEP_FACTOR = zplusone_step_factor\n",
    "p21c.global_params.CLUMPING_FACTOR = 1.\n",
    "EPSILON = 1e-6\n",
    "\n",
    "abscs = load_h5_dict(f'../data/abscissas/abscs_{tf_version}.h5')\n",
    "if not np.isclose(np.log(zplusone_step_factor), abscs['dlnz']):\n",
    "    raise ValueError('zplusone_step_factor and tf_version mismatch')\n",
    "dm_params.set_inj_specs(abscs)\n",
    "\n",
    "box_dim = p21c_initial_conditions.user_params.HII_DIM\n",
    "box_len = p21c_initial_conditions.user_params.BOX_LEN\n",
    "cosmo = Planck18\n",
    "\n",
    "#--- DarkHistory and transfer functions ---\n",
    "dh_wrapper = DarkHistoryWrapper(\n",
    "    dm_params,\n",
    "    prefix = p21c.config[f'direc'],\n",
    ")\n",
    "\n",
    "#--- redshift stepping ---\n",
    "z_edges = get_z_edges(z_start, z_end, p21c.global_params.ZPRIME_STEP_FACTOR)\n",
    "\n",
    "#===== initial step =====\n",
    "dh_wrapper.evolve(end_rs=(1+z_start)*0.9, rerun=rerun_DH)\n",
    "#mean_T_k, mean_x_e = dh_wrapper.match(spin_temp, ionized_box)\n",
    "mean_T_k, mean_x_e = 1e-5, 1e-5\n",
    "p21c.global_params.TK_at_Z_HEAT_MAX = mean_T_k\n",
    "p21c.global_params.XION_at_Z_HEAT_MAX = mean_x_e\n",
    "phot_bath_spec = dh_wrapper.get_phot_bath(rs=1+z_edges[0])\n",
    "\n",
    "perturbed_field = p21c.perturb_field(redshift=z_edges[0], init_boxes=p21c_initial_conditions)\n",
    "spin_temp, ionized_box, brightness_temp = p21c_step(perturbed_field=perturbed_field, spin_temp=None, ionized_box=None)"
   ]
  },
  {
   "cell_type": "code",
   "execution_count": 73,
   "metadata": {},
   "outputs": [
    {
     "data": {
      "text/plain": [
       "FlagOptions(FIX_VCB_AVG:False, INHOMO_RECO:False, M_MIN_in_Mass:True, PHOTON_CONS:False, SUBCELL_RSD:False, USE_HALO_FIELD:False, USE_MASS_DEPENDENT_ZETA:True, USE_MINI_HALOS:False, USE_TS_FLUCT:False)"
      ]
     },
     "execution_count": 73,
     "metadata": {},
     "output_type": "execute_result"
    }
   ],
   "source": [
    "p21c.FlagOptions()"
   ]
  },
  {
   "cell_type": "code",
   "execution_count": 68,
   "metadata": {},
   "outputs": [
    {
     "data": {
      "text/plain": [
       "1e-05"
      ]
     },
     "execution_count": 68,
     "metadata": {},
     "output_type": "execute_result"
    }
   ],
   "source": [
    "spin_temp._global_params.TK_at_Z_HEAT_MAX"
   ]
  },
  {
   "cell_type": "code",
   "execution_count": 69,
   "metadata": {},
   "outputs": [
    {
     "data": {
      "text/plain": [
       "1e-05"
      ]
     },
     "execution_count": 69,
     "metadata": {},
     "output_type": "execute_result"
    }
   ],
   "source": [
    "spin_temp._global_params.XION_at_Z_HEAT_MAX"
   ]
  },
  {
   "cell_type": "code",
   "execution_count": 62,
   "metadata": {},
   "outputs": [
    {
     "data": {
      "text/plain": [
       "Text(0.5, 1.0, 'xe is set to 1e-5')"
      ]
     },
     "execution_count": 62,
     "metadata": {},
     "output_type": "execute_result"
    },
    {
     "data": {
      "image/png": "[encoded data removed]",
      "text/plain": [
       "<Figure size 720x480 with 2 Axes>"
      ]
     },
     "metadata": {},
     "output_type": "display_data"
    }
   ],
   "source": [
    "plt.imshow(spin_temp.x_e_box[0])\n",
    "plt.colorbar()\n",
    "plt.title('xe is set to 1e-5')"
   ]
  },
  {
   "cell_type": "code",
   "execution_count": 63,
   "metadata": {},
   "outputs": [
    {
     "data": {
      "text/plain": [
       "0.99999994"
      ]
     },
     "execution_count": 63,
     "metadata": {},
     "output_type": "execute_result"
    }
   ],
   "source": [
    "np.mean(spin_temp.x_e_box)"
   ]
  },
  {
   "cell_type": "code",
   "execution_count": 64,
   "metadata": {},
   "outputs": [
    {
     "data": {
      "text/plain": [
       "45.0"
      ]
     },
     "execution_count": 64,
     "metadata": {},
     "output_type": "execute_result"
    }
   ],
   "source": [
    "spin_temp.redshift"
   ]
  },
  {
   "cell_type": "code",
   "execution_count": 65,
   "metadata": {},
   "outputs": [
    {
     "data": {
      "text/plain": [
       "125.48818"
      ]
     },
     "execution_count": 65,
     "metadata": {},
     "output_type": "execute_result"
    }
   ],
   "source": [
    "np.mean(spin_temp.Tk_box)"
   ]
  },
  {
   "cell_type": "code",
   "execution_count": 66,
   "metadata": {},
   "outputs": [
    {
     "data": {
      "text/plain": [
       "Text(0.5, 1.0, 'Tk is set to 1e-5')"
      ]
     },
     "execution_count": 66,
     "metadata": {},
     "output_type": "execute_result"
    },
    {
     "data": {
      "image/png": "[encoded data removed]",
      "text/plain": [
       "<Figure size 720x480 with 2 Axes>"
      ]
     },
     "metadata": {},
     "output_type": "display_data"
    }
   ],
   "source": [
    "plt.imshow(spin_temp.Tk_box[0])\n",
    "plt.colorbar()\n",
    "plt.title('Tk is set to 1e-5')"
   ]
  },
  {
   "cell_type": "code",
   "execution_count": 5,
   "metadata": {},
   "outputs": [
    {
     "data": {
      "text/plain": [
       "GlobalParams(ALPHA_UVB=5.0;CLUMPING_FACTOR=2.0;CRIT_DENS_TRANSITION=1.5;DELTA_CRIT_MODE=1;DELTA_R_FACTOR=1.100000023841858;DELTA_R_HII_FACTOR=1.100000023841858;EVOLVE_DENSITY_LINEARLY=0;FILTER=0;FIND_BUBBLE_ALGORITHM=2;HALO_FILTER=0;HEAT_FILTER=0;HII_FILTER=1;HII_ROUND_ERR=9.999999747378752e-06;INITIAL_REDSHIFT=300.0;MAX_DVDR=0.20000000298023224;MIN_DENSITY_LOW_LIMIT=9.000000034120603e-08;M_MAX_INTEGRAL=1.0000000272564224e+16;M_MIN_INTEGRAL=100000.0;M_WDM=2.0;NBINS_LF=100;NUM_FILTER_STEPS_FOR_Ts=40;NU_X_BAND_MAX=2000.0;NU_X_MAX=10000.0;N_POISSON=5;OMk=0.0;OMn=0.0;OMr=8.600000001024455e-05;OMtot=1.0;OPTIMIZE=0;OPTIMIZE_MIN_MASS=99999997952.0;P_CUTOFF=0;PhotonConsAsymptoteTo=0.009999999776482582;PhotonConsEnd=0.30000001192092896;PhotonConsEndCalibz=3.5;PhotonConsStart=0.9950000047683716;Pop=2;Pop2_ion=5000.0;Pop3_ion=44021.0;R_BUBBLE_MIN=0.6203504800796509;R_OVERLAP_FACTOR=1.0;R_XLy_MAX=500.0;R_smooth_density=0.20000000298023224;RecombPhotonCons=0;SHETH_b=0.15000000596046448;SHETH_c=0.05000000074505806;SMOOTH_EVOLVED_DENSITY_FIELD=0;TK_at_Z_HEAT_MAX=-1.0;T_RE=20000.0;T_USE_VELOCITIES=1;USE_FAST_ATOMIC=False;VAVG=25.860000610351562;XION_at_Z_HEAT_MAX=-1.0;Y_He=0.24500000476837158;ZPRIME_STEP_FACTOR=1.0199999809265137;Z_HEAT_MAX=35.0;Zreion_HeII=3.0;external_table_path=<cdata 'char[]' owning 83 bytes>;g_x=1.5;wisdoms_path=<cdata 'char[]' owning 41 bytes>;wl=-1.0)"
      ]
     },
     "execution_count": 5,
     "metadata": {},
     "output_type": "execute_result"
    }
   ],
   "source": [
    "p21c.global_params"
   ]
  },
  {
   "cell_type": "code",
   "execution_count": 35,
   "metadata": {},
   "outputs": [
    {
     "data": {
      "text/plain": [
       "(242.32991, 0.0057613607)"
      ]
     },
     "execution_count": 35,
     "metadata": {},
     "output_type": "execute_result"
    }
   ],
   "source": [
    "np.mean(spin_temp.Tk_box), np.mean(spin_temp.x_e_box)"
   ]
  },
  {
   "cell_type": "code",
   "execution_count": 36,
   "metadata": {},
   "outputs": [
    {
     "data": {
      "text/plain": [
       "(45.0, 44.67846508307498)"
      ]
     },
     "execution_count": 36,
     "metadata": {},
     "output_type": "execute_result"
    }
   ],
   "source": [
    "z_edges[0], z_edges[1]"
   ]
  },
  {
   "cell_type": "code",
   "execution_count": 37,
   "metadata": {},
   "outputs": [],
   "source": [
    "perturbed_field = p21c.perturb_field(redshift=z_edges[1], init_boxes=p21c_initial_conditions)"
   ]
  },
  {
   "cell_type": "code",
   "execution_count": 38,
   "metadata": {},
   "outputs": [],
   "source": [
    "spin_temp = p21c.spin_temperature(\n",
    "    perturbed_field = perturbed_field,\n",
    "    previous_spin_temp = spin_temp,\n",
    "    input_heating_box = None,\n",
    "    input_ionization_box = None,\n",
    "    input_jalpha_box = None,\n",
    "    write=True,\n",
    ")"
   ]
  },
  {
   "cell_type": "code",
   "execution_count": 39,
   "metadata": {},
   "outputs": [
    {
     "data": {
      "text/plain": [
       "40.20591"
      ]
     },
     "execution_count": 39,
     "metadata": {},
     "output_type": "execute_result"
    }
   ],
   "source": [
    "np.mean(spin_temp.Tk_box)"
   ]
  },
  {
   "cell_type": "code",
   "execution_count": 31,
   "metadata": {},
   "outputs": [
    {
     "data": {
      "text/plain": [
       "['IonizedBox_669a86d5ccc561535be3cc44fa387174_r54321.h5',\n",
       " 'BrightnessTemp_aa5af2d9482c35f94212b81caa89b093_r54321.h5',\n",
       " 'PerturbedField_61c17a37cfa4fbf33c31f1b8c831a186_r54321.h5',\n",
       " 'dh_init_soln.p',\n",
       " 'TsBox_1e5806275944908f8dd13625d8befc1a_r54321.h5',\n",
       " 'PerturbedField_593ee2d337d9a446d967e4d1d760967b_r54321.h5',\n",
       " 'xraycheck_brightness.h5',\n",
       " 'TsBox_df092d5cf742677ce97b15765fc607d1_r54321.h5',\n",
       " 'InitialConditions_21beb02d574389c977e5ff74ec0d8b7c_r54321.h5']"
      ]
     },
     "execution_count": 31,
     "metadata": {},
     "output_type": "execute_result"
    }
   ],
   "source": [
    "os.listdir(os.environ['P21C_CACHE_DIR']+'/test')"
   ]
  },
  {
   "cell_type": "code",
   "execution_count": null,
   "metadata": {},
   "outputs": [],
   "source": []
  },
  {
   "cell_type": "code",
   "execution_count": null,
   "metadata": {},
   "outputs": [],
   "source": []
  },
  {
   "cell_type": "code",
   "execution_count": null,
   "metadata": {},
   "outputs": [],
   "source": [
    "spin_temp, ionized_box, brightness_temp = p21c_step(perturbed_field=perturbed_field, spin_temp=None, ionized_box=None)"
   ]
  },
  {
   "cell_type": "code",
   "execution_count": null,
   "metadata": {},
   "outputs": [],
   "source": [
    "def p21c_step(perturbed_field, spin_temp, ionized_box,\n",
    "             input_heating=None, input_ionization=None, input_jalpha=None):\n",
    "    \n",
    "    # Calculate the spin temperature, possibly using our inputs\n",
    "    spin_temp = p21c.spin_temperature(\n",
    "        perturbed_field = perturbed_field,\n",
    "        previous_spin_temp = spin_temp,\n",
    "        input_heating_box = input_heating,\n",
    "        input_ionization_box = input_ionization,\n",
    "        input_jalpha_box = input_jalpha,\n",
    "        astro_params=global_astro_params,\n",
    "    )\n",
    "    \n",
    "    # Calculate the ionized box\n",
    "    ionized_box = p21c.ionize_box(\n",
    "        perturbed_field = perturbed_field,\n",
    "        previous_ionize_box = ionized_box,\n",
    "        spin_temp = spin_temp,\n",
    "        astro_params=global_astro_params,\n",
    "    )\n",
    "    \n",
    "    # Calculate the brightness temperature\n",
    "    brightness_temp = p21c.brightness_temperature(\n",
    "        ionized_box = ionized_box,\n",
    "        perturbed_field = perturbed_field,\n",
    "        spin_temp = spin_temp\n",
    "    )\n",
    "    \n",
    "    return spin_temp, ionized_box, brightness_temp"
   ]
  }
 ],
 "metadata": {
  "kernelspec": {
   "display_name": "dm21cm",
   "language": "python",
   "name": "python3"
  },
  "language_info": {
   "codemirror_mode": {
    "name": "ipython",
    "version": 3
   },
   "file_extension": ".py",
   "mimetype": "text/x-python",
   "name": "python",
   "nbconvert_exporter": "python",
   "pygments_lexer": "ipython3",
   "version": "3.11.5"
  },
  "orig_nbformat": 4
 },
 "nbformat": 4,
 "nbformat_minor": 2
}
