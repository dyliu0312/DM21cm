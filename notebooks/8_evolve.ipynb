{
 "cells": [
  {
   "cell_type": "code",
   "execution_count": 1,
   "id": "45e7b1e4-4292-4223-a42b-a3de5813a1b5",
   "metadata": {
    "tags": []
   },
   "outputs": [
    {
     "name": "stderr",
     "output_type": "stream",
     "text": [
      "/n/home07/yitians/.conda/envs/21cmfast/lib/python3.10/site-packages/py21cmfast/_cfg.py:58: UserWarning: Your configuration file is out of date. Updating...\n",
      "  warnings.warn(\n",
      "/n/home07/yitians/.conda/envs/21cmfast/lib/python3.10/site-packages/py21cmfast/_cfg.py:42: UserWarning: Your configuration file is out of date. Updating...\n",
      "  warnings.warn(\"Your configuration file is out of date. Updating...\")\n",
      "INFO:root:Using 21cmFAST version 0.1.dev1579+g6b1da6d.d20230702\n"
     ]
    }
   ],
   "source": [
    "%reload_ext autoreload\n",
    "%autoreload 2\n",
    "\n",
    "import os\n",
    "import sys\n",
    "import logging\n",
    "import pickle\n",
    "\n",
    "import numpy as np\n",
    "\n",
    "import py21cmfast as p21c\n",
    "\n",
    "sys.path.append(\"..\")\n",
    "from dm21cm.dm_params import DMParams\n",
    "from dm21cm.evolve import evolve\n",
    "import dm21cm.physics as phys\n",
    "from dm21cm.utils import load_dict\n",
    "\n",
    "%matplotlib inline\n",
    "import matplotlib as mpl\n",
    "import matplotlib.pyplot as plt\n",
    "from matplotlib import colormaps as cms\n",
    "mpl.rc_file(\"../matplotlibrc\")"
   ]
  },
  {
   "cell_type": "markdown",
   "id": "d443f30e-31bf-465c-a6d5-d9b8ae446f9d",
   "metadata": {},
   "source": [
    "## config"
   ]
  },
  {
   "cell_type": "code",
   "execution_count": 2,
   "id": "36fdc446",
   "metadata": {
    "tags": []
   },
   "outputs": [
    {
     "name": "stdout",
     "output_type": "stream",
     "text": [
      "48\n"
     ]
    }
   ],
   "source": [
    "print(os.cpu_count())"
   ]
  },
  {
   "cell_type": "code",
   "execution_count": null,
   "id": "ac3bab00",
   "metadata": {
    "tags": []
   },
   "outputs": [],
   "source": [
    "# check cached runs\n",
    "l = os.listdir(os.environ['P21C_CACHE_DIR'])\n",
    "l.sort()\n",
    "[print(i) for i in l];"
   ]
  },
  {
   "cell_type": "code",
   "execution_count": null,
   "id": "6b9ad0c1-f765-4f95-9288-fb678cb5bc54",
   "metadata": {
    "tags": []
   },
   "outputs": [],
   "source": [
    "! ls -l /n/home07/yitians/dm21cm/DM21cm/data/run_info/DH"
   ]
  },
  {
   "cell_type": "code",
   "execution_count": 4,
   "id": "ee2f17b3-5f5f-43c4-bb39-c7245e12d3ee",
   "metadata": {
    "tags": []
   },
   "outputs": [],
   "source": [
    "! mkdir /n/holyscratch01/iaifi_lab/yitians/21cmFAST-cache/phph_dhinit_s8zero_fine_debug_fine/"
   ]
  },
  {
   "cell_type": "code",
   "execution_count": 5,
   "id": "997f79e4-a25f-4f6b-a0b2-9ccdbc29540b",
   "metadata": {
    "tags": []
   },
   "outputs": [],
   "source": [
    "! cp /n/home07/yitians/dm21cm/DM21cm/data/run_info/DH/phph_debug_fine_soln.p /n/holyscratch01/iaifi_lab/yitians/21cmFAST-cache/phph_dhinit_s8zero_fine_debug_fine/dhinit_soln.p"
   ]
  },
  {
   "cell_type": "code",
   "execution_count": 10,
   "id": "880b9f5c",
   "metadata": {},
   "outputs": [],
   "source": [
    "import time\n",
    "from tqdm import tqdm"
   ]
  },
  {
   "cell_type": "code",
   "execution_count": 11,
   "id": "e242e6b0",
   "metadata": {},
   "outputs": [
    {
     "name": "stderr",
     "output_type": "stream",
     "text": [
      "  0%|          | 0/100 [00:00<?, ?it/s]"
     ]
    },
    {
     "name": "stderr",
     "output_type": "stream",
     "text": [
      "100%|██████████| 100/100 [00:10<00:00,  9.94it/s]\n"
     ]
    }
   ],
   "source": [
    "for i in tqdm(range(100)):\n",
    "    # sleep for 0.1 seconds\n",
    "    time.sleep(0.1)"
   ]
  },
  {
   "cell_type": "markdown",
   "id": "c25b2ecd-70b2-44da-8f76-1dfb718d4e71",
   "metadata": {},
   "source": [
    "## run"
   ]
  },
  {
   "cell_type": "code",
   "execution_count": 14,
   "id": "cdd30f0b-e743-4023-a959-764061ceda08",
   "metadata": {
    "tags": []
   },
   "outputs": [
    {
     "name": "stderr",
     "output_type": "stream",
     "text": [
      "/n/home07/yitians/.conda/envs/21cmfast/lib/python3.10/site-packages/py21cmfast/inputs.py:487: UserWarning: The USE_INTERPOLATION_TABLES setting has changed in v3.1.2 to be default True. You can likely ignore this warning, but if you relied onhaving USE_INTERPOLATION_TABLES=False by *default*, please set it explicitly. To silence this warning, set it explicitly to True. Thiswarning will be removed in v4.\n",
      "  warnings.warn(\n"
     ]
    },
    {
     "ename": "KeyboardInterrupt",
     "evalue": "",
     "output_type": "error",
     "traceback": [
      "\u001b[0;31m---------------------------------------------------------------------------\u001b[0m",
      "\u001b[0;31mKeyboardInterrupt\u001b[0m                         Traceback (most recent call last)",
      "Cell \u001b[0;32mIn[14], line 18\u001b[0m\n\u001b[1;32m      1\u001b[0m dd \u001b[39m=\u001b[39m evolve(\n\u001b[1;32m      2\u001b[0m     run_name \u001b[39m=\u001b[39m \u001b[39m'\u001b[39m\u001b[39mphph_dhinit_s8zero_fine_debug\u001b[39m\u001b[39m'\u001b[39m,\n\u001b[1;32m      3\u001b[0m     run_mode \u001b[39m=\u001b[39m \u001b[39m'\u001b[39m\u001b[39mbath\u001b[39m\u001b[39m'\u001b[39m,\n\u001b[1;32m      4\u001b[0m     z_start \u001b[39m=\u001b[39m \u001b[39m44\u001b[39m,\n\u001b[1;32m      5\u001b[0m     z_end \u001b[39m=\u001b[39m \u001b[39m6\u001b[39m,\n\u001b[1;32m      6\u001b[0m     zplusone_step_factor \u001b[39m=\u001b[39m \u001b[39m1.05\u001b[39m,\n\u001b[1;32m      7\u001b[0m     dm_params \u001b[39m=\u001b[39m DMParams(\n\u001b[1;32m      8\u001b[0m         mode \u001b[39m=\u001b[39m \u001b[39m'\u001b[39m\u001b[39mswave\u001b[39m\u001b[39m'\u001b[39m,\n\u001b[1;32m      9\u001b[0m         primary \u001b[39m=\u001b[39m \u001b[39m'\u001b[39m\u001b[39mphot_delta\u001b[39m\u001b[39m'\u001b[39m,\n\u001b[1;32m     10\u001b[0m         m_DM \u001b[39m=\u001b[39m \u001b[39m1e10\u001b[39m,\n\u001b[1;32m     11\u001b[0m         sigmav \u001b[39m=\u001b[39m \u001b[39m1e-24\u001b[39m,\n\u001b[1;32m     12\u001b[0m     ),\n\u001b[1;32m     13\u001b[0m     struct_boost_model \u001b[39m=\u001b[39m \u001b[39m'\u001b[39m\u001b[39merfc 1e-3\u001b[39m\u001b[39m'\u001b[39m,\n\u001b[1;32m     14\u001b[0m     enable_elec \u001b[39m=\u001b[39m \u001b[39mFalse\u001b[39;00m,\n\u001b[1;32m     15\u001b[0m     dhinit_list \u001b[39m=\u001b[39m [\u001b[39m'\u001b[39m\u001b[39mphot\u001b[39m\u001b[39m'\u001b[39m, \u001b[39m'\u001b[39m\u001b[39mT_k\u001b[39m\u001b[39m'\u001b[39m, \u001b[39m'\u001b[39m\u001b[39mx_e\u001b[39m\u001b[39m'\u001b[39m],\n\u001b[1;32m     16\u001b[0m     dhtf_version \u001b[39m=\u001b[39m \u001b[39m'\u001b[39m\u001b[39mdebug_230802\u001b[39m\u001b[39m'\u001b[39m,\n\u001b[1;32m     17\u001b[0m     \n\u001b[0;32m---> 18\u001b[0m     p21c_initial_conditions \u001b[39m=\u001b[39m p21c\u001b[39m.\u001b[39;49minitial_conditions(\n\u001b[1;32m     19\u001b[0m         user_params \u001b[39m=\u001b[39;49m p21c\u001b[39m.\u001b[39;49mUserParams(\n\u001b[1;32m     20\u001b[0m             HII_DIM \u001b[39m=\u001b[39;49m \u001b[39m50\u001b[39;49m, \u001b[39m# [1] | base: 50\u001b[39;49;00m\n\u001b[1;32m     21\u001b[0m             BOX_LEN \u001b[39m=\u001b[39;49m \u001b[39m50\u001b[39;49m, \u001b[39m# [p-Mpc] | base: 50\u001b[39;49;00m\n\u001b[1;32m     22\u001b[0m             N_THREADS \u001b[39m=\u001b[39;49m \u001b[39m32\u001b[39;49m\n\u001b[1;32m     23\u001b[0m         ),\n\u001b[1;32m     24\u001b[0m         cosmo_params \u001b[39m=\u001b[39;49m p21c\u001b[39m.\u001b[39;49mCosmoParams(\n\u001b[1;32m     25\u001b[0m             OMm \u001b[39m=\u001b[39;49m \u001b[39m0.32\u001b[39;49m,\n\u001b[1;32m     26\u001b[0m             OMb \u001b[39m=\u001b[39;49m \u001b[39m0.049\u001b[39;49m,\n\u001b[1;32m     27\u001b[0m             POWER_INDEX \u001b[39m=\u001b[39;49m \u001b[39m0.96\u001b[39;49m,\n\u001b[1;32m     28\u001b[0m             SIGMA_8 \u001b[39m=\u001b[39;49m \u001b[39m1e-10\u001b[39;49m, \u001b[39m# base 0.83\u001b[39;49;00m\n\u001b[1;32m     29\u001b[0m             hlittle \u001b[39m=\u001b[39;49m \u001b[39m0.67\u001b[39;49m\n\u001b[1;32m     30\u001b[0m         ),\n\u001b[1;32m     31\u001b[0m         random_seed \u001b[39m=\u001b[39;49m \u001b[39m54321\u001b[39;49m,\n\u001b[1;32m     32\u001b[0m         write \u001b[39m=\u001b[39;49m \u001b[39mTrue\u001b[39;49;00m,\n\u001b[1;32m     33\u001b[0m     ),\n\u001b[1;32m     34\u001b[0m     \n\u001b[1;32m     35\u001b[0m     rerun_DH \u001b[39m=\u001b[39m \u001b[39mFalse\u001b[39;00m,\n\u001b[1;32m     36\u001b[0m     clear_cache \u001b[39m=\u001b[39m \u001b[39mTrue\u001b[39;00m,\n\u001b[1;32m     37\u001b[0m     force_reload_tf \u001b[39m=\u001b[39m \u001b[39mTrue\u001b[39;00m,\n\u001b[1;32m     38\u001b[0m     use_tqdm \u001b[39m=\u001b[39m \u001b[39mTrue\u001b[39;00m,\n\u001b[1;32m     39\u001b[0m     save_slices \u001b[39m=\u001b[39m \u001b[39mTrue\u001b[39;00m,\n\u001b[1;32m     40\u001b[0m     debug \u001b[39m=\u001b[39m \u001b[39mTrue\u001b[39;00m,\n\u001b[1;32m     41\u001b[0m     \u001b[39m#debug_xe_func = interpolate.interp1d(soln['rs']-1, soln['x'][:,0]),\u001b[39;00m\n\u001b[1;32m     42\u001b[0m )\n",
      "File \u001b[0;32m~/.conda/envs/21cmfast/lib/python3.10/site-packages/py21cmfast/wrapper.py:967\u001b[0m, in \u001b[0;36minitial_conditions\u001b[0;34m(user_params, cosmo_params, random_seed, regenerate, write, direc, hooks, **global_kwargs)\u001b[0m\n\u001b[1;32m    965\u001b[0m \u001b[39mif\u001b[39;00m \u001b[39mnot\u001b[39;00m regenerate:\n\u001b[1;32m    966\u001b[0m     \u001b[39mtry\u001b[39;00m:\n\u001b[0;32m--> 967\u001b[0m         boxes\u001b[39m.\u001b[39;49mread(direc)\n\u001b[1;32m    968\u001b[0m         logger\u001b[39m.\u001b[39minfo(\n\u001b[1;32m    969\u001b[0m             \u001b[39mf\u001b[39m\u001b[39m\"\u001b[39m\u001b[39mExisting init_boxes found and read in (seed=\u001b[39m\u001b[39m{\u001b[39;00mboxes\u001b[39m.\u001b[39mrandom_seed\u001b[39m}\u001b[39;00m\u001b[39m).\u001b[39m\u001b[39m\"\u001b[39m\n\u001b[1;32m    970\u001b[0m         )\n\u001b[1;32m    971\u001b[0m         \u001b[39mreturn\u001b[39;00m boxes\n",
      "File \u001b[0;32m~/.conda/envs/21cmfast/lib/python3.10/site-packages/py21cmfast/_utils.py:1164\u001b[0m, in \u001b[0;36mOutputStruct.read\u001b[0;34m(self, direc, fname, keys)\u001b[0m\n\u001b[1;32m   1162\u001b[0m \u001b[39mfor\u001b[39;00m k \u001b[39min\u001b[39;00m boxes\u001b[39m.\u001b[39mkeys():\n\u001b[1;32m   1163\u001b[0m     \u001b[39mif\u001b[39;00m keys \u001b[39mis\u001b[39;00m \u001b[39mNone\u001b[39;00m \u001b[39mor\u001b[39;00m k \u001b[39min\u001b[39;00m keys:\n\u001b[0;32m-> 1164\u001b[0m         \u001b[39msetattr\u001b[39m(\u001b[39mself\u001b[39m, k, boxes[k][\u001b[39m.\u001b[39;49m\u001b[39m.\u001b[39;49m\u001b[39m.\u001b[39;49m])\n\u001b[1;32m   1165\u001b[0m         \u001b[39mself\u001b[39m\u001b[39m.\u001b[39m_array_state[k]\u001b[39m.\u001b[39mon_disk \u001b[39m=\u001b[39m \u001b[39mTrue\u001b[39;00m\n\u001b[1;32m   1166\u001b[0m         \u001b[39mself\u001b[39m\u001b[39m.\u001b[39m_array_state[k]\u001b[39m.\u001b[39mcomputed_in_mem \u001b[39m=\u001b[39m \u001b[39mTrue\u001b[39;00m\n",
      "File \u001b[0;32mh5py/_objects.pyx:54\u001b[0m, in \u001b[0;36mh5py._objects.with_phil.wrapper\u001b[0;34m()\u001b[0m\n",
      "File \u001b[0;32mh5py/_objects.pyx:55\u001b[0m, in \u001b[0;36mh5py._objects.with_phil.wrapper\u001b[0;34m()\u001b[0m\n",
      "File \u001b[0;32m~/.local/lib/python3.10/site-packages/h5py/_hl/dataset.py:768\u001b[0m, in \u001b[0;36mDataset.__getitem__\u001b[0;34m(self, args, new_dtype)\u001b[0m\n\u001b[1;32m    766\u001b[0m \u001b[39mif\u001b[39;00m \u001b[39mself\u001b[39m\u001b[39m.\u001b[39m_fast_read_ok \u001b[39mand\u001b[39;00m (new_dtype \u001b[39mis\u001b[39;00m \u001b[39mNone\u001b[39;00m):\n\u001b[1;32m    767\u001b[0m     \u001b[39mtry\u001b[39;00m:\n\u001b[0;32m--> 768\u001b[0m         \u001b[39mreturn\u001b[39;00m \u001b[39mself\u001b[39;49m\u001b[39m.\u001b[39;49m_fast_reader\u001b[39m.\u001b[39;49mread(args)\n\u001b[1;32m    769\u001b[0m     \u001b[39mexcept\u001b[39;00m \u001b[39mTypeError\u001b[39;00m:\n\u001b[1;32m    770\u001b[0m         \u001b[39mpass\u001b[39;00m  \u001b[39m# Fall back to Python read pathway below\u001b[39;00m\n",
      "\u001b[0;31mKeyboardInterrupt\u001b[0m: "
     ]
    }
   ],
   "source": [
    "dd = evolve(\n",
    "    run_name = 'phph_dhinit_s8zero_fine_debug',\n",
    "    run_mode = 'bath',\n",
    "    z_start = 44,\n",
    "    z_end = 6,\n",
    "    zplusone_step_factor = 1.05,\n",
    "    dm_params = DMParams(\n",
    "        mode = 'swave',\n",
    "        primary = 'phot_delta',\n",
    "        m_DM = 1e10,\n",
    "        sigmav = 1e-24,\n",
    "    ),\n",
    "    struct_boost_model = 'erfc 1e-3',\n",
    "    enable_elec = False,\n",
    "    dhinit_list = ['phot', 'T_k', 'x_e'],\n",
    "    dhtf_version = 'debug_230802',\n",
    "    \n",
    "    p21c_initial_conditions = p21c.initial_conditions(\n",
    "        user_params = p21c.UserParams(\n",
    "            HII_DIM = 50, # [1] | base: 50\n",
    "            BOX_LEN = 50, # [p-Mpc] | base: 50\n",
    "            N_THREADS = 32\n",
    "        ),\n",
    "        cosmo_params = p21c.CosmoParams(\n",
    "            OMm = 0.32,\n",
    "            OMb = 0.049,\n",
    "            POWER_INDEX = 0.96,\n",
    "            SIGMA_8 = 1e-10, # base 0.83\n",
    "            hlittle = 0.67\n",
    "        ),\n",
    "        random_seed = 54321,\n",
    "        write = True,\n",
    "    ),\n",
    "    \n",
    "    rerun_DH = False,\n",
    "    clear_cache = True,\n",
    "    force_reload_tf = True,\n",
    "    use_tqdm = True,\n",
    "    save_slices = True,\n",
    "    debug = True,\n",
    "    #debug_xe_func = interpolate.interp1d(soln['rs']-1, soln['x'][:,0]),\n",
    ")"
   ]
  },
  {
   "cell_type": "code",
   "execution_count": null,
   "id": "f5f9a732-0ff0-4641-9efb-66398fe26761",
   "metadata": {},
   "outputs": [],
   "source": [
    "rs 20.615018489612996\n",
    "dE/dBavg_dt 5.575885e-18\n",
    "struct_boost 235.7262879021981\n",
    "dE/dBavg_dt 1.3143826e-15"
   ]
  },
  {
   "cell_type": "code",
   "execution_count": null,
   "id": "ea48cf34-54ab-4679-9171-a4f50922457c",
   "metadata": {},
   "outputs": [],
   "source": [
    "20.615018489619406 0.00131764251603822 5.4393989312728763e-14\n",
    "hep.rs : 20.615018489619406\n",
    "hep [eV/Bavg] : 2.9974439701319713\n",
    "hed (ion exc heat cont) [eV/Bavg] : [0.         0.         0.00314856 0.        ]\n",
    "eng inj rate un : 5.575676772884466e-18\n",
    "struct boost : 235.72628790189134\n",
    "eng inj rate : 1.3143335882128521e-15\n",
    "dt 424059901545885.0\n",
    "Tk : 0.012858813956977964"
   ]
  },
  {
   "cell_type": "markdown",
   "id": "8959915f-6631-4dfc-ac4b-679c049dd804",
   "metadata": {},
   "source": [
    "## debug"
   ]
  },
  {
   "cell_type": "code",
   "execution_count": 45,
   "id": "2cd6f2b9-5fa6-4a37-95ad-0b130ffe825d",
   "metadata": {
    "tags": []
   },
   "outputs": [],
   "source": [
    "from darkhistory.spec.spectrum import Spectrum"
   ]
  },
  {
   "cell_type": "code",
   "execution_count": 49,
   "id": "2371e080-a320-4800-9112-04b398c86b14",
   "metadata": {
    "tags": []
   },
   "outputs": [],
   "source": [
    "from dm21cm.utils import load_dict"
   ]
  },
  {
   "cell_type": "code",
   "execution_count": 12,
   "id": "2da8228b-47c9-4014-bc8a-89356adb3673",
   "metadata": {
    "tags": []
   },
   "outputs": [],
   "source": [
    "abscs = load_dict('../data/abscissas/abscs_debug_230802.h5')"
   ]
  },
  {
   "cell_type": "code",
   "execution_count": 40,
   "id": "c878ad1f-5e9f-4a3e-ac75-437db090dad2",
   "metadata": {
    "tags": []
   },
   "outputs": [],
   "source": [
    "dhinit_fn = f\"{p21c.config['direc']}/dhinit_soln.p\""
   ]
  },
  {
   "cell_type": "code",
   "execution_count": 41,
   "id": "26b27bab-55da-4557-a9e6-f12638c9f04c",
   "metadata": {
    "tags": []
   },
   "outputs": [
    {
     "data": {
      "text/plain": [
       "'/n/holyscratch01/iaifi_lab/yitians/21cmFAST-cache/phph_dhinit_s8zero_fine_debug/dhinit_soln.p'"
      ]
     },
     "execution_count": 41,
     "metadata": {},
     "output_type": "execute_result"
    }
   ],
   "source": [
    "dhinit_fn"
   ]
  },
  {
   "cell_type": "code",
   "execution_count": 42,
   "id": "f566477a-6ec0-491c-8bc6-516e0d2d8a7b",
   "metadata": {
    "tags": []
   },
   "outputs": [],
   "source": [
    "dhinit_fn = f\"{p21c.config['direc']}/dhinit_soln.p\"\n",
    "dhinit_soln = pickle.load(open(dhinit_fn, 'rb'))"
   ]
  },
  {
   "cell_type": "code",
   "execution_count": 43,
   "id": "8008dc1e-2112-4b05-92a5-3480507b3fcc",
   "metadata": {
    "tags": []
   },
   "outputs": [
    {
     "data": {
      "text/plain": [
       "array([50.13214854, 49.53415788, 48.94330022, 48.35949048, 47.78264459,\n",
       "       47.21267949, 46.64951309, 46.09306431, 45.543253  , 45.        ])"
      ]
     },
     "execution_count": 43,
     "metadata": {},
     "output_type": "execute_result"
    }
   ],
   "source": [
    "dhinit_soln['rs'][340:350]"
   ]
  },
  {
   "cell_type": "code",
   "execution_count": 52,
   "id": "517f844f-e1d8-40d4-9d5f-fbc92d983772",
   "metadata": {
    "tags": []
   },
   "outputs": [
    {
     "name": "stdout",
     "output_type": "stream",
     "text": [
      "42.857142857142854 0.9256142780811808\n"
     ]
    }
   ],
   "source": [
    "z_now = 41.857142857142854\n",
    "\n",
    "logrs_dh_arr = np.log(dhinit_soln['rs'])[::-1]\n",
    "logrs = np.log(1+z_now)\n",
    "i = np.searchsorted(logrs_dh_arr, logrs)\n",
    "logrs_left, logrs_right = logrs_dh_arr[i-1:i+1]\n",
    "\n",
    "dh_spec_N_arr = np.array([s.N for s in dhinit_soln['highengphot']])[::-1]\n",
    "dh_spec_left, dh_spec_right = dh_spec_N_arr[i-1:i+1]\n",
    "dh_spec = ( dh_spec_left * np.abs(logrs - logrs_right) + \\\n",
    "            dh_spec_right * np.abs(logrs - logrs_left) ) / np.abs(logrs_right - logrs_left)\n",
    "phot_bath_spec = Spectrum(abscs['photE'], dh_spec, rs=1+z_now, spec_type='N')\n",
    "print(1+z_now, phot_bath_spec.toteng())"
   ]
  },
  {
   "cell_type": "code",
   "execution_count": 53,
   "id": "a31eb193-e438-4be7-87bc-b70709ab8a89",
   "metadata": {
    "tags": []
   },
   "outputs": [
    {
     "data": {
      "text/plain": [
       "0.9256142780811807"
      ]
     },
     "execution_count": 53,
     "metadata": {},
     "output_type": "execute_result"
    }
   ],
   "source": [
    "np.dot(phot_bath_spec.N, abscs['photE'])"
   ]
  },
  {
   "cell_type": "code",
   "execution_count": 26,
   "id": "f3d156ca-7075-4c46-91af-8eff7d5171b9",
   "metadata": {
    "collapsed": true,
    "jupyter": {
     "outputs_hidden": true
    },
    "tags": []
   },
   "outputs": [
    {
     "data": {
      "text/plain": [
       "array([3000.        , 2964.21513859, 2928.85712927, 2893.92088045,\n",
       "       2859.40136123, 2825.29360075, 2791.59268743, 2758.29376829,\n",
       "       2725.39204821, 2692.88278929, 2660.76131015, 2629.02298524,\n",
       "       2597.66324418, 2566.67757111, 2536.06150405, 2505.81063423,\n",
       "       2475.92060548, 2446.38711356, 2417.20590562, 2388.37277951,\n",
       "       2359.8835832 , 2331.73421421, 2303.92061897, 2276.43879228,\n",
       "       2249.28477672, 2222.45466205, 2195.94458468, 2169.75072714,\n",
       "       2143.86931745, 2118.29662864, 2093.02897821, 2068.06272757,\n",
       "       2043.39428154, 2019.02008781, 1994.93663647, 1971.14045945,\n",
       "       1947.62813006, 1924.39626248, 1901.4415113 , 1878.76057097,\n",
       "       1856.35017542, 1834.2070975 , 1812.32814857, 1790.71017802,\n",
       "       1769.35007284, 1748.24475712, 1727.39119167, 1706.78637354,\n",
       "       1686.42733559, 1666.31114609, 1646.43490828, 1626.79575994,\n",
       "       1607.390873  , 1588.21745313, 1569.27273931, 1550.55400348,\n",
       "       1532.0585501 , 1513.7837158 , 1495.72686897, 1477.8854094 ,\n",
       "       1460.25676788, 1442.83840586, 1425.62781506, 1408.62251713,\n",
       "       1391.82006327, 1375.21803392, 1358.81403833, 1342.60571431,\n",
       "       1326.59072784, 1310.76677272, 1295.13157029, 1279.68286904,\n",
       "       1264.41844433, 1249.33609806, 1234.43365835, 1219.70897922,\n",
       "       1205.15994029, 1190.78444648, 1176.58042768, 1162.5458385 ,\n",
       "       1148.67865793, 1134.97688906, 1121.43855884, 1108.0617177 ,\n",
       "       1094.84443936, 1081.78482052, 1068.88098056, 1056.13106131,\n",
       "       1043.53322675, 1031.08566278, 1018.78657693, 1006.63419811,\n",
       "        994.62677635,  982.76258257,  971.0399083 ,  959.45706545,\n",
       "        948.01238608,  936.70422212,  925.5309452 ,  914.49094633,\n",
       "        903.58263574,  892.8044426 ,  882.15481486,  871.63221892,\n",
       "        861.23513954,  850.9620795 ,  840.81155947,  830.78211776,\n",
       "        820.87231011,  811.08070949,  801.4059059 ,  791.84650614,\n",
       "        782.40113364,  773.06842826,  763.84704607,  754.73565918,\n",
       "        745.73295552,  736.8376387 ,  728.04842777,  719.36405708,\n",
       "        710.78327605,  702.30484904,  693.92755514,  685.65018801,\n",
       "        677.47155569,  669.39048045,  661.40579859,  653.51636031,\n",
       "        645.72102951,  638.01868366,  630.4082136 ,  622.88852342,\n",
       "        615.45853025,  608.11716418,  600.86336804,  593.69609725,\n",
       "        586.61431973,  579.61701569,  572.70317749,  565.87180955,\n",
       "        559.12192812,  552.45256121,  545.86274843,  539.35154083,\n",
       "        532.91800079,  526.56120185,  520.28022864,  514.07417668,\n",
       "        507.94215229,  501.88327245,  495.89666466,  489.98146686,\n",
       "        484.13682723,  478.36190414,  472.65586599,  467.0178911 ,\n",
       "        461.4471676 ,  455.94289329,  450.50427554,  445.13053118,\n",
       "        439.82088639,  434.57457657,  429.39084624,  424.26894893,\n",
       "        419.20814708,  414.20771193,  409.26692341,  404.38507003,\n",
       "        399.5614488 ,  394.79536511,  390.08613264,  385.43307324,\n",
       "        380.83551687,  376.29280147,  371.80427289,  367.36928476,\n",
       "        362.98719844,  358.65738291,  354.37921467,  350.15207764,\n",
       "        345.97536311,  341.84846964,  337.77080294,  333.74177581,\n",
       "        329.76080808,  325.82732647,  321.94076457,  318.10056269,\n",
       "        314.30616784,  310.55703362,  306.85262015,  303.19239398,\n",
       "        299.57582805,  296.00240155,  292.47159992,  288.98291469,\n",
       "        285.53584351,  282.12988998,  278.76456364,  275.43937988,\n",
       "        272.15385987,  268.90753048,  265.69992424,  262.53057926,\n",
       "        259.39903912,  256.3048529 ,  253.24757502,  250.22676523,\n",
       "        247.24198852,  244.29281509,  241.37882025,  238.49958437,\n",
       "        235.65469285,  232.84373601,  230.06630906,  227.32201207,\n",
       "        224.61044984,  221.9312319 ,  219.28397244,  216.66829025,\n",
       "        214.08380867,  211.53015553,  209.00696309,  206.51386802,\n",
       "        204.05051131,  201.61653822,  199.21159826,  196.83534511,\n",
       "        194.4874366 ,  192.16753461,  189.87530508,  187.61041792,\n",
       "        185.37254698,  183.16137002,  180.9765686 ,  178.81782813,\n",
       "        176.68483773,  174.57729025,  172.4948822 ,  170.43731372,\n",
       "        168.4042885 ,  166.39551379,  164.41070033,  162.44956228,\n",
       "        160.51181726,  158.59718622,  156.70539344,  154.83616651,\n",
       "        152.98923626,  151.16433672,  149.3612051 ,  147.57958176,\n",
       "        145.81921013,  144.07983673,  142.36121106,  140.66308566,\n",
       "        138.98521598,  137.32736042,  135.68928023,  134.07073954,\n",
       "        132.47150526,  130.89134711,  129.33003753,  127.78735171,\n",
       "        126.26306749,  124.75696536,  123.26882846,  121.79844248,\n",
       "        120.34559568,  118.91007886,  117.4916853 ,  116.09021074,\n",
       "        114.70545337,  113.33721379,  111.98529496,  110.6495022 ,\n",
       "        109.32964317,  108.02552779,  106.73696828,  105.46377907,\n",
       "        104.20577683,  102.96278041,  101.7346108 ,  100.52109115,\n",
       "         99.32204671,   98.13730482,   96.96669487,   95.81004829,\n",
       "         94.66719852,   93.53798099,   92.4222331 ,   91.31979416,\n",
       "         90.23050544,   89.15421006,   88.09075304,   87.03998125,\n",
       "         86.00174336,   84.97588987,   83.96227305,   82.96074695,\n",
       "         81.97116734,   80.99339172,   80.02727929,   79.07269092,\n",
       "         78.12948916,   77.19753818,   76.27670378,   75.36685335,\n",
       "         74.46785589,   73.57958192,   72.70190354,   71.83469436,\n",
       "         70.9778295 ,   70.13118556,   69.29464065,   68.46807428,\n",
       "         67.65136743,   66.84440249,   66.04706326,   65.25923493,\n",
       "         64.48080404,   63.71165849,   62.95168753,   62.20078173,\n",
       "         61.45883294,   60.72573434,   60.00138034,   59.28566665,\n",
       "         58.57849019,   57.87974914,   57.18934287,   56.50717197,\n",
       "         55.8331382 ,   55.16714449,   54.50909495,   53.85889482,\n",
       "         53.21645046,   52.58166935,   51.9544601 ,   51.33473239,\n",
       "         50.72239696,   50.11736564,   49.51955131,   48.92886789,\n",
       "         46.5989218 ,   44.37992552,   42.26659574,   40.2539007 ,\n",
       "         38.33704829,   36.51147456,   34.77283291,   33.11698373,\n",
       "         31.5399845 ,   30.03808048,   28.60769569,   27.24542447,\n",
       "         25.9480233 ,   24.71240315,   23.53562204,   22.41487814,\n",
       "         21.34750299,   20.33095523,   19.3628145 ,   18.44077572,\n",
       "         17.56264354,   16.72632718,   15.92983541,   15.17127182,\n",
       "         14.4488303 ,   13.76079077,   13.10551501,   12.48144287,\n",
       "         11.88708845,   11.32103662,   10.78193964,   10.26851394,\n",
       "          9.77953708,    9.31384484,    8.87032842,    8.44793183,\n",
       "          8.04564936,    7.6625232 ,    7.29764114,    6.95013442,\n",
       "          6.61917564,    6.3039768 ,    6.00378743,    5.71789279,\n",
       "          5.44561218,    5.18629732])"
      ]
     },
     "execution_count": 26,
     "metadata": {},
     "output_type": "execute_result"
    }
   ],
   "source": [
    "dhinit_soln['highengphot'].rs"
   ]
  },
  {
   "cell_type": "code",
   "execution_count": null,
   "id": "0274dd36-9dbd-4c31-ad04-6122210aeb9f",
   "metadata": {},
   "outputs": [],
   "source": [
    "42.85714285715626 0.001658003439935829 5.4393989312728763e-14\n",
    "hep.rs : 42.85714285715626\n",
    "hep [eV/Bavg] : 0.8812251941902314\n",
    "hed (ion exc heat cont) [eV/Bavg] : [0.         0.         0.00092562 0.        ]\n",
    "rate_func_eng_unclustered(rs) : 9.907041531707055e-19\n",
    "dt 141091198890861.44"
   ]
  },
  {
   "cell_type": "code",
   "execution_count": 67,
   "id": "f3b9cf21-8624-48d1-9d84-c05f593e3cf6",
   "metadata": {
    "tags": []
   },
   "outputs": [
    {
     "name": "stdout",
     "output_type": "stream",
     "text": [
      "42.857142857142854 0.9410799586942651 0.0009420371 141091198890927.88\n",
      "40.81632653061224 0.9165066621399569 0.000917432 151842796881127.9\n",
      "38.872691933916414 0.9001913530288917 0.0009010979 163411671514496.4\n",
      "37.021611365634676 0.8946306798067117 0.0008955115 175859882361873.78\n",
      "35.25867749108064 0.9028097472582385 0.00090373604 189254196880334.03\n",
      "33.57969284864823 0.9281607241989236 0.0009290716 203666446695747.56\n",
      "31.980659855855453 0.9744733394485955 0.0009754775 219173910643132.38\n",
      "30.457771291290907 1.0458489622683715 0.0010469344 235859726524079.1\n",
      "29.007401229800863 1.1465700430105594 0.0011476957 253813333671533.66\n",
      "27.626096409334153 1.2809039282077075 0.0012821574 273130948548805.6\n",
      "26.310568008889668 1.453100245181853 0.0014545958 293916075751210.0\n",
      "25.05768381799016 1.6672405024264916 0.0016689051 316280056924285.5\n",
      "23.864460779038247 1.92695623083765 0.0019288574 340342660260726.8\n",
      "22.72805788479833 2.2355061568740293 0.0022377432 366232713387169.94\n",
      "21.645769414093646 2.5956965721079834 0.0025983213 394088782599297.0\n",
      "20.615018489612996 3.009858911576582 0.0030129256 424059901546083.06\n",
      "19.633350942488565 3.4795828231557295 0.0034830328 456306352597091.7\n",
      "18.69842946903673 4.00605619140892 0.0040099435 491000504244955.94\n",
      "17.808028065749266 4.589591565586392 0.004594154 528327707991370.0\n",
      "16.960026729285016 5.230353458884723 0.005235406 568487258229900.0\n",
      "16.15240640884287 5.927500591205396 0.005933498 611693418661020.9\n",
      "15.383244198897973 6.680200721654893 0.0066866204 658176518739249.5\n",
      "14.650708760855212 7.486648866163178 0.007494176 708184123540455.4\n",
      "13.95305596271925 8.344996021473678 0.008353475 761982280226025.8\n",
      "13.288624726399284 9.253011028523476 0.009262108 819856843940296.0\n",
      "12.655833072761222 10.207949911677975 0.0102183055 882114885472051.6\n",
      "12.053174355010688 11.207132596363081 0.011218237 949086182294566.2\n",
      "11.47921367143875 12.247408582376496 0.0122596575 1021124793615352.9\n",
      "10.932584448989285 13.325824100881857 0.013338974 1098610718747012.6\n",
      "10.411985189513604 14.439165982726587 0.014453327 1181951636368751.5\n",
      "9.916176370965337 15.58440512523081 0.015599472 1271584719979257.5\n",
      "9.443977496157464 16.757955550263972 0.016774233 1367978521917541.5\n",
      "8.994264282054727 17.956503711586084 0.017974695 1471634914593161.0\n",
      "8.565965982909264 19.176677531761378 0.01919569 1583091072832637.2\n",
      "8.158062840865965 20.415467767443257 0.020436164 1702921475288708.8\n",
      "7.769583657967585 21.66982033558173 0.02169182 1831739895403943.2\n",
      "7.399603483778653 22.936721915289823 0.022959206 1970201343152395.5\n",
      "7.047241413122526 24.2128766238985 0.024236547 2119003907331983.0\n"
     ]
    }
   ],
   "source": [
    "for z, hepE, h, dt in zip(dd['z'], dd['photEtot'], dd['heat'], dd['dt']):\n",
    "    print(1+z, hepE, h, dt)"
   ]
  },
  {
   "cell_type": "code",
   "execution_count": 3,
   "id": "359daedc-f692-424b-add5-dcf534f948ea",
   "metadata": {
    "tags": []
   },
   "outputs": [],
   "source": [
    "from dm21cm.evolve import get_z_edges, get_z_edges_old"
   ]
  },
  {
   "cell_type": "code",
   "execution_count": null,
   "id": "19eeca10-f312-439c-8e64-e3c30639b45b",
   "metadata": {
    "tags": []
   },
   "outputs": [],
   "source": [
    "get_z_edges(44, 6, 1.01)"
   ]
  },
  {
   "cell_type": "code",
   "execution_count": null,
   "id": "7d770928-42f4-474b-b93b-cf3596ad9d7f",
   "metadata": {
    "tags": []
   },
   "outputs": [],
   "source": [
    "get_z_edges_old(44, 6, 1.01)"
   ]
  },
  {
   "cell_type": "code",
   "execution_count": null,
   "id": "cbc2b2bd-65a1-4f64-9f23-a90edd74ce25",
   "metadata": {
    "tags": []
   },
   "outputs": [],
   "source": [
    "get_z_edges?"
   ]
  },
  {
   "cell_type": "code",
   "execution_count": null,
   "id": "710ebb8c-a963-4385-80da-1717b0687e46",
   "metadata": {},
   "outputs": [],
   "source": []
  }
 ],
 "metadata": {
  "kernelspec": {
   "display_name": "Python 3 (ipykernel)",
   "language": "python",
   "name": "python3"
  },
  "language_info": {
   "codemirror_mode": {
    "name": "ipython",
    "version": 3
   },
   "file_extension": ".py",
   "mimetype": "text/x-python",
   "name": "python",
   "nbconvert_exporter": "python",
   "pygments_lexer": "ipython3",
   "version": "3.10.12"
  }
 },
 "nbformat": 4,
 "nbformat_minor": 5
}
