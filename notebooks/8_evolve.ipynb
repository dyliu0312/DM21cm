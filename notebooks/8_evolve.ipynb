{
 "cells": [
  {
   "cell_type": "code",
   "execution_count": 17,
   "id": "45e7b1e4-4292-4223-a42b-a3de5813a1b5",
   "metadata": {},
   "outputs": [
    {
     "name": "stderr",
     "output_type": "stream",
     "text": [
      "INFO:root:Using 21cmFAST version 0.1.dev1578+g6f96f89.d20230224\n"
     ]
    }
   ],
   "source": [
    "%reload_ext autoreload\n",
    "%autoreload 2\n",
    "\n",
    "import os\n",
    "import sys\n",
    "\n",
    "import numpy as np\n",
    "\n",
    "import py21cmfast as p21c\n",
    "\n",
    "sys.path.append(\"..\")\n",
    "from dm21cm.dm_params import DMParams\n",
    "from dm21cm.evolve import evolve"
   ]
  },
  {
   "cell_type": "markdown",
   "id": "d443f30e-31bf-465c-a6d5-d9b8ae446f9d",
   "metadata": {},
   "source": [
    "## config"
   ]
  },
  {
   "cell_type": "code",
   "execution_count": 2,
   "id": "36fdc446",
   "metadata": {
    "tags": []
   },
   "outputs": [
    {
     "name": "stdout",
     "output_type": "stream",
     "text": [
      "48\n"
     ]
    }
   ],
   "source": [
    "print(os.cpu_count())\n",
    "n_thread = 32"
   ]
  },
  {
   "cell_type": "code",
   "execution_count": 3,
   "id": "ac3bab00",
   "metadata": {
    "tags": []
   },
   "outputs": [
    {
     "name": "stdout",
     "output_type": "stream",
     "text": [
      "base\n",
      "base_dhinit\n",
      "base_zfine\n",
      "compdh_base\n",
      "compdh_base_dhinit\n",
      "compdh_base_finestep\n",
      "phph_dhinit\n",
      "phph_dhinit_fine\n",
      "phph_dhinit_s8zero\n",
      "phph_dhinit_s8zero_fine\n",
      "xray_bath_test\n",
      "xray_test\n",
      "xray_test_all_to_unif\n"
     ]
    }
   ],
   "source": [
    "# check cached runs\n",
    "l = os.listdir(os.environ['P21C_CACHE_DIR'])\n",
    "l.sort()\n",
    "[print(i) for i in l];"
   ]
  },
  {
   "cell_type": "code",
   "execution_count": 4,
   "id": "b81c00ed-cda4-4b65-aad0-e88484d0c542",
   "metadata": {},
   "outputs": [],
   "source": [
    "os.environ['DM21CM_DATA_DIR'] = '/data/submit/yitians/dm21cm/DM21cm/data'"
   ]
  },
  {
   "cell_type": "markdown",
   "id": "c25b2ecd-70b2-44da-8f76-1dfb718d4e71",
   "metadata": {},
   "source": [
    "## run"
   ]
  },
  {
   "cell_type": "code",
   "execution_count": 19,
   "id": "cdd30f0b-e743-4023-a959-764061ceda08",
   "metadata": {},
   "outputs": [
    {
     "name": "stderr",
     "output_type": "stream",
     "text": [
      "INFO:root:Loaded photon propagation transfer function.\n",
      "INFO:root:Loaded photon scattering transfer function.\n",
      "INFO:root:Loaded photon deposition transfer function.\n",
      "100%|██████████| 187/187 [18:56<00:00,  6.07s/it]"
     ]
    },
    {
     "name": "stdout",
     "output_type": "stream",
     "text": [
      "input used 650.9241 s\n",
      "p21c used 482.2711 s\n"
     ]
    },
    {
     "name": "stderr",
     "output_type": "stream",
     "text": [
      "\n"
     ]
    }
   ],
   "source": [
    "evolve(\n",
    "    run_name = 'phph_dhinit_s8zero_fine',\n",
    "    run_mode = 'bath',\n",
    "    z_start = 44,\n",
    "    z_end = 6,\n",
    "    zplusone_step_factor = 1.01,\n",
    "    dm_params = DMParams(\n",
    "        mode = 'swave',\n",
    "        primary = 'phot_delta',\n",
    "        m_DM = 1e10,\n",
    "        sigmav = 1e-23,\n",
    "    ),\n",
    "    struct_boost_model = 'erfc 1e-3',\n",
    "    enable_elec = False,\n",
    "    dhinit_list = ['phot', 'T_k', 'x_e'],\n",
    "    dhtf_version = '230629',\n",
    "    \n",
    "    p21c_initial_conditions = p21c.initial_conditions(\n",
    "        user_params = p21c.UserParams(\n",
    "            HII_DIM = 50, # [1] | base: 50\n",
    "            BOX_LEN = 50, # [p-Mpc] | base: 50\n",
    "            N_THREADS = 32\n",
    "        ),\n",
    "        cosmo_params = p21c.CosmoParams(\n",
    "            OMm = 0.32,\n",
    "            OMb = 0.049,\n",
    "            POWER_INDEX = 0.96,\n",
    "            SIGMA_8 = 0.0001, # base 0.83\n",
    "            hlittle = 0.67\n",
    "        ),\n",
    "        random_seed = 54321,\n",
    "        write = True,\n",
    "    ),\n",
    "    \n",
    "    rerun_DH = False,\n",
    "    clear_cache = True,\n",
    "    force_reload_tf = True,\n",
    "    \n",
    "    use_tqdm = True,\n",
    "    save_slices = True,\n",
    ")"
   ]
  },
  {
   "cell_type": "code",
   "execution_count": null,
   "id": "3148f226-cde0-46b4-9a9e-6d5d2ac5aeb7",
   "metadata": {},
   "outputs": [],
   "source": []
  }
 ],
 "metadata": {
  "kernelspec": {
   "display_name": "21cmfast",
   "language": "python",
   "name": "21cmfast"
  },
  "language_info": {
   "codemirror_mode": {
    "name": "ipython",
    "version": 3
   },
   "file_extension": ".py",
   "mimetype": "text/x-python",
   "name": "python",
   "nbconvert_exporter": "python",
   "pygments_lexer": "ipython3",
   "version": "3.7.12"
  }
 },
 "nbformat": 4,
 "nbformat_minor": 5
}
