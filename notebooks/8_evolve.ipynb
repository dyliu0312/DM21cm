{
 "cells": [
  {
   "cell_type": "code",
   "execution_count": 1,
   "id": "45e7b1e4-4292-4223-a42b-a3de5813a1b5",
   "metadata": {
    "tags": []
   },
   "outputs": [
    {
     "name": "stderr",
     "output_type": "stream",
     "text": [
      "/n/home07/yitians/.conda/envs/21cmfast/lib/python3.10/site-packages/py21cmfast/_cfg.py:58: UserWarning: Your configuration file is out of date. Updating...\n",
      "  warnings.warn(\n",
      "/n/home07/yitians/.conda/envs/21cmfast/lib/python3.10/site-packages/py21cmfast/_cfg.py:42: UserWarning: Your configuration file is out of date. Updating...\n",
      "  warnings.warn(\"Your configuration file is out of date. Updating...\")\n",
      "INFO:root:Using 21cmFAST version 0.1.dev1579+g6b1da6d.d20230702\n"
     ]
    }
   ],
   "source": [
    "%reload_ext autoreload\n",
    "%autoreload 2\n",
    "\n",
    "import os\n",
    "import sys\n",
    "import logging\n",
    "import pickle\n",
    "\n",
    "import numpy as np\n",
    "\n",
    "import py21cmfast as p21c\n",
    "\n",
    "sys.path.append(\"..\")\n",
    "from dm21cm.dm_params import DMParams\n",
    "from dm21cm.evolve import evolve\n",
    "import dm21cm.physics as phys\n",
    "from dm21cm.utils import load_dict\n",
    "\n",
    "%matplotlib inline\n",
    "import matplotlib as mpl\n",
    "import matplotlib.pyplot as plt\n",
    "from matplotlib import colormaps as cms\n",
    "mpl.rc_file(\"../matplotlibrc\")"
   ]
  },
  {
   "cell_type": "markdown",
   "id": "d443f30e-31bf-465c-a6d5-d9b8ae446f9d",
   "metadata": {},
   "source": [
    "## config"
   ]
  },
  {
   "cell_type": "code",
   "execution_count": 2,
   "id": "36fdc446",
   "metadata": {
    "tags": []
   },
   "outputs": [
    {
     "name": "stdout",
     "output_type": "stream",
     "text": [
      "48\n"
     ]
    }
   ],
   "source": [
    "print(os.cpu_count())"
   ]
  },
  {
   "cell_type": "code",
   "execution_count": 3,
   "id": "ac3bab00",
   "metadata": {
    "tags": []
   },
   "outputs": [
    {
     "name": "stdout",
     "output_type": "stream",
     "text": [
      "phph_dhinit_s8zero\n",
      "phph_dhinit_s8zero_fine\n",
      "phph_dhinit_s8zero_fine_DEBUG\n"
     ]
    }
   ],
   "source": [
    "# check cached runs\n",
    "l = os.listdir(os.environ['P21C_CACHE_DIR'])\n",
    "l.sort()\n",
    "[print(i) for i in l];"
   ]
  },
  {
   "cell_type": "code",
   "execution_count": 11,
   "id": "6b9ad0c1-f765-4f95-9288-fb678cb5bc54",
   "metadata": {
    "tags": []
   },
   "outputs": [
    {
     "name": "stdout",
     "output_type": "stream",
     "text": [
      "total 95720\n",
      "-rw-r--r--. 1 yitians iaifi_lab    8116 Jul  2 21:43 base_caseA_in_reion_records.npy\n",
      "-rw-r--r--. 1 yitians iaifi_lab 6183005 Jul  2 21:43 base_caseA_in_reion_soln.p\n",
      "-rw-r--r--. 1 yitians iaifi_lab    8116 Jul  2 21:43 base_caseA_records.npy\n",
      "-rw-r--r--. 1 yitians iaifi_lab 6183005 Jul  2 21:43 base_caseA_soln.p\n",
      "-rw-r--r--. 1 yitians iaifi_lab    8116 Jul  2 21:43 base_caseB_records.npy\n",
      "-rw-r--r--. 1 yitians iaifi_lab 6183005 Jul  2 21:43 base_caseB_soln.p\n",
      "-rw-r--r--. 1 yitians iaifi_lab    2874 Jul  2 21:43 base_recfast_records.npy\n",
      "-rw-r--r--. 1 yitians iaifi_lab    8116 Jul  2 21:43 base_records.npy\n",
      "-rw-r--r--. 1 yitians iaifi_lab    4218 Jul  2 21:43 base_reion_records.npy\n",
      "-rw-r--r--. 1 yitians iaifi_lab 6183005 Jul  2 21:43 base_soln.p\n",
      "-rw-r--r--. 1 yitians iaifi_lab    8116 Jul  2 21:43 phph_21reion_records.npy\n",
      "-rw-r--r--. 1 yitians iaifi_lab 6182745 Jul  2 21:43 phph_21reion_soln.p\n",
      "-rw-r--r--. 1 yitians iaifi_lab    9604 Jul 17 12:56 phph_21tf_records.npy\n",
      "-rw-r--r--. 1 yitians iaifi_lab 7000145 Jul 17 12:55 phph_21tf_soln.p\n",
      "-rw-r--r--. 1 yitians iaifi_lab    8116 Jul  3 01:23 phph_caseA_in_reion_records.npy\n",
      "-rw-r--r--. 1 yitians iaifi_lab 6329145 Jul  3 01:22 phph_caseA_in_reion_soln.p\n",
      "-rw-r--r--. 1 yitians iaifi_lab    8116 Jul  2 21:43 phph_comp_records.npy\n",
      "-rw-r--r--. 1 yitians iaifi_lab    9604 Jul 21 14:35 phph_debug_230629_records.npy\n",
      "-rw-r--r--. 1 yitians iaifi_lab 7000145 Jul 21 14:34 phph_debug_230629_soln.p\n",
      "-rw-r--r--. 1 yitians iaifi_lab    9604 Jul 21 14:14 phph_debug_records.npy\n",
      "-rw-r--r--. 1 yitians iaifi_lab 7000145 Jul 21 14:14 phph_debug_soln.p\n",
      "-rw-r--r--. 1 yitians iaifi_lab    8116 Jul 20 16:18 phph_records.npy\n",
      "-rw-r--r--. 1 yitians iaifi_lab 6524345 Jul 20 16:18 phph_soln.p\n",
      "-rw-r--r--. 1 yitians iaifi_lab    8116 Jul  2 21:43 phph_turnon_z35_comp_records.npy\n",
      "-rw-r--r--. 1 yitians iaifi_lab    8116 Jul  2 21:43 phph_turnon_z35_records.npy\n",
      "-rw-r--r--. 1 yitians iaifi_lab 6744205 Jul  2 21:43 phph_turnon_z35_soln.p\n",
      "-rw-r--r--. 1 yitians iaifi_lab    8116 Jul  2 21:43 test_records.npy\n",
      "-rw-r--r--. 1 yitians iaifi_lab 6183005 Jul  2 21:43 test_soln.p\n"
     ]
    }
   ],
   "source": [
    "! ls -l /n/home07/yitians/dm21cm/DM21cm/data/run_info/DH"
   ]
  },
  {
   "cell_type": "code",
   "execution_count": 12,
   "id": "ee2f17b3-5f5f-43c4-bb39-c7245e12d3ee",
   "metadata": {
    "tags": []
   },
   "outputs": [],
   "source": [
    "! mkdir /n/holyscratch01/iaifi_lab/yitians/21cmFAST-cache/phph_dhinit_s8zero_fine_DEBUG_230629/"
   ]
  },
  {
   "cell_type": "code",
   "execution_count": 13,
   "id": "997f79e4-a25f-4f6b-a0b2-9ccdbc29540b",
   "metadata": {
    "tags": []
   },
   "outputs": [],
   "source": [
    "! cp /n/home07/yitians/dm21cm/DM21cm/data/run_info/DH/phph_debug_230629_soln.p /n/holyscratch01/iaifi_lab/yitians/21cmFAST-cache/phph_dhinit_s8zero_fine_DEBUG_230629/dhinit_soln.p"
   ]
  },
  {
   "cell_type": "markdown",
   "id": "c25b2ecd-70b2-44da-8f76-1dfb718d4e71",
   "metadata": {},
   "source": [
    "## run"
   ]
  },
  {
   "cell_type": "code",
   "execution_count": 14,
   "id": "cdd30f0b-e743-4023-a959-764061ceda08",
   "metadata": {
    "tags": []
   },
   "outputs": [
    {
     "name": "stderr",
     "output_type": "stream",
     "text": [
      "/n/home07/yitians/.conda/envs/21cmfast/lib/python3.10/site-packages/py21cmfast/inputs.py:487: UserWarning: The USE_INTERPOLATION_TABLES setting has changed in v3.1.2 to be default True. You can likely ignore this warning, but if you relied onhaving USE_INTERPOLATION_TABLES=False by *default*, please set it explicitly. To silence this warning, set it explicitly to True. Thiswarning will be removed in v4.\n",
      "  warnings.warn(\n",
      "INFO:root:Loaded photon propagation transfer function.\n",
      "INFO:root:Loaded photon scattering transfer function.\n",
      "INFO:root:Loaded photon deposition transfer function.\n",
      "100%|█████████████████████████████████████████████████████████████████████████████████| 187/187 [07:11<00:00,  2.31s/it]"
     ]
    },
    {
     "name": "stdout",
     "output_type": "stream",
     "text": [
      "input used 212.9092 s\n",
      "p21c used 217.1849 s\n"
     ]
    },
    {
     "name": "stderr",
     "output_type": "stream",
     "text": [
      "\n"
     ]
    }
   ],
   "source": [
    "dd = evolve(\n",
    "    run_name = 'phph_dhinit_s8zero_fine_DEBUG_230629',\n",
    "    run_mode = 'bath',\n",
    "    z_start = 44,\n",
    "    z_end = 6,\n",
    "    zplusone_step_factor = 1.01,\n",
    "    dm_params = DMParams(\n",
    "        mode = 'swave',\n",
    "        primary = 'phot_delta',\n",
    "        m_DM = 1e10,\n",
    "        sigmav = 2.4e-23,\n",
    "    ),\n",
    "    struct_boost_model = 'erfc 1e-3',\n",
    "    enable_elec = False,\n",
    "    dhinit_list = ['phot', 'T_k', 'x_e'],\n",
    "    dhtf_version = '230629',\n",
    "    \n",
    "    p21c_initial_conditions = p21c.initial_conditions(\n",
    "        user_params = p21c.UserParams(\n",
    "            HII_DIM = 50, # [1] | base: 50\n",
    "            BOX_LEN = 50, # [p-Mpc] | base: 50\n",
    "            N_THREADS = 32\n",
    "        ),\n",
    "        cosmo_params = p21c.CosmoParams(\n",
    "            OMm = 0.32,\n",
    "            OMb = 0.049,\n",
    "            POWER_INDEX = 0.96,\n",
    "            SIGMA_8 = 1e-10, # base 0.83\n",
    "            hlittle = 0.67\n",
    "        ),\n",
    "        random_seed = 54321,\n",
    "        write = True,\n",
    "    ),\n",
    "    \n",
    "    rerun_DH = False,\n",
    "    clear_cache = True,\n",
    "    force_reload_tf = True,\n",
    "    use_tqdm = True,\n",
    "    save_slices = True,\n",
    "    debug = True,\n",
    "    #debug_xe_func = interpolate.interp1d(soln['rs']-1, soln['x'][:,0]),\n",
    ")"
   ]
  },
  {
   "cell_type": "markdown",
   "id": "8959915f-6631-4dfc-ac4b-679c049dd804",
   "metadata": {},
   "source": [
    "## debug"
   ]
  },
  {
   "cell_type": "code",
   "execution_count": 30,
   "id": "fa44a845-0f8f-4908-8a2a-86a1d829a3c0",
   "metadata": {
    "tags": []
   },
   "outputs": [],
   "source": [
    "from scipy import interpolate"
   ]
  },
  {
   "cell_type": "code",
   "execution_count": 8,
   "id": "8535dd1d-8cc2-49f1-a91a-718ad000ac61",
   "metadata": {
    "tags": []
   },
   "outputs": [],
   "source": [
    "soln = pickle.load(open('../data/run_info/DH/phph_caseA_in_reion_soln.p', 'rb'))"
   ]
  },
  {
   "cell_type": "code",
   "execution_count": 53,
   "id": "eaaaab3a-8247-4e17-9843-50f108e7bebe",
   "metadata": {
    "tags": []
   },
   "outputs": [],
   "source": [
    "rfine = np.load(\"../data/run_info/phph_dhinit_s8zero_fine_records.npy\", allow_pickle=True).item()"
   ]
  },
  {
   "cell_type": "code",
   "execution_count": 11,
   "id": "ff2590eb-2bde-45ba-90eb-075b0478370e",
   "metadata": {
    "tags": []
   },
   "outputs": [],
   "source": [
    "abscs = load_dict(\"../data/abscissas/abscs_230629.h5\")"
   ]
  },
  {
   "cell_type": "code",
   "execution_count": 56,
   "id": "096ff0ee-d844-40bf-be9f-55cd82826bd7",
   "metadata": {
    "tags": []
   },
   "outputs": [],
   "source": [
    "logger = logging.getLogger()\n",
    "logger.setLevel(logging.CRITICAL+1)"
   ]
  },
  {
   "cell_type": "code",
   "execution_count": 54,
   "id": "8ad542ee-9bee-4121-a18e-242defc12427",
   "metadata": {
    "collapsed": true,
    "jupyter": {
     "outputs_hidden": true
    },
    "tags": []
   },
   "outputs": [
    {
     "data": {
      "text/plain": [
       "array([  9.3545492 ,   9.2895689 ,   9.22634125,   9.16518593,\n",
       "         9.10623074,   9.04959869,   8.9954319 ,   8.94387341,\n",
       "         8.89506912,   8.84918976,   8.80639172,   8.76686478,\n",
       "         8.73077583,   8.69832897,   8.66971302,   8.64514828,\n",
       "         8.62483597,   8.60900116,   8.59787369,   8.59171104,\n",
       "         8.59073639,   8.59522247,   8.60540009,   8.62155914,\n",
       "         8.64398766,   8.67295456,   8.70871258,   8.75160027,\n",
       "         8.80188274,   8.85991001,   8.92594528,   9.00034618,\n",
       "         9.08338928,   9.17544556,   9.27678394,   9.38777828,\n",
       "         9.50876331,   9.64005375,   9.78196335,   9.93488121,\n",
       "        10.09914207,  10.27506256,  10.4630146 ,  10.66328335,\n",
       "        10.87627029,  11.10230064,  11.3416729 ,  11.5948143 ,\n",
       "        11.86196995,  12.14352131,  12.43980408,  12.75107098,\n",
       "        13.07769966,  13.42002106,  13.77837467,  14.15300369,\n",
       "        14.54430962,  14.95247936,  15.37787724,  15.82073879,\n",
       "        16.28138733,  16.760149  ,  17.25727081,  17.772892  ,\n",
       "        18.30736351,  18.8608799 ,  19.43375397,  20.0262394 ,\n",
       "        20.63840485,  21.27072716,  21.9230423 ,  22.5958004 ,\n",
       "        23.28905869,  24.00303078,  24.73795319,  25.49409294,\n",
       "        26.27150536,  27.07009125,  27.89030838,  28.73206139,\n",
       "        29.59543037,  30.48075676,  31.38801193,  32.31723022,\n",
       "        33.26837921,  34.24174118,  35.23745728,  36.25546265,\n",
       "        37.29546738,  38.35801697,  39.44281006,  40.54965973,\n",
       "        41.6789856 ,  42.83047485,  44.00431061,  45.20058441,\n",
       "        46.41884613,  47.65955353,  48.92237473,  50.20729065,\n",
       "        51.51425552,  52.84294891,  54.19330597,  55.56570053,\n",
       "        56.95941162,  58.37482834,  59.8117981 ,  61.2699852 ,\n",
       "        62.74947739,  64.24987793,  65.77127838,  67.31327057,\n",
       "        68.87586975,  70.45892334,  72.06196594,  73.68551636,\n",
       "        75.32862091,  76.99142456,  78.674263  ,  80.37602997,\n",
       "        82.09697723,  83.83699799,  85.59572601,  87.37307739,\n",
       "        89.1689682 ,  90.98285675,  92.81484222,  94.66414642,\n",
       "        96.53118896,  98.41506958, 100.31633759, 102.23406982,\n",
       "       104.16877747, 106.11955261, 108.0867157 , 110.06954956,\n",
       "       112.06752014, 114.08079529, 116.10972595, 118.15354156,\n",
       "       120.21183014, 122.28434753, 124.37094879, 126.47141266,\n",
       "       128.58532715, 130.71281433, 132.85270691, 135.0055542 ,\n",
       "       137.17121887, 139.34877014, 141.53878784, 143.74009705,\n",
       "       145.95335388, 148.17758179, 150.41236877, 152.65785217,\n",
       "       154.91462708, 157.1815033 , 159.45834351, 161.74403381,\n",
       "       164.03910828, 166.34367371, 168.65753174, 170.97929382,\n",
       "       173.31011963, 175.64868164, 177.9957428 , 180.35025024,\n",
       "       182.71182251, 185.08036804, 187.45573425, 189.83779907,\n",
       "       192.22651672, 194.62176514, 197.02224731, 199.42880249,\n",
       "       201.84077454, 204.25773621, 206.67961121, 209.10629272,\n",
       "       211.53770447, 213.97283936, 216.41235352, 218.85543823,\n",
       "       221.30252075, 223.75297546, 226.20645142])"
      ]
     },
     "execution_count": 54,
     "metadata": {},
     "output_type": "execute_result"
    }
   ],
   "source": [
    "rfine['E_phot']"
   ]
  },
  {
   "cell_type": "code",
   "execution_count": 48,
   "id": "bd0f58db-eeda-472d-8d0f-00d002ceebcd",
   "metadata": {
    "collapsed": true,
    "jupyter": {
     "outputs_hidden": true
    },
    "tags": []
   },
   "outputs": [
    {
     "data": {
      "text/plain": [
       "array([43.55265231, 43.11153694, 42.67478905, 42.2423654 , 41.81422317,\n",
       "       41.39031997, 40.97061383, 40.5550632 , 40.14362693, 39.73626428,\n",
       "       39.33293493, 38.93359894, 38.53821678, 38.14674928, 37.75915771,\n",
       "       37.37540367, 36.99544918, 36.61925661, 36.24678873, 35.87800864,\n",
       "       35.51287984, 35.15136618, 34.79343186, 34.43904145, 34.08815985,\n",
       "       33.74075232, 33.39678448, 33.05622226, 32.71903194, 32.38518014,\n",
       "       32.0546338 , 31.7273602 , 31.40332693, 31.08250191, 30.76485337,\n",
       "       30.45034987, 30.13896027, 29.83065373, 29.52539974, 29.22316806,\n",
       "       28.92392877, 28.62765225, 28.33430916, 28.04387045, 27.75630738,\n",
       "       27.47159146, 27.18969452, 26.91058863, 26.63424617, 26.36063977,\n",
       "       26.08974235, 25.82152708, 25.5559674 , 25.29303703, 25.03270993,\n",
       "       24.77496033, 24.5197627 , 24.26709179, 24.01692256, 23.76923026,\n",
       "       23.52399035, 23.28117857, 23.04077086, 22.80274343, 22.5670727 ,\n",
       "       22.33373534, 22.10270826, 21.87396858, 21.64749364, 21.42326103,\n",
       "       21.20124854, 20.9814342 , 20.76379624, 20.54831311, 20.33496347,\n",
       "       20.12372621, 19.91458041, 19.70750535, 19.50248055, 19.29948569,\n",
       "       19.09850068, 18.89950563, 18.70248082, 18.50740675, 18.31426411,\n",
       "       18.12303377, 17.93369681, 17.74623446, 17.56062818, 17.37685958,\n",
       "       17.19491048, 17.01476285, 16.83639886, 16.65980085, 16.48495134,\n",
       "       16.31183301, 16.14042872, 15.97072151, 15.80269456, 15.63633125,\n",
       "       15.4716151 , 15.3085298 , 15.14705921, 14.98718733, 14.82889835,\n",
       "       14.67217659, 14.51700652, 14.36337279, 14.21126019, 14.06065365,\n",
       "       13.91153827, 13.76389928, 13.61772206, 13.47299214, 13.32969518,\n",
       "       13.18781701, 13.04734358, 12.90826097, 12.77055541, 12.63421328,\n",
       "       12.49922107, 12.36556542, 12.23323309, 12.10221098, 11.97248612,\n",
       "       11.84404566, 11.71687689, 11.59096722, 11.46630418, 11.34287542,\n",
       "       11.22066873, 11.09967201, 10.97987328, 10.86126067, 10.74382245,\n",
       "       10.62754698, 10.51242275, 10.39843837, 10.28558254, 10.1738441 ,\n",
       "       10.06321198,  9.95367523,  9.845223  ,  9.73784456,  9.63152926,\n",
       "        9.5262666 ,  9.42204614,  9.31885756,  9.21669065,  9.1155353 ,\n",
       "        9.01538149,  8.91621929,  8.8180389 ,  8.7208306 ,  8.62458475,\n",
       "        8.52929183,  8.43494241,  8.34152714,  8.24903677,  8.15746215,\n",
       "        8.0667942 ,  7.97702397,  7.88814254,  7.80014113,  7.71301102,\n",
       "        7.62674358,  7.54133028,  7.45676265,  7.37303233,  7.29013102,\n",
       "        7.20805051,  7.12678269,  7.04631949,  6.96665296,  6.88777521,\n",
       "        6.80967843,  6.73235488,  6.65579691,  6.57999694,  6.50494746,\n",
       "        6.43064105,  6.35707035,  6.28422807,  6.212107  ,  6.1407    ,\n",
       "        6.07      ,  6.        ])"
      ]
     },
     "execution_count": 48,
     "metadata": {},
     "output_type": "execute_result"
    }
   ],
   "source": [
    "rfine['z']"
   ]
  },
  {
   "cell_type": "code",
   "execution_count": 57,
   "id": "e53fbffd-3a5c-4366-ba9c-36f34c40b011",
   "metadata": {
    "tags": []
   },
   "outputs": [
    {
     "data": {
      "text/plain": [
       "[None]"
      ]
     },
     "execution_count": 57,
     "metadata": {},
     "output_type": "execute_result"
    },
    {
     "data": {
      "image/png": "[encoded data removed]",
      "text/plain": [
       "<Figure size 720x480 with 1 Axes>"
      ]
     },
     "metadata": {},
     "output_type": "display_data"
    }
   ],
   "source": [
    "fig, ax = plt.subplots()\n",
    "ax.plot(1+rfine['z'], rfine['E_phot'])\n",
    "ax.plot(soln['rs'], [s.toteng() for s in soln['highengphot']])\n",
    "ax.set(xlim=(5, 50))\n",
    "ax.set(yscale='log')"
   ]
  },
  {
   "cell_type": "code",
   "execution_count": 58,
   "id": "1d8566c7-6b08-463b-87bb-3ed40fbc48f5",
   "metadata": {
    "tags": []
   },
   "outputs": [
    {
     "data": {
      "text/plain": [
       "[None]"
      ]
     },
     "execution_count": 58,
     "metadata": {},
     "output_type": "execute_result"
    },
    {
     "data": {
      "image/png": "[encoded data removed]",
      "text/plain": [
       "<Figure size 720x480 with 1 Axes>"
      ]
     },
     "metadata": {},
     "output_type": "display_data"
    }
   ],
   "source": [
    "fig, ax = plt.subplots()\n",
    "ax.plot(1+rfine['z'], rfine['T_k'])\n",
    "ax.plot(soln['rs'], soln['Tm']/phys.kB)\n",
    "ax.set(xlim=(5, 45), ylim=(40, 400))\n",
    "ax.set(yscale='log')"
   ]
  },
  {
   "cell_type": "code",
   "execution_count": 26,
   "id": "49b442a6-4440-4ada-8bbe-2ee29af0f673",
   "metadata": {
    "tags": []
   },
   "outputs": [
    {
     "data": {
      "text/plain": [
       "[None]"
      ]
     },
     "execution_count": 26,
     "metadata": {},
     "output_type": "execute_result"
    },
    {
     "data": {
      "image/png": "[encoded data removed]",
      "text/plain": [
       "<Figure size 720x480 with 1 Axes>"
      ]
     },
     "metadata": {},
     "output_type": "display_data"
    }
   ],
   "source": [
    "fig, ax = plt.subplots()\n",
    "ax.plot(1+rfine['z'], rfine['f_heat'])\n",
    "ax.plot(soln['rs'], soln['f']['low']['heat']+soln['f']['high']['heat'])\n",
    "ax.set(xlim=(5, 45))\n",
    "ax.set(yscale='log')"
   ]
  },
  {
   "cell_type": "code",
   "execution_count": 31,
   "id": "474a695d-7af0-4a58-9c47-64afe4b8b248",
   "metadata": {
    "tags": []
   },
   "outputs": [],
   "source": [
    "dh_f_heat = interpolate.interp1d(soln['rs'], soln['f']['low']['heat']+soln['f']['high']['heat'])(1+rfine['z'])"
   ]
  },
  {
   "cell_type": "code",
   "execution_count": 35,
   "id": "ed7c9048-f91d-4dc9-bbe9-9dd5e55a66ac",
   "metadata": {
    "tags": []
   },
   "outputs": [
    {
     "data": {
      "text/plain": [
       "0.0"
      ]
     },
     "execution_count": 35,
     "metadata": {},
     "output_type": "execute_result"
    }
   ],
   "source": [
    "(rfine['f_heat'] / dh_f_heat)[0]"
   ]
  },
  {
   "cell_type": "code",
   "execution_count": 41,
   "id": "20851286-3ff6-4046-8c6c-9839956e003e",
   "metadata": {
    "tags": []
   },
   "outputs": [],
   "source": [
    "from dm21cm.evolve import get_z_edges"
   ]
  },
  {
   "cell_type": "code",
   "execution_count": 43,
   "id": "f14cc0af-4810-478d-aeae-d155af253fae",
   "metadata": {
    "tags": []
   },
   "outputs": [],
   "source": [
    "z_edges = get_z_edges(44, 6, 1.01)"
   ]
  },
  {
   "cell_type": "code",
   "execution_count": 44,
   "id": "740d9723-ccd7-4ad4-9d3c-c5d8236b6500",
   "metadata": {
    "tags": []
   },
   "outputs": [
    {
     "data": {
      "text/plain": [
       "array([43.99817883, 43.55265231, 43.11153694, 42.67478905, 42.2423654 ])"
      ]
     },
     "execution_count": 44,
     "metadata": {},
     "output_type": "execute_result"
    }
   ],
   "source": [
    "z_edges[:5]"
   ]
  },
  {
   "cell_type": "code",
   "execution_count": 45,
   "id": "8c7f46f8-3fae-4204-a3b9-af9e5a8d0698",
   "metadata": {
    "tags": []
   },
   "outputs": [
    {
     "data": {
      "text/plain": [
       "43.55265231097704"
      ]
     },
     "execution_count": 45,
     "metadata": {},
     "output_type": "execute_result"
    }
   ],
   "source": [
    "rfine['z'][0]"
   ]
  },
  {
   "cell_type": "code",
   "execution_count": 34,
   "id": "1e783c15-2b87-4ca3-b84e-38e8be8289f1",
   "metadata": {
    "tags": []
   },
   "outputs": [
    {
     "data": {
      "text/plain": [
       "[<matplotlib.lines.Line2D at 0x7fba4ff9d480>]"
      ]
     },
     "execution_count": 34,
     "metadata": {},
     "output_type": "execute_result"
    },
    {
     "data": {
      "image/png": "[encoded data removed]",
      "text/plain": [
       "<Figure size 720x480 with 1 Axes>"
      ]
     },
     "metadata": {},
     "output_type": "display_data"
    }
   ],
   "source": [
    "plt.plot(rfine['z'], rfine['f_heat'] / dh_f_heat)"
   ]
  },
  {
   "cell_type": "code",
   "execution_count": null,
   "id": "4a89466e-4d37-4e12-b033-73320aa12306",
   "metadata": {},
   "outputs": [],
   "source": []
  },
  {
   "cell_type": "code",
   "execution_count": null,
   "id": "97fe1354-74c7-46c9-8c08-df5ea544e368",
   "metadata": {
    "tags": []
   },
   "outputs": [],
   "source": [
    "s = np.load(\"../data/run_info/phph_dhinit_s8zero_slices.npy\", allow_pickle=True)"
   ]
  }
 ],
 "metadata": {
  "kernelspec": {
   "display_name": "Python 3 (ipykernel)",
   "language": "python",
   "name": "python3"
  },
  "language_info": {
   "codemirror_mode": {
    "name": "ipython",
    "version": 3
   },
   "file_extension": ".py",
   "mimetype": "text/x-python",
   "name": "python",
   "nbconvert_exporter": "python",
   "pygments_lexer": "ipython3",
   "version": "3.10.12"
  }
 },
 "nbformat": 4,
 "nbformat_minor": 5
}
