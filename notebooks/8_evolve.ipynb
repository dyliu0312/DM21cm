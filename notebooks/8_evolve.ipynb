{
 "cells": [
  {
   "cell_type": "code",
   "execution_count": 1,
   "id": "45e7b1e4-4292-4223-a42b-a3de5813a1b5",
   "metadata": {
    "tags": []
   },
   "outputs": [
    {
     "name": "stderr",
     "output_type": "stream",
     "text": [
      "/n/home07/yitians/.conda/envs/21cmfast/lib/python3.10/site-packages/py21cmfast/_cfg.py:58: UserWarning: Your configuration file is out of date. Updating...\n",
      "  warnings.warn(\n",
      "/n/home07/yitians/.conda/envs/21cmfast/lib/python3.10/site-packages/py21cmfast/_cfg.py:42: UserWarning: Your configuration file is out of date. Updating...\n",
      "  warnings.warn(\"Your configuration file is out of date. Updating...\")\n"
     ]
    },
    {
     "name": "stdout",
     "output_type": "stream",
     "text": [
      "/n/holyscratch01/iaifi_lab/yitians/darkhistory/DHdata_v1_1\n"
     ]
    },
    {
     "name": "stderr",
     "output_type": "stream",
     "text": [
      "INFO:root:Using 21cmFAST version 0.1.dev1579+g6b1da6d.d20230702\n"
     ]
    }
   ],
   "source": [
    "%reload_ext autoreload\n",
    "%autoreload 2\n",
    "\n",
    "import os\n",
    "import sys\n",
    "\n",
    "import numpy as np\n",
    "\n",
    "import py21cmfast as p21c\n",
    "\n",
    "sys.path.append(\"..\")\n",
    "from dm21cm.dm_params import DMParams\n",
    "from dm21cm.evolve import evolve"
   ]
  },
  {
   "cell_type": "markdown",
   "id": "d443f30e-31bf-465c-a6d5-d9b8ae446f9d",
   "metadata": {},
   "source": [
    "## config"
   ]
  },
  {
   "cell_type": "code",
   "execution_count": 2,
   "id": "36fdc446",
   "metadata": {
    "tags": []
   },
   "outputs": [
    {
     "name": "stdout",
     "output_type": "stream",
     "text": [
      "48\n"
     ]
    }
   ],
   "source": [
    "print(os.cpu_count())\n",
    "n_thread = 32"
   ]
  },
  {
   "cell_type": "code",
   "execution_count": 3,
   "id": "ac3bab00",
   "metadata": {
    "tags": []
   },
   "outputs": [
    {
     "name": "stdout",
     "output_type": "stream",
     "text": [
      "base\n",
      "phph\n",
      "phph_dhinitPhTk\n",
      "phph_dhinitPhTkX\n",
      "phph_dhinitPhTkX_new\n",
      "phph_xray\n"
     ]
    }
   ],
   "source": [
    "# check cached runs\n",
    "l = os.listdir(os.environ['P21C_CACHE_DIR'])\n",
    "l.sort()\n",
    "[print(i) for i in l];"
   ]
  },
  {
   "cell_type": "markdown",
   "id": "c25b2ecd-70b2-44da-8f76-1dfb718d4e71",
   "metadata": {},
   "source": [
    "## run"
   ]
  },
  {
   "cell_type": "code",
   "execution_count": 12,
   "id": "cdd30f0b-e743-4023-a959-764061ceda08",
   "metadata": {
    "tags": []
   },
   "outputs": [
    {
     "name": "stderr",
     "output_type": "stream",
     "text": [
      "INFO:root:Running DarkHistory to generate initial conditions.\n"
     ]
    },
    {
     "name": "stdout",
     "output_type": "stream",
     "text": [
      "****** Loading transfer functions... ******\n",
      "Using data at /n/holyscratch01/iaifi_lab/yitians/darkhistory/DHdata_v1_1\n",
      "    for propagating photons...   Done!\n",
      "    for low-energy photons...  Done!\n",
      "    for low-energy electrons...  Done!\n",
      "    for high-energy deposition...  Done!\n",
      "    for total upscattered CMB energy rate...  Done!\n",
      "****** Loading complete! ******\n",
      "****** Loading transfer functions... ******\n",
      "    for inverse Compton (Thomson)...  Done!\n",
      "    for inverse Compton (relativistic)...  Done!\n",
      "    for inverse Compton (energy loss)...  Done!\n",
      "****** Loading complete! ******\n",
      "Loading time: 6.064 s\n"
     ]
    },
    {
     "name": "stderr",
     "output_type": "stream",
     "text": [
      "  0%|▏                                                                                  | 1/360 [00:00<00:58,  6.10it/s]"
     ]
    },
    {
     "name": "stdout",
     "output_type": "stream",
     "text": [
      "Initialization time: 0.168 s\n"
     ]
    },
    {
     "name": "stderr",
     "output_type": "stream",
     "text": [
      " 15%|████████████▎                                                                     | 54/360 [00:08<00:50,  6.09it/s]/n/home07/yitians/.local/lib/python3.10/site-packages/scipy/integrate/_odepack_py.py:248: ODEintWarning: Excess work done on this call (perhaps wrong Dfun type). Run with full_output = 1 to get quantitative information.\n",
      "  warnings.warn(warning_msg, ODEintWarning)\n",
      "100%|█████████████████████████████████████████████████████████████████████████████████| 360/360 [01:00<00:00,  5.93it/s]\n"
     ]
    },
    {
     "name": "stdout",
     "output_type": "stream",
     "text": [
      "Main loop time: 60.539 s\n"
     ]
    },
    {
     "name": "stderr",
     "output_type": "stream",
     "text": [
      "INFO:root:Loaded photon propagation transfer function.\n",
      "INFO:root:Loaded photon scattering transfer function.\n",
      "INFO:root:Loaded photon deposition transfer function.\n",
      "INFO:jax._src.xla_bridge:Unable to initialize backend 'cuda': module 'jaxlib.xla_extension' has no attribute 'GpuAllocatorConfig'\n",
      "INFO:jax._src.xla_bridge:Unable to initialize backend 'rocm': module 'jaxlib.xla_extension' has no attribute 'GpuAllocatorConfig'\n",
      "INFO:jax._src.xla_bridge:Unable to initialize backend 'tpu': INVALID_ARGUMENT: TpuPlatform is not available.\n",
      "WARNING:jax._src.xla_bridge:No GPU/TPU found, falling back to CPU. (Set TF_CPP_MIN_LOG_LEVEL=0 and rerun for more info.)\n",
      "100%|█████████████████████████████████████████████████████████████████████████████████| 187/187 [08:28<00:00,  2.72s/it]"
     ]
    },
    {
     "name": "stdout",
     "output_type": "stream",
     "text": [
      "input used 257.2166 s\n",
      "p21c used 248.7864 s\n"
     ]
    },
    {
     "name": "stderr",
     "output_type": "stream",
     "text": [
      "\n"
     ]
    }
   ],
   "source": [
    "evolve(\n",
    "    run_name = 'phph_dhinit_s8zero_fine',\n",
    "    run_mode = 'bath',\n",
    "    z_start = 44,\n",
    "    z_end = 6,\n",
    "    zplusone_step_factor = 1.01,\n",
    "    dm_params = DMParams(\n",
    "        mode = 'swave',\n",
    "        primary = 'phot_delta',\n",
    "        m_DM = 1e10,\n",
    "        sigmav = 1e-23,\n",
    "    ),\n",
    "    struct_boost_model = 'erfc 1e-3',\n",
    "    enable_elec = False,\n",
    "    dhinit_list = ['phot', 'T_k', 'x_e'],\n",
    "    dhtf_version = '230629',\n",
    "    \n",
    "    p21c_initial_conditions = p21c.initial_conditions(\n",
    "        user_params = p21c.UserParams(\n",
    "            HII_DIM = 50, # [1] | base: 50\n",
    "            BOX_LEN = 50, # [p-Mpc] | base: 50\n",
    "            N_THREADS = 32\n",
    "        ),\n",
    "        cosmo_params = p21c.CosmoParams(\n",
    "            OMm = 0.32,\n",
    "            OMb = 0.049,\n",
    "            POWER_INDEX = 0.96,\n",
    "            SIGMA_8 = 0.0001, # base 0.83\n",
    "            hlittle = 0.67\n",
    "        ),\n",
    "        random_seed = 54321,\n",
    "        write = True,\n",
    "    ),\n",
    "    \n",
    "    rerun_DH = False,\n",
    "    clear_cache = True,\n",
    "    force_reload_tf = True,\n",
    "    \n",
    "    use_tqdm = True,\n",
    "    save_slices = True,\n",
    ")"
   ]
  },
  {
   "cell_type": "code",
   "execution_count": null,
   "id": "a0500a3d-9c14-4b0c-bdf0-9d72fc80e5f8",
   "metadata": {},
   "outputs": [],
   "source": []
  }
 ],
 "metadata": {
  "kernelspec": {
   "display_name": "Python [conda env:.conda-21cmfast] *",
   "language": "python",
   "name": "conda-env-.conda-21cmfast-py"
  },
  "language_info": {
   "codemirror_mode": {
    "name": "ipython",
    "version": 3
   },
   "file_extension": ".py",
   "mimetype": "text/x-python",
   "name": "python",
   "nbconvert_exporter": "python",
   "pygments_lexer": "ipython3",
   "version": "3.10.12"
  }
 },
 "nbformat": 4,
 "nbformat_minor": 5
}
