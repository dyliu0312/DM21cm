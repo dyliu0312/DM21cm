{
 "cells": [
  {
   "cell_type": "code",
   "execution_count": 1,
   "metadata": {},
   "outputs": [
    {
     "data": {
      "text/plain": [
       "<module 'powerbox' from '/global/scratch/projects/pc_heptheory/fosterjw/DM21cm/powerbox/src/powerbox/__init__.py'>"
      ]
     },
     "execution_count": 1,
     "metadata": {},
     "output_type": "execute_result"
    }
   ],
   "source": [
    "import os, sys\n",
    "\n",
    "import numpy as np\n",
    "import time\n",
    "\n",
    "import matplotlib as mpl\n",
    "import matplotlib.pyplot as plt\n",
    "import h5py\n",
    "\n",
    "import powerbox\n",
    "import importlib\n",
    "\n",
    "importlib.reload(powerbox)"
   ]
  },
  {
   "cell_type": "code",
   "execution_count": 2,
   "metadata": {},
   "outputs": [
    {
     "name": "stdout",
     "output_type": "stream",
     "text": [
      "Using 21cmFAST version 3.2.0\n"
     ]
    },
    {
     "name": "stderr",
     "output_type": "stream",
     "text": [
      "/global/scratch/projects/pc_heptheory/fosterjw/miniconda3/envs/21cmfast/lib/python3.11/site-packages/py21cmfast/_cfg.py:57: UserWarning: Your configuration file is out of date. Updating...\n",
      "  warnings.warn(\n",
      "/global/scratch/projects/pc_heptheory/fosterjw/miniconda3/envs/21cmfast/lib/python3.11/site-packages/py21cmfast/_cfg.py:41: UserWarning: Your configuration file is out of date. Updating...\n",
      "  warnings.warn(\"Your configuration file is out of date. Updating...\")\n"
     ]
    }
   ],
   "source": [
    "# 21cmFAST\n",
    "import py21cmfast as p21c\n",
    "from py21cmfast import plotting, cache_tools\n",
    "print(f'Using 21cmFAST version {p21c.__version__}')\n",
    "\n",
    "import logging\n",
    "logger = logging.getLogger('21cmFAST')\n",
    "logger.setLevel(logging.INFO)"
   ]
  },
  {
   "cell_type": "markdown",
   "metadata": {},
   "source": [
    "# Configure the Run"
   ]
  },
  {
   "cell_type": "code",
   "execution_count": 3,
   "metadata": {},
   "outputs": [
    {
     "name": "stderr",
     "output_type": "stream",
     "text": [
      "2023-04-14 06:10:07,739 | INFO | Removing BrightnessTemp_c8de8e801f54b297b161263d70867a67_r54321.h5\n",
      "2023-04-14 06:10:07,744 | INFO | Removing PerturbedField_7394473c46b7cf1401e060e4535e0261_r54321.h5\n",
      "2023-04-14 06:10:07,749 | INFO | Removing PerturbedField_1d6721b0b8bffce37306d166a0a73978_r54321.h5\n",
      "2023-04-14 06:10:07,755 | INFO | Removing BrightnessTemp_249f7643dc486f46fa958c6e5eca2c58_r54321.h5\n",
      "2023-04-14 06:10:07,762 | INFO | Removing BrightnessTemp_2e8f14f84933a93a958ef1c3d3b48be6_r54321.h5\n",
      "2023-04-14 06:10:07,767 | INFO | Removing PerturbedField_63b54f956f2556220a43aaef0da72911_r54321.h5\n",
      "2023-04-14 06:10:07,774 | INFO | Removing IonizedBox_c113b320805cb42a299566203c1999e8_r54321.h5\n",
      "2023-04-14 06:10:07,781 | INFO | Removing IonizedBox_a8d7d61393da770cf620c054ee40a2a4_r54321.h5\n",
      "2023-04-14 06:10:07,788 | INFO | Removing TsBox_01ce73ec23422b80c6b3564c4f330b70_r54321.h5\n",
      "2023-04-14 06:10:07,795 | INFO | Removing BrightnessTemp_59c75c17b7ec9ab1b7d5a15ccdfec5cb_r54321.h5\n",
      "2023-04-14 06:10:07,801 | INFO | Removing BrightnessTemp_dfc2cf14c4fa4bfd36751b751e1b8c52_r54321.h5\n",
      "2023-04-14 06:10:07,807 | INFO | Removing BrightnessTemp_67706a7a36fdb561e7d4ab91e1396079_r54321.h5\n",
      "2023-04-14 06:10:07,813 | INFO | Removing TsBox_159b017a25c4db0e0f63c224c6f8ff50_r54321.h5\n",
      "2023-04-14 06:10:07,819 | INFO | Removing TsBox_8177b108403a28d4a91e003dca436187_r54321.h5\n",
      "2023-04-14 06:10:07,825 | INFO | Removing BrightnessTemp_84b5b02e80c61f58aee37391f6042eee_r54321.h5\n",
      "2023-04-14 06:10:07,829 | INFO | Removing PerturbedField_6d18c2efae68a4b048026db4c475d88e_r54321.h5\n",
      "2023-04-14 06:10:07,835 | INFO | Removing TsBox_7fd73df61a721f9ec8706b0475ff28bc_r54321.h5\n",
      "2023-04-14 06:10:07,839 | INFO | Removing PerturbedField_1cf169f3596254dca0e9e7720fdb7842_r54321.h5\n",
      "2023-04-14 06:10:07,845 | INFO | Removing TsBox_2a3c8ac9483d62c65ae1f52826843b28_r54321.h5\n",
      "2023-04-14 06:10:07,849 | INFO | Removing PerturbedField_650c5b746e4a08bbbdce08a7617e10b4_r54321.h5\n",
      "2023-04-14 06:10:07,855 | INFO | Removing TsBox_0fc5ad380a1381bfc1bb2043326eea6e_r54321.h5\n",
      "2023-04-14 06:10:07,861 | INFO | Removing TsBox_170a6bed7a683797767186448af50e4d_r54321.h5\n",
      "2023-04-14 06:10:07,867 | INFO | Removing IonizedBox_4136d86b65812911759655529415ed02_r54321.h5\n",
      "2023-04-14 06:10:07,871 | INFO | Removing PerturbedField_b537f9116c9ddee3d141d2d1a0a33a5c_r54321.h5\n",
      "2023-04-14 06:10:07,875 | INFO | Removing PerturbedField_18b8d824dddb79f1e439870317c37df7_r54321.h5\n",
      "2023-04-14 06:10:07,881 | INFO | Removing BrightnessTemp_30f21d1c602c5cdef3325efe8e97eb19_r54321.h5\n",
      "2023-04-14 06:10:07,887 | INFO | Removing BrightnessTemp_e7c00850b97a13114a4f3c88b2416f9d_r54321.h5\n",
      "2023-04-14 06:10:07,893 | INFO | Removing TsBox_3cd5e36cd43b3876884559f13d862fae_r54321.h5\n",
      "2023-04-14 06:10:07,899 | INFO | Removing IonizedBox_bb823a2c46e5da066502dbdad6fe4d63_r54321.h5\n",
      "2023-04-14 06:10:07,905 | INFO | Removing IonizedBox_191e994f2628ca7e4fa161ae75f801fd_r54321.h5\n",
      "2023-04-14 06:10:07,912 | INFO | Removing IonizedBox_f59fa2742a9c147b47a7610a7db0bbea_r54321.h5\n",
      "2023-04-14 06:10:07,918 | INFO | Removing BrightnessTemp_bb0c8e19993cd38e46c4ba0526846ea2_r54321.h5\n",
      "2023-04-14 06:10:07,924 | INFO | Removing TsBox_0232a8bd428a2dfc3564bdffd4c7587c_r54321.h5\n",
      "2023-04-14 06:10:07,929 | INFO | Removing BrightnessTemp_436457e0d08d2d933f96e8c9483b44a1_r54321.h5\n",
      "2023-04-14 06:10:07,934 | INFO | Removing BrightnessTemp_3c79fe43b9ecdfd39fa7022548bb6f1d_r54321.h5\n",
      "2023-04-14 06:10:07,938 | INFO | Removing PerturbedField_e2fc86ff3e7396da9c612fc01ec570d5_r54321.h5\n",
      "2023-04-14 06:10:07,943 | INFO | Removing IonizedBox_6ac22d7d9b5809ae4aa68b8499b5d0c5_r54321.h5\n",
      "2023-04-14 06:10:07,949 | INFO | Removing TsBox_360d5a2a85bab969c025f4545ca87686_r54321.h5\n",
      "2023-04-14 06:10:07,953 | INFO | Removing PerturbedField_8bede2cdfd97116c0c3dd6abf5f9917c_r54321.h5\n",
      "2023-04-14 06:10:07,959 | INFO | Removing IonizedBox_ea976feda00a71b56af433139e1d2747_r54321.h5\n",
      "2023-04-14 06:10:07,964 | INFO | Removing BrightnessTemp_9edf84d099bc5c0a27c7208bdc0147e1_r54321.h5\n",
      "2023-04-14 06:10:07,967 | INFO | Removing PerturbedField_5b13eb16d32de8e5224a6d21ecd7bed3_r54321.h5\n",
      "2023-04-14 06:10:07,973 | INFO | Removing TsBox_d77332955089cf23c6fb62b6b59c1397_r54321.h5\n",
      "2023-04-14 06:10:07,978 | INFO | Removing TsBox_0f683a31678a2da53b4c9ab575508128_r54321.h5\n",
      "2023-04-14 06:10:07,984 | INFO | Removing IonizedBox_6d72f400b565e464241c5624dcd26efb_r54321.h5\n",
      "2023-04-14 06:10:07,989 | INFO | Removing IonizedBox_e7597497451c2a73127914606c0f9199_r54321.h5\n",
      "2023-04-14 06:10:07,995 | INFO | Removing TsBox_2e6404a1b9800f263b81b32a3fb3a930_r54321.h5\n",
      "2023-04-14 06:10:08,001 | INFO | Removing TsBox_480d56572a8de31c4a05979e285921d5_r54321.h5\n",
      "2023-04-14 06:10:08,004 | INFO | Removing PerturbedField_2ddcf0d2a651d841697bb2aa36c7f39d_r54321.h5\n",
      "2023-04-14 06:10:08,009 | INFO | Removing TsBox_1283f62c7618c3a3782e1f2b3c08356a_r54321.h5\n",
      "2023-04-14 06:10:08,013 | INFO | Removing PerturbedField_cb7198b5e6d9c958964a032890cc37a4_r54321.h5\n",
      "2023-04-14 06:10:08,018 | INFO | Removing IonizedBox_7526cd3a3da61ce8e2ce67b084f11c68_r54321.h5\n",
      "2023-04-14 06:10:08,024 | INFO | Removing BrightnessTemp_043e77edc495da520562d29f9050d6aa_r54321.h5\n",
      "2023-04-14 06:10:08,029 | INFO | Removing BrightnessTemp_3df9a1890e9e85230ea2430478219ddc_r54321.h5\n",
      "2023-04-14 06:10:08,034 | INFO | Removing IonizedBox_9f566ffeebcda535437b9131b53a625b_r54321.h5\n",
      "2023-04-14 06:10:08,039 | INFO | Removing TsBox_cba0de8858f5b9a10aebe7d5fd8081c6_r54321.h5\n",
      "2023-04-14 06:10:08,043 | INFO | Removing PerturbedField_2a741187057b7703188c968001fdb533_r54321.h5\n",
      "2023-04-14 06:10:08,046 | INFO | Removing InitialConditions_3ba8bb682bbdc6950e565e88cdc88795_r54321.h5\n",
      "2023-04-14 06:10:08,071 | INFO | Removing BrightnessTemp_87762eeeade2a567b594d114c74e5d5f_r54321.h5\n",
      "2023-04-14 06:10:08,077 | INFO | Removing IonizedBox_8e7f2a391702f2eda7d6d05adbf242f4_r54321.h5\n",
      "2023-04-14 06:10:08,081 | INFO | Removing PerturbedField_87a2e1ce79fb16e6c4cee92809381550_r54321.h5\n",
      "2023-04-14 06:10:08,085 | INFO | Removing PerturbedField_be31ce4bd3e7ced37bc08ed3c2f5d916_r54321.h5\n",
      "2023-04-14 06:10:08,091 | INFO | Removing IonizedBox_440124bb6c7cb8e51d755a16480423c5_r54321.h5\n",
      "2023-04-14 06:10:08,098 | INFO | Removing TsBox_3ab50d00a2387c9d0c519f42ff3f6812_r54321.h5\n",
      "2023-04-14 06:10:08,104 | INFO | Removing IonizedBox_7a25fa0ba2134fdf599773979fc9481f_r54321.h5\n",
      "2023-04-14 06:10:08,110 | INFO | Removing IonizedBox_fd2f4599969f2a8d531a1d5a32113119_r54321.h5\n",
      "2023-04-14 06:10:08,116 | INFO | Removing IonizedBox_851bbe6131f242f96fdc201e8d5eaa29_r54321.h5\n",
      "2023-04-14 06:10:08,121 | INFO | Removing PerturbedField_5c145f3bd7c872d1ec1a05da335eebf6_r54321.h5\n",
      "2023-04-14 06:10:08,126 | INFO | Removing TsBox_07f13f5c89a7f1a771ccb79e901c9a6e_r54321.h5\n",
      "2023-04-14 06:10:08,133 | INFO | Removing TsBox_446d2646a3c8fc40489dcf4434a85b6a_r54321.h5\n",
      "2023-04-14 06:10:08,136 | INFO | Removing PerturbedField_a84b1823e7257bd1f612696dec1cee2d_r54321.h5\n",
      "2023-04-14 06:10:08,142 | INFO | Removing BrightnessTemp_ffbb13f0406ab30c278166b556909bdb_r54321.h5\n",
      "2023-04-14 06:10:08,145 | INFO | Removing PerturbedField_84c1c79afc9832af5f4d9104f982db83_r54321.h5\n",
      "2023-04-14 06:10:08,149 | INFO | Removing PerturbedField_d849f35d2e733b5f02d9d65bad5c3401_r54321.h5\n",
      "2023-04-14 06:10:08,152 | INFO | Removing PerturbedField_f3f06d01609e8665bb51e5b9134147e0_r54321.h5\n",
      "2023-04-14 06:10:08,158 | INFO | Removing BrightnessTemp_da0c5e790683c5449218d770de8a58c6_r54321.h5\n",
      "2023-04-14 06:10:08,161 | INFO | Removing PerturbedField_d0793633594775e8bd10c47c0fad3bbb_r54321.h5\n",
      "2023-04-14 06:10:08,167 | INFO | Removing TsBox_c8c0a613282718060f9fbf385e5e1af4_r54321.h5\n",
      "2023-04-14 06:10:08,173 | INFO | Removing TsBox_2cb2cbf363ef9b6110c5498e52caf337_r54321.h5\n",
      "2023-04-14 06:10:08,178 | INFO | Removing BrightnessTemp_f3be8fd2cb596d24a3da947a2e23c98d_r54321.h5\n",
      "2023-04-14 06:10:08,183 | INFO | Removing IonizedBox_7b863fea9de2d1d06db363a6b28689ac_r54321.h5\n",
      "2023-04-14 06:10:08,189 | INFO | Removing TsBox_301a80bed9ea16dcc09f3ebb1f2fa797_r54321.h5\n",
      "2023-04-14 06:10:08,195 | INFO | Removing BrightnessTemp_55f661661a9e4f59e3a181c60fa3617c_r54321.h5\n",
      "2023-04-14 06:10:08,198 | INFO | Removing PerturbedField_207b08a61ceb886d78bb4f5d8403be73_r54321.h5\n",
      "2023-04-14 06:10:08,204 | INFO | Removing IonizedBox_e7ce24dd630e48c470002f2faf0ec4a1_r54321.h5\n"
     ]
    },
    {
     "name": "stderr",
     "output_type": "stream",
     "text": [
      "2023-04-14 06:10:08,210 | INFO | Removing TsBox_5f942882bb77a83c01973b7003abd7ab_r54321.h5\n",
      "2023-04-14 06:10:08,213 | INFO | Removing PerturbedField_3210ba83dd9ac8df196857e6d7d3c34c_r54321.h5\n",
      "2023-04-14 06:10:08,217 | INFO | Removing PerturbedField_33c1025642a3a2a6c69ad703d466be84_r54321.h5\n",
      "2023-04-14 06:10:08,222 | INFO | Removing TsBox_4ee4a0c6db8c6ded1eb7726f5486b983_r54321.h5\n",
      "2023-04-14 06:10:08,228 | INFO | Removing IonizedBox_11f5e322988d6c3f1778e0a3e16a8860_r54321.h5\n",
      "2023-04-14 06:10:08,234 | INFO | Removing TsBox_b72faab23dfd2e52760e700b076c62ba_r54321.h5\n",
      "2023-04-14 06:10:08,240 | INFO | Removing BrightnessTemp_bc4d68d7f5c10eaf8e04a17acc5ffdd3_r54321.h5\n",
      "2023-04-14 06:10:08,245 | INFO | Removing TsBox_a906b8ea7b1ab6e0da619f597554223d_r54321.h5\n",
      "2023-04-14 06:10:08,251 | INFO | Removing IonizedBox_c87ad5512134b6f52ac6a9d04ab79cdd_r54321.h5\n",
      "2023-04-14 06:10:08,256 | INFO | Removing BrightnessTemp_c31614f28bde89b2863e870ef07e5893_r54321.h5\n",
      "2023-04-14 06:10:08,262 | INFO | Removing BrightnessTemp_17894579c5be3d80610620a93d637334_r54321.h5\n",
      "2023-04-14 06:10:08,267 | INFO | Removing TsBox_5fa67960a4f16d0389ed495d50d1ca6e_r54321.h5\n",
      "2023-04-14 06:10:08,273 | INFO | Removing IonizedBox_99a0cdd62f3b64428f6ee874654a6511_r54321.h5\n",
      "2023-04-14 06:10:08,277 | INFO | Removing PerturbedField_6fa64ea639abfd6334709c2bd4986ac1_r54321.h5\n",
      "2023-04-14 06:10:08,282 | INFO | Removing IonizedBox_a98c63954c60d5041149a0917cadce30_r54321.h5\n",
      "2023-04-14 06:10:08,286 | INFO | Removing PerturbedField_3738ed64f401e3361032814383d8a052_r54321.h5\n",
      "2023-04-14 06:10:08,291 | INFO | Removing BrightnessTemp_336d32aa2b477938ea8fcc3b1f2a7cfd_r54321.h5\n",
      "2023-04-14 06:10:08,294 | INFO | Removing PerturbedField_f7f4810b19f49b9d1aed148447ab6ddb_r54321.h5\n",
      "2023-04-14 06:10:08,299 | INFO | Removing TsBox_292247a6dc8889a1e4d5e0bd4ae0c2ce_r54321.h5\n",
      "2023-04-14 06:10:08,305 | INFO | Removing IonizedBox_0560768611b23c9474668f4137c072a9_r54321.h5\n",
      "2023-04-14 06:10:08,310 | INFO | Removing IonizedBox_1e883475491f8f8226dbf313a3a2ccc6_r54321.h5\n",
      "2023-04-14 06:10:08,316 | INFO | Removing IonizedBox_5f6541cb11d3a79c4152c31b301f8e0c_r54321.h5\n",
      "2023-04-14 06:10:08,322 | INFO | Removing TsBox_bd0008f5d38bbbb2254c4bd4946d8e00_r54321.h5\n",
      "2023-04-14 06:10:08,327 | INFO | Removing IonizedBox_2ed026fe765628a25ca47ea03adc49cb_r54321.h5\n",
      "2023-04-14 06:10:08,333 | INFO | Removing BrightnessTemp_c2a7b259724e9691b8ae2397a8b7ef0a_r54321.h5\n",
      "2023-04-14 06:10:08,338 | INFO | Removing BrightnessTemp_c56dc5c812f88a8dfa48f14bbec79bb7_r54321.h5\n",
      "2023-04-14 06:10:08,341 | INFO | Removing PerturbedField_3016a7f3544076221961353cc695b4e3_r54321.h5\n",
      "2023-04-14 06:10:08,346 | INFO | Removing BrightnessTemp_926bcebc3e1cdefb55c2d0401b60bb8f_r54321.h5\n",
      "2023-04-14 06:10:08,351 | INFO | Removing IonizedBox_d84d3b41a5f9df11d947b58b8d84dbe7_r54321.h5\n",
      "2023-04-14 06:10:08,357 | INFO | Removing BrightnessTemp_a8d00248f3a2289e11a0ed6ef829cc31_r54321.h5\n",
      "2023-04-14 06:10:08,363 | INFO | Removing IonizedBox_9cb5eb76501d452454c7bb98ba6cff99_r54321.h5\n",
      "2023-04-14 06:10:08,369 | INFO | Removing TsBox_6a8b3faba6c3f85564332b342c44eb23_r54321.h5\n",
      "2023-04-14 06:10:08,386 | INFO | Removing BrightnessTemp_9d391fd8571701d6beca04287609c108_r54321.h5\n",
      "2023-04-14 06:10:08,404 | INFO | Removing IonizedBox_c678ed68388e7b1d902e77bcc07c2400_r54321.h5\n",
      "2023-04-14 06:10:08,407 | INFO | Removed 119 files from cache.\n",
      "/global/scratch/projects/pc_heptheory/fosterjw/miniconda3/envs/21cmfast/lib/python3.11/site-packages/py21cmfast/inputs.py:485: UserWarning: The USE_INTERPOLATION_TABLES setting has changed in v3.1.2 to be default True. You can likely ignore this warning, but if you relied onhaving USE_INTERPOLATION_TABLES=False by *default*, please set it explicitly. To silence this warning, set it explicitly to True. Thiswarning will be removed in v4.\n",
      "  warnings.warn(\n"
     ]
    },
    {
     "data": {
      "text/plain": [
       "UserParams(BOX_LEN:300, DIM:600, FAST_FCOLL_TABLES:False, HII_DIM:200, HMF:1, MINIMIZE_MEMORY:False, NO_RNG:False, N_THREADS:40, PERTURB_ON_HIGH_RES:False, POWER_SPECTRUM:0, USE_2LPT:True, USE_FFTW_WISDOM:False, USE_INTERPOLATION_TABLES:True, USE_RELATIVE_VELOCITIES:False)"
      ]
     },
     "execution_count": 3,
     "metadata": {},
     "output_type": "execute_result"
    }
   ],
   "source": [
    "N_THREADS = 40\n",
    "\n",
    "def get_z_arr(z_start=None, z_end=5):\n",
    "    \n",
    "    if z_start is None:\n",
    "        z_start = p21c.global_params.Z_HEAT_MAX\n",
    "    z_arr = [z_end]\n",
    "    while np.max(z_arr) < z_start:\n",
    "        z_prev = (1 + np.max(z_arr)) * p21c.global_params.ZPRIME_STEP_FACTOR - 1\n",
    "        z_arr.append(z_prev)\n",
    "    return np.array(z_arr[::-1][1:])\n",
    "\n",
    "\n",
    "CACHE_DIR_BASE = './cache/'\n",
    "\n",
    "# run config\n",
    "RUN_NAME = 'emf_comp_base'\n",
    "f_scheme = 'CK'\n",
    "run_mode = ''\n",
    "\n",
    "p21c.config['direc'] = f'{CACHE_DIR_BASE}/{RUN_NAME}'\n",
    "os.makedirs(p21c.config['direc'], exist_ok=True)\n",
    "p21c.cache_tools.clear_cache()\n",
    "p21c.UserParams(N_THREADS=40)"
   ]
  },
  {
   "cell_type": "markdown",
   "metadata": {},
   "source": [
    "# Here we trick 21cmFAST to manually evaluate a coeval box"
   ]
  },
  {
   "cell_type": "markdown",
   "metadata": {},
   "source": [
    "#### The Initial Conditions"
   ]
  },
  {
   "cell_type": "code",
   "execution_count": 4,
   "metadata": {},
   "outputs": [],
   "source": [
    "# Defining the range of z to operate over\n",
    "z_eval = p21c.wrapper._logscroll_redshifts(20., p21c.global_params.ZPRIME_STEP_FACTOR,\n",
    "                                            p21c.global_params.Z_HEAT_MAX, )\n",
    "\n",
    "#z_eval = np.minimum(z_eval,  p21c.global_params.Z_HEAT_MAX)\n",
    "cosmo_params_EMF = dict(OMm=0.32, OMb=0.049, POWER_INDEX=0.96, SIGMA_8=0.83, hlittle=0.67)\n",
    "\n",
    "initial_conditions = p21c.initial_conditions(\n",
    "    user_params = p21c.UserParams(\n",
    "        HII_DIM=100, # [1]\n",
    "        BOX_LEN=400, # [p-Mpc]\n",
    "        N_THREADS=N_THREADS\n",
    "    ),\n",
    "    cosmo_params = p21c.CosmoParams(**cosmo_params_EMF),\n",
    "    random_seed=54321, write=True\n",
    ")"
   ]
  },
  {
   "cell_type": "markdown",
   "metadata": {},
   "source": [
    "#### The 21cmFAST Run"
   ]
  },
  {
   "cell_type": "code",
   "execution_count": 5,
   "metadata": {},
   "outputs": [
    {
     "name": "stdout",
     "output_type": "stream",
     "text": [
      "0 35.56148918656709 -7.991377353668213\n",
      "1 34.84459791200837 -7.387948513031006\n",
      "2 34.14176331596501 -6.825335502624512\n",
      "3 33.45270977754735 -6.251406669616699\n",
      "4 32.777167080191845 -5.669429779052734\n",
      "5 32.11487030569399 -5.138902187347412\n",
      "6 31.465559730319022 -4.656007766723633\n",
      "7 30.82898072294966 -4.217034339904785\n",
      "8 30.20488364523096 -3.8190579414367676\n",
      "9 29.59302375367312 -3.4594171047210693\n",
      "10 28.993161103673792 -3.1353840827941895\n",
      "11 28.405060455422362 -2.826450824737549\n",
      "12 27.82849118164921 -2.527686834335327\n",
      "13 27.26322717718381 -2.2760415077209473\n",
      "14 26.70904677028621 -2.0767245292663574\n",
      "15 26.1657326357171 -1.9392215013504028\n",
      "16 25.63307170951238 -1.8796662092208862\n",
      "17 25.11085510542884 -1.925730586051941\n",
      "18 24.59887803302813 -2.1095376014709473\n",
      "19 24.096939717366926 -2.484135866165161\n",
      "20 23.604843320261832 -3.12617826461792\n",
      "21 23.12239586309806 -4.139553070068359\n",
      "22 22.64940815115169 -5.631102561950684\n",
      "23 22.185694699395803 -7.77738094329834\n",
      "24 21.7310736597614 -10.753207206726074\n",
      "25 21.285366749824547 -14.776836395263672\n",
      "26 20.848399182891853 -20.02241325378418\n",
      "27 20.419999599456787 -26.67232894897461\n",
      "28 20.0 -34.87843704223633\n"
     ]
    }
   ],
   "source": [
    "mean_brightness_temp = np.zeros_like(z_eval)\n",
    "\n",
    "for i, z in enumerate(z_eval):\n",
    "    perturbed_field = p21c.perturb_field(redshift = z, init_boxes = initial_conditions, )\n",
    "    spin_temp = p21c.spin_temperature(perturbed_field = perturbed_field, )\n",
    "    ionized_field = p21c.ionize_box(spin_temp = spin_temp)\n",
    "    \n",
    "    brightness_temp = p21c.brightness_temperature(spin_temp = spin_temp, \n",
    "                                                  ionized_box=ionized_field,\n",
    "                                                  perturbed_field=perturbed_field)\n",
    "    mean_brightness_temp[i] = np.mean(brightness_temp.brightness_temp)\n",
    "    coeval = p21c.Coeval(z, initial_conditions, perturbed_field, ionized_field, brightness_temp, spin_temp,)\n",
    "\n",
    "    \n",
    "    print(i, z, mean_brightness_temp[i])"
   ]
  },
  {
   "cell_type": "code",
   "execution_count": null,
   "metadata": {},
   "outputs": [
    {
     "name": "stderr",
     "output_type": "stream",
     "text": [
      "/global/scratch/projects/pc_heptheory/fosterjw/miniconda3/envs/21cmfast/lib/python3.11/site-packages/py21cmfast/_utils.py:821: UserWarning: Trying to remove array that isn't yet created: hires_vx\n",
      "  warnings.warn(f\"Trying to remove array that isn't yet created: {k}\")\n",
      "/global/scratch/projects/pc_heptheory/fosterjw/miniconda3/envs/21cmfast/lib/python3.11/site-packages/py21cmfast/_utils.py:821: UserWarning: Trying to remove array that isn't yet created: hires_vy\n",
      "  warnings.warn(f\"Trying to remove array that isn't yet created: {k}\")\n",
      "/global/scratch/projects/pc_heptheory/fosterjw/miniconda3/envs/21cmfast/lib/python3.11/site-packages/py21cmfast/_utils.py:821: UserWarning: Trying to remove array that isn't yet created: hires_vz\n",
      "  warnings.warn(f\"Trying to remove array that isn't yet created: {k}\")\n",
      "/global/scratch/projects/pc_heptheory/fosterjw/miniconda3/envs/21cmfast/lib/python3.11/site-packages/py21cmfast/_utils.py:821: UserWarning: Trying to remove array that isn't yet created: hires_vx_2LPT\n",
      "  warnings.warn(f\"Trying to remove array that isn't yet created: {k}\")\n",
      "/global/scratch/projects/pc_heptheory/fosterjw/miniconda3/envs/21cmfast/lib/python3.11/site-packages/py21cmfast/_utils.py:821: UserWarning: Trying to remove array that isn't yet created: hires_vy_2LPT\n",
      "  warnings.warn(f\"Trying to remove array that isn't yet created: {k}\")\n",
      "/global/scratch/projects/pc_heptheory/fosterjw/miniconda3/envs/21cmfast/lib/python3.11/site-packages/py21cmfast/_utils.py:821: UserWarning: Trying to remove array that isn't yet created: hires_vz_2LPT\n",
      "  warnings.warn(f\"Trying to remove array that isn't yet created: {k}\")\n"
     ]
    }
   ],
   "source": [
    "lightcone = p21c.run_lightcone(redshift = ionized_field.redshift,\n",
    "                               user_params = ionized_field.user_params,\n",
    "                               cosmo_params = ionized_field.cosmo_params,\n",
    "                               astro_params = ionized_field.astro_params,\n",
    "                               flag_options=ionized_field.flag_options)"
   ]
  },
  {
   "cell_type": "code",
   "execution_count": null,
   "metadata": {},
   "outputs": [],
   "source": [
    "fig, ax = plt.subplots(figsize = (14, 10))\n",
    "plotting.lightcone_sliceplot(lightcone, fig =fig,ax = ax) "
   ]
  },
  {
   "cell_type": "code",
   "execution_count": null,
   "metadata": {},
   "outputs": [],
   "source": [
    "def compute_power(\n",
    "   box,\n",
    "   length,\n",
    "   n_psbins,\n",
    "   log_bins=True,\n",
    "   ignore_kperp_zero=True,\n",
    "   ignore_kpar_zero=False,\n",
    "   ignore_k_zero=False,\n",
    "):\n",
    "    # Determine the weighting function required from ignoring k's.\n",
    "    k_weights = np.ones(box.shape, int)\n",
    "    n0 = k_weights.shape[0]\n",
    "    n1 = k_weights.shape[-1]\n",
    "\n",
    "    if ignore_kperp_zero:\n",
    "        k_weights[n0 // 2, n0 // 2, :] = 0\n",
    "    if ignore_kpar_zero:\n",
    "        k_weights[:, :, n1 // 2] = 0\n",
    "    if ignore_k_zero:\n",
    "        k_weights[n0 // 2, n0 // 2, n1 // 2] = 0\n",
    "\n",
    "    res = powerbox.tools.get_power(\n",
    "        box,\n",
    "        boxlength=length,\n",
    "        bins=n_psbins,\n",
    "        bin_ave=False,\n",
    "        get_variance=False,\n",
    "        log_bins=log_bins,\n",
    "        k_weights=k_weights,\n",
    "    )\n",
    "\n",
    "    res = list(res)\n",
    "    k = res[1]\n",
    "    if log_bins:\n",
    "        k = np.exp((np.log(k[1:]) + np.log(k[:-1])) / 2)\n",
    "    else:\n",
    "        k = (k[1:] + k[:-1]) / 2\n",
    "\n",
    "    res[1] = k\n",
    "    return res\n",
    "\n",
    "def powerspectra(brightness_temp, n_psbins=50, nchunks=20, min_k=0.1, max_k=1.0, logk=True):\n",
    "    data = []\n",
    "    chunk_indices = list(range(0,brightness_temp.n_slices,round(brightness_temp.n_slices / nchunks),))    \n",
    "    \n",
    "    if len(chunk_indices) > nchunks:\n",
    "        chunk_indices = chunk_indices[:-1]\n",
    "    chunk_indices.append(brightness_temp.n_slices)\n",
    "\n",
    "    for i in range(nchunks):\n",
    "        start = chunk_indices[i]\n",
    "        end = chunk_indices[i + 1]\n",
    "        chunklen = (end - start) * brightness_temp.cell_size\n",
    "\n",
    "        power, k = compute_power(\n",
    "            brightness_temp.brightness_temp[:, :, start:end],\n",
    "            (BOX_LEN, BOX_LEN, chunklen),\n",
    "            n_psbins,\n",
    "            log_bins=logk,\n",
    "        )\n",
    "        data.append({\"k\": k, \"delta\": power * k ** 3 / (2 * np.pi ** 2)})\n",
    "    return data"
   ]
  },
  {
   "cell_type": "code",
   "execution_count": null,
   "metadata": {},
   "outputs": [],
   "source": [
    "BOX_LEN = 400\n",
    "HII_DIM = 100\n",
    "\n",
    "\n",
    "k_fundamental = 2*np.pi/BOX_LEN\n",
    "k_max = k_fundamental * HII_DIM\n",
    "Nk=np.floor(HII_DIM/1).astype(int)"
   ]
  },
  {
   "cell_type": "code",
   "execution_count": null,
   "metadata": {},
   "outputs": [],
   "source": [
    "out = powerspectra(lightcone, min_k = k_fundamental, max_k = k_max)"
   ]
  },
  {
   "cell_type": "code",
   "execution_count": null,
   "metadata": {},
   "outputs": [],
   "source": [
    "fig, axs = plt.subplots(ncols = 5, nrows = 4, figsize = (30, 16))\n",
    "\n",
    "for i, item in enumerate(out):\n",
    "    row_index, col_index = np.unravel_index(i, axs.shape)\n",
    "    \n",
    "    ax = axs[row_index, col_index]\n",
    "    ax.plot(item['k'], item['delta'], color = 'black')\n",
    "    ax.set_xscale('log')\n",
    "    ax.set_yscale('log')\n",
    "    ax.text(.6, .1, 'Redshift Chunk ' + str(i), transform=ax.transAxes, fontsize = 18)\n",
    "    \n",
    "for i in range(axs.shape[0]-1):\n",
    "    for j in range(axs.shape[1]):\n",
    "        axs[i, j].set_xticklabels([])\n",
    "\n",
    "for j in range(axs.shape[1]):\n",
    "    axs[-1, j].set_xlabel('k [Mpc$^{-1}$]', fontsize = 22)\n",
    "for i in range(axs.shape[0]):\n",
    "    axs[i, 0].set_ylabel('$k^3 P(k)$', fontsize = 22)\n",
    "    \n",
    "plt.tight_layout()\n",
    "plt.show()"
   ]
  },
  {
   "cell_type": "code",
   "execution_count": null,
   "metadata": {},
   "outputs": [],
   "source": []
  }
 ],
 "metadata": {
  "kernelspec": {
   "display_name": "21cmFAST",
   "language": "python",
   "name": "21cmfast"
  },
  "language_info": {
   "codemirror_mode": {
    "name": "ipython",
    "version": 3
   },
   "file_extension": ".py",
   "mimetype": "text/x-python",
   "name": "python",
   "nbconvert_exporter": "python",
   "pygments_lexer": "ipython3",
   "version": "3.11.0"
  }
 },
 "nbformat": 4,
 "nbformat_minor": 4
}
