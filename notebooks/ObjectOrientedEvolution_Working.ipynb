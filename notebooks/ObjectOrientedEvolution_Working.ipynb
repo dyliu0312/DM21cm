{
 "cells": [
  {
   "cell_type": "code",
   "execution_count": 1,
   "metadata": {},
   "outputs": [
    {
     "name": "stderr",
     "output_type": "stream",
     "text": [
      "/global/scratch/projects/pc_heptheory/fosterjw/21CM_Project/21cmFAST/src/py21cmfast/_cfg.py:58: UserWarning: Your configuration file is out of date. Updating...\n",
      "  warnings.warn(\n",
      "/global/scratch/projects/pc_heptheory/fosterjw/21CM_Project/21cmFAST/src/py21cmfast/_cfg.py:42: UserWarning: Your configuration file is out of date. Updating...\n",
      "  warnings.warn(\"Your configuration file is out of date. Updating...\")\n",
      "INFO:root:Using 21cmFAST version 0.1.dev1579+g6b1da6d\n"
     ]
    }
   ],
   "source": [
    "# Basic python imports\n",
    "import sys, os, time, h5py, logging, warnings\n",
    "import numpy as np\n",
    "from scipy import interpolate, integrate\n",
    "\n",
    "# The LambdaCDM cosmology\n",
    "from astropy.cosmology import Planck18 as cosmo\n",
    "\n",
    "# Import modified 21cmFAST\n",
    "import py21cmfast as p21c\n",
    "from py21cmfast import cache_tools\n",
    "\n",
    "# Configure environment for use with DarkHistory\n",
    "os.environ['DH_DIR']='/global/scratch/projects/pc_heptheory/fosterjw/21CM_Project/DarkHistory/'\n",
    "sys.path.append(os.environ['DH_DIR'])\n",
    "from darkhistory.spec.spectrum import Spectrum # use branch test_dm21cm\n",
    "\n",
    "# Import DM21CM code for this project\n",
    "sys.path.append(\"..\")\n",
    "import dm21cm.physics as phys\n",
    "from dm21cm.utils import split_xray, get_z_edges, gen_injection_boxes, p21_step\n",
    "from dm21cm.dh_wrapper import DMParams, DarkHistoryWrapper\n",
    "from dm21cm.data_cacher import SpectrumCache, BrightnessCache \n",
    "\n",
    "# Plotting\n",
    "%matplotlib inline\n",
    "import matplotlib as mpl\n",
    "import matplotlib.pyplot as plt\n",
    "from matplotlib import colormaps as cms\n",
    "mpl.rc_file(\"../matplotlibrc\")\n",
    "mpl.rcParams['text.usetex']=False\n",
    "\n",
    "# Logging\n",
    "logging.getLogger().setLevel(logging.INFO)\n",
    "logging.getLogger('21cmFAST').setLevel(logging.CRITICAL+1)\n",
    "logging.getLogger('py21cmfast._utils').setLevel(logging.CRITICAL+1)\n",
    "logging.getLogger('py21cmfast.wrapper').setLevel(logging.CRITICAL+1)\n",
    "logging.info(f'Using 21cmFAST version {p21c.__version__}')\n",
    "\n",
    "import powerbox"
   ]
  },
  {
   "cell_type": "markdown",
   "metadata": {},
   "source": [
    "# Configure the 21cmFAST"
   ]
  },
  {
   "cell_type": "code",
   "execution_count": 2,
   "metadata": {},
   "outputs": [],
   "source": [
    "p21c.config['direc'] = '../DebugCache/'\n",
    "cache_tools.clear_cache()\n",
    "\n",
    "# The range of times and how we step\n",
    "z_start = 45.\n",
    "z_end = 5.\n",
    "z_step_factor = 1.01\n",
    "\n",
    "# The size and resolution of our box\n",
    "HII_DIM = 64 # ['Dimensionless']\n",
    "BOX_LEN = HII_DIM*2. # ['Mpccm']"
   ]
  },
  {
   "cell_type": "code",
   "execution_count": 3,
   "metadata": {},
   "outputs": [
    {
     "name": "stderr",
     "output_type": "stream",
     "text": [
      "/global/scratch/projects/pc_heptheory/fosterjw/21CM_Project/21cmFAST/src/py21cmfast/inputs.py:487: UserWarning: The USE_INTERPOLATION_TABLES setting has changed in v3.1.2 to be default True. You can likely ignore this warning, but if you relied onhaving USE_INTERPOLATION_TABLES=False by *default*, please set it explicitly. To silence this warning, set it explicitly to True. Thiswarning will be removed in v4.\n",
      "  warnings.warn(\n"
     ]
    }
   ],
   "source": [
    "p21c.global_params.Z_HEAT_MAX = z_start\n",
    "p21c.global_params.ZPRIME_STEP_FACTOR = z_step_factor\n",
    "p21c.global_params.CLUMPING_FACTOR = 1.\n",
    "\n",
    "p21c_initial_conditions = p21c.initial_conditions(\n",
    "    user_params = p21c.UserParams(\n",
    "        HII_DIM = HII_DIM,\n",
    "        BOX_LEN = BOX_LEN,\n",
    "        N_THREADS = 32,\n",
    "    ),\n",
    "    cosmo_params = p21c.CosmoParams(\n",
    "        OMm = cosmo.Om(0),\n",
    "        OMb = cosmo.Ob(0),\n",
    "        POWER_INDEX =cosmo.meta['n'],\n",
    "        SIGMA_8 = cosmo.meta['sigma8'],\n",
    "        hlittle = cosmo.h,\n",
    "    ),\n",
    "    random_seed = 54321,\n",
    "    write = True,\n",
    ")"
   ]
  },
  {
   "cell_type": "markdown",
   "metadata": {},
   "source": [
    "# Configure the Physics with Dark History"
   ]
  },
  {
   "cell_type": "code",
   "execution_count": 4,
   "metadata": {},
   "outputs": [
    {
     "name": "stderr",
     "output_type": "stream",
     "text": [
      "INFO:root:Loaded photon propagation transfer function.\n",
      "INFO:root:Loaded photon scattering transfer function.\n",
      "INFO:root:Loaded photon deposition transfer function.\n"
     ]
    }
   ],
   "source": [
    "struct_boost_model = 'erfc 1e-3'\n",
    "run_mode = 'xray'\n",
    "dhinit_list = ['phot', 'T_k', 'x_e']\n",
    "dhtf_version = '230629'\n",
    "\n",
    "dh_init_path = f\"{p21c.config[f'direc']}/dhinit_soln.p\"\n",
    "abscs_path = f'../data/abscissas/abscs_{dhtf_version}.h5'\n",
    "transfer_prefix = f'../../tf/{dhtf_version}/phot'\n",
    "\n",
    "# Our energy injection model\n",
    "dm_params = DMParams(mode = 'swave', primary = 'phot_delta', m_DM = 1e10, abscs_path = abscs_path, sigmav = 1e-23)\n",
    "\n",
    "# Determine the appropriate boost factor\n",
    "if dm_params.mode == 'swave':\n",
    "    struct_boost = lambda rs: phys.struct_boost_func(model=struct_boost_model)(rs)\n",
    "else:\n",
    "    struct_boost = lambda rs: 1\n",
    "    \n",
    "# The DH Wrapper Class  \n",
    "dh_wrapper = DarkHistoryWrapper(HII_DIM, dhinit_list, 1.01,\n",
    "                                dh_init_path, abscs_path, transfer_prefix,\n",
    "                                enable_elec = False, force_reload_tf = False)"
   ]
  },
  {
   "cell_type": "markdown",
   "metadata": {},
   "source": [
    "# Set Details of Caching"
   ]
  },
  {
   "cell_type": "code",
   "execution_count": 5,
   "metadata": {},
   "outputs": [],
   "source": [
    "# Some details regarding our stepping\n",
    "z_edges = get_z_edges(z_start, z_end, 1.01)\n",
    "\n",
    "# Where we start looking for annuli\n",
    "xray_loop_start = 0\n",
    "\n",
    "ex_lo, ex_hi = 1e2, 1e4 # [eV]\n",
    "ix_lo = np.searchsorted(dh_wrapper.photeng, ex_lo) # i of first bin greater than ex_lo, excluded\n",
    "ix_hi = np.searchsorted(dh_wrapper.photeng, ex_hi) # i of first bin greater than ex_hi, included\n",
    "\n",
    "xray_fn = p21c.config['direc']+'/xray_brightness.h5'\n",
    "if os.path.isfile(xray_fn):\n",
    "    os.remove(xray_fn)\n",
    "    \n",
    "box_cache = BrightnessCache(data_path = xray_fn, cosmo = cosmo, N = HII_DIM, dx = BOX_LEN / HII_DIM)\n",
    "spectrum_cache = SpectrumCache()"
   ]
  },
  {
   "cell_type": "markdown",
   "metadata": {},
   "source": [
    "# Evolution"
   ]
  },
  {
   "cell_type": "markdown",
   "metadata": {},
   "source": [
    "### Synchronization"
   ]
  },
  {
   "cell_type": "code",
   "execution_count": 6,
   "metadata": {},
   "outputs": [],
   "source": [
    "# Initial step with no injection\n",
    "perturbed_field = p21c.perturb_field(redshift=z_edges[0], init_boxes=p21c_initial_conditions)\n",
    "spin_temp, ionized_box, brightness_temp = p21_step(z_edges[0], perturbed_field, None, None)\n",
    "\n",
    "# Manual sychronization of 21cmFAST with DarkHistory state\n",
    "if 'T_k' in dhinit_list:\n",
    "    T_k_DH = np.interp(1+spin_temp.redshift, dh_wrapper.dhinit_soln['rs'][::-1],\n",
    "                       dh_wrapper.dhinit_soln['Tm'][::-1] / phys.kB) # [K]\n",
    "    spin_temp.Tk_box += T_k_DH - np.mean(spin_temp.Tk_box)\n",
    "\n",
    "if 'x_e' in dhinit_list:\n",
    "    x_e_DH = np.interp(1+spin_temp.redshift, dh_wrapper.dhinit_soln['rs'][::-1],\n",
    "                       dh_wrapper.dhinit_soln['x'][::-1, 0]) # HI\n",
    "    \n",
    "    spin_temp.x_e_box += x_e_DH - np.mean(spin_temp.x_e_box)\n",
    "    x_H_DH = 1 - x_e_DH\n",
    "    ionized_box.xH_box += x_H_DH - np.mean(ionized_box.xH_box)\n",
    "\n",
    "if 'phot' in dhinit_list:\n",
    "    logrs_dh_arr = np.log(dh_wrapper.dhinit_soln['rs'])[::-1]\n",
    "    logrs = np.log(1+spin_temp.redshift)\n",
    "    i = np.searchsorted(logrs_dh_arr, logrs)\n",
    "    logrs_left, logrs_right = logrs_dh_arr[i-1:i+1]\n",
    "\n",
    "    dh_spec_N_arr = np.array([s.N for s in dh_wrapper.dhinit_soln['highengphot']])[::-1]\n",
    "    dh_spec_left, dh_spec_right = dh_spec_N_arr[i-1:i+1]\n",
    "    dh_spec = ( dh_spec_left * np.abs(logrs - logrs_right) + \\\n",
    "                dh_spec_right * np.abs(logrs - logrs_left) ) / np.abs(logrs_right - logrs_left)\n",
    "    phot_bath_spec = Spectrum(dh_wrapper.photeng, dh_spec, rs=1+spin_temp.redshift, spec_type='N')\n",
    "else:\n",
    "    phot_bath_spec = Spectrum(dh_wrapper.photeng, np.zeros_like(photeng),\n",
    "                              rs=1+spin_temp.redshift, spec_type='N') # [N per Bavg]"
   ]
  },
  {
   "cell_type": "markdown",
   "metadata": {},
   "source": [
    "## Now that we are synchronized, we enter our loop"
   ]
  },
  {
   "cell_type": "code",
   "execution_count": 7,
   "metadata": {},
   "outputs": [],
   "source": [
    "def get_time_step(i_z):\n",
    "    current_z=z_edges[i_z]\n",
    "    next_z = z_edges[i_z+1]\n",
    "    \n",
    "    # The cosmic time step size in [s]\n",
    "    dt= ( cosmo.age(next_z) - cosmo.age(current_z) ).to('s').value\n",
    "    return current_z, next_z, dt"
   ]
  },
  {
   "cell_type": "code",
   "execution_count": null,
   "metadata": {
    "scrolled": false
   },
   "outputs": [
    {
     "name": "stdout",
     "output_type": "stream",
     "text": [
      "Starting step:  0\n",
      "Currently at:  45.0\n",
      "Advancing to:  44.67846508307498\n"
     ]
    },
    {
     "name": "stderr",
     "output_type": "stream",
     "text": [
      "INFO:jax._src.xla_bridge:Unable to initialize backend 'cuda': module 'jaxlib.xla_extension' has no attribute 'GpuAllocatorConfig'\n",
      "INFO:jax._src.xla_bridge:Unable to initialize backend 'rocm': module 'jaxlib.xla_extension' has no attribute 'GpuAllocatorConfig'\n",
      "INFO:jax._src.xla_bridge:Unable to initialize backend 'tpu': module 'jaxlib.xla_extension' has no attribute 'get_tpu_client'\n",
      "WARNING:jax._src.xla_bridge:No GPU/TPU found, falling back to CPU. (Set TF_CPP_MIN_LOG_LEVEL=0 and rerun for more info.)\n"
     ]
    },
    {
     "name": "stdout",
     "output_type": "stream",
     "text": [
      "-17.926395\n",
      "Time Elapsed: 19.831497192382812\n",
      "\n",
      "Starting step:  1\n",
      "Currently at:  44.67846508307498\n",
      "Advancing to:  44.22620305254949\n",
      "44.67846508307498 45.0 44.67846508307498 8.181227271456812 0.0\n"
     ]
    },
    {
     "name": "stderr",
     "output_type": "stream",
     "text": [
      "/global/scratch/projects/pc_heptheory/fosterjw/21CM_Project/DM21cm/notebooks/../dm21cm/data_cacher.py:139: RuntimeWarning: invalid value encountered in divide\n",
      "  W1 = 3*(np.sin(self.kMag*R1) - self.kMag*R1 * np.cos(self.kMag*R1)) /(self.kMag*R1)**3\n",
      "/global/scratch/projects/pc_heptheory/fosterjw/21CM_Project/DM21cm/notebooks/../dm21cm/data_cacher.py:140: RuntimeWarning: invalid value encountered in divide\n",
      "  W2 = 3*(np.sin(self.kMag*R2) - self.kMag*R2 * np.cos(self.kMag*R2)) /(self.kMag*R2)**3\n"
     ]
    },
    {
     "name": "stdout",
     "output_type": "stream",
     "text": [
      "-17.191023\n",
      "Time Elapsed: 5.923879384994507\n",
      "\n",
      "Starting step:  2\n",
      "Currently at:  44.22620305254949\n",
      "Advancing to:  43.77841886391038\n",
      "44.22620305254949 45.0 44.67846508307498 19.836647575195023 11.655420328125528\n",
      "44.22620305254949 44.67846508307498 44.22620305254949 11.655420328125528 0.0\n",
      "-16.172785\n",
      "Time Elapsed: 7.2218239307403564\n",
      "\n",
      "Starting step:  3\n",
      "Currently at:  43.77841886391038\n",
      "Advancing to:  43.335068182089486\n",
      "43.77841886391038 45.0 44.67846508307498 31.550901784142937 23.369674507546076\n",
      "43.77841886391038 44.67846508307498 44.22620305254949 23.369674507546076 11.71425421787273\n",
      "43.77841886391038 44.22620305254949 43.77841886391038 11.71425421787273 0.0\n"
     ]
    }
   ],
   "source": [
    "records = []\n",
    "\n",
    "for i_z in range(len(z_edges)-1):\n",
    "    start = time.time()\n",
    "    \n",
    "    print('Starting step: ', i_z)\n",
    "    \n",
    "    current_z, next_z, dt = get_time_step(i_z)\n",
    "    nBavg = phys.n_B * (1+current_z)**3 # [Bavg / (physical cm)^3]\n",
    "    \n",
    "    print('Currently at: ', current_z)\n",
    "    print('Advancing to: ', next_z)\n",
    "    \n",
    "    # Derived quantities that I need\n",
    "    delta_plus_one_box = 1+ np.asarray(perturbed_field.density)\n",
    "    rho_DM_box = delta_plus_one_box * phys.rho_DM * (1+current_z)**3 # [eV/(physical cm)^3]\n",
    "    x_e_box = np.asarray(1 - ionized_box.xH_box) # check this\n",
    "    inj_per_Bavg_box = phys.inj_rate(rho_DM_box, dm_params) * dt * struct_boost(1+current_z) / nBavg # [inj/Bavg]\n",
    "    \n",
    "    # Kwargs for the transfer function interpolation. I had to put the hacky cap on `x_s`. Look into this\n",
    "    tf_kwargs = dict(rs = 1 + current_z,\n",
    "                     nBs_s = delta_plus_one_box.ravel(),\n",
    "                     x_s = np.minimum(.999, x_e_box).ravel(), \n",
    "                     out_of_bounds_action = 'clip'\n",
    "                    )\n",
    "    \n",
    "    # Construct the empty arrays we deposit into\n",
    "    dh_wrapper.set_empty_arrays()   \n",
    "    \n",
    "    # Set the kwargs for use in interpolations\n",
    "    dh_wrapper.set_tf_kwargs(tf_kwargs)\n",
    "    \n",
    "    #############################\n",
    "    ###   Energy Deposition   ###\n",
    "    #############################\n",
    "        \n",
    "    # Now calculate photon emission and energy deposition from our X-ray annuli\n",
    "    for i_z_shell in range(xray_loop_start, i_z):\n",
    "        \n",
    "        # Load the effective density\n",
    "        effective_density, is_box_average= box_cache.get_smoothed_shell(current_z,\n",
    "                                                                                 z_edges[i_z_shell],\n",
    "                                                                                 z_edges[i_z_shell+1])\n",
    "        # Load the emission spectrum\n",
    "        xray_spec = spectrum_cache.spectrum_list[i_z_shell]\n",
    "\n",
    "        # If we are smoothing on the scale of the box then dump to the global bath spectrum.\n",
    "        # The deposition will happen later, and we will not revisit this shell.\n",
    "        if is_box_average:\n",
    "            phot_bath_spec.N += effective_density[0, 0, 0]*xray_spec.N\n",
    "            xray_loop_start = max(i_z_shell+1, xray_loop_start)\n",
    "\n",
    "        else:\n",
    "            dh_wrapper.photon_injection(xray_spec, bath = False, weight_box = effective_density)\n",
    "\n",
    "    # Homogeneous bath injection\n",
    "    dh_wrapper.photon_injection(phot_bath_spec)\n",
    "    \n",
    "    # Dark Matter injection\n",
    "    dh_wrapper.photon_injection(dm_params.inj_phot_spec, bath =False, weight_box=inj_per_Bavg_box, ots = True)\n",
    "    \n",
    "    #############################################################\n",
    "    ###   Generate the input boxes and take a 21cmFAST step   ###\n",
    "    #############################################################\n",
    "    \n",
    "    # Access the propagating photon spectrum, emitted photon spectrum, and deposition box\n",
    "    prop_phot_N, emit_phot_N, dep_box = dh_wrapper.get_state_arrays()\n",
    "    \n",
    "    perturbed_field = p21c.perturb_field(redshift=next_z, init_boxes=p21c_initial_conditions)    \n",
    "    input_heating, input_ionization, input_jalpha = gen_injection_boxes(next_z, p21c_initial_conditions)\n",
    "    dh_wrapper.populate_injection_boxes(input_heating, input_ionization, input_jalpha,\n",
    "                                        x_e_box, delta_plus_one_box, nBavg)\n",
    "     \n",
    "    spin_temp, ionized_box, brightness_temp = p21_step(next_z, perturbed_field, spin_temp, ionized_box,\n",
    "                                                       input_heating, input_ionization, input_jalpha)\n",
    "    \n",
    "    ########################################################\n",
    "    ###   Prepare X-Ray and Bath Spectra for Next Step   ###\n",
    "    ########################################################\n",
    "    \n",
    "    # Advance all cached spectra through this redshift step under the assumption of global\n",
    "    # average quantities. First we attenuate, then we redshift.        \n",
    "    dep_tf_at_point = dh_wrapper.phot_dep_tf.point_interp(rs=1+current_z, nBs=1, x=np.mean(x_e_box))\n",
    "    dep_toteng = np.sum(dep_tf_at_point[:, :4], axis=1)\n",
    "    \n",
    "    spectrum_cache.attenuate(1 - dep_toteng/dh_wrapper.photeng)\n",
    "    spectrum_cache.redshift(next_z)\n",
    "    \n",
    "    ################################################################\n",
    "    ###   Cache X-Ray Emission from this Step and Prepare Bath   ###\n",
    "    ################################################################\n",
    "        \n",
    "    # Split the x-ray spectrum into bath and emission\n",
    "    emit_bath_N, emit_xray_N = split_xray(emit_phot_N, ix_lo, ix_hi)\n",
    "    out_phot_N = prop_phot_N + emit_bath_N\n",
    "    \n",
    "    # Prepare the bath spectrum for the next step    \n",
    "    out_phot_spec = Spectrum(dh_wrapper.photeng, out_phot_N, rs=1+current_z, spec_type='N')\n",
    "    out_phot_spec.redshift(1+next_z)\n",
    "    phot_bath_spec = out_phot_spec\n",
    "    \n",
    "    # Cache the x-ray brightness box\n",
    "    xray_e_box = dep_box[..., 5] / np.dot(dh_wrapper.photeng, emit_xray_N) # energy / B_avg\n",
    "    box_cache.cache_box(box=xray_e_box, z=current_z)\n",
    "    \n",
    "    # Cache the x-ray spectrum. This needs to be redshifted to the next time but not attenuated.\n",
    "    xray_spec = Spectrum(dh_wrapper.photeng, emit_xray_N, rs=1+current_z, spec_type='N') # [photon / Bavg]\n",
    "    xray_spec.redshift(1+next_z)\n",
    "    spectrum_cache.append(xray_spec, current_z)\n",
    "    \n",
    "    #######################################################\n",
    "    ###   Save some Global Quantities for Convenience   ###\n",
    "    #######################################################\n",
    "    \n",
    "    dE_inj_per_Bavg = dm_params.eng_per_inj * np.mean(inj_per_Bavg_box) # [eV per Bavg]\n",
    "    dE_inj_per_Bavg_unclustered = dE_inj_per_Bavg / struct_boost(1+current_z)\n",
    "\n",
    "     \n",
    "    record_inj = {'dE_inj_per_B' : dE_inj_per_Bavg,\n",
    "                  'f_ion'  : np.mean(dep_box[...,0] + dep_box[...,1]) / dE_inj_per_Bavg_unclustered,\n",
    "                  'f_exc'  : np.mean(dep_box[...,2]) / dE_inj_per_Bavg_unclustered,\n",
    "                  'f_heat' : np.mean(dep_box[...,3]) / dE_inj_per_Bavg_unclustered,\n",
    "    }\n",
    "    \n",
    "    record = {\n",
    "        'z'   : next_z,\n",
    "        'T_s' : np.mean(spin_temp.Ts_box), # [mK]\n",
    "        'T_b' : np.mean(brightness_temp.brightness_temp), # [K]\n",
    "        'T_k' : np.mean(spin_temp.Tk_box), # [K]\n",
    "        'x_e' : np.mean(1 - ionized_box.xH_box), # [1]\n",
    "        'E_phot' : phot_bath_spec.toteng(), # [eV/Bavg]\n",
    "    }\n",
    "    if run_mode in ['bath', 'xray']:\n",
    "        record.update(record_inj)\n",
    "    records.append(record)\n",
    "    print(record['T_b'])\n",
    "    \n",
    "    arr_records = {k: np.array([r[k] for r in records]) for k in records[0].keys()}\n",
    "    np.save('./New_Debug', arr_records)\n",
    "    \n",
    "    end = time.time()\n",
    "    print('Time Elapsed:', end-start)\n",
    "    print()"
   ]
  },
  {
   "cell_type": "markdown",
   "metadata": {},
   "source": [
    "# Below we make Lightcones and Power Spectra"
   ]
  },
  {
   "cell_type": "code",
   "execution_count": null,
   "metadata": {},
   "outputs": [],
   "source": [
    "lightcone_quantities = ('brightness_temp','Ts_box','xH_box',\"dNrec_box\",'z_re_box',\n",
    "                        'Gamma12_box','J_21_LW_box',\"density\")\n"
   ]
  },
  {
   "cell_type": "code",
   "execution_count": null,
   "metadata": {},
   "outputs": [],
   "source": [
    "lightcone_fid = p21c.run_lightcone(\n",
    "        redshift = z_edges[-1],\n",
    "        init_box = p21c_initial_conditions,\n",
    "        flag_options = ionized_box.flag_options,\n",
    "        astro_params = ionized_box.astro_params,\n",
    "        lightcone_quantities=lightcone_quantities,\n",
    "        global_quantities=lightcone_quantities,\n",
    "        random_seed = 54321,\n",
    "        direc = '../DebugCache/',\n",
    ")\n"
   ]
  },
  {
   "cell_type": "code",
   "execution_count": null,
   "metadata": {},
   "outputs": [],
   "source": [
    "from py21cmfast import plotting"
   ]
  },
  {
   "cell_type": "code",
   "execution_count": null,
   "metadata": {
    "scrolled": true
   },
   "outputs": [],
   "source": [
    "fig, ax = plt.subplots(figsize = (14, 10))\n",
    "plotting.lightcone_sliceplot(lightcone_fid, fig =fig,ax = ax) "
   ]
  },
  {
   "cell_type": "code",
   "execution_count": null,
   "metadata": {},
   "outputs": [],
   "source": [
    "def compute_power(\n",
    "   box,\n",
    "   length,\n",
    "   n_psbins,\n",
    "   log_bins=True,\n",
    "   ignore_kperp_zero=True,\n",
    "   ignore_kpar_zero=False,\n",
    "   ignore_k_zero=False,\n",
    "):\n",
    "    # Determine the weighting function required from ignoring k's.\n",
    "    k_weights = np.ones(box.shape, int)\n",
    "    n0 = k_weights.shape[0]\n",
    "    n1 = k_weights.shape[-1]\n",
    "\n",
    "    if ignore_kperp_zero:\n",
    "        k_weights[n0 // 2, n0 // 2, :] = 0\n",
    "    if ignore_kpar_zero:\n",
    "        k_weights[:, :, n1 // 2] = 0\n",
    "    if ignore_k_zero:\n",
    "        k_weights[n0 // 2, n0 // 2, n1 // 2] = 0\n",
    "\n",
    "    res = powerbox.tools.get_power(\n",
    "        box,\n",
    "        boxlength=length,\n",
    "        bins=n_psbins,\n",
    "        bin_ave=False,\n",
    "        get_variance=False,\n",
    "        log_bins=log_bins,\n",
    "        k_weights=k_weights,\n",
    "    )\n",
    "\n",
    "    res = list(res)\n",
    "    k = res[1]\n",
    "    if log_bins:\n",
    "        k = np.exp((np.log(k[1:]) + np.log(k[:-1])) / 2)\n",
    "    else:\n",
    "        k = (k[1:] + k[:-1]) / 2\n",
    "\n",
    "    res[1] = k\n",
    "    return res\n",
    "\n",
    "def powerspectra(brightness_temp, n_psbins=50, nchunks=20, min_k=0.1, max_k=1.0, logk=True):\n",
    "    data = []\n",
    "    chunk_indices = list(range(0,brightness_temp.n_slices,round(brightness_temp.n_slices / nchunks),))    \n",
    "    \n",
    "    if len(chunk_indices) > nchunks:\n",
    "        chunk_indices = chunk_indices[:-1]\n",
    "    chunk_indices.append(brightness_temp.n_slices)\n",
    "\n",
    "    for i in range(nchunks):\n",
    "        start = chunk_indices[i]\n",
    "        end = chunk_indices[i + 1]\n",
    "        chunklen = (end - start) * brightness_temp.cell_size\n",
    "\n",
    "        power, k = compute_power(\n",
    "            brightness_temp.brightness_temp[:, :, start:end],\n",
    "            (BOX_LEN, BOX_LEN, chunklen),\n",
    "            n_psbins,\n",
    "            log_bins=logk,\n",
    "        )\n",
    "        data.append({\"k\": k, \"delta\": power * k ** 3 / (2 * np.pi ** 2)})\n",
    "    return data"
   ]
  },
  {
   "cell_type": "code",
   "execution_count": null,
   "metadata": {},
   "outputs": [],
   "source": [
    "k_fundamental = 2*np.pi/BOX_LEN\n",
    "k_max = k_fundamental * HII_DIM\n",
    "Nk=np.floor(HII_DIM/1).astype(int)"
   ]
  },
  {
   "cell_type": "code",
   "execution_count": null,
   "metadata": {},
   "outputs": [],
   "source": [
    "out = powerspectra(lightcone_fid, min_k = k_fundamental, max_k = k_max)\n"
   ]
  },
  {
   "cell_type": "code",
   "execution_count": null,
   "metadata": {
    "scrolled": true
   },
   "outputs": [],
   "source": [
    "fig, axs = plt.subplots(ncols = 5, nrows = 4, figsize = (30, 16))\n",
    "\n",
    "for i, item in enumerate(out):\n",
    "    row_index, col_index = np.unravel_index(i, axs.shape)\n",
    "    \n",
    "    ax = axs[row_index, col_index]\n",
    "    ax.plot(item['k'], item['delta'], color = 'black')\n",
    "    ax.set_xscale('log')\n",
    "    ax.set_yscale('log')\n",
    "    ax.text(.6, .1, 'Redshift Chunk ' + str(i), transform=ax.transAxes, fontsize = 18)\n",
    "    \n",
    "for i in range(axs.shape[0]-1):\n",
    "    for j in range(axs.shape[1]):\n",
    "        axs[i, j].set_xticklabels([])\n",
    "\n",
    "for j in range(axs.shape[1]):\n",
    "    axs[-1, j].set_xlabel('k [Mpc$^{-1}$]', fontsize = 22)\n",
    "for i in range(axs.shape[0]):\n",
    "    axs[i, 0].set_ylabel('$k^3 P(k)$', fontsize = 22)\n",
    "    \n",
    "plt.tight_layout()\n",
    "plt.show()"
   ]
  }
 ],
 "metadata": {
  "kernelspec": {
   "display_name": "DM21CM",
   "language": "python",
   "name": "dm21cm"
  },
  "language_info": {
   "codemirror_mode": {
    "name": "ipython",
    "version": 3
   },
   "file_extension": ".py",
   "mimetype": "text/x-python",
   "name": "python",
   "nbconvert_exporter": "python",
   "pygments_lexer": "ipython3",
   "version": "3.11.4"
  }
 },
 "nbformat": 4,
 "nbformat_minor": 4
}
