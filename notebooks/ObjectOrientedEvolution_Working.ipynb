{
 "cells": [
  {
   "cell_type": "code",
   "execution_count": 1,
   "metadata": {},
   "outputs": [
    {
     "name": "stderr",
     "output_type": "stream",
     "text": [
      "/global/scratch/projects/pc_heptheory/fosterjw/21CM_Project/21cmFAST/src/py21cmfast/_cfg.py:58: UserWarning: Your configuration file is out of date. Updating...\n",
      "  warnings.warn(\n",
      "/global/scratch/projects/pc_heptheory/fosterjw/21CM_Project/21cmFAST/src/py21cmfast/_cfg.py:42: UserWarning: Your configuration file is out of date. Updating...\n",
      "  warnings.warn(\"Your configuration file is out of date. Updating...\")\n",
      "INFO:root:Using 21cmFAST version 0.1.dev1579+g6b1da6d\n",
      "INFO:root:Using 21cmFAST version 0.1.dev1579+g6b1da6d\n"
     ]
    }
   ],
   "source": [
    "import sys, os, time, pickle, h5py, logging, warnings\n",
    "from tqdm import tqdm\n",
    "\n",
    "import numpy as np\n",
    "from scipy import interpolate,integrate\n",
    "\n",
    "import jax\n",
    "import jax.numpy as jnp\n",
    "\n",
    "# The LambdaCDM cosmology\n",
    "from astropy.cosmology import Planck18 as cosmo\n",
    "from astropy import cosmology, constants, units\n",
    "\n",
    "# Import modified 21cmFAST\n",
    "import py21cmfast as p21c\n",
    "from py21cmfast import cache_tools\n",
    "\n",
    "# Configure environment for use with DarkHistory\n",
    "os.environ['DH_DIR']='/global/scratch/projects/pc_heptheory/fosterjw/21CM_Project/DarkHistory/'\n",
    "os.environ['DM21CM_DIR'] = '../'\n",
    "os.environ['DM21CM_DATA_DIR'] = '../..'\n",
    "sys.path.append(os.environ['DH_DIR'])\n",
    "from darkhistory.spec.spectrum import Spectrum # use branch test_dm21cm\n",
    "\n",
    "# Import DM21CM code for this project\n",
    "sys.path.append(\"..\")\n",
    "import dm21cm.physics as phys\n",
    "from dm21cm.dm_params import DMParams\n",
    "from dm21cm.utils import load_dict\n",
    "from dm21cm.data_loader import load_data\n",
    "from dm21cm.evolve import evolve\n",
    "from dm21cm.field_smoother import WindowedData\n",
    "\n",
    "# Plotting\n",
    "%matplotlib inline\n",
    "import matplotlib as mpl\n",
    "import matplotlib.pyplot as plt\n",
    "from matplotlib import colormaps as cms\n",
    "mpl.rc_file(\"../matplotlibrc\")\n",
    "mpl.rcParams['text.usetex']=False\n",
    "# Logging\n",
    "logging.getLogger().setLevel(logging.INFO)\n",
    "logging.getLogger('21cmFAST').setLevel(logging.CRITICAL+1)\n",
    "logging.getLogger('py21cmfast._utils').setLevel(logging.CRITICAL+1)\n",
    "logging.getLogger('py21cmfast.wrapper').setLevel(logging.CRITICAL+1)\n",
    "logging.info(f'Using 21cmFAST version {p21c.__version__}')\n",
    "\n",
    "import powerbox"
   ]
  },
  {
   "cell_type": "markdown",
   "metadata": {},
   "source": [
    "# These are some helper functions"
   ]
  },
  {
   "cell_type": "code",
   "execution_count": 2,
   "metadata": {},
   "outputs": [],
   "source": [
    "def get_z_edges(z_start, z_end, z_step_factor):\n",
    "    \n",
    "    z_list = [z_start]\n",
    "\n",
    "    while z_list[-1] > z_end:\n",
    "        z_list.append((z_list[-1] + 1) / z_step_factor-1)\n",
    "    return z_list\n",
    "\n",
    "def get_z_edges(zmax, min_redshift, z_step_factor):\n",
    "    redshifts = [min_redshift]\n",
    "    while redshifts[-1] < zmax:\n",
    "        redshifts.append((redshifts[-1] + 1.0) * z_step_factor - 1.0)\n",
    "\n",
    "    return redshifts[::-1]\n",
    "\n",
    "\n",
    "def split_xray(phot_N, ix_lo, ix_hi):\n",
    "    \"\"\"Split a photon spectrum (N in bin) into bath and xray band.\"\"\"\n",
    "    bath_N = np.array(phot_N).copy()\n",
    "    xray_N = np.array(phot_N).copy()\n",
    "    bath_N[ix_lo:ix_hi] *= 0\n",
    "    xray_N[:ix_lo] *= 0\n",
    "    xray_N[ix_hi:] *= 0\n",
    "    \n",
    "    return bath_N, xray_N"
   ]
  },
  {
   "cell_type": "markdown",
   "metadata": {},
   "source": [
    "# Configure Our 21cmFAST Run"
   ]
  },
  {
   "cell_type": "code",
   "execution_count": 3,
   "metadata": {},
   "outputs": [],
   "source": [
    "p21c.config['direc'] = '../DebugCache/'\n",
    "#cache_tools.clear_cache()\n",
    "\n",
    "# The range of times and how we step\n",
    "z_start = 45.\n",
    "z_end = 5.\n",
    "z_step_factor = 1.01\n",
    "\n",
    "# The size and resolution of our box\n",
    "HII_DIM = 256 # ['Dimensionless']\n",
    "BOX_LEN = 512 # ['Mpccm']\n",
    "\n",
    "\n",
    "# Our energy injection model\n",
    "dm_params = DMParams(mode = 'swave', primary = 'phot_delta',\n",
    "                     m_DM = 1e10, sigmav = 1e-23)\n",
    "\n",
    "struct_boost_model = 'erfc 1e-3'\n",
    "enable_elec = False\n",
    "force_reload_tf = False\n",
    "run_mode = 'xray'\n",
    "dhinit_list = ['phot', 'T_k', 'x_e']\n",
    "dhtf_version = '230629'"
   ]
  },
  {
   "cell_type": "code",
   "execution_count": 4,
   "metadata": {},
   "outputs": [],
   "source": [
    "# Determine the appropriate boost factor\n",
    "if dm_params.mode == 'swave':\n",
    "    struct_boost = lambda rs: phys.struct_boost_func(model=struct_boost_model)(rs)\n",
    "else:\n",
    "    struct_boost = lambda rs: 1"
   ]
  },
  {
   "cell_type": "code",
   "execution_count": 5,
   "metadata": {},
   "outputs": [
    {
     "name": "stderr",
     "output_type": "stream",
     "text": [
      "/global/scratch/projects/pc_heptheory/fosterjw/21CM_Project/21cmFAST/src/py21cmfast/inputs.py:487: UserWarning: The USE_INTERPOLATION_TABLES setting has changed in v3.1.2 to be default True. You can likely ignore this warning, but if you relied onhaving USE_INTERPOLATION_TABLES=False by *default*, please set it explicitly. To silence this warning, set it explicitly to True. Thiswarning will be removed in v4.\n",
      "  warnings.warn(\n"
     ]
    }
   ],
   "source": [
    "p21c.global_params.Z_HEAT_MAX = z_start\n",
    "p21c.global_params.ZPRIME_STEP_FACTOR = z_step_factor\n",
    "p21c.global_params.CLUMPING_FACTOR = 1.\n",
    "\n",
    "p21c_initial_conditions = p21c.initial_conditions(\n",
    "    user_params = p21c.UserParams(\n",
    "        HII_DIM = HII_DIM,\n",
    "        BOX_LEN = BOX_LEN,\n",
    "        N_THREADS = 32,\n",
    "    ),\n",
    "    cosmo_params = p21c.CosmoParams(\n",
    "        OMm = cosmo.Om(0),\n",
    "        OMb = cosmo.Ob(0),\n",
    "        POWER_INDEX =cosmo.meta['n'],\n",
    "        SIGMA_8 = cosmo.meta['sigma8'],\n",
    "        hlittle = cosmo.h,\n",
    "    ),\n",
    "    random_seed = 54321,\n",
    "    write = True,\n",
    ")\n",
    "\n",
    "# Some details regarding our stepping\n",
    "z_edges = get_z_edges(z_start, z_end, 1.01)\n",
    "z_edges = np.clip(z_edges, None, p21c.global_params.Z_HEAT_MAX)"
   ]
  },
  {
   "cell_type": "code",
   "execution_count": 11,
   "metadata": {},
   "outputs": [],
   "source": [
    "def p21_step(z_eval, perturbed_field, spin_temp, ionized_box,\n",
    "             input_heating = None, input_ionization = None, input_jalpha = None):\n",
    "    \n",
    "    # Calculate the spin temperature, possibly using our inputs\n",
    "    spin_temp = p21c.spin_temperature(perturbed_field=perturbed_field,\n",
    "                                      previous_spin_temp = spin_temp,\n",
    "                                      input_heating_box = input_heating,\n",
    "                                      input_ionization_box = input_ionization,\n",
    "                                      input_jalpha_box = input_jalpha, )\n",
    "    \n",
    "    # Calculate the ionized box\n",
    "    ionized_box = p21c.ionize_box(perturbed_field = perturbed_field,\n",
    "                                  previous_ionize_box=ionized_box,\n",
    "                                  spin_temp=spin_temp)\n",
    "    \n",
    "    \n",
    "    # Calculate the brightness temperature\n",
    "    brightness_temp = p21c.brightness_temperature(ionized_box=ionized_box,\n",
    "                                                  perturbed_field = perturbed_field,\n",
    "                                                  spin_temp = spin_temp)\n",
    "    \n",
    "    # Now return the spin temperature and ionized box because we will need them later\n",
    "    return spin_temp, ionized_box, brightness_temp\n",
    "\n",
    "def gen_injection_boxes(next_z, p21c_initial_conditions):\n",
    "    \n",
    "    # Instantiate the injection arrays\n",
    "    input_heating = p21c.input_heating(redshift=next_z, init_boxes=p21c_initial_conditions, write=False)\n",
    "    input_ionization = p21c.input_ionization(redshift=next_z, init_boxes=p21c_initial_conditions, write=False)\n",
    "    input_jalpha = p21c.input_jalpha(redshift=next_z, init_boxes=p21c_initial_conditions, write=False)\n",
    "    \n",
    "    return input_heating, input_ionization, input_jalpha"
   ]
  },
  {
   "cell_type": "markdown",
   "metadata": {},
   "source": [
    "# Dark History Interface Class"
   ]
  },
  {
   "cell_type": "code",
   "execution_count": 6,
   "metadata": {},
   "outputs": [],
   "source": [
    "class DarkHistoryWrapper:\n",
    "    \n",
    "    def __init__(self, HII_DIM, dhinit_list, z_step_factor, enable_elec = False):\n",
    "        \n",
    "        # Basic run parameters\n",
    "        self.HII_DIM = HII_DIM\n",
    "        self.norm = 1/HII_DIM**3\n",
    "        self.enable_elec = enable_elec\n",
    "\n",
    "        \n",
    "        # Setting up the DH Transfer functions\n",
    "        self.set_abcissa(z_step_factor)\n",
    "        self.set_transfers(dhinit_list)\n",
    "        \n",
    "        # The DH initial condition that we will match\n",
    "        dhinit_fn = f\"{p21c.config['direc']}/dhinit_soln.p\"\n",
    "        self.dhinit_soln = pickle.load(open(dhinit_fn, 'rb'))\n",
    "    \n",
    "    def set_abcissa(self, z_step_factor):\n",
    "        \n",
    "        '''\n",
    "        This sets the abcissa for the photon energies and electron energies. We also\n",
    "        set the size out the last dimension of the deposition box.\n",
    "        '''\n",
    "        \n",
    "        abscs = load_dict(os.environ['DM21CM_DIR'] + f\"/data/abscissas/abscs_{dhtf_version}.h5\")\n",
    "        \n",
    "        if not np.isclose(np.log(z_step_factor), abscs['dlnz']):\n",
    "            raise ValueError('zplusone_step_factor and dhtf_version mismatch')\n",
    "            \n",
    "        self.photeng = abscs['photE']\n",
    "        self.eleceng = abscs['elecEk']\n",
    "        self.dep_size = len(abscs['dep_c'])\n",
    "            \n",
    "    def set_transfers(self, dhinit_list):\n",
    "        '''\n",
    "        This function initializes the DH transfer functions used in the 21cm run. \n",
    "        '''\n",
    "        \n",
    "        data_prefix = os.environ['DM21CM_DATA_DIR'] + f'/tf/{dhtf_version}/phot'\n",
    "\n",
    "        \n",
    "        # Initialize photon transfer functions\n",
    "        self.phot_prop_tf = load_data('phot_prop', prefix=data_prefix, reload=force_reload_tf)\n",
    "        self.phot_scat_tf = load_data('phot_scat', prefix=data_prefix, reload=force_reload_tf)\n",
    "        self.phot_dep_tf = load_data('phot_dep', prefix=data_prefix, reload=force_reload_tf)\n",
    "        self.phot_prop_tf.set_fixed_in_spec(dm_params.inj_phot_spec.N)\n",
    "        self.phot_scat_tf.set_fixed_in_spec(dm_params.inj_phot_spec.N)\n",
    "        self.phot_dep_tf.set_fixed_in_spec(dm_params.inj_phot_spec.N)\n",
    "    \n",
    "        # Initialize electron transfer functions if desired\n",
    "        if self.enable_elec:\n",
    "            raise NotImplementedError\n",
    "            self.elec_phot_tf = load_data('elec_phot', prefix=data_prefix, reload=force_reload_tf)\n",
    "            self.elec_dep_tf = load_data('elec_dep', prefix=data_prefix, reload=force_reload_tf)\n",
    "            self.elec_phot_tf.set_fixed_in_spec(dm_params.inj_elec_spec.N)\n",
    "            self.elec_dep_tf.set_fixed_in_spec(dm_params.inj_elec_spec.N)\n",
    "            \n",
    "    def set_empty_arrays(self):\n",
    "        '''\n",
    "        This is a convenience method that sets the properly shaped deposition box for \n",
    "        use in our evolution\n",
    "        '''\n",
    "            \n",
    "        # Get the empty spectrum arrays\n",
    "        self.prop_phot_N = np.zeros_like(self.photeng) # [N / Bavg]\n",
    "        self.emit_phot_N = np.zeros_like(self.photeng) # [N / Bavg]\n",
    "\n",
    "        # Get the empty deposition box. ('H ion', 'He ion', 'exc', 'heat', 'cont', 'xray')        \n",
    "        self.dep_box = np.zeros((self.HII_DIM, self.HII_DIM, self.HII_DIM, self.dep_size))\n",
    "        \n",
    "        # We will also set the tf_kwargs to None to raise an error if they have not been reset\n",
    "        self.tf_kwargs = None\n",
    "        \n",
    "    def set_tf_kwargs(self, tf_kwargs):\n",
    "        '''\n",
    "        Set the tf_kwargs\n",
    "        '''\n",
    "        \n",
    "        self.tf_kwargs = tf_kwargs\n",
    "\n",
    "    def get_state_arrays(self):\n",
    "\n",
    "        '''\n",
    "        This is a convenience method that provides the properly shaped deposition box for \n",
    "        use in our evolution\n",
    "        '''\n",
    "        \n",
    "        # Return these\n",
    "        return self.prop_phot_N, self.emit_phot_N, self.dep_box\n",
    "    \n",
    "    def photon_injection(self, spec_object, bath = True, weight_box = None, ots = False):\n",
    "        if bath:\n",
    "            self.prop_phot_N += self.norm*self.phot_prop_tf(in_spec=spec_object.N, sum_result=True, **tf_kwargs) # [N / Bavg]\n",
    "            weight_box = np.ones((self.HII_DIM, self.HII_DIM, self.HII_DIM)) # dummy\n",
    "            \n",
    "        if ots:\n",
    "            self.emit_phot_N += self.norm*self.phot_prop_tf(in_spec = spec_object.N, sum_result = True, sum_weight = weight_box.ravel(), **self.tf_kwargs)\n",
    "            \n",
    "        self.emit_phot_N += self.norm*self.phot_scat_tf(in_spec=spec_object.N, sum_result=True, sum_weight = weight_box.ravel(), **self.tf_kwargs)\n",
    "        self.dep_box += weight_box[..., None] * self.phot_dep_tf(in_spec=spec_object.N, sum_result=False, **self.tf_kwargs).reshape(self.dep_box.shape) # [eV / Bavg]\n",
    "     \n",
    "        #return prop_phot_N, emit_phot_N, dep_box"
   ]
  },
  {
   "cell_type": "code",
   "execution_count": 7,
   "metadata": {},
   "outputs": [
    {
     "name": "stderr",
     "output_type": "stream",
     "text": [
      "INFO:root:Loaded photon propagation transfer function.\n",
      "INFO:root:Loaded photon scattering transfer function.\n",
      "INFO:root:Loaded photon deposition transfer function.\n",
      "INFO:jax._src.xla_bridge:Unable to initialize backend 'cuda': module 'jaxlib.xla_extension' has no attribute 'GpuAllocatorConfig'\n",
      "INFO:jax._src.xla_bridge:Unable to initialize backend 'rocm': module 'jaxlib.xla_extension' has no attribute 'GpuAllocatorConfig'\n",
      "INFO:jax._src.xla_bridge:Unable to initialize backend 'tpu': module 'jaxlib.xla_extension' has no attribute 'get_tpu_client'\n",
      "WARNING:jax._src.xla_bridge:No GPU/TPU found, falling back to CPU. (Set TF_CPP_MIN_LOG_LEVEL=0 and rerun for more info.)\n"
     ]
    }
   ],
   "source": [
    "dh_wrapper = DarkHistoryWrapper(HII_DIM, dhinit_list, 1.01)"
   ]
  },
  {
   "cell_type": "markdown",
   "metadata": {},
   "source": [
    "# Field Smoother for Propagating X-Rays"
   ]
  },
  {
   "cell_type": "code",
   "execution_count": 8,
   "metadata": {},
   "outputs": [],
   "source": [
    "ex_lo, ex_hi = 1e2, 1e4 # [eV]\n",
    "ix_lo = np.searchsorted(dh_wrapper.photeng, ex_lo) # i of first bin greater than ex_lo, excluded\n",
    "ix_hi = np.searchsorted(dh_wrapper.photeng, ex_hi) # i of first bin greater than ex_hi, included\n",
    "\n",
    "attenuation_arr = np.ones((len(z_edges), len(dh_wrapper.photeng))) # same redshift locations as z_mids\n",
    "\n",
    "xray_fn = p21c.config['direc']+'/xray_brightness.h5'\n",
    "if os.path.isfile(xray_fn):\n",
    "    os.remove(xray_fn)\n",
    "    \n",
    "xray_windowed_data = WindowedData(data_path = xray_fn, cosmo = cosmo, N = HII_DIM,\n",
    "                                  dx = BOX_LEN / HII_DIM, cache = True)"
   ]
  },
  {
   "cell_type": "markdown",
   "metadata": {},
   "source": [
    "# Evolution Loop"
   ]
  },
  {
   "cell_type": "code",
   "execution_count": 9,
   "metadata": {},
   "outputs": [],
   "source": [
    "def get_time_step(i_z):\n",
    "    current_z=z_edges[i_z]\n",
    "    next_z = z_edges[i_z+1]\n",
    "    \n",
    "    # The cosmic time step size in s\n",
    "    dt= ( cosmo.age(next_z) - cosmo.age(current_z) ).to('s').value\n",
    "    return current_z, next_z, dt\n",
    "\n",
    "#cache_tools.clear_cache()\n",
    "run_mode = 'xray'\n",
    "xray_loop_start = 0"
   ]
  },
  {
   "cell_type": "markdown",
   "metadata": {},
   "source": [
    "## Synchronize"
   ]
  },
  {
   "cell_type": "code",
   "execution_count": 12,
   "metadata": {},
   "outputs": [],
   "source": [
    "# Initial step with no injection\n",
    "perturbed_field = p21c.perturb_field(redshift=z_edges[0], init_boxes=p21c_initial_conditions)\n",
    "spin_temp, ionized_box, brightness_temp = p21_step(z_edges[0], perturbed_field, None, None)\n",
    "\n",
    "# Manual sychronization of 21cmFAST with DarkHistory state\n",
    "if 'T_k' in dhinit_list:\n",
    "    T_k_DH = np.interp(spin_temp.redshift, dh_wrapper.dhinit_soln['rs'][::-1] - 1,\n",
    "                       dh_wrapper.dhinit_soln['Tm'][::-1] / phys.kB) # [K]\n",
    "    spin_temp.Tk_box += T_k_DH - np.mean(spin_temp.Tk_box)\n",
    "\n",
    "if 'x_e' in dhinit_list:\n",
    "    x_e_DH = np.interp(spin_temp.redshift, dh_wrapper.dhinit_soln['rs'][::-1] - 1,\n",
    "                       dh_wrapper.dhinit_soln['x'][::-1, 0]) # HI\n",
    "    \n",
    "    spin_temp.x_e_box += x_e_DH - np.mean(spin_temp.x_e_box)\n",
    "    x_H_DH = 1 - x_e_DH\n",
    "    ionized_box.xH_box += x_H_DH - np.mean(ionized_box.xH_box)\n",
    "\n",
    "if 'phot' in dhinit_list:\n",
    "    logrs_dh_arr = np.log(dh_wrapper.dhinit_soln['rs'])[::-1]\n",
    "    logrs = np.log(1+spin_temp.redshift)\n",
    "    i = np.searchsorted(logrs_dh_arr, logrs)\n",
    "    logrs_left, logrs_right = logrs_dh_arr[i-1:i+1]\n",
    "\n",
    "    dh_spec_N_arr = np.array([s.N for s in dh_wrapper.dhinit_soln['highengphot']])[::-1]\n",
    "    dh_spec_left, dh_spec_right = dh_spec_N_arr[i-1:i+1]\n",
    "    dh_spec = ( dh_spec_left * np.abs(logrs - logrs_right) + \\\n",
    "                dh_spec_right * np.abs(logrs - logrs_left) ) / np.abs(logrs_right - logrs_left)\n",
    "    phot_bath_spec = Spectrum(dh_wrapper.photeng, dh_spec, rs=1+spin_temp.redshift, spec_type='N')\n",
    "else:\n",
    "    phot_bath_spec = Spectrum(dh_wrapper.photeng, np.zeros_like(photeng),\n",
    "                              rs=1+spin_temp.redshift, spec_type='N') # [N per Bavg]"
   ]
  },
  {
   "cell_type": "markdown",
   "metadata": {},
   "source": [
    "## Now that we are synchronized, we enter our loop"
   ]
  },
  {
   "cell_type": "code",
   "execution_count": null,
   "metadata": {
    "scrolled": false
   },
   "outputs": [
    {
     "name": "stderr",
     "output_type": "stream",
     "text": [
      "\r",
      "  0%|          | 0/205 [00:00<?, ?it/s]"
     ]
    },
    {
     "name": "stdout",
     "output_type": "stream",
     "text": [
      "\n",
      "Starting step:  0\n",
      "Currently at:  45.0\n",
      "Advancing to:  44.67846508307498\n"
     ]
    },
    {
     "name": "stderr",
     "output_type": "stream",
     "text": [
      "\r",
      "  0%|          | 1/205 [03:48<12:55:55, 228.21s/it]"
     ]
    },
    {
     "name": "stdout",
     "output_type": "stream",
     "text": [
      "{'z': 44.67846508307498, 'T_s': 95.24535, 'T_b': -17.92568, 'T_k': 43.590168, 'x_e': 0.00025125613, 'E_phot': Array(9.510281, dtype=float32), 'dE_inj_per_B': Array(0.01897872, dtype=float32), 'f_ion': Array(0.04592114, dtype=float32), 'f_exc': Array(0.03504682, dtype=float32), 'f_heat': Array(0.03855741, dtype=float32)}\n",
      "\n",
      "Starting step:  1\n",
      "Currently at:  44.67846508307498\n",
      "Advancing to:  44.22620305254949\n",
      "44.67846508307498 45.0 44.67846508307498 8.181227271456812 0.0\n"
     ]
    },
    {
     "name": "stderr",
     "output_type": "stream",
     "text": [
      "/global/scratch/projects/pc_heptheory/fosterjw/21CM_Project/DM21cm/notebooks/../dm21cm/field_smoother.py:160: RuntimeWarning: invalid value encountered in divide\n",
      "  W1 = 3*(np.sin(self.kMag*R1) - self.kMag*R1 * np.cos(self.kMag*R1)) /(self.kMag*R1)**3\n",
      "/global/scratch/projects/pc_heptheory/fosterjw/21CM_Project/DM21cm/notebooks/../dm21cm/field_smoother.py:161: RuntimeWarning: invalid value encountered in divide\n",
      "  W2 = 3*(np.sin(self.kMag*R2) - self.kMag*R2 * np.cos(self.kMag*R2)) /(self.kMag*R2)**3\n",
      "  1%|          | 2/205 [07:04<11:49:09, 209.60s/it]"
     ]
    },
    {
     "name": "stdout",
     "output_type": "stream",
     "text": [
      "{'z': 44.22620305254949, 'T_s': 95.11432, 'T_b': -17.190279, 'T_k': 44.97839, 'x_e': 0.00029973444, 'E_phot': Array(9.441279, dtype=float32), 'dE_inj_per_B': Array(0.02766922, dtype=float32), 'f_ion': Array(0.04143447, dtype=float32), 'f_exc': Array(0.03380511, dtype=float32), 'f_heat': Array(0.01774837, dtype=float32)}\n",
      "\n",
      "Starting step:  2\n",
      "Currently at:  44.22620305254949\n",
      "Advancing to:  43.77841886391038\n",
      "44.22620305254949 45.0 44.67846508307498 19.836647575195023 11.655420328125528\n",
      "44.22620305254949 44.67846508307498 44.22620305254949 11.655420328125528 0.0\n"
     ]
    },
    {
     "name": "stderr",
     "output_type": "stream",
     "text": [
      "\r",
      "  1%|▏         | 3/205 [10:32<11:42:17, 208.60s/it]"
     ]
    },
    {
     "name": "stdout",
     "output_type": "stream",
     "text": [
      "{'z': 43.77841886391038, 'T_s': 95.36431, 'T_b': -16.171974, 'T_k': 46.38462, 'x_e': 0.00034784194, 'E_phot': Array(9.374059, dtype=float32), 'dE_inj_per_B': Array(0.02874328, dtype=float32), 'f_ion': Array(0.04187099, dtype=float32), 'f_exc': Array(0.03413598, dtype=float32), 'f_heat': Array(0.01832751, dtype=float32)}\n",
      "\n",
      "Starting step:  3\n",
      "Currently at:  43.77841886391038\n",
      "Advancing to:  43.335068182089486\n",
      "43.77841886391038 45.0 44.67846508307498 31.550901784142937 23.369674507546076\n",
      "43.77841886391038 44.67846508307498 44.22620305254949 23.369674507546076 11.71425421787273\n",
      "43.77841886391038 44.22620305254949 43.77841886391038 11.71425421787273 0.0\n"
     ]
    },
    {
     "name": "stderr",
     "output_type": "stream",
     "text": [
      "\r",
      "  2%|▏         | 4/205 [14:09<11:50:40, 212.14s/it]"
     ]
    },
    {
     "name": "stdout",
     "output_type": "stream",
     "text": [
      "{'z': 43.335068182089486, 'T_s': 95.60589, 'T_b': -15.181977, 'T_k': 47.78346, 'x_e': 0.0003950673, 'E_phot': Array(9.308746, dtype=float32), 'dE_inj_per_B': Array(0.02994064, dtype=float32), 'f_ion': Array(0.04188404, dtype=float32), 'f_exc': Array(0.03412953, dtype=float32), 'f_heat': Array(0.01872426, dtype=float32)}\n",
      "\n",
      "Starting step:  4\n",
      "Currently at:  43.335068182089486\n",
      "Advancing to:  42.89610711097969\n",
      "43.335068182089486 45.0 44.67846508307498 43.32427943437355 35.143052219953006\n",
      "43.335068182089486 44.67846508307498 44.22620305254949 35.143052219953006 23.487631880500054\n",
      "43.335068182089486 44.22620305254949 43.77841886391038 23.487631880500054 11.773377651655219\n",
      "43.335068182089486 43.77841886391038 43.335068182089486 11.773377651655219 0.0\n"
     ]
    },
    {
     "name": "stderr",
     "output_type": "stream",
     "text": [
      "\r",
      "  2%|▏         | 5/205 [18:06<12:16:15, 220.88s/it]"
     ]
    },
    {
     "name": "stdout",
     "output_type": "stream",
     "text": [
      "{'z': 42.89610711097969, 'T_s': 95.80809, 'T_b': -14.242393, 'T_k': 49.168884, 'x_e': 0.00044134542, 'E_phot': Array(9.2454405, dtype=float32), 'dE_inj_per_B': Array(0.03126922, dtype=float32), 'f_ion': Array(0.04183449, dtype=float32), 'f_exc': Array(0.03406066, dtype=float32), 'f_heat': Array(0.01908684, dtype=float32)}\n",
      "\n",
      "Starting step:  5\n",
      "Currently at:  42.89610711097969\n",
      "Advancing to:  42.4614921890888\n",
      "42.89610711097969 45.0 44.67846508307498 55.15707165382896 46.975844419345236\n",
      "42.89610711097969 44.67846508307498 44.22620305254949 46.975844419345236 35.320424055007095\n",
      "42.89610711097969 44.22620305254949 43.77841886391038 35.320424055007095 23.606169868176774\n",
      "42.89610711097969 43.77841886391038 43.335068182089486 23.606169868176774 11.832792199582707\n",
      "42.89610711097969 43.335068182089486 42.89610711097969 11.832792199582707 0.0\n"
     ]
    },
    {
     "name": "stderr",
     "output_type": "stream",
     "text": [
      "\r",
      "  3%|▎         | 6/205 [22:23<12:53:38, 233.26s/it]"
     ]
    },
    {
     "name": "stdout",
     "output_type": "stream",
     "text": [
      "{'z': 42.4614921890888, 'T_s': 95.96985, 'T_b': -13.351984, 'T_k': 50.537884, 'x_e': 0.00048666087, 'E_phot': Array(9.1842375, dtype=float32), 'dE_inj_per_B': Array(0.03273722, dtype=float32), 'f_ion': Array(0.04177328, dtype=float32), 'f_exc': Array(0.03397032, dtype=float32), 'f_heat': Array(0.01943672, dtype=float32)}\n",
      "\n",
      "Starting step:  6\n",
      "Currently at:  42.4614921890888\n",
      "Advancing to:  42.03118038523644\n",
      "42.4614921890888 45.0 44.67846508307498 67.04957087519259 58.86834365650333\n",
      "42.4614921890888 44.67846508307498 44.22620305254949 58.86834365650333 47.21292326175496\n",
      "42.4614921890888 44.22620305254949 43.77841886391038 47.21292326175496 35.49866918925705\n",
      "42.4614921890888 43.77841886391038 43.335068182089486 35.49866918925705 23.725291444244725\n",
      "42.4614921890888 43.335068182089486 42.89610711097969 23.725291444244725 11.892499244101101\n",
      "42.4614921890888 42.89610711097969 42.4614921890888 11.892499244101101 0.0\n"
     ]
    },
    {
     "name": "stderr",
     "output_type": "stream",
     "text": [
      "\r",
      "  3%|▎         | 7/205 [26:48<13:24:17, 243.73s/it]"
     ]
    },
    {
     "name": "stdout",
     "output_type": "stream",
     "text": [
      "{'z': 42.03118038523644, 'T_s': 96.091255, 'T_b': -12.508606, 'T_k': 51.888016, 'x_e': 0.00053101586, 'E_phot': Array(9.125276, dtype=float32), 'dE_inj_per_B': Array(0.03435313, dtype=float32), 'f_ion': Array(0.04170858, dtype=float32), 'f_exc': Array(0.03386671, dtype=float32), 'f_heat': Array(0.01977734, dtype=float32)}\n",
      "\n",
      "Starting step:  7\n",
      "Currently at:  42.03118038523644\n",
      "Advancing to:  41.6051290942935\n",
      "42.03118038523644 45.0 44.67846508307498 79.00207130304517 70.8208439999422\n",
      "42.03118038523644 44.67846508307498 44.22620305254949 70.8208439999422 59.1654235400916\n",
      "42.03118038523644 44.22620305254949 43.77841886391038 59.1654235400916 47.45116944930553\n",
      "42.03118038523644 43.77841886391038 43.335068182089486 47.45116944930553 35.67779178923788\n",
      "42.03118038523644 43.335068182089486 42.89610711097969 35.67779178923788 23.844999562655705\n",
      "42.03118038523644 42.89610711097969 42.4614921890888 23.844999562655705 11.952500299345358\n",
      "42.03118038523644 42.4614921890888 42.03118038523644 11.952500299345358 0.0\n"
     ]
    },
    {
     "name": "stderr",
     "output_type": "stream",
     "text": [
      "\r",
      "  4%|▍         | 8/205 [30:36<13:03:37, 238.67s/it]"
     ]
    },
    {
     "name": "stdout",
     "output_type": "stream",
     "text": [
      "{'z': 41.6051290942935, 'T_s': 96.17271, 'T_b': -11.710121, 'T_k': 53.217262, 'x_e': 0.0005744173, 'E_phot': Array(9.068695, dtype=float32), 'dE_inj_per_B': Array(0.03612562, dtype=float32), 'f_ion': Array(0.04164233, dtype=float32), 'f_exc': Array(0.03375293, dtype=float32), 'f_heat': Array(0.02010954, dtype=float32)}\n",
      "\n",
      "Starting step:  8\n",
      "Currently at:  41.6051290942935\n",
      "Advancing to:  41.18329613296386\n",
      "41.6051290942935 45.0 44.67846508307498 91.0148680497086 82.83364063364793\n",
      "41.6051290942935 44.67846508307498 44.22620305254949 82.83364063364793 71.17822050656618\n",
      "41.6051290942935 44.22620305254949 43.77841886391038 71.17822050656618 59.46396628989516\n",
      "41.6051290942935 43.77841886391038 43.335068182089486 59.46396628989516 47.690588590758416\n",
      "41.6051290942935 43.335068182089486 42.89610711097969 47.690588590758416 35.85779642306596\n",
      "41.6051290942935 42.89610711097969 42.4614921890888 35.85779642306596 23.96529718841756\n",
      "41.6051290942935 42.4614921890888 42.03118038523644 23.96529718841756 12.012796858099478\n",
      "41.6051290942935 42.03118038523644 41.6051290942935 12.012796858099478 0.0\n"
     ]
    },
    {
     "name": "stderr",
     "output_type": "stream",
     "text": [
      "\r",
      "  4%|▍         | 9/205 [34:21<12:45:59, 234.49s/it]"
     ]
    },
    {
     "name": "stdout",
     "output_type": "stream",
     "text": [
      "{'z': 41.18329613296386, 'T_s': 96.214836, 'T_b': -10.954389, 'T_k': 54.523727, 'x_e': 0.0006168747, 'E_phot': Array(9.014654, dtype=float32), 'dE_inj_per_B': Array(0.03806366, dtype=float32), 'f_ion': Array(0.04157531, dtype=float32), 'f_exc': Array(0.03363098, dtype=float32), 'f_heat': Array(0.02043366, dtype=float32)}\n",
      "\n",
      "Starting step:  9\n",
      "Currently at:  41.18329613296386\n",
      "Advancing to:  40.765639735607785\n",
      "41.18329613296386 45.0 44.67846508307498 103.0882584996138 94.90703125667108\n",
      "41.18329613296386 44.67846508307498 44.22620305254949 94.90703125667108 83.25161078210606\n",
      "41.18329613296386 44.22620305254949 43.77841886391038 83.25161078210606 71.53735650246432\n",
      "41.18329613296386 43.77841886391038 43.335068182089486 71.53735650246432 59.763978981643845\n",
      "41.18329613296386 43.335068182089486 42.89610711097969 59.763978981643845 47.931186716946954\n",
      "41.18329613296386 42.89610711097969 42.4614921890888 47.931186716946954 36.03868746003124\n",
      "41.18329613296386 42.4614921890888 42.03118038523644 36.03868746003124 24.086187160681312\n",
      "41.18329613296386 42.03118038523644 41.6051290942935 24.086187160681312 12.073390340376774\n",
      "41.18329613296386 41.6051290942935 41.18329613296386 12.073390340376774 0.0\n"
     ]
    },
    {
     "name": "stderr",
     "output_type": "stream",
     "text": [
      "\r",
      "  5%|▍         | 10/205 [38:15<12:40:46, 234.09s/it]"
     ]
    },
    {
     "name": "stdout",
     "output_type": "stream",
     "text": [
      "{'z': 40.765639735607785, 'T_s': 96.2186, 'T_b': -10.239363, 'T_k': 55.805782, 'x_e': 0.0006583985, 'E_phot': Array(8.963272, dtype=float32), 'dE_inj_per_B': Array(0.04017644, dtype=float32), 'f_ion': Array(0.04150796, dtype=float32), 'f_exc': Array(0.03350246, dtype=float32), 'f_heat': Array(0.02074999, dtype=float32)}\n",
      "\n",
      "Starting step:  10\n",
      "Currently at:  40.765639735607785\n",
      "Advancing to:  40.35211855010672\n",
      "40.765639735607785 45.0 44.67846508307498 115.22254069243448 107.0413134079505\n",
      "40.765639735607785 44.67846508307498 44.22620305254949 107.0413134079505 95.38589312765491\n",
      "40.765639735607785 44.22620305254949 43.77841886391038 95.38589312765491 83.67163875644187\n",
      "40.765639735607785 43.77841886391038 43.335068182089486 83.67163875644187 71.89826126199554\n",
      "40.765639735607785 43.335068182089486 42.89610711097969 71.89826126199554 60.06546904500115\n",
      "40.765639735607785 42.89610711097969 42.4614921890888 60.06546904500115 48.172969787609674\n",
      "40.765639735607785 42.4614921890888 42.03118038523644 48.172969787609674 36.220469455870614\n",
      "40.765639735607785 42.03118038523644 41.6051290942935 36.220469455870614 24.20767259468902\n",
      "40.765639735607785 41.6051290942935 41.18329613296386 24.20767259468902 12.134282282593517\n",
      "40.765639735607785 41.18329613296386 40.765639735607785 12.134282282593517 0.0\n"
     ]
    },
    {
     "name": "stderr",
     "output_type": "stream",
     "text": [
      "\r",
      "  5%|▌         | 11/205 [42:15<12:43:20, 236.09s/it]"
     ]
    },
    {
     "name": "stdout",
     "output_type": "stream",
     "text": [
      "{'z': 40.35211855010672, 'T_s': 96.184906, 'T_b': -9.563054, 'T_k': 57.06186, 'x_e': 0.00069899904, 'E_phot': Array(8.914703, dtype=float32), 'dE_inj_per_B': Array(0.04247327, dtype=float32), 'f_ion': Array(0.04144066, dtype=float32), 'f_exc': Array(0.03336868, dtype=float32), 'f_heat': Array(0.02105872, dtype=float32)}\n",
      "\n",
      "Starting step:  11\n",
      "Currently at:  40.35211855010672\n",
      "Advancing to:  39.94269163376902\n",
      "40.35211855010672 45.0 44.67846508307498 127.41801483627839 119.23678769196644\n",
      "40.35211855010672 44.67846508307498 44.22620305254949 119.23678769196644 107.58136738903772\n",
      "40.35211855010672 44.22620305254949 43.77841886391038 107.58136738903772 95.8671131115508\n",
      "40.35211855010672 43.77841886391038 43.335068182089486 95.8671131115508 84.09373542455161\n",
      "40.35211855010672 43.335068182089486 42.89610711097969 84.09373542455161 72.26094314897564\n",
      "40.35211855010672 42.89610711097969 42.4614921890888 72.26094314897564 60.36844394336956\n",
      "40.35211855010672 42.4614921890888 42.03118038523644 60.36844394336956 48.4159436461238\n",
      "40.35211855010672 42.03118038523644 41.6051290942935 48.4159436461238 36.403146851100594\n",
      "40.35211855010672 41.6051290942935 41.18329613296386 36.403146851100594 24.329756468596525\n",
      "40.35211855010672 41.18329613296386 40.765639735607785 24.329756468596525 12.195474182594207\n",
      "40.35211855010672 40.765639735607785 40.35211855010672 12.195474182594207 0.0\n"
     ]
    },
    {
     "name": "stderr",
     "output_type": "stream",
     "text": [
      "\r",
      "  6%|▌         | 12/205 [46:21<12:49:22, 239.18s/it]"
     ]
    },
    {
     "name": "stdout",
     "output_type": "stream",
     "text": [
      "{'z': 39.94269163376902, 'T_s': 96.11415, 'T_b': -8.923541, 'T_k': 58.290718, 'x_e': 0.00073869247, 'E_phot': Array(8.869113, dtype=float32), 'dE_inj_per_B': Array(0.04496381, dtype=float32), 'f_ion': Array(0.04137358, dtype=float32), 'f_exc': Array(0.03323078, dtype=float32), 'f_heat': Array(0.02136005, dtype=float32)}\n",
      "\n",
      "Starting step:  12\n",
      "Currently at:  39.94269163376902\n",
      "Advancing to:  39.53731844927626\n",
      "39.94269163376902 45.0 44.67846508307498 139.67498246870719 131.49375513868637\n",
      "39.94269163376902 44.67846508307498 44.22620305254949 131.49375513868637 119.8383346987086\n",
      "39.94269163376902 44.22620305254949 43.77841886391038 119.8383346987086 108.1240807641502\n",
      "39.94269163376902 43.77841886391038 43.335068182089486 108.1240807641502 96.35070298786299\n",
      "39.94269163376902 43.335068182089486 42.89610711097969 96.35070298786299 84.51791085128386\n",
      "39.94269163376902 42.89610711097969 42.4614921890888 84.51791085128386 72.62541146115443\n",
      "39.94269163376902 42.4614921890888 42.03118038523644 72.62541146115443 60.672911203636396\n",
      "39.94269163376902 42.03118038523644 41.6051290942935 60.672911203636396 48.660114396243\n",
      "39.94269163376902 41.6051290942935 41.18329613296386 48.660114396243 36.58672407794431\n",
      "39.94269163376902 41.18329613296386 40.765639735607785 36.58672407794431 24.452441749658785\n",
      "39.94269163376902 40.765639735607785 40.35211855010672 24.452441749658785 12.256967562463073\n",
      "39.94269163376902 40.35211855010672 39.94269163376902 12.256967562463073 0.0\n"
     ]
    },
    {
     "name": "stderr",
     "output_type": "stream",
     "text": [
      "\r",
      "  6%|▋         | 13/205 [50:54<13:18:12, 249.44s/it]"
     ]
    },
    {
     "name": "stdout",
     "output_type": "stream",
     "text": [
      "{'z': 39.53731844927626, 'T_s': 96.00802, 'T_b': -8.318984, 'T_k': 59.49125, 'x_e': 0.00077749026, 'E_phot': Array(8.826662, dtype=float32), 'dE_inj_per_B': Array(0.04765772, dtype=float32), 'f_ion': Array(0.04130692, dtype=float32), 'f_exc': Array(0.03308962, dtype=float32), 'f_heat': Array(0.02165413, dtype=float32)}\n",
      "\n",
      "Starting step:  13\n",
      "Currently at:  39.53731844927626\n",
      "Advancing to:  39.13595886066957\n",
      "39.53731844927626 45.0 44.67846508307498 151.99374633259606 143.81251905841162\n",
      "39.53731844927626 44.67846508307498 44.22620305254949 143.81251905841162 132.157098745537\n",
      "39.53731844927626 44.22620305254949 43.77841886391038 132.157098745537 120.44284468154585\n",
      "39.53731844927626 43.77841886391038 43.335068182089486 120.44284468154585 108.66946701657811\n",
      "39.53731844927626 43.335068182089486 42.89610711097969 108.66946701657811 96.83667478612021\n",
      "39.53731844927626 42.89610711097969 42.4614921890888 96.83667478612021 84.94417539398856\n",
      "39.53731844927626 42.4614921890888 42.03118038523644 84.94417539398856 72.99167514298743\n",
      "39.53731844927626 42.03118038523644 41.6051290942935 72.99167514298743 60.978878263333065\n",
      "39.53731844927626 41.6051290942935 41.18329613296386 60.978878263333065 48.905488037485156\n",
      "39.53731844927626 41.18329613296386 40.765639735607785 48.905488037485156 36.77120564361316\n",
      "39.53731844927626 40.765639735607785 40.35211855010672 36.77120564361316 24.575731487052757\n",
      "39.53731844927626 40.35211855010672 39.94269163376902 24.575731487052757 12.318763919698137\n",
      "39.53731844927626 39.94269163376902 39.53731844927626 12.318763919698137 0.0\n"
     ]
    },
    {
     "name": "stderr",
     "output_type": "stream",
     "text": [
      "\r",
      "  7%|▋         | 14/205 [56:32<14:38:18, 275.91s/it]"
     ]
    },
    {
     "name": "stdout",
     "output_type": "stream",
     "text": [
      "{'z': 39.13595886066957, 'T_s': 95.867134, 'T_b': -7.747653, 'T_k': 60.66234, 'x_e': 0.00081540976, 'E_phot': Array(8.78754, dtype=float32), 'dE_inj_per_B': Array(0.05056488, dtype=float32), 'f_ion': Array(0.0412408, dtype=float32), 'f_exc': Array(0.03294607, dtype=float32), 'f_heat': Array(0.02194117, dtype=float32)}\n",
      "\n",
      "Starting step:  14\n",
      "Currently at:  39.13595886066957\n",
      "Advancing to:  38.73857312937581\n",
      "39.13595886066957 45.0 44.67846508307498 164.37461088335817 156.1933838870413\n",
      "39.13595886066957 44.67846508307498 44.22620305254949 156.1933838870413 144.53796361254945\n",
      "39.13595886066957 44.22620305254949 43.77841886391038 144.53796361254945 132.82370929957514\n",
      "39.13595886066957 43.77841886391038 43.335068182089486 132.82370929957514 121.050331524516\n",
      "39.13595886066957 43.335068182089486 42.89610711097969 121.050331524516 109.21753956828782\n",
      "39.13595886066957 42.89610711097969 42.4614921890888 109.21753956828782 97.32504024166633\n",
      "39.13595886066957 42.4614921890888 42.03118038523644 97.32504024166633 85.3725398746917\n",
      "39.13595886066957 42.03118038523644 41.6051290942935 85.3725398746917 73.35974308490701\n",
      "39.13595886066957 41.6051290942935 41.18329613296386 73.35974308490701 61.286352804525244\n",
      "39.13595886066957 41.18329613296386 40.765639735607785 61.286352804525244 49.15207042165305\n",
      "39.13595886066957 40.765639735607785 40.35211855010672 49.15207042165305 36.956596261876335\n",
      "39.13595886066957 40.35211855010672 39.94269163376902 36.956596261876335 24.699628675455717\n",
      "39.13595886066957 39.94269163376902 39.53731844927626 24.699628675455717 12.380864775671515\n",
      "39.13595886066957 39.53731844927626 39.13595886066957 12.380864775671515 0.0\n"
     ]
    },
    {
     "name": "stderr",
     "output_type": "stream",
     "text": [
      "\r",
      "  7%|▋         | 15/205 [1:02:48<16:10:06, 306.35s/it]"
     ]
    },
    {
     "name": "stdout",
     "output_type": "stream",
     "text": [
      "{'z': 38.73857312937581, 'T_s': 95.692795, 'T_b': -7.207819, 'T_k': 61.803223, 'x_e': 0.0008524674, 'E_phot': Array(8.751938, dtype=float32), 'dE_inj_per_B': Array(0.0536954, dtype=float32), 'f_ion': Array(0.04117531, dtype=float32), 'f_exc': Array(0.03280073, dtype=float32), 'f_heat': Array(0.02222129, dtype=float32)}\n",
      "\n",
      "Starting step:  15\n",
      "Currently at:  38.73857312937581\n",
      "Advancing to:  38.34512191027308\n",
      "38.73857312937581 45.0 44.67846508307498 176.8178827009723 168.63665540993506\n",
      "38.73857312937581 44.67846508307498 44.22620305254949 168.63665540993506 156.9812352065136\n",
      "38.73857312937581 44.22620305254949 43.77841886391038 156.9812352065136 145.26698104191993\n",
      "38.73857312937581 43.77841886391038 43.335068182089486 145.26698104191993 133.4936033938166\n",
      "38.73857312937581 43.335068182089486 42.89610711097969 133.4936033938166 121.66081122861358\n",
      "38.73857312937581 42.89610711097969 42.4614921890888 121.66081122861358 109.76831188568791\n",
      "38.73857312937581 42.4614921890888 42.03118038523644 109.76831188568791 97.81581163568008\n",
      "38.73857312937581 42.03118038523644 41.6051290942935 97.81581163568008 85.80301473972646\n",
      "38.73857312937581 41.6051290942935 41.18329613296386 85.80301473972646 73.72962432879804\n",
      "38.73857312937581 41.18329613296386 40.765639735607785 73.72962432879804 61.59534219044196\n",
      "38.73857312937581 40.765639735607785 40.35211855010672 61.59534219044196 49.39986788649313\n",
      "38.73857312937581 40.35211855010672 39.94269163376902 49.39986788649313 37.1429003492767\n",
      "38.73857312937581 39.94269163376902 39.53731844927626 37.1429003492767 24.82413647205162\n",
      "38.73857312937581 39.53731844927626 39.13595886066957 24.82413647205162 12.443271680946612\n",
      "38.73857312937581 39.13595886066957 38.73857312937581 12.443271680946612 0.0\n"
     ]
    },
    {
     "name": "stderr",
     "output_type": "stream",
     "text": [
      "\r",
      "  8%|▊         | 16/205 [1:07:53<16:03:17, 305.81s/it]"
     ]
    },
    {
     "name": "stdout",
     "output_type": "stream",
     "text": [
      "{'z': 38.34512191027308, 'T_s': 95.50739, 'T_b': -6.6841717, 'T_k': 62.913105, 'x_e': 0.0008886767, 'E_phot': Array(8.720058, dtype=float32), 'dE_inj_per_B': Array(0.05705934, dtype=float32), 'f_ion': Array(0.0411105, dtype=float32), 'f_exc': Array(0.03265424, dtype=float32), 'f_heat': Array(0.02249467, dtype=float32)}\n",
      "\n",
      "Starting step:  16\n",
      "Currently at:  38.34512191027308\n",
      "Advancing to:  37.955566247795126\n",
      "38.34512191027308 45.0 44.67846508307498 189.32386898579452 181.14264171413205\n",
      "38.34512191027308 44.67846508307498 44.22620305254949 181.14264171413205 169.48722139112883\n",
      "38.34512191027308 44.22620305254949 43.77841886391038 169.48722139112883 157.77296706257403\n",
      "38.34512191027308 43.77841886391038 43.335068182089486 157.77296706257403 145.99958951852486\n",
      "38.34512191027308 43.335068182089486 42.89610711097969 145.99958951852486 134.1667973674406\n",
      "38.34512191027308 42.89610711097969 42.4614921890888 134.1667973674406 122.27429828202487\n",
      "38.34512191027308 42.4614921890888 42.03118038523644 122.27429828202487 110.32179769378726\n",
      "38.34512191027308 42.03118038523644 41.6051290942935 110.32179769378726 98.3090008558645\n",
      "38.34512191027308 41.6051290942935 41.18329613296386 98.3090008558645 86.23561073199791\n",
      "38.34512191027308 41.18329613296386 40.765639735607785 86.23561073199791 74.10132830523739\n",
      "38.34512191027308 40.765639735607785 40.35211855010672 74.10132830523739 61.90585412858637\n",
      "38.34512191027308 40.35211855010672 39.94269163376902 61.90585412858637 49.64888647511169\n",
      "38.34512191027308 39.94269163376902 39.53731844927626 49.64888647511169 37.33012260809823\n",
      "38.34512191027308 39.53731844927626 39.13595886066957 37.33012260809823 24.949257759720886\n",
      "38.34512191027308 39.13595886066957 38.73857312937581 24.949257759720886 12.505986128916682\n",
      "38.34512191027308 38.73857312937581 38.34512191027308 12.505986128916682 0.0\n"
     ]
    },
    {
     "name": "stderr",
     "output_type": "stream",
     "text": [
      "\r",
      "  8%|▊         | 17/205 [1:13:03<16:01:46, 306.95s/it]"
     ]
    },
    {
     "name": "stdout",
     "output_type": "stream",
     "text": [
      "{'z': 37.955566247795126, 'T_s': 95.29432, 'T_b': -6.1872272, 'T_k': 63.99152, 'x_e': 0.0009240546, 'E_phot': Array(8.692094, dtype=float32), 'dE_inj_per_B': Array(0.0606669, dtype=float32), 'f_ion': Array(0.04104652, dtype=float32), 'f_exc': Array(0.03250714, dtype=float32), 'f_heat': Array(0.02276148, dtype=float32)}\n",
      "\n",
      "Starting step:  17\n",
      "Currently at:  37.955566247795126\n",
      "Advancing to:  37.56986757207438\n",
      "37.955566247795126 45.0 44.67846508307498 201.8928786920007 193.71165120243714\n",
      "37.955566247795126 44.67846508307498 44.22620305254949 193.71165120243714 182.05623085137955\n",
      "37.955566247795126 44.22620305254949 43.77841886391038 182.05623085137955 170.3419767492476\n",
      "37.955566247795126 43.77841886391038 43.335068182089486 170.3419767492476 158.5685989295734\n",
      "37.955566247795126 43.335068182089486 42.89610711097969 158.5685989295734 146.73580698117337\n",
      "37.955566247795126 42.89610711097969 42.4614921890888 146.73580698117337 134.84330792246465\n",
      "37.955566247795126 42.4614921890888 42.03118038523644 134.84330792246465 122.89080758623133\n",
      "37.955566247795126 42.03118038523644 41.6051290942935 122.89080758623133 110.87801055115462\n",
      "37.955566247795126 41.6051290942935 41.18329613296386 110.87801055115462 98.80462032107667\n",
      "37.955566247795126 41.18329613296386 40.765639735607785 98.80462032107667 86.67033802424248\n",
      "37.955566247795126 40.765639735607785 40.35211855010672 86.67033802424248 74.47486373930465\n",
      "37.955566247795126 40.35211855010672 39.94269163376902 74.47486373930465 62.217896254557886\n",
      "37.955566247795126 39.94269163376902 39.53731844927626 62.217896254557886 49.8991323117645\n",
      "37.955566247795126 39.53731844927626 39.13595886066957 49.8991323117645 37.51826749109478\n",
      "37.955566247795126 39.13595886066957 38.73857312937581 37.51826749109478 25.074995865304743\n",
      "37.955566247795126 38.73857312937581 38.34512191027308 25.074995865304743 12.569009704708995\n",
      "37.955566247795126 38.34512191027308 37.955566247795126 12.569009704708995 0.0\n"
     ]
    },
    {
     "name": "stderr",
     "output_type": "stream",
     "text": [
      "\r",
      "  9%|▉         | 18/205 [1:18:41<16:25:56, 316.35s/it]"
     ]
    },
    {
     "name": "stdout",
     "output_type": "stream",
     "text": [
      "{'z': 37.56986757207438, 'T_s': 95.046814, 'T_b': -5.720274, 'T_k': 65.037895, 'x_e': 0.00095862016, 'E_phot': Array(8.66824, dtype=float32), 'dE_inj_per_B': Array(0.06452844, dtype=float32), 'f_ion': Array(0.04098334, dtype=float32), 'f_exc': Array(0.0323598, dtype=float32), 'f_heat': Array(0.02302188, dtype=float32)}\n",
      "\n",
      "Starting step:  18\n",
      "Currently at:  37.56986757207438\n",
      "Advancing to:  37.18798769512315\n",
      "37.56986757207438 45.0 44.67846508307498 214.52522276101882 206.34399524835052\n",
      "37.56986757207438 44.67846508307498 44.22620305254949 206.34399524835052 194.68857502417268\n",
      "37.56986757207438 44.22620305254949 43.77841886391038 194.68857502417268 182.97432085795555\n",
      "37.56986757207438 43.77841886391038 43.335068182089486 182.97432085795555 171.200942938639\n",
      "37.56986757207438 43.335068182089486 42.89610711097969 171.200942938639 159.36815094419654\n",
      "37.56986757207438 42.89610711097969 42.4614921890888 159.36815094419654 147.4756515193348\n",
      "37.56986757207438 42.4614921890888 42.03118038523644 147.4756515193348 135.52315139716106\n",
      "37.56986757207438 42.03118038523644 41.6051290942935 135.52315139716106 123.51035463795046\n",
      "37.56986757207438 41.6051290942935 41.18329613296386 123.51035463795046 111.43696418457104\n",
      "37.56986757207438 41.18329613296386 40.765639735607785 111.43696418457104 99.30268194073098\n",
      "37.56986757207438 40.765639735607785 40.35211855010672 99.30268194073098 87.10720761270498\n",
      "37.56986757207438 40.35211855010672 39.94269163376902 87.10720761270498 74.85024016358734\n",
      "37.56986757207438 39.94269163376902 39.53731844927626 74.85024016358734 62.53147623207214\n",
      "37.56986757207438 39.53731844927626 39.13595886066957 62.53147623207214 50.15061146065768\n",
      "37.56986757207438 39.13595886066957 38.73857312937581 50.15061146065768 37.70733976332114\n",
      "37.56986757207438 38.73857312937581 38.34512191027308 37.70733976332114 25.2013536151558\n",
      "37.56986757207438 38.34512191027308 37.955566247795126 25.2013536151558 12.632343952807604\n",
      "37.56986757207438 37.955566247795126 37.56986757207438 12.632343952807604 0.0\n"
     ]
    },
    {
     "name": "stderr",
     "output_type": "stream",
     "text": [
      "\r",
      "  9%|▉         | 19/205 [1:26:22<18:35:35, 359.87s/it]"
     ]
    },
    {
     "name": "stdout",
     "output_type": "stream",
     "text": [
      "{'z': 37.18798769512315, 'T_s': 94.766846, 'T_b': -5.2814293, 'T_k': 66.05271, 'x_e': 0.0009924038, 'E_phot': Array(8.648755, dtype=float32), 'dE_inj_per_B': Array(0.06865428, dtype=float32), 'f_ion': Array(0.04093898, dtype=float32), 'f_exc': Array(0.03222672, dtype=float32), 'f_heat': Array(0.02328624, dtype=float32)}\n",
      "\n",
      "Starting step:  19\n",
      "Currently at:  37.18798769512315\n",
      "Advancing to:  36.80988880705262\n",
      "37.18798769512315 45.0 44.67846508307498 227.22121308872426 219.03998576998978\n",
      "37.18798769512315 44.67846508307498 44.22620305254949 219.03998576998978 207.38456523032215\n",
      "37.18798769512315 44.22620305254949 43.77841886391038 207.38456523032215 195.6703111440402\n",
      "37.18798769512315 43.77841886391038 43.335068182089486 195.6703111440402 183.89693344770996\n",
      "37.18798769512315 43.335068182089486 42.89610711097969 183.89693344770996 172.06414135248738\n",
      "37.18798769512315 42.89610711097969 42.4614921890888 172.06414135248738 160.17164201310487\n",
      "37.18798769512315 42.4614921890888 42.03118038523644 160.17164201310487 148.2191418748205\n",
      "37.18798769512315 42.03118038523644 41.6051290942935 148.2191418748205 136.20634501327723\n",
      "37.18798769512315 41.6051290942935 41.18329613296386 136.20634501327723 124.13295446090255\n",
      "37.18798769512315 41.18329613296386 40.765639735607785 124.13295446090255 111.99867227444997\n",
      "37.18798769512315 40.765639735607785 40.35211855010672 111.99867227444997 99.80319817579127\n",
      "37.18798769512315 40.35211855010672 39.94269163376902 99.80319817579127 87.54623053605988\n",
      "37.18798769512315 39.94269163376902 39.53731844927626 87.54623053605988 75.22746657406037\n",
      "37.18798769512315 39.53731844927626 39.13595886066957 75.22746657406037 62.846601974836474\n",
      "37.18798769512315 39.13595886066957 38.73857312937581 62.846601974836474 50.4033302158851\n",
      "37.18798769512315 38.73857312937581 38.34512191027308 50.4033302158851 37.89734409663648\n",
      "37.18798769512315 38.34512191027308 37.955566247795126 37.89734409663648 25.328334351560628\n",
      "37.18798769512315 37.955566247795126 37.56986757207438 25.328334351560628 12.695990414028833\n",
      "37.18798769512315 37.56986757207438 37.18798769512315 12.695990414028833 0.0\n"
     ]
    },
    {
     "name": "stderr",
     "output_type": "stream",
     "text": [
      "\r",
      " 10%|▉         | 20/205 [1:33:25<19:27:57, 378.80s/it]"
     ]
    },
    {
     "name": "stdout",
     "output_type": "stream",
     "text": [
      "{'z': 36.80988880705262, 'T_s': 94.45611, 'T_b': -4.868792, 'T_k': 67.0376, 'x_e': 0.0010254568, 'E_phot': Array(8.63383, dtype=float32), 'dE_inj_per_B': Array(0.07305479, dtype=float32), 'f_ion': Array(0.04093208, dtype=float32), 'f_exc': Array(0.03212223, dtype=float32), 'f_heat': Array(0.02356454, dtype=float32)}\n",
      "\n",
      "Starting step:  20\n",
      "Currently at:  36.80988880705262\n",
      "Advancing to:  36.43553347232933\n",
      "36.80988880705262 45.0 44.67846508307498 239.98116344831146 231.79993614637215\n",
      "36.80988880705262 44.67846508307498 44.22620305254949 231.79993614637215 220.14451580216758\n",
      "36.80988880705262 44.22620305254949 43.77841886391038 220.14451580216758 208.43026162555446\n",
      "36.80988880705262 43.77841886391038 43.335068182089486 208.43026162555446 196.65688423455856\n",
      "36.80988880705262 43.335068182089486 42.89610711097969 196.65688423455856 184.82409210911518\n",
      "36.80988880705262 42.89610711097969 42.4614921890888 184.82409210911518 172.93159296424264\n",
      "36.80988880705262 42.4614921890888 42.03118038523644 172.93159296424264 160.97909247467294\n",
      "36.80988880705262 42.03118038523644 41.6051290942935 160.97909247467294 148.96629571397594\n",
      "36.80988880705262 41.6051290942935 41.18329613296386 148.96629571397594 136.89290539610013\n",
      "36.80988880705262 41.18329613296386 40.765639735607785 136.89290539610013 124.75862317966569\n",
      "36.80988880705262 40.765639735607785 40.35211855010672 124.75862317966569 112.5631487448397\n",
      "36.80988880705262 40.35211855010672 39.94269163376902 112.5631487448397 100.30618124268744\n",
      "36.80988880705262 39.94269163376902 39.53731844927626 100.30618124268744 87.98741729092136\n",
      "36.80988880705262 39.53731844927626 39.13595886066957 87.98741729092136 75.606552584116\n",
      "36.80988880705262 39.13595886066957 38.73857312937581 75.606552584116 63.16328096169201\n",
      "36.80988880705262 38.73857312937581 38.34512191027308 63.16328096169201 50.65729473421048\n",
      "36.80988880705262 38.34512191027308 37.955566247795126 50.65729473421048 38.08828509894892\n",
      "36.80988880705262 37.955566247795126 37.56986757207438 38.08828509894892 25.4559411042415\n",
      "36.80988880705262 37.56986757207438 37.18798769512315 25.4559411042415 12.759950680794967\n",
      "36.80988880705262 37.18798769512315 36.80988880705262 12.759950680794967 0.0\n"
     ]
    },
    {
     "name": "stderr",
     "output_type": "stream",
     "text": [
      "\r",
      " 10%|█         | 21/205 [1:40:14<19:49:40, 387.94s/it]"
     ]
    },
    {
     "name": "stdout",
     "output_type": "stream",
     "text": [
      "{'z': 36.43553347232933, 'T_s': 94.112854, 'T_b': -4.4830613, 'T_k': 67.979294, 'x_e': 0.001057818, 'E_phot': Array(8.623734, dtype=float32), 'dE_inj_per_B': Array(0.0777403, dtype=float32), 'f_ion': Array(0.04095462, dtype=float32), 'f_exc': Array(0.03210913, dtype=float32), 'f_heat': Array(0.02370014, dtype=float32)}\n",
      "\n",
      "Starting step:  21\n",
      "Currently at:  36.43553347232933\n",
      "Advancing to:  36.06488462606865\n",
      "36.43553347232933 45.0 44.67846508307498 252.80538971023338 244.62416267321422\n",
      "36.43553347232933 44.67846508307498 44.22620305254949 244.62416267321422 232.9687424026277\n",
      "36.43553347232933 44.22620305254949 43.77841886391038 232.9687424026277 221.25448835790732\n",
      "36.43553347232933 43.77841886391038 43.335068182089486 221.25448835790732 209.48111060714555\n",
      "36.43553347232933 43.335068182089486 42.89610711097969 209.48111060714555 197.6483186792105\n",
      "36.43553347232933 42.89610711097969 42.4614921890888 197.6483186792105 185.75581910947363\n",
      "36.43553347232933 42.4614921890888 42.03118038523644 185.75581910947363 173.80331900448826\n",
      "36.43553347232933 42.03118038523644 41.6051290942935 173.80331900448826 161.79052175882276\n",
      "36.43553347232933 41.6051290942935 41.18329613296386 161.79052175882276 149.71713147809552\n",
      "36.43553347232933 41.18329613296386 40.765639735607785 149.71713147809552 137.5828494009082\n",
      "36.43553347232933 40.765639735607785 40.35211855010672 137.5828494009082 125.3873750171746\n",
      "36.43553347232933 40.35211855010672 39.94269163376902 125.3873750171746 113.1304076309277\n",
      "36.43553347232933 39.94269163376902 39.53731844927626 113.1304076309277 100.81164380044628\n",
      "36.43553347232933 39.53731844927626 39.13595886066957 100.81164380044628 88.43077889646382\n",
      "36.43553347232933 39.13595886066957 38.73857312937581 88.43077889646382 75.98750722415065\n",
      "36.43553347232933 38.73857312937581 38.34512191027308 75.98750722415065 63.4815210936505\n",
      "36.43553347232933 38.34512191027308 37.955566247795126 63.4815210936505 50.91251139809361\n",
      "36.43553347232933 37.955566247795126 37.56986757207438 50.91251139809361 38.280167382105375\n",
      "36.43553347232933 37.56986757207438 37.18798769512315 38.280167382105375 25.584176961281955\n",
      "36.43553347232933 37.18798769512315 36.80988880705262 25.584176961281955 12.824226316453986\n",
      "36.43553347232933 36.80988880705262 36.43553347232933 12.824226316453986 0.0\n"
     ]
    },
    {
     "name": "stderr",
     "output_type": "stream",
     "text": [
      "\r",
      " 11%|█         | 22/205 [1:48:10<21:04:02, 414.44s/it]"
     ]
    },
    {
     "name": "stdout",
     "output_type": "stream",
     "text": [
      "{'z': 36.06488462606865, 'T_s': 93.73839, 'T_b': -4.1228304, 'T_k': 68.87452, 'x_e': 0.0010895083, 'E_phot': Array(8.618682, dtype=float32), 'dE_inj_per_B': Array(0.08272126, dtype=float32), 'f_ion': Array(0.04098585, dtype=float32), 'f_exc': Array(0.03212402, dtype=float32), 'f_heat': Array(0.02378937, dtype=float32)}\n",
      "\n",
      "Starting step:  22\n",
      "Currently at:  36.06488462606865\n",
      "Advancing to:  35.697905570364995\n",
      "36.06488462606865 45.0 44.67846508307498 265.6942089127536 257.51298190002046\n",
      "36.06488462606865 44.67846508307498 44.22620305254949 257.51298190002046 245.8575613137161\n",
      "36.06488462606865 44.22620305254949 43.77841886391038 245.8575613137161 234.14330674224598\n",
      "36.06488462606865 43.77841886391038 43.335068182089486 234.14330674224598 222.369929538349\n",
      "36.06488462606865 43.335068182089486 42.89610711097969 222.369929538349 210.5371373866328\n",
      "36.06488462606865 42.89610711097969 42.4614921890888 210.5371373866328 198.64463795127867\n",
      "36.06488462606865 42.4614921890888 42.03118038523644 198.64463795127867 186.6921376596909\n",
      "36.06488462606865 42.03118038523644 41.6051290942935 186.6921376596909 174.67934075721342\n",
      "36.06488462606865 41.6051290942935 41.18329613296386 174.67934075721342 162.6059504177583\n",
      "36.06488462606865 41.18329613296386 40.765639735607785 162.6059504177583 150.47166807142108\n",
      "36.06488462606865 40.765639735607785 40.35211855010672 150.47166807142108 138.27619398798393\n",
      "36.06488462606865 40.35211855010672 39.94269163376902 138.27619398798393 126.01922653172201\n",
      "36.06488462606865 39.94269163376902 39.53731844927626 126.01922653172201 113.70046239827369\n",
      "36.06488462606865 39.53731844927626 39.13595886066957 113.70046239827369 101.31959767671468\n",
      "36.06488462606865 39.13595886066957 38.73857312937581 101.31959767671468 88.87632613125619\n",
      "36.06488462606865 38.73857312937581 38.34512191027308 88.87632613125619 76.3703398841098\n",
      "36.06488462606865 38.34512191027308 37.955566247795126 76.3703398841098 63.80133016925123\n",
      "36.06488462606865 37.955566247795126 37.56986757207438 63.80133016925123 51.16898627658836\n",
      "36.06488462606865 37.56986757207438 37.18798769512315 51.16898627658836 38.47299584168354\n",
      "36.06488462606865 37.18798769512315 36.80988880705262 38.47299584168354 25.713045205146877\n",
      "36.06488462606865 36.80988880705262 36.43553347232933 25.713045205146877 12.888818864750558\n",
      "36.06488462606865 36.43553347232933 36.06488462606865 12.888818864750558 0.0\n"
     ]
    },
    {
     "name": "stderr",
     "output_type": "stream",
     "text": [
      "\r",
      " 11%|█         | 23/205 [1:55:21<21:11:56, 419.32s/it]"
     ]
    },
    {
     "name": "stdout",
     "output_type": "stream",
     "text": [
      "{'z': 35.697905570364995, 'T_s': 93.334885, 'T_b': -3.7862587, 'T_k': 69.72434, 'x_e': 0.0011205395, 'E_phot': Array(8.619344, dtype=float32), 'dE_inj_per_B': Array(0.08800782, dtype=float32), 'f_ion': Array(0.04101835, dtype=float32), 'f_exc': Array(0.03213855, dtype=float32), 'f_heat': Array(0.02387819, dtype=float32)}\n",
      "\n",
      "Starting step:  23\n",
      "Currently at:  35.697905570364995\n",
      "Advancing to:  35.33455997065841\n",
      "35.697905570364995 44.67846508307498 44.22620305254949 270.4667116101673 258.81129142760597\n",
      "35.697905570364995 44.22620305254949 43.77841886391038 258.81129142760597 247.09703686002013\n",
      "35.697905570364995 43.77841886391038 43.335068182089486 247.09703686002013 235.3236592460698\n",
      "35.697905570364995 43.335068182089486 42.89610711097969 235.3236592460698 223.49086706834368\n",
      "35.697905570364995 42.89610711097969 42.4614921890888 223.49086706834368 211.5983679880441\n",
      "35.697905570364995 42.4614921890888 42.03118038523644 211.5983679880441 199.645867728559\n",
      "35.697905570364995 42.03118038523644 41.6051290942935 199.645867728559 187.63307071479048\n",
      "35.697905570364995 41.6051290942935 41.18329613296386 187.63307071479048 175.5596804149614\n",
      "35.697905570364995 41.18329613296386 40.765639735607785 175.5596804149614 163.425398018675\n",
      "35.697905570364995 40.765639735607785 40.35211855010672 163.425398018675 151.229924210724\n",
      "35.697905570364995 40.35211855010672 39.94269163376902 151.229924210724 138.97295668225664\n",
      "35.697905570364995 39.94269163376902 39.53731844927626 138.97295668225664 126.65419261836827\n",
      "35.697905570364995 39.53731844927626 39.13595886066957 126.65419261836827 114.27332761679388\n",
      "35.697905570364995 39.13595886066957 38.73857312937581 114.27332761679388 101.83005618814742\n",
      "35.697905570364995 38.73857312937581 38.34512191027308 101.83005618814742 89.32406990312454\n",
      "35.697905570364995 38.34512191027308 37.955566247795126 89.32406990312454 76.75506019738316\n",
      "35.697905570364995 37.955566247795126 37.56986757207438 76.75506019738316 64.12271625865301\n",
      "35.697905570364995 37.56986757207438 37.18798769512315 64.12271625865301 51.42672584577347\n",
      "35.697905570364995 37.18798769512315 36.80988880705262 51.42672584577347 38.666775122809256\n",
      "35.697905570364995 36.80988880705262 36.43553347232933 38.666775122809256 25.84254891058269\n",
      "35.697905570364995 36.43553347232933 36.06488462606865 25.84254891058269 12.953729996047736\n",
      "35.697905570364995 36.06488462606865 35.697905570364995 12.953729996047736 0.0\n"
     ]
    },
    {
     "name": "stderr",
     "output_type": "stream",
     "text": [
      "\r",
      " 12%|█▏        | 24/205 [2:02:53<21:34:42, 429.18s/it]"
     ]
    },
    {
     "name": "stdout",
     "output_type": "stream",
     "text": [
      "{'z': 35.33455997065841, 'T_s': 92.90465, 'T_b': -3.4717624, 'T_k': 70.52992, 'x_e': 0.0011509268, 'E_phot': Array(8.625552, dtype=float32), 'dE_inj_per_B': Array(0.09361039, dtype=float32), 'f_ion': Array(0.04105065, dtype=float32), 'f_exc': Array(0.03215173, dtype=float32), 'f_heat': Array(0.02396577, dtype=float32)}\n",
      "\n",
      "Starting step:  24\n",
      "Currently at:  35.33455997065841\n",
      "Advancing to:  34.97481185213704\n",
      "35.33455997065841 44.22620305254949 43.77841886391038 271.83025242401624 260.11599803174477\n",
      "35.33455997065841 43.77841886391038 43.335068182089486 260.11599803174477 248.34262110906468\n",
      "35.33455997065841 43.335068182089486 42.89610711097969 248.34262110906468 236.50982808666149\n",
      "35.33455997065841 42.89610711097969 42.4614921890888 236.50982808666149 224.61732930969322\n",
      "35.33455997065841 42.4614921890888 42.03118038523644 224.61732930969322 212.66482875160182\n",
      "35.33455997065841 42.03118038523644 41.6051290942935 212.66482875160182 200.65203217010665\n",
      "35.33455997065841 41.6051290942935 41.18329613296386 200.65203217010665 188.5786414256528\n",
      "35.33455997065841 41.18329613296386 40.765639735607785 188.5786414256528 176.4443593964575\n",
      "35.33455997065841 40.765639735607785 40.35211855010672 176.4443593964575 164.24888509640203\n",
      "35.33455997065841 40.35211855010672 39.94269163376902 164.24888509640203 151.99191770193133\n",
      "35.33455997065841 39.94269163376902 39.53731844927626 151.99191770193133 139.67315378380053\n",
      "35.33455997065841 39.53731844927626 39.13595886066957 139.67315378380053 127.2922889144068\n",
      "35.33455997065841 39.13595886066957 38.73857312937581 127.2922889144068 114.84901722101408\n",
      "35.33455997065841 38.73857312937581 38.34512191027308 114.84901722101408 102.343031170719\n",
      "35.33455997065841 38.34512191027308 37.955566247795126 102.343031170719 89.77402146518068\n",
      "35.33455997065841 37.955566247795126 37.56986757207438 89.77402146518068 77.14167753210897\n",
      "35.33455997065841 37.56986757207438 37.18798769512315 77.14167753210897 64.4456870543551\n",
      "35.33455997065841 37.18798769512315 36.80988880705262 64.4456870543551 51.68573637994637\n",
      "35.33455997065841 36.80988880705262 36.43553347232933 51.68573637994637 38.86151006330021\n",
      "35.33455997065841 36.43553347232933 36.06488462606865 38.86151006330021 25.972691195676603\n",
      "35.33455997065841 36.06488462606865 35.697905570364995 25.972691195676603 13.018961229806587\n",
      "35.33455997065841 35.697905570364995 35.33455997065841 13.018961229806587 0.0\n"
     ]
    },
    {
     "name": "stderr",
     "output_type": "stream",
     "text": [
      "\r",
      " 12%|█▏        | 25/205 [2:09:41<21:07:46, 422.59s/it]"
     ]
    },
    {
     "name": "stdout",
     "output_type": "stream",
     "text": [
      "{'z': 34.97481185213704, 'T_s': 92.44913, 'T_b': -3.1778529, 'T_k': 71.29221, 'x_e': 0.0011806791, 'E_phot': Array(8.637566, dtype=float32), 'dE_inj_per_B': Array(0.099539, dtype=float32), 'f_ion': Array(0.04108296, dtype=float32), 'f_exc': Array(0.03216387, dtype=float32), 'f_heat': Array(0.02405223, dtype=float32)}\n",
      "\n",
      "Starting step:  25\n",
      "Currently at:  34.97481185213704\n",
      "Advancing to:  34.618625596175285\n",
      "34.97481185213704 43.77841886391038 43.335068182089486 273.2005127374323 261.42713449362134\n",
      "34.97481185213704 43.335068182089486 42.89610711097969 261.42713449362134 249.59434248809362\n",
      "34.97481185213704 42.89610711097969 42.4614921890888 249.59434248809362 237.70184349529268\n",
      "34.97481185213704 42.4614921890888 42.03118038523644 237.70184349529268 225.74934331764703\n",
      "34.97481185213704 42.03118038523644 41.6051290942935 225.74934331764703 213.73654635237247\n",
      "34.97481185213704 41.6051290942935 41.18329613296386 213.73654635237247 201.663156251431\n",
      "34.97481185213704 41.18329613296386 40.765639735607785 201.663156251431 189.52887366802779\n",
      "34.97481185213704 40.765639735607785 40.35211855010672 189.52887366802779 177.33339934981146\n",
      "34.97481185213704 40.35211855010672 39.94269163376902 177.33339934981146 165.0764318795131\n",
      "34.97481185213704 39.94269163376902 39.53731844927626 165.0764318795131 152.75766787262026\n",
      "34.97481185213704 39.53731844927626 39.13595886066957 152.75766787262026 140.37680291408742\n",
      "34.97481185213704 39.13595886066957 38.73857312937581 140.37680291408742 127.93353149261524\n",
      "34.97481185213704 38.73857312937581 38.34512191027308 127.93353149261524 115.42754520520437\n",
      "34.97481185213704 38.34512191027308 37.955566247795126 115.42754520520437 102.85853556427364\n",
      "34.97481185213704 37.955566247795126 37.56986757207438 102.85853556427364 90.22619161850322\n",
      "34.97481185213704 37.56986757207438 37.18798769512315 90.22619161850322 77.53020129753213\n",
      "34.97481185213704 37.18798769512315 36.80988880705262 77.53020129753213 64.77025061105017\n",
      "34.97481185213704 36.80988880705262 36.43553347232933 64.77025061105017 51.94602426302614\n",
      "34.97481185213704 36.43553347232933 36.06488462606865 51.94602426302614 39.057205390522824\n",
      "34.97481185213704 36.06488462606865 35.697905570364995 39.057205390522824 26.103475401873503\n",
      "34.97481185213704 35.697905570364995 35.33455997065841 26.103475401873503 13.08451420221601\n",
      "34.97481185213704 35.33455997065841 34.97481185213704 13.08451420221601 0.0\n"
     ]
    },
    {
     "name": "stderr",
     "output_type": "stream",
     "text": [
      "\r",
      " 13%|█▎        | 26/205 [2:15:35<19:59:56, 402.22s/it]"
     ]
    },
    {
     "name": "stdout",
     "output_type": "stream",
     "text": [
      "{'z': 34.618625596175285, 'T_s': 91.970276, 'T_b': -2.9031997, 'T_k': 72.01223, 'x_e': 0.0012098113, 'E_phot': Array(8.655672, dtype=float32), 'dE_inj_per_B': Array(0.1058037, dtype=float32), 'f_ion': Array(0.04111536, dtype=float32), 'f_exc': Array(0.03217524, dtype=float32), 'f_heat': Array(0.02413769, dtype=float32)}\n",
      "\n",
      "Starting step:  26\n",
      "Currently at:  34.618625596175285\n",
      "Advancing to:  34.26596593680721\n",
      "34.618625596175285 43.335068182089486 42.89610711097969 274.5775253820343 262.74473315343505\n",
      "34.618625596175285 42.89610711097969 42.4614921890888 262.74473315343505 250.85223373439842\n",
      "34.618625596175285 42.4614921890888 42.03118038523644 250.85223373439842 238.89973380510034\n",
      "34.618625596175285 42.03118038523644 41.6051290942935 238.89973380510034 226.88693662118555\n",
      "34.618625596175285 41.6051290942935 41.18329613296386 226.88693662118555 214.81354620963603\n",
      "34.618625596175285 41.18329613296386 40.765639735607785 214.81354620963603 202.6792644214702\n",
      "34.618625596175285 40.765639735607785 40.35211855010672 202.6792644214702 190.48379000622512\n",
      "34.618625596175285 40.35211855010672 39.94269163376902 190.48379000622512 178.22682252340846\n",
      "34.618625596175285 39.94269163376902 39.53731844927626 178.22682252340846 165.90805835819341\n",
      "34.618625596175285 39.53731844927626 39.13595886066957 165.90805835819341 153.5271935174072\n",
      "34.618625596175285 39.13595886066957 38.73857312937581 153.5271935174072 141.08392224054364\n",
      "34.618625596175285 38.73857312937581 38.34512191027308 141.08392224054364 128.57793596826141\n",
      "34.618625596175285 38.34512191027308 37.955566247795126 128.57793596826141 116.00892621292635\n",
      "34.618625596175285 37.955566247795126 37.56986757207438 116.00892621292635 103.37658220736868\n",
      "34.618625596175285 37.56986757207438 37.18798769512315 103.37658220736868 90.68059173182372\n",
      "34.618625596175285 37.18798769512315 36.80988880705262 90.68059173182372 77.92064111248925\n",
      "34.618625596175285 36.80988880705262 36.43553347232933 77.92064111248925 65.09641480213932\n",
      "34.618625596175285 36.43553347232933 36.06488462606865 65.09641480213932 52.20759591733983\n",
      "34.618625596175285 36.06488462606865 35.697905570364995 52.20759591733983 39.25386595065619\n",
      "34.618625596175285 35.697905570364995 35.33455997065841 39.25386595065619 26.23490470536584\n",
      "34.618625596175285 35.33455997065841 34.97481185213704 26.23490470536584 13.150390528999703\n",
      "34.618625596175285 34.97481185213704 34.618625596175285 13.150390528999703 0.0\n"
     ]
    },
    {
     "name": "stderr",
     "output_type": "stream",
     "text": [
      "\r",
      " 13%|█▎        | 27/205 [2:21:37<19:17:11, 390.07s/it]"
     ]
    },
    {
     "name": "stdout",
     "output_type": "stream",
     "text": [
      "{'z': 34.26596593680721, 'T_s': 91.46985, 'T_b': -2.6465495, 'T_k': 72.69109, 'x_e': 0.0012383336, 'E_phot': Array(8.680162, dtype=float32), 'dE_inj_per_B': Array(0.11241435, dtype=float32), 'f_ion': Array(0.04114805, dtype=float32), 'f_exc': Array(0.03218603, dtype=float32), 'f_heat': Array(0.02422223, dtype=float32)}\n",
      "\n",
      "Starting step:  27\n",
      "Currently at:  34.26596593680721\n",
      "Advancing to:  33.91679795723486\n",
      "34.26596593680721 42.89610711097969 42.4614921890888 275.9613246717469 264.06882567400265\n",
      "34.26596593680721 42.4614921890888 42.03118038523644 264.06882567400265 252.1163255678568\n",
      "34.26596593680721 42.03118038523644 41.6051290942935 252.1163255678568 240.10352864296664\n",
      "34.26596593680721 41.6051290942935 41.18329613296386 240.10352864296664 228.03013817260543\n",
      "34.26596593680721 41.18329613296386 40.765639735607785 228.03013817260543 215.89585578553434\n",
      "34.26596593680721 40.765639735607785 40.35211855010672 215.89585578553434 203.70038172517238\n",
      "34.26596593680721 40.35211855010672 39.94269163376902 203.70038172517238 191.4434142943669\n",
      "34.26596593680721 39.94269163376902 39.53731844927626 191.4434142943669 179.12465014925488\n",
      "34.26596593680721 39.53731844927626 39.13595886066957 179.12465014925488 166.7437856630954\n",
      "34.26596593680721 39.13595886066957 38.73857312937581 166.7437856630954 154.30051379862797\n",
      "34.26596593680721 38.73857312937581 38.34512191027308 154.30051379862797 141.79452750273964\n",
      "34.26596593680721 38.34512191027308 37.955566247795126 141.79452750273964 129.22551779651053\n",
      "34.26596593680721 37.955566247795126 37.56986757207438 129.22551779651053 116.5931738029232\n",
      "34.26596593680721 37.56986757207438 37.18798769512315 116.5931738029232 103.89718361350126\n",
      "34.26596593680721 37.18798769512315 36.80988880705262 103.89718361350126 91.13723295014417\n",
      "34.26596593680721 36.80988880705262 36.43553347232933 91.13723295014417 78.31300660741597\n",
      "34.26596593680721 36.43553347232933 36.06488462606865 78.31300660741597 65.42418776997498\n",
      "34.26596593680721 36.06488462606865 35.697905570364995 65.42418776997498 52.47045772053654\n",
      "34.26596593680721 35.697905570364995 35.33455997065841 52.47045772053654 39.45149654755476\n",
      "34.26596593680721 35.33455997065841 34.97481185213704 39.45149654755476 26.366982312818983\n",
      "34.26596593680721 34.97481185213704 34.618625596175285 26.366982312818983 13.21659179124672\n",
      "34.26596593680721 34.618625596175285 34.26596593680721 13.21659179124672 0.0\n"
     ]
    },
    {
     "name": "stderr",
     "output_type": "stream",
     "text": [
      "\r",
      " 14%|█▎        | 28/205 [2:29:49<20:40:45, 420.60s/it]"
     ]
    },
    {
     "name": "stdout",
     "output_type": "stream",
     "text": [
      "{'z': 33.91679795723486, 'T_s': 90.94937, 'T_b': -2.4067185, 'T_k': 73.329834, 'x_e': 0.0012662574, 'E_phot': Array(8.71133, dtype=float32), 'dE_inj_per_B': Array(0.11938081, dtype=float32), 'f_ion': Array(0.04118105, dtype=float32), 'f_exc': Array(0.03219637, dtype=float32), 'f_heat': Array(0.02430594, dtype=float32)}\n",
      "\n",
      "Starting step:  28\n",
      "Currently at:  33.91679795723486\n",
      "Advancing to:  33.57108708637115\n",
      "33.91679795723486 42.4614921890888 42.03118038523644 277.3519457492264 265.39944480463834\n",
      "33.91679795723486 42.03118038523644 41.6051290942935 265.39944480463834 253.3866480208477\n",
      "33.91679795723486 41.6051290942935 41.18329613296386 253.3866480208477 241.31325740943146\n",
      "33.91679795723486 41.18329613296386 40.765639735607785 241.31325740943146 229.1789754075223\n",
      "33.91679795723486 40.765639735607785 40.35211855010672 229.1789754075223 216.98350152777624\n",
      "33.91679795723486 40.35211855010672 39.94269163376902 216.98350152777624 204.72653373107758\n",
      "33.91679795723486 39.94269163376902 39.53731844927626 204.72653373107758 192.407769955744\n",
      "33.91679795723486 39.53731844927626 39.13595886066957 192.407769955744 180.02690494685586\n",
      "33.91679795723486 39.13595886066957 38.73857312937581 180.02690494685586 167.58363353326135\n",
      "33.91679795723486 38.73857312937581 38.34512191027308 167.58363353326135 155.07764732685905\n",
      "33.91679795723486 38.34512191027308 37.955566247795126 155.07764732685905 142.50863754856553\n",
      "33.91679795723486 37.955566247795126 37.56986757207438 142.50863754856553 129.8762935044749\n",
      "33.91679795723486 37.56986757207438 37.18798769512315 129.8762935044749 117.18030328406526\n",
      "33.91679795723486 37.18798769512315 36.80988880705262 117.18030328406526 104.42035257512705\n",
      "33.91679795723486 36.80988880705262 36.43553347232933 104.42035257512705 91.59612629879402\n",
      "33.91679795723486 36.43553347232933 36.06488462606865 91.59612629879402 78.7073074366776\n",
      "33.91679795723486 36.06488462606865 35.697905570364995 78.7073074366776 65.7535774307875\n",
      "33.91679795723486 35.697905570364995 35.33455997065841 65.7535774307875 52.73461622176493\n",
      "33.91679795723486 35.33455997065841 34.97481185213704 52.73461622176493 39.65010201441057\n",
      "33.91679795723486 34.97481185213704 34.618625596175285 39.65010201441057 26.49971144096416\n",
      "33.91679795723486 34.618625596175285 34.26596593680721 26.49971144096416 13.28311968673807\n",
      "33.91679795723486 34.26596593680721 33.91679795723486 13.28311968673807 0.0\n"
     ]
    },
    {
     "name": "stderr",
     "output_type": "stream",
     "text": [
      "\r",
      " 14%|█▍        | 29/205 [2:38:29<22:01:33, 450.53s/it]"
     ]
    },
    {
     "name": "stdout",
     "output_type": "stream",
     "text": [
      "{'z': 33.57108708637115, 'T_s': 90.410515, 'T_b': -2.1826446, 'T_k': 73.9297, 'x_e': 0.0012935959, 'E_phot': Array(8.749455, dtype=float32), 'dE_inj_per_B': Array(0.12671252, dtype=float32), 'f_ion': Array(0.04121462, dtype=float32), 'f_exc': Array(0.03220647, dtype=float32), 'f_heat': Array(0.02438891, dtype=float32)}\n",
      "\n",
      "Starting step:  29\n",
      "Currently at:  33.57108708637115\n",
      "Advancing to:  33.22879909541698\n",
      "33.57108708637115 42.03118038523644 41.6051290942935 278.7494207556989 266.73662399972807\n",
      "33.57108708637115 41.6051290942935 41.18329613296386 266.73662399972807 254.6632338780385\n",
      "33.57108708637115 41.18329613296386 40.765639735607785 254.6632338780385 242.52895151509117\n",
      "33.57108708637115 40.765639735607785 40.35211855010672 242.52895151509117 230.333477528973\n",
      "33.57108708637115 40.35211855010672 39.94269163376902 230.333477528973 218.0765093153442\n",
      "33.57108708637115 39.94269163376902 39.53731844927626 218.0765093153442 205.75774544304122\n",
      "33.57108708637115 39.53731844927626 39.13595886066957 205.75774544304122 193.37688101233127\n",
      "33.57108708637115 39.13595886066957 38.73857312937581 193.37688101233127 180.93360936407194\n",
      "33.57108708637115 38.73857312937581 38.34512191027308 180.93360936407194 168.4276232215623\n",
      "33.57108708637115 38.34512191027308 37.955566247795126 168.4276232215623 155.85861336254462\n",
      "33.57108708637115 37.955566247795126 37.56986757207438 155.85861336254462 143.2262695251333\n",
      "33.57108708637115 37.56986757207438 37.18798769512315 143.2262695251333 130.53027901658393\n",
      "33.57108708637115 37.18798769512315 36.80988880705262 130.53027901658393 117.77032842200322\n",
      "33.57108708637115 36.80988880705262 36.43553347232933 117.77032842200322 104.94610217695067\n",
      "33.57108708637115 36.43553347232933 36.06488462606865 104.94610217695067 92.05728328079667\n",
      "33.57108708637115 36.06488462606865 35.697905570364995 92.05728328079667 79.10355325223958\n",
      "33.57108708637115 35.697905570364995 35.33455997065841 79.10355325223958 66.08459196995953\n",
      "33.57108708637115 35.33455997065841 34.97481185213704 66.08459196995953 53.000077811771774\n",
      "33.57108708637115 34.97481185213704 34.618625596175285 53.000077811771774 39.849687234390935\n",
      "33.57108708637115 34.618625596175285 34.26596593680721 39.849687234390935 26.633095435143943\n",
      "33.57108708637115 34.26596593680721 33.91679795723486 26.633095435143943 13.349975766793403\n",
      "33.57108708637115 33.91679795723486 33.57108708637115 13.349975766793403 0.0\n"
     ]
    },
    {
     "name": "stderr",
     "output_type": "stream",
     "text": [
      "\r",
      " 15%|█▍        | 30/205 [2:47:44<23:25:38, 481.94s/it]"
     ]
    },
    {
     "name": "stdout",
     "output_type": "stream",
     "text": [
      "{'z': 33.22879909541698, 'T_s': 89.85465, 'T_b': -1.9733243, 'T_k': 74.49131, 'x_e': 0.0013203615, 'E_phot': Array(8.79486, dtype=float32), 'dE_inj_per_B': Array(0.1344189, dtype=float32), 'f_ion': Array(0.04124876, dtype=float32), 'f_exc': Array(0.03221651, dtype=float32), 'f_heat': Array(0.02447127, dtype=float32)}\n",
      "\n",
      "Starting step:  30\n",
      "Currently at:  33.22879909541698\n",
      "Advancing to:  32.88990009447226\n",
      "33.22879909541698 41.6051290942935 41.18329613296386 280.1537856871839 268.08039537971524\n",
      "33.22879909541698 41.18329613296386 40.765639735607785 268.08039537971524 255.94611338870095\n",
      "33.22879909541698 40.765639735607785 40.35211855010672 255.94611338870095 243.7506391780623\n",
      "33.22879909541698 40.35211855010672 39.94269163376902 243.7506391780623 231.49367169422626\n",
      "33.22879909541698 39.94269163376902 39.53731844927626 231.49367169422626 219.17490740391466\n",
      "33.22879909541698 39.53731844927626 39.13595886066957 219.17490740391466 206.79404284603638\n",
      "33.22879909541698 39.13595886066957 38.73857312937581 206.79404284603638 194.35077078608694\n",
      "33.22879909541698 38.73857312937581 38.34512191027308 194.35077078608694 181.8447850769103\n",
      "33.22879909541698 38.34512191027308 37.955566247795126 181.8447850769103 169.27577530923207\n",
      "33.22879909541698 37.955566247795126 37.56986757207438 169.27577530923207 156.64343115438768\n",
      "33.22879909541698 37.56986757207438 37.18798769512315 156.64343115438768 143.94744073280663\n",
      "33.22879909541698 37.18798769512315 36.80988880705262 143.94744073280663 131.18749008458508\n",
      "33.22879909541698 36.80988880705262 36.43553347232933 131.18749008458508 118.36326361212085\n",
      "33.22879909541698 36.43553347232933 36.06488462606865 118.36326361212085 105.47444490510527\n",
      "33.22879909541698 36.06488462606865 35.697905570364995 105.47444490510527 92.52071496523301\n",
      "33.22879909541698 35.697905570364995 35.33455997065841 92.52071496523301 79.50175375496154\n",
      "33.22879909541698 35.33455997065841 34.97481185213704 79.50175375496154 66.41723959028812\n",
      "33.22879909541698 34.97481185213704 34.618625596175285 66.41723959028812 53.266848997572225\n",
      "33.22879909541698 34.618625596175285 34.26596593680721 53.266848997572225 40.05025716508466\n",
      "33.22879909541698 34.26596593680721 33.91679795723486 40.05025716508466 26.767137517588104\n",
      "33.22879909541698 33.91679795723486 33.57108708637115 26.767137517588104 13.417161762925893\n",
      "33.22879909541698 33.57108708637115 33.22879909541698 13.417161762925893 0.0\n"
     ]
    },
    {
     "name": "stderr",
     "output_type": "stream",
     "text": [
      "\r",
      " 15%|█▌        | 31/205 [2:56:08<23:36:24, 488.41s/it]"
     ]
    },
    {
     "name": "stdout",
     "output_type": "stream",
     "text": [
      "{'z': 32.88990009447226, 'T_s': 89.283165, 'T_b': -1.7778238, 'T_k': 75.01592, 'x_e': 0.0013465651, 'E_phot': Array(8.847862, dtype=float32), 'dE_inj_per_B': Array(0.14250897, dtype=float32), 'f_ion': Array(0.04128363, dtype=float32), 'f_exc': Array(0.03222656, dtype=float32), 'f_heat': Array(0.02455305, dtype=float32)}\n",
      "\n",
      "Starting step:  31\n",
      "Currently at:  32.88990009447226\n",
      "Advancing to:  32.55435652918045\n",
      "32.88990009447226 41.18329613296386 40.765639735607785 281.56507444219784 269.43079258312446\n",
      "32.88990009447226 40.765639735607785 40.35211855010672 269.43079258312446 257.235318298203\n",
      "32.88990009447226 40.35211855010672 39.94269163376902 257.235318298203 244.97835050301336\n",
      "32.88990009447226 39.94269163376902 39.53731844927626 244.97835050301336 232.65958661931163\n",
      "32.88990009447226 39.53731844927626 39.13595886066957 232.65958661931163 220.27872190657365\n",
      "32.88990009447226 39.13595886066957 38.73857312937581 220.27872190657365 207.83545042137555\n",
      "32.88990009447226 38.73857312937581 38.34512191027308 207.83545042137555 195.3294640367073\n",
      "32.88990009447226 38.34512191027308 37.955566247795126 195.3294640367073 182.7604542580754\n",
      "32.88990009447226 37.955566247795126 37.56986757207438 182.7604542580754 170.1281102618354\n",
      "32.88990009447226 37.56986757207438 37.18798769512315 170.1281102618354 157.43212011962422\n",
      "32.88990009447226 37.18798769512315 36.80988880705262 157.43212011962422 144.67216928820116\n",
      "32.88990009447226 36.80988880705262 36.43553347232933 144.67216928820116 131.84794291311422\n",
      "32.88990009447226 36.43553347232933 36.06488462606865 131.84794291311422 118.95912438764002\n",
      "32.88990009447226 36.06488462606865 35.697905570364995 118.95912438764002 106.00539405513176\n",
      "32.88990009447226 35.697905570364995 35.33455997065841 106.00539405513176 92.9864331200118\n",
      "32.88990009447226 35.33455997065841 34.97481185213704 92.9864331200118 79.90191874216643\n",
      "32.88990009447226 34.97481185213704 34.618625596175285 79.90191874216643 66.75152835333516\n",
      "32.88990009447226 34.618625596175285 34.26596593680721 66.75152835333516 53.534936345581634\n",
      "32.88990009447226 34.26596593680721 33.91679795723486 53.534936345581634 40.251816743012704\n",
      "32.88990009447226 33.91679795723486 33.57108708637115 40.251816743012704 26.901840992124182\n",
      "32.88990009447226 33.57108708637115 33.22879909541698 26.901840992124182 13.484679228622603\n",
      "32.88990009447226 33.22879909541698 32.88990009447226 13.484679228622603 0.0\n"
     ]
    },
    {
     "name": "stderr",
     "output_type": "stream",
     "text": [
      "\r",
      " 16%|█▌        | 32/205 [3:04:10<23:22:40, 486.48s/it]"
     ]
    },
    {
     "name": "stdout",
     "output_type": "stream",
     "text": [
      "{'z': 32.55435652918045, 'T_s': 88.69738, 'T_b': -1.5952781, 'T_k': 75.504585, 'x_e': 0.0013722158, 'E_phot': Array(8.909046, dtype=float32), 'dE_inj_per_B': Array(0.15099162, dtype=float32), 'f_ion': Array(0.04131939, dtype=float32), 'f_exc': Array(0.03223682, dtype=float32), 'f_heat': Array(0.02463441, dtype=float32)}\n",
      "\n",
      "Starting step:  32\n",
      "Currently at:  32.55435652918045\n",
      "Advancing to:  32.222135177406386\n",
      "32.55435652918045 40.35211855010672 39.94269163376902 270.787848098709 258.5308805205503\n",
      "32.55435652918045 39.94269163376902 39.53731844927626 258.5308805205503 246.21211689539743\n",
      "32.55435652918045 39.53731844927626 39.13595886066957 246.21211689539743 233.83125187620792\n",
      "32.55435652918045 39.13595886066957 38.73857312937581 233.83125187620792 221.38798058319674\n",
      "32.55435652918045 38.73857312937581 38.34512191027308 221.38798058319674 208.88199406753037\n",
      "32.55435652918045 38.34512191027308 37.955566247795126 208.88199406753037 196.31298421588713\n",
      "32.55435652918045 37.955566247795126 37.56986757207438 196.31298421588713 183.68064028357907\n",
      "32.55435652918045 37.56986757207438 37.18798769512315 183.68064028357907 170.9846499438259\n",
      "32.55435652918045 37.18798769512315 36.80988880705262 170.9846499438259 158.22469934939983\n",
      "32.55435652918045 36.80988880705262 36.43553347232933 158.22469934939983 145.40047295921187\n",
      "32.55435652918045 36.43553347232933 36.06488462606865 145.40047295921187 132.51165423895364\n",
      "32.55435652918045 36.06488462606865 35.697905570364995 132.51165423895364 119.55792400006308\n",
      "32.55435652918045 35.697905570364995 35.33455997065841 119.55792400006308 106.53896288241765\n",
      "32.55435652918045 35.33455997065841 34.97481185213704 106.53896288241765 93.45444877380538\n",
      "32.55435652918045 34.97481185213704 34.618625596175285 93.45444877380538 80.30405826650409\n",
      "32.55435652918045 34.618625596175285 34.26596593680721 80.30405826650409 67.08746621780736\n",
      "32.55435652918045 34.26596593680721 33.91679795723486 67.08746621780736 53.80434672121596\n",
      "32.55435652918045 33.91679795723486 33.57108708637115 53.80434672121596 40.45437093139338\n",
      "32.55435652918045 33.57108708637115 33.22879909541698 40.45437093139338 27.037209165095387\n",
      "32.55435652918045 33.22879909541698 32.88990009447226 27.037209165095387 13.552529889619793\n",
      "32.55435652918045 32.88990009447226 32.55435652918045 13.552529889619793 0.0\n"
     ]
    },
    {
     "name": "stderr",
     "output_type": "stream",
     "text": [
      "\r",
      " 16%|█▌        | 33/205 [3:11:21<22:27:00, 469.89s/it]"
     ]
    },
    {
     "name": "stdout",
     "output_type": "stream",
     "text": [
      "{'z': 32.222135177406386, 'T_s': 88.09786, 'T_b': -1.4248705, 'T_k': 75.95833, 'x_e': 0.0013973311, 'E_phot': Array(8.978116, dtype=float32), 'dE_inj_per_B': Array(0.15987559, dtype=float32), 'f_ion': Array(0.04135535, dtype=float32), 'f_exc': Array(0.0322468, dtype=float32), 'f_heat': Array(0.02471492, dtype=float32)}\n",
      "\n",
      "Starting step:  33\n",
      "Currently at:  32.222135177406386\n",
      "Advancing to:  31.89320314594692\n",
      "32.222135177406386 39.94269163376902 39.53731844927626 272.1515961777319 259.83283244071424\n",
      "32.222135177406386 39.53731844927626 39.13595886066957 259.83283244071424 247.45196739576696\n",
      "32.222135177406386 39.13595886066957 38.73857312937581 247.45196739576696 235.0086955093219\n",
      "32.222135177406386 38.73857312937581 38.34512191027308 235.0086955093219 222.50270965289863\n",
      "32.222135177406386 38.34512191027308 37.955566247795126 222.50270965289863 209.9336995169286\n",
      "32.222135177406386 37.955566247795126 37.56986757207438 209.9336995169286 197.30135599471527\n",
      "32.222135177406386 37.56986757207438 37.18798769512315 197.30135599471527 184.60536549697252\n",
      "32.222135177406386 37.18798769512315 36.80988880705262 184.60536549697252 171.84541486968925\n",
      "32.222135177406386 36.80988880705262 36.43553347232933 171.84541486968925 159.02118820397317\n",
      "32.222135177406386 36.43553347232933 36.06488462606865 159.02118820397317 146.1323695535293\n",
      "32.222135177406386 36.06488462606865 35.697905570364995 146.1323695535293 133.17863953987134\n",
      "32.222135177406386 35.697905570364995 35.33455997065841 133.17863953987134 120.15967811258854\n",
      "32.222135177406386 35.33455997065841 34.97481185213704 120.15967811258854 107.07516414432217\n",
      "32.222135177406386 34.97481185213704 34.618625596175285 107.07516414432217 93.92477354961852\n",
      "32.222135177406386 34.618625596175285 34.26596593680721 93.92477354961852 80.70818183654416\n",
      "32.222135177406386 34.26596593680721 33.91679795723486 80.70818183654416 67.42506204929488\n",
      "32.222135177406386 33.91679795723486 33.57108708637115 67.42506204929488 54.075086331711844\n",
      "32.222135177406386 33.57108708637115 33.22879909541698 54.075086331711844 40.65792461638606\n",
      "32.222135177406386 33.22879909541698 32.88990009447226 40.65792461638606 27.173245319826272\n",
      "32.222135177406386 32.88990009447226 32.55435652918045 27.173245319826272 13.62071540214708\n",
      "32.222135177406386 32.55435652918045 32.222135177406386 13.62071540214708 0.0\n"
     ]
    },
    {
     "name": "stderr",
     "output_type": "stream",
     "text": [
      "\r",
      " 17%|█▋        | 34/205 [3:17:25<20:48:51, 438.20s/it]"
     ]
    },
    {
     "name": "stdout",
     "output_type": "stream",
     "text": [
      "{'z': 31.89320314594692, 'T_s': 87.48659, 'T_b': -1.2658539, 'T_k': 76.37796, 'x_e': 0.0014219184, 'E_phot': Array(9.055668, dtype=float32), 'dE_inj_per_B': Array(0.16916914, dtype=float32), 'f_ion': Array(0.04139239, dtype=float32), 'f_exc': Array(0.03225726, dtype=float32), 'f_heat': Array(0.02479518, dtype=float32)}\n",
      "\n",
      "Starting step:  34\n",
      "Currently at:  31.89320314594692\n",
      "Advancing to:  31.56752786727418\n",
      "31.89320314594692 39.53731844927626 39.13595886066957 273.52206892451846 261.14120466475964\n",
      "31.89320314594692 39.13595886066957 38.73857312937581 261.14120466475964 248.69793309241385\n",
      "31.89320314594692 38.73857312937581 38.34512191027308 248.69793309241385 236.1919470506542\n",
      "31.89320314594692 38.34512191027308 37.955566247795126 236.1919470506542 223.62293738384727\n",
      "31.89320314594692 37.955566247795126 37.56986757207438 223.62293738384727 210.9905931403451\n",
      "31.89320314594692 37.56986757207438 37.18798769512315 210.9905931403451 198.29460285637109\n",
      "31.89320314594692 37.18798769512315 36.80988880705262 198.29460285637109 185.53465214510706\n",
      "31.89320314594692 36.80988880705262 36.43553347232933 185.53465214510706 172.71042589379252\n",
      "31.89320314594692 36.43553347232933 36.06488462606865 172.71042589379252 159.82160706495443\n",
      "31.89320314594692 36.06488462606865 35.697905570364995 159.82160706495443 146.86787703087964\n",
      "31.89320314594692 35.697905570364995 35.33455997065841 146.86787703087964 133.84891559052937\n",
      "31.89320314594692 35.33455997065841 34.97481185213704 133.84891559052937 120.76440124417418\n",
      "31.89320314594692 34.97481185213704 34.618625596175285 120.76440124417418 107.61401105250084\n",
      "31.89320314594692 34.618625596175285 34.26596593680721 107.61401105250084 94.39741920936441\n",
      "31.89320314594692 34.26596593680721 33.91679795723486 94.39741920936441 81.11429949490166\n",
      "31.89320314594692 33.91679795723486 33.57108708637115 81.11429949490166 67.76432371667697\n",
      "31.89320314594692 33.57108708637115 33.22879909541698 67.76432371667697 54.347161962127736\n",
      "31.89320314594692 33.22879909541698 32.88990009447226 54.347161962127736 40.86248275108626\n",
      "31.89320314594692 32.88990009447226 32.55435652918045 40.86248275108626 27.309952820894292\n",
      "31.89320314594692 32.55435652918045 32.222135177406386 27.309952820894292 13.689237428756183\n",
      "31.89320314594692 32.222135177406386 31.89320314594692 13.689237428756183 0.0\n"
     ]
    },
    {
     "name": "stderr",
     "output_type": "stream",
     "text": [
      "\r",
      " 17%|█▋        | 35/205 [3:23:16<19:26:57, 411.87s/it]"
     ]
    },
    {
     "name": "stdout",
     "output_type": "stream",
     "text": [
      "{'z': 31.56752786727418, 'T_s': 86.865204, 'T_b': -1.1175263, 'T_k': 76.76478, 'x_e': 0.001445991, 'E_phot': Array(9.142092, dtype=float32), 'dE_inj_per_B': Array(0.17888023, dtype=float32), 'f_ion': Array(0.04143059, dtype=float32), 'f_exc': Array(0.03226829, dtype=float32), 'f_heat': Array(0.02487524, dtype=float32)}\n",
      "\n",
      "Starting step:  35\n",
      "Currently at:  31.56752786727418\n",
      "Advancing to:  31.24507709631107\n",
      "31.56752786727418 39.13595886066957 38.73857312937581 274.8993023340709 262.45603059974724\n",
      "31.56752786727418 38.73857312937581 38.34512191027308 262.45603059974724 249.9500445006883\n",
      "31.56752786727418 38.34512191027308 37.955566247795126 249.9500445006883 237.38103466320027\n",
      "31.56752786727418 37.955566247795126 37.56986757207438 237.38103466320027 224.74869095543463\n",
      "31.56752786727418 37.56986757207438 37.18798769512315 224.74869095543463 212.05270039757178\n",
      "31.56752786727418 37.18798769512315 36.80988880705262 212.05270039757178 199.29274974280133\n",
      "31.56752786727418 36.80988880705262 36.43553347232933 199.29274974280133 186.46852329663378\n",
      "31.56752786727418 36.43553347232933 36.06488462606865 186.46852329663378 173.5797047853464\n",
      "31.56752786727418 36.06488462606865 35.697905570364995 173.5797047853464 160.6259746306055\n",
      "31.56752786727418 35.697905570364995 35.33455997065841 160.6259746306055 147.6070133490178\n",
      "31.56752786727418 35.33455997065841 34.97481185213704 147.6070133490178 134.52249915018928\n",
      "31.56752786727418 34.97481185213704 34.618625596175285 134.52249915018928 121.37210861577026\n",
      "31.56752786727418 34.618625596175285 34.26596593680721 121.37210861577026 108.15551687666064\n",
      "31.56752786727418 34.26596593680721 33.91679795723486 108.15551687666064 94.87239703337698\n",
      "31.56752786727418 33.91679795723486 33.57108708637115 94.87239703337698 81.52242129221636\n",
      "31.56752786727418 33.57108708637115 33.22879909541698 81.52242129221636 68.10525957261538\n",
      "31.56752786727418 33.22879909541698 32.88990009447226 68.10525957261538 54.62058037771843\n",
      "31.56752786727418 32.88990009447226 32.55435652918045 54.62058037771843 41.06805039543294\n",
      "31.56752786727418 32.55435652918045 32.222135177406386 41.06805039543294 27.44733503745754\n",
      "31.56752786727418 32.222135177406386 31.89320314594692 27.44733503745754 13.758097619109531\n",
      "31.56752786727418 31.89320314594692 31.56752786727418 13.758097619109531 0.0\n"
     ]
    },
    {
     "name": "stderr",
     "output_type": "stream",
     "text": [
      "\r",
      " 18%|█▊        | 36/205 [3:29:12<18:32:53, 395.11s/it]"
     ]
    },
    {
     "name": "stdout",
     "output_type": "stream",
     "text": [
      "{'z': 31.24507709631107, 'T_s': 86.2338, 'T_b': -0.9792271, 'T_k': 77.11964, 'x_e': 0.0014695554, 'E_phot': Array(9.237715, dtype=float32), 'dE_inj_per_B': Array(0.1890167, dtype=float32), 'f_ion': Array(0.04146999, dtype=float32), 'f_exc': Array(0.03227989, dtype=float32), 'f_heat': Array(0.02495517, dtype=float32)}\n",
      "\n",
      "Starting step:  36\n",
      "Currently at:  31.24507709631107\n",
      "Advancing to:  30.925818907238686\n",
      "31.24507709631107 38.73857312937581 38.34512191027308 276.28332863037025 263.77734192435764\n",
      "31.24507709631107 38.34512191027308 37.955566247795126 263.77734192435764 251.2083324437681\n",
      "31.24507709631107 37.955566247795126 37.56986757207438 251.2083324437681 238.57598873716253\n",
      "31.24507709631107 37.56986757207438 37.18798769512315 238.57598873716253 225.87999833957792\n",
      "31.24507709631107 37.18798769512315 36.80988880705262 225.87999833957792 213.12004750807384\n",
      "31.24507709631107 36.80988880705262 36.43553347232933 213.12004750807384 200.29582099795877\n",
      "31.24507709631107 36.43553347232933 36.06488462606865 200.29582099795877 187.40700266745168\n",
      "31.24507709631107 36.06488462606865 35.697905570364995 187.40700266745168 174.45327241957196\n",
      "31.24507709631107 35.697905570364995 35.33455997065841 174.45327241957196 161.43431126627098\n",
      "31.24507709631107 35.33455997065841 34.97481185213704 161.43431126627098 148.34979700470075\n",
      "31.24507709631107 34.97481185213704 34.618625596175285 148.34979700470075 135.19940627573118\n",
      "31.24507709631107 34.618625596175285 34.26596593680721 135.19940627573118 121.98281453675065\n",
      "31.24507709631107 34.26596593680721 33.91679795723486 121.98281453675065 108.69969489362713\n",
      "31.24507709631107 33.91679795723486 33.57108708637115 108.69969489362713 95.3497191123942\n",
      "31.24507709631107 33.57108708637115 33.22879909541698 95.3497191123942 81.93255734495627\n",
      "31.24507709631107 33.22879909541698 32.88990009447226 81.93255734495627 68.44787804977717\n",
      "31.24507709631107 32.88990009447226 32.55435652918045 68.44787804977717 54.89534815868\n",
      "31.24507709631107 32.55435652918045 32.222135177406386 54.89534815868 41.27463274189083\n",
      "31.24507709631107 32.222135177406386 31.89320314594692 41.27463274189083 27.585395366031275\n",
      "31.24507709631107 31.89320314594692 31.56752786727418 27.585395366031275 13.827297698578706\n",
      "31.24507709631107 31.56752786727418 31.24507709631107 13.827297698578706 0.0\n"
     ]
    },
    {
     "name": "stderr",
     "output_type": "stream",
     "text": [
      "\r",
      " 18%|█▊        | 37/205 [3:37:09<19:35:11, 419.71s/it]"
     ]
    },
    {
     "name": "stdout",
     "output_type": "stream",
     "text": [
      "{'z': 30.925818907238686, 'T_s': 85.59341, 'T_b': -0.8503312, 'T_k': 77.443436, 'x_e': 0.0014926281, 'E_phot': Array(9.342933, dtype=float32), 'dE_inj_per_B': Array(0.19958597, dtype=float32), 'f_ion': Array(0.04151068, dtype=float32), 'f_exc': Array(0.0322922, dtype=float32), 'f_heat': Array(0.025035, dtype=float32)}\n",
      "\n",
      "Starting step:  37\n",
      "Currently at:  30.925818907238686\n",
      "Advancing to:  30.60972169033533\n",
      "30.925818907238686 38.34512191027308 37.955566247795126 277.67418141815375 265.1051717822317\n",
      "30.925818907238686 37.955566247795126 37.56986757207438 265.1051717822317 252.47282795694022\n",
      "30.925818907238686 37.56986757207438 37.18798769512315 252.47282795694022 239.77683748320837\n",
      "30.925818907238686 37.18798769512315 36.80988880705262 239.77683748320837 227.01688665108267\n",
      "30.925818907238686 36.80988880705262 36.43553347232933 227.01688665108267 214.19266055300994\n",
      "30.925818907238686 36.43553347232933 36.06488462606865 214.19266055300994 201.30384174657\n",
      "30.925818907238686 36.06488462606865 35.697905570364995 201.30384174657 188.3501117566253\n",
      "30.925818907238686 35.697905570364995 35.33455997065841 188.3501117566253 175.33115051660513\n",
      "30.925818907238686 35.33455997065841 34.97481185213704 175.33115051660513 162.24663613403874\n",
      "30.925818907238686 34.97481185213704 34.618625596175285 162.24663613403874 149.09624554956955\n",
      "30.925818907238686 34.618625596175285 34.26596593680721 149.09624554956955 135.8796539530984\n",
      "30.925818907238686 34.26596593680721 33.91679795723486 135.8796539530984 122.59653426776877\n",
      "30.925818907238686 33.91679795723486 33.57108708637115 122.59653426776877 109.24655850596757\n",
      "30.925818907238686 33.57108708637115 33.22879909541698 109.24655850596757 95.8293965662774\n",
      "30.925818907238686 33.22879909541698 32.88990009447226 95.8293965662774 82.34471742185801\n",
      "30.925818907238686 32.88990009447226 32.55435652918045 82.34471742185801 68.792187627976\n",
      "30.925818907238686 32.55435652918045 32.222135177406386 68.792187627976 55.171472174096436\n",
      "30.925818907238686 32.222135177406386 31.89320314594692 55.171472174096436 41.482234730361796\n",
      "30.925818907238686 31.89320314594692 31.56752786727418 41.482234730361796 27.72413704573577\n",
      "30.925818907238686 31.56752786727418 31.24507709631107 27.72413704573577 13.896839343412498\n",
      "30.925818907238686 31.24507709631107 30.925818907238686 13.896839343412498 0.0\n"
     ]
    },
    {
     "name": "stderr",
     "output_type": "stream",
     "text": [
      "\r",
      " 19%|█▊        | 38/205 [3:44:23<19:39:51, 423.90s/it]"
     ]
    },
    {
     "name": "stdout",
     "output_type": "stream",
     "text": [
      "{'z': 30.60972169033533, 'T_s': 84.94574, 'T_b': -0.7302733, 'T_k': 77.73715, 'x_e': 0.0015152198, 'E_phot': Array(9.458001, dtype=float32), 'dE_inj_per_B': Array(0.21059482, dtype=float32), 'f_ion': Array(0.04155282, dtype=float32), 'f_exc': Array(0.03230532, dtype=float32), 'f_heat': Array(0.02511491, dtype=float32)}\n",
      "\n",
      "Starting step:  38\n",
      "Currently at:  30.60972169033533\n",
      "Advancing to:  30.296754148846862\n",
      "30.60972169033533 37.955566247795126 37.56986757207438 279.0718965470405 266.4395523650919\n",
      "30.60972169033533 37.56986757207438 37.18798769512315 266.4395523650919 253.74356185171945\n",
      "30.60972169033533 37.18798769512315 36.80988880705262 253.74356185171945 240.98361087074983\n",
      "30.60972169033533 36.80988880705262 36.43553347232933 240.98361087074983 228.1593850704132\n",
      "30.60972169033533 36.43553347232933 36.06488462606865 228.1593850704132 215.27056591438816\n",
      "30.60972169033533 36.06488462606865 35.697905570364995 215.27056591438816 202.31683607745495\n",
      "30.60972169033533 35.697905570364995 35.33455997065841 202.31683607745495 189.2978747595068\n",
      "30.60972169033533 35.33455997065841 34.97481185213704 189.2978747595068 176.21336033156686\n",
      "30.60972169033533 34.97481185213704 34.618625596175285 176.21336033156686 163.06297005138902\n",
      "30.60972169033533 34.618625596175285 34.26596593680721 163.06297005138902 149.84637824457317\n",
      "30.60972169033533 34.26596593680721 33.91679795723486 149.84637824457317 136.56325866699595\n",
      "30.60972169033533 33.91679795723486 33.57108708637115 136.56325866699595 123.21328276715688\n",
      "30.60972169033533 33.57108708637115 33.22879909541698 123.21328276715688 109.79612097761857\n",
      "30.60972169033533 33.22879909541698 32.88990009447226 109.79612097761857 96.31144167226932\n",
      "30.60972169033533 32.88990009447226 32.55435652918045 96.31144167226932 82.75891183899009\n",
      "30.60972169033533 32.55435652918045 32.222135177406386 82.75891183899009 69.13819643893616\n",
      "30.60972169033533 32.222135177406386 31.89320314594692 69.13819643893616 55.4489590552408\n",
      "30.60972169033533 31.89320314594692 31.56752786727418 55.4489590552408 41.690861375163664\n",
      "30.60972169033533 31.56752786727418 31.24507709631107 41.690861375163664 27.863563707009167\n",
      "30.60972169033533 31.24507709631107 30.925818907238686 27.863563707009167 13.966724323034134\n",
      "30.60972169033533 30.925818907238686 30.60972169033533 13.966724323034134 0.0\n"
     ]
    },
    {
     "name": "stderr",
     "output_type": "stream",
     "text": [
      "\r",
      " 19%|█▉        | 39/205 [3:53:14<21:01:43, 456.05s/it]"
     ]
    },
    {
     "name": "stdout",
     "output_type": "stream",
     "text": [
      "{'z': 30.296754148846862, 'T_s': 84.29039, 'T_b': -0.618507, 'T_k': 78.00176, 'x_e': 0.001537338, 'E_phot': Array(9.583284, dtype=float32), 'dE_inj_per_B': Array(0.22205022, dtype=float32), 'f_ion': Array(0.04159647, dtype=float32), 'f_exc': Array(0.03231929, dtype=float32), 'f_heat': Array(0.02519489, dtype=float32)}\n",
      "\n",
      "Starting step:  39\n",
      "Currently at:  30.296754148846862\n",
      "Advancing to:  29.986885295887983\n",
      "30.296754148846862 37.56986757207438 37.18798769512315 280.4765068063756 267.7805161615329\n",
      "30.296754148846862 37.18798769512315 36.80988880705262 267.7805161615329 255.02056558883203\n",
      "30.296754148846862 36.80988880705262 36.43553347232933 255.02056558883203 242.19633922189374\n",
      "30.296754148846862 36.43553347232933 36.06488462606865 242.19633922189374 229.30751999295916\n",
      "30.296754148846862 36.06488462606865 35.697905570364995 229.30751999295916 216.3537901813716\n",
      "30.296754148846862 35.697905570364995 35.33455997065841 216.3537901813716 203.3348288670974\n",
      "30.296754148846862 35.33455997065841 34.97481185213704 203.3348288670974 190.25031484629298\n",
      "30.296754148846862 34.97481185213704 34.618625596175285 190.25031484629298 177.09992413926437\n",
      "30.296754148846862 34.618625596175285 34.26596593680721 177.09992413926437 163.88333259315243\n",
      "30.296754148846862 34.26596593680721 33.91679795723486 163.88333259315243 150.60021288655756\n",
      "30.296754148846862 33.91679795723486 33.57108708637115 150.60021288655756 137.25023718231688\n",
      "30.296754148846862 33.57108708637115 33.22879909541698 137.25023718231688 123.83307528462525\n",
      "30.296754148846862 33.22879909541698 32.88990009447226 123.83307528462525 110.3483959785953\n",
      "30.296754148846862 32.88990009447226 32.55435652918045 110.3483959785953 96.7958662238432\n",
      "30.296754148846862 32.55435652918045 32.222135177406386 96.7958662238432 83.17515065818888\n",
      "30.296754148846862 32.222135177406386 31.89320314594692 83.17515065818888 69.48591318745004\n",
      "30.296754148846862 31.89320314594692 31.56752786727418 69.48591318745004 55.727815717458164\n",
      "30.296754148846862 31.56752786727418 31.24507709631107 55.727815717458164 41.90051789221242\n",
      "30.296754148846862 31.24507709631107 30.925818907238686 41.90051789221242 28.00367856778434\n",
      "30.296754148846862 30.925818907238686 30.60972169033533 28.00367856778434 14.036954239074449\n",
      "30.296754148846862 30.60972169033533 30.296754148846862 14.036954239074449 0.0\n"
     ]
    },
    {
     "name": "stderr",
     "output_type": "stream",
     "text": [
      "\r",
      " 20%|█▉        | 40/205 [4:01:20<21:19:19, 465.21s/it]"
     ]
    },
    {
     "name": "stdout",
     "output_type": "stream",
     "text": [
      "{'z': 29.986885295887983, 'T_s': 83.629234, 'T_b': -0.51452494, 'T_k': 78.238106, 'x_e': 0.0015589956, 'E_phot': Array(9.719088, dtype=float32), 'dE_inj_per_B': Array(0.2339583, dtype=float32), 'f_ion': Array(0.04164164, dtype=float32), 'f_exc': Array(0.0323342, dtype=float32), 'f_heat': Array(0.02527504, dtype=float32)}\n",
      "\n",
      "Starting step:  40\n",
      "Currently at:  29.986885295887983\n",
      "Advancing to:  29.680084451374242\n",
      "29.986885295887983 37.18798769512315 36.80988880705262 281.8880468521128 269.1280961176686\n",
      "29.986885295887983 36.80988880705262 36.43553347232933 269.1280961176686 256.30386964523643\n",
      "29.986885295887983 36.43553347232933 36.06488462606865 256.30386964523643 243.4150509521168\n",
      "29.986885295887983 36.06488462606865 35.697905570364995 243.4150509521168 230.46132099105156\n",
      "29.986885295887983 35.697905570364995 35.33455997065841 230.46132099105156 217.44235968260594\n",
      "29.986885295887983 35.33455997065841 34.97481185213704 217.44235968260594 204.35784573579926\n",
      "29.986885295887983 34.97481185213704 34.618625596175285 204.35784573579926 191.20745518163923\n",
      "29.986885295887983 34.618625596175285 34.26596593680721 191.20745518163923 177.99086351918908\n",
      "29.986885295887983 34.26596593680721 33.91679795723486 177.99086351918908 164.70774353319675\n",
      "29.986885295887983 33.91679795723486 33.57108708637115 164.70774353319675 151.35776810058584\n",
      "29.986885295887983 33.57108708637115 33.22879909541698 151.35776810058584 137.94060617043448\n",
      "29.986885295887983 33.22879909541698 32.88990009447226 137.94060617043448 124.45592695218865\n",
      "29.986885295887983 32.88990009447226 32.55435652918045 124.45592695218865 110.90339700344497\n",
      "29.986885295887983 32.55435652918045 32.222135177406386 110.90339700344497 97.28268154415377\n",
      "29.986885295887983 32.222135177406386 31.89320314594692 97.28268154415377 83.59344416662744\n",
      "29.986885295887983 31.89320314594692 31.56752786727418 83.59344416662744 69.8353466017247\n",
      "29.986885295887983 31.56752786727418 31.24507709631107 69.8353466017247 56.00804879686732\n",
      "29.986885295887983 31.24507709631107 30.925818907238686 56.00804879686732 42.11120944633784\n",
      "29.986885295887983 30.925818907238686 30.60972169033533 42.11120944633784 28.144485100344458\n",
      "29.986885295887983 30.60972169033533 30.296754148846862 28.144485100344458 14.107530880191609\n",
      "29.986885295887983 30.296754148846862 29.986885295887983 14.107530880191609 0.0\n"
     ]
    },
    {
     "name": "stderr",
     "output_type": "stream",
     "text": [
      "\r",
      " 20%|██        | 41/205 [4:09:07<21:13:14, 465.82s/it]"
     ]
    },
    {
     "name": "stdout",
     "output_type": "stream",
     "text": [
      "{'z': 29.680084451374242, 'T_s': 82.96265, 'T_b': -0.4178572, 'T_k': 78.44712, 'x_e': 0.0015802035, 'E_phot': Array(9.866125, dtype=float32), 'dE_inj_per_B': Array(0.24632514, dtype=float32), 'f_ion': Array(0.04168842, dtype=float32), 'f_exc': Array(0.03235007, dtype=float32), 'f_heat': Array(0.02535544, dtype=float32)}\n",
      "\n",
      "Starting step:  41\n",
      "Currently at:  29.680084451374242\n",
      "Advancing to:  29.3763212389844\n",
      "29.680084451374242 36.43553347232933 36.06488462606865 270.48232606106535 257.5935069493235\n",
      "29.680084451374242 36.06488462606865 35.697905570364995 257.5935069493235 244.63977720048166\n",
      "29.680084451374242 35.697905570364995 35.33455997065841 244.63977720048166 231.62081601296535\n",
      "29.680084451374242 35.33455997065841 34.97481185213704 231.62081601296535 218.53630175215898\n",
      "29.680084451374242 34.97481185213704 34.618625596175285 218.53630175215898 205.38591101378228\n",
      "29.680084451374242 34.618625596175285 34.26596593680721 205.38591101378228 192.16931959829864\n",
      "29.680084451374242 34.26596593680721 33.91679795723486 192.16931959829864 178.88619970965547\n",
      "29.680084451374242 33.91679795723486 33.57108708637115 178.88619970965547 165.53622397330267\n",
      "29.680084451374242 33.57108708637115 33.22879909541698 165.53622397330267 152.11906211540904\n",
      "29.680084451374242 33.22879909541698 32.88990009447226 152.11906211540904 138.63438279361623\n",
      "29.680084451374242 32.88990009447226 32.55435652918045 138.63438279361623 125.08185311550024\n",
      "29.680084451374242 32.55435652918045 32.222135177406386 125.08185311550024 111.46113742174772\n",
      "29.680084451374242 32.222135177406386 31.89320314594692 111.46113742174772 97.77190011554005\n",
      "29.680084451374242 31.89320314594692 31.56752786727418 97.77190011554005 84.0138024089049\n",
      "29.680084451374242 31.56752786727418 31.24507709631107 84.0138024089049 70.18650481596805\n",
      "29.680084451374242 31.24507709631107 30.925818907238686 70.18650481596805 56.2896653830458\n",
      "29.680084451374242 30.925818907238686 30.60972169033533 56.2896653830458 42.32294108577129\n",
      "29.680084451374242 30.60972169033533 30.296754148846862 42.32294108577129 28.28598684976503\n",
      "29.680084451374242 30.296754148846862 29.986885295887983 28.28598684976503 14.178455951610477\n",
      "29.680084451374242 29.986885295887983 29.680084451374242 14.178455951610477 0.0\n"
     ]
    },
    {
     "name": "stderr",
     "output_type": "stream",
     "text": [
      "\r",
      " 20%|██        | 42/205 [4:15:18<19:47:30, 437.12s/it]"
     ]
    },
    {
     "name": "stdout",
     "output_type": "stream",
     "text": [
      "{'z': 29.3763212389844, 'T_s': 82.29161, 'T_b': -0.32805863, 'T_k': 78.629776, 'x_e': 0.0016009693, 'E_phot': Array(10.024073, dtype=float32), 'dE_inj_per_B': Array(0.2591562, dtype=float32), 'f_ion': Array(0.0417362, dtype=float32), 'f_exc': Array(0.03236649, dtype=float32), 'f_heat': Array(0.02543569, dtype=float32)}\n",
      "\n",
      "Starting step:  42\n",
      "Currently at:  29.3763212389844\n",
      "Advancing to:  29.07556558315287\n",
      "29.3763212389844 36.06488462606865 35.697905570364995 271.8432382511219 258.8895083182429\n",
      "29.3763212389844 35.697905570364995 35.33455997065841 258.8895083182429 245.8705469641659\n",
      "29.3763212389844 35.33455997065841 34.97481185213704 245.8705469641659 232.7860327024523\n",
      "29.3763212389844 34.97481185213704 34.618625596175285 232.7860327024523 219.63564265593405\n",
      "29.3763212389844 34.618625596175285 34.26596593680721 219.63564265593405 206.41905077546502\n",
      "29.3763212389844 34.26596593680721 33.91679795723486 206.41905077546502 193.1359307993062\n",
      "29.3763212389844 33.91679795723486 33.57108708637115 193.1359307993062 179.78595486657488\n",
      "29.3763212389844 33.57108708637115 33.22879909541698 179.78595486657488 166.3687930786118\n",
      "29.3763212389844 33.22879909541698 32.88990009447226 166.3687930786118 152.8841140560076\n",
      "29.3763212389844 32.88990009447226 32.55435652918045 152.8841140560076 139.3315841032847\n",
      "29.3763212389844 32.55435652918045 32.222135177406386 139.3315841032847 125.71086876925114\n",
      "29.3763212389844 32.222135177406386 31.89320314594692 125.71086876925114 112.02163127187198\n",
      "29.3763212389844 31.89320314594692 31.56752786727418 112.02163127187198 98.26353362155785\n",
      "29.3763212389844 31.56752786727418 31.24507709631107 98.26353362155785 84.4362359358882\n",
      "29.3763212389844 31.24507709631107 30.925818907238686 84.4362359358882 70.5393966268195\n",
      "29.3763212389844 30.925818907238686 30.60972169033533 70.5393966268195 56.572672342986834\n",
      "29.3763212389844 30.60972169033533 30.296754148846862 56.572672342986834 42.53571798209489\n",
      "29.3763212389844 30.296754148846862 29.986885295887983 42.53571798209489 28.42818719420442\n",
      "29.3763212389844 29.986885295887983 29.680084451374242 28.42818719420442 14.24973120533943\n",
      "29.3763212389844 29.680084451374242 29.3763212389844 14.24973120533943 0.0\n"
     ]
    },
    {
     "name": "stderr",
     "output_type": "stream",
     "text": [
      "\r",
      " 21%|██        | 43/205 [4:21:02<18:25:22, 409.40s/it]"
     ]
    },
    {
     "name": "stdout",
     "output_type": "stream",
     "text": [
      "{'z': 29.07556558315287, 'T_s': 81.61645, 'T_b': -0.24470334, 'T_k': 78.78692, 'x_e': 0.0016213048, 'E_phot': Array(10.193656, dtype=float32), 'dE_inj_per_B': Array(0.2724565, dtype=float32), 'f_ion': Array(0.0417859, dtype=float32), 'f_exc': Array(0.03238416, dtype=float32), 'f_heat': Array(0.02551638, dtype=float32)}\n",
      "\n",
      "Starting step:  43\n",
      "Currently at:  29.07556558315287\n",
      "Advancing to:  28.77778770609195\n",
      "29.07556558315287 35.697905570364995 35.33455997065841 273.21086633436204 260.191905236437\n",
      "29.07556558315287 35.33455997065841 34.97481185213704 260.191905236437 247.1073912513861\n",
      "29.07556558315287 34.97481185213704 34.618625596175285 247.1073912513861 233.9570005009681\n",
      "29.07556558315287 34.618625596175285 34.26596593680721 233.9570005009681 220.74040868009538\n",
      "29.07556558315287 34.26596593680721 33.91679795723486 220.74040868009538 207.4572892850324\n",
      "29.07556558315287 33.91679795723486 33.57108708637115 207.4572892850324 194.10731334632138\n",
      "29.07556558315287 33.57108708637115 33.22879909541698 194.10731334632138 180.69015164247176\n",
      "29.07556558315287 33.22879909541698 32.88990009447226 180.69015164247176 167.20547242200723\n",
      "29.07556558315287 32.88990009447226 32.55435652918045 167.20547242200723 153.65294239072486\n"
     ]
    }
   ],
   "source": [
    "records = []\n",
    "pbar = tqdm(total=len(z_edges)-1, position=0)\n",
    "\n",
    "# Initialize the perturbed field. This looping structure saves us from calculating it twice\n",
    "perturbed_field = p21c.perturb_field(redshift=z_edges[0], init_boxes=p21c_initial_conditions)\n",
    " \n",
    "for i_z in range(len(z_edges)-1):\n",
    "    dh_wrapper.set_empty_arrays\n",
    "    \n",
    "    print()\n",
    "    print('Starting step: ', i_z)\n",
    "    \n",
    "    current_z, next_z, dt = get_time_step(i_z)\n",
    "    nBavg = phys.n_B * (1+current_z)**3 # [Bavg / (physical cm)^3]\n",
    "    \n",
    "    print('Currently at: ', current_z)\n",
    "    print('Advancing to: ', next_z)\n",
    "    \n",
    "    # Derived quantities that I need\n",
    "    delta_plus_one_box = 1+ jnp.asarray(perturbed_field.density)\n",
    "    rho_DM_box = delta_plus_one_box * phys.rho_DM * (1+current_z)**3 # [eV/(physical cm)^3]\n",
    "    x_e_box = jnp.asarray(1 - ionized_box.xH_box) # check this\n",
    "    inj_per_Bavg_box = phys.inj_rate(rho_DM_box, dm_params) * dt * struct_boost(1+current_z) / nBavg # [inj/Bavg]\n",
    "    \n",
    "    # Kwargs for the transfer function interpolation. I had to put the hacky cap on `x_s`. Look into this\n",
    "    tf_kwargs = dict(rs = 1 + current_z, nBs_s = delta_plus_one_box.ravel(),\n",
    "                     x_s = np.minimum(.999, x_e_box).ravel(), \n",
    "                     out_of_bounds_action = 'clip')\n",
    "    \n",
    "    # Construct the empty arrays we deposit into\n",
    "    dh_wrapper.set_empty_arrays()   \n",
    "    \n",
    "    # Set the kwargs for use in interpolations\n",
    "    dh_wrapper.set_tf_kwargs(tf_kwargs)\n",
    "    \n",
    "\n",
    "    ############################\n",
    "    ###   X-Ray Deposition   ###\n",
    "    ############################\n",
    "        \n",
    "    # Now calculate photon emission and energy deposition from our X-ray annuli\n",
    "    for i_z_shell in range(xray_loop_start, i_z):\n",
    "\n",
    "        # Load the effective density and emission spectrum.\n",
    "        xray_out = xray_windowed_data.get_smoothed_shell(current_z, z_edges[i_z_shell], z_edges[i_z_shell+1])\n",
    "        effective_density, emission_spectrum, is_box_average = xray_out\n",
    "\n",
    "        # Convert the effective density from photons/(comoving cm)^3 to photon / baryon\n",
    "        xray_spec = Spectrum(dh_wrapper.photeng, emission_spectrum, rs=z_edges[i_z_shell], spec_type='N') # [photon / Bavg]\n",
    "\n",
    "        # Attenuate the spectrum\n",
    "        for j in range(i_z_shell+1, i_z):\n",
    "            xray_spec.N *= attenuation_arr[j]\n",
    "            xray_spec.redshift(z_edges[j])     \n",
    "\n",
    "        # If we are smoothing on the scale of the box then dump to the global bath spectrum.\n",
    "        # The deposition will happen later, and we will not revisit this shell.\n",
    "        if is_box_average:\n",
    "            phot_bath_spec.N += effective_density[0, 0, 0]*xray_spec.N\n",
    "            xray_loop_start = max(i_z_shell+1, xray_loop_start)\n",
    "\n",
    "        else:\n",
    "            dh_wrapper.photon_injection(xray_spec, bath = False, weight_box = effective_density)\n",
    "\n",
    "    # In the future, we will need the attenuations. Caculate and cache them here\n",
    "    dep_tf_at_point = dh_wrapper.phot_dep_tf.point_interp(rs=1+current_z, nBs=1, x=np.mean(x_e_box))\n",
    "    dep_toteng = np.sum(dep_tf_at_point[:, :4], axis=1)\n",
    "    attenuation_arr[i_z, :] = 1 - dep_toteng/dh_wrapper.photeng\n",
    "\n",
    "    # Homogeneous bath injection\n",
    "    dh_wrapper.photon_injection(phot_bath_spec)\n",
    "    \n",
    "    # Dark Matter injection\n",
    "    dh_wrapper.photon_injection(dm_params.inj_phot_spec, bath =False, weight_box=inj_per_Bavg_box, ots = True)\n",
    "    \n",
    "    prop_phot_N, emit_phot_N, dep_box =dh_wrapper.get_state_arrays()\n",
    "    \n",
    "    \n",
    "    #################################################################################\n",
    "    ###   Split the out spectrum between emitted photons and bath photons, then   ###\n",
    "    ###   prepare them for use in future steps.                                   ###\n",
    "    #################################################################################\n",
    "\n",
    "\n",
    "    # Split the x-ray spectrum into bath and emission\n",
    "    emit_bath_N, emit_xray_N = split_xray(emit_phot_N, ix_lo, ix_hi)\n",
    "    out_phot_N = prop_phot_N + emit_bath_N\n",
    "\n",
    "    # Cache the x-ray boxes for future use\n",
    "    xray_e_box = dep_box[..., 5] / np.dot(dh_wrapper.photeng, emit_xray_N) # energy / B_avg\n",
    "    xray_windowed_data.set_field(field=xray_e_box, spec=emit_xray_N, z=current_z)\n",
    "\n",
    "    # Prepare the bath spectrum for the next step    \n",
    "    out_phot_spec = Spectrum(dh_wrapper.photeng, out_phot_N, rs=1+current_z, spec_type='N')\n",
    "    out_phot_spec.redshift(1+next_z)\n",
    "    phot_bath_spec = out_phot_spec\n",
    "    \n",
    "    \n",
    "    ##############################################################\n",
    "    ###   Update the Input Boxes and Perform a 21cmFAST Step.  ###\n",
    "    ##############################################################\n",
    "    \n",
    "    # Calculate the perturbed field at the next time\n",
    "    perturbed_field = p21c.perturb_field(redshift=next_z, init_boxes=p21c_initial_conditions)    \n",
    "    input_heating, input_ionization, input_jalpha = gen_injection_boxes(next_z, p21c_initial_conditions)\n",
    "    \n",
    "     \n",
    "    # Populate input heating. [K/Bavg] / [B/Bavg] = [K/B]\n",
    "    input_heating.input_heating += np.array(2 / (3*phys.kB*(1+x_e_box)) * dep_box[...,3] / delta_plus_one_box)\n",
    "    \n",
    "    # Populate input ionization. [1/Bavg] / [B/Bavg] = [1/B]\n",
    "    input_ionization.input_ionization += np.array((dep_box[...,0] + dep_box[...,1]) / phys.rydberg / delta_plus_one_box)\n",
    "\n",
    "    #  Populate input lyman alpha\n",
    "    n_lya = dep_box[...,2] * nBavg / phys.lya_eng # [lya cm^-3]\n",
    "    dnu_lya = (phys.rydberg - phys.lya_eng) / (2*np.pi*phys.hbar) # [Hz^-1]\n",
    "    J_lya = n_lya * phys.c / (4*np.pi) / dnu_lya # [lya cm^-2 s^-1 sr^-1 Hz^-1]\n",
    "    input_jalpha.input_jalpha += np.array(J_lya)\n",
    "    \n",
    "    spin_temp, ionized_box, brightness_temp = p21_step(next_z, perturbed_field, spin_temp, ionized_box,\n",
    "                                                       input_heating, input_ionization, input_jalpha)\n",
    "    \n",
    "    \n",
    "    #######################################################\n",
    "    ###   Save some Global Quantities for Convenience   ###\n",
    "    #######################################################\n",
    "    \n",
    "    dE_inj_per_Bavg = dm_params.eng_per_inj * np.mean(inj_per_Bavg_box) # [eV per Bavg]\n",
    "    dE_inj_per_Bavg_unclustered = dE_inj_per_Bavg / struct_boost(1+current_z)\n",
    "\n",
    "     \n",
    "    record_inj = {'dE_inj_per_B' : dE_inj_per_Bavg,\n",
    "                  'f_ion'  : np.mean(dep_box[...,0] + dep_box[...,1]) / dE_inj_per_Bavg_unclustered,\n",
    "                  'f_exc'  : np.mean(dep_box[...,2]) / dE_inj_per_Bavg_unclustered,\n",
    "                  'f_heat' : np.mean(dep_box[...,3]) / dE_inj_per_Bavg_unclustered,\n",
    "    }\n",
    "    \n",
    "    record = {\n",
    "        'z'   : next_z,\n",
    "        'T_s' : np.mean(spin_temp.Ts_box), # [mK]\n",
    "        'T_b' : np.mean(brightness_temp.brightness_temp), # [K]\n",
    "        'T_k' : np.mean(spin_temp.Tk_box), # [K]\n",
    "        'x_e' : np.mean(1 - ionized_box.xH_box), # [1]\n",
    "        'E_phot' : phot_bath_spec.toteng(), # [eV/Bavg]\n",
    "    }\n",
    "    if run_mode in ['bath', 'xray']:\n",
    "        record.update(record_inj)\n",
    "    records.append(record)\n",
    "    print(record)\n",
    "    \n",
    "    if np.isnan(phot_bath_spec.toteng()):\n",
    "        break\n",
    "\n",
    "    pbar.update()\n",
    "    \n",
    "    arr_records = {k: np.array([r[k] for r in records]) for k in records[0].keys()}\n",
    "    np.save('./New_Debug', arr_records)"
   ]
  },
  {
   "cell_type": "code",
   "execution_count": null,
   "metadata": {},
   "outputs": [],
   "source": [
    "lightcone_quantities = ('brightness_temp','Ts_box','xH_box',\"dNrec_box\",'z_re_box',\n",
    "                        'Gamma12_box','J_21_LW_box',\"density\")\n"
   ]
  },
  {
   "cell_type": "code",
   "execution_count": null,
   "metadata": {},
   "outputs": [],
   "source": [
    "lightcone_fid = p21c.run_lightcone(\n",
    "        redshift = z_edges[-1],\n",
    "        init_box = p21c_initial_conditions,\n",
    "        flag_options = ionized_box.flag_options,\n",
    "        astro_params = ionized_box.astro_params,\n",
    "        lightcone_quantities=lightcone_quantities,\n",
    "        global_quantities=lightcone_quantities,\n",
    "        random_seed = 54321,\n",
    "        direc = '../DebugCache/',\n",
    ")\n"
   ]
  },
  {
   "cell_type": "code",
   "execution_count": null,
   "metadata": {},
   "outputs": [],
   "source": [
    "from py21cmfast import plotting"
   ]
  },
  {
   "cell_type": "code",
   "execution_count": null,
   "metadata": {
    "scrolled": false
   },
   "outputs": [],
   "source": [
    "fig, ax = plt.subplots(figsize = (14, 10))\n",
    "plotting.lightcone_sliceplot(lightcone_fid, fig =fig,ax = ax) "
   ]
  },
  {
   "cell_type": "code",
   "execution_count": null,
   "metadata": {},
   "outputs": [],
   "source": [
    "EoR_colour = mpl.colors.LinearSegmentedColormap.from_list('mycmap',\\\n",
    "             [(0, 'white'),(0.33, 'yellow'),(0.5, 'orange'),(0.68, 'red'),\\\n",
    "              (0.83333, 'black'),(0.9, 'blue'),(1, 'cyan')])\n",
    "plt.register_cmap(cmap=EoR_colour)\n",
    "\n",
    "cmaps = [EoR_colour,'Reds','magma','magma','magma','cubehelix','cubehelix','viridis']\n",
    "vmins = [-150, 1e1, 0, 0, 5, 0, 0, -1]\n",
    "vmaxs = [  30, 1e3, 1, 2, 9, 1,10,  1]\n",
    "\n",
    "\n",
    "\n",
    "\n",
    "fig, axs = plt.subplots(len(lightcone_quantities),1,\n",
    "            figsize=(getattr(lightcone_fid, lightcone_quantities[0]).shape[2]*0.01,\n",
    "                     getattr(lightcone_fid, lightcone_quantities[0]).shape[1]*0.01*len(lightcone_quantities)))\n",
    "for ii, lightcone_quantity in enumerate(lightcone_quantities):\n",
    "    axs[ii].imshow(getattr(lightcone_fid, lightcone_quantity)[1],\n",
    "                   vmin=vmins[ii], vmax=vmaxs[ii],cmap=cmaps[ii])\n",
    "    axs[ii].text(1, 0.05, lightcone_quantity,horizontalalignment='right',verticalalignment='bottom',\n",
    "            transform=axs[ii].transAxes,color = 'red',backgroundcolor='white',fontsize = 15)\n",
    "    axs[ii].xaxis.set_tick_params(labelsize=0)\n",
    "    axs[ii].yaxis.set_tick_params(labelsize=0)\n",
    "plt.tight_layout()\n",
    "fig.subplots_adjust(hspace = 0.01)"
   ]
  },
  {
   "cell_type": "code",
   "execution_count": null,
   "metadata": {},
   "outputs": [],
   "source": [
    "fig, axs = plt.subplots(len(lightcone_quantities),1,\n",
    "            figsize=(getattr(lightcone_fid, lightcone_quantities[0]).shape[2]*0.01,\n",
    "                     getattr(lightcone_fid, lightcone_quantities[0]).shape[1]*0.01*len(lightcone_quantities)))\n",
    "for ii, lightcone_quantity in enumerate(lightcone_quantities):\n",
    "    axs[ii].imshow(getattr(lightcone_fid, lightcone_quantity)[1],\n",
    "                   vmin=vmins[ii], vmax=vmaxs[ii],cmap=cmaps[ii])\n",
    "    axs[ii].text(1, 0.05, lightcone_quantity,horizontalalignment='right',verticalalignment='bottom',\n",
    "            transform=axs[ii].transAxes,color = 'red',backgroundcolor='white',fontsize = 15)\n",
    "    axs[ii].xaxis.set_tick_params(labelsize=0)\n",
    "    axs[ii].yaxis.set_tick_params(labelsize=0)\n",
    "plt.tight_layout()\n",
    "fig.subplots_adjust(hspace = 0.01)"
   ]
  },
  {
   "cell_type": "code",
   "execution_count": null,
   "metadata": {},
   "outputs": [],
   "source": []
  },
  {
   "cell_type": "code",
   "execution_count": null,
   "metadata": {},
   "outputs": [],
   "source": []
  },
  {
   "cell_type": "code",
   "execution_count": null,
   "metadata": {},
   "outputs": [],
   "source": []
  },
  {
   "cell_type": "code",
   "execution_count": null,
   "metadata": {},
   "outputs": [],
   "source": [
    "brightness_temp_z40 = lightcone.get_cached_data(redshift=40., kind='brightness_temp', load_data=True)\n"
   ]
  },
  {
   "cell_type": "code",
   "execution_count": null,
   "metadata": {},
   "outputs": [],
   "source": [
    "lightcone.gather(\n",
    "    fname=fname,\n",
    "    kinds=(\"brightness_temp\", \"init\"),\n",
    "    direc='_cache',\n",
    ");"
   ]
  },
  {
   "cell_type": "code",
   "execution_count": null,
   "metadata": {},
   "outputs": [],
   "source": [
    "fname = lightcone.save(fname='lightcone.h5', direc=p21c.config['direc'])\n",
    "\n",
    "lightcone.gather(\n",
    "    fname=fname,\n",
    "    kinds=(\"brightness_temp\", \"init\"),\n",
    "    direc=p21c.config['direc'],\n",
    ");"
   ]
  },
  {
   "cell_type": "code",
   "execution_count": null,
   "metadata": {},
   "outputs": [],
   "source": []
  },
  {
   "cell_type": "code",
   "execution_count": null,
   "metadata": {},
   "outputs": [],
   "source": [
    "p21c.run_coeval()"
   ]
  },
  {
   "cell_type": "code",
   "execution_count": null,
   "metadata": {},
   "outputs": [],
   "source": []
  },
  {
   "cell_type": "code",
   "execution_count": null,
   "metadata": {},
   "outputs": [],
   "source": []
  },
  {
   "cell_type": "code",
   "execution_count": null,
   "metadata": {
    "scrolled": true
   },
   "outputs": [],
   "source": [
    "lightcone = p21c.run_lightcone(redshift = ionized_box.redshift,\n",
    "                               user_params = ionized_box.user_params,\n",
    "                               cosmo_params = ionized_box.cosmo_params,\n",
    "                               astro_params = ionized_box.astro_params,\n",
    "                               flag_options=ionized_box.flag_options, )"
   ]
  },
  {
   "cell_type": "code",
   "execution_count": null,
   "metadata": {},
   "outputs": [],
   "source": []
  },
  {
   "cell_type": "code",
   "execution_count": null,
   "metadata": {},
   "outputs": [],
   "source": []
  },
  {
   "cell_type": "code",
   "execution_count": null,
   "metadata": {
    "scrolled": true
   },
   "outputs": [],
   "source": []
  },
  {
   "cell_type": "code",
   "execution_count": null,
   "metadata": {},
   "outputs": [],
   "source": [
    "def compute_power(\n",
    "   box,\n",
    "   length,\n",
    "   n_psbins,\n",
    "   log_bins=True,\n",
    "   ignore_kperp_zero=True,\n",
    "   ignore_kpar_zero=False,\n",
    "   ignore_k_zero=False,\n",
    "):\n",
    "    # Determine the weighting function required from ignoring k's.\n",
    "    k_weights = np.ones(box.shape, int)\n",
    "    n0 = k_weights.shape[0]\n",
    "    n1 = k_weights.shape[-1]\n",
    "\n",
    "    if ignore_kperp_zero:\n",
    "        k_weights[n0 // 2, n0 // 2, :] = 0\n",
    "    if ignore_kpar_zero:\n",
    "        k_weights[:, :, n1 // 2] = 0\n",
    "    if ignore_k_zero:\n",
    "        k_weights[n0 // 2, n0 // 2, n1 // 2] = 0\n",
    "\n",
    "    res = powerbox.tools.get_power(\n",
    "        box,\n",
    "        boxlength=length,\n",
    "        bins=n_psbins,\n",
    "        bin_ave=False,\n",
    "        get_variance=False,\n",
    "        log_bins=log_bins,\n",
    "        k_weights=k_weights,\n",
    "    )\n",
    "\n",
    "    res = list(res)\n",
    "    k = res[1]\n",
    "    if log_bins:\n",
    "        k = np.exp((np.log(k[1:]) + np.log(k[:-1])) / 2)\n",
    "    else:\n",
    "        k = (k[1:] + k[:-1]) / 2\n",
    "\n",
    "    res[1] = k\n",
    "    return res\n",
    "\n",
    "def powerspectra(brightness_temp, n_psbins=50, nchunks=20, min_k=0.1, max_k=1.0, logk=True):\n",
    "    data = []\n",
    "    chunk_indices = list(range(0,brightness_temp.n_slices,round(brightness_temp.n_slices / nchunks),))    \n",
    "    \n",
    "    if len(chunk_indices) > nchunks:\n",
    "        chunk_indices = chunk_indices[:-1]\n",
    "    chunk_indices.append(brightness_temp.n_slices)\n",
    "\n",
    "    for i in range(nchunks):\n",
    "        start = chunk_indices[i]\n",
    "        end = chunk_indices[i + 1]\n",
    "        chunklen = (end - start) * brightness_temp.cell_size\n",
    "\n",
    "        power, k = compute_power(\n",
    "            brightness_temp.brightness_temp[:, :, start:end],\n",
    "            (BOX_LEN, BOX_LEN, chunklen),\n",
    "            n_psbins,\n",
    "            log_bins=logk,\n",
    "        )\n",
    "        data.append({\"k\": k, \"delta\": power * k ** 3 / (2 * np.pi ** 2)})\n",
    "    return data"
   ]
  },
  {
   "cell_type": "code",
   "execution_count": null,
   "metadata": {},
   "outputs": [],
   "source": [
    "k_fundamental = 2*np.pi/BOX_LEN\n",
    "k_max = k_fundamental * HII_DIM\n",
    "Nk=np.floor(HII_DIM/1).astype(int)"
   ]
  },
  {
   "cell_type": "code",
   "execution_count": null,
   "metadata": {},
   "outputs": [],
   "source": [
    "out = powerspectra(lightcone, min_k = k_fundamental, max_k = k_max)\n"
   ]
  },
  {
   "cell_type": "code",
   "execution_count": null,
   "metadata": {
    "scrolled": false
   },
   "outputs": [],
   "source": [
    "fig, axs = plt.subplots(ncols = 5, nrows = 4, figsize = (30, 16))\n",
    "\n",
    "for i, item in enumerate(out):\n",
    "    row_index, col_index = np.unravel_index(i, axs.shape)\n",
    "    \n",
    "    ax = axs[row_index, col_index]\n",
    "    ax.plot(item['k'], item['delta'], color = 'black')\n",
    "    ax.set_xscale('log')\n",
    "    ax.set_yscale('log')\n",
    "    ax.text(.6, .1, 'Redshift Chunk ' + str(i), transform=ax.transAxes, fontsize = 18)\n",
    "    \n",
    "for i in range(axs.shape[0]-1):\n",
    "    for j in range(axs.shape[1]):\n",
    "        axs[i, j].set_xticklabels([])\n",
    "\n",
    "for j in range(axs.shape[1]):\n",
    "    axs[-1, j].set_xlabel('k [Mpc$^{-1}$]', fontsize = 22)\n",
    "for i in range(axs.shape[0]):\n",
    "    axs[i, 0].set_ylabel('$k^3 P(k)$', fontsize = 22)\n",
    "    \n",
    "plt.tight_layout()\n",
    "plt.show()"
   ]
  },
  {
   "cell_type": "code",
   "execution_count": null,
   "metadata": {},
   "outputs": [],
   "source": []
  }
 ],
 "metadata": {
  "kernelspec": {
   "display_name": "DM21CM",
   "language": "python",
   "name": "dm21cm"
  },
  "language_info": {
   "codemirror_mode": {
    "name": "ipython",
    "version": 3
   },
   "file_extension": ".py",
   "mimetype": "text/x-python",
   "name": "python",
   "nbconvert_exporter": "python",
   "pygments_lexer": "ipython3",
   "version": "3.11.4"
  }
 },
 "nbformat": 4,
 "nbformat_minor": 4
}
