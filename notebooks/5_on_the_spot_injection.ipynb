{
 "cells": [
  {
   "cell_type": "code",
   "execution_count": 1,
   "id": "52e0af78-f6a3-4e65-84c2-7e5b9da13767",
   "metadata": {},
   "outputs": [],
   "source": [
    "%reload_ext autoreload\n",
    "%autoreload 2\n",
    "\n",
    "import os, sys\n",
    "sys.path.append('..')\n",
    "\n",
    "import numpy as np\n",
    "from tqdm import tqdm\n",
    "import time\n",
    "\n",
    "%matplotlib inline\n",
    "import matplotlib as mpl\n",
    "import matplotlib.pyplot as plt\n",
    "mpl.rc_file('../matplotlibrc')"
   ]
  },
  {
   "cell_type": "code",
   "execution_count": 2,
   "id": "46290c90-b455-403a-9a45-d56f8bbd9edb",
   "metadata": {},
   "outputs": [
    {
     "name": "stdout",
     "output_type": "stream",
     "text": [
      "Using 21cmFAST version 0.1.dev1578+g6f96f89.d20230224\n"
     ]
    },
    {
     "name": "stderr",
     "output_type": "stream",
     "text": [
      "/work/submit/yitians/anaconda3/envs/21cmfast/lib/python3.7/site-packages/py21cmfast/_cfg.py:59: UserWarning: Your configuration file is out of date. Updating...\n",
      "  \"Your configuration file is out of date. Updating...\"\n",
      "/work/submit/yitians/anaconda3/envs/21cmfast/lib/python3.7/site-packages/py21cmfast/_cfg.py:42: UserWarning: Your configuration file is out of date. Updating...\n",
      "  warnings.warn(\"Your configuration file is out of date. Updating...\")\n"
     ]
    }
   ],
   "source": [
    "# 21cmFAST\n",
    "import py21cmfast as p21c\n",
    "from py21cmfast import plotting, cache_tools\n",
    "print(f'Using 21cmFAST version {p21c.__version__}')\n",
    "\n",
    "import logging\n",
    "logger = logging.getLogger('21cmFAST')\n",
    "logger.setLevel(logging.INFO)"
   ]
  },
  {
   "cell_type": "code",
   "execution_count": 3,
   "id": "08e23e35-8ae8-4a23-811c-20ce04bd1341",
   "metadata": {},
   "outputs": [],
   "source": [
    "from dm21cm.injection import DMParams, get_input_boxs"
   ]
  },
  {
   "cell_type": "markdown",
   "id": "643c4b23-a3db-4ddd-afd4-121af55bdcd0",
   "metadata": {},
   "source": [
    "## 0. Global config"
   ]
  },
  {
   "cell_type": "code",
   "execution_count": 4,
   "id": "fc7f8f97-6ea8-42f3-b995-f49e9febadb6",
   "metadata": {},
   "outputs": [
    {
     "name": "stdout",
     "output_type": "stream",
     "text": [
      "CPU(s):                48\n",
      "On-line CPU(s) list:   0-47\n",
      "NUMA node0 CPU(s):     0,2,4,6,8,10,12,14,16,18,20,22,24,26,28,30,32,34,36,38,40,42,44,46\n",
      "NUMA node1 CPU(s):     1,3,5,7,9,11,13,15,17,19,21,23,25,27,29,31,33,35,37,39,41,43,45,47\n"
     ]
    }
   ],
   "source": [
    "! lscpu | grep \"CPU(s)\""
   ]
  },
  {
   "cell_type": "code",
   "execution_count": 5,
   "id": "0174ed4e-11a7-4808-89a9-0a4061ff6eac",
   "metadata": {},
   "outputs": [],
   "source": [
    "N_THREADS = 32"
   ]
  },
  {
   "cell_type": "markdown",
   "id": "57704a4e-4f84-40a1-9e99-955ece15e94a",
   "metadata": {},
   "source": [
    "## 1. Run"
   ]
  },
  {
   "cell_type": "code",
   "execution_count": 6,
   "id": "d89a9ff3-7fea-457b-a5f5-1f5a1907d98c",
   "metadata": {},
   "outputs": [],
   "source": [
    "def get_z_arr(z_start=None, z_end=20):\n",
    "    \n",
    "    if z_start is None:\n",
    "        z_start = p21c.global_params.Z_HEAT_MAX\n",
    "    z_arr = [z_end]\n",
    "    while np.max(z_arr) < z_start:\n",
    "        z_prev = (1 + np.max(z_arr)) * p21c.global_params.ZPRIME_STEP_FACTOR - 1\n",
    "        z_arr.append(z_prev)\n",
    "    return np.array(z_arr[::-1][1:])"
   ]
  },
  {
   "cell_type": "code",
   "execution_count": 7,
   "id": "a8f23f00-a863-45b8-bd2e-0ae3ed2006aa",
   "metadata": {},
   "outputs": [
    {
     "data": {
      "text/plain": [
       "['DH',\n",
       " 'emf_comp_base_large',\n",
       " 'emf_comp_ck',\n",
       " 'dh',\n",
       " 'baseline',\n",
       " 'emf_comp_dh',\n",
       " 'emf_comp_evfy',\n",
       " 'emf_comp_base']"
      ]
     },
     "execution_count": 7,
     "metadata": {},
     "output_type": "execute_result"
    }
   ],
   "source": [
    "# check cached runs\n",
    "CACHE_DIR_BASE = '/scratch/submit/ctp/yitians/21cmFAST-cache'\n",
    "os.listdir(CACHE_DIR_BASE)"
   ]
  },
  {
   "cell_type": "code",
   "execution_count": 39,
   "id": "7e9e1e6b-58d4-4880-9bd4-2d861ce5d0e2",
   "metadata": {},
   "outputs": [],
   "source": [
    "# run config\n",
    "RUN_NAME = 'emf_comp_base'\n",
    "f_scheme = 'CK'\n",
    "run_mode = ''\n",
    "\n",
    "p21c.config['direc'] = f'{CACHE_DIR_BASE}/{RUN_NAME}'\n",
    "os.makedirs(p21c.config['direc'], exist_ok=True)"
   ]
  },
  {
   "cell_type": "code",
   "execution_count": 30,
   "id": "38cb4391-a722-4ddc-8572-8ec55884bbb0",
   "metadata": {
    "collapsed": true,
    "jupyter": {
     "outputs_hidden": true
    },
    "tags": []
   },
   "outputs": [
    {
     "name": "stderr",
     "output_type": "stream",
     "text": [
      "2023-02-28 15:48:29,935 | INFO | Removing IonizedBox_8e2798b91ea46ae805d8f76ca5485d9b_r54321.h5\n",
      "INFO:21cmFAST:Removing IonizedBox_8e2798b91ea46ae805d8f76ca5485d9b_r54321.h5\n",
      "2023-02-28 15:48:29,944 | INFO | Removing IonizedBox_09c45b7def0c7900e843ea27741bd19f_r54321.h5\n",
      "INFO:21cmFAST:Removing IonizedBox_09c45b7def0c7900e843ea27741bd19f_r54321.h5\n",
      "2023-02-28 15:48:29,951 | INFO | Removing IonizedBox_2999a91a6da36782454de303836f946b_r54321.h5\n",
      "INFO:21cmFAST:Removing IonizedBox_2999a91a6da36782454de303836f946b_r54321.h5\n",
      "2023-02-28 15:48:29,959 | INFO | Removing TsBox_135a6b5f92f0559f44a54cf046a3ac47_r54321.h5\n",
      "INFO:21cmFAST:Removing TsBox_135a6b5f92f0559f44a54cf046a3ac47_r54321.h5\n",
      "2023-02-28 15:48:29,966 | INFO | Removing TsBox_09dbb6feca26580f063535f9da1dc8bb_r54321.h5\n",
      "INFO:21cmFAST:Removing TsBox_09dbb6feca26580f063535f9da1dc8bb_r54321.h5\n",
      "2023-02-28 15:48:29,974 | INFO | Removing TsBox_50f28948fd4bfe3e887375c90bac599c_r54321.h5\n",
      "INFO:21cmFAST:Removing TsBox_50f28948fd4bfe3e887375c90bac599c_r54321.h5\n",
      "2023-02-28 15:48:29,979 | INFO | Removing PerturbedField_bf0fb139157ae24be5ed352f3c5b78f8_r54321.h5\n",
      "INFO:21cmFAST:Removing PerturbedField_bf0fb139157ae24be5ed352f3c5b78f8_r54321.h5\n",
      "2023-02-28 15:48:29,986 | INFO | Removing IonizedBox_c0d2cca2aac330004ac65e6b522df4a4_r54321.h5\n",
      "INFO:21cmFAST:Removing IonizedBox_c0d2cca2aac330004ac65e6b522df4a4_r54321.h5\n",
      "2023-02-28 15:48:29,994 | INFO | Removing TsBox_b8eb0a4068e5a444ba99a787e5f88925_r54321.h5\n",
      "INFO:21cmFAST:Removing TsBox_b8eb0a4068e5a444ba99a787e5f88925_r54321.h5\n",
      "2023-02-28 15:48:29,999 | INFO | Removing PerturbedField_ae84a16bccbd80c5a97c3a366c036a96_r54321.h5\n",
      "INFO:21cmFAST:Removing PerturbedField_ae84a16bccbd80c5a97c3a366c036a96_r54321.h5\n",
      "2023-02-28 15:48:30,007 | INFO | Removing IonizedBox_ab1ee589b5858b506d8bc7e42e5c5da3_r54321.h5\n",
      "INFO:21cmFAST:Removing IonizedBox_ab1ee589b5858b506d8bc7e42e5c5da3_r54321.h5\n",
      "2023-02-28 15:48:30,014 | INFO | Removing BrightnessTemp_e0832143fc2df0d7ea1c119c92fd91c6_r54321.h5\n",
      "INFO:21cmFAST:Removing BrightnessTemp_e0832143fc2df0d7ea1c119c92fd91c6_r54321.h5\n",
      "2023-02-28 15:48:30,021 | INFO | Removing BrightnessTemp_fea7b127e3fb681bbd30ecc09eb32164_r54321.h5\n",
      "INFO:21cmFAST:Removing BrightnessTemp_fea7b127e3fb681bbd30ecc09eb32164_r54321.h5\n",
      "2023-02-28 15:48:30,028 | INFO | Removing BrightnessTemp_d47fb3df4c191d8ee0c411fcc46e1c29_r54321.h5\n",
      "INFO:21cmFAST:Removing BrightnessTemp_d47fb3df4c191d8ee0c411fcc46e1c29_r54321.h5\n",
      "2023-02-28 15:48:30,033 | INFO | Removing PerturbedField_f040dfda91bca0a5067078d9302461db_r54321.h5\n",
      "INFO:21cmFAST:Removing PerturbedField_f040dfda91bca0a5067078d9302461db_r54321.h5\n",
      "2023-02-28 15:48:30,040 | INFO | Removing BrightnessTemp_a0a5b115f8338173a0b21650946390a8_r54321.h5\n",
      "INFO:21cmFAST:Removing BrightnessTemp_a0a5b115f8338173a0b21650946390a8_r54321.h5\n",
      "2023-02-28 15:48:30,047 | INFO | Removing TsBox_3791363788c59983c2bbfbc5b8738219_r54321.h5\n",
      "INFO:21cmFAST:Removing TsBox_3791363788c59983c2bbfbc5b8738219_r54321.h5\n",
      "2023-02-28 15:48:30,054 | INFO | Removing BrightnessTemp_eaed3587cdbc3fcd6dc298516d2e3c95_r54321.h5\n",
      "INFO:21cmFAST:Removing BrightnessTemp_eaed3587cdbc3fcd6dc298516d2e3c95_r54321.h5\n",
      "2023-02-28 15:48:30,062 | INFO | Removing TsBox_d5d0c76c655bb240eca568e40c0aac2b_r54321.h5\n",
      "INFO:21cmFAST:Removing TsBox_d5d0c76c655bb240eca568e40c0aac2b_r54321.h5\n",
      "2023-02-28 15:48:30,069 | INFO | Removing TsBox_b36d3551663d3e87ba0c5ec215f28d1e_r54321.h5\n",
      "INFO:21cmFAST:Removing TsBox_b36d3551663d3e87ba0c5ec215f28d1e_r54321.h5\n",
      "2023-02-28 15:48:30,077 | INFO | Removing TsBox_900fa5fb9df12847d7e5d4b5f3ed98da_r54321.h5\n",
      "INFO:21cmFAST:Removing TsBox_900fa5fb9df12847d7e5d4b5f3ed98da_r54321.h5\n",
      "2023-02-28 15:48:30,084 | INFO | Removing IonizedBox_e2d9872adb57e15daa90ffd585e4a0a1_r54321.h5\n",
      "INFO:21cmFAST:Removing IonizedBox_e2d9872adb57e15daa90ffd585e4a0a1_r54321.h5\n",
      "2023-02-28 15:48:30,091 | INFO | Removing TsBox_3da9a5b79c9856c66d66782b7e608935_r54321.h5\n",
      "INFO:21cmFAST:Removing TsBox_3da9a5b79c9856c66d66782b7e608935_r54321.h5\n",
      "2023-02-28 15:48:30,098 | INFO | Removing BrightnessTemp_69f29978c5bfce35300586ebc7acfe2d_r54321.h5\n",
      "INFO:21cmFAST:Removing BrightnessTemp_69f29978c5bfce35300586ebc7acfe2d_r54321.h5\n",
      "2023-02-28 15:48:30,105 | INFO | Removing IonizedBox_d4f8ab9033f329a2b8600e3d80dc27c8_r54321.h5\n",
      "INFO:21cmFAST:Removing IonizedBox_d4f8ab9033f329a2b8600e3d80dc27c8_r54321.h5\n",
      "2023-02-28 15:48:30,112 | INFO | Removing TsBox_57d68716bff2a6434dc7f1d49379808d_r54321.h5\n",
      "INFO:21cmFAST:Removing TsBox_57d68716bff2a6434dc7f1d49379808d_r54321.h5\n",
      "2023-02-28 15:48:30,117 | INFO | Removing PerturbedField_df1c2436092b7edc1a780ea778ddd95d_r54321.h5\n",
      "INFO:21cmFAST:Removing PerturbedField_df1c2436092b7edc1a780ea778ddd95d_r54321.h5\n",
      "2023-02-28 15:48:30,124 | INFO | Removing TsBox_8ae027d51aee4601a56aeeb4fe34a39c_r54321.h5\n",
      "INFO:21cmFAST:Removing TsBox_8ae027d51aee4601a56aeeb4fe34a39c_r54321.h5\n",
      "2023-02-28 15:48:30,131 | INFO | Removing BrightnessTemp_247e5795a9e4aff76d8c1f37c5813424_r54321.h5\n",
      "INFO:21cmFAST:Removing BrightnessTemp_247e5795a9e4aff76d8c1f37c5813424_r54321.h5\n",
      "2023-02-28 15:48:30,138 | INFO | Removing BrightnessTemp_222677599967bd740fec5ede4cb61991_r54321.h5\n",
      "INFO:21cmFAST:Removing BrightnessTemp_222677599967bd740fec5ede4cb61991_r54321.h5\n",
      "2023-02-28 15:48:30,143 | INFO | Removing PerturbedField_0ce10b1a41df47ee9989d3a2b4874365_r54321.h5\n",
      "INFO:21cmFAST:Removing PerturbedField_0ce10b1a41df47ee9989d3a2b4874365_r54321.h5\n",
      "2023-02-28 15:48:30,150 | INFO | Removing IonizedBox_affe64082c94ad1b7bccf2e330c89c83_r54321.h5\n",
      "INFO:21cmFAST:Removing IonizedBox_affe64082c94ad1b7bccf2e330c89c83_r54321.h5\n",
      "2023-02-28 15:48:30,157 | INFO | Removing BrightnessTemp_9b6f9d1d04f6f6edbc9a653defdcbdda_r54321.h5\n",
      "INFO:21cmFAST:Removing BrightnessTemp_9b6f9d1d04f6f6edbc9a653defdcbdda_r54321.h5\n",
      "2023-02-28 15:48:30,163 | INFO | Removing PerturbedField_f156915a5fc3422a40a12a171b2622fb_r54321.h5\n",
      "INFO:21cmFAST:Removing PerturbedField_f156915a5fc3422a40a12a171b2622fb_r54321.h5\n",
      "2023-02-28 15:48:30,168 | INFO | Removing PerturbedField_e316eaa53319663d7aae09d529b6d836_r54321.h5\n",
      "INFO:21cmFAST:Removing PerturbedField_e316eaa53319663d7aae09d529b6d836_r54321.h5\n",
      "2023-02-28 15:48:30,176 | INFO | Removing BrightnessTemp_ba4ae16a5924a6347da15a6f1e24afb6_r54321.h5\n",
      "INFO:21cmFAST:Removing BrightnessTemp_ba4ae16a5924a6347da15a6f1e24afb6_r54321.h5\n",
      "2023-02-28 15:48:30,181 | INFO | Removing PerturbedField_be126b3c1bf9f71d55bf69835ea24e18_r54321.h5\n",
      "INFO:21cmFAST:Removing PerturbedField_be126b3c1bf9f71d55bf69835ea24e18_r54321.h5\n",
      "2023-02-28 15:48:30,190 | INFO | Removing TsBox_865466e66a25e7cd34f86267a82da1b0_r54321.h5\n",
      "INFO:21cmFAST:Removing TsBox_865466e66a25e7cd34f86267a82da1b0_r54321.h5\n",
      "2023-02-28 15:48:30,196 | INFO | Removing PerturbedField_b8a7ff21b0b86e11dd40f9d1d6369c5f_r54321.h5\n",
      "INFO:21cmFAST:Removing PerturbedField_b8a7ff21b0b86e11dd40f9d1d6369c5f_r54321.h5\n",
      "2023-02-28 15:48:30,209 | INFO | Removing IonizedBox_ea9d37696953f8d78d0b9be695f1f372_r54321.h5\n",
      "INFO:21cmFAST:Removing IonizedBox_ea9d37696953f8d78d0b9be695f1f372_r54321.h5\n",
      "2023-02-28 15:48:30,223 | INFO | Removing IonizedBox_fc721b56f4d6fa4a1d1680fcd2bd8df0_r54321.h5\n",
      "INFO:21cmFAST:Removing IonizedBox_fc721b56f4d6fa4a1d1680fcd2bd8df0_r54321.h5\n",
      "2023-02-28 15:48:30,237 | INFO | Removing IonizedBox_cac8030456e6abe285f5f05b0c6e505a_r54321.h5\n",
      "INFO:21cmFAST:Removing IonizedBox_cac8030456e6abe285f5f05b0c6e505a_r54321.h5\n",
      "2023-02-28 15:48:30,247 | INFO | Removing PerturbedField_87f142dafff84ce62301c7d57cb7abe8_r54321.h5\n",
      "INFO:21cmFAST:Removing PerturbedField_87f142dafff84ce62301c7d57cb7abe8_r54321.h5\n",
      "2023-02-28 15:48:30,257 | INFO | Removing PerturbedField_cd0d61e454664c2d71b51c2bcdc78526_r54321.h5\n",
      "INFO:21cmFAST:Removing PerturbedField_cd0d61e454664c2d71b51c2bcdc78526_r54321.h5\n",
      "2023-02-28 15:48:30,271 | INFO | Removing IonizedBox_4b072f9285a49b9efbcbb94d164b83d1_r54321.h5\n",
      "INFO:21cmFAST:Removing IonizedBox_4b072f9285a49b9efbcbb94d164b83d1_r54321.h5\n",
      "2023-02-28 15:48:30,286 | INFO | Removing TsBox_8595e2dd0e4198e668fd8c20d206b146_r54321.h5\n",
      "INFO:21cmFAST:Removing TsBox_8595e2dd0e4198e668fd8c20d206b146_r54321.h5\n",
      "2023-02-28 15:48:30,299 | INFO | Removing TsBox_ec0292499b34dcff7796d3c90649b495_r54321.h5\n",
      "INFO:21cmFAST:Removing TsBox_ec0292499b34dcff7796d3c90649b495_r54321.h5\n",
      "2023-02-28 15:48:30,313 | INFO | Removing TsBox_df7a9171403be813af1315d20107b5ba_r54321.h5\n",
      "INFO:21cmFAST:Removing TsBox_df7a9171403be813af1315d20107b5ba_r54321.h5\n",
      "2023-02-28 15:48:30,325 | INFO | Removing TsBox_a18f1c9dfa8fa608034293d42375a7d2_r54321.h5\n",
      "INFO:21cmFAST:Removing TsBox_a18f1c9dfa8fa608034293d42375a7d2_r54321.h5\n",
      "2023-02-28 15:48:30,333 | INFO | Removing IonizedBox_2d826a507c25746d9d6e605432310d9b_r54321.h5\n",
      "INFO:21cmFAST:Removing IonizedBox_2d826a507c25746d9d6e605432310d9b_r54321.h5\n",
      "2023-02-28 15:48:30,343 | INFO | Removing IonizedBox_f9ece27630edcce7ca8dbff1492eb39c_r54321.h5\n",
      "INFO:21cmFAST:Removing IonizedBox_f9ece27630edcce7ca8dbff1492eb39c_r54321.h5\n",
      "2023-02-28 15:48:30,348 | INFO | Removing PerturbedField_cf7291c14a2a93d7b2e1b1f9dbadf0eb_r54321.h5\n",
      "INFO:21cmFAST:Removing PerturbedField_cf7291c14a2a93d7b2e1b1f9dbadf0eb_r54321.h5\n",
      "2023-02-28 15:48:30,354 | INFO | Removing BrightnessTemp_2de94ec56e0a04bbcd865594f02a1dbf_r54321.h5\n",
      "INFO:21cmFAST:Removing BrightnessTemp_2de94ec56e0a04bbcd865594f02a1dbf_r54321.h5\n",
      "2023-02-28 15:48:30,362 | INFO | Removing TsBox_9c280fb8271b6ffce4393a899381d7be_r54321.h5\n",
      "INFO:21cmFAST:Removing TsBox_9c280fb8271b6ffce4393a899381d7be_r54321.h5\n",
      "2023-02-28 15:48:30,369 | INFO | Removing IonizedBox_73c5d73da9cc5b560f86870ecf0960fc_r54321.h5\n",
      "INFO:21cmFAST:Removing IonizedBox_73c5d73da9cc5b560f86870ecf0960fc_r54321.h5\n",
      "2023-02-28 15:48:30,374 | INFO | Removing PerturbedField_f2fa0185513ea5f238e54c51bb283ecc_r54321.h5\n",
      "INFO:21cmFAST:Removing PerturbedField_f2fa0185513ea5f238e54c51bb283ecc_r54321.h5\n",
      "2023-02-28 15:48:30,379 | INFO | Removing PerturbedField_4a6437da035f78ffc2e04f3ac51d0674_r54321.h5\n",
      "INFO:21cmFAST:Removing PerturbedField_4a6437da035f78ffc2e04f3ac51d0674_r54321.h5\n",
      "2023-02-28 15:48:30,384 | INFO | Removing PerturbedField_a65fc411227688aac274a2952d5e0d4e_r54321.h5\n",
      "INFO:21cmFAST:Removing PerturbedField_a65fc411227688aac274a2952d5e0d4e_r54321.h5\n",
      "2023-02-28 15:48:30,391 | INFO | Removing BrightnessTemp_f4a39486dbc3dc80de254a2be422888c_r54321.h5\n",
      "INFO:21cmFAST:Removing BrightnessTemp_f4a39486dbc3dc80de254a2be422888c_r54321.h5\n",
      "2023-02-28 15:48:30,398 | INFO | Removing TsBox_a4c1e936969a959b7255e21cccc1982b_r54321.h5\n",
      "INFO:21cmFAST:Removing TsBox_a4c1e936969a959b7255e21cccc1982b_r54321.h5\n",
      "2023-02-28 15:48:30,405 | INFO | Removing TsBox_7bf53f16e87bc7f3348ce175df7ad2b3_r54321.h5\n",
      "INFO:21cmFAST:Removing TsBox_7bf53f16e87bc7f3348ce175df7ad2b3_r54321.h5\n",
      "2023-02-28 15:48:30,412 | INFO | Removing BrightnessTemp_057e503d65015b3cc3f4a87294b24e22_r54321.h5\n",
      "INFO:21cmFAST:Removing BrightnessTemp_057e503d65015b3cc3f4a87294b24e22_r54321.h5\n",
      "2023-02-28 15:48:30,420 | INFO | Removing IonizedBox_87a37bb5082154ce3db53c3c1058e007_r54321.h5\n",
      "INFO:21cmFAST:Removing IonizedBox_87a37bb5082154ce3db53c3c1058e007_r54321.h5\n",
      "2023-02-28 15:48:30,428 | INFO | Removing TsBox_d6722ec065aec024498c978bf1c64dad_r54321.h5\n",
      "INFO:21cmFAST:Removing TsBox_d6722ec065aec024498c978bf1c64dad_r54321.h5\n",
      "2023-02-28 15:48:30,435 | INFO | Removing IonizedBox_080607b5c3e7ed9768e2b32bd592b964_r54321.h5\n",
      "INFO:21cmFAST:Removing IonizedBox_080607b5c3e7ed9768e2b32bd592b964_r54321.h5\n",
      "2023-02-28 15:48:30,443 | INFO | Removing IonizedBox_4265fd5d566c5faca780e43b4ce5bb05_r54321.h5\n",
      "INFO:21cmFAST:Removing IonizedBox_4265fd5d566c5faca780e43b4ce5bb05_r54321.h5\n",
      "2023-02-28 15:48:30,450 | INFO | Removing IonizedBox_771a778160bc6254e77f247f78bcce1e_r54321.h5\n",
      "INFO:21cmFAST:Removing IonizedBox_771a778160bc6254e77f247f78bcce1e_r54321.h5\n",
      "2023-02-28 15:48:30,455 | INFO | Removing PerturbedField_277df1a0ad3f5c0bd98ed19f2576cf13_r54321.h5\n",
      "INFO:21cmFAST:Removing PerturbedField_277df1a0ad3f5c0bd98ed19f2576cf13_r54321.h5\n",
      "2023-02-28 15:48:30,460 | INFO | Removing InitialConditions_a199594281140a6844423f30c6f4d6cf_r54321.h5\n",
      "INFO:21cmFAST:Removing InitialConditions_a199594281140a6844423f30c6f4d6cf_r54321.h5\n",
      "2023-02-28 15:48:30,481 | INFO | Removing PerturbedField_020f06acc9265e62f83e9c25bd977ba5_r54321.h5\n",
      "INFO:21cmFAST:Removing PerturbedField_020f06acc9265e62f83e9c25bd977ba5_r54321.h5\n",
      "2023-02-28 15:48:30,488 | INFO | Removing IonizedBox_99167fbc805a5298bf913a55dd3568d2_r54321.h5\n",
      "INFO:21cmFAST:Removing IonizedBox_99167fbc805a5298bf913a55dd3568d2_r54321.h5\n",
      "2023-02-28 15:48:30,496 | INFO | Removing IonizedBox_86c99d674833ccfe0e7c9df2a6d54778_r54321.h5\n",
      "INFO:21cmFAST:Removing IonizedBox_86c99d674833ccfe0e7c9df2a6d54778_r54321.h5\n",
      "2023-02-28 15:48:30,503 | INFO | Removing IonizedBox_005349f387ebc3a5c519ed1d0aefbcc2_r54321.h5\n",
      "INFO:21cmFAST:Removing IonizedBox_005349f387ebc3a5c519ed1d0aefbcc2_r54321.h5\n",
      "2023-02-28 15:48:30,509 | INFO | Removing PerturbedField_eb1c28abf2d1c5ab58f5afa4e6a82b07_r54321.h5\n",
      "INFO:21cmFAST:Removing PerturbedField_eb1c28abf2d1c5ab58f5afa4e6a82b07_r54321.h5\n",
      "2023-02-28 15:48:30,517 | INFO | Removing TsBox_431ae71a9604daeab7bd328e062ec2f0_r54321.h5\n",
      "INFO:21cmFAST:Removing TsBox_431ae71a9604daeab7bd328e062ec2f0_r54321.h5\n",
      "2023-02-28 15:48:30,524 | INFO | Removing TsBox_20323674ea63d0b1bf90c350731fee4f_r54321.h5\n",
      "INFO:21cmFAST:Removing TsBox_20323674ea63d0b1bf90c350731fee4f_r54321.h5\n",
      "2023-02-28 15:48:30,529 | INFO | Removing PerturbedField_aef760c0334ce138ce16369d3af6ccd5_r54321.h5\n",
      "INFO:21cmFAST:Removing PerturbedField_aef760c0334ce138ce16369d3af6ccd5_r54321.h5\n",
      "2023-02-28 15:48:30,536 | INFO | Removing TsBox_0c833c6ab68c8db4245eac085cbfa01e_r54321.h5\n",
      "INFO:21cmFAST:Removing TsBox_0c833c6ab68c8db4245eac085cbfa01e_r54321.h5\n",
      "2023-02-28 15:48:30,543 | INFO | Removing IonizedBox_26e2cdfd540960597330bf2ee37b25ce_r54321.h5\n",
      "INFO:21cmFAST:Removing IonizedBox_26e2cdfd540960597330bf2ee37b25ce_r54321.h5\n",
      "2023-02-28 15:48:30,551 | INFO | Removing BrightnessTemp_d64eb4038672e0c69054f0b088a78624_r54321.h5\n",
      "INFO:21cmFAST:Removing BrightnessTemp_d64eb4038672e0c69054f0b088a78624_r54321.h5\n",
      "2023-02-28 15:48:30,557 | INFO | Removing BrightnessTemp_e9c997b2156c5c76cd43e86bf72dd406_r54321.h5\n",
      "INFO:21cmFAST:Removing BrightnessTemp_e9c997b2156c5c76cd43e86bf72dd406_r54321.h5\n",
      "2023-02-28 15:48:30,562 | INFO | Removing PerturbedField_b4b844f4cfa5c39d04f616b13a5a2f58_r54321.h5\n",
      "INFO:21cmFAST:Removing PerturbedField_b4b844f4cfa5c39d04f616b13a5a2f58_r54321.h5\n",
      "2023-02-28 15:48:30,569 | INFO | Removing TsBox_fe47a82685d69b9978c14fb2816ca387_r54321.h5\n",
      "INFO:21cmFAST:Removing TsBox_fe47a82685d69b9978c14fb2816ca387_r54321.h5\n",
      "2023-02-28 15:48:30,576 | INFO | Removing BrightnessTemp_86537df7bb4990076497090d31a072a9_r54321.h5\n",
      "INFO:21cmFAST:Removing BrightnessTemp_86537df7bb4990076497090d31a072a9_r54321.h5\n",
      "2023-02-28 15:48:30,581 | INFO | Removing PerturbedField_de5b523eef6c49d4d8b6e8fcd289a70c_r54321.h5\n",
      "INFO:21cmFAST:Removing PerturbedField_de5b523eef6c49d4d8b6e8fcd289a70c_r54321.h5\n",
      "2023-02-28 15:48:30,588 | INFO | Removing BrightnessTemp_e91089ebeb245076dd1fa1acc0a208eb_r54321.h5\n",
      "INFO:21cmFAST:Removing BrightnessTemp_e91089ebeb245076dd1fa1acc0a208eb_r54321.h5\n",
      "2023-02-28 15:48:30,595 | INFO | Removing BrightnessTemp_08c5ce554d4839bd0b1db00a67430309_r54321.h5\n",
      "INFO:21cmFAST:Removing BrightnessTemp_08c5ce554d4839bd0b1db00a67430309_r54321.h5\n",
      "2023-02-28 15:48:30,602 | INFO | Removing BrightnessTemp_09b6f6b1a91125f3e005be729453feaf_r54321.h5\n",
      "INFO:21cmFAST:Removing BrightnessTemp_09b6f6b1a91125f3e005be729453feaf_r54321.h5\n",
      "2023-02-28 15:48:30,609 | INFO | Removing IonizedBox_ff864c984281e57ba10be12da956e1c7_r54321.h5\n",
      "INFO:21cmFAST:Removing IonizedBox_ff864c984281e57ba10be12da956e1c7_r54321.h5\n",
      "2023-02-28 15:48:30,615 | INFO | Removing PerturbedField_b8bc3f93be9f771bb93bc69554a40c55_r54321.h5\n",
      "INFO:21cmFAST:Removing PerturbedField_b8bc3f93be9f771bb93bc69554a40c55_r54321.h5\n",
      "2023-02-28 15:48:30,622 | INFO | Removing BrightnessTemp_17de26127d89f2f7c2c085609087af98_r54321.h5\n",
      "INFO:21cmFAST:Removing BrightnessTemp_17de26127d89f2f7c2c085609087af98_r54321.h5\n",
      "2023-02-28 15:48:30,626 | INFO | Removing PerturbedField_2bf6632a34d2e84f7e9c429eb084e152_r54321.h5\n",
      "INFO:21cmFAST:Removing PerturbedField_2bf6632a34d2e84f7e9c429eb084e152_r54321.h5\n",
      "2023-02-28 15:48:30,632 | INFO | Removing PerturbedField_c5aaec52c0be35f7749882fac12af6f7_r54321.h5\n",
      "INFO:21cmFAST:Removing PerturbedField_c5aaec52c0be35f7749882fac12af6f7_r54321.h5\n",
      "2023-02-28 15:48:30,639 | INFO | Removing IonizedBox_01d556d463af1722553a66249b62c523_r54321.h5\n",
      "INFO:21cmFAST:Removing IonizedBox_01d556d463af1722553a66249b62c523_r54321.h5\n",
      "2023-02-28 15:48:30,646 | INFO | Removing TsBox_06916fb9710eb217b9630bbb918ac567_r54321.h5\n",
      "INFO:21cmFAST:Removing TsBox_06916fb9710eb217b9630bbb918ac567_r54321.h5\n",
      "2023-02-28 15:48:30,651 | INFO | Removing PerturbedField_ee44c3a526fd7db833c621e1e633f859_r54321.h5\n",
      "INFO:21cmFAST:Removing PerturbedField_ee44c3a526fd7db833c621e1e633f859_r54321.h5\n",
      "2023-02-28 15:48:30,659 | INFO | Removing TsBox_981090f66b472060dfaccea972b23f04_r54321.h5\n",
      "INFO:21cmFAST:Removing TsBox_981090f66b472060dfaccea972b23f04_r54321.h5\n",
      "2023-02-28 15:48:30,666 | INFO | Removing IonizedBox_f0b7f0eab2c23e86252edcafb2e99b78_r54321.h5\n",
      "INFO:21cmFAST:Removing IonizedBox_f0b7f0eab2c23e86252edcafb2e99b78_r54321.h5\n",
      "2023-02-28 15:48:30,673 | INFO | Removing IonizedBox_1e9fa7b4ba30e93209916b3b63be2af9_r54321.h5\n",
      "INFO:21cmFAST:Removing IonizedBox_1e9fa7b4ba30e93209916b3b63be2af9_r54321.h5\n",
      "2023-02-28 15:48:30,678 | INFO | Removing PerturbedField_484c7335027c41a31dfc764a79a9e3cf_r54321.h5\n",
      "INFO:21cmFAST:Removing PerturbedField_484c7335027c41a31dfc764a79a9e3cf_r54321.h5\n",
      "2023-02-28 15:48:30,685 | INFO | Removing BrightnessTemp_f5921ce1b0cd85829b7366c1f4708ac7_r54321.h5\n",
      "INFO:21cmFAST:Removing BrightnessTemp_f5921ce1b0cd85829b7366c1f4708ac7_r54321.h5\n",
      "2023-02-28 15:48:30,692 | INFO | Removing IonizedBox_deffda97efab18b37bb4ab12a8f92c86_r54321.h5\n",
      "INFO:21cmFAST:Removing IonizedBox_deffda97efab18b37bb4ab12a8f92c86_r54321.h5\n",
      "2023-02-28 15:48:30,700 | INFO | Removing IonizedBox_07313f73ea1b79cf98fc3b0374ec607c_r54321.h5\n",
      "INFO:21cmFAST:Removing IonizedBox_07313f73ea1b79cf98fc3b0374ec607c_r54321.h5\n",
      "2023-02-28 15:48:30,705 | INFO | Removing PerturbedField_0232b243902999e9d5868e3eee70dec0_r54321.h5\n",
      "INFO:21cmFAST:Removing PerturbedField_0232b243902999e9d5868e3eee70dec0_r54321.h5\n",
      "2023-02-28 15:48:30,712 | INFO | Removing BrightnessTemp_ba897b90fafcc32875219523c5d1a595_r54321.h5\n",
      "INFO:21cmFAST:Removing BrightnessTemp_ba897b90fafcc32875219523c5d1a595_r54321.h5\n",
      "2023-02-28 15:48:30,717 | INFO | Removing PerturbedField_4b2da2ef3ffda5256a01de53bcc85b96_r54321.h5\n",
      "INFO:21cmFAST:Removing PerturbedField_4b2da2ef3ffda5256a01de53bcc85b96_r54321.h5\n",
      "2023-02-28 15:48:30,724 | INFO | Removing IonizedBox_a98fbcf46111413ad9e9e466a78b10a8_r54321.h5\n",
      "INFO:21cmFAST:Removing IonizedBox_a98fbcf46111413ad9e9e466a78b10a8_r54321.h5\n",
      "2023-02-28 15:48:30,731 | INFO | Removing IonizedBox_f2f37c83acba04e2a1f5c25260b16247_r54321.h5\n",
      "INFO:21cmFAST:Removing IonizedBox_f2f37c83acba04e2a1f5c25260b16247_r54321.h5\n",
      "2023-02-28 15:48:30,736 | INFO | Removing PerturbedField_0545f4c09e5ab3d43589d44ccd874dc7_r54321.h5\n",
      "INFO:21cmFAST:Removing PerturbedField_0545f4c09e5ab3d43589d44ccd874dc7_r54321.h5\n",
      "2023-02-28 15:48:30,743 | INFO | Removing BrightnessTemp_2f7081029cea822d5a41fde04b9cbc37_r54321.h5\n",
      "INFO:21cmFAST:Removing BrightnessTemp_2f7081029cea822d5a41fde04b9cbc37_r54321.h5\n",
      "2023-02-28 15:48:30,750 | INFO | Removing BrightnessTemp_0c3ad92fad85e8b3fe97484ba30e663c_r54321.h5\n",
      "INFO:21cmFAST:Removing BrightnessTemp_0c3ad92fad85e8b3fe97484ba30e663c_r54321.h5\n",
      "2023-02-28 15:48:30,757 | INFO | Removing TsBox_5830a00c42917810f2c533e5d29e8020_r54321.h5\n",
      "INFO:21cmFAST:Removing TsBox_5830a00c42917810f2c533e5d29e8020_r54321.h5\n",
      "2023-02-28 15:48:30,762 | INFO | Removing PerturbedField_84c996aa176e1b68a0e129cdd238a7c2_r54321.h5\n",
      "INFO:21cmFAST:Removing PerturbedField_84c996aa176e1b68a0e129cdd238a7c2_r54321.h5\n",
      "2023-02-28 15:48:30,769 | INFO | Removing BrightnessTemp_c11db6e30066ca0d318ad21be3f5f738_r54321.h5\n",
      "INFO:21cmFAST:Removing BrightnessTemp_c11db6e30066ca0d318ad21be3f5f738_r54321.h5\n",
      "2023-02-28 15:48:30,774 | INFO | Removing PerturbedField_8feceac5540b50bc8954fb2e6d626a78_r54321.h5\n",
      "INFO:21cmFAST:Removing PerturbedField_8feceac5540b50bc8954fb2e6d626a78_r54321.h5\n",
      "2023-02-28 15:48:30,781 | INFO | Removing TsBox_174aec52b9fbba05945cd95ec7cc3df9_r54321.h5\n",
      "INFO:21cmFAST:Removing TsBox_174aec52b9fbba05945cd95ec7cc3df9_r54321.h5\n",
      "2023-02-28 15:48:30,788 | INFO | Removing BrightnessTemp_e7406069df5f36105fe8e689074ce591_r54321.h5\n",
      "INFO:21cmFAST:Removing BrightnessTemp_e7406069df5f36105fe8e689074ce591_r54321.h5\n",
      "2023-02-28 15:48:30,795 | INFO | Removing BrightnessTemp_62cd33bd5530ee08f8149fa16b8fe2b5_r54321.h5\n",
      "INFO:21cmFAST:Removing BrightnessTemp_62cd33bd5530ee08f8149fa16b8fe2b5_r54321.h5\n",
      "2023-02-28 15:48:30,800 | INFO | Removing PerturbedField_631b6ce8d428fdc38d05e93e5d1e25af_r54321.h5\n",
      "INFO:21cmFAST:Removing PerturbedField_631b6ce8d428fdc38d05e93e5d1e25af_r54321.h5\n",
      "2023-02-28 15:48:30,807 | INFO | Removing BrightnessTemp_14d4a91983df053ec8239e2fa2965e8a_r54321.h5\n",
      "INFO:21cmFAST:Removing BrightnessTemp_14d4a91983df053ec8239e2fa2965e8a_r54321.h5\n",
      "2023-02-28 15:48:30,814 | INFO | Removing TsBox_4963544a8c5dcf09f60b63c3ca012795_r54321.h5\n",
      "INFO:21cmFAST:Removing TsBox_4963544a8c5dcf09f60b63c3ca012795_r54321.h5\n",
      "2023-02-28 15:48:30,821 | INFO | Removing BrightnessTemp_6b176a22303105a69540e3ded68b6f44_r54321.h5\n",
      "INFO:21cmFAST:Removing BrightnessTemp_6b176a22303105a69540e3ded68b6f44_r54321.h5\n",
      "2023-02-28 15:48:30,828 | INFO | Removing BrightnessTemp_4bb0c946e8be2c54535f783fa37f8e78_r54321.h5\n",
      "INFO:21cmFAST:Removing BrightnessTemp_4bb0c946e8be2c54535f783fa37f8e78_r54321.h5\n",
      "2023-02-28 15:48:30,835 | INFO | Removing IonizedBox_bc8ea117776acc206117ffbd74169b11_r54321.h5\n",
      "INFO:21cmFAST:Removing IonizedBox_bc8ea117776acc206117ffbd74169b11_r54321.h5\n",
      "2023-02-28 15:48:30,842 | INFO | Removing IonizedBox_04498d9266dc85ffae2fccac1e8b78ed_r54321.h5\n",
      "INFO:21cmFAST:Removing IonizedBox_04498d9266dc85ffae2fccac1e8b78ed_r54321.h5\n",
      "2023-02-28 15:48:30,850 | INFO | Removing TsBox_c3a77eabadaead8a958e84d0abf1dfc5_r54321.h5\n",
      "INFO:21cmFAST:Removing TsBox_c3a77eabadaead8a958e84d0abf1dfc5_r54321.h5\n",
      "2023-02-28 15:48:30,857 | INFO | Removing BrightnessTemp_0c262824d826289e190d1f122be38601_r54321.h5\n",
      "INFO:21cmFAST:Removing BrightnessTemp_0c262824d826289e190d1f122be38601_r54321.h5\n",
      "2023-02-28 15:48:30,865 | INFO | Removing TsBox_c526666783c301f888e1f05428d60a1f_r54321.h5\n",
      "INFO:21cmFAST:Removing TsBox_c526666783c301f888e1f05428d60a1f_r54321.h5\n",
      "2023-02-28 15:48:30,872 | INFO | Removing IonizedBox_519b1069b7e46c41ef0092007d6c85c9_r54321.h5\n",
      "INFO:21cmFAST:Removing IonizedBox_519b1069b7e46c41ef0092007d6c85c9_r54321.h5\n",
      "2023-02-28 15:48:30,879 | INFO | Removing TsBox_cb69691ed77e5f9f8975a6895b4ce401_r54321.h5\n",
      "INFO:21cmFAST:Removing TsBox_cb69691ed77e5f9f8975a6895b4ce401_r54321.h5\n",
      "2023-02-28 15:48:30,886 | INFO | Removing BrightnessTemp_0556e94fab1d1f29bf0b161f06a50122_r54321.h5\n",
      "INFO:21cmFAST:Removing BrightnessTemp_0556e94fab1d1f29bf0b161f06a50122_r54321.h5\n",
      "2023-02-28 15:48:30,893 | INFO | Removing IonizedBox_540b2d3809ebfcd6a4567a573fca889f_r54321.h5\n",
      "INFO:21cmFAST:Removing IonizedBox_540b2d3809ebfcd6a4567a573fca889f_r54321.h5\n",
      "2023-02-28 15:48:30,899 | INFO | Removing PerturbedField_d6afe00f12baf600ef232ba46d28bd2a_r54321.h5\n",
      "INFO:21cmFAST:Removing PerturbedField_d6afe00f12baf600ef232ba46d28bd2a_r54321.h5\n",
      "2023-02-28 15:48:30,906 | INFO | Removing IonizedBox_01ada539202853f08ec05513f46414cb_r54321.h5\n",
      "INFO:21cmFAST:Removing IonizedBox_01ada539202853f08ec05513f46414cb_r54321.h5\n",
      "2023-02-28 15:48:30,913 | INFO | Removing BrightnessTemp_e67fec3578784965bd79b390fe9befb5_r54321.h5\n",
      "INFO:21cmFAST:Removing BrightnessTemp_e67fec3578784965bd79b390fe9befb5_r54321.h5\n",
      "2023-02-28 15:48:30,920 | INFO | Removing BrightnessTemp_e99b6e79c09ee78addfd85cdf0e350af_r54321.h5\n",
      "INFO:21cmFAST:Removing BrightnessTemp_e99b6e79c09ee78addfd85cdf0e350af_r54321.h5\n",
      "2023-02-28 15:48:30,924 | INFO | Removing PerturbedField_b343566a0246216cfd6060854f9eb4f4_r54321.h5\n",
      "INFO:21cmFAST:Removing PerturbedField_b343566a0246216cfd6060854f9eb4f4_r54321.h5\n",
      "2023-02-28 15:48:30,931 | INFO | Removing BrightnessTemp_2f379c56ec8dd3334b5748747d81c2d7_r54321.h5\n",
      "INFO:21cmFAST:Removing BrightnessTemp_2f379c56ec8dd3334b5748747d81c2d7_r54321.h5\n",
      "2023-02-28 15:48:30,936 | INFO | Removing PerturbedField_1e2540e7231b8cd2761f0a2c43cb1db7_r54321.h5\n",
      "INFO:21cmFAST:Removing PerturbedField_1e2540e7231b8cd2761f0a2c43cb1db7_r54321.h5\n",
      "2023-02-28 15:48:30,943 | INFO | Removing IonizedBox_df4b152fba24df5e9d15e119ca86d759_r54321.h5\n",
      "INFO:21cmFAST:Removing IonizedBox_df4b152fba24df5e9d15e119ca86d759_r54321.h5\n",
      "2023-02-28 15:48:30,950 | INFO | Removing BrightnessTemp_58ccef48e6075526c80e02b0552da384_r54321.h5\n",
      "INFO:21cmFAST:Removing BrightnessTemp_58ccef48e6075526c80e02b0552da384_r54321.h5\n",
      "2023-02-28 15:48:30,957 | INFO | Removing TsBox_f30032890f70509c0b658740ae0407d0_r54321.h5\n",
      "INFO:21cmFAST:Removing TsBox_f30032890f70509c0b658740ae0407d0_r54321.h5\n",
      "2023-02-28 15:48:30,964 | INFO | Removing BrightnessTemp_709e900e9abb50ba1b09095d1fb08370_r54321.h5\n",
      "INFO:21cmFAST:Removing BrightnessTemp_709e900e9abb50ba1b09095d1fb08370_r54321.h5\n",
      "2023-02-28 15:48:30,969 | INFO | Removing PerturbedField_dff780c212cbe96bf79d248e3f71ea97_r54321.h5\n",
      "INFO:21cmFAST:Removing PerturbedField_dff780c212cbe96bf79d248e3f71ea97_r54321.h5\n",
      "2023-02-28 15:48:30,976 | INFO | Removing TsBox_67064b4e268dd62238778abf7c2951a6_r54321.h5\n",
      "INFO:21cmFAST:Removing TsBox_67064b4e268dd62238778abf7c2951a6_r54321.h5\n",
      "2023-02-28 15:48:30,984 | INFO | Removing TsBox_c9305dae9de94a30a95db2094f998df3_r54321.h5\n",
      "INFO:21cmFAST:Removing TsBox_c9305dae9de94a30a95db2094f998df3_r54321.h5\n",
      "2023-02-28 15:48:30,991 | INFO | Removing TsBox_ea226b965425d5b61c1e7b2d6fb67377_r54321.h5\n",
      "INFO:21cmFAST:Removing TsBox_ea226b965425d5b61c1e7b2d6fb67377_r54321.h5\n",
      "2023-02-28 15:48:30,998 | INFO | Removing BrightnessTemp_a81ca839b79a14edd33aeefd099dfcf0_r54321.h5\n",
      "INFO:21cmFAST:Removing BrightnessTemp_a81ca839b79a14edd33aeefd099dfcf0_r54321.h5\n",
      "2023-02-28 15:48:31,003 | INFO | Removing PerturbedField_37913b9a21b52f949a4901d8c2a0778e_r54321.h5\n",
      "INFO:21cmFAST:Removing PerturbedField_37913b9a21b52f949a4901d8c2a0778e_r54321.h5\n",
      "2023-02-28 15:48:31,013 | INFO | Removing TsBox_101c7cdf03427b07c674eca974111422_r54321.h5\n",
      "INFO:21cmFAST:Removing TsBox_101c7cdf03427b07c674eca974111422_r54321.h5\n",
      "2023-02-28 15:48:31,022 | INFO | Removing TsBox_440b189f160d0ee8bf610d156bcac72a_r54321.h5\n",
      "INFO:21cmFAST:Removing TsBox_440b189f160d0ee8bf610d156bcac72a_r54321.h5\n",
      "2023-02-28 15:48:31,030 | INFO | Removing IonizedBox_8e266c69fd00e7e7d4e8734d674f6a66_r54321.h5\n",
      "INFO:21cmFAST:Removing IonizedBox_8e266c69fd00e7e7d4e8734d674f6a66_r54321.h5\n",
      "2023-02-28 15:48:31,035 | INFO | Removing PerturbedField_45d6443c99510c6c230e1cc729031c61_r54321.h5\n",
      "INFO:21cmFAST:Removing PerturbedField_45d6443c99510c6c230e1cc729031c61_r54321.h5\n",
      "2023-02-28 15:48:31,042 | INFO | Removing IonizedBox_3ed136891000ee425f809bacb7f22781_r54321.h5\n",
      "INFO:21cmFAST:Removing IonizedBox_3ed136891000ee425f809bacb7f22781_r54321.h5\n",
      "2023-02-28 15:48:31,051 | INFO | Removing BrightnessTemp_02fe264d72b1e88b08de155790490655_r54321.h5\n",
      "INFO:21cmFAST:Removing BrightnessTemp_02fe264d72b1e88b08de155790490655_r54321.h5\n",
      "2023-02-28 15:48:31,055 | INFO | Removing PerturbedField_4ba0fcea5ec08161d27113f459a39042_r54321.h5\n",
      "INFO:21cmFAST:Removing PerturbedField_4ba0fcea5ec08161d27113f459a39042_r54321.h5\n",
      "2023-02-28 15:48:31,063 | INFO | Removing TsBox_b0acbf0553d453fa912535c7fd15522a_r54321.h5\n",
      "INFO:21cmFAST:Removing TsBox_b0acbf0553d453fa912535c7fd15522a_r54321.h5\n",
      "2023-02-28 15:48:31,066 | INFO | Removed 157 files from cache.\n",
      "INFO:21cmFAST:Removed 157 files from cache.\n"
     ]
    }
   ],
   "source": [
    "cache_tools.clear_cache()"
   ]
  },
  {
   "cell_type": "code",
   "execution_count": 40,
   "id": "99bc6b46-c20b-4de8-8a24-8003f659e0a9",
   "metadata": {},
   "outputs": [],
   "source": [
    "cosmo_params_EMF = dict(OMm=0.32, OMb=0.049, POWER_INDEX=0.96, SIGMA_8=0.83, hlittle=0.67)"
   ]
  },
  {
   "cell_type": "code",
   "execution_count": 41,
   "id": "8fc2f859-3bb5-4c74-bbd6-f57b4b6ced94",
   "metadata": {},
   "outputs": [
    {
     "name": "stdout",
     "output_type": "stream",
     "text": [
      "[43.69834103 41.5698486  39.54271295 37.61210757 35.77343578 34.02231979\n",
      " 32.35459028 30.76627646 29.25359663 27.81294917 26.44090397 25.13419426\n",
      " 23.88970882 22.70448459 21.57569961 20.50066629 19.47682504 18.50173813\n",
      " 17.57308394 16.68865137 15.84633464 15.04412822 14.28012212 13.55249726\n",
      " 12.8595212  12.199544   11.57099428 10.97237551 10.40226239  9.85929751\n",
      "  9.34218811  8.84970296  8.38066948  7.93397094  7.50854375  7.103375\n",
      "  6.7175      6.35        6.        ]\n"
     ]
    }
   ],
   "source": [
    "# initialize\n",
    "\n",
    "initial_conditions = p21c.initial_conditions(\n",
    "    user_params = p21c.UserParams(\n",
    "        HII_DIM=50, # [1]\n",
    "        BOX_LEN=50, # [p-Mpc]\n",
    "        N_THREADS=N_THREADS\n",
    "    ),\n",
    "    cosmo_params = p21c.CosmoParams(**cosmo_params_EMF),\n",
    "    random_seed=54321, write=True\n",
    ")\n",
    "\n",
    "# redshift\n",
    "p21c.global_params.ZPRIME_STEP_FACTOR = 1.05\n",
    "p21c.global_params.Z_HEAT_MAX = 44.\n",
    "z_arr = get_z_arr(z_end=6.)\n",
    "print(z_arr)\n",
    "\n",
    "# dark matter\n",
    "dm_params = DMParams(mode='swave', primary='mu', m_DM=1e10, sigmav=1e-26)"
   ]
  },
  {
   "cell_type": "code",
   "execution_count": 42,
   "id": "ee314dda-e19b-45cb-9bb6-df69a119d26a",
   "metadata": {},
   "outputs": [],
   "source": [
    "logging.getLogger('py21cmfast._utils').setLevel(logging.CRITICAL+1)\n",
    "logging.getLogger('py21cmfast.wrapper').setLevel(logging.CRITICAL+1)"
   ]
  },
  {
   "cell_type": "code",
   "execution_count": 43,
   "id": "6d1c6bac-9b21-42ee-8542-5e732bb1ed35",
   "metadata": {
    "tags": []
   },
   "outputs": [
    {
     "name": "stderr",
     "output_type": "stream",
     "text": [
      "  0%|          | 0/39 [00:00<?, ?it/s]2023-02-28 17:03:57,210 | WARNING | Not injecting anything in this run!\n",
      "WARNING:21cmFAST:Not injecting anything in this run!\n",
      "100%|██████████| 39/39 [00:14<00:00,  2.67it/s]"
     ]
    },
    {
     "name": "stdout",
     "output_type": "stream",
     "text": [
      "input used 6.0599 s\n",
      "p21c used 8.5071 s\n"
     ]
    },
    {
     "name": "stderr",
     "output_type": "stream",
     "text": [
      "\n"
     ]
    }
   ],
   "source": [
    "records = []\n",
    "i_slice = int(initial_conditions.user_params.HII_DIM/2)\n",
    "input_time_tot = 0.\n",
    "p21c_time_tot = 0.\n",
    "\n",
    "for i_z in tqdm(range(len(z_arr))):\n",
    "\n",
    "    z = z_arr[i_z]\n",
    "    \n",
    "    input_timer = time.time()\n",
    "    if i_z == 0:\n",
    "        spin_temp = None\n",
    "        input_heating = input_ionization = input_jalpha = None\n",
    "    \n",
    "    else: ## input from second step\n",
    "        \n",
    "        input_heating = p21c.input_heating(redshift=z, init_boxes=initial_conditions, write=False)\n",
    "        input_ionization = p21c.input_ionization(redshift=z, init_boxes=initial_conditions, write=False)\n",
    "        input_jalpha = p21c.input_jalpha(redshift=z, init_boxes=initial_conditions, write=False)\n",
    "\n",
    "        if run_mode == '':\n",
    "            if i_z == 1:\n",
    "                logger.warning('Not injecting anything in this run!')\n",
    "\n",
    "        elif run_mode == 'circle':\n",
    "            input_heating.input_heating += get_circle_seq_at(LOWRES_DIM, 3, i_z)\n",
    "            input_ionization.input_ionization += get_circle_seq_at(LOWRES_DIM, 5, 9-i_z) * 1e-3\n",
    "            input_jalpha.input_jalpha += get_circle_seq_at(LOWRES_DIM, 6, 35-i_z)\n",
    "\n",
    "        else:\n",
    "            z_prev = z_arr[i_z-1]\n",
    "            \n",
    "            input_boxs = get_input_boxs(\n",
    "                delta_box = perturbed_field.density, # [1]\n",
    "                x_e_box = 1 - ionized_box.xH_box, # [1]\n",
    "                z_prev = z_arr[i_z-1],\n",
    "                z = z,\n",
    "                dm_params = dm_params,\n",
    "                f_scheme = f_scheme,\n",
    "            )\n",
    "\n",
    "            input_heating.input_heating += input_boxs['heat'] * 1e3 # convert from [K] to [mK]\n",
    "            input_ionization.input_ionization += input_boxs['ion']\n",
    "            #input_jalpha.input_jalpha += input_boxs['exc']\n",
    "    input_time_tot += time.time() - input_timer\n",
    "\n",
    "    ## step in 21cmFAST\n",
    "    p21c_timer = time.time()\n",
    "    perturbed_field = p21c.perturb_field( # perturbed_field controls the redshift\n",
    "        redshift=z,\n",
    "        init_boxes=initial_conditions\n",
    "    )\n",
    "    spin_temp = p21c.spin_temperature(\n",
    "        perturbed_field=perturbed_field,\n",
    "        previous_spin_temp=spin_temp,\n",
    "        input_heating_box=input_heating,\n",
    "        input_ionization_box=input_ionization,\n",
    "        input_jalpha_box=input_jalpha,\n",
    "        write=True\n",
    "    )\n",
    "    ionized_box = p21c.ionize_box(\n",
    "        spin_temp=spin_temp\n",
    "    )\n",
    "    brightness_temp = p21c.brightness_temperature(\n",
    "        ionized_box=ionized_box,\n",
    "        perturbed_field=perturbed_field,\n",
    "        spin_temp=spin_temp\n",
    "    )\n",
    "    p21c_time_tot += time.time() - p21c_timer\n",
    "\n",
    "    ## save results\n",
    "    record = {\n",
    "        #'delta' : perturbed_field.density[i_slice],\n",
    "        #'T_s'   : spin_temp.Ts_box[i_slice],\n",
    "        'T_b'   : brightness_temp.brightness_temp#[i_slice], # [mK]\n",
    "        #'x_e'   : 1 - ionized_box.xH_box[i_slice],\n",
    "        #'heat'  : ( dE_inj_per_B_box * f_boxs['heat'] / dt )[i_slice], # [eV s^-1 per B] | dE/dt per B\n",
    "        #'ion'   : ( dE_inj_per_B_box * f_boxs['ion']  / dt )[i_slice], # [eV s^-1 per B] | dE/dt per B\n",
    "        #'exc'   : input_jalpha.input_jalpha[i_slice],\n",
    "    }\n",
    "    records.append(record.copy())\n",
    "    \n",
    "print(f'input used {input_time_tot:.4f} s')\n",
    "print(f'p21c used {p21c_time_tot:.4f} s')"
   ]
  },
  {
   "cell_type": "code",
   "execution_count": 44,
   "id": "ac53defd-d61c-45b6-b45e-dea81786a99e",
   "metadata": {},
   "outputs": [],
   "source": [
    "global_T_b_data = np.array([np.mean(record['T_b']) for record in records])\n",
    "np.save(f'../data/run_info/{RUN_NAME}_global_T_b.npy', global_T_b_data)"
   ]
  },
  {
   "cell_type": "code",
   "execution_count": null,
   "id": "c13f8cbc-f5eb-479f-8853-05dd30e9f973",
   "metadata": {},
   "outputs": [],
   "source": [
    "plot_data = np.array([np.quantile(record['T_b'], [0.18, 0.5, 0.82]) for record in records])\n",
    "np.save(f'../data/run_info/{RUN_NAME}_T_b.npy', plot_data)"
   ]
  },
  {
   "cell_type": "markdown",
   "id": "8dcc6028-2a2b-4023-a3a5-2ecb294cfa22",
   "metadata": {},
   "source": [
    "## 2. View"
   ]
  },
  {
   "cell_type": "code",
   "execution_count": null,
   "id": "1f3976c0-50c7-4739-a651-1f7e7d7ccd76",
   "metadata": {
    "tags": []
   },
   "outputs": [],
   "source": [
    "for i_z, z in enumerate(z_arr):\n",
    "    x = records[i_z]['T_b']\n",
    "    print(z, np.min(x), np.mean(x), np.max(x))"
   ]
  },
  {
   "cell_type": "markdown",
   "id": "dc2aa003-b7c4-40cc-8bfd-6b5e8d473325",
   "metadata": {},
   "source": [
    "### 2.1 $\\delta T_b$"
   ]
  },
  {
   "cell_type": "code",
   "execution_count": 17,
   "id": "319b723e-f2aa-471a-9a7a-3f0a278e48b1",
   "metadata": {},
   "outputs": [],
   "source": [
    "emf_mh3 = np.loadtxt('plots/EMF/mhmin1e-3.txt', unpack=True, skiprows=1)\n",
    "emf_mh6 = np.loadtxt('plots/EMF/mhmin1e-6.txt', unpack=True, skiprows=1)\n",
    "emf_mh9 = np.loadtxt('plots/EMF/mhmin1e-9.txt', unpack=True, skiprows=1)\n",
    "emf_base = np.loadtxt('plots/EMF/base.txt', unpack=True, skiprows=1)"
   ]
  },
  {
   "cell_type": "code",
   "execution_count": 46,
   "id": "a98790c1-31b6-4660-96ca-fa3fd53a0a9c",
   "metadata": {},
   "outputs": [
    {
     "data": {
      "image/png": "[encoded data removed]",
      "text/plain": [
       "<Figure size 840x840 with 1 Axes>"
      ]
     },
     "metadata": {},
     "output_type": "display_data"
    }
   ],
   "source": [
    "plot_data_base = np.load('../data/run_info/emf_comp_base_global_T_b.npy')\n",
    "plot_data_base_large = np.load('../data/run_info/emf_comp_base_large_global_T_b.npy')\n",
    "plot_data_dh   = np.load('../data/run_info/emf_comp_dh_global_T_b.npy')\n",
    "plot_data_ck   = np.load('../data/run_info/emf_comp_ck_global_T_b.npy')\n",
    "plot_data_evfy = np.load('../data/run_info/emf_comp_evfy_global_T_b.npy')\n",
    "\n",
    "fig, ax = plt.subplots(figsize=(7,7))\n",
    "ax.plot(z_arr, plot_data_base, label='No injection', color='k')\n",
    "#ax.fill_between(z_arr, plot_data_base[:,0], plot_data_base[:,2], alpha=0.5)\n",
    "ax.plot(z_arr, plot_data_base_large, ':', label=r'No injection (100$^3$ box)', color='gray')\n",
    "ax.plot(z_arr, plot_data_dh, label=r'DarkHistory $f$*, $10^{-3}M_\\odot$', color='blue')\n",
    "#ax.fill_between(z_arr, plot_data_inj[:,0], plot_data_inj[:,2], alpha=0.5)\n",
    "ax.plot(z_arr, plot_data_ck, label=r'Chen Kamionkowski $f$, $10^{-3}M_\\odot$', color='C2')\n",
    "ax.plot(z_arr, plot_data_evfy, label=r'EVFY $f$*, $10^{-3}M_\\odot$', color='C3')\n",
    "\n",
    "ax.set(title=r'Global $\\delta T_b$',\n",
    "       xlabel=r'$z$', ylabel=r'$\\delta T_b$ [mK]')\n",
    "ax.set(xlim=(6, 44), ylim=(-250, 50), aspect=1/10)\n",
    "\n",
    "ax.plot(emf_base[0], emf_base[1], '--', color='gray',\n",
    "        label='EMF No injection')\n",
    "ax.plot(emf_mh3[0], emf_mh3[1], '--', color=np.array([249, 1, 249])/255,\n",
    "        label=r'EMF $M_\\mathrm{h,min}=10^{-3}M_\\odot$')\n",
    "ax.plot(emf_mh6[0], emf_mh6[1], '--', color=np.array([255, 0, 0])/255,\n",
    "        label=r'EMF $M_\\mathrm{h,min}=10^{-6}M_\\odot$')\n",
    "ax.plot(emf_mh9[0], emf_mh9[1], '--', color=np.array([255, 165, 0])/255,\n",
    "        label=r'EMF $M_\\mathrm{h,min}=10^{-9}M_\\odot$')\n",
    "\n",
    "ax.text(30, -100, r'$\\chi\\chi\\rightarrow\\mu\\mu$' + '\\n' + \\\n",
    "                 r'$m_\\mathrm{DM}=$10~GeV' + '\\n' + \\\n",
    "                 r'$\\langle\\sigma v\\rangle=10^{-26}\\mathrm{cm}^3/\\mathrm{s}$', fontsize=12)\n",
    "\n",
    "ax.legend(fontsize=10);"
   ]
  },
  {
   "cell_type": "markdown",
   "id": "407457d0-d942-4119-bed0-395561f12d05",
   "metadata": {},
   "source": [
    "### 2.2 slices"
   ]
  },
  {
   "cell_type": "code",
   "execution_count": 20,
   "id": "6e8311ac-5ba8-47ea-8b0b-711919ad4ff8",
   "metadata": {},
   "outputs": [],
   "source": [
    "! rm plots/tmp/*"
   ]
  },
  {
   "cell_type": "code",
   "execution_count": 23,
   "id": "3cd86a7f-c885-46e9-b8d5-3891771a04ef",
   "metadata": {
    "tags": []
   },
   "outputs": [
    {
     "name": "stderr",
     "output_type": "stream",
     "text": [
      "100%|██████████| 37/37 [00:34<00:00,  1.08it/s]\n"
     ]
    }
   ],
   "source": [
    "title={\n",
    "    'delta' : r'$\\delta_\\mathrm{DM/B}$',\n",
    "    'T_s'   : r'$T_\\mathrm{spin}$ [mK]',\n",
    "    'x_e'   : r'$x_e$',\n",
    "    'heat'  : r'$\\epsilon_\\mathrm{heat}$ [eV s$^{-1}$ per B]',\n",
    "    'heat_dT' : r'heat $\\Delta T$',\n",
    "    'ion'   : r'$\\epsilon_\\mathrm{ion}$ [eV s$^{-1}$ per B]',\n",
    "    'exc'   : r'$\\epsilon_\\mathrm{exc}$',\n",
    "    'T_b'   : r'$T_b$ [mK]',\n",
    "}\n",
    "vrange={\n",
    "    'delta' : (-0.25, 0.75),\n",
    "    'T_s'   : (60., 100.),\n",
    "    'x_e'   : (0., 0.002),\n",
    "    'heat'  : (0., 7e-18),\n",
    "    'heat_dT' : (0, 40),\n",
    "    'ion'   : (0., 7e-18),\n",
    "    'exc'   : (0., 1.),\n",
    "    'T_b'   : (-20., 0.)\n",
    "}\n",
    "\n",
    "for i_z, record in enumerate(tqdm(records)):\n",
    "\n",
    "    n_col = len(record.items())\n",
    "    fig, axs = plt.subplots(1, n_col, figsize=(3*n_col, 4))\n",
    "    for i, (k, x) in enumerate(record.items()):\n",
    "        im = axs[i].imshow(x, vmin=vrange[k][0], vmax=vrange[k][1])\n",
    "        axs[i].set(title=title[k], xticks=[], yticks=[])\n",
    "        axs[i].text(28, 47, f'z={z_arr[i_z]:.3f}', color='w')\n",
    "        fig.colorbar(im, ax=axs[i], orientation='horizontal', shrink=0.9)\n",
    "    fig.savefig(f'plots/tmp/{i_z}.png')\n",
    "    plt.close()"
   ]
  },
  {
   "cell_type": "code",
   "execution_count": 24,
   "id": "9461804a-aad6-45be-b5e0-1dc2b9198c84",
   "metadata": {},
   "outputs": [],
   "source": [
    "import glob\n",
    "import contextlib\n",
    "from PIL import Image\n",
    "\n",
    "# filepaths\n",
    "fp_in = \"plots/tmp/*.png\"\n",
    "fp_out = \"plots/DH.gif\"\n",
    "\n",
    "# use exit stack to automatically close opened images\n",
    "flist = glob.glob(fp_in)\n",
    "with contextlib.ExitStack() as stack:\n",
    "    imgs = (stack.enter_context(Image.open(f))\n",
    "            for f in sorted(flist, key=lambda x: int(os.path.basename(x).split('.')[0])))\n",
    "    # extract  first image from iterator\n",
    "    durations = np.full(len(flist), 500)\n",
    "    durations[-1] = 1500\n",
    "    img = next(imgs)\n",
    "\n",
    "    # https://pillow.readthedocs.io/en/stable/handbook/image-file-formats.html#gif\n",
    "    img.save(fp=fp_out, format='GIF', append_images=imgs,\n",
    "             save_all=True, duration=list(durations), loop=0)"
   ]
  },
  {
   "cell_type": "markdown",
   "id": "7516772f-c264-42a7-a3cf-1d75f98942ed",
   "metadata": {},
   "source": [
    "### 2.3 lightcone"
   ]
  },
  {
   "cell_type": "code",
   "execution_count": null,
   "id": "b0caf293-83ad-4213-b852-46d8fb7f4080",
   "metadata": {},
   "outputs": [],
   "source": [
    "p21c.run_lightcone(redshift=5)"
   ]
  },
  {
   "cell_type": "markdown",
   "id": "4c8f5619-ed04-4b38-a722-edebfebf1656",
   "metadata": {},
   "source": [
    "# Archive"
   ]
  },
  {
   "cell_type": "markdown",
   "id": "9e0c8bb7-bcbd-446f-977d-cff085645673",
   "metadata": {},
   "source": [
    "## A. Some uniform calculation for scale"
   ]
  },
  {
   "cell_type": "code",
   "execution_count": 25,
   "id": "40e41d4a-588f-469f-aa5f-0c9b3d63fe17",
   "metadata": {},
   "outputs": [],
   "source": [
    "swave_process = dict(\n",
    "    mode = 'swave',\n",
    "    mDM = 2e6, # [eV]\n",
    "    sigmav = 1e-26, # [cm^3 s^-1]\n",
    ")\n",
    "decay_process = dict(\n",
    "    mode = 'decay',\n",
    "    mDM = 4e6, # [eV]\n",
    "    lifetime = 3e25, # [s]\n",
    ")\n",
    "process = swave_process"
   ]
  },
  {
   "cell_type": "markdown",
   "id": "91af0e64-fdd2-4161-ad0b-a98749743699",
   "metadata": {},
   "source": [
    "$$\\mathcal{E}^{inj}=\\frac{1}{n_B}\\frac{dE}{dtdV}=(1+z)^3\\frac{\\Omega_{DM}^2}{\\Omega_B}\\rho_c(1+B(z))m_pc^2\\frac{\\langle\\sigma v\\rangle}{m_{DM}}$$"
   ]
  },
  {
   "cell_type": "code",
   "execution_count": 26,
   "id": "229698a6-11f4-4cfd-be9d-f8e561b18354",
   "metadata": {},
   "outputs": [
    {
     "name": "stdout",
     "output_type": "stream",
     "text": [
      "E_inj = (1+z)^3 (1+B) * 3.1821e-20 eV / s\n"
     ]
    }
   ],
   "source": [
    "E_inj = phys.omega_DM**2 / phys.omega_baryon * phys.rho_crit * phys.m_p * process['sigmav'] / process['mDM']\n",
    "print(f\"E_inj = (1+z)^3 (1+B) * {E_inj:.4e} eV / s\")"
   ]
  },
  {
   "cell_type": "markdown",
   "id": "fde47677-07e0-434b-bf68-80db1e969f16",
   "metadata": {},
   "source": [
    "$$\\epsilon^{DM}_{heat}=f_{heat}\\mathcal{E}^{inj}$$"
   ]
  },
  {
   "cell_type": "code",
   "execution_count": 27,
   "id": "b29243b6-624e-431b-ad34-3113f704406b",
   "metadata": {},
   "outputs": [
    {
     "name": "stderr",
     "output_type": "stream",
     "text": [
      "WARNING:jax._src.lib.xla_bridge:No GPU/TPU found, falling back to CPU. (Set TF_CPP_MIN_LOG_LEVEL=0 and rerun for more info.)\n"
     ]
    },
    {
     "name": "stdout",
     "output_type": "stream",
     "text": [
      "e_DM_heat = (1+B) * 1.1110e-19 eV / s\n"
     ]
    }
   ],
   "source": [
    "z_high, z_low = 34.91712652, 33.20678716\n",
    "delta_B = jnp.array([0.])\n",
    "x_e = jnp.array([0.1])\n",
    "f_boxs = get_DH_f_boxs(delta_B, x_e, z=z_high, **process)\n",
    "\n",
    "eDMheat = (1+z_high)**3 * f_boxs['heat'].flatten()[0] * E_inj\n",
    "print(f\"e_DM_heat = (1+B) * {eDMheat:.4e} eV / s\")"
   ]
  },
  {
   "cell_type": "markdown",
   "id": "cfd16115-71d4-4d89-a2ab-9aed92cf522d",
   "metadata": {},
   "source": [
    "$$\\Delta T=\\frac{2}{3k_B(1+x_e)}\\,\\Delta t\\,\\epsilon^{DM}_{heat}$$"
   ]
  },
  {
   "cell_type": "code",
   "execution_count": 28,
   "id": "ed5a8593-9b4d-4f50-834e-6a439f03274b",
   "metadata": {},
   "outputs": [
    {
     "name": "stdout",
     "output_type": "stream",
     "text": [
      "dT = (1+B) * 149.2254 mK\n"
     ]
    }
   ],
   "source": [
    "dT =  2 / (3*phys.kB) * phys.dt_between_z(z_high, z_low) * eDMheat / (1+x_e[0])\n",
    "print(f\"dT = (1+B) * {1000*dT:.4f} mK\")"
   ]
  },
  {
   "cell_type": "markdown",
   "id": "18adb354-4b5d-4f46-b1b6-97f331457a18",
   "metadata": {},
   "source": [
    "## B. Plotting"
   ]
  },
  {
   "cell_type": "code",
   "execution_count": 10,
   "id": "4961844b-d27a-4363-a494-4195d738affc",
   "metadata": {},
   "outputs": [
    {
     "data": {
      "text/plain": [
       "[Text(0.5, 1.0, 'input ionization'), [], []]"
      ]
     },
     "execution_count": 10,
     "metadata": {},
     "output_type": "execute_result"
    },
    {
     "data": {
      "image/png": "[encoded data removed]",
      "text/plain": [
       "<Figure size 960x480 with 2 Axes>"
      ]
     },
     "metadata": {},
     "output_type": "display_data"
    }
   ],
   "source": [
    "fig, axs = plt.subplots(1, 2, figsize=(8,4))\n",
    "im0 = axs[0].imshow(input_heating.input_heating[25])\n",
    "im1 = axs[1].imshow(input_ionization.input_ionization[25])\n",
    "\n",
    "axs[0].set(title=r'input heating', xticks=[], yticks=[])\n",
    "axs[1].set(title=r'input ionization', xticks=[], yticks=[])\n",
    "\n",
    "#fig.colorbar(im0, ax=axs[0], orientation='horizontal')\n",
    "#fig.colorbar(im1, ax=axs[1], orientation='horizontal')"
   ]
  },
  {
   "cell_type": "code",
   "execution_count": 11,
   "id": "8e484af3-5a77-489c-a7d7-6fa3e025d3a5",
   "metadata": {},
   "outputs": [
    {
     "data": {
      "text/plain": [
       "<matplotlib.colorbar.Colorbar at 0x7f3c9c79e190>"
      ]
     },
     "execution_count": 11,
     "metadata": {},
     "output_type": "execute_result"
    },
    {
     "data": {
      "image/png": "[encoded data removed]",
      "text/plain": [
       "<Figure size 1200x600 with 4 Axes>"
      ]
     },
     "metadata": {},
     "output_type": "display_data"
    }
   ],
   "source": [
    "fig, axs = plt.subplots(1, 2, figsize=(10,5))\n",
    "im0 = axs[0].imshow(spin_temp.Tk_box[25])\n",
    "im1 = axs[1].imshow(spin_temp.x_e_box[25])\n",
    "\n",
    "axs[0].set(title='spin_temp.Tk_box', xticks=[], yticks=[])\n",
    "axs[1].set(title='spin_temp.x_e_box', xticks=[], yticks=[])\n",
    "\n",
    "fig.colorbar(im0, ax=axs[0], orientation='horizontal')\n",
    "fig.colorbar(im1, ax=axs[1], orientation='horizontal')"
   ]
  },
  {
   "cell_type": "code",
   "execution_count": null,
   "id": "06961485-d216-40f9-9212-adccd830a5f2",
   "metadata": {},
   "outputs": [],
   "source": []
  }
 ],
 "metadata": {
  "kernelspec": {
   "display_name": "21cmfast",
   "language": "python",
   "name": "21cmfast"
  },
  "language_info": {
   "codemirror_mode": {
    "name": "ipython",
    "version": 3
   },
   "file_extension": ".py",
   "mimetype": "text/x-python",
   "name": "python",
   "nbconvert_exporter": "python",
   "pygments_lexer": "ipython3",
   "version": "3.7.12"
  }
 },
 "nbformat": 4,
 "nbformat_minor": 5
}
