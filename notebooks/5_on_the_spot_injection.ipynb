{
 "cells": [
  {
   "cell_type": "code",
   "execution_count": 1,
   "id": "52e0af78-f6a3-4e65-84c2-7e5b9da13767",
   "metadata": {},
   "outputs": [],
   "source": [
    "%reload_ext autoreload\n",
    "%autoreload 2\n",
    "\n",
    "import os, sys\n",
    "\n",
    "import numpy as np\n",
    "from tqdm import tqdm\n",
    "\n",
    "%matplotlib inline\n",
    "import matplotlib as mpl\n",
    "import matplotlib.pyplot as plt\n",
    "mpl.rc_file('../matplotlibrc')"
   ]
  },
  {
   "cell_type": "code",
   "execution_count": 2,
   "id": "46290c90-b455-403a-9a45-d56f8bbd9edb",
   "metadata": {},
   "outputs": [
    {
     "name": "stderr",
     "output_type": "stream",
     "text": [
      "/work/submit/yitians/anaconda3/envs/21cmfast/lib/python3.7/site-packages/py21cmfast/_cfg.py:59: UserWarning: Your configuration file is out of date. Updating...\n",
      "  \"Your configuration file is out of date. Updating...\"\n",
      "/work/submit/yitians/anaconda3/envs/21cmfast/lib/python3.7/site-packages/py21cmfast/_cfg.py:42: UserWarning: Your configuration file is out of date. Updating...\n",
      "  warnings.warn(\"Your configuration file is out of date. Updating...\")\n"
     ]
    },
    {
     "name": "stdout",
     "output_type": "stream",
     "text": [
      "Using 21cmFAST version 0.1.dev1578+g6f96f89.d20230224\n"
     ]
    }
   ],
   "source": [
    "# 21cmFAST\n",
    "import logging\n",
    "logger = logging.getLogger('21cmFAST')\n",
    "logger.setLevel(logging.INFO)\n",
    "\n",
    "import py21cmfast as p21c\n",
    "from py21cmfast import plotting, cache_tools\n",
    "\n",
    "print(f'Using 21cmFAST version {p21c.__version__}')"
   ]
  },
  {
   "cell_type": "code",
   "execution_count": 3,
   "id": "fc7f8f97-6ea8-42f3-b995-f49e9febadb6",
   "metadata": {},
   "outputs": [
    {
     "name": "stdout",
     "output_type": "stream",
     "text": [
      "CPU(s):                48\n",
      "On-line CPU(s) list:   0-47\n",
      "NUMA node0 CPU(s):     0,2,4,6,8,10,12,14,16,18,20,22,24,26,28,30,32,34,36,38,40,42,44,46\n",
      "NUMA node1 CPU(s):     1,3,5,7,9,11,13,15,17,19,21,23,25,27,29,31,33,35,37,39,41,43,45,47\n"
     ]
    }
   ],
   "source": [
    "! lscpu | grep \"CPU(s)\""
   ]
  },
  {
   "cell_type": "code",
   "execution_count": 4,
   "id": "5cebea34-c83e-4185-90b3-66fd3667ad93",
   "metadata": {},
   "outputs": [
    {
     "name": "stderr",
     "output_type": "stream",
     "text": [
      "/work/submit/yitians/anaconda3/envs/21cmfast/lib/python3.7/site-packages/py21cmfast/inputs.py:488: UserWarning: The USE_INTERPOLATION_TABLES setting has changed in v3.1.2 to be default True. You can likely ignore this warning, but if you relied onhaving USE_INTERPOLATION_TABLES=False by *default*, please set it explicitly. To silence this warning, set it explicitly to True. Thiswarning will be removed in v4.\n",
      "  \"The USE_INTERPOLATION_TABLES setting has changed in v3.1.2 to be \"\n"
     ]
    },
    {
     "data": {
      "text/plain": [
       "UserParams(BOX_LEN:300, DIM:600, FAST_FCOLL_TABLES:False, HII_DIM:200, HMF:1, MINIMIZE_MEMORY:False, NO_RNG:False, N_THREADS:32, PERTURB_ON_HIGH_RES:False, POWER_SPECTRUM:0, USE_2LPT:True, USE_FFTW_WISDOM:False, USE_INTERPOLATION_TABLES:True, USE_RELATIVE_VELOCITIES:False)"
      ]
     },
     "execution_count": 4,
     "metadata": {},
     "output_type": "execute_result"
    }
   ],
   "source": [
    "p21c.UserParams(N_THREADS=32)"
   ]
  },
  {
   "cell_type": "code",
   "execution_count": 5,
   "id": "d3280d4c-2393-4985-8042-f5e9cb8dc63e",
   "metadata": {},
   "outputs": [],
   "source": [
    "# darkhistory and dm21cm\n",
    "import jax.numpy as jnp\n",
    "\n",
    "if os.environ['USER'] == 'yitians' and 'submit' in os.uname().nodename:\n",
    "    os.environ['DM21CM_DATA_DIR'] = '/data/submit/yitians/DM21cm'\n",
    "    os.environ['DH_DIR'] = '/work/submit/yitians/darkhistory/DarkHistory'\n",
    "\n",
    "sys.path.append('..')\n",
    "sys.path.append(os.environ['DH_DIR'])\n",
    "    \n",
    "from darkhistory.spec.spectrum import Spectrum\n",
    "import darkhistory.spec.spectools as spectools\n",
    "\n",
    "import dm21cm.physics as phys\n",
    "from dm21cm.common import abscs_nBs_test_2 as abscs\n",
    "from dm21cm.interpolators import BatchInterpolator"
   ]
  },
  {
   "cell_type": "markdown",
   "id": "97afdadd-bc81-4862-bdff-45cb4f4be00c",
   "metadata": {},
   "source": [
    "## 1. Injection"
   ]
  },
  {
   "cell_type": "markdown",
   "id": "f06c3569-3072-42c3-80cc-46c2a8ba6772",
   "metadata": {},
   "source": [
    "### 1.1 Evoli Messinger Ferrara"
   ]
  },
  {
   "cell_type": "code",
   "execution_count": 6,
   "id": "c342f0b9-3f7c-4521-b8e6-d8e9f3974c38",
   "metadata": {},
   "outputs": [],
   "source": [
    "def get_EMF_f_boxs(delta_B_box, x_e_box):\n",
    "    \n",
    "    return {\n",
    "        'heat' : (1 + 2 * x_e_box) / 3,\n",
    "        'ion'  : (1 - x_e_box) / 3,\n",
    "        'exc'  : (1 - x_e_box) / 3,\n",
    "    }"
   ]
  },
  {
   "cell_type": "markdown",
   "id": "5f158015-a6f2-4d4b-94bb-d5e4c811edca",
   "metadata": {},
   "source": [
    "### 1.2 DarkHistory"
   ]
  },
  {
   "cell_type": "code",
   "execution_count": 7,
   "id": "5d9751fa-423c-4d7e-b3e4-473ce644eaf5",
   "metadata": {},
   "outputs": [],
   "source": [
    "dep_interp = BatchInterpolator(os.environ['DM21CM_DATA_DIR'] + '/transferfunctions/nBs_test_2/phot_dep_dlnz4.879E-2_renxo_ad.p')"
   ]
  },
  {
   "cell_type": "code",
   "execution_count": 8,
   "id": "d8fc0407-cac2-45ce-bf88-fae48e3d39c0",
   "metadata": {},
   "outputs": [],
   "source": [
    "def get_DH_f_boxs(delta_B_box, x_e_box, z=None, **process):\n",
    "    \n",
    "    # add check shape\n",
    "    DIM = delta_B_box.shape[0]\n",
    "    \n",
    "    nBs_box = jnp.clip(jnp.array(1 + delta_B_box), 0, 15)\n",
    "    nBs_in = nBs_box.flatten()\n",
    "    x_box = jnp.array(x_e_box)\n",
    "    x_in = x_box.flatten()\n",
    "    \n",
    "    spec = spectools.rebin_N_arr(np.array([1]), np.array([process['mDM']]), out_eng=abscs['photE'])\n",
    "    spec_E = jnp.array(spec.N * spec.eng)\n",
    "    spec_E /= jnp.sum(spec_E)\n",
    "    f_boxs = dep_interp(1+z, spec.N, nBs_in, x_in, out_of_bounds_action='clip').reshape(DIM, DIM, DIM, 5) / spec.toteng()\n",
    "    \n",
    "    out_absc = np.array(dep_interp.abscs['out'])\n",
    "    \n",
    "    return {\n",
    "        'heat' : f_boxs[:,:,:, np.where(out_absc=='heat')[0][0]  ],\n",
    "        'ion'  : f_boxs[:,:,:, np.where(out_absc=='H ion')[0][0] ] + f_boxs[:,:,:, np.where(out_absc=='He ion')[0][0] ],\n",
    "        'exc'  : f_boxs[:,:,:, np.where(out_absc=='exc')[0][0]   ],\n",
    "    }"
   ]
  },
  {
   "cell_type": "markdown",
   "id": "57704a4e-4f84-40a1-9e99-955ece15e94a",
   "metadata": {},
   "source": [
    "## 2. Run"
   ]
  },
  {
   "cell_type": "code",
   "execution_count": 9,
   "id": "d89a9ff3-7fea-457b-a5f5-1f5a1907d98c",
   "metadata": {},
   "outputs": [],
   "source": [
    "def get_z_arr(z_start=p21c.global_params.Z_HEAT_MAX, z_end=20):\n",
    "    \n",
    "    z_arr = [z_end]\n",
    "    while np.max(z_arr) < z_start:\n",
    "        z_prev = (1 + np.max(z_arr)) * p21c.global_params.ZPRIME_STEP_FACTOR - 1\n",
    "        z_arr.append(z_prev)\n",
    "    return np.array(z_arr[::-1][1:])"
   ]
  },
  {
   "cell_type": "code",
   "execution_count": 10,
   "id": "a8f23f00-a863-45b8-bd2e-0ae3ed2006aa",
   "metadata": {},
   "outputs": [
    {
     "data": {
      "text/plain": [
       "['dh', 'baseline']"
      ]
     },
     "execution_count": 10,
     "metadata": {},
     "output_type": "execute_result"
    }
   ],
   "source": [
    "# cached runs\n",
    "CACHE_DIR_BASE = '/scratch/submit/ctp/yitians/21cmFAST-cache'\n",
    "os.listdir(CACHE_DIR_BASE)"
   ]
  },
  {
   "cell_type": "code",
   "execution_count": 11,
   "id": "7e9e1e6b-58d4-4880-9bd4-2d861ce5d0e2",
   "metadata": {},
   "outputs": [],
   "source": [
    "# config\n",
    "RUN_NAME = 'dh'\n",
    "run_mode = 'dh'\n",
    "\n",
    "p21c.config['direc'] = f'/scratch/submit/ctp/yitians/21cmFAST-cache/{RUN_NAME}'\n",
    "os.makedirs(p21c.config['direc'], exist_ok=True)"
   ]
  },
  {
   "cell_type": "code",
   "execution_count": 12,
   "id": "38cb4391-a722-4ddc-8572-8ec55884bbb0",
   "metadata": {
    "collapsed": true,
    "jupyter": {
     "outputs_hidden": true
    },
    "tags": []
   },
   "outputs": [
    {
     "name": "stderr",
     "output_type": "stream",
     "text": [
      "2023-02-24 17:01:37,918 | INFO | Removing PerturbedField_e106c447f47e75899b437147919d952c_r54321.h5\n",
      "INFO:21cmFAST:Removing PerturbedField_e106c447f47e75899b437147919d952c_r54321.h5\n",
      "2023-02-24 17:01:37,931 | INFO | Removing IonizedBox_adb5c3d48f8109ed3b0e5672bfa99f39_r54321.h5\n",
      "INFO:21cmFAST:Removing IonizedBox_adb5c3d48f8109ed3b0e5672bfa99f39_r54321.h5\n",
      "2023-02-24 17:01:37,939 | INFO | Removing PerturbedField_38b26297c169f2a26284f18ad7cb84fb_r54321.h5\n",
      "INFO:21cmFAST:Removing PerturbedField_38b26297c169f2a26284f18ad7cb84fb_r54321.h5\n",
      "2023-02-24 17:01:37,946 | INFO | Removing PerturbedField_2dcc5127e17837a28a5440697fa9cde9_r54321.h5\n",
      "INFO:21cmFAST:Removing PerturbedField_2dcc5127e17837a28a5440697fa9cde9_r54321.h5\n",
      "2023-02-24 17:01:37,956 | INFO | Removing TsBox_7dd41ebce8bc50c0abfe1af65508900a_r54321.h5\n",
      "INFO:21cmFAST:Removing TsBox_7dd41ebce8bc50c0abfe1af65508900a_r54321.h5\n",
      "2023-02-24 17:01:37,966 | INFO | Removing TsBox_d54a033147b859a7962202168f492db2_r54321.h5\n",
      "INFO:21cmFAST:Removing TsBox_d54a033147b859a7962202168f492db2_r54321.h5\n",
      "2023-02-24 17:01:37,975 | INFO | Removing BrightnessTemp_9f8d7a0025721f09cfe215dbebfe8836_r54321.h5\n",
      "INFO:21cmFAST:Removing BrightnessTemp_9f8d7a0025721f09cfe215dbebfe8836_r54321.h5\n",
      "2023-02-24 17:01:37,984 | INFO | Removing TsBox_72d089ec60bb4e91858ca272f937bd02_r54321.h5\n",
      "INFO:21cmFAST:Removing TsBox_72d089ec60bb4e91858ca272f937bd02_r54321.h5\n",
      "2023-02-24 17:01:37,993 | INFO | Removing IonizedBox_e2f8adb9b90f0db86895a668e95a5fe8_r54321.h5\n",
      "INFO:21cmFAST:Removing IonizedBox_e2f8adb9b90f0db86895a668e95a5fe8_r54321.h5\n",
      "2023-02-24 17:01:38,002 | INFO | Removing BrightnessTemp_6a2732b7bfb3cfc8837ed7a770f78571_r54321.h5\n",
      "INFO:21cmFAST:Removing BrightnessTemp_6a2732b7bfb3cfc8837ed7a770f78571_r54321.h5\n",
      "2023-02-24 17:01:38,010 | INFO | Removing TsBox_2540ff095bca771e43b266cce3f17f3f_r54321.h5\n",
      "INFO:21cmFAST:Removing TsBox_2540ff095bca771e43b266cce3f17f3f_r54321.h5\n",
      "2023-02-24 17:01:38,016 | INFO | Removing PerturbedField_9dd525a45097c4f01b2ee65d9a398428_r54321.h5\n",
      "INFO:21cmFAST:Removing PerturbedField_9dd525a45097c4f01b2ee65d9a398428_r54321.h5\n",
      "2023-02-24 17:01:38,023 | INFO | Removing BrightnessTemp_bc1af221104a89bbe81f883b84c0fa93_r54321.h5\n",
      "INFO:21cmFAST:Removing BrightnessTemp_bc1af221104a89bbe81f883b84c0fa93_r54321.h5\n",
      "2023-02-24 17:01:38,031 | INFO | Removing IonizedBox_cb4db22b4bf6dd4f29d39672e86a5258_r54321.h5\n",
      "INFO:21cmFAST:Removing IonizedBox_cb4db22b4bf6dd4f29d39672e86a5258_r54321.h5\n",
      "2023-02-24 17:01:38,040 | INFO | Removing IonizedBox_edb9ddeb73589d6d033d8ab07b590265_r54321.h5\n",
      "INFO:21cmFAST:Removing IonizedBox_edb9ddeb73589d6d033d8ab07b590265_r54321.h5\n",
      "2023-02-24 17:01:38,046 | INFO | Removing InitialConditions_2eda6b944366038a89d6590f0449374d_r54321.h5\n",
      "INFO:21cmFAST:Removing InitialConditions_2eda6b944366038a89d6590f0449374d_r54321.h5\n",
      "2023-02-24 17:01:38,090 | INFO | Removing PerturbedField_145d48106bc3de62b0e9c0106f1d6cb9_r54321.h5\n",
      "INFO:21cmFAST:Removing PerturbedField_145d48106bc3de62b0e9c0106f1d6cb9_r54321.h5\n",
      "2023-02-24 17:01:38,098 | INFO | Removing BrightnessTemp_b183f514b82d1ce232c137da41eaa9a6_r54321.h5\n",
      "INFO:21cmFAST:Removing BrightnessTemp_b183f514b82d1ce232c137da41eaa9a6_r54321.h5\n",
      "2023-02-24 17:01:38,101 | INFO | Removed 18 files from cache.\n",
      "INFO:21cmFAST:Removed 18 files from cache.\n"
     ]
    }
   ],
   "source": [
    "cache_tools.clear_cache()"
   ]
  },
  {
   "cell_type": "code",
   "execution_count": 13,
   "id": "8fc2f859-3bb5-4c74-bbd6-f57b4b6ced94",
   "metadata": {},
   "outputs": [
    {
     "name": "stdout",
     "output_type": "stream",
     "text": [
      "redshift\n",
      "[33.75089682 32.09609221 30.52008781 29.01913125 27.58964881 26.22823696\n",
      " 24.93165425 23.69681357 22.52077483 21.40073793 20.33403613 19.31812965\n",
      " 18.35059966 17.42914254 16.55156432 15.71577554 14.91978623 14.16170117\n",
      " 13.4397154  12.75210991 12.09724753 11.47356908 10.8795896  10.31389485\n",
      "  9.77513796  9.26203615  8.77336776  8.3079693   7.86473266  7.44260254\n",
      "  7.04057384  6.65768938  6.2930375   5.94575     5.615       5.3\n",
      "  5.        ]\n"
     ]
    }
   ],
   "source": [
    "# initialize\n",
    "BOX_CF_LEN = 50 # [Mpc]\n",
    "LOWRES_DIM = 50 # [1]\n",
    "VOXEL_SIDE_CF_LENGTH = BOX_CF_LEN / LOWRES_DIM # [Mpc]\n",
    "\n",
    "initial_conditions = p21c.initial_conditions(\n",
    "    user_params = {\"HII_DIM\": LOWRES_DIM, \"BOX_LEN\": BOX_CF_LEN},\n",
    "    cosmo_params = p21c.CosmoParams(SIGMA_8=0.8),\n",
    "    random_seed=54321, write=True\n",
    ")\n",
    "\n",
    "# redshift\n",
    "# in DarkHistory: rs = 1 + z\n",
    "p21c.global_params.ZPRIME_STEP_FACTOR = 1.05\n",
    "z_arr = get_z_arr(z_end=5)\n",
    "print('redshift')\n",
    "print(z_arr)\n",
    "\n",
    "# dark matter\n",
    "swave_process = dict(\n",
    "    mode = 'swave',\n",
    "    mDM = 2e6, # [eV]\n",
    "    sigmav = 1e-26, # [cm^-3 s^-1]\n",
    ")\n",
    "decay_process = dict(\n",
    "    mode = 'decay',\n",
    "    mDM = 1e6, # [eV]\n",
    "    lifetime = 3e25, # [s]\n",
    ")\n",
    "process = swave_process"
   ]
  },
  {
   "cell_type": "code",
   "execution_count": 16,
   "id": "ee314dda-e19b-45cb-9bb6-df69a119d26a",
   "metadata": {},
   "outputs": [],
   "source": [
    "logging.getLogger('py21cmfast._utils').setLevel(logging.CRITICAL+1)\n",
    "logging.getLogger('py21cmfast.wrapper').setLevel(logging.CRITICAL+1)"
   ]
  },
  {
   "cell_type": "code",
   "execution_count": 20,
   "id": "6d1c6bac-9b21-42ee-8542-5e732bb1ed35",
   "metadata": {
    "tags": []
   },
   "outputs": [
    {
     "name": "stderr",
     "output_type": "stream",
     "text": [
      "100%|██████████| 36/36 [00:11<00:00,  3.21it/s]\n",
      "100%|██████████| 36/36 [00:02<00:00, 11.91it/s]"
     ]
    }
   ],
   "source": [
    "records = []\n",
    "record = {}\n",
    "i_slice = int(LOWRES_DIM/2)\n",
    "\n",
    "# first step special case\n",
    "i_z = 0\n",
    "z = z_arr[i_z]\n",
    "\n",
    "#print(f'i_z={i_z} 1+z={1+z:.3f}')\n",
    "\n",
    "# perturbed_field to control redshift\n",
    "perturbed_field = p21c.perturb_field(redshift=z, init_boxes=initial_conditions)\n",
    "spin_temp = p21c.spin_temperature(\n",
    "    perturbed_field=perturbed_field,\n",
    "    previous_spin_temp=None,\n",
    "    write=True\n",
    ")\n",
    "ionized_box = p21c.ionize_box(spin_temp=spin_temp)\n",
    "brightness_temp = p21c.brightness_temperature(ionized_box=ionized_box,\n",
    "                                              perturbed_field=perturbed_field,\n",
    "                                              spin_temp=spin_temp)\n",
    "\n",
    "# record['delta'] = perturbed_field.density[i_slice]\n",
    "# record['T_s'] = spin_temp.Ts_box[i_slice]\n",
    "# record['x_e'] = 1 - ionized_box.xH_box[i_slice]\n",
    "# record['heat'] = np.zeros_like(record['delta'])\n",
    "# record['ion'] = np.zeros_like(record['delta'])\n",
    "# record['exc'] = np.zeros_like(record['delta'])\n",
    "# record['heat_dT'] = np.zeros_like(record['delta'])\n",
    "# record['T_b'] = brightness_temp.brightness_temp#[i_slice] # [K]\n",
    "# records.append(record.copy())\n",
    "\n",
    "pbar = tqdm(total = len(z_arr)-1)\n",
    "\n",
    "for i_z, z in enumerate(z_arr[1:], start=1):\n",
    "\n",
    "    #print(f'i_z={i_z} 1+z={1+z:.3f}', end=' ')\n",
    "\n",
    "    # perturbed_field to control redshift\n",
    "    perturbed_field = p21c.perturb_field(redshift=z, init_boxes=initial_conditions) # [1] | delta_DM\n",
    "\n",
    "    # input boxes\n",
    "    input_heating = p21c.input_heating(redshift=z, init_boxes=initial_conditions, write=False)\n",
    "    input_ionization = p21c.input_ionization(redshift=z, init_boxes=initial_conditions, write=False)\n",
    "    input_jalpha = p21c.input_jalpha(redshift=z, init_boxes=initial_conditions, write=False)\n",
    "\n",
    "    if run_mode == '':\n",
    "        if i_z == 1:\n",
    "            print('Not injecting anything in this run!')\n",
    "\n",
    "    elif run_mode == 'circle':\n",
    "        input_heating.input_heating += get_circle_seq_at(50, 3, i_z)\n",
    "        input_ionization.input_ionization += get_circle_seq_at(50, 5, 9-i_z) * 1e-3\n",
    "\n",
    "    else:\n",
    "        z_prev = z_arr[i_z-1]\n",
    "\n",
    "        # 1. calculate total E_inj\n",
    "        rho_DM_box = phys.rho_DM * (1+z)**3 * (1 + perturbed_field.density) # [eV cm^-3]\n",
    "        n_B_box = phys.n_B * (1+z)**3 * (1 + perturbed_field.density) # [cm^-3] | assuming delta_B = delta_DM\n",
    "        x_e_box = 1 - ionized_box.xH_box # [1]\n",
    "\n",
    "        dE_inj_dVdt_box = phys.inj_rate_box(rho_DM_box, **process) # [eV cm^-3 s^-1]\n",
    "        if process['mode'] == 'swave':\n",
    "            struct_boost_factor = phys.struct_boost_func(model='erfc')(1+z)\n",
    "            dE_inj_dVdt_box *= struct_boost_factor\n",
    "            #print(f'1+B(z) = {struct_boost_factor}')\n",
    "\n",
    "        dt = phys.dt_between_z(z_prev, z)\n",
    "        dE_inj_per_B_box = dE_inj_dVdt_box * dt / n_B_box # [eV per B]\n",
    "\n",
    "        # 2. get f\n",
    "        if run_mode == 'dh':\n",
    "            f_boxs = get_DH_f_boxs(perturbed_field.density, x_e_box, z=z, **process)\n",
    "        elif run_mode == 'emf':\n",
    "            f_boxs = get_EMF_f_boxs(perturbed_field.density, x_e_box, z=z, **process)\n",
    "        else:\n",
    "            raise NotImplementedError\n",
    "\n",
    "        # 3. input\n",
    "        input_heating.input_heating += np.array(2 / (3*phys.kB*(1+x_e_box)) * dE_inj_per_B_box * f_boxs['heat']) # [K]\n",
    "        input_ionization.input_ionization += np.array(dE_inj_per_B_box * f_boxs['ion'] / phys.rydberg) # [1 per B]\n",
    "        #input_jalpha.input_jalpha += dE_inj_per_B_box * f_boxs['exc'] / phys.lya_eng # [???]\n",
    "\n",
    "\n",
    "    spin_temp = p21c.spin_temperature(\n",
    "        perturbed_field=perturbed_field,\n",
    "        previous_spin_temp=(None if i_z==0 else spin_temp),\n",
    "        input_heating_box=input_heating,\n",
    "        input_ionization_box=input_ionization,\n",
    "        write=True\n",
    "    )\n",
    "\n",
    "    ionized_box = p21c.ionize_box(spin_temp=spin_temp)\n",
    "\n",
    "    brightness_temp = p21c.brightness_temperature(ionized_box=ionized_box,\n",
    "                                                  perturbed_field=perturbed_field,\n",
    "                                                  spin_temp=spin_temp)\n",
    "\n",
    "    record['delta'] = perturbed_field.density[i_slice]\n",
    "    record['T_s']   = spin_temp.Ts_box[i_slice]\n",
    "    record['x_e']   = 1 - ionized_box.xH_box[i_slice]\n",
    "    record['heat']  = ( dE_inj_per_B_box * f_boxs['heat'] / dt )[i_slice] # [eV s^-1 per B] | dE/dt per B\n",
    "    record['ion']   = ( dE_inj_per_B_box * f_boxs['ion']  / dt )[i_slice] # [eV s^-1 per B] | dE/dt per B\n",
    "    #record['exc']   = input_jalpha.input_jalpha[i_slice]\n",
    "    record['heat_dT'] = input_heating.input_heating[i_slice] # [K]\n",
    "    record['T_b'] = brightness_temp.brightness_temp[i_slice] # [K]\n",
    "    records.append(record.copy())\n",
    "\n",
    "    pbar.update()"
   ]
  },
  {
   "cell_type": "markdown",
   "id": "8dcc6028-2a2b-4023-a3a5-2ecb294cfa22",
   "metadata": {},
   "source": [
    "## 3. View"
   ]
  },
  {
   "cell_type": "code",
   "execution_count": null,
   "id": "1f3976c0-50c7-4739-a651-1f7e7d7ccd76",
   "metadata": {
    "tags": []
   },
   "outputs": [],
   "source": [
    "for i_z, z in enumerate(z_arr):\n",
    "    x = records[i_z]['T_b']\n",
    "    print(z, np.min(x), np.mean(x), np.max(x))"
   ]
  },
  {
   "cell_type": "markdown",
   "id": "dc2aa003-b7c4-40cc-8bfd-6b5e8d473325",
   "metadata": {},
   "source": [
    "### 3.1 $\\delta T_b$"
   ]
  },
  {
   "cell_type": "code",
   "execution_count": 21,
   "id": "c13f8cbc-f5eb-479f-8853-05dd30e9f973",
   "metadata": {},
   "outputs": [],
   "source": [
    "plot_data = np.array([np.quantile(record['T_b'], [0.18, 0.5, 0.82]) for record in records])\n",
    "np.save(f'../data/run_info/{RUN_NAME}_T_b.npy', plot_data)"
   ]
  },
  {
   "cell_type": "code",
   "execution_count": 22,
   "id": "a98790c1-31b6-4660-96ca-fa3fd53a0a9c",
   "metadata": {},
   "outputs": [
    {
     "data": {
      "image/png": "[encoded data removed]",
      "text/plain": [
       "<Figure size 720x480 with 1 Axes>"
      ]
     },
     "metadata": {},
     "output_type": "display_data"
    }
   ],
   "source": [
    "plot_data_base = np.load('../data/run_info/baseline_T_b.npy')\n",
    "plot_data_inj  = np.load('../data/run_info/dh_T_b.npy')\n",
    "\n",
    "fig, ax = plt.subplots()\n",
    "ax.plot(z_arr[1:], plot_data_base[:,1], label='baseline')\n",
    "ax.fill_between(z_arr[1:], plot_data_base[:,0], plot_data_base[:,2], alpha=0.5)\n",
    "ax.plot(z_arr[1:], plot_data_inj[:,1], label='injection')\n",
    "ax.fill_between(z_arr[1:], plot_data_inj[:,0], plot_data_inj[:,2], alpha=0.5)\n",
    "ax.set(title=r'Mean $\\delta T_b$ and variations [mK]', xlabel=r'$z$', ylabel=r'$\\delta T_b$')\n",
    "ax.set(ylim=(-200, 50));\n",
    "\n",
    "ax.legend();"
   ]
  },
  {
   "cell_type": "markdown",
   "id": "407457d0-d942-4119-bed0-395561f12d05",
   "metadata": {},
   "source": [
    "### 3.2 slices"
   ]
  },
  {
   "cell_type": "code",
   "execution_count": null,
   "id": "3cd86a7f-c885-46e9-b8d5-3891771a04ef",
   "metadata": {
    "tags": []
   },
   "outputs": [],
   "source": [
    "title={\n",
    "    'delta' : r'$\\delta_\\mathrm{DM/B}$',\n",
    "    'T_s'   : r'$T_\\mathrm{spin}$ [K]',\n",
    "    'x_e'   : r'$x_e$',\n",
    "    'heat'  : r'$\\epsilon_\\mathrm{heat}$ [eV s$^{-1}$ per B]',\n",
    "    'heat_dT' : r'heat $\\Delta T$',\n",
    "    'ion'   : r'$\\epsilon_\\mathrm{ion}$ [eV s$^{-1}$ per B]',\n",
    "    'exc'   : r'$\\epsilon_\\mathrm{exc}$',\n",
    "    'T_b'   : r'$T_b$',\n",
    "}\n",
    "vrange={\n",
    "    'delta' : (-0.25, 0.75),\n",
    "    'T_s'   : (60., 100.),\n",
    "    'x_e'   : (0., 0.002),\n",
    "    'heat'  : (0., 7e-18),\n",
    "    'heat_dT' : (0, 40),\n",
    "    'ion'   : (0., 7e-18),\n",
    "    'exc'   : (0., 1.),\n",
    "    'T_b'   : (-20., 0.)\n",
    "}\n",
    "\n",
    "for i_z, record in enumerate(tqdm(records)):\n",
    "\n",
    "    fig, axs = plt.subplots(1, 6, figsize=(18, 4))\n",
    "    for i, (k, x) in enumerate(record.items()):\n",
    "        if k == 'T_b':\n",
    "            continue\n",
    "        im = axs[i].imshow(x, vmin=vrange[k][0], vmax=vrange[k][1])\n",
    "        axs[i].set(title=title[k], xticks=[], yticks=[])\n",
    "        axs[i].text(28, 47, f'z={z_arr[i_z]:.3f}', color='w')\n",
    "        fig.colorbar(im, ax=axs[i], orientation='horizontal', shrink=0.9)\n",
    "    fig.savefig(f'plots/tmp/{i_z}.png')\n",
    "    #plt.close()"
   ]
  },
  {
   "cell_type": "code",
   "execution_count": 26,
   "id": "9461804a-aad6-45be-b5e0-1dc2b9198c84",
   "metadata": {},
   "outputs": [],
   "source": [
    "import glob\n",
    "import contextlib\n",
    "from PIL import Image\n",
    "\n",
    "# filepaths\n",
    "fp_in = \"plots/tmp/*.png\"\n",
    "fp_out = \"plots/dh_dT.gif\"\n",
    "\n",
    "# use exit stack to automatically close opened images\n",
    "flist = glob.glob(fp_in)\n",
    "with contextlib.ExitStack() as stack:\n",
    "    imgs = (stack.enter_context(Image.open(f))\n",
    "            for f in sorted(flist, key=lambda x: int(os.path.basename(x).split('.')[0])))\n",
    "    # extract  first image from iterator\n",
    "    durations = np.full(len(flist), 500)\n",
    "    durations[-1] = 1500\n",
    "    img = next(imgs)\n",
    "\n",
    "    # https://pillow.readthedocs.io/en/stable/handbook/image-file-formats.html#gif\n",
    "    img.save(fp=fp_out, format='GIF', append_images=imgs,\n",
    "             save_all=True, duration=list(durations), loop=0)"
   ]
  },
  {
   "cell_type": "markdown",
   "id": "7516772f-c264-42a7-a3cf-1d75f98942ed",
   "metadata": {},
   "source": [
    "### 3.3 lightcone"
   ]
  },
  {
   "cell_type": "code",
   "execution_count": null,
   "id": "b0caf293-83ad-4213-b852-46d8fb7f4080",
   "metadata": {},
   "outputs": [],
   "source": [
    "p21c.run_lightcone(redshift=5)"
   ]
  },
  {
   "cell_type": "markdown",
   "id": "4c8f5619-ed04-4b38-a722-edebfebf1656",
   "metadata": {},
   "source": [
    "# Archive"
   ]
  },
  {
   "cell_type": "markdown",
   "id": "9e0c8bb7-bcbd-446f-977d-cff085645673",
   "metadata": {},
   "source": [
    "## A. Some uniform calculation for scale"
   ]
  },
  {
   "cell_type": "code",
   "execution_count": 25,
   "id": "40e41d4a-588f-469f-aa5f-0c9b3d63fe17",
   "metadata": {},
   "outputs": [],
   "source": [
    "swave_process = dict(\n",
    "    mode = 'swave',\n",
    "    mDM = 2e6, # [eV]\n",
    "    sigmav = 1e-26, # [cm^3 s^-1]\n",
    ")\n",
    "decay_process = dict(\n",
    "    mode = 'decay',\n",
    "    mDM = 4e6, # [eV]\n",
    "    lifetime = 3e25, # [s]\n",
    ")\n",
    "process = swave_process"
   ]
  },
  {
   "cell_type": "markdown",
   "id": "91af0e64-fdd2-4161-ad0b-a98749743699",
   "metadata": {},
   "source": [
    "$$\\mathcal{E}^{inj}=\\frac{1}{n_B}\\frac{dE}{dtdV}=(1+z)^3\\frac{\\Omega_{DM}^2}{\\Omega_B}\\rho_c(1+B(z))m_pc^2\\frac{\\langle\\sigma v\\rangle}{m_{DM}}$$"
   ]
  },
  {
   "cell_type": "code",
   "execution_count": 26,
   "id": "229698a6-11f4-4cfd-be9d-f8e561b18354",
   "metadata": {},
   "outputs": [
    {
     "name": "stdout",
     "output_type": "stream",
     "text": [
      "E_inj = (1+z)^3 (1+B) * 3.1821e-20 eV / s\n"
     ]
    }
   ],
   "source": [
    "E_inj = phys.omega_DM**2 / phys.omega_baryon * phys.rho_crit * phys.m_p * process['sigmav'] / process['mDM']\n",
    "print(f\"E_inj = (1+z)^3 (1+B) * {E_inj:.4e} eV / s\")"
   ]
  },
  {
   "cell_type": "markdown",
   "id": "fde47677-07e0-434b-bf68-80db1e969f16",
   "metadata": {},
   "source": [
    "$$\\epsilon^{DM}_{heat}=f_{heat}\\mathcal{E}^{inj}$$"
   ]
  },
  {
   "cell_type": "code",
   "execution_count": 27,
   "id": "b29243b6-624e-431b-ad34-3113f704406b",
   "metadata": {},
   "outputs": [
    {
     "name": "stderr",
     "output_type": "stream",
     "text": [
      "WARNING:jax._src.lib.xla_bridge:No GPU/TPU found, falling back to CPU. (Set TF_CPP_MIN_LOG_LEVEL=0 and rerun for more info.)\n"
     ]
    },
    {
     "name": "stdout",
     "output_type": "stream",
     "text": [
      "e_DM_heat = (1+B) * 1.1110e-19 eV / s\n"
     ]
    }
   ],
   "source": [
    "z_high, z_low = 34.91712652, 33.20678716\n",
    "delta_B = jnp.array([0.])\n",
    "x_e = jnp.array([0.1])\n",
    "f_boxs = get_DH_f_boxs(delta_B, x_e, z=z_high, **process)\n",
    "\n",
    "eDMheat = (1+z_high)**3 * f_boxs['heat'].flatten()[0] * E_inj\n",
    "print(f\"e_DM_heat = (1+B) * {eDMheat:.4e} eV / s\")"
   ]
  },
  {
   "cell_type": "markdown",
   "id": "cfd16115-71d4-4d89-a2ab-9aed92cf522d",
   "metadata": {},
   "source": [
    "$$\\Delta T=\\frac{2}{3k_B(1+x_e)}\\,\\Delta t\\,\\epsilon^{DM}_{heat}$$"
   ]
  },
  {
   "cell_type": "code",
   "execution_count": 28,
   "id": "ed5a8593-9b4d-4f50-834e-6a439f03274b",
   "metadata": {},
   "outputs": [
    {
     "name": "stdout",
     "output_type": "stream",
     "text": [
      "dT = (1+B) * 149.2254 mK\n"
     ]
    }
   ],
   "source": [
    "dT =  2 / (3*phys.kB) * phys.dt_between_z(z_high, z_low) * eDMheat / (1+x_e[0])\n",
    "print(f\"dT = (1+B) * {1000*dT:.4f} mK\")"
   ]
  },
  {
   "cell_type": "markdown",
   "id": "18adb354-4b5d-4f46-b1b6-97f331457a18",
   "metadata": {},
   "source": [
    "## B. Plotting"
   ]
  },
  {
   "cell_type": "code",
   "execution_count": 10,
   "id": "4961844b-d27a-4363-a494-4195d738affc",
   "metadata": {},
   "outputs": [
    {
     "data": {
      "text/plain": [
       "[Text(0.5, 1.0, 'input ionization'), [], []]"
      ]
     },
     "execution_count": 10,
     "metadata": {},
     "output_type": "execute_result"
    },
    {
     "data": {
      "image/png": "[encoded data removed]",
      "text/plain": [
       "<Figure size 960x480 with 2 Axes>"
      ]
     },
     "metadata": {},
     "output_type": "display_data"
    }
   ],
   "source": [
    "fig, axs = plt.subplots(1, 2, figsize=(8,4))\n",
    "im0 = axs[0].imshow(input_heating.input_heating[25])\n",
    "im1 = axs[1].imshow(input_ionization.input_ionization[25])\n",
    "\n",
    "axs[0].set(title=r'input heating', xticks=[], yticks=[])\n",
    "axs[1].set(title=r'input ionization', xticks=[], yticks=[])\n",
    "\n",
    "#fig.colorbar(im0, ax=axs[0], orientation='horizontal')\n",
    "#fig.colorbar(im1, ax=axs[1], orientation='horizontal')"
   ]
  },
  {
   "cell_type": "code",
   "execution_count": 11,
   "id": "8e484af3-5a77-489c-a7d7-6fa3e025d3a5",
   "metadata": {},
   "outputs": [
    {
     "data": {
      "text/plain": [
       "<matplotlib.colorbar.Colorbar at 0x7f3c9c79e190>"
      ]
     },
     "execution_count": 11,
     "metadata": {},
     "output_type": "execute_result"
    },
    {
     "data": {
      "image/png": "[encoded data removed]",
      "text/plain": [
       "<Figure size 1200x600 with 4 Axes>"
      ]
     },
     "metadata": {},
     "output_type": "display_data"
    }
   ],
   "source": [
    "fig, axs = plt.subplots(1, 2, figsize=(10,5))\n",
    "im0 = axs[0].imshow(spin_temp.Tk_box[25])\n",
    "im1 = axs[1].imshow(spin_temp.x_e_box[25])\n",
    "\n",
    "axs[0].set(title='spin_temp.Tk_box', xticks=[], yticks=[])\n",
    "axs[1].set(title='spin_temp.x_e_box', xticks=[], yticks=[])\n",
    "\n",
    "fig.colorbar(im0, ax=axs[0], orientation='horizontal')\n",
    "fig.colorbar(im1, ax=axs[1], orientation='horizontal')"
   ]
  },
  {
   "cell_type": "code",
   "execution_count": null,
   "id": "06961485-d216-40f9-9212-adccd830a5f2",
   "metadata": {},
   "outputs": [],
   "source": []
  }
 ],
 "metadata": {
  "kernelspec": {
   "display_name": "21cmfast",
   "language": "python",
   "name": "21cmfast"
  },
  "language_info": {
   "codemirror_mode": {
    "name": "ipython",
    "version": 3
   },
   "file_extension": ".py",
   "mimetype": "text/x-python",
   "name": "python",
   "nbconvert_exporter": "python",
   "pygments_lexer": "ipython3",
   "version": "3.7.12"
  }
 },
 "nbformat": 4,
 "nbformat_minor": 5
}
