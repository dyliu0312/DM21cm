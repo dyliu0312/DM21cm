{
 "cells": [
  {
   "cell_type": "code",
   "execution_count": 1,
   "id": "52e0af78-f6a3-4e65-84c2-7e5b9da13767",
   "metadata": {},
   "outputs": [],
   "source": [
    "%reload_ext autoreload\n",
    "%autoreload 2\n",
    "\n",
    "import os, sys\n",
    "sys.path.append('..')\n",
    "\n",
    "import numpy as np\n",
    "from tqdm import tqdm\n",
    "import time\n",
    "\n",
    "%matplotlib inline\n",
    "import matplotlib as mpl\n",
    "import matplotlib.pyplot as plt\n",
    "mpl.rc_file('../matplotlibrc')"
   ]
  },
  {
   "cell_type": "code",
   "execution_count": 2,
   "id": "46290c90-b455-403a-9a45-d56f8bbd9edb",
   "metadata": {},
   "outputs": [
    {
     "name": "stderr",
     "output_type": "stream",
     "text": [
      "/work/submit/yitians/anaconda3/envs/21cmfast/lib/python3.7/site-packages/py21cmfast/_cfg.py:59: UserWarning: Your configuration file is out of date. Updating...\n",
      "  \"Your configuration file is out of date. Updating...\"\n",
      "/work/submit/yitians/anaconda3/envs/21cmfast/lib/python3.7/site-packages/py21cmfast/_cfg.py:42: UserWarning: Your configuration file is out of date. Updating...\n",
      "  warnings.warn(\"Your configuration file is out of date. Updating...\")\n"
     ]
    },
    {
     "name": "stdout",
     "output_type": "stream",
     "text": [
      "Using 21cmFAST version 0.1.dev1578+g6f96f89.d20230224\n"
     ]
    }
   ],
   "source": [
    "# 21cmFAST\n",
    "import py21cmfast as p21c\n",
    "from py21cmfast import plotting, cache_tools\n",
    "print(f'Using 21cmFAST version {p21c.__version__}')\n",
    "\n",
    "import logging\n",
    "logger = logging.getLogger('21cmFAST')\n",
    "logger.setLevel(logging.INFO)"
   ]
  },
  {
   "cell_type": "code",
   "execution_count": 3,
   "id": "08e23e35-8ae8-4a23-811c-20ce04bd1341",
   "metadata": {},
   "outputs": [],
   "source": [
    "from dm21cm.injection import DMParams, get_input_boxs"
   ]
  },
  {
   "cell_type": "markdown",
   "id": "643c4b23-a3db-4ddd-afd4-121af55bdcd0",
   "metadata": {},
   "source": [
    "## 0. Global config"
   ]
  },
  {
   "cell_type": "code",
   "execution_count": 4,
   "id": "fc7f8f97-6ea8-42f3-b995-f49e9febadb6",
   "metadata": {},
   "outputs": [
    {
     "name": "stdout",
     "output_type": "stream",
     "text": [
      "CPU(s):                48\n",
      "On-line CPU(s) list:   0-47\n",
      "NUMA node0 CPU(s):     0,2,4,6,8,10,12,14,16,18,20,22,24,26,28,30,32,34,36,38,40,42,44,46\n",
      "NUMA node1 CPU(s):     1,3,5,7,9,11,13,15,17,19,21,23,25,27,29,31,33,35,37,39,41,43,45,47\n"
     ]
    }
   ],
   "source": [
    "! lscpu | grep \"CPU(s)\""
   ]
  },
  {
   "cell_type": "code",
   "execution_count": 5,
   "id": "0174ed4e-11a7-4808-89a9-0a4061ff6eac",
   "metadata": {},
   "outputs": [],
   "source": [
    "N_THREADS = 32"
   ]
  },
  {
   "cell_type": "markdown",
   "id": "57704a4e-4f84-40a1-9e99-955ece15e94a",
   "metadata": {},
   "source": [
    "## 1. Run"
   ]
  },
  {
   "cell_type": "code",
   "execution_count": 6,
   "id": "d89a9ff3-7fea-457b-a5f5-1f5a1907d98c",
   "metadata": {},
   "outputs": [],
   "source": [
    "def get_z_arr(z_start=p21c.global_params.Z_HEAT_MAX, z_end=20):\n",
    "    \n",
    "    z_arr = [z_end]\n",
    "    while np.max(z_arr) < z_start:\n",
    "        z_prev = (1 + np.max(z_arr)) * p21c.global_params.ZPRIME_STEP_FACTOR - 1\n",
    "        z_arr.append(z_prev)\n",
    "    return np.array(z_arr[::-1][1:])"
   ]
  },
  {
   "cell_type": "code",
   "execution_count": 7,
   "id": "a8f23f00-a863-45b8-bd2e-0ae3ed2006aa",
   "metadata": {},
   "outputs": [
    {
     "data": {
      "text/plain": [
       "['DH', 'dh', 'baseline']"
      ]
     },
     "execution_count": 7,
     "metadata": {},
     "output_type": "execute_result"
    }
   ],
   "source": [
    "# check cached runs\n",
    "CACHE_DIR_BASE = '/scratch/submit/ctp/yitians/21cmFAST-cache'\n",
    "os.listdir(CACHE_DIR_BASE)"
   ]
  },
  {
   "cell_type": "code",
   "execution_count": 8,
   "id": "7e9e1e6b-58d4-4880-9bd4-2d861ce5d0e2",
   "metadata": {},
   "outputs": [],
   "source": [
    "# run config\n",
    "RUN_NAME = 'DH'\n",
    "f_scheme = 'DH'\n",
    "run_mode = 'inj'\n",
    "\n",
    "p21c.config['direc'] = f'{CACHE_DIR_BASE}/{RUN_NAME}'\n",
    "os.makedirs(p21c.config['direc'], exist_ok=True)"
   ]
  },
  {
   "cell_type": "code",
   "execution_count": 25,
   "id": "38cb4391-a722-4ddc-8572-8ec55884bbb0",
   "metadata": {
    "collapsed": true,
    "jupyter": {
     "outputs_hidden": true
    },
    "tags": []
   },
   "outputs": [
    {
     "name": "stderr",
     "output_type": "stream",
     "text": [
      "2023-02-27 20:25:23,013 | INFO | Removing TsBox_8374e838b4c4c24901807de70d216a85_r54321.h5\n",
      "INFO:21cmFAST:Removing TsBox_8374e838b4c4c24901807de70d216a85_r54321.h5\n",
      "2023-02-27 20:25:23,032 | INFO | Removing IonizedBox_374c277b5e04f5edd0b9753e46d7c024_r54321.h5\n",
      "INFO:21cmFAST:Removing IonizedBox_374c277b5e04f5edd0b9753e46d7c024_r54321.h5\n",
      "2023-02-27 20:25:23,043 | INFO | Removing PerturbedField_39fcd40d7cb646acb5ff1d60d0981d47_r54321.h5\n",
      "INFO:21cmFAST:Removing PerturbedField_39fcd40d7cb646acb5ff1d60d0981d47_r54321.h5\n",
      "2023-02-27 20:25:23,062 | INFO | Removing IonizedBox_281611edcc6be411e6e88d60b2a06a21_r54321.h5\n",
      "INFO:21cmFAST:Removing IonizedBox_281611edcc6be411e6e88d60b2a06a21_r54321.h5\n",
      "2023-02-27 20:25:23,082 | INFO | Removing BrightnessTemp_feccaa80366daabb1e5f7be2bdd7e3d3_r54321.h5\n",
      "INFO:21cmFAST:Removing BrightnessTemp_feccaa80366daabb1e5f7be2bdd7e3d3_r54321.h5\n",
      "2023-02-27 20:25:23,101 | INFO | Removing TsBox_5c0a4a97e618c1aeaa60dc429940cfe6_r54321.h5\n",
      "INFO:21cmFAST:Removing TsBox_5c0a4a97e618c1aeaa60dc429940cfe6_r54321.h5\n",
      "2023-02-27 20:25:23,113 | INFO | Removing PerturbedField_53c078c8d39c073c891aa504da8b6c0f_r54321.h5\n",
      "INFO:21cmFAST:Removing PerturbedField_53c078c8d39c073c891aa504da8b6c0f_r54321.h5\n",
      "2023-02-27 20:25:23,132 | INFO | Removing IonizedBox_735d6d5d3de4777005cb5fd546b68dee_r54321.h5\n",
      "INFO:21cmFAST:Removing IonizedBox_735d6d5d3de4777005cb5fd546b68dee_r54321.h5\n",
      "2023-02-27 20:25:23,156 | INFO | Removing TsBox_0dc9a2c364357b7fc04ef0b31f722478_r54321.h5\n",
      "INFO:21cmFAST:Removing TsBox_0dc9a2c364357b7fc04ef0b31f722478_r54321.h5\n",
      "2023-02-27 20:25:23,175 | INFO | Removing BrightnessTemp_53878db24112f964404ca8b7eefbcccc_r54321.h5\n",
      "INFO:21cmFAST:Removing BrightnessTemp_53878db24112f964404ca8b7eefbcccc_r54321.h5\n",
      "2023-02-27 20:25:23,186 | INFO | Removing PerturbedField_25985af7f04e1f0d8b7b48021fecb211_r54321.h5\n",
      "INFO:21cmFAST:Removing PerturbedField_25985af7f04e1f0d8b7b48021fecb211_r54321.h5\n",
      "2023-02-27 20:25:23,204 | INFO | Removing BrightnessTemp_16482eec0d4420a328360feb07fa4b45_r54321.h5\n",
      "INFO:21cmFAST:Removing BrightnessTemp_16482eec0d4420a328360feb07fa4b45_r54321.h5\n",
      "2023-02-27 20:25:23,223 | INFO | Removing TsBox_eccbcc1ceb176967344d3e3ab6eabed8_r54321.h5\n",
      "INFO:21cmFAST:Removing TsBox_eccbcc1ceb176967344d3e3ab6eabed8_r54321.h5\n",
      "2023-02-27 20:25:23,242 | INFO | Removing TsBox_7e97cc8a6ef28115e1c630f2ecc75592_r54321.h5\n",
      "INFO:21cmFAST:Removing TsBox_7e97cc8a6ef28115e1c630f2ecc75592_r54321.h5\n",
      "2023-02-27 20:25:23,253 | INFO | Removing PerturbedField_b99597ad37dea1599de9bb0447f986ec_r54321.h5\n",
      "INFO:21cmFAST:Removing PerturbedField_b99597ad37dea1599de9bb0447f986ec_r54321.h5\n",
      "2023-02-27 20:25:23,272 | INFO | Removing TsBox_5c55367df1003da791eb323426e31bb2_r54321.h5\n",
      "INFO:21cmFAST:Removing TsBox_5c55367df1003da791eb323426e31bb2_r54321.h5\n",
      "2023-02-27 20:25:23,291 | INFO | Removing TsBox_e9472d7c92c53531b4e9a7b9c03c8994_r54321.h5\n",
      "INFO:21cmFAST:Removing TsBox_e9472d7c92c53531b4e9a7b9c03c8994_r54321.h5\n",
      "2023-02-27 20:25:23,309 | INFO | Removing BrightnessTemp_f1633d32a38269e2bb37ec4c24bc2039_r54321.h5\n",
      "INFO:21cmFAST:Removing BrightnessTemp_f1633d32a38269e2bb37ec4c24bc2039_r54321.h5\n",
      "2023-02-27 20:25:23,319 | INFO | Removing PerturbedField_4c6f62fcc6701b7dd8855a5c22ed5a3f_r54321.h5\n",
      "INFO:21cmFAST:Removing PerturbedField_4c6f62fcc6701b7dd8855a5c22ed5a3f_r54321.h5\n",
      "2023-02-27 20:25:23,339 | INFO | Removing IonizedBox_d8910bea9b675bd24b00ba0c36b0efb9_r54321.h5\n",
      "INFO:21cmFAST:Removing IonizedBox_d8910bea9b675bd24b00ba0c36b0efb9_r54321.h5\n",
      "2023-02-27 20:25:23,359 | INFO | Removing IonizedBox_211216fb4b3f047d849a2bb70df2cded_r54321.h5\n",
      "INFO:21cmFAST:Removing IonizedBox_211216fb4b3f047d849a2bb70df2cded_r54321.h5\n",
      "2023-02-27 20:25:23,371 | INFO | Removing PerturbedField_71c799ba32496a36a087ebc34cb78aa5_r54321.h5\n",
      "INFO:21cmFAST:Removing PerturbedField_71c799ba32496a36a087ebc34cb78aa5_r54321.h5\n",
      "2023-02-27 20:25:23,391 | INFO | Removing TsBox_e35095d7548353f70da0b722f7cc345d_r54321.h5\n",
      "INFO:21cmFAST:Removing TsBox_e35095d7548353f70da0b722f7cc345d_r54321.h5\n",
      "2023-02-27 20:25:23,409 | INFO | Removing BrightnessTemp_5c659a83168ff7ac5014ff004323ee1c_r54321.h5\n",
      "INFO:21cmFAST:Removing BrightnessTemp_5c659a83168ff7ac5014ff004323ee1c_r54321.h5\n",
      "2023-02-27 20:25:23,428 | INFO | Removing TsBox_1fdd5ef18fd9123c142ad49d045d8ffa_r54321.h5\n",
      "INFO:21cmFAST:Removing TsBox_1fdd5ef18fd9123c142ad49d045d8ffa_r54321.h5\n",
      "2023-02-27 20:25:23,446 | INFO | Removing BrightnessTemp_881e15da40f2b7bfe44ae5a91065cdd5_r54321.h5\n",
      "INFO:21cmFAST:Removing BrightnessTemp_881e15da40f2b7bfe44ae5a91065cdd5_r54321.h5\n",
      "2023-02-27 20:25:23,464 | INFO | Removing BrightnessTemp_2d1d80dfec94304586767206bd3e2896_r54321.h5\n",
      "INFO:21cmFAST:Removing BrightnessTemp_2d1d80dfec94304586767206bd3e2896_r54321.h5\n",
      "2023-02-27 20:25:23,482 | INFO | Removing BrightnessTemp_32ae7ba7ace7c579bca430f539cbb07e_r54321.h5\n",
      "INFO:21cmFAST:Removing BrightnessTemp_32ae7ba7ace7c579bca430f539cbb07e_r54321.h5\n",
      "2023-02-27 20:25:23,491 | INFO | Removing PerturbedField_32c6087ba3d358265adf67c30aa35b8f_r54321.h5\n",
      "INFO:21cmFAST:Removing PerturbedField_32c6087ba3d358265adf67c30aa35b8f_r54321.h5\n",
      "2023-02-27 20:25:23,509 | INFO | Removing BrightnessTemp_6a1b4c44a4f0de7758544a1387c9d9d3_r54321.h5\n",
      "INFO:21cmFAST:Removing BrightnessTemp_6a1b4c44a4f0de7758544a1387c9d9d3_r54321.h5\n",
      "2023-02-27 20:25:23,527 | INFO | Removing BrightnessTemp_faed160c88d4387d51425157b82c5853_r54321.h5\n",
      "INFO:21cmFAST:Removing BrightnessTemp_faed160c88d4387d51425157b82c5853_r54321.h5\n",
      "2023-02-27 20:25:23,544 | INFO | Removing BrightnessTemp_1d5b4fa8ecf40bf514c704b9a5ee0450_r54321.h5\n",
      "INFO:21cmFAST:Removing BrightnessTemp_1d5b4fa8ecf40bf514c704b9a5ee0450_r54321.h5\n",
      "2023-02-27 20:25:23,554 | INFO | Removing PerturbedField_a7825ce9ca100e6f658dd6f5bb70da10_r54321.h5\n",
      "INFO:21cmFAST:Removing PerturbedField_a7825ce9ca100e6f658dd6f5bb70da10_r54321.h5\n",
      "2023-02-27 20:25:23,565 | INFO | Removing PerturbedField_9813e000d834150bdf1c0f0dce6e66d6_r54321.h5\n",
      "INFO:21cmFAST:Removing PerturbedField_9813e000d834150bdf1c0f0dce6e66d6_r54321.h5\n",
      "2023-02-27 20:25:23,583 | INFO | Removing IonizedBox_c65835bade4d26144e1990e369f083fa_r54321.h5\n",
      "INFO:21cmFAST:Removing IonizedBox_c65835bade4d26144e1990e369f083fa_r54321.h5\n",
      "2023-02-27 20:25:23,603 | INFO | Removing IonizedBox_e61235919a332f341ae561fbf504d022_r54321.h5\n",
      "INFO:21cmFAST:Removing IonizedBox_e61235919a332f341ae561fbf504d022_r54321.h5\n",
      "2023-02-27 20:25:23,623 | INFO | Removing BrightnessTemp_2f3ad137bfde43769c7b6225e2f3d10e_r54321.h5\n",
      "INFO:21cmFAST:Removing BrightnessTemp_2f3ad137bfde43769c7b6225e2f3d10e_r54321.h5\n",
      "2023-02-27 20:25:23,641 | INFO | Removing TsBox_bf977018772349641441084b397b279b_r54321.h5\n",
      "INFO:21cmFAST:Removing TsBox_bf977018772349641441084b397b279b_r54321.h5\n",
      "2023-02-27 20:25:23,660 | INFO | Removing TsBox_5204be475e7de1ffcb805c71d920b5ce_r54321.h5\n",
      "INFO:21cmFAST:Removing TsBox_5204be475e7de1ffcb805c71d920b5ce_r54321.h5\n",
      "2023-02-27 20:25:23,679 | INFO | Removing TsBox_ae97c9e4a37ca4d4cbd3b8d8e49cec17_r54321.h5\n",
      "INFO:21cmFAST:Removing TsBox_ae97c9e4a37ca4d4cbd3b8d8e49cec17_r54321.h5\n",
      "2023-02-27 20:25:23,698 | INFO | Removing BrightnessTemp_d4cbaa149d1c506e7f473d9f131572ae_r54321.h5\n",
      "INFO:21cmFAST:Removing BrightnessTemp_d4cbaa149d1c506e7f473d9f131572ae_r54321.h5\n",
      "2023-02-27 20:25:23,716 | INFO | Removing IonizedBox_047fba756c46034e1c1342e77914fa03_r54321.h5\n",
      "INFO:21cmFAST:Removing IonizedBox_047fba756c46034e1c1342e77914fa03_r54321.h5\n",
      "2023-02-27 20:25:23,736 | INFO | Removing TsBox_0428cbeea0d438907d32329340fd2378_r54321.h5\n",
      "INFO:21cmFAST:Removing TsBox_0428cbeea0d438907d32329340fd2378_r54321.h5\n",
      "2023-02-27 20:25:23,755 | INFO | Removing TsBox_b948712dbadd4285a37cf5ee2a202ea6_r54321.h5\n",
      "INFO:21cmFAST:Removing TsBox_b948712dbadd4285a37cf5ee2a202ea6_r54321.h5\n",
      "2023-02-27 20:25:23,774 | INFO | Removing IonizedBox_fd38433e7f05a9800abc7c9ea1c8955b_r54321.h5\n",
      "INFO:21cmFAST:Removing IonizedBox_fd38433e7f05a9800abc7c9ea1c8955b_r54321.h5\n",
      "2023-02-27 20:25:23,793 | INFO | Removing BrightnessTemp_7de840a15c397894139f334e8716e59d_r54321.h5\n",
      "INFO:21cmFAST:Removing BrightnessTemp_7de840a15c397894139f334e8716e59d_r54321.h5\n",
      "2023-02-27 20:25:23,803 | INFO | Removing PerturbedField_30d364f834dbb62cb13caf7334b6b3e7_r54321.h5\n",
      "INFO:21cmFAST:Removing PerturbedField_30d364f834dbb62cb13caf7334b6b3e7_r54321.h5\n",
      "2023-02-27 20:25:23,823 | INFO | Removing TsBox_d342b678d8f8c941be173d4176198141_r54321.h5\n",
      "INFO:21cmFAST:Removing TsBox_d342b678d8f8c941be173d4176198141_r54321.h5\n",
      "2023-02-27 20:25:23,843 | INFO | Removing TsBox_91228e4e28eadc72e4499f5e737e8471_r54321.h5\n",
      "INFO:21cmFAST:Removing TsBox_91228e4e28eadc72e4499f5e737e8471_r54321.h5\n",
      "2023-02-27 20:25:23,863 | INFO | Removing IonizedBox_41eaec79169f75c998b819913d6d54e0_r54321.h5\n",
      "INFO:21cmFAST:Removing IonizedBox_41eaec79169f75c998b819913d6d54e0_r54321.h5\n",
      "2023-02-27 20:25:23,884 | INFO | Removing IonizedBox_6e5bb44e3973014fb98b9a219c9bcb9e_r54321.h5\n",
      "INFO:21cmFAST:Removing IonizedBox_6e5bb44e3973014fb98b9a219c9bcb9e_r54321.h5\n",
      "2023-02-27 20:25:23,896 | INFO | Removing PerturbedField_df128e19b6c9f436500d61ce75319e64_r54321.h5\n",
      "INFO:21cmFAST:Removing PerturbedField_df128e19b6c9f436500d61ce75319e64_r54321.h5\n",
      "2023-02-27 20:25:23,906 | INFO | Removing PerturbedField_a0e95301ba36be73e771c97cbf4b019e_r54321.h5\n",
      "INFO:21cmFAST:Removing PerturbedField_a0e95301ba36be73e771c97cbf4b019e_r54321.h5\n",
      "2023-02-27 20:25:23,925 | INFO | Removing IonizedBox_0eb7a38d428d43848c6c09f199e157ce_r54321.h5\n",
      "INFO:21cmFAST:Removing IonizedBox_0eb7a38d428d43848c6c09f199e157ce_r54321.h5\n",
      "2023-02-27 20:25:23,947 | INFO | Removing TsBox_3c7df7b33a5e91e21a126d5c7891d63b_r54321.h5\n",
      "INFO:21cmFAST:Removing TsBox_3c7df7b33a5e91e21a126d5c7891d63b_r54321.h5\n",
      "2023-02-27 20:25:23,974 | INFO | Removing PerturbedField_f245589739dac9809134dc229ea9de1c_r54321.h5\n",
      "INFO:21cmFAST:Removing PerturbedField_f245589739dac9809134dc229ea9de1c_r54321.h5\n",
      "2023-02-27 20:25:24,001 | INFO | Removing TsBox_4a15b2b9b029bb9c48156adf075f30e7_r54321.h5\n",
      "INFO:21cmFAST:Removing TsBox_4a15b2b9b029bb9c48156adf075f30e7_r54321.h5\n",
      "2023-02-27 20:25:24,026 | INFO | Removing TsBox_7b375a2162f7e129b1b74de088eb3c63_r54321.h5\n",
      "INFO:21cmFAST:Removing TsBox_7b375a2162f7e129b1b74de088eb3c63_r54321.h5\n",
      "2023-02-27 20:25:24,040 | INFO | Removing PerturbedField_bd13c1ecc64e29b66cb29ef97d1ecf83_r54321.h5\n",
      "INFO:21cmFAST:Removing PerturbedField_bd13c1ecc64e29b66cb29ef97d1ecf83_r54321.h5\n",
      "2023-02-27 20:25:24,065 | INFO | Removing BrightnessTemp_02e193735b2d06dff05553044d516c3b_r54321.h5\n",
      "INFO:21cmFAST:Removing BrightnessTemp_02e193735b2d06dff05553044d516c3b_r54321.h5\n",
      "2023-02-27 20:25:24,080 | INFO | Removing TsBox_ef0281f5fe61c16304b13381798e9965_r54321.h5\n",
      "INFO:21cmFAST:Removing TsBox_ef0281f5fe61c16304b13381798e9965_r54321.h5\n",
      "2023-02-27 20:25:24,094 | INFO | Removing BrightnessTemp_e230937ba5cb7dd8402f3521035ce434_r54321.h5\n",
      "INFO:21cmFAST:Removing BrightnessTemp_e230937ba5cb7dd8402f3521035ce434_r54321.h5\n",
      "2023-02-27 20:25:24,118 | INFO | Removing IonizedBox_4cf3b2314e6252fb72afcb8cc3f82525_r54321.h5\n",
      "INFO:21cmFAST:Removing IonizedBox_4cf3b2314e6252fb72afcb8cc3f82525_r54321.h5\n",
      "2023-02-27 20:25:24,135 | INFO | Removing PerturbedField_71e20d4c3c43735dce36089d62ebed5d_r54321.h5\n",
      "INFO:21cmFAST:Removing PerturbedField_71e20d4c3c43735dce36089d62ebed5d_r54321.h5\n",
      "2023-02-27 20:25:24,156 | INFO | Removing TsBox_229618e84f0ad41b4ddd87b10dc3abae_r54321.h5\n",
      "INFO:21cmFAST:Removing TsBox_229618e84f0ad41b4ddd87b10dc3abae_r54321.h5\n",
      "2023-02-27 20:25:24,180 | INFO | Removing BrightnessTemp_059cfd219dd1dbe5233db9428b9f82e7_r54321.h5\n",
      "INFO:21cmFAST:Removing BrightnessTemp_059cfd219dd1dbe5233db9428b9f82e7_r54321.h5\n",
      "2023-02-27 20:25:24,203 | INFO | Removing TsBox_9d40ec985962479d7e42ea3947109b25_r54321.h5\n",
      "INFO:21cmFAST:Removing TsBox_9d40ec985962479d7e42ea3947109b25_r54321.h5\n",
      "2023-02-27 20:25:24,219 | INFO | Removing BrightnessTemp_27445d7c8fe4216748fdb3fd596d4302_r54321.h5\n",
      "INFO:21cmFAST:Removing BrightnessTemp_27445d7c8fe4216748fdb3fd596d4302_r54321.h5\n",
      "2023-02-27 20:25:24,244 | INFO | Removing IonizedBox_aa355fc5c0e54770c2c65cec9aa73f41_r54321.h5\n",
      "INFO:21cmFAST:Removing IonizedBox_aa355fc5c0e54770c2c65cec9aa73f41_r54321.h5\n",
      "2023-02-27 20:25:24,269 | INFO | Removing TsBox_ecf9c0a12044024817e9873ad09b1164_r54321.h5\n",
      "INFO:21cmFAST:Removing TsBox_ecf9c0a12044024817e9873ad09b1164_r54321.h5\n",
      "2023-02-27 20:25:24,293 | INFO | Removing BrightnessTemp_3c379d20f3289e1180811ce9140915cc_r54321.h5\n",
      "INFO:21cmFAST:Removing BrightnessTemp_3c379d20f3289e1180811ce9140915cc_r54321.h5\n",
      "2023-02-27 20:25:24,316 | INFO | Removing BrightnessTemp_d33f758e8f1d79dbc4e50fa950c169dc_r54321.h5\n",
      "INFO:21cmFAST:Removing BrightnessTemp_d33f758e8f1d79dbc4e50fa950c169dc_r54321.h5\n",
      "2023-02-27 20:25:24,336 | INFO | Removing IonizedBox_9cead3897411b730c1cc1f6ca6af8e61_r54321.h5\n",
      "INFO:21cmFAST:Removing IonizedBox_9cead3897411b730c1cc1f6ca6af8e61_r54321.h5\n",
      "2023-02-27 20:25:24,353 | INFO | Removing IonizedBox_c22d0938e981464847a9dac8ef180350_r54321.h5\n",
      "INFO:21cmFAST:Removing IonizedBox_c22d0938e981464847a9dac8ef180350_r54321.h5\n",
      "2023-02-27 20:25:24,372 | INFO | Removing TsBox_a79369cd072fb122fd29dd8927464362_r54321.h5\n",
      "INFO:21cmFAST:Removing TsBox_a79369cd072fb122fd29dd8927464362_r54321.h5\n",
      "2023-02-27 20:25:24,382 | INFO | Removing PerturbedField_7374086ca5934e1b1f61a3a07c176488_r54321.h5\n",
      "INFO:21cmFAST:Removing PerturbedField_7374086ca5934e1b1f61a3a07c176488_r54321.h5\n",
      "2023-02-27 20:25:24,403 | INFO | Removing IonizedBox_c703c8b3589218cd4f4043062a69f117_r54321.h5\n",
      "INFO:21cmFAST:Removing IonizedBox_c703c8b3589218cd4f4043062a69f117_r54321.h5\n",
      "2023-02-27 20:25:24,428 | INFO | Removing BrightnessTemp_13707f412cb889a9bfbc448310919d7f_r54321.h5\n",
      "INFO:21cmFAST:Removing BrightnessTemp_13707f412cb889a9bfbc448310919d7f_r54321.h5\n",
      "2023-02-27 20:25:24,452 | INFO | Removing TsBox_ad95bdb3d07482068b7cfe0484ca75d6_r54321.h5\n",
      "INFO:21cmFAST:Removing TsBox_ad95bdb3d07482068b7cfe0484ca75d6_r54321.h5\n",
      "2023-02-27 20:25:24,470 | INFO | Removing IonizedBox_59d9a3b234b334948587d655c1be2fc7_r54321.h5\n",
      "INFO:21cmFAST:Removing IonizedBox_59d9a3b234b334948587d655c1be2fc7_r54321.h5\n",
      "2023-02-27 20:25:24,497 | INFO | Removing BrightnessTemp_a0adbc09654d712905703a3636b76932_r54321.h5\n",
      "INFO:21cmFAST:Removing BrightnessTemp_a0adbc09654d712905703a3636b76932_r54321.h5\n",
      "2023-02-27 20:25:24,521 | INFO | Removing IonizedBox_98f43dbd30b2e273a99aa07deba3ce58_r54321.h5\n",
      "INFO:21cmFAST:Removing IonizedBox_98f43dbd30b2e273a99aa07deba3ce58_r54321.h5\n",
      "2023-02-27 20:25:24,547 | INFO | Removing IonizedBox_5822414518faad5ebc2577cfad7e1a6a_r54321.h5\n",
      "INFO:21cmFAST:Removing IonizedBox_5822414518faad5ebc2577cfad7e1a6a_r54321.h5\n",
      "2023-02-27 20:25:24,572 | INFO | Removing BrightnessTemp_9c5d40175b670eea3b5aff16fb375c81_r54321.h5\n",
      "INFO:21cmFAST:Removing BrightnessTemp_9c5d40175b670eea3b5aff16fb375c81_r54321.h5\n",
      "2023-02-27 20:25:24,584 | INFO | Removing PerturbedField_5051660911462c6bcfdf789b45ec66b4_r54321.h5\n",
      "INFO:21cmFAST:Removing PerturbedField_5051660911462c6bcfdf789b45ec66b4_r54321.h5\n",
      "2023-02-27 20:25:24,604 | INFO | Removing IonizedBox_9d71523d0a108fdcc1061f3463e78a4b_r54321.h5\n",
      "INFO:21cmFAST:Removing IonizedBox_9d71523d0a108fdcc1061f3463e78a4b_r54321.h5\n",
      "2023-02-27 20:25:24,620 | INFO | Removing PerturbedField_2c21040fa8481e447f56c303f17305f0_r54321.h5\n",
      "INFO:21cmFAST:Removing PerturbedField_2c21040fa8481e447f56c303f17305f0_r54321.h5\n",
      "2023-02-27 20:25:24,644 | INFO | Removing IonizedBox_0e15e9e9a600c22dc75a90b268bc8309_r54321.h5\n",
      "INFO:21cmFAST:Removing IonizedBox_0e15e9e9a600c22dc75a90b268bc8309_r54321.h5\n",
      "2023-02-27 20:25:24,657 | INFO | Removing PerturbedField_2c877e76a8a7e9ddefc73fee92c5f7e6_r54321.h5\n",
      "INFO:21cmFAST:Removing PerturbedField_2c877e76a8a7e9ddefc73fee92c5f7e6_r54321.h5\n",
      "2023-02-27 20:25:24,665 | INFO | Removing PerturbedField_4609583fb25962d26e912838efdcbdfb_r54321.h5\n",
      "INFO:21cmFAST:Removing PerturbedField_4609583fb25962d26e912838efdcbdfb_r54321.h5\n",
      "2023-02-27 20:25:24,682 | INFO | Removing TsBox_6cfbc600d2cb43952dcae51c5b8a757e_r54321.h5\n",
      "INFO:21cmFAST:Removing TsBox_6cfbc600d2cb43952dcae51c5b8a757e_r54321.h5\n",
      "2023-02-27 20:25:24,699 | INFO | Removing IonizedBox_1bb84b8c043a549e8afd8a81c2599135_r54321.h5\n",
      "INFO:21cmFAST:Removing IonizedBox_1bb84b8c043a549e8afd8a81c2599135_r54321.h5\n",
      "2023-02-27 20:25:24,716 | INFO | Removing BrightnessTemp_4ee2647a8da6a44cbacec4dd69d52eff_r54321.h5\n",
      "INFO:21cmFAST:Removing BrightnessTemp_4ee2647a8da6a44cbacec4dd69d52eff_r54321.h5\n",
      "2023-02-27 20:25:24,732 | INFO | Removing IonizedBox_357cdecffcbbac3678380e0ddbd7df69_r54321.h5\n",
      "INFO:21cmFAST:Removing IonizedBox_357cdecffcbbac3678380e0ddbd7df69_r54321.h5\n",
      "2023-02-27 20:25:24,750 | INFO | Removing TsBox_3111df0e3627efcd8b280496d92d3b75_r54321.h5\n",
      "INFO:21cmFAST:Removing TsBox_3111df0e3627efcd8b280496d92d3b75_r54321.h5\n",
      "2023-02-27 20:25:24,767 | INFO | Removing IonizedBox_33917a5341466939e86e41446036198d_r54321.h5\n",
      "INFO:21cmFAST:Removing IonizedBox_33917a5341466939e86e41446036198d_r54321.h5\n",
      "2023-02-27 20:25:24,784 | INFO | Removing TsBox_fab5eddd0c65947b751343ba4c18a12d_r54321.h5\n",
      "INFO:21cmFAST:Removing TsBox_fab5eddd0c65947b751343ba4c18a12d_r54321.h5\n",
      "2023-02-27 20:25:24,802 | INFO | Removing TsBox_7cfeca03b92e8cef4160de783b02c2fe_r54321.h5\n",
      "INFO:21cmFAST:Removing TsBox_7cfeca03b92e8cef4160de783b02c2fe_r54321.h5\n",
      "2023-02-27 20:25:24,812 | INFO | Removing PerturbedField_55c352f1d2cada383efdbf63e603ef6b_r54321.h5\n",
      "INFO:21cmFAST:Removing PerturbedField_55c352f1d2cada383efdbf63e603ef6b_r54321.h5\n",
      "2023-02-27 20:25:24,828 | INFO | Removing BrightnessTemp_c3b8f9b40d5bffedfd2f8aea00fe0830_r54321.h5\n",
      "INFO:21cmFAST:Removing BrightnessTemp_c3b8f9b40d5bffedfd2f8aea00fe0830_r54321.h5\n",
      "2023-02-27 20:25:24,845 | INFO | Removing IonizedBox_fde82ceef2db6dc0c46c02e9151a7f23_r54321.h5\n",
      "INFO:21cmFAST:Removing IonizedBox_fde82ceef2db6dc0c46c02e9151a7f23_r54321.h5\n",
      "2023-02-27 20:25:24,855 | INFO | Removing PerturbedField_66ffa4cc493f4f80f64623ac6a00f4bb_r54321.h5\n",
      "INFO:21cmFAST:Removing PerturbedField_66ffa4cc493f4f80f64623ac6a00f4bb_r54321.h5\n",
      "2023-02-27 20:25:24,872 | INFO | Removing TsBox_cadec0e449347c7bd0736c7b328025e9_r54321.h5\n",
      "INFO:21cmFAST:Removing TsBox_cadec0e449347c7bd0736c7b328025e9_r54321.h5\n",
      "2023-02-27 20:25:24,890 | INFO | Removing TsBox_310ff98ee63c1cf0047fdac02b65f4d1_r54321.h5\n",
      "INFO:21cmFAST:Removing TsBox_310ff98ee63c1cf0047fdac02b65f4d1_r54321.h5\n",
      "2023-02-27 20:25:24,906 | INFO | Removing BrightnessTemp_a4134231a119a745b76af39ad7eb297d_r54321.h5\n",
      "INFO:21cmFAST:Removing BrightnessTemp_a4134231a119a745b76af39ad7eb297d_r54321.h5\n",
      "2023-02-27 20:25:24,922 | INFO | Removing BrightnessTemp_d557cf4641d57e7f3503f1666d898510_r54321.h5\n",
      "INFO:21cmFAST:Removing BrightnessTemp_d557cf4641d57e7f3503f1666d898510_r54321.h5\n",
      "2023-02-27 20:25:24,939 | INFO | Removing BrightnessTemp_0c3e11f2e6e000cef54568670f34ee58_r54321.h5\n",
      "INFO:21cmFAST:Removing BrightnessTemp_0c3e11f2e6e000cef54568670f34ee58_r54321.h5\n",
      "2023-02-27 20:25:24,956 | INFO | Removing IonizedBox_4ac3b37870df1fcb35e3319c4079225a_r54321.h5\n",
      "INFO:21cmFAST:Removing IonizedBox_4ac3b37870df1fcb35e3319c4079225a_r54321.h5\n",
      "2023-02-27 20:25:24,975 | INFO | Removing IonizedBox_66bad1489c7776c9b2f0108a686c5656_r54321.h5\n",
      "INFO:21cmFAST:Removing IonizedBox_66bad1489c7776c9b2f0108a686c5656_r54321.h5\n",
      "2023-02-27 20:25:25,002 | INFO | Removing BrightnessTemp_a8014e135e44c0cae2936cd6f869ff9c_r54321.h5\n",
      "INFO:21cmFAST:Removing BrightnessTemp_a8014e135e44c0cae2936cd6f869ff9c_r54321.h5\n",
      "2023-02-27 20:25:25,026 | INFO | Removing IonizedBox_567f8a131bb1a80a3cc924c7d4ed7be0_r54321.h5\n",
      "INFO:21cmFAST:Removing IonizedBox_567f8a131bb1a80a3cc924c7d4ed7be0_r54321.h5\n",
      "2023-02-27 20:25:25,045 | INFO | Removing BrightnessTemp_d04b57bf919f2edf7df7a92f63e6c06f_r54321.h5\n",
      "INFO:21cmFAST:Removing BrightnessTemp_d04b57bf919f2edf7df7a92f63e6c06f_r54321.h5\n",
      "2023-02-27 20:25:25,059 | INFO | Removing IonizedBox_444f696f69594540712a4d7dae00e940_r54321.h5\n",
      "INFO:21cmFAST:Removing IonizedBox_444f696f69594540712a4d7dae00e940_r54321.h5\n",
      "2023-02-27 20:25:25,068 | INFO | Removing PerturbedField_2db809a7d70878cbdd49e70f5dd9c657_r54321.h5\n",
      "INFO:21cmFAST:Removing PerturbedField_2db809a7d70878cbdd49e70f5dd9c657_r54321.h5\n",
      "2023-02-27 20:25:25,077 | INFO | Removing PerturbedField_eb1bc2d8f073a69e2e6a68812726f860_r54321.h5\n",
      "INFO:21cmFAST:Removing PerturbedField_eb1bc2d8f073a69e2e6a68812726f860_r54321.h5\n",
      "2023-02-27 20:25:25,085 | INFO | Removing PerturbedField_898787d8cc91bc5db42c01274294569c_r54321.h5\n",
      "INFO:21cmFAST:Removing PerturbedField_898787d8cc91bc5db42c01274294569c_r54321.h5\n",
      "2023-02-27 20:25:25,094 | INFO | Removing PerturbedField_2d7f7aeb8cdb41e6415cac6a88f5d9bb_r54321.h5\n",
      "INFO:21cmFAST:Removing PerturbedField_2d7f7aeb8cdb41e6415cac6a88f5d9bb_r54321.h5\n",
      "2023-02-27 20:25:25,102 | INFO | Removing PerturbedField_34e3b0179309817fd1387d93e2270f95_r54321.h5\n",
      "INFO:21cmFAST:Removing PerturbedField_34e3b0179309817fd1387d93e2270f95_r54321.h5\n",
      "2023-02-27 20:25:25,110 | INFO | Removing PerturbedField_063ac4896c516d3c6e89e421a4b6f12d_r54321.h5\n",
      "INFO:21cmFAST:Removing PerturbedField_063ac4896c516d3c6e89e421a4b6f12d_r54321.h5\n",
      "2023-02-27 20:25:25,124 | INFO | Removing IonizedBox_81fab9b4e891ea44cabe6486127bd0de_r54321.h5\n",
      "INFO:21cmFAST:Removing IonizedBox_81fab9b4e891ea44cabe6486127bd0de_r54321.h5\n",
      "2023-02-27 20:25:25,140 | INFO | Removing TsBox_d8d4e016afdd469c811b9da31e477765_r54321.h5\n",
      "INFO:21cmFAST:Removing TsBox_d8d4e016afdd469c811b9da31e477765_r54321.h5\n",
      "2023-02-27 20:25:25,154 | INFO | Removing BrightnessTemp_dd9e8c3748675f4b79a5a265df86bed6_r54321.h5\n",
      "INFO:21cmFAST:Removing BrightnessTemp_dd9e8c3748675f4b79a5a265df86bed6_r54321.h5\n",
      "2023-02-27 20:25:25,168 | INFO | Removing BrightnessTemp_fa1dd2aff9e876270e1be3270c93f7bf_r54321.h5\n",
      "INFO:21cmFAST:Removing BrightnessTemp_fa1dd2aff9e876270e1be3270c93f7bf_r54321.h5\n",
      "2023-02-27 20:25:25,183 | INFO | Removing IonizedBox_29a3bbf07bb600403a70e21413382dd9_r54321.h5\n",
      "INFO:21cmFAST:Removing IonizedBox_29a3bbf07bb600403a70e21413382dd9_r54321.h5\n",
      "2023-02-27 20:25:25,195 | INFO | Removing PerturbedField_c07e71f16756a62f44f4fb7e482ac286_r54321.h5\n",
      "INFO:21cmFAST:Removing PerturbedField_c07e71f16756a62f44f4fb7e482ac286_r54321.h5\n",
      "2023-02-27 20:25:25,213 | INFO | Removing IonizedBox_60e39ed7fdc7c2a60fcdb2b54684c9bf_r54321.h5\n",
      "INFO:21cmFAST:Removing IonizedBox_60e39ed7fdc7c2a60fcdb2b54684c9bf_r54321.h5\n",
      "2023-02-27 20:25:25,224 | INFO | Removing PerturbedField_10002b87df08091d3b39fcba5214d406_r54321.h5\n",
      "INFO:21cmFAST:Removing PerturbedField_10002b87df08091d3b39fcba5214d406_r54321.h5\n",
      "2023-02-27 20:25:25,237 | INFO | Removing PerturbedField_b3d287bbcbfd9ce8e402ffa33be6ea9f_r54321.h5\n",
      "INFO:21cmFAST:Removing PerturbedField_b3d287bbcbfd9ce8e402ffa33be6ea9f_r54321.h5\n",
      "2023-02-27 20:25:25,261 | INFO | Removing TsBox_0efddb4456aff1c7be5bdb39da8e429f_r54321.h5\n",
      "INFO:21cmFAST:Removing TsBox_0efddb4456aff1c7be5bdb39da8e429f_r54321.h5\n",
      "2023-02-27 20:25:25,291 | INFO | Removing IonizedBox_3b4405c7213e5be5d760fc927453c46d_r54321.h5\n",
      "INFO:21cmFAST:Removing IonizedBox_3b4405c7213e5be5d760fc927453c46d_r54321.h5\n",
      "2023-02-27 20:25:25,317 | INFO | Removing BrightnessTemp_97c3f3877cb1974422510f6024f515d7_r54321.h5\n",
      "INFO:21cmFAST:Removing BrightnessTemp_97c3f3877cb1974422510f6024f515d7_r54321.h5\n",
      "2023-02-27 20:25:25,332 | INFO | Removing PerturbedField_b7d8847603c8c072ce88b598e21c9c8e_r54321.h5\n",
      "INFO:21cmFAST:Removing PerturbedField_b7d8847603c8c072ce88b598e21c9c8e_r54321.h5\n",
      "2023-02-27 20:25:25,356 | INFO | Removing IonizedBox_dd87609ff2ceef39a4919ad0947eaced_r54321.h5\n",
      "INFO:21cmFAST:Removing IonizedBox_dd87609ff2ceef39a4919ad0947eaced_r54321.h5\n",
      "2023-02-27 20:25:25,383 | INFO | Removing TsBox_4f5672b8fa4111caa97ae031295e1cd4_r54321.h5\n",
      "INFO:21cmFAST:Removing TsBox_4f5672b8fa4111caa97ae031295e1cd4_r54321.h5\n",
      "2023-02-27 20:25:25,409 | INFO | Removing IonizedBox_48bb6da32bca4519e0be315b63a2b290_r54321.h5\n",
      "INFO:21cmFAST:Removing IonizedBox_48bb6da32bca4519e0be315b63a2b290_r54321.h5\n",
      "2023-02-27 20:25:25,430 | INFO | Removing TsBox_d6efebe775ef0c94fa57c6ab5eaf7496_r54321.h5\n",
      "INFO:21cmFAST:Removing TsBox_d6efebe775ef0c94fa57c6ab5eaf7496_r54321.h5\n",
      "2023-02-27 20:25:25,445 | INFO | Removing TsBox_591044d15e4436e5e2f5985373c2bd2e_r54321.h5\n",
      "INFO:21cmFAST:Removing TsBox_591044d15e4436e5e2f5985373c2bd2e_r54321.h5\n",
      "2023-02-27 20:25:25,454 | INFO | Removing PerturbedField_b300e94899545cd41caf096a4ee30910_r54321.h5\n",
      "INFO:21cmFAST:Removing PerturbedField_b300e94899545cd41caf096a4ee30910_r54321.h5\n",
      "2023-02-27 20:25:25,463 | INFO | Removing PerturbedField_2c9877aa519425f7be3bff6655eb9b5b_r54321.h5\n",
      "INFO:21cmFAST:Removing PerturbedField_2c9877aa519425f7be3bff6655eb9b5b_r54321.h5\n",
      "2023-02-27 20:25:25,477 | INFO | Removing BrightnessTemp_f709dcf096333c2a0668a3936d8575e0_r54321.h5\n",
      "INFO:21cmFAST:Removing BrightnessTemp_f709dcf096333c2a0668a3936d8575e0_r54321.h5\n",
      "2023-02-27 20:25:25,493 | INFO | Removing BrightnessTemp_eae50f494fddddf6aa5735a9b882f383_r54321.h5\n",
      "INFO:21cmFAST:Removing BrightnessTemp_eae50f494fddddf6aa5735a9b882f383_r54321.h5\n",
      "2023-02-27 20:25:25,509 | INFO | Removing BrightnessTemp_b2a18ae37b9190f359d09e9395f655c4_r54321.h5\n",
      "INFO:21cmFAST:Removing BrightnessTemp_b2a18ae37b9190f359d09e9395f655c4_r54321.h5\n",
      "2023-02-27 20:25:25,519 | INFO | Removing InitialConditions_3a4fcb7def55f707e37b342d1dae2255_r54321.h5\n",
      "INFO:21cmFAST:Removing InitialConditions_3a4fcb7def55f707e37b342d1dae2255_r54321.h5\n",
      "2023-02-27 20:25:25,584 | INFO | Removing PerturbedField_03350dfceee65d095c1535061d8ff98a_r54321.h5\n",
      "INFO:21cmFAST:Removing PerturbedField_03350dfceee65d095c1535061d8ff98a_r54321.h5\n",
      "2023-02-27 20:25:25,599 | INFO | Removing PerturbedField_087628a22910b9c674fa085e0065daab_r54321.h5\n",
      "INFO:21cmFAST:Removing PerturbedField_087628a22910b9c674fa085e0065daab_r54321.h5\n",
      "2023-02-27 20:25:25,619 | INFO | Removing TsBox_881a79406d78385b7245fef03a8876ff_r54321.h5\n",
      "INFO:21cmFAST:Removing TsBox_881a79406d78385b7245fef03a8876ff_r54321.h5\n",
      "2023-02-27 20:25:25,636 | INFO | Removing IonizedBox_907927a78d0bebd3c147fc72746d807f_r54321.h5\n",
      "INFO:21cmFAST:Removing IonizedBox_907927a78d0bebd3c147fc72746d807f_r54321.h5\n",
      "2023-02-27 20:25:25,648 | INFO | Removing PerturbedField_3cbdef1cc086eab4cd9434e5d6552711_r54321.h5\n",
      "INFO:21cmFAST:Removing PerturbedField_3cbdef1cc086eab4cd9434e5d6552711_r54321.h5\n",
      "2023-02-27 20:25:25,664 | INFO | Removing BrightnessTemp_b2717fd37b82ddcb41ea856d90d2168b_r54321.h5\n",
      "INFO:21cmFAST:Removing BrightnessTemp_b2717fd37b82ddcb41ea856d90d2168b_r54321.h5\n",
      "2023-02-27 20:25:25,667 | INFO | Removed 149 files from cache.\n",
      "INFO:21cmFAST:Removed 149 files from cache.\n"
     ]
    }
   ],
   "source": [
    "cache_tools.clear_cache()"
   ]
  },
  {
   "cell_type": "code",
   "execution_count": 26,
   "id": "8fc2f859-3bb5-4c74-bbd6-f57b4b6ced94",
   "metadata": {},
   "outputs": [
    {
     "name": "stdout",
     "output_type": "stream",
     "text": [
      "[33.75089682 32.09609221 30.52008781 29.01913125 27.58964881 26.22823696\n",
      " 24.93165425 23.69681357 22.52077483 21.40073793 20.33403613 19.31812965\n",
      " 18.35059966 17.42914254 16.55156432 15.71577554 14.91978623 14.16170117\n",
      " 13.4397154  12.75210991 12.09724753 11.47356908 10.8795896  10.31389485\n",
      "  9.77513796  9.26203615  8.77336776  8.3079693   7.86473266  7.44260254\n",
      "  7.04057384  6.65768938  6.2930375   5.94575     5.615       5.3\n",
      "  5.        ]\n"
     ]
    }
   ],
   "source": [
    "# initialize\n",
    "initial_conditions = p21c.initial_conditions(\n",
    "    user_params = p21c.UserParams(\n",
    "        HII_DIM=50, # [1]\n",
    "        BOX_LEN=50, # [p-Mpc]\n",
    "        N_THREADS=N_THREADS\n",
    "    ),\n",
    "    cosmo_params = p21c.CosmoParams(SIGMA_8=0.8),\n",
    "    random_seed=54321, write=True\n",
    ")\n",
    "\n",
    "# redshift\n",
    "p21c.global_params.ZPRIME_STEP_FACTOR = 1.05\n",
    "z_arr = get_z_arr(z_end=5)\n",
    "print(z_arr)\n",
    "\n",
    "# dark matter\n",
    "dm_params = DMParams(mode='swave', primary='phot_delta', m_DM=2e6, sigmav=1e-26)"
   ]
  },
  {
   "cell_type": "code",
   "execution_count": 27,
   "id": "ee314dda-e19b-45cb-9bb6-df69a119d26a",
   "metadata": {},
   "outputs": [],
   "source": [
    "logging.getLogger('py21cmfast._utils').setLevel(logging.CRITICAL+1)\n",
    "logging.getLogger('py21cmfast.wrapper').setLevel(logging.CRITICAL+1)"
   ]
  },
  {
   "cell_type": "code",
   "execution_count": 28,
   "id": "6d1c6bac-9b21-42ee-8542-5e732bb1ed35",
   "metadata": {
    "tags": []
   },
   "outputs": [
    {
     "name": "stderr",
     "output_type": "stream",
     "text": [
      "100%|██████████| 37/37 [05:52<00:00,  9.54s/it]"
     ]
    },
    {
     "name": "stdout",
     "output_type": "stream",
     "text": [
      "input used 10.4020 s\n",
      "p21c used 342.3210 s\n"
     ]
    },
    {
     "name": "stderr",
     "output_type": "stream",
     "text": [
      "\n"
     ]
    }
   ],
   "source": [
    "records = []\n",
    "i_slice = int(initial_conditions.user_params.HII_DIM/2)\n",
    "input_time_tot = 0.\n",
    "p21c_time_tot = 0.\n",
    "\n",
    "for i_z in tqdm(range(len(z_arr))):\n",
    "\n",
    "    z = z_arr[i_z]\n",
    "    \n",
    "    input_timer = time.time()\n",
    "    if i_z == 0:\n",
    "        spin_temp = None\n",
    "        input_heating = input_ionization = input_jalpha = None\n",
    "    \n",
    "    else: ## input from second step\n",
    "        \n",
    "        input_heating = p21c.input_heating(redshift=z, init_boxes=initial_conditions, write=False)\n",
    "        input_ionization = p21c.input_ionization(redshift=z, init_boxes=initial_conditions, write=False)\n",
    "        input_jalpha = p21c.input_jalpha(redshift=z, init_boxes=initial_conditions, write=False)\n",
    "\n",
    "        if run_mode == '':\n",
    "            if i_z == 1:\n",
    "                logger.warn('Not injecting anything in this run!')\n",
    "\n",
    "        elif run_mode == 'circle':\n",
    "            input_heating.input_heating += get_circle_seq_at(LOWRES_DIM, 3, i_z)\n",
    "            input_ionization.input_ionization += get_circle_seq_at(LOWRES_DIM, 5, 9-i_z) * 1e-3\n",
    "            input_jalpha.input_jalpha += get_circle_seq_at(LOWRES_DIM, 6, 35-i_z)\n",
    "\n",
    "        else:\n",
    "            z_prev = z_arr[i_z-1]\n",
    "            \n",
    "            input_boxs = get_input_boxs(\n",
    "                delta_box = perturbed_field.density, # [1]\n",
    "                x_e_box = 1 - ionized_box.xH_box, # [1]\n",
    "                z_prev = z_arr[i_z-1],\n",
    "                z = z,\n",
    "                dm_params = dm_params,\n",
    "                f_scheme = f_scheme,\n",
    "            )\n",
    "\n",
    "            input_heating.input_heating += input_boxs['heat']\n",
    "            input_ionization.input_ionization += input_boxs['ion']\n",
    "            #input_jalpha.input_jalpha += input_boxs['exc']\n",
    "    input_time_tot += time.time() - input_timer\n",
    "\n",
    "    ## step in 21cmFAST\n",
    "    p21c_timer = time.time()\n",
    "    perturbed_field = p21c.perturb_field( # perturbed_field controls the redshift\n",
    "        redshift=z,\n",
    "        init_boxes=initial_conditions\n",
    "    )\n",
    "    spin_temp = p21c.spin_temperature(\n",
    "        perturbed_field=perturbed_field,\n",
    "        previous_spin_temp=spin_temp,\n",
    "        input_heating_box=input_heating,\n",
    "        input_ionization_box=input_ionization,\n",
    "        input_jalpha_box=input_jalpha,\n",
    "        write=True\n",
    "    )\n",
    "    ionized_box = p21c.ionize_box(\n",
    "        spin_temp=spin_temp\n",
    "    )\n",
    "    brightness_temp = p21c.brightness_temperature(\n",
    "        ionized_box=ionized_box,\n",
    "        perturbed_field=perturbed_field,\n",
    "        spin_temp=spin_temp\n",
    "    )\n",
    "    p21c_time_tot += time.time() - p21c_timer\n",
    "\n",
    "    ## save results\n",
    "    record = {\n",
    "        'delta' : perturbed_field.density[i_slice],\n",
    "        'T_s'   : spin_temp.Ts_box[i_slice],\n",
    "        'T_b'   : brightness_temp.brightness_temp[i_slice], # [mK]\n",
    "        'x_e'   : 1 - ionized_box.xH_box[i_slice],\n",
    "        #'heat'  : ( dE_inj_per_B_box * f_boxs['heat'] / dt )[i_slice], # [eV s^-1 per B] | dE/dt per B\n",
    "        #'ion'   : ( dE_inj_per_B_box * f_boxs['ion']  / dt )[i_slice], # [eV s^-1 per B] | dE/dt per B\n",
    "        #'exc'   : input_jalpha.input_jalpha[i_slice],\n",
    "    }\n",
    "    records.append(record.copy())\n",
    "    \n",
    "print(f'input used {input_time_tot:.4f} s')\n",
    "print(f'p21c used {p21c_time_tot:.4f} s')"
   ]
  },
  {
   "cell_type": "markdown",
   "id": "8dcc6028-2a2b-4023-a3a5-2ecb294cfa22",
   "metadata": {},
   "source": [
    "## 2. View"
   ]
  },
  {
   "cell_type": "code",
   "execution_count": null,
   "id": "1f3976c0-50c7-4739-a651-1f7e7d7ccd76",
   "metadata": {
    "tags": []
   },
   "outputs": [],
   "source": [
    "for i_z, z in enumerate(z_arr):\n",
    "    x = records[i_z]['T_b']\n",
    "    print(z, np.min(x), np.mean(x), np.max(x))"
   ]
  },
  {
   "cell_type": "markdown",
   "id": "dc2aa003-b7c4-40cc-8bfd-6b5e8d473325",
   "metadata": {},
   "source": [
    "### 2.1 $\\delta T_b$"
   ]
  },
  {
   "cell_type": "code",
   "execution_count": 29,
   "id": "c13f8cbc-f5eb-479f-8853-05dd30e9f973",
   "metadata": {},
   "outputs": [],
   "source": [
    "plot_data = np.array([np.quantile(record['T_b'], [0.18, 0.5, 0.82]) for record in records])\n",
    "np.save(f'../data/run_info/{RUN_NAME}_T_b.npy', plot_data)"
   ]
  },
  {
   "cell_type": "code",
   "execution_count": 30,
   "id": "a98790c1-31b6-4660-96ca-fa3fd53a0a9c",
   "metadata": {},
   "outputs": [
    {
     "data": {
      "image/png": "[encoded data removed]",
      "text/plain": [
       "<Figure size 720x480 with 1 Axes>"
      ]
     },
     "metadata": {},
     "output_type": "display_data"
    }
   ],
   "source": [
    "plot_data_base = np.load('../data/run_info/baseline_T_b.npy')\n",
    "plot_data_inj  = np.load('../data/run_info/DH_T_b.npy')\n",
    "\n",
    "fig, ax = plt.subplots()\n",
    "ax.plot(z_arr[1:], plot_data_base[:,1], label='baseline')\n",
    "ax.fill_between(z_arr[1:], plot_data_base[:,0], plot_data_base[:,2], alpha=0.5)\n",
    "ax.plot(z_arr, plot_data_inj[:,1], label='injection')\n",
    "ax.fill_between(z_arr, plot_data_inj[:,0], plot_data_inj[:,2], alpha=0.5)\n",
    "ax.set(title=r'Mean $\\delta T_b$ and variations [mK]', xlabel=r'$z$', ylabel=r'$\\delta T_b$')\n",
    "ax.set(ylim=(-200, 50));\n",
    "\n",
    "ax.legend();"
   ]
  },
  {
   "cell_type": "markdown",
   "id": "407457d0-d942-4119-bed0-395561f12d05",
   "metadata": {},
   "source": [
    "### 2.2 slices"
   ]
  },
  {
   "cell_type": "code",
   "execution_count": 20,
   "id": "6e8311ac-5ba8-47ea-8b0b-711919ad4ff8",
   "metadata": {},
   "outputs": [],
   "source": [
    "! rm plots/tmp/*"
   ]
  },
  {
   "cell_type": "code",
   "execution_count": 23,
   "id": "3cd86a7f-c885-46e9-b8d5-3891771a04ef",
   "metadata": {
    "tags": []
   },
   "outputs": [
    {
     "name": "stderr",
     "output_type": "stream",
     "text": [
      "100%|██████████| 37/37 [00:34<00:00,  1.08it/s]\n"
     ]
    }
   ],
   "source": [
    "title={\n",
    "    'delta' : r'$\\delta_\\mathrm{DM/B}$',\n",
    "    'T_s'   : r'$T_\\mathrm{spin}$ [mK]',\n",
    "    'x_e'   : r'$x_e$',\n",
    "    'heat'  : r'$\\epsilon_\\mathrm{heat}$ [eV s$^{-1}$ per B]',\n",
    "    'heat_dT' : r'heat $\\Delta T$',\n",
    "    'ion'   : r'$\\epsilon_\\mathrm{ion}$ [eV s$^{-1}$ per B]',\n",
    "    'exc'   : r'$\\epsilon_\\mathrm{exc}$',\n",
    "    'T_b'   : r'$T_b$ [mK]',\n",
    "}\n",
    "vrange={\n",
    "    'delta' : (-0.25, 0.75),\n",
    "    'T_s'   : (60., 100.),\n",
    "    'x_e'   : (0., 0.002),\n",
    "    'heat'  : (0., 7e-18),\n",
    "    'heat_dT' : (0, 40),\n",
    "    'ion'   : (0., 7e-18),\n",
    "    'exc'   : (0., 1.),\n",
    "    'T_b'   : (-20., 0.)\n",
    "}\n",
    "\n",
    "for i_z, record in enumerate(tqdm(records)):\n",
    "\n",
    "    n_col = len(record.items())\n",
    "    fig, axs = plt.subplots(1, n_col, figsize=(3*n_col, 4))\n",
    "    for i, (k, x) in enumerate(record.items()):\n",
    "        im = axs[i].imshow(x, vmin=vrange[k][0], vmax=vrange[k][1])\n",
    "        axs[i].set(title=title[k], xticks=[], yticks=[])\n",
    "        axs[i].text(28, 47, f'z={z_arr[i_z]:.3f}', color='w')\n",
    "        fig.colorbar(im, ax=axs[i], orientation='horizontal', shrink=0.9)\n",
    "    fig.savefig(f'plots/tmp/{i_z}.png')\n",
    "    plt.close()"
   ]
  },
  {
   "cell_type": "code",
   "execution_count": 24,
   "id": "9461804a-aad6-45be-b5e0-1dc2b9198c84",
   "metadata": {},
   "outputs": [],
   "source": [
    "import glob\n",
    "import contextlib\n",
    "from PIL import Image\n",
    "\n",
    "# filepaths\n",
    "fp_in = \"plots/tmp/*.png\"\n",
    "fp_out = \"plots/DH.gif\"\n",
    "\n",
    "# use exit stack to automatically close opened images\n",
    "flist = glob.glob(fp_in)\n",
    "with contextlib.ExitStack() as stack:\n",
    "    imgs = (stack.enter_context(Image.open(f))\n",
    "            for f in sorted(flist, key=lambda x: int(os.path.basename(x).split('.')[0])))\n",
    "    # extract  first image from iterator\n",
    "    durations = np.full(len(flist), 500)\n",
    "    durations[-1] = 1500\n",
    "    img = next(imgs)\n",
    "\n",
    "    # https://pillow.readthedocs.io/en/stable/handbook/image-file-formats.html#gif\n",
    "    img.save(fp=fp_out, format='GIF', append_images=imgs,\n",
    "             save_all=True, duration=list(durations), loop=0)"
   ]
  },
  {
   "cell_type": "markdown",
   "id": "7516772f-c264-42a7-a3cf-1d75f98942ed",
   "metadata": {},
   "source": [
    "### 2.3 lightcone"
   ]
  },
  {
   "cell_type": "code",
   "execution_count": null,
   "id": "b0caf293-83ad-4213-b852-46d8fb7f4080",
   "metadata": {},
   "outputs": [],
   "source": [
    "p21c.run_lightcone(redshift=5)"
   ]
  },
  {
   "cell_type": "markdown",
   "id": "4c8f5619-ed04-4b38-a722-edebfebf1656",
   "metadata": {},
   "source": [
    "# Archive"
   ]
  },
  {
   "cell_type": "markdown",
   "id": "9e0c8bb7-bcbd-446f-977d-cff085645673",
   "metadata": {},
   "source": [
    "## A. Some uniform calculation for scale"
   ]
  },
  {
   "cell_type": "code",
   "execution_count": 25,
   "id": "40e41d4a-588f-469f-aa5f-0c9b3d63fe17",
   "metadata": {},
   "outputs": [],
   "source": [
    "swave_process = dict(\n",
    "    mode = 'swave',\n",
    "    mDM = 2e6, # [eV]\n",
    "    sigmav = 1e-26, # [cm^3 s^-1]\n",
    ")\n",
    "decay_process = dict(\n",
    "    mode = 'decay',\n",
    "    mDM = 4e6, # [eV]\n",
    "    lifetime = 3e25, # [s]\n",
    ")\n",
    "process = swave_process"
   ]
  },
  {
   "cell_type": "markdown",
   "id": "91af0e64-fdd2-4161-ad0b-a98749743699",
   "metadata": {},
   "source": [
    "$$\\mathcal{E}^{inj}=\\frac{1}{n_B}\\frac{dE}{dtdV}=(1+z)^3\\frac{\\Omega_{DM}^2}{\\Omega_B}\\rho_c(1+B(z))m_pc^2\\frac{\\langle\\sigma v\\rangle}{m_{DM}}$$"
   ]
  },
  {
   "cell_type": "code",
   "execution_count": 26,
   "id": "229698a6-11f4-4cfd-be9d-f8e561b18354",
   "metadata": {},
   "outputs": [
    {
     "name": "stdout",
     "output_type": "stream",
     "text": [
      "E_inj = (1+z)^3 (1+B) * 3.1821e-20 eV / s\n"
     ]
    }
   ],
   "source": [
    "E_inj = phys.omega_DM**2 / phys.omega_baryon * phys.rho_crit * phys.m_p * process['sigmav'] / process['mDM']\n",
    "print(f\"E_inj = (1+z)^3 (1+B) * {E_inj:.4e} eV / s\")"
   ]
  },
  {
   "cell_type": "markdown",
   "id": "fde47677-07e0-434b-bf68-80db1e969f16",
   "metadata": {},
   "source": [
    "$$\\epsilon^{DM}_{heat}=f_{heat}\\mathcal{E}^{inj}$$"
   ]
  },
  {
   "cell_type": "code",
   "execution_count": 27,
   "id": "b29243b6-624e-431b-ad34-3113f704406b",
   "metadata": {},
   "outputs": [
    {
     "name": "stderr",
     "output_type": "stream",
     "text": [
      "WARNING:jax._src.lib.xla_bridge:No GPU/TPU found, falling back to CPU. (Set TF_CPP_MIN_LOG_LEVEL=0 and rerun for more info.)\n"
     ]
    },
    {
     "name": "stdout",
     "output_type": "stream",
     "text": [
      "e_DM_heat = (1+B) * 1.1110e-19 eV / s\n"
     ]
    }
   ],
   "source": [
    "z_high, z_low = 34.91712652, 33.20678716\n",
    "delta_B = jnp.array([0.])\n",
    "x_e = jnp.array([0.1])\n",
    "f_boxs = get_DH_f_boxs(delta_B, x_e, z=z_high, **process)\n",
    "\n",
    "eDMheat = (1+z_high)**3 * f_boxs['heat'].flatten()[0] * E_inj\n",
    "print(f\"e_DM_heat = (1+B) * {eDMheat:.4e} eV / s\")"
   ]
  },
  {
   "cell_type": "markdown",
   "id": "cfd16115-71d4-4d89-a2ab-9aed92cf522d",
   "metadata": {},
   "source": [
    "$$\\Delta T=\\frac{2}{3k_B(1+x_e)}\\,\\Delta t\\,\\epsilon^{DM}_{heat}$$"
   ]
  },
  {
   "cell_type": "code",
   "execution_count": 28,
   "id": "ed5a8593-9b4d-4f50-834e-6a439f03274b",
   "metadata": {},
   "outputs": [
    {
     "name": "stdout",
     "output_type": "stream",
     "text": [
      "dT = (1+B) * 149.2254 mK\n"
     ]
    }
   ],
   "source": [
    "dT =  2 / (3*phys.kB) * phys.dt_between_z(z_high, z_low) * eDMheat / (1+x_e[0])\n",
    "print(f\"dT = (1+B) * {1000*dT:.4f} mK\")"
   ]
  },
  {
   "cell_type": "markdown",
   "id": "18adb354-4b5d-4f46-b1b6-97f331457a18",
   "metadata": {},
   "source": [
    "## B. Plotting"
   ]
  },
  {
   "cell_type": "code",
   "execution_count": 10,
   "id": "4961844b-d27a-4363-a494-4195d738affc",
   "metadata": {},
   "outputs": [
    {
     "data": {
      "text/plain": [
       "[Text(0.5, 1.0, 'input ionization'), [], []]"
      ]
     },
     "execution_count": 10,
     "metadata": {},
     "output_type": "execute_result"
    },
    {
     "data": {
      "image/png": "[encoded data removed]",
      "text/plain": [
       "<Figure size 960x480 with 2 Axes>"
      ]
     },
     "metadata": {},
     "output_type": "display_data"
    }
   ],
   "source": [
    "fig, axs = plt.subplots(1, 2, figsize=(8,4))\n",
    "im0 = axs[0].imshow(input_heating.input_heating[25])\n",
    "im1 = axs[1].imshow(input_ionization.input_ionization[25])\n",
    "\n",
    "axs[0].set(title=r'input heating', xticks=[], yticks=[])\n",
    "axs[1].set(title=r'input ionization', xticks=[], yticks=[])\n",
    "\n",
    "#fig.colorbar(im0, ax=axs[0], orientation='horizontal')\n",
    "#fig.colorbar(im1, ax=axs[1], orientation='horizontal')"
   ]
  },
  {
   "cell_type": "code",
   "execution_count": 11,
   "id": "8e484af3-5a77-489c-a7d7-6fa3e025d3a5",
   "metadata": {},
   "outputs": [
    {
     "data": {
      "text/plain": [
       "<matplotlib.colorbar.Colorbar at 0x7f3c9c79e190>"
      ]
     },
     "execution_count": 11,
     "metadata": {},
     "output_type": "execute_result"
    },
    {
     "data": {
      "image/png": "[encoded data removed]",
      "text/plain": [
       "<Figure size 1200x600 with 4 Axes>"
      ]
     },
     "metadata": {},
     "output_type": "display_data"
    }
   ],
   "source": [
    "fig, axs = plt.subplots(1, 2, figsize=(10,5))\n",
    "im0 = axs[0].imshow(spin_temp.Tk_box[25])\n",
    "im1 = axs[1].imshow(spin_temp.x_e_box[25])\n",
    "\n",
    "axs[0].set(title='spin_temp.Tk_box', xticks=[], yticks=[])\n",
    "axs[1].set(title='spin_temp.x_e_box', xticks=[], yticks=[])\n",
    "\n",
    "fig.colorbar(im0, ax=axs[0], orientation='horizontal')\n",
    "fig.colorbar(im1, ax=axs[1], orientation='horizontal')"
   ]
  },
  {
   "cell_type": "code",
   "execution_count": null,
   "id": "06961485-d216-40f9-9212-adccd830a5f2",
   "metadata": {},
   "outputs": [],
   "source": []
  }
 ],
 "metadata": {
  "kernelspec": {
   "display_name": "21cmfast",
   "language": "python",
   "name": "21cmfast"
  },
  "language_info": {
   "codemirror_mode": {
    "name": "ipython",
    "version": 3
   },
   "file_extension": ".py",
   "mimetype": "text/x-python",
   "name": "python",
   "nbconvert_exporter": "python",
   "pygments_lexer": "ipython3",
   "version": "3.7.12"
  }
 },
 "nbformat": 4,
 "nbformat_minor": 5
}
