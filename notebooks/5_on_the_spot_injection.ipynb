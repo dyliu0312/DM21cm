{
 "cells": [
  {
   "cell_type": "code",
   "execution_count": 1,
   "id": "52e0af78-f6a3-4e65-84c2-7e5b9da13767",
   "metadata": {},
   "outputs": [],
   "source": [
    "%reload_ext autoreload\n",
    "%autoreload 2\n",
    "\n",
    "import os, sys\n",
    "sys.path.append('..')\n",
    "\n",
    "import numpy as np\n",
    "from tqdm import tqdm\n",
    "import time\n",
    "\n",
    "%matplotlib inline\n",
    "import matplotlib as mpl\n",
    "import matplotlib.pyplot as plt\n",
    "mpl.rc_file('../matplotlibrc')"
   ]
  },
  {
   "cell_type": "code",
   "execution_count": 2,
   "id": "46290c90-b455-403a-9a45-d56f8bbd9edb",
   "metadata": {},
   "outputs": [
    {
     "name": "stderr",
     "output_type": "stream",
     "text": [
      "/work/submit/yitians/anaconda3/envs/21cmfast/lib/python3.7/site-packages/py21cmfast/_cfg.py:59: UserWarning: Your configuration file is out of date. Updating...\n",
      "  \"Your configuration file is out of date. Updating...\"\n",
      "/work/submit/yitians/anaconda3/envs/21cmfast/lib/python3.7/site-packages/py21cmfast/_cfg.py:42: UserWarning: Your configuration file is out of date. Updating...\n",
      "  warnings.warn(\"Your configuration file is out of date. Updating...\")\n"
     ]
    },
    {
     "name": "stdout",
     "output_type": "stream",
     "text": [
      "Using 21cmFAST version 0.1.dev1578+g6f96f89.d20230224\n"
     ]
    }
   ],
   "source": [
    "# 21cmFAST\n",
    "import py21cmfast as p21c\n",
    "from py21cmfast import plotting, cache_tools\n",
    "print(f'Using 21cmFAST version {p21c.__version__}')\n",
    "\n",
    "import logging\n",
    "logger = logging.getLogger('21cmFAST')\n",
    "logger.setLevel(logging.INFO)"
   ]
  },
  {
   "cell_type": "code",
   "execution_count": 18,
   "id": "08e23e35-8ae8-4a23-811c-20ce04bd1341",
   "metadata": {},
   "outputs": [],
   "source": [
    "from dm21cm.injection import DMParams, get_input_boxs"
   ]
  },
  {
   "cell_type": "markdown",
   "id": "643c4b23-a3db-4ddd-afd4-121af55bdcd0",
   "metadata": {},
   "source": [
    "## 0. Global config"
   ]
  },
  {
   "cell_type": "code",
   "execution_count": 4,
   "id": "fc7f8f97-6ea8-42f3-b995-f49e9febadb6",
   "metadata": {},
   "outputs": [
    {
     "name": "stdout",
     "output_type": "stream",
     "text": [
      "CPU(s):                48\n",
      "On-line CPU(s) list:   0-47\n",
      "NUMA node0 CPU(s):     0,2,4,6,8,10,12,14,16,18,20,22,24,26,28,30,32,34,36,38,40,42,44,46\n",
      "NUMA node1 CPU(s):     1,3,5,7,9,11,13,15,17,19,21,23,25,27,29,31,33,35,37,39,41,43,45,47\n"
     ]
    }
   ],
   "source": [
    "! lscpu | grep \"CPU(s)\""
   ]
  },
  {
   "cell_type": "code",
   "execution_count": 5,
   "id": "0174ed4e-11a7-4808-89a9-0a4061ff6eac",
   "metadata": {},
   "outputs": [],
   "source": [
    "N_THREADS = 32"
   ]
  },
  {
   "cell_type": "markdown",
   "id": "57704a4e-4f84-40a1-9e99-955ece15e94a",
   "metadata": {},
   "source": [
    "## 1. Run"
   ]
  },
  {
   "cell_type": "code",
   "execution_count": 6,
   "id": "d89a9ff3-7fea-457b-a5f5-1f5a1907d98c",
   "metadata": {},
   "outputs": [],
   "source": [
    "def get_z_arr(z_start=None, z_end=20):\n",
    "    \n",
    "    if z_start is None:\n",
    "        z_start = p21c.global_params.Z_HEAT_MAX\n",
    "    z_arr = [z_end]\n",
    "    while np.max(z_arr) < z_start:\n",
    "        z_prev = (1 + np.max(z_arr)) * p21c.global_params.ZPRIME_STEP_FACTOR - 1\n",
    "        z_arr.append(z_prev)\n",
    "    return np.array(z_arr[::-1][1:])"
   ]
  },
  {
   "cell_type": "code",
   "execution_count": 7,
   "id": "a8f23f00-a863-45b8-bd2e-0ae3ed2006aa",
   "metadata": {},
   "outputs": [
    {
     "data": {
      "text/plain": [
       "['DH', 'emf_comp_ck', 'dh', 'baseline', 'emf_comp_dh', 'emf_comp_base']"
      ]
     },
     "execution_count": 7,
     "metadata": {},
     "output_type": "execute_result"
    }
   ],
   "source": [
    "# check cached runs\n",
    "CACHE_DIR_BASE = '/scratch/submit/ctp/yitians/21cmFAST-cache'\n",
    "os.listdir(CACHE_DIR_BASE)"
   ]
  },
  {
   "cell_type": "code",
   "execution_count": 9,
   "id": "7e9e1e6b-58d4-4880-9bd4-2d861ce5d0e2",
   "metadata": {},
   "outputs": [],
   "source": [
    "# run config\n",
    "RUN_NAME = 'emf_comp_evfy'\n",
    "f_scheme = 'EVFY'\n",
    "run_mode = 'inj'\n",
    "\n",
    "p21c.config['direc'] = f'{CACHE_DIR_BASE}/{RUN_NAME}'\n",
    "os.makedirs(p21c.config['direc'], exist_ok=True)"
   ]
  },
  {
   "cell_type": "code",
   "execution_count": 10,
   "id": "38cb4391-a722-4ddc-8572-8ec55884bbb0",
   "metadata": {
    "tags": []
   },
   "outputs": [
    {
     "name": "stderr",
     "output_type": "stream",
     "text": [
      "2023-02-28 00:37:03,560 | INFO | Removed 0 files from cache.\n",
      "INFO:21cmFAST:Removed 0 files from cache.\n"
     ]
    }
   ],
   "source": [
    "cache_tools.clear_cache()"
   ]
  },
  {
   "cell_type": "code",
   "execution_count": 11,
   "id": "8fc2f859-3bb5-4c74-bbd6-f57b4b6ced94",
   "metadata": {},
   "outputs": [
    {
     "name": "stderr",
     "output_type": "stream",
     "text": [
      "/work/submit/yitians/anaconda3/envs/21cmfast/lib/python3.7/site-packages/py21cmfast/inputs.py:488: UserWarning: The USE_INTERPOLATION_TABLES setting has changed in v3.1.2 to be default True. You can likely ignore this warning, but if you relied onhaving USE_INTERPOLATION_TABLES=False by *default*, please set it explicitly. To silence this warning, set it explicitly to True. Thiswarning will be removed in v4.\n",
      "  \"The USE_INTERPOLATION_TABLES setting has changed in v3.1.2 to be \"\n"
     ]
    },
    {
     "name": "stdout",
     "output_type": "stream",
     "text": [
      "[43.69834103 41.5698486  39.54271295 37.61210757 35.77343578 34.02231979\n",
      " 32.35459028 30.76627646 29.25359663 27.81294917 26.44090397 25.13419426\n",
      " 23.88970882 22.70448459 21.57569961 20.50066629 19.47682504 18.50173813\n",
      " 17.57308394 16.68865137 15.84633464 15.04412822 14.28012212 13.55249726\n",
      " 12.8595212  12.199544   11.57099428 10.97237551 10.40226239  9.85929751\n",
      "  9.34218811  8.84970296  8.38066948  7.93397094  7.50854375  7.103375\n",
      "  6.7175      6.35        6.        ]\n"
     ]
    },
    {
     "name": "stderr",
     "output_type": "stream",
     "text": [
      "/work/submit/yitians/darkhistory/DarkHistory/config.py:446: VisibleDeprecationWarning: Creating an ndarray from ragged nested sequences (which is a list-or-tuple of lists-or-tuples-or ndarrays with different lengths or shapes) is deprecated. If you meant to do this, you must specify 'dtype=object' when creating the ndarray.\n",
      "  coords_data = np.array(json.load(data_file))\n",
      "/work/submit/yitians/darkhistory/DarkHistory/config.py:448: VisibleDeprecationWarning: Creating an ndarray from ragged nested sequences (which is a list-or-tuple of lists-or-tuples-or ndarrays with different lengths or shapes) is deprecated. If you meant to do this, you must specify 'dtype=object' when creating the ndarray.\n",
      "  values_data = np.array(json.load(data_file))\n"
     ]
    }
   ],
   "source": [
    "# initialize\n",
    "initial_conditions = p21c.initial_conditions(\n",
    "    user_params = p21c.UserParams(\n",
    "        HII_DIM=50, # [1]\n",
    "        BOX_LEN=50, # [p-Mpc]\n",
    "        N_THREADS=N_THREADS\n",
    "    ),\n",
    "    cosmo_params = p21c.CosmoParams(SIGMA_8=0.8),\n",
    "    random_seed=54321, write=True\n",
    ")\n",
    "\n",
    "# redshift\n",
    "p21c.global_params.ZPRIME_STEP_FACTOR = 1.05\n",
    "p21c.global_params.Z_HEAT_MAX = 44.\n",
    "z_arr = get_z_arr(z_end=6.)\n",
    "print(z_arr)\n",
    "\n",
    "# dark matter\n",
    "dm_params = DMParams(mode='swave', primary='mu', m_DM=1e10, sigmav=1e-26)"
   ]
  },
  {
   "cell_type": "code",
   "execution_count": 12,
   "id": "ee314dda-e19b-45cb-9bb6-df69a119d26a",
   "metadata": {},
   "outputs": [],
   "source": [
    "logging.getLogger('py21cmfast._utils').setLevel(logging.CRITICAL+1)\n",
    "logging.getLogger('py21cmfast.wrapper').setLevel(logging.CRITICAL+1)"
   ]
  },
  {
   "cell_type": "code",
   "execution_count": 19,
   "id": "6d1c6bac-9b21-42ee-8542-5e732bb1ed35",
   "metadata": {
    "tags": []
   },
   "outputs": [
    {
     "name": "stderr",
     "output_type": "stream",
     "text": [
      "100%|██████████| 39/39 [05:44<00:00,  8.82s/it]"
     ]
    },
    {
     "name": "stdout",
     "output_type": "stream",
     "text": [
      "input used 11.1945 s\n",
      "p21c used 332.7050 s\n"
     ]
    },
    {
     "name": "stderr",
     "output_type": "stream",
     "text": [
      "\n"
     ]
    }
   ],
   "source": [
    "records = []\n",
    "i_slice = int(initial_conditions.user_params.HII_DIM/2)\n",
    "input_time_tot = 0.\n",
    "p21c_time_tot = 0.\n",
    "\n",
    "for i_z in tqdm(range(len(z_arr))):\n",
    "\n",
    "    z = z_arr[i_z]\n",
    "    \n",
    "    input_timer = time.time()\n",
    "    if i_z == 0:\n",
    "        spin_temp = None\n",
    "        input_heating = input_ionization = input_jalpha = None\n",
    "    \n",
    "    else: ## input from second step\n",
    "        \n",
    "        input_heating = p21c.input_heating(redshift=z, init_boxes=initial_conditions, write=False)\n",
    "        input_ionization = p21c.input_ionization(redshift=z, init_boxes=initial_conditions, write=False)\n",
    "        input_jalpha = p21c.input_jalpha(redshift=z, init_boxes=initial_conditions, write=False)\n",
    "\n",
    "        if run_mode == '':\n",
    "            if i_z == 1:\n",
    "                logger.warning('Not injecting anything in this run!')\n",
    "\n",
    "        elif run_mode == 'circle':\n",
    "            input_heating.input_heating += get_circle_seq_at(LOWRES_DIM, 3, i_z)\n",
    "            input_ionization.input_ionization += get_circle_seq_at(LOWRES_DIM, 5, 9-i_z) * 1e-3\n",
    "            input_jalpha.input_jalpha += get_circle_seq_at(LOWRES_DIM, 6, 35-i_z)\n",
    "\n",
    "        else:\n",
    "            z_prev = z_arr[i_z-1]\n",
    "            \n",
    "            input_boxs = get_input_boxs(\n",
    "                delta_box = perturbed_field.density, # [1]\n",
    "                x_e_box = 1 - ionized_box.xH_box, # [1]\n",
    "                z_prev = z_arr[i_z-1],\n",
    "                z = z,\n",
    "                dm_params = dm_params,\n",
    "                f_scheme = f_scheme,\n",
    "            )\n",
    "\n",
    "            input_heating.input_heating += input_boxs['heat']\n",
    "            input_ionization.input_ionization += input_boxs['ion']\n",
    "            #input_jalpha.input_jalpha += input_boxs['exc']\n",
    "    input_time_tot += time.time() - input_timer\n",
    "\n",
    "    ## step in 21cmFAST\n",
    "    p21c_timer = time.time()\n",
    "    perturbed_field = p21c.perturb_field( # perturbed_field controls the redshift\n",
    "        redshift=z,\n",
    "        init_boxes=initial_conditions\n",
    "    )\n",
    "    spin_temp = p21c.spin_temperature(\n",
    "        perturbed_field=perturbed_field,\n",
    "        previous_spin_temp=spin_temp,\n",
    "        input_heating_box=input_heating,\n",
    "        input_ionization_box=input_ionization,\n",
    "        input_jalpha_box=input_jalpha,\n",
    "        write=True\n",
    "    )\n",
    "    ionized_box = p21c.ionize_box(\n",
    "        spin_temp=spin_temp\n",
    "    )\n",
    "    brightness_temp = p21c.brightness_temperature(\n",
    "        ionized_box=ionized_box,\n",
    "        perturbed_field=perturbed_field,\n",
    "        spin_temp=spin_temp\n",
    "    )\n",
    "    p21c_time_tot += time.time() - p21c_timer\n",
    "\n",
    "    ## save results\n",
    "    record = {\n",
    "        'delta' : perturbed_field.density[i_slice],\n",
    "        'T_s'   : spin_temp.Ts_box[i_slice],\n",
    "        'T_b'   : brightness_temp.brightness_temp[i_slice], # [mK]\n",
    "        'x_e'   : 1 - ionized_box.xH_box[i_slice],\n",
    "        #'heat'  : ( dE_inj_per_B_box * f_boxs['heat'] / dt )[i_slice], # [eV s^-1 per B] | dE/dt per B\n",
    "        #'ion'   : ( dE_inj_per_B_box * f_boxs['ion']  / dt )[i_slice], # [eV s^-1 per B] | dE/dt per B\n",
    "        #'exc'   : input_jalpha.input_jalpha[i_slice],\n",
    "    }\n",
    "    records.append(record.copy())\n",
    "    \n",
    "print(f'input used {input_time_tot:.4f} s')\n",
    "print(f'p21c used {p21c_time_tot:.4f} s')"
   ]
  },
  {
   "cell_type": "markdown",
   "id": "8dcc6028-2a2b-4023-a3a5-2ecb294cfa22",
   "metadata": {},
   "source": [
    "## 2. View"
   ]
  },
  {
   "cell_type": "code",
   "execution_count": null,
   "id": "1f3976c0-50c7-4739-a651-1f7e7d7ccd76",
   "metadata": {
    "tags": []
   },
   "outputs": [],
   "source": [
    "for i_z, z in enumerate(z_arr):\n",
    "    x = records[i_z]['T_b']\n",
    "    print(z, np.min(x), np.mean(x), np.max(x))"
   ]
  },
  {
   "cell_type": "markdown",
   "id": "dc2aa003-b7c4-40cc-8bfd-6b5e8d473325",
   "metadata": {},
   "source": [
    "### 2.1 $\\delta T_b$"
   ]
  },
  {
   "cell_type": "code",
   "execution_count": 20,
   "id": "c13f8cbc-f5eb-479f-8853-05dd30e9f973",
   "metadata": {},
   "outputs": [],
   "source": [
    "plot_data = np.array([np.quantile(record['T_b'], [0.18, 0.5, 0.82]) for record in records])\n",
    "np.save(f'../data/run_info/{RUN_NAME}_T_b.npy', plot_data)"
   ]
  },
  {
   "cell_type": "code",
   "execution_count": 22,
   "id": "319b723e-f2aa-471a-9a7a-3f0a278e48b1",
   "metadata": {},
   "outputs": [],
   "source": [
    "emf_mh3 = np.loadtxt('plots/EMF/mhmin1e-3.txt', unpack=True, skiprows=1)\n",
    "emf_mh6 = np.loadtxt('plots/EMF/mhmin1e-6.txt', unpack=True, skiprows=1)\n",
    "emf_mh9 = np.loadtxt('plots/EMF/mhmin1e-9.txt', unpack=True, skiprows=1)\n",
    "emf_base = np.loadtxt('plots/EMF/base.txt', unpack=True, skiprows=1)"
   ]
  },
  {
   "cell_type": "code",
   "execution_count": 28,
   "id": "a98790c1-31b6-4660-96ca-fa3fd53a0a9c",
   "metadata": {},
   "outputs": [
    {
     "data": {
      "image/png": "[encoded data removed]",
      "text/plain": [
       "<Figure size 840x840 with 1 Axes>"
      ]
     },
     "metadata": {},
     "output_type": "display_data"
    }
   ],
   "source": [
    "plot_data_base = np.load('../data/run_info/emf_comp_base_T_b.npy')\n",
    "plot_data_dh   = np.load('../data/run_info/emf_comp_dh_T_b.npy')\n",
    "plot_data_ck   = np.load('../data/run_info/emf_comp_ck_T_b.npy')\n",
    "plot_data_evfy = np.load('../data/run_info/emf_comp_evfy_T_b.npy')\n",
    "\n",
    "fig, ax = plt.subplots(figsize=(7,7))\n",
    "ax.plot(z_arr, plot_data_base[:,1], label='No injection', color='k')\n",
    "#ax.fill_between(z_arr, plot_data_base[:,0], plot_data_base[:,2], alpha=0.5)\n",
    "ax.plot(z_arr, plot_data_dh[:,1], ':', label='DarkHistory $f$', color='C0')\n",
    "#ax.fill_between(z_arr, plot_data_inj[:,0], plot_data_inj[:,2], alpha=0.5)\n",
    "ax.plot(z_arr, plot_data_ck[:,1], label='Chen Kamionkowski $f$', color='C2')\n",
    "ax.plot(z_arr, plot_data_evfy[:,1], label='Evoli Valdes Ferrara Yoshida $f$', color='C3')\n",
    "\n",
    "ax.set(title=r'Mean $\\delta T_b$ and variations [mK]', xlabel=r'$z$', ylabel=r'$\\delta T_b$')\n",
    "ax.set(xlim=(6, 44), ylim=(-250, 50), aspect=1/10)\n",
    "\n",
    "ax.plot(emf_base[0], emf_base[1], '--', color='gray',\n",
    "        label='EMF No injection')\n",
    "ax.plot(emf_mh3[0], emf_mh3[1], '--', color=np.array([249, 1, 249])/255,\n",
    "        label=r'EMF $M_\\mathrm{h,min}=10^{-3}M_\\odot$')\n",
    "ax.plot(emf_mh6[0], emf_mh6[1], '--', color=np.array([255, 0, 0])/255,\n",
    "        label=r'EMF $M_\\mathrm{h,min}=10^{-6}M_\\odot$')\n",
    "ax.plot(emf_mh9[0], emf_mh9[1], '--', color=np.array([255, 165, 0])/255,\n",
    "        label=r'EMF $M_\\mathrm{h,min}=10^{-9}M_\\odot$')\n",
    "\n",
    "ax.legend(fontsize=10);"
   ]
  },
  {
   "cell_type": "markdown",
   "id": "407457d0-d942-4119-bed0-395561f12d05",
   "metadata": {},
   "source": [
    "### 2.2 slices"
   ]
  },
  {
   "cell_type": "code",
   "execution_count": 20,
   "id": "6e8311ac-5ba8-47ea-8b0b-711919ad4ff8",
   "metadata": {},
   "outputs": [],
   "source": [
    "! rm plots/tmp/*"
   ]
  },
  {
   "cell_type": "code",
   "execution_count": 23,
   "id": "3cd86a7f-c885-46e9-b8d5-3891771a04ef",
   "metadata": {
    "tags": []
   },
   "outputs": [
    {
     "name": "stderr",
     "output_type": "stream",
     "text": [
      "100%|██████████| 37/37 [00:34<00:00,  1.08it/s]\n"
     ]
    }
   ],
   "source": [
    "title={\n",
    "    'delta' : r'$\\delta_\\mathrm{DM/B}$',\n",
    "    'T_s'   : r'$T_\\mathrm{spin}$ [mK]',\n",
    "    'x_e'   : r'$x_e$',\n",
    "    'heat'  : r'$\\epsilon_\\mathrm{heat}$ [eV s$^{-1}$ per B]',\n",
    "    'heat_dT' : r'heat $\\Delta T$',\n",
    "    'ion'   : r'$\\epsilon_\\mathrm{ion}$ [eV s$^{-1}$ per B]',\n",
    "    'exc'   : r'$\\epsilon_\\mathrm{exc}$',\n",
    "    'T_b'   : r'$T_b$ [mK]',\n",
    "}\n",
    "vrange={\n",
    "    'delta' : (-0.25, 0.75),\n",
    "    'T_s'   : (60., 100.),\n",
    "    'x_e'   : (0., 0.002),\n",
    "    'heat'  : (0., 7e-18),\n",
    "    'heat_dT' : (0, 40),\n",
    "    'ion'   : (0., 7e-18),\n",
    "    'exc'   : (0., 1.),\n",
    "    'T_b'   : (-20., 0.)\n",
    "}\n",
    "\n",
    "for i_z, record in enumerate(tqdm(records)):\n",
    "\n",
    "    n_col = len(record.items())\n",
    "    fig, axs = plt.subplots(1, n_col, figsize=(3*n_col, 4))\n",
    "    for i, (k, x) in enumerate(record.items()):\n",
    "        im = axs[i].imshow(x, vmin=vrange[k][0], vmax=vrange[k][1])\n",
    "        axs[i].set(title=title[k], xticks=[], yticks=[])\n",
    "        axs[i].text(28, 47, f'z={z_arr[i_z]:.3f}', color='w')\n",
    "        fig.colorbar(im, ax=axs[i], orientation='horizontal', shrink=0.9)\n",
    "    fig.savefig(f'plots/tmp/{i_z}.png')\n",
    "    plt.close()"
   ]
  },
  {
   "cell_type": "code",
   "execution_count": 24,
   "id": "9461804a-aad6-45be-b5e0-1dc2b9198c84",
   "metadata": {},
   "outputs": [],
   "source": [
    "import glob\n",
    "import contextlib\n",
    "from PIL import Image\n",
    "\n",
    "# filepaths\n",
    "fp_in = \"plots/tmp/*.png\"\n",
    "fp_out = \"plots/DH.gif\"\n",
    "\n",
    "# use exit stack to automatically close opened images\n",
    "flist = glob.glob(fp_in)\n",
    "with contextlib.ExitStack() as stack:\n",
    "    imgs = (stack.enter_context(Image.open(f))\n",
    "            for f in sorted(flist, key=lambda x: int(os.path.basename(x).split('.')[0])))\n",
    "    # extract  first image from iterator\n",
    "    durations = np.full(len(flist), 500)\n",
    "    durations[-1] = 1500\n",
    "    img = next(imgs)\n",
    "\n",
    "    # https://pillow.readthedocs.io/en/stable/handbook/image-file-formats.html#gif\n",
    "    img.save(fp=fp_out, format='GIF', append_images=imgs,\n",
    "             save_all=True, duration=list(durations), loop=0)"
   ]
  },
  {
   "cell_type": "markdown",
   "id": "7516772f-c264-42a7-a3cf-1d75f98942ed",
   "metadata": {},
   "source": [
    "### 2.3 lightcone"
   ]
  },
  {
   "cell_type": "code",
   "execution_count": null,
   "id": "b0caf293-83ad-4213-b852-46d8fb7f4080",
   "metadata": {},
   "outputs": [],
   "source": [
    "p21c.run_lightcone(redshift=5)"
   ]
  },
  {
   "cell_type": "markdown",
   "id": "4c8f5619-ed04-4b38-a722-edebfebf1656",
   "metadata": {},
   "source": [
    "# Archive"
   ]
  },
  {
   "cell_type": "markdown",
   "id": "9e0c8bb7-bcbd-446f-977d-cff085645673",
   "metadata": {},
   "source": [
    "## A. Some uniform calculation for scale"
   ]
  },
  {
   "cell_type": "code",
   "execution_count": 25,
   "id": "40e41d4a-588f-469f-aa5f-0c9b3d63fe17",
   "metadata": {},
   "outputs": [],
   "source": [
    "swave_process = dict(\n",
    "    mode = 'swave',\n",
    "    mDM = 2e6, # [eV]\n",
    "    sigmav = 1e-26, # [cm^3 s^-1]\n",
    ")\n",
    "decay_process = dict(\n",
    "    mode = 'decay',\n",
    "    mDM = 4e6, # [eV]\n",
    "    lifetime = 3e25, # [s]\n",
    ")\n",
    "process = swave_process"
   ]
  },
  {
   "cell_type": "markdown",
   "id": "91af0e64-fdd2-4161-ad0b-a98749743699",
   "metadata": {},
   "source": [
    "$$\\mathcal{E}^{inj}=\\frac{1}{n_B}\\frac{dE}{dtdV}=(1+z)^3\\frac{\\Omega_{DM}^2}{\\Omega_B}\\rho_c(1+B(z))m_pc^2\\frac{\\langle\\sigma v\\rangle}{m_{DM}}$$"
   ]
  },
  {
   "cell_type": "code",
   "execution_count": 26,
   "id": "229698a6-11f4-4cfd-be9d-f8e561b18354",
   "metadata": {},
   "outputs": [
    {
     "name": "stdout",
     "output_type": "stream",
     "text": [
      "E_inj = (1+z)^3 (1+B) * 3.1821e-20 eV / s\n"
     ]
    }
   ],
   "source": [
    "E_inj = phys.omega_DM**2 / phys.omega_baryon * phys.rho_crit * phys.m_p * process['sigmav'] / process['mDM']\n",
    "print(f\"E_inj = (1+z)^3 (1+B) * {E_inj:.4e} eV / s\")"
   ]
  },
  {
   "cell_type": "markdown",
   "id": "fde47677-07e0-434b-bf68-80db1e969f16",
   "metadata": {},
   "source": [
    "$$\\epsilon^{DM}_{heat}=f_{heat}\\mathcal{E}^{inj}$$"
   ]
  },
  {
   "cell_type": "code",
   "execution_count": 27,
   "id": "b29243b6-624e-431b-ad34-3113f704406b",
   "metadata": {},
   "outputs": [
    {
     "name": "stderr",
     "output_type": "stream",
     "text": [
      "WARNING:jax._src.lib.xla_bridge:No GPU/TPU found, falling back to CPU. (Set TF_CPP_MIN_LOG_LEVEL=0 and rerun for more info.)\n"
     ]
    },
    {
     "name": "stdout",
     "output_type": "stream",
     "text": [
      "e_DM_heat = (1+B) * 1.1110e-19 eV / s\n"
     ]
    }
   ],
   "source": [
    "z_high, z_low = 34.91712652, 33.20678716\n",
    "delta_B = jnp.array([0.])\n",
    "x_e = jnp.array([0.1])\n",
    "f_boxs = get_DH_f_boxs(delta_B, x_e, z=z_high, **process)\n",
    "\n",
    "eDMheat = (1+z_high)**3 * f_boxs['heat'].flatten()[0] * E_inj\n",
    "print(f\"e_DM_heat = (1+B) * {eDMheat:.4e} eV / s\")"
   ]
  },
  {
   "cell_type": "markdown",
   "id": "cfd16115-71d4-4d89-a2ab-9aed92cf522d",
   "metadata": {},
   "source": [
    "$$\\Delta T=\\frac{2}{3k_B(1+x_e)}\\,\\Delta t\\,\\epsilon^{DM}_{heat}$$"
   ]
  },
  {
   "cell_type": "code",
   "execution_count": 28,
   "id": "ed5a8593-9b4d-4f50-834e-6a439f03274b",
   "metadata": {},
   "outputs": [
    {
     "name": "stdout",
     "output_type": "stream",
     "text": [
      "dT = (1+B) * 149.2254 mK\n"
     ]
    }
   ],
   "source": [
    "dT =  2 / (3*phys.kB) * phys.dt_between_z(z_high, z_low) * eDMheat / (1+x_e[0])\n",
    "print(f\"dT = (1+B) * {1000*dT:.4f} mK\")"
   ]
  },
  {
   "cell_type": "markdown",
   "id": "18adb354-4b5d-4f46-b1b6-97f331457a18",
   "metadata": {},
   "source": [
    "## B. Plotting"
   ]
  },
  {
   "cell_type": "code",
   "execution_count": 10,
   "id": "4961844b-d27a-4363-a494-4195d738affc",
   "metadata": {},
   "outputs": [
    {
     "data": {
      "text/plain": [
       "[Text(0.5, 1.0, 'input ionization'), [], []]"
      ]
     },
     "execution_count": 10,
     "metadata": {},
     "output_type": "execute_result"
    },
    {
     "data": {
      "image/png": "[encoded data removed]",
      "text/plain": [
       "<Figure size 960x480 with 2 Axes>"
      ]
     },
     "metadata": {},
     "output_type": "display_data"
    }
   ],
   "source": [
    "fig, axs = plt.subplots(1, 2, figsize=(8,4))\n",
    "im0 = axs[0].imshow(input_heating.input_heating[25])\n",
    "im1 = axs[1].imshow(input_ionization.input_ionization[25])\n",
    "\n",
    "axs[0].set(title=r'input heating', xticks=[], yticks=[])\n",
    "axs[1].set(title=r'input ionization', xticks=[], yticks=[])\n",
    "\n",
    "#fig.colorbar(im0, ax=axs[0], orientation='horizontal')\n",
    "#fig.colorbar(im1, ax=axs[1], orientation='horizontal')"
   ]
  },
  {
   "cell_type": "code",
   "execution_count": 11,
   "id": "8e484af3-5a77-489c-a7d7-6fa3e025d3a5",
   "metadata": {},
   "outputs": [
    {
     "data": {
      "text/plain": [
       "<matplotlib.colorbar.Colorbar at 0x7f3c9c79e190>"
      ]
     },
     "execution_count": 11,
     "metadata": {},
     "output_type": "execute_result"
    },
    {
     "data": {
      "image/png": "[encoded data removed]",
      "text/plain": [
       "<Figure size 1200x600 with 4 Axes>"
      ]
     },
     "metadata": {},
     "output_type": "display_data"
    }
   ],
   "source": [
    "fig, axs = plt.subplots(1, 2, figsize=(10,5))\n",
    "im0 = axs[0].imshow(spin_temp.Tk_box[25])\n",
    "im1 = axs[1].imshow(spin_temp.x_e_box[25])\n",
    "\n",
    "axs[0].set(title='spin_temp.Tk_box', xticks=[], yticks=[])\n",
    "axs[1].set(title='spin_temp.x_e_box', xticks=[], yticks=[])\n",
    "\n",
    "fig.colorbar(im0, ax=axs[0], orientation='horizontal')\n",
    "fig.colorbar(im1, ax=axs[1], orientation='horizontal')"
   ]
  },
  {
   "cell_type": "code",
   "execution_count": null,
   "id": "06961485-d216-40f9-9212-adccd830a5f2",
   "metadata": {},
   "outputs": [],
   "source": []
  }
 ],
 "metadata": {
  "kernelspec": {
   "display_name": "21cmfast",
   "language": "python",
   "name": "21cmfast"
  },
  "language_info": {
   "codemirror_mode": {
    "name": "ipython",
    "version": 3
   },
   "file_extension": ".py",
   "mimetype": "text/x-python",
   "name": "python",
   "nbconvert_exporter": "python",
   "pygments_lexer": "ipython3",
   "version": "3.7.12"
  }
 },
 "nbformat": 4,
 "nbformat_minor": 5
}
