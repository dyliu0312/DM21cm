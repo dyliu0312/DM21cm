{
 "cells": [
  {
   "cell_type": "code",
   "execution_count": 1,
   "metadata": {},
   "outputs": [
    {
     "name": "stderr",
     "output_type": "stream",
     "text": [
      "/global/scratch/projects/pc_heptheory/fosterjw/21CM_Project/21cmFAST/src/py21cmfast/_cfg.py:58: UserWarning: Your configuration file is out of date. Updating...\n",
      "  warnings.warn(\n",
      "/global/scratch/projects/pc_heptheory/fosterjw/21CM_Project/21cmFAST/src/py21cmfast/_cfg.py:42: UserWarning: Your configuration file is out of date. Updating...\n",
      "  warnings.warn(\"Your configuration file is out of date. Updating...\")\n",
      "INFO:root:Using 21cmFAST version 0.1.dev1579+g6b1da6d\n",
      "INFO:root:Using 21cmFAST version 0.1.dev1579+g6b1da6d\n"
     ]
    }
   ],
   "source": [
    "import sys, os, time, pickle, h5py, logging, warnings\n",
    "from tqdm import tqdm\n",
    "\n",
    "import numpy as np\n",
    "from scipy import interpolate,integrate\n",
    "\n",
    "import jax\n",
    "import jax.numpy as jnp\n",
    "\n",
    "# The LambdaCDM cosmology\n",
    "from astropy.cosmology import Planck18 as cosmo\n",
    "from astropy import cosmology, constants, units\n",
    "\n",
    "# Import modified 21cmFAST\n",
    "import py21cmfast as p21c\n",
    "from py21cmfast import cache_tools\n",
    "\n",
    "# Configure environment for use with DarkHistory\n",
    "os.environ['DH_DIR']='/global/scratch/projects/pc_heptheory/fosterjw/21CM_Project/DarkHistory/'\n",
    "os.environ['DM21CM_DIR'] = '../'\n",
    "os.environ['DM21CM_DATA_DIR'] = '../..'\n",
    "sys.path.append(os.environ['DH_DIR'])\n",
    "from darkhistory.spec.spectrum import Spectrum # use branch test_dm21cm\n",
    "\n",
    "# Import DM21CM code for this project\n",
    "sys.path.append(\"..\")\n",
    "import dm21cm.physics as phys\n",
    "from dm21cm.dm_params import DMParams\n",
    "from dm21cm.utils import load_dict\n",
    "from dm21cm.data_loader import load_data\n",
    "from dm21cm.evolve import evolve\n",
    "from dm21cm.field_smoother import WindowedData\n",
    "\n",
    "# Plotting\n",
    "%matplotlib inline\n",
    "import matplotlib as mpl\n",
    "import matplotlib.pyplot as plt\n",
    "from matplotlib import colormaps as cms\n",
    "mpl.rc_file(\"../matplotlibrc\")\n",
    "mpl.rcParams['text.usetex']=False\n",
    "# Logging\n",
    "logging.getLogger().setLevel(logging.INFO)\n",
    "logging.getLogger('21cmFAST').setLevel(logging.CRITICAL+1)\n",
    "logging.getLogger('py21cmfast._utils').setLevel(logging.CRITICAL+1)\n",
    "logging.getLogger('py21cmfast.wrapper').setLevel(logging.CRITICAL+1)\n",
    "logging.info(f'Using 21cmFAST version {p21c.__version__}')\n",
    "\n",
    "import powerbox"
   ]
  },
  {
   "cell_type": "markdown",
   "metadata": {},
   "source": [
    "# These are some helper functions"
   ]
  },
  {
   "cell_type": "code",
   "execution_count": 2,
   "metadata": {},
   "outputs": [],
   "source": [
    "def get_z_edges(z_start, z_end, z_step_factor):\n",
    "    \n",
    "    z_list = [z_start]\n",
    "\n",
    "    while z_list[-1] > z_end:\n",
    "        z_list.append((z_list[-1] + 1) / z_step_factor-1)\n",
    "    return z_list\n",
    "\n",
    "def split_xray(phot_N, ix_lo, ix_hi):\n",
    "    \"\"\"Split a photon spectrum (N in bin) into bath and xray band.\"\"\"\n",
    "    bath_N = np.array(phot_N).copy()\n",
    "    xray_N = np.array(phot_N).copy()\n",
    "    bath_N[ix_lo:ix_hi] *= 0\n",
    "    xray_N[:ix_lo] *= 0\n",
    "    xray_N[ix_hi:] *= 0\n",
    "    \n",
    "    return bath_N, xray_N"
   ]
  },
  {
   "cell_type": "markdown",
   "metadata": {},
   "source": [
    "# Configure Our 21cmFAST Run"
   ]
  },
  {
   "cell_type": "code",
   "execution_count": 3,
   "metadata": {},
   "outputs": [],
   "source": [
    "p21c.config['direc'] = '../DebugCache/'\n",
    "cache_tools.clear_cache()\n",
    "\n",
    "# The range of times and how we step\n",
    "z_start = 44\n",
    "z_end = 6.\n",
    "z_step_factor = 1.01\n",
    "\n",
    "# The size and resolution of our box\n",
    "HII_DIM = 50 # ['Dimensionless']\n",
    "BOX_LEN = 100 # ['Mpccm']\n",
    "\n",
    "\n",
    "# Our energy injection model\n",
    "dm_params = DMParams(mode = 'swave', primary = 'phot_delta',\n",
    "                     m_DM = 1e10, sigmav = 1e-23)\n",
    "\n",
    "struct_boost_model = 'erfc 1e-3'\n",
    "enable_elec = False\n",
    "force_reload_tf = False\n",
    "run_mode = 'xray'\n",
    "dhinit_list = ['phot', 'T_k', 'x_e']\n",
    "dhtf_version = '230629'"
   ]
  },
  {
   "cell_type": "code",
   "execution_count": 4,
   "metadata": {},
   "outputs": [],
   "source": [
    "# Determine the appropriate boost factor\n",
    "if dm_params.mode == 'swave':\n",
    "    struct_boost = lambda rs: phys.struct_boost_func(model=struct_boost_model)(rs)\n",
    "else:\n",
    "    struct_boost = lambda rs: 1"
   ]
  },
  {
   "cell_type": "code",
   "execution_count": 5,
   "metadata": {},
   "outputs": [
    {
     "name": "stderr",
     "output_type": "stream",
     "text": [
      "/global/scratch/projects/pc_heptheory/fosterjw/21CM_Project/21cmFAST/src/py21cmfast/inputs.py:487: UserWarning: The USE_INTERPOLATION_TABLES setting has changed in v3.1.2 to be default True. You can likely ignore this warning, but if you relied onhaving USE_INTERPOLATION_TABLES=False by *default*, please set it explicitly. To silence this warning, set it explicitly to True. Thiswarning will be removed in v4.\n",
      "  warnings.warn(\n"
     ]
    }
   ],
   "source": [
    "p21c.global_params.Z_HEAT_MAX = z_start\n",
    "p21c.global_params.ZPRIME_STEP_FACTOR = z_step_factor\n",
    "p21c.global_params.CLUMPING_FACTOR = 1.\n",
    "\n",
    "p21c_initial_conditions = p21c.initial_conditions(\n",
    "    user_params = p21c.UserParams(\n",
    "        HII_DIM = HII_DIM,\n",
    "        BOX_LEN = BOX_LEN,\n",
    "        N_THREADS = 32,\n",
    "    ),\n",
    "    cosmo_params = p21c.CosmoParams(\n",
    "        OMm = cosmo.Om(0),\n",
    "        OMb = cosmo.Ob(0),\n",
    "        POWER_INDEX =cosmo.meta['n'],\n",
    "        SIGMA_8 = cosmo.meta['sigma8'],\n",
    "        hlittle = cosmo.h,\n",
    "    ),\n",
    "    random_seed = 54321,\n",
    "    write = True,\n",
    ")\n",
    "\n",
    "# Some details regarding our stepping\n",
    "z_edges = get_z_edges(z_start, z_end, 1.01)"
   ]
  },
  {
   "cell_type": "code",
   "execution_count": 6,
   "metadata": {},
   "outputs": [],
   "source": [
    "def p21_step(z_eval, perturbed_field, spin_temp, ionized_box,\n",
    "             input_heating = None, input_ionization = None, input_jalpha = None):\n",
    "    \n",
    "    # Calculate the spin temperature, possibly using our inputs\n",
    "    spin_temp = p21c.spin_temperature(perturbed_field=perturbed_field,\n",
    "                                      previous_spin_temp = spin_temp,\n",
    "                                      input_heating_box = input_heating,\n",
    "                                      input_ionization_box = input_ionization,\n",
    "                                      input_jalpha_box = input_jalpha)\n",
    "    \n",
    "    # Calculate the ionized box\n",
    "    ionized_box = p21c.ionize_box(perturbed_field = perturbed_field,\n",
    "                                  previous_ionize_box=ionized_box,\n",
    "                                  spin_temp=spin_temp)\n",
    "    \n",
    "    \n",
    "    # Calculate the brightness temperature\n",
    "    brightness_temp = p21c.brightness_temperature(ionized_box=ionized_box,\n",
    "                                                  perturbed_field = perturbed_field,\n",
    "                                                  spin_temp = spin_temp)\n",
    "    \n",
    "    # Construct a coevaluation set out of this data\n",
    "    coeval = p21c.Coeval(redshift = z_eval, \n",
    "                         initial_conditions = p21c_initial_conditions,\n",
    "                         perturbed_field = perturbed_field,\n",
    "                         ionized_box = ionized_box,\n",
    "                         brightness_temp = brightness_temp,\n",
    "                         ts_box = spin_temp)\n",
    "    \n",
    "    # Now return the spin temperature and ionized box because we will need them later\n",
    "    return spin_temp, ionized_box, brightness_temp\n",
    "\n",
    "def gen_injection_boxes(next_z, p21c_initial_conditions):\n",
    "    \n",
    "    # Instantiate the injection arrays\n",
    "    input_heating = p21c.input_heating(redshift=next_z, init_boxes=p21c_initial_conditions, write=False)\n",
    "    input_ionization = p21c.input_ionization(redshift=next_z, init_boxes=p21c_initial_conditions, write=False)\n",
    "    input_jalpha = p21c.input_jalpha(redshift=next_z, init_boxes=p21c_initial_conditions, write=False)\n",
    "    \n",
    "    return input_heating, input_ionization, input_jalpha"
   ]
  },
  {
   "cell_type": "markdown",
   "metadata": {},
   "source": [
    "# Dark History Interface Class"
   ]
  },
  {
   "cell_type": "code",
   "execution_count": 7,
   "metadata": {},
   "outputs": [],
   "source": [
    "class DarkHistoryWrapper:\n",
    "    \n",
    "    def __init__(self, HII_DIM, dhinit_list, z_step_factor, enable_elec = False):\n",
    "        \n",
    "        # Basic run parameters\n",
    "        self.HII_DIM = HII_DIM\n",
    "        self.norm = 1/HII_DIM**3\n",
    "        self.enable_elec = enable_elec\n",
    "\n",
    "        \n",
    "        # Setting up the DH Transfer functions\n",
    "        self.set_abcissa(z_step_factor)\n",
    "        self.set_transfers(dhinit_list)\n",
    "        \n",
    "        # The DH initial condition that we will match\n",
    "        dhinit_fn = f\"{p21c.config['direc']}/dhinit_soln.p\"\n",
    "        self.dhinit_soln = pickle.load(open(dhinit_fn, 'rb'))\n",
    "    \n",
    "    def set_abcissa(self, z_step_factor):\n",
    "        \n",
    "        '''\n",
    "        This sets the abcissa for the photon energies and electron energies. We also\n",
    "        set the size out the last dimension of the deposition box.\n",
    "        '''\n",
    "        \n",
    "        abscs = load_dict(os.environ['DM21CM_DIR'] + f\"/data/abscissas/abscs_{dhtf_version}.h5\")\n",
    "        \n",
    "        if not np.isclose(np.log(z_step_factor), abscs['dlnz']):\n",
    "            raise ValueError('zplusone_step_factor and dhtf_version mismatch')\n",
    "            \n",
    "        self.photeng = abscs['photE']\n",
    "        self.eleceng = abscs['elecEk']\n",
    "        self.dep_size = len(abscs['dep_c'])\n",
    "            \n",
    "    def set_transfers(self, dhinit_list):\n",
    "        '''\n",
    "        This function initializes the DH transfer functions used in the 21cm run. \n",
    "        '''\n",
    "        \n",
    "        data_prefix = os.environ['DM21CM_DATA_DIR'] + f'/tf/{dhtf_version}/phot'\n",
    "\n",
    "        \n",
    "        # Initialize photon transfer functions\n",
    "        self.phot_prop_tf = load_data('phot_prop', prefix=data_prefix, reload=force_reload_tf)\n",
    "        self.phot_scat_tf = load_data('phot_scat', prefix=data_prefix, reload=force_reload_tf)\n",
    "        self.phot_dep_tf = load_data('phot_dep', prefix=data_prefix, reload=force_reload_tf)\n",
    "        self.phot_prop_tf.set_fixed_in_spec(dm_params.inj_phot_spec.N)\n",
    "        self.phot_scat_tf.set_fixed_in_spec(dm_params.inj_phot_spec.N)\n",
    "        self.phot_dep_tf.set_fixed_in_spec(dm_params.inj_phot_spec.N)\n",
    "    \n",
    "        # Initialize electron transfer functions if desired\n",
    "        if self.enable_elec:\n",
    "            raise NotImplementedError\n",
    "            self.elec_phot_tf = load_data('elec_phot', prefix=data_prefix, reload=force_reload_tf)\n",
    "            self.elec_dep_tf = load_data('elec_dep', prefix=data_prefix, reload=force_reload_tf)\n",
    "            self.elec_phot_tf.set_fixed_in_spec(dm_params.inj_elec_spec.N)\n",
    "            self.elec_dep_tf.set_fixed_in_spec(dm_params.inj_elec_spec.N)\n",
    "            \n",
    "    def set_empty_arrays(self):\n",
    "        '''\n",
    "        This is a convenience method that sets the properly shaped deposition box for \n",
    "        use in our evolution\n",
    "        '''\n",
    "            \n",
    "        # Get the empty spectrum arrays\n",
    "        self.prop_phot_N = np.zeros_like(self.photeng) # [N / Bavg]\n",
    "        self.emit_phot_N = np.zeros_like(self.photeng) # [N / Bavg]\n",
    "\n",
    "        # Get the empty deposition box. ('H ion', 'He ion', 'exc', 'heat', 'cont', 'xray')        \n",
    "        self.dep_box = np.zeros((self.HII_DIM, self.HII_DIM, self.HII_DIM, self.dep_size))\n",
    "        \n",
    "        # We will also set the tf_kwargs to None to raise an error if they have not been reset\n",
    "        self.tf_kwargs = None\n",
    "        \n",
    "    def set_tf_kwargs(self, tf_kwargs):\n",
    "        '''\n",
    "        Set the tf_kwargs\n",
    "        '''\n",
    "        \n",
    "        self.tf_kwargs = tf_kwargs\n",
    "\n",
    "    def get_state_arrays(self):\n",
    "\n",
    "        '''\n",
    "        This is a convenience method that provides the properly shaped deposition box for \n",
    "        use in our evolution\n",
    "        '''\n",
    "        \n",
    "        # Return these\n",
    "        return self.prop_phot_N, self.emit_phot_N, self.dep_box\n",
    "    \n",
    "    def photon_injection(self, spec_object, bath = True, weight_box = None, ots = False):\n",
    "        if bath:\n",
    "            self.prop_phot_N += self.norm*self.phot_prop_tf(in_spec=spec_object.N, sum_result=True, **tf_kwargs) # [N / Bavg]\n",
    "            weight_box = np.ones((self.HII_DIM, self.HII_DIM, self.HII_DIM)) # dummy\n",
    "            \n",
    "        if ots:\n",
    "            self.emit_phot_N += self.norm*self.phot_prop_tf(in_spec = spec_object.N, sum_result = True, sum_weight = weight_box.ravel(), **self.tf_kwargs)\n",
    "            \n",
    "        self.emit_phot_N += self.norm*self.phot_scat_tf(in_spec=spec_object.N, sum_result=True, sum_weight = weight_box.ravel(), **self.tf_kwargs)\n",
    "        self.dep_box += weight_box[..., None] * self.phot_dep_tf(in_spec=spec_object.N, sum_result=False, **self.tf_kwargs).reshape(self.dep_box.shape) # [eV / Bavg]\n",
    "     \n",
    "        #return prop_phot_N, emit_phot_N, dep_box"
   ]
  },
  {
   "cell_type": "code",
   "execution_count": 8,
   "metadata": {},
   "outputs": [
    {
     "name": "stderr",
     "output_type": "stream",
     "text": [
      "INFO:root:Loaded photon propagation transfer function.\n",
      "INFO:root:Loaded photon scattering transfer function.\n",
      "INFO:root:Loaded photon deposition transfer function.\n",
      "INFO:jax._src.xla_bridge:Unable to initialize backend 'cuda': module 'jaxlib.xla_extension' has no attribute 'GpuAllocatorConfig'\n",
      "INFO:jax._src.xla_bridge:Unable to initialize backend 'rocm': module 'jaxlib.xla_extension' has no attribute 'GpuAllocatorConfig'\n",
      "INFO:jax._src.xla_bridge:Unable to initialize backend 'tpu': module 'jaxlib.xla_extension' has no attribute 'get_tpu_client'\n",
      "WARNING:jax._src.xla_bridge:No GPU/TPU found, falling back to CPU. (Set TF_CPP_MIN_LOG_LEVEL=0 and rerun for more info.)\n"
     ]
    }
   ],
   "source": [
    "dh_wrapper = DarkHistoryWrapper(HII_DIM, dhinit_list, 1.01)"
   ]
  },
  {
   "cell_type": "markdown",
   "metadata": {},
   "source": [
    "# Field Smoother for Propagating X-Rays"
   ]
  },
  {
   "cell_type": "code",
   "execution_count": 9,
   "metadata": {},
   "outputs": [],
   "source": [
    "ex_lo, ex_hi = 1e2, 1e4 # [eV]\n",
    "ix_lo = np.searchsorted(dh_wrapper.photeng, ex_lo) # i of first bin greater than ex_lo, excluded\n",
    "ix_hi = np.searchsorted(dh_wrapper.photeng, ex_hi) # i of first bin greater than ex_hi, included\n",
    "\n",
    "attenuation_arr = np.ones((len(z_edges), len(dh_wrapper.photeng))) # same redshift locations as z_mids\n",
    "\n",
    "xray_fn = p21c.config['direc']+'/xray_brightness.h5'\n",
    "if os.path.isfile(xray_fn):\n",
    "    os.remove(xray_fn)\n",
    "    \n",
    "xray_windowed_data = WindowedData(data_path = xray_fn, cosmo = cosmo, N = HII_DIM,\n",
    "                                  dx = BOX_LEN / HII_DIM, cache = True)"
   ]
  },
  {
   "cell_type": "markdown",
   "metadata": {},
   "source": [
    "# Evolution Loop"
   ]
  },
  {
   "cell_type": "code",
   "execution_count": 10,
   "metadata": {},
   "outputs": [],
   "source": [
    "def get_time_step(i_z):\n",
    "    current_z=z_edges[i_z]\n",
    "    next_z = z_edges[i_z+1]\n",
    "    \n",
    "    # The cosmic time step size in s\n",
    "    dt= ( cosmo.age(next_z) - cosmo.age(current_z) ).to('s').value\n",
    "    return current_z, next_z, dt\n",
    "\n",
    "cache_tools.clear_cache()\n",
    "run_mode = 'xray'\n",
    "xray_loop_start = 0"
   ]
  },
  {
   "cell_type": "markdown",
   "metadata": {},
   "source": [
    "## Synchronize"
   ]
  },
  {
   "cell_type": "code",
   "execution_count": 11,
   "metadata": {},
   "outputs": [],
   "source": [
    "# Initial step with no injection\n",
    "perturbed_field = p21c.perturb_field(redshift=z_edges[0], init_boxes=p21c_initial_conditions)\n",
    "spin_temp, ionized_box, brightness_temp = p21_step(z_edges[0], perturbed_field, None, None)\n",
    "\n",
    "# Manual sychronization of 21cmFAST with DarkHistory state\n",
    "if 'T_k' in dhinit_list:\n",
    "    T_k_DH = np.interp(spin_temp.redshift, dh_wrapper.dhinit_soln['rs'][::-1] - 1,\n",
    "                       dh_wrapper.dhinit_soln['Tm'][::-1] / phys.kB) # [K]\n",
    "    spin_temp.Tk_box += T_k_DH - np.mean(spin_temp.Tk_box)\n",
    "\n",
    "if 'x_e' in dhinit_list:\n",
    "    x_e_DH = np.interp(spin_temp.redshift, dh_wrapper.dhinit_soln['rs'][::-1] - 1,\n",
    "                       dh_wrapper.dhinit_soln['x'][::-1, 0]) # HI\n",
    "    \n",
    "    spin_temp.x_e_box += x_e_DH - np.mean(spin_temp.x_e_box)\n",
    "    x_H_DH = 1 - x_e_DH\n",
    "    ionized_box.xH_box += x_H_DH - np.mean(ionized_box.xH_box)\n",
    "\n",
    "if 'phot' in dhinit_list:\n",
    "    logrs_dh_arr = np.log(dh_wrapper.dhinit_soln['rs'])[::-1]\n",
    "    logrs = np.log(1+spin_temp.redshift)\n",
    "    i = np.searchsorted(logrs_dh_arr, logrs)\n",
    "    logrs_left, logrs_right = logrs_dh_arr[i-1:i+1]\n",
    "\n",
    "    dh_spec_N_arr = np.array([s.N for s in dh_wrapper.dhinit_soln['highengphot']])[::-1]\n",
    "    dh_spec_left, dh_spec_right = dh_spec_N_arr[i-1:i+1]\n",
    "    dh_spec = ( dh_spec_left * np.abs(logrs - logrs_right) + \\\n",
    "                dh_spec_right * np.abs(logrs - logrs_left) ) / np.abs(logrs_right - logrs_left)\n",
    "    phot_bath_spec = Spectrum(dh_wrapper.photeng, dh_spec, rs=1+spin_temp.redshift, spec_type='N')\n",
    "else:\n",
    "    phot_bath_spec = Spectrum(dh_wrapper.photeng, np.zeros_like(photeng),\n",
    "                              rs=1+spin_temp.redshift, spec_type='N') # [N per Bavg]"
   ]
  },
  {
   "cell_type": "markdown",
   "metadata": {},
   "source": [
    "## Now that we are synchronized, we enter our loop"
   ]
  },
  {
   "cell_type": "code",
   "execution_count": 12,
   "metadata": {
    "scrolled": false
   },
   "outputs": [
    {
     "name": "stderr",
     "output_type": "stream",
     "text": [
      "\r",
      "  0%|          | 0/188 [00:00<?, ?it/s]"
     ]
    },
    {
     "name": "stdout",
     "output_type": "stream",
     "text": [
      "\n",
      "Starting step:  0\n",
      "Currently at:  44\n",
      "Advancing to:  43.554455445544555\n"
     ]
    },
    {
     "name": "stderr",
     "output_type": "stream",
     "text": [
      "\r",
      "  1%|          | 1/188 [00:05<15:59,  5.13s/it]"
     ]
    },
    {
     "name": "stdout",
     "output_type": "stream",
     "text": [
      "{'z': 43.554455445544555, 'T_s': 150.1659, 'T_b': 10.870818, 'T_k': 235.60333, 'x_e': 0.00569528, 'E_phot': Array(9.350296, dtype=float32), 'dE_inj_per_B': Array(0.02933043, dtype=float32), 'f_ion': Array(0.03235668, dtype=float32), 'f_exc': Array(0.02469284, dtype=float32), 'f_heat': Array(0.0271366, dtype=float32)}\n",
      "\n",
      "Starting step:  1\n",
      "Currently at:  43.554455445544555\n",
      "Advancing to:  43.11332222331144\n",
      "0 44 43.554455445544555\n",
      "43.554455445544555 44 43.554455445544555 11.744011231769205 0.0\n",
      "Injecting\n"
     ]
    },
    {
     "name": "stderr",
     "output_type": "stream",
     "text": [
      "/global/scratch/projects/pc_heptheory/fosterjw/21CM_Project/DM21cm/notebooks/../dm21cm/field_smoother.py:160: RuntimeWarning: invalid value encountered in divide\n",
      "  W1 = 3*(np.sin(self.kMag*R1) - self.kMag*R1 * np.cos(self.kMag*R1)) /(self.kMag*R1)**3\n",
      "/global/scratch/projects/pc_heptheory/fosterjw/21CM_Project/DM21cm/notebooks/../dm21cm/field_smoother.py:161: RuntimeWarning: invalid value encountered in divide\n",
      "  W2 = 3*(np.sin(self.kMag*R2) - self.kMag*R2 * np.cos(self.kMag*R2)) /(self.kMag*R2)**3\n",
      "  1%|          | 2/188 [00:08<13:32,  4.37s/it]"
     ]
    },
    {
     "name": "stdout",
     "output_type": "stream",
     "text": [
      "{'z': 43.11332222331144, 'T_s': 148.11575, 'T_b': 10.643785, 'T_k': 232.89545, 'x_e': 0.0056631574, 'E_phot': Array(9.285831, dtype=float32), 'dE_inj_per_B': Array(0.03059286, dtype=float32), 'f_ion': Array(0.03760251, dtype=float32), 'f_exc': Array(0.02771498, dtype=float32), 'f_heat': Array(0.03128832, dtype=float32)}\n",
      "\n",
      "Starting step:  2\n",
      "Currently at:  43.11332222331144\n",
      "Advancing to:  42.676556656744005\n",
      "0 44 43.554455445544555\n",
      "43.11332222331144 44 43.554455445544555 23.547292418951717 11.803281201224523\n",
      "Injecting\n",
      "1 43.554455445544555 43.11332222331144\n",
      "43.11332222331144 43.554455445544555 43.11332222331144 11.803281201224523 0.0\n",
      "Injecting\n"
     ]
    },
    {
     "name": "stderr",
     "output_type": "stream",
     "text": [
      "\r",
      "  2%|▏         | 3/188 [00:13<14:18,  4.64s/it]"
     ]
    },
    {
     "name": "stdout",
     "output_type": "stream",
     "text": [
      "{'z': 42.676556656744005, 'T_s': 146.0837, 'T_b': 10.414935, 'T_k': 230.28789, 'x_e': 0.00563216, 'E_phot': Array(9.223439, dtype=float32), 'dE_inj_per_B': Array(0.03199063, dtype=float32), 'f_ion': Array(0.03790737, dtype=float32), 'f_exc': Array(0.02806502, dtype=float32), 'f_heat': Array(0.03152014, dtype=float32)}\n",
      "\n",
      "Starting step:  3\n",
      "Currently at:  42.676556656744005\n",
      "Advancing to:  42.24411550172674\n",
      "0 44 43.554455445544555\n",
      "42.676556656744005 44 43.554455445544555 35.41013538442093 23.666124159332895\n",
      "Injecting\n",
      "1 43.554455445544555 43.11332222331144\n",
      "42.676556656744005 43.554455445544555 43.11332222331144 23.666124159332895 11.86284296318032\n",
      "Injecting\n",
      "2 43.11332222331144 42.676556656744005\n",
      "42.676556656744005 43.11332222331144 42.676556656744005 11.86284296318032 0.0\n",
      "Injecting\n"
     ]
    },
    {
     "name": "stderr",
     "output_type": "stream",
     "text": [
      "\r",
      "  2%|▏         | 4/188 [00:19<14:57,  4.88s/it]"
     ]
    },
    {
     "name": "stdout",
     "output_type": "stream",
     "text": [
      "{'z': 42.24411550172674, 'T_s': 144.09102, 'T_b': 10.191076, 'T_k': 227.7457, 'x_e': 0.0056019705, 'E_phot': Array(9.163236, dtype=float32), 'dE_inj_per_B': Array(0.03353205, dtype=float32), 'f_ion': Array(0.03795374, dtype=float32), 'f_exc': Array(0.02822627, dtype=float32), 'f_heat': Array(0.03150436, dtype=float32)}\n",
      "\n",
      "Starting step:  4\n",
      "Currently at:  42.24411550172674\n",
      "Advancing to:  41.8159559423037\n",
      "0 44 43.554455445544555\n",
      "42.24411550172674 44 43.554455445544555 47.33283336475247 35.58882207718266\n",
      "Injecting\n",
      "1 43.554455445544555 43.11332222331144\n",
      "42.24411550172674 43.554455445544555 43.11332222331144 35.58882207718266 23.785540939052375\n",
      "Injecting\n",
      "2 43.11332222331144 42.676556656744005\n",
      "42.24411550172674 43.11332222331144 42.676556656744005 23.785540939052375 11.922697975970928\n",
      "Injecting\n",
      "3 42.676556656744005 42.24411550172674\n",
      "42.24411550172674 42.676556656744005 42.24411550172674 11.922697975970928 0.0\n",
      "Injecting\n"
     ]
    },
    {
     "name": "stderr",
     "output_type": "stream",
     "text": [
      "\r",
      "  3%|▎         | 5/188 [00:25<16:27,  5.39s/it]"
     ]
    },
    {
     "name": "stdout",
     "output_type": "stream",
     "text": [
      "{'z': 41.8159559423037, 'T_s': 142.13728, 'T_b': 9.972278, 'T_k': 225.26176, 'x_e': 0.0055725253, 'E_phot': Array(9.105347, dtype=float32), 'dE_inj_per_B': Array(0.03522573, dtype=float32), 'f_ion': Array(0.03797022, dtype=float32), 'f_exc': Array(0.02835084, dtype=float32), 'f_heat': Array(0.03146176, dtype=float32)}\n",
      "\n",
      "Starting step:  5\n",
      "Currently at:  41.8159559423037\n",
      "Advancing to:  41.392035586439306\n",
      "0 44 43.554455445544555\n",
      "41.8159559423037 44 43.554455445544555 59.31568114803399 47.571669909533455\n",
      "Injecting\n",
      "1 43.554455445544555 43.11332222331144\n",
      "41.8159559423037 43.554455445544555 43.11332222331144 47.571669909533455 35.768388713383985\n",
      "Injecting\n",
      "2 43.11332222331144 42.676556656744005\n",
      "41.8159559423037 43.11332222331144 42.676556656744005 35.768388713383985 23.905545714891833\n",
      "Injecting\n",
      "3 42.676556656744005 42.24411550172674\n",
      "41.8159559423037 42.676556656744005 42.24411550172674 23.905545714891833 11.982847745604788\n",
      "Injecting\n",
      "4 42.24411550172674 41.8159559423037\n",
      "41.8159559423037 42.24411550172674 41.8159559423037 11.982847745604788 0.0\n",
      "Injecting\n"
     ]
    },
    {
     "name": "stderr",
     "output_type": "stream",
     "text": [
      "\r",
      "  3%|▎         | 6/188 [00:33<19:33,  6.45s/it]"
     ]
    },
    {
     "name": "stdout",
     "output_type": "stream",
     "text": [
      "{'z': 41.392035586439306, 'T_s': 140.22108, 'T_b': 9.758365, 'T_k': 222.83214, 'x_e': 0.0055437936, 'E_phot': Array(9.049906, dtype=float32), 'dE_inj_per_B': Array(0.03708045, dtype=float32), 'f_ion': Array(0.03798115, dtype=float32), 'f_exc': Array(0.02845681, dtype=float32), 'f_heat': Array(0.03141566, dtype=float32)}\n",
      "\n",
      "Starting step:  6\n",
      "Currently at:  41.392035586439306\n",
      "Advancing to:  40.9723124618211\n",
      "0 44 43.554455445544555\n",
      "41.392035586439306 44 43.554455445544555 71.35897488483269 59.6149635159924\n",
      "Doing box average\n",
      "1 43.554455445544555 43.11332222331144\n",
      "41.392035586439306 43.554455445544555 43.11332222331144 59.6149635159924 47.81168244018206\n",
      "Injecting\n",
      "2 43.11332222331144 42.676556656744005\n",
      "41.392035586439306 43.11332222331144 42.676556656744005 47.81168244018206 35.94883949016053\n",
      "Injecting\n",
      "3 42.676556656744005 42.24411550172674\n",
      "41.392035586439306 42.676556656744005 42.24411550172674 35.94883949016053 24.026141468411524\n",
      "Injecting\n",
      "4 42.24411550172674 41.8159559423037\n",
      "41.392035586439306 42.24411550172674 41.8159559423037 24.026141468411524 12.043293726908297\n",
      "Injecting\n",
      "5 41.8159559423037 41.392035586439306\n",
      "41.392035586439306 41.8159559423037 41.392035586439306 12.043293726908297 0.0\n",
      "Injecting\n"
     ]
    },
    {
     "name": "stderr",
     "output_type": "stream",
     "text": [
      "\r",
      "  4%|▎         | 7/188 [00:41<20:37,  6.84s/it]"
     ]
    },
    {
     "name": "stdout",
     "output_type": "stream",
     "text": [
      "{'z': 40.9723124618211, 'T_s': 138.33775, 'T_b': 9.548076, 'T_k': 220.45352, 'x_e': 0.00551575, 'E_phot': Array(8.997554, dtype=float32), 'dE_inj_per_B': Array(0.03910535, dtype=float32), 'f_ion': Array(0.03798964, dtype=float32), 'f_exc': Array(0.02854802, dtype=float32), 'f_heat': Array(0.03136893, dtype=float32)}\n",
      "\n",
      "Starting step:  7\n",
      "Currently at:  40.9723124618211\n",
      "Advancing to:  40.55674501170406\n",
      "1 43.554455445544555 43.11332222331144\n",
      "40.9723124618211 43.554455445544555 43.11332222331144 71.71900106093423 59.915719874393346\n",
      "Doing box average\n",
      "2 43.11332222331144 42.676556656744005\n",
      "40.9723124618211 43.11332222331144 42.676556656744005 59.915719874393346 48.052876905813385\n",
      "Injecting\n",
      "3 42.676556656744005 42.24411550172674\n",
      "40.9723124618211 42.676556656744005 42.24411550172674 48.052876905813385 36.130178889751356\n",
      "Injecting\n",
      "4 42.24411550172674 41.8159559423037\n",
      "40.9723124618211 42.24411550172674 41.8159559423037 36.130178889751356 24.147331167101683\n",
      "Injecting\n",
      "5 41.8159559423037 41.392035586439306\n",
      "40.9723124618211 41.8159559423037 41.392035586439306 24.147331167101683 12.104037419684813\n",
      "Injecting\n",
      "6 41.392035586439306 40.9723124618211\n",
      "40.9723124618211 41.392035586439306 40.9723124618211 12.104037419684813 0.0\n",
      "Injecting\n"
     ]
    },
    {
     "name": "stderr",
     "output_type": "stream",
     "text": [
      "\r",
      "  4%|▍         | 8/188 [00:49<21:27,  7.15s/it]"
     ]
    },
    {
     "name": "stdout",
     "output_type": "stream",
     "text": [
      "{'z': 40.55674501170406, 'T_s': 136.48277, 'T_b': 9.340022, 'T_k': 218.12263, 'x_e': 0.005488365, 'E_phot': Array(8.947925, dtype=float32), 'dE_inj_per_B': Array(0.04130962, dtype=float32), 'f_ion': Array(0.03799348, dtype=float32), 'f_exc': Array(0.02862443, dtype=float32), 'f_heat': Array(0.03131966, dtype=float32)}\n",
      "\n",
      "Starting step:  8\n",
      "Currently at:  40.55674501170406\n",
      "Advancing to:  40.1452920907961\n",
      "2 43.11332222331144 42.676556656744005\n",
      "40.55674501170406 43.11332222331144 42.676556656744005 72.08080016297386 60.21795716531421\n",
      "Doing box average\n",
      "3 42.676556656744005 42.24411550172674\n",
      "40.55674501170406 42.676556656744005 42.24411550172674 60.21795716531421 48.295259309244535\n",
      "Injecting\n",
      "4 42.24411550172674 41.8159559423037\n",
      "40.55674501170406 42.24411550172674 41.8159559423037 48.295259309244535 36.312411537806355\n",
      "Injecting\n",
      "5 41.8159559423037 41.392035586439306\n",
      "40.55674501170406 41.8159559423037 41.392035586439306 36.312411537806355 24.26911778352178\n",
      "Injecting\n",
      "6 41.392035586439306 40.9723124618211\n",
      "40.55674501170406 41.392035586439306 40.9723124618211 24.26911778352178 12.165080352395224\n",
      "Injecting\n",
      "7 40.9723124618211 40.55674501170406\n",
      "40.55674501170406 40.9723124618211 40.55674501170406 12.165080352395224 0.0\n",
      "Injecting\n"
     ]
    },
    {
     "name": "stderr",
     "output_type": "stream",
     "text": [
      "\r",
      "  5%|▍         | 9/188 [00:58<22:39,  7.60s/it]"
     ]
    },
    {
     "name": "stdout",
     "output_type": "stream",
     "text": [
      "{'z': 40.1452920907961, 'T_s': 134.662, 'T_b': 9.136362, 'T_k': 215.83673, 'x_e': 0.005461613, 'E_phot': Array(8.901176, dtype=float32), 'dE_inj_per_B': Array(0.0437028, dtype=float32), 'f_ion': Array(0.03799442, dtype=float32), 'f_exc': Array(0.02868852, dtype=float32), 'f_heat': Array(0.03126933, dtype=float32)}\n",
      "\n",
      "Starting step:  9\n",
      "Currently at:  40.1452920907961\n",
      "Advancing to:  39.73791296118426\n",
      "3 42.676556656744005 42.24411550172674\n",
      "40.1452920907961 42.676556656744005 42.24411550172674 72.44438120829192 60.521683192372265\n",
      "Doing box average\n",
      "4 42.24411550172674 41.8159559423037\n",
      "40.1452920907961 42.24411550172674 41.8159559423037 60.521683192372265 48.53883546835503\n",
      "Injecting\n",
      "5 41.8159559423037 41.392035586439306\n",
      "40.1452920907961 41.8159559423037 41.392035586439306 48.53883546835503 36.4955417507044\n",
      "Injecting\n",
      "6 41.392035586439306 40.9723124618211\n",
      "40.1452920907961 41.392035586439306 40.9723124618211 36.4955417507044 24.391504316104378\n",
      "Injecting\n",
      "7 40.9723124618211 40.55674501170406\n",
      "40.1452920907961 40.9723124618211 40.55674501170406 24.391504316104378 12.22642397484855\n",
      "Injecting\n",
      "8 40.55674501170406 40.1452920907961\n",
      "40.1452920907961 40.55674501170406 40.1452920907961 12.22642397484855 0.0\n",
      "Injecting\n"
     ]
    },
    {
     "name": "stderr",
     "output_type": "stream",
     "text": [
      "\r",
      "  5%|▌         | 10/188 [01:05<22:08,  7.46s/it]"
     ]
    },
    {
     "name": "stdout",
     "output_type": "stream",
     "text": [
      "{'z': 39.73791296118426, 'T_s': 132.87437, 'T_b': 8.936957, 'T_k': 213.59319, 'x_e': 0.0054354724, 'E_phot': Array(8.857479, dtype=float32), 'dE_inj_per_B': Array(0.04629452, dtype=float32), 'f_ion': Array(0.03799336, dtype=float32), 'f_exc': Array(0.02874226, dtype=float32), 'f_heat': Array(0.03121868, dtype=float32)}\n",
      "\n",
      "Starting step:  10\n",
      "Currently at:  39.73791296118426\n",
      "Advancing to:  39.334567288301244\n",
      "4 42.24411550172674 41.8159559423037\n",
      "39.73791296118426 42.24411550172674 41.8159559423037 72.80975309950887 60.82690541770369\n",
      "Doing box average\n",
      "5 41.8159559423037 41.392035586439306\n",
      "39.73791296118426 41.8159559423037 41.392035586439306 60.82690541770369 48.78361157460403\n",
      "Injecting\n",
      "6 41.392035586439306 40.9723124618211\n",
      "39.73791296118426 41.392035586439306 40.9723124618211 48.78361157460403 36.679574148068\n",
      "Injecting\n",
      "7 40.9723124618211 40.55674501170406\n",
      "39.73791296118426 40.9723124618211 40.55674501170406 36.679574148068 24.51449381193541\n",
      "Injecting\n",
      "8 40.55674501170406 40.1452920907961\n",
      "39.73791296118426 40.55674501170406 40.1452920907961 24.51449381193541 12.28806985243924\n",
      "Injecting\n",
      "9 40.1452920907961 39.73791296118426\n",
      "39.73791296118426 40.1452920907961 39.73791296118426 12.28806985243924 0.0\n",
      "Injecting\n"
     ]
    },
    {
     "name": "stderr",
     "output_type": "stream",
     "text": [
      "\r",
      "  6%|▌         | 11/188 [01:12<21:33,  7.31s/it]"
     ]
    },
    {
     "name": "stdout",
     "output_type": "stream",
     "text": [
      "{'z': 39.334567288301244, 'T_s': 131.11882, 'T_b': 8.741651, 'T_k': 211.3897, 'x_e': 0.0054099187, 'E_phot': Array(8.817007, dtype=float32), 'dE_inj_per_B': Array(0.04909457, dtype=float32), 'f_ion': Array(0.03799082, dtype=float32), 'f_exc': Array(0.02878704, dtype=float32), 'f_heat': Array(0.03116816, dtype=float32)}\n",
      "\n",
      "Starting step:  11\n",
      "Currently at:  39.334567288301244\n",
      "Advancing to:  38.93521513693192\n",
      "5 41.8159559423037 41.392035586439306\n",
      "39.334567288301244 41.8159559423037 41.392035586439306 73.17692484100532 61.133631115443656\n",
      "Doing box average\n",
      "6 41.392035586439306 40.9723124618211\n",
      "39.334567288301244 41.392035586439306 40.9723124618211 61.133631115443656 49.029593632017466\n",
      "Injecting\n",
      "7 40.9723124618211 40.55674501170406\n",
      "39.334567288301244 40.9723124618211 40.55674501170406 49.029593632017466 36.86451325441388\n",
      "Injecting\n",
      "8 40.55674501170406 40.1452920907961\n",
      "39.334567288301244 40.55674501170406 40.1452920907961 36.86451325441388 24.63808933279286\n",
      "Injecting\n",
      "9 40.1452920907961 39.73791296118426\n",
      "39.334567288301244 40.1452920907961 39.73791296118426 24.63808933279286 12.350019454952651\n",
      "Injecting\n",
      "10 39.73791296118426 39.334567288301244\n",
      "39.334567288301244 39.73791296118426 39.334567288301244 12.350019454952651 0.0\n",
      "Injecting\n"
     ]
    },
    {
     "name": "stderr",
     "output_type": "stream",
     "text": [
      "\r",
      "  6%|▋         | 12/188 [01:20<22:11,  7.56s/it]"
     ]
    },
    {
     "name": "stdout",
     "output_type": "stream",
     "text": [
      "{'z': 38.93521513693192, 'T_s': 129.39438, 'T_b': 8.550311, 'T_k': 209.22406, 'x_e': 0.005384934, 'E_phot': Array(8.779944, dtype=float32), 'dE_inj_per_B': Array(0.05211291, dtype=float32), 'f_ion': Array(0.03798718, dtype=float32), 'f_exc': Array(0.028824, dtype=float32), 'f_heat': Array(0.03111803, dtype=float32)}\n",
      "\n",
      "Starting step:  12\n",
      "Currently at:  38.93521513693192\n",
      "Advancing to:  38.53981696725933\n",
      "6 41.392035586439306 40.9723124618211\n",
      "38.93521513693192 41.392035586439306 40.9723124618211 73.5459053492112 61.44186782557413\n",
      "Doing box average\n",
      "7 40.9723124618211 40.55674501170406\n",
      "38.93521513693192 40.9723124618211 40.55674501170406 61.44186782557413 49.27678762406765\n",
      "Injecting\n",
      "8 40.55674501170406 40.1452920907961\n",
      "38.93521513693192 40.55674501170406 40.1452920907961 49.27678762406765 37.05036366131938\n",
      "Injecting\n",
      "9 40.1452920907961 39.73791296118426\n",
      "38.93521513693192 40.1452920907961 39.73791296118426 37.05036366131938 24.762293807372856\n",
      "Injecting\n",
      "10 39.73791296118426 39.334567288301244\n",
      "38.93521513693192 39.73791296118426 39.334567288301244 24.762293807372856 12.412274341593884\n",
      "Injecting\n",
      "11 39.334567288301244 38.93521513693192\n",
      "38.93521513693192 39.334567288301244 38.93521513693192 12.412274341593884 0.0\n",
      "Injecting\n"
     ]
    },
    {
     "name": "stderr",
     "output_type": "stream",
     "text": [
      "\r",
      "  7%|▋         | 13/188 [01:27<22:05,  7.58s/it]"
     ]
    },
    {
     "name": "stdout",
     "output_type": "stream",
     "text": [
      "{'z': 38.53981696725933, 'T_s': 127.70015, 'T_b': 8.36281, 'T_k': 207.09447, 'x_e': 0.005360496, 'E_phot': Array(8.746484, dtype=float32), 'dE_inj_per_B': Array(0.05535963, dtype=float32), 'f_ion': Array(0.03798258, dtype=float32), 'f_exc': Array(0.02885415, dtype=float32), 'f_heat': Array(0.03106839, dtype=float32)}\n",
      "\n",
      "Starting step:  13\n",
      "Currently at:  38.53981696725933\n",
      "Advancing to:  38.14833363094983\n",
      "7 40.9723124618211 40.55674501170406\n",
      "38.53981696725933 40.9723124618211 40.55674501170406 73.91670388520339 61.75162367075516\n",
      "Doing box average\n",
      "8 40.55674501170406 40.1452920907961\n",
      "38.53981696725933 40.55674501170406 40.1452920907961 61.75162367075516 49.52519966516822\n",
      "Injecting\n",
      "9 40.1452920907961 39.73791296118426\n",
      "38.53981696725933 40.1452920907961 39.73791296118426 49.52519966516822 37.23712979298737\n",
      "Injecting\n",
      "10 39.73791296118426 39.334567288301244\n",
      "38.53981696725933 39.73791296118426 39.334567288301244 37.23712979298737 24.887110361153276\n",
      "Injecting\n",
      "11 39.334567288301244 38.93521513693192\n",
      "38.53981696725933 39.334567288301244 38.93521513693192 24.887110361153276 12.474836022490933\n",
      "Injecting\n",
      "12 38.93521513693192 38.53981696725933\n",
      "38.53981696725933 38.93521513693192 38.53981696725933 12.474836022490933 0.0\n",
      "Injecting\n"
     ]
    },
    {
     "name": "stderr",
     "output_type": "stream",
     "text": [
      "\r",
      "  7%|▋         | 14/188 [01:34<21:24,  7.38s/it]"
     ]
    },
    {
     "name": "stdout",
     "output_type": "stream",
     "text": [
      "{'z': 38.14833363094983, 'T_s': 126.03523, 'T_b': 8.179044, 'T_k': 204.99898, 'x_e': 0.005336586, 'E_phot': Array(8.7168255, dtype=float32), 'dE_inj_per_B': Array(0.05884492, dtype=float32), 'f_ion': Array(0.03797723, dtype=float32), 'f_exc': Array(0.02887831, dtype=float32), 'f_heat': Array(0.03101937, dtype=float32)}\n",
      "\n",
      "Starting step:  14\n",
      "Currently at:  38.14833363094983\n",
      "Advancing to:  37.76072636727706\n",
      "8 40.55674501170406 40.1452920907961\n",
      "38.14833363094983 40.55674501170406 40.1452920907961 74.28932959308402 62.06290571472552\n",
      "Doing box average\n",
      "9 40.1452920907961 39.73791296118426\n",
      "38.14833363094983 40.1452920907961 39.73791296118426 62.06290571472552 49.77483581276799\n",
      "Injecting\n",
      "10 39.73791296118426 39.334567288301244\n",
      "38.14833363094983 39.73791296118426 39.334567288301244 49.77483581276799 37.42481642449127\n",
      "Injecting\n",
      "11 39.334567288301244 38.93521513693192\n",
      "38.14833363094983 39.334567288301244 38.93521513693192 37.42481642449127 25.012542063447466\n",
      "Injecting\n",
      "12 38.93521513693192 38.53981696725933\n",
      "38.14833363094983 38.93521513693192 38.53981696725933 25.012542063447466 12.53770606110634\n",
      "Injecting\n",
      "13 38.53981696725933 38.14833363094983\n",
      "38.14833363094983 38.53981696725933 38.14833363094983 12.53770606110634 0.0\n",
      "Injecting\n"
     ]
    },
    {
     "name": "stderr",
     "output_type": "stream",
     "text": [
      "\r",
      "  8%|▊         | 15/188 [01:42<21:29,  7.46s/it]"
     ]
    },
    {
     "name": "stdout",
     "output_type": "stream",
     "text": [
      "{'z': 37.76072636727706, 'T_s': 124.39884, 'T_b': 7.9988937, 'T_k': 202.93597, 'x_e': 0.0053131864, 'E_phot': Array(8.691177, dtype=float32), 'dE_inj_per_B': Array(0.06257907, dtype=float32), 'f_ion': Array(0.0379712, dtype=float32), 'f_exc': Array(0.02889715, dtype=float32), 'f_heat': Array(0.03097099, dtype=float32)}\n",
      "\n",
      "Starting step:  15\n",
      "Currently at:  37.76072636727706\n",
      "Advancing to:  37.376956799284216\n",
      "9 40.1452920907961 39.73791296118426\n",
      "37.76072636727706 40.1452920907961 39.73791296118426 74.66379178181735 62.37572187217756\n",
      "Doing box average\n",
      "10 39.73791296118426 39.334567288301244\n",
      "37.76072636727706 39.73791296118426 39.334567288301244 62.37572187217756 50.02570240693638\n",
      "Doing box average\n",
      "11 39.334567288301244 38.93521513693192\n",
      "37.76072636727706 39.334567288301244 38.93521513693192 50.02570240693638 37.61342806856912\n",
      "Injecting\n",
      "12 38.93521513693192 38.53981696725933\n",
      "37.76072636727706 38.93521513693192 38.53981696725933 37.61342806856912 25.138592077734486\n",
      "Injecting\n",
      "13 38.53981696725933 38.14833363094983\n",
      "37.76072636727706 38.53981696725933 38.14833363094983 25.138592077734486 12.60088599538343\n",
      "Injecting\n",
      "14 38.14833363094983 37.76072636727706\n",
      "37.76072636727706 38.14833363094983 37.76072636727706 12.60088599538343 0.0\n",
      "Injecting\n"
     ]
    },
    {
     "name": "stderr",
     "output_type": "stream",
     "text": [
      "\r",
      "  9%|▊         | 16/188 [01:49<21:04,  7.35s/it]"
     ]
    },
    {
     "name": "stdout",
     "output_type": "stream",
     "text": [
      "{'z': 37.376956799284216, 'T_s': 122.790215, 'T_b': 7.8222585, 'T_k': 200.90388, 'x_e': 0.005290279, 'E_phot': Array(8.67019, dtype=float32), 'dE_inj_per_B': Array(0.06657233, dtype=float32), 'f_ion': Array(0.0379647, dtype=float32), 'f_exc': Array(0.02891137, dtype=float32), 'f_heat': Array(0.03092335, dtype=float32)}\n",
      "\n",
      "Starting step:  16\n",
      "Currently at:  37.376956799284216\n",
      "Advancing to:  36.996986929984374\n",
      "11 39.334567288301244 38.93521513693192\n",
      "37.376956799284216 39.334567288301244 38.93521513693192 62.690079725589705 50.277805450133194\n",
      "Doing box average\n",
      "12 38.93521513693192 38.53981696725933\n",
      "37.376956799284216 38.93521513693192 38.53981696725933 50.277805450133194 37.80296943906832\n",
      "Injecting\n",
      "13 38.53981696725933 38.14833363094983\n",
      "37.376956799284216 38.53981696725933 38.14833363094983 37.80296943906832 25.26526335747295\n",
      "Injecting\n",
      "14 38.14833363094983 37.76072636727706\n",
      "37.376956799284216 38.14833363094983 37.76072636727706 25.26526335747295 12.66437737073477\n",
      "Injecting\n",
      "15 37.76072636727706 37.376956799284216\n",
      "37.376956799284216 37.76072636727706 37.376956799284216 12.66437737073477 0.0\n",
      "Injecting\n"
     ]
    },
    {
     "name": "stderr",
     "output_type": "stream",
     "text": [
      "\r",
      "  9%|▉         | 17/188 [01:57<21:38,  7.59s/it]"
     ]
    },
    {
     "name": "stdout",
     "output_type": "stream",
     "text": [
      "{'z': 36.996986929984374, 'T_s': 121.2092, 'T_b': 7.649274, 'T_k': 198.9041, 'x_e': 0.0052678804, 'E_phot': Array(8.653211, dtype=float32), 'dE_inj_per_B': Array(0.07083511, dtype=float32), 'f_ion': Array(0.0379936, dtype=float32), 'f_exc': Array(0.02894883, dtype=float32), 'f_heat': Array(0.03090524, dtype=float32)}\n",
      "\n",
      "Starting step:  17\n",
      "Currently at:  36.996986929984374\n",
      "Advancing to:  36.62077913859839\n",
      "12 38.93521513693192 38.53981696725933\n",
      "36.996986929984374 38.93521513693192 38.53981696725933 63.00598724497883 50.531151147482696\n",
      "Doing box average\n",
      "13 38.53981696725933 38.14833363094983\n",
      "36.996986929984374 38.53981696725933 38.14833363094983 50.531151147482696 37.99344511914809\n",
      "Injecting\n",
      "14 38.14833363094983 37.76072636727706\n",
      "36.996986929984374 38.14833363094983 37.76072636727706 37.99344511914809 25.39255914982544\n",
      "Injecting\n",
      "15 37.76072636727706 37.376956799284216\n",
      "36.996986929984374 37.76072636727706 37.376956799284216 25.39255914982544 12.728181779104034\n",
      "Injecting\n",
      "16 37.376956799284216 36.996986929984374\n",
      "36.996986929984374 37.376956799284216 36.996986929984374 12.728181779104034 0.0\n",
      "Injecting\n"
     ]
    },
    {
     "name": "stderr",
     "output_type": "stream",
     "text": [
      "\r",
      " 10%|▉         | 18/188 [02:05<21:46,  7.68s/it]"
     ]
    },
    {
     "name": "stdout",
     "output_type": "stream",
     "text": [
      "{'z': 36.62077913859839, 'T_s': 119.655174, 'T_b': 7.4798765, 'T_k': 196.93648, 'x_e': 0.0052459915, 'E_phot': Array(8.640914, dtype=float32), 'dE_inj_per_B': Array(0.07537778, dtype=float32), 'f_ion': Array(0.03804167, dtype=float32), 'f_exc': Array(0.02899559, dtype=float32), 'f_heat': Array(0.03090262, dtype=float32)}\n",
      "\n",
      "Starting step:  18\n",
      "Currently at:  36.62077913859839\n",
      "Advancing to:  36.24829617683009\n",
      "13 38.53981696725933 38.14833363094983\n",
      "36.62077913859839 38.53981696725933 38.14833363094983 63.32345190658717 50.78574594167183\n",
      "Doing box average\n",
      "14 38.14833363094983 37.76072636727706\n",
      "36.62077913859839 38.14833363094983 37.76072636727706 50.78574594167183 38.18485989264054\n",
      "Injecting\n",
      "15 37.76072636727706 37.376956799284216\n",
      "36.62077913859839 37.76072636727706 37.376956799284216 38.18485989264054 25.520482508125305\n",
      "Injecting\n",
      "16 37.376956799284216 36.996986929984374\n",
      "36.62077913859839 37.376956799284216 36.996986929984374 25.520482508125305 12.792300747918619\n",
      "Injecting\n",
      "17 36.996986929984374 36.62077913859839\n",
      "36.62077913859839 36.996986929984374 36.62077913859839 12.792300747918619 0.0\n",
      "Injecting\n"
     ]
    },
    {
     "name": "stderr",
     "output_type": "stream",
     "text": [
      "\r",
      " 10%|█         | 19/188 [02:13<21:46,  7.73s/it]"
     ]
    },
    {
     "name": "stdout",
     "output_type": "stream",
     "text": [
      "{'z': 36.24829617683009, 'T_s': 118.12731, 'T_b': 7.313939, 'T_k': 194.99962, 'x_e': 0.0052245962, 'E_phot': Array(8.63354, dtype=float32), 'dE_inj_per_B': Array(0.0802106, dtype=float32), 'f_ion': Array(0.03809207, dtype=float32), 'f_exc': Array(0.02904126, dtype=float32), 'f_heat': Array(0.03090282, dtype=float32)}\n",
      "\n",
      "Starting step:  19\n",
      "Currently at:  36.24829617683009\n",
      "Advancing to:  35.879501165178304\n",
      "14 38.14833363094983 37.76072636727706\n",
      "36.24829617683009 38.14833363094983 37.76072636727706 63.642481942720735 51.041595770562985\n",
      "Doing box average\n",
      "15 37.76072636727706 37.376956799284216\n",
      "36.24829617683009 37.76072636727706 37.376956799284216 51.041595770562985 38.37721842370776\n",
      "Injecting\n",
      "16 37.376956799284216 36.996986929984374\n",
      "36.24829617683009 37.376956799284216 36.996986929984374 38.37721842370776 25.64903664855926\n",
      "Injecting\n",
      "17 36.996986929984374 36.62077913859839\n",
      "36.24829617683009 36.996986929984374 36.62077913859839 25.64903664855926 12.856735904624756\n",
      "Injecting\n",
      "18 36.62077913859839 36.24829617683009\n",
      "36.24829617683009 36.62077913859839 36.24829617683009 12.856735904624756 0.0\n",
      "Injecting\n"
     ]
    },
    {
     "name": "stderr",
     "output_type": "stream",
     "text": [
      "\r",
      " 11%|█         | 20/188 [02:20<20:54,  7.47s/it]"
     ]
    },
    {
     "name": "stdout",
     "output_type": "stream",
     "text": [
      "{'z': 35.879501165178304, 'T_s': 116.62501, 'T_b': 7.1513767, 'T_k': 193.09235, 'x_e': 0.0052036787, 'E_phot': Array(8.631338, dtype=float32), 'dE_inj_per_B': Array(0.08534399, dtype=float32), 'f_ion': Array(0.03814254, dtype=float32), 'f_exc': Array(0.02908475, dtype=float32), 'f_heat': Array(0.0309041, dtype=float32)}\n",
      "\n",
      "Starting step:  20\n",
      "Currently at:  35.879501165178304\n",
      "Advancing to:  35.51435758928545\n",
      "15 37.76072636727706 37.376956799284216\n",
      "35.879501165178304 37.76072636727706 37.376956799284216 63.96308462404532 51.298707212985036\n",
      "Doing box average\n",
      "16 37.376956799284216 36.996986929984374\n",
      "35.879501165178304 37.376956799284216 36.996986929984374 51.298707212985036 38.570525504906385\n",
      "Injecting\n",
      "17 36.996986929984374 36.62077913859839\n",
      "35.879501165178304 36.996986929984374 36.62077913859839 38.570525504906385 25.77822470136802\n",
      "Injecting\n",
      "18 36.62077913859839 36.24829617683009\n",
      "35.879501165178304 36.62077913859839 36.24829617683009 25.77822470136802 12.921488783954608\n",
      "Injecting\n",
      "19 36.24829617683009 35.879501165178304\n",
      "35.879501165178304 36.24829617683009 35.879501165178304 12.921488783954608 0.0\n",
      "Injecting\n"
     ]
    },
    {
     "name": "stderr",
     "output_type": "stream",
     "text": [
      "\r",
      " 11%|█         | 21/188 [02:26<20:07,  7.23s/it]"
     ]
    },
    {
     "name": "stdout",
     "output_type": "stream",
     "text": [
      "{'z': 35.51435758928545, 'T_s': 115.14753, 'T_b': 6.992087, 'T_k': 191.2133, 'x_e': 0.0051832227, 'E_phot': Array(8.634564, dtype=float32), 'dE_inj_per_B': Array(0.09078833, dtype=float32), 'f_ion': Array(0.03819304, dtype=float32), 'f_exc': Array(0.02912628, dtype=float32), 'f_heat': Array(0.03090633, dtype=float32)}\n",
      "\n",
      "Starting step:  21\n",
      "Currently at:  35.51435758928545\n",
      "Advancing to:  35.15282929632223\n",
      "16 37.376956799284216 36.996986929984374\n",
      "35.51435758928545 37.376956799284216 36.996986929984374 64.2852682197756 51.55708645600032\n",
      "Doing box average\n",
      "17 36.996986929984374 36.62077913859839\n",
      "35.51435758928545 36.996986929984374 36.62077913859839 51.55708645600032 38.76478571938903\n",
      "Injecting\n",
      "18 36.62077913859839 36.24829617683009\n",
      "35.51435758928545 36.62077913859839 36.24829617683009 38.76478571938903 25.908049795877535\n",
      "Injecting\n",
      "19 36.24829617683009 35.879501165178304\n",
      "35.51435758928545 36.24829617683009 35.879501165178304 25.908049795877535 12.986561010051897\n",
      "Injecting\n",
      "20 35.879501165178304 35.51435758928545\n",
      "35.51435758928545 35.879501165178304 35.51435758928545 12.986561010051897 0.0\n",
      "Injecting\n"
     ]
    },
    {
     "name": "stderr",
     "output_type": "stream",
     "text": [
      "\r",
      " 12%|█▏        | 22/188 [02:34<20:12,  7.30s/it]"
     ]
    },
    {
     "name": "stdout",
     "output_type": "stream",
     "text": [
      "{'z': 35.15282929632223, 'T_s': 113.694244, 'T_b': 6.8359885, 'T_k': 189.36124, 'x_e': 0.0051632137, 'E_phot': Array(8.643483, dtype=float32), 'dE_inj_per_B': Array(0.09655353, dtype=float32), 'f_ion': Array(0.0382437, dtype=float32), 'f_exc': Array(0.02916618, dtype=float32), 'f_heat': Array(0.03090968, dtype=float32)}\n",
      "\n",
      "Starting step:  22\n",
      "Currently at:  35.15282929632223\n",
      "Advancing to:  34.79488049140815\n",
      "17 36.996986929984374 36.62077913859839\n",
      "35.15282929632223 36.996986929984374 36.62077913859839 64.60904065037158 51.81673991593749\n",
      "Doing box average\n",
      "18 36.62077913859839 36.24829617683009\n",
      "35.15282929632223 36.62077913859839 36.24829617683009 51.81673991593749 38.96000400381318\n",
      "Injecting\n",
      "19 36.24829617683009 35.879501165178304\n",
      "35.15282929632223 36.24829617683009 35.879501165178304 38.96000400381318 26.038515176220077\n",
      "Injecting\n",
      "20 35.879501165178304 35.51435758928545\n",
      "35.15282929632223 35.879501165178304 35.51435758928545 26.038515176220077 13.051954173372762\n",
      "Injecting\n",
      "21 35.51435758928545 35.15282929632223\n",
      "35.15282929632223 35.51435758928545 35.15282929632223 13.051954173372762 0.0\n",
      "Injecting\n"
     ]
    },
    {
     "name": "stderr",
     "output_type": "stream",
     "text": [
      "\r",
      " 12%|█▏        | 23/188 [02:40<19:07,  6.96s/it]"
     ]
    },
    {
     "name": "stdout",
     "output_type": "stream",
     "text": [
      "{'z': 34.79488049140815, 'T_s': 112.26465, 'T_b': 6.683019, 'T_k': 187.53517, 'x_e': 0.005143638, 'E_phot': Array(8.658365, dtype=float32), 'dE_inj_per_B': Array(0.1026499, dtype=float32), 'f_ion': Array(0.03829451, dtype=float32), 'f_exc': Array(0.02920462, dtype=float32), 'f_heat': Array(0.03091408, dtype=float32)}\n",
      "\n",
      "Starting step:  23\n",
      "Currently at:  34.79488049140815\n",
      "Advancing to:  34.440475734067476\n",
      "18 36.62077913859839 36.24829617683009\n",
      "34.79488049140815 36.62077913859839 36.24829617683009 64.93440982204302 52.077673856171586\n",
      "Doing box average\n",
      "19 36.24829617683009 35.879501165178304\n",
      "34.79488049140815 36.24829617683009 35.879501165178304 52.077673856171586 39.15618508067326\n",
      "Injecting\n",
      "20 35.879501165178304 35.51435758928545\n",
      "34.79488049140815 35.879501165178304 35.51435758928545 39.15618508067326 26.169624064604417\n",
      "Injecting\n",
      "21 35.51435758928545 35.15282929632223\n",
      "34.79488049140815 35.51435758928545 35.15282929632223 26.169624064604417 13.117669884808564\n",
      "Injecting\n",
      "22 35.15282929632223 34.79488049140815\n",
      "34.79488049140815 35.15282929632223 34.79488049140815 13.117669884808564 0.0\n",
      "Injecting\n"
     ]
    },
    {
     "name": "stderr",
     "output_type": "stream",
     "text": [
      "\r",
      " 13%|█▎        | 24/188 [02:47<18:52,  6.91s/it]"
     ]
    },
    {
     "name": "stdout",
     "output_type": "stream",
     "text": [
      "{'z': 34.440475734067476, 'T_s': 110.85808, 'T_b': 6.533089, 'T_k': 185.73395, 'x_e': 0.0051244795, 'E_phot': Array(8.679489, dtype=float32), 'dE_inj_per_B': Array(0.10908727, dtype=float32), 'f_ion': Array(0.03834557, dtype=float32), 'f_exc': Array(0.02924186, dtype=float32), 'f_heat': Array(0.03091958, dtype=float32)}\n",
      "\n",
      "Starting step:  24\n",
      "Currently at:  34.440475734067476\n",
      "Advancing to:  34.08957993472028\n",
      "19 36.24829617683009 35.879501165178304\n",
      "34.440475734067476 36.24829617683009 35.879501165178304 65.26138359523348 52.33989485091497\n",
      "Doing box average\n",
      "20 35.879501165178304 35.51435758928545\n",
      "34.440475734067476 35.879501165178304 35.51435758928545 52.33989485091497 39.35333384037766\n",
      "Injecting\n",
      "21 35.51435758928545 35.15282929632223\n",
      "34.440475734067476 35.51435758928545 35.15282929632223 39.35333384037766 26.30137968470188\n",
      "Injecting\n",
      "22 35.15282929632223 34.79488049140815\n",
      "34.440475734067476 35.15282929632223 34.79488049140815 26.30137968470188 13.183709761914917\n",
      "Injecting\n",
      "23 34.79488049140815 34.440475734067476\n",
      "34.440475734067476 34.79488049140815 34.440475734067476 13.183709761914917 0.0\n",
      "Injecting\n"
     ]
    },
    {
     "name": "stderr",
     "output_type": "stream",
     "text": [
      "\r",
      " 13%|█▎        | 25/188 [02:53<18:30,  6.81s/it]"
     ]
    },
    {
     "name": "stdout",
     "output_type": "stream",
     "text": [
      "{'z': 34.08957993472028, 'T_s': 109.474075, 'T_b': 6.3861427, 'T_k': 183.9567, 'x_e': 0.005105727, 'E_phot': Array(8.70714, dtype=float32), 'dE_inj_per_B': Array(0.11587557, dtype=float32), 'f_ion': Array(0.03839695, dtype=float32), 'f_exc': Array(0.02927804, dtype=float32), 'f_heat': Array(0.03092619, dtype=float32)}\n",
      "\n",
      "Starting step:  25\n",
      "Currently at:  34.08957993472028\n",
      "Advancing to:  33.7421583512082\n",
      "20 35.879501165178304 35.51435758928545\n",
      "34.08957993472028 35.879501165178304 35.51435758928545 65.58997032213685 52.60340923612377\n",
      "Doing box average\n",
      "21 35.51435758928545 35.15282929632223\n",
      "34.08957993472028 35.51435758928545 35.15282929632223 52.60340923612377 39.55145508828487\n",
      "Injecting\n",
      "22 35.15282929632223 34.79488049140815\n",
      "34.08957993472028 35.15282929632223 34.79488049140815 39.55145508828487 26.433785153581024\n",
      "Injecting\n",
      "23 34.79488049140815 34.440475734067476\n",
      "34.08957993472028 34.79488049140815 34.440475734067476 26.433785153581024 13.250075437473766\n",
      "Injecting\n",
      "24 34.440475734067476 34.08957993472028\n",
      "34.08957993472028 34.440475734067476 34.08957993472028 13.250075437473766 0.0\n",
      "Injecting\n"
     ]
    },
    {
     "name": "stderr",
     "output_type": "stream",
     "text": [
      "\r",
      " 14%|█▍        | 26/188 [03:01<19:01,  7.04s/it]"
     ]
    },
    {
     "name": "stdout",
     "output_type": "stream",
     "text": [
      "{'z': 33.7421583512082, 'T_s': 108.11204, 'T_b': 6.2421017, 'T_k': 182.20244, 'x_e': 0.005087367, 'E_phot': Array(8.741611, dtype=float32), 'dE_inj_per_B': Array(0.12302437, dtype=float32), 'f_ion': Array(0.03844869, dtype=float32), 'f_exc': Array(0.02931336, dtype=float32), 'f_heat': Array(0.03093395, dtype=float32)}\n",
      "\n",
      "Starting step:  26\n",
      "Currently at:  33.7421583512082\n",
      "Advancing to:  33.39817658535465\n",
      "21 35.51435758928545 35.15282929632223\n",
      "33.7421583512082 35.51435758928545 35.15282929632223 65.92017768300877 52.868223633395374\n",
      "Doing box average\n",
      "22 35.15282929632223 34.79488049140815\n",
      "33.7421583512082 35.15282929632223 34.79488049140815 52.868223633395374 39.75055371556999\n",
      "Injecting\n",
      "23 34.79488049140815 34.440475734067476\n",
      "33.7421583512082 34.79488049140815 34.440475734067476 39.75055371556999 26.56684393711425\n",
      "Injecting\n",
      "24 34.440475734067476 34.08957993472028\n",
      "33.7421583512082 34.440475734067476 34.08957993472028 26.56684393711425 13.316768494816142\n",
      "Injecting\n",
      "25 34.08957993472028 33.7421583512082\n",
      "33.7421583512082 34.08957993472028 33.7421583512082 13.316768494816142 0.0\n",
      "Injecting\n"
     ]
    },
    {
     "name": "stderr",
     "output_type": "stream",
     "text": [
      "\r",
      " 14%|█▍        | 27/188 [03:09<19:23,  7.23s/it]"
     ]
    },
    {
     "name": "stdout",
     "output_type": "stream",
     "text": [
      "{'z': 33.39817658535465, 'T_s': 106.77156, 'T_b': 6.1009126, 'T_k': 180.47044, 'x_e': 0.005069387, 'E_phot': Array(8.783199, dtype=float32), 'dE_inj_per_B': Array(0.13054308, dtype=float32), 'f_ion': Array(0.03850086, dtype=float32), 'f_exc': Array(0.02934798, dtype=float32), 'f_heat': Array(0.03094289, dtype=float32)}\n",
      "\n",
      "Starting step:  27\n",
      "Currently at:  33.39817658535465\n",
      "Advancing to:  33.05760057955906\n",
      "22 35.15282929632223 34.79488049140815\n",
      "33.39817658535465 35.15282929632223 34.79488049140815 66.25201418555763 53.13434423936172\n",
      "Doing box average\n",
      "23 34.79488049140815 34.440475734067476\n",
      "33.39817658535465 34.79488049140815 34.440475734067476 53.13434423936172 39.950634518904934\n",
      "Injecting\n",
      "24 34.440475734067476 34.08957993472028\n",
      "33.39817658535465 34.440475734067476 34.08957993472028 39.950634518904934 26.700559060068144\n",
      "Injecting\n",
      "25 34.08957993472028 33.7421583512082\n",
      "33.39817658535465 34.08957993472028 33.7421583512082 26.700559060068144 13.383790615982504\n",
      "Injecting\n",
      "26 33.7421583512082 33.39817658535465\n",
      "33.39817658535465 33.7421583512082 33.39817658535465 13.383790615982504 0.0\n",
      "Injecting\n"
     ]
    },
    {
     "name": "stderr",
     "output_type": "stream",
     "text": [
      "\r",
      " 15%|█▍        | 28/188 [03:16<18:55,  7.10s/it]"
     ]
    },
    {
     "name": "stdout",
     "output_type": "stream",
     "text": [
      "{'z': 33.05760057955906, 'T_s': 105.452095, 'T_b': 5.96251, 'T_k': 178.75981, 'x_e': 0.0050517754, 'E_phot': Array(8.83221, dtype=float32), 'dE_inj_per_B': Array(0.138441, dtype=float32), 'f_ion': Array(0.0385536, dtype=float32), 'f_exc': Array(0.02938206, dtype=float32), 'f_heat': Array(0.03095302, dtype=float32)}\n",
      "\n",
      "Starting step:  28\n",
      "Currently at:  33.05760057955906\n",
      "Advancing to:  32.72039661342481\n",
      "23 34.79488049140815 34.440475734067476\n",
      "33.05760057955906 34.79488049140815 34.440475734067476 66.5854877244436 53.40177797829225\n",
      "Doing box average\n",
      "24 34.440475734067476 34.08957993472028\n",
      "33.05760057955906 34.440475734067476 34.08957993472028 53.40177797829225 40.15170253121253\n",
      "Injecting\n",
      "25 34.08957993472028 33.7421583512082\n",
      "33.05760057955906 34.08957993472028 33.7421583512082 40.15170253121253 26.83493405507236\n",
      "Injecting\n",
      "26 33.7421583512082 33.39817658535465\n",
      "33.05760057955906 33.7421583512082 33.39817658535465 26.83493405507236 13.451143450765832\n",
      "Injecting\n",
      "27 33.39817658535465 33.05760057955906\n",
      "33.05760057955906 33.39817658535465 33.05760057955906 13.451143450765832 0.0\n",
      "Injecting\n"
     ]
    },
    {
     "name": "stderr",
     "output_type": "stream",
     "text": [
      "\r",
      " 15%|█▌        | 29/188 [03:23<18:53,  7.13s/it]"
     ]
    },
    {
     "name": "stdout",
     "output_type": "stream",
     "text": [
      "{'z': 32.72039661342481, 'T_s': 104.15323, 'T_b': 5.8268604, 'T_k': 177.06985, 'x_e': 0.005034521, 'E_phot': Array(8.888954, dtype=float32), 'dE_inj_per_B': Array(0.14672704, dtype=float32), 'f_ion': Array(0.03860691, dtype=float32), 'f_exc': Array(0.02941573, dtype=float32), 'f_heat': Array(0.03096447, dtype=float32)}\n",
      "\n",
      "Starting step:  29\n",
      "Currently at:  32.72039661342481\n",
      "Advancing to:  32.38653130042061\n",
      "24 34.440475734067476 34.08957993472028\n",
      "32.72039661342481 34.440475734067476 34.08957993472028 66.92060664712702 53.67053114383653\n",
      "Doing box average\n",
      "25 34.08957993472028 33.7421583512082\n",
      "32.72039661342481 34.08957993472028 33.7421583512082 53.67053114383653 40.35376261898093\n",
      "Injecting\n",
      "26 33.7421583512082 33.39817658535465\n",
      "32.72039661342481 33.7421583512082 33.39817658535465 40.35376261898093 26.969972074086762\n",
      "Injecting\n",
      "27 33.39817658535465 33.05760057955906\n",
      "32.72039661342481 33.39817658535465 33.05760057955906 26.969972074086762 13.51882860190432\n",
      "Injecting\n",
      "28 33.05760057955906 32.72039661342481\n",
      "32.72039661342481 33.05760057955906 32.72039661342481 13.51882860190432 0.0\n",
      "Injecting\n"
     ]
    },
    {
     "name": "stderr",
     "output_type": "stream",
     "text": [
      "\r",
      " 16%|█▌        | 30/188 [03:30<18:55,  7.18s/it]"
     ]
    },
    {
     "name": "stdout",
     "output_type": "stream",
     "text": [
      "{'z': 32.38653130042061, 'T_s': 102.87449, 'T_b': 5.6938744, 'T_k': 175.39993, 'x_e': 0.005017613, 'E_phot': Array(8.953748, dtype=float32), 'dE_inj_per_B': Array(0.1554101, dtype=float32), 'f_ion': Array(0.03866081, dtype=float32), 'f_exc': Array(0.0294491, dtype=float32), 'f_heat': Array(0.03097717, dtype=float32)}\n",
      "\n",
      "Starting step:  30\n",
      "Currently at:  32.38653130042061\n",
      "Advancing to:  32.055971584574856\n",
      "25 34.08957993472028 33.7421583512082\n",
      "32.38653130042061 34.08957993472028 33.7421583512082 67.25737900060557 53.94061050335024\n",
      "Doing box average\n",
      "26 33.7421583512082 33.39817658535465\n",
      "32.38653130042061 33.7421583512082 33.39817658535465 53.94061050335024 40.556819827244595\n",
      "Injecting\n",
      "27 33.39817658535465 33.05760057955906\n",
      "32.38653130042061 33.39817658535465 33.05760057955906 40.556819827244595 27.10567644525081\n",
      "Injecting\n",
      "28 33.05760057955906 32.72039661342481\n",
      "32.38653130042061 33.05760057955906 32.72039661342481 27.10567644525081 13.586847820211865\n",
      "Injecting\n",
      "29 32.72039661342481 32.38653130042061\n",
      "32.38653130042061 32.72039661342481 32.38653130042061 13.586847820211865 0.0\n",
      "Injecting\n"
     ]
    },
    {
     "name": "stderr",
     "output_type": "stream",
     "text": [
      "\r",
      " 16%|█▋        | 31/188 [03:39<20:08,  7.69s/it]"
     ]
    },
    {
     "name": "stdout",
     "output_type": "stream",
     "text": [
      "{'z': 32.055971584574856, 'T_s': 101.61546, 'T_b': 5.563517, 'T_k': 173.74936, 'x_e': 0.005001041, 'E_phot': Array(9.026912, dtype=float32), 'dE_inj_per_B': Array(0.16449842, dtype=float32), 'f_ion': Array(0.03871547, dtype=float32), 'f_exc': Array(0.02948226, dtype=float32), 'f_heat': Array(0.03099119, dtype=float32)}\n",
      "\n",
      "Starting step:  31\n",
      "Currently at:  32.055971584574856\n",
      "Advancing to:  31.728684737202826\n",
      "26 33.7421583512082 33.39817658535465\n",
      "32.055971584574856 33.7421583512082 33.39817658535465 67.5958130675046 54.21202253383926\n",
      "Doing box average\n",
      "27 33.39817658535465 33.05760057955906\n",
      "32.055971584574856 33.39817658535465 33.05760057955906 54.21202253383926 40.760879019168236\n",
      "Injecting\n",
      "28 33.05760057955906 32.72039661342481\n",
      "32.055971584574856 33.05760057955906 32.72039661342481 40.760879019168236 27.242050446013156\n",
      "Injecting\n",
      "29 32.72039661342481 32.38653130042061\n",
      "32.055971584574856 32.72039661342481 32.38653130042061 27.242050446013156 13.655202647311176\n",
      "Injecting\n",
      "30 32.38653130042061 32.055971584574856\n",
      "32.055971584574856 32.38653130042061 32.055971584574856 13.655202647311176 0.0\n",
      "Injecting\n"
     ]
    },
    {
     "name": "stderr",
     "output_type": "stream",
     "text": [
      "\r",
      " 17%|█▋        | 32/188 [03:46<19:52,  7.64s/it]"
     ]
    },
    {
     "name": "stdout",
     "output_type": "stream",
     "text": [
      "{'z': 31.728684737202826, 'T_s': 100.37569, 'T_b': 5.4357343, 'T_k': 172.11755, 'x_e': 0.004984795, 'E_phot': Array(9.108773, dtype=float32), 'dE_inj_per_B': Array(0.17400032, dtype=float32), 'f_ion': Array(0.03877096, dtype=float32), 'f_exc': Array(0.02951541, dtype=float32), 'f_heat': Array(0.03100658, dtype=float32)}\n",
      "\n",
      "Starting step:  32\n",
      "Currently at:  31.728684737202826\n",
      "Advancing to:  31.404638353666165\n",
      "27 33.39817658535465 33.05760057955906\n",
      "31.728684737202826 33.39817658535465 33.05760057955906 67.93591735016929 54.484773833321114\n",
      "Doing box average\n",
      "28 33.05760057955906 32.72039661342481\n",
      "31.728684737202826 33.05760057955906 32.72039661342481 54.484773833321114 40.96594534255384\n",
      "Injecting\n",
      "29 32.72039661342481 32.38653130042061\n",
      "31.728684737202826 32.72039661342481 32.38653130042061 40.96594534255384 27.379097549113595\n",
      "Injecting\n",
      "30 32.38653130042061 32.055971584574856\n",
      "31.728684737202826 32.38653130042061 32.055971584574856 27.379097549113595 13.723894888104743\n",
      "Injecting\n",
      "31 32.055971584574856 31.728684737202826\n",
      "31.728684737202826 32.055971584574856 31.728684737202826 13.723894888104743 0.0\n",
      "Injecting\n"
     ]
    },
    {
     "name": "stderr",
     "output_type": "stream",
     "text": [
      "\r",
      " 18%|█▊        | 33/188 [03:55<20:17,  7.85s/it]"
     ]
    },
    {
     "name": "stdout",
     "output_type": "stream",
     "text": [
      "{'z': 31.404638353666165, 'T_s': 99.15483, 'T_b': 5.3104777, 'T_k': 170.50397, 'x_e': 0.0049688644, 'E_phot': Array(9.199663, dtype=float32), 'dE_inj_per_B': Array(0.18392362, dtype=float32), 'f_ion': Array(0.03882727, dtype=float32), 'f_exc': Array(0.02954857, dtype=float32), 'f_heat': Array(0.03102336, dtype=float32)}\n",
      "\n",
      "Starting step:  33\n",
      "Currently at:  31.404638353666165\n",
      "Advancing to:  31.083800350164516\n",
      "28 33.05760057955906 32.72039661342481\n",
      "31.404638353666165 33.05760057955906 32.72039661342481 68.27769999848974 54.75887148533645\n",
      "Doing box average\n",
      "29 32.72039661342481 32.38653130042061\n",
      "31.404638353666165 32.72039661342481 32.38653130042061 54.75887148533645 41.172023657331124\n",
      "Injecting\n",
      "30 32.38653130042061 32.055971584574856\n",
      "31.404638353666165 32.38653130042061 32.055971584574856 41.172023657331124 27.51682108297694\n",
      "Injecting\n",
      "31 32.055971584574856 31.728684737202826\n",
      "31.404638353666165 32.055971584574856 31.728684737202826 27.51682108297694 13.79292616778719\n",
      "Injecting\n",
      "32 31.728684737202826 31.404638353666165\n",
      "31.404638353666165 31.728684737202826 31.404638353666165 13.79292616778719 0.0\n",
      "Injecting\n"
     ]
    },
    {
     "name": "stderr",
     "output_type": "stream",
     "text": [
      "\r",
      " 18%|█▊        | 34/188 [04:02<19:25,  7.57s/it]"
     ]
    },
    {
     "name": "stdout",
     "output_type": "stream",
     "text": [
      "{'z': 31.083800350164516, 'T_s': 97.95253, 'T_b': 5.1877346, 'T_k': 168.90808, 'x_e': 0.0049532424, 'E_phot': Array(9.299916, dtype=float32), 'dE_inj_per_B': Array(0.194276, dtype=float32), 'f_ion': Array(0.03888451, dtype=float32), 'f_exc': Array(0.02958183, dtype=float32), 'f_heat': Array(0.03104158, dtype=float32)}\n",
      "\n",
      "Starting step:  34\n",
      "Currently at:  31.083800350164516\n",
      "Advancing to:  30.766138960558926\n",
      "29 32.72039661342481 32.38653130042061\n",
      "31.083800350164516 32.72039661342481 32.38653130042061 68.62116964822408 55.03432190204369\n",
      "Doing box average\n",
      "30 32.38653130042061 32.055971584574856\n",
      "31.083800350164516 32.38653130042061 32.055971584574856 55.03432190204369 41.379119161859265\n",
      "Injecting\n",
      "31 32.055971584574856 31.728684737202826\n",
      "31.083800350164516 32.055971584574856 31.728684737202826 41.379119161859265 27.655224290958518\n",
      "Injecting\n",
      "32 31.728684737202826 31.404638353666165\n",
      "31.083800350164516 31.728684737202826 31.404638353666165 27.655224290958518 13.862298125019795\n",
      "Injecting\n",
      "33 31.404638353666165 31.083800350164516\n",
      "31.083800350164516 31.404638353666165 31.083800350164516 13.862298125019795 0.0\n",
      "Injecting\n"
     ]
    },
    {
     "name": "stderr",
     "output_type": "stream",
     "text": [
      "\r",
      " 19%|█▊        | 35/188 [04:08<18:30,  7.26s/it]"
     ]
    },
    {
     "name": "stdout",
     "output_type": "stream",
     "text": [
      "{'z': 30.766138960558926, 'T_s': 96.76841, 'T_b': 5.0674443, 'T_k': 167.32939, 'x_e': 0.0049379175, 'E_phot': Array(9.409871, dtype=float32), 'dE_inj_per_B': Array(0.20506449, dtype=float32), 'f_ion': Array(0.0389428, dtype=float32), 'f_exc': Array(0.02961539, dtype=float32), 'f_heat': Array(0.03106127, dtype=float32)}\n",
      "\n",
      "Starting step:  35\n",
      "Currently at:  30.766138960558926\n",
      "Advancing to:  30.45162273322666\n",
      "30 32.38653130042061 32.055971584574856\n",
      "30.766138960558926 32.38653130042061 32.055971584574856 68.96633440809161 55.31113175214048\n",
      "Doing box average\n",
      "31 32.055971584574856 31.728684737202826\n",
      "30.766138960558926 32.055971584574856 31.728684737202826 55.31113175214048 41.587236893691845\n",
      "Injecting\n",
      "32 31.728684737202826 31.404638353666165\n",
      "30.766138960558926 31.728684737202826 31.404638353666165 41.587236893691845 27.79431073761959\n",
      "Injecting\n",
      "33 31.404638353666165 31.083800350164516\n",
      "30.766138960558926 31.404638353666165 31.083800350164516 27.79431073761959 13.93201256196906\n",
      "Injecting\n",
      "34 31.083800350164516 30.766138960558926\n",
      "30.766138960558926 31.083800350164516 30.766138960558926 13.93201256196906 0.0\n",
      "Injecting\n"
     ]
    },
    {
     "name": "stderr",
     "output_type": "stream",
     "text": [
      "\r",
      " 19%|█▉        | 36/188 [04:15<18:10,  7.17s/it]"
     ]
    },
    {
     "name": "stdout",
     "output_type": "stream",
     "text": [
      "{'z': 30.45162273322666, 'T_s': 95.60212, 'T_b': 4.949588, 'T_k': 165.76747, 'x_e': 0.004922883, 'E_phot': Array(9.529871, dtype=float32), 'dE_inj_per_B': Array(0.21629614, dtype=float32), 'f_ion': Array(0.03900215, dtype=float32), 'f_exc': Array(0.02964914, dtype=float32), 'f_heat': Array(0.03108249, dtype=float32)}\n",
      "\n",
      "Starting step:  36\n",
      "Currently at:  30.45162273322666\n",
      "Advancing to:  30.14022052794719\n",
      "31 32.055971584574856 31.728684737202826\n",
      "30.45162273322666 32.055971584574856 31.728684737202826 69.3132028994047 55.5893079598512\n",
      "Doing box average\n",
      "32 31.728684737202826 31.404638353666165\n",
      "30.45162273322666 31.728684737202826 31.404638353666165 55.5893079598512 41.79638189051171\n",
      "Injecting\n",
      "33 31.404638353666165 31.083800350164516\n",
      "30.45162273322666 31.404638353666165 31.083800350164516 41.79638189051171 27.934083724478782\n",
      "Injecting\n",
      "34 31.083800350164516 30.766138960558926\n",
      "30.45162273322666 31.083800350164516 30.766138960558926 27.934083724478782 14.002071157973393\n",
      "Injecting\n",
      "35 30.766138960558926 30.45162273322666\n",
      "30.45162273322666 30.766138960558926 30.45162273322666 14.002071157973393 0.0\n",
      "Injecting\n"
     ]
    },
    {
     "name": "stderr",
     "output_type": "stream",
     "text": [
      "\r",
      " 20%|█▉        | 37/188 [04:23<18:26,  7.32s/it]"
     ]
    },
    {
     "name": "stdout",
     "output_type": "stream",
     "text": [
      "{'z': 30.14022052794719, 'T_s': 94.4533, 'T_b': 4.834101, 'T_k': 164.22194, 'x_e': 0.004908131, 'E_phot': Array(9.660261, dtype=float32), 'dE_inj_per_B': Array(0.227977, dtype=float32), 'f_ion': Array(0.03906269, dtype=float32), 'f_exc': Array(0.02968339, dtype=float32), 'f_heat': Array(0.03110535, dtype=float32)}\n",
      "\n",
      "Starting step:  37\n",
      "Currently at:  30.14022052794719\n",
      "Advancing to:  29.831901512818998\n",
      "32 31.728684737202826 31.404638353666165\n",
      "30.14022052794719 31.728684737202826 31.404638353666165 69.66178358438432 55.86885748700957\n",
      "Doing box average\n",
      "33 31.404638353666165 31.083800350164516\n",
      "30.14022052794719 31.404638353666165 31.083800350164516 55.86885748700957 42.006559259117516\n",
      "Injecting\n",
      "34 31.083800350164516 30.766138960558926\n",
      "30.14022052794719 31.083800350164516 30.766138960558926 42.006559259117516 28.074546724316637\n",
      "Injecting\n",
      "35 30.766138960558926 30.45162273322666\n",
      "30.14022052794719 30.766138960558926 30.45162273322666 28.074546724316637 14.072475583380763\n",
      "Injecting\n",
      "36 30.45162273322666 30.14022052794719\n",
      "30.14022052794719 30.45162273322666 30.14022052794719 14.072475583380763 0.0\n",
      "Injecting\n"
     ]
    },
    {
     "name": "stderr",
     "output_type": "stream",
     "text": [
      "\r",
      " 20%|██        | 38/188 [04:30<18:09,  7.26s/it]"
     ]
    },
    {
     "name": "stdout",
     "output_type": "stream",
     "text": [
      "{'z': 29.831901512818998, 'T_s': 93.32126, 'T_b': 4.7208304, 'T_k': 162.69228, 'x_e': 0.004893653, 'E_phot': Array(9.801389, dtype=float32), 'dE_inj_per_B': Array(0.24011356, dtype=float32), 'f_ion': Array(0.03912449, dtype=float32), 'f_exc': Array(0.0297181, dtype=float32), 'f_heat': Array(0.03112979, dtype=float32)}\n",
      "\n",
      "Starting step:  38\n",
      "Currently at:  29.831901512818998\n",
      "Advancing to:  29.52663516120693\n",
      "33 31.404638353666165 31.083800350164516\n",
      "29.831901512818998 31.404638353666165 31.083800350164516 70.01208503881426 56.149786963708486\n",
      "Doing box average\n",
      "34 31.083800350164516 30.766138960558926\n",
      "29.831901512818998 31.083800350164516 30.766138960558926 56.149786963708486 42.21777434337099\n",
      "Injecting\n",
      "35 30.766138960558926 30.45162273322666\n",
      "29.831901512818998 30.766138960558926 30.45162273322666 42.21777434337099 28.215703163040043\n",
      "Injecting\n",
      "36 30.45162273322666 30.14022052794719\n",
      "29.831901512818998 30.45162273322666 30.14022052794719 28.215703163040043 14.14322760214948\n",
      "Injecting\n",
      "37 30.14022052794719 29.831901512818998\n",
      "29.831901512818998 30.14022052794719 29.831901512818998 14.14322760214948 0.0\n",
      "Injecting\n"
     ]
    },
    {
     "name": "stderr",
     "output_type": "stream",
     "text": [
      "\r",
      " 21%|██        | 39/188 [04:37<17:54,  7.21s/it]"
     ]
    },
    {
     "name": "stdout",
     "output_type": "stream",
     "text": [
      "{'z': 29.52663516120693, 'T_s': 92.20507, 'T_b': 4.6094503, 'T_k': 161.1782, 'x_e': 0.004879443, 'E_phot': Array(9.953605, dtype=float32), 'dE_inj_per_B': Array(0.2527117, dtype=float32), 'f_ion': Array(0.03918756, dtype=float32), 'f_exc': Array(0.0297533, dtype=float32), 'f_heat': Array(0.03115586, dtype=float32)}\n",
      "\n",
      "Starting step:  39\n",
      "Currently at:  29.52663516120693\n",
      "Advancing to:  29.224391248719733\n",
      "34 31.083800350164516 30.766138960558926\n",
      "29.52663516120693 31.083800350164516 30.766138960558926 70.36411585236429 56.432103236606025\n",
      "Doing box average\n",
      "35 30.766138960558926 30.45162273322666\n",
      "29.52663516120693 30.766138960558926 30.45162273322666 56.432103236606025 42.43003206354888\n",
      "Injecting\n",
      "36 30.45162273322666 30.14022052794719\n",
      "29.52663516120693 30.45162273322666 30.14022052794719 42.43003206354888 28.357556428998276\n",
      "Injecting\n",
      "37 30.14022052794719 29.831901512818998\n",
      "29.52663516120693 30.14022052794719 29.831901512818998 28.357556428998276 14.214328909792522\n",
      "Injecting\n",
      "38 29.831901512818998 29.52663516120693\n",
      "29.52663516120693 29.831901512818998 29.52663516120693 14.214328909792522 0.0\n",
      "Injecting\n"
     ]
    },
    {
     "name": "stderr",
     "output_type": "stream",
     "text": [
      "\r",
      " 21%|██▏       | 40/188 [04:43<17:05,  6.93s/it]"
     ]
    },
    {
     "name": "stdout",
     "output_type": "stream",
     "text": [
      "{'z': 29.224391248719733, 'T_s': 91.10402, 'T_b': 4.499701, 'T_k': 159.67941, 'x_e': 0.004865492, 'E_phot': Array(10.11726, dtype=float32), 'dE_inj_per_B': Array(0.26577613, dtype=float32), 'f_ion': Array(0.03925202, dtype=float32), 'f_exc': Array(0.02978915, dtype=float32), 'f_heat': Array(0.0311837, dtype=float32)}\n",
      "\n",
      "Starting step:  40\n",
      "Currently at:  29.224391248719733\n",
      "Advancing to:  28.92513985021756\n",
      "35 30.766138960558926 30.45162273322666\n",
      "29.224391248719733 30.766138960558926 30.45162273322666 70.71788445927437 56.7158133530138\n",
      "Doing box average\n",
      "36 30.45162273322666 30.14022052794719\n",
      "29.224391248719733 30.45162273322666 30.14022052794719 56.7158133530138 42.64333772484759\n",
      "Injecting\n",
      "37 30.14022052794719 29.831901512818998\n",
      "29.224391248719733 30.14022052794719 29.831901512818998 42.64333772484759 28.500110148024838\n",
      "Injecting\n",
      "38 29.831901512818998 29.52663516120693\n",
      "29.224391248719733 29.831901512818998 29.52663516120693 28.500110148024838 14.285781273948365\n",
      "Injecting\n",
      "39 29.52663516120693 29.224391248719733\n",
      "29.224391248719733 29.52663516120693 29.224391248719733 14.285781273948365 0.0\n",
      "Injecting\n"
     ]
    },
    {
     "name": "stderr",
     "output_type": "stream",
     "text": [
      "\r",
      " 22%|██▏       | 41/188 [04:51<17:21,  7.08s/it]"
     ]
    },
    {
     "name": "stdout",
     "output_type": "stream",
     "text": [
      "{'z': 28.92513985021756, 'T_s': 90.0182, 'T_b': 4.3916893, 'T_k': 158.19553, 'x_e': 0.004851794, 'E_phot': Array(10.292709, dtype=float32), 'dE_inj_per_B': Array(0.27931207, dtype=float32), 'f_ion': Array(0.03931796, dtype=float32), 'f_exc': Array(0.02982569, dtype=float32), 'f_heat': Array(0.0312133, dtype=float32)}\n",
      "\n",
      "Starting step:  41\n",
      "Currently at:  28.92513985021756\n",
      "Advancing to:  28.628851336849067\n",
      "36 30.45162273322666 30.14022052794719\n",
      "28.92513985021756 30.45162273322666 30.14022052794719 71.07339981007185 57.000924168777935\n",
      "Doing box average\n",
      "37 30.14022052794719 29.831901512818998\n",
      "28.92513985021756 30.14022052794719 29.831901512818998 57.000924168777935 42.85769666153157\n",
      "Injecting\n",
      "38 29.831901512818998 29.52663516120693\n",
      "28.92513985021756 29.831901512818998 29.52663516120693 42.85769666153157 28.643367711894903\n",
      "Injecting\n",
      "39 29.52663516120693 29.224391248719733\n",
      "28.92513985021756 29.52663516120693 29.224391248719733 28.643367711894903 14.35758644921526\n",
      "Injecting\n",
      "40 29.224391248719733 28.92513985021756\n",
      "28.92513985021756 29.224391248719733 28.92513985021756 14.35758644921526 0.0\n",
      "Injecting\n"
     ]
    },
    {
     "name": "stderr",
     "output_type": "stream",
     "text": [
      "\r",
      " 22%|██▏       | 42/188 [04:57<16:38,  6.84s/it]"
     ]
    },
    {
     "name": "stdout",
     "output_type": "stream",
     "text": [
      "{'z': 28.628851336849067, 'T_s': 88.94814, 'T_b': 4.2857647, 'T_k': 156.72664, 'x_e': 0.0048383484, 'E_phot': Array(10.480307, dtype=float32), 'dE_inj_per_B': Array(0.29332447, dtype=float32), 'f_ion': Array(0.03939388, dtype=float32), 'f_exc': Array(0.02986938, dtype=float32), 'f_heat': Array(0.0312513, dtype=float32)}\n",
      "\n",
      "Starting step:  42\n",
      "Currently at:  28.628851336849067\n",
      "Advancing to:  28.335496373117888\n",
      "37 30.14022052794719 29.831901512818998\n",
      "28.628851336849067 30.14022052794719 29.831901512818998 71.43067021734076 57.28744273837219\n",
      "Doing box average\n",
      "38 29.831901512818998 29.52663516120693\n",
      "28.628851336849067 29.831901512818998 29.52663516120693 57.28744273837219 43.07311375366173\n",
      "Injecting\n",
      "39 29.52663516120693 29.224391248719733\n",
      "28.628851336849067 29.52663516120693 29.224391248719733 43.07311375366173 28.787332540968958\n",
      "Injecting\n",
      "40 29.224391248719733 28.92513985021756\n",
      "28.628851336849067 29.224391248719733 28.92513985021756 28.787332540968958 14.429746146629983\n",
      "Injecting\n",
      "41 28.92513985021756 28.628851336849067\n",
      "28.628851336849067 28.92513985021756 28.628851336849067 14.429746146629983 0.0\n",
      "Injecting\n"
     ]
    },
    {
     "name": "stderr",
     "output_type": "stream",
     "text": [
      "\r",
      " 23%|██▎       | 43/188 [05:03<16:02,  6.64s/it]"
     ]
    },
    {
     "name": "stdout",
     "output_type": "stream",
     "text": [
      "{'z': 28.335496373117888, 'T_s': 87.8943, 'T_b': 4.1822667, 'T_k': 155.27477, 'x_e': 0.004825175, 'E_phot': Array(10.680406, dtype=float32), 'dE_inj_per_B': Array(0.30781627, dtype=float32), 'f_ion': Array(0.03951614, dtype=float32), 'f_exc': Array(0.02994777, dtype=float32), 'f_heat': Array(0.03132609, dtype=float32)}\n",
      "\n",
      "Starting step:  43\n",
      "Currently at:  28.335496373117888\n",
      "Advancing to:  28.045045913978107\n",
      "38 29.831901512818998 29.52663516120693\n",
      "28.335496373117888 29.831901512818998 29.52663516120693 71.78970486536777 57.57537596079449\n",
      "Doing box average\n",
      "39 29.52663516120693 29.224391248719733\n",
      "28.335496373117888 29.52663516120693 29.224391248719733 57.57537596079449 43.28959471962\n",
      "Injecting\n",
      "40 29.224391248719733 28.92513985021756\n",
      "28.335496373117888 29.224391248719733 28.92513985021756 43.28959471962 28.932008308686484\n",
      "Injecting\n",
      "41 28.92513985021756 28.628851336849067\n",
      "28.335496373117888 28.92513985021756 28.628851336849067 28.932008308686484 14.502262143058346\n",
      "Injecting\n",
      "42 28.628851336849067 28.335496373117888\n",
      "28.335496373117888 28.628851336849067 28.335496373117888 14.502262143058346 0.0\n",
      "Injecting\n"
     ]
    },
    {
     "name": "stderr",
     "output_type": "stream",
     "text": [
      "\r",
      " 23%|██▎       | 44/188 [05:09<15:35,  6.50s/it]"
     ]
    },
    {
     "name": "stdout",
     "output_type": "stream",
     "text": [
      "{'z': 28.045045913978107, 'T_s': 86.85639, 'T_b': 4.0812006, 'T_k': 153.8398, 'x_e': 0.0048122723, 'E_phot': Array(10.89336, dtype=float32), 'dE_inj_per_B': Array(0.32279262, dtype=float32), 'f_ion': Array(0.03964644, dtype=float32), 'f_exc': Array(0.03003096, dtype=float32), 'f_heat': Array(0.03140703, dtype=float32)}\n",
      "\n",
      "Starting step:  44\n",
      "Currently at:  28.045045913978107\n",
      "Advancing to:  27.757471201958523\n",
      "39 29.52663516120693 29.224391248719733\n",
      "28.045045913978107 29.52663516120693 29.224391248719733 72.1505122779332 57.86473101780239\n",
      "Doing box average\n",
      "40 29.224391248719733 28.92513985021756\n",
      "28.045045913978107 29.224391248719733 28.92513985021756 57.86473101780239 43.50714459033399\n",
      "Injecting\n",
      "41 28.92513985021756 28.628851336849067\n",
      "28.045045913978107 28.92513985021756 28.628851336849067 43.50714459033399 29.077398415820284\n",
      "Injecting\n",
      "42 28.628851336849067 28.335496373117888\n",
      "28.045045913978107 28.628851336849067 28.335496373117888 29.077398415820284 14.575136286931519\n",
      "Injecting\n",
      "43 28.335496373117888 28.045045913978107\n",
      "28.045045913978107 28.335496373117888 28.045045913978107 14.575136286931519 0.0\n",
      "Injecting\n"
     ]
    },
    {
     "name": "stderr",
     "output_type": "stream",
     "text": [
      "\r",
      " 24%|██▍       | 45/188 [05:16<15:14,  6.39s/it]"
     ]
    },
    {
     "name": "stdout",
     "output_type": "stream",
     "text": [
      "{'z': 27.757471201958523, 'T_s': 85.83424, 'T_b': 3.9825683, 'T_k': 152.42126, 'x_e': 0.004799631, 'E_phot': Array(11.119526, dtype=float32), 'dE_inj_per_B': Array(0.3382555, dtype=float32), 'f_ion': Array(0.03977821, dtype=float32), 'f_exc': Array(0.03011524, dtype=float32), 'f_heat': Array(0.03148969, dtype=float32)}\n",
      "\n",
      "Starting step:  45\n",
      "Currently at:  27.757471201958523\n",
      "Advancing to:  27.472743764315368\n",
      "40 29.224391248719733 28.92513985021756\n",
      "27.757471201958523 29.224391248719733 28.92513985021756 72.51310129106756 58.155514855624524\n",
      "Doing box average\n",
      "41 28.92513985021756 28.628851336849067\n",
      "27.757471201958523 28.92513985021756 28.628851336849067 58.155514855624524 43.725768709692396\n",
      "Injecting\n",
      "42 28.628851336849067 28.335496373117888\n",
      "27.757471201958523 28.628851336849067 28.335496373117888 43.725768709692396 29.22350652717234\n",
      "Injecting\n",
      "43 28.335496373117888 28.045045913978107\n",
      "27.757471201958523 28.335496373117888 28.045045913978107 29.22350652717234 14.648370252044694\n",
      "Injecting\n",
      "44 28.045045913978107 27.757471201958523\n",
      "27.757471201958523 28.045045913978107 27.757471201958523 14.648370252044694 0.0\n",
      "Injecting\n"
     ]
    },
    {
     "name": "stderr",
     "output_type": "stream",
     "text": [
      "\r",
      " 24%|██▍       | 46/188 [05:23<16:12,  6.85s/it]"
     ]
    },
    {
     "name": "stdout",
     "output_type": "stream",
     "text": [
      "{'z': 27.472743764315368, 'T_s': 84.827576, 'T_b': 3.8863833, 'T_k': 151.0188, 'x_e': 0.0047872476, 'E_phot': Array(11.359257, dtype=float32), 'dE_inj_per_B': Array(0.35420802, dtype=float32), 'f_ion': Array(0.03991171, dtype=float32), 'f_exc': Array(0.03020067, dtype=float32), 'f_heat': Array(0.03157422, dtype=float32)}\n",
      "\n",
      "Starting step:  46\n",
      "Currently at:  27.472743764315368\n",
      "Advancing to:  27.190835410213236\n",
      "41 28.92513985021756 28.628851336849067\n",
      "27.472743764315368 28.92513985021756 28.628851336849067 72.87748074442683 58.44773464341436\n",
      "Doing box average\n",
      "42 28.628851336849067 28.335496373117888\n",
      "27.472743764315368 28.628851336849067 28.335496373117888 58.44773464341436 43.945472360597044\n",
      "Injecting\n",
      "43 28.335496373117888 28.045045913978107\n",
      "27.472743764315368 28.335496373117888 28.045045913978107 43.945472360597044 29.37033615296636\n",
      "Injecting\n",
      "44 28.045045913978107 27.757471201958523\n",
      "27.472743764315368 28.045045913978107 27.757471201958523 29.37033615296636 14.721965876585436\n",
      "Injecting\n",
      "45 27.757471201958523 27.472743764315368\n",
      "27.472743764315368 27.757471201958523 27.472743764315368 14.721965876585436 0.0\n",
      "Injecting\n"
     ]
    },
    {
     "name": "stderr",
     "output_type": "stream",
     "text": [
      "\r",
      " 25%|██▌       | 47/188 [05:30<15:36,  6.64s/it]"
     ]
    },
    {
     "name": "stdout",
     "output_type": "stream",
     "text": [
      "{'z': 27.190835410213236, 'T_s': 83.83624, 'T_b': 3.7926617, 'T_k': 149.63208, 'x_e': 0.004775113, 'E_phot': Array(11.6129055, dtype=float32), 'dE_inj_per_B': Array(0.37065312, dtype=float32), 'f_ion': Array(0.04004712, dtype=float32), 'f_exc': Array(0.03028744, dtype=float32), 'f_heat': Array(0.03166083, dtype=float32)}\n",
      "\n",
      "Starting step:  47\n",
      "Currently at:  27.190835410213236\n",
      "Advancing to:  26.911718227933896\n",
      "42 28.628851336849067 28.335496373117888\n",
      "27.190835410213236 28.628851336849067 28.335496373117888 73.2436595912887 58.74139738541362\n",
      "Doing box average\n",
      "43 28.335496373117888 28.045045913978107\n",
      "27.190835410213236 28.335496373117888 28.045045913978107 58.74139738541362 44.16626109967247\n",
      "Injecting\n",
      "44 28.045045913978107 27.757471201958523\n",
      "27.190835410213236 28.045045913978107 27.757471201958523 44.16626109967247 29.51789084644007\n",
      "Injecting\n",
      "45 27.757471201958523 27.472743764315368\n",
      "27.190835410213236 27.757471201958523 27.472743764315368 29.51789084644007 14.795924939719217\n",
      "Injecting\n",
      "46 27.472743764315368 27.190835410213236\n",
      "27.190835410213236 27.472743764315368 27.190835410213236 14.795924939719217 0.0\n",
      "Injecting\n"
     ]
    },
    {
     "name": "stderr",
     "output_type": "stream",
     "text": [
      "\r",
      " 26%|██▌       | 48/188 [05:37<16:06,  6.90s/it]"
     ]
    },
    {
     "name": "stdout",
     "output_type": "stream",
     "text": [
      "{'z': 26.911718227933896, 'T_s': 82.860085, 'T_b': 3.7014556, 'T_k': 148.26074, 'x_e': 0.004763222, 'E_phot': Array(11.880823, dtype=float32), 'dE_inj_per_B': Array(0.38759205, dtype=float32), 'f_ion': Array(0.0401848, dtype=float32), 'f_exc': Array(0.03037573, dtype=float32), 'f_heat': Array(0.03174971, dtype=float32)}\n",
      "\n",
      "Starting step:  48\n",
      "Currently at:  26.911718227933896\n",
      "Advancing to:  26.635364582112768\n",
      "43 28.335496373117888 28.045045913978107\n",
      "26.911718227933896 28.335496373117888 28.045045913978107 73.61164662606504 59.03651032299117\n",
      "Doing box average\n",
      "44 28.045045913978107 27.757471201958523\n",
      "26.911718227933896 28.045045913978107 27.757471201958523 59.03651032299117 44.388140125000916\n",
      "Injecting\n",
      "45 27.757471201958523 27.472743764315368\n",
      "26.911718227933896 27.757471201958523 27.472743764315368 44.388140125000916 29.66617416346025\n",
      "Injecting\n",
      "46 27.472743764315368 27.190835410213236\n",
      "26.911718227933896 27.472743764315368 27.190835410213236 29.66617416346025 14.870249260349578\n",
      "Injecting\n",
      "47 27.190835410213236 26.911718227933896\n",
      "26.911718227933896 27.190835410213236 26.911718227933896 14.870249260349578 0.0\n",
      "Injecting\n"
     ]
    },
    {
     "name": "stderr",
     "output_type": "stream",
     "text": [
      "\r",
      " 26%|██▌       | 49/188 [05:44<16:02,  6.92s/it]"
     ]
    },
    {
     "name": "stdout",
     "output_type": "stream",
     "text": [
      "{'z': 26.635364582112768, 'T_s': 81.89899, 'T_b': 3.6128187, 'T_k': 146.90448, 'x_e': 0.004751569, 'E_phot': Array(12.16336, dtype=float32), 'dE_inj_per_B': Array(0.40502623, dtype=float32), 'f_ion': Array(0.04032492, dtype=float32), 'f_exc': Array(0.03046561, dtype=float32), 'f_heat': Array(0.03184108, dtype=float32)}\n",
      "\n",
      "Starting step:  49\n",
      "Currently at:  26.635364582112768\n",
      "Advancing to:  26.36174711100274\n",
      "44 28.045045913978107 27.757471201958523\n",
      "26.635364582112768 28.045045913978107 27.757471201958523 73.98145099485896 59.33308072340449\n",
      "Doing box average\n",
      "45 27.757471201958523 27.472743764315368\n",
      "26.635364582112768 27.757471201958523 27.472743764315368 59.33308072340449 44.6111148232086\n",
      "Injecting\n",
      "46 27.472743764315368 27.190835410213236\n",
      "26.635364582112768 27.472743764315368 27.190835410213236 44.6111148232086 29.8151899233224\n",
      "Injecting\n",
      "47 27.190835410213236 26.911718227933896\n",
      "26.635364582112768 27.190835410213236 26.911718227933896 29.8151899233224 14.944940620510907\n",
      "Injecting\n",
      "48 26.911718227933896 26.635364582112768\n",
      "26.635364582112768 26.911718227933896 26.635364582112768 14.944940620510907 0.0\n",
      "Injecting\n"
     ]
    },
    {
     "name": "stderr",
     "output_type": "stream",
     "text": [
      "\r",
      " 27%|██▋       | 50/188 [05:52<16:26,  7.15s/it]"
     ]
    },
    {
     "name": "stdout",
     "output_type": "stream",
     "text": [
      "{'z': 26.36174711100274, 'T_s': 80.95293, 'T_b': 3.5268464, 'T_k': 145.56306, 'x_e': 0.004740149, 'E_phot': Array(12.46086, dtype=float32), 'dE_inj_per_B': Array(0.42295772, dtype=float32), 'f_ion': Array(0.04046747, dtype=float32), 'f_exc': Array(0.03055719, dtype=float32), 'f_heat': Array(0.03193494, dtype=float32)}\n",
      "\n",
      "Starting step:  50\n",
      "Currently at:  26.36174711100274\n",
      "Advancing to:  26.09083872376509\n",
      "45 27.757471201958523 27.472743764315368\n",
      "26.36174711100274 27.757471201958523 27.472743764315368 74.35308163060799 59.63111575053497\n",
      "Doing box average\n",
      "46 27.472743764315368 27.190835410213236\n",
      "26.36174711100274 27.472743764315368 27.190835410213236 59.63111575053497 44.83519079684691\n",
      "Injecting\n",
      "47 27.190835410213236 26.911718227933896\n",
      "26.36174711100274 27.190835410213236 26.911718227933896 44.83519079684691 29.964941512228148\n",
      "Injecting\n",
      "48 26.911718227933896 26.635364582112768\n",
      "26.36174711100274 26.911718227933896 26.635364582112768 29.964941512228148 15.020000902968414\n",
      "Injecting\n",
      "49 26.635364582112768 26.36174711100274\n",
      "26.36174711100274 26.635364582112768 26.36174711100274 15.020000902968414 0.0\n",
      "Injecting\n"
     ]
    },
    {
     "name": "stderr",
     "output_type": "stream",
     "text": [
      "\r",
      " 27%|██▋       | 51/188 [05:59<16:39,  7.30s/it]"
     ]
    },
    {
     "name": "stdout",
     "output_type": "stream",
     "text": [
      "{'z': 26.09083872376509, 'T_s': 80.02185, 'T_b': 3.4436512, 'T_k': 144.2362, 'x_e': 0.0047289566, 'E_phot': Array(12.77367, dtype=float32), 'dE_inj_per_B': Array(0.44138598, dtype=float32), 'f_ion': Array(0.04061282, dtype=float32), 'f_exc': Array(0.03065056, dtype=float32), 'f_heat': Array(0.03203148, dtype=float32)}\n",
      "\n",
      "Starting step:  51\n",
      "Currently at:  26.09083872376509\n",
      "Advancing to:  25.822612597787217\n",
      "46 27.472743764315368 27.190835410213236\n",
      "26.09083872376509 27.472743764315368 27.190835410213236 74.7265476644085 59.930622640701934\n",
      "Doing box average\n",
      "47 27.190835410213236 26.911718227933896\n",
      "26.09083872376509 27.190835410213236 26.911718227933896 59.930622640701934 45.06037336069446\n",
      "Injecting\n",
      "48 26.911718227933896 26.635364582112768\n",
      "26.09083872376509 26.911718227933896 26.635364582112768 45.06037336069446 30.115432723281216\n",
      "Injecting\n",
      "49 26.635364582112768 26.36174711100274\n",
      "26.09083872376509 26.635364582112768 26.36174711100274 30.115432723281216 15.09543182816323\n",
      "Injecting\n",
      "50 26.36174711100274 26.09083872376509\n",
      "26.09083872376509 26.36174711100274 26.09083872376509 15.09543182816323 0.0\n",
      "Injecting\n"
     ]
    },
    {
     "name": "stderr",
     "output_type": "stream",
     "text": [
      "\r",
      " 28%|██▊       | 52/188 [06:07<16:36,  7.33s/it]"
     ]
    },
    {
     "name": "stdout",
     "output_type": "stream",
     "text": [
      "{'z': 25.822612597787217, 'T_s': 79.10586, 'T_b': 3.3633926, 'T_k': 142.92366, 'x_e': 0.004717987, 'E_phot': Array(13.102131, dtype=float32), 'dE_inj_per_B': Array(0.4603118, dtype=float32), 'f_ion': Array(0.04076097, dtype=float32), 'f_exc': Array(0.0307458, dtype=float32), 'f_heat': Array(0.03213076, dtype=float32)}\n",
      "\n",
      "Starting step:  52\n",
      "Currently at:  25.822612597787217\n",
      "Advancing to:  25.557042176026947\n",
      "47 27.190835410213236 26.911718227933896\n",
      "25.822612597787217 27.190835410213236 26.911718227933896 75.10185797144864 60.23160864616932\n",
      "Doing box average\n",
      "48 26.911718227933896 26.635364582112768\n",
      "25.822612597787217 26.911718227933896 26.635364582112768 60.23160864616932 45.28666805753025\n",
      "Injecting\n",
      "49 26.635364582112768 26.36174711100274\n",
      "25.822612597787217 26.635364582112768 26.36174711100274 45.28666805753025 30.26666719963942\n",
      "Injecting\n",
      "50 26.36174711100274 26.09083872376509\n",
      "25.822612597787217 26.36174711100274 26.09083872376509 30.26666719963942 15.171235323318095\n",
      "Injecting\n",
      "51 26.09083872376509 25.822612597787217\n",
      "25.822612597787217 26.09083872376509 25.822612597787217 15.171235323318095 0.0\n",
      "Injecting\n"
     ]
    },
    {
     "name": "stderr",
     "output_type": "stream",
     "text": [
      "\r",
      " 28%|██▊       | 53/188 [06:14<16:40,  7.41s/it]"
     ]
    },
    {
     "name": "stdout",
     "output_type": "stream",
     "text": [
      "{'z': 25.557042176026947, 'T_s': 78.20541, 'T_b': 3.2864516, 'T_k': 141.62521, 'x_e': 0.004707234, 'E_phot': Array(13.446579, dtype=float32), 'dE_inj_per_B': Array(0.47973487, dtype=float32), 'f_ion': Array(0.04091206, dtype=float32), 'f_exc': Array(0.03084298, dtype=float32), 'f_heat': Array(0.03223286, dtype=float32)}\n",
      "\n",
      "Starting step:  53\n",
      "Currently at:  25.557042176026947\n",
      "Advancing to:  25.294101164383115\n",
      "48 26.911718227933896 26.635364582112768\n",
      "25.557042176026947 26.911718227933896 26.635364582112768 75.47902196242995 60.53408121009515\n",
      "Doing box average\n",
      "49 26.635364582112768 26.36174711100274\n",
      "25.557042176026947 26.635364582112768 26.36174711100274 60.53408121009515 45.514080408604855\n",
      "Injecting\n",
      "50 26.36174711100274 26.09083872376509\n",
      "25.557042176026947 26.36174711100274 26.09083872376509 45.514080408604855 30.41864848288152\n",
      "Injecting\n",
      "51 26.09083872376509 25.822612597787217\n",
      "25.557042176026947 26.09083872376509 25.822612597787217 30.41864848288152 15.247413195526686\n",
      "Injecting\n",
      "52 25.822612597787217 25.557042176026947\n",
      "25.557042176026947 25.822612597787217 25.557042176026947 15.247413195526686 0.0\n",
      "Injecting\n"
     ]
    },
    {
     "name": "stderr",
     "output_type": "stream",
     "text": [
      "\r",
      " 29%|██▊       | 54/188 [06:21<15:47,  7.07s/it]"
     ]
    },
    {
     "name": "stdout",
     "output_type": "stream",
     "text": [
      "{'z': 25.294101164383115, 'T_s': 77.320175, 'T_b': 3.2127733, 'T_k': 140.34065, 'x_e': 0.0046966947, 'E_phot': Array(13.807346, dtype=float32), 'dE_inj_per_B': Array(0.49965453, dtype=float32), 'f_ion': Array(0.04106626, dtype=float32), 'f_exc': Array(0.03094217, dtype=float32), 'f_heat': Array(0.0323379, dtype=float32)}\n",
      "\n",
      "Starting step:  54\n",
      "Currently at:  25.294101164383115\n",
      "Advancing to:  25.03376352909219\n",
      "49 26.635364582112768 26.36174711100274\n",
      "25.294101164383115 26.635364582112768 26.36174711100274 75.85804851506552 60.83804776900616\n",
      "Doing box average\n",
      "50 26.36174711100274 26.09083872376509\n",
      "25.294101164383115 26.36174711100274 26.09083872376509 60.83804776900616 45.742615782454095\n",
      "Injecting\n",
      "51 26.09083872376509 25.822612597787217\n",
      "25.294101164383115 26.09083872376509 25.822612597787217 45.742615782454095 30.571380512844655\n",
      "Injecting\n",
      "52 25.822612597787217 25.557042176026947\n",
      "25.294101164383115 25.822612597787217 25.557042176026947 30.571380512844655 15.32396728771742\n",
      "Injecting\n",
      "53 25.557042176026947 25.294101164383115\n",
      "25.294101164383115 25.557042176026947 25.294101164383115 15.32396728771742 0.0\n",
      "Injecting\n"
     ]
    },
    {
     "name": "stderr",
     "output_type": "stream",
     "text": [
      "\r",
      " 29%|██▉       | 55/188 [06:29<16:28,  7.43s/it]"
     ]
    },
    {
     "name": "stdout",
     "output_type": "stream",
     "text": [
      "{'z': 25.03376352909219, 'T_s': 76.45081, 'T_b': 3.1428566, 'T_k': 139.06978, 'x_e': 0.0046863644, 'E_phot': Array(14.184765, dtype=float32), 'dE_inj_per_B': Array(0.5200696, dtype=float32), 'f_ion': Array(0.04122367, dtype=float32), 'f_exc': Array(0.03104346, dtype=float32), 'f_heat': Array(0.03244601, dtype=float32)}\n",
      "\n",
      "Starting step:  55\n",
      "Currently at:  25.03376352909219\n",
      "Advancing to:  24.776003494150682\n",
      "50 26.36174711100274 26.09083872376509\n",
      "25.03376352909219 26.36174711100274 26.09083872376509 76.2389470976714 61.143515208383675\n",
      "Doing box average\n",
      "51 26.09083872376509 25.822612597787217\n",
      "25.03376352909219 26.09083872376509 25.822612597787217 61.143515208383675 45.97227997029706\n",
      "Injecting\n",
      "52 25.822612597787217 25.557042176026947\n",
      "25.03376352909219 25.822612597787217 25.557042176026947 45.97227997029706 30.724866752897707\n",
      "Injecting\n",
      "53 25.557042176026947 25.294101164383115\n",
      "25.03376352909219 25.557042176026947 25.294101164383115 30.724866752897707 15.400899478572844\n",
      "Injecting\n",
      "54 25.294101164383115 25.03376352909219\n",
      "25.03376352909219 25.294101164383115 25.03376352909219 15.400899478572844 0.0\n",
      "Injecting\n"
     ]
    },
    {
     "name": "stderr",
     "output_type": "stream",
     "text": [
      "\r",
      " 30%|██▉       | 56/188 [06:37<16:36,  7.55s/it]"
     ]
    },
    {
     "name": "stdout",
     "output_type": "stream",
     "text": [
      "{'z': 24.776003494150682, 'T_s': 75.5976, 'T_b': 3.0769958, 'T_k': 137.81236, 'x_e': 0.004676239, 'E_phot': Array(14.579156, dtype=float32), 'dE_inj_per_B': Array(0.54097927, dtype=float32), 'f_ion': Array(0.04138438, dtype=float32), 'f_exc': Array(0.03114687, dtype=float32), 'f_heat': Array(0.03255719, dtype=float32)}\n",
      "\n",
      "Starting step:  56\n",
      "Currently at:  24.776003494150682\n",
      "Advancing to:  24.520795538763053\n",
      "51 26.09083872376509 25.822612597787217\n",
      "24.776003494150682 26.09083872376509 25.822612597787217 76.6217268671309 61.450491597542296\n",
      "Doing box average\n",
      "52 25.822612597787217 25.557042176026947\n",
      "24.776003494150682 25.822612597787217 25.557042176026947 61.450491597542296 46.20307841628719\n",
      "Injecting\n",
      "53 25.557042176026947 25.294101164383115\n",
      "24.776003494150682 25.557042176026947 25.294101164383115 46.20307841628719 30.87911112599462\n",
      "Injecting\n",
      "54 25.294101164383115 25.03376352909219\n",
      "24.776003494150682 25.294101164383115 25.03376352909219 30.87911112599462 15.47821163633313\n",
      "Injecting\n",
      "55 25.03376352909219 24.776003494150682\n",
      "24.776003494150682 25.03376352909219 24.776003494150682 15.47821163633313 0.0\n",
      "Injecting\n"
     ]
    },
    {
     "name": "stderr",
     "output_type": "stream",
     "text": [
      "\r",
      " 30%|███       | 57/188 [06:44<16:04,  7.36s/it]"
     ]
    },
    {
     "name": "stdout",
     "output_type": "stream",
     "text": [
      "{'z': 24.520795538763053, 'T_s': 74.761246, 'T_b': 3.0157046, 'T_k': 136.56831, 'x_e': 0.004666315, 'E_phot': Array(14.990841, dtype=float32), 'dE_inj_per_B': Array(0.5623811, dtype=float32), 'f_ion': Array(0.04154852, dtype=float32), 'f_exc': Array(0.03125257, dtype=float32), 'f_heat': Array(0.03267157, dtype=float32)}\n",
      "\n",
      "Starting step:  57\n",
      "Currently at:  24.520795538763053\n",
      "Advancing to:  24.268114394814905\n",
      "52 25.822612597787217 25.557042176026947\n",
      "24.520795538763053 25.822612597787217 25.557042176026947 77.00639730104511 61.75898397843432\n",
      "Doing box average\n",
      "53 25.557042176026947 25.294101164383115\n",
      "24.520795538763053 25.557042176026947 25.294101164383115 61.75898397843432 46.43501673685954\n",
      "Injecting\n",
      "54 25.294101164383115 25.03376352909219\n",
      "24.520795538763053 25.294101164383115 25.03376352909219 46.43501673685954 31.03411721758587\n",
      "Injecting\n",
      "55 25.03376352909219 24.776003494150682\n",
      "24.520795538763053 25.03376352909219 24.776003494150682 31.03411721758587 15.555905620689979\n",
      "Injecting\n",
      "56 24.776003494150682 24.520795538763053\n",
      "24.520795538763053 24.776003494150682 24.520795538763053 15.555905620689979 0.0\n",
      "Injecting\n"
     ]
    },
    {
     "name": "stderr",
     "output_type": "stream",
     "text": [
      "\r",
      " 31%|███       | 58/188 [06:50<15:07,  6.98s/it]"
     ]
    },
    {
     "name": "stdout",
     "output_type": "stream",
     "text": [
      "{'z': 24.268114394814905, 'T_s': 73.943115, 'T_b': 2.9599228, 'T_k': 135.33742, 'x_e': 0.0046565877, 'E_phot': Array(15.420132, dtype=float32), 'dE_inj_per_B': Array(0.5842731, dtype=float32), 'f_ion': Array(0.04171621, dtype=float32), 'f_exc': Array(0.03136053, dtype=float32), 'f_heat': Array(0.03278929, dtype=float32)}\n",
      "\n",
      "Starting step:  58\n",
      "Currently at:  24.268114394814905\n",
      "Advancing to:  24.017935044371193\n",
      "53 25.557042176026947 25.294101164383115\n",
      "24.268114394814905 25.557042176026947 25.294101164383115 77.39296726042288 62.06900004537777\n",
      "Doing box average\n",
      "54 25.294101164383115 25.03376352909219\n",
      "24.268114394814905 25.294101164383115 25.03376352909219 62.06900004537777 46.66810057296322\n",
      "Injecting\n",
      "55 25.03376352909219 24.776003494150682\n",
      "24.268114394814905 25.03376352909219 24.776003494150682 46.66810057296322 31.189888869199518\n",
      "Injecting\n",
      "56 24.776003494150682 24.520795538763053\n",
      "24.268114394814905 24.776003494150682 24.520795538763053 31.189888869199518 15.633983298016219\n",
      "Injecting\n",
      "57 24.520795538763053 24.268114394814905\n",
      "24.268114394814905 24.520795538763053 24.268114394814905 15.633983298016219 0.0\n",
      "Injecting\n"
     ]
    },
    {
     "name": "stderr",
     "output_type": "stream",
     "text": [
      "\r",
      " 31%|███▏      | 59/188 [06:57<15:19,  7.13s/it]"
     ]
    },
    {
     "name": "stdout",
     "output_type": "stream",
     "text": [
      "{'z': 24.017935044371193, 'T_s': 73.142876, 'T_b': 2.9096026, 'T_k': 134.11957, 'x_e': 0.0046470547, 'E_phot': Array(15.867339, dtype=float32), 'dE_inj_per_B': Array(0.6066537, dtype=float32), 'f_ion': Array(0.04188753, dtype=float32), 'f_exc': Array(0.03147084, dtype=float32), 'f_heat': Array(0.03291031, dtype=float32)}\n",
      "\n",
      "Starting step:  59\n",
      "Currently at:  24.017935044371193\n",
      "Advancing to:  23.7702327171992\n",
      "54 25.294101164383115 25.03376352909219\n",
      "24.017935044371193 25.294101164383115 25.03376352909219 77.78144660968643 62.380547084224325\n",
      "Doing box average\n",
      "55 25.03376352909219 24.776003494150682\n",
      "24.017935044371193 25.03376352909219 24.776003494150682 62.380547084224325 46.902335478789375\n",
      "Injecting\n",
      "56 24.776003494150682 24.520795538763053\n",
      "24.017935044371193 24.776003494150682 24.520795538763053 46.902335478789375 31.346429878280563\n",
      "Injecting\n",
      "57 24.520795538763053 24.268114394814905\n",
      "24.017935044371193 24.520795538763053 24.268114394814905 31.346429878280563 15.712446591233867\n",
      "Injecting\n",
      "58 24.268114394814905 24.017935044371193\n",
      "24.017935044371193 24.268114394814905 24.017935044371193 15.712446591233867 0.0\n",
      "Injecting\n"
     ]
    },
    {
     "name": "stderr",
     "output_type": "stream",
     "text": [
      "\r",
      " 32%|███▏      | 60/188 [07:04<14:54,  6.99s/it]"
     ]
    },
    {
     "name": "stdout",
     "output_type": "stream",
     "text": [
      "{'z': 23.7702327171992, 'T_s': 72.36216, 'T_b': 2.8658452, 'T_k': 132.91463, 'x_e': 0.0046377117, 'E_phot': Array(16.332764, dtype=float32), 'dE_inj_per_B': Array(0.62951803, dtype=float32), 'f_ion': Array(0.04206267, dtype=float32), 'f_exc': Array(0.03158361, dtype=float32), 'f_heat': Array(0.03303485, dtype=float32)}\n",
      "\n",
      "Starting step:  60\n",
      "Currently at:  23.7702327171992\n",
      "Advancing to:  23.52498288831604\n",
      "55 25.03376352909219 24.776003494150682\n",
      "23.7702327171992 25.03376352909219 24.776003494150682 78.1718444864353 62.69363294174165\n",
      "Doing box average\n",
      "56 24.776003494150682 24.520795538763053\n",
      "23.7702327171992 24.776003494150682 24.520795538763053 62.69363294174165 47.137727235799964\n",
      "Injecting\n",
      "57 24.520795538763053 24.268114394814905\n",
      "23.7702327171992 24.520795538763053 24.268114394814905 47.137727235799964 31.503743992529696\n",
      "Injecting\n",
      "58 24.268114394814905 24.017935044371193\n",
      "23.7702327171992 24.268114394814905 24.017935044371193 31.503743992529696 15.791297387339092\n",
      "Injecting\n",
      "59 24.017935044371193 23.7702327171992\n",
      "23.7702327171992 24.017935044371193 23.7702327171992 15.791297387339092 0.0\n",
      "Injecting\n"
     ]
    },
    {
     "name": "stderr",
     "output_type": "stream",
     "text": [
      "\r",
      " 32%|███▏      | 61/188 [07:12<15:18,  7.23s/it]"
     ]
    },
    {
     "name": "stdout",
     "output_type": "stream",
     "text": [
      "{'z': 23.52498288831604, 'T_s': 71.60231, 'T_b': 2.8295805, 'T_k': 131.72244, 'x_e': 0.004628557, 'E_phot': Array(16.816704, dtype=float32), 'dE_inj_per_B': Array(0.65286344, dtype=float32), 'f_ion': Array(0.04224173, dtype=float32), 'f_exc': Array(0.03169893, dtype=float32), 'f_heat': Array(0.03316294, dtype=float32)}\n",
      "\n",
      "Starting step:  61\n",
      "Currently at:  23.52498288831604\n",
      "Advancing to:  23.282161275560433\n",
      "56 24.776003494150682 24.520795538763053\n",
      "23.52498288831604 24.776003494150682 24.520795538763053 78.56417055876673 63.00826485556413\n",
      "Doing box average\n",
      "57 24.520795538763053 24.268114394814905\n",
      "23.52498288831604 24.520795538763053 24.268114394814905 63.00826485556413 47.37428157930611\n",
      "Injecting\n",
      "58 24.268114394814905 24.017935044371193\n",
      "23.52498288831604 24.268114394814905 24.017935044371193 47.37428157930611 31.66183501970522\n",
      "Injecting\n",
      "59 24.017935044371193 23.7702327171992\n",
      "23.52498288831604 24.017935044371193 23.7702327171992 31.66183501970522 15.870537591328924\n",
      "Injecting\n",
      "60 23.7702327171992 23.52498288831604\n",
      "23.52498288831604 23.7702327171992 23.52498288831604 15.870537591328924 0.0\n",
      "Injecting\n"
     ]
    },
    {
     "name": "stderr",
     "output_type": "stream",
     "text": [
      "\r",
      " 33%|███▎      | 62/188 [07:20<15:33,  7.41s/it]"
     ]
    },
    {
     "name": "stdout",
     "output_type": "stream",
     "text": [
      "{'z': 23.282161275560433, 'T_s': 70.864876, 'T_b': 2.8018591, 'T_k': 130.54294, 'x_e': 0.0046195867, 'E_phot': Array(17.319445, dtype=float32), 'dE_inj_per_B': Array(0.67668694, dtype=float32), 'f_ion': Array(0.04242476, dtype=float32), 'f_exc': Array(0.03181681, dtype=float32), 'f_heat': Array(0.03329467, dtype=float32)}\n",
      "\n",
      "Starting step:  62\n",
      "Currently at:  23.282161275560433\n",
      "Advancing to:  23.041743837188548\n",
      "57 24.520795538763053 24.268114394814905\n",
      "23.282161275560433 24.520795538763053 24.268114394814905 78.9584339510272 63.32445074092389\n",
      "Doing box average\n",
      "58 24.268114394814905 24.017935044371193\n",
      "23.282161275560433 24.268114394814905 24.017935044371193 63.32445074092389 47.61200412973403\n",
      "Injecting\n",
      "59 24.017935044371193 23.7702327171992\n",
      "23.282161275560433 24.017935044371193 23.7702327171992 47.61200412973403 31.82070670742065\n",
      "Injecting\n",
      "60 23.7702327171992 23.52498288831604\n",
      "23.282161275560433 23.7702327171992 23.52498288831604 31.82070670742065 15.95016913749361\n",
      "Injecting\n",
      "61 23.52498288831604 23.282161275560433\n",
      "23.282161275560433 23.52498288831604 23.282161275560433 15.95016913749361 0.0\n",
      "Injecting\n"
     ]
    },
    {
     "name": "stderr",
     "output_type": "stream",
     "text": [
      "\r",
      " 34%|███▎      | 63/188 [07:26<15:02,  7.22s/it]"
     ]
    },
    {
     "name": "stdout",
     "output_type": "stream",
     "text": [
      "{'z': 23.041743837188548, 'T_s': 70.15201, 'T_b': 2.784161, 'T_k': 129.37598, 'x_e': 0.0046107974, 'E_phot': Array(17.841274, dtype=float32), 'dE_inj_per_B': Array(0.7009848, dtype=float32), 'f_ion': Array(0.04261183, dtype=float32), 'f_exc': Array(0.03193731, dtype=float32), 'f_heat': Array(0.03343004, dtype=float32)}\n",
      "\n",
      "Starting step:  63\n",
      "Currently at:  23.041743837188548\n",
      "Advancing to:  22.803706769493612\n",
      "58 24.268114394814905 24.017935044371193\n",
      "23.041743837188548 24.268114394814905 24.017935044371193 79.35464467780281 63.6421980489144\n",
      "Doing box average\n",
      "59 24.017935044371193 23.7702327171992\n",
      "23.041743837188548 24.017935044371193 23.7702327171992 63.6421980489144 47.85090072369896\n",
      "Injecting\n",
      "60 23.7702327171992 23.52498288831604\n",
      "23.041743837188548 23.7702327171992 23.52498288831604 47.85090072369896 31.980363050578013\n",
      "Injecting\n",
      "61 23.52498288831604 23.282161275560433\n",
      "23.041743837188548 23.52498288831604 23.282161275560433 31.980363050578013 16.030193919904434\n",
      "Injecting\n",
      "62 23.282161275560433 23.041743837188548\n",
      "23.041743837188548 23.282161275560433 23.041743837188548 16.030193919904434 0.0\n",
      "Injecting\n"
     ]
    },
    {
     "name": "stderr",
     "output_type": "stream",
     "text": [
      "\r",
      " 34%|███▍      | 64/188 [07:33<14:40,  7.10s/it]"
     ]
    },
    {
     "name": "stdout",
     "output_type": "stream",
     "text": [
      "{'z': 22.803706769493612, 'T_s': 69.46498, 'T_b': 2.7773204, 'T_k': 128.22151, 'x_e': 0.004602188, 'E_phot': Array(18.382463, dtype=float32), 'dE_inj_per_B': Array(0.72575194, dtype=float32), 'f_ion': Array(0.04280311, dtype=float32), 'f_exc': Array(0.0320605, dtype=float32), 'f_heat': Array(0.03356923, dtype=float32)}\n",
      "\n",
      "Starting step:  64\n",
      "Currently at:  22.803706769493612\n",
      "Advancing to:  22.568026504449122\n",
      "59 24.017935044371193 23.7702327171992\n",
      "22.803706769493612 24.017935044371193 23.7702327171992 79.75281184948687 63.961514595562555\n",
      "Doing box average\n",
      "60 23.7702327171992 23.52498288831604\n",
      "22.803706769493612 23.7702327171992 23.52498288831604 63.961514595562555 48.090976882634315\n",
      "Injecting\n",
      "61 23.52498288831604 23.282161275560433\n",
      "22.803706769493612 23.52498288831604 23.282161275560433 48.090976882634315 32.14080780319931\n",
      "Injecting\n",
      "62 23.282161275560433 23.041743837188548\n",
      "22.803706769493612 23.282161275560433 23.041743837188548 32.14080780319931 16.110613834263333\n",
      "Injecting\n",
      "63 23.041743837188548 22.803706769493612\n",
      "22.803706769493612 23.041743837188548 22.803706769493612 16.110613834263333 0.0\n",
      "Injecting\n"
     ]
    },
    {
     "name": "stderr",
     "output_type": "stream",
     "text": [
      "\r",
      " 35%|███▍      | 65/188 [07:40<14:23,  7.02s/it]"
     ]
    },
    {
     "name": "stdout",
     "output_type": "stream",
     "text": [
      "{'z': 22.568026504449122, 'T_s': 68.80667, 'T_b': 2.7832348, 'T_k': 127.07943, 'x_e': 0.0045937565, 'E_phot': Array(18.943285, dtype=float32), 'dE_inj_per_B': Array(0.7509845, dtype=float32), 'f_ion': Array(0.04299873, dtype=float32), 'f_exc': Array(0.03218647, dtype=float32), 'f_heat': Array(0.03371229, dtype=float32)}\n",
      "\n",
      "Starting step:  65\n",
      "Currently at:  22.568026504449122\n",
      "Advancing to:  22.33467970737537\n",
      "60 23.7702327171992 23.52498288831604\n",
      "22.568026504449122 23.7702327171992 23.52498288831604 80.15294544032206 64.28240787444182\n",
      "Doing box average\n",
      "61 23.52498288831604 23.282161275560433\n",
      "22.568026504449122 23.52498288831604 23.282161275560433 64.28240787444182 48.332238744380426\n",
      "Injecting\n",
      "62 23.282161275560433 23.041743837188548\n",
      "22.568026504449122 23.282161275560433 23.041743837188548 48.332238744380426 32.30204480959027\n",
      "Injecting\n",
      "63 23.041743837188548 22.803706769493612\n",
      "22.568026504449122 23.041743837188548 22.803706769493612 32.30204480959027 16.191430950132965\n",
      "Injecting\n",
      "64 22.803706769493612 22.568026504449122\n",
      "22.568026504449122 22.803706769493612 22.568026504449122 16.191430950132965 0.0\n",
      "Injecting\n"
     ]
    },
    {
     "name": "stderr",
     "output_type": "stream",
     "text": [
      "\r",
      " 35%|███▌      | 66/188 [07:47<14:26,  7.10s/it]"
     ]
    },
    {
     "name": "stdout",
     "output_type": "stream",
     "text": [
      "{'z': 22.33467970737537, 'T_s': 68.1793, 'T_b': 2.8033235, 'T_k': 125.94978, 'x_e': 0.004585499, 'E_phot': Array(19.523998, dtype=float32), 'dE_inj_per_B': Array(0.7766766, dtype=float32), 'f_ion': Array(0.04319871, dtype=float32), 'f_exc': Array(0.03231527, dtype=float32), 'f_heat': Array(0.03385929, dtype=float32)}\n",
      "\n",
      "Starting step:  66\n",
      "Currently at:  22.33467970737537\n",
      "Advancing to:  22.10364327462908\n",
      "61 23.52498288831604 23.282161275560433\n",
      "22.33467970737537 23.52498288831604 23.282161275560433 80.55505484250831 64.60488584179467\n",
      "Doing box average\n",
      "62 23.282161275560433 23.041743837188548\n",
      "22.33467970737537 23.282161275560433 23.041743837188548 64.60488584179467 48.57469201507201\n",
      "Injecting\n",
      "63 23.041743837188548 22.803706769493612\n",
      "22.33467970737537 23.041743837188548 22.803706769493612 48.57469201507201 32.46407805733257\n",
      "Injecting\n",
      "64 22.803706769493612 22.568026504449122\n",
      "22.33467970737537 22.803706769493612 22.568026504449122 32.46407805733257 16.27264710140545\n",
      "Injecting\n",
      "65 22.568026504449122 22.33467970737537\n",
      "22.33467970737537 22.568026504449122 22.33467970737537 16.27264710140545 0.0\n",
      "Injecting\n"
     ]
    },
    {
     "name": "stderr",
     "output_type": "stream",
     "text": [
      "\r",
      " 36%|███▌      | 67/188 [07:54<13:53,  6.89s/it]"
     ]
    },
    {
     "name": "stdout",
     "output_type": "stream",
     "text": [
      "{'z': 22.10364327462908, 'T_s': 67.587166, 'T_b': 2.8403769, 'T_k': 124.8324, 'x_e': 0.0045774155, 'E_phot': Array(20.124857, dtype=float32), 'dE_inj_per_B': Array(0.8028235, dtype=float32), 'f_ion': Array(0.04340324, dtype=float32), 'f_exc': Array(0.03244695, dtype=float32), 'f_heat': Array(0.03401034, dtype=float32)}\n",
      "\n",
      "Starting step:  67\n",
      "Currently at:  22.10364327462908\n",
      "Advancing to:  21.874894331315918\n",
      "62 23.282161275560433 23.041743837188548\n",
      "22.10364327462908 23.282161275560433 23.041743837188548 80.95915006340483 64.9289562362599\n",
      "Doing box average\n",
      "63 23.041743837188548 22.803706769493612\n",
      "22.10364327462908 23.041743837188548 22.803706769493612 64.9289562362599 48.81834235160822\n",
      "Injecting\n",
      "64 22.803706769493612 22.568026504449122\n",
      "22.10364327462908 22.803706769493612 22.568026504449122 48.81834235160822 32.62691137683865\n",
      "Injecting\n",
      "65 22.568026504449122 22.33467970737537\n",
      "22.10364327462908 22.568026504449122 22.33467970737537 32.62691137683865 16.354264265180934\n",
      "Injecting\n",
      "66 22.33467970737537 22.10364327462908\n",
      "22.10364327462908 22.33467970737537 22.10364327462908 16.354264265180934 0.0\n",
      "Injecting\n"
     ]
    },
    {
     "name": "stderr",
     "output_type": "stream",
     "text": [
      "\r",
      " 36%|███▌      | 68/188 [08:00<13:25,  6.71s/it]"
     ]
    },
    {
     "name": "stdout",
     "output_type": "stream",
     "text": [
      "{'z': 21.874894331315918, 'T_s': 67.03164, 'T_b': 2.895086, 'T_k': 123.728195, 'x_e': 0.0045695156, 'E_phot': Array(20.746107, dtype=float32), 'dE_inj_per_B': Array(0.8294202, dtype=float32), 'f_ion': Array(0.0436376, dtype=float32), 'f_exc': Array(0.03260083, dtype=float32), 'f_heat': Array(0.03418496, dtype=float32)}\n",
      "\n",
      "Starting step:  68\n",
      "Currently at:  21.874894331315918\n",
      "Advancing to:  21.64841022902566\n",
      "63 23.041743837188548 22.803706769493612\n",
      "21.874894331315918 23.041743837188548 22.803706769493612 81.36524061425956 65.25462674227055\n",
      "Doing box average\n",
      "64 22.803706769493612 22.568026504449122\n",
      "21.874894331315918 22.803706769493612 22.568026504449122 65.25462674227055 49.06319578849427\n",
      "Injecting\n",
      "65 22.568026504449122 22.33467970737537\n",
      "21.874894331315918 22.568026504449122 22.33467970737537 49.06319578849427 32.79054867173435\n",
      "Injecting\n",
      "66 22.33467970737537 22.10364327462908\n",
      "21.874894331315918 22.33467970737537 22.10364327462908 32.79054867173435 16.436284405524706\n",
      "Injecting\n",
      "67 22.10364327462908 21.874894331315918\n",
      "21.874894331315918 22.10364327462908 21.874894331315918 16.436284405524706 0.0\n",
      "Injecting\n"
     ]
    },
    {
     "name": "stderr",
     "output_type": "stream",
     "text": [
      "\r",
      " 37%|███▋      | 69/188 [08:06<13:06,  6.61s/it]"
     ]
    },
    {
     "name": "stdout",
     "output_type": "stream",
     "text": [
      "{'z': 21.64841022902566, 'T_s': 66.51869, 'T_b': 2.9711442, 'T_k': 122.638306, 'x_e': 0.0045618834, 'E_phot': Array(21.387983, dtype=float32), 'dE_inj_per_B': Array(0.8564604, dtype=float32), 'f_ion': Array(0.04391187, dtype=float32), 'f_exc': Array(0.0327842, dtype=float32), 'f_heat': Array(0.03439075, dtype=float32)}\n",
      "\n",
      "Starting step:  69\n",
      "Currently at:  21.64841022902566\n",
      "Advancing to:  21.42416854358976\n",
      "64 22.803706769493612 22.568026504449122\n",
      "21.64841022902566 22.803706769493612 22.568026504449122 81.77333618769487 65.58190525312504\n",
      "Doing box average\n",
      "65 22.568026504449122 22.33467970737537\n",
      "21.64841022902566 22.568026504449122 22.33467970737537 65.58190525312504 49.30925811980938\n",
      "Injecting\n",
      "66 22.33467970737537 22.10364327462908\n",
      "21.64841022902566 22.33467970737537 22.10364327462908 49.30925811980938 32.95499386876608\n",
      "Injecting\n",
      "67 22.10364327462908 21.874894331315918\n",
      "21.64841022902566 22.10364327462908 21.874894331315918 32.95499386876608 16.518709468397496\n",
      "Injecting\n",
      "68 21.874894331315918 21.64841022902566\n",
      "21.64841022902566 21.874894331315918 21.64841022902566 16.518709468397496 0.0\n",
      "Injecting\n"
     ]
    },
    {
     "name": "stderr",
     "output_type": "stream",
     "text": [
      "\r",
      " 37%|███▋      | 70/188 [08:13<12:48,  6.51s/it]"
     ]
    },
    {
     "name": "stdout",
     "output_type": "stream",
     "text": [
      "{'z': 21.42416854358976, 'T_s': 66.04934, 'T_b': 3.0690436, 'T_k': 121.5628, 'x_e': 0.004554564, 'E_phot': Array(22.050716, dtype=float32), 'dE_inj_per_B': Array(0.883939, dtype=float32), 'f_ion': Array(0.04419595, dtype=float32), 'f_exc': Array(0.03297412, dtype=float32), 'f_heat': Array(0.03460494, dtype=float32)}\n",
      "\n",
      "Starting step:  70\n",
      "Currently at:  21.42416854358976\n",
      "Advancing to:  21.20214707286115\n",
      "65 22.568026504449122 22.33467970737537\n",
      "21.42416854358976 22.568026504449122 22.33467970737537 82.18344670839758 65.9107996542072\n",
      "Doing box average\n",
      "66 22.33467970737537 22.10364327462908\n",
      "21.42416854358976 22.33467970737537 22.10364327462908 65.9107996542072 49.55653541379027\n",
      "Injecting\n",
      "67 22.10364327462908 21.874894331315918\n",
      "21.42416854358976 22.10364327462908 21.874894331315918 49.55653541379027 33.120251002415905\n",
      "Injecting\n",
      "68 21.874894331315918 21.64841022902566\n",
      "21.42416854358976 21.874894331315918 21.64841022902566 33.120251002415905 16.601541525632772\n",
      "Injecting\n",
      "69 21.64841022902566 21.42416854358976\n",
      "21.42416854358976 21.64841022902566 21.42416854358976 16.601541525632772 0.0\n",
      "Injecting\n"
     ]
    },
    {
     "name": "stderr",
     "output_type": "stream",
     "text": [
      "\r",
      " 38%|███▊      | 71/188 [08:19<12:50,  6.59s/it]"
     ]
    },
    {
     "name": "stdout",
     "output_type": "stream",
     "text": [
      "{'z': 21.20214707286115, 'T_s': 65.63269, 'T_b': 3.1940422, 'T_k': 120.50167, 'x_e': 0.004547748, 'E_phot': Array(22.734526, dtype=float32), 'dE_inj_per_B': Array(0.911849, dtype=float32), 'f_ion': Array(0.04448523, dtype=float32), 'f_exc': Array(0.03316754, dtype=float32), 'f_heat': Array(0.03482406, dtype=float32)}\n",
      "\n",
      "Starting step:  71\n",
      "Currently at:  21.20214707286115\n",
      "Advancing to:  20.982323834515988\n",
      "66 22.33467970737537 22.10364327462908\n",
      "21.20214707286115 22.33467970737537 22.10364327462908 82.59558223761542 66.24131789126712\n",
      "Doing box average\n",
      "67 22.10364327462908 21.874894331315918\n",
      "21.20214707286115 22.10364327462908 21.874894331315918 66.24131789126712 49.80503349758136\n",
      "Injecting\n",
      "68 21.874894331315918 21.64841022902566\n",
      "21.20214707286115 21.874894331315918 21.64841022902566 49.80503349758136 33.286323951696126\n",
      "Injecting\n",
      "69 21.64841022902566 21.42416854358976\n",
      "21.20214707286115 21.64841022902566 21.42416854358976 33.286323951696126 16.68478244559511\n",
      "Injecting\n",
      "70 21.42416854358976 21.20214707286115\n",
      "21.20214707286115 21.42416854358976 21.20214707286115 16.68478244559511 0.0\n",
      "Injecting\n"
     ]
    },
    {
     "name": "stderr",
     "output_type": "stream",
     "text": [
      "\r",
      " 38%|███▊      | 72/188 [08:26<12:32,  6.49s/it]"
     ]
    },
    {
     "name": "stdout",
     "output_type": "stream",
     "text": [
      "{'z': 20.982323834515988, 'T_s': 65.26625, 'T_b': 3.3443723, 'T_k': 119.45486, 'x_e': 0.004541417, 'E_phot': Array(23.439623, dtype=float32), 'dE_inj_per_B': Array(0.9401846, dtype=float32), 'f_ion': Array(0.04477951, dtype=float32), 'f_exc': Array(0.03336421, dtype=float32), 'f_heat': Array(0.03504841, dtype=float32)}\n",
      "\n",
      "Starting step:  72\n",
      "Currently at:  20.982323834515988\n",
      "Advancing to:  20.764677063877215\n",
      "67 22.10364327462908 21.874894331315918\n",
      "20.982323834515988 22.10364327462908 21.874894331315918 83.00975220377082 66.57346784492618\n",
      "Doing box average\n",
      "68 21.874894331315918 21.64841022902566\n",
      "20.982323834515988 21.874894331315918 21.64841022902566 66.57346784492618 50.05475828031329\n",
      "Doing box average\n",
      "69 21.64841022902566 21.42416854358976\n",
      "20.982323834515988 21.64841022902566 21.42416854358976 50.05475828031329 33.453216778987176\n",
      "Injecting\n",
      "70 21.42416854358976 21.20214707286115\n",
      "20.982323834515988 21.42416854358976 21.20214707286115 33.453216778987176 16.76843431561251\n",
      "Injecting\n",
      "71 21.20214707286115 20.982323834515988\n",
      "20.982323834515988 21.20214707286115 20.982323834515988 16.76843431561251 0.0\n",
      "Injecting\n"
     ]
    },
    {
     "name": "stderr",
     "output_type": "stream",
     "text": [
      "\r",
      " 39%|███▉      | 73/188 [08:31<12:00,  6.26s/it]"
     ]
    },
    {
     "name": "stdout",
     "output_type": "stream",
     "text": [
      "{'z': 20.764677063877215, 'T_s': 64.957115, 'T_b': 3.5237799, 'T_k': 118.42233, 'x_e': 0.0045360904, 'E_phot': Array(24.16646, dtype=float32), 'dE_inj_per_B': Array(0.9689385, dtype=float32), 'f_ion': Array(0.04507915, dtype=float32), 'f_exc': Array(0.03356449, dtype=float32), 'f_heat': Array(0.03527799, dtype=float32)}\n",
      "\n",
      "Starting step:  73\n",
      "Currently at:  20.764677063877215\n",
      "Advancing to:  20.549185211759617\n",
      "69 21.64841022902566 21.42416854358976\n",
      "20.764677063877215 21.64841022902566 21.42416854358976 66.90725735000598 50.30571591085869\n",
      "Doing box average\n",
      "70 21.42416854358976 21.20214707286115\n",
      "20.764677063877215 21.42416854358976 21.20214707286115 50.30571591085869 33.620933402173705\n",
      "Injecting\n",
      "71 21.20214707286115 20.982323834515988\n",
      "20.764677063877215 21.20214707286115 20.982323834515988 33.620933402173705 16.8524990832383\n",
      "Injecting\n",
      "72 20.982323834515988 20.764677063877215\n",
      "20.764677063877215 20.982323834515988 20.764677063877215 16.8524990832383 0.0\n",
      "Injecting\n"
     ]
    },
    {
     "name": "stderr",
     "output_type": "stream",
     "text": [
      "\r",
      " 39%|███▉      | 74/188 [08:37<11:45,  6.19s/it]"
     ]
    },
    {
     "name": "stdout",
     "output_type": "stream",
     "text": [
      "{'z': 20.549185211759617, 'T_s': 64.709915, 'T_b': 3.7342865, 'T_k': 117.40389, 'x_e': 0.0045323013, 'E_phot': Array(24.91474, dtype=float32), 'dE_inj_per_B': Array(0.99810433, dtype=float32), 'f_ion': Array(0.0453762, dtype=float32), 'f_exc': Array(0.03376248, dtype=float32), 'f_heat': Array(0.03550734, dtype=float32)}\n",
      "\n",
      "Starting step:  74\n",
      "Currently at:  20.549185211759617\n",
      "Advancing to:  20.335826942336254\n",
      "70 21.42416854358976 21.20214707286115\n",
      "20.549185211759617 21.42416854358976 21.20214707286115 67.24269471391818 50.55791218202029\n",
      "Doing box average\n",
      "71 21.20214707286115 20.982323834515988\n",
      "20.549185211759617 21.20214707286115 20.982323834515988 50.55791218202029 33.789477846752206\n",
      "Injecting\n",
      "72 20.982323834515988 20.764677063877215\n",
      "20.549185211759617 20.982323834515988 20.764677063877215 33.789477846752206 16.936978785712224\n",
      "Injecting\n",
      "73 20.764677063877215 20.549185211759617\n",
      "20.549185211759617 20.764677063877215 20.549185211759617 16.936978785712224 0.0\n",
      "Injecting\n"
     ]
    },
    {
     "name": "stderr",
     "output_type": "stream",
     "text": [
      "\r",
      " 40%|███▉      | 75/188 [08:43<11:14,  5.97s/it]"
     ]
    },
    {
     "name": "stdout",
     "output_type": "stream",
     "text": [
      "{'z': 20.335826942336254, 'T_s': 64.52925, 'T_b': 3.977646, 'T_k': 116.399826, 'x_e': 0.004531462, 'E_phot': Array(25.684893, dtype=float32), 'dE_inj_per_B': Array(1.027676, dtype=float32), 'f_ion': Array(0.04568095, dtype=float32), 'f_exc': Array(0.03396545, dtype=float32), 'f_heat': Array(0.03574622, dtype=float32)}\n",
      "\n",
      "Starting step:  75\n",
      "Currently at:  20.335826942336254\n",
      "Advancing to:  20.124581131025995\n",
      "71 21.20214707286115 20.982323834515988\n",
      "20.335826942336254 21.20214707286115 20.982323834515988 67.57978755726741 50.81135316143477\n",
      "Doing box average\n",
      "72 20.982323834515988 20.764677063877215\n",
      "20.335826942336254 20.982323834515988 20.764677063877215 50.81135316143477 33.958854170097304\n",
      "Injecting\n",
      "73 20.764677063877215 20.549185211759617\n",
      "20.335826942336254 20.764677063877215 20.549185211759617 33.958854170097304 17.021875368464737\n",
      "Injecting\n",
      "74 20.549185211759617 20.335826942336254\n",
      "20.335826942336254 20.549185211759617 20.335826942336254 17.021875368464737 0.0\n",
      "Injecting\n"
     ]
    },
    {
     "name": "stderr",
     "output_type": "stream",
     "text": [
      "\r",
      " 40%|████      | 76/188 [08:48<10:53,  5.83s/it]"
     ]
    },
    {
     "name": "stdout",
     "output_type": "stream",
     "text": [
      "{'z': 20.124581131025995, 'T_s': 64.419655, 'T_b': 4.2552366, 'T_k': 115.41032, 'x_e': 0.004535348, 'E_phot': Array(26.477098, dtype=float32), 'dE_inj_per_B': Array(1.0576453, dtype=float32), 'f_ion': Array(0.04599137, dtype=float32), 'f_exc': Array(0.0341718, dtype=float32), 'f_heat': Array(0.03599586, dtype=float32)}\n",
      "\n",
      "Starting step:  76\n",
      "Currently at:  20.124581131025995\n",
      "Advancing to:  19.915426862401976\n",
      "72 20.982323834515988 20.764677063877215\n",
      "20.124581131025995 20.982323834515988 20.764677063877215 67.9185441945378 51.06604513324392\n",
      "Doing box average\n",
      "73 20.764677063877215 20.549185211759617\n",
      "20.124581131025995 20.764677063877215 20.549185211759617 51.06604513324392 34.12906631777614\n",
      "Injecting\n",
      "74 20.549185211759617 20.335826942336254\n",
      "20.124581131025995 20.549185211759617 20.335826942336254 34.12906631777614 17.107190986517267\n",
      "Injecting\n",
      "75 20.335826942336254 20.124581131025995\n",
      "20.124581131025995 20.335826942336254 20.124581131025995 17.107190986517267 0.0\n",
      "Injecting\n"
     ]
    },
    {
     "name": "stderr",
     "output_type": "stream",
     "text": [
      "\r",
      " 41%|████      | 77/188 [08:54<10:55,  5.90s/it]"
     ]
    },
    {
     "name": "stdout",
     "output_type": "stream",
     "text": [
      "{'z': 19.915426862401976, 'T_s': 64.38441, 'T_b': 4.5674286, 'T_k': 114.43572, 'x_e': 0.0045470675, 'E_phot': Array(27.291525, dtype=float32), 'dE_inj_per_B': Array(1.088005, dtype=float32), 'f_ion': Array(0.04630642, dtype=float32), 'f_exc': Array(0.03438059, dtype=float32), 'f_heat': Array(0.03625779, dtype=float32)}\n",
      "\n",
      "Starting step:  77\n",
      "Currently at:  19.915426862401976\n",
      "Advancing to:  19.708343428120767\n",
      "73 20.764677063877215 20.549185211759617\n",
      "19.915426862401976 20.764677063877215 20.549185211759617 68.25897263485228 51.32199394507163\n",
      "Doing box average\n",
      "74 20.549185211759617 20.335826942336254\n",
      "19.915426862401976 20.549185211759617 20.335826942336254 51.32199394507163 34.30011850035223\n",
      "Injecting\n",
      "75 20.335826942336254 20.124581131025995\n",
      "19.915426862401976 20.335826942336254 20.124581131025995 34.30011850035223 17.192927557926645\n",
      "Injecting\n",
      "76 20.124581131025995 19.915426862401976\n",
      "19.915426862401976 20.124581131025995 19.915426862401976 17.192927557926645 0.0\n",
      "Injecting\n"
     ]
    },
    {
     "name": "stderr",
     "output_type": "stream",
     "text": [
      "\r",
      " 41%|████▏     | 78/188 [09:01<10:58,  5.99s/it]"
     ]
    },
    {
     "name": "stdout",
     "output_type": "stream",
     "text": [
      "{'z': 19.708343428120767, 'T_s': 64.4273, 'T_b': 4.9144597, 'T_k': 113.47641, 'x_e': 0.0045709424, 'E_phot': Array(28.12833, dtype=float32), 'dE_inj_per_B': Array(1.1187483, dtype=float32), 'f_ion': Array(0.04662527, dtype=float32), 'f_exc': Array(0.03459122, dtype=float32), 'f_heat': Array(0.03653375, dtype=float32)}\n",
      "\n",
      "Starting step:  78\n",
      "Currently at:  19.708343428120767\n",
      "Advancing to:  19.503310324872047\n",
      "74 20.549185211759617 20.335826942336254\n",
      "19.708343428120767 20.549185211759617 20.335826942336254 68.60108111604241 51.579205703585004\n",
      "Doing box average\n",
      "75 20.335826942336254 20.124581131025995\n",
      "19.708343428120767 20.335826942336254 20.124581131025995 51.579205703585004 34.47201478916812\n",
      "Injecting\n",
      "76 20.124581131025995 19.915426862401976\n",
      "19.708343428120767 20.124581131025995 19.915426862401976 34.47201478916812 17.27908714419426\n",
      "Injecting\n",
      "77 19.915426862401976 19.708343428120767\n",
      "19.708343428120767 19.915426862401976 19.708343428120767 17.27908714419426 0.0\n",
      "Injecting\n"
     ]
    },
    {
     "name": "stderr",
     "output_type": "stream",
     "text": [
      "\r",
      " 42%|████▏     | 79/188 [09:06<10:35,  5.83s/it]"
     ]
    },
    {
     "name": "stdout",
     "output_type": "stream",
     "text": [
      "{'z': 19.503310324872047, 'T_s': 64.55191, 'T_b': 5.2966146, 'T_k': 112.53295, 'x_e': 0.0045964397, 'E_phot': Array(28.987669, dtype=float32), 'dE_inj_per_B': Array(1.1498677, dtype=float32), 'f_ion': Array(0.0469457, dtype=float32), 'f_exc': Array(0.03480139, dtype=float32), 'f_heat': Array(0.03682964, dtype=float32)}\n",
      "\n",
      "Starting step:  79\n",
      "Currently at:  19.503310324872047\n",
      "Advancing to:  19.30030725234856\n",
      "75 20.335826942336254 20.124581131025995\n",
      "19.503310324872047 20.335826942336254 20.124581131025995 68.94487759939449 51.837686575985344\n",
      "Doing box average\n",
      "76 20.124581131025995 19.915426862401976\n",
      "19.503310324872047 20.124581131025995 19.915426862401976 51.837686575985344 34.644759047901644\n",
      "Injecting\n",
      "77 19.915426862401976 19.708343428120767\n",
      "19.503310324872047 19.915426862401976 19.708343428120767 34.644759047901644 17.365671884682108\n",
      "Injecting\n",
      "78 19.708343428120767 19.503310324872047\n",
      "19.503310324872047 19.708343428120767 19.503310324872047 17.365671884682108 0.0\n",
      "Injecting\n"
     ]
    },
    {
     "name": "stderr",
     "output_type": "stream",
     "text": [
      "\r",
      " 43%|████▎     | 80/188 [09:13<11:17,  6.28s/it]"
     ]
    },
    {
     "name": "stdout",
     "output_type": "stream",
     "text": [
      "{'z': 19.30030725234856, 'T_s': 64.75856, 'T_b': 5.711941, 'T_k': 111.60549, 'x_e': 0.0046156016, 'E_phot': Array(29.869677, dtype=float32), 'dE_inj_per_B': Array(1.1813557, dtype=float32), 'f_ion': Array(0.04727328, dtype=float32), 'f_exc': Array(0.03501661, dtype=float32), 'f_heat': Array(0.03712961, dtype=float32)}\n",
      "\n",
      "Starting step:  80\n",
      "Currently at:  19.30030725234856\n",
      "Advancing to:  19.099314111236197\n",
      "76 20.124581131025995 19.915426862401976\n",
      "19.30030725234856 20.124581131025995 19.915426862401976 69.290370355147 52.09744271832669\n",
      "Doing box average\n",
      "77 19.915426862401976 19.708343428120767\n",
      "19.30030725234856 19.915426862401976 19.708343428120767 52.09744271832669 34.81835560902601\n",
      "Injecting\n",
      "78 19.708343428120767 19.503310324872047\n",
      "19.30030725234856 19.708343428120767 19.503310324872047 34.81835560902601 17.452683709572867\n",
      "Injecting\n",
      "79 19.503310324872047 19.30030725234856\n",
      "19.30030725234856 19.503310324872047 19.30030725234856 17.452683709572867 0.0\n",
      "Injecting\n"
     ]
    },
    {
     "name": "stderr",
     "output_type": "stream",
     "text": [
      "\r",
      " 43%|████▎     | 81/188 [09:20<11:17,  6.33s/it]"
     ]
    },
    {
     "name": "stdout",
     "output_type": "stream",
     "text": [
      "{'z': 19.099314111236197, 'T_s': 65.0471, 'T_b': 6.1576667, 'T_k': 110.694244, 'x_e': 0.0046361396, 'E_phot': Array(30.774487, dtype=float32), 'dE_inj_per_B': Array(1.2132035, dtype=float32), 'f_ion': Array(0.04760992, dtype=float32), 'f_exc': Array(0.03523848, dtype=float32), 'f_heat': Array(0.03742863, dtype=float32)}\n",
      "\n",
      "Starting step:  81\n",
      "Currently at:  19.099314111236197\n",
      "Advancing to:  18.900311001223958\n",
      "77 19.915426862401976 19.708343428120767\n",
      "19.099314111236197 19.915426862401976 19.708343428120767 69.63756754893916 52.3584802987411\n",
      "Doing box average\n",
      "78 19.708343428120767 19.503310324872047\n",
      "19.099314111236197 19.708343428120767 19.503310324872047 52.3584802987411 34.992808446738394\n",
      "Injecting\n",
      "79 19.503310324872047 19.30030725234856\n",
      "19.099314111236197 19.503310324872047 19.30030725234856 34.992808446738394 17.54012475283977\n",
      "Injecting\n",
      "80 19.30030725234856 19.099314111236197\n",
      "19.099314111236197 19.30030725234856 19.099314111236197 17.54012475283977 0.0\n",
      "Injecting\n"
     ]
    },
    {
     "name": "stderr",
     "output_type": "stream",
     "text": [
      "\r",
      " 44%|████▎     | 82/188 [09:26<11:17,  6.39s/it]"
     ]
    },
    {
     "name": "stdout",
     "output_type": "stream",
     "text": [
      "{'z': 18.900311001223958, 'T_s': 65.41204, 'T_b': 6.6283073, 'T_k': 109.79944, 'x_e': 0.0046645766, 'E_phot': Array(31.702225, dtype=float32), 'dE_inj_per_B': Array(1.245403, dtype=float32), 'f_ion': Array(0.04795375, dtype=float32), 'f_exc': Array(0.03546524, dtype=float32), 'f_heat': Array(0.03773347, dtype=float32)}\n",
      "\n",
      "Starting step:  82\n",
      "Currently at:  18.900311001223958\n",
      "Advancing to:  18.70327821903362\n",
      "78 19.708343428120767 19.503310324872047\n",
      "18.900311001223958 19.708343428120767 19.503310324872047 69.98647739630304 52.62080555621687\n",
      "Doing box average\n",
      "79 19.503310324872047 19.30030725234856\n",
      "18.900311001223958 19.503310324872047 19.30030725234856 52.62080555621687 35.16812180249987\n",
      "Injecting\n",
      "80 19.30030725234856 19.099314111236197\n",
      "18.900311001223958 19.30030725234856 19.099314111236197 35.16812180249987 17.627997055410894\n",
      "Injecting\n",
      "81 19.099314111236197 18.900311001223958\n",
      "18.900311001223958 19.099314111236197 18.900311001223958 17.627997055410894 0.0\n",
      "Injecting\n"
     ]
    },
    {
     "name": "stderr",
     "output_type": "stream",
     "text": [
      "\r",
      " 44%|████▍     | 83/188 [09:33<11:08,  6.37s/it]"
     ]
    },
    {
     "name": "stdout",
     "output_type": "stream",
     "text": [
      "{'z': 18.70327821903362, 'T_s': 65.9224, 'T_b': 7.153747, 'T_k': 108.92198, 'x_e': 0.004699735, 'E_phot': Array(32.653008, dtype=float32), 'dE_inj_per_B': Array(1.2779491, dtype=float32), 'f_ion': Array(0.04830096, dtype=float32), 'f_exc': Array(0.03569311, dtype=float32), 'f_heat': Array(0.03805413, dtype=float32)}\n",
      "\n",
      "Starting step:  83\n",
      "Currently at:  18.70327821903362\n",
      "Advancing to:  18.50819625646893\n",
      "79 19.503310324872047 19.30030725234856\n",
      "18.70327821903362 19.503310324872047 19.30030725234856 70.33710816982737 52.88442454482348\n",
      "Doing box average\n",
      "80 19.30030725234856 19.099314111236197\n",
      "18.70327821903362 19.30030725234856 19.099314111236197 52.88442454482348 35.34429980602475\n",
      "Injecting\n",
      "81 19.099314111236197 18.900311001223958\n",
      "18.70327821903362 19.099314111236197 18.900311001223958 35.34429980602475 17.716302708164307\n",
      "Injecting\n",
      "82 18.900311001223958 18.70327821903362\n",
      "18.70327821903362 18.900311001223958 18.70327821903362 17.716302708164307 0.0\n",
      "Injecting\n"
     ]
    },
    {
     "name": "stderr",
     "output_type": "stream",
     "text": [
      "\r",
      " 45%|████▍     | 84/188 [09:38<10:35,  6.11s/it]"
     ]
    },
    {
     "name": "stdout",
     "output_type": "stream",
     "text": [
      "{'z': 18.50819625646893, 'T_s': 66.45488, 'T_b': 7.672079, 'T_k': 108.062325, 'x_e': 0.004744388, 'E_phot': Array(33.626938, dtype=float32), 'dE_inj_per_B': Array(1.3108313, dtype=float32), 'f_ion': Array(0.04865302, dtype=float32), 'f_exc': Array(0.03592376, dtype=float32), 'f_heat': Array(0.03838653, dtype=float32)}\n",
      "\n",
      "Starting step:  84\n",
      "Currently at:  18.50819625646893\n",
      "Advancing to:  18.31504579848409\n",
      "80 19.30030725234856 19.099314111236197\n",
      "18.50819625646893 19.30030725234856 19.099314111236197 70.68946829627511 53.14934361721583\n",
      "Doing box average\n",
      "81 19.099314111236197 18.900311001223958\n",
      "18.50819625646893 19.099314111236197 18.900311001223958 53.14934361721583 35.521346578216644\n",
      "Injecting\n",
      "82 18.900311001223958 18.70327821903362\n",
      "18.50819625646893 18.900311001223958 18.70327821903362 35.521346578216644 17.805043797783437\n",
      "Injecting\n",
      "83 18.70327821903362 18.50819625646893\n",
      "18.50819625646893 18.70327821903362 18.50819625646893 17.805043797783437 0.0\n",
      "Injecting\n"
     ]
    },
    {
     "name": "stderr",
     "output_type": "stream",
     "text": [
      "\r",
      " 45%|████▌     | 85/188 [09:44<10:25,  6.07s/it]"
     ]
    },
    {
     "name": "stdout",
     "output_type": "stream",
     "text": [
      "{'z': 18.31504579848409, 'T_s': 67.062874, 'T_b': 8.206618, 'T_k': 107.22119, 'x_e': 0.0047953143, 'E_phot': Array(34.62411, dtype=float32), 'dE_inj_per_B': Array(1.3440421, dtype=float32), 'f_ion': Array(0.04900957, dtype=float32), 'f_exc': Array(0.03615669, dtype=float32), 'f_heat': Array(0.03873247, dtype=float32)}\n",
      "\n",
      "Starting step:  85\n",
      "Currently at:  18.31504579848409\n",
      "Advancing to:  18.123807721271376\n",
      "81 19.099314111236197 18.900311001223958\n",
      "18.31504579848409 19.099314111236197 18.900311001223958 71.04356604009558 53.41556901994219\n",
      "Doing box average\n",
      "82 18.900311001223958 18.70327821903362\n",
      "18.31504579848409 18.900311001223958 18.70327821903362 53.41556901994219 35.69926622770464\n",
      "Injecting\n",
      "83 18.70327821903362 18.50819625646893\n",
      "18.31504579848409 18.70327821903362 18.50819625646893 35.69926622770464 17.894222413991212\n",
      "Injecting\n",
      "84 18.50819625646893 18.31504579848409\n",
      "18.31504579848409 18.50819625646893 18.31504579848409 17.894222413991212 0.0\n",
      "Injecting\n"
     ]
    },
    {
     "name": "stderr",
     "output_type": "stream",
     "text": [
      "\r",
      " 46%|████▌     | 86/188 [09:50<10:03,  5.91s/it]"
     ]
    },
    {
     "name": "stdout",
     "output_type": "stream",
     "text": [
      "{'z': 18.123807721271376, 'T_s': 67.72865, 'T_b': 8.746847, 'T_k': 106.399414, 'x_e': 0.0048554167, 'E_phot': Array(35.644615, dtype=float32), 'dE_inj_per_B': Array(1.3775752, dtype=float32), 'f_ion': Array(0.04936975, dtype=float32), 'f_exc': Array(0.03639092, dtype=float32), 'f_heat': Array(0.03909327, dtype=float32)}\n",
      "\n",
      "Starting step:  86\n",
      "Currently at:  18.123807721271376\n",
      "Advancing to:  17.9344630903677\n",
      "82 18.900311001223958 18.70327821903362\n",
      "18.123807721271376 18.900311001223958 18.70327821903362 71.39940962256341 53.6831068633619\n",
      "Doing box average\n",
      "83 18.70327821903362 18.50819625646893\n",
      "18.123807721271376 18.70327821903362 18.50819625646893 53.6831068633619 35.87806306014644\n",
      "Injecting\n",
      "84 18.50819625646893 18.31504579848409\n",
      "18.123807721271376 18.50819625646893 18.31504579848409 35.87806306014644 17.983840637756533\n",
      "Injecting\n",
      "85 18.31504579848409 18.123807721271376\n",
      "18.123807721271376 18.31504579848409 18.123807721271376 17.983840637756533 0.0\n",
      "Injecting\n"
     ]
    },
    {
     "name": "stderr",
     "output_type": "stream",
     "text": [
      "\r",
      " 46%|████▋     | 87/188 [09:56<10:02,  5.96s/it]"
     ]
    },
    {
     "name": "stdout",
     "output_type": "stream",
     "text": [
      "{'z': 17.9344630903677, 'T_s': 68.45118, 'T_b': 9.290497, 'T_k': 105.59781, 'x_e': 0.0049266526, 'E_phot': Array(36.688526, dtype=float32), 'dE_inj_per_B': Array(1.4114203, dtype=float32), 'f_ion': Array(0.04973543, dtype=float32), 'f_exc': Array(0.03662863, dtype=float32), 'f_heat': Array(0.03946524, dtype=float32)}\n",
      "\n",
      "Starting step:  87\n",
      "Currently at:  17.9344630903677\n",
      "Advancing to:  17.7469931587799\n",
      "83 18.70327821903362 18.50819625646893\n",
      "17.9344630903677 18.70327821903362 18.50819625646893 71.75700747642308 53.951963755283685\n",
      "Doing box average\n",
      "84 18.50819625646893 18.31504579848409\n",
      "17.9344630903677 18.50819625646893 18.31504579848409 53.951963755283685 36.057741191325746\n",
      "Injecting\n",
      "85 18.31504579848409 18.123807721271376\n",
      "17.9344630903677 18.31504579848409 18.123807721271376 36.057741191325746 18.07390061703383\n",
      "Injecting\n",
      "86 18.123807721271376 17.9344630903677\n",
      "17.9344630903677 18.123807721271376 17.9344630903677 18.07390061703383 0.0\n",
      "Injecting\n"
     ]
    },
    {
     "name": "stderr",
     "output_type": "stream",
     "text": [
      "\r",
      " 47%|████▋     | 88/188 [10:03<10:27,  6.28s/it]"
     ]
    },
    {
     "name": "stdout",
     "output_type": "stream",
     "text": [
      "{'z': 17.7469931587799, 'T_s': 69.26247, 'T_b': 9.848505, 'T_k': 104.817474, 'x_e': 0.005005815, 'E_phot': Array(37.75592, dtype=float32), 'dE_inj_per_B': Array(1.4455687, dtype=float32), 'f_ion': Array(0.0501037, dtype=float32), 'f_exc': Array(0.03686671, dtype=float32), 'f_heat': Array(0.03985605, dtype=float32)}\n",
      "\n",
      "Starting step:  88\n",
      "Currently at:  17.7469931587799\n",
      "Advancing to:  17.561379365128616\n",
      "84 18.50819625646893 18.31504579848409\n",
      "17.7469931587799 18.50819625646893 18.31504579848409 72.11636804498276 54.22214571385208\n",
      "Doing box average\n",
      "85 18.31504579848409 18.123807721271376\n",
      "17.7469931587799 18.31504579848409 18.123807721271376 54.22214571385208 36.238305036824094\n",
      "Injecting\n",
      "86 18.123807721271376 17.9344630903677\n",
      "17.7469931587799 18.123807721271376 17.9344630903677 36.238305036824094 18.164404404540168\n",
      "Injecting\n",
      "87 17.9344630903677 17.7469931587799\n",
      "17.7469931587799 17.9344630903677 17.7469931587799 18.164404404540168 0.0\n",
      "Injecting\n"
     ]
    },
    {
     "name": "stderr",
     "output_type": "stream",
     "text": [
      "\r",
      " 47%|████▋     | 89/188 [10:09<10:17,  6.24s/it]"
     ]
    },
    {
     "name": "stdout",
     "output_type": "stream",
     "text": [
      "{'z': 17.561379365128616, 'T_s': 70.074036, 'T_b': 10.383733, 'T_k': 104.05918, 'x_e': 0.005102521, 'E_phot': Array(38.84685, dtype=float32), 'dE_inj_per_B': Array(1.4800164, dtype=float32), 'f_ion': Array(0.05047658, dtype=float32), 'f_exc': Array(0.03710731, dtype=float32), 'f_heat': Array(0.04025957, dtype=float32)}\n",
      "\n",
      "Starting step:  89\n",
      "Currently at:  17.561379365128616\n",
      "Advancing to:  17.377603331810512\n",
      "85 18.31504579848409 18.123807721271376\n",
      "17.561379365128616 18.31504579848409 18.123807721271376 72.47749985320786 54.49365922479098\n",
      "Doing box average\n",
      "86 18.123807721271376 17.9344630903677\n",
      "17.561379365128616 18.123807721271376 17.9344630903677 54.49365922479098 36.41975857054566\n",
      "Injecting\n",
      "87 17.9344630903677 17.7469931587799\n",
      "17.561379365128616 17.9344630903677 17.7469931587799 36.41975857054566 18.255354174904763\n",
      "Injecting\n",
      "88 17.7469931587799 17.561379365128616\n",
      "17.561379365128616 17.7469931587799 17.561379365128616 18.255354174904763 0.0\n",
      "Injecting\n"
     ]
    },
    {
     "name": "stderr",
     "output_type": "stream",
     "text": [
      "\r",
      " 48%|████▊     | 90/188 [10:15<10:07,  6.20s/it]"
     ]
    },
    {
     "name": "stdout",
     "output_type": "stream",
     "text": [
      "{'z': 17.377603331810512, 'T_s': 70.91406, 'T_b': 10.90766, 'T_k': 103.324745, 'x_e': 0.0052094883, 'E_phot': Array(39.961376, dtype=float32), 'dE_inj_per_B': Array(1.5147508, dtype=float32), 'f_ion': Array(0.05085089, dtype=float32), 'f_exc': Array(0.03734723, dtype=float32), 'f_heat': Array(0.04068632, dtype=float32)}\n",
      "\n",
      "Starting step:  90\n",
      "Currently at:  17.377603331810512\n",
      "Advancing to:  17.195646863178723\n",
      "86 18.123807721271376 17.9344630903677\n",
      "17.377603331810512 18.123807721271376 17.9344630903677 72.84041119857278 54.76651065052219\n",
      "Doing box average\n",
      "87 17.9344630903677 17.7469931587799\n",
      "17.377603331810512 17.9344630903677 17.7469931587799 54.76651065052219 36.60210613283233\n",
      "Injecting\n",
      "88 17.7469931587799 17.561379365128616\n",
      "17.377603331810512 17.7469931587799 17.561379365128616 36.60210613283233 18.346751966577656\n",
      "Injecting\n",
      "89 17.561379365128616 17.377603331810512\n",
      "17.377603331810512 17.561379365128616 17.377603331810512 18.346751966577656 0.0\n",
      "Injecting\n"
     ]
    },
    {
     "name": "stderr",
     "output_type": "stream",
     "text": [
      "\r",
      " 48%|████▊     | 91/188 [10:21<09:44,  6.03s/it]"
     ]
    },
    {
     "name": "stdout",
     "output_type": "stream",
     "text": [
      "{'z': 17.195646863178723, 'T_s': 71.77723, 'T_b': 11.417546, 'T_k': 102.615166, 'x_e': 0.00533781, 'E_phot': Array(41.09954, dtype=float32), 'dE_inj_per_B': Array(1.5497662, dtype=float32), 'f_ion': Array(0.05122845, dtype=float32), 'f_exc': Array(0.0375883, dtype=float32), 'f_heat': Array(0.04112968, dtype=float32)}\n",
      "\n",
      "Starting step:  91\n",
      "Currently at:  17.195646863178723\n",
      "Advancing to:  17.01549194374131\n",
      "87 17.9344630903677 17.7469931587799\n",
      "17.195646863178723 17.9344630903677 17.7469931587799 73.205110791976 55.04070627027189\n",
      "Doing box average\n",
      "88 17.7469931587799 17.561379365128616\n",
      "17.195646863178723 17.7469931587799 17.561379365128616 55.04070627027189 36.78535205841952\n",
      "Injecting\n",
      "89 17.561379365128616 17.377603331810512\n",
      "17.195646863178723 17.561379365128616 17.377603331810512 36.78535205841952 18.438600016334963\n",
      "Injecting\n",
      "90 17.377603331810512 17.195646863178723\n",
      "17.195646863178723 17.377603331810512 17.195646863178723 18.438600016334963 0.0\n",
      "Injecting\n"
     ]
    },
    {
     "name": "stderr",
     "output_type": "stream",
     "text": [
      "\r",
      " 49%|████▉     | 92/188 [10:26<09:23,  5.87s/it]"
     ]
    },
    {
     "name": "stdout",
     "output_type": "stream",
     "text": [
      "{'z': 17.01549194374131, 'T_s': 72.65027, 'T_b': 11.909334, 'T_k': 101.93199, 'x_e': 0.005474167, 'E_phot': Array(42.26138, dtype=float32), 'dE_inj_per_B': Array(1.5850549, dtype=float32), 'f_ion': Array(0.05160757, dtype=float32), 'f_exc': Array(0.03782908, dtype=float32), 'f_heat': Array(0.04159618, dtype=float32)}\n",
      "\n",
      "Starting step:  92\n",
      "Currently at:  17.01549194374131\n",
      "Advancing to:  16.837120736377535\n",
      "88 17.7469931587799 17.561379365128616\n",
      "17.01549194374131 17.7469931587799 17.561379365128616 73.5716067094944 55.31625250052029\n",
      "Doing box average\n",
      "89 17.561379365128616 17.377603331810512\n",
      "17.01549194374131 17.561379365128616 17.377603331810512 55.31625250052029 36.969500535722865\n",
      "Injecting\n",
      "90 17.377603331810512 17.195646863178723\n",
      "17.01549194374131 17.377603331810512 17.195646863178723 36.969500535722865 18.530900459495992\n",
      "Injecting\n",
      "91 17.195646863178723 17.01549194374131\n",
      "17.01549194374131 17.195646863178723 17.01549194374131 18.530900459495992 0.0\n",
      "Injecting\n"
     ]
    },
    {
     "name": "stderr",
     "output_type": "stream",
     "text": [
      "\r",
      " 49%|████▉     | 93/188 [10:33<09:35,  6.05s/it]"
     ]
    },
    {
     "name": "stdout",
     "output_type": "stream",
     "text": [
      "{'z': 16.837120736377535, 'T_s': 73.53429, 'T_b': 12.382628, 'T_k': 101.27675, 'x_e': 0.005650782, 'E_phot': Array(43.446915, dtype=float32), 'dE_inj_per_B': Array(1.6206082, dtype=float32), 'f_ion': Array(0.05198884, dtype=float32), 'f_exc': Array(0.03806992, dtype=float32), 'f_heat': Array(0.04208113, dtype=float32)}\n",
      "\n",
      "Starting step:  93\n",
      "Currently at:  16.837120736377535\n",
      "Advancing to:  16.66051558057182\n",
      "89 17.561379365128616 17.377603331810512\n",
      "16.837120736377535 17.561379365128616 17.377603331810512 73.93990785151802 55.593155950027985\n",
      "Doing box average\n",
      "90 17.377603331810512 17.195646863178723\n",
      "16.837120736377535 17.377603331810512 17.195646863178723 55.593155950027985 37.15455580392556\n",
      "Injecting\n",
      "91 17.195646863178723 17.01549194374131\n",
      "16.837120736377535 17.195646863178723 17.01549194374131 37.15455580392556 18.623655357168307\n",
      "Injecting\n",
      "92 17.01549194374131 16.837120736377535\n",
      "16.837120736377535 17.01549194374131 16.837120736377535 18.623655357168307 0.0\n",
      "Injecting\n"
     ]
    },
    {
     "name": "stderr",
     "output_type": "stream",
     "text": [
      "\r",
      " 50%|█████     | 94/188 [10:40<09:57,  6.35s/it]"
     ]
    },
    {
     "name": "stdout",
     "output_type": "stream",
     "text": [
      "{'z': 16.66051558057182, 'T_s': 74.40352, 'T_b': 12.830984, 'T_k': 100.652626, 'x_e': 0.0058353017, 'E_phot': Array(44.656166, dtype=float32), 'dE_inj_per_B': Array(1.6564165, dtype=float32), 'f_ion': Array(0.05241895, dtype=float32), 'f_exc': Array(0.0383459, dtype=float32), 'f_heat': Array(0.04263781, dtype=float32)}\n",
      "\n",
      "Starting step:  94\n",
      "Currently at:  16.66051558057182\n",
      "Advancing to:  16.485658990665165\n",
      "90 17.377603331810512 17.195646863178723\n",
      "16.66051558057182 17.377603331810512 17.195646863178723 74.31002284187664 55.87142278573518\n",
      "Doing box average\n",
      "91 17.195646863178723 17.01549194374131\n",
      "16.66051558057182 17.195646863178723 17.01549194374131 55.87142278573518 37.340522293250935\n",
      "Injecting\n",
      "92 17.01549194374131 16.837120736377535\n",
      "16.66051558057182 17.01549194374131 16.837120736377535 37.340522293250935 18.716866889317384\n",
      "Injecting\n",
      "93 16.837120736377535 16.66051558057182\n",
      "16.66051558057182 16.837120736377535 16.66051558057182 18.716866889317384 0.0\n",
      "Injecting\n"
     ]
    },
    {
     "name": "stderr",
     "output_type": "stream",
     "text": [
      "\r",
      " 51%|█████     | 95/188 [10:46<09:41,  6.25s/it]"
     ]
    },
    {
     "name": "stdout",
     "output_type": "stream",
     "text": [
      "{'z': 16.485658990665165, 'T_s': 75.26277, 'T_b': 13.25684, 'T_k': 100.06179, 'x_e': 0.006039077, 'E_phot': Array(45.889153, dtype=float32), 'dE_inj_per_B': Array(1.692476, dtype=float32), 'f_ion': Array(0.05287514, dtype=float32), 'f_exc': Array(0.03864036, dtype=float32), 'f_heat': Array(0.0432294, dtype=float32)}\n",
      "\n",
      "Starting step:  95\n",
      "Currently at:  16.485658990665165\n",
      "Advancing to:  16.312533654123925\n",
      "91 17.195646863178723 17.01549194374131\n",
      "16.485658990665165 17.195646863178723 17.01549194374131 74.68196002205931 56.15105958109537\n",
      "Doing box average\n",
      "92 17.01549194374131 16.837120736377535\n",
      "16.485658990665165 17.01549194374131 16.837120736377535 56.15105958109537 37.527404177320626\n",
      "Injecting\n",
      "93 16.837120736377535 16.66051558057182\n",
      "16.485658990665165 16.837120736377535 16.66051558057182 37.527404177320626 18.810537283879714\n",
      "Injecting\n",
      "94 16.66051558057182 16.485658990665165\n",
      "16.485658990665165 16.66051558057182 16.485658990665165 18.810537283879714 0.0\n",
      "Injecting\n"
     ]
    },
    {
     "name": "stderr",
     "output_type": "stream",
     "text": [
      "\r",
      " 51%|█████     | 96/188 [10:52<09:30,  6.20s/it]"
     ]
    },
    {
     "name": "stdout",
     "output_type": "stream",
     "text": [
      "{'z': 16.312533654123925, 'T_s': 76.10393, 'T_b': 13.658351, 'T_k': 99.50629, 'x_e': 0.0062737325, 'E_phot': Array(47.145874, dtype=float32), 'dE_inj_per_B': Array(1.7287747, dtype=float32), 'f_ion': Array(0.05333286, dtype=float32), 'f_exc': Array(0.03893381, dtype=float32), 'f_heat': Array(0.04385092, dtype=float32)}\n",
      "\n",
      "Starting step:  96\n",
      "Currently at:  16.312533654123925\n",
      "Advancing to:  16.141122429825668\n",
      "92 17.01549194374131 16.837120736377535\n",
      "16.312533654123925 17.01549194374131 16.837120736377535 75.05572825471035 56.43207282099456\n",
      "Doing box average\n",
      "93 16.837120736377535 16.66051558057182\n",
      "16.312533654123925 16.837120736377535 16.66051558057182 56.43207282099456 37.71520594185863\n",
      "Injecting\n",
      "94 16.66051558057182 16.485658990665165\n",
      "16.312533654123925 16.66051558057182 16.485658990665165 37.71520594185863 18.904668619974068\n",
      "Injecting\n",
      "95 16.485658990665165 16.312533654123925\n",
      "16.312533654123925 16.485658990665165 16.312533654123925 18.904668619974068 0.0\n",
      "Injecting\n"
     ]
    },
    {
     "name": "stderr",
     "output_type": "stream",
     "text": [
      "\r",
      " 52%|█████▏    | 97/188 [11:00<10:24,  6.86s/it]"
     ]
    },
    {
     "name": "stdout",
     "output_type": "stream",
     "text": [
      "{'z': 16.141122429825668, 'T_s': 76.92484, 'T_b': 14.036693, 'T_k': 98.988205, 'x_e': 0.006527473, 'E_phot': Array(48.426323, dtype=float32), 'dE_inj_per_B': Array(1.765307, dtype=float32), 'f_ion': Array(0.05378826, dtype=float32), 'f_exc': Array(0.03922344, dtype=float32), 'f_heat': Array(0.04450613, dtype=float32)}\n",
      "\n",
      "Starting step:  97\n",
      "Currently at:  16.141122429825668\n",
      "Advancing to:  15.971408346362047\n",
      "93 16.837120736377535 16.66051558057182\n",
      "16.141122429825668 16.837120736377535 16.66051558057182 75.43133596733766 56.7144689931719\n",
      "Doing box average\n",
      "94 16.66051558057182 16.485658990665165\n",
      "16.141122429825668 16.66051558057182 16.485658990665165 56.7144689931719 37.903931750358936\n",
      "Injecting\n",
      "95 16.485658990665165 16.312533654123925\n",
      "16.141122429825668 16.485658990665165 16.312533654123925 37.903931750358936 18.999263133951835\n",
      "Injecting\n",
      "96 16.312533654123925 16.141122429825668\n",
      "16.141122429825668 16.312533654123925 16.141122429825668 18.999263133951835 0.0\n",
      "Injecting\n"
     ]
    },
    {
     "name": "stderr",
     "output_type": "stream",
     "text": [
      "\r",
      " 52%|█████▏    | 98/188 [11:07<10:04,  6.71s/it]"
     ]
    },
    {
     "name": "stdout",
     "output_type": "stream",
     "text": [
      "{'z': 15.971408346362047, 'T_s': 77.72044, 'T_b': 14.390707, 'T_k': 98.51086, 'x_e': 0.00682464, 'E_phot': Array(49.73049, dtype=float32), 'dE_inj_per_B': Array(1.8020644, dtype=float32), 'f_ion': Array(0.05424376, dtype=float32), 'f_exc': Array(0.03951177, dtype=float32), 'f_heat': Array(0.04518645, dtype=float32)}\n",
      "\n",
      "Starting step:  98\n",
      "Currently at:  15.971408346362047\n",
      "Advancing to:  15.803374600358463\n",
      "94 16.66051558057182 16.485658990665165\n",
      "15.971408346362047 16.66051558057182 16.485658990665165 75.80879197691843 56.99825463510322\n",
      "Doing box average\n",
      "95 16.485658990665165 16.312533654123925\n",
      "15.971408346362047 16.485658990665165 16.312533654123925 56.99825463510322 38.093586003728156\n",
      "Injecting\n",
      "96 16.312533654123925 16.141122429825668\n",
      "15.971408346362047 16.312533654123925 16.141122429825668 38.093586003728156 19.094322871710972\n",
      "Injecting\n",
      "97 16.141122429825668 15.971408346362047\n",
      "15.971408346362047 16.141122429825668 15.971408346362047 19.094322871710972 0.0\n",
      "Injecting\n"
     ]
    },
    {
     "name": "stderr",
     "output_type": "stream",
     "text": [
      "\r",
      " 53%|█████▎    | 99/188 [11:12<09:25,  6.35s/it]"
     ]
    },
    {
     "name": "stdout",
     "output_type": "stream",
     "text": [
      "{'z': 15.803374600358463, 'T_s': 78.50449, 'T_b': 14.725705, 'T_k': 98.07547, 'x_e': 0.0071561816, 'E_phot': Array(51.058357, dtype=float32), 'dE_inj_per_B': Array(1.8390391, dtype=float32), 'f_ion': Array(0.05469594, dtype=float32), 'f_exc': Array(0.03979547, dtype=float32), 'f_heat': Array(0.04590699, dtype=float32)}\n",
      "\n",
      "Starting step:  99\n",
      "Currently at:  15.803374600358463\n",
      "Advancing to:  15.63700455481036\n",
      "95 16.485658990665165 16.312533654123925\n",
      "15.803374600358463 16.485658990665165 16.312533654123925 76.1881048510405 57.28343623971741\n",
      "Doing box average\n",
      "96 16.312533654123925 16.141122429825668\n",
      "15.803374600358463 16.312533654123925 16.141122429825668 57.28343623971741 38.28417311475028\n",
      "Injecting\n",
      "97 16.141122429825668 15.971408346362047\n",
      "15.803374600358463 16.141122429825668 15.971408346362047 38.28417311475028 19.189850202585717\n",
      "Injecting\n",
      "98 15.971408346362047 15.803374600358463\n",
      "15.803374600358463 15.971408346362047 15.803374600358463 19.189850202585717 0.0\n",
      "Injecting\n"
     ]
    },
    {
     "name": "stderr",
     "output_type": "stream",
     "text": [
      "\r",
      " 53%|█████▎    | 100/188 [11:19<09:31,  6.49s/it]"
     ]
    },
    {
     "name": "stdout",
     "output_type": "stream",
     "text": [
      "{'z': 15.63700455481036, 'T_s': 79.25558, 'T_b': 15.037061, 'T_k': 97.68516, 'x_e': 0.007521849, 'E_phot': Array(52.409893, dtype=float32), 'dE_inj_per_B': Array(1.8762269, dtype=float32), 'f_ion': Array(0.05514572, dtype=float32), 'f_exc': Array(0.04007568, dtype=float32), 'f_heat': Array(0.04666146, dtype=float32)}\n",
      "\n",
      "Starting step:  100\n",
      "Currently at:  15.63700455481036\n",
      "Advancing to:  15.472281737435999\n",
      "96 16.312533654123925 16.141122429825668\n",
      "15.63700455481036 16.312533654123925 16.141122429825668 76.56928348642481 57.57002031228752\n",
      "Doing box average\n",
      "97 16.141122429825668 15.971408346362047\n",
      "15.63700455481036 16.141122429825668 15.971408346362047 57.57002031228752 38.47569738464965\n",
      "Injecting\n",
      "98 15.971408346362047 15.803374600358463\n",
      "15.63700455481036 15.971408346362047 15.803374600358463 38.47569738464965 19.285847193588996\n",
      "Injecting\n",
      "99 15.803374600358463 15.63700455481036\n",
      "15.63700455481036 15.803374600358463 15.63700455481036 19.285847193588996 0.0\n",
      "Injecting\n"
     ]
    },
    {
     "name": "stderr",
     "output_type": "stream",
     "text": [
      "\r",
      " 54%|█████▎    | 101/188 [11:26<09:43,  6.71s/it]"
     ]
    },
    {
     "name": "stdout",
     "output_type": "stream",
     "text": [
      "{'z': 15.472281737435999, 'T_s': 80.0048, 'T_b': 15.333425, 'T_k': 97.34328, 'x_e': 0.007928845, 'E_phot': Array(53.785076, dtype=float32), 'dE_inj_per_B': Array(1.9136155, dtype=float32), 'f_ion': Array(0.05559047, dtype=float32), 'f_exc': Array(0.0403494, dtype=float32), 'f_heat': Array(0.04745796, dtype=float32)}\n",
      "\n",
      "Starting step:  101\n",
      "Currently at:  15.472281737435999\n",
      "Advancing to:  15.309189839045544\n",
      "97 16.141122429825668 15.971408346362047\n",
      "15.472281737435999 16.141122429825668 15.971408346362047 76.9523364435891 57.85801336877559\n",
      "Doing box average\n",
      "98 15.971408346362047 15.803374600358463\n",
      "15.472281737435999 15.971408346362047 15.803374600358463 57.85801336877559 38.6681632600052\n",
      "Injecting\n",
      "99 15.803374600358463 15.63700455481036\n",
      "15.472281737435999 15.803374600358463 15.63700455481036 38.6681632600052 19.38231607162987\n",
      "Injecting\n",
      "100 15.63700455481036 15.472281737435999\n",
      "15.472281737435999 15.63700455481036 15.472281737435999 19.38231607162987 0.0\n",
      "Injecting\n"
     ]
    },
    {
     "name": "stderr",
     "output_type": "stream",
     "text": [
      "\r",
      " 54%|█████▍    | 102/188 [11:32<09:09,  6.38s/it]"
     ]
    },
    {
     "name": "stdout",
     "output_type": "stream",
     "text": [
      "{'z': 15.309189839045544, 'T_s': 80.71234, 'T_b': 15.605654, 'T_k': 97.05273, 'x_e': 0.008384769, 'E_phot': Array(55.183857, dtype=float32), 'dE_inj_per_B': Array(1.9511995, dtype=float32), 'f_ion': Array(0.0560317, dtype=float32), 'f_exc': Array(0.0406187, dtype=float32), 'f_heat': Array(0.04829359, dtype=float32)}\n",
      "\n",
      "Starting step:  102\n",
      "Currently at:  15.309189839045544\n",
      "Advancing to:  15.147712711926282\n",
      "98 15.971408346362047 15.803374600358463\n",
      "15.309189839045544 15.971408346362047 15.803374600358463 77.33727246011549 58.1474222183308\n",
      "Doing box average\n",
      "99 15.803374600358463 15.63700455481036\n",
      "15.309189839045544 15.803374600358463 15.63700455481036 58.1474222183308 38.86157499278799\n",
      "Injecting\n",
      "100 15.63700455481036 15.472281737435999\n",
      "15.309189839045544 15.63700455481036 15.472281737435999 38.86157499278799 19.47925897886568\n",
      "Injecting\n",
      "101 15.472281737435999 15.309189839045544\n",
      "15.309189839045544 15.472281737435999 15.309189839045544 19.47925897886568 0.0\n",
      "Injecting\n"
     ]
    },
    {
     "name": "stderr",
     "output_type": "stream",
     "text": [
      "\r",
      " 55%|█████▍    | 103/188 [11:38<08:56,  6.31s/it]"
     ]
    },
    {
     "name": "stdout",
     "output_type": "stream",
     "text": [
      "{'z': 15.147712711926282, 'T_s': 81.40525, 'T_b': 15.860907, 'T_k': 96.81699, 'x_e': 0.008895267, 'E_phot': Array(56.60619, dtype=float32), 'dE_inj_per_B': Array(1.9889746, dtype=float32), 'f_ion': Array(0.05646649, dtype=float32), 'f_exc': Array(0.04088107, dtype=float32), 'f_heat': Array(0.04917603, dtype=float32)}\n",
      "\n",
      "Starting step:  103\n",
      "Currently at:  15.147712711926282\n",
      "Advancing to:  14.987834368243844\n",
      "99 15.803374600358463 15.63700455481036\n",
      "15.147712711926282 15.803374600358463 15.63700455481036 77.72410027195897 58.43825316782477\n",
      "Doing box average\n",
      "100 15.63700455481036 15.472281737435999\n",
      "15.147712711926282 15.63700455481036 15.472281737435999 58.43825316782477 39.05593713761253\n",
      "Injecting\n",
      "101 15.472281737435999 15.309189839045544\n",
      "15.147712711926282 15.472281737435999 15.309189839045544 39.05593713761253 19.57667817442657\n",
      "Injecting\n",
      "102 15.309189839045544 15.147712711926282\n",
      "15.147712711926282 15.309189839045544 15.147712711926282 19.57667817442657 0.0\n",
      "Injecting\n"
     ]
    },
    {
     "name": "stderr",
     "output_type": "stream",
     "text": [
      "\r",
      " 55%|█████▌    | 104/188 [11:43<08:28,  6.05s/it]"
     ]
    },
    {
     "name": "stdout",
     "output_type": "stream",
     "text": [
      "{'z': 14.987834368243844, 'T_s': 82.08601, 'T_b': 16.100756, 'T_k': 96.638275, 'x_e': 0.009453585, 'E_phot': Array(58.052017, dtype=float32), 'dE_inj_per_B': Array(2.0269291, dtype=float32), 'f_ion': Array(0.05689461, dtype=float32), 'f_exc': Array(0.0411361, dtype=float32), 'f_heat': Array(0.05010659, dtype=float32)}\n",
      "\n",
      "Starting step:  104\n",
      "Currently at:  14.987834368243844\n",
      "Advancing to:  14.82953897845925\n",
      "100 15.63700455481036 15.472281737435999\n",
      "14.987834368243844 15.63700455481036 15.472281737435999 78.11282914328407 58.73051297221126\n",
      "Doing box average\n",
      "101 15.472281737435999 15.309189839045544\n",
      "14.987834368243844 15.472281737435999 15.309189839045544 58.73051297221126 39.25125410377648\n",
      "Injecting\n",
      "102 15.309189839045544 15.147712711926282\n",
      "14.987834368243844 15.309189839045544 15.147712711926282 39.25125410377648 19.674575857396604\n",
      "Injecting\n",
      "103 15.147712711926282 14.987834368243844\n",
      "14.987834368243844 15.147712711926282 14.987834368243844 19.674575857396604 0.0\n",
      "Injecting\n"
     ]
    },
    {
     "name": "stderr",
     "output_type": "stream",
     "text": [
      "\r",
      " 56%|█████▌    | 105/188 [11:49<08:21,  6.04s/it]"
     ]
    },
    {
     "name": "stdout",
     "output_type": "stream",
     "text": [
      "{'z': 14.82953897845925, 'T_s': 82.76445, 'T_b': 16.32825, 'T_k': 96.52332, 'x_e': 0.010053335, 'E_phot': Array(59.521286, dtype=float32), 'dE_inj_per_B': Array(2.0650597, dtype=float32), 'f_ion': Array(0.05731449, dtype=float32), 'f_exc': Array(0.0413826, dtype=float32), 'f_heat': Array(0.05108633, dtype=float32)}\n",
      "\n",
      "Starting step:  105\n",
      "Currently at:  14.82953897845925\n",
      "Advancing to:  14.672810869761634\n",
      "101 15.472281737435999 15.309189839045544\n",
      "14.82953897845925 15.472281737435999 15.309189839045544 78.50346718327698 59.0242082894087\n",
      "Doing box average\n",
      "102 15.309189839045544 15.147712711926282\n",
      "14.82953897845925 15.309189839045544 15.147712711926282 59.0242082894087 39.447530136211235\n",
      "Injecting\n",
      "103 15.147712711926282 14.987834368243844\n",
      "14.82953897845925 15.147712711926282 14.987834368243844 39.447530136211235 19.77295424180966\n",
      "Injecting\n",
      "104 14.987834368243844 14.82953897845925\n",
      "14.82953897845925 14.987834368243844 14.82953897845925 19.77295424180966 0.0\n",
      "Injecting\n"
     ]
    },
    {
     "name": "stderr",
     "output_type": "stream",
     "text": [
      "\r",
      " 56%|█████▋    | 106/188 [11:55<08:00,  5.86s/it]"
     ]
    },
    {
     "name": "stdout",
     "output_type": "stream",
     "text": [
      "{'z': 14.672810869761634, 'T_s': 83.44306, 'T_b': 16.542164, 'T_k': 96.473366, 'x_e': 0.010742553, 'E_phot': Array(61.01393, dtype=float32), 'dE_inj_per_B': Array(2.1033561, dtype=float32), 'f_ion': Array(0.05772803, dtype=float32), 'f_exc': Array(0.04162205, dtype=float32), 'f_heat': Array(0.05210999, dtype=float32)}\n",
      "\n",
      "Starting step:  106\n",
      "Currently at:  14.672810869761634\n",
      "Advancing to:  14.517634524516469\n",
      "102 15.309189839045544 15.147712711926282\n",
      "14.672810869761634 15.309189839045544 15.147712711926282 78.89602390595913 59.319345655629206\n",
      "Doing box average\n",
      "103 15.147712711926282 14.987834368243844\n",
      "14.672810869761634 15.147712711926282 14.987834368243844 59.319345655629206 39.644769747191084\n",
      "Injecting\n",
      "104 14.987834368243844 14.82953897845925\n",
      "14.672810869761634 14.987834368243844 14.82953897845925 39.644769747191084 19.87181553863641\n",
      "Injecting\n",
      "105 14.82953897845925 14.672810869761634\n",
      "14.672810869761634 14.82953897845925 14.672810869761634 19.87181553863641 0.0\n",
      "Injecting\n"
     ]
    },
    {
     "name": "stderr",
     "output_type": "stream",
     "text": [
      "\r",
      " 57%|█████▋    | 107/188 [12:00<07:44,  5.73s/it]"
     ]
    },
    {
     "name": "stdout",
     "output_type": "stream",
     "text": [
      "{'z': 14.517634524516469, 'T_s': 84.12805, 'T_b': 16.746258, 'T_k': 96.49377, 'x_e': 0.011465863, 'E_phot': Array(62.529873, dtype=float32), 'dE_inj_per_B': Array(2.1418154, dtype=float32), 'f_ion': Array(0.05813193, dtype=float32), 'f_exc': Array(0.04185176, dtype=float32), 'f_heat': Array(0.05320028, dtype=float32)}\n",
      "\n",
      "Starting step:  107\n",
      "Currently at:  14.517634524516469\n",
      "Advancing to:  14.363994578729177\n",
      "103 15.147712711926282 14.987834368243844\n",
      "14.517634524516469 15.147712711926282 14.987834368243844 79.29050754297744 59.615931600225196\n",
      "Doing box average\n",
      "104 14.987834368243844 14.82953897845925\n",
      "14.517634524516469 14.987834368243844 14.82953897845925 59.615931600225196 39.842977501931095\n",
      "Injecting\n",
      "105 14.82953897845925 14.672810869761634\n",
      "14.517634524516469 14.82953897845925 14.672810869761634 39.842977501931095 19.971161932871833\n",
      "Injecting\n",
      "106 14.672810869761634 14.517634524516469\n",
      "14.517634524516469 14.672810869761634 14.517634524516469 19.971161932871833 0.0\n",
      "Injecting\n"
     ]
    },
    {
     "name": "stderr",
     "output_type": "stream",
     "text": [
      "\r",
      " 57%|█████▋    | 108/188 [12:06<07:30,  5.64s/it]"
     ]
    },
    {
     "name": "stdout",
     "output_type": "stream",
     "text": [
      "{'z': 14.363994578729177, 'T_s': 84.83308, 'T_b': 16.940928, 'T_k': 96.588905, 'x_e': 0.012280703, 'E_phot': Array(64.06904, dtype=float32), 'dE_inj_per_B': Array(2.180428, dtype=float32), 'f_ion': Array(0.05854601, dtype=float32), 'f_exc': Array(0.04208512, dtype=float32), 'f_heat': Array(0.05434768, dtype=float32)}\n",
      "\n",
      "Starting step:  108\n",
      "Currently at:  14.363994578729177\n",
      "Advancing to:  14.211875820523938\n",
      "104 14.987834368243844 14.82953897845925\n",
      "14.363994578729177 14.987834368243844 14.82953897845925 79.68692745196148 59.91397324733938\n",
      "Doing box average\n",
      "105 14.82953897845925 14.672810869761634\n",
      "14.363994578729177 14.82953897845925 14.672810869761634 59.91397324733938 40.042157611836515\n",
      "Injecting\n",
      "106 14.672810869761634 14.517634524516469\n",
      "14.363994578729177 14.672810869761634 14.517634524516469 40.042157611836515 20.070995700914857\n",
      "Injecting\n",
      "107 14.517634524516469 14.363994578729177\n",
      "14.363994578729177 14.517634524516469 14.363994578729177 20.070995700914857 0.0\n",
      "Injecting\n"
     ]
    },
    {
     "name": "stderr",
     "output_type": "stream",
     "text": [
      "\r",
      " 58%|█████▊    | 109/188 [12:11<07:20,  5.58s/it]"
     ]
    },
    {
     "name": "stdout",
     "output_type": "stream",
     "text": [
      "{'z': 14.211875820523938, 'T_s': 85.56019, 'T_b': 17.1276, 'T_k': 96.764, 'x_e': 0.013164221, 'E_phot': Array(65.63135, dtype=float32), 'dE_inj_per_B': Array(2.2191916, dtype=float32), 'f_ion': Array(0.05894744, dtype=float32), 'f_exc': Array(0.04230508, dtype=float32), 'f_heat': Array(0.05557708, dtype=float32)}\n",
      "\n",
      "Starting step:  109\n",
      "Currently at:  14.211875820523938\n",
      "Advancing to:  14.061263188637563\n",
      "105 14.82953897845925 14.672810869761634\n",
      "14.211875820523938 14.82953897845925 14.672810869761634 80.08529223682054 60.21347667372959\n",
      "Doing box average\n",
      "106 14.672810869761634 14.517634524516469\n",
      "14.211875820523938 14.672810869761634 14.517634524516469 60.21347667372959 40.24231479456786\n",
      "Injecting\n",
      "107 14.517634524516469 14.363994578729177\n",
      "14.211875820523938 14.517634524516469 14.363994578729177 40.24231479456786 20.171319051741342\n",
      "Injecting\n",
      "108 14.363994578729177 14.211875820523938\n",
      "14.211875820523938 14.363994578729177 14.211875820523938 20.171319051741342 0.0\n",
      "Injecting\n"
     ]
    },
    {
     "name": "stderr",
     "output_type": "stream",
     "text": [
      "\r",
      " 59%|█████▊    | 110/188 [12:17<07:12,  5.54s/it]"
     ]
    },
    {
     "name": "stdout",
     "output_type": "stream",
     "text": [
      "{'z': 14.061263188637563, 'T_s': 86.31782, 'T_b': 17.307467, 'T_k': 97.024414, 'x_e': 0.014119761, 'E_phot': Array(67.2167, dtype=float32), 'dE_inj_per_B': Array(2.258093, dtype=float32), 'f_ion': Array(0.0593368, dtype=float32), 'f_exc': Array(0.04251234, dtype=float32), 'f_heat': Array(0.05687782, dtype=float32)}\n",
      "\n",
      "Starting step:  110\n",
      "Currently at:  14.061263188637563\n",
      "Advancing to:  13.91214177092828\n",
      "106 14.672810869761634 14.517634524516469\n",
      "14.061263188637563 14.672810869761634 14.517634524516469 80.48561080681324 60.51444893074553\n",
      "Doing box average\n",
      "107 14.517634524516469 14.363994578729177\n",
      "14.061263188637563 14.517634524516469 14.363994578729177 60.51444893074553 40.44345320702778\n",
      "Injecting\n",
      "108 14.363994578729177 14.211875820523938\n",
      "14.061263188637563 14.363994578729177 14.211875820523938 40.44345320702778 20.272134200887137\n",
      "Injecting\n",
      "109 14.211875820523938 14.061263188637563\n",
      "14.061263188637563 14.211875820523938 14.061263188637563 20.272134200887137 0.0\n",
      "Injecting\n"
     ]
    },
    {
     "name": "stderr",
     "output_type": "stream",
     "text": [
      "\r",
      " 59%|█████▉    | 111/188 [12:23<07:29,  5.84s/it]"
     ]
    },
    {
     "name": "stdout",
     "output_type": "stream",
     "text": [
      "{'z': 13.91214177092828, 'T_s': 87.11231, 'T_b': 17.480131, 'T_k': 97.37211, 'x_e': 0.015177768, 'E_phot': Array(68.82502, dtype=float32), 'dE_inj_per_B': Array(2.297133, dtype=float32), 'f_ion': Array(0.05972075, dtype=float32), 'f_exc': Array(0.04271427, dtype=float32), 'f_heat': Array(0.05823247, dtype=float32)}\n",
      "\n",
      "Starting step:  111\n",
      "Currently at:  13.91214177092828\n",
      "Advancing to:  13.764496802899286\n",
      "107 14.517634524516469 14.363994578729177\n",
      "13.91214177092828 14.517634524516469 14.363994578729177 80.8878921494276 60.81689652085254\n",
      "Doing box average\n",
      "108 14.363994578729177 14.211875820523938\n",
      "13.91214177092828 14.363994578729177 14.211875820523938 60.81689652085254 40.64557756884927\n",
      "Injecting\n",
      "109 14.211875820523938 14.061263188637563\n",
      "13.91214177092828 14.211875820523938 14.061263188637563 40.64557756884927 20.373443392432744\n",
      "Injecting\n",
      "110 14.061263188637563 13.91214177092828\n",
      "13.91214177092828 14.061263188637563 13.91214177092828 20.373443392432744 0.0\n",
      "Injecting\n"
     ]
    },
    {
     "name": "stderr",
     "output_type": "stream",
     "text": [
      "\r",
      " 60%|█████▉    | 112/188 [12:29<07:35,  5.99s/it]"
     ]
    },
    {
     "name": "stdout",
     "output_type": "stream",
     "text": [
      "{'z': 13.764496802899286, 'T_s': 87.957275, 'T_b': 17.64944, 'T_k': 97.81876, 'x_e': 0.016291548, 'E_phot': Array(70.45619, dtype=float32), 'dE_inj_per_B': Array(2.3363013, dtype=float32), 'f_ion': Array(0.06009196, dtype=float32), 'f_exc': Array(0.04290368, dtype=float32), 'f_heat': Array(0.05966549, dtype=float32)}\n",
      "\n",
      "Starting step:  112\n",
      "Currently at:  13.764496802899286\n",
      "Advancing to:  13.618313666236917\n",
      "108 14.363994578729177 14.211875820523938\n",
      "13.764496802899286 14.363994578729177 14.211875820523938 81.29214535871532 61.12082629133171\n",
      "Doing box average\n",
      "109 14.211875820523938 14.061263188637563\n",
      "13.764496802899286 14.211875820523938 14.061263188637563 61.12082629133171 40.848692200159796\n",
      "Injecting\n",
      "110 14.061263188637563 13.91214177092828\n",
      "13.764496802899286 14.061263188637563 13.91214177092828 40.848692200159796 20.47524883041251\n",
      "Injecting\n",
      "111 13.91214177092828 13.764496802899286\n",
      "13.764496802899286 13.91214177092828 13.764496802899286 20.47524883041251 0.0\n",
      "Injecting\n"
     ]
    },
    {
     "name": "stderr",
     "output_type": "stream",
     "text": [
      "\r",
      " 60%|██████    | 113/188 [12:37<07:55,  6.34s/it]"
     ]
    },
    {
     "name": "stdout",
     "output_type": "stream",
     "text": [
      "{'z': 13.618313666236917, 'T_s': 88.897736, 'T_b': 17.82189, 'T_k': 98.36464, 'x_e': 0.017478893, 'E_phot': Array(72.110115, dtype=float32), 'dE_inj_per_B': Array(2.375594, dtype=float32), 'f_ion': Array(0.06045459, dtype=float32), 'f_exc': Array(0.04308431, dtype=float32), 'f_heat': Array(0.06115592, dtype=float32)}\n",
      "\n",
      "Starting step:  113\n",
      "Currently at:  13.618313666236917\n",
      "Advancing to:  13.473577887363284\n",
      "109 14.211875820523938 14.061263188637563\n",
      "13.618313666236917 14.211875820523938 14.061263188637563 81.69837929095193 61.42624496699478\n",
      "Doing box average\n",
      "110 14.061263188637563 13.91214177092828\n",
      "13.618313666236917 14.061263188637563 13.91214177092828 61.42624496699478 41.05280167520461\n",
      "Injecting\n",
      "111 13.91214177092828 13.764496802899286\n",
      "13.618313666236917 13.91214177092828 13.764496802899286 41.05280167520461 20.577552830986864\n",
      "Injecting\n",
      "112 13.764496802899286 13.618313666236917\n",
      "13.618313666236917 13.764496802899286 13.618313666236917 20.577552830986864 0.0\n",
      "Injecting\n"
     ]
    },
    {
     "name": "stderr",
     "output_type": "stream",
     "text": [
      "\r",
      " 61%|██████    | 114/188 [12:43<07:59,  6.48s/it]"
     ]
    },
    {
     "name": "stdout",
     "output_type": "stream",
     "text": [
      "{'z': 13.473577887363284, 'T_s': 89.859634, 'T_b': 17.981903, 'T_k': 99.0178, 'x_e': 0.01879489, 'E_phot': Array(73.78669, dtype=float32), 'dE_inj_per_B': Array(2.415005, dtype=float32), 'f_ion': Array(0.06080176, dtype=float32), 'f_exc': Array(0.04324925, dtype=float32), 'f_heat': Array(0.06272466, dtype=float32)}\n",
      "\n",
      "Starting step:  114\n",
      "Currently at:  13.473577887363284\n",
      "Advancing to:  13.330275136003252\n",
      "110 14.061263188637563 13.91214177092828\n",
      "13.473577887363284 14.061263188637563 13.91214177092828 82.10660262406539 61.733159191698284\n",
      "Doing box average\n",
      "111 13.91214177092828 13.764496802899286\n",
      "13.473577887363284 13.91214177092828 13.764496802899286 61.733159191698284 41.25791035927091\n",
      "Injecting\n",
      "112 13.764496802899286 13.618313666236917\n",
      "13.473577887363284 13.764496802899286 13.618313666236917 41.25791035927091 20.680357574617048\n",
      "Injecting\n",
      "113 13.618313666236917 13.473577887363284\n",
      "13.473577887363284 13.618313666236917 13.473577887363284 20.680357574617048 0.0\n",
      "Injecting\n"
     ]
    },
    {
     "name": "stderr",
     "output_type": "stream",
     "text": [
      "\r",
      " 61%|██████    | 115/188 [12:52<08:32,  7.03s/it]"
     ]
    },
    {
     "name": "stdout",
     "output_type": "stream",
     "text": [
      "{'z': 13.330275136003252, 'T_s': 90.89612, 'T_b': 18.140303, 'T_k': 99.78393, 'x_e': 0.020173728, 'E_phot': Array(75.4858, dtype=float32), 'dE_inj_per_B': Array(2.4545293, dtype=float32), 'f_ion': Array(0.06112967, dtype=float32), 'f_exc': Array(0.04339619, dtype=float32), 'f_heat': Array(0.06439183, dtype=float32)}\n",
      "\n",
      "Starting step:  115\n",
      "Currently at:  13.330275136003252\n",
      "Advancing to:  13.188391223765596\n",
      "111 13.91214177092828 13.764496802899286\n",
      "13.330275136003252 13.91214177092828 13.764496802899286 82.51682452545066 62.04157564012252\n",
      "Doing box average\n",
      "112 13.764496802899286 13.618313666236917\n",
      "13.330275136003252 13.764496802899286 13.618313666236917 62.04157564012252 41.464022868302465\n",
      "Injecting\n",
      "113 13.618313666236917 13.473577887363284\n",
      "13.330275136003252 13.618313666236917 13.473577887363284 41.464022868302465 20.783665285057257\n",
      "Injecting\n",
      "114 13.473577887363284 13.330275136003252\n",
      "13.330275136003252 13.473577887363284 13.330275136003252 20.783665285057257 0.0\n",
      "Injecting\n"
     ]
    },
    {
     "name": "stderr",
     "output_type": "stream",
     "text": [
      "\r",
      " 62%|██████▏   | 116/188 [12:58<08:08,  6.78s/it]"
     ]
    },
    {
     "name": "stdout",
     "output_type": "stream",
     "text": [
      "{'z': 13.188391223765596, 'T_s': 92.00639, 'T_b': 18.292255, 'T_k': 100.66992, 'x_e': 0.021714188, 'E_phot': Array(77.20733, dtype=float32), 'dE_inj_per_B': Array(2.494161, dtype=float32), 'f_ion': Array(0.06144588, dtype=float32), 'f_exc': Array(0.04353144, dtype=float32), 'f_heat': Array(0.06612364, dtype=float32)}\n",
      "\n",
      "Starting step:  116\n",
      "Currently at:  13.188391223765596\n",
      "Advancing to:  13.047912102738213\n",
      "112 13.764496802899286 13.618313666236917\n",
      "13.188391223765596 13.764496802899286 13.618313666236917 82.92905394393769 62.351501166502594\n",
      "Doing box average\n",
      "113 13.618313666236917 13.473577887363284\n",
      "13.188391223765596 13.618313666236917 13.473577887363284 62.351501166502594 41.671143539929275\n",
      "Injecting\n",
      "114 13.473577887363284 13.330275136003252\n",
      "13.188391223765596 13.473577887363284 13.330275136003252 41.671143539929275 20.88747829888617\n",
      "Injecting\n",
      "115 13.330275136003252 13.188391223765596\n",
      "13.188391223765596 13.330275136003252 13.188391223765596 20.88747829888617 0.0\n",
      "Injecting\n"
     ]
    },
    {
     "name": "stderr",
     "output_type": "stream",
     "text": [
      "\r",
      " 62%|██████▏   | 117/188 [13:04<07:53,  6.67s/it]"
     ]
    },
    {
     "name": "stdout",
     "output_type": "stream",
     "text": [
      "{'z': 13.047912102738213, 'T_s': 93.208176, 'T_b': 18.439491, 'T_k': 101.68279, 'x_e': 0.023410508, 'E_phot': Array(78.95115, dtype=float32), 'dE_inj_per_B': Array(2.533895, dtype=float32), 'f_ion': Array(0.06174224, dtype=float32), 'f_exc': Array(0.04364879, dtype=float32), 'f_heat': Array(0.06796182, dtype=float32)}\n",
      "\n",
      "Starting step:  117\n",
      "Currently at:  13.047912102738213\n",
      "Advancing to:  12.90882386409724\n",
      "113 13.618313666236917 13.473577887363284\n",
      "13.047912102738213 13.618313666236917 13.473577887363284 83.34329995318105 62.66294239010926\n",
      "Doing box average\n",
      "114 13.473577887363284 13.330275136003252\n",
      "13.047912102738213 13.473577887363284 13.330275136003252 62.66294239010926 41.87927709106436\n",
      "Injecting\n",
      "115 13.330275136003252 13.188391223765596\n",
      "13.047912102738213 13.330275136003252 13.188391223765596 41.87927709106436 20.991798797653377\n",
      "Injecting\n",
      "116 13.188391223765596 13.047912102738213\n",
      "13.047912102738213 13.188391223765596 13.047912102738213 20.991798797653377 0.0\n",
      "Injecting\n"
     ]
    },
    {
     "name": "stderr",
     "output_type": "stream",
     "text": [
      "\r",
      " 63%|██████▎   | 118/188 [13:10<07:34,  6.49s/it]"
     ]
    },
    {
     "name": "stdout",
     "output_type": "stream",
     "text": [
      "{'z': 12.90882386409724, 'T_s': 94.52273, 'T_b': 18.585993, 'T_k': 102.8259, 'x_e': 0.025208874, 'E_phot': Array(80.71714, dtype=float32), 'dE_inj_per_B': Array(2.573728, dtype=float32), 'f_ion': Array(0.0620174, dtype=float32), 'f_exc': Array(0.04374672, dtype=float32), 'f_heat': Array(0.06990605, dtype=float32)}\n",
      "\n",
      "Starting step:  118\n",
      "Currently at:  12.90882386409724\n",
      "Advancing to:  12.77111273672994\n",
      "114 13.473577887363284 13.330275136003252\n",
      "12.90882386409724 13.473577887363284 13.330275136003252 83.75957142973752 62.975906000534536\n",
      "Doing box average\n",
      "115 13.330275136003252 13.188391223765596\n",
      "12.90882386409724 13.330275136003252 13.188391223765596 62.975906000534536 42.088427783360636\n",
      "Injecting\n",
      "116 13.188391223765596 13.047912102738213\n",
      "12.90882386409724 13.188391223765596 13.047912102738213 42.088427783360636 21.09662901126879\n",
      "Injecting\n",
      "117 13.047912102738213 12.90882386409724\n",
      "12.90882386409724 13.047912102738213 12.90882386409724 21.09662901126879 0.0\n",
      "Injecting\n"
     ]
    },
    {
     "name": "stderr",
     "output_type": "stream",
     "text": [
      "\r",
      " 63%|██████▎   | 119/188 [13:16<07:14,  6.29s/it]"
     ]
    },
    {
     "name": "stdout",
     "output_type": "stream",
     "text": [
      "{'z': 12.77111273672994, 'T_s': 95.93319, 'T_b': 18.729994, 'T_k': 104.11683, 'x_e': 0.027071314, 'E_phot': Array(82.50518, dtype=float32), 'dE_inj_per_B': Array(2.613653, dtype=float32), 'f_ion': Array(0.06227781, dtype=float32), 'f_exc': Array(0.04383108, dtype=float32), 'f_heat': Array(0.07193556, dtype=float32)}\n",
      "\n",
      "Starting step:  119\n",
      "Currently at:  12.77111273672994\n",
      "Advancing to:  12.634765085871228\n",
      "115 13.330275136003252 13.188391223765596\n",
      "12.77111273672994 13.330275136003252 13.188391223765596 84.17787731228461 63.29039901612143\n",
      "Doing box average\n",
      "116 13.188391223765596 13.047912102738213\n",
      "12.77111273672994 13.188391223765596 13.047912102738213 63.29039901612143 42.29860025085041\n",
      "Injecting\n",
      "117 13.047912102738213 12.90882386409724\n",
      "12.77111273672994 13.047912102738213 12.90882386409724 42.29860025085041 21.201971233644656\n",
      "Injecting\n",
      "118 12.90882386409724 12.77111273672994\n",
      "12.77111273672994 12.90882386409724 12.77111273672994 21.201971233644656 0.0\n",
      "Injecting\n"
     ]
    },
    {
     "name": "stderr",
     "output_type": "stream",
     "text": [
      "\r",
      " 64%|██████▍   | 120/188 [13:24<07:32,  6.66s/it]"
     ]
    },
    {
     "name": "stdout",
     "output_type": "stream",
     "text": [
      "{'z': 12.634765085871228, 'T_s': 97.45465, 'T_b': 18.868692, 'T_k': 105.5523, 'x_e': 0.029082831, 'E_phot': Array(84.31513, dtype=float32), 'dE_inj_per_B': Array(2.6536672, dtype=float32), 'f_ion': Array(0.06259155, dtype=float32), 'f_exc': Array(0.04395226, dtype=float32), 'f_heat': Array(0.07411484, dtype=float32)}\n",
      "\n",
      "Starting step:  120\n",
      "Currently at:  12.634765085871228\n",
      "Advancing to:  12.499767411753691\n",
      "116 13.188391223765596 13.047912102738213\n",
      "12.634765085871228 13.188391223765596 13.047912102738213 84.59822671179684 63.606427938377934\n",
      "Doing box average\n",
      "117 13.047912102738213 12.90882386409724\n",
      "12.634765085871228 13.047912102738213 12.90882386409724 63.606427938377934 42.509799007218376\n",
      "Injecting\n",
      "118 12.90882386409724 12.77111273672994\n",
      "12.634765085871228 12.90882386409724 12.77111273672994 42.509799007218376 21.307827699157386\n",
      "Injecting\n",
      "119 12.77111273672994 12.634765085871228\n",
      "12.634765085871228 12.77111273672994 12.634765085871228 21.307827699157386 0.0\n",
      "Injecting\n"
     ]
    },
    {
     "name": "stderr",
     "output_type": "stream",
     "text": [
      "\r",
      " 64%|██████▍   | 121/188 [13:31<07:34,  6.78s/it]"
     ]
    },
    {
     "name": "stdout",
     "output_type": "stream",
     "text": [
      "{'z': 12.499767411753691, 'T_s': 99.100395, 'T_b': 19.001375, 'T_k': 107.144, 'x_e': 0.031278607, 'E_phot': Array(86.14686, dtype=float32), 'dE_inj_per_B': Array(2.6937633, dtype=float32), 'f_ion': Array(0.06288761, dtype=float32), 'f_exc': Array(0.04405526, dtype=float32), 'f_heat': Array(0.07642398, dtype=float32)}\n",
      "\n",
      "Starting step:  121\n",
      "Currently at:  12.499767411753691\n",
      "Advancing to:  12.36610634827098\n",
      "117 13.047912102738213 12.90882386409724\n",
      "12.499767411753691 13.047912102738213 12.90882386409724 85.02062861265853 63.923999621911314\n",
      "Doing box average\n",
      "118 12.90882386409724 12.77111273672994\n",
      "12.499767411753691 12.90882386409724 12.77111273672994 63.923999621911314 42.722028360605684\n",
      "Injecting\n",
      "119 12.77111273672994 12.634765085871228\n",
      "12.499767411753691 12.77111273672994 12.634765085871228 42.722028360605684 21.41420064898113\n",
      "Injecting\n",
      "120 12.634765085871228 12.499767411753691\n",
      "12.499767411753691 12.634765085871228 12.499767411753691 21.41420064898113 0.0\n",
      "Injecting\n"
     ]
    },
    {
     "name": "stderr",
     "output_type": "stream",
     "text": [
      "\r",
      " 65%|██████▍   | 122/188 [13:37<07:17,  6.63s/it]"
     ]
    },
    {
     "name": "stdout",
     "output_type": "stream",
     "text": [
      "{'z': 12.36610634827098, 'T_s': 100.8818, 'T_b': 19.128166, 'T_k': 108.90312, 'x_e': 0.0336651, 'E_phot': Array(88.000244, dtype=float32), 'dE_inj_per_B': Array(2.733941, dtype=float32), 'f_ion': Array(0.06316128, dtype=float32), 'f_exc': Array(0.04413895, dtype=float32), 'f_heat': Array(0.07884917, dtype=float32)}\n",
      "\n",
      "Starting step:  122\n",
      "Currently at:  12.36610634827098\n",
      "Advancing to:  12.233768661654436\n",
      "118 12.90882386409724 12.77111273672994\n",
      "12.36610634827098 12.90882386409724 12.77111273672994 85.44509200285054 64.2431207689601\n",
      "Doing box average\n",
      "119 12.77111273672994 12.634765085871228\n",
      "12.36610634827098 12.77111273672994 12.634765085871228 64.2431207689601 42.935293043576145\n",
      "Injecting\n",
      "120 12.634765085871228 12.499767411753691\n",
      "12.36610634827098 12.634765085871228 12.499767411753691 42.935293043576145 21.521092353507747\n",
      "Injecting\n",
      "121 12.499767411753691 12.36610634827098\n",
      "12.36610634827098 12.499767411753691 12.36610634827098 21.521092353507747 0.0\n",
      "Injecting\n"
     ]
    },
    {
     "name": "stderr",
     "output_type": "stream",
     "text": [
      "\r",
      " 65%|██████▌   | 123/188 [13:47<08:12,  7.58s/it]"
     ]
    },
    {
     "name": "stdout",
     "output_type": "stream",
     "text": [
      "{'z': 12.233768661654436, 'T_s': 102.808685, 'T_b': 19.246756, 'T_k': 110.835495, 'x_e': 0.03626497, 'E_phot': Array(89.87513, dtype=float32), 'dE_inj_per_B': Array(2.7741973, dtype=float32), 'f_ion': Array(0.06340504, dtype=float32), 'f_exc': Array(0.04419599, dtype=float32), 'f_heat': Array(0.0814077, dtype=float32)}\n",
      "\n",
      "Starting step:  123\n",
      "Currently at:  12.233768661654436\n",
      "Advancing to:  12.102741249162808\n",
      "119 12.77111273672994 12.634765085871228\n",
      "12.233768661654436 12.77111273672994 12.634765085871228 85.87162576892297 64.56379800927363\n",
      "Doing box average\n",
      "120 12.634765085871228 12.499767411753691\n",
      "12.233768661654436 12.634765085871228 12.499767411753691 64.56379800927363 43.149597388940094\n",
      "Injecting\n",
      "121 12.499767411753691 12.36610634827098\n",
      "12.233768661654436 12.499767411753691 12.36610634827098 43.149597388940094 21.628505045374286\n",
      "Injecting\n",
      "122 12.36610634827098 12.233768661654436\n",
      "12.233768661654436 12.36610634827098 12.233768661654436 21.628505045374286 0.0\n",
      "Injecting\n"
     ]
    },
    {
     "name": "stderr",
     "output_type": "stream",
     "text": [
      "\r",
      " 66%|██████▌   | 124/188 [13:53<07:35,  7.12s/it]"
     ]
    },
    {
     "name": "stdout",
     "output_type": "stream",
     "text": [
      "{'z': 12.102741249162808, 'T_s': 104.87835, 'T_b': 19.360973, 'T_k': 112.941185, 'x_e': 0.038952, 'E_phot': Array(91.77137, dtype=float32), 'dE_inj_per_B': Array(2.8145208, dtype=float32), 'f_ion': Array(0.06362076, dtype=float32), 'f_exc': Array(0.04422783, dtype=float32), 'f_heat': Array(0.08410464, dtype=float32)}\n",
      "\n",
      "Starting step:  124\n",
      "Currently at:  12.102741249162808\n",
      "Advancing to:  11.973011137784958\n",
      "120 12.634765085871228 12.499767411753691\n",
      "12.102741249162808 12.634765085871228 12.499767411753691 86.30023896592628 64.88603834938729\n",
      "Doing box average\n",
      "121 12.499767411753691 12.36610634827098\n",
      "12.102741249162808 12.499767411753691 12.36610634827098 64.88603834938729 43.36494604889356\n",
      "Injecting\n",
      "122 12.36610634827098 12.233768661654436\n",
      "12.102741249162808 12.36610634827098 12.233768661654436 43.36494604889356 21.7364409521784\n",
      "Injecting\n",
      "123 12.233768661654436 12.102741249162808\n",
      "12.102741249162808 12.233768661654436 12.102741249162808 21.7364409521784 0.0\n",
      "Injecting\n"
     ]
    },
    {
     "name": "stderr",
     "output_type": "stream",
     "text": [
      "\r",
      " 66%|██████▋   | 125/188 [14:00<07:21,  7.01s/it]"
     ]
    },
    {
     "name": "stdout",
     "output_type": "stream",
     "text": [
      "{'z': 11.973011137784958, 'T_s': 107.11756, 'T_b': 19.4659, 'T_k': 115.24986, 'x_e': 0.041888308, 'E_phot': Array(93.68882, dtype=float32), 'dE_inj_per_B': Array(2.8549125, dtype=float32), 'f_ion': Array(0.0638178, dtype=float32), 'f_exc': Array(0.04424316, dtype=float32), 'f_heat': Array(0.08688577, dtype=float32)}\n",
      "\n",
      "Starting step:  125\n",
      "Currently at:  11.973011137784958\n",
      "Advancing to:  11.844565482955405\n",
      "121 12.499767411753691 12.36610634827098\n",
      "11.973011137784958 12.499767411753691 12.36610634827098 86.7309407796637 65.2098484278952\n",
      "Doing box average\n",
      "122 12.36610634827098 12.233768661654436\n",
      "11.973011137784958 12.36610634827098 12.233768661654436 65.2098484278952 43.58134337444368\n",
      "Injecting\n",
      "123 12.233768661654436 12.102741249162808\n",
      "11.973011137784958 12.233768661654436 12.102741249162808 43.58134337444368 21.844902356533566\n",
      "Injecting\n",
      "124 12.102741249162808 11.973011137784958\n",
      "11.973011137784958 12.102741249162808 11.973011137784958 21.844902356533566 0.0\n",
      "Injecting\n"
     ]
    },
    {
     "name": "stderr",
     "output_type": "stream",
     "text": [
      "\r",
      " 67%|██████▋   | 126/188 [14:06<07:06,  6.88s/it]"
     ]
    },
    {
     "name": "stdout",
     "output_type": "stream",
     "text": [
      "{'z': 11.844565482955405, 'T_s': 109.52208, 'T_b': 19.563402, 'T_k': 117.75406, 'x_e': 0.044969894, 'E_phot': Array(95.62736, dtype=float32), 'dE_inj_per_B': Array(2.8953676, dtype=float32), 'f_ion': Array(0.06398748, dtype=float32), 'f_exc': Array(0.04423513, dtype=float32), 'f_heat': Array(0.08981234, dtype=float32)}\n",
      "\n",
      "Starting step:  126\n",
      "Currently at:  11.844565482955405\n",
      "Advancing to:  11.71739156728258\n",
      "122 12.36610634827098 12.233768661654436\n",
      "11.844565482955405 12.36610634827098 12.233768661654436 87.16373988960862 65.53523485399093\n",
      "Doing box average\n",
      "123 12.233768661654436 12.102741249162808\n",
      "11.844565482955405 12.233768661654436 12.102741249162808 65.53523485399093 43.79879389028278\n",
      "Injecting\n",
      "124 12.102741249162808 11.973011137784958\n",
      "11.844565482955405 12.102741249162808 11.973011137784958 43.79879389028278 21.953891468720574\n",
      "Injecting\n",
      "125 11.973011137784958 11.844565482955405\n",
      "11.844565482955405 11.973011137784958 11.844565482955405 21.953891468720574 0.0\n",
      "Injecting\n"
     ]
    },
    {
     "name": "stderr",
     "output_type": "stream",
     "text": [
      "\r",
      " 68%|██████▊   | 127/188 [14:13<06:58,  6.87s/it]"
     ]
    },
    {
     "name": "stdout",
     "output_type": "stream",
     "text": [
      "{'z': 11.71739156728258, 'T_s': 112.10484, 'T_b': 19.651468, 'T_k': 120.46825, 'x_e': 0.048241958, 'E_phot': Array(97.58681, dtype=float32), 'dE_inj_per_B': Array(2.935886, dtype=float32), 'f_ion': Array(0.06413271, dtype=float32), 'f_exc': Array(0.04420529, dtype=float32), 'f_heat': Array(0.09285098, dtype=float32)}\n",
      "\n",
      "Starting step:  127\n",
      "Currently at:  11.71739156728258\n",
      "Advancing to:  11.591476799289682\n",
      "123 12.233768661654436 12.102741249162808\n",
      "11.71739156728258 12.233768661654436 12.102741249162808 87.59864551396397 65.86220445858925\n",
      "Doing box average\n",
      "124 12.102741249162808 11.973011137784958\n",
      "11.71739156728258 12.102741249162808 11.973011137784958 65.86220445858925 44.01730207768847\n",
      "Injecting\n",
      "125 11.973011137784958 11.844565482955405\n",
      "11.71739156728258 11.973011137784958 11.844565482955405 44.01730207768847 22.063410586339437\n",
      "Injecting\n",
      "126 11.844565482955405 11.71739156728258\n",
      "11.71739156728258 11.844565482955405 11.71739156728258 22.063410586339437 0.0\n",
      "Injecting\n"
     ]
    },
    {
     "name": "stderr",
     "output_type": "stream",
     "text": [
      "\r",
      " 68%|██████▊   | 128/188 [14:22<07:23,  7.39s/it]"
     ]
    },
    {
     "name": "stdout",
     "output_type": "stream",
     "text": [
      "{'z': 11.591476799289682, 'T_s': 114.87323, 'T_b': 19.731592, 'T_k': 123.40076, 'x_e': 0.051664427, 'E_phot': Array(99.56703, dtype=float32), 'dE_inj_per_B': Array(2.9764626, dtype=float32), 'f_ion': Array(0.06425168, dtype=float32), 'f_exc': Array(0.044153, dtype=float32), 'f_heat': Array(0.09601679, dtype=float32)}\n",
      "\n",
      "Starting step:  128\n",
      "Currently at:  11.591476799289682\n",
      "Advancing to:  11.466808712168001\n",
      "124 12.102741249162808 11.973011137784958\n",
      "11.591476799289682 12.102741249162808 11.973011137784958 88.03566631442537 66.19076395518833\n",
      "Doing box average\n",
      "125 11.973011137784958 11.844565482955405\n",
      "11.591476799289682 11.973011137784958 11.844565482955405 66.19076395518833 44.236872447619525\n",
      "Injecting\n",
      "126 11.844565482955405 11.71739156728258\n",
      "11.591476799289682 11.844565482955405 11.71739156728258 44.236872447619525 22.17346190460812\n",
      "Injecting\n",
      "127 11.71739156728258 11.591476799289682\n",
      "11.591476799289682 11.71739156728258 11.591476799289682 22.17346190460812 0.0\n",
      "Injecting\n"
     ]
    },
    {
     "name": "stderr",
     "output_type": "stream",
     "text": [
      "\r",
      " 69%|██████▊   | 129/188 [14:27<06:44,  6.85s/it]"
     ]
    },
    {
     "name": "stdout",
     "output_type": "stream",
     "text": [
      "{'z': 11.466808712168001, 'T_s': 117.84275, 'T_b': 19.80023, 'T_k': 126.5616, 'x_e': 0.055305406, 'E_phot': Array(101.56788, dtype=float32), 'dE_inj_per_B': Array(3.0170946, dtype=float32), 'f_ion': Array(0.06433731, dtype=float32), 'f_exc': Array(0.04407068, dtype=float32), 'f_heat': Array(0.09931479, dtype=float32)}\n",
      "\n",
      "Starting step:  129\n",
      "Currently at:  11.466808712168001\n",
      "Advancing to:  11.343374962542576\n",
      "125 11.973011137784958 11.844565482955405\n",
      "11.466808712168001 11.973011137784958 11.844565482955405 88.47481149089278 66.52092001043822\n",
      "Doing box average\n",
      "126 11.844565482955405 11.71739156728258\n",
      "11.466808712168001 11.844565482955405 11.71739156728258 66.52092001043822 44.45750942815641\n",
      "Injecting\n",
      "127 11.71739156728258 11.591476799289682\n",
      "11.466808712168001 11.71739156728258 11.591476799289682 44.45750942815641 22.284047610469965\n",
      "Injecting\n",
      "128 11.591476799289682 11.466808712168001\n",
      "11.466808712168001 11.591476799289682 11.466808712168001 22.284047610469965 0.0\n",
      "Injecting\n"
     ]
    },
    {
     "name": "stderr",
     "output_type": "stream",
     "text": [
      "\r",
      " 69%|██████▉   | 130/188 [14:41<08:45,  9.05s/it]"
     ]
    },
    {
     "name": "stdout",
     "output_type": "stream",
     "text": [
      "{'z': 11.343374962542576, 'T_s': 121.000824, 'T_b': 19.854845, 'T_k': 129.94794, 'x_e': 0.059180524, 'E_phot': Array(103.589195, dtype=float32), 'dE_inj_per_B': Array(3.0577738, dtype=float32), 'f_ion': Array(0.06439649, dtype=float32), 'f_exc': Array(0.04396535, dtype=float32), 'f_heat': Array(0.10274934, dtype=float32)}\n",
      "\n",
      "Starting step:  130\n",
      "Currently at:  11.343374962542576\n",
      "Advancing to:  11.221163329250075\n",
      "126 11.844565482955405 11.71739156728258\n",
      "11.343374962542576 11.844565482955405 11.71739156728258 88.91609002530353 66.85267950412641\n",
      "Doing box average\n",
      "127 11.71739156728258 11.591476799289682\n",
      "11.343374962542576 11.71739156728258 11.591476799289682 66.85267950412641 44.679217613130824\n",
      "Injecting\n",
      "128 11.591476799289682 11.466808712168001\n",
      "11.343374962542576 11.591476799289682 11.466808712168001 44.679217613130824 22.395170021660743\n",
      "Injecting\n",
      "129 11.466808712168001 11.343374962542576\n",
      "11.343374962542576 11.466808712168001 11.343374962542576 22.395170021660743 0.0\n",
      "Injecting\n"
     ]
    },
    {
     "name": "stderr",
     "output_type": "stream",
     "text": [
      "\r",
      " 70%|██████▉   | 131/188 [14:50<08:24,  8.85s/it]"
     ]
    },
    {
     "name": "stdout",
     "output_type": "stream",
     "text": [
      "{'z': 11.221163329250075, 'T_s': 124.39031, 'T_b': 19.897285, 'T_k': 133.60457, 'x_e': 0.06330098, 'E_phot': Array(105.63083, dtype=float32), 'dE_inj_per_B': Array(3.0985067, dtype=float32), 'f_ion': Array(0.06442987, dtype=float32), 'f_exc': Array(0.04383796, dtype=float32), 'f_heat': Array(0.1063207, dtype=float32)}\n",
      "\n",
      "Starting step:  131\n",
      "Currently at:  11.221163329250075\n",
      "Advancing to:  11.100161712128788\n",
      "127 11.71739156728258 11.591476799289682\n",
      "11.221163329250075 11.71739156728258 11.591476799289682 89.359510765104 67.18604895361624\n",
      "Doing box average\n",
      "128 11.591476799289682 11.466808712168001\n",
      "11.221163329250075 11.591476799289682 11.466808712168001 67.18604895361624 44.90200130558687\n",
      "Injecting\n",
      "129 11.466808712168001 11.343374962542576\n",
      "11.221163329250075 11.466808712168001 11.343374962542576 44.90200130558687 22.506831336041508\n",
      "Injecting\n",
      "130 11.343374962542576 11.221163329250075\n",
      "11.221163329250075 11.343374962542576 11.221163329250075 22.506831336041508 0.0\n",
      "Injecting\n"
     ]
    },
    {
     "name": "stderr",
     "output_type": "stream",
     "text": [
      "\r",
      " 70%|███████   | 132/188 [14:55<07:15,  7.77s/it]"
     ]
    },
    {
     "name": "stdout",
     "output_type": "stream",
     "text": [
      "{'z': 11.100161712128788, 'T_s': 128.0069, 'T_b': 19.93099, 'T_k': 137.51306, 'x_e': 0.06750591, 'E_phot': Array(107.69262, dtype=float32), 'dE_inj_per_B': Array(3.1392832, dtype=float32), 'f_ion': Array(0.06443194, dtype=float32), 'f_exc': Array(0.04368428, dtype=float32), 'f_heat': Array(0.11003978, dtype=float32)}\n",
      "\n",
      "Starting step:  132\n",
      "Currently at:  11.100161712128788\n",
      "Advancing to:  10.980358130820582\n",
      "128 11.591476799289682 11.466808712168001\n",
      "11.100161712128788 11.591476799289682 11.466808712168001 89.80508259232053 67.52103506632403\n",
      "Doing box average\n",
      "129 11.466808712168001 11.343374962542576\n",
      "11.100161712128788 11.466808712168001 11.343374962542576 67.52103506632403 45.125865039585335\n",
      "Injecting\n",
      "130 11.343374962542576 11.221163329250075\n",
      "11.100161712128788 11.343374962542576 11.221163329250075 45.125865039585335 22.619033751865736\n",
      "Injecting\n",
      "131 11.221163329250075 11.100161712128788\n",
      "11.100161712128788 11.221163329250075 11.100161712128788 22.619033751865736 0.0\n",
      "Injecting\n"
     ]
    },
    {
     "name": "stderr",
     "output_type": "stream",
     "text": [
      "\r",
      " 71%|███████   | 133/188 [15:04<07:21,  8.02s/it]"
     ]
    },
    {
     "name": "stdout",
     "output_type": "stream",
     "text": [
      "{'z': 10.980358130820582, 'T_s': 131.85068, 'T_b': 19.94464, 'T_k': 141.691, 'x_e': 0.072103396, 'E_phot': Array(109.774414, dtype=float32), 'dE_inj_per_B': Array(3.1801133, dtype=float32), 'f_ion': Array(0.06441347, dtype=float32), 'f_exc': Array(0.04351201, dtype=float32), 'f_heat': Array(0.11384412, dtype=float32)}\n",
      "\n",
      "Starting step:  133\n",
      "Currently at:  10.980358130820582\n",
      "Advancing to:  10.861740723584735\n",
      "129 11.466808712168001 11.343374962542576\n",
      "10.980358130820582 11.466808712168001 11.343374962542576 90.25281461854134 67.85764451132444\n",
      "Doing box average\n",
      "130 11.343374962542576 11.221163329250075\n",
      "10.980358130820582 11.343374962542576 11.221163329250075 67.85764451132444 45.350813168392385\n",
      "Injecting\n",
      "131 11.221163329250075 11.100161712128788\n",
      "10.980358130820582 11.221163329250075 11.100161712128788 45.350813168392385 22.731779455553983\n",
      "Injecting\n",
      "132 11.100161712128788 10.980358130820582\n",
      "10.980358130820582 11.100161712128788 10.980358130820582 22.731779455553983 0.0\n",
      "Injecting\n"
     ]
    },
    {
     "name": "stderr",
     "output_type": "stream",
     "text": [
      "\r",
      " 71%|███████▏  | 134/188 [15:11<07:07,  7.92s/it]"
     ]
    },
    {
     "name": "stdout",
     "output_type": "stream",
     "text": [
      "{'z': 10.861740723584735, 'T_s': 135.93277, 'T_b': 19.947445, 'T_k': 146.15555, 'x_e': 0.07683289, 'E_phot': Array(111.87606, dtype=float32), 'dE_inj_per_B': Array(3.220981, dtype=float32), 'f_ion': Array(0.06435129, dtype=float32), 'f_exc': Array(0.04330191, dtype=float32), 'f_heat': Array(0.11786143, dtype=float32)}\n",
      "\n",
      "Starting step:  134\n",
      "Currently at:  10.861740723584735\n",
      "Advancing to:  10.7442977461235\n",
      "130 11.343374962542576 11.221163329250075\n",
      "10.861740723584735 11.343374962542576 11.221163329250075 90.70271524579304 68.19588392373456\n",
      "Doing box average\n",
      "131 11.221163329250075 11.100161712128788\n",
      "10.861740723584735 11.221163329250075 11.100161712128788 68.19588392373456 45.576850172316014\n",
      "Injecting\n",
      "132 11.100161712128788 10.980358130820582\n",
      "10.861740723584735 11.100161712128788 10.980358130820582 45.576850172316014 22.845070711859094\n",
      "Injecting\n",
      "133 10.980358130820582 10.861740723584735\n",
      "10.861740723584735 10.980358130820582 10.861740723584735 22.845070711859094 0.0\n",
      "Injecting\n"
     ]
    },
    {
     "name": "stderr",
     "output_type": "stream",
     "text": [
      "\r",
      " 72%|███████▏  | 135/188 [15:20<07:02,  7.97s/it]"
     ]
    },
    {
     "name": "stdout",
     "output_type": "stream",
     "text": [
      "{'z': 10.7442977461235, 'T_s': 140.27129, 'T_b': 19.917393, 'T_k': 150.91891, 'x_e': 0.08233063, 'E_phot': Array(113.9974, dtype=float32), 'dE_inj_per_B': Array(3.261888, dtype=float32), 'f_ion': Array(0.06426822, dtype=float32), 'f_exc': Array(0.04307532, dtype=float32), 'f_heat': Array(0.12196906, dtype=float32)}\n",
      "\n",
      "Starting step:  135\n",
      "Currently at:  10.7442977461235\n",
      "Advancing to:  10.628017570419306\n",
      "131 11.221163329250075 11.100161712128788\n",
      "10.7442977461235 11.221163329250075 11.100161712128788 91.1547935439966 68.53575995768205\n",
      "Doing box average\n",
      "132 11.100161712128788 10.980358130820582\n",
      "10.7442977461235 11.100161712128788 10.980358130820582 68.53575995768205 45.80398045057869\n",
      "Injecting\n",
      "133 10.980358130820582 10.861740723584735\n",
      "10.7442977461235 10.980358130820582 10.861740723584735 45.80398045057869 22.958909735809616\n",
      "Injecting\n",
      "134 10.861740723584735 10.7442977461235\n",
      "10.7442977461235 10.861740723584735 10.7442977461235 22.958909735809616 0.0\n",
      "Injecting\n"
     ]
    },
    {
     "name": "stderr",
     "output_type": "stream",
     "text": [
      "\r",
      " 72%|███████▏  | 136/188 [15:28<07:08,  8.23s/it]"
     ]
    },
    {
     "name": "stdout",
     "output_type": "stream",
     "text": [
      "{'z': 10.628017570419306, 'T_s': 144.86896, 'T_b': 19.87117, 'T_k': 155.98799, 'x_e': 0.088054374, 'E_phot': Array(116.138275, dtype=float32), 'dE_inj_per_B': Array(3.3028355, dtype=float32), 'f_ion': Array(0.06412793, dtype=float32), 'f_exc': Array(0.04280189, dtype=float32), 'f_heat': Array(0.12640606, dtype=float32)}\n",
      "\n",
      "Starting step:  136\n",
      "Currently at:  10.628017570419306\n",
      "Advancing to:  10.512888683583471\n",
      "132 11.100161712128788 10.980358130820582\n",
      "10.628017570419306 11.100161712128788 10.980358130820582 91.60905860409576 68.87727918652726\n",
      "Doing box average\n",
      "133 10.980358130820582 10.861740723584735\n",
      "10.628017570419306 10.980358130820582 10.861740723584735 68.87727918652726 46.03220838020282\n",
      "Injecting\n",
      "134 10.861740723584735 10.7442977461235\n",
      "10.628017570419306 10.861740723584735 10.7442977461235 46.03220838020282 23.073298691155692\n",
      "Injecting\n",
      "135 10.7442977461235 10.628017570419306\n",
      "10.628017570419306 10.7442977461235 10.628017570419306 23.073298691155692 0.0\n",
      "Injecting\n"
     ]
    },
    {
     "name": "stderr",
     "output_type": "stream",
     "text": [
      "\r",
      " 73%|███████▎  | 137/188 [15:37<07:12,  8.49s/it]"
     ]
    },
    {
     "name": "stdout",
     "output_type": "stream",
     "text": [
      "{'z': 10.512888683583471, 'T_s': 149.74585, 'T_b': 19.810253, 'T_k': 161.38669, 'x_e': 0.09402479, 'E_phot': Array(118.29854, dtype=float32), 'dE_inj_per_B': Array(3.3438249, dtype=float32), 'f_ion': Array(0.06395294, dtype=float32), 'f_exc': Array(0.04249901, dtype=float32), 'f_heat': Array(0.13098092, dtype=float32)}\n",
      "\n",
      "Starting step:  137\n",
      "Currently at:  10.512888683583471\n",
      "Advancing to:  10.398899686716307\n",
      "133 10.980358130820582 10.861740723584735\n",
      "10.512888683583471 10.980358130820582 10.861740723584735 92.06551896763436 69.22044828680897\n",
      "Doing box average\n",
      "134 10.861740723584735 10.7442977461235\n",
      "10.512888683583471 10.861740723584735 10.7442977461235 69.22044828680897 46.261538452540584\n",
      "Injecting\n",
      "135 10.7442977461235 10.628017570419306\n",
      "10.512888683583471 10.7442977461235 10.628017570419306 46.261538452540584 23.188239721916556\n",
      "Injecting\n",
      "136 10.628017570419306 10.512888683583471\n",
      "10.512888683583471 10.628017570419306 10.512888683583471 23.188239721916556 0.0\n",
      "Injecting\n"
     ]
    },
    {
     "name": "stderr",
     "output_type": "stream",
     "text": [
      "\r",
      " 73%|███████▎  | 138/188 [15:44<06:29,  7.79s/it]"
     ]
    },
    {
     "name": "stdout",
     "output_type": "stream",
     "text": [
      "{'z': 10.398899686716307, 'T_s': 154.90602, 'T_b': 19.721085, 'T_k': 167.12329, 'x_e': 0.10055517, 'E_phot': Array(120.47803, dtype=float32), 'dE_inj_per_B': Array(3.384849, dtype=float32), 'f_ion': Array(0.06374221, dtype=float32), 'f_exc': Array(0.04216626, dtype=float32), 'f_heat': Array(0.13570186, dtype=float32)}\n",
      "\n",
      "Starting step:  138\n",
      "Currently at:  10.398899686716307\n",
      "Advancing to:  10.286039293778522\n",
      "134 10.861740723584735 10.7442977461235\n",
      "10.398899686716307 10.861740723584735 10.7442977461235 92.52418318222328 69.56527347592791\n",
      "Doing box average\n",
      "135 10.7442977461235 10.628017570419306\n",
      "10.398899686716307 10.7442977461235 10.628017570419306 69.56527347592791 46.491974876061384\n",
      "Injecting\n",
      "136 10.628017570419306 10.512888683583471\n",
      "10.398899686716307 10.628017570419306 10.512888683583471 46.491974876061384 23.303735092033065\n",
      "Injecting\n",
      "137 10.512888683583471 10.398899686716307\n",
      "10.398899686716307 10.512888683583471 10.398899686716307 23.303735092033065 0.0\n",
      "Injecting\n"
     ]
    },
    {
     "name": "stderr",
     "output_type": "stream",
     "text": [
      "\r",
      " 74%|███████▍  | 139/188 [15:50<05:55,  7.26s/it]"
     ]
    },
    {
     "name": "stdout",
     "output_type": "stream",
     "text": [
      "{'z': 10.286039293778522, 'T_s': 160.35968, 'T_b': 19.612106, 'T_k': 173.2076, 'x_e': 0.107447624, 'E_phot': Array(122.67659, dtype=float32), 'dE_inj_per_B': Array(3.4259107, dtype=float32), 'f_ion': Array(0.06349142, dtype=float32), 'f_exc': Array(0.04180071, dtype=float32), 'f_heat': Array(0.14066175, dtype=float32)}\n",
      "\n",
      "Starting step:  139\n",
      "Currently at:  10.286039293778522\n",
      "Advancing to:  10.174296330473783\n",
      "135 10.7442977461235 10.628017570419306\n",
      "10.286039293778522 10.7442977461235 10.628017570419306 92.98506038817831 69.9117617673725\n",
      "Doing box average\n",
      "136 10.628017570419306 10.512888683583471\n",
      "10.286039293778522 10.628017570419306 10.512888683583471 69.9117617673725 46.72352196390724\n",
      "Injecting\n",
      "137 10.512888683583471 10.398899686716307\n",
      "10.286039293778522 10.512888683583471 10.398899686716307 46.72352196390724 23.41978689942781\n",
      "Injecting\n",
      "138 10.398899686716307 10.286039293778522\n",
      "10.286039293778522 10.398899686716307 10.286039293778522 23.41978689942781 0.0\n",
      "Injecting\n"
     ]
    },
    {
     "name": "stderr",
     "output_type": "stream",
     "text": [
      "\r",
      " 74%|███████▍  | 140/188 [15:56<05:38,  7.05s/it]"
     ]
    },
    {
     "name": "stdout",
     "output_type": "stream",
     "text": [
      "{'z': 10.174296330473783, 'T_s': 166.12273, 'T_b': 19.488617, 'T_k': 179.66483, 'x_e': 0.11450764, 'E_phot': Array(124.89407, dtype=float32), 'dE_inj_per_B': Array(3.4670084, dtype=float32), 'f_ion': Array(0.06321315, dtype=float32), 'f_exc': Array(0.04141176, dtype=float32), 'f_heat': Array(0.14578718, dtype=float32)}\n",
      "\n",
      "Starting step:  140\n",
      "Currently at:  10.174296330473783\n",
      "Advancing to:  10.06365973314236\n",
      "136 10.628017570419306 10.512888683583471\n",
      "10.174296330473783 10.628017570419306 10.512888683583471 93.44815886849345 70.25991934045209\n",
      "Doing box average\n",
      "137 10.512888683583471 10.398899686716307\n",
      "10.174296330473783 10.512888683583471 10.398899686716307 70.25991934045209 46.95618421416456\n",
      "Injecting\n",
      "138 10.398899686716307 10.286039293778522\n",
      "10.174296330473783 10.398899686716307 10.286039293778522 46.95618421416456 23.536397314505944\n",
      "Injecting\n",
      "139 10.286039293778522 10.174296330473783\n",
      "10.174296330473783 10.286039293778522 10.174296330473783 23.536397314505944 0.0\n",
      "Injecting\n"
     ]
    },
    {
     "name": "stderr",
     "output_type": "stream",
     "text": [
      "\r",
      " 75%|███████▌  | 141/188 [16:03<05:29,  7.02s/it]"
     ]
    },
    {
     "name": "stdout",
     "output_type": "stream",
     "text": [
      "{'z': 10.06365973314236, 'T_s': 172.21033, 'T_b': 19.338764, 'T_k': 186.51445, 'x_e': 0.12211048, 'E_phot': Array(127.130325, dtype=float32), 'dE_inj_per_B': Array(3.5081437, dtype=float32), 'f_ion': Array(0.06294593, dtype=float32), 'f_exc': Array(0.0410223, dtype=float32), 'f_heat': Array(0.15110272, dtype=float32)}\n",
      "\n",
      "Starting step:  141\n",
      "Currently at:  10.06365973314236\n",
      "Advancing to:  9.954118547665704\n",
      "137 10.512888683583471 10.398899686716307\n",
      "10.06365973314236 10.512888683583471 10.398899686716307 93.9134877752878 70.60975257970371\n",
      "Doing box average\n",
      "138 10.398899686716307 10.286039293778522\n",
      "10.06365973314236 10.398899686716307 10.286039293778522 70.60975257970371 47.189965746544765\n",
      "Injecting\n",
      "139 10.286039293778522 10.174296330473783\n",
      "10.06365973314236 10.286039293778522 10.174296330473783 47.189965746544765 23.653568462724373\n",
      "Injecting\n",
      "140 10.174296330473783 10.06365973314236\n",
      "10.06365973314236 10.174296330473783 10.06365973314236 23.653568462724373 0.0\n",
      "Injecting\n"
     ]
    },
    {
     "name": "stderr",
     "output_type": "stream",
     "text": [
      "\r",
      " 76%|███████▌  | 142/188 [16:10<05:17,  6.91s/it]"
     ]
    },
    {
     "name": "stdout",
     "output_type": "stream",
     "text": [
      "{'z': 9.954118547665704, 'T_s': 178.61794, 'T_b': 19.162445, 'T_k': 193.75897, 'x_e': 0.13031112, 'E_phot': Array(129.38521, dtype=float32), 'dE_inj_per_B': Array(3.5493145, dtype=float32), 'f_ion': Array(0.06264348, dtype=float32), 'f_exc': Array(0.04060276, dtype=float32), 'f_heat': Array(0.1566592, dtype=float32)}\n",
      "\n",
      "Starting step:  142\n",
      "Currently at:  9.954118547665704\n",
      "Advancing to:  9.845661928381885\n",
      "138 10.398899686716307 10.286039293778522\n",
      "9.954118547665704 10.398899686716307 10.286039293778522 94.38105511846872 70.9612683243751\n",
      "Doing box average\n",
      "139 10.286039293778522 10.174296330473783\n",
      "9.954118547665704 10.286039293778522 10.174296330473783 70.9612683243751 47.4248710234479\n",
      "Injecting\n",
      "140 10.174296330473783 10.06365973314236\n",
      "9.954118547665704 10.174296330473783 10.06365973314236 47.4248710234479 23.771302533812584\n",
      "Injecting\n",
      "141 10.06365973314236 9.954118547665704\n",
      "9.954118547665704 10.06365973314236 9.954118547665704 23.771302533812584 0.0\n",
      "Injecting\n"
     ]
    },
    {
     "name": "stderr",
     "output_type": "stream",
     "text": [
      "\r",
      " 76%|███████▌  | 143/188 [16:16<05:00,  6.69s/it]"
     ]
    },
    {
     "name": "stdout",
     "output_type": "stream",
     "text": [
      "{'z': 9.845661928381885, 'T_s': 185.43275, 'T_b': 18.983355, 'T_k': 201.42525, 'x_e': 0.1384677, 'E_phot': Array(131.65855, dtype=float32), 'dE_inj_per_B': Array(3.5905197, dtype=float32), 'f_ion': Array(0.06229873, dtype=float32), 'f_exc': Array(0.04014868, dtype=float32), 'f_heat': Array(0.16247101, dtype=float32)}\n",
      "\n",
      "Starting step:  143\n",
      "Currently at:  9.845661928381885\n",
      "Advancing to:  9.738279137011768\n",
      "139 10.286039293778522 10.174296330473783\n",
      "9.845661928381885 10.286039293778522 10.174296330473783 94.85086991208463 71.31447250007419\n",
      "Doing box average\n",
      "140 10.174296330473783 10.06365973314236\n",
      "9.845661928381885 10.174296330473783 10.06365973314236 71.31447250007419 47.66090417921508\n",
      "Injecting\n",
      "141 10.06365973314236 9.954118547665704\n",
      "9.845661928381885 10.06365973314236 9.954118547665704 47.66090417921508 23.889601575637236\n",
      "Injecting\n",
      "142 9.954118547665704 9.845661928381885\n",
      "9.845661928381885 9.954118547665704 9.845661928381885 23.889601575637236 0.0\n",
      "Injecting\n"
     ]
    },
    {
     "name": "stderr",
     "output_type": "stream",
     "text": [
      "\r",
      " 77%|███████▋  | 144/188 [16:24<05:10,  7.05s/it]"
     ]
    },
    {
     "name": "stdout",
     "output_type": "stream",
     "text": [
      "{'z': 9.738279137011768, 'T_s': 192.54454, 'T_b': 18.773317, 'T_k': 209.5323, 'x_e': 0.14734292, 'E_phot': Array(133.95021, dtype=float32), 'dE_inj_per_B': Array(3.6317613, dtype=float32), 'f_ion': Array(0.06193468, dtype=float32), 'f_exc': Array(0.03967595, dtype=float32), 'f_heat': Array(0.16832702, dtype=float32)}\n",
      "\n",
      "Starting step:  144\n",
      "Currently at:  9.738279137011768\n",
      "Advancing to:  9.63195954159581\n",
      "140 10.174296330473783 10.06365973314236\n",
      "9.738279137011768 10.174296330473783 10.06365973314236 95.32294039612901 71.66937193830013\n",
      "Doing box average\n",
      "141 10.06365973314236 9.954118547665704\n",
      "9.738279137011768 10.06365973314236 9.954118547665704 71.66937193830013 47.89806934036017\n",
      "Injecting\n",
      "142 9.954118547665704 9.845661928381885\n",
      "9.738279137011768 9.954118547665704 9.845661928381885 47.89806934036017 24.00846773636124\n",
      "Injecting\n",
      "143 9.845661928381885 9.738279137011768\n",
      "9.738279137011768 9.845661928381885 9.738279137011768 24.00846773636124 0.0\n",
      "Injecting\n"
     ]
    },
    {
     "name": "stderr",
     "output_type": "stream",
     "text": [
      "\r",
      " 77%|███████▋  | 145/188 [16:31<05:10,  7.21s/it]"
     ]
    },
    {
     "name": "stdout",
     "output_type": "stream",
     "text": [
      "{'z': 9.63195954159581, 'T_s': 200.01546, 'T_b': 18.545166, 'T_k': 218.0953, 'x_e': 0.15654187, 'E_phot': Array(136.26004, dtype=float32), 'dE_inj_per_B': Array(3.6730342, dtype=float32), 'f_ion': Array(0.06154582, dtype=float32), 'f_exc': Array(0.03918168, dtype=float32), 'f_heat': Array(0.17452343, dtype=float32)}\n",
      "\n",
      "Starting step:  145\n",
      "Currently at:  9.63195954159581\n",
      "Advancing to:  9.526692615441396\n",
      "141 10.06365973314236 9.954118547665704\n",
      "9.63195954159581 10.06365973314236 9.954118547665704 95.79727508487261 72.02597259530269\n",
      "Doing box average\n",
      "142 9.954118547665704 9.845661928381885\n",
      "9.63195954159581 9.954118547665704 9.845661928381885 72.02597259530269 48.13637089071915\n",
      "Injecting\n",
      "143 9.845661928381885 9.738279137011768\n",
      "9.63195954159581 9.845661928381885 9.738279137011768 48.13637089071915 24.127903145171622\n",
      "Injecting\n",
      "144 9.738279137011768 9.63195954159581\n",
      "9.63195954159581 9.738279137011768 9.63195954159581 24.127903145171622 0.0\n",
      "Injecting\n"
     ]
    },
    {
     "name": "stderr",
     "output_type": "stream",
     "text": [
      "\r",
      " 78%|███████▊  | 146/188 [16:37<04:45,  6.80s/it]"
     ]
    },
    {
     "name": "stdout",
     "output_type": "stream",
     "text": [
      "{'z': 9.526692615441396, 'T_s': 207.83836, 'T_b': 18.296715, 'T_k': 227.15337, 'x_e': 0.16626605, 'E_phot': Array(138.5879, dtype=float32), 'dE_inj_per_B': Array(3.7143419, dtype=float32), 'f_ion': Array(0.06116501, dtype=float32), 'f_exc': Array(0.03868854, dtype=float32), 'f_heat': Array(0.18103546, dtype=float32)}\n",
      "\n",
      "Starting step:  146\n",
      "Currently at:  9.526692615441396\n",
      "Advancing to:  9.42246793608059\n",
      "142 9.954118547665704 9.845661928381885\n",
      "9.526692615441396 9.954118547665704 9.845661928381885 96.27388236109931 72.38428068573218\n",
      "Doing box average\n",
      "143 9.845661928381885 9.738279137011768\n",
      "9.526692615441396 9.845661928381885 9.738279137011768 72.38428068573218 48.37581292104341\n",
      "Injecting\n",
      "144 9.738279137011768 9.63195954159581\n",
      "9.526692615441396 9.738279137011768 9.63195954159581 48.37581292104341 24.247909765576136\n",
      "Injecting\n",
      "145 9.63195954159581 9.526692615441396\n",
      "9.526692615441396 9.63195954159581 9.526692615441396 24.247909765576136 0.0\n",
      "Injecting\n"
     ]
    },
    {
     "name": "stderr",
     "output_type": "stream",
     "text": [
      "\r",
      " 78%|███████▊  | 147/188 [16:45<04:44,  6.93s/it]"
     ]
    },
    {
     "name": "stdout",
     "output_type": "stream",
     "text": [
      "{'z': 9.42246793608059, 'T_s': 216.0539, 'T_b': 18.020552, 'T_k': 236.73314, 'x_e': 0.17667666, 'E_phot': Array(140.93365, dtype=float32), 'dE_inj_per_B': Array(3.7556884, dtype=float32), 'f_ion': Array(0.06075261, dtype=float32), 'f_exc': Array(0.03816815, dtype=float32), 'f_heat': Array(0.18776919, dtype=float32)}\n",
      "\n",
      "Starting step:  147\n",
      "Currently at:  9.42246793608059\n",
      "Advancing to:  9.319275184238208\n",
      "143 9.845661928381885 9.738279137011768\n",
      "9.42246793608059 9.845661928381885 9.738279137011768 96.75277037616388 72.7443026639323\n",
      "Doing box average\n",
      "144 9.738279137011768 9.63195954159581\n",
      "9.42246793608059 9.738279137011768 9.63195954159581 72.7443026639323 48.616399519747034\n",
      "Injecting\n",
      "145 9.63195954159581 9.526692615441396\n",
      "9.42246793608059 9.63195954159581 9.526692615441396 48.616399519747034 24.36848974886316\n",
      "Injecting\n",
      "146 9.526692615441396 9.42246793608059\n",
      "9.42246793608059 9.526692615441396 9.42246793608059 24.36848974886316 0.0\n",
      "Injecting\n"
     ]
    },
    {
     "name": "stderr",
     "output_type": "stream",
     "text": [
      "\r",
      " 79%|███████▊  | 148/188 [16:51<04:30,  6.76s/it]"
     ]
    },
    {
     "name": "stdout",
     "output_type": "stream",
     "text": [
      "{'z': 9.319275184238208, 'T_s': 224.66316, 'T_b': 17.728476, 'T_k': 246.83432, 'x_e': 0.18746562, 'E_phot': Array(143.29713, dtype=float32), 'dE_inj_per_B': Array(3.7970693, dtype=float32), 'f_ion': Array(0.06030252, dtype=float32), 'f_exc': Array(0.03761775, dtype=float32), 'f_heat': Array(0.19476004, dtype=float32)}\n",
      "\n",
      "Starting step:  148\n",
      "Currently at:  9.319275184238208\n",
      "Advancing to:  9.217104142810108\n",
      "144 9.738279137011768 9.63195954159581\n",
      "9.319275184238208 9.738279137011768 9.63195954159581 97.23394781644961 73.10604461273385\n",
      "Doing box average\n",
      "145 9.63195954159581 9.526692615441396\n",
      "9.319275184238208 9.63195954159581 9.526692615441396 73.10604461273385 48.85813487939605\n",
      "Injecting\n",
      "146 9.526692615441396 9.42246793608059\n",
      "9.319275184238208 9.526692615441396 9.42246793608059 48.85813487939605 24.48964508939036\n",
      "Injecting\n",
      "147 9.42246793608059 9.319275184238208\n",
      "9.319275184238208 9.42246793608059 9.319275184238208 24.48964508939036 0.0\n",
      "Injecting\n"
     ]
    },
    {
     "name": "stderr",
     "output_type": "stream",
     "text": [
      "\r",
      " 79%|███████▉  | 149/188 [16:58<04:27,  6.87s/it]"
     ]
    },
    {
     "name": "stdout",
     "output_type": "stream",
     "text": [
      "{'z': 9.217104142810108, 'T_s': 233.73325, 'T_b': 17.404518, 'T_k': 257.4886, 'x_e': 0.19921733, 'E_phot': Array(145.67824, dtype=float32), 'dE_inj_per_B': Array(3.838485, dtype=float32), 'f_ion': Array(0.05981893, dtype=float32), 'f_exc': Array(0.03703883, dtype=float32), 'f_heat': Array(0.20191835, dtype=float32)}\n",
      "\n",
      "Starting step:  149\n",
      "Currently at:  9.217104142810108\n",
      "Advancing to:  9.115944695851592\n",
      "145 9.63195954159581 9.526692615441396\n",
      "9.217104142810108 9.63195954159581 9.526692615441396 97.71742249002013 73.46951274634354\n",
      "Doing box average\n",
      "146 9.526692615441396 9.42246793608059\n",
      "9.217104142810108 9.526692615441396 9.42246793608059 73.46951274634354 49.10102287679945\n",
      "Injecting\n",
      "147 9.42246793608059 9.319275184238208\n",
      "9.217104142810108 9.42246793608059 9.319275184238208 49.10102287679945 24.611377815868938\n",
      "Injecting\n",
      "148 9.319275184238208 9.217104142810108\n",
      "9.217104142810108 9.319275184238208 9.217104142810108 24.611377815868938 0.0\n",
      "Injecting\n"
     ]
    },
    {
     "name": "stderr",
     "output_type": "stream",
     "text": [
      "\r",
      " 80%|███████▉  | 150/188 [17:04<04:12,  6.63s/it]"
     ]
    },
    {
     "name": "stdout",
     "output_type": "stream",
     "text": [
      "{'z': 9.115944695851592, 'T_s': 243.19519, 'T_b': 17.06921, 'T_k': 268.74326, 'x_e': 0.21130735, 'E_phot': Array(148.0768, dtype=float32), 'dE_inj_per_B': Array(3.8799407, dtype=float32), 'f_ion': Array(0.05927139, dtype=float32), 'f_exc': Array(0.03640808, dtype=float32), 'f_heat': Array(0.2094376, dtype=float32)}\n",
      "\n",
      "Starting step:  150\n",
      "Currently at:  9.115944695851592\n",
      "Advancing to:  9.015786827575834\n",
      "146 9.526692615441396 9.42246793608059\n",
      "9.115944695851592 9.526692615441396 9.42246793608059 98.20320256409462 73.83471286047384\n",
      "Doing box average\n",
      "147 9.42246793608059 9.319275184238208\n",
      "9.115944695851592 9.42246793608059 9.319275184238208 73.83471286047384 49.34506773994238\n",
      "Injecting\n",
      "148 9.319275184238208 9.217104142810108\n",
      "9.115944695851592 9.319275184238208 9.217104142810108 49.34506773994238 24.733689937040147\n",
      "Injecting\n",
      "149 9.217104142810108 9.115944695851592\n",
      "9.115944695851592 9.217104142810108 9.115944695851592 24.733689937040147 0.0\n",
      "Injecting\n"
     ]
    },
    {
     "name": "stderr",
     "output_type": "stream",
     "text": [
      "\r",
      " 80%|████████  | 151/188 [17:10<03:54,  6.33s/it]"
     ]
    },
    {
     "name": "stdout",
     "output_type": "stream",
     "text": [
      "{'z': 9.015786827575834, 'T_s': 253.12201, 'T_b': 16.713362, 'T_k': 280.63425, 'x_e': 0.2239648, 'E_phot': Array(150.4927, dtype=float32), 'dE_inj_per_B': Array(3.9214423, dtype=float32), 'f_ion': Array(0.05870664, dtype=float32), 'f_exc': Array(0.03576286, dtype=float32), 'f_heat': Array(0.21707426, dtype=float32)}\n",
      "\n",
      "Starting step:  151\n",
      "Currently at:  9.015786827575834\n",
      "Advancing to:  8.916620621362211\n",
      "147 9.42246793608059 9.319275184238208\n",
      "9.015786827575834 9.42246793608059 9.319275184238208 98.69129629058631 74.20165112159003\n",
      "Doing box average\n",
      "148 9.319275184238208 9.217104142810108\n",
      "9.015786827575834 9.319275184238208 9.217104142810108 74.20165112159003 49.59027330802651\n",
      "Injecting\n",
      "149 9.217104142810108 9.115944695851592\n",
      "9.015786827575834 9.217104142810108 9.115944695851592 49.59027330802651 24.85658343502739\n",
      "Injecting\n",
      "150 9.115944695851592 9.015786827575834\n",
      "9.015786827575834 9.115944695851592 9.015786827575834 24.85658343502739 0.0\n",
      "Injecting\n"
     ]
    },
    {
     "name": "stderr",
     "output_type": "stream",
     "text": [
      "\r",
      " 81%|████████  | 152/188 [17:16<03:44,  6.24s/it]"
     ]
    },
    {
     "name": "stdout",
     "output_type": "stream",
     "text": [
      "{'z': 8.916620621362211, 'T_s': 263.47748, 'T_b': 16.338036, 'T_k': 293.15326, 'x_e': 0.23719354, 'E_phot': Array(152.92581, dtype=float32), 'dE_inj_per_B': Array(3.9629807, dtype=float32), 'f_ion': Array(0.05810927, dtype=float32), 'f_exc': Array(0.03509118, dtype=float32), 'f_heat': Array(0.22492456, dtype=float32)}\n",
      "\n",
      "Starting step:  152\n",
      "Currently at:  8.916620621362211\n",
      "Advancing to:  8.818436258774467\n",
      "148 9.319275184238208 9.217104142810108\n",
      "8.916620621362211 9.319275184238208 9.217104142810108 99.1817112854989 74.57033350210031\n",
      "Doing box average\n",
      "149 9.217104142810108 9.115944695851592\n",
      "8.916620621362211 9.217104142810108 9.115944695851592 74.57033350210031 49.83664355053262\n",
      "Injecting\n",
      "150 9.115944695851592 9.015786827575834\n",
      "8.916620621362211 9.115944695851592 9.015786827575834 49.83664355053262 24.98006017312674\n",
      "Injecting\n",
      "151 9.015786827575834 8.916620621362211\n",
      "8.916620621362211 9.015786827575834 8.916620621362211 24.98006017312674 0.0\n",
      "Injecting\n"
     ]
    },
    {
     "name": "stderr",
     "output_type": "stream",
     "text": [
      "\r",
      " 81%|████████▏ | 153/188 [17:21<03:30,  6.02s/it]"
     ]
    },
    {
     "name": "stdout",
     "output_type": "stream",
     "text": [
      "{'z': 8.818436258774467, 'T_s': 274.33203, 'T_b': 15.938452, 'T_k': 306.35696, 'x_e': 0.2513232, 'E_phot': Array(155.37598, dtype=float32), 'dE_inj_per_B': Array(4.0045614, dtype=float32), 'f_ion': Array(0.05748243, dtype=float32), 'f_exc': Array(0.03439565, dtype=float32), 'f_heat': Array(0.23297161, dtype=float32)}\n",
      "\n",
      "Starting step:  153\n",
      "Currently at:  8.818436258774467\n",
      "Advancing to:  8.72122401858858\n",
      "149 9.217104142810108 9.115944695851592\n",
      "8.818436258774467 9.217104142810108 9.115944695851592 99.67445566513791 74.94076575091661\n",
      "Doing box average\n",
      "150 9.115944695851592 9.015786827575834\n",
      "8.818436258774467 9.115944695851592 9.015786827575834 74.94076575091661 50.08418234552779\n",
      "Doing box average\n",
      "151 9.015786827575834 8.916620621362211\n",
      "8.818436258774467 9.015786827575834 8.916620621362211 50.08418234552779 25.104122203730995\n",
      "Injecting\n",
      "152 8.916620621362211 8.818436258774467\n",
      "8.818436258774467 8.916620621362211 8.818436258774467 25.104122203730995 0.0\n",
      "Injecting\n"
     ]
    },
    {
     "name": "stderr",
     "output_type": "stream",
     "text": [
      "\r",
      " 82%|████████▏ | 154/188 [17:26<03:14,  5.73s/it]"
     ]
    },
    {
     "name": "stdout",
     "output_type": "stream",
     "text": [
      "{'z': 8.72122401858858, 'T_s': 285.69672, 'T_b': 15.53575, 'T_k': 320.30405, 'x_e': 0.26548412, 'E_phot': Array(157.8436, dtype=float32), 'dE_inj_per_B': Array(4.046189, dtype=float32), 'f_ion': Array(0.05680109, dtype=float32), 'f_exc': Array(0.03365519, dtype=float32), 'f_heat': Array(0.2413535, dtype=float32)}\n",
      "\n",
      "Starting step:  154\n",
      "Currently at:  8.72122401858858\n",
      "Advancing to:  8.624974275830278\n",
      "151 9.015786827575834 8.916620621362211\n",
      "8.72122401858858 9.015786827575834 8.916620621362211 75.31295379302951 50.3328935970289\n",
      "Doing box average\n",
      "152 8.916620621362211 8.818436258774467\n",
      "8.72122401858858 8.916620621362211 8.818436258774467 50.3328935970289 25.228771431120794\n",
      "Injecting\n",
      "153 8.818436258774467 8.72122401858858\n",
      "8.72122401858858 8.818436258774467 8.72122401858858 25.228771431120794 0.0\n",
      "Injecting\n"
     ]
    },
    {
     "name": "stderr",
     "output_type": "stream",
     "text": [
      "\r",
      " 82%|████████▏ | 155/188 [17:33<03:16,  5.95s/it]"
     ]
    },
    {
     "name": "stdout",
     "output_type": "stream",
     "text": [
      "{'z': 8.624974275830278, 'T_s': 297.52313, 'T_b': 15.094461, 'T_k': 334.9862, 'x_e': 0.2811293, 'E_phot': Array(160.32756, dtype=float32), 'dE_inj_per_B': Array(4.087862, dtype=float32), 'f_ion': Array(0.05612015, dtype=float32), 'f_exc': Array(0.03291322, dtype=float32), 'f_heat': Array(0.24971391, dtype=float32)}\n",
      "\n",
      "Starting step:  155\n",
      "Currently at:  8.624974275830278\n",
      "Advancing to:  8.529677500822057\n",
      "152 8.916620621362211 8.818436258774467\n",
      "8.624974275830278 8.916620621362211 8.818436258774467 75.68690332771881 50.58278105109266\n",
      "Doing box average\n",
      "153 8.818436258774467 8.72122401858858\n",
      "8.624974275830278 8.818436258774467 8.72122401858858 50.58278105109266 25.354009624267412\n",
      "Injecting\n",
      "154 8.72122401858858 8.624974275830278\n",
      "8.624974275830278 8.72122401858858 8.624974275830278 25.354009624267412 0.0\n",
      "Injecting\n"
     ]
    },
    {
     "name": "stderr",
     "output_type": "stream",
     "text": [
      "\r",
      " 83%|████████▎ | 156/188 [17:39<03:13,  6.05s/it]"
     ]
    },
    {
     "name": "stdout",
     "output_type": "stream",
     "text": [
      "{'z': 8.529677500822057, 'T_s': 309.90298, 'T_b': 14.656989, 'T_k': 350.48563, 'x_e': 0.29675412, 'E_phot': Array(162.82825, dtype=float32), 'dE_inj_per_B': Array(4.1295934, dtype=float32), 'f_ion': Array(0.05536908, dtype=float32), 'f_exc': Array(0.03211724, dtype=float32), 'f_heat': Array(0.25852978, dtype=float32)}\n",
      "\n",
      "Starting step:  156\n",
      "Currently at:  8.529677500822057\n",
      "Advancing to:  8.43532425823966\n",
      "153 8.818436258774467 8.72122401858858\n",
      "8.529677500822057 8.818436258774467 8.72122401858858 76.06261986920921 50.83384837630116\n",
      "Doing box average\n",
      "154 8.72122401858858 8.624974275830278\n",
      "8.529677500822057 8.72122401858858 8.624974275830278 50.83384837630116 25.47983875583349\n",
      "Injecting\n",
      "155 8.624974275830278 8.529677500822057\n",
      "8.529677500822057 8.624974275830278 8.529677500822057 25.47983875583349 0.0\n",
      "Injecting\n"
     ]
    },
    {
     "name": "stderr",
     "output_type": "stream",
     "text": [
      "\r",
      " 84%|████████▎ | 157/188 [17:45<03:04,  5.96s/it]"
     ]
    },
    {
     "name": "stdout",
     "output_type": "stream",
     "text": [
      "{'z': 8.43532425823966, 'T_s': 322.83005, 'T_b': 14.193018, 'T_k': 366.85086, 'x_e': 0.3135522, 'E_phot': Array(165.34554, dtype=float32), 'dE_inj_per_B': Array(4.1713753, dtype=float32), 'f_ion': Array(0.05461751, dtype=float32), 'f_exc': Array(0.03131803, dtype=float32), 'f_heat': Array(0.26731363, dtype=float32)}\n",
      "\n",
      "Starting step:  157\n",
      "Currently at:  8.43532425823966\n",
      "Advancing to:  8.34190520617788\n",
      "154 8.72122401858858 8.624974275830278\n",
      "8.43532425823966 8.72122401858858 8.624974275830278 76.44010899096739 51.08609933335997\n",
      "Doing box average\n",
      "155 8.624974275830278 8.529677500822057\n",
      "8.43532425823966 8.624974275830278 8.529677500822057 51.08609933335997 25.60626055143837\n",
      "Injecting\n",
      "156 8.529677500822057 8.43532425823966\n",
      "8.43532425823966 8.529677500822057 8.43532425823966 25.60626055143837 0.0\n",
      "Injecting\n"
     ]
    },
    {
     "name": "stderr",
     "output_type": "stream",
     "text": [
      "\r",
      " 84%|████████▍ | 158/188 [17:50<02:53,  5.77s/it]"
     ]
    },
    {
     "name": "stdout",
     "output_type": "stream",
     "text": [
      "{'z': 8.34190520617788, 'T_s': 336.29132, 'T_b': 13.709257, 'T_k': 384.10352, 'x_e': 0.33123183, 'E_phot': Array(167.87932, dtype=float32), 'dE_inj_per_B': Array(4.213212, dtype=float32), 'f_ion': Array(0.05381661, dtype=float32), 'f_exc': Array(0.03048085, dtype=float32), 'f_heat': Array(0.27644175, dtype=float32)}\n",
      "\n",
      "Starting step:  158\n",
      "Currently at:  8.34190520617788\n",
      "Advancing to:  8.249411095225625\n",
      "155 8.624974275830278 8.529677500822057\n",
      "8.34190520617788 8.624974275830278 8.529677500822057 76.81937623893029 51.33953750929331\n",
      "Doing box average\n",
      "156 8.529677500822057 8.43532425823966\n",
      "8.34190520617788 8.529677500822057 8.43532425823966 51.33953750929331 25.733276916742078\n",
      "Injecting\n",
      "157 8.43532425823966 8.34190520617788\n",
      "8.34190520617788 8.43532425823966 8.34190520617788 25.733276916742078 0.0\n",
      "Injecting\n"
     ]
    },
    {
     "name": "stderr",
     "output_type": "stream",
     "text": [
      "\r",
      " 85%|████████▍ | 159/188 [17:56<02:44,  5.67s/it]"
     ]
    },
    {
     "name": "stdout",
     "output_type": "stream",
     "text": [
      "{'z': 8.249411095225625, 'T_s': 350.36127, 'T_b': 13.208685, 'T_k': 402.30377, 'x_e': 0.34974006, 'E_phot': Array(170.4295, dtype=float32), 'dE_inj_per_B': Array(4.255113, dtype=float32), 'f_ion': Array(0.05299975, dtype=float32), 'f_exc': Array(0.02962724, dtype=float32), 'f_heat': Array(0.2858561, dtype=float32)}\n",
      "\n",
      "Starting step:  159\n",
      "Currently at:  8.249411095225625\n",
      "Advancing to:  8.157832767550124\n",
      "156 8.529677500822057 8.43532425823966\n",
      "8.249411095225625 8.529677500822057 8.43532425823966 77.20042693383152 51.59416641654287\n",
      "Doing box average\n",
      "157 8.43532425823966 8.34190520617788\n",
      "8.249411095225625 8.43532425823966 8.34190520617788 51.59416641654287 25.860889509329557\n",
      "Injecting\n",
      "158 8.34190520617788 8.249411095225625\n",
      "8.249411095225625 8.34190520617788 8.249411095225625 25.860889509329557 0.0\n",
      "Injecting\n"
     ]
    },
    {
     "name": "stderr",
     "output_type": "stream",
     "text": [
      "\r",
      " 85%|████████▌ | 160/188 [18:00<02:30,  5.38s/it]"
     ]
    },
    {
     "name": "stdout",
     "output_type": "stream",
     "text": [
      "{'z': 8.157832767550124, 'T_s': 365.00623, 'T_b': 12.69393, 'T_k': 421.5244, 'x_e': 0.3689714, 'E_phot': Array(172.99597, dtype=float32), 'dE_inj_per_B': Array(4.2970786, dtype=float32), 'f_ion': Array(0.05215069, dtype=float32), 'f_exc': Array(0.02874556, dtype=float32), 'f_heat': Array(0.29550996, dtype=float32)}\n",
      "\n",
      "Starting step:  160\n",
      "Currently at:  8.157832767550124\n",
      "Advancing to:  8.067161155990222\n",
      "157 8.43532425823966 8.34190520617788\n",
      "8.157832767550124 8.43532425823966 8.34190520617788 77.5832663901417 51.84998952874532\n",
      "Doing box average\n",
      "158 8.34190520617788 8.249411095225625\n",
      "8.157832767550124 8.34190520617788 8.249411095225625 51.84998952874532 25.98910008941968\n",
      "Injecting\n",
      "159 8.249411095225625 8.157832767550124\n",
      "8.157832767550124 8.249411095225625 8.157832767550124 25.98910008941968 0.0\n",
      "Injecting\n"
     ]
    },
    {
     "name": "stderr",
     "output_type": "stream",
     "text": [
      "\r",
      " 86%|████████▌ | 161/188 [18:05<02:20,  5.19s/it]"
     ]
    },
    {
     "name": "stdout",
     "output_type": "stream",
     "text": [
      "{'z': 8.067161155990222, 'T_s': 380.21616, 'T_b': 12.187766, 'T_k': 441.78192, 'x_e': 0.38819414, 'E_phot': Array(175.57866, dtype=float32), 'dE_inj_per_B': Array(4.339111, dtype=float32), 'f_ion': Array(0.05128935, dtype=float32), 'f_exc': Array(0.02785326, dtype=float32), 'f_heat': Array(0.30532262, dtype=float32)}\n",
      "\n",
      "Starting step:  161\n",
      "Currently at:  8.067161155990222\n",
      "Advancing to:  7.977387283158636\n",
      "158 8.34190520617788 8.249411095225625\n",
      "8.067161155990222 8.34190520617788 8.249411095225625 77.96789984400363 52.107010395692164\n",
      "Doing box average\n",
      "159 8.249411095225625 8.157832767550124\n",
      "8.067161155990222 8.249411095225625 8.157832767550124 52.107010395692164 26.117910339205267\n",
      "Injecting\n",
      "160 8.157832767550124 8.067161155990222\n",
      "8.067161155990222 8.157832767550124 8.067161155990222 26.117910339205267 0.0\n",
      "Injecting\n"
     ]
    },
    {
     "name": "stderr",
     "output_type": "stream",
     "text": [
      "\r",
      " 86%|████████▌ | 162/188 [18:10<02:14,  5.17s/it]"
     ]
    },
    {
     "name": "stdout",
     "output_type": "stream",
     "text": [
      "{'z': 7.977387283158636, 'T_s': 396.14252, 'T_b': 11.654611, 'T_k': 463.2083, 'x_e': 0.40884143, 'E_phot': Array(178.17744, dtype=float32), 'dE_inj_per_B': Array(4.3812222, dtype=float32), 'f_ion': Array(0.05043477, dtype=float32), 'f_exc': Array(0.02696482, dtype=float32), 'f_heat': Array(0.3150475, dtype=float32)}\n",
      "\n",
      "Starting step:  162\n",
      "Currently at:  7.977387283158636\n",
      "Advancing to:  7.888502260553105\n",
      "159 8.249411095225625 8.157832767550124\n",
      "7.977387283158636 8.249411095225625 8.157832767550124 78.35433227970897 52.365232208331776\n",
      "Doing box average\n",
      "160 8.157832767550124 8.067161155990222\n",
      "7.977387283158636 8.157832767550124 8.067161155990222 52.365232208331776 26.24732191606782\n",
      "Injecting\n",
      "161 8.067161155990222 7.977387283158636\n",
      "7.977387283158636 8.067161155990222 7.977387283158636 26.24732191606782 0.0\n",
      "Injecting\n"
     ]
    },
    {
     "name": "stderr",
     "output_type": "stream",
     "text": [
      "\r",
      " 87%|████████▋ | 163/188 [18:15<02:05,  5.00s/it]"
     ]
    },
    {
     "name": "stdout",
     "output_type": "stream",
     "text": [
      "{'z': 7.888502260553105, 'T_s': 412.6273, 'T_b': 11.112868, 'T_k': 485.7868, 'x_e': 0.43005282, 'E_phot': Array(180.79227, dtype=float32), 'dE_inj_per_B': Array(4.4234104, dtype=float32), 'f_ion': Array(0.04952105, dtype=float32), 'f_exc': Array(0.02603114, dtype=float32), 'f_heat': Array(0.32514697, dtype=float32)}\n",
      "\n",
      "Starting step:  163\n",
      "Currently at:  7.888502260553105\n",
      "Advancing to:  7.800497287676341\n",
      "160 8.157832767550124 8.067161155990222\n",
      "7.888502260553105 8.157832767550124 8.067161155990222 78.74256880156345 52.62465841662434\n",
      "Doing box average\n",
      "161 8.067161155990222 7.977387283158636\n",
      "7.888502260553105 8.067161155990222 7.977387283158636 52.62465841662434 26.37733646970002\n",
      "Injecting\n",
      "162 7.977387283158636 7.888502260553105\n",
      "7.888502260553105 7.977387283158636 7.888502260553105 26.37733646970002 0.0\n",
      "Injecting\n"
     ]
    },
    {
     "name": "stderr",
     "output_type": "stream",
     "text": [
      "\r",
      " 87%|████████▋ | 164/188 [18:20<02:03,  5.14s/it]"
     ]
    },
    {
     "name": "stdout",
     "output_type": "stream",
     "text": [
      "{'z': 7.800497287676341, 'T_s': 429.75595, 'T_b': 10.578611, 'T_k': 509.65582, 'x_e': 0.45113456, 'E_phot': Array(183.42305, dtype=float32), 'dE_inj_per_B': Array(4.4656816, dtype=float32), 'f_ion': Array(0.04862236, dtype=float32), 'f_exc': Array(0.02510802, dtype=float32), 'f_heat': Array(0.3353131, dtype=float32)}\n",
      "\n",
      "Starting step:  164\n",
      "Currently at:  7.800497287676341\n",
      "Advancing to:  7.713363651164695\n",
      "161 8.067161155990222 7.977387283158636\n",
      "7.800497287676341 8.067161155990222 7.977387283158636 79.13261394929948 52.88529198772762\n",
      "Doing box average\n",
      "162 7.977387283158636 7.888502260553105\n",
      "7.800497287676341 7.977387283158636 7.888502260553105 52.88529198772762 26.50795555825487\n",
      "Injecting\n",
      "163 7.888502260553105 7.800497287676341\n",
      "7.800497287676341 7.888502260553105 7.800497287676341 26.50795555825487 0.0\n",
      "Injecting\n"
     ]
    },
    {
     "name": "stderr",
     "output_type": "stream",
     "text": [
      "\r",
      " 88%|████████▊ | 165/188 [18:26<02:00,  5.25s/it]"
     ]
    },
    {
     "name": "stdout",
     "output_type": "stream",
     "text": [
      "{'z': 7.713363651164695, 'T_s': 447.4782, 'T_b': 10.016514, 'T_k': 534.78876, 'x_e': 0.473902, 'E_phot': Array(186.06973, dtype=float32), 'dE_inj_per_B': Array(4.5080338, dtype=float32), 'f_ion': Array(0.04775753, dtype=float32), 'f_exc': Array(0.02421205, dtype=float32), 'f_heat': Array(0.3453375, dtype=float32)}\n",
      "\n",
      "Starting step:  165\n",
      "Currently at:  7.713363651164695\n",
      "Advancing to:  7.62709272392544\n",
      "162 7.977387283158636 7.888502260553105\n",
      "7.713363651164695 7.977387283158636 7.888502260553105 79.5244725716257 53.147136189392306\n",
      "Doing box average\n",
      "163 7.888502260553105 7.800497287676341\n",
      "7.713363651164695 7.888502260553105 7.800497287676341 53.147136189392306 26.63918066427725\n",
      "Injecting\n",
      "164 7.800497287676341 7.713363651164695\n",
      "7.713363651164695 7.800497287676341 7.713363651164695 26.63918066427725 0.0\n",
      "Injecting\n"
     ]
    },
    {
     "name": "stderr",
     "output_type": "stream",
     "text": [
      "\r",
      " 88%|████████▊ | 166/188 [18:31<01:58,  5.39s/it]"
     ]
    },
    {
     "name": "stdout",
     "output_type": "stream",
     "text": [
      "{'z': 7.62709272392544, 'T_s': 465.8051, 'T_b': 9.466536, 'T_k': 561.30145, 'x_e': 0.4964841, 'E_phot': Array(188.73222, dtype=float32), 'dE_inj_per_B': Array(4.550482, dtype=float32), 'f_ion': Array(0.0468557, dtype=float32), 'f_exc': Array(0.02329285, dtype=float32), 'f_heat': Array(0.35571548, dtype=float32)}\n",
      "\n",
      "Starting step:  166\n",
      "Currently at:  7.62709272392544\n",
      "Advancing to:  7.541675964282614\n",
      "163 7.888502260553105 7.800497287676341\n",
      "7.62709272392544 7.888502260553105 7.800497287676341 79.91814961866447 53.41019398518858\n",
      "Doing box average\n",
      "164 7.800497287676341 7.713363651164695\n",
      "7.62709272392544 7.800497287676341 7.713363651164695 53.41019398518858 26.771013324868925\n",
      "Injecting\n",
      "165 7.713363651164695 7.62709272392544\n",
      "7.62709272392544 7.713363651164695 7.62709272392544 26.771013324868925 0.0\n",
      "Injecting\n"
     ]
    },
    {
     "name": "stderr",
     "output_type": "stream",
     "text": [
      "\r",
      " 89%|████████▉ | 167/188 [18:37<01:54,  5.44s/it]"
     ]
    },
    {
     "name": "stdout",
     "output_type": "stream",
     "text": [
      "{'z': 7.541675964282614, 'T_s': 484.72083, 'T_b': 8.92564, 'T_k': 589.19196, 'x_e': 0.5191772, 'E_phot': Array(191.41049, dtype=float32), 'dE_inj_per_B': Array(4.593031, dtype=float32), 'f_ion': Array(0.04601076, dtype=float32), 'f_exc': Array(0.02242091, dtype=float32), 'f_heat': Array(0.36586687, dtype=float32)}\n",
      "\n",
      "Starting step:  167\n",
      "Currently at:  7.541675964282614\n",
      "Advancing to:  7.457104915131302\n",
      "164 7.800497287676341 7.713363651164695\n",
      "7.541675964282614 7.800497287676341 7.713363651164695 80.31364888501561 53.67446830685204\n",
      "Doing box average\n",
      "165 7.713363651164695 7.62709272392544\n",
      "7.541675964282614 7.713363651164695 7.62709272392544 53.67446830685204 26.90345495780815\n",
      "Injecting\n",
      "166 7.62709272392544 7.541675964282614\n",
      "7.541675964282614 7.62709272392544 7.541675964282614 26.90345495780815 0.0\n",
      "Injecting\n"
     ]
    },
    {
     "name": "stderr",
     "output_type": "stream",
     "text": [
      "\r",
      " 89%|████████▉ | 168/188 [18:42<01:48,  5.44s/it]"
     ]
    },
    {
     "name": "stdout",
     "output_type": "stream",
     "text": [
      "{'z': 7.457104915131302, 'T_s': 504.15775, 'T_b': 8.386142, 'T_k': 618.46027, 'x_e': 0.5422648, 'E_phot': Array(194.10445, dtype=float32), 'dE_inj_per_B': Array(4.6356826, dtype=float32), 'f_ion': Array(0.04518775, dtype=float32), 'f_exc': Array(0.0215696, dtype=float32), 'f_heat': Array(0.3759069, dtype=float32)}\n",
      "\n",
      "Starting step:  168\n",
      "Currently at:  7.457104915131302\n",
      "Advancing to:  7.373371203100298\n",
      "165 7.713363651164695 7.62709272392544\n",
      "7.457104915131302 7.713363651164695 7.62709272392544 80.71097525977265 53.93996190247312\n",
      "Doing box average\n",
      "166 7.62709272392544 7.541675964282614\n",
      "7.457104915131302 7.62709272392544 7.541675964282614 53.93996190247312 27.036506979939187\n",
      "Injecting\n",
      "167 7.541675964282614 7.457104915131302\n",
      "7.457104915131302 7.541675964282614 7.457104915131302 27.036506979939187 0.0\n",
      "Injecting\n"
     ]
    },
    {
     "name": "stderr",
     "output_type": "stream",
     "text": [
      "\r",
      " 90%|████████▉ | 169/188 [18:48<01:43,  5.47s/it]"
     ]
    },
    {
     "name": "stdout",
     "output_type": "stream",
     "text": [
      "{'z': 7.373371203100298, 'T_s': 524.0898, 'T_b': 7.8470435, 'T_k': 649.16565, 'x_e': 0.56572175, 'E_phot': Array(196.81407, dtype=float32), 'dE_inj_per_B': Array(4.6784472, dtype=float32), 'f_ion': Array(0.04438817, dtype=float32), 'f_exc': Array(0.02073564, dtype=float32), 'f_heat': Array(0.385909, dtype=float32)}\n",
      "\n",
      "Starting step:  169\n",
      "Currently at:  7.373371203100298\n",
      "Advancing to:  7.290466537723066\n",
      "166 7.62709272392544 7.541675964282614\n",
      "7.373371203100298 7.62709272392544 7.541675964282614 81.11013278084573 54.20667769841099\n",
      "Doing box average\n",
      "167 7.541675964282614 7.457104915131302\n",
      "7.373371203100298 7.541675964282614 7.457104915131302 54.20667769841099 27.17017072006883\n",
      "Injecting\n",
      "168 7.457104915131302 7.373371203100298\n",
      "7.373371203100298 7.457104915131302 7.373371203100298 27.17017072006883 0.0\n",
      "Injecting\n"
     ]
    },
    {
     "name": "stderr",
     "output_type": "stream",
     "text": [
      "\r",
      " 90%|█████████ | 170/188 [18:53<01:37,  5.42s/it]"
     ]
    },
    {
     "name": "stdout",
     "output_type": "stream",
     "text": [
      "{'z': 7.290466537723066, 'T_s': 544.5269, 'T_b': 7.3267455, 'T_k': 681.41187, 'x_e': 0.588661, 'E_phot': Array(199.53932, dtype=float32), 'dE_inj_per_B': Array(4.7213235, dtype=float32), 'f_ion': Array(0.04358558, dtype=float32), 'f_exc': Array(0.01989683, dtype=float32), 'f_heat': Array(0.39592817, dtype=float32)}\n",
      "\n",
      "Starting step:  170\n",
      "Currently at:  7.290466537723066\n",
      "Advancing to:  7.208382710616897\n",
      "167 7.541675964282614 7.457104915131302\n",
      "7.290466537723066 7.541675964282614 7.457104915131302 81.51112528533505 54.47461826763821\n",
      "Doing box average\n",
      "168 7.457104915131302 7.373371203100298\n",
      "7.290466537723066 7.457104915131302 7.373371203100298 54.47461826763821 27.30444750770461\n",
      "Injecting\n",
      "169 7.373371203100298 7.290466537723066\n",
      "7.290466537723066 7.373371203100298 7.290466537723066 27.30444750770461 0.0\n",
      "Injecting\n"
     ]
    },
    {
     "name": "stderr",
     "output_type": "stream",
     "text": [
      "\r",
      " 91%|█████████ | 171/188 [18:59<01:31,  5.38s/it]"
     ]
    },
    {
     "name": "stdout",
     "output_type": "stream",
     "text": [
      "{'z': 7.208382710616897, 'T_s': 565.34186, 'T_b': 6.804967, 'T_k': 715.0941, 'x_e': 0.612358, 'E_phot': Array(202.28017, dtype=float32), 'dE_inj_per_B': Array(4.76432, dtype=float32), 'f_ion': Array(0.04284381, dtype=float32), 'f_exc': Array(0.01910101, dtype=float32), 'f_heat': Array(0.40590757, dtype=float32)}\n",
      "\n",
      "Starting step:  171\n",
      "Currently at:  7.208382710616897\n",
      "Advancing to:  7.127111594670195\n",
      "168 7.457104915131302 7.373371203100298\n",
      "7.208382710616897 7.457104915131302 7.373371203100298 81.91395672187845 54.743785977193255\n",
      "Doing box average\n",
      "169 7.373371203100298 7.290466537723066\n",
      "7.208382710616897 7.373371203100298 7.290466537723066 54.743785977193255 27.43933850438484\n",
      "Injecting\n",
      "170 7.290466537723066 7.208382710616897\n",
      "7.208382710616897 7.290466537723066 7.208382710616897 27.43933850438484 0.0\n",
      "Injecting\n"
     ]
    },
    {
     "name": "stderr",
     "output_type": "stream",
     "text": [
      "\r",
      " 91%|█████████▏| 172/188 [19:03<01:23,  5.20s/it]"
     ]
    },
    {
     "name": "stdout",
     "output_type": "stream",
     "text": [
      "{'z': 7.127111594670195, 'T_s': 586.5691, 'T_b': 6.318805, 'T_k': 750.4487, 'x_e': 0.63474464, 'E_phot': Array(205.03658, dtype=float32), 'dE_inj_per_B': Array(4.807449, dtype=float32), 'f_ion': Array(0.04211576, dtype=float32), 'f_exc': Array(0.01831274, dtype=float32), 'f_heat': Array(0.41617742, dtype=float32)}\n",
      "\n",
      "Starting step:  172\n",
      "Currently at:  7.127111594670195\n",
      "Advancing to:  7.046645143237816\n",
      "169 7.373371203100298 7.290466537723066\n",
      "7.127111594670195 7.373371203100298 7.290466537723066 82.31863083644261 55.01418338572453\n",
      "Doing box average\n",
      "170 7.290466537723066 7.208382710616897\n",
      "7.127111594670195 7.290466537723066 7.208382710616897 55.01418338572453 27.57484482721906\n",
      "Injecting\n",
      "171 7.208382710616897 7.127111594670195\n",
      "7.127111594670195 7.208382710616897 7.127111594670195 27.57484482721906 0.0\n",
      "Injecting\n"
     ]
    },
    {
     "name": "stderr",
     "output_type": "stream",
     "text": [
      "\r",
      " 92%|█████████▏| 173/188 [19:12<01:32,  6.16s/it]"
     ]
    },
    {
     "name": "stdout",
     "output_type": "stream",
     "text": [
      "{'z': 7.046645143237816, 'T_s': 608.0325, 'T_b': 5.829714, 'T_k': 787.18567, 'x_e': 0.657857, 'E_phot': Array(207.80852, dtype=float32), 'dE_inj_per_B': Array(4.8507185, dtype=float32), 'f_ion': Array(0.04146348, dtype=float32), 'f_exc': Array(0.01757808, dtype=float32), 'f_heat': Array(0.42601535, dtype=float32)}\n",
      "\n",
      "Starting step:  173\n",
      "Currently at:  7.046645143237816\n",
      "Advancing to:  6.966975389344372\n",
      "170 7.290466537723066 7.208382710616897\n",
      "7.046645143237816 7.290466537723066 7.208382710616897 82.72515107317285 55.28581262071901\n",
      "Doing box average\n",
      "171 7.208382710616897 7.127111594670195\n",
      "7.046645143237816 7.208382710616897 7.127111594670195 55.28581262071901 27.710967794256497\n",
      "Injecting\n",
      "172 7.127111594670195 7.046645143237816\n",
      "7.046645143237816 7.127111594670195 7.046645143237816 27.710967794256497 0.0\n",
      "Injecting\n"
     ]
    },
    {
     "name": "stderr",
     "output_type": "stream",
     "text": [
      "\r",
      " 93%|█████████▎| 174/188 [19:17<01:22,  5.86s/it]"
     ]
    },
    {
     "name": "stdout",
     "output_type": "stream",
     "text": [
      "{'z': 6.966975389344372, 'T_s': 630.32715, 'T_b': 5.376562, 'T_k': 825.47504, 'x_e': 0.67954814, 'E_phot': Array(210.596, dtype=float32), 'dE_inj_per_B': Array(4.8941274, dtype=float32), 'f_ion': Array(0.04079822, dtype=float32), 'f_exc': Array(0.01683338, dtype=float32), 'f_heat': Array(0.43595836, dtype=float32)}\n",
      "\n",
      "Starting step:  174\n",
      "Currently at:  6.966975389344372\n",
      "Advancing to:  6.888094444895418\n",
      "171 7.208382710616897 7.127111594670195\n",
      "6.966975389344372 7.208382710616897 7.127111594670195 83.13352097079708 55.55867623601484\n",
      "Doing box average\n",
      "172 7.127111594670195 7.046645143237816\n",
      "6.966975389344372 7.127111594670195 7.046645143237816 55.55867623601484 27.847708300566193\n",
      "Injecting\n",
      "173 7.046645143237816 6.966975389344372\n",
      "6.966975389344372 7.046645143237816 6.966975389344372 27.847708300566193 0.0\n",
      "Injecting\n"
     ]
    },
    {
     "name": "stderr",
     "output_type": "stream",
     "text": [
      "\r",
      " 93%|█████████▎| 175/188 [19:22<01:11,  5.53s/it]"
     ]
    },
    {
     "name": "stdout",
     "output_type": "stream",
     "text": [
      "{'z': 6.888094444895418, 'T_s': 652.23553, 'T_b': 4.932907, 'T_k': 865.38904, 'x_e': 0.7014647, 'E_phot': Array(213.399, dtype=float32), 'dE_inj_per_B': Array(4.937689, dtype=float32), 'f_ion': Array(0.04021486, dtype=float32), 'f_exc': Array(0.01614814, dtype=float32), 'f_heat': Array(0.4454177, dtype=float32)}\n",
      "\n",
      "Starting step:  175\n",
      "Currently at:  6.888094444895418\n",
      "Advancing to:  6.809994499896454\n",
      "172 7.127111594670195 7.046645143237816\n",
      "6.888094444895418 7.127111594670195 7.046645143237816 83.54374357134762 55.832775663922725\n",
      "Doing box average\n",
      "173 7.046645143237816 6.966975389344372\n",
      "6.888094444895418 7.046645143237816 6.966975389344372 55.832775663922725 27.98506740580026\n",
      "Injecting\n",
      "174 6.966975389344372 6.888094444895418\n",
      "6.888094444895418 6.966975389344372 6.888094444895418 27.98506740580026 0.0\n",
      "Injecting\n"
     ]
    },
    {
     "name": "stderr",
     "output_type": "stream",
     "text": [
      "\r",
      " 94%|█████████▎| 176/188 [19:26<01:03,  5.29s/it]"
     ]
    },
    {
     "name": "stdout",
     "output_type": "stream",
     "text": [
      "{'z': 6.809994499896454, 'T_s': 674.0586, 'T_b': 4.4996285, 'T_k': 906.3767, 'x_e': 0.7231689, 'E_phot': Array(216.21754, dtype=float32), 'dE_inj_per_B': Array(4.981414, dtype=float32), 'f_ion': Array(0.03965547, dtype=float32), 'f_exc': Array(0.01548189, dtype=float32), 'f_heat': Array(0.4547964, dtype=float32)}\n",
      "\n",
      "Starting step:  176\n",
      "Currently at:  6.809994499896454\n",
      "Advancing to:  6.732667821679657\n",
      "173 7.046645143237816 6.966975389344372\n",
      "6.809994499896454 7.046645143237816 6.966975389344372 83.95582171814779 56.10811336256323\n",
      "Doing box average\n",
      "174 6.966975389344372 6.888094444895418\n",
      "6.809994499896454 6.966975389344372 6.888094444895418 56.10811336256323 28.123045979092293\n",
      "Injecting\n",
      "175 6.888094444895418 6.809994499896454\n",
      "6.809994499896454 6.888094444895418 6.809994499896454 28.123045979092293 0.0\n",
      "Injecting\n"
     ]
    },
    {
     "name": "stderr",
     "output_type": "stream",
     "text": [
      "\r",
      " 94%|█████████▍| 177/188 [19:31<00:56,  5.14s/it]"
     ]
    },
    {
     "name": "stdout",
     "output_type": "stream",
     "text": [
      "{'z': 6.732667821679657, 'T_s': 695.49817, 'T_b': 4.0955706, 'T_k': 948.2717, 'x_e': 0.74374574, 'E_phot': Array(219.05162, dtype=float32), 'dE_inj_per_B': Array(5.0252953, dtype=float32), 'f_ion': Array(0.03912459, dtype=float32), 'f_exc': Array(0.01483473, dtype=float32), 'f_heat': Array(0.4640821, dtype=float32)}\n",
      "\n",
      "Starting step:  177\n",
      "Currently at:  6.732667821679657\n",
      "Advancing to:  6.656106754138274\n",
      "174 6.966975389344372 6.888094444895418\n",
      "6.732667821679657 6.966975389344372 6.888094444895418 84.36975840887895 56.384690848292166\n",
      "Doing box average\n",
      "175 6.888094444895418 6.809994499896454\n",
      "6.732667821679657 6.888094444895418 6.809994499896454 56.384690848292166 28.26164487136707\n",
      "Injecting\n",
      "176 6.809994499896454 6.732667821679657\n",
      "6.732667821679657 6.809994499896454 6.732667821679657 28.26164487136707 0.0\n",
      "Injecting\n"
     ]
    },
    {
     "name": "stderr",
     "output_type": "stream",
     "text": [
      "\r",
      " 95%|█████████▍| 178/188 [19:36<00:50,  5.01s/it]"
     ]
    },
    {
     "name": "stdout",
     "output_type": "stream",
     "text": [
      "{'z': 6.656106754138274, 'T_s': 716.057, 'T_b': 3.708856, 'T_k': 990.17816, 'x_e': 0.7638982, 'E_phot': Array(221.90128, dtype=float32), 'dE_inj_per_B': Array(5.06936, dtype=float32), 'f_ion': Array(0.03867944, dtype=float32), 'f_exc': Array(0.014247, dtype=float32), 'f_heat': Array(0.47309542, dtype=float32)}\n",
      "\n",
      "Starting step:  178\n",
      "Currently at:  6.656106754138274\n",
      "Advancing to:  6.580303716968588\n",
      "175 6.888094444895418 6.809994499896454\n",
      "6.656106754138274 6.888094444895418 6.809994499896454 84.78555585969858 56.66250980190499\n",
      "Doing box average\n",
      "176 6.809994499896454 6.732667821679657\n",
      "6.656106754138274 6.809994499896454 6.732667821679657 56.66250980190499 28.40086490925416\n",
      "Injecting\n",
      "177 6.732667821679657 6.656106754138274\n",
      "6.656106754138274 6.732667821679657 6.656106754138274 28.40086490925416 0.0\n",
      "Injecting\n"
     ]
    },
    {
     "name": "stderr",
     "output_type": "stream",
     "text": [
      "\r",
      " 95%|█████████▌| 179/188 [19:41<00:44,  4.92s/it]"
     ]
    },
    {
     "name": "stdout",
     "output_type": "stream",
     "text": [
      "{'z': 6.580303716968588, 'T_s': 736.261, 'T_b': 3.3471947, 'T_k': 1032.0707, 'x_e': 0.7830847, 'E_phot': Array(224.76653, dtype=float32), 'dE_inj_per_B': Array(5.1136093, dtype=float32), 'f_ion': Array(0.03827591, dtype=float32), 'f_exc': Array(0.01369077, dtype=float32), 'f_heat': Array(0.4819146, dtype=float32)}\n",
      "\n",
      "Starting step:  179\n",
      "Currently at:  6.580303716968588\n",
      "Advancing to:  6.505251204919395\n",
      "176 6.809994499896454 6.732667821679657\n",
      "6.580303716968588 6.809994499896454 6.732667821679657 85.20321659983182 56.94157167172303\n",
      "Doing box average\n",
      "177 6.732667821679657 6.656106754138274\n",
      "6.580303716968588 6.732667821679657 6.656106754138274 56.94157167172303 28.54070669102516\n",
      "Injecting\n",
      "178 6.656106754138274 6.580303716968588\n",
      "6.580303716968588 6.656106754138274 6.580303716968588 28.54070669102516 0.0\n",
      "Injecting\n"
     ]
    },
    {
     "name": "stderr",
     "output_type": "stream",
     "text": [
      "\r",
      " 96%|█████████▌| 180/188 [19:46<00:40,  5.04s/it]"
     ]
    },
    {
     "name": "stdout",
     "output_type": "stream",
     "text": [
      "{'z': 6.505251204919395, 'T_s': 755.0871, 'T_b': 3.005225, 'T_k': 1073.9135, 'x_e': 0.8018395, 'E_phot': Array(227.64742, dtype=float32), 'dE_inj_per_B': Array(5.1580606, dtype=float32), 'f_ion': Array(0.03794416, dtype=float32), 'f_exc': Array(0.01318853, dtype=float32), 'f_heat': Array(0.49039036, dtype=float32)}\n",
      "\n",
      "Starting step:  180\n",
      "Currently at:  6.505251204919395\n",
      "Advancing to:  6.430941787048906\n",
      "177 6.732667821679657 6.656106754138274\n",
      "6.505251204919395 6.732667821679657 6.656106754138274 85.62274256912012 57.22187772679253\n",
      "Doing box average\n",
      "178 6.656106754138274 6.580303716968588\n",
      "6.505251204919395 6.656106754138274 6.580303716968588 57.22187772679253 28.681170924590166\n",
      "Injecting\n",
      "179 6.580303716968588 6.505251204919395\n",
      "6.505251204919395 6.580303716968588 6.505251204919395 28.681170924590166 0.0\n",
      "Injecting\n"
     ]
    },
    {
     "name": "stderr",
     "output_type": "stream",
     "text": [
      "\r",
      " 96%|█████████▋| 181/188 [19:51<00:36,  5.18s/it]"
     ]
    },
    {
     "name": "stdout",
     "output_type": "stream",
     "text": [
      "{'z': 6.430941787048906, 'T_s': 773.0947, 'T_b': 2.687244, 'T_k': 1115.6846, 'x_e': 0.81949294, 'E_phot': Array(230.54398, dtype=float32), 'dE_inj_per_B': Array(5.202711, dtype=float32), 'f_ion': Array(0.03764029, dtype=float32), 'f_exc': Array(0.01270666, dtype=float32), 'f_heat': Array(0.49868095, dtype=float32)}\n",
      "\n",
      "Starting step:  181\n",
      "Currently at:  6.430941787048906\n",
      "Advancing to:  6.357368105989016\n",
      "178 6.656106754138274 6.580303716968588\n",
      "6.430941787048906 6.656106754138274 6.580303716968588 86.04413581535022 57.50342912306704\n",
      "Doing box average\n",
      "179 6.580303716968588 6.505251204919395\n",
      "6.430941787048906 6.580303716968588 6.505251204919395 57.50342912306704 28.822258172255008\n",
      "Injecting\n",
      "180 6.505251204919395 6.430941787048906\n",
      "6.430941787048906 6.505251204919395 6.430941787048906 28.822258172255008 0.0\n",
      "Injecting\n"
     ]
    },
    {
     "name": "stderr",
     "output_type": "stream",
     "text": [
      "\r",
      " 97%|█████████▋| 182/188 [19:58<00:33,  5.64s/it]"
     ]
    },
    {
     "name": "stdout",
     "output_type": "stream",
     "text": [
      "{'z': 6.357368105989016, 'T_s': 790.2112, 'T_b': 2.3832805, 'T_k': 1157.3551, 'x_e': 0.8368378, 'E_phot': Array(233.4563, dtype=float32), 'dE_inj_per_B': Array(5.247578, dtype=float32), 'f_ion': Array(0.03740591, dtype=float32), 'f_exc': Array(0.012277, dtype=float32), 'f_heat': Array(0.5066167, dtype=float32)}\n",
      "\n",
      "Starting step:  182\n",
      "Currently at:  6.357368105989016\n",
      "Advancing to:  6.2845228772168475\n",
      "179 6.580303716968588 6.505251204919395\n",
      "6.357368105989016 6.580303716968588 6.505251204919395 86.46739788609558 57.786226897304246\n",
      "Doing box average\n",
      "180 6.505251204919395 6.430941787048906\n",
      "6.357368105989016 6.505251204919395 6.430941787048906 57.786226897304246 28.963968751276678\n",
      "Injecting\n",
      "181 6.430941787048906 6.357368105989016\n",
      "6.357368105989016 6.430941787048906 6.357368105989016 28.963968751276678 0.0\n",
      "Injecting\n"
     ]
    },
    {
     "name": "stderr",
     "output_type": "stream",
     "text": [
      "\r",
      " 97%|█████████▋| 183/188 [20:03<00:26,  5.39s/it]"
     ]
    },
    {
     "name": "stdout",
     "output_type": "stream",
     "text": [
      "{'z': 6.2845228772168475, 'T_s': 806.31354, 'T_b': 2.112195, 'T_k': 1198.8861, 'x_e': 0.8524777, 'E_phot': Array(236.38443, dtype=float32), 'dE_inj_per_B': Array(5.292671, dtype=float32), 'f_ion': Array(0.0372025, dtype=float32), 'f_exc': Array(0.01187053, dtype=float32), 'f_heat': Array(0.5144137, dtype=float32)}\n",
      "\n",
      "Starting step:  183\n",
      "Currently at:  6.2845228772168475\n",
      "Advancing to:  6.212398888333512\n",
      "180 6.505251204919395 6.430941787048906\n",
      "6.2845228772168475 6.505251204919395 6.430941787048906 86.89253002856553 58.07027192076252\n",
      "Doing box average\n",
      "181 6.430941787048906 6.357368105989016\n",
      "6.2845228772168475 6.430941787048906 6.357368105989016 58.07027192076252 29.106303091439724\n",
      "Injecting\n",
      "182 6.357368105989016 6.2845228772168475\n",
      "6.2845228772168475 6.357368105989016 6.2845228772168475 29.106303091439724 0.0\n",
      "Injecting\n"
     ]
    },
    {
     "name": "stderr",
     "output_type": "stream",
     "text": [
      "\r",
      " 98%|█████████▊| 184/188 [20:08<00:20,  5.18s/it]"
     ]
    },
    {
     "name": "stdout",
     "output_type": "stream",
     "text": [
      "{'z': 6.212398888333512, 'T_s': 821.6771, 'T_b': 1.8552997, 'T_k': 1240.251, 'x_e': 0.8678947, 'E_phot': Array(239.32846, dtype=float32), 'dE_inj_per_B': Array(5.3380046, dtype=float32), 'f_ion': Array(0.03708712, dtype=float32), 'f_exc': Array(0.01153004, dtype=float32), 'f_heat': Array(0.52173346, dtype=float32)}\n",
      "\n",
      "Starting step:  184\n",
      "Currently at:  6.212398888333512\n",
      "Advancing to:  6.140988998350012\n",
      "181 6.430941787048906 6.357368105989016\n",
      "6.212398888333512 6.430941787048906 6.357368105989016 87.31953344532468 58.355564626020325\n",
      "Doing box average\n",
      "182 6.357368105989016 6.2845228772168475\n",
      "6.212398888333512 6.357368105989016 6.2845228772168475 58.355564626020325 29.249261506587402\n",
      "Injecting\n",
      "183 6.2845228772168475 6.212398888333512\n",
      "6.212398888333512 6.2845228772168475 6.212398888333512 29.249261506587402 0.0\n",
      "Injecting\n"
     ]
    },
    {
     "name": "stderr",
     "output_type": "stream",
     "text": [
      "\r",
      " 98%|█████████▊| 185/188 [20:14<00:16,  5.54s/it]"
     ]
    },
    {
     "name": "stdout",
     "output_type": "stream",
     "text": [
      "{'z': 6.140988998350012, 'T_s': 835.96985, 'T_b': 1.615696, 'T_k': 1281.4191, 'x_e': 0.8824843, 'E_phot': Array(242.28847, dtype=float32), 'dE_inj_per_B': Array(5.383589, dtype=float32), 'f_ion': Array(0.03699071, dtype=float32), 'f_exc': Array(0.01120445, dtype=float32), 'f_heat': Array(0.52893573, dtype=float32)}\n",
      "\n",
      "Starting step:  185\n",
      "Currently at:  6.140988998350012\n",
      "Advancing to:  6.07028613698021\n",
      "182 6.357368105989016 6.2845228772168475\n",
      "6.140988998350012 6.357368105989016 6.2845228772168475 87.74840866513499 58.6421056329074\n",
      "Doing box average\n",
      "183 6.2845228772168475 6.212398888333512\n",
      "6.140988998350012 6.2845228772168475 6.212398888333512 58.6421056329074 29.392844059408475\n",
      "Injecting\n",
      "184 6.212398888333512 6.140988998350012\n",
      "6.140988998350012 6.212398888333512 6.140988998350012 29.392844059408475 0.0\n",
      "Injecting\n"
     ]
    },
    {
     "name": "stderr",
     "output_type": "stream",
     "text": [
      "\r",
      " 99%|█████████▉| 186/188 [20:19<00:10,  5.33s/it]"
     ]
    },
    {
     "name": "stdout",
     "output_type": "stream",
     "text": [
      "{'z': 6.07028613698021, 'T_s': 849.2344, 'T_b': 1.3929844, 'T_k': 1322.3502, 'x_e': 0.8965277, 'E_phot': Array(245.26456, dtype=float32), 'dE_inj_per_B': Array(5.429436, dtype=float32), 'f_ion': Array(0.03694892, dtype=float32), 'f_exc': Array(0.01091884, dtype=float32), 'f_heat': Array(0.5359005, dtype=float32)}\n",
      "\n",
      "Starting step:  186\n",
      "Currently at:  6.07028613698021\n",
      "Advancing to:  6.000283303940802\n",
      "183 6.2845228772168475 6.212398888333512\n",
      "6.07028613698021 6.2845228772168475 6.212398888333512 88.17915647669358 58.92989499392185\n",
      "Doing box average\n",
      "184 6.212398888333512 6.140988998350012\n",
      "6.07028613698021 6.212398888333512 6.140988998350012 58.92989499392185 29.53705092785163\n",
      "Injecting\n",
      "185 6.140988998350012 6.07028613698021\n",
      "6.07028613698021 6.140988998350012 6.07028613698021 29.53705092785163 0.0\n",
      "Injecting\n"
     ]
    },
    {
     "name": "stderr",
     "output_type": "stream",
     "text": [
      "\r",
      " 99%|█████████▉| 187/188 [20:24<00:05,  5.15s/it]"
     ]
    },
    {
     "name": "stdout",
     "output_type": "stream",
     "text": [
      "{'z': 6.000283303940802, 'T_s': 861.59814, 'T_b': 1.2048032, 'T_k': 1363.0198, 'x_e': 0.90864044, 'E_phot': Array(248.25685, dtype=float32), 'dE_inj_per_B': Array(5.4755607, dtype=float32), 'f_ion': Array(0.03693602, dtype=float32), 'f_exc': Array(0.01065393, dtype=float32), 'f_heat': Array(0.54270446, dtype=float32)}\n",
      "\n",
      "Starting step:  187\n",
      "Currently at:  6.000283303940802\n",
      "Advancing to:  5.93097356825822\n",
      "184 6.212398888333512 6.140988998350012\n",
      "6.000283303940802 6.212398888333512 6.140988998350012 88.6117769183169 59.21893290634641\n",
      "Doing box average\n",
      "185 6.140988998350012 6.07028613698021\n",
      "6.000283303940802 6.140988998350012 6.07028613698021 59.21893290634641 29.681881996475784\n",
      "Injecting\n",
      "186 6.07028613698021 6.000283303940802\n",
      "6.000283303940802 6.07028613698021 6.000283303940802 29.681881996475784 0.0\n",
      "Injecting\n"
     ]
    },
    {
     "name": "stderr",
     "output_type": "stream",
     "text": [
      "\r",
      "100%|██████████| 188/188 [20:30<00:00,  5.43s/it]"
     ]
    },
    {
     "name": "stdout",
     "output_type": "stream",
     "text": [
      "{'z': 5.93097356825822, 'T_s': 872.9759, 'T_b': 1.0386764, 'T_k': 1403.395, 'x_e': 0.919605, 'E_phot': Array(251.26547, dtype=float32), 'dE_inj_per_B': Array(5.521962, dtype=float32), 'f_ion': Array(0.03701083, dtype=float32), 'f_exc': Array(0.01045546, dtype=float32), 'f_heat': Array(0.5489898, dtype=float32)}\n"
     ]
    }
   ],
   "source": [
    "records = []\n",
    "pbar = tqdm(total=len(z_edges)-1, position=0)\n",
    " \n",
    "for i_z in range(len(z_edges)-1):\n",
    "    dh_wrapper.set_empty_arrays\n",
    "    \n",
    "    print()\n",
    "    print('Starting step: ', i_z)\n",
    "    \n",
    "    current_z, next_z, dt = get_time_step(i_z)\n",
    "    nBavg = phys.n_B * (1+current_z)**3 # [Bavg / (physical cm)^3]\n",
    "    \n",
    "    print('Currently at: ', current_z)\n",
    "    print('Advancing to: ', next_z)\n",
    "    \n",
    "    # Calculate the perturbed field at the current time\n",
    "    perturbed_field = p21c.perturb_field(redshift=current_z, init_boxes=p21c_initial_conditions)\n",
    "    delta_plus_one_box = 1+ jnp.asarray(perturbed_field.density)\n",
    "\n",
    "    # Derived quantities that I need\n",
    "    rho_DM_box = delta_plus_one_box * phys.rho_DM * (1+current_z)**3 # [eV/(physical cm)^3]\n",
    "    x_e_box = jnp.asarray(1 - ionized_box.xH_box) # check this\n",
    "    inj_per_Bavg_box = phys.inj_rate(rho_DM_box, dm_params) * dt * struct_boost(1+current_z) / nBavg # [inj/Bavg]\n",
    "    \n",
    "    # Kwargs for the transfer function interpolation. I had to put the hacky cap on `x_s`. Look into this\n",
    "    tf_kwargs = dict(rs = 1 + current_z, nBs_s = delta_plus_one_box.ravel(),\n",
    "                     x_s = np.minimum(.999, x_e_box).ravel(), \n",
    "                     out_of_bounds_action = 'clip')\n",
    "    \n",
    "    # Construct the empty arrays we deposit into\n",
    "    dh_wrapper.set_empty_arrays()   \n",
    "    \n",
    "    # Set the kwargs for use in interpolations\n",
    "    dh_wrapper.set_tf_kwargs(tf_kwargs)\n",
    "    \n",
    "\n",
    "    ############################\n",
    "    ###   X-Ray Deposition   ###\n",
    "    ############################\n",
    "        \n",
    "    # Now calculate photon emission and energy deposition from our X-ray annuli\n",
    "    for i_z_shell in range(xray_loop_start, i_z):\n",
    "\n",
    "        # Load the effective density and emission spectrum.\n",
    "        print(i_z_shell, z_edges[i_z_shell], z_edges[i_z_shell+1])\n",
    "        xray_out = xray_windowed_data.get_smoothed_shell(current_z, z_edges[i_z_shell], z_edges[i_z_shell+1])\n",
    "        effective_density, emission_spectrum, is_box_average = xray_out\n",
    "\n",
    "        # Convert the effective density from photons/(comoving cm)^3 to photon / baryon\n",
    "        xray_spec = Spectrum(dh_wrapper.photeng, emission_spectrum, rs=z_edges[i_z_shell], spec_type='N') # [photon / Bavg]\n",
    "\n",
    "        # Attenuate the spectrum\n",
    "        for j in range(i_z_shell+1, i_z):\n",
    "            xray_spec.N *= attenuation_arr[j]\n",
    "            xray_spec.redshift(z_edges[j])     \n",
    "\n",
    "        # If we are smoothing on the scale of the box then dump to the global bath spectrum.\n",
    "        # The deposition will happen later, and we will not revisit this shell.\n",
    "        if is_box_average:\n",
    "            print('Doing box average')\n",
    "            phot_bath_spec.N += effective_density[0, 0, 0]*xray_spec.N\n",
    "            xray_loop_start = max(i_z_shell+1, xray_loop_start)\n",
    "\n",
    "        else:\n",
    "            print('Injecting')\n",
    "            dh_wrapper.photon_injection(xray_spec, bath = False, weight_box = effective_density)\n",
    "\n",
    "    # In the future, we will need the attenuations. Caculate and cache them here\n",
    "    dep_tf_at_point = dh_wrapper.phot_dep_tf.point_interp(rs=1+current_z, nBs=1, x=np.mean(x_e_box))\n",
    "    dep_toteng = np.sum(dep_tf_at_point[:, :4], axis=1)\n",
    "\n",
    "    attenuation_arr[i_z, :] = 1 - dep_toteng/dh_wrapper.photeng\n",
    "\n",
    "    # Homogeneous bath injection\n",
    "    dh_wrapper.photon_injection(phot_bath_spec)\n",
    "    \n",
    "    # Dark Matter injection\n",
    "    dh_wrapper.photon_injection(dm_params.inj_phot_spec, bath =False,\n",
    "                                weight_box=inj_per_Bavg_box, ots = True)\n",
    "    \n",
    "    prop_phot_N, emit_phot_N, dep_box =dh_wrapper.get_state_arrays()\n",
    "    \n",
    "    \n",
    "    #################################################################################\n",
    "    ###   Split the out spectrum between emitted photons and bath photons, then   ###\n",
    "    ###   prepare them for use in future steps.                                   ###\n",
    "    #################################################################################\n",
    "\n",
    "\n",
    "    # Split the x-ray spectrum into bath and emission\n",
    "    emit_bath_N, emit_xray_N = split_xray(emit_phot_N, ix_lo, ix_hi)\n",
    "    out_phot_N = prop_phot_N + emit_bath_N\n",
    "\n",
    "    # Cache the x-ray boxes for future use\n",
    "    xray_e_box = dep_box[..., 5] / np.dot(dh_wrapper.photeng, emit_xray_N) # energy / B_avg\n",
    "    xray_windowed_data.set_field(field=xray_e_box, spec=emit_xray_N, z=current_z)\n",
    "\n",
    "    # Prepare the bath spectrum for the next step    \n",
    "    out_phot_spec = Spectrum(dh_wrapper.photeng, out_phot_N, rs=1+current_z, spec_type='N')\n",
    "    out_phot_spec.redshift(1+next_z)\n",
    "    phot_bath_spec = out_phot_spec\n",
    "    \n",
    "    \n",
    "    ##############################################################\n",
    "    ###   Update the Input Boxes and Perform a 21cmFAST Step.  ###\n",
    "    ##############################################################\n",
    "    \n",
    "    # Calculate the perturbed field at the next time\n",
    "    perturbed_field = p21c.perturb_field(redshift=next_z, init_boxes=p21c_initial_conditions)    \n",
    "    input_heating, input_ionization, input_jalpha = gen_injection_boxes(next_z, p21c_initial_conditions)\n",
    "    \n",
    "    # Populate input heating. [K/Bavg] / [B/Bavg] = [K/B]\n",
    "    input_heating.input_heating += np.array(2 / (3*phys.kB*(1+x_e_box)) * dep_box[...,3] / delta_plus_one_box)\n",
    "    \n",
    "    # Populate input ionization. [1/Bavg] / [B/Bavg] = [1/B]\n",
    "    input_ionization.input_ionization += np.array((dep_box[...,0] + dep_box[...,1]) / phys.rydberg / delta_plus_one_box)\n",
    "\n",
    "    #  Populate input lyman alpha\n",
    "    n_lya = dep_box[...,2] * nBavg / phys.lya_eng # [lya cm^-3]\n",
    "    dnu_lya = (phys.rydberg - phys.lya_eng) / (2*np.pi*phys.hbar) # [Hz^-1]\n",
    "    J_lya = n_lya * phys.c / (4*np.pi) / dnu_lya # [lya cm^-2 s^-1 sr^-1 Hz^-1]\n",
    "    input_jalpha.input_jalpha += np.array(J_lya)\n",
    "    spin_temp, ionized_box, brightness_temp = p21_step(next_z, perturbed_field, spin_temp, ionized_box,\n",
    "                                                       input_heating, input_ionization, input_jalpha)\n",
    "    \n",
    "    \n",
    "    #######################################################\n",
    "    ###   Save some Global Quantities for Convenience   ###\n",
    "    #######################################################\n",
    "    \n",
    "    dE_inj_per_Bavg = dm_params.eng_per_inj * np.mean(inj_per_Bavg_box) # [eV per Bavg]\n",
    "    dE_inj_per_Bavg_unclustered = dE_inj_per_Bavg / struct_boost(1+current_z)\n",
    "\n",
    "     \n",
    "    record_inj = {'dE_inj_per_B' : dE_inj_per_Bavg,\n",
    "                  'f_ion'  : np.mean(dep_box[...,0] + dep_box[...,1]) / dE_inj_per_Bavg_unclustered,\n",
    "                  'f_exc'  : np.mean(dep_box[...,2]) / dE_inj_per_Bavg_unclustered,\n",
    "                  'f_heat' : np.mean(dep_box[...,3]) / dE_inj_per_Bavg_unclustered,\n",
    "    }\n",
    "    \n",
    "    record = {\n",
    "        'z'   : next_z,\n",
    "        'T_s' : np.mean(spin_temp.Ts_box), # [mK]\n",
    "        'T_b' : np.mean(brightness_temp.brightness_temp), # [K]\n",
    "        'T_k' : np.mean(spin_temp.Tk_box), # [K]\n",
    "        'x_e' : np.mean(1 - ionized_box.xH_box), # [1]\n",
    "        'E_phot' : phot_bath_spec.toteng(), # [eV/Bavg]\n",
    "    }\n",
    "    if run_mode in ['bath', 'xray']:\n",
    "        record.update(record_inj)\n",
    "    records.append(record)\n",
    "    print(record)\n",
    "    \n",
    "    if np.isnan(phot_bath_spec.toteng()):\n",
    "        break\n",
    "\n",
    "    pbar.update()\n",
    "    \n",
    "    arr_records = {k: np.array([r[k] for r in records]) for k in records[0].keys()}\n",
    "    np.save('./New_Debug', arr_records)"
   ]
  },
  {
   "cell_type": "code",
   "execution_count": null,
   "metadata": {},
   "outputs": [
    {
     "name": "stderr",
     "output_type": "stream",
     "text": [
      "/global/scratch/projects/pc_heptheory/fosterjw/21CM_Project/21cmFAST/src/py21cmfast/_utils.py:821: UserWarning: Trying to remove array that isn't yet created: hires_vx\n",
      "  warnings.warn(f\"Trying to remove array that isn't yet created: {k}\")\n",
      "/global/scratch/projects/pc_heptheory/fosterjw/21CM_Project/21cmFAST/src/py21cmfast/_utils.py:821: UserWarning: Trying to remove array that isn't yet created: hires_vy\n",
      "  warnings.warn(f\"Trying to remove array that isn't yet created: {k}\")\n",
      "/global/scratch/projects/pc_heptheory/fosterjw/21CM_Project/21cmFAST/src/py21cmfast/_utils.py:821: UserWarning: Trying to remove array that isn't yet created: hires_vz\n",
      "  warnings.warn(f\"Trying to remove array that isn't yet created: {k}\")\n",
      "/global/scratch/projects/pc_heptheory/fosterjw/21CM_Project/21cmFAST/src/py21cmfast/_utils.py:821: UserWarning: Trying to remove array that isn't yet created: hires_vx_2LPT\n",
      "  warnings.warn(f\"Trying to remove array that isn't yet created: {k}\")\n",
      "/global/scratch/projects/pc_heptheory/fosterjw/21CM_Project/21cmFAST/src/py21cmfast/_utils.py:821: UserWarning: Trying to remove array that isn't yet created: hires_vy_2LPT\n",
      "  warnings.warn(f\"Trying to remove array that isn't yet created: {k}\")\n",
      "/global/scratch/projects/pc_heptheory/fosterjw/21CM_Project/21cmFAST/src/py21cmfast/_utils.py:821: UserWarning: Trying to remove array that isn't yet created: hires_vz_2LPT\n",
      "  warnings.warn(f\"Trying to remove array that isn't yet created: {k}\")\n"
     ]
    }
   ],
   "source": [
    "lightcone = p21c.run_lightcone(redshift = ionized_box.redshift,\n",
    "                               user_params = ionized_box.user_params,\n",
    "                               cosmo_params = ionized_box.cosmo_params,\n",
    "                               astro_params = ionized_box.astro_params,\n",
    "                               flag_options=ionized_box.flag_options, )"
   ]
  },
  {
   "cell_type": "code",
   "execution_count": null,
   "metadata": {},
   "outputs": [],
   "source": [
    "from py21cmfast import plotting"
   ]
  },
  {
   "cell_type": "code",
   "execution_count": null,
   "metadata": {},
   "outputs": [],
   "source": []
  },
  {
   "cell_type": "code",
   "execution_count": null,
   "metadata": {
    "scrolled": true
   },
   "outputs": [],
   "source": [
    "fig, ax = plt.subplots(figsize = (14, 10))\n",
    "plotting.lightcone_sliceplot(lightcone, fig =fig,ax = ax) "
   ]
  },
  {
   "cell_type": "code",
   "execution_count": null,
   "metadata": {},
   "outputs": [],
   "source": [
    "def compute_power(\n",
    "   box,\n",
    "   length,\n",
    "   n_psbins,\n",
    "   log_bins=True,\n",
    "   ignore_kperp_zero=True,\n",
    "   ignore_kpar_zero=False,\n",
    "   ignore_k_zero=False,\n",
    "):\n",
    "    # Determine the weighting function required from ignoring k's.\n",
    "    k_weights = np.ones(box.shape, int)\n",
    "    n0 = k_weights.shape[0]\n",
    "    n1 = k_weights.shape[-1]\n",
    "\n",
    "    if ignore_kperp_zero:\n",
    "        k_weights[n0 // 2, n0 // 2, :] = 0\n",
    "    if ignore_kpar_zero:\n",
    "        k_weights[:, :, n1 // 2] = 0\n",
    "    if ignore_k_zero:\n",
    "        k_weights[n0 // 2, n0 // 2, n1 // 2] = 0\n",
    "\n",
    "    res = powerbox.tools.get_power(\n",
    "        box,\n",
    "        boxlength=length,\n",
    "        bins=n_psbins,\n",
    "        bin_ave=False,\n",
    "        get_variance=False,\n",
    "        log_bins=log_bins,\n",
    "        k_weights=k_weights,\n",
    "    )\n",
    "\n",
    "    res = list(res)\n",
    "    k = res[1]\n",
    "    if log_bins:\n",
    "        k = np.exp((np.log(k[1:]) + np.log(k[:-1])) / 2)\n",
    "    else:\n",
    "        k = (k[1:] + k[:-1]) / 2\n",
    "\n",
    "    res[1] = k\n",
    "    return res\n",
    "\n",
    "def powerspectra(brightness_temp, n_psbins=50, nchunks=20, min_k=0.1, max_k=1.0, logk=True):\n",
    "    data = []\n",
    "    chunk_indices = list(range(0,brightness_temp.n_slices,round(brightness_temp.n_slices / nchunks),))    \n",
    "    \n",
    "    if len(chunk_indices) > nchunks:\n",
    "        chunk_indices = chunk_indices[:-1]\n",
    "    chunk_indices.append(brightness_temp.n_slices)\n",
    "\n",
    "    for i in range(nchunks):\n",
    "        start = chunk_indices[i]\n",
    "        end = chunk_indices[i + 1]\n",
    "        chunklen = (end - start) * brightness_temp.cell_size\n",
    "\n",
    "        power, k = compute_power(\n",
    "            brightness_temp.brightness_temp[:, :, start:end],\n",
    "            (BOX_LEN, BOX_LEN, chunklen),\n",
    "            n_psbins,\n",
    "            log_bins=logk,\n",
    "        )\n",
    "        data.append({\"k\": k, \"delta\": power * k ** 3 / (2 * np.pi ** 2)})\n",
    "    return data"
   ]
  },
  {
   "cell_type": "code",
   "execution_count": null,
   "metadata": {},
   "outputs": [],
   "source": [
    "k_fundamental = 2*np.pi/BOX_LEN\n",
    "k_max = k_fundamental * HII_DIM\n",
    "Nk=np.floor(HII_DIM/1).astype(int)"
   ]
  },
  {
   "cell_type": "code",
   "execution_count": null,
   "metadata": {},
   "outputs": [],
   "source": [
    "out = powerspectra(lightcone, min_k = k_fundamental, max_k = k_max)\n"
   ]
  },
  {
   "cell_type": "code",
   "execution_count": null,
   "metadata": {},
   "outputs": [],
   "source": [
    "fig, axs = plt.subplots(ncols = 5, nrows = 4, figsize = (30, 16))\n",
    "\n",
    "for i, item in enumerate(out):\n",
    "    row_index, col_index = np.unravel_index(i, axs.shape)\n",
    "    \n",
    "    ax = axs[row_index, col_index]\n",
    "    ax.plot(item['k'], item['delta'], color = 'black')\n",
    "    ax.set_xscale('log')\n",
    "    ax.set_yscale('log')\n",
    "    ax.text(.6, .1, 'Redshift Chunk ' + str(i), transform=ax.transAxes, fontsize = 18)\n",
    "    \n",
    "for i in range(axs.shape[0]-1):\n",
    "    for j in range(axs.shape[1]):\n",
    "        axs[i, j].set_xticklabels([])\n",
    "\n",
    "for j in range(axs.shape[1]):\n",
    "    axs[-1, j].set_xlabel('k [Mpc$^{-1}$]', fontsize = 22)\n",
    "for i in range(axs.shape[0]):\n",
    "    axs[i, 0].set_ylabel('$k^3 P(k)$', fontsize = 22)\n",
    "    \n",
    "plt.tight_layout()\n",
    "plt.show()"
   ]
  },
  {
   "cell_type": "code",
   "execution_count": null,
   "metadata": {},
   "outputs": [],
   "source": []
  }
 ],
 "metadata": {
  "kernelspec": {
   "display_name": "DM21CM",
   "language": "python",
   "name": "dm21cm"
  },
  "language_info": {
   "codemirror_mode": {
    "name": "ipython",
    "version": 3
   },
   "file_extension": ".py",
   "mimetype": "text/x-python",
   "name": "python",
   "nbconvert_exporter": "python",
   "pygments_lexer": "ipython3",
   "version": "3.11.4"
  }
 },
 "nbformat": 4,
 "nbformat_minor": 4
}
