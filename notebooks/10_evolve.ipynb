{
 "cells": [
  {
   "cell_type": "code",
   "execution_count": 2,
   "metadata": {},
   "outputs": [],
   "source": [
    "%reload_ext autoreload\n",
    "%autoreload 2\n",
    "\n",
    "import sys\n",
    "\n",
    "import py21cmfast as p21c\n",
    "from astropy.cosmology import Planck18\n",
    "\n",
    "sys.path.append(\"..\")\n",
    "from dm21cm.dm_params import DMParams\n",
    "from dm21cm.evolve import evolve"
   ]
  },
  {
   "cell_type": "code",
   "execution_count": null,
   "metadata": {},
   "outputs": [],
   "source": [
    "dd = evolve(\n",
    "    run_name = 'test',\n",
    "    z_start = 45.,\n",
    "    z_end = 5.,\n",
    "    zplusone_step_factor = 1.01,\n",
    "    dm_params = DMParams(\n",
    "        mode='swave',\n",
    "        primary='phot_delta',\n",
    "        m_DM=1e10,\n",
    "        sigmav=1e-23,\n",
    "        struct_boost_model='erfc 1e-3',\n",
    "    ),\n",
    "    enable_elec = False,\n",
    "    tf_version = '230629',\n",
    "    \n",
    "    p21c_initial_conditions = p21c.initial_conditions(\n",
    "        user_params = p21c.UserParams(\n",
    "            HII_DIM = 64,\n",
    "            BOX_LEN = 64 * 2, # [conformal Mpc]\n",
    "            N_THREADS = 32,\n",
    "        ),\n",
    "        cosmo_params = p21c.CosmoParams(\n",
    "            OMm = Planck18.Om(0),\n",
    "            OMb = Planck18.Ob(0),\n",
    "            POWER_INDEX = Planck18.meta['n'],\n",
    "            SIGMA_8 = Planck18.meta['sigma8'],\n",
    "            hlittle = Planck18.h,\n",
    "        ),\n",
    "        random_seed = 54321,\n",
    "        write = True,\n",
    "    ),\n",
    "    \n",
    "    rerun_DH = False,\n",
    "    clear_cache = False,\n",
    "    use_tqdm = False,\n",
    "    debug = True,\n",
    ")"
   ]
  },
  {
   "cell_type": "code",
   "execution_count": 4,
   "metadata": {},
   "outputs": [],
   "source": [
    "import numpy as np\n",
    "import pickle\n",
    "\n",
    "import matplotlib.pyplot as plt"
   ]
  },
  {
   "cell_type": "code",
   "execution_count": 5,
   "metadata": {},
   "outputs": [],
   "source": [
    "ar0 = pickle.load(open(\"../outputs/tmp/records_test.p\", 'rb'))\n",
    "ar0 = {k: np.array([r[k] for r in ar0]) for k in ar0[0].keys()}"
   ]
  },
  {
   "cell_type": "code",
   "execution_count": 8,
   "metadata": {},
   "outputs": [],
   "source": [
    "ar = np.load(\"../data/run_info/test_records.npy\", allow_pickle=True).item()"
   ]
  },
  {
   "cell_type": "code",
   "execution_count": 10,
   "metadata": {},
   "outputs": [
    {
     "data": {
      "image/png": "[encoded data removed]",
      "text/plain": [
       "<Figure size 640x480 with 1 Axes>"
      ]
     },
     "metadata": {},
     "output_type": "display_data"
    }
   ],
   "source": [
    "plt.plot(ar['z'], ar['T_k'])\n",
    "plt.plot(ar0['z'], ar0['T_k'], ':')\n",
    "plt.yscale('log')"
   ]
  },
  {
   "cell_type": "code",
   "execution_count": null,
   "metadata": {},
   "outputs": [],
   "source": []
  }
 ],
 "metadata": {
  "kernelspec": {
   "display_name": "dm21cm",
   "language": "python",
   "name": "python3"
  },
  "language_info": {
   "codemirror_mode": {
    "name": "ipython",
    "version": 3
   },
   "file_extension": ".py",
   "mimetype": "text/x-python",
   "name": "python",
   "nbconvert_exporter": "python",
   "pygments_lexer": "ipython3",
   "version": "3.11.5"
  },
  "orig_nbformat": 4
 },
 "nbformat": 4,
 "nbformat_minor": 2
}
