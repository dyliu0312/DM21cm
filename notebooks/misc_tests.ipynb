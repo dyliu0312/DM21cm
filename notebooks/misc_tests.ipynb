{
 "cells": [
  {
   "cell_type": "code",
   "execution_count": 1,
   "id": "9b5ad2db-edb8-4ecc-b4ed-7cc07dcc9c2a",
   "metadata": {
    "tags": []
   },
   "outputs": [],
   "source": [
    "%reload_ext autoreload\n",
    "%autoreload 2\n",
    "\n",
    "import os\n",
    "import sys\n",
    "\n",
    "from tqdm import tqdm\n",
    "import pickle\n",
    "import h5py\n",
    "\n",
    "import numpy as np\n",
    "from astropy.cosmology import Planck18\n",
    "from astropy import units as u\n",
    "from astropy import constants as const\n",
    "\n",
    "%matplotlib inline\n",
    "import matplotlib as mpl\n",
    "import matplotlib.pyplot as plt\n",
    "from matplotlib import colormaps as cms\n",
    "mpl.rc_file('../matplotlibrc')"
   ]
  },
  {
   "cell_type": "code",
   "execution_count": null,
   "metadata": {},
   "outputs": [],
   "source": []
  },
  {
   "cell_type": "code",
   "execution_count": 16,
   "metadata": {},
   "outputs": [],
   "source": [
    "def get_z_edges(z_max, z_min, zplusone_step_factor):\n",
    "    z_s = [z_min]\n",
    "    while z_s[-1] < z_max:\n",
    "        z_s.append((z_s[-1] + 1.) * zplusone_step_factor - 1.)\n",
    "\n",
    "    return np.clip(z_s[::-1], None, z_max)"
   ]
  },
  {
   "cell_type": "code",
   "execution_count": 17,
   "metadata": {},
   "outputs": [],
   "source": [
    "z_edges = get_z_edges(45, 5, 1.001)\n",
    "z_edges_coarse = get_z_edges(45, 5, 1.001**10)"
   ]
  },
  {
   "cell_type": "code",
   "execution_count": 21,
   "metadata": {},
   "outputs": [],
   "source": [
    "z_match = z_edges_coarse[1]\n",
    "z_edges = np.unique(np.clip(z_edges, None, z_match))[::-1]\n",
    "z_edges_coarse = z_edges_coarse[1:]"
   ]
  },
  {
   "cell_type": "code",
   "execution_count": 32,
   "metadata": {},
   "outputs": [
    {
     "data": {
      "text/plain": [
       "array([44.63820275, 44.63820275, 44.59261014, ...,  5.012006  ,\n",
       "        5.006     ,  5.        ])"
      ]
     },
     "execution_count": 32,
     "metadata": {},
     "output_type": "execute_result"
    }
   ],
   "source": [
    "z_edges"
   ]
  },
  {
   "cell_type": "code",
   "execution_count": 31,
   "metadata": {},
   "outputs": [
    {
     "data": {
      "text/plain": [
       "(43.0, 45.0)"
      ]
     },
     "execution_count": 31,
     "metadata": {},
     "output_type": "execute_result"
    },
    {
     "data": {
      "image/png": "[encoded data removed]",
      "text/plain": [
       "<Figure size 720x480 with 1 Axes>"
      ]
     },
     "metadata": {},
     "output_type": "display_data"
    }
   ],
   "source": [
    "plt.plot(np.arange(len(z_edges)), z_edges, '+')\n",
    "plt.plot(np.arange(0, 10*len(z_edges_coarse), 10), z_edges_coarse, '+')\n",
    "plt.xlim(-0.5, 20.5)\n",
    "plt.ylim(43, 45)"
   ]
  },
  {
   "cell_type": "code",
   "execution_count": 19,
   "metadata": {},
   "outputs": [
    {
     "data": {
      "text/plain": [
       "array([41.        , 40.3174736 , 32.        , 25.39841683, 20.1587368 ,\n",
       "       16.        , 12.69920842, 10.0793684 ,  8.        ,  6.34960421,\n",
       "        5.0396842 ,  4.        ,  3.1748021 ,  2.5198421 ,  2.        ])"
      ]
     },
     "execution_count": 19,
     "metadata": {},
     "output_type": "execute_result"
    }
   ],
   "source": [
    "np.unique(get_z_edges(40, 1, 2**(1/3)) + 1)[::-1]"
   ]
  },
  {
   "cell_type": "code",
   "execution_count": 20,
   "metadata": {},
   "outputs": [
    {
     "data": {
      "text/plain": [
       "array([41., 32., 16.,  8.,  4.,  2.])"
      ]
     },
     "execution_count": 20,
     "metadata": {},
     "output_type": "execute_result"
    }
   ],
   "source": [
    "get_z_edges(40, 1, 2) + 1"
   ]
  },
  {
   "cell_type": "code",
   "execution_count": null,
   "metadata": {},
   "outputs": [],
   "source": []
  },
  {
   "cell_type": "code",
   "execution_count": 2,
   "id": "3edf2803",
   "metadata": {},
   "outputs": [],
   "source": [
    "sys.path.append(os.environ['DM21CM_DIR'])\n",
    "sys.path.append(os.environ['DM21CM_DIR'] + \"/build_tf\")\n",
    "sys.path.append(os.environ['DH_DIR'])"
   ]
  },
  {
   "cell_type": "code",
   "execution_count": 8,
   "id": "ac72dcb7",
   "metadata": {},
   "outputs": [],
   "source": [
    "from dm21cm.dm_params import DMParams\n",
    "from dm21cm.utils import load_h5_dict"
   ]
  },
  {
   "cell_type": "code",
   "execution_count": 9,
   "id": "65982b30",
   "metadata": {},
   "outputs": [],
   "source": [
    "abscs = load_h5_dict(os.environ['DM21CM_DIR'] + '/data/abscissas/abscs_zf01.h5')"
   ]
  },
  {
   "cell_type": "code",
   "execution_count": 6,
   "id": "9931b5cb",
   "metadata": {},
   "outputs": [],
   "source": [
    "dmp = DMParams('decay', 'elec_delta', 1e8, lifetime=-1e26)"
   ]
  },
  {
   "cell_type": "code",
   "execution_count": 15,
   "id": "ea99993c",
   "metadata": {},
   "outputs": [
    {
     "data": {
      "text/plain": [
       "100000000.0"
      ]
     },
     "execution_count": 15,
     "metadata": {},
     "output_type": "execute_result"
    }
   ],
   "source": [
    "dmp.eng_per_inj"
   ]
  },
  {
   "cell_type": "code",
   "execution_count": 14,
   "id": "4fd87288",
   "metadata": {},
   "outputs": [
    {
     "data": {
      "text/plain": [
       "['__annotations__',\n",
       " '__class__',\n",
       " '__dataclass_fields__',\n",
       " '__dataclass_params__',\n",
       " '__delattr__',\n",
       " '__dict__',\n",
       " '__dir__',\n",
       " '__doc__',\n",
       " '__eq__',\n",
       " '__format__',\n",
       " '__ge__',\n",
       " '__getattribute__',\n",
       " '__getstate__',\n",
       " '__gt__',\n",
       " '__hash__',\n",
       " '__init__',\n",
       " '__init_subclass__',\n",
       " '__le__',\n",
       " '__lt__',\n",
       " '__match_args__',\n",
       " '__module__',\n",
       " '__ne__',\n",
       " '__new__',\n",
       " '__post_init__',\n",
       " '__reduce__',\n",
       " '__reduce_ex__',\n",
       " '__repr__',\n",
       " '__setattr__',\n",
       " '__sizeof__',\n",
       " '__str__',\n",
       " '__subclasshook__',\n",
       " '__weakref__',\n",
       " 'eng_per_inj',\n",
       " 'inj_elec_spec',\n",
       " 'inj_phot_spec',\n",
       " 'lifetime',\n",
       " 'm_DM',\n",
       " 'mode',\n",
       " 'primary',\n",
       " 'set_inj_specs',\n",
       " 'sigmav',\n",
       " 'struct_boost',\n",
       " 'struct_boost_model']"
      ]
     },
     "execution_count": 14,
     "metadata": {},
     "output_type": "execute_result"
    }
   ],
   "source": [
    "dir(dmp)"
   ]
  },
  {
   "cell_type": "code",
   "execution_count": 13,
   "id": "dedb0311",
   "metadata": {},
   "outputs": [
    {
     "data": {
      "text/plain": [
       "array([0., 0., 0., 0., 0., 0., 0., 0., 0., 0., 0., 0., 0., 0., 0., 0., 0.,\n",
       "       0., 0., 0., 0., 0., 0., 0., 0., 0., 0., 0., 0., 0., 0., 0., 0., 0.,\n",
       "       0., 0., 0., 0., 0., 0., 0., 0., 0., 0., 0., 0., 0., 0., 0., 0., 0.,\n",
       "       0., 0., 0., 0., 0., 0., 0., 0., 0., 0., 0., 0., 0., 0., 0., 0., 0.,\n",
       "       0., 0., 0., 0., 0., 0., 0., 0., 0., 0., 0., 0., 0., 0., 0., 0., 0.,\n",
       "       0., 0., 0., 0., 0., 0., 0., 0., 0., 0., 0., 0., 0., 0., 0., 0., 0.,\n",
       "       0., 0., 0., 0., 0., 0., 0., 0., 0., 0., 0., 0., 0., 0., 0., 0., 0.,\n",
       "       0., 0., 0., 0., 0., 0., 0., 0., 0., 0., 0., 0., 0., 0., 0., 0., 0.,\n",
       "       0., 0., 0., 0., 0., 0., 0., 0., 0., 0., 0., 0., 0., 0., 0., 0., 0.,\n",
       "       0., 0., 0., 0., 0., 0., 0., 0., 0., 0., 0., 0., 0., 0., 0., 0., 0.,\n",
       "       0., 0., 0., 0., 0., 0., 0., 0., 0., 0., 0., 0., 0., 0., 0., 0., 0.,\n",
       "       0., 0., 0., 0., 0., 0., 0., 0., 0., 0., 0., 0., 0., 0., 0., 0., 0.,\n",
       "       0., 0., 0., 0., 0., 0., 0., 0., 0., 0., 0., 0., 0., 0., 0., 0., 0.,\n",
       "       0., 0., 0., 0., 0., 0., 0., 0., 0., 0., 0., 0., 0., 0., 0., 0., 0.,\n",
       "       0., 0., 0., 0., 0., 0., 0., 0., 0., 0., 0., 0., 0., 0., 0., 0., 0.,\n",
       "       0., 0., 0., 0., 0., 0., 0., 0., 0., 0., 0., 0., 0., 0., 0., 0., 0.,\n",
       "       0., 0., 0., 0., 0., 0., 0., 0., 0., 0., 0., 0., 0., 0., 0., 0., 0.,\n",
       "       0., 0., 0., 0., 0., 0., 0., 0., 0., 0., 0., 0., 0., 0., 0., 0., 0.,\n",
       "       0., 0., 0., 0., 0., 0., 0., 0., 0., 0., 0., 0., 0., 0., 0., 0., 0.,\n",
       "       0., 0., 0., 0., 0., 0., 0., 0., 0., 0., 0., 0., 0., 0., 0., 0., 0.,\n",
       "       0., 0., 0., 0., 0., 0., 0., 0., 0., 0., 0., 0., 0., 0., 0., 0., 0.,\n",
       "       0., 0., 0., 0., 0., 0., 0., 0., 0., 0., 0., 0., 0., 0., 0., 0., 0.,\n",
       "       0., 0., 0., 0., 0., 0., 0., 0., 0., 0., 0., 0., 0., 0., 0., 0., 0.,\n",
       "       0., 0., 0., 0., 0., 0., 0., 0., 0., 0., 0., 0., 0., 0., 0., 0., 0.,\n",
       "       0., 0., 0., 0., 0., 0., 0., 0., 0., 0., 0., 0., 0., 0., 0., 0., 0.,\n",
       "       0., 0., 0., 0., 0., 0., 0., 0., 0., 0., 0., 0., 0., 0., 0., 0., 0.,\n",
       "       0., 0., 0., 0., 0., 0., 0., 0., 0., 0., 0., 0., 0., 0., 0., 0., 0.,\n",
       "       0., 0., 0., 0., 0., 0., 0., 0., 0., 0., 0., 0., 0., 0., 0., 0., 0.,\n",
       "       0., 0., 0., 0., 0., 0., 0., 0., 0., 0., 0., 0., 0., 0., 0., 0., 0.,\n",
       "       0., 0., 0., 0., 0., 0., 0.])"
      ]
     },
     "execution_count": 13,
     "metadata": {},
     "output_type": "execute_result"
    }
   ],
   "source": [
    "dmp.inj_phot_spec.N"
   ]
  },
  {
   "cell_type": "code",
   "execution_count": 16,
   "id": "e78b1ffe",
   "metadata": {},
   "outputs": [],
   "source": [
    "from scipy import interpolate"
   ]
  },
  {
   "cell_type": "code",
   "execution_count": 17,
   "id": "e4e6d04c",
   "metadata": {},
   "outputs": [],
   "source": [
    "def debug_get_21totf_interp(fn):\n",
    "    line_arr = []\n",
    "    z_arr = []\n",
    "    e_arr = []\n",
    "    with open(fn, 'r') as f:\n",
    "        for line in f:\n",
    "            if \"E_tot_ave = \" in line:\n",
    "                line_arr.append(line)\n",
    "                tokens = line.split('E_tot_ave = ')\n",
    "                e_arr.append(float(tokens[-1]))\n",
    "                tokens = tokens[0].split('zp = ')\n",
    "                z_arr.append(float(tokens[1]))\n",
    "\n",
    "    # z_arr = np.array(z_arr)[1:]\n",
    "    # e_arr = np.array(e_arr)[:-1]\n",
    "    assert len(z_arr) == len(e_arr)\n",
    "    return interpolate.interp1d(z_arr, e_arr, kind='linear', bounds_error=False, fill_value='extrapolate')"
   ]
  },
  {
   "cell_type": "code",
   "execution_count": 19,
   "id": "55394abd",
   "metadata": {},
   "outputs": [],
   "source": [
    "WDIR = os.environ['DM21CM_DIR']\n",
    "interp = debug_get_21totf_interp(f\"{WDIR}/outputs/stdout/xc_nopop2_noHe_nosp_noatten_esf.out\")"
   ]
  },
  {
   "cell_type": "code",
   "execution_count": 20,
   "id": "58ac43db",
   "metadata": {},
   "outputs": [
    {
     "data": {
      "text/plain": [
       "array(0.00115426)"
      ]
     },
     "execution_count": 20,
     "metadata": {},
     "output_type": "execute_result"
    }
   ],
   "source": [
    "interp(7.757164e+00)"
   ]
  },
  {
   "cell_type": "code",
   "execution_count": 11,
   "id": "40d88701",
   "metadata": {},
   "outputs": [],
   "source": [
    "z_arr, e_arr = debug_get_21totf_interp(\"../scripts/xc_nopop2_noHe_nosp_noatten_esf.out\")"
   ]
  },
  {
   "cell_type": "code",
   "execution_count": 14,
   "id": "6e046baf",
   "metadata": {},
   "outputs": [
    {
     "data": {
      "text/plain": [
       "[]"
      ]
     },
     "execution_count": 14,
     "metadata": {},
     "output_type": "execute_result"
    },
    {
     "data": {
      "image/png": "[encoded data removed]",
      "text/plain": [
       "<Figure size 720x480 with 1 Axes>"
      ]
     },
     "metadata": {},
     "output_type": "display_data"
    }
   ],
   "source": [
    "plt.plot(z_arr, e_arr)\n",
    "plt.loglog()"
   ]
  },
  {
   "cell_type": "code",
   "execution_count": null,
   "id": "e6bb49f8",
   "metadata": {},
   "outputs": [],
   "source": []
  }
 ],
 "metadata": {
  "kernelspec": {
   "display_name": "dm21cm",
   "language": "python",
   "name": "python3"
  },
  "language_info": {
   "codemirror_mode": {
    "name": "ipython",
    "version": 3
   },
   "file_extension": ".py",
   "mimetype": "text/x-python",
   "name": "python",
   "nbconvert_exporter": "python",
   "pygments_lexer": "ipython3",
   "version": "3.11.5"
  }
 },
 "nbformat": 4,
 "nbformat_minor": 5
}
