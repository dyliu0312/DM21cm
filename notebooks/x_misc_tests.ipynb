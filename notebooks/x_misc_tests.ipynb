{
 "cells": [
  {
   "cell_type": "code",
   "execution_count": 2,
   "id": "9b5ad2db-edb8-4ecc-b4ed-7cc07dcc9c2a",
   "metadata": {},
   "outputs": [],
   "source": [
    "%reload_ext autoreload\n",
    "%autoreload 2\n",
    "\n",
    "import os\n",
    "import sys\n",
    "sys.path.append(\"..\")\n",
    "sys.path.append(os.environ['DH_DIR'])\n",
    "\n",
    "from tqdm import tqdm\n",
    "import pickle\n",
    "import h5py\n",
    "\n",
    "import numpy as np\n",
    "from astropy.cosmology import Planck18\n",
    "# import jax\n",
    "# import jax.numpy as jnp\n",
    "# print(jax.devices())\n",
    "\n",
    "%matplotlib inline\n",
    "import matplotlib as mpl\n",
    "import matplotlib.pyplot as plt\n",
    "from matplotlib import cm\n",
    "mpl.rc_file('../matplotlibrc')"
   ]
  },
  {
   "cell_type": "code",
   "execution_count": 2,
   "id": "20c1476b-bbf0-4465-a6be-96179089dd82",
   "metadata": {},
   "outputs": [],
   "source": [
    "from dm21cm.field_smoother import WindowedData"
   ]
  },
  {
   "cell_type": "code",
   "execution_count": 3,
   "id": "4b713c6a-2d21-474b-925d-3ac0574bf32b",
   "metadata": {},
   "outputs": [],
   "source": [
    "! rm ../outputs/tmp/tmp.h5"
   ]
  },
  {
   "cell_type": "code",
   "execution_count": 4,
   "id": "a076da8c-e5dd-4c63-be5c-81f4fc1fd996",
   "metadata": {},
   "outputs": [],
   "source": [
    "w = WindowedData(\n",
    "    data_path=\"../outputs/tmp/tmp.h5\",\n",
    "    cosmo=Planck18,\n",
    "    N=50,\n",
    "    dx=50 / 50,\n",
    "    cache=True,\n",
    ")"
   ]
  },
  {
   "cell_type": "code",
   "execution_count": 5,
   "id": "75f4fdd1-fc52-47eb-9cf7-c2f749d66173",
   "metadata": {},
   "outputs": [],
   "source": [
    "f = np.ones((50, 50, 50))\n",
    "s = np.arange(10)\n",
    "w.set_field(f, s, 1.1)\n",
    "w.set_field(f, s, 0.9)"
   ]
  },
  {
   "cell_type": "code",
   "execution_count": null,
   "id": "42b73b01-48b5-4af4-9de5-fbd6ed917670",
   "metadata": {
    "tags": []
   },
   "outputs": [],
   "source": [
    "fs, ss = w.get_smoothed_shell(0.5, 1.1, 0.9, 0.1)"
   ]
  },
  {
   "cell_type": "code",
   "execution_count": 7,
   "id": "7179df97-e998-4165-a8c4-7d1c019bf51d",
   "metadata": {},
   "outputs": [
    {
     "name": "stdout",
     "output_type": "stream",
     "text": [
      "Field_1\n",
      "Field_2\n",
      "Spec_1\n",
      "Spec_2\n"
     ]
    }
   ],
   "source": [
    "with h5py.File(\"../outputs/tmp/tmp.h5\") as hf:\n",
    "    for k, v in hf.items():\n",
    "        print(k)"
   ]
  },
  {
   "cell_type": "markdown",
   "id": "0f60225a-0b35-4426-ab1a-0351f4b45ea3",
   "metadata": {},
   "source": [
    "## Debug"
   ]
  },
  {
   "cell_type": "code",
   "execution_count": 4,
   "id": "21de8545-0b72-4141-bac0-d73b808559c3",
   "metadata": {},
   "outputs": [],
   "source": [
    "dhinit_soln = pickle.load(open(os.environ['P21C_CACHE_DIR']+'/phph_dhinit_s8zero/dhinit_soln.p', 'rb'))"
   ]
  },
  {
   "cell_type": "code",
   "execution_count": 6,
   "id": "74492dbc-9b46-4194-acc9-3ac2381a14af",
   "metadata": {},
   "outputs": [],
   "source": [
    "z_edges = [0,41.56984859939324]"
   ]
  },
  {
   "cell_type": "code",
   "execution_count": 27,
   "id": "2fff7b97-9d9c-4bda-8972-80545e807767",
   "metadata": {},
   "outputs": [],
   "source": [
    "rs_dh = dhinit_soln['rs'][::-1] # increasing now\n",
    "i_rs_left = np.searchsorted(rs_dh, 1+z_edges[1])\n",
    "logrs_left = np.log(rs_dh[i_rs_left-1])\n",
    "logrs_right = np.log(rs_dh[i_rs_left])\n",
    "logrs = np.log(1+z_edges[1])\n",
    "dh_spec_N_arr = np.array([s.N for s in dhinit_soln['highengphot']])[::-1]\n",
    "dh_spec_left = dh_spec_N_arr[i_rs_left-1]\n",
    "dh_spec_right = dh_spec_N_arr[i_rs_left]\n",
    "dh_spec = ( dh_spec_left * (logrs_right-logrs) + dh_spec_right * (logrs-logrs_left) ) / (logrs_right-logrs_left)\n",
    "\n",
    "#phot_bath_spec = Spectrum(photeng, dh_spec, rs=1+z_edges[1], spec_type='N')"
   ]
  },
  {
   "cell_type": "code",
   "execution_count": 28,
   "id": "97a3b7d3-b904-4f7d-a404-3803af7db53e",
   "metadata": {},
   "outputs": [
    {
     "name": "stdout",
     "output_type": "stream",
     "text": [
      "3.7463675676503914 3.751146223324299 3.7583675676503914\n"
     ]
    }
   ],
   "source": [
    "print(logrs_left, logrs, logrs_right)"
   ]
  },
  {
   "cell_type": "code",
   "execution_count": 29,
   "id": "5e3fabb8-0f31-45c8-852e-33ce2e987796",
   "metadata": {},
   "outputs": [
    {
     "data": {
      "text/plain": [
       "9.098789615855116"
      ]
     },
     "execution_count": 29,
     "metadata": {},
     "output_type": "execute_result"
    }
   ],
   "source": [
    "np.dot(dh_spec, dhinit_soln['highengphot'][0].eng)"
   ]
  },
  {
   "cell_type": "code",
   "execution_count": 18,
   "id": "5021a378-c2de-411e-b192-81e95ddb5861",
   "metadata": {},
   "outputs": [],
   "source": [
    "z_now = 41.56984859939324"
   ]
  },
  {
   "cell_type": "code",
   "execution_count": 30,
   "id": "a21e702b-8edd-40bd-8936-adb91ec39c6e",
   "metadata": {},
   "outputs": [],
   "source": [
    "logrs_dh_arr = np.log(dhinit_soln['rs'])[::-1]\n",
    "logrs = np.log(1+z_now)\n",
    "i = np.searchsorted(logrs_dh_arr, logrs)\n",
    "logrs_left, logrs_right = logrs_dh_arr[i-1:i+1]\n",
    "\n",
    "dh_spec_N_arr = np.array([s.N for s in dhinit_soln['highengphot']])[::-1]\n",
    "dh_spec_left, dh_spec_right = dh_spec_N_arr[i-1:i+1]\n",
    "dh_spec2 = ( dh_spec_left * np.abs(logrs - logrs_right) + \\\n",
    "            dh_spec_right * np.abs(logrs - logrs_left) ) / np.abs(logrs_right - logrs_left)\n",
    "#phot_bath_spec = Spectrum(photeng, dh_spec, rs=1+z_now, spec_type='N')"
   ]
  },
  {
   "cell_type": "code",
   "execution_count": 31,
   "id": "8a8ddef1-bb4f-46da-a658-7bd3abd08570",
   "metadata": {},
   "outputs": [
    {
     "name": "stdout",
     "output_type": "stream",
     "text": [
      "3.7463675676503914 3.751146223324299 3.7583675676503914\n"
     ]
    }
   ],
   "source": [
    "print(logrs_left, logrs, logrs_right)"
   ]
  },
  {
   "cell_type": "code",
   "execution_count": 32,
   "id": "df0c2bb5-f0ce-4758-8e44-63796536af71",
   "metadata": {},
   "outputs": [
    {
     "data": {
      "text/plain": [
       "[<matplotlib.lines.Line2D at 0x7fab2c6f5550>]"
      ]
     },
     "execution_count": 32,
     "metadata": {},
     "output_type": "execute_result"
    },
    {
     "data": {
      "image/png": "[encoded data removed]",
      "text/plain": [
       "<Figure size 720x480 with 1 Axes>"
      ]
     },
     "metadata": {},
     "output_type": "display_data"
    }
   ],
   "source": [
    "plt.plot(dh_spec)\n",
    "plt.plot(dh_spec2)"
   ]
  },
  {
   "cell_type": "code",
   "execution_count": 15,
   "id": "380df847-5836-4e42-b812-a6d77d0b37bf",
   "metadata": {},
   "outputs": [
    {
     "data": {
      "text/plain": [
       "20.169805028886095"
      ]
     },
     "execution_count": 15,
     "metadata": {},
     "output_type": "execute_result"
    }
   ],
   "source": [
    "np.dot(dh_spec, dhinit_soln['highengphot'][0].eng)"
   ]
  },
  {
   "cell_type": "code",
   "execution_count": null,
   "id": "ba7ebbbb-8dff-4436-9af8-9118e26e5619",
   "metadata": {},
   "outputs": [],
   "source": [
    "dh_spec"
   ]
  }
 ],
 "metadata": {
  "kernelspec": {
   "display_name": "21cmfast",
   "language": "python",
   "name": "21cmfast"
  },
  "language_info": {
   "codemirror_mode": {
    "name": "ipython",
    "version": 3
   },
   "file_extension": ".py",
   "mimetype": "text/x-python",
   "name": "python",
   "nbconvert_exporter": "python",
   "pygments_lexer": "ipython3",
   "version": "3.7.12"
  }
 },
 "nbformat": 4,
 "nbformat_minor": 5
}
