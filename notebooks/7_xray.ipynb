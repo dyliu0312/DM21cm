{
 "cells": [
  {
   "cell_type": "code",
   "execution_count": 1,
   "id": "52f8a1cc",
   "metadata": {
    "tags": []
   },
   "outputs": [
    {
     "name": "stderr",
     "output_type": "stream",
     "text": [
      "WARNING:jax._src.lib.xla_bridge:No GPU/TPU found, falling back to CPU. (Set TF_CPP_MIN_LOG_LEVEL=0 and rerun for more info.)\n"
     ]
    },
    {
     "name": "stdout",
     "output_type": "stream",
     "text": [
      "[CpuDevice(id=0)]\n"
     ]
    }
   ],
   "source": [
    "%reload_ext autoreload\n",
    "%autoreload 2\n",
    "\n",
    "import os\n",
    "import sys\n",
    "sys.path.append(\"..\")\n",
    "sys.path.append(os.environ['DH_DIR'])\n",
    "\n",
    "from tqdm import tqdm\n",
    "import time\n",
    "import pickle\n",
    "import h5py\n",
    "import logging\n",
    "import warnings\n",
    "\n",
    "import numpy as np\n",
    "from astropy.cosmology import Planck18\n",
    "import jax\n",
    "import jax.numpy as jnp\n",
    "print(jax.devices())\n",
    "\n",
    "%matplotlib inline\n",
    "import matplotlib as mpl\n",
    "import matplotlib.pyplot as plt\n",
    "from matplotlib import cm\n",
    "mpl.rc_file('../matplotlibrc')"
   ]
  },
  {
   "cell_type": "code",
   "execution_count": 2,
   "id": "771d2f5a",
   "metadata": {},
   "outputs": [
    {
     "name": "stderr",
     "output_type": "stream",
     "text": [
      "/work/submit/yitians/anaconda3/envs/21cmfast/lib/python3.7/site-packages/py21cmfast/_cfg.py:59: UserWarning: Your configuration file is out of date. Updating...\n",
      "  \"Your configuration file is out of date. Updating...\"\n",
      "/work/submit/yitians/anaconda3/envs/21cmfast/lib/python3.7/site-packages/py21cmfast/_cfg.py:42: UserWarning: Your configuration file is out of date. Updating...\n",
      "  warnings.warn(\"Your configuration file is out of date. Updating...\")\n"
     ]
    },
    {
     "name": "stdout",
     "output_type": "stream",
     "text": [
      "Using 21cmFAST version 0.1.dev1578+g6f96f89.d20230224\n"
     ]
    }
   ],
   "source": [
    "import py21cmfast as p21c\n",
    "from py21cmfast import plotting, cache_tools\n",
    "print(f'Using 21cmFAST version {p21c.__version__}')\n",
    "logging.getLogger('21cmFAST').setLevel(logging.INFO)\n",
    "logging.getLogger().setLevel(logging.INFO)\n",
    "logging.getLogger('py21cmfast._utils').setLevel(logging.CRITICAL+1)\n",
    "logging.getLogger('py21cmfast.wrapper').setLevel(logging.CRITICAL+1)\n",
    "\n",
    "from dm21cm.dm_params import DMParams\n",
    "from dm21cm.data_loader import load_data\n",
    "import dm21cm.physics as phys\n",
    "from dm21cm.field_smoother import WindowedData # move into dm21cm?\n",
    "\n",
    "from darkhistory.spec.spectrum import Spectrum # use branch numpy issue"
   ]
  },
  {
   "cell_type": "markdown",
   "id": "eb717ff1",
   "metadata": {},
   "source": [
    "## 0. Global config"
   ]
  },
  {
   "cell_type": "code",
   "execution_count": 3,
   "id": "36fdc446",
   "metadata": {
    "tags": []
   },
   "outputs": [
    {
     "name": "stdout",
     "output_type": "stream",
     "text": [
      "CPU(s):                48\n",
      "On-line CPU(s) list:   0-47\n",
      "NUMA node0 CPU(s):     0,2,4,6,8,10,12,14,16,18,20,22,24,26,28,30,32,34,36,38,40,42,44,46\n",
      "NUMA node1 CPU(s):     1,3,5,7,9,11,13,15,17,19,21,23,25,27,29,31,33,35,37,39,41,43,45,47\n"
     ]
    }
   ],
   "source": [
    "! lscpu | grep \"CPU(s)\""
   ]
  },
  {
   "cell_type": "code",
   "execution_count": 4,
   "id": "efe159db",
   "metadata": {
    "tags": []
   },
   "outputs": [],
   "source": [
    "N_THREADS = 32"
   ]
  },
  {
   "cell_type": "code",
   "execution_count": 5,
   "id": "d8696bcd",
   "metadata": {
    "tags": []
   },
   "outputs": [],
   "source": [
    "def get_z_arr(z_start=None, z_end=20):\n",
    "    \n",
    "    if z_start is None:\n",
    "        z_start = p21c.global_params.Z_HEAT_MAX\n",
    "    z_arr = [z_end]\n",
    "    while np.max(z_arr) < z_start:\n",
    "        z_prev = (1 + np.max(z_arr)) * p21c.global_params.ZPRIME_STEP_FACTOR - 1\n",
    "        z_arr.append(z_prev)\n",
    "    return np.array(z_arr[::-1][1:])"
   ]
  },
  {
   "cell_type": "code",
   "execution_count": 6,
   "id": "ac3bab00",
   "metadata": {
    "tags": []
   },
   "outputs": [
    {
     "data": {
      "text/plain": [
       "['xray_test_all_to_unif',\n",
       " 'emf_comp_dh_mh9',\n",
       " 'compdh_base_dhinit',\n",
       " 'phph_phbath_dhinit_Tk_dhinit_uniform',\n",
       " 'phph_phbath_dhinit_Tk_dhinit_uniform_C1',\n",
       " 'phph_dh_phbath_mh3_nophot',\n",
       " 'phot_bath_no_prop',\n",
       " 'phph_dh_phbath_mh3',\n",
       " 'test',\n",
       " 'emf_comp_base',\n",
       " 'emf_comp_spf_mh3',\n",
       " 'testdhph',\n",
       " 'phph_spf_mh3',\n",
       " 'base',\n",
       " 'xray_test',\n",
       " 'emf_comp_dh_mh6',\n",
       " 'phph_dh_mh3',\n",
       " 'compdh_base',\n",
       " 'emf_comp_dh_mh3',\n",
       " 'phph_dh_phbath_mh3_dhinit',\n",
       " 'phph_phbath_dhinit_Tk_dhinit',\n",
       " 'xray_bath_test',\n",
       " 'turnon_phph']"
      ]
     },
     "execution_count": 6,
     "metadata": {},
     "output_type": "execute_result"
    }
   ],
   "source": [
    "# check cached runs\n",
    "CACHE_DIR_BASE = os.environ['P21C_CACHE_DIR']\n",
    "os.listdir(CACHE_DIR_BASE)"
   ]
  },
  {
   "cell_type": "markdown",
   "id": "87887b3c",
   "metadata": {},
   "source": [
    "## 1. Initialization"
   ]
  },
  {
   "cell_type": "code",
   "execution_count": 22,
   "id": "b928da3b",
   "metadata": {
    "tags": []
   },
   "outputs": [],
   "source": [
    "\"\"\"Docstring for all the switches.\n",
    "\n",
    "========== run config ==========\n",
    "run_name : str\n",
    "use_tqdm : bool\n",
    "save_slices : bool\n",
    "    Whether to save slices of T_b, T_k, ... of run.\n",
    "\n",
    "========== physics ==========\n",
    "user_params : UserParams\n",
    "cosmo_params : CosmoParams\n",
    "struct_boost_model : {'erfc 1e-3', 'erfc 1e-6', 'erfc 1e-9'}\n",
    "run_mode : {'no inj', 'bath', 'xray'}\n",
    "    'no inj' runs ye olde 21cmFAST, 'bath' treats every photon as if in bath. 'xray' treats xray seperately.\n",
    "dhinit_list : list\n",
    "    Which variables to initialize with DarkHistory, can include 'phot', 'T_k', 'x_e'.\n",
    "    \n",
    "========== debug ==========\n",
    "DEBUG_ENABLE_ELEC : bool\n",
    "    Electron transfer function not yet implemented.\n",
    "DEBUG_RELOAD_TF : bool\n",
    "    Whether to reload DarkHistoory transfer functions.\n",
    "\"\"\"\n",
    "\n",
    "run_name = 'compdh_base_finestep'\n",
    "use_tqdm = True\n",
    "save_slices = True\n",
    "\n",
    "user_params = p21c.UserParams(\n",
    "    HII_DIM = 50, # [1] | base: 50\n",
    "    BOX_LEN = 50, # [p-Mpc] | base: 50\n",
    "    N_THREADS = N_THREADS\n",
    ")\n",
    "cosmo_params = p21c.CosmoParams(\n",
    "    OMm=0.32,\n",
    "    OMb=0.049,\n",
    "    POWER_INDEX=0.96,\n",
    "    SIGMA_8=0.001, # base 0.83\n",
    "    hlittle=0.67\n",
    ")\n",
    "# astro_params = p21c.AstroParams(\n",
    "#     R_BUBBLE_MAX=1\n",
    "# )\n",
    "# flag_options = p21c.FlagOptions(INHOMO_RECO=False)\n",
    "struct_boost_model = 'erfc 1e-3'\n",
    "run_mode = 'no inj'\n",
    "dhinit_list = ['T_k', 'x_e']\n",
    "\n",
    "DEBUG_ENABLE_ELEC = False\n",
    "DEBUG_RELOAD_TF = False"
   ]
  },
  {
   "cell_type": "code",
   "execution_count": 23,
   "id": "da2f71bd-627d-445a-b426-27f30524c42e",
   "metadata": {},
   "outputs": [],
   "source": [
    "abscs = {}\n",
    "with h5py.File(\"../data/abscissas/abscs_230408x.h5\", 'r') as hf:\n",
    "    for k, v in hf.items():\n",
    "        abscs[k] = v[()]\n",
    "photeng = abscs['photE']\n",
    "eleceng = abscs['elecEk']\n",
    "\n",
    "p21c.config['direc'] = f'{CACHE_DIR_BASE}/{run_name}'\n",
    "os.makedirs(p21c.config['direc'], exist_ok=True)"
   ]
  },
  {
   "cell_type": "code",
   "execution_count": 24,
   "id": "63d42c20",
   "metadata": {
    "tags": []
   },
   "outputs": [
    {
     "name": "stderr",
     "output_type": "stream",
     "text": [
      "2023-06-24 18:15:21,176 | INFO | Removed 0 files from cache.\n",
      "INFO:21cmFAST:Removed 0 files from cache.\n"
     ]
    }
   ],
   "source": [
    "cache_tools.clear_cache()"
   ]
  },
  {
   "cell_type": "code",
   "execution_count": 25,
   "id": "45eb5b8e-ef4e-4227-b475-191058688862",
   "metadata": {},
   "outputs": [],
   "source": [
    "! cp /scratch/submit/ctp/yitians/21cmFAST-cache/compdh_base_dhinit/dhinit_soln.p /scratch/submit/ctp/yitians/21cmFAST-cache/compdh_base_finestep/"
   ]
  },
  {
   "cell_type": "code",
   "execution_count": 46,
   "id": "8ca3f990-ec8a-426c-9a2b-4fb66b6c4c49",
   "metadata": {},
   "outputs": [],
   "source": [
    "! rm /scratch/submit/ctp/yitians/21cmFAST-cache/compdh_base_dhinit/dhinit_soln.p"
   ]
  },
  {
   "cell_type": "markdown",
   "id": "4dd4d73f",
   "metadata": {},
   "source": [
    "## 2. Loop"
   ]
  },
  {
   "cell_type": "code",
   "execution_count": 26,
   "id": "beb64026",
   "metadata": {
    "tags": []
   },
   "outputs": [],
   "source": [
    "# redshift steps\n",
    "p21c.global_params.ZPRIME_STEP_FACTOR = 1.01 # base: 1.05\n",
    "p21c.global_params.Z_HEAT_MAX = 44.\n",
    "z_edges = get_z_arr(z_end=6.)\n",
    "z_mids = np.sqrt(z_edges[1:] * z_edges[:-1])\n",
    "z_dh_stops = z_edges[1]\n",
    "p21c.global_params.CLUMPING_FACTOR = 1.\n",
    "\n",
    "# dark matter\n",
    "#dm_params = DMParams(mode='swave', primary='phot_delta', m_DM=1e10, sigmav=1e-23)\n",
    "dm_params = DMParams(mode='swave', primary='phot_delta', m_DM=1e10, sigmav=1e-50)\n",
    "\n",
    "# DarkHistory\n",
    "rerun_DH = False\n",
    "\n",
    "if len(dhinit_list) > 0:\n",
    "    dhinit_fn = f\"{p21c.config['direc']}/dhinit_soln.p\"\n",
    "    \n",
    "    if os.path.exists(dhinit_fn) and not rerun_DH:\n",
    "        dhinit_soln = pickle.load(open(dhinit_fn, 'rb'))\n",
    "    else:\n",
    "        logging.info('Running DarkHistory to generate initial conditions.')\n",
    "        \n",
    "        import main\n",
    "        dhinit_soln = main.evolve(\n",
    "            DM_process=dm_params.mode, mDM=dm_params.m_DM,\n",
    "            sigmav=dm_params.sigmav, primary=dm_params.primary,\n",
    "            struct_boost=phys.struct_boost_func(model=struct_boost_model),\n",
    "            start_rs=3000, end_rs=(1+z_dh_stops)*0.9, coarsen_factor=12, verbose=1,\n",
    "            reion_switch=False\n",
    "        )\n",
    "        pickle.dump(dhinit_soln, open(dhinit_fn, 'wb'))"
   ]
  },
  {
   "cell_type": "code",
   "execution_count": 27,
   "id": "9b996296",
   "metadata": {
    "tags": []
   },
   "outputs": [
    {
     "name": "stderr",
     "output_type": "stream",
     "text": [
      "/work/submit/yitians/anaconda3/envs/21cmfast/lib/python3.7/site-packages/py21cmfast/inputs.py:488: UserWarning: The USE_INTERPOLATION_TABLES setting has changed in v3.1.2 to be default True. You can likely ignore this warning, but if you relied onhaving USE_INTERPOLATION_TABLES=False by *default*, please set it explicitly. To silence this warning, set it explicitly to True. Thiswarning will be removed in v4.\n",
      "  \"The USE_INTERPOLATION_TABLES setting has changed in v3.1.2 to be \"\n"
     ]
    }
   ],
   "source": [
    "# 21cmFAST\n",
    "initial_conditions = p21c.initial_conditions(\n",
    "    user_params = user_params,\n",
    "    cosmo_params = cosmo_params,\n",
    "    #astro_params = astro_params,\n",
    "    #flag_options = flag_options,\n",
    "    random_seed=54321, write=True,\n",
    ")\n",
    "box_dim = initial_conditions.user_params.HII_DIM\n",
    "box_len = initial_conditions.user_params.BOX_LEN"
   ]
  },
  {
   "cell_type": "code",
   "execution_count": 28,
   "id": "ffb6926e",
   "metadata": {
    "tags": []
   },
   "outputs": [],
   "source": [
    "# xray\n",
    "ex_lo, ex_hi = 1e2, 1e4 # [eV]\n",
    "ix_lo = np.searchsorted(photeng, ex_lo) # i of first bin greater than ex_lo, excluded\n",
    "ix_hi = np.searchsorted(photeng, ex_hi) # i of first bin greater than ex_hi, included\n",
    "\n",
    "def split_xray(phot_N):\n",
    "    bath_N = np.array(phot_N).copy()\n",
    "    xray_N = np.array(phot_N).copy()\n",
    "    bath_N[ix_lo:ix_hi] *= 0\n",
    "    xray_N[:ix_lo] *= 0\n",
    "    xray_N[ix_hi:] *= 0\n",
    "    return bath_N, xray_N\n",
    "\n",
    "attenuation_arr = np.ones((len(z_mids), len(photeng))) # same locations as z_mids\n",
    "xray_shell_Rmax = 0 # [Mpc]"
   ]
  },
  {
   "cell_type": "code",
   "execution_count": 29,
   "id": "b81c00ed-cda4-4b65-aad0-e88484d0c542",
   "metadata": {},
   "outputs": [],
   "source": [
    "os.environ['DM21CM_DATA_DIR'] = '/data/submit/yitians/dm21cm/DM21cm/data'"
   ]
  },
  {
   "cell_type": "code",
   "execution_count": 30,
   "id": "fc49097e",
   "metadata": {
    "tags": []
   },
   "outputs": [
    {
     "name": "stderr",
     "output_type": "stream",
     "text": [
      "INFO:root:xray_brightness.h5 not found\n",
      "  1%|          | 1/187 [00:02<08:21,  2.70s/it]WARNING:root:Not injecting anything in this run!\n",
      "100%|██████████| 187/187 [07:52<00:00,  2.79s/it]"
     ]
    },
    {
     "name": "stdout",
     "output_type": "stream",
     "text": [
      "input used 0.8074 s\n",
      "p21c used 470.6791 s\n"
     ]
    }
   ],
   "source": [
    "# refresh xray structure\n",
    "try:\n",
    "    os.remove(p21c.config['direc']+'/xray_brightness.h5')\n",
    "    logging.info('xray_brightness.h5 removed')\n",
    "except:\n",
    "    logging.info('xray_brightness.h5 not found')\n",
    "\n",
    "xray_windowed_data = WindowedData(\n",
    "    data_path=p21c.config['direc']+'/xray_brightness.h5',\n",
    "    cosmo=Planck18,\n",
    "    N=box_dim,\n",
    "    dx=box_len / box_dim,\n",
    "    cache=True,\n",
    ")\n",
    "\n",
    "# recording\n",
    "records = []\n",
    "input_time_tot = 0.\n",
    "p21c_time_tot = 0.\n",
    "    \n",
    "if save_slices:\n",
    "    saved_slices = []\n",
    "    i_slice = int(box_dim/2)\n",
    "\n",
    "if use_tqdm:\n",
    "    pbar = tqdm(total=len(z_edges)-1, position=0)\n",
    "\n",
    "    \n",
    "for i_z in range(len(z_edges)-1):\n",
    "    \n",
    "    if not use_tqdm:\n",
    "        print(f'i_z={i_z}/{len(z_edges)-1}', flush=True)\n",
    "    input_timer = time.time()\n",
    "    \n",
    "    #========== initialize ==========\n",
    "    prop_phot_N = np.zeros_like(photeng) # [N / Bavg]\n",
    "    emit_phot_N = np.zeros_like(photeng) # [N / Bavg]\n",
    "    dep_box = np.zeros((box_dim, box_dim, box_dim, len(abscs['dep_c'],)))\n",
    "    # last dimension: ('H ion', 'He ion', 'exc', 'heat', 'cont', 'xray')\n",
    "    \n",
    "    if i_z == 0:\n",
    "        \n",
    "        z = z_edges[i_z]\n",
    "        # At this step we will arrive at z_edges[0], so z_mid is not defined yet.\n",
    "        spin_temp = None\n",
    "        input_heating = input_ionization = input_jalpha = None\n",
    "        \n",
    "        \n",
    "        if run_mode != 'no inj':\n",
    "            #----- load tfs -----\n",
    "            if p21c.global_params.ZPRIME_STEP_FACTOR != 1.05:\n",
    "                raise ValueError('p21c.global_params.ZPRIME_STEP_FACTOR must be set to 1.05')\n",
    "            phot_prop_tf = load_data('phot_prop', reload=DEBUG_RELOAD_TF)\n",
    "            phot_scat_tf = load_data('phot_scat', reload=DEBUG_RELOAD_TF)\n",
    "            phot_dep_tf = load_data('phot_dep', reload=DEBUG_RELOAD_TF)\n",
    "            if DEBUG_ENABLE_ELEC:\n",
    "                elec_phot_tf = load_data('elec_phot', reload=DEBUG_RELOAD_TF)\n",
    "                elec_dep_tf = load_data('elec_dep', reload=DEBUG_RELOAD_TF)\n",
    "\n",
    "            #----- initialize DM in_spec -----\n",
    "            phot_prop_tf.set_fixed_in_spec(dm_params.inj_phot_spec.N)\n",
    "            phot_scat_tf.set_fixed_in_spec(dm_params.inj_phot_spec.N)\n",
    "            phot_dep_tf.set_fixed_in_spec(dm_params.inj_phot_spec.N)\n",
    "            if DEBUG_ENABLE_ELEC:\n",
    "                elec_phot_tf.set_fixed_in_spec(dm_params.inj_elec_spec.N)\n",
    "                elec_dep_tf.set_fixed_in_spec(dm_params.inj_elec_spec.N)\n",
    "        \n",
    "            #----- initialize photon bath -----\n",
    "            # note that photon bath also includes all uniform xray contributions\n",
    "            if 'phot' in dhinit_list:\n",
    "                dh_spec = dhinit_soln['highengphot'][-1] # [N per Bavg]\n",
    "                raise NotImplementedError # FIX rs interp\n",
    "                phot_bath_spec = Spectrum(dh_spec.eng, dh_spec.N, rs=1+z_edges[0], spec_type='N')\n",
    "            else:\n",
    "                phot_bath_spec = Spectrum(photeng, np.zeros_like(photeng), rs=1+z_edges[0], spec_type='N') # [N per Bavg]\n",
    "    \n",
    "    \n",
    "    else: # input from second step\n",
    "        \n",
    "        z = z_edges[i_z]\n",
    "        z_mid = z_mids[i_z-1] # At this step we will arrive at z_edges[i], passing through z_mids[i-1].\n",
    "        \n",
    "        input_heating = p21c.input_heating(redshift=z, init_boxes=initial_conditions, write=False)\n",
    "        input_ionization = p21c.input_ionization(redshift=z, init_boxes=initial_conditions, write=False)\n",
    "        input_jalpha = p21c.input_jalpha(redshift=z, init_boxes=initial_conditions, write=False)\n",
    "\n",
    "        if run_mode == 'no inj':\n",
    "            if i_z == 1:\n",
    "                logging.warning('Not injecting anything in this run!')\n",
    "\n",
    "        else:\n",
    "            #========== calculate some quantities ==========\n",
    "            z_prev = z_edges[i_z-1]\n",
    "            dt = phys.dt_between_z(z_prev, z) # [s]\n",
    "            if dm_params.mode == 'swave':\n",
    "                struct_boost = phys.struct_boost_func(model=struct_boost_model)(1+z_mid)\n",
    "            else:\n",
    "                struct_boost = 1\n",
    "            n_Bavg = phys.n_B * (1+z_mid)**3 # [Bavg cm^-3]\n",
    "            \n",
    "            #----- boxes -----\n",
    "            delta_box = jnp.asarray(perturbed_field.density)\n",
    "            B_per_Bavg = 1 + delta_box\n",
    "            rho_DM_box = (1 + delta_box) * phys.rho_DM * (1+z_mid)**3 # [eV cm^-3]\n",
    "            x_e_box = jnp.asarray(1 - ionized_box.xH_box)\n",
    "            inj_per_Bavg_box = phys.inj_rate(rho_DM_box, dm_params) * dt * struct_boost / n_Bavg # [inj/Bavg]\n",
    "            \n",
    "            tf_kwargs = dict(\n",
    "                rs = 1 + z_mid,\n",
    "                nBs_s = (1+delta_box).ravel(),\n",
    "                x_s = x_e_box.ravel(),\n",
    "                out_of_bounds_action = 'clip',\n",
    "            )\n",
    "            \n",
    "            #----- attenuation -----\n",
    "            dep_tf_at_point = phot_dep_tf.point_interp(rs=1+z, nBs=1, x=np.mean(x_e_box))\n",
    "            dep_toteng = np.sum(dep_tf_at_point[:, :4], axis=1)\n",
    "            attenuation_arr[i_z-1, :] = 1 - dep_toteng/photeng\n",
    "            \n",
    "            #========== initialize ==========\n",
    "            prop_phot_N = np.zeros_like(photeng) # [N / Bavg]\n",
    "            emit_phot_N = np.zeros_like(photeng) # [N / Bavg]\n",
    "            dep_box = np.zeros((box_dim, box_dim, box_dim, len(abscs['dep_c'],)))\n",
    "            # last dimension: ('H ion', 'He ion', 'exc', 'heat', 'cont', 'xray')\n",
    "            \n",
    "            #========== photon bath -> prop emit dep ==========\n",
    "            prop_phot_N += phot_prop_tf(\n",
    "                in_spec=phot_bath_spec.N, sum_result=True, **tf_kwargs,\n",
    "            ) / (box_dim ** 3) # [N / Bavg]\n",
    "            \n",
    "            emit_phot_N += phot_scat_tf(\n",
    "                in_spec=phot_bath_spec.N, sum_result=True, **tf_kwargs,\n",
    "            ) / (box_dim ** 3) # [N / Bavg]\n",
    "            \n",
    "            dep_box += phot_dep_tf(\n",
    "                in_spec=phot_bath_spec.N, sum_result=False, **tf_kwargs,\n",
    "            ).reshape(dep_box.shape) # [eV / Bavg]\n",
    "            \n",
    "            #========== DM (prompt phot+elec) -> emit dep ==========\n",
    "            emit_phot_N += phot_prop_tf(\n",
    "                in_spec=dm_params.inj_phot_spec.N, sum_result=True, sum_weight=inj_per_Bavg_box.ravel(), **tf_kwargs,\n",
    "            ) / (box_dim ** 3) # [N / Bavg]\n",
    "            \n",
    "            emit_phot_N += phot_scat_tf(\n",
    "                in_spec=dm_params.inj_phot_spec.N, sum_result=True, sum_weight=inj_per_Bavg_box.ravel(), **tf_kwargs,\n",
    "            ) / (box_dim ** 3) # [N / Bavg]\n",
    "\n",
    "            dep_box += phot_dep_tf(\n",
    "                in_spec=dm_params.inj_phot_spec.N, sum_result=False, **tf_kwargs,\n",
    "            ).reshape(dep_box.shape) * inj_per_Bavg_box[..., None] # [eV / Bavg]\n",
    "\n",
    "            if DEBUG_ENABLE_ELEC:\n",
    "                emit_phot_N += elec_phot_tf(\n",
    "                    in_spec=dm_params.inj_elec_spec.N, sum_result=True, sum_weight=inj_per_Bavg_box.ravel(), **tf_kwargs,\n",
    "                ) / (box_dim ** 3) # [N / Bavg]\n",
    "                \n",
    "                dep_box += elec_dep_tf(\n",
    "                    in_spec=dm_params.inj_elec_spec.N, sum_result=False, **tf_kwargs,\n",
    "                ).reshape(dep_box.shape) * inj_per_Bavg_box[..., None] # [eV / Bavg]\n",
    "            \n",
    "            #========== emitted xray (difference) -> emit dep ==========\n",
    "            if run_mode == 'xray':\n",
    "                \n",
    "                xray_unif_N = np.zeros_like(photeng)\n",
    "                \n",
    "                for i_z_shell in range(2, i_z):\n",
    "                    R1, R2 = xray_windowed_data.get_smoothing_radii(\n",
    "                        z, z_edges[i_z_shell], z_edges[i_z_shell+1]\n",
    "                    )\n",
    "                    if not use_tqdm:\n",
    "                        print(f'  i_z_shell={i_z_shell} {R2:.1f} -> {R1:.1f} Mpc', end='', flush=True)\n",
    "                    \n",
    "                    if np.max([R1, R2]) < xray_shell_Rmax:\n",
    "                        xray_e_box, xray_N = xray_windowed_data.get_smoothed_shell(\n",
    "                            z_receiver = z,\n",
    "                            z_donor = z_edges[i_z_shell],\n",
    "                            z_next_donor = z_edges[i_z_shell+1]\n",
    "                        )\n",
    "                        \n",
    "                        xray_spec = Spectrum(photeng, xray_N, rs=z_edges[i_z_shell], spec_type='N') # [photon / Bavg]\n",
    "                        for j in range(i_z_shell, i_z+1): # j is the i_z to get to.\n",
    "                            xray_spec.N *= attenuation_arr[j-1]\n",
    "                            xray_spec.redshift(1+z_edges[j])\n",
    "                        # Note: xray_mean_eng = xray_spec.toteng() # unit: [eV / Bavg]\n",
    "                        # Note: xray_e_box = local xray band energy / mean xray band energy\n",
    "                        emit_phot_N += phot_scat_tf(\n",
    "                            in_spec=xray_spec.N, sum_result=True, sum_weight=xray_e_box.ravel(), **tf_kwargs,\n",
    "                        ) / (box_dim ** 3) # [N / Bavg]\n",
    "\n",
    "                        dep_box += phot_dep_tf(\n",
    "                            in_spec=xray_spec.N, sum_result=False, **tf_kwargs,\n",
    "                        ).reshape(dep_box.shape) * xray_e_box[..., None] # [eV / Bavg] # CHECK SHAPE HERE\n",
    "                        \n",
    "                    else:\n",
    "                        if not use_tqdm:\n",
    "                            print(f' exceeding Rmax={xray_shell_Rmax}. Going into uniform.', end='', flush=True)\n",
    "                        xray_N = xray_windowed_data.get_spec(\n",
    "                            z_receiver = z,\n",
    "                            z_donor = z_edges[i_z_shell],\n",
    "                            z_next_donor = z_edges[i_z_shell+1]\n",
    "                        )\n",
    "                        \n",
    "                        xray_spec = Spectrum(photeng, xray_N, rs=z_edges[i_z_shell], spec_type='N') # [photon / Bavg]\n",
    "                        for j in range(i_z_shell, i_z+1): # j is the i_z to get to.\n",
    "                            xray_spec.N *= attenuation_arr[j-1]\n",
    "                            xray_spec.redshift(1+z_edges[j])\n",
    "                            \n",
    "                        xray_unif_N += xray_spec.N\n",
    "                    \n",
    "                    if not use_tqdm:\n",
    "                        print('', flush=True)\n",
    "                if not np.all(xray_unif_N == 0):\n",
    "                    emit_phot_N += phot_scat_tf(\n",
    "                        in_spec=xray_unif_N, sum_result=True, **tf_kwargs,\n",
    "                    ) / (box_dim ** 3) # [N / Bavg]\n",
    "\n",
    "                    dep_box += phot_dep_tf(\n",
    "                        in_spec=xray_unif_N, sum_result=False, **tf_kwargs,\n",
    "                    ).reshape(dep_box.shape) # [eV / Bavg] # CHECK SHAPE HERE\n",
    "            else:\n",
    "                pass # do nothing, because xray will be in photon bath already\n",
    "\n",
    "            #========== update input_boxes ==========\n",
    "            input_heating.input_heating += np.array(\n",
    "                2 / (3*phys.kB*(1+x_e_box)) * dep_box[...,3] / B_per_Bavg\n",
    "            ) # [K/Bavg] / [B/Bavg] = [K/B]\n",
    "            input_ionization.input_ionization += np.array(\n",
    "                (dep_box[...,0] + dep_box[...,1]) / phys.rydberg / B_per_Bavg\n",
    "            ) # [1/Bavg] / [B/Bavg] = [1/B]\n",
    "            \n",
    "            n_lya = dep_box[...,2] * n_Bavg / phys.lya_eng # [lya cm^-3]\n",
    "            dnu_lya = (phys.rydberg - phys.lya_eng) / (2*np.pi*phys.hbar) # [Hz^-1]\n",
    "            J_lya = n_lya * phys.c / (4*np.pi) / dnu_lya # [lya cm^-2 s^-1 sr^-1 Hz^-1]\n",
    "            input_jalpha.input_jalpha += np.array(J_lya)\n",
    "            \n",
    "            #========== record ==========\n",
    "            dE_inj_per_Bavg = dm_params.eng_per_inj * np.mean(inj_per_Bavg_box) # [eV per Bavg]\n",
    "            dE_inj_per_Bavg_unclustered = dE_inj_per_Bavg / struct_boost\n",
    "            record_inj = {\n",
    "                'dE_inj_per_B' : dE_inj_per_Bavg,\n",
    "                'f_heat' : np.mean(dep_box[...,3]) / dE_inj_per_Bavg_unclustered,\n",
    "                'f_ion'  : np.mean(dep_box[...,0] + dep_box[...,1]) / dE_inj_per_Bavg_unclustered,\n",
    "                'f_exc'  : np.mean(dep_box[...,2]) / dE_inj_per_Bavg_unclustered,\n",
    "            }\n",
    "            \n",
    "    input_time_tot += time.time() - input_timer\n",
    "\n",
    "    #========== step in 21cmFAST ==========\n",
    "    p21c_timer = time.time()\n",
    "    perturbed_field = p21c.perturb_field( # perturbed_field controls the redshift\n",
    "        redshift=z,\n",
    "        init_boxes=initial_conditions\n",
    "    )\n",
    "    spin_temp = p21c.spin_temperature(\n",
    "        perturbed_field=perturbed_field,\n",
    "        previous_spin_temp=spin_temp,\n",
    "        input_heating_box=input_heating,\n",
    "        input_ionization_box=input_ionization,\n",
    "        input_jalpha_box=input_jalpha,\n",
    "        write=True\n",
    "    )\n",
    "    ionized_box = p21c.ionize_box(\n",
    "        spin_temp=spin_temp\n",
    "    )\n",
    "    brightness_temp = p21c.brightness_temperature(\n",
    "        ionized_box=ionized_box,\n",
    "        perturbed_field=perturbed_field,\n",
    "        spin_temp=spin_temp\n",
    "    )\n",
    "    coeval = p21c.Coeval(\n",
    "        redshift = z,\n",
    "        initial_conditions = initial_conditions,\n",
    "        perturbed_field = perturbed_field,\n",
    "        ionized_box = ionized_box,\n",
    "        brightness_temp = brightness_temp,\n",
    "        ts_box = spin_temp,\n",
    "    )\n",
    "    p21c_time_tot += time.time() - p21c_timer\n",
    "    \n",
    "    if i_z == 0:\n",
    "        if 'T_k' in dhinit_list:\n",
    "            T_k_DH = np.interp(z_edges[1], dhinit_soln['rs'][::-1] - 1, dhinit_soln['Tm'][::-1] / phys.kB) # [K]\n",
    "            spin_temp.Tk_box += T_k_DH - np.mean(spin_temp.Tk_box)\n",
    "            # T_k_21cmfast = np.mean(spin_temp.Tk_box)\n",
    "            # input_heating.input_heating += (T_k_DH - T_k_21cmfast) # old method of adjusting input boxes\n",
    "\n",
    "        if 'x_e' in dhinit_list:\n",
    "            x_e_DH = np.interp(z_edges[1], dhinit_soln['rs'][::-1] - 1, dhinit_soln['x'][::-1, 0]) # HI\n",
    "            spin_temp.x_e_box += x_e_DH - np.mean(spin_temp.x_e_box)\n",
    "            # x_e_21cmfast = np.mean(1 - ionized_box.xH_box)\n",
    "            # input_ionization.input_ionization += (x_e_DH - x_e_21cmfast) # old method of adjusting input boxes\n",
    "    \n",
    "    #========== prepare for next step ==========\n",
    "    if i_z >= 1:\n",
    "        if run_mode == 'xray':\n",
    "            emit_bath_N, emit_xray_N = split_xray(emit_phot_N)\n",
    "            out_phot_N = prop_phot_N + emit_bath_N\n",
    "\n",
    "            # emit_xray_spec = Spectrum(photeng, emit_xray_N, rs=1+z, spec_type='N')\n",
    "            if not use_tqdm:\n",
    "                print(f'  xray band energy = {np.dot(photeng, emit_xray_N):.3e} = {np.mean(dep_box[..., 5]):.3e} eV / Bavg', flush=True)\n",
    "            xray_e_box = dep_box[..., 5] / np.dot(photeng, emit_xray_N)\n",
    "            # The mean energy for dep_box[..., 5] should be close to emit_xray_N.toteng()\n",
    "            # for the above to work, every time emit_phot_N is populated, dep_box must be populated by the same input spectrum.\n",
    "            xray_windowed_data.set_field(field=xray_e_box, spec=emit_xray_N, z=z)\n",
    "            # xray_windowed_data.global_Tk = np.append(xray_windowed_data.global_Tk, np.mean(spin_temp.Tk_box))\n",
    "            # xray_windowed_data.global_x = np.append(xray_windowed_data.global_x, np.mean(ionized_field.xH_box))\n",
    "        else:\n",
    "            out_phot_N = prop_phot_N + emit_phot_N # everything treated as uniform\n",
    "    \n",
    "        out_phot_spec = Spectrum(photeng, out_phot_N, rs=1+z, spec_type='N')    \n",
    "        if z != z_edges[-1]:\n",
    "            out_phot_spec.redshift(1+z_edges[i_z+1])\n",
    "            phot_bath_spec = out_phot_spec\n",
    "\n",
    "    #========== save results ==========\n",
    "    record = {\n",
    "        'z'   : z_edges[i_z+1],\n",
    "        'T_s' : np.mean(spin_temp.Ts_box), # [mK]\n",
    "        'T_b' : np.mean(brightness_temp.brightness_temp), # [K]\n",
    "        'T_k' : np.mean(spin_temp.Tk_box), # [K]\n",
    "        'x_e' : np.mean(1 - ionized_box.xH_box), # [1]\n",
    "    }\n",
    "    if run_mode in ['bath', 'xray']:\n",
    "        record.update(record_inj)\n",
    "    records.append(record)\n",
    "        \n",
    "    if save_slices:\n",
    "        saved_slices.append({\n",
    "            'z'   : z,\n",
    "            'T_s' : spin_temp.Ts_box[i_slice], # [mK]\n",
    "            'T_b' : brightness_temp.brightness_temp[i_slice], # [K]\n",
    "            'T_k' : spin_temp.Tk_box[i_slice], # [K]\n",
    "            'x_e' : 1 - ionized_box.xH_box[i_slice], # [1]\n",
    "            'delta' : perturbed_field.density[i_slice], # [1]\n",
    "        })\n",
    "        \n",
    "    if use_tqdm:\n",
    "        pbar.update()\n",
    "        \n",
    "#========== end of loop ==========\n",
    "    \n",
    "print(f'input used {input_time_tot:.4f} s')\n",
    "print(f'p21c used {p21c_time_tot:.4f} s')\n",
    "\n",
    "arr_records = {k: np.array([r[k] for r in records]) for k in records[0].keys()}\n",
    "np.save(f'../data/run_info/{run_name}_records', arr_records)\n",
    "if save_slices:\n",
    "    np.save(f'../data/run_info/{run_name}_slices', saved_slices)"
   ]
  },
  {
   "cell_type": "code",
   "execution_count": 80,
   "id": "a2137bd6-8a1c-4a53-ba81-57e09050bf18",
   "metadata": {},
   "outputs": [
    {
     "name": "stdout",
     "output_type": "stream",
     "text": [
      "36.059730570210355 41.87837277294689\n"
     ]
    }
   ],
   "source": [
    "print(dhinit_soln['Tm'][-1] / phys.kB, dhinit_soln['rs'][-1]-1)"
   ]
  },
  {
   "cell_type": "code",
   "execution_count": 87,
   "id": "056d5eb7-e802-47d6-8090-b3984be33980",
   "metadata": {
    "collapsed": true,
    "jupyter": {
     "outputs_hidden": true
    },
    "tags": []
   },
   "outputs": [
    {
     "data": {
      "text/plain": [
       "array([3000.        , 2964.21513859, 2928.85712927, 2893.92088045,\n",
       "       2859.40136123, 2825.29360075, 2791.59268743, 2758.29376829,\n",
       "       2725.39204821, 2692.88278929, 2660.76131015, 2629.02298524,\n",
       "       2597.66324418, 2566.67757111, 2536.06150405, 2505.81063423,\n",
       "       2475.92060548, 2446.38711356, 2417.20590562, 2388.37277951,\n",
       "       2359.8835832 , 2331.73421421, 2303.92061897, 2276.43879228,\n",
       "       2249.28477672, 2222.45466205, 2195.94458468, 2169.75072714,\n",
       "       2143.86931745, 2118.29662864, 2093.02897821, 2068.06272757,\n",
       "       2043.39428154, 2019.02008781, 1994.93663647, 1971.14045945,\n",
       "       1947.62813006, 1924.39626248, 1901.4415113 , 1878.76057097,\n",
       "       1856.35017542, 1834.2070975 , 1812.32814857, 1790.71017802,\n",
       "       1769.35007284, 1748.24475712, 1727.39119167, 1706.78637354,\n",
       "       1686.42733559, 1666.31114609, 1646.43490828, 1626.79575994,\n",
       "       1607.390873  , 1588.21745313, 1569.27273931, 1550.55400348,\n",
       "       1532.0585501 , 1513.7837158 , 1495.72686897, 1477.8854094 ,\n",
       "       1460.25676788, 1442.83840586, 1425.62781506, 1408.62251713,\n",
       "       1391.82006327, 1375.21803392, 1358.81403833, 1342.60571431,\n",
       "       1326.59072784, 1310.76677272, 1295.13157029, 1279.68286904,\n",
       "       1264.41844433, 1249.33609806, 1234.43365835, 1219.70897922,\n",
       "       1205.15994029, 1190.78444648, 1176.58042768, 1162.5458385 ,\n",
       "       1148.67865793, 1134.97688906, 1121.43855884, 1108.0617177 ,\n",
       "       1094.84443936, 1081.78482052, 1068.88098056, 1056.13106131,\n",
       "       1043.53322675, 1031.08566278, 1018.78657693, 1006.63419811,\n",
       "        994.62677635,  982.76258257,  971.0399083 ,  959.45706545,\n",
       "        948.01238608,  936.70422212,  925.5309452 ,  914.49094633,\n",
       "        903.58263574,  892.8044426 ,  882.15481486,  871.63221892,\n",
       "        861.23513954,  850.9620795 ,  840.81155947,  830.78211776,\n",
       "        820.87231011,  811.08070949,  801.4059059 ,  791.84650614,\n",
       "        782.40113364,  773.06842826,  763.84704607,  754.73565918,\n",
       "        745.73295552,  736.8376387 ,  728.04842777,  719.36405708,\n",
       "        710.78327605,  702.30484904,  693.92755514,  685.65018801,\n",
       "        677.47155569,  669.39048045,  661.40579859,  653.51636031,\n",
       "        645.72102951,  638.01868366,  630.4082136 ,  622.88852342,\n",
       "        615.45853025,  608.11716418,  600.86336804,  593.69609725,\n",
       "        586.61431973,  579.61701569,  572.70317749,  565.87180955,\n",
       "        559.12192812,  552.45256121,  545.86274843,  539.35154083,\n",
       "        532.91800079,  526.56120185,  520.28022864,  514.07417668,\n",
       "        507.94215229,  501.88327245,  495.89666466,  489.98146686,\n",
       "        484.13682723,  478.36190414,  472.65586599,  467.0178911 ,\n",
       "        461.4471676 ,  455.94289329,  450.50427554,  445.13053118,\n",
       "        439.82088639,  434.57457657,  429.39084624,  424.26894893,\n",
       "        419.20814708,  414.20771193,  409.26692341,  404.38507003,\n",
       "        399.5614488 ,  394.79536511,  390.08613264,  385.43307324,\n",
       "        380.83551687,  376.29280147,  371.80427289,  367.36928476,\n",
       "        362.98719844,  358.65738291,  354.37921467,  350.15207764,\n",
       "        345.97536311,  341.84846964,  337.77080294,  333.74177581,\n",
       "        329.76080808,  325.82732647,  321.94076457,  318.10056269,\n",
       "        314.30616784,  310.55703362,  306.85262015,  303.19239398,\n",
       "        299.57582805,  296.00240155,  292.47159992,  288.98291469,\n",
       "        285.53584351,  282.12988998,  278.76456364,  275.43937988,\n",
       "        272.15385987,  268.90753048,  265.69992424,  262.53057926,\n",
       "        259.39903912,  256.3048529 ,  253.24757502,  250.22676523,\n",
       "        247.24198852,  244.29281509,  241.37882025,  238.49958437,\n",
       "        235.65469285,  232.84373601,  230.06630906,  227.32201207,\n",
       "        224.61044984,  221.9312319 ,  219.28397244,  216.66829025,\n",
       "        214.08380867,  211.53015553,  209.00696309,  206.51386802,\n",
       "        204.05051131,  201.61653822,  199.21159826,  196.83534511,\n",
       "        194.4874366 ,  192.16753461,  189.87530508,  187.61041792,\n",
       "        185.37254698,  183.16137002,  180.9765686 ,  178.81782813,\n",
       "        176.68483773,  174.57729025,  172.4948822 ,  170.43731372,\n",
       "        168.4042885 ,  166.39551379,  164.41070033,  162.44956228,\n",
       "        160.51181726,  158.59718622,  156.70539344,  154.83616651,\n",
       "        152.98923626,  151.16433672,  149.3612051 ,  147.57958176,\n",
       "        145.81921013,  144.07983673,  142.36121106,  140.66308566,\n",
       "        138.98521598,  137.32736042,  135.68928023,  134.07073954,\n",
       "        132.47150526,  130.89134711,  129.33003753,  127.78735171,\n",
       "        126.26306749,  124.75696536,  123.26882846,  121.79844248,\n",
       "        120.34559568,  118.91007886,  117.4916853 ,  116.09021074,\n",
       "        114.70545337,  113.33721379,  111.98529496,  110.6495022 ,\n",
       "        109.32964317,  108.02552779,  106.73696828,  105.46377907,\n",
       "        104.20577683,  102.96278041,  101.7346108 ,  100.52109115,\n",
       "         99.32204671,   98.13730482,   96.96669487,   95.81004829,\n",
       "         94.66719852,   93.53798099,   92.4222331 ,   91.31979416,\n",
       "         90.23050544,   89.15421006,   88.09075304,   87.03998125,\n",
       "         86.00174336,   84.97588987,   83.96227305,   82.96074695,\n",
       "         81.97116734,   80.99339172,   80.02727929,   79.07269092,\n",
       "         78.12948916,   77.19753818,   76.27670378,   75.36685335,\n",
       "         74.46785589,   73.57958192,   72.70190354,   71.83469436,\n",
       "         70.9778295 ,   70.13118556,   69.29464065,   68.46807428,\n",
       "         67.65136743,   66.84440249,   66.04706326,   65.25923493,\n",
       "         64.48080404,   63.71165849,   62.95168753,   62.20078173,\n",
       "         61.45883294,   60.72573434,   60.00138034,   59.28566665,\n",
       "         58.57849019,   57.87974914,   57.18934287,   56.50717197,\n",
       "         55.8331382 ,   55.16714449,   54.50909495,   53.85889482,\n",
       "         53.21645046,   52.58166935,   51.9544601 ,   51.33473239,\n",
       "         50.72239696,   50.11736564,   49.51955131,   48.92886789,\n",
       "         48.3452303 ,   47.76855451,   47.19875748,   46.63575715,\n",
       "         46.07947245,   45.52982327,   44.98673046,   44.45011582,\n",
       "         43.91990208,   43.39601288,   42.87837277])"
      ]
     },
     "execution_count": 87,
     "metadata": {},
     "output_type": "execute_result"
    }
   ],
   "source": [
    "dhinit_soln['rs']"
   ]
  },
  {
   "cell_type": "code",
   "execution_count": 84,
   "id": "30d86169-ab22-455c-b42e-249039163406",
   "metadata": {},
   "outputs": [
    {
     "name": "stdout",
     "output_type": "stream",
     "text": [
      "38.60585 41.56984859939324 43.6983410293629\n"
     ]
    }
   ],
   "source": [
    "print(records[0]['T_k'], records[0]['z'], z_edges[0])"
   ]
  },
  {
   "cell_type": "code",
   "execution_count": null,
   "id": "51ea72b3-f0bd-4b66-b0ef-363d351ba39d",
   "metadata": {},
   "outputs": [],
   "source": [
    "logging.getLogger().setLevel(logging.INFO+1)\n",
    "fig, ax = plt.subplots()\n",
    "for i, a in enumerate(attenuation_arr):\n",
    "    ax.plot(photeng, a, alpha=0.1, color=mpl.colormaps['rainbow'](i/(len(attenuation_arr)-1)))\n",
    "ax.set(xscale='log', yscale='log')\n",
    "logging.getLogger().setLevel(logging.INFO)"
   ]
  },
  {
   "cell_type": "markdown",
   "id": "1c6f1144",
   "metadata": {
    "tags": []
   },
   "source": [
    "## 3. Lightcone"
   ]
  },
  {
   "cell_type": "code",
   "execution_count": 29,
   "id": "becba426",
   "metadata": {},
   "outputs": [],
   "source": [
    "import powerbox\n",
    "# import importlib\n",
    "# importlib.reload(powerbox)"
   ]
  },
  {
   "cell_type": "code",
   "execution_count": 39,
   "id": "1d886a3c",
   "metadata": {
    "tags": []
   },
   "outputs": [],
   "source": [
    "lightcone = p21c.run_lightcone(\n",
    "    redshift = z_edges[-1],\n",
    "    user_params  = spin_temp.user_params,\n",
    "    cosmo_params = spin_temp.cosmo_params,\n",
    "    astro_params = spin_temp.astro_params,\n",
    "    flag_options = spin_temp.flag_options,\n",
    ")"
   ]
  },
  {
   "cell_type": "code",
   "execution_count": null,
   "id": "8b31d232",
   "metadata": {
    "tags": []
   },
   "outputs": [],
   "source": [
    "fig, ax = plt.subplots(figsize = (15, 10))\n",
    "plotting.lightcone_sliceplot(lightcone, fig=fig, ax=ax)\n",
    "ax.set(aspect=10)"
   ]
  },
  {
   "cell_type": "code",
   "execution_count": 40,
   "id": "be7e8ef2",
   "metadata": {
    "tags": []
   },
   "outputs": [],
   "source": [
    "def compute_power(\n",
    "   box,\n",
    "   length,\n",
    "   n_psbins,\n",
    "   log_bins=True,\n",
    "   ignore_kperp_zero=True,\n",
    "   ignore_kpar_zero=False,\n",
    "   ignore_k_zero=False,\n",
    "):\n",
    "    # Determine the weighting function required from ignoring k's.\n",
    "    k_weights = np.ones(box.shape, int)\n",
    "    n0 = k_weights.shape[0]\n",
    "    n1 = k_weights.shape[-1]\n",
    "\n",
    "    if ignore_kperp_zero:\n",
    "        k_weights[n0 // 2, n0 // 2, :] = 0\n",
    "    if ignore_kpar_zero:\n",
    "        k_weights[:, :, n1 // 2] = 0\n",
    "    if ignore_k_zero:\n",
    "        k_weights[n0 // 2, n0 // 2, n1 // 2] = 0\n",
    "\n",
    "    res = powerbox.tools.get_power(\n",
    "        box,\n",
    "        boxlength=length,\n",
    "        bins=n_psbins,\n",
    "        bin_ave=False,\n",
    "        get_variance=False,\n",
    "        log_bins=log_bins,\n",
    "        k_weights=k_weights,\n",
    "    )\n",
    "\n",
    "    res = list(res)\n",
    "    k = res[1]\n",
    "    if log_bins:\n",
    "        k = np.exp((np.log(k[1:]) + np.log(k[:-1])) / 2)\n",
    "    else:\n",
    "        k = (k[1:] + k[:-1]) / 2\n",
    "\n",
    "    res[1] = k\n",
    "    return res\n",
    "\n",
    "def powerspectra(brightness_temp, n_psbins=50, nchunks=20, min_k=0.1, max_k=1.0, logk=True):\n",
    "    data = []\n",
    "    chunk_indices = list(range(0,brightness_temp.n_slices,round(brightness_temp.n_slices / nchunks),))    \n",
    "    \n",
    "    if len(chunk_indices) > nchunks:\n",
    "        chunk_indices = chunk_indices[:-1]\n",
    "    chunk_indices.append(brightness_temp.n_slices)\n",
    "\n",
    "    for i in range(nchunks):\n",
    "        start = chunk_indices[i]\n",
    "        end = chunk_indices[i + 1]\n",
    "        chunklen = (end - start) * brightness_temp.cell_size\n",
    "\n",
    "        power, k = compute_power(\n",
    "            brightness_temp.brightness_temp[:, :, start:end],\n",
    "            (BOX_LEN, BOX_LEN, chunklen),\n",
    "            n_psbins,\n",
    "            log_bins=logk,\n",
    "        )\n",
    "        data.append({\"k\": k, \"delta\": power * k ** 3 / (2 * np.pi ** 2)})\n",
    "    return data"
   ]
  },
  {
   "cell_type": "code",
   "execution_count": 41,
   "id": "58d4f694",
   "metadata": {
    "tags": []
   },
   "outputs": [],
   "source": [
    "BOX_LEN = 50\n",
    "HII_DIM = 50\n",
    "\n",
    "k_fundamental = 2*np.pi / BOX_LEN\n",
    "k_max = k_fundamental * HII_DIM\n",
    "Nk = np.floor(HII_DIM/1).astype(int)"
   ]
  },
  {
   "cell_type": "code",
   "execution_count": 42,
   "id": "1d89af60",
   "metadata": {
    "tags": []
   },
   "outputs": [],
   "source": [
    "out = powerspectra(lightcone, min_k=k_fundamental, max_k=k_max)"
   ]
  },
  {
   "cell_type": "code",
   "execution_count": 43,
   "id": "fdca6ce9",
   "metadata": {
    "tags": []
   },
   "outputs": [],
   "source": [
    "pickle.dump(out, open(f'../data/run_info/{run_name}_ps', 'wb'))"
   ]
  },
  {
   "cell_type": "code",
   "execution_count": null,
   "id": "dbd38feb",
   "metadata": {},
   "outputs": [],
   "source": []
  }
 ],
 "metadata": {
  "kernelspec": {
   "display_name": "21cmfast",
   "language": "python",
   "name": "21cmfast"
  },
  "language_info": {
   "codemirror_mode": {
    "name": "ipython",
    "version": 3
   },
   "file_extension": ".py",
   "mimetype": "text/x-python",
   "name": "python",
   "nbconvert_exporter": "python",
   "pygments_lexer": "ipython3",
   "version": "3.7.12"
  }
 },
 "nbformat": 4,
 "nbformat_minor": 5
}
