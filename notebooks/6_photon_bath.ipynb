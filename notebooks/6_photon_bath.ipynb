{
 "cells": [
  {
   "cell_type": "code",
   "execution_count": 1,
   "id": "4bfcc4c4-dd1c-4f43-a772-784a8c58d84a",
   "metadata": {
    "tags": []
   },
   "outputs": [
    {
     "name": "stderr",
     "output_type": "stream",
     "text": [
      "/n/home07/yitians/anaconda3/envs/21cmfast/lib/python3.10/site-packages/py21cmfast/_cfg.py:58: UserWarning: Your configuration file is out of date. Updating...\n",
      "  warnings.warn(\n",
      "/n/home07/yitians/anaconda3/envs/21cmfast/lib/python3.10/site-packages/py21cmfast/_cfg.py:42: UserWarning: Your configuration file is out of date. Updating...\n",
      "  warnings.warn(\"Your configuration file is out of date. Updating...\")\n"
     ]
    },
    {
     "name": "stdout",
     "output_type": "stream",
     "text": [
      "Using 21cmFAST version 0.1.dev1579+g6b1da6d.d20230421\n"
     ]
    }
   ],
   "source": [
    "%reload_ext autoreload\n",
    "%autoreload 2\n",
    "\n",
    "import os, sys\n",
    "if os.environ['USER'] == 'yitians' and 'submit' in os.uname().nodename:\n",
    "    os.environ['DM21CM_DATA_DIR'] = '/data/submit/yitians/dm21cm/DM21cm'\n",
    "    os.environ['DH_DIR'] = '/work/submit/yitians/darkhistory/DarkHistory'\n",
    "sys.path.append('..')\n",
    "sys.path.append(os.environ['DH_DIR'])\n",
    "\n",
    "from tqdm import tqdm\n",
    "import time\n",
    "import pickle\n",
    "\n",
    "import numpy as np\n",
    "import jax\n",
    "import jax.numpy as jnp\n",
    "\n",
    "import py21cmfast as p21c\n",
    "from py21cmfast import plotting, cache_tools\n",
    "print(f'Using 21cmFAST version {p21c.__version__}')\n",
    "\n",
    "%matplotlib inline\n",
    "import matplotlib as mpl\n",
    "import matplotlib.pyplot as plt\n",
    "from matplotlib import cm\n",
    "mpl.rc_file('../matplotlibrc')"
   ]
  },
  {
   "cell_type": "code",
   "execution_count": 2,
   "id": "97520d14-5f8e-47cc-8f8f-ccc4dfe10a21",
   "metadata": {
    "tags": []
   },
   "outputs": [],
   "source": [
    "import logging\n",
    "logger = logging.getLogger('21cmFAST')\n",
    "logger.setLevel(logging.INFO)\n",
    "logging.getLogger('py21cmfast._utils').setLevel(logging.CRITICAL+1)\n",
    "logging.getLogger('py21cmfast.wrapper').setLevel(logging.CRITICAL+1)"
   ]
  },
  {
   "cell_type": "code",
   "execution_count": 3,
   "id": "268ca8d7-8904-4024-9549-214816b74a44",
   "metadata": {
    "tags": []
   },
   "outputs": [
    {
     "name": "stdout",
     "output_type": "stream",
     "text": [
      "/n/holyscratch01/iaifi_lab/yitians/darkhistory/DHdata_v1_1\n"
     ]
    }
   ],
   "source": [
    "from dm21cm.dm_params import DMParams\n",
    "from dm21cm.data_loader import load_data\n",
    "import dm21cm.physics as phys\n",
    "\n",
    "from darkhistory.spec.spectrum import Spectrum # use branch numpy issue"
   ]
  },
  {
   "cell_type": "code",
   "execution_count": 4,
   "id": "82a62a4e-fce1-4570-83f2-c6a98a69fce7",
   "metadata": {
    "tags": []
   },
   "outputs": [
    {
     "data": {
      "text/plain": [
       "[StreamExecutorGpuDevice(id=0, process_index=0, slice_index=0),\n",
       " StreamExecutorGpuDevice(id=1, process_index=0, slice_index=0)]"
      ]
     },
     "execution_count": 4,
     "metadata": {},
     "output_type": "execute_result"
    }
   ],
   "source": [
    "jax.devices()"
   ]
  },
  {
   "cell_type": "markdown",
   "id": "0768497b-f489-4369-8a89-05859051bce2",
   "metadata": {},
   "source": [
    "## 0. Global config"
   ]
  },
  {
   "cell_type": "code",
   "execution_count": 5,
   "id": "e50465a5-3ae6-4f2a-977a-9f7b569e41b7",
   "metadata": {
    "tags": []
   },
   "outputs": [
    {
     "name": "stdout",
     "output_type": "stream",
     "text": [
      "CPU(s):                64\n",
      "On-line CPU(s) list:   0-63\n",
      "NUMA node0 CPU(s):     0-31\n",
      "NUMA node1 CPU(s):     32-63\n"
     ]
    }
   ],
   "source": [
    "! lscpu | grep \"CPU(s)\""
   ]
  },
  {
   "cell_type": "code",
   "execution_count": 6,
   "id": "c7bae3bf-b3a5-49e3-a8fa-5f9c9970c224",
   "metadata": {
    "tags": []
   },
   "outputs": [],
   "source": [
    "N_THREADS = 32"
   ]
  },
  {
   "cell_type": "code",
   "execution_count": 7,
   "id": "1d2d61c6-fa8a-48e7-a3ff-539b7b5fe327",
   "metadata": {
    "tags": []
   },
   "outputs": [],
   "source": [
    "def get_z_arr(z_start=None, z_end=20):\n",
    "    \n",
    "    if z_start is None:\n",
    "        z_start = p21c.global_params.Z_HEAT_MAX\n",
    "    z_arr = [z_end]\n",
    "    while np.max(z_arr) < z_start:\n",
    "        z_prev = (1 + np.max(z_arr)) * p21c.global_params.ZPRIME_STEP_FACTOR - 1\n",
    "        z_arr.append(z_prev)\n",
    "    return np.array(z_arr[::-1][1:])"
   ]
  },
  {
   "cell_type": "code",
   "execution_count": 8,
   "id": "ae57151a-4d54-4dd1-96be-ba66bfcf16e6",
   "metadata": {
    "tags": []
   },
   "outputs": [
    {
     "data": {
      "text/plain": [
       "['phph_dhinitPhTkX',\n",
       " 'phph',\n",
       " 'phph_dhinitPhTk',\n",
       " 'phph_xray',\n",
       " 'phph_dhinitPhTkX_new',\n",
       " 'base']"
      ]
     },
     "execution_count": 8,
     "metadata": {},
     "output_type": "execute_result"
    }
   ],
   "source": [
    "# check cached runs\n",
    "CACHE_DIR_BASE = os.environ['P21C_CACHE_DIR']\n",
    "os.listdir(CACHE_DIR_BASE)"
   ]
  },
  {
   "cell_type": "markdown",
   "id": "9b75b575-46ca-47ed-829d-246517257168",
   "metadata": {},
   "source": [
    "## 1. Initialization"
   ]
  },
  {
   "cell_type": "code",
   "execution_count": 15,
   "id": "7ef313b2-fafb-4cab-b777-a22ac7963def",
   "metadata": {
    "tags": []
   },
   "outputs": [],
   "source": [
    "# config\n",
    "run_name = 'base'\n",
    "struct_boost_model = 'erfc 1e-3' # default: erfc 1e-3\n",
    "run_mode = '' # '' or 'inj'\n",
    "\n",
    "dhinit_list = [] # 'phot', 'T_k', 'x_e'\n",
    "enable_phot_bath = False\n",
    "\n",
    "debug_uniform_injection = False\n",
    "\n",
    "reload = False\n",
    "use_tqdm = True\n",
    "save_slices = True\n",
    "\n",
    "abscs = pickle.load(open('../data/abscissas/abscs_230408x.p', 'rb'))\n",
    "\n",
    "p21c.config['direc'] = f'{CACHE_DIR_BASE}/{run_name}'\n",
    "os.makedirs(p21c.config['direc'], exist_ok=True)"
   ]
  },
  {
   "cell_type": "code",
   "execution_count": null,
   "id": "014f44fc-e6b8-4e4a-86bd-e88484d63739",
   "metadata": {
    "tags": []
   },
   "outputs": [],
   "source": [
    "cache_tools.clear_cache()"
   ]
  },
  {
   "cell_type": "markdown",
   "id": "28fec43c-72aa-4858-bf11-86a7abb2ad41",
   "metadata": {},
   "source": [
    "## 2. Loop"
   ]
  },
  {
   "cell_type": "code",
   "execution_count": 16,
   "id": "a624d59c-fc67-4f98-80ac-426b8a2cdc76",
   "metadata": {
    "tags": []
   },
   "outputs": [],
   "source": [
    "# redshift\n",
    "p21c.global_params.ZPRIME_STEP_FACTOR = 1.05\n",
    "p21c.global_params.Z_HEAT_MAX = 44.\n",
    "z_arr = get_z_arr(z_end=6.)\n",
    "#p21c.global_params.CLUMPING_FACTOR = 1.\n",
    "\n",
    "# dark matter\n",
    "dm_params = DMParams(mode='swave', primary='phot_delta', m_DM=1e10, sigmav=1e-23)\n",
    "\n",
    "if len(dhinit_list) > 0:\n",
    "    \n",
    "    dhinit_fn = f\"{p21c.config['direc']}/dhinit_soln.p\"\n",
    "    \n",
    "    if os.path.exists(dhinit_fn):\n",
    "        dhinit_soln = pickle.load(open(dhinit_fn, 'rb'))\n",
    "    else:\n",
    "        logger.info('Running DarkHistory to generate initial conditions.')\n",
    "        \n",
    "        import main\n",
    "        dhinit_soln = main.evolve(\n",
    "            DM_process=dm_params.mode, mDM=dm_params.m_DM,\n",
    "            sigmav=dm_params.sigmav, primary=dm_params.primary,\n",
    "            struct_boost=phys.struct_boost_func(model=struct_boost_model),\n",
    "            start_rs=3000, end_rs=z_arr[0], coarsen_factor=12, verbose=1\n",
    "        )\n",
    "        pickle.dump(dhinit_soln, open(dhinit_fn, 'wb'))"
   ]
  },
  {
   "cell_type": "code",
   "execution_count": 17,
   "id": "a73dff9d-2007-4842-8f78-7421da3445e8",
   "metadata": {
    "tags": []
   },
   "outputs": [
    {
     "name": "stderr",
     "output_type": "stream",
     "text": [
      "78it [05:51,  4.50s/it]                                                                      | 0/39 [00:00<?, ?it/s]\n"
     ]
    }
   ],
   "source": [
    "# physics\n",
    "cosmo_params = dict(OMm=0.32, OMb=0.049, POWER_INDEX=0.96, SIGMA_8=0.83, hlittle=0.67)\n",
    "\n",
    "initial_conditions = p21c.initial_conditions(\n",
    "    user_params = p21c.UserParams(\n",
    "        HII_DIM = 50, # [1]\n",
    "        BOX_LEN = 50, # [p-Mpc]\n",
    "        N_THREADS = N_THREADS\n",
    "    ),\n",
    "    cosmo_params = p21c.CosmoParams(**cosmo_params),\n",
    "    random_seed=54321, write=True\n",
    ")\n",
    "\n",
    "# box\n",
    "box_dim = initial_conditions.user_params.HII_DIM\n",
    "\n",
    "# recording\n",
    "records = []\n",
    "input_time_tot = 0.\n",
    "p21c_time_tot = 0.\n",
    "if use_tqdm:\n",
    "    pbar = tqdm(total=len(z_arr), position=0)\n",
    "    \n",
    "if save_slices:\n",
    "    saved_slices = []\n",
    "    i_slice = int(box_dim/2)"
   ]
  },
  {
   "cell_type": "code",
   "execution_count": 25,
   "id": "c658890c-7720-4283-8de9-c49a67a04ab5",
   "metadata": {
    "jupyter": {
     "source_hidden": true
    },
    "tags": []
   },
   "outputs": [],
   "source": [
    "# xray\n",
    "from dm21cm.xray.field_smoother import WindowedData\n",
    "\n",
    "xray_eng_range = (1e2, 1e4)\n",
    "i_xray_fm = np.searchsorted(abscs['photE'], xray_eng_range[0])\n",
    "i_xray_to = np.searchsorted(abscs['photE'], xray_eng_range[1])\n",
    "\n",
    "# tmp remove\n",
    "os.remove(p21c.config['direc']+'/xray_brightness.h5')\n",
    "\n",
    "xray_brightness_boxes = WindowedData(\n",
    "    data_path=p21c.config['direc']+'/xray_brightness.h5',\n",
    "    N=box_dim, L=initial_conditions.user_params.BOX_LEN\n",
    ")"
   ]
  },
  {
   "cell_type": "code",
   "execution_count": 18,
   "id": "d00abda8-a837-4f1c-a5b3-df913686193e",
   "metadata": {
    "tags": []
   },
   "outputs": [
    {
     "name": "stderr",
     "output_type": "stream",
     "text": [
      "  3%|██                                                                              | 1/39 [00:02<01:47,  2.82s/it]2023-05-02 04:19:38,516 | WARNING | Not injecting anything in this run!\n",
      "WARNING:21cmFAST:Not injecting anything in this run!\n",
      "100%|███████████████████████████████████████████████████████████████████████████████| 39/39 [00:05<00:00, 15.98it/s]"
     ]
    },
    {
     "name": "stdout",
     "output_type": "stream",
     "text": [
      "input used 0.7853 s\n",
      "p21c used 2.5925 s\n"
     ]
    },
    {
     "name": "stderr",
     "output_type": "stream",
     "text": [
      "100%|███████████████████████████████████████████████████████████████████████████████| 39/39 [00:18<00:00, 15.98it/s]"
     ]
    }
   ],
   "source": [
    "## LOOP\n",
    "for i_z in range(len(z_arr)):\n",
    "#for i_z in range(2):\n",
    "\n",
    "    z = z_arr[i_z]\n",
    "    \n",
    "    input_timer = time.time()\n",
    "    \n",
    "    if i_z == 0:\n",
    "        spin_temp = None\n",
    "        input_heating = input_ionization = input_jalpha = None\n",
    "        \n",
    "        ## load tfs\n",
    "        phot_phot_tf = load_data('phot_phot', reload=reload)\n",
    "        #elec_phot_tf = load_data('elec_phot', reload=reload)\n",
    "        phot_dep_tf = load_data('phot_dep', reload=reload)\n",
    "        #elec_dep_tf = load_data('elec_dep', reload=reload)\n",
    "        \n",
    "        ## fix DM in spec\n",
    "        phot_phot_tf.set_fixed_in_spec(dm_params.inj_phot_spec.N)\n",
    "        #elec_phot_tf.set_fixed_in_spec(dm_params.inj_elec_spec.N)\n",
    "        phot_dep_tf.set_fixed_in_spec(dm_params.inj_phot_spec.N)\n",
    "        #elec_dep_tf.set_fixed_in_spec(dm_params.inj_elec_spec.N)\n",
    "        \n",
    "        ## photon bath\n",
    "        if 'phot' in dhinit_list:\n",
    "            phot_bath_next = dhinit_soln['highengphot'][-1]\n",
    "        else:\n",
    "            phot_bath_next = Spectrum(\n",
    "                abscs['photE'], np.zeros_like(abscs['photE']), spec_type='N', rs=1+z_arr[0]\n",
    "            ) # [N per Bavg]\n",
    "    \n",
    "    else: ## input from second step\n",
    "        \n",
    "        input_heating = p21c.input_heating(redshift=z, init_boxes=initial_conditions, write=False)\n",
    "        input_ionization = p21c.input_ionization(redshift=z, init_boxes=initial_conditions, write=False)\n",
    "        input_jalpha = p21c.input_jalpha(redshift=z, init_boxes=initial_conditions, write=False)\n",
    "        \n",
    "        if i_z == 1 and 'T_k' in dhinit_list:\n",
    "            T_k_21cmfast = np.mean(spin_temp.Tk_box)\n",
    "            T_k_DH = dhinit_soln['Tm'][-1] / phys.kB\n",
    "            input_heating.input_heating += (T_k_DH - T_k_21cmfast)\n",
    "            \n",
    "        if i_z == 1 and 'x_e' in dhinit_list:\n",
    "            x_e_21cmfast = np.mean(1 - ionized_box.xH_box)\n",
    "            x_e_DH = dhinit_soln['x'][-1, 0] # last step, HI\n",
    "            input_ionization.input_ionization += (x_e_DH - x_e_21cmfast)\n",
    "\n",
    "        if i_z == 1 and run_mode == '':\n",
    "            logger.warning('Not injecting anything in this run!')\n",
    "\n",
    "        elif run_mode == 'inj':\n",
    "            \n",
    "            #========== common ==========\n",
    "            delta_box = jnp.asarray(perturbed_field.density)\n",
    "            x_e_box = jnp.asarray(1 - ionized_box.xH_box)\n",
    "            B_per_Bavg = 1 + delta_box\n",
    "            \n",
    "            if debug_uniform_injection:\n",
    "                delta_box = jnp.full_like(delta_box, jnp.mean(delta_box))\n",
    "                x_e_box = jnp.full_like(x_e_box, jnp.mean(x_e_box))\n",
    "                B_per_Bavg = 1 + delta_box\n",
    "            \n",
    "            #========== photon bath ==========\n",
    "            # redshift from previous step\n",
    "            if enable_phot_bath:\n",
    "                phot_bath_next.redshift(1+z)\n",
    "                phot_bath = phot_bath_next\n",
    "            \n",
    "            #========== photon bath -> photon ==========\n",
    "            if enable_phot_bath:\n",
    "                out_phot_N = phot_phot_tf(\n",
    "                    rs = 1 + z,\n",
    "                    in_spec = phot_bath.N,\n",
    "                    nBs_s = (1+delta_box).ravel(),\n",
    "                    x_s = x_e_box.ravel(),\n",
    "                    sum_result = True,\n",
    "                    out_of_bounds_action = 'clip',\n",
    "                ) / (box_dim ** 3) # [N / Bavg]\n",
    "\n",
    "                phot_bath_next = Spectrum(\n",
    "                    phot_phot_tf.abscs['out'],\n",
    "                    out_phot_N,\n",
    "                    spec_type='N', rs=1+z\n",
    "                ) # [N / Bavg]\n",
    "            \n",
    "            #========== photon bath -> deposition ==========\n",
    "            if enable_phot_bath:\n",
    "                phot_bath_dep_box = phot_dep_tf(\n",
    "                    rs = 1 + z,\n",
    "                    in_spec = phot_bath.N,\n",
    "                    nBs_s = (1+delta_box).ravel(),\n",
    "                    x_s = x_e_box.ravel(),\n",
    "                    sum_result = False,\n",
    "                    out_of_bounds_action = 'clip',\n",
    "                ).reshape(box_dim, box_dim, box_dim, len(abscs['dep_c'])) # [eV / Bavg]\n",
    "            else:\n",
    "                phot_bath_dep_box = np.zeros((box_dim, box_dim, box_dim, len(abscs['dep_c']))) # [eV / Bavg]\n",
    "            \n",
    "            #========== DM: common ==========\n",
    "            z_prev = z_arr[i_z-1]\n",
    "            dt = phys.dt_between_z(z_prev, z) # [s]\n",
    "            if dm_params.mode == 'swave':\n",
    "                struct_boost = phys.struct_boost_func(model=struct_boost_model)(1+z)\n",
    "            else:\n",
    "                struct_boost = 1\n",
    "            \n",
    "            rho_DM_box = (1 + delta_box) * phys.rho_DM * (1+z)**3 # [eV cm^-3]\n",
    "            n_Bavg = phys.n_B * (1+z)**3 # [Bavg cm^-3]\n",
    "            inj_per_Bavg_box = phys.inj_rate(rho_DM_box, dm_params) * dt * struct_boost / n_Bavg # [inj/Bavg]\n",
    "            \n",
    "            #========== DM -> photon ==========\n",
    "            if enable_phot_bath:\n",
    "                out_phot_N_phot = phot_phot_tf(\n",
    "                    rs = 1 + z,\n",
    "                    in_spec = dm_params.inj_phot_spec.N,\n",
    "                    nBs_s = (1+delta_box).ravel(),\n",
    "                    x_s = x_e_box.ravel(),\n",
    "                    sum_result = True,\n",
    "                    sum_weight = inj_per_Bavg_box.ravel(),\n",
    "                    out_of_bounds_action = 'clip',\n",
    "                ) / (box_dim ** 3) # [N / Bavg]\n",
    "\n",
    "                # out_phot_N_elec = elec_phot_tf(\n",
    "                #     rs = 1 + z,\n",
    "                #     in_spec = dm_params.inj_elec_spec.N,\n",
    "                #     nBs_s = (1+delta_box).ravel(),\n",
    "                #     x_s = x_e_box.ravel(),\n",
    "                #     sum_result = True,\n",
    "                #     sum_weight = inj_per_Bavg_box.ravel(),\n",
    "                #     out_of_bounds_action = 'clip',\n",
    "                # ) / (box_dim ** 3) # [N / Bavg]\n",
    "\n",
    "                phot_bath_next += Spectrum(\n",
    "                    phot_phot_tf.abscs['out'],\n",
    "                    out_phot_N_phot,# + out_phot_N_elec,\n",
    "                    spec_type='N', rs=1+z\n",
    "                ) # [N / Bavg]\n",
    "            \n",
    "            #========== DM -> deposition ==========\n",
    "            DM_phot_dep_box = phot_dep_tf(\n",
    "                rs = 1 + z,\n",
    "                in_spec = dm_params.inj_phot_spec.N,\n",
    "                nBs_s = (1+delta_box).ravel(),\n",
    "                x_s = x_e_box.ravel(),\n",
    "                sum_result = False,\n",
    "                out_of_bounds_action = 'clip',\n",
    "            ).reshape(box_dim, box_dim, box_dim, len(abscs['dep_c'])) * inj_per_Bavg_box[...,None] # [eV / Bavg]\n",
    "\n",
    "            # DM_elec_dep_box = elec_dep_tf(\n",
    "            #     rs = 1 + z,\n",
    "            #     in_spec = dm_params.inj_elec_spec.N,\n",
    "            #     nBs_s = (1+delta_box).ravel(),\n",
    "            #     x_s = x_e_box.ravel(),\n",
    "            #     sum_result = False,\n",
    "            #     out_of_bounds_action = 'clip',\n",
    "            # ).reshape(box_dim, box_dim, box_dim, len(abscs['dep_c'])) * inj_per_Bavg_box[...,None] # [eV / Bavg]\n",
    "            \n",
    "            dep_box = phot_bath_dep_box + DM_phot_dep_box# + DM_elec_dep_box # [eV / Bavg]\n",
    "            # last dimension: ('H ion', 'He ion', 'exc', 'heat', 'cont', 'xray')\n",
    "            \n",
    "            #========== xray ==========\n",
    "            # remember to remove xray photon from bath\n",
    "            # xray_brightness_boxes.set_field(dep_box[..., 5], z)\n",
    "            # for i_shell_late in np.arange(2, i_z):\n",
    "            #     i_shell_early = i_shell_late - 1\n",
    "            #     z_early = z_arr[i_shell_early]\n",
    "            #     z_late = z_arr[i_shell_late]\n",
    "            #     xray_box_at_z = xray_brightness_boxes.get_smoothed_shell(\n",
    "            #         phys.conformal_t_between(1+z, 1+z_early),\n",
    "            #         phys.conformal_t_between(1+z, 1+z_late),\n",
    "            #         z\n",
    "            #     )\n",
    "\n",
    "            #========== deposite energy in input_boxes ==========\n",
    "            input_heating.input_heating += np.array(\n",
    "                2 / (3*phys.kB*(1+x_e_box)) * dep_box[...,3] / B_per_Bavg\n",
    "            ) # [K/Bavg] / [B/Bavg] = [K/B]\n",
    "            input_ionization.input_ionization += np.array(\n",
    "                (dep_box[...,0] + dep_box[...,1]) / phys.rydberg / B_per_Bavg\n",
    "            ) # [1/Bavg] / [B/Bavg] = [1/B]\n",
    "            \n",
    "            n_lya = dep_box[...,2] * n_Bavg / phys.lya_eng # [lya cm^-3]\n",
    "            dnu_lya = (phys.rydberg - phys.lya_eng) / (2*np.pi*phys.hbar) # [Hz^-1]\n",
    "            J_lya = n_lya * phys.c / (4*np.pi) / dnu_lya # [lya cm^-2 s^-1 sr^-1 Hz^-1]\n",
    "            input_jalpha.input_jalpha += np.array( J_lya )\n",
    "            \n",
    "            #========== record ==========\n",
    "            dE_inj_per_Bavg = dm_params.eng_per_inj * np.mean(inj_per_Bavg_box) # [eV per Bavg]\n",
    "            dE_inj_per_Bavg_unclustered = dE_inj_per_Bavg / struct_boost\n",
    "            record_inj = {\n",
    "                'dE_inj_per_B' : dE_inj_per_Bavg,\n",
    "                'f_heat' : np.mean(dep_box[...,3]) / dE_inj_per_Bavg_unclustered,\n",
    "                'f_ion'  : np.mean(dep_box[...,0] + dep_box[...,1]) / dE_inj_per_Bavg_unclustered,\n",
    "                'f_exc'  : np.mean(dep_box[...,2]) / dE_inj_per_Bavg_unclustered,\n",
    "            }\n",
    "            \n",
    "    input_time_tot += time.time() - input_timer\n",
    "\n",
    "    #========== step in 21cmFAST ==========\n",
    "    p21c_timer = time.time()\n",
    "    perturbed_field = p21c.perturb_field( # perturbed_field controls the redshift\n",
    "        redshift=z,\n",
    "        init_boxes=initial_conditions\n",
    "    )\n",
    "    spin_temp = p21c.spin_temperature(\n",
    "        perturbed_field=perturbed_field,\n",
    "        previous_spin_temp=spin_temp,\n",
    "        input_heating_box=input_heating,\n",
    "        input_ionization_box=input_ionization,\n",
    "        input_jalpha_box=input_jalpha,\n",
    "        write=True\n",
    "    )\n",
    "    ionized_box = p21c.ionize_box(\n",
    "        spin_temp=spin_temp\n",
    "    )\n",
    "    brightness_temp = p21c.brightness_temperature(\n",
    "        ionized_box=ionized_box,\n",
    "        perturbed_field=perturbed_field,\n",
    "        spin_temp=spin_temp\n",
    "    )\n",
    "    coeval = p21c.Coeval(\n",
    "        redshift = z,\n",
    "        initial_conditions = initial_conditions,\n",
    "        perturbed_field = perturbed_field,\n",
    "        ionized_box = ionized_box,\n",
    "        brightness_temp = brightness_temp,\n",
    "        ts_box = spin_temp,\n",
    "    )\n",
    "    p21c_time_tot += time.time() - p21c_timer\n",
    "\n",
    "    #========== save results ==========\n",
    "    if i_z > 0:\n",
    "        record = {\n",
    "            'z'   : z,\n",
    "            'T_s' : np.mean(spin_temp.Ts_box), # [mK]\n",
    "            'T_b' : np.mean(brightness_temp.brightness_temp), # [K]\n",
    "            'T_k' : np.mean(spin_temp.Tk_box), # [K]\n",
    "            'x_e' : np.mean(1 - ionized_box.xH_box), # [1]\n",
    "        }\n",
    "        if run_mode == 'inj':\n",
    "            record.update(record_inj)\n",
    "        records.append(record)\n",
    "        \n",
    "    if save_slices:\n",
    "        saved_slices.append({\n",
    "            'z'   : z,\n",
    "            'T_s' : spin_temp.Ts_box[i_slice], # [mK]\n",
    "            'T_b' : brightness_temp.brightness_temp[i_slice], # [K]\n",
    "            'T_k' : spin_temp.Tk_box[i_slice], # [K]\n",
    "            'x_e' : 1 - ionized_box.xH_box[i_slice], # [1]\n",
    "            'delta' : perturbed_field.density[i_slice], # [1]\n",
    "        })\n",
    "        \n",
    "    if use_tqdm:\n",
    "        pbar.update()\n",
    "        \n",
    "#========== end of loop ==========\n",
    "    \n",
    "print(f'input used {input_time_tot:.4f} s')\n",
    "print(f'p21c used {p21c_time_tot:.4f} s')\n",
    "\n",
    "arr_records = {k: np.array([r[k] for r in records]) for k in records[0].keys()}\n",
    "np.save(f'../data/run_info/{run_name}_records', arr_records)\n",
    "if save_slices:\n",
    "    np.save(f'../data/run_info/{run_name}_slices', saved_slices)"
   ]
  },
  {
   "cell_type": "markdown",
   "id": "df3a1c49-d048-4256-9b77-b221f039a579",
   "metadata": {},
   "source": [
    "## 3. Lightcone"
   ]
  },
  {
   "cell_type": "code",
   "execution_count": 29,
   "id": "a0d89137-0caa-44c2-920f-a717b17c5132",
   "metadata": {},
   "outputs": [],
   "source": [
    "import powerbox\n",
    "# import importlib\n",
    "\n",
    "# importlib.reload(powerbox)"
   ]
  },
  {
   "cell_type": "code",
   "execution_count": 39,
   "id": "2ecc61d6-bab9-432a-b550-b78c93c05a51",
   "metadata": {
    "tags": []
   },
   "outputs": [],
   "source": [
    "lightcone = p21c.run_lightcone(\n",
    "    redshift = z_arr[-1],\n",
    "    user_params  = spin_temp.user_params,\n",
    "    cosmo_params = spin_temp.cosmo_params,\n",
    "    astro_params = spin_temp.astro_params,\n",
    "    flag_options = spin_temp.flag_options,\n",
    ")"
   ]
  },
  {
   "cell_type": "code",
   "execution_count": null,
   "id": "82acb844-ea21-47fa-b8a7-4adb347b5e17",
   "metadata": {
    "tags": []
   },
   "outputs": [],
   "source": [
    "fig, ax = plt.subplots(figsize = (15, 10))\n",
    "plotting.lightcone_sliceplot(lightcone, fig=fig, ax=ax)\n",
    "ax.set(aspect=10)"
   ]
  },
  {
   "cell_type": "code",
   "execution_count": 40,
   "id": "5abe9b4b-46a2-43a6-8df5-668acf6bcbb1",
   "metadata": {
    "tags": []
   },
   "outputs": [],
   "source": [
    "def compute_power(\n",
    "   box,\n",
    "   length,\n",
    "   n_psbins,\n",
    "   log_bins=True,\n",
    "   ignore_kperp_zero=True,\n",
    "   ignore_kpar_zero=False,\n",
    "   ignore_k_zero=False,\n",
    "):\n",
    "    # Determine the weighting function required from ignoring k's.\n",
    "    k_weights = np.ones(box.shape, int)\n",
    "    n0 = k_weights.shape[0]\n",
    "    n1 = k_weights.shape[-1]\n",
    "\n",
    "    if ignore_kperp_zero:\n",
    "        k_weights[n0 // 2, n0 // 2, :] = 0\n",
    "    if ignore_kpar_zero:\n",
    "        k_weights[:, :, n1 // 2] = 0\n",
    "    if ignore_k_zero:\n",
    "        k_weights[n0 // 2, n0 // 2, n1 // 2] = 0\n",
    "\n",
    "    res = powerbox.tools.get_power(\n",
    "        box,\n",
    "        boxlength=length,\n",
    "        bins=n_psbins,\n",
    "        bin_ave=False,\n",
    "        get_variance=False,\n",
    "        log_bins=log_bins,\n",
    "        k_weights=k_weights,\n",
    "    )\n",
    "\n",
    "    res = list(res)\n",
    "    k = res[1]\n",
    "    if log_bins:\n",
    "        k = np.exp((np.log(k[1:]) + np.log(k[:-1])) / 2)\n",
    "    else:\n",
    "        k = (k[1:] + k[:-1]) / 2\n",
    "\n",
    "    res[1] = k\n",
    "    return res\n",
    "\n",
    "def powerspectra(brightness_temp, n_psbins=50, nchunks=20, min_k=0.1, max_k=1.0, logk=True):\n",
    "    data = []\n",
    "    chunk_indices = list(range(0,brightness_temp.n_slices,round(brightness_temp.n_slices / nchunks),))    \n",
    "    \n",
    "    if len(chunk_indices) > nchunks:\n",
    "        chunk_indices = chunk_indices[:-1]\n",
    "    chunk_indices.append(brightness_temp.n_slices)\n",
    "\n",
    "    for i in range(nchunks):\n",
    "        start = chunk_indices[i]\n",
    "        end = chunk_indices[i + 1]\n",
    "        chunklen = (end - start) * brightness_temp.cell_size\n",
    "\n",
    "        power, k = compute_power(\n",
    "            brightness_temp.brightness_temp[:, :, start:end],\n",
    "            (BOX_LEN, BOX_LEN, chunklen),\n",
    "            n_psbins,\n",
    "            log_bins=logk,\n",
    "        )\n",
    "        data.append({\"k\": k, \"delta\": power * k ** 3 / (2 * np.pi ** 2)})\n",
    "    return data"
   ]
  },
  {
   "cell_type": "code",
   "execution_count": 41,
   "id": "aadff8ed-a9b4-4eb6-a25e-7dc371c10181",
   "metadata": {
    "tags": []
   },
   "outputs": [],
   "source": [
    "BOX_LEN = 50\n",
    "HII_DIM = 50\n",
    "\n",
    "k_fundamental = 2*np.pi / BOX_LEN\n",
    "k_max = k_fundamental * HII_DIM\n",
    "Nk = np.floor(HII_DIM/1).astype(int)"
   ]
  },
  {
   "cell_type": "code",
   "execution_count": 42,
   "id": "f598ae92-0da9-48eb-a8dc-6f74008ff2ce",
   "metadata": {
    "tags": []
   },
   "outputs": [],
   "source": [
    "out = powerspectra(lightcone, min_k=k_fundamental, max_k=k_max)"
   ]
  },
  {
   "cell_type": "code",
   "execution_count": 43,
   "id": "d83fa592-9ac0-4c18-b68f-3d65d036ccfc",
   "metadata": {
    "tags": []
   },
   "outputs": [],
   "source": [
    "pickle.dump(out, open(f'../data/run_info/{run_name}_ps', 'wb'))"
   ]
  },
  {
   "cell_type": "code",
   "execution_count": null,
   "id": "b42516df-8d4c-45a0-982c-cc013ed7f590",
   "metadata": {},
   "outputs": [],
   "source": []
  }
 ],
 "metadata": {
  "kernelspec": {
   "display_name": "Python [conda env:21cmfast] *",
   "language": "python",
   "name": "conda-env-21cmfast-py"
  },
  "language_info": {
   "codemirror_mode": {
    "name": "ipython",
    "version": 3
   },
   "file_extension": ".py",
   "mimetype": "text/x-python",
   "name": "python",
   "nbconvert_exporter": "python",
   "pygments_lexer": "ipython3",
   "version": "3.10.10"
  }
 },
 "nbformat": 4,
 "nbformat_minor": 5
}
