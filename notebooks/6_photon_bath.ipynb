{
 "cells": [
  {
   "cell_type": "code",
   "execution_count": 1,
   "id": "4bfcc4c4-dd1c-4f43-a772-784a8c58d84a",
   "metadata": {},
   "outputs": [],
   "source": [
    "%reload_ext autoreload\n",
    "%autoreload 2\n",
    "\n",
    "import os, sys\n",
    "sys.path.append('..')\n",
    "\n",
    "import numpy as np\n",
    "from tqdm import tqdm\n",
    "import time\n",
    "\n",
    "%matplotlib inline\n",
    "import matplotlib as mpl\n",
    "import matplotlib.pyplot as plt\n",
    "from matplotlib import cm\n",
    "mpl.rc_file('../matplotlibrc')"
   ]
  },
  {
   "cell_type": "code",
   "execution_count": 2,
   "id": "97520d14-5f8e-47cc-8f8f-ccc4dfe10a21",
   "metadata": {},
   "outputs": [
    {
     "name": "stderr",
     "output_type": "stream",
     "text": [
      "/work/submit/yitians/anaconda3/envs/21cmfast/lib/python3.7/site-packages/py21cmfast/_cfg.py:59: UserWarning: Your configuration file is out of date. Updating...\n",
      "  \"Your configuration file is out of date. Updating...\"\n",
      "/work/submit/yitians/anaconda3/envs/21cmfast/lib/python3.7/site-packages/py21cmfast/_cfg.py:42: UserWarning: Your configuration file is out of date. Updating...\n",
      "  warnings.warn(\"Your configuration file is out of date. Updating...\")\n"
     ]
    },
    {
     "name": "stdout",
     "output_type": "stream",
     "text": [
      "Using 21cmFAST version 0.1.dev1578+g6f96f89.d20230224\n"
     ]
    }
   ],
   "source": [
    "# 21cmFAST\n",
    "import py21cmfast as p21c\n",
    "from py21cmfast import plotting, cache_tools\n",
    "print(f'Using 21cmFAST version {p21c.__version__}')\n",
    "\n",
    "import logging\n",
    "logger = logging.getLogger('21cmFAST')\n",
    "logger.setLevel(logging.INFO)"
   ]
  },
  {
   "cell_type": "code",
   "execution_count": 3,
   "id": "268ca8d7-8904-4024-9549-214816b74a44",
   "metadata": {},
   "outputs": [],
   "source": [
    "from dm21cm.injection import get_input_boxs, DMParams"
   ]
  },
  {
   "cell_type": "markdown",
   "id": "0768497b-f489-4369-8a89-05859051bce2",
   "metadata": {},
   "source": [
    "## 0. Global config"
   ]
  },
  {
   "cell_type": "code",
   "execution_count": 4,
   "id": "e50465a5-3ae6-4f2a-977a-9f7b569e41b7",
   "metadata": {},
   "outputs": [
    {
     "name": "stdout",
     "output_type": "stream",
     "text": [
      "CPU(s):                48\n",
      "On-line CPU(s) list:   0-47\n",
      "NUMA node0 CPU(s):     0,2,4,6,8,10,12,14,16,18,20,22,24,26,28,30,32,34,36,38,40,42,44,46\n",
      "NUMA node1 CPU(s):     1,3,5,7,9,11,13,15,17,19,21,23,25,27,29,31,33,35,37,39,41,43,45,47\n"
     ]
    }
   ],
   "source": [
    "! lscpu | grep \"CPU(s)\""
   ]
  },
  {
   "cell_type": "code",
   "execution_count": 5,
   "id": "c7bae3bf-b3a5-49e3-a8fa-5f9c9970c224",
   "metadata": {},
   "outputs": [],
   "source": [
    "N_THREADS = 32"
   ]
  },
  {
   "cell_type": "markdown",
   "id": "a42e41b0-c31b-4039-bd4a-7e212a5777b4",
   "metadata": {},
   "source": [
    "## TMP"
   ]
  },
  {
   "cell_type": "code",
   "execution_count": 39,
   "id": "4a687c8b-66db-4d95-b4ef-0d6e517e3632",
   "metadata": {},
   "outputs": [],
   "source": [
    "from dm21cm.interpolators import BatchInterpolator"
   ]
  },
  {
   "cell_type": "code",
   "execution_count": 16,
   "id": "ed7ba3fa-f331-4eb0-a7fb-665314aca8c9",
   "metadata": {},
   "outputs": [
    {
     "name": "stdout",
     "output_type": "stream",
     "text": [
      "elec_dep_dlnz4.879E-2_aad.p\t phot_dep_dlnz4.879E-2_aad.p\n",
      "elec_dep_dlnz4.879E-2_rexo_ad.p  phot_dep_dlnz4.879E-2_renxo_ad.p\n",
      "elec_tf_dlnz4.879E-2_aad.p\t phot_tf_dlnz4.879E-2_aad.p\n",
      "elec_tf_dlnz4.879E-2_rexo_ad.p\t phot_tf_dlnz4.879E-2_renxo_ad.p\n",
      "npy\n"
     ]
    }
   ],
   "source": [
    "! ls /data/submit/yitians/dm21cm/DM21cm/transferfunctions/nBs_test_2/"
   ]
  },
  {
   "cell_type": "code",
   "execution_count": 40,
   "id": "ed9cfbad-c158-449f-9c5e-8b66121fbbe8",
   "metadata": {},
   "outputs": [],
   "source": [
    "interp = BatchInterpolator('/data/submit/yitians/dm21cm/DM21cm/transferfunctions/nBs_test_2/elec_dep_dlnz4.879E-2_aad.p')"
   ]
  },
  {
   "cell_type": "code",
   "execution_count": 45,
   "id": "025deadf-286c-401a-bd6b-7d3f0e83ec55",
   "metadata": {},
   "outputs": [],
   "source": [
    "x_in = np.random.uniform(size=(2000,))"
   ]
  },
  {
   "cell_type": "code",
   "execution_count": 47,
   "id": "f4e32112-2d8b-4828-9b99-91e7c853b3ce",
   "metadata": {},
   "outputs": [],
   "source": [
    "r = interp(rs=8, in_spec=np.ones((500,)), x_s=x_in, out_of_bounds_action='clip')"
   ]
  },
  {
   "cell_type": "code",
   "execution_count": 48,
   "id": "b899ac20-db5b-47b1-85b1-e6fb7e88a674",
   "metadata": {},
   "outputs": [
    {
     "data": {
      "text/plain": [
       "DeviceArray([3.5963162e+09, 6.7704112e+07, 8.8451154e+09, 4.5057245e+11,\n",
       "             6.1683034e+08], dtype=float32)"
      ]
     },
     "execution_count": 48,
     "metadata": {},
     "output_type": "execute_result"
    }
   ],
   "source": [
    "np.sum(r, axis=0)"
   ]
  },
  {
   "cell_type": "code",
   "execution_count": 50,
   "id": "db1faa59-f885-4e8c-a486-fff9bd7dbc44",
   "metadata": {},
   "outputs": [
    {
     "data": {
      "text/plain": [
       "array([3.59631642e+09, 6.77041200e+07, 8.84511539e+09, 4.50572419e+11,\n",
       "       6.16830400e+08])"
      ]
     },
     "execution_count": 50,
     "metadata": {},
     "output_type": "execute_result"
    }
   ],
   "source": [
    "interp(rs=8, in_spec=np.ones((500,)), x_s=x_in, sum_result=True, out_of_bounds_action='clip')"
   ]
  },
  {
   "cell_type": "markdown",
   "id": "5b6f944a-29e5-4951-9473-e73e792585ae",
   "metadata": {},
   "source": [
    "## 1. Run"
   ]
  },
  {
   "cell_type": "code",
   "execution_count": 6,
   "id": "1d2d61c6-fa8a-48e7-a3ff-539b7b5fe327",
   "metadata": {},
   "outputs": [],
   "source": [
    "def get_z_arr(z_start=None, z_end=20):\n",
    "    \n",
    "    if z_start is None:\n",
    "        z_start = p21c.global_params.Z_HEAT_MAX\n",
    "    z_arr = [z_end]\n",
    "    while np.max(z_arr) < z_start:\n",
    "        z_prev = (1 + np.max(z_arr)) * p21c.global_params.ZPRIME_STEP_FACTOR - 1\n",
    "        z_arr.append(z_prev)\n",
    "    return np.array(z_arr[::-1][1:])"
   ]
  },
  {
   "cell_type": "code",
   "execution_count": 7,
   "id": "ae57151a-4d54-4dd1-96be-ba66bfcf16e6",
   "metadata": {},
   "outputs": [
    {
     "data": {
      "text/plain": [
       "['emf_comp_spf_mh3',\n",
       " 'emf_comp_dh_mh3',\n",
       " 'emf_comp_dh_mh6',\n",
       " 'emf_comp_dh_mh9',\n",
       " 'emf_comp_base']"
      ]
     },
     "execution_count": 7,
     "metadata": {},
     "output_type": "execute_result"
    }
   ],
   "source": [
    "# check cached runs\n",
    "CACHE_DIR_BASE = '/scratch/submit/ctp/yitians/21cmFAST-cache'\n",
    "os.listdir(CACHE_DIR_BASE)"
   ]
  },
  {
   "cell_type": "code",
   "execution_count": 8,
   "id": "7ef313b2-fafb-4cab-b777-a22ac7963def",
   "metadata": {},
   "outputs": [],
   "source": [
    "# run config\n",
    "RUN_NAME = 'test'\n",
    "f_scheme = 'DH'\n",
    "struct_boost_model = 'erfc 1e-3'\n",
    "run_mode = 'inj'\n",
    "\n",
    "p21c.config['direc'] = f'{CACHE_DIR_BASE}/{RUN_NAME}'\n",
    "os.makedirs(p21c.config['direc'], exist_ok=True)"
   ]
  },
  {
   "cell_type": "code",
   "execution_count": 9,
   "id": "014f44fc-e6b8-4e4a-86bd-e88484d63739",
   "metadata": {
    "tags": []
   },
   "outputs": [
    {
     "name": "stderr",
     "output_type": "stream",
     "text": [
      "2023-03-10 23:43:11,676 | INFO | Removed 0 files from cache.\n",
      "INFO:21cmFAST:Removed 0 files from cache.\n"
     ]
    }
   ],
   "source": [
    "cache_tools.clear_cache()"
   ]
  },
  {
   "cell_type": "code",
   "execution_count": 10,
   "id": "4a928d89-df7a-4ce7-9059-f6a81b34d3e1",
   "metadata": {},
   "outputs": [
    {
     "name": "stderr",
     "output_type": "stream",
     "text": [
      "/work/submit/yitians/anaconda3/envs/21cmfast/lib/python3.7/site-packages/py21cmfast/inputs.py:488: UserWarning: The USE_INTERPOLATION_TABLES setting has changed in v3.1.2 to be default True. You can likely ignore this warning, but if you relied onhaving USE_INTERPOLATION_TABLES=False by *default*, please set it explicitly. To silence this warning, set it explicitly to True. Thiswarning will be removed in v4.\n",
      "  \"The USE_INTERPOLATION_TABLES setting has changed in v3.1.2 to be \"\n"
     ]
    },
    {
     "name": "stdout",
     "output_type": "stream",
     "text": [
      "[43.69834103 41.5698486  39.54271295 37.61210757 35.77343578 34.02231979\n",
      " 32.35459028 30.76627646 29.25359663 27.81294917 26.44090397 25.13419426\n",
      " 23.88970882 22.70448459 21.57569961 20.50066629 19.47682504 18.50173813\n",
      " 17.57308394 16.68865137 15.84633464 15.04412822 14.28012212 13.55249726\n",
      " 12.8595212  12.199544   11.57099428 10.97237551 10.40226239  9.85929751\n",
      "  9.34218811  8.84970296  8.38066948  7.93397094  7.50854375  7.103375\n",
      "  6.7175      6.35        6.        ]\n"
     ]
    },
    {
     "name": "stderr",
     "output_type": "stream",
     "text": [
      "/work/submit/yitians/darkhistory/DarkHistory/config.py:446: VisibleDeprecationWarning: Creating an ndarray from ragged nested sequences (which is a list-or-tuple of lists-or-tuples-or ndarrays with different lengths or shapes) is deprecated. If you meant to do this, you must specify 'dtype=object' when creating the ndarray.\n",
      "  coords_data = np.array(json.load(data_file))\n",
      "/work/submit/yitians/darkhistory/DarkHistory/config.py:448: VisibleDeprecationWarning: Creating an ndarray from ragged nested sequences (which is a list-or-tuple of lists-or-tuples-or ndarrays with different lengths or shapes) is deprecated. If you meant to do this, you must specify 'dtype=object' when creating the ndarray.\n",
      "  values_data = np.array(json.load(data_file))\n"
     ]
    }
   ],
   "source": [
    "cosmo_params_EMF = dict(OMm=0.32, OMb=0.049, POWER_INDEX=0.96, SIGMA_8=0.83, hlittle=0.67)\n",
    "\n",
    "# initialize\n",
    "initial_conditions = p21c.initial_conditions(\n",
    "    user_params = p21c.UserParams(\n",
    "        HII_DIM=50, # [1]\n",
    "        BOX_LEN=50, # [p-Mpc]\n",
    "        N_THREADS=N_THREADS\n",
    "    ),\n",
    "    cosmo_params = p21c.CosmoParams(**cosmo_params_EMF),\n",
    "    random_seed=54321, write=True\n",
    ")\n",
    "\n",
    "# redshift\n",
    "p21c.global_params.ZPRIME_STEP_FACTOR = 1.05\n",
    "p21c.global_params.Z_HEAT_MAX = 44.\n",
    "z_arr = get_z_arr(z_end=6.)\n",
    "print(z_arr)\n",
    "\n",
    "# dark matter\n",
    "dm_params = DMParams(mode='swave', primary='mu', m_DM=1e10, sigmav=1e-26)"
   ]
  },
  {
   "cell_type": "code",
   "execution_count": 11,
   "id": "c9bb64cd-ca29-4e1b-ac58-e17cea51d6fe",
   "metadata": {},
   "outputs": [],
   "source": [
    "logging.getLogger('py21cmfast._utils').setLevel(logging.CRITICAL+1)\n",
    "logging.getLogger('py21cmfast.wrapper').setLevel(logging.CRITICAL+1)"
   ]
  },
  {
   "cell_type": "code",
   "execution_count": 61,
   "id": "d00abda8-a837-4f1c-a5b3-df913686193e",
   "metadata": {
    "tags": []
   },
   "outputs": [
    {
     "name": "stderr",
     "output_type": "stream",
     "text": [
      "100%|██████████| 39/39 [01:56<00:00,  2.98s/it]"
     ]
    },
    {
     "name": "stdout",
     "output_type": "stream",
     "text": [
      "input used 0.4286 s\n",
      "p21c used 115.5553 s\n"
     ]
    },
    {
     "name": "stderr",
     "output_type": "stream",
     "text": [
      "\n"
     ]
    }
   ],
   "source": [
    "records = []\n",
    "i_slice = int(initial_conditions.user_params.HII_DIM/2)\n",
    "input_time_tot = 0.\n",
    "p21c_time_tot = 0.\n",
    "\n",
    "photon_bath_spec = np.zeros_like(abscs['photE'])\n",
    "\n",
    "for i_z in tqdm(range(len(z_arr))):\n",
    "\n",
    "    z = z_arr[i_z]\n",
    "    \n",
    "    input_timer = time.time()\n",
    "    if i_z == 0:\n",
    "        spin_temp = None\n",
    "        input_heating = input_ionization = input_jalpha = None\n",
    "    \n",
    "    else: ## input from second step\n",
    "        \n",
    "        input_heating = p21c.input_heating(redshift=z, init_boxes=initial_conditions, write=False)\n",
    "        input_ionization = p21c.input_ionization(redshift=z, init_boxes=initial_conditions, write=False)\n",
    "        input_jalpha = p21c.input_jalpha(redshift=z, init_boxes=initial_conditions, write=False)\n",
    "\n",
    "        if run_mode == '':\n",
    "            if i_z == 1:\n",
    "                logger.warning('Not injecting anything in this run!')\n",
    "\n",
    "        elif run_mode == 'inj':\n",
    "            z_prev = z_arr[i_z-1]\n",
    "            \n",
    "            input_boxs = get_input_boxs(\n",
    "                delta_box = perturbed_field.density, # [1]\n",
    "                x_e_box = 1 - ionized_box.xH_box, # [1]\n",
    "                z_prev = z_arr[i_z-1],\n",
    "                z = z,\n",
    "                dm_params = dm_params,\n",
    "                f_scheme = f_scheme,\n",
    "                struct_boost_model = struct_boost_model\n",
    "            )\n",
    "\n",
    "            input_heating.input_heating += input_boxs['heat']\n",
    "            input_ionization.input_ionization += input_boxs['ion']\n",
    "            input_jalpha.input_jalpha += input_boxs['exc']\n",
    "            \n",
    "        else:\n",
    "            raise ValueError(run_mode)\n",
    "            \n",
    "    input_time_tot += time.time() - input_timer\n",
    "\n",
    "    ## step in 21cmFAST\n",
    "    p21c_timer = time.time()\n",
    "    perturbed_field = p21c.perturb_field( # perturbed_field controls the redshift\n",
    "        redshift=z,\n",
    "        init_boxes=initial_conditions\n",
    "    )\n",
    "    spin_temp = p21c.spin_temperature(\n",
    "        perturbed_field=perturbed_field,\n",
    "        previous_spin_temp=spin_temp,\n",
    "        input_heating_box=input_heating,\n",
    "        input_ionization_box=input_ionization,\n",
    "        input_jalpha_box=input_jalpha,\n",
    "        write=True\n",
    "    )\n",
    "    ionized_box = p21c.ionize_box(\n",
    "        spin_temp=spin_temp\n",
    "    )\n",
    "    brightness_temp = p21c.brightness_temperature(\n",
    "        ionized_box=ionized_box,\n",
    "        perturbed_field=perturbed_field,\n",
    "        spin_temp=spin_temp\n",
    "    )\n",
    "    p21c_time_tot += time.time() - p21c_timer\n",
    "\n",
    "    ## save results\n",
    "    if i_z > 0:\n",
    "        record = {\n",
    "            'z'   : z,\n",
    "            'T_s' : np.mean(spin_temp.Ts_box), # [mK]\n",
    "            'T_b' : np.mean(brightness_temp.brightness_temp), # [K]\n",
    "            'T_k' : np.mean(spin_temp.Tk_box), # [K]\n",
    "            'x_e' : np.mean(1 - ionized_box.xH_box), # [1]\n",
    "        }\n",
    "        if run_mode == 'inj':\n",
    "            record_inj = {\n",
    "                'dE_inj_per_B' : input_boxs['dE_inj_per_B_mean'], # [eV per B]\n",
    "                'f_heat' : input_boxs['f_heat_mean'],\n",
    "                'f_ion'  : input_boxs['f_ion_mean'],\n",
    "                'f_exc'  : input_boxs['f_exc_mean'],\n",
    "            }\n",
    "            record.update(record_inj)\n",
    "        records.append(record)\n",
    "    \n",
    "print(f'input used {input_time_tot:.4f} s')\n",
    "print(f'p21c used {p21c_time_tot:.4f} s')"
   ]
  },
  {
   "cell_type": "code",
   "execution_count": 62,
   "id": "510fe9d2-bad0-483d-8791-59b8bd30a4bd",
   "metadata": {},
   "outputs": [],
   "source": [
    "arr_records = {k: np.array([r[k] for r in records]) for k in records[0].keys()}\n",
    "np.save(f'../data/run_info/{RUN_NAME}_records', arr_records)"
   ]
  }
 ],
 "metadata": {
  "kernelspec": {
   "display_name": "21cmfast",
   "language": "python",
   "name": "21cmfast"
  },
  "language_info": {
   "codemirror_mode": {
    "name": "ipython",
    "version": 3
   },
   "file_extension": ".py",
   "mimetype": "text/x-python",
   "name": "python",
   "nbconvert_exporter": "python",
   "pygments_lexer": "ipython3",
   "version": "3.7.12"
  }
 },
 "nbformat": 4,
 "nbformat_minor": 5
}
