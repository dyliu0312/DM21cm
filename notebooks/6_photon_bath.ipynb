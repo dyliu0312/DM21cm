{
 "cells": [
  {
   "cell_type": "code",
   "execution_count": 1,
   "id": "4bfcc4c4-dd1c-4f43-a772-784a8c58d84a",
   "metadata": {},
   "outputs": [
    {
     "name": "stderr",
     "output_type": "stream",
     "text": [
      "/work/submit/yitians/anaconda3/envs/21cmfast/lib/python3.7/site-packages/py21cmfast/_cfg.py:59: UserWarning: Your configuration file is out of date. Updating...\n",
      "  \"Your configuration file is out of date. Updating...\"\n",
      "/work/submit/yitians/anaconda3/envs/21cmfast/lib/python3.7/site-packages/py21cmfast/_cfg.py:42: UserWarning: Your configuration file is out of date. Updating...\n",
      "  warnings.warn(\"Your configuration file is out of date. Updating...\")\n"
     ]
    },
    {
     "name": "stdout",
     "output_type": "stream",
     "text": [
      "Using 21cmFAST version 0.1.dev1578+g6f96f89.d20230224\n"
     ]
    }
   ],
   "source": [
    "%reload_ext autoreload\n",
    "%autoreload 2\n",
    "\n",
    "import os, sys\n",
    "if os.environ['USER'] == 'yitians' and 'submit' in os.uname().nodename:\n",
    "    os.environ['DM21CM_DATA_DIR'] = '/data/submit/yitians/dm21cm/DM21cm'\n",
    "    os.environ['DH_DIR'] = '/work/submit/yitians/darkhistory/DarkHistory'\n",
    "sys.path.append('..')\n",
    "sys.path.append(os.environ['DH_DIR'])\n",
    "\n",
    "from tqdm import tqdm\n",
    "import time\n",
    "import pickle\n",
    "\n",
    "import numpy as np\n",
    "import jax\n",
    "import jax.numpy as jnp\n",
    "\n",
    "import py21cmfast as p21c\n",
    "from py21cmfast import plotting, cache_tools\n",
    "print(f'Using 21cmFAST version {p21c.__version__}')\n",
    "\n",
    "%matplotlib inline\n",
    "import matplotlib as mpl\n",
    "import matplotlib.pyplot as plt\n",
    "from matplotlib import cm\n",
    "mpl.rc_file('../matplotlibrc')"
   ]
  },
  {
   "cell_type": "code",
   "execution_count": 2,
   "id": "97520d14-5f8e-47cc-8f8f-ccc4dfe10a21",
   "metadata": {},
   "outputs": [],
   "source": [
    "import logging\n",
    "logger = logging.getLogger('21cmFAST')\n",
    "logger.setLevel(logging.INFO)\n",
    "logging.getLogger('py21cmfast._utils').setLevel(logging.CRITICAL+1)\n",
    "logging.getLogger('py21cmfast.wrapper').setLevel(logging.CRITICAL+1)"
   ]
  },
  {
   "cell_type": "code",
   "execution_count": 3,
   "id": "268ca8d7-8904-4024-9549-214816b74a44",
   "metadata": {},
   "outputs": [],
   "source": [
    "from dm21cm.dm_params import DMParams\n",
    "from dm21cm.data_loader import load_data\n",
    "import dm21cm.physics as phys"
   ]
  },
  {
   "cell_type": "code",
   "execution_count": 4,
   "id": "7f28d57d-afea-4fab-84dc-42a94db292e0",
   "metadata": {},
   "outputs": [],
   "source": [
    "from darkhistory.spec.spectrum import Spectrum"
   ]
  },
  {
   "cell_type": "code",
   "execution_count": 5,
   "id": "82a62a4e-fce1-4570-83f2-c6a98a69fce7",
   "metadata": {},
   "outputs": [
    {
     "name": "stderr",
     "output_type": "stream",
     "text": [
      "WARNING:jax._src.lib.xla_bridge:No GPU/TPU found, falling back to CPU. (Set TF_CPP_MIN_LOG_LEVEL=0 and rerun for more info.)\n"
     ]
    },
    {
     "data": {
      "text/plain": [
       "[CpuDevice(id=0)]"
      ]
     },
     "execution_count": 5,
     "metadata": {},
     "output_type": "execute_result"
    }
   ],
   "source": [
    "jax.devices()"
   ]
  },
  {
   "cell_type": "markdown",
   "id": "0768497b-f489-4369-8a89-05859051bce2",
   "metadata": {},
   "source": [
    "## 0. Global config"
   ]
  },
  {
   "cell_type": "code",
   "execution_count": 6,
   "id": "e50465a5-3ae6-4f2a-977a-9f7b569e41b7",
   "metadata": {},
   "outputs": [
    {
     "name": "stdout",
     "output_type": "stream",
     "text": [
      "CPU(s):                48\n",
      "On-line CPU(s) list:   0-47\n",
      "NUMA node0 CPU(s):     0,2,4,6,8,10,12,14,16,18,20,22,24,26,28,30,32,34,36,38,40,42,44,46\n",
      "NUMA node1 CPU(s):     1,3,5,7,9,11,13,15,17,19,21,23,25,27,29,31,33,35,37,39,41,43,45,47\n"
     ]
    }
   ],
   "source": [
    "! lscpu | grep \"CPU(s)\""
   ]
  },
  {
   "cell_type": "code",
   "execution_count": 7,
   "id": "c7bae3bf-b3a5-49e3-a8fa-5f9c9970c224",
   "metadata": {},
   "outputs": [],
   "source": [
    "N_THREADS = 32"
   ]
  },
  {
   "cell_type": "code",
   "execution_count": 8,
   "id": "1d2d61c6-fa8a-48e7-a3ff-539b7b5fe327",
   "metadata": {},
   "outputs": [],
   "source": [
    "def get_z_arr(z_start=None, z_end=20):\n",
    "    \n",
    "    if z_start is None:\n",
    "        z_start = p21c.global_params.Z_HEAT_MAX\n",
    "    z_arr = [z_end]\n",
    "    while np.max(z_arr) < z_start:\n",
    "        z_prev = (1 + np.max(z_arr)) * p21c.global_params.ZPRIME_STEP_FACTOR - 1\n",
    "        z_arr.append(z_prev)\n",
    "    return np.array(z_arr[::-1][1:])"
   ]
  },
  {
   "cell_type": "code",
   "execution_count": 17,
   "id": "ae57151a-4d54-4dd1-96be-ba66bfcf16e6",
   "metadata": {},
   "outputs": [
    {
     "data": {
      "text/plain": [
       "['test',\n",
       " 'phph_dh_mh3',\n",
       " 'phph_phbath_dhinit_Tk_dhinit',\n",
       " 'emf_comp_spf_mh3',\n",
       " 'base',\n",
       " 'testdhph',\n",
       " 'turnon_phph',\n",
       " 'phph_phbath_dhinit_Tk_dhinit_uniform_C1',\n",
       " 'phot_bath_no_prop',\n",
       " 'phph_phbath_dhinit_Tk_dhinit_uniform',\n",
       " 'phph_dh_phbath_mh3_dhinit',\n",
       " 'phph_dh_phbath_mh3',\n",
       " 'emf_comp_dh_mh3',\n",
       " 'phph_spf_mh3',\n",
       " 'emf_comp_dh_mh6',\n",
       " 'emf_comp_dh_mh9',\n",
       " 'emf_comp_base',\n",
       " 'phph_dh_phbath_mh3_nophot']"
      ]
     },
     "execution_count": 17,
     "metadata": {},
     "output_type": "execute_result"
    }
   ],
   "source": [
    "# check cached runs\n",
    "CACHE_DIR_BASE = '/scratch/submit/ctp/yitians/21cmFAST-cache'\n",
    "os.listdir(CACHE_DIR_BASE)"
   ]
  },
  {
   "cell_type": "markdown",
   "id": "9b75b575-46ca-47ed-829d-246517257168",
   "metadata": {},
   "source": [
    "## 1. Initialization"
   ]
  },
  {
   "cell_type": "code",
   "execution_count": 13,
   "id": "7ef313b2-fafb-4cab-b777-a22ac7963def",
   "metadata": {},
   "outputs": [],
   "source": [
    "# config\n",
    "RUN_NAME = 'phph_phbath_dhinit_Tk_dhinit_uniform_C1'\n",
    "struct_boost_model = 'erfc 1e-3' # default: erfc 1e-3\n",
    "run_mode = 'inj'\n",
    "\n",
    "dh_init_phot_bath = True\n",
    "dh_init_T_k = True\n",
    "enable_phot_bath = True\n",
    "\n",
    "debug_uniform_injection = True\n",
    "\n",
    "reload = False\n",
    "use_tqdm = True\n",
    "save_slices = True\n",
    "\n",
    "abscs = pickle.load(open('../data/abscissas/abscs_nBs_test_2.p', 'rb'))\n",
    "\n",
    "p21c.config['direc'] = f'{CACHE_DIR_BASE}/{RUN_NAME}'\n",
    "os.makedirs(p21c.config['direc'], exist_ok=True)"
   ]
  },
  {
   "cell_type": "code",
   "execution_count": 14,
   "id": "014f44fc-e6b8-4e4a-86bd-e88484d63739",
   "metadata": {
    "tags": []
   },
   "outputs": [
    {
     "name": "stderr",
     "output_type": "stream",
     "text": [
      "2023-04-14 09:47:12,716 | INFO | Removed 0 files from cache.\n",
      "INFO:21cmFAST:Removed 0 files from cache.\n"
     ]
    }
   ],
   "source": [
    "cache_tools.clear_cache()"
   ]
  },
  {
   "cell_type": "markdown",
   "id": "28fec43c-72aa-4858-bf11-86a7abb2ad41",
   "metadata": {},
   "source": [
    "## 2. Loop"
   ]
  },
  {
   "cell_type": "code",
   "execution_count": 15,
   "id": "a624d59c-fc67-4f98-80ac-426b8a2cdc76",
   "metadata": {
    "tags": []
   },
   "outputs": [],
   "source": [
    "# redshift\n",
    "p21c.global_params.ZPRIME_STEP_FACTOR = 1.05\n",
    "p21c.global_params.Z_HEAT_MAX = 44.\n",
    "z_arr = get_z_arr(z_end=6.)\n",
    "\n",
    "p21c.global_params.CLUMPING_FACTOR = 1.\n",
    "\n",
    "# dark matter\n",
    "dm_params = DMParams(mode='swave', primary='phot_delta', m_DM=1e10, sigmav=1e-23)\n",
    "\n",
    "if dh_init_phot_bath or dh_init_T_k:\n",
    "    \n",
    "    dhinit_fn = f\"{p21c.config['direc']}/dhinit_soln.p\"\n",
    "    \n",
    "    if os.path.exists(dhinit_fn):\n",
    "        dhinit_soln = pickle.load(open(dhinit_fn, 'rb'))\n",
    "    else:\n",
    "        logger.info('Running DarkHistory to generate initial conditions.')\n",
    "        \n",
    "        import main\n",
    "        dhinit_soln = main.evolve(\n",
    "            DM_process=dm_params.mode, mDM=dm_params.m_DM,\n",
    "            sigmav=dm_params.sigmav, primary=dm_params.primary,\n",
    "            struct_boost=phys.struct_boost_func(model=struct_boost_model),\n",
    "            start_rs=3000, end_rs=z_arr[0], coarsen_factor=12, verbose=1\n",
    "        )\n",
    "        pickle.dump(dhinit_soln, open(dhinit_fn, 'wb'))"
   ]
  },
  {
   "cell_type": "code",
   "execution_count": 16,
   "id": "d00abda8-a837-4f1c-a5b3-df913686193e",
   "metadata": {
    "tags": []
   },
   "outputs": [
    {
     "name": "stderr",
     "output_type": "stream",
     "text": [
      "/work/submit/yitians/anaconda3/envs/21cmfast/lib/python3.7/site-packages/py21cmfast/inputs.py:488: UserWarning: The USE_INTERPOLATION_TABLES setting has changed in v3.1.2 to be default True. You can likely ignore this warning, but if you relied onhaving USE_INTERPOLATION_TABLES=False by *default*, please set it explicitly. To silence this warning, set it explicitly to True. Thiswarning will be removed in v4.\n",
      "  \"The USE_INTERPOLATION_TABLES setting has changed in v3.1.2 to be \"\n",
      "\n",
      "  0%|          | 0/39 [00:00<?, ?it/s]\u001b[A\n",
      "  3%|▎         | 1/39 [00:07<05:01,  7.93s/it]\u001b[A\n",
      "  5%|▌         | 2/39 [00:14<04:28,  7.24s/it]\u001b[A\n",
      "  8%|▊         | 3/39 [00:23<04:45,  7.92s/it]\u001b[A\n",
      " 10%|█         | 4/39 [00:30<04:29,  7.69s/it]\u001b[A\n",
      " 13%|█▎        | 5/39 [00:37<04:06,  7.24s/it]\u001b[A\n",
      " 15%|█▌        | 6/39 [00:43<03:52,  7.06s/it]\u001b[A\n",
      " 18%|█▊        | 7/39 [00:49<03:31,  6.60s/it]\u001b[A\n",
      " 21%|██        | 8/39 [00:55<03:22,  6.53s/it]\u001b[A\n",
      " 23%|██▎       | 9/39 [01:01<03:03,  6.11s/it]\u001b[A\n",
      " 26%|██▌       | 10/39 [01:06<02:52,  5.93s/it]\u001b[A\n",
      " 28%|██▊       | 11/39 [01:12<02:41,  5.76s/it]\u001b[A\n",
      " 31%|███       | 12/39 [01:17<02:34,  5.72s/it]\u001b[A\n",
      " 33%|███▎      | 13/39 [01:23<02:27,  5.67s/it]\u001b[A\n",
      " 36%|███▌      | 14/39 [01:28<02:20,  5.63s/it]\u001b[A\n",
      " 38%|███▊      | 15/39 [01:36<02:29,  6.23s/it]\u001b[A\n",
      " 41%|████      | 16/39 [01:44<02:36,  6.79s/it]\u001b[A\n",
      " 44%|████▎     | 17/39 [01:50<02:26,  6.65s/it]\u001b[A\n",
      " 46%|████▌     | 18/39 [02:00<02:36,  7.43s/it]\u001b[A\n",
      " 49%|████▊     | 19/39 [02:06<02:25,  7.28s/it]\u001b[A\n",
      " 51%|█████▏    | 20/39 [02:13<02:16,  7.17s/it]\u001b[A\n",
      " 54%|█████▍    | 21/39 [02:19<02:00,  6.71s/it]\u001b[A\n",
      " 56%|█████▋    | 22/39 [02:26<01:57,  6.92s/it]\u001b[A\n",
      " 59%|█████▉    | 23/39 [02:35<01:57,  7.33s/it]\u001b[A\n",
      " 62%|██████▏   | 24/39 [02:43<01:53,  7.56s/it]\u001b[A\n",
      " 64%|██████▍   | 25/39 [02:51<01:47,  7.69s/it]\u001b[A\n",
      " 67%|██████▋   | 26/39 [02:58<01:36,  7.44s/it]\u001b[A\n",
      " 69%|██████▉   | 27/39 [03:05<01:29,  7.47s/it]\u001b[A\n",
      " 72%|███████▏  | 28/39 [03:13<01:23,  7.59s/it]\u001b[A\n",
      " 74%|███████▍  | 29/39 [03:21<01:16,  7.68s/it]\u001b[A\n",
      " 77%|███████▋  | 30/39 [03:28<01:08,  7.61s/it]\u001b[A\n",
      " 79%|███████▉  | 31/39 [03:36<01:00,  7.52s/it]\u001b[A\n",
      " 82%|████████▏ | 32/39 [03:44<00:55,  7.88s/it]\u001b[A\n",
      " 85%|████████▍ | 33/39 [03:53<00:48,  8.07s/it]\u001b[A\n",
      " 87%|████████▋ | 34/39 [04:01<00:40,  8.15s/it]\u001b[A\n",
      " 90%|████████▉ | 35/39 [04:09<00:32,  8.14s/it]\u001b[A\n",
      " 92%|█████████▏| 36/39 [04:18<00:24,  8.15s/it]\u001b[A\n",
      " 95%|█████████▍| 37/39 [04:26<00:16,  8.29s/it]\u001b[A\n",
      " 97%|█████████▋| 38/39 [04:34<00:08,  8.09s/it]\u001b[A\n",
      "100%|██████████| 39/39 [04:42<00:00,  8.05s/it]\u001b[A"
     ]
    },
    {
     "name": "stdout",
     "output_type": "stream",
     "text": [
      "input used 175.5371 s\n",
      "p21c used 106.4929 s\n"
     ]
    }
   ],
   "source": [
    "# physics\n",
    "cosmo_params_EMF = dict(OMm=0.32, OMb=0.049, POWER_INDEX=0.96, SIGMA_8=0.83, hlittle=0.67)\n",
    "\n",
    "initial_conditions = p21c.initial_conditions(\n",
    "    user_params = p21c.UserParams(\n",
    "        HII_DIM = 50, # [1]\n",
    "        BOX_LEN = 50, # [p-Mpc]\n",
    "        N_THREADS = N_THREADS\n",
    "    ),\n",
    "    cosmo_params = p21c.CosmoParams(**cosmo_params_EMF),\n",
    "    random_seed=54321, write=True\n",
    ")\n",
    "\n",
    "# box\n",
    "box_dim = initial_conditions.user_params.HII_DIM\n",
    "\n",
    "# recording\n",
    "records = []\n",
    "input_time_tot = 0.\n",
    "p21c_time_tot = 0.\n",
    "if use_tqdm:\n",
    "    pbar = tqdm(total=len(z_arr))\n",
    "    \n",
    "if save_slices:\n",
    "    saved_slices = []\n",
    "    i_slice = int(box_dim/2)\n",
    "\n",
    "## LOOP\n",
    "for i_z in range(len(z_arr)):\n",
    "\n",
    "    z = z_arr[i_z]\n",
    "    \n",
    "    input_timer = time.time()\n",
    "    \n",
    "    if i_z == 0:\n",
    "        spin_temp = None\n",
    "        input_heating = input_ionization = input_jalpha = None\n",
    "        \n",
    "        ## load tfs\n",
    "        phot_phot_tf = load_data('phot_phot', reload=reload)\n",
    "        elec_phot_tf = load_data('elec_phot', reload=reload)\n",
    "        phot_dep_tf = load_data('phot_dep', reload=reload)\n",
    "        elec_dep_tf = load_data('elec_dep', reload=reload)\n",
    "        \n",
    "        ## fix DM in spec\n",
    "        phot_phot_tf.set_fixed_in_spec(dm_params.inj_phot_spec.N)\n",
    "        elec_phot_tf.set_fixed_in_spec(dm_params.inj_elec_spec.N)\n",
    "        phot_dep_tf.set_fixed_in_spec(dm_params.inj_phot_spec.N)\n",
    "        elec_dep_tf.set_fixed_in_spec(dm_params.inj_elec_spec.N)\n",
    "        \n",
    "        ## photon bath\n",
    "        if dh_init_phot_bath:\n",
    "            phot_bath_next = dhinit_soln['highengphot'][-1]\n",
    "        else:\n",
    "            phot_bath_next = Spectrum(\n",
    "                abscs['photE'], np.zeros_like(abscs['photE']), spec_type='N', rs=1+z_arr[0]\n",
    "            ) # [N per Bavg]\n",
    "    \n",
    "    else: ## input from second step\n",
    "        \n",
    "        input_heating = p21c.input_heating(redshift=z, init_boxes=initial_conditions, write=False)\n",
    "        input_ionization = p21c.input_ionization(redshift=z, init_boxes=initial_conditions, write=False)\n",
    "        input_jalpha = p21c.input_jalpha(redshift=z, init_boxes=initial_conditions, write=False)\n",
    "        \n",
    "        if i_z == 1 and dh_init_T_k:\n",
    "            T_k_21cmfast = np.mean(spin_temp.Tk_box)\n",
    "            T_k_DH = dhinit_soln['Tm'][-1] / phys.kB\n",
    "            input_heating.input_heating += (T_k_DH - T_k_21cmfast)\n",
    "\n",
    "        if run_mode == '':\n",
    "            if i_z == 1:\n",
    "                logger.warning('Not injecting anything in this run!')\n",
    "\n",
    "        elif run_mode == 'inj':\n",
    "            \n",
    "            ## common\n",
    "            delta_box = jnp.asarray(perturbed_field.density)\n",
    "            x_e_box = jnp.asarray(1 - ionized_box.xH_box)\n",
    "            B_per_Bavg = 1 + delta_box\n",
    "            \n",
    "            if debug_uniform_injection:\n",
    "                delta_box = jnp.full_like(delta_box, jnp.mean(delta_box))\n",
    "                x_e_box = jnp.full_like(x_e_box, jnp.mean(x_e_box))\n",
    "                B_per_Bavg = 1 + delta_box\n",
    "            \n",
    "            ## photon bath: redshift from previous step\n",
    "            if enable_phot_bath:\n",
    "                phot_bath_next.redshift(1+z)\n",
    "                phot_bath = phot_bath_next\n",
    "            \n",
    "            ## photon bath -> photon\n",
    "            if enable_phot_bath:\n",
    "                out_phot_N = phot_phot_tf(\n",
    "                    rs = 1 + z,\n",
    "                    in_spec = phot_bath.N,\n",
    "                    nBs_s = (1+delta_box).ravel(),\n",
    "                    x_s = x_e_box.ravel(),\n",
    "                    sum_result = True,\n",
    "                    out_of_bounds_action = 'clip',\n",
    "                ) / (box_dim ** 3) # [N / Bavg]\n",
    "\n",
    "                phot_bath_next = Spectrum(\n",
    "                    phot_phot_tf.abscs['out'],\n",
    "                    out_phot_N,\n",
    "                    spec_type='N', rs=1+z\n",
    "                ) # [N / Bavg]\n",
    "            \n",
    "            ## photon bath -> deposition\n",
    "            if enable_phot_bath:\n",
    "                phot_bath_dep_box = phot_dep_tf(\n",
    "                    rs = 1 + z,\n",
    "                    in_spec = phot_bath.N,\n",
    "                    nBs_s = (1+delta_box).ravel(),\n",
    "                    x_s = x_e_box.ravel(),\n",
    "                    sum_result = False,\n",
    "                    out_of_bounds_action = 'clip',\n",
    "                ).reshape(box_dim, box_dim, box_dim, len(abscs['dep_c'])) # [eV / Bavg]\n",
    "            else:\n",
    "                phot_bath_dep_box = np.zeros((box_dim, box_dim, box_dim, len(abscs['dep_c']))) # [eV / Bavg]\n",
    "            \n",
    "            ## DM: common\n",
    "            z_prev = z_arr[i_z-1]\n",
    "            dt = phys.dt_between_z(z_prev, z) # [s]\n",
    "            if dm_params.mode == 'swave':\n",
    "                struct_boost = phys.struct_boost_func(model=struct_boost_model)(1+z)\n",
    "            else:\n",
    "                struct_boost = 1\n",
    "            \n",
    "            rho_DM_box = (1 + delta_box) * phys.rho_DM * (1+z)**3 # [eV cm^-3]\n",
    "            n_Bavg = phys.n_B * (1+z)**3 # [Bavg cm^-3]\n",
    "            inj_per_Bavg_box = phys.inj_rate(rho_DM_box, dm_params) * dt * struct_boost / n_Bavg # [inj/Bavg]\n",
    "            \n",
    "            ## DM -> photon\n",
    "            if enable_phot_bath:\n",
    "                out_phot_N_phot = phot_phot_tf(\n",
    "                    rs = 1 + z,\n",
    "                    in_spec = dm_params.inj_phot_spec.N,\n",
    "                    nBs_s = (1+delta_box).ravel(),\n",
    "                    x_s = x_e_box.ravel(),\n",
    "                    sum_result = True,\n",
    "                    sum_weight = inj_per_Bavg_box.ravel(),\n",
    "                    out_of_bounds_action = 'clip',\n",
    "                ) / (box_dim ** 3) # [N / Bavg]\n",
    "\n",
    "                out_phot_N_elec = elec_phot_tf(\n",
    "                    rs = 1 + z,\n",
    "                    in_spec = dm_params.inj_elec_spec.N,\n",
    "                    nBs_s = (1+delta_box).ravel(),\n",
    "                    x_s = x_e_box.ravel(),\n",
    "                    sum_result = True,\n",
    "                    sum_weight = inj_per_Bavg_box.ravel(),\n",
    "                    out_of_bounds_action = 'clip',\n",
    "                ) / (box_dim ** 3) # [N / Bavg]\n",
    "\n",
    "                phot_bath_next += Spectrum(\n",
    "                    phot_phot_tf.abscs['out'],\n",
    "                    out_phot_N_phot + out_phot_N_elec,\n",
    "                    spec_type='N', rs=1+z\n",
    "                ) # [N / Bavg]\n",
    "            \n",
    "            ## DM -> deposition\n",
    "            DM_phot_dep_box = phot_dep_tf(\n",
    "                rs = 1 + z,\n",
    "                in_spec = dm_params.inj_phot_spec.N,\n",
    "                nBs_s = (1+delta_box).ravel(),\n",
    "                x_s = x_e_box.ravel(),\n",
    "                sum_result = False,\n",
    "                out_of_bounds_action = 'clip',\n",
    "            ).reshape(box_dim, box_dim, box_dim, len(abscs['dep_c'])) * inj_per_Bavg_box[...,None] # [eV / Bavg]\n",
    "\n",
    "            DM_elec_dep_box = elec_dep_tf(\n",
    "                rs = 1 + z,\n",
    "                in_spec = dm_params.inj_elec_spec.N,\n",
    "                nBs_s = (1+delta_box).ravel(),\n",
    "                x_s = x_e_box.ravel(),\n",
    "                sum_result = False,\n",
    "                out_of_bounds_action = 'clip',\n",
    "            ).reshape(box_dim, box_dim, box_dim, len(abscs['dep_c'])) * inj_per_Bavg_box[...,None] # [eV / Bavg]\n",
    "            \n",
    "            ## deposite energy\n",
    "            dep_box = phot_bath_dep_box + DM_phot_dep_box + DM_elec_dep_box # [eV / Bavg]\n",
    "            # last dimension: ('H ion', 'He ion', 'exc', 'heat', 'cont')\n",
    "\n",
    "            input_heating.input_heating += np.array(\n",
    "                2 / (3*phys.kB*(1+x_e_box)) * dep_box[...,3] / B_per_Bavg\n",
    "            ) # [K/Bavg] / [B/Bavg] = [K/B]\n",
    "            input_ionization.input_ionization += np.array(\n",
    "                (dep_box[...,0] + dep_box[...,1]) / phys.rydberg / B_per_Bavg\n",
    "            ) # [1/Bavg] / [B/Bavg] = [1/B]\n",
    "            \n",
    "            n_lya = dep_box[...,2] * n_Bavg / phys.lya_eng # [lya cm^-3]\n",
    "            dnu_lya = (phys.rydberg - phys.lya_eng) / (2*np.pi*phys.hbar) # [Hz^-1]\n",
    "            J_lya = n_lya * phys.c / (4*np.pi) / dnu_lya # [lya cm^-2 s^-1 sr^-1 Hz^-1]\n",
    "            input_jalpha.input_jalpha += np.array( J_lya )\n",
    "            \n",
    "            ## record\n",
    "            dE_inj_per_Bavg = dm_params.eng_per_inj * np.mean(inj_per_Bavg_box) # [eV per Bavg]\n",
    "            dE_inj_per_Bavg_unclustered = dE_inj_per_Bavg / struct_boost\n",
    "            record_inj = {\n",
    "                'dE_inj_per_B' : dE_inj_per_Bavg,\n",
    "                'f_heat' : np.mean(dep_box[...,3]) / dE_inj_per_Bavg_unclustered,\n",
    "                'f_ion'  : np.mean(dep_box[...,0] + dep_box[...,1]) / dE_inj_per_Bavg_unclustered,\n",
    "                'f_exc'  : np.mean(dep_box[...,2]) / dE_inj_per_Bavg_unclustered,\n",
    "            }\n",
    "            \n",
    "        else:\n",
    "            raise ValueError(run_mode)\n",
    "            \n",
    "    input_time_tot += time.time() - input_timer\n",
    "\n",
    "    ## step in 21cmFAST\n",
    "    p21c_timer = time.time()\n",
    "    perturbed_field = p21c.perturb_field( # perturbed_field controls the redshift\n",
    "        redshift=z,\n",
    "        init_boxes=initial_conditions\n",
    "    )\n",
    "    spin_temp = p21c.spin_temperature(\n",
    "        perturbed_field=perturbed_field,\n",
    "        previous_spin_temp=spin_temp,\n",
    "        input_heating_box=input_heating,\n",
    "        input_ionization_box=input_ionization,\n",
    "        input_jalpha_box=input_jalpha,\n",
    "        write=True\n",
    "    )\n",
    "    ionized_box = p21c.ionize_box(\n",
    "        spin_temp=spin_temp\n",
    "    )\n",
    "    brightness_temp = p21c.brightness_temperature(\n",
    "        ionized_box=ionized_box,\n",
    "        perturbed_field=perturbed_field,\n",
    "        spin_temp=spin_temp\n",
    "    )\n",
    "    p21c_time_tot += time.time() - p21c_timer\n",
    "\n",
    "    ## save results\n",
    "    if i_z > 0:\n",
    "        record = {\n",
    "            'z'   : z,\n",
    "            'T_s' : np.mean(spin_temp.Ts_box), # [mK]\n",
    "            'T_b' : np.mean(brightness_temp.brightness_temp), # [K]\n",
    "            'T_k' : np.mean(spin_temp.Tk_box), # [K]\n",
    "            'x_e' : np.mean(1 - ionized_box.xH_box), # [1]\n",
    "        }\n",
    "        if run_mode == 'inj':\n",
    "            record.update(record_inj)\n",
    "        records.append(record)\n",
    "        \n",
    "    if save_slices:\n",
    "        saved_slices.append({\n",
    "            'z'   : z,\n",
    "            'T_s' : spin_temp.Ts_box[i_slice], # [mK]\n",
    "            'T_b' : brightness_temp.brightness_temp[i_slice], # [K]\n",
    "            'T_k' : spin_temp.Tk_box[i_slice], # [K]\n",
    "            'x_e' : 1 - ionized_box.xH_box[i_slice], # [1]\n",
    "            'delta' : perturbed_field.density[i_slice], # [1]\n",
    "        })\n",
    "        \n",
    "    if use_tqdm:\n",
    "        pbar.update()\n",
    "    \n",
    "print(f'input used {input_time_tot:.4f} s')\n",
    "print(f'p21c used {p21c_time_tot:.4f} s')\n",
    "\n",
    "arr_records = {k: np.array([r[k] for r in records]) for k in records[0].keys()}\n",
    "np.save(f'../data/run_info/{RUN_NAME}_records', arr_records)\n",
    "if save_slices:\n",
    "    np.save(f'../data/run_info/{RUN_NAME}_slices', saved_slices)"
   ]
  },
  {
   "cell_type": "markdown",
   "id": "20b52c1c-1a6a-4f86-8d40-db321741de82",
   "metadata": {},
   "source": [
    "## 2. DarkHistory comparison"
   ]
  },
  {
   "cell_type": "markdown",
   "id": "5242791b-4950-424f-8c65-498a6dec191d",
   "metadata": {},
   "source": [
    "### 2.1 DM"
   ]
  },
  {
   "cell_type": "code",
   "execution_count": 21,
   "id": "c9af0f33-412f-4cc2-91bc-35fb8b525ca4",
   "metadata": {},
   "outputs": [
    {
     "name": "stdout",
     "output_type": "stream",
     "text": [
      "Loading time: 0.023 s\n"
     ]
    },
    {
     "name": "stderr",
     "output_type": "stream",
     "text": [
      "  0%|          | 0/518 [00:00<?, ?it/s]"
     ]
    },
    {
     "name": "stdout",
     "output_type": "stream",
     "text": [
      "Initialization time: 0.008 s\n"
     ]
    },
    {
     "name": "stderr",
     "output_type": "stream",
     "text": [
      "100%|██████████| 518/518 [04:26<00:00,  1.95it/s]"
     ]
    },
    {
     "name": "stdout",
     "output_type": "stream",
     "text": [
      "Main loop time: 266.007 s\n"
     ]
    },
    {
     "name": "stderr",
     "output_type": "stream",
     "text": [
      "\n"
     ]
    }
   ],
   "source": [
    "soln = main.evolve(\n",
    "    DM_process=dm_params.mode, mDM=dm_params.m_DM,\n",
    "    sigmav=dm_params.sigmav, primary=dm_params.primary,\n",
    "    struct_boost=phys.struct_boost_func(model=struct_boost_model),\n",
    "    start_rs=3000, end_rs=6, coarsen_factor=12, verbose=1\n",
    ")\n",
    "pickle.dump(soln, open('../data/run_info/rundh_phph_mh3_soln.p', 'wb'))"
   ]
  },
  {
   "cell_type": "code",
   "execution_count": 23,
   "id": "0ba8640e-30f6-41e2-a7b8-8f5b3d170065",
   "metadata": {},
   "outputs": [],
   "source": [
    "import darkhistory.physics as dhphys"
   ]
  },
  {
   "cell_type": "code",
   "execution_count": 28,
   "id": "1a89ae38-12a6-44bb-a5af-92a90436e669",
   "metadata": {},
   "outputs": [],
   "source": [
    "z_arr = get_z_arr(z_end=6.)\n",
    "dt = phys.dt_between_z(z_arr[-2], z_arr[-1])"
   ]
  },
  {
   "cell_type": "code",
   "execution_count": 31,
   "id": "dc9d2106-fbeb-4cad-b036-f918e2211ca1",
   "metadata": {},
   "outputs": [
    {
     "data": {
      "text/plain": [
       "22.664122047774903"
      ]
     },
     "execution_count": 31,
     "metadata": {},
     "output_type": "execute_result"
    }
   ],
   "source": [
    "dhphys.inj_rate('swave', 1+z_arr[-1], mDM=1e10, sigmav=1e-23) * dt * dhphys.struct_boost_func(model='erfc')(1+z_arr[-1]) / (dhphys.nB * (1+z_arr[-1])**3) # [eV per Bavg]"
   ]
  },
  {
   "cell_type": "code",
   "execution_count": 34,
   "id": "0f212ce1-9dea-452f-a7d9-62df460781ea",
   "metadata": {},
   "outputs": [
    {
     "data": {
      "text/plain": [
       "22.66412204777491"
      ]
     },
     "execution_count": 34,
     "metadata": {},
     "output_type": "execute_result"
    }
   ],
   "source": [
    "phys.inj_rate(phys.rho_DM * (1+z_arr[-1])**3, dm_params) * dm_params.eng_per_inj * dt * phys.struct_boost_func(model='erfc 1e-3')(1+z_arr[-1]) / (phys.n_B * (1+z_arr[-1])**3)"
   ]
  },
  {
   "cell_type": "code",
   "execution_count": 35,
   "id": "d0ef0c1b-c54b-4ba5-860d-978dc2008ed1",
   "metadata": {},
   "outputs": [
    {
     "data": {
      "text/plain": [
       "5029.444766101746"
      ]
     },
     "execution_count": 35,
     "metadata": {},
     "output_type": "execute_result"
    }
   ],
   "source": [
    "phys.struct_boost_func(model='erfc 1e-3')(1+z_arr[-1])"
   ]
  },
  {
   "cell_type": "code",
   "execution_count": 22,
   "id": "fa979296-a573-43df-8182-afb11b046789",
   "metadata": {},
   "outputs": [],
   "source": [
    "\n",
    "\n",
    "\n",
    "arr_records = {\n",
    "    'z' : soln['rs'] - 1,\n",
    "    'x_e' : soln['x'][:,0],\n",
    "    'T_k' : soln['Tm']/phys.kB,\n",
    "    'f_heat' : soln['f']['low']['heat'] + soln['f']['high']['heat'],\n",
    "    'f_ion' : soln['f']['low']['H ion']  + soln['f']['high']['H ion'] + \\\n",
    "              soln['f']['low']['He ion'] + soln['f']['high']['He ion'],\n",
    "    'f_exc' : soln['f']['low']['exc'] + soln['f']['high']['exc'],\n",
    "}\n",
    "\n",
    "z_low, z_high = 6, 44\n",
    "z_arr = arr_records['z'][::-1]\n",
    "i_low = np.searchsorted(z_arr, z_low)\n",
    "i_high = np.searchsorted(z_arr, z_high)\n",
    "\n",
    "for k in arr_records.keys():\n",
    "    arr_records[k] = arr_records[k][::-1][i_low:i_high]\n",
    "    \n",
    "np.save(f'../data/run_info/rundh_phph_mh3_records', arr_records)"
   ]
  },
  {
   "cell_type": "code",
   "execution_count": null,
   "id": "a0d89137-0caa-44c2-920f-a717b17c5132",
   "metadata": {},
   "outputs": [],
   "source": []
  }
 ],
 "metadata": {
  "kernelspec": {
   "display_name": "21cmfast",
   "language": "python",
   "name": "21cmfast"
  },
  "language_info": {
   "codemirror_mode": {
    "name": "ipython",
    "version": 3
   },
   "file_extension": ".py",
   "mimetype": "text/x-python",
   "name": "python",
   "nbconvert_exporter": "python",
   "pygments_lexer": "ipython3",
   "version": "3.7.12"
  }
 },
 "nbformat": 4,
 "nbformat_minor": 5
}
