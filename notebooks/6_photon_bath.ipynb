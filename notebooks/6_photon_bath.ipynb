{
 "cells": [
  {
   "cell_type": "code",
   "execution_count": 1,
   "id": "4bfcc4c4-dd1c-4f43-a772-784a8c58d84a",
   "metadata": {},
   "outputs": [
    {
     "name": "stderr",
     "output_type": "stream",
     "text": [
      "/work/submit/yitians/anaconda3/envs/21cmfast/lib/python3.7/site-packages/py21cmfast/_cfg.py:59: UserWarning: Your configuration file is out of date. Updating...\n",
      "  \"Your configuration file is out of date. Updating...\"\n",
      "/work/submit/yitians/anaconda3/envs/21cmfast/lib/python3.7/site-packages/py21cmfast/_cfg.py:42: UserWarning: Your configuration file is out of date. Updating...\n",
      "  warnings.warn(\"Your configuration file is out of date. Updating...\")\n"
     ]
    },
    {
     "name": "stdout",
     "output_type": "stream",
     "text": [
      "Using 21cmFAST version 0.1.dev1578+g6f96f89.d20230224\n"
     ]
    }
   ],
   "source": [
    "%reload_ext autoreload\n",
    "%autoreload 2\n",
    "\n",
    "import os, sys\n",
    "if os.environ['USER'] == 'yitians' and 'submit' in os.uname().nodename:\n",
    "    os.environ['DM21CM_DATA_DIR'] = '/data/submit/yitians/dm21cm/DM21cm'\n",
    "    os.environ['DH_DIR'] = '/work/submit/yitians/darkhistory/DarkHistory'\n",
    "sys.path.append('..')\n",
    "sys.path.append(os.environ['DH_DIR'])\n",
    "\n",
    "from tqdm import tqdm\n",
    "import time\n",
    "\n",
    "import numpy as np\n",
    "import jax.numpy as jnp\n",
    "\n",
    "import py21cmfast as p21c\n",
    "from py21cmfast import plotting, cache_tools\n",
    "print(f'Using 21cmFAST version {p21c.__version__}')\n",
    "\n",
    "%matplotlib inline\n",
    "import matplotlib as mpl\n",
    "import matplotlib.pyplot as plt\n",
    "from matplotlib import cm\n",
    "mpl.rc_file('../matplotlibrc')"
   ]
  },
  {
   "cell_type": "code",
   "execution_count": 2,
   "id": "97520d14-5f8e-47cc-8f8f-ccc4dfe10a21",
   "metadata": {},
   "outputs": [],
   "source": [
    "import logging\n",
    "logger = logging.getLogger('21cmFAST')\n",
    "logger.setLevel(logging.INFO)\n",
    "logging.getLogger('py21cmfast._utils').setLevel(logging.CRITICAL+1)\n",
    "logging.getLogger('py21cmfast.wrapper').setLevel(logging.CRITICAL+1)"
   ]
  },
  {
   "cell_type": "code",
   "execution_count": 14,
   "id": "268ca8d7-8904-4024-9549-214816b74a44",
   "metadata": {},
   "outputs": [],
   "source": [
    "from dm21cm.injection import DMParams\n",
    "from dm21cm.common import abscs_nBs_test_2 as abscs\n",
    "from dm21cm.data_loader import load_data\n",
    "import dm21cm.physics as phys"
   ]
  },
  {
   "cell_type": "code",
   "execution_count": 4,
   "id": "7f28d57d-afea-4fab-84dc-42a94db292e0",
   "metadata": {},
   "outputs": [],
   "source": [
    "from darkhistory.spec.spectrum import Spectrum"
   ]
  },
  {
   "cell_type": "markdown",
   "id": "0768497b-f489-4369-8a89-05859051bce2",
   "metadata": {},
   "source": [
    "## 0. Global config"
   ]
  },
  {
   "cell_type": "code",
   "execution_count": 5,
   "id": "e50465a5-3ae6-4f2a-977a-9f7b569e41b7",
   "metadata": {},
   "outputs": [
    {
     "name": "stdout",
     "output_type": "stream",
     "text": [
      "CPU(s):                48\n",
      "On-line CPU(s) list:   0-47\n",
      "NUMA node0 CPU(s):     0,2,4,6,8,10,12,14,16,18,20,22,24,26,28,30,32,34,36,38,40,42,44,46\n",
      "NUMA node1 CPU(s):     1,3,5,7,9,11,13,15,17,19,21,23,25,27,29,31,33,35,37,39,41,43,45,47\n"
     ]
    }
   ],
   "source": [
    "! lscpu | grep \"CPU(s)\""
   ]
  },
  {
   "cell_type": "code",
   "execution_count": 6,
   "id": "c7bae3bf-b3a5-49e3-a8fa-5f9c9970c224",
   "metadata": {},
   "outputs": [],
   "source": [
    "N_THREADS = 32"
   ]
  },
  {
   "cell_type": "code",
   "execution_count": 7,
   "id": "1d2d61c6-fa8a-48e7-a3ff-539b7b5fe327",
   "metadata": {},
   "outputs": [],
   "source": [
    "def get_z_arr(z_start=None, z_end=20):\n",
    "    \n",
    "    if z_start is None:\n",
    "        z_start = p21c.global_params.Z_HEAT_MAX\n",
    "    z_arr = [z_end]\n",
    "    while np.max(z_arr) < z_start:\n",
    "        z_prev = (1 + np.max(z_arr)) * p21c.global_params.ZPRIME_STEP_FACTOR - 1\n",
    "        z_arr.append(z_prev)\n",
    "    return np.array(z_arr[::-1][1:])"
   ]
  },
  {
   "cell_type": "code",
   "execution_count": 8,
   "id": "ae57151a-4d54-4dd1-96be-ba66bfcf16e6",
   "metadata": {},
   "outputs": [
    {
     "data": {
      "text/plain": [
       "['test',\n",
       " 'emf_comp_spf_mh3',\n",
       " 'emf_comp_dh_mh3',\n",
       " 'emf_comp_dh_mh6',\n",
       " 'emf_comp_dh_mh9',\n",
       " 'emf_comp_base']"
      ]
     },
     "execution_count": 8,
     "metadata": {},
     "output_type": "execute_result"
    }
   ],
   "source": [
    "# check cached runs\n",
    "CACHE_DIR_BASE = '/scratch/submit/ctp/yitians/21cmFAST-cache'\n",
    "os.listdir(CACHE_DIR_BASE)"
   ]
  },
  {
   "cell_type": "markdown",
   "id": "9b75b575-46ca-47ed-829d-246517257168",
   "metadata": {},
   "source": [
    "## 1. Initialization"
   ]
  },
  {
   "cell_type": "code",
   "execution_count": 81,
   "id": "7ef313b2-fafb-4cab-b777-a22ac7963def",
   "metadata": {},
   "outputs": [],
   "source": [
    "# config\n",
    "RUN_NAME = 'testdhph'\n",
    "f_scheme = 'DH'\n",
    "struct_boost_model = 'erfc 1e-3'\n",
    "run_mode = 'inj'\n",
    "\n",
    "p21c.config['direc'] = f'{CACHE_DIR_BASE}/{RUN_NAME}'\n",
    "os.makedirs(p21c.config['direc'], exist_ok=True)"
   ]
  },
  {
   "cell_type": "code",
   "execution_count": 82,
   "id": "014f44fc-e6b8-4e4a-86bd-e88484d63739",
   "metadata": {
    "tags": []
   },
   "outputs": [
    {
     "name": "stderr",
     "output_type": "stream",
     "text": [
      "2023-03-19 04:01:49,473 | INFO | Removed 0 files from cache.\n",
      "INFO:21cmFAST:Removed 0 files from cache.\n"
     ]
    }
   ],
   "source": [
    "cache_tools.clear_cache()"
   ]
  },
  {
   "cell_type": "markdown",
   "id": "28fec43c-72aa-4858-bf11-86a7abb2ad41",
   "metadata": {},
   "source": [
    "## 2. Loop"
   ]
  },
  {
   "cell_type": "code",
   "execution_count": 72,
   "id": "79d6eb63-3a76-42e2-8bda-c8f7824ccc26",
   "metadata": {},
   "outputs": [],
   "source": [
    "from main import evolve"
   ]
  },
  {
   "cell_type": "code",
   "execution_count": null,
   "id": "a624d59c-fc67-4f98-80ac-426b8a2cdc76",
   "metadata": {},
   "outputs": [],
   "source": [
    "# redshift\n",
    "p21c.global_params.ZPRIME_STEP_FACTOR = 1.05\n",
    "p21c.global_params.Z_HEAT_MAX = 44.\n",
    "z_arr = get_z_arr(z_end=6.)\n",
    "\n",
    "# dark matter\n",
    "dm_params = DMParams(mode='swave', primary='mu', m_DM=1e10, sigmav=1e-26)\n",
    "\n",
    "soln = evolve(DM_process=dm_params.mode, mDM=dm_params.m_DM,\n",
    "       sigmav=dm_params.sigmav, primary=dm_params.primary,\n",
    "       struct_boost=phys.struct_boost_func(model=struct_boost_model),\n",
    "       start_rs=3000, end_rs=z_arr[0], coarsen_factor=12, verbose=1)"
   ]
  },
  {
   "cell_type": "code",
   "execution_count": 80,
   "id": "07c9db96-e2ec-4bdc-9cf4-f6f21b8a0dc1",
   "metadata": {},
   "outputs": [
    {
     "data": {
      "text/plain": [
       "<darkhistory.spec.spectrum.Spectrum at 0x7fd424d677d0>"
      ]
     },
     "execution_count": 80,
     "metadata": {},
     "output_type": "execute_result"
    }
   ],
   "source": [
    "soln['highengphot'][-1]"
   ]
  },
  {
   "cell_type": "code",
   "execution_count": 83,
   "id": "d00abda8-a837-4f1c-a5b3-df913686193e",
   "metadata": {
    "tags": []
   },
   "outputs": [
    {
     "name": "stderr",
     "output_type": "stream",
     "text": [
      "/work/submit/yitians/anaconda3/envs/21cmfast/lib/python3.7/site-packages/py21cmfast/inputs.py:488: UserWarning: The USE_INTERPOLATION_TABLES setting has changed in v3.1.2 to be default True. You can likely ignore this warning, but if you relied onhaving USE_INTERPOLATION_TABLES=False by *default*, please set it explicitly. To silence this warning, set it explicitly to True. Thiswarning will be removed in v4.\n",
      "  \"The USE_INTERPOLATION_TABLES setting has changed in v3.1.2 to be \"\n",
      "\n",
      "  0%|          | 0/39 [00:00<?, ?it/s]\u001b[A\n",
      "  3%|▎         | 1/39 [00:07<05:03,  7.99s/it]\u001b[A\n",
      "  5%|▌         | 2/39 [00:15<04:48,  7.80s/it]\u001b[A\n",
      "  8%|▊         | 3/39 [00:21<04:05,  6.83s/it]\u001b[A\n",
      " 10%|█         | 4/39 [00:28<04:06,  7.04s/it]\u001b[A\n",
      " 13%|█▎        | 5/39 [00:34<03:47,  6.69s/it]\u001b[A\n",
      " 15%|█▌        | 6/39 [00:41<03:46,  6.87s/it]\u001b[A\n",
      " 18%|█▊        | 7/39 [00:48<03:32,  6.63s/it]\u001b[A\n",
      " 21%|██        | 8/39 [00:55<03:31,  6.82s/it]\u001b[A\n",
      " 23%|██▎       | 9/39 [01:01<03:16,  6.54s/it]\u001b[A\n",
      " 26%|██▌       | 10/39 [01:09<03:23,  7.01s/it]\u001b[A\n",
      " 28%|██▊       | 11/39 [01:15<03:06,  6.65s/it]\u001b[A\n",
      " 31%|███       | 12/39 [01:24<03:19,  7.41s/it]\u001b[A\n",
      " 33%|███▎      | 13/39 [01:32<03:15,  7.51s/it]\u001b[A\n",
      " 36%|███▌      | 14/39 [01:38<03:01,  7.25s/it]\u001b[A\n",
      " 38%|███▊      | 15/39 [01:46<03:00,  7.51s/it]\u001b[A\n",
      " 41%|████      | 16/39 [01:53<02:44,  7.17s/it]\u001b[A\n",
      " 44%|████▎     | 17/39 [02:01<02:43,  7.44s/it]\u001b[A\n",
      " 46%|████▌     | 18/39 [02:07<02:30,  7.15s/it]\u001b[A\n",
      " 49%|████▊     | 19/39 [02:17<02:41,  8.07s/it]\u001b[A\n",
      " 51%|█████▏    | 20/39 [02:25<02:31,  7.99s/it]\u001b[A\n",
      " 54%|█████▍    | 21/39 [02:32<02:17,  7.64s/it]\u001b[A\n",
      " 56%|█████▋    | 22/39 [02:41<02:14,  7.92s/it]\u001b[A\n",
      " 59%|█████▉    | 23/39 [02:49<02:08,  8.03s/it]\u001b[A\n",
      " 62%|██████▏   | 24/39 [02:55<01:53,  7.59s/it]\u001b[A\n",
      " 64%|██████▍   | 25/39 [03:04<01:49,  7.80s/it]\u001b[A\n",
      " 67%|██████▋   | 26/39 [03:12<01:44,  8.02s/it]\u001b[A\n",
      " 69%|██████▉   | 27/39 [03:19<01:30,  7.56s/it]\u001b[A\n",
      " 72%|███████▏  | 28/39 [03:27<01:25,  7.75s/it]\u001b[A\n",
      " 74%|███████▍  | 29/39 [03:33<01:12,  7.24s/it]\u001b[A\n",
      " 77%|███████▋  | 30/39 [03:41<01:07,  7.46s/it]\u001b[A\n",
      " 79%|███████▉  | 31/39 [03:48<00:57,  7.17s/it]\u001b[A\n",
      " 82%|████████▏ | 32/39 [03:56<00:52,  7.50s/it]\u001b[A\n",
      " 85%|████████▍ | 33/39 [04:03<00:43,  7.28s/it]\u001b[A\n",
      " 87%|████████▋ | 34/39 [04:11<00:37,  7.57s/it]\u001b[A\n",
      " 90%|████████▉ | 35/39 [04:18<00:30,  7.51s/it]\u001b[A\n",
      " 92%|█████████▏| 36/39 [04:26<00:22,  7.65s/it]\u001b[A\n",
      " 95%|█████████▍| 37/39 [04:33<00:14,  7.37s/it]\u001b[A\n",
      " 97%|█████████▋| 38/39 [04:42<00:07,  7.89s/it]\u001b[A\n",
      "100%|██████████| 39/39 [04:49<00:00,  7.42s/it]\u001b[A"
     ]
    },
    {
     "name": "stdout",
     "output_type": "stream",
     "text": [
      "input used 157.4750 s\n",
      "p21c used 131.8085 s\n"
     ]
    },
    {
     "name": "stderr",
     "output_type": "stream",
     "text": [
      "\n"
     ]
    }
   ],
   "source": [
    "# physics\n",
    "cosmo_params_EMF = dict(OMm=0.32, OMb=0.049, POWER_INDEX=0.96, SIGMA_8=0.83, hlittle=0.67)\n",
    "\n",
    "initial_conditions = p21c.initial_conditions(\n",
    "    user_params = p21c.UserParams(\n",
    "        HII_DIM = 50, # [1]\n",
    "        BOX_LEN = 50, # [p-Mpc]\n",
    "        N_THREADS = N_THREADS\n",
    "    ),\n",
    "    cosmo_params = p21c.CosmoParams(**cosmo_params_EMF),\n",
    "    random_seed=54321, write=True\n",
    ")\n",
    "\n",
    "# tmp switches\n",
    "reload = False\n",
    "propagate_photon = True\n",
    "\n",
    "# box\n",
    "box_dim = initial_conditions.user_params.HII_DIM\n",
    "n_pix = box_dim ** 3\n",
    "box_shape = (box_dim, box_dim, box_dim)\n",
    "\n",
    "# recording\n",
    "records = []\n",
    "i_slice = int(box_dim/2)\n",
    "input_time_tot = 0.\n",
    "p21c_time_tot = 0.\n",
    "\n",
    "## LOOP\n",
    "for i_z in tqdm(range(len(z_arr))):\n",
    "\n",
    "    z = z_arr[i_z]\n",
    "    \n",
    "    input_timer = time.time()\n",
    "    \n",
    "    if i_z == 0:\n",
    "        spin_temp = None\n",
    "        input_heating = input_ionization = input_jalpha = None\n",
    "        \n",
    "        ## load tfs\n",
    "        phot_phot_tf = load_data('phot_phot', reload=reload)\n",
    "        elec_phot_tf = load_data('elec_phot', reload=reload)\n",
    "        phot_dep_tf = load_data('phot_dep', reload=reload)\n",
    "        elec_dep_tf = load_data('elec_dep', reload=reload)\n",
    "        \n",
    "        ## fix DM in spec\n",
    "        phot_phot_tf.set_fixed_in_spec(dm_params.inj_phot_spec.N)\n",
    "        elec_phot_tf.set_fixed_in_spec(dm_params.inj_elec_spec.N)\n",
    "        phot_dep_tf.set_fixed_in_spec(dm_params.inj_phot_spec.N)\n",
    "        elec_dep_tf.set_fixed_in_spec(dm_params.inj_elec_spec.N)\n",
    "        \n",
    "        # photon bath\n",
    "        phot_bath = Spectrum(\n",
    "            abscs['photE'], np.zeros_like(abscs['photE']), spec_type='N', rs=1+z_arr[0]\n",
    "        ) # [N per Bavg]\n",
    "        phot_bath = soln['highengphot'][-1]\n",
    "        phot_bath_next = phot_bath * 0\n",
    "    \n",
    "    else: ## input from second step\n",
    "        \n",
    "        input_heating = p21c.input_heating(redshift=z, init_boxes=initial_conditions, write=False)\n",
    "        input_ionization = p21c.input_ionization(redshift=z, init_boxes=initial_conditions, write=False)\n",
    "        input_jalpha = p21c.input_jalpha(redshift=z, init_boxes=initial_conditions, write=False)\n",
    "\n",
    "        if run_mode == '':\n",
    "            if i_z == 1:\n",
    "                logger.warning('Not injecting anything in this run!')\n",
    "\n",
    "        elif run_mode == 'inj':\n",
    "            \n",
    "            ## common\n",
    "            delta_box = jnp.asarray(perturbed_field.density)\n",
    "            x_e_box = jnp.asarray(1 - ionized_box.xH_box)\n",
    "            \n",
    "            ## photon bath: from previous step\n",
    "            if propagate_photon:\n",
    "                phot_bath_next.redshift(1+z)\n",
    "                phot_bath = phot_bath_next\n",
    "            \n",
    "            ## photon bath -> photon\n",
    "            out_phot_N = phot_phot_tf(\n",
    "                rs = 1 + z,\n",
    "                in_spec = phot_bath.N,\n",
    "                nBs_s = delta_box.ravel(),\n",
    "                x_s = x_e_box.ravel(),\n",
    "                sum_result = True,\n",
    "                out_of_bounds_action = 'clip',\n",
    "            ) / (box_dim ** 3)\n",
    "\n",
    "            phot_bath_next = Spectrum(\n",
    "                phot_phot_tf.abscs['out'],\n",
    "                out_phot_N,\n",
    "                spec_type='N', rs=1+z\n",
    "            ) # [N / Bavg]\n",
    "            \n",
    "            ## photon bath -> deposition\n",
    "            phot_bath_dep_box = phot_dep_tf(\n",
    "                rs = 1 + z,\n",
    "                in_spec = phot_bath.N,\n",
    "                nBs_s = delta_box.ravel(),\n",
    "                x_s = x_e_box.ravel(),\n",
    "                sum_result = False,\n",
    "                out_of_bounds_action = 'clip',\n",
    "            ).reshape(box_dim, box_dim, box_dim, len(abscs['dep_c'])) # [eV / Bavg]\n",
    "            \n",
    "            ## DM: common\n",
    "            z_prev = z_arr[i_z-1]\n",
    "            dt = phys.dt_between_z(z_prev, z)\n",
    "            \n",
    "            rho_DM_box = (1 + delta_box) * phys.rho_DM * (1+z)**3 # [eV cm^-3]\n",
    "            n_Bavg = phys.n_B * (1+z)**3 # [Bavg cm^-3]\n",
    "            inj_per_Bavg_box = phys.inj_rate(rho_DM_box, dm_params) * dt * struct_boost / n_Bavg # [inj/Bavg]\n",
    "            \n",
    "            if dm_params.mode == 'swave':\n",
    "                struct_boost = phys.struct_boost_func(model=struct_boost_model)(1+z)\n",
    "            else:\n",
    "                struct_boost = 1\n",
    "            \n",
    "            ## DM -> photon\n",
    "            out_phot_N_phot = phot_phot_tf(\n",
    "                rs = 1 + z,\n",
    "                in_spec = dm_params.inj_phot_spec.N,\n",
    "                nBs_s = delta_box.ravel(),\n",
    "                x_s = x_e_box.ravel(),\n",
    "                sum_result = True,\n",
    "                sum_weight = inj_per_Bavg_box.ravel(),\n",
    "                out_of_bounds_action = 'clip',\n",
    "            ) / (box_dim ** 3) # [N / Bavg]\n",
    "\n",
    "            out_phot_N_elec = elec_phot_tf(\n",
    "                rs = 1 + z,\n",
    "                in_spec = dm_params.inj_elec_spec.N,\n",
    "                nBs_s = delta_box.ravel(),\n",
    "                x_s = x_e_box.ravel(),\n",
    "                sum_result = True,\n",
    "                sum_weight = inj_per_Bavg_box.ravel(),\n",
    "                out_of_bounds_action = 'clip',\n",
    "            ) / (box_dim ** 3) # [N / Bavg]\n",
    "\n",
    "            phot_bath_next += Spectrum(\n",
    "                phot_phot_tf.abscs['out'],\n",
    "                out_phot_N_phot + out_phot_N_elec,\n",
    "                spec_type='N', rs=1+z\n",
    "            )\n",
    "            \n",
    "            ## DM -> deposition\n",
    "            DM_phot_dep_box = phot_dep_tf(\n",
    "                rs = 1 + z,\n",
    "                in_spec = dm_params.inj_phot_spec.N,\n",
    "                nBs_s = delta_box.ravel(),\n",
    "                x_s = x_e_box.ravel(),\n",
    "                sum_result = False,\n",
    "                out_of_bounds_action = 'clip',\n",
    "            ).reshape(box_dim, box_dim, box_dim, len(abscs['dep_c'])) * inj_per_Bavg_box[...,None] # [eV / Bavg]\n",
    "\n",
    "            DM_elec_dep_box = elec_dep_tf(\n",
    "                rs = 1 + z,\n",
    "                in_spec = dm_params.inj_elec_spec.N,\n",
    "                nBs_s = delta_box.ravel(),\n",
    "                x_s = x_e_box.ravel(),\n",
    "                sum_result = False,\n",
    "                out_of_bounds_action = 'clip',\n",
    "            ).reshape(box_dim, box_dim, box_dim, len(abscs['dep_c'])) * inj_per_Bavg_box[...,None] # [eV / Bavg]\n",
    "            \n",
    "            ## deposite energy\n",
    "            dep_box = phot_bath_dep_box + DM_phot_dep_box + DM_elec_dep_box # [eV / Bavg]\n",
    "            # last dimension: ('H ion', 'He ion', 'exc', 'heat', 'cont')\n",
    "\n",
    "            input_heating.input_heating += np.array(2 / (3*phys.kB*(1+x_e_box)) * dep_box[...,3]) # [K]\n",
    "            input_ionization.input_ionization += np.array(dep_box[...,0] + dep_box[...,1]) / phys.rydberg # [1/Bavg]\n",
    "            \n",
    "            n_lya = dep_box[...,2] / phys.lya_eng # [lya photon # cm^-3]\n",
    "            dnu_lya = (phys.rydberg - phys.lya_eng) / (2*np.pi*phys.hbar) # [Hz^-1]\n",
    "            J_lya = n_lya * phys.c / (4*np.pi) / dnu_lya # [lya photon # cm^-2 s^-1 sr^-1 Hz^-1]\n",
    "            input_jalpha.input_jalpha += np.array(J_lya)\n",
    "            \n",
    "        else:\n",
    "            raise ValueError(run_mode)\n",
    "            \n",
    "    input_time_tot += time.time() - input_timer\n",
    "\n",
    "    ## step in 21cmFAST\n",
    "    p21c_timer = time.time()\n",
    "    perturbed_field = p21c.perturb_field( # perturbed_field controls the redshift\n",
    "        redshift=z,\n",
    "        init_boxes=initial_conditions\n",
    "    )\n",
    "    spin_temp = p21c.spin_temperature(\n",
    "        perturbed_field=perturbed_field,\n",
    "        previous_spin_temp=spin_temp,\n",
    "        input_heating_box=input_heating,\n",
    "        input_ionization_box=input_ionization,\n",
    "        input_jalpha_box=input_jalpha,\n",
    "        write=True\n",
    "    )\n",
    "    ionized_box = p21c.ionize_box(\n",
    "        spin_temp=spin_temp\n",
    "    )\n",
    "    brightness_temp = p21c.brightness_temperature(\n",
    "        ionized_box=ionized_box,\n",
    "        perturbed_field=perturbed_field,\n",
    "        spin_temp=spin_temp\n",
    "    )\n",
    "    p21c_time_tot += time.time() - p21c_timer\n",
    "\n",
    "    ## save results\n",
    "    if i_z > 0:\n",
    "        record = {\n",
    "            'z'   : z,\n",
    "            'T_s' : np.mean(spin_temp.Ts_box), # [mK]\n",
    "            'T_b' : np.mean(brightness_temp.brightness_temp), # [K]\n",
    "            'T_k' : np.mean(spin_temp.Tk_box), # [K]\n",
    "            'x_e' : np.mean(1 - ionized_box.xH_box), # [1]\n",
    "        }\n",
    "        # if run_mode == 'inj':\n",
    "        #     record_inj = {\n",
    "        #         'dE_inj_per_B' : input_boxs['dE_inj_per_B_mean'], # [eV per B]\n",
    "        #         'f_heat' : input_boxs['f_heat_mean'],\n",
    "        #         'f_ion'  : input_boxs['f_ion_mean'],\n",
    "        #         'f_exc'  : input_boxs['f_exc_mean'],\n",
    "        #     }\n",
    "        #     record.update(record_inj)\n",
    "        records.append(record)\n",
    "    \n",
    "print(f'input used {input_time_tot:.4f} s')\n",
    "print(f'p21c used {p21c_time_tot:.4f} s')"
   ]
  },
  {
   "cell_type": "code",
   "execution_count": 84,
   "id": "510fe9d2-bad0-483d-8791-59b8bd30a4bd",
   "metadata": {},
   "outputs": [],
   "source": [
    "arr_records = {k: np.array([r[k] for r in records]) for k in records[0].keys()}\n",
    "np.save(f'../data/run_info/{RUN_NAME}_records', arr_records)"
   ]
  },
  {
   "cell_type": "code",
   "execution_count": 85,
   "id": "62fca00b-3438-4342-8c85-551edcc8469c",
   "metadata": {},
   "outputs": [
    {
     "data": {
      "text/plain": [
       "<matplotlib.legend.Legend at 0x7fd424d2bd90>"
      ]
     },
     "execution_count": 85,
     "metadata": {},
     "output_type": "execute_result"
    },
    {
     "data": {
      "image/png": "[encoded data removed]",
      "text/plain": [
       "<Figure size 720x480 with 1 Axes>"
      ]
     },
     "metadata": {},
     "output_type": "display_data"
    }
   ],
   "source": [
    "fig, ax = plt.subplots(figsize=(6,4))\n",
    "\n",
    "for name in ['emf_comp_base', 'emf_comp_dh_mh3', 'test', 'testdhph']:\n",
    "    \n",
    "    records = np.load(f'../data/run_info/{name}_records.npy', allow_pickle=True).item()\n",
    "    ax.plot(records['z'], records['T_b'], label=name)\n",
    "ax.legend()"
   ]
  },
  {
   "cell_type": "code",
   "execution_count": null,
   "id": "35b0a7f7-b935-4542-8c03-4685467c5f40",
   "metadata": {},
   "outputs": [],
   "source": []
  },
  {
   "cell_type": "code",
   "execution_count": null,
   "id": "9a42a963-30c0-4e1d-bbae-3b232bde89cb",
   "metadata": {},
   "outputs": [],
   "source": []
  },
  {
   "cell_type": "code",
   "execution_count": null,
   "id": "3de13113-957a-4a98-b166-4694e7f2fc44",
   "metadata": {},
   "outputs": [],
   "source": []
  },
  {
   "cell_type": "code",
   "execution_count": null,
   "id": "4f8b77a9-ab8f-49ab-8dc6-e041a5d1387e",
   "metadata": {},
   "outputs": [],
   "source": []
  },
  {
   "cell_type": "code",
   "execution_count": null,
   "id": "3b73d39e-83b2-48a9-8da9-4f3f017a7cf9",
   "metadata": {},
   "outputs": [],
   "source": []
  },
  {
   "cell_type": "code",
   "execution_count": null,
   "id": "4819ec6c-299c-40b6-93c8-73ae4c95418b",
   "metadata": {},
   "outputs": [],
   "source": [
    "plt.plot(np.abs(phot_bath_next.N))\n",
    "plt.yscale('log')"
   ]
  },
  {
   "cell_type": "code",
   "execution_count": null,
   "id": "ade649a4-f4b9-4ad3-abd6-080f20d328fd",
   "metadata": {},
   "outputs": [],
   "source": []
  }
 ],
 "metadata": {
  "kernelspec": {
   "display_name": "21cmfast",
   "language": "python",
   "name": "21cmfast"
  },
  "language_info": {
   "codemirror_mode": {
    "name": "ipython",
    "version": 3
   },
   "file_extension": ".py",
   "mimetype": "text/x-python",
   "name": "python",
   "nbconvert_exporter": "python",
   "pygments_lexer": "ipython3",
   "version": "3.7.12"
  }
 },
 "nbformat": 4,
 "nbformat_minor": 5
}
