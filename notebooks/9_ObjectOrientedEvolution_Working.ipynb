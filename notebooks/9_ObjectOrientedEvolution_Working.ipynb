{
 "cells": [
  {
   "cell_type": "code",
   "execution_count": 1,
   "metadata": {},
   "outputs": [
    {
     "name": "stderr",
     "output_type": "stream",
     "text": [
      "/n/home07/yitians/.conda/envs/21cmfast/lib/python3.10/site-packages/py21cmfast/_cfg.py:58: UserWarning: Your configuration file is out of date. Updating...\n",
      "  warnings.warn(\n",
      "/n/home07/yitians/.conda/envs/21cmfast/lib/python3.10/site-packages/py21cmfast/_cfg.py:42: UserWarning: Your configuration file is out of date. Updating...\n",
      "  warnings.warn(\"Your configuration file is out of date. Updating...\")\n",
      "INFO:root:Using 21cmFAST version 0.1.dev1579+g6b1da6d.d20230702\n"
     ]
    }
   ],
   "source": [
    "# Basic python imports\n",
    "import os, sys, time, logging, pickle, powerbox\n",
    "import numpy as np\n",
    "\n",
    "# The LambdaCDM cosmology\n",
    "from astropy.cosmology import Planck18 as cosmo\n",
    "\n",
    "# Import modified 21cmFAST\n",
    "import py21cmfast as p21c\n",
    "from py21cmfast import cache_tools\n",
    "from py21cmfast import plotting\n",
    "\n",
    "# Configure environment for use with DarkHistory\n",
    "#os.environ['DH_DIR']='/global/scratch/projects/pc_heptheory/fosterjw/21CM_Project/DarkHistory/'\n",
    "sys.path.append(os.environ['DH_DIR'])\n",
    "from darkhistory.spec.spectrum import Spectrum # use branch test_dm21cm\n",
    "\n",
    "# Import DM21CM code for this project\n",
    "sys.path.append(\"..\")\n",
    "import dm21cm.physics as phys\n",
    "from dm21cm.utils import split_xray, get_z_edges, gen_injection_boxes, p21_step\n",
    "from dm21cm.dh_wrapper import DMParams, DarkHistoryWrapper\n",
    "from dm21cm.data_cacher import Cacher\n",
    "from dm21cm.data_loader import load_dict\n",
    "\n",
    "# Plotting\n",
    "import matplotlib as mpl\n",
    "import matplotlib.pyplot as plt\n",
    "from matplotlib import colormaps as cms\n",
    "mpl.rc_file(\"../matplotlibrc\")\n",
    "#mpl.rcParams['text.usetex']=False\n",
    "\n",
    "# Logging\n",
    "logging.getLogger().setLevel(logging.INFO)\n",
    "logging.getLogger('21cmFAST').setLevel(logging.CRITICAL+1)\n",
    "logging.getLogger('py21cmfast._utils').setLevel(logging.CRITICAL+1)\n",
    "logging.getLogger('py21cmfast.wrapper').setLevel(logging.CRITICAL+1)\n",
    "logging.info(f'Using 21cmFAST version {p21c.__version__}')"
   ]
  },
  {
   "cell_type": "markdown",
   "metadata": {},
   "source": [
    "# Configure the 21cmFAST"
   ]
  },
  {
   "cell_type": "code",
   "execution_count": 2,
   "metadata": {},
   "outputs": [],
   "source": [
    "run_name = 'test'\n",
    "p21c.config['direc'] = os.environ['P21C_CACHE_DIR'] + '/' + run_name\n",
    "os.makedirs(p21c.config['direc'], exist_ok=True)\n",
    "cache_tools.clear_cache()\n",
    "\n",
    "# The range of times and how we step\n",
    "z_start = 45.\n",
    "z_end = 5.\n",
    "z_step_factor = 1.01\n",
    "\n",
    "# The size and resolution of our box\n",
    "box_dim = 64 # [Dimensionless]\n",
    "box_len = box_dim * 2. # [Mpccm]"
   ]
  },
  {
   "cell_type": "code",
   "execution_count": 3,
   "metadata": {},
   "outputs": [
    {
     "name": "stderr",
     "output_type": "stream",
     "text": [
      "/n/home07/yitians/.conda/envs/21cmfast/lib/python3.10/site-packages/py21cmfast/inputs.py:487: UserWarning: The USE_INTERPOLATION_TABLES setting has changed in v3.1.2 to be default True. You can likely ignore this warning, but if you relied onhaving USE_INTERPOLATION_TABLES=False by *default*, please set it explicitly. To silence this warning, set it explicitly to True. Thiswarning will be removed in v4.\n",
      "  warnings.warn(\n"
     ]
    }
   ],
   "source": [
    "p21c.global_params.Z_HEAT_MAX = z_start\n",
    "p21c.global_params.ZPRIME_STEP_FACTOR = z_step_factor\n",
    "p21c.global_params.CLUMPING_FACTOR = 1.\n",
    "\n",
    "p21c_initial_conditions = p21c.initial_conditions(\n",
    "    user_params = p21c.UserParams(\n",
    "        HII_DIM = box_dim,\n",
    "        BOX_LEN = box_len,\n",
    "        N_THREADS = 32,\n",
    "    ),\n",
    "    cosmo_params = p21c.CosmoParams(\n",
    "        OMm = cosmo.Om(0),\n",
    "        OMb = cosmo.Ob(0),\n",
    "        POWER_INDEX = cosmo.meta['n'],\n",
    "        SIGMA_8 = cosmo.meta['sigma8'],\n",
    "        hlittle = cosmo.h,\n",
    "    ),\n",
    "    random_seed = 54321,\n",
    "    write = True,\n",
    ")"
   ]
  },
  {
   "cell_type": "markdown",
   "metadata": {},
   "source": [
    "# Configure the Physics with Dark History"
   ]
  },
  {
   "cell_type": "code",
   "execution_count": null,
   "metadata": {},
   "outputs": [],
   "source": [
    "struct_boost_model = 'erfc 1e-3'\n",
    "run_mode = 'xray'\n",
    "dh_init_list = ['phot', 'T_k', 'x_e']\n",
    "dh_tf_version = '230629'\n",
    "\n",
    "dh_init_path = f\"{p21c.config[f'direc']}/dh_init_soln.p\"\n",
    "abscs = load_dict(f'../data/abscissas/abscs_{dh_tf_version}.h5')\n",
    "tf_prefix = f\"{os.environ['DM21CM_DATA_DIR']}/tf/{dh_tf_version}\"\n",
    "\n",
    "# Our energy injection model\n",
    "dm_params = DMParams(mode='swave', primary='phot_delta', abscs=abscs, m_DM=1e10, sigmav=1e-23)\n",
    "\n",
    "# Determine the boost factor model for the type of DM depletion mechanism\n",
    "if dm_params.mode == 'swave':\n",
    "    struct_boost = phys.struct_boost_func(model=struct_boost_model)\n",
    "else:\n",
    "    struct_boost = lambda rs: 1.\n",
    "    \n",
    "# Generate the dark history initial conditions\n",
    "logging.info('Running DarkHistory to generate initial conditions.')\n",
    "from darkhistory.main import evolve as dh_evolve\n",
    "\n",
    "dhinit_soln = dh_evolve(\n",
    "    DM_process=dm_params.mode, mDM=dm_params.m_DM,\n",
    "    sigmav=dm_params.sigmav, primary=dm_params.primary,\n",
    "    struct_boost=phys.struct_boost_func(model=struct_boost_model),\n",
    "    start_rs=3000, end_rs=z_end*0.9, coarsen_factor=12, verbose=1,\n",
    "    reion_switch=False\n",
    ")\n",
    "pickle.dump(dhinit_soln, open(dh_init_path, 'wb'))"
   ]
  },
  {
   "cell_type": "code",
   "execution_count": 5,
   "metadata": {},
   "outputs": [
    {
     "name": "stderr",
     "output_type": "stream",
     "text": [
      "INFO:root:Loaded photon propagation transfer function.\n",
      "INFO:root:Loaded photon scattering transfer function.\n",
      "INFO:root:Loaded photon deposition transfer function.\n"
     ]
    }
   ],
   "source": [
    "# The DH Wrapper Class  \n",
    "dh_wrapper = DarkHistoryWrapper(\n",
    "    box_dim = box_dim,\n",
    "    abscs = abscs,\n",
    "    tf_prefix = tf_prefix,\n",
    "    enable_elec = True,\n",
    ")"
   ]
  },
  {
   "cell_type": "markdown",
   "metadata": {},
   "source": [
    "# Set Details of Caching"
   ]
  },
  {
   "cell_type": "code",
   "execution_count": 6,
   "metadata": {},
   "outputs": [],
   "source": [
    "ex_lo, ex_hi = 1e2, 1e4 # [eV]\n",
    "ix_lo = np.searchsorted(abscs['photE'], ex_lo) # i of first bin greater than ex_lo, excluded\n",
    "ix_hi = np.searchsorted(abscs['photE'], ex_hi) # i of first bin greater than ex_hi, included\n",
    "\n",
    "xray_fn = p21c.config['direc']+'/xray_brightness.h5'\n",
    "if os.path.isfile(xray_fn):\n",
    "    os.remove(xray_fn)\n",
    "    \n",
    "cacher = Cacher(data_path=xray_fn, cosmo=cosmo, N=box_dim, dx=box_len/box_dim)"
   ]
  },
  {
   "cell_type": "markdown",
   "metadata": {},
   "source": [
    "# Evolution"
   ]
  },
  {
   "cell_type": "code",
   "execution_count": 7,
   "metadata": {},
   "outputs": [],
   "source": [
    "# Where we start looking for annuli\n",
    "xray_loop_start = 0\n",
    "\n",
    "# Some details regarding our stepping\n",
    "z_edges = get_z_edges(z_start, z_end, 1.01)\n",
    "\n",
    "def get_time_step(i_z):\n",
    "    current_z = z_edges[i_z]\n",
    "    next_z = z_edges[i_z+1]\n",
    "    \n",
    "    # The cosmic time step size in [s]\n",
    "    dt = ( cosmo.age(next_z) - cosmo.age(current_z) ).to('s').value\n",
    "    return current_z, next_z, dt"
   ]
  },
  {
   "cell_type": "markdown",
   "metadata": {},
   "source": [
    "### Synchronization"
   ]
  },
  {
   "cell_type": "code",
   "execution_count": 8,
   "metadata": {},
   "outputs": [],
   "source": [
    "# Initial step with no injection\n",
    "perturbed_field = p21c.perturb_field(redshift=z_edges[0], init_boxes=p21c_initial_conditions)\n",
    "spin_temp, ionized_box, brightness_temp = p21_step(z_edges[0], perturbed_field, None, None)\n",
    "\n",
    "# Manual sychronization of 21cmFAST with DarkHistory state\n",
    "if 'T_k' in dh_init_list:\n",
    "    T_k_DH = np.interp(1+spin_temp.redshift, dh_wrapper.dhinit_soln['rs'][::-1],\n",
    "                       dh_wrapper.dhinit_soln['Tm'][::-1] / phys.kB) # [K]\n",
    "    spin_temp.Tk_box += T_k_DH - np.mean(spin_temp.Tk_box)\n",
    "\n",
    "if 'x_e' in dh_init_list:\n",
    "    x_e_DH = np.interp(1+spin_temp.redshift, dh_wrapper.dhinit_soln['rs'][::-1],\n",
    "                       dh_wrapper.dhinit_soln['x'][::-1, 0]) # HI\n",
    "    \n",
    "    spin_temp.x_e_box += x_e_DH - np.mean(spin_temp.x_e_box)\n",
    "    x_H_DH = 1 - x_e_DH\n",
    "    ionized_box.xH_box += x_H_DH - np.mean(ionized_box.xH_box)\n",
    "\n",
    "if 'phot' in dh_init_list:\n",
    "    logrs_dh_arr = np.log(dh_wrapper.dhinit_soln['rs'])[::-1]\n",
    "    logrs = np.log(1+spin_temp.redshift)\n",
    "    i = np.searchsorted(logrs_dh_arr, logrs)\n",
    "    logrs_left, logrs_right = logrs_dh_arr[i-1:i+1]\n",
    "\n",
    "    dh_spec_N_arr = np.array([s.N for s in dh_wrapper.dhinit_soln['highengphot']])[::-1]\n",
    "    dh_spec_left, dh_spec_right = dh_spec_N_arr[i-1:i+1]\n",
    "    dh_spec = ( dh_spec_left * np.abs(logrs - logrs_right) + \\\n",
    "                dh_spec_right * np.abs(logrs - logrs_left) ) / np.abs(logrs_right - logrs_left)\n",
    "    phot_bath_spec = Spectrum(dh_wrapper.photeng, dh_spec, rs=1+spin_temp.redshift, spec_type='N')\n",
    "else:\n",
    "    phot_bath_spec = Spectrum(dh_wrapper.photeng, np.zeros_like(photeng),\n",
    "                              rs=1+spin_temp.redshift, spec_type='N') # [N per Bavg]"
   ]
  },
  {
   "cell_type": "markdown",
   "metadata": {},
   "source": [
    "## Now that we are synchronized, we enter our loop"
   ]
  },
  {
   "cell_type": "code",
   "execution_count": null,
   "metadata": {
    "scrolled": false
   },
   "outputs": [],
   "source": [
    "records = []\n",
    "\n",
    "for i_z in range(len(z_edges)-1):\n",
    "\n",
    "    timer_start = time.time()\n",
    "\n",
    "    # Print some information about the step we are taking\n",
    "    current_z, next_z, dt = get_time_step(i_z)\n",
    "\n",
    "    print(f'step {i_z} z: {current_z:.3f}->{next_z:.3f}', end='', flush=True)\n",
    "    \n",
    "    # Derived quantities that I need\n",
    "    nBavg = phys.n_B * (1+current_z)**3 # [Bavg / (physical cm)^3]\n",
    "    delta_plus_one_box = 1 + np.asarray(perturbed_field.density)\n",
    "    rho_DM_box = delta_plus_one_box * phys.rho_DM * (1+current_z)**3 # [eV/(physical cm)^3]\n",
    "    x_e_box = np.asarray(1 - ionized_box.xH_box) # check this\n",
    "    inj_per_Bavg_box = phys.inj_rate(rho_DM_box, dm_params) * dt * struct_boost(1+current_z) / nBavg # [inj/Bavg]\n",
    "    \n",
    "    # Initialize the step for dh_wrapper\n",
    "    dh_wrapper.init_step(\n",
    "        rs = 1+ current_z,\n",
    "        delta_plus_one_box = delta_plus_one_box,\n",
    "        x_e_box = x_e_box,\n",
    "    )\n",
    "    \n",
    "    #############################\n",
    "    ###   Energy Deposition   ###\n",
    "    #############################\n",
    "        \n",
    "    # Now calculate photon emission and energy deposition from our X-ray annuli\n",
    "    for i_z_shell in range(xray_loop_start, i_z):\n",
    "        \n",
    "        # Load the cached data\n",
    "        effective_density, xray_spec, is_box_average = cacher.get_annulus_data(\n",
    "            current_z, z_edges[i_z_shell], z_edges[i_z_shell+1]\n",
    "        )\n",
    "\n",
    "        # If we are smoothing on the scale of the box then dump to the global bath spectrum.\n",
    "        # The deposition will happen later, and we will not revisit this shell.\n",
    "        if is_box_average:\n",
    "            phot_bath_spec.N += effective_density[0, 0, 0] * xray_spec.N\n",
    "            xray_loop_start = max(i_z_shell+1, xray_loop_start)\n",
    "            continue\n",
    "\n",
    "        dh_wrapper.inject_phot(xray_spec, injection_type='xray', weight_box=effective_density)\n",
    "\n",
    "    # Homogeneous bath injection\n",
    "    dh_wrapper.inject_phot(phot_bath_spec, injection_type='bath')\n",
    "    \n",
    "    # DM on-the-spot injection\n",
    "    dh_wrapper.inject_from_dm(dm_params, weight_box=inj_per_Bavg_box)\n",
    "    \n",
    "    #############################################################\n",
    "    ###   Generate the input boxes and take a 21cmFAST step   ###\n",
    "    #############################################################\n",
    "    \n",
    "    # Access the propagating photon spectrum, emitted photon spectrum, and deposition box\n",
    "    prop_phot_N, emit_phot_N, dep_box = dh_wrapper.get_state()\n",
    "    \n",
    "    perturbed_field = p21c.perturb_field(redshift=next_z, init_boxes=p21c_initial_conditions)    \n",
    "    input_heating, input_ionization, input_jalpha = gen_injection_boxes(next_z, p21c_initial_conditions)\n",
    "    dh_wrapper.populate_injection_boxes(input_heating, input_ionization, input_jalpha)\n",
    "     \n",
    "    spin_temp, ionized_box, brightness_temp = p21_step(\n",
    "        next_z, perturbed_field, spin_temp, ionized_box,\n",
    "        input_heating, input_ionization, input_jalpha\n",
    "    )\n",
    "    \n",
    "    ########################################################\n",
    "    ###   Prepare X-Ray and Bath Spectra for Next Step   ###\n",
    "    ########################################################\n",
    "    \n",
    "    # Advance all cached spectra through this redshift step.        \n",
    "    dep_tf_at_point = dh_wrapper.phot_dep_tf.point_interp(rs=1+current_z, nBs=1, x=np.mean(x_e_box))\n",
    "    dep_toteng = np.sum(dep_tf_at_point[:, :4], axis=1)\n",
    "    attenuation_factor = 1 - dep_toteng/dh_wrapper.photeng\n",
    "    \n",
    "    cacher.advance_spectrum(attenuation_factor, next_z)\n",
    "    \n",
    "    ################################################################\n",
    "    ###   Cache X-Ray Emission from this Step and Prepare Bath   ###\n",
    "    ################################################################\n",
    "        \n",
    "    # Split the x-ray spectrum into bath and emission\n",
    "    emit_bath_N, emit_xray_N = split_xray(emit_phot_N, ix_lo, ix_hi)\n",
    "    out_phot_N = prop_phot_N + emit_bath_N\n",
    "    \n",
    "    # Prepare the bath spectrum for the next step    \n",
    "    out_phot_spec = Spectrum(dh_wrapper.photeng, out_phot_N, rs=1+current_z, spec_type='N')\n",
    "    out_phot_spec.redshift(1+next_z)\n",
    "    phot_bath_spec = out_phot_spec\n",
    "    \n",
    "    # Redshift the x-ray spectrum to the next timestep. Then cache the brightness box and spectrum\n",
    "    xray_spec = Spectrum(dh_wrapper.photeng, emit_xray_N, rs=1+current_z, spec_type='N') # [photon / Bavg]\n",
    "    xray_spec.redshift(1+next_z)\n",
    "    \n",
    "    xray_e_box = dep_box[..., 5] / np.dot(dh_wrapper.photeng, emit_xray_N) # energy / B_avg\n",
    "    cacher.set_cache(current_z, xray_e_box, xray_spec)\n",
    "    \n",
    "    #######################################################\n",
    "    ###   Save some Global Quantities for Convenience   ###\n",
    "    #######################################################\n",
    "    \n",
    "    dE_inj_per_Bavg = dm_params.eng_per_inj * np.mean(inj_per_Bavg_box) # [eV per Bavg]\n",
    "    dE_inj_per_Bavg_unclustered = dE_inj_per_Bavg / struct_boost(1+current_z)\n",
    "\n",
    "    record_inj = {\n",
    "        'dE_inj_per_B' : dE_inj_per_Bavg,\n",
    "        'f_ion'  : np.mean(dep_box[...,0] + dep_box[...,1]) / dE_inj_per_Bavg_unclustered,\n",
    "        'f_exc'  : np.mean(dep_box[...,2]) / dE_inj_per_Bavg_unclustered,\n",
    "        'f_heat' : np.mean(dep_box[...,3]) / dE_inj_per_Bavg_unclustered,\n",
    "    }\n",
    "    \n",
    "    record = {\n",
    "        'z'   : next_z,\n",
    "        'T_s' : np.mean(spin_temp.Ts_box), # [mK]\n",
    "        'T_b' : np.mean(brightness_temp.brightness_temp), # [K]\n",
    "        'T_k' : np.mean(spin_temp.Tk_box), # [K]\n",
    "        'x_e' : np.mean(1 - ionized_box.xH_box), # [1]\n",
    "        'E_phot' : phot_bath_spec.toteng(), # [eV/Bavg]\n",
    "    }\n",
    "    if run_mode in ['bath', 'xray']:\n",
    "        record.update(record_inj)\n",
    "    records.append(record)\n",
    "    #print(record['T_b'])\n",
    "    \n",
    "    arr_records = {k: np.array([r[k] for r in records]) for k in records[0].keys()}\n",
    "    #np.save('./New_Debug', arr_records)\n",
    "    \n",
    "    print(f' in {time.time()-timer_start:.3f} seconds')"
   ]
  },
  {
   "cell_type": "markdown",
   "metadata": {},
   "source": [
    "# Below we make Lightcones and Power Spectra"
   ]
  },
  {
   "cell_type": "code",
   "execution_count": 10,
   "metadata": {},
   "outputs": [],
   "source": [
    "lightcone_quantities = (\n",
    "    'brightness_temp', 'Ts_box', 'xH_box', 'dNrec_box', 'z_re_box',\n",
    "    'Gamma12_box', 'J_21_LW_box', 'density'\n",
    ")\n"
   ]
  },
  {
   "cell_type": "code",
   "execution_count": null,
   "metadata": {},
   "outputs": [],
   "source": [
    "lightcone= p21c.run_lightcone(\n",
    "        redshift = z_edges[-1],\n",
    "        init_box = p21c_initial_conditions,\n",
    "        flag_options = ionized_box.flag_options,\n",
    "        astro_params = ionized_box.astro_params,\n",
    "        lightcone_quantities = lightcone_quantities,\n",
    "        global_quantities = lightcone_quantities,\n",
    "        random_seed = 54321,\n",
    "        direc = '../DebugCache/',\n",
    ")\n"
   ]
  },
  {
   "cell_type": "code",
   "execution_count": null,
   "metadata": {},
   "outputs": [],
   "source": [
    "plt.plot(np.mean(lightcone.brightness_temp[0], axis = 0))"
   ]
  },
  {
   "cell_type": "code",
   "execution_count": 39,
   "metadata": {},
   "outputs": [],
   "source": [
    "lightcone_redshifts = lightcone.lightcone_redshifts"
   ]
  },
  {
   "cell_type": "code",
   "execution_count": null,
   "metadata": {},
   "outputs": [],
   "source": [
    "fig, ax = plt.subplots(figsize = (14, 1))\n",
    "\n",
    "im = ax.pcolormesh(lightcone_redshifts, np.arange(cacher.N)*cacher.dx, \n",
    "              lightcone.brightness_temp[0], cmap = mpl.colormaps['EoR'], vmin = -150, vmax = 30)\n",
    "\n",
    "ax.set_xscale('log')\n",
    "ax.set_xticks([], minor = True)\n",
    "ax.set_xlim(5, 45)\n",
    "\n",
    "ax.set_xticks([5, 10, 15, 20, 25, 30, 35, 40, 45], minor = False)\n",
    "ax.set_xticklabels(['5', '10', '15', '20', '25', '30', '35', '40', '45'], minor = False)\n",
    "\n",
    "cax = plt.colorbar(im)\n",
    "plt.show()\n"
   ]
  },
  {
   "cell_type": "code",
   "execution_count": 77,
   "metadata": {},
   "outputs": [],
   "source": [
    "def compute_power(\n",
    "   box,\n",
    "   length,\n",
    "   n_psbins,\n",
    "   log_bins=True,\n",
    "   ignore_kperp_zero=True,\n",
    "   ignore_kpar_zero=False,\n",
    "   ignore_k_zero=False,\n",
    "):\n",
    "    # Determine the weighting function required from ignoring k's.\n",
    "    k_weights = np.ones(box.shape, int)\n",
    "    n0 = k_weights.shape[0]\n",
    "    n1 = k_weights.shape[-1]\n",
    "\n",
    "    if ignore_kperp_zero:\n",
    "        k_weights[n0 // 2, n0 // 2, :] = 0\n",
    "    if ignore_kpar_zero:\n",
    "        k_weights[:, :, n1 // 2] = 0\n",
    "    if ignore_k_zero:\n",
    "        k_weights[n0 // 2, n0 // 2, n1 // 2] = 0\n",
    "\n",
    "    res = powerbox.tools.get_power(\n",
    "        box,\n",
    "        boxlength=length,\n",
    "        bins=n_psbins,\n",
    "        bin_ave=False,\n",
    "        get_variance=False,\n",
    "        log_bins=log_bins,\n",
    "        k_weights=k_weights,\n",
    "    )\n",
    "\n",
    "    res = list(res)\n",
    "    k = res[1]\n",
    "    if log_bins:\n",
    "        k = np.exp((np.log(k[1:]) + np.log(k[:-1])) / 2)\n",
    "    else:\n",
    "        k = (k[1:] + k[:-1]) / 2\n",
    "\n",
    "    res[1] = k\n",
    "    return res\n",
    "\n",
    "def powerspectra(brightness_temp, n_psbins=50, nchunks=20, min_k=0.1, max_k=1.0, logk=True):\n",
    "    data = []\n",
    "    chunk_indices = list(range(0,brightness_temp.n_slices, int(np.floor(brightness_temp.n_slices / nchunks),)) )   \n",
    "    print(chunk_indices)\n",
    "    if len(chunk_indices) > nchunks:\n",
    "        chunk_indices = chunk_indices[:-1]\n",
    "    chunk_indices.append(brightness_temp.n_slices)\n",
    "\n",
    "    for i in range(nchunks):\n",
    "        start = chunk_indices[i]\n",
    "        end = chunk_indices[i + 1]\n",
    "        chunklen = (end - start) * brightness_temp.cell_size\n",
    "\n",
    "        power, k = compute_power(\n",
    "            brightness_temp.brightness_temp[:, :, start:end],\n",
    "            (box_len, box_len, chunklen),\n",
    "            n_psbins,\n",
    "            log_bins=logk,\n",
    "        )\n",
    "        data.append({\"k\": k, \"delta\": power * k ** 3 / (2 * np.pi ** 2)})\n",
    "    return data"
   ]
  },
  {
   "cell_type": "code",
   "execution_count": 78,
   "metadata": {},
   "outputs": [],
   "source": [
    "k_fundamental = 2*np.pi/box_len\n",
    "k_max = k_fundamental * box_dim\n",
    "Nk = np.floor(box_dim).astype(int)\n",
    "\n",
    "out = powerspectra(lightcone, min_k = k_fundamental, max_k = k_max)"
   ]
  },
  {
   "cell_type": "code",
   "execution_count": null,
   "metadata": {
    "scrolled": false
   },
   "outputs": [],
   "source": [
    "fig, axs = plt.subplots(ncols = 5, nrows = 4, figsize = (30, 16))\n",
    "\n",
    "for i, item in enumerate(out):\n",
    "    row_index, col_index = np.unravel_index(i, axs.shape)\n",
    "    \n",
    "    ax = axs[row_index, col_index]\n",
    "    ax.plot(item['k'], item['delta'], color = 'black')\n",
    "    ax.set_xscale('log')\n",
    "    ax.set_yscale('log')\n",
    "    ax.text(.6, .1, 'Redshift Chunk ' + str(i), transform=ax.transAxes, fontsize = 18)\n",
    "    \n",
    "for i in range(axs.shape[0]-1):\n",
    "    for j in range(axs.shape[1]):\n",
    "        axs[i, j].set_xticklabels([])\n",
    "\n",
    "for j in range(axs.shape[1]):\n",
    "    axs[-1, j].set_xlabel('k [Mpc$^{-1}$]', fontsize = 22)\n",
    "for i in range(axs.shape[0]):\n",
    "    axs[i, 0].set_ylabel('$k^3 P(k)$', fontsize = 22)\n",
    "    \n",
    "plt.tight_layout()\n",
    "plt.show()"
   ]
  }
 ],
 "metadata": {
  "kernelspec": {
   "display_name": "21cmfast",
   "language": "python",
   "name": "python3"
  },
  "language_info": {
   "codemirror_mode": {
    "name": "ipython",
    "version": 3
   },
   "file_extension": ".py",
   "mimetype": "text/x-python",
   "name": "python",
   "nbconvert_exporter": "python",
   "pygments_lexer": "ipython3",
   "version": "3.10.12"
  }
 },
 "nbformat": 4,
 "nbformat_minor": 4
}
