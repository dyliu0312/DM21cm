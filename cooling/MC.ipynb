{
 "cells": [
  {
   "cell_type": "code",
   "execution_count": 29,
   "id": "0f8ad687-a29a-417d-a444-11785cb20b6a",
   "metadata": {},
   "outputs": [],
   "source": [
    "%reload_ext autoreload\n",
    "%autoreload 2\n",
    "\n",
    "import os, sys\n",
    "#sys.path.append(os.environ['DH_DIR'])\n",
    "\n",
    "import numpy as np\n",
    "import warnings\n",
    "\n",
    "#import darkhistory.physics as phys\n",
    "\n",
    "from tqdm.notebook import tqdm\n",
    "import matplotlib.pyplot as plt\n",
    "from matplotlib import rc_file\n",
    "rc_file('../matplotlibrc')"
   ]
  },
  {
   "cell_type": "code",
   "execution_count": 2,
   "id": "aa50e03e-4811-4af3-a746-89a6152d7bea",
   "metadata": {},
   "outputs": [],
   "source": [
    "# 1. compute total rate\n",
    "# 2. compute distance travelled\n",
    "# 3. branching ratio, branch to processes\n",
    "# 4. scatter (or stop)"
   ]
  },
  {
   "cell_type": "markdown",
   "id": "23689112-fd9c-4791-8ade-1607449ae5f7",
   "metadata": {},
   "source": [
    "### Utilities"
   ]
  },
  {
   "cell_type": "code",
   "execution_count": 15,
   "id": "24c45008-7ac7-42a7-98fb-b76345d27d55",
   "metadata": {},
   "outputs": [],
   "source": [
    "year = 365.25 * 86400 # [s]"
   ]
  },
  {
   "cell_type": "code",
   "execution_count": 42,
   "id": "1862ca32-e3ae-4516-bee6-7456c2ec9a62",
   "metadata": {},
   "outputs": [],
   "source": [
    "def unit_vec(v):\n",
    "    return v / np.linalg.norm(v)\n",
    "\n",
    "def rand_unit_3vec():\n",
    "    return unit_vec(np.random.default_rng().normal(size=3))\n",
    "\n",
    "def lorentz_normsq(v): # [Mpc^2]\n",
    "    return np.dot(v, v*np.array([-1, 1, 1, 1]))\n",
    "\n",
    "def spatial_norm(v): # [Mpc^2]\n",
    "    return np.sqrt(np.dot(v[1:], v[1:]))\n",
    "\n",
    "def boost(v, bv):\n",
    "    pass"
   ]
  },
  {
   "cell_type": "markdown",
   "id": "be7d07d9-c61e-4725-80c7-549e8945eec9",
   "metadata": {},
   "source": [
    "### Particle"
   ]
  },
  {
   "cell_type": "code",
   "execution_count": 48,
   "id": "d9c9b43f-7553-4c4e-b6d3-bdea62879ab3",
   "metadata": {},
   "outputs": [],
   "source": [
    "class Particle:\n",
    "    \n",
    "    def __init__(self, m0=None, x=np.array([0, 0, 0, 0]), v=np.array([1, 0, 0, 0]), name=''):\n",
    "        \n",
    "        if not m0:\n",
    "            raise ValueError('must set m0!')\n",
    "        self.m0 = m0 # [eV]\n",
    "        self.x = x # [t, x, y, z] | [Mpc]\n",
    "        self.v = v # [1, vx, vy, vz] | [1] | not four velocity\n",
    "        self.name = name\n",
    "        \n",
    "        self.path = np.array([self.x])\n",
    "        self.stopped = False\n",
    "        \n",
    "    def init_with(self, Ek): # None([eV])\n",
    "        \n",
    "        gamma = (Ek + self.m0) / Ek\n",
    "        beta = np.sqrt(1-1/gamma**2)\n",
    "        self.v = np.array([1, beta, 0, 0])\n",
    "        \n",
    "    @property\n",
    "    def beta(self):\n",
    "        return spatial_norm(self.v)\n",
    "    @property\n",
    "    def gamma(self):\n",
    "        return 1/np.sqrt(1-self.beta**2)\n",
    "    @property\n",
    "    def u(self): # four velocity\n",
    "        return self.gamma * self.v\n",
    "    @property\n",
    "    def p(self):\n",
    "        return self.m0 * self.u\n",
    "    @property\n",
    "    def E(self):\n",
    "        return self.p[0]\n",
    "    @property\n",
    "    def Ek(self):\n",
    "        return self.p[0] - self.m0\n",
    "        \n",
    "    def travel_to_x(self, x, v=None): # None([Mpc] [1])\n",
    "        last_x = self.x\n",
    "        self.x = x\n",
    "        if v:\n",
    "            self.v = v\n",
    "        self.path = np.append(self.path, [self.x], axis=0)\n",
    "        if last_x[0] > x[0]:\n",
    "            warnings.warn(f\"particle '{self.name}' going back in time!\")\n",
    "        if lorentz_normsq(x-last_x) > 0:\n",
    "            warnings.warn(f\"particle '{self.name}' going faster than light!\")\n",
    "            \n",
    "    def travel_for(self, t): # None([Mpc])\n",
    "        self.travel_to_x(self.x + self.v*t)\n",
    "        \n",
    "    def distance(self): # [Mpc]()\n",
    "        return spatial_norm(self.path[-1] - self.path[0])\n",
    "    \n",
    "    def distance_traveled(self): # [Mpc]()\n",
    "        segments = self.path[1:] - self.path[:-1]\n",
    "        return np.sum([spatial_norm(s) for s in segments])\n",
    "    \n",
    "    def stop(self):\n",
    "        #self.v = np.array([1, 0, 0, 0])\n",
    "        self.stopped = True"
   ]
  },
  {
   "cell_type": "markdown",
   "id": "a7d93c27-a669-4585-8a99-c1c51dcd19c0",
   "metadata": {},
   "source": [
    "### Processes"
   ]
  },
  {
   "cell_type": "code",
   "execution_count": 72,
   "id": "13310177-6e2a-4c43-a353-353b5bec7beb",
   "metadata": {},
   "outputs": [],
   "source": [
    "class CollisionHeatingProcess:\n",
    "    \n",
    "    def __init__(self, use_tcool_approx=False):\n",
    "        self.use_tcool_approx = use_tcool_approx\n",
    "    \n",
    "    def total_rate(self, pt, rs, xHII=None): # [s^-1](Particle, [1], [1])\n",
    "        xe = xHII if xHII else phys.xHII_std(rs) + phys.xHeII_std(rs)\n",
    "        if self.use_tcool_approx:\n",
    "            tcool = 5e3 * year * (1/xe) * (Eek/1e3)**(3/2) * (rs/10)**(-3)\n",
    "            rate = 1 / tcool\n",
    "        else:\n",
    "            dEdt = phys.elec_heating_engloss_rate(Eek, xe, rs) # [eV/s]\n",
    "            rate = dEdt / Eek # [1/s]\n",
    "        return rate\n",
    "    \n",
    "    def process(self, pt):\n",
    "        pt.stop()\n",
    "\n",
    "        \n",
    "class IonizationProcess:\n",
    "    \n",
    "    def total_rate(self, pt, rs, xHII=None): # [s^-1](Particle, [1], [1])\n",
    "        Eek = pt.Ek\n",
    "        xHI = 1 - (xHII if xHII else phys.xHII_std(rs))\n",
    "        tcool = 5e5 * year * (1/xHI) * (Eek/1e3)**(3/2) * (rs/10)**(-3)\n",
    "        return 1/tcool\n",
    "    \n",
    "    def process(self, pt):\n",
    "        pt.stop()\n",
    "        \n",
    "        \n",
    "class ExcitationProcess:\n",
    "    \n",
    "    def total_rate(self, pt, rs, xHII=None): # [s^-1](Particle, [1], [1])\n",
    "        Eek = pt.Ek\n",
    "        xHI = 1 - (xHII if xHII else phys.xHII_std(rs))\n",
    "        tcool = 5e5 * year * (1/xHI) * (Eek/1e3)**(3/2) * (rs/10)**(-3)\n",
    "        return 1/tcool\n",
    "    \n",
    "    def process(self, pt):\n",
    "        pt.stop()\n",
    "        \n",
    "        \n",
    "class ComptonProcess:\n",
    "    \n",
    "    def total_rate(self, pt, rs, xHII=None): # [s^-1](Particle, [1], [1])\n",
    "        tcool = 1e8 * year * (rs/10)**(-4) / pt.gamma**2\n",
    "        return 1/tcool\n",
    "    \n",
    "    def process(self, pt):\n",
    "        pt.stop()"
   ]
  },
  {
   "cell_type": "markdown",
   "id": "ed865480-86d6-4925-b804-eea49250740b",
   "metadata": {},
   "source": [
    "### MC simulate"
   ]
  },
  {
   "cell_type": "code",
   "execution_count": 16,
   "id": "d2fceb2f-ea1d-43f8-9a48-cc8fe9701791",
   "metadata": {},
   "outputs": [],
   "source": [
    "from scipy import stats"
   ]
  },
  {
   "cell_type": "code",
   "execution_count": 46,
   "id": "4fcb3072-019c-47d7-9048-4000704fc564",
   "metadata": {},
   "outputs": [],
   "source": [
    "m_e = 0.510999e6 # [eV]"
   ]
  },
  {
   "cell_type": "code",
   "execution_count": 73,
   "id": "d6e1235f-c84f-41cd-868f-c9e02341baaa",
   "metadata": {},
   "outputs": [],
   "source": [
    "process_list = [CollisionHeatingProcess(),\n",
    "                IonizationProcess(),\n",
    "                ExcitationProcess(),\n",
    "                ComptonProcess()]\n",
    "\n",
    "def simulate(Eek, rs, xHII=None, n_sim=1):\n",
    "    \n",
    "    pt_list = []\n",
    "    \n",
    "    for i_sim in tqdm(range(n_sim)):\n",
    "        \n",
    "        # create particle\n",
    "        pt = Particle(m0=m_e, name='electron')\n",
    "        pt.init_with(Eek)\n",
    "        \n",
    "        while not pt.stopped:\n",
    "            \n",
    "            # travel under total rate\n",
    "            rate_list = np.array([prc.total_rate(pt, rs, xHII=xHII) for prc in process_list])\n",
    "            total_rate = np.sum(rate_list)\n",
    "            mean_time = 1 / total_rate * Mpc_per_s\n",
    "            rand_time = stats.expon.rvs(size=1, scale=mean_time)\n",
    "            pt.travel_for(rand_time)\n",
    "            \n",
    "            # process particle\n",
    "            prc = np.random.default_rng().choice(process_list, p=rate_list/np.sum(rate_list))\n",
    "            prc.process(pt)\n",
    "            \n",
    "        # record particle\n",
    "        pt_list.append(pt)"
   ]
  },
  {
   "cell_type": "code",
   "execution_count": 74,
   "id": "9f880b11-8af3-4530-a018-1bfffb600650",
   "metadata": {},
   "outputs": [
    {
     "ename": "NameError",
     "evalue": "name 'phys' is not defined",
     "output_type": "error",
     "traceback": [
      "\u001b[0;31m---------------------------------------------------------------------------\u001b[0m",
      "\u001b[0;31mNameError\u001b[0m                                 Traceback (most recent call last)",
      "\u001b[0;32m<ipython-input-74-667c158637be>\u001b[0m in \u001b[0;36m<module>\u001b[0;34m\u001b[0m\n\u001b[1;32m      1\u001b[0m \u001b[0mprc\u001b[0m \u001b[0;34m=\u001b[0m \u001b[0mCollisionHeatingProcess\u001b[0m\u001b[0;34m(\u001b[0m\u001b[0;34m)\u001b[0m\u001b[0;34m\u001b[0m\u001b[0;34m\u001b[0m\u001b[0m\n\u001b[0;32m----> 2\u001b[0;31m \u001b[0mprc\u001b[0m\u001b[0;34m.\u001b[0m\u001b[0mtotal_rate\u001b[0m\u001b[0;34m(\u001b[0m\u001b[0;36m1e6\u001b[0m\u001b[0;34m,\u001b[0m \u001b[0;36m5\u001b[0m\u001b[0;34m)\u001b[0m\u001b[0;34m\u001b[0m\u001b[0;34m\u001b[0m\u001b[0m\n\u001b[0m",
      "\u001b[0;32m<ipython-input-72-7b719c6161b7>\u001b[0m in \u001b[0;36mtotal_rate\u001b[0;34m(self, pt, rs, xHII)\u001b[0m\n\u001b[1;32m      5\u001b[0m \u001b[0;34m\u001b[0m\u001b[0m\n\u001b[1;32m      6\u001b[0m     \u001b[0;32mdef\u001b[0m \u001b[0mtotal_rate\u001b[0m\u001b[0;34m(\u001b[0m\u001b[0mself\u001b[0m\u001b[0;34m,\u001b[0m \u001b[0mpt\u001b[0m\u001b[0;34m,\u001b[0m \u001b[0mrs\u001b[0m\u001b[0;34m,\u001b[0m \u001b[0mxHII\u001b[0m\u001b[0;34m=\u001b[0m\u001b[0;32mNone\u001b[0m\u001b[0;34m)\u001b[0m\u001b[0;34m:\u001b[0m \u001b[0;31m# [s^-1](Particle, [1], [1])\u001b[0m\u001b[0;34m\u001b[0m\u001b[0;34m\u001b[0m\u001b[0m\n\u001b[0;32m----> 7\u001b[0;31m         \u001b[0mxe\u001b[0m \u001b[0;34m=\u001b[0m \u001b[0mxHII\u001b[0m \u001b[0;32mif\u001b[0m \u001b[0mxHII\u001b[0m \u001b[0;32melse\u001b[0m \u001b[0mphys\u001b[0m\u001b[0;34m.\u001b[0m\u001b[0mxHII_std\u001b[0m\u001b[0;34m(\u001b[0m\u001b[0mrs\u001b[0m\u001b[0;34m)\u001b[0m \u001b[0;34m+\u001b[0m \u001b[0mphys\u001b[0m\u001b[0;34m.\u001b[0m\u001b[0mxHeII_std\u001b[0m\u001b[0;34m(\u001b[0m\u001b[0mrs\u001b[0m\u001b[0;34m)\u001b[0m\u001b[0;34m\u001b[0m\u001b[0;34m\u001b[0m\u001b[0m\n\u001b[0m\u001b[1;32m      8\u001b[0m         \u001b[0;32mif\u001b[0m \u001b[0mself\u001b[0m\u001b[0;34m.\u001b[0m\u001b[0muse_tcool_approx\u001b[0m\u001b[0;34m:\u001b[0m\u001b[0;34m\u001b[0m\u001b[0;34m\u001b[0m\u001b[0m\n\u001b[1;32m      9\u001b[0m             \u001b[0mtcool\u001b[0m \u001b[0;34m=\u001b[0m \u001b[0;36m5e3\u001b[0m \u001b[0;34m*\u001b[0m \u001b[0myear\u001b[0m \u001b[0;34m*\u001b[0m \u001b[0;34m(\u001b[0m\u001b[0;36m1\u001b[0m\u001b[0;34m/\u001b[0m\u001b[0mxe\u001b[0m\u001b[0;34m)\u001b[0m \u001b[0;34m*\u001b[0m \u001b[0;34m(\u001b[0m\u001b[0mEek\u001b[0m\u001b[0;34m/\u001b[0m\u001b[0;36m1e3\u001b[0m\u001b[0;34m)\u001b[0m\u001b[0;34m**\u001b[0m\u001b[0;34m(\u001b[0m\u001b[0;36m3\u001b[0m\u001b[0;34m/\u001b[0m\u001b[0;36m2\u001b[0m\u001b[0;34m)\u001b[0m \u001b[0;34m*\u001b[0m \u001b[0;34m(\u001b[0m\u001b[0mrs\u001b[0m\u001b[0;34m/\u001b[0m\u001b[0;36m10\u001b[0m\u001b[0;34m)\u001b[0m\u001b[0;34m**\u001b[0m\u001b[0;34m(\u001b[0m\u001b[0;34m-\u001b[0m\u001b[0;36m3\u001b[0m\u001b[0;34m)\u001b[0m\u001b[0;34m\u001b[0m\u001b[0;34m\u001b[0m\u001b[0m\n",
      "\u001b[0;31mNameError\u001b[0m: name 'phys' is not defined"
     ]
    }
   ],
   "source": [
    "prc = CollisionHeatingProcess()\n",
    "prc.total_rate(1e6, 5)"
   ]
  },
  {
   "cell_type": "code",
   "execution_count": 69,
   "id": "02d1c98a-846b-4aef-90ae-1518f954592e",
   "metadata": {},
   "outputs": [
    {
     "data": {
      "application/vnd.jupyter.widget-view+json": {
       "model_id": "0cc7135a40294ff5949b7d4e3eab60c3",
       "version_major": 2,
       "version_minor": 0
      },
      "text/plain": [
       "  0%|          | 0/1 [00:00<?, ?it/s]"
      ]
     },
     "metadata": {},
     "output_type": "display_data"
    },
    {
     "ename": "TypeError",
     "evalue": "total_rate() got multiple values for argument 'xHII'",
     "output_type": "error",
     "traceback": [
      "\u001b[0;31m---------------------------------------------------------------------------\u001b[0m",
      "\u001b[0;31mTypeError\u001b[0m                                 Traceback (most recent call last)",
      "\u001b[0;32m<ipython-input-69-0efb9257374f>\u001b[0m in \u001b[0;36m<module>\u001b[0;34m\u001b[0m\n\u001b[0;32m----> 1\u001b[0;31m \u001b[0mpt_list\u001b[0m \u001b[0;34m=\u001b[0m \u001b[0msimulate\u001b[0m\u001b[0;34m(\u001b[0m\u001b[0;36m1e6\u001b[0m\u001b[0;34m,\u001b[0m \u001b[0;36m5\u001b[0m\u001b[0;34m)\u001b[0m\u001b[0;34m\u001b[0m\u001b[0;34m\u001b[0m\u001b[0m\n\u001b[0m",
      "\u001b[0;32m<ipython-input-68-416db5aeca2d>\u001b[0m in \u001b[0;36msimulate\u001b[0;34m(Eek, rs, xHII, n_sim)\u001b[0m\n\u001b[1;32m     17\u001b[0m \u001b[0;34m\u001b[0m\u001b[0m\n\u001b[1;32m     18\u001b[0m             \u001b[0;31m# travel under total rate\u001b[0m\u001b[0;34m\u001b[0m\u001b[0;34m\u001b[0m\u001b[0;34m\u001b[0m\u001b[0m\n\u001b[0;32m---> 19\u001b[0;31m             \u001b[0mrate_list\u001b[0m \u001b[0;34m=\u001b[0m \u001b[0mnp\u001b[0m\u001b[0;34m.\u001b[0m\u001b[0marray\u001b[0m\u001b[0;34m(\u001b[0m\u001b[0;34m[\u001b[0m\u001b[0mprc\u001b[0m\u001b[0;34m.\u001b[0m\u001b[0mtotal_rate\u001b[0m\u001b[0;34m(\u001b[0m\u001b[0mpt\u001b[0m\u001b[0;34m,\u001b[0m \u001b[0mrs\u001b[0m\u001b[0;34m,\u001b[0m \u001b[0mxHII\u001b[0m\u001b[0;34m=\u001b[0m\u001b[0;36m1e-4\u001b[0m\u001b[0;34m)\u001b[0m \u001b[0;32mfor\u001b[0m \u001b[0mprc\u001b[0m \u001b[0;32min\u001b[0m \u001b[0mprocess_list\u001b[0m\u001b[0;34m]\u001b[0m\u001b[0;34m)\u001b[0m\u001b[0;34m\u001b[0m\u001b[0;34m\u001b[0m\u001b[0m\n\u001b[0m\u001b[1;32m     20\u001b[0m             \u001b[0mtotal_rate\u001b[0m \u001b[0;34m=\u001b[0m \u001b[0mnp\u001b[0m\u001b[0;34m.\u001b[0m\u001b[0msum\u001b[0m\u001b[0;34m(\u001b[0m\u001b[0mrate_list\u001b[0m\u001b[0;34m)\u001b[0m\u001b[0;34m\u001b[0m\u001b[0;34m\u001b[0m\u001b[0m\n\u001b[1;32m     21\u001b[0m             \u001b[0mmean_time\u001b[0m \u001b[0;34m=\u001b[0m \u001b[0;36m1\u001b[0m \u001b[0;34m/\u001b[0m \u001b[0mtotal_rate\u001b[0m \u001b[0;34m*\u001b[0m \u001b[0mMpc_per_s\u001b[0m\u001b[0;34m\u001b[0m\u001b[0;34m\u001b[0m\u001b[0m\n",
      "\u001b[0;32m<ipython-input-68-416db5aeca2d>\u001b[0m in \u001b[0;36m<listcomp>\u001b[0;34m(.0)\u001b[0m\n\u001b[1;32m     17\u001b[0m \u001b[0;34m\u001b[0m\u001b[0m\n\u001b[1;32m     18\u001b[0m             \u001b[0;31m# travel under total rate\u001b[0m\u001b[0;34m\u001b[0m\u001b[0;34m\u001b[0m\u001b[0;34m\u001b[0m\u001b[0m\n\u001b[0;32m---> 19\u001b[0;31m             \u001b[0mrate_list\u001b[0m \u001b[0;34m=\u001b[0m \u001b[0mnp\u001b[0m\u001b[0;34m.\u001b[0m\u001b[0marray\u001b[0m\u001b[0;34m(\u001b[0m\u001b[0;34m[\u001b[0m\u001b[0mprc\u001b[0m\u001b[0;34m.\u001b[0m\u001b[0mtotal_rate\u001b[0m\u001b[0;34m(\u001b[0m\u001b[0mpt\u001b[0m\u001b[0;34m,\u001b[0m \u001b[0mrs\u001b[0m\u001b[0;34m,\u001b[0m \u001b[0mxHII\u001b[0m\u001b[0;34m=\u001b[0m\u001b[0;36m1e-4\u001b[0m\u001b[0;34m)\u001b[0m \u001b[0;32mfor\u001b[0m \u001b[0mprc\u001b[0m \u001b[0;32min\u001b[0m \u001b[0mprocess_list\u001b[0m\u001b[0;34m]\u001b[0m\u001b[0;34m)\u001b[0m\u001b[0;34m\u001b[0m\u001b[0;34m\u001b[0m\u001b[0m\n\u001b[0m\u001b[1;32m     20\u001b[0m             \u001b[0mtotal_rate\u001b[0m \u001b[0;34m=\u001b[0m \u001b[0mnp\u001b[0m\u001b[0;34m.\u001b[0m\u001b[0msum\u001b[0m\u001b[0;34m(\u001b[0m\u001b[0mrate_list\u001b[0m\u001b[0;34m)\u001b[0m\u001b[0;34m\u001b[0m\u001b[0;34m\u001b[0m\u001b[0m\n\u001b[1;32m     21\u001b[0m             \u001b[0mmean_time\u001b[0m \u001b[0;34m=\u001b[0m \u001b[0;36m1\u001b[0m \u001b[0;34m/\u001b[0m \u001b[0mtotal_rate\u001b[0m \u001b[0;34m*\u001b[0m \u001b[0mMpc_per_s\u001b[0m\u001b[0;34m\u001b[0m\u001b[0;34m\u001b[0m\u001b[0m\n",
      "\u001b[0;31mTypeError\u001b[0m: total_rate() got multiple values for argument 'xHII'"
     ]
    }
   ],
   "source": [
    "pt_list = simulate(1e6, 5)"
   ]
  },
  {
   "cell_type": "code",
   "execution_count": null,
   "id": "26d21ca2-b7f1-4a50-baae-b2d0bd9c009e",
   "metadata": {},
   "outputs": [],
   "source": []
  }
 ],
 "metadata": {
  "kernelspec": {
   "display_name": "Python 3",
   "language": "python",
   "name": "python3"
  },
  "language_info": {
   "codemirror_mode": {
    "name": "ipython",
    "version": 3
   },
   "file_extension": ".py",
   "mimetype": "text/x-python",
   "name": "python",
   "nbconvert_exporter": "python",
   "pygments_lexer": "ipython3",
   "version": "3.8.8"
  }
 },
 "nbformat": 4,
 "nbformat_minor": 5
}
