{
 "cells": [
  {
   "cell_type": "code",
   "execution_count": 1,
   "id": "9b5ad2db-edb8-4ecc-b4ed-7cc07dcc9c2a",
   "metadata": {
    "tags": []
   },
   "outputs": [],
   "source": [
    "%reload_ext autoreload\n",
    "%autoreload 2\n",
    "\n",
    "import os\n",
    "import sys\n",
    "\n",
    "from tqdm import tqdm\n",
    "import pickle\n",
    "import h5py\n",
    "\n",
    "import numpy as np\n",
    "from astropy.cosmology import Planck18\n",
    "from astropy import units as u\n",
    "from astropy import constants as const\n",
    "\n",
    "%matplotlib inline\n",
    "import matplotlib as mpl\n",
    "import matplotlib.pyplot as plt\n",
    "from matplotlib import colormaps as cms\n",
    "mpl.rc_file('../matplotlibrc')"
   ]
  },
  {
   "cell_type": "code",
   "execution_count": null,
   "id": "fae81f9c",
   "metadata": {},
   "outputs": [],
   "source": [
    "sys.path.append(\"..\")\n",
    "from dm21cm.dh_wrappers import TransferFunctionWrapper\n",
    "from dm21cm.utils import load_h5_dict"
   ]
  }
 ],
 "metadata": {
  "kernelspec": {
   "display_name": "dm21cm",
   "language": "python",
   "name": "python3"
  },
  "language_info": {
   "codemirror_mode": {
    "name": "ipython",
    "version": 3
   },
   "file_extension": ".py",
   "mimetype": "text/x-python",
   "name": "python",
   "nbconvert_exporter": "python",
   "pygments_lexer": "ipython3",
   "version": "3.11.5"
  }
 },
 "nbformat": 4,
 "nbformat_minor": 5
}
