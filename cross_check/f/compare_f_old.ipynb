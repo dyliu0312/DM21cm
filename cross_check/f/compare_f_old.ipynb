{
 "cells": [
  {
   "cell_type": "markdown",
   "metadata": {},
   "source": [
    "## Strategy: let DH output tf values"
   ]
  },
  {
   "cell_type": "code",
   "execution_count": null,
   "metadata": {},
   "outputs": [
    {
     "name": "stdout",
     "output_type": "stream",
     "text": [
      "Loading time: 0.000 s\n",
      "Initialization time: 0.020 s\n",
      "0 rs=38.713\n",
      "1 rs=38.674\n",
      "2 rs=38.636\n",
      "Main loop time: 0.087 s\n"
     ]
    }
   ],
   "source": [
    "soln = dh_evolve(\n",
    "    DM_process='swave', mDM=photeng[301], sigmav=1e-20, primary='phot_delta',\n",
    "    start_rs=rs_start, end_rs=rs_start/1.001**3,\n",
    "    coarsen_factor=1, backreaction=True, \n",
    "    struct_boost=lambda rs: 1.,\n",
    "    init_cond=(xe, phys.chi*xe, 10*phys.kB),\n",
    "    use_tqdm=False, verbose=1,\n",
    "    debug=True\n",
    ")"
   ]
  },
  {
   "cell_type": "code",
   "execution_count": null,
   "metadata": {},
   "outputs": [],
   "source": [
    "f_dh = np.array([soln['f']['low'][k] + soln['f']['high'][k] for k in soln['f']['low']])\n",
    "f_dh = f_dh[:,1]"
   ]
  },
  {
   "cell_type": "code",
   "execution_count": null,
   "metadata": {},
   "outputs": [],
   "source": [
    "spec_N = np.zeros((500,))\n",
    "spec_N[300] = 1.\n",
    "\n",
    "f_dm21cm = dep_tf(\n",
    "    in_spec = spec_N,\n",
    "    sum_result = False,\n",
    "    rs = rs_start,\n",
    "    nBs_s = jnp.array([1.]),\n",
    "    x_s = jnp.array([xe]),\n",
    "    out_of_bounds_action = 'clip',\n",
    ") / np.dot(spec_N, photeng) / (0.04879016/0.001)\n",
    "f_dm21cm = np.array(f_dm21cm).flatten()"
   ]
  },
  {
   "cell_type": "markdown",
   "metadata": {},
   "source": [
    "# 3. f"
   ]
  },
  {
   "cell_type": "code",
   "execution_count": null,
   "metadata": {},
   "outputs": [
    {
     "name": "stdout",
     "output_type": "stream",
     "text": [
      "38.71318413405634\n"
     ]
    }
   ],
   "source": [
    "rs = rs_grid[-2]\n",
    "rs_start = rs\n",
    "xe = 0.001\n",
    "print(rs_start)"
   ]
  },
  {
   "cell_type": "markdown",
   "metadata": {},
   "source": [
    "## 3.1 DH soln f"
   ]
  },
  {
   "cell_type": "code",
   "execution_count": null,
   "metadata": {},
   "outputs": [],
   "source": [
    "soln = dh_evolve(\n",
    "    DM_process='swave', mDM=photeng[301], sigmav=1e-20, primary='phot_delta',\n",
    "    start_rs=rs_start, end_rs=rs_start/1.001**3,\n",
    "    coarsen_factor=1, backreaction=True, \n",
    "    struct_boost=lambda rs: 1.,\n",
    "    init_cond=(xe, phys.chi*xe, 10*phys.kB),\n",
    "    use_tqdm=False, verbose=0,\n",
    "    debug=True\n",
    ")"
   ]
  },
  {
   "cell_type": "code",
   "execution_count": null,
   "metadata": {},
   "outputs": [
    {
     "name": "stdout",
     "output_type": "stream",
     "text": [
      "[6.77732039e-06 1.05066765e-07 5.75031585e-06 3.84128932e-06\n",
      " 1.00710943e-06]\n"
     ]
    }
   ],
   "source": [
    "f_dh = np.array([soln['f']['low'][k] + soln['f']['high'][k] for k in soln['f']['low']])\n",
    "f_dh = f_dh[:,1]\n",
    "print(f_dh)"
   ]
  },
  {
   "cell_type": "markdown",
   "metadata": {},
   "source": [
    "## 3.2 Manual DH"
   ]
  },
  {
   "cell_type": "code",
   "execution_count": null,
   "metadata": {},
   "outputs": [],
   "source": [
    "from darkhistory.low_energy.lowE_electrons import make_interpolator\n",
    "from darkhistory.low_energy.lowE_deposition import compute_fs\n",
    "from darkhistory.config import load_data as dh_load_data\n",
    "\n",
    "from dm21cm.utils import load_dict"
   ]
  },
  {
   "cell_type": "code",
   "execution_count": null,
   "metadata": {},
   "outputs": [],
   "source": [
    "MEDEA_interp = make_interpolator(interp_type='2D', cross_check=False)"
   ]
  },
  {
   "cell_type": "code",
   "execution_count": null,
   "metadata": {},
   "outputs": [],
   "source": [
    "abscs = load_dict(f\"../../data/abscissas/abscs_230408x.h5\")"
   ]
  },
  {
   "cell_type": "code",
   "execution_count": null,
   "metadata": {},
   "outputs": [],
   "source": [
    "photeng = abscs['photE']\n",
    "eleceng = abscs['elecEk']"
   ]
  },
  {
   "cell_type": "code",
   "execution_count": null,
   "metadata": {},
   "outputs": [],
   "source": [
    "lep_tf = dh_load_data('dep_tf')['lowengphot'].get_tf(xe, phys.chi*xe, rs)\n",
    "lee_tf = dh_load_data('dep_tf')['lowengelec'].get_tf(xe, phys.chi*xe, rs)\n",
    "hed_tf = dh_load_data('dep_tf')['highengdep'].get_val(xe, phys.chi*xe, rs)"
   ]
  },
  {
   "cell_type": "code",
   "execution_count": null,
   "metadata": {},
   "outputs": [],
   "source": [
    "struct_boost = lambda x: 1.\n",
    "rate_func_N = lambda x: 1.\n",
    "rate_func_eng = lambda x: photeng[300]"
   ]
  },
  {
   "cell_type": "code",
   "execution_count": null,
   "metadata": {},
   "outputs": [],
   "source": [
    "import darkhistory.physics as phys"
   ]
  },
  {
   "cell_type": "code",
   "execution_count": null,
   "metadata": {},
   "outputs": [],
   "source": [
    "dlnz = 0.001\n",
    "start_rs = rs\n",
    "dt = dlnz * 1 / phys.hubble(rs)\n",
    "\n",
    "def norm_fac(rs):\n",
    "    # Normalization to convert from per injection event to \n",
    "    # per baryon per dlnz step. \n",
    "    return rate_func_N(rs) * (\n",
    "        dlnz * 1 / phys.hubble(rs) / (phys.nB * rs**3)\n",
    "    )\n",
    "\n",
    "def rate_func_eng_unclustered(rs):\n",
    "    return rate_func_eng(rs)"
   ]
  },
  {
   "cell_type": "code",
   "execution_count": null,
   "metadata": {},
   "outputs": [],
   "source": [
    "in_spec_phot_N = np.zeros((500,))\n",
    "in_spec_phot_N[300] = 1.\n",
    "in_spec_phot = Spectrum(photeng, in_spec_phot_N, spec_type='N', rs=rs)\n",
    "\n",
    "lowengphot_spec_at_rs  = Spectrum(photeng, lep_tf.grid_vals[300], spec_type='N', rs=rs) * norm_fac(rs)\n",
    "lowengelec_spec_at_rs  = Spectrum(eleceng, lee_tf.grid_vals[300], spec_type='N', rs=rs) * norm_fac(rs)\n",
    "highengdep_at_rs       = hed_tf[300] * norm_fac(rs)"
   ]
  },
  {
   "cell_type": "code",
   "execution_count": null,
   "metadata": {},
   "outputs": [],
   "source": [
    "x_vec_for_f = np.array([1-xe, phys.chi*(1-xe), phys.chi*xe])"
   ]
  },
  {
   "cell_type": "code",
   "execution_count": null,
   "metadata": {},
   "outputs": [],
   "source": [
    "f_raw = compute_fs(\n",
    "    MEDEA_interp, lowengelec_spec_at_rs, lowengphot_spec_at_rs,\n",
    "    x_vec_for_f, rate_func_eng_unclustered(rs), dt,\n",
    "    highengdep_at_rs, method='no_He', cross_check=False\n",
    ")\n",
    "fs = np.sum(f_raw, axis=0)"
   ]
  },
  {
   "cell_type": "code",
   "execution_count": null,
   "metadata": {},
   "outputs": [
    {
     "data": {
      "text/plain": [
       "array([6.76041712e-06, 1.04900712e-07, 5.73618417e-06, 3.83615518e-06,\n",
       "       1.00547641e-06])"
      ]
     },
     "metadata": {},
     "output_type": "display_data"
    }
   ],
   "source": [
    "fs"
   ]
  },
  {
   "cell_type": "markdown",
   "metadata": {},
   "source": [
    "## 3.3 phot_depgv"
   ]
  },
  {
   "cell_type": "code",
   "execution_count": null,
   "metadata": {},
   "outputs": [],
   "source": [
    "f_phot_depgv = np.array([3.02620381e-04, 4.91613873e-06,\n",
    "                         2.57787009e-04, 1.80138647e-04, 4.73036216e-05])"
   ]
  },
  {
   "cell_type": "markdown",
   "metadata": {},
   "source": [
    "## 3.4 phot_dep.h5"
   ]
  },
  {
   "cell_type": "code",
   "execution_count": null,
   "metadata": {},
   "outputs": [],
   "source": [
    "f_phot_dep = np.array([350.7255435,5.69761833,298.76536614,208.77385962,54.82310326]) / photeng[300]"
   ]
  },
  {
   "cell_type": "code",
   "execution_count": null,
   "metadata": {},
   "outputs": [
    {
     "data": {
      "image/png": "[encoded data removed]",
      "text/plain": [
       "<Figure size 720x480 with 1 Axes>"
      ]
     },
     "metadata": {},
     "output_type": "display_data"
    }
   ],
   "source": [
    "plt.plot(f_dh[:4], label='DH')\n",
    "plt.plot(fs[:4], ls=':', label='DH regen using DHs tf')\n",
    "plt.plot(f_phot_depgv[:4]/(0.04879016/0.001), label='dm21cm regen')\n",
    "plt.plot(f_phot_dep[:4]/(0.04879016/0.001), label='dm21cm regen h5')\n",
    "plt.legend()\n",
    "plt.yscale('log')"
   ]
  },
  {
   "cell_type": "markdown",
   "metadata": {},
   "source": [
    "## depgv"
   ]
  },
  {
   "cell_type": "code",
   "execution_count": null,
   "metadata": {},
   "outputs": [],
   "source": [
    "photeng = dep_tf.abscs['Ein']"
   ]
  },
  {
   "cell_type": "code",
   "execution_count": null,
   "metadata": {},
   "outputs": [
    {
     "data": {
      "text/plain": [
       "array([2.61113274e-10, 4.24184609e-12, 2.22429202e-10, 1.55431011e-10,\n",
       "       4.08155044e-11])"
      ]
     },
     "metadata": {},
     "output_type": "display_data"
    }
   ],
   "source": [
    "np.array([3.02620381e-04, 4.91613873e-06, 2.57787009e-04, 1.80138647e-04, 4.73036216e-05]) / photeng[300]"
   ]
  },
  {
   "cell_type": "markdown",
   "metadata": {},
   "source": [
    "### whether interp is good"
   ]
  },
  {
   "cell_type": "code",
   "execution_count": null,
   "metadata": {},
   "outputs": [
    {
     "data": {
      "text/plain": [
       "array([ 4.        ,  4.56626611,  5.21269655,  5.9506399 ,  6.79305133,\n",
       "        7.75472002,  8.85252881, 10.10575058, 11.5363866 , 13.16955279,\n",
       "       15.03392065, 17.1622206 , 19.59181658, 22.36536203, 25.53154867,\n",
       "       29.14596137, 33.27205392, 37.98226307, 43.35928017, 49.49750292])"
      ]
     },
     "metadata": {},
     "output_type": "display_data"
    }
   ],
   "source": [
    "dh_hed_tf.rs[0]"
   ]
  },
  {
   "cell_type": "code",
   "execution_count": null,
   "metadata": {},
   "outputs": [
    {
     "data": {
      "text/plain": [
       "array([4.64187033e-15, 6.56835553e-15, 9.28174429e-15, 1.30984713e-14,\n",
       "       1.84602453e-14, 2.59829472e-14, 3.65242104e-14, 5.12769460e-14,\n",
       "       7.18984137e-14, 1.00688250e-13, 1.40833838e-13, 1.96747688e-13,\n",
       "       2.74531522e-13, 3.82612848e-13, 5.32618476e-13, 7.40569560e-13,\n",
       "       1.02851857e-12, 1.42678247e-12, 1.97699157e-12, 2.73624409e-12])"
      ]
     },
     "metadata": {},
     "output_type": "display_data"
    }
   ],
   "source": [
    "dh_hed_tf.grid_vals[0][0,0,:,300,0]"
   ]
  },
  {
   "cell_type": "code",
   "execution_count": null,
   "metadata": {},
   "outputs": [
    {
     "data": {
      "text/plain": [
       "[]"
      ]
     },
     "metadata": {},
     "output_type": "display_data"
    },
    {
     "data": {
      "image/png": "[encoded data removed]",
      "text/plain": [
       "<Figure size 720x480 with 1 Axes>"
      ]
     },
     "metadata": {},
     "output_type": "display_data"
    }
   ],
   "source": [
    "plt.plot(dh_hed_tf.rs[0], dh_hed_tf.grid_vals[0][1,1,:,300,0], '.')\n",
    "plt.loglog()"
   ]
  },
  {
   "cell_type": "markdown",
   "metadata": {},
   "source": [
    "# Appendix"
   ]
  },
  {
   "cell_type": "markdown",
   "metadata": {},
   "source": [
    "### dm21cm: DM"
   ]
  },
  {
   "cell_type": "code",
   "execution_count": null,
   "metadata": {},
   "outputs": [],
   "source": [
    "dm_params = DMParams(\n",
    "    mode = 'swave',\n",
    "    primary = 'phot_delta',\n",
    "    m_DM = 1e10,\n",
    "    sigmav = 1e-23,\n",
    ")"
   ]
  },
  {
   "cell_type": "code",
   "execution_count": null,
   "metadata": {},
   "outputs": [],
   "source": [
    "z_edges = get_z_edges(44, 6, 1.05)"
   ]
  },
  {
   "cell_type": "code",
   "execution_count": null,
   "metadata": {},
   "outputs": [],
   "source": [
    "z_early, z_late, z_mid = z_edges[3], z_edges[4], np.sqrt(z_edges[3]*z_edges[4])"
   ]
  },
  {
   "cell_type": "code",
   "execution_count": null,
   "metadata": {},
   "outputs": [
    {
     "data": {
      "text/plain": [
       "36.68125290890279"
      ]
     },
     "metadata": {},
     "output_type": "display_data"
    }
   ],
   "source": [
    "z_mid"
   ]
  },
  {
   "cell_type": "code",
   "execution_count": null,
   "metadata": {},
   "outputs": [],
   "source": [
    "dt = phys.dt_between_z(z_early, z_late)\n",
    "n_Bavg = phys.n_B * (1+z_mid)**3 # [Bavg cm^-3]\n",
    "delta_box = 0.\n",
    "struct_boost = 1.\n",
    "rho_DM_box = (1 + delta_box) * phys.rho_DM * (1+z_mid)**3 # [eV cm^-3]\n",
    "inj_per_Bavg_box = phys.inj_rate(rho_DM_box, dm_params) * dt * struct_boost / n_Bavg\n",
    "dE_inj_per_Bavg = dm_params.eng_per_inj * np.mean(inj_per_Bavg_box)\n",
    "dE_inj_per_Bavg_unclustered = dE_inj_per_Bavg / struct_boost"
   ]
  },
  {
   "cell_type": "code",
   "execution_count": null,
   "metadata": {},
   "outputs": [
    {
     "data": {
      "text/plain": [
       "0.05832310611619097"
      ]
     },
     "metadata": {},
     "output_type": "display_data"
    }
   ],
   "source": [
    "dE_inj_per_Bavg_unclustered"
   ]
  },
  {
   "cell_type": "code",
   "execution_count": null,
   "metadata": {},
   "outputs": [],
   "source": [
    "records = np.load(\"../../data/run_info/phph_dhinit_s8zero_records.npy\", allow_pickle=True).item()"
   ]
  },
  {
   "cell_type": "code",
   "execution_count": null,
   "metadata": {},
   "outputs": [],
   "source": [
    "x_e = interpolate.interp1d(records['z'], records['x_e'])(z_mid).item()"
   ]
  },
  {
   "cell_type": "code",
   "execution_count": null,
   "metadata": {},
   "outputs": [
    {
     "data": {
      "text/plain": [
       "0.006042476201550739"
      ]
     },
     "metadata": {},
     "output_type": "display_data"
    }
   ],
   "source": [
    "x_e"
   ]
  },
  {
   "cell_type": "code",
   "execution_count": null,
   "metadata": {},
   "outputs": [
    {
     "data": {
      "text/plain": [
       "2.916155305809549e-12"
      ]
     },
     "metadata": {},
     "output_type": "display_data"
    }
   ],
   "source": [
    "inj_per_Bavg_box"
   ]
  },
  {
   "cell_type": "code",
   "execution_count": null,
   "metadata": {},
   "outputs": [
    {
     "data": {
      "text/plain": [
       "Array([[4.6513392e-08, 7.2935558e-10, 3.9496822e-08, 4.0667299e-08,\n",
       "        6.2892513e-09, 1.2869677e-04]], dtype=float32)"
      ]
     },
     "metadata": {},
     "output_type": "display_data"
    }
   ],
   "source": [
    "dep_tf(in_spec=dm_params.inj_phot_spec.N, sum_result=False, rs = 1+z_mid,\n",
    "       nBs_s = jnp.array([1.]),\n",
    "       x_s = jnp.array([x_e]),\n",
    "       out_of_bounds_action = 'clip',) * inj_per_Bavg_box / dE_inj_per_Bavg_unclustered"
   ]
  }
 ],
 "metadata": {
  "language_info": {
   "name": "python"
  },
  "orig_nbformat": 4
 },
 "nbformat": 4,
 "nbformat_minor": 2
}
