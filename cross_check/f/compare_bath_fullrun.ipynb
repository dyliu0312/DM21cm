{
 "cells": [
  {
   "cell_type": "code",
   "execution_count": 1,
   "metadata": {},
   "outputs": [
    {
     "name": "stderr",
     "output_type": "stream",
     "text": [
      "/n/home07/yitians/.conda/envs/dm21cm/lib/python3.11/site-packages/py21cmfast/_cfg.py:58: UserWarning: Your configuration file is out of date. Updating...\n",
      "  warnings.warn(\n",
      "/n/home07/yitians/.conda/envs/dm21cm/lib/python3.11/site-packages/py21cmfast/_cfg.py:42: UserWarning: Your configuration file is out of date. Updating...\n",
      "  warnings.warn(\"Your configuration file is out of date. Updating...\")\n"
     ]
    }
   ],
   "source": [
    "%reload_ext autoreload\n",
    "%autoreload 2\n",
    "\n",
    "import os\n",
    "import sys\n",
    "import pickle\n",
    "import numpy as np\n",
    "\n",
    "import py21cmfast as p21c\n",
    "from astropy.cosmology import Planck18\n",
    "from scipy import interpolate\n",
    "\n",
    "sys.path.append(\"..\")\n",
    "from dm21cm.dm_params import DMParams\n",
    "from dm21cm.evolve import evolve\n",
    "import dm21cm.physics as phys\n",
    "\n",
    "sys.path.append(os.environ['DH_DIR'])\n",
    "from darkhistory.main import evolve as evolve_DH\n",
    "\n",
    "%matplotlib inline\n",
    "import matplotlib as mpl\n",
    "import matplotlib.pyplot as plt\n",
    "from matplotlib import colormaps as cms\n",
    "mpl.rc_file('../matplotlibrc')"
   ]
  },
  {
   "cell_type": "markdown",
   "metadata": {},
   "source": [
    "## DMParam"
   ]
  },
  {
   "cell_type": "code",
   "execution_count": 2,
   "metadata": {},
   "outputs": [],
   "source": [
    "dm_params = DMParams(\n",
    "    mode = 'decay',\n",
    "    primary = 'phot_delta',\n",
    "    m_DM = 1.2e10,\n",
    "    lifetime = 1e25,\n",
    ")\n",
    "\n",
    "tf_version = 'debug_231002'"
   ]
  },
  {
   "cell_type": "markdown",
   "metadata": {},
   "source": [
    "## DarkHistory"
   ]
  },
  {
   "cell_type": "code",
   "execution_count": 3,
   "metadata": {},
   "outputs": [
    {
     "name": "stdout",
     "output_type": "stream",
     "text": [
      "****** Loading transfer functions... ******\n",
      "Using data at /n/holyscratch01/iaifi_lab/yitians/darkhistory/DHdata_v1_1_debug_231002\n",
      "    for propagating photons...  "
     ]
    },
    {
     "name": "stdout",
     "output_type": "stream",
     "text": [
      " Done!\n",
      "    for low-energy photons...  Done!\n",
      "    for low-energy electrons...  Done!\n",
      "    for high-energy deposition...  Done!\n",
      "    for total upscattered CMB energy rate...  Done!\n",
      "****** Loading complete! ******\n",
      "****** Loading transfer functions... ******\n",
      "    for inverse Compton (Thomson)...  Done!\n",
      "    for inverse Compton (relativistic)...  Done!\n",
      "    for inverse Compton (energy loss)...  Done!\n",
      "****** Loading complete! ******\n"
     ]
    }
   ],
   "source": [
    "from darkhistory.config import load_data\n",
    "load_data('dep_tf', prefix=f'/n/holyscratch01/iaifi_lab/yitians/darkhistory/DHdata_v1_1_{tf_version}')\n",
    "load_data('ics_tf', prefix=f'/n/holyscratch01/iaifi_lab/yitians/darkhistory/DHdata_v1_1_{tf_version}');"
   ]
  },
  {
   "cell_type": "code",
   "execution_count": 4,
   "metadata": {},
   "outputs": [
    {
     "name": "stdout",
     "output_type": "stream",
     "text": [
      "Loading time: 0.005 s\n"
     ]
    },
    {
     "name": "stderr",
     "output_type": "stream",
     "text": [
      "  0%|          | 0/534 [00:00<?, ?it/s]WARNING:root:Cross checking 21cmfast!\n"
     ]
    },
    {
     "name": "stdout",
     "output_type": "stream",
     "text": [
      "Initialization time: 0.051 s\n"
     ]
    },
    {
     "name": "stderr",
     "output_type": "stream",
     "text": [
      "/n/home07/yitians/darkhistory/DarkHistory/darkhistory/spec/spectrum.py:861: RuntimeWarning: The new abscissa lies below the old one: only bins that lie within the new abscissa will be rebinned, bins above the abscissa will be discarded.\n",
      "  warnings.warn(\"The new abscissa lies below the old one: only bins that lie within the new abscissa will be rebinned, bins above the abscissa will be discarded.\", RuntimeWarning)\n",
      "  0%|          | 2/534 [00:00<00:58,  9.07it/s]"
     ]
    },
    {
     "name": "stdout",
     "output_type": "stream",
     "text": [
      "x_vec_for_f =  [7.00932090e-10 5.68636961e-11 8.11258278e-02]\n"
     ]
    },
    {
     "name": "stderr",
     "output_type": "stream",
     "text": [
      "  1%|          | 3/534 [00:00<01:10,  7.54it/s]"
     ]
    },
    {
     "name": "stdout",
     "output_type": "stream",
     "text": [
      "x_vec_for_f =  [8.70335581e-10 7.06066945e-11 8.11258277e-02]\n"
     ]
    },
    {
     "name": "stderr",
     "output_type": "stream",
     "text": [
      "  1%|          | 4/534 [00:00<01:14,  7.13it/s]"
     ]
    },
    {
     "name": "stdout",
     "output_type": "stream",
     "text": [
      "x_vec_for_f =  [1.08354425e-09 8.79034246e-11 8.11258277e-02]\n"
     ]
    },
    {
     "name": "stderr",
     "output_type": "stream",
     "text": [
      "  1%|          | 5/534 [00:00<01:16,  6.90it/s]"
     ]
    },
    {
     "name": "stdout",
     "output_type": "stream",
     "text": [
      "x_vec_for_f =  [1.35162614e-09 1.09651790e-10 8.11258277e-02]\n"
     ]
    },
    {
     "name": "stderr",
     "output_type": "stream",
     "text": [
      "  1%|          | 6/534 [00:00<01:18,  6.76it/s]"
     ]
    },
    {
     "name": "stdout",
     "output_type": "stream",
     "text": [
      "x_vec_for_f =  [1.69080416e-09 1.37167887e-10 8.11258277e-02]\n"
     ]
    },
    {
     "name": "stderr",
     "output_type": "stream",
     "text": [
      "  1%|▏         | 7/534 [00:00<01:18,  6.69it/s]"
     ]
    },
    {
     "name": "stdout",
     "output_type": "stream",
     "text": [
      "x_vec_for_f =  [2.12122420e-09 1.72086069e-10 8.11258276e-02]\n"
     ]
    },
    {
     "name": "stderr",
     "output_type": "stream",
     "text": [
      "  1%|▏         | 8/534 [00:01<01:19,  6.66it/s]"
     ]
    },
    {
     "name": "stdout",
     "output_type": "stream",
     "text": [
      "x_vec_for_f =  [2.66908784e-09 2.16531961e-10 8.11258276e-02]\n"
     ]
    },
    {
     "name": "stderr",
     "output_type": "stream",
     "text": [
      "  2%|▏         | 9/534 [00:01<01:18,  6.65it/s]"
     ]
    },
    {
     "name": "stdout",
     "output_type": "stream",
     "text": [
      "x_vec_for_f =  [3.36843864e-09 2.73267373e-10 8.11258275e-02]\n"
     ]
    },
    {
     "name": "stderr",
     "output_type": "stream",
     "text": [
      "  2%|▏         | 10/534 [00:01<01:19,  6.62it/s]"
     ]
    },
    {
     "name": "stdout",
     "output_type": "stream",
     "text": [
      "x_vec_for_f =  [4.26383795e-09 3.45907383e-10 8.11258275e-02]\n"
     ]
    },
    {
     "name": "stderr",
     "output_type": "stream",
     "text": [
      "  2%|▏         | 11/534 [00:01<01:19,  6.60it/s]"
     ]
    },
    {
     "name": "stdout",
     "output_type": "stream",
     "text": [
      "x_vec_for_f =  [5.41369538e-09 4.39190519e-10 8.11258274e-02]\n"
     ]
    },
    {
     "name": "stderr",
     "output_type": "stream",
     "text": [
      "  2%|▏         | 12/534 [00:01<01:19,  6.58it/s]"
     ]
    },
    {
     "name": "stdout",
     "output_type": "stream",
     "text": [
      "x_vec_for_f =  [6.89468749e-09 5.59337230e-10 8.11258273e-02]\n"
     ]
    },
    {
     "name": "stderr",
     "output_type": "stream",
     "text": [
      "  2%|▏         | 13/534 [00:01<01:20,  6.50it/s]"
     ]
    },
    {
     "name": "stdout",
     "output_type": "stream",
     "text": [
      "x_vec_for_f =  [8.80794637e-09 7.14551941e-10 8.11258271e-02]\n"
     ]
    },
    {
     "name": "stderr",
     "output_type": "stream",
     "text": [
      "  3%|▎         | 14/534 [00:02<01:20,  6.48it/s]"
     ]
    },
    {
     "name": "stdout",
     "output_type": "stream",
     "text": [
      "x_vec_for_f =  [1.09951520e-08 8.91990809e-10 8.11258269e-02]\n"
     ]
    },
    {
     "name": "stderr",
     "output_type": "stream",
     "text": [
      "  3%|▎         | 15/534 [00:02<01:20,  6.48it/s]"
     ]
    },
    {
     "name": "stdout",
     "output_type": "stream",
     "text": [
      "x_vec_for_f =  [1.47107728e-08 1.19342362e-09 8.11258266e-02]\n"
     ]
    },
    {
     "name": "stderr",
     "output_type": "stream",
     "text": [
      "  3%|▎         | 16/534 [00:02<01:19,  6.48it/s]"
     ]
    },
    {
     "name": "stdout",
     "output_type": "stream",
     "text": [
      "x_vec_for_f =  [1.89570100e-08 1.53790313e-09 8.11258263e-02]\n"
     ]
    },
    {
     "name": "stderr",
     "output_type": "stream",
     "text": [
      "  3%|▎         | 17/534 [00:02<01:19,  6.50it/s]"
     ]
    },
    {
     "name": "stdout",
     "output_type": "stream",
     "text": [
      "x_vec_for_f =  [2.42057210e-08 1.96370915e-09 8.11258259e-02]\n"
     ]
    },
    {
     "name": "stderr",
     "output_type": "stream",
     "text": [
      "  3%|▎         | 18/534 [00:02<01:19,  6.50it/s]"
     ]
    },
    {
     "name": "stdout",
     "output_type": "stream",
     "text": [
      "x_vec_for_f =  [3.15759703e-08 2.56162673e-09 8.11258253e-02]\n"
     ]
    },
    {
     "name": "stderr",
     "output_type": "stream",
     "text": [
      "  4%|▎         | 19/534 [00:02<01:19,  6.49it/s]"
     ]
    },
    {
     "name": "stdout",
     "output_type": "stream",
     "text": [
      "x_vec_for_f =  [4.10557470e-08 3.33068146e-09 8.11258245e-02]\n"
     ]
    },
    {
     "name": "stderr",
     "output_type": "stream",
     "text": [
      "  4%|▎         | 20/534 [00:02<01:19,  6.50it/s]"
     ]
    },
    {
     "name": "stdout",
     "output_type": "stream",
     "text": [
      "x_vec_for_f =  [5.36064184e-08 4.34886507e-09 8.11258235e-02]\n"
     ]
    },
    {
     "name": "stderr",
     "output_type": "stream",
     "text": [
      "  4%|▍         | 21/534 [00:03<01:18,  6.51it/s]"
     ]
    },
    {
     "name": "stdout",
     "output_type": "stream",
     "text": [
      "x_vec_for_f =  [7.03656089e-08 5.70846827e-09 8.11258221e-02]\n"
     ]
    },
    {
     "name": "stderr",
     "output_type": "stream",
     "text": [
      "  4%|▍         | 22/534 [00:03<01:18,  6.52it/s]"
     ]
    },
    {
     "name": "stdout",
     "output_type": "stream",
     "text": [
      "x_vec_for_f =  [9.25561559e-08 7.50869476e-09 8.11258203e-02]\n"
     ]
    },
    {
     "name": "stderr",
     "output_type": "stream",
     "text": [
      "  4%|▍         | 23/534 [00:03<01:18,  6.51it/s]"
     ]
    },
    {
     "name": "stdout",
     "output_type": "stream",
     "text": [
      "x_vec_for_f =  [1.22231242e-07 9.91611072e-09 8.11258179e-02]\n"
     ]
    },
    {
     "name": "stderr",
     "output_type": "stream",
     "text": [
      "  4%|▍         | 24/534 [00:03<01:18,  6.54it/s]"
     ]
    },
    {
     "name": "stdout",
     "output_type": "stream",
     "text": [
      "x_vec_for_f =  [1.61895873e-07 1.31339367e-08 8.11258147e-02]\n"
     ]
    },
    {
     "name": "stderr",
     "output_type": "stream",
     "text": [
      "  5%|▍         | 25/534 [00:03<01:17,  6.54it/s]"
     ]
    },
    {
     "name": "stdout",
     "output_type": "stream",
     "text": [
      "x_vec_for_f =  [2.15163213e-07 1.74552938e-08 8.11258104e-02]\n"
     ]
    },
    {
     "name": "stderr",
     "output_type": "stream",
     "text": [
      "  5%|▍         | 26/534 [00:03<01:17,  6.54it/s]"
     ]
    },
    {
     "name": "stdout",
     "output_type": "stream",
     "text": [
      "x_vec_for_f =  [2.87054784e-07 2.32875570e-08 8.11258045e-02]\n"
     ]
    },
    {
     "name": "stderr",
     "output_type": "stream",
     "text": [
      "  5%|▌         | 27/534 [00:04<01:17,  6.56it/s]"
     ]
    },
    {
     "name": "stdout",
     "output_type": "stream",
     "text": [
      "x_vec_for_f =  [3.84461782e-07 3.11897803e-08 8.11257966e-02]\n"
     ]
    },
    {
     "name": "stderr",
     "output_type": "stream",
     "text": [
      "  5%|▌         | 28/534 [00:04<01:17,  6.54it/s]"
     ]
    },
    {
     "name": "stdout",
     "output_type": "stream",
     "text": [
      "x_vec_for_f =  [5.16928501e-07 4.19362526e-08 8.11257859e-02]\n"
     ]
    },
    {
     "name": "stderr",
     "output_type": "stream",
     "text": [
      "  5%|▌         | 29/534 [00:04<01:17,  6.55it/s]"
     ]
    },
    {
     "name": "stdout",
     "output_type": "stream",
     "text": [
      "x_vec_for_f =  [6.97797623e-07 5.66094098e-08 8.11257712e-02]\n"
     ]
    },
    {
     "name": "stderr",
     "output_type": "stream",
     "text": [
      "  6%|▌         | 30/534 [00:04<01:17,  6.53it/s]"
     ]
    },
    {
     "name": "stdout",
     "output_type": "stream",
     "text": [
      "x_vec_for_f =  [9.45729060e-07 7.67230529e-08 8.11257511e-02]\n"
     ]
    },
    {
     "name": "stderr",
     "output_type": "stream",
     "text": [
      "  6%|▌         | 31/534 [00:04<01:17,  6.50it/s]"
     ]
    },
    {
     "name": "stdout",
     "output_type": "stream",
     "text": [
      "x_vec_for_f =  [1.28686759e-06 1.04398199e-07 8.11257234e-02]\n"
     ]
    },
    {
     "name": "stderr",
     "output_type": "stream",
     "text": [
      "  6%|▌         | 32/534 [00:04<01:17,  6.46it/s]"
     ]
    },
    {
     "name": "stdout",
     "output_type": "stream",
     "text": [
      "x_vec_for_f =  [1.75800705e-06 1.42619777e-07 8.11256852e-02]\n"
     ]
    },
    {
     "name": "stderr",
     "output_type": "stream",
     "text": [
      "  6%|▌         | 33/534 [00:04<01:17,  6.47it/s]"
     ]
    },
    {
     "name": "stdout",
     "output_type": "stream",
     "text": [
      "x_vec_for_f =  [2.41150956e-06 1.95635709e-07 8.11256322e-02]\n"
     ]
    },
    {
     "name": "stderr",
     "output_type": "stream",
     "text": [
      "  6%|▋         | 34/534 [00:05<01:19,  6.31it/s]"
     ]
    },
    {
     "name": "stdout",
     "output_type": "stream",
     "text": [
      "x_vec_for_f =  [3.32516671e-06 2.69756902e-07 8.11255581e-02]\n"
     ]
    },
    {
     "name": "stderr",
     "output_type": "stream",
     "text": [
      "  7%|▋         | 35/534 [00:05<01:20,  6.17it/s]"
     ]
    },
    {
     "name": "stdout",
     "output_type": "stream",
     "text": [
      "x_vec_for_f =  [4.59732984e-06 3.72962189e-07 8.11254549e-02]\n"
     ]
    },
    {
     "name": "stderr",
     "output_type": "stream",
     "text": [
      "  7%|▋         | 36/534 [00:05<01:19,  6.25it/s]"
     ]
    },
    {
     "name": "stdout",
     "output_type": "stream",
     "text": [
      "x_vec_for_f =  [6.38004604e-06 5.17586516e-07 8.11253102e-02]\n"
     ]
    },
    {
     "name": "stderr",
     "output_type": "stream",
     "text": [
      "  7%|▋         | 37/534 [00:05<01:18,  6.31it/s]"
     ]
    },
    {
     "name": "stdout",
     "output_type": "stream",
     "text": [
      "x_vec_for_f =  [8.89747945e-06 7.21815386e-07 8.11251060e-02]\n"
     ]
    },
    {
     "name": "stderr",
     "output_type": "stream",
     "text": [
      "  7%|▋         | 38/534 [00:05<01:17,  6.38it/s]"
     ]
    },
    {
     "name": "stdout",
     "output_type": "stream",
     "text": [
      "x_vec_for_f =  [1.24540363e-05 1.01034400e-06 8.11248175e-02]\n"
     ]
    },
    {
     "name": "stderr",
     "output_type": "stream",
     "text": [
      "  7%|▋         | 39/534 [00:05<01:18,  6.34it/s]"
     ]
    },
    {
     "name": "stdout",
     "output_type": "stream",
     "text": [
      "x_vec_for_f =  [1.75202308e-05 1.42134322e-06 8.11244065e-02]\n"
     ]
    },
    {
     "name": "stderr",
     "output_type": "stream",
     "text": [
      "  7%|▋         | 40/534 [00:06<01:17,  6.37it/s]"
     ]
    },
    {
     "name": "stdout",
     "output_type": "stream",
     "text": [
      "x_vec_for_f =  [2.47372733e-05 2.00683177e-06 8.11238210e-02]\n"
     ]
    },
    {
     "name": "stderr",
     "output_type": "stream",
     "text": [
      "  8%|▊         | 41/534 [00:06<01:17,  6.38it/s]"
     ]
    },
    {
     "name": "stdout",
     "output_type": "stream",
     "text": [
      "x_vec_for_f =  [3.51098490e-05 2.84831556e-06 8.11229795e-02]\n"
     ]
    },
    {
     "name": "stderr",
     "output_type": "stream",
     "text": [
      "  8%|▊         | 42/534 [00:06<01:16,  6.42it/s]"
     ]
    },
    {
     "name": "stdout",
     "output_type": "stream",
     "text": [
      "x_vec_for_f =  [5.00117457e-05 4.05724427e-06 8.11217706e-02]\n"
     ]
    },
    {
     "name": "stderr",
     "output_type": "stream",
     "text": [
      "  8%|▊         | 43/534 [00:06<01:16,  6.44it/s]"
     ]
    },
    {
     "name": "stdout",
     "output_type": "stream",
     "text": [
      "x_vec_for_f =  [7.16260498e-05 5.81072258e-06 8.11200171e-02]\n"
     ]
    },
    {
     "name": "stderr",
     "output_type": "stream",
     "text": [
      "  8%|▊         | 44/534 [00:06<01:16,  6.43it/s]"
     ]
    },
    {
     "name": "stdout",
     "output_type": "stream",
     "text": [
      "x_vec_for_f =  [1.02947471e-04 8.35169881e-06 8.11174761e-02]\n"
     ]
    },
    {
     "name": "stderr",
     "output_type": "stream",
     "text": [
      "  8%|▊         | 45/534 [00:06<01:15,  6.47it/s]"
     ]
    },
    {
     "name": "stdout",
     "output_type": "stream",
     "text": [
      "x_vec_for_f =  [1.48655926e-04 1.20598351e-05 8.11137680e-02]\n"
     ]
    },
    {
     "name": "stderr",
     "output_type": "stream",
     "text": [
      "  9%|▊         | 46/534 [00:07<01:15,  6.50it/s]"
     ]
    },
    {
     "name": "stdout",
     "output_type": "stream",
     "text": [
      "x_vec_for_f =  [2.15676503e-04 1.74969349e-05 8.11083309e-02]\n"
     ]
    },
    {
     "name": "stderr",
     "output_type": "stream",
     "text": [
      "  9%|▉         | 47/534 [00:07<01:14,  6.50it/s]"
     ]
    },
    {
     "name": "stdout",
     "output_type": "stream",
     "text": [
      "x_vec_for_f =  [3.14393161e-04 2.55054055e-05 8.11003224e-02]\n"
     ]
    },
    {
     "name": "stderr",
     "output_type": "stream",
     "text": [
      "  9%|▉         | 48/534 [00:07<01:14,  6.50it/s]"
     ]
    },
    {
     "name": "stdout",
     "output_type": "stream",
     "text": [
      "x_vec_for_f =  [4.60474731e-04 3.73563937e-05 8.10884714e-02]\n"
     ]
    },
    {
     "name": "stderr",
     "output_type": "stream",
     "text": [
      "  9%|▉         | 49/534 [00:07<01:15,  6.46it/s]"
     ]
    },
    {
     "name": "stdout",
     "output_type": "stream",
     "text": [
      "x_vec_for_f =  [6.77626768e-04 5.49730325e-05 8.10708548e-02]\n"
     ]
    },
    {
     "name": "stderr",
     "output_type": "stream",
     "text": [
      "  9%|▉         | 50/534 [00:07<01:14,  6.46it/s]"
     ]
    },
    {
     "name": "stdout",
     "output_type": "stream",
     "text": [
      "x_vec_for_f =  [1.00188110e-03 8.12784339e-05 8.10445494e-02]\n"
     ]
    },
    {
     "name": "stderr",
     "output_type": "stream",
     "text": [
      " 10%|▉         | 51/534 [00:07<01:14,  6.47it/s]"
     ]
    },
    {
     "name": "stdout",
     "output_type": "stream",
     "text": [
      "x_vec_for_f =  [0.00148818 0.00012073 0.0810051 ]\n"
     ]
    },
    {
     "name": "stderr",
     "output_type": "stream",
     "text": [
      " 10%|▉         | 52/534 [00:07<01:14,  6.49it/s]"
     ]
    },
    {
     "name": "stdout",
     "output_type": "stream",
     "text": [
      "x_vec_for_f =  [0.00222056 0.00018014 0.08094568]\n"
     ]
    },
    {
     "name": "stderr",
     "output_type": "stream",
     "text": [
      " 10%|▉         | 53/534 [00:08<01:13,  6.51it/s]"
     ]
    },
    {
     "name": "stdout",
     "output_type": "stream",
     "text": [
      "x_vec_for_f =  [0.0033277  0.00026996 0.08085587]\n"
     ]
    },
    {
     "name": "stderr",
     "output_type": "stream",
     "text": [
      " 10%|█         | 54/534 [00:08<01:14,  6.44it/s]"
     ]
    },
    {
     "name": "stdout",
     "output_type": "stream",
     "text": [
      "x_vec_for_f =  [0.00500674 0.00040618 0.08071965]\n"
     ]
    },
    {
     "name": "stderr",
     "output_type": "stream",
     "text": [
      " 10%|█         | 55/534 [00:08<01:15,  6.31it/s]"
     ]
    },
    {
     "name": "stdout",
     "output_type": "stream",
     "text": [
      "x_vec_for_f =  [0.0075588  0.00061321 0.08051261]\n"
     ]
    },
    {
     "name": "stderr",
     "output_type": "stream",
     "text": [
      " 10%|█         | 56/534 [00:08<01:16,  6.26it/s]"
     ]
    },
    {
     "name": "stdout",
     "output_type": "stream",
     "text": [
      "x_vec_for_f =  [0.0112445  0.00091222 0.08021361]\n"
     ]
    },
    {
     "name": "stderr",
     "output_type": "stream",
     "text": [
      " 11%|█         | 57/534 [00:08<01:16,  6.22it/s]"
     ]
    },
    {
     "name": "stdout",
     "output_type": "stream",
     "text": [
      "x_vec_for_f =  [0.01678243 0.00136149 0.07976434]\n"
     ]
    },
    {
     "name": "stderr",
     "output_type": "stream",
     "text": [
      " 11%|█         | 58/534 [00:08<01:16,  6.21it/s]"
     ]
    },
    {
     "name": "stdout",
     "output_type": "stream",
     "text": [
      "x_vec_for_f =  [0.02476616 0.00200918 0.07911665]\n"
     ]
    },
    {
     "name": "stderr",
     "output_type": "stream",
     "text": [
      " 11%|█         | 59/534 [00:09<01:16,  6.21it/s]"
     ]
    },
    {
     "name": "stdout",
     "output_type": "stream",
     "text": [
      "x_vec_for_f =  [0.03587595 0.00291047 0.07821536]\n"
     ]
    },
    {
     "name": "stderr",
     "output_type": "stream",
     "text": [
      " 11%|█         | 60/534 [00:09<01:16,  6.21it/s]"
     ]
    },
    {
     "name": "stdout",
     "output_type": "stream",
     "text": [
      "x_vec_for_f =  [0.05070322 0.00411334 0.07701249]\n"
     ]
    },
    {
     "name": "stderr",
     "output_type": "stream",
     "text": [
      " 11%|█▏        | 61/534 [00:09<01:15,  6.22it/s]"
     ]
    },
    {
     "name": "stdout",
     "output_type": "stream",
     "text": [
      "x_vec_for_f =  [0.06961129 0.00564727 0.07547855]\n"
     ]
    },
    {
     "name": "stderr",
     "output_type": "stream",
     "text": [
      " 12%|█▏        | 62/534 [00:09<01:16,  6.21it/s]"
     ]
    },
    {
     "name": "stdout",
     "output_type": "stream",
     "text": [
      "x_vec_for_f =  [0.09269056 0.0075196  0.07360623]\n"
     ]
    },
    {
     "name": "stderr",
     "output_type": "stream",
     "text": [
      " 12%|█▏        | 63/534 [00:09<01:16,  6.18it/s]"
     ]
    },
    {
     "name": "stdout",
     "output_type": "stream",
     "text": [
      "x_vec_for_f =  [0.11977102 0.00971652 0.0714093 ]\n"
     ]
    },
    {
     "name": "stderr",
     "output_type": "stream",
     "text": [
      " 12%|█▏        | 64/534 [00:09<01:16,  6.17it/s]"
     ]
    },
    {
     "name": "stdout",
     "output_type": "stream",
     "text": [
      "x_vec_for_f =  [0.15048008 0.01220782 0.06891801]\n"
     ]
    },
    {
     "name": "stderr",
     "output_type": "stream",
     "text": [
      " 12%|█▏        | 65/534 [00:10<01:15,  6.17it/s]"
     ]
    },
    {
     "name": "stdout",
     "output_type": "stream",
     "text": [
      "x_vec_for_f =  [0.18431039 0.01495233 0.06617349]\n"
     ]
    },
    {
     "name": "stderr",
     "output_type": "stream",
     "text": [
      " 12%|█▏        | 66/534 [00:10<01:15,  6.17it/s]"
     ]
    },
    {
     "name": "stdout",
     "output_type": "stream",
     "text": [
      "x_vec_for_f =  [0.2206851  0.01790326 0.06322257]\n"
     ]
    },
    {
     "name": "stderr",
     "output_type": "stream",
     "text": [
      " 13%|█▎        | 67/534 [00:10<01:15,  6.20it/s]"
     ]
    },
    {
     "name": "stdout",
     "output_type": "stream",
     "text": [
      "x_vec_for_f =  [0.25900323 0.02101185 0.06011398]\n"
     ]
    },
    {
     "name": "stderr",
     "output_type": "stream",
     "text": [
      " 13%|█▎        | 68/534 [00:10<01:15,  6.21it/s]"
     ]
    },
    {
     "name": "stdout",
     "output_type": "stream",
     "text": [
      "x_vec_for_f =  [0.29867705 0.02423042 0.0568954 ]\n"
     ]
    },
    {
     "name": "stderr",
     "output_type": "stream",
     "text": [
      " 13%|█▎        | 69/534 [00:10<01:17,  6.01it/s]"
     ]
    },
    {
     "name": "stdout",
     "output_type": "stream",
     "text": [
      "x_vec_for_f =  [0.3391573  0.02751442 0.05361141]\n"
     ]
    },
    {
     "name": "stderr",
     "output_type": "stream",
     "text": [
      " 13%|█▎        | 70/534 [00:10<01:17,  5.95it/s]"
     ]
    },
    {
     "name": "stdout",
     "output_type": "stream",
     "text": [
      "x_vec_for_f =  [0.37994831 0.03082362 0.05030221]\n"
     ]
    },
    {
     "name": "stderr",
     "output_type": "stream",
     "text": [
      " 13%|█▎        | 71/534 [00:11<01:16,  6.02it/s]"
     ]
    },
    {
     "name": "stdout",
     "output_type": "stream",
     "text": [
      "x_vec_for_f =  [0.42061486 0.03412273 0.0470031 ]\n"
     ]
    },
    {
     "name": "stderr",
     "output_type": "stream",
     "text": [
      " 13%|█▎        | 72/534 [00:11<01:16,  6.07it/s]"
     ]
    },
    {
     "name": "stdout",
     "output_type": "stream",
     "text": [
      "x_vec_for_f =  [0.46077752 0.03738096 0.04374487]\n"
     ]
    },
    {
     "name": "stderr",
     "output_type": "stream",
     "text": [
      " 14%|█▎        | 73/534 [00:11<01:15,  6.12it/s]"
     ]
    },
    {
     "name": "stdout",
     "output_type": "stream",
     "text": [
      "x_vec_for_f =  [0.50012925 0.0405734  0.04055243]\n"
     ]
    },
    {
     "name": "stderr",
     "output_type": "stream",
     "text": [
      " 14%|█▍        | 74/534 [00:11<01:14,  6.16it/s]"
     ]
    },
    {
     "name": "stdout",
     "output_type": "stream",
     "text": [
      "x_vec_for_f =  [0.53840668 0.04367869 0.03744714]\n"
     ]
    },
    {
     "name": "stderr",
     "output_type": "stream",
     "text": [
      " 14%|█▍        | 75/534 [00:11<01:14,  6.18it/s]"
     ]
    },
    {
     "name": "stdout",
     "output_type": "stream",
     "text": [
      "x_vec_for_f =  [0.57539377 0.0466793  0.03444653]\n"
     ]
    },
    {
     "name": "stderr",
     "output_type": "stream",
     "text": [
      " 14%|█▍        | 76/534 [00:11<01:13,  6.20it/s]"
     ]
    },
    {
     "name": "stdout",
     "output_type": "stream",
     "text": [
      "x_vec_for_f =  [0.61091528 0.04956101 0.03156482]\n"
     ]
    },
    {
     "name": "stderr",
     "output_type": "stream",
     "text": [
      " 14%|█▍        | 77/534 [00:12<01:13,  6.21it/s]"
     ]
    },
    {
     "name": "stdout",
     "output_type": "stream",
     "text": [
      "x_vec_for_f =  [0.64483815 0.05231303 0.0288128 ]\n"
     ]
    },
    {
     "name": "stderr",
     "output_type": "stream",
     "text": [
      " 15%|█▍        | 78/534 [00:12<01:13,  6.21it/s]"
     ]
    },
    {
     "name": "stdout",
     "output_type": "stream",
     "text": [
      "x_vec_for_f =  [0.67704609 0.05492592 0.0261999 ]\n"
     ]
    },
    {
     "name": "stderr",
     "output_type": "stream",
     "text": [
      " 15%|█▍        | 79/534 [00:12<01:13,  6.22it/s]"
     ]
    },
    {
     "name": "stdout",
     "output_type": "stream",
     "text": [
      "x_vec_for_f =  [0.70746494 0.05739368 0.02373215]\n"
     ]
    },
    {
     "name": "stderr",
     "output_type": "stream",
     "text": [
      " 15%|█▍        | 80/534 [00:12<01:12,  6.23it/s]"
     ]
    },
    {
     "name": "stdout",
     "output_type": "stream",
     "text": [
      "x_vec_for_f =  [0.73602717 0.05971081 0.02141501]\n"
     ]
    },
    {
     "name": "stderr",
     "output_type": "stream",
     "text": [
      " 15%|█▌        | 81/534 [00:12<01:12,  6.23it/s]"
     ]
    },
    {
     "name": "stdout",
     "output_type": "stream",
     "text": [
      "x_vec_for_f =  [0.76271392 0.0618758  0.01925003]\n"
     ]
    },
    {
     "name": "stderr",
     "output_type": "stream",
     "text": [
      " 15%|█▌        | 82/534 [00:12<01:12,  6.24it/s]"
     ]
    },
    {
     "name": "stdout",
     "output_type": "stream",
     "text": [
      "x_vec_for_f =  [0.78751667 0.06388794 0.01723789]\n"
     ]
    },
    {
     "name": "stderr",
     "output_type": "stream",
     "text": [
      " 16%|█▌        | 83/534 [00:12<01:12,  6.25it/s]"
     ]
    },
    {
     "name": "stdout",
     "output_type": "stream",
     "text": [
      "x_vec_for_f =  [0.81044721 0.0657482  0.01537763]\n"
     ]
    },
    {
     "name": "stderr",
     "output_type": "stream",
     "text": [
      " 16%|█▌        | 84/534 [00:13<01:12,  6.24it/s]"
     ]
    },
    {
     "name": "stdout",
     "output_type": "stream",
     "text": [
      "x_vec_for_f =  [0.83153574 0.06745903 0.0136668 ]\n"
     ]
    },
    {
     "name": "stderr",
     "output_type": "stream",
     "text": [
      " 16%|█▌        | 85/534 [00:13<01:11,  6.25it/s]"
     ]
    },
    {
     "name": "stdout",
     "output_type": "stream",
     "text": [
      "x_vec_for_f =  [0.85082884 0.06902419 0.01210163]\n"
     ]
    },
    {
     "name": "stderr",
     "output_type": "stream",
     "text": [
      " 16%|█▌        | 86/534 [00:13<01:11,  6.24it/s]"
     ]
    },
    {
     "name": "stdout",
     "output_type": "stream",
     "text": [
      "x_vec_for_f =  [0.86838851 0.07044874 0.01067709]\n"
     ]
    },
    {
     "name": "stderr",
     "output_type": "stream",
     "text": [
      " 16%|█▋        | 87/534 [00:13<01:11,  6.23it/s]"
     ]
    },
    {
     "name": "stdout",
     "output_type": "stream",
     "text": [
      "x_vec_for_f =  [0.88428832 0.07173862 0.00938721]\n"
     ]
    },
    {
     "name": "stderr",
     "output_type": "stream",
     "text": [
      " 16%|█▋        | 88/534 [00:13<01:11,  6.24it/s]"
     ]
    },
    {
     "name": "stdout",
     "output_type": "stream",
     "text": [
      "x_vec_for_f =  [0.89861248 0.07290068 0.00822515]\n"
     ]
    },
    {
     "name": "stderr",
     "output_type": "stream",
     "text": [
      " 17%|█▋        | 89/534 [00:13<01:11,  6.23it/s]"
     ]
    },
    {
     "name": "stdout",
     "output_type": "stream",
     "text": [
      "x_vec_for_f =  [0.9114519  0.07394229 0.00718354]\n"
     ]
    },
    {
     "name": "stderr",
     "output_type": "stream",
     "text": [
      " 17%|█▋        | 90/534 [00:14<01:11,  6.23it/s]"
     ]
    },
    {
     "name": "stdout",
     "output_type": "stream",
     "text": [
      "x_vec_for_f =  [0.92290556 0.07487148 0.00625435]\n"
     ]
    },
    {
     "name": "stderr",
     "output_type": "stream",
     "text": [
      " 17%|█▋        | 91/534 [00:14<01:11,  6.23it/s]"
     ]
    },
    {
     "name": "stdout",
     "output_type": "stream",
     "text": [
      "x_vec_for_f =  [0.93307414 0.07569641 0.00542942]\n"
     ]
    },
    {
     "name": "stderr",
     "output_type": "stream",
     "text": [
      " 17%|█▋        | 92/534 [00:14<01:10,  6.24it/s]"
     ]
    },
    {
     "name": "stdout",
     "output_type": "stream",
     "text": [
      "x_vec_for_f =  [0.94205973 0.07642538 0.00470045]\n"
     ]
    },
    {
     "name": "stderr",
     "output_type": "stream",
     "text": [
      " 17%|█▋        | 93/534 [00:14<01:11,  6.20it/s]"
     ]
    },
    {
     "name": "stdout",
     "output_type": "stream",
     "text": [
      "x_vec_for_f =  [0.94996388 0.07706661 0.00405922]\n"
     ]
    },
    {
     "name": "stderr",
     "output_type": "stream",
     "text": [
      " 18%|█▊        | 94/534 [00:14<01:11,  6.19it/s]"
     ]
    },
    {
     "name": "stdout",
     "output_type": "stream",
     "text": [
      "x_vec_for_f =  [0.95688609 0.07762818 0.00349765]\n"
     ]
    },
    {
     "name": "stderr",
     "output_type": "stream",
     "text": [
      " 18%|█▊        | 95/534 [00:14<01:10,  6.21it/s]"
     ]
    },
    {
     "name": "stdout",
     "output_type": "stream",
     "text": [
      "x_vec_for_f =  [0.96292313 0.07811794 0.00300789]\n"
     ]
    },
    {
     "name": "stderr",
     "output_type": "stream",
     "text": [
      " 18%|█▊        | 96/534 [00:15<01:10,  6.20it/s]"
     ]
    },
    {
     "name": "stdout",
     "output_type": "stream",
     "text": [
      "x_vec_for_f =  [0.96816677 0.07854333 0.0025825 ]\n"
     ]
    },
    {
     "name": "stderr",
     "output_type": "stream",
     "text": [
      " 18%|█▊        | 97/534 [00:15<01:10,  6.22it/s]"
     ]
    },
    {
     "name": "stdout",
     "output_type": "stream",
     "text": [
      "x_vec_for_f =  [0.97270309 0.07891134 0.00221448]\n"
     ]
    },
    {
     "name": "stderr",
     "output_type": "stream",
     "text": [
      " 18%|█▊        | 98/534 [00:15<01:09,  6.24it/s]"
     ]
    },
    {
     "name": "stdout",
     "output_type": "stream",
     "text": [
      "x_vec_for_f =  [0.97661179 0.07922844 0.00189739]\n"
     ]
    },
    {
     "name": "stderr",
     "output_type": "stream",
     "text": [
      " 19%|█▊        | 99/534 [00:15<01:09,  6.25it/s]"
     ]
    },
    {
     "name": "stdout",
     "output_type": "stream",
     "text": [
      "x_vec_for_f =  [0.97996867 0.07950077 0.00162506]\n"
     ]
    },
    {
     "name": "stderr",
     "output_type": "stream",
     "text": [
      " 19%|█▊        | 100/534 [00:15<01:09,  6.24it/s]"
     ]
    },
    {
     "name": "stdout",
     "output_type": "stream",
     "text": [
      "x_vec_for_f =  [0.98283824 0.07973357 0.00139226]\n"
     ]
    },
    {
     "name": "stderr",
     "output_type": "stream",
     "text": [
      " 19%|█▉        | 101/534 [00:15<01:09,  6.23it/s]"
     ]
    },
    {
     "name": "stdout",
     "output_type": "stream",
     "text": [
      "x_vec_for_f =  [0.98528473 0.07993204 0.00119379]\n"
     ]
    },
    {
     "name": "stderr",
     "output_type": "stream",
     "text": [
      " 19%|█▉        | 102/534 [00:16<01:09,  6.22it/s]"
     ]
    },
    {
     "name": "stdout",
     "output_type": "stream",
     "text": [
      "x_vec_for_f =  [0.98736282 0.08010063 0.0010252 ]\n"
     ]
    },
    {
     "name": "stderr",
     "output_type": "stream",
     "text": [
      " 19%|█▉        | 103/534 [00:16<01:11,  6.02it/s]"
     ]
    },
    {
     "name": "stdout",
     "output_type": "stream",
     "text": [
      "x_vec_for_f =  [9.89124932e-01 8.02435789e-02 8.82248882e-04]\n"
     ]
    },
    {
     "name": "stderr",
     "output_type": "stream",
     "text": [
      " 19%|█▉        | 104/534 [00:16<01:11,  5.99it/s]"
     ]
    },
    {
     "name": "stdout",
     "output_type": "stream",
     "text": [
      "x_vec_for_f =  [9.90614503e-01 8.03644216e-02 7.61406183e-04]\n"
     ]
    },
    {
     "name": "stderr",
     "output_type": "stream",
     "text": [
      " 20%|█▉        | 105/534 [00:16<01:11,  5.97it/s]"
     ]
    },
    {
     "name": "stdout",
     "output_type": "stream",
     "text": [
      "x_vec_for_f =  [9.91871304e-01 8.04663806e-02 6.59447182e-04]\n"
     ]
    },
    {
     "name": "stderr",
     "output_type": "stream",
     "text": [
      " 20%|█▉        | 106/534 [00:16<01:11,  6.02it/s]"
     ]
    },
    {
     "name": "stdout",
     "output_type": "stream",
     "text": [
      "x_vec_for_f =  [9.92930205e-01 8.05522848e-02 5.73543010e-04]\n"
     ]
    },
    {
     "name": "stderr",
     "output_type": "stream",
     "text": [
      " 20%|██        | 107/534 [00:16<01:10,  6.08it/s]"
     ]
    },
    {
     "name": "stdout",
     "output_type": "stream",
     "text": [
      "x_vec_for_f =  [9.93821295e-01 8.06245752e-02 5.01252565e-04]\n"
     ]
    },
    {
     "name": "stderr",
     "output_type": "stream",
     "text": [
      " 20%|██        | 108/534 [00:17<01:09,  6.13it/s]"
     ]
    },
    {
     "name": "stdout",
     "output_type": "stream",
     "text": [
      "x_vec_for_f =  [9.94570890e-01 8.06853868e-02 4.40441003e-04]\n"
     ]
    },
    {
     "name": "stderr",
     "output_type": "stream",
     "text": [
      " 20%|██        | 109/534 [00:17<01:08,  6.18it/s]"
     ]
    },
    {
     "name": "stdout",
     "output_type": "stream",
     "text": [
      "x_vec_for_f =  [9.95201782e-01 8.07365684e-02 3.89259416e-04]\n"
     ]
    },
    {
     "name": "stderr",
     "output_type": "stream",
     "text": [
      " 21%|██        | 110/534 [00:17<01:08,  6.20it/s]"
     ]
    },
    {
     "name": "stdout",
     "output_type": "stream",
     "text": [
      "x_vec_for_f =  [9.95733367e-01 8.07796937e-02 3.46134134e-04]\n"
     ]
    },
    {
     "name": "stderr",
     "output_type": "stream",
     "text": [
      " 21%|██        | 111/534 [00:17<01:08,  6.21it/s]"
     ]
    },
    {
     "name": "stdout",
     "output_type": "stream",
     "text": [
      "x_vec_for_f =  [9.96182260e-01 8.08161105e-02 3.09717312e-04]\n"
     ]
    },
    {
     "name": "stderr",
     "output_type": "stream",
     "text": [
      " 21%|██        | 112/534 [00:17<01:07,  6.24it/s]"
     ]
    },
    {
     "name": "stdout",
     "output_type": "stream",
     "text": [
      "x_vec_for_f =  [9.96562399e-01 8.08469496e-02 2.78878204e-04]\n"
     ]
    },
    {
     "name": "stderr",
     "output_type": "stream",
     "text": [
      " 21%|██        | 113/534 [00:17<01:07,  6.27it/s]"
     ]
    },
    {
     "name": "stdout",
     "output_type": "stream",
     "text": [
      "x_vec_for_f =  [9.96885448e-01 8.08731572e-02 2.52670593e-04]\n"
     ]
    },
    {
     "name": "stderr",
     "output_type": "stream",
     "text": [
      " 21%|██▏       | 114/534 [00:17<01:06,  6.29it/s]"
     ]
    },
    {
     "name": "stdout",
     "output_type": "stream",
     "text": [
      "x_vec_for_f =  [9.97161111e-01 8.08955206e-02 2.30307203e-04]\n"
     ]
    },
    {
     "name": "stderr",
     "output_type": "stream",
     "text": [
      " 22%|██▏       | 115/534 [00:18<01:06,  6.30it/s]"
     ]
    },
    {
     "name": "stdout",
     "output_type": "stream",
     "text": [
      "x_vec_for_f =  [9.97397427e-01 8.09146919e-02 2.11135922e-04]\n"
     ]
    },
    {
     "name": "stderr",
     "output_type": "stream",
     "text": [
      " 22%|██▏       | 116/534 [00:18<01:06,  6.32it/s]"
     ]
    },
    {
     "name": "stdout",
     "output_type": "stream",
     "text": [
      "x_vec_for_f =  [9.97601021e-01 8.09312086e-02 1.94619169e-04]\n"
     ]
    },
    {
     "name": "stderr",
     "output_type": "stream",
     "text": [
      " 22%|██▏       | 117/534 [00:18<01:05,  6.32it/s]"
     ]
    },
    {
     "name": "stdout",
     "output_type": "stream",
     "text": [
      "x_vec_for_f =  [9.97777255e-01 8.09455058e-02 1.80322055e-04]\n"
     ]
    },
    {
     "name": "stderr",
     "output_type": "stream",
     "text": [
      " 22%|██▏       | 118/534 [00:18<01:05,  6.34it/s]"
     ]
    },
    {
     "name": "stdout",
     "output_type": "stream",
     "text": [
      "x_vec_for_f =  [9.97930702e-01 8.09579543e-02 1.67873495e-04]\n"
     ]
    },
    {
     "name": "stderr",
     "output_type": "stream",
     "text": [
      " 22%|██▏       | 119/534 [00:18<01:05,  6.36it/s]"
     ]
    },
    {
     "name": "stdout",
     "output_type": "stream",
     "text": [
      "x_vec_for_f =  [9.98065030e-01 8.09688518e-02 1.56976018e-04]\n"
     ]
    },
    {
     "name": "stderr",
     "output_type": "stream",
     "text": [
      " 22%|██▏       | 120/534 [00:18<01:04,  6.39it/s]"
     ]
    },
    {
     "name": "stdout",
     "output_type": "stream",
     "text": [
      "x_vec_for_f =  [9.98183179e-01 8.09784367e-02 1.47391130e-04]\n"
     ]
    },
    {
     "name": "stderr",
     "output_type": "stream",
     "text": [
      " 23%|██▎       | 121/534 [00:19<01:04,  6.38it/s]"
     ]
    },
    {
     "name": "stdout",
     "output_type": "stream",
     "text": [
      "x_vec_for_f =  [9.98287842e-01 8.09869275e-02 1.38900266e-04]\n"
     ]
    },
    {
     "name": "stderr",
     "output_type": "stream",
     "text": [
      " 23%|██▎       | 122/534 [00:19<01:04,  6.40it/s]"
     ]
    },
    {
     "name": "stdout",
     "output_type": "stream",
     "text": [
      "x_vec_for_f =  [9.98380664e-01 8.09944578e-02 1.31369979e-04]\n"
     ]
    },
    {
     "name": "stderr",
     "output_type": "stream",
     "text": [
      " 23%|██▎       | 123/534 [00:19<01:04,  6.41it/s]"
     ]
    },
    {
     "name": "stdout",
     "output_type": "stream",
     "text": [
      "x_vec_for_f =  [9.98463615e-01 8.10011873e-02 1.24640501e-04]\n"
     ]
    },
    {
     "name": "stderr",
     "output_type": "stream",
     "text": [
      " 23%|██▎       | 124/534 [00:19<01:03,  6.41it/s]"
     ]
    },
    {
     "name": "stdout",
     "output_type": "stream",
     "text": [
      "x_vec_for_f =  [9.98538279e-01 8.10072445e-02 1.18583313e-04]\n"
     ]
    },
    {
     "name": "stderr",
     "output_type": "stream",
     "text": [
      " 23%|██▎       | 125/534 [00:19<01:03,  6.41it/s]"
     ]
    },
    {
     "name": "stdout",
     "output_type": "stream",
     "text": [
      "x_vec_for_f =  [9.98605426e-01 8.10126918e-02 1.13135979e-04]\n"
     ]
    },
    {
     "name": "stderr",
     "output_type": "stream",
     "text": [
      " 24%|██▎       | 126/534 [00:19<01:04,  6.35it/s]"
     ]
    },
    {
     "name": "stdout",
     "output_type": "stream",
     "text": [
      "x_vec_for_f =  [9.98666382e-01 8.10176370e-02 1.08190861e-04]\n"
     ]
    },
    {
     "name": "stderr",
     "output_type": "stream",
     "text": [
      " 24%|██▍       | 127/534 [00:20<01:03,  6.38it/s]"
     ]
    },
    {
     "name": "stdout",
     "output_type": "stream",
     "text": [
      "x_vec_for_f =  [9.98721786e-01 8.10221316e-02 1.03696178e-04]\n"
     ]
    },
    {
     "name": "stderr",
     "output_type": "stream",
     "text": [
      " 24%|██▍       | 128/534 [00:20<01:03,  6.37it/s]"
     ]
    },
    {
     "name": "stdout",
     "output_type": "stream",
     "text": [
      "x_vec_for_f =  [9.98772332e-01 8.10262322e-02 9.95956130e-05]\n"
     ]
    },
    {
     "name": "stderr",
     "output_type": "stream",
     "text": [
      " 24%|██▍       | 129/534 [00:20<01:03,  6.37it/s]"
     ]
    },
    {
     "name": "stdout",
     "output_type": "stream",
     "text": [
      "x_vec_for_f =  [9.98818606e-01 8.10299863e-02 9.58415306e-05]\n"
     ]
    },
    {
     "name": "stderr",
     "output_type": "stream",
     "text": [
      " 24%|██▍       | 130/534 [00:20<01:03,  6.37it/s]"
     ]
    },
    {
     "name": "stdout",
     "output_type": "stream",
     "text": [
      "x_vec_for_f =  [9.98861110e-01 8.10334344e-02 9.23933664e-05]\n"
     ]
    },
    {
     "name": "stderr",
     "output_type": "stream",
     "text": [
      " 25%|██▍       | 131/534 [00:20<01:03,  6.35it/s]"
     ]
    },
    {
     "name": "stdout",
     "output_type": "stream",
     "text": [
      "x_vec_for_f =  [9.98900271e-01 8.10366114e-02 8.92164433e-05]\n"
     ]
    },
    {
     "name": "stderr",
     "output_type": "stream",
     "text": [
      " 25%|██▍       | 132/534 [00:20<01:03,  6.34it/s]"
     ]
    },
    {
     "name": "stdout",
     "output_type": "stream",
     "text": [
      "x_vec_for_f =  [9.98936455e-01 8.10395468e-02 8.62809774e-05]\n"
     ]
    },
    {
     "name": "stderr",
     "output_type": "stream",
     "text": [
      " 25%|██▍       | 133/534 [00:20<01:03,  6.35it/s]"
     ]
    },
    {
     "name": "stdout",
     "output_type": "stream",
     "text": [
      "x_vec_for_f =  [9.98969979e-01 8.10422665e-02 8.35612747e-05]\n"
     ]
    },
    {
     "name": "stderr",
     "output_type": "stream",
     "text": [
      " 25%|██▌       | 134/534 [00:21<01:02,  6.37it/s]"
     ]
    },
    {
     "name": "stdout",
     "output_type": "stream",
     "text": [
      "x_vec_for_f =  [9.99001119e-01 8.10447927e-02 8.10350752e-05]\n"
     ]
    },
    {
     "name": "stderr",
     "output_type": "stream",
     "text": [
      " 25%|██▌       | 135/534 [00:21<01:02,  6.37it/s]"
     ]
    },
    {
     "name": "stdout",
     "output_type": "stream",
     "text": [
      "x_vec_for_f =  [9.99030111e-01 8.10471448e-02 7.86830302e-05]\n"
     ]
    },
    {
     "name": "stderr",
     "output_type": "stream",
     "text": [
      " 25%|██▌       | 136/534 [00:21<01:02,  6.41it/s]"
     ]
    },
    {
     "name": "stdout",
     "output_type": "stream",
     "text": [
      "x_vec_for_f =  [9.99057164e-01 8.10493394e-02 7.64883772e-05]\n"
     ]
    },
    {
     "name": "stderr",
     "output_type": "stream",
     "text": [
      " 26%|██▌       | 137/534 [00:21<01:03,  6.21it/s]"
     ]
    },
    {
     "name": "stdout",
     "output_type": "stream",
     "text": [
      "x_vec_for_f =  [9.99082459e-01 8.10513915e-02 7.44362968e-05]\n"
     ]
    },
    {
     "name": "stderr",
     "output_type": "stream",
     "text": [
      " 26%|██▌       | 138/534 [00:21<01:04,  6.10it/s]"
     ]
    },
    {
     "name": "stdout",
     "output_type": "stream",
     "text": [
      "x_vec_for_f =  [9.99106157e-01 8.10533141e-02 7.25137401e-05]\n"
     ]
    },
    {
     "name": "stderr",
     "output_type": "stream",
     "text": [
      " 26%|██▌       | 139/534 [00:21<01:03,  6.18it/s]"
     ]
    },
    {
     "name": "stdout",
     "output_type": "stream",
     "text": [
      "x_vec_for_f =  [9.99128401e-01 8.10551186e-02 7.07091838e-05]\n"
     ]
    },
    {
     "name": "stderr",
     "output_type": "stream",
     "text": [
      " 26%|██▌       | 140/534 [00:22<01:03,  6.24it/s]"
     ]
    },
    {
     "name": "stdout",
     "output_type": "stream",
     "text": [
      "x_vec_for_f =  [9.99149316e-01 8.10568154e-02 6.90124168e-05]\n"
     ]
    },
    {
     "name": "stderr",
     "output_type": "stream",
     "text": [
      " 26%|██▋       | 141/534 [00:22<01:02,  6.30it/s]"
     ]
    },
    {
     "name": "stdout",
     "output_type": "stream",
     "text": [
      "x_vec_for_f =  [9.99169015e-01 8.10584135e-02 6.74143603e-05]\n"
     ]
    },
    {
     "name": "stderr",
     "output_type": "stream",
     "text": [
      " 27%|██▋       | 142/534 [00:22<01:01,  6.35it/s]"
     ]
    },
    {
     "name": "stdout",
     "output_type": "stream",
     "text": [
      "x_vec_for_f =  [9.99187596e-01 8.10599209e-02 6.59069169e-05]\n"
     ]
    },
    {
     "name": "stderr",
     "output_type": "stream",
     "text": [
      " 27%|██▋       | 143/534 [00:22<01:01,  6.35it/s]"
     ]
    },
    {
     "name": "stdout",
     "output_type": "stream",
     "text": [
      "x_vec_for_f =  [9.99205150e-01 8.10613450e-02 6.44828425e-05]\n"
     ]
    },
    {
     "name": "stderr",
     "output_type": "stream",
     "text": [
      " 27%|██▋       | 144/534 [00:22<01:01,  6.34it/s]"
     ]
    },
    {
     "name": "stdout",
     "output_type": "stream",
     "text": [
      "x_vec_for_f =  [9.99221757e-01 8.10626922e-02 6.31356362e-05]\n"
     ]
    },
    {
     "name": "stderr",
     "output_type": "stream",
     "text": [
      " 27%|██▋       | 145/534 [00:22<01:01,  6.32it/s]"
     ]
    },
    {
     "name": "stdout",
     "output_type": "stream",
     "text": [
      "x_vec_for_f =  [9.99237488e-01 8.10639684e-02 6.18594486e-05]\n"
     ]
    },
    {
     "name": "stderr",
     "output_type": "stream",
     "text": [
      " 27%|██▋       | 146/534 [00:23<01:01,  6.33it/s]"
     ]
    },
    {
     "name": "stdout",
     "output_type": "stream",
     "text": [
      "x_vec_for_f =  [9.99252408e-01 8.10651788e-02 6.06490129e-05]\n"
     ]
    },
    {
     "name": "stderr",
     "output_type": "stream",
     "text": [
      " 28%|██▊       | 147/534 [00:23<01:01,  6.34it/s]"
     ]
    },
    {
     "name": "stdout",
     "output_type": "stream",
     "text": [
      "x_vec_for_f =  [9.99266575e-01 8.10663281e-02 5.94997150e-05]\n"
     ]
    },
    {
     "name": "stderr",
     "output_type": "stream",
     "text": [
      " 28%|██▊       | 148/534 [00:23<01:00,  6.36it/s]"
     ]
    },
    {
     "name": "stdout",
     "output_type": "stream",
     "text": [
      "x_vec_for_f =  [9.99280041e-01 8.10674206e-02 5.84072361e-05]\n"
     ]
    },
    {
     "name": "stderr",
     "output_type": "stream",
     "text": [
      " 28%|██▊       | 149/534 [00:23<01:00,  6.37it/s]"
     ]
    },
    {
     "name": "stdout",
     "output_type": "stream",
     "text": [
      "x_vec_for_f =  [9.99292856e-01 8.10684602e-02 5.73676434e-05]\n"
     ]
    },
    {
     "name": "stderr",
     "output_type": "stream",
     "text": [
      " 28%|██▊       | 150/534 [00:23<01:00,  6.37it/s]"
     ]
    },
    {
     "name": "stdout",
     "output_type": "stream",
     "text": [
      "x_vec_for_f =  [9.99305063e-01 8.10694505e-02 5.63773538e-05]\n"
     ]
    },
    {
     "name": "stderr",
     "output_type": "stream",
     "text": [
      " 28%|██▊       | 151/534 [00:23<01:00,  6.36it/s]"
     ]
    },
    {
     "name": "stdout",
     "output_type": "stream",
     "text": [
      "x_vec_for_f =  [9.99316609e-01 8.10703871e-02 5.54406672e-05]\n"
     ]
    },
    {
     "name": "stderr",
     "output_type": "stream",
     "text": [
      " 28%|██▊       | 152/534 [00:23<01:00,  6.34it/s]"
     ]
    },
    {
     "name": "stdout",
     "output_type": "stream",
     "text": [
      "x_vec_for_f =  [9.99327721e-01 8.10712887e-02 5.45391514e-05]\n"
     ]
    },
    {
     "name": "stderr",
     "output_type": "stream",
     "text": [
      " 29%|██▊       | 153/534 [00:24<00:59,  6.37it/s]"
     ]
    },
    {
     "name": "stdout",
     "output_type": "stream",
     "text": [
      "x_vec_for_f =  [9.99338254e-01 8.10721431e-02 5.36847024e-05]\n"
     ]
    },
    {
     "name": "stderr",
     "output_type": "stream",
     "text": [
      " 29%|██▉       | 154/534 [00:24<00:59,  6.37it/s]"
     ]
    },
    {
     "name": "stdout",
     "output_type": "stream",
     "text": [
      "x_vec_for_f =  [9.99348328e-01 8.10729604e-02 5.28674366e-05]\n"
     ]
    },
    {
     "name": "stderr",
     "output_type": "stream",
     "text": [
      " 29%|██▉       | 155/534 [00:24<00:59,  6.36it/s]"
     ]
    },
    {
     "name": "stdout",
     "output_type": "stream",
     "text": [
      "x_vec_for_f =  [9.99357971e-01 8.10737427e-02 5.20850993e-05]\n"
     ]
    },
    {
     "name": "stderr",
     "output_type": "stream",
     "text": [
      " 29%|██▉       | 156/534 [00:24<00:59,  6.38it/s]"
     ]
    },
    {
     "name": "stdout",
     "output_type": "stream",
     "text": [
      "x_vec_for_f =  [9.99367210e-01 8.10744922e-02 5.13356083e-05]\n"
     ]
    },
    {
     "name": "stderr",
     "output_type": "stream",
     "text": [
      " 29%|██▉       | 157/534 [00:24<00:59,  6.37it/s]"
     ]
    },
    {
     "name": "stdout",
     "output_type": "stream",
     "text": [
      "x_vec_for_f =  [9.99376067e-01 8.10752108e-02 5.06170430e-05]\n"
     ]
    },
    {
     "name": "stderr",
     "output_type": "stream",
     "text": [
      " 30%|██▉       | 158/534 [00:24<00:59,  6.36it/s]"
     ]
    },
    {
     "name": "stdout",
     "output_type": "stream",
     "text": [
      "x_vec_for_f =  [9.99384564e-01 8.10759000e-02 4.99277737e-05]\n"
     ]
    },
    {
     "name": "stderr",
     "output_type": "stream",
     "text": [
      " 30%|██▉       | 159/534 [00:25<00:58,  6.37it/s]"
     ]
    },
    {
     "name": "stdout",
     "output_type": "stream",
     "text": [
      "x_vec_for_f =  [9.99392698e-01 8.10765600e-02 4.92678456e-05]\n"
     ]
    },
    {
     "name": "stderr",
     "output_type": "stream",
     "text": [
      " 30%|██▉       | 160/534 [00:25<00:58,  6.40it/s]"
     ]
    },
    {
     "name": "stdout",
     "output_type": "stream",
     "text": [
      "x_vec_for_f =  [9.99400513e-01 8.10771939e-02 4.86339172e-05]\n"
     ]
    },
    {
     "name": "stderr",
     "output_type": "stream",
     "text": [
      " 30%|███       | 161/534 [00:25<00:58,  6.40it/s]"
     ]
    },
    {
     "name": "stdout",
     "output_type": "stream",
     "text": [
      "x_vec_for_f =  [9.99408023e-01 8.10778032e-02 4.80246036e-05]\n"
     ]
    },
    {
     "name": "stderr",
     "output_type": "stream",
     "text": [
      " 30%|███       | 162/534 [00:25<00:57,  6.41it/s]"
     ]
    },
    {
     "name": "stdout",
     "output_type": "stream",
     "text": [
      "x_vec_for_f =  [9.99415247e-01 8.10783892e-02 4.74385826e-05]\n"
     ]
    },
    {
     "name": "stderr",
     "output_type": "stream",
     "text": [
      " 31%|███       | 163/534 [00:25<00:57,  6.42it/s]"
     ]
    },
    {
     "name": "stdout",
     "output_type": "stream",
     "text": [
      "x_vec_for_f =  [9.99422199e-01 8.10789532e-02 4.68746216e-05]\n"
     ]
    },
    {
     "name": "stderr",
     "output_type": "stream",
     "text": [
      " 31%|███       | 164/534 [00:25<00:57,  6.42it/s]"
     ]
    },
    {
     "name": "stdout",
     "output_type": "stream",
     "text": [
      "x_vec_for_f =  [9.99428892e-01 8.10794962e-02 4.63315695e-05]\n"
     ]
    },
    {
     "name": "stderr",
     "output_type": "stream",
     "text": [
      " 31%|███       | 165/534 [00:25<00:57,  6.41it/s]"
     ]
    },
    {
     "name": "stdout",
     "output_type": "stream",
     "text": [
      "x_vec_for_f =  [9.99435342e-01 8.10800195e-02 4.58083500e-05]\n"
     ]
    },
    {
     "name": "stderr",
     "output_type": "stream",
     "text": [
      " 31%|███       | 166/534 [00:26<00:57,  6.42it/s]"
     ]
    },
    {
     "name": "stdout",
     "output_type": "stream",
     "text": [
      "x_vec_for_f =  [9.99441559e-01 8.10805239e-02 4.53039550e-05]\n"
     ]
    },
    {
     "name": "stderr",
     "output_type": "stream",
     "text": [
      " 31%|███▏      | 167/534 [00:26<00:56,  6.44it/s]"
     ]
    },
    {
     "name": "stdout",
     "output_type": "stream",
     "text": [
      "x_vec_for_f =  [9.99447556e-01 8.10810104e-02 4.48174391e-05]\n"
     ]
    },
    {
     "name": "stderr",
     "output_type": "stream",
     "text": [
      " 31%|███▏      | 168/534 [00:26<00:56,  6.46it/s]"
     ]
    },
    {
     "name": "stdout",
     "output_type": "stream",
     "text": [
      "x_vec_for_f =  [9.99453344e-01 8.10814799e-02 4.43479149e-05]\n"
     ]
    },
    {
     "name": "stderr",
     "output_type": "stream",
     "text": [
      " 32%|███▏      | 169/534 [00:26<00:56,  6.45it/s]"
     ]
    },
    {
     "name": "stdout",
     "output_type": "stream",
     "text": [
      "x_vec_for_f =  [9.99458930e-01 8.10819331e-02 4.38947410e-05]\n"
     ]
    },
    {
     "name": "stderr",
     "output_type": "stream",
     "text": [
      " 32%|███▏      | 170/534 [00:26<00:56,  6.44it/s]"
     ]
    },
    {
     "name": "stdout",
     "output_type": "stream",
     "text": [
      "x_vec_for_f =  [9.99464324e-01 8.10823707e-02 4.34571466e-05]\n"
     ]
    },
    {
     "name": "stderr",
     "output_type": "stream",
     "text": [
      " 32%|███▏      | 171/534 [00:26<00:56,  6.41it/s]"
     ]
    },
    {
     "name": "stdout",
     "output_type": "stream",
     "text": [
      "x_vec_for_f =  [9.99469535e-01 8.10827934e-02 4.30343968e-05]\n"
     ]
    },
    {
     "name": "stderr",
     "output_type": "stream",
     "text": [
      " 32%|███▏      | 172/534 [00:27<00:58,  6.18it/s]"
     ]
    },
    {
     "name": "stdout",
     "output_type": "stream",
     "text": [
      "x_vec_for_f =  [9.99474572e-01 8.10832020e-02 4.26257986e-05]\n"
     ]
    },
    {
     "name": "stderr",
     "output_type": "stream",
     "text": [
      " 32%|███▏      | 173/534 [00:27<00:58,  6.12it/s]"
     ]
    },
    {
     "name": "stdout",
     "output_type": "stream",
     "text": [
      "x_vec_for_f =  [9.99479442e-01 8.10835971e-02 4.22306979e-05]\n"
     ]
    },
    {
     "name": "stderr",
     "output_type": "stream",
     "text": [
      " 33%|███▎      | 174/534 [00:27<00:58,  6.19it/s]"
     ]
    },
    {
     "name": "stdout",
     "output_type": "stream",
     "text": [
      "x_vec_for_f =  [9.99484153e-01 8.10839793e-02 4.18484768e-05]\n"
     ]
    },
    {
     "name": "stderr",
     "output_type": "stream",
     "text": [
      " 33%|███▎      | 175/534 [00:27<00:57,  6.24it/s]"
     ]
    },
    {
     "name": "stdout",
     "output_type": "stream",
     "text": [
      "x_vec_for_f =  [9.99488713e-01 8.10843493e-02 4.14785510e-05]\n"
     ]
    },
    {
     "name": "stderr",
     "output_type": "stream",
     "text": [
      " 33%|███▎      | 176/534 [00:27<00:57,  6.27it/s]"
     ]
    },
    {
     "name": "stdout",
     "output_type": "stream",
     "text": [
      "x_vec_for_f =  [9.99493129e-01 8.10847074e-02 4.11203675e-05]\n"
     ]
    },
    {
     "name": "stderr",
     "output_type": "stream",
     "text": [
      " 33%|███▎      | 177/534 [00:27<00:56,  6.29it/s]"
     ]
    },
    {
     "name": "stdout",
     "output_type": "stream",
     "text": [
      "x_vec_for_f =  [9.99497405e-01 8.10850544e-02 4.07734018e-05]\n"
     ]
    },
    {
     "name": "stderr",
     "output_type": "stream",
     "text": [
      " 33%|███▎      | 178/534 [00:28<00:56,  6.33it/s]"
     ]
    },
    {
     "name": "stdout",
     "output_type": "stream",
     "text": [
      "x_vec_for_f =  [9.99501550e-01 8.10853907e-02 4.04371567e-05]\n"
     ]
    },
    {
     "name": "stderr",
     "output_type": "stream",
     "text": [
      " 34%|███▎      | 179/534 [00:28<00:55,  6.37it/s]"
     ]
    },
    {
     "name": "stdout",
     "output_type": "stream",
     "text": [
      "x_vec_for_f =  [9.99505569e-01 8.10857167e-02 4.01111545e-05]\n"
     ]
    },
    {
     "name": "stderr",
     "output_type": "stream",
     "text": [
      " 34%|███▎      | 180/534 [00:28<00:55,  6.41it/s]"
     ]
    },
    {
     "name": "stdout",
     "output_type": "stream",
     "text": [
      "x_vec_for_f =  [9.99509464e-01 8.10860327e-02 3.97951273e-05]\n"
     ]
    },
    {
     "name": "stderr",
     "output_type": "stream",
     "text": [
      " 34%|███▍      | 181/534 [00:28<00:55,  6.41it/s]"
     ]
    },
    {
     "name": "stdout",
     "output_type": "stream",
     "text": [
      "x_vec_for_f =  [9.99513242e-01 8.10863391e-02 3.94886721e-05]\n"
     ]
    },
    {
     "name": "stderr",
     "output_type": "stream",
     "text": [
      " 34%|███▍      | 182/534 [00:28<00:54,  6.40it/s]"
     ]
    },
    {
     "name": "stdout",
     "output_type": "stream",
     "text": [
      "x_vec_for_f =  [9.99516906e-01 8.10866364e-02 3.91913888e-05]\n"
     ]
    },
    {
     "name": "stderr",
     "output_type": "stream",
     "text": [
      " 34%|███▍      | 183/534 [00:28<00:54,  6.39it/s]"
     ]
    },
    {
     "name": "stdout",
     "output_type": "stream",
     "text": [
      "x_vec_for_f =  [9.99520462e-01 8.10869249e-02 3.89028957e-05]\n"
     ]
    },
    {
     "name": "stderr",
     "output_type": "stream",
     "text": [
      " 34%|███▍      | 184/534 [00:28<00:54,  6.40it/s]"
     ]
    },
    {
     "name": "stdout",
     "output_type": "stream",
     "text": [
      "x_vec_for_f =  [9.99523915e-01 8.10872050e-02 3.86228292e-05]\n"
     ]
    },
    {
     "name": "stderr",
     "output_type": "stream",
     "text": [
      " 35%|███▍      | 185/534 [00:29<00:54,  6.41it/s]"
     ]
    },
    {
     "name": "stdout",
     "output_type": "stream",
     "text": [
      "x_vec_for_f =  [9.99527267e-01 8.10874770e-02 3.83508425e-05]\n"
     ]
    },
    {
     "name": "stderr",
     "output_type": "stream",
     "text": [
      " 35%|███▍      | 186/534 [00:29<00:54,  6.39it/s]"
     ]
    },
    {
     "name": "stdout",
     "output_type": "stream",
     "text": [
      "x_vec_for_f =  [9.99530524e-01 8.10877412e-02 3.80866044e-05]\n"
     ]
    },
    {
     "name": "stderr",
     "output_type": "stream",
     "text": [
      " 35%|███▌      | 187/534 [00:29<00:54,  6.40it/s]"
     ]
    },
    {
     "name": "stdout",
     "output_type": "stream",
     "text": [
      "x_vec_for_f =  [9.99533690e-01 8.10879980e-02 3.78297984e-05]\n"
     ]
    },
    {
     "name": "stderr",
     "output_type": "stream",
     "text": [
      " 35%|███▌      | 188/534 [00:29<00:54,  6.40it/s]"
     ]
    },
    {
     "name": "stdout",
     "output_type": "stream",
     "text": [
      "x_vec_for_f =  [9.99536767e-01 8.10882477e-02 3.75801217e-05]\n"
     ]
    },
    {
     "name": "stderr",
     "output_type": "stream",
     "text": [
      " 35%|███▌      | 189/534 [00:29<00:53,  6.41it/s]"
     ]
    },
    {
     "name": "stdout",
     "output_type": "stream",
     "text": [
      "x_vec_for_f =  [9.99539761e-01 8.10884905e-02 3.73372846e-05]\n"
     ]
    },
    {
     "name": "stderr",
     "output_type": "stream",
     "text": [
      " 36%|███▌      | 190/534 [00:29<00:53,  6.43it/s]"
     ]
    },
    {
     "name": "stdout",
     "output_type": "stream",
     "text": [
      "x_vec_for_f =  [9.99542673e-01 8.10887268e-02 3.71010094e-05]\n"
     ]
    },
    {
     "name": "stderr",
     "output_type": "stream",
     "text": [
      " 36%|███▌      | 191/534 [00:30<00:53,  6.40it/s]"
     ]
    },
    {
     "name": "stdout",
     "output_type": "stream",
     "text": [
      "x_vec_for_f =  [9.99545506e-01 8.10889566e-02 3.68712176e-05]\n"
     ]
    },
    {
     "name": "stderr",
     "output_type": "stream",
     "text": [
      " 36%|███▌      | 192/534 [00:30<00:53,  6.40it/s]"
     ]
    },
    {
     "name": "stdout",
     "output_type": "stream",
     "text": [
      "x_vec_for_f =  [9.99548261e-01 8.10891801e-02 3.66476813e-05]\n"
     ]
    },
    {
     "name": "stderr",
     "output_type": "stream",
     "text": [
      " 36%|███▌      | 193/534 [00:30<00:53,  6.41it/s]"
     ]
    },
    {
     "name": "stdout",
     "output_type": "stream",
     "text": [
      "x_vec_for_f =  [9.99550943e-01 8.10893977e-02 3.64301613e-05]\n"
     ]
    },
    {
     "name": "stderr",
     "output_type": "stream",
     "text": [
      " 36%|███▋      | 194/534 [00:30<00:53,  6.39it/s]"
     ]
    },
    {
     "name": "stdout",
     "output_type": "stream",
     "text": [
      "x_vec_for_f =  [9.99553552e-01 8.10896094e-02 3.62184273e-05]\n"
     ]
    },
    {
     "name": "stderr",
     "output_type": "stream",
     "text": [
      " 37%|███▋      | 195/534 [00:30<00:52,  6.40it/s]"
     ]
    },
    {
     "name": "stdout",
     "output_type": "stream",
     "text": [
      "x_vec_for_f =  [9.99556094e-01 8.10898156e-02 3.60122580e-05]\n"
     ]
    },
    {
     "name": "stderr",
     "output_type": "stream",
     "text": [
      " 37%|███▋      | 196/534 [00:30<00:52,  6.41it/s]"
     ]
    },
    {
     "name": "stdout",
     "output_type": "stream",
     "text": [
      "x_vec_for_f =  [9.99558569e-01 8.10900164e-02 3.58114406e-05]\n"
     ]
    },
    {
     "name": "stderr",
     "output_type": "stream",
     "text": [
      " 37%|███▋      | 197/534 [00:31<00:52,  6.42it/s]"
     ]
    },
    {
     "name": "stdout",
     "output_type": "stream",
     "text": [
      "x_vec_for_f =  [9.99560981e-01 8.10902120e-02 3.56157705e-05]\n"
     ]
    },
    {
     "name": "stderr",
     "output_type": "stream",
     "text": [
      " 37%|███▋      | 198/534 [00:31<00:52,  6.40it/s]"
     ]
    },
    {
     "name": "stdout",
     "output_type": "stream",
     "text": [
      "x_vec_for_f =  [9.99563332e-01 8.10904028e-02 3.54250506e-05]\n"
     ]
    },
    {
     "name": "stderr",
     "output_type": "stream",
     "text": [
      " 37%|███▋      | 199/534 [00:31<00:52,  6.41it/s]"
     ]
    },
    {
     "name": "stdout",
     "output_type": "stream",
     "text": [
      "x_vec_for_f =  [9.99565624e-01 8.10905887e-02 3.52390910e-05]\n"
     ]
    },
    {
     "name": "stderr",
     "output_type": "stream",
     "text": [
      " 37%|███▋      | 200/534 [00:31<00:52,  6.42it/s]"
     ]
    },
    {
     "name": "stdout",
     "output_type": "stream",
     "text": [
      "x_vec_for_f =  [9.99567860e-01 8.10907701e-02 3.50577082e-05]\n"
     ]
    },
    {
     "name": "stderr",
     "output_type": "stream",
     "text": [
      " 38%|███▊      | 201/534 [00:31<00:52,  6.38it/s]"
     ]
    },
    {
     "name": "stdout",
     "output_type": "stream",
     "text": [
      "x_vec_for_f =  [9.99570042e-01 8.10909471e-02 3.48807256e-05]\n"
     ]
    },
    {
     "name": "stderr",
     "output_type": "stream",
     "text": [
      " 38%|███▊      | 202/534 [00:31<00:51,  6.41it/s]"
     ]
    },
    {
     "name": "stdout",
     "output_type": "stream",
     "text": [
      "x_vec_for_f =  [9.99572169e-01 8.10911197e-02 3.47081532e-05]\n"
     ]
    },
    {
     "name": "stderr",
     "output_type": "stream",
     "text": [
      " 38%|███▊      | 203/534 [00:31<00:51,  6.42it/s]"
     ]
    },
    {
     "name": "stdout",
     "output_type": "stream",
     "text": [
      "x_vec_for_f =  [9.99574243e-01 8.10912880e-02 3.45398595e-05]\n"
     ]
    },
    {
     "name": "stderr",
     "output_type": "stream",
     "text": [
      " 38%|███▊      | 204/534 [00:32<00:51,  6.40it/s]"
     ]
    },
    {
     "name": "stdout",
     "output_type": "stream",
     "text": [
      "x_vec_for_f =  [9.99576267e-01 8.10914521e-02 3.43756911e-05]\n"
     ]
    },
    {
     "name": "stderr",
     "output_type": "stream",
     "text": [
      " 38%|███▊      | 205/534 [00:32<00:51,  6.41it/s]"
     ]
    },
    {
     "name": "stdout",
     "output_type": "stream",
     "text": [
      "x_vec_for_f =  [9.99578242e-01 8.10916123e-02 3.42154988e-05]\n"
     ]
    },
    {
     "name": "stderr",
     "output_type": "stream",
     "text": [
      " 39%|███▊      | 206/534 [00:32<00:51,  6.38it/s]"
     ]
    },
    {
     "name": "stdout",
     "output_type": "stream",
     "text": [
      "x_vec_for_f =  [9.99580169e-01 8.10917687e-02 3.40591386e-05]\n"
     ]
    },
    {
     "name": "stderr",
     "output_type": "stream",
     "text": [
      " 39%|███▉      | 207/534 [00:32<00:53,  6.16it/s]"
     ]
    },
    {
     "name": "stdout",
     "output_type": "stream",
     "text": [
      "x_vec_for_f =  [9.99582051e-01 8.10919213e-02 3.39064708e-05]\n"
     ]
    },
    {
     "name": "stderr",
     "output_type": "stream",
     "text": [
      " 39%|███▉      | 208/534 [00:32<00:52,  6.16it/s]"
     ]
    },
    {
     "name": "stdout",
     "output_type": "stream",
     "text": [
      "x_vec_for_f =  [9.99583889e-01 8.10920705e-02 3.37573604e-05]\n"
     ]
    },
    {
     "name": "stderr",
     "output_type": "stream",
     "text": [
      " 39%|███▉      | 209/534 [00:32<00:52,  6.24it/s]"
     ]
    },
    {
     "name": "stdout",
     "output_type": "stream",
     "text": [
      "x_vec_for_f =  [9.99585685e-01 8.10922161e-02 3.36116762e-05]\n"
     ]
    },
    {
     "name": "stderr",
     "output_type": "stream",
     "text": [
      " 39%|███▉      | 210/534 [00:33<00:51,  6.29it/s]"
     ]
    },
    {
     "name": "stdout",
     "output_type": "stream",
     "text": [
      "x_vec_for_f =  [9.99587440e-01 8.10923585e-02 3.34692913e-05]\n"
     ]
    },
    {
     "name": "stderr",
     "output_type": "stream",
     "text": [
      " 40%|███▉      | 211/534 [00:33<00:50,  6.37it/s]"
     ]
    },
    {
     "name": "stdout",
     "output_type": "stream",
     "text": [
      "x_vec_for_f =  [9.99589156e-01 8.10924977e-02 3.33300821e-05]\n"
     ]
    },
    {
     "name": "stderr",
     "output_type": "stream",
     "text": [
      " 40%|███▉      | 212/534 [00:33<00:50,  6.43it/s]"
     ]
    },
    {
     "name": "stdout",
     "output_type": "stream",
     "text": [
      "x_vec_for_f =  [9.99590834e-01 8.10926339e-02 3.31939288e-05]\n"
     ]
    },
    {
     "name": "stderr",
     "output_type": "stream",
     "text": [
      " 40%|███▉      | 213/534 [00:33<00:49,  6.45it/s]"
     ]
    },
    {
     "name": "stdout",
     "output_type": "stream",
     "text": [
      "x_vec_for_f =  [9.99592474e-01 8.10927669e-02 3.30608882e-05]\n"
     ]
    },
    {
     "name": "stderr",
     "output_type": "stream",
     "text": [
      " 40%|████      | 214/534 [00:33<00:49,  6.46it/s]"
     ]
    },
    {
     "name": "stdout",
     "output_type": "stream",
     "text": [
      "x_vec_for_f =  [9.99594076e-01 8.10928969e-02 3.29308851e-05]\n"
     ]
    },
    {
     "name": "stderr",
     "output_type": "stream",
     "text": [
      " 40%|████      | 215/534 [00:33<00:49,  6.48it/s]"
     ]
    },
    {
     "name": "stdout",
     "output_type": "stream",
     "text": [
      "x_vec_for_f =  [9.99595643e-01 8.10930240e-02 3.28038157e-05]\n"
     ]
    },
    {
     "name": "stderr",
     "output_type": "stream",
     "text": [
      " 40%|████      | 216/534 [00:34<00:49,  6.47it/s]"
     ]
    },
    {
     "name": "stdout",
     "output_type": "stream",
     "text": [
      "x_vec_for_f =  [9.99597174e-01 8.10931482e-02 3.26795776e-05]\n"
     ]
    },
    {
     "name": "stderr",
     "output_type": "stream",
     "text": [
      " 41%|████      | 217/534 [00:34<00:48,  6.48it/s]"
     ]
    },
    {
     "name": "stdout",
     "output_type": "stream",
     "text": [
      "x_vec_for_f =  [9.99598672e-01 8.10932697e-02 3.25580719e-05]\n"
     ]
    },
    {
     "name": "stderr",
     "output_type": "stream",
     "text": [
      " 41%|████      | 218/534 [00:34<00:48,  6.50it/s]"
     ]
    },
    {
     "name": "stdout",
     "output_type": "stream",
     "text": [
      "x_vec_for_f =  [9.99600137e-01 8.10933886e-02 3.24392017e-05]\n"
     ]
    },
    {
     "name": "stderr",
     "output_type": "stream",
     "text": [
      " 41%|████      | 219/534 [00:34<00:48,  6.53it/s]"
     ]
    },
    {
     "name": "stdout",
     "output_type": "stream",
     "text": [
      "x_vec_for_f =  [9.99601571e-01 8.10935049e-02 3.23228731e-05]\n"
     ]
    },
    {
     "name": "stderr",
     "output_type": "stream",
     "text": [
      " 41%|████      | 220/534 [00:34<00:48,  6.51it/s]"
     ]
    },
    {
     "name": "stdout",
     "output_type": "stream",
     "text": [
      "x_vec_for_f =  [9.99602975e-01 8.10936188e-02 3.22089944e-05]\n"
     ]
    },
    {
     "name": "stderr",
     "output_type": "stream",
     "text": [
      " 41%|████▏     | 221/534 [00:34<00:48,  6.50it/s]"
     ]
    },
    {
     "name": "stdout",
     "output_type": "stream",
     "text": [
      "x_vec_for_f =  [9.99604349e-01 8.10937303e-02 3.20974759e-05]\n"
     ]
    },
    {
     "name": "stderr",
     "output_type": "stream",
     "text": [
      " 42%|████▏     | 222/534 [00:34<00:48,  6.49it/s]"
     ]
    },
    {
     "name": "stdout",
     "output_type": "stream",
     "text": [
      "x_vec_for_f =  [9.99605696e-01 8.10938396e-02 3.19882302e-05]\n"
     ]
    },
    {
     "name": "stderr",
     "output_type": "stream",
     "text": [
      " 42%|████▏     | 223/534 [00:35<00:47,  6.50it/s]"
     ]
    },
    {
     "name": "stdout",
     "output_type": "stream",
     "text": [
      "x_vec_for_f =  [9.99607016e-01 8.10939466e-02 3.18811718e-05]\n"
     ]
    },
    {
     "name": "stderr",
     "output_type": "stream",
     "text": [
      " 42%|████▏     | 224/534 [00:35<00:47,  6.47it/s]"
     ]
    },
    {
     "name": "stdout",
     "output_type": "stream",
     "text": [
      "x_vec_for_f =  [9.99608307e-01 8.10940514e-02 3.17763794e-05]\n"
     ]
    },
    {
     "name": "stderr",
     "output_type": "stream",
     "text": [
      " 42%|████▏     | 225/534 [00:35<00:47,  6.48it/s]"
     ]
    },
    {
     "name": "stdout",
     "output_type": "stream",
     "text": [
      "x_vec_for_f =  [9.99609572e-01 8.10941540e-02 3.16738151e-05]\n"
     ]
    },
    {
     "name": "stderr",
     "output_type": "stream",
     "text": [
      " 42%|████▏     | 226/534 [00:35<00:47,  6.49it/s]"
     ]
    },
    {
     "name": "stdout",
     "output_type": "stream",
     "text": [
      "x_vec_for_f =  [9.99610809e-01 8.10942544e-02 3.15734054e-05]\n"
     ]
    },
    {
     "name": "stderr",
     "output_type": "stream",
     "text": [
      " 43%|████▎     | 227/534 [00:35<00:47,  6.49it/s]"
     ]
    },
    {
     "name": "stdout",
     "output_type": "stream",
     "text": [
      "x_vec_for_f =  [9.99612021e-01 8.10943527e-02 3.14750771e-05]\n"
     ]
    },
    {
     "name": "stderr",
     "output_type": "stream",
     "text": [
      " 43%|████▎     | 228/534 [00:35<00:46,  6.51it/s]"
     ]
    },
    {
     "name": "stdout",
     "output_type": "stream",
     "text": [
      "x_vec_for_f =  [9.99613209e-01 8.10944491e-02 3.13787587e-05]\n"
     ]
    },
    {
     "name": "stderr",
     "output_type": "stream",
     "text": [
      " 43%|████▎     | 229/534 [00:35<00:46,  6.51it/s]"
     ]
    },
    {
     "name": "stdout",
     "output_type": "stream",
     "text": [
      "x_vec_for_f =  [9.99614372e-01 8.10945434e-02 3.12843803e-05]\n"
     ]
    },
    {
     "name": "stderr",
     "output_type": "stream",
     "text": [
      " 43%|████▎     | 230/534 [00:36<00:46,  6.50it/s]"
     ]
    },
    {
     "name": "stdout",
     "output_type": "stream",
     "text": [
      "x_vec_for_f =  [9.99615512e-01 8.10946359e-02 3.11918735e-05]\n"
     ]
    },
    {
     "name": "stderr",
     "output_type": "stream",
     "text": [
      " 43%|████▎     | 231/534 [00:36<00:46,  6.48it/s]"
     ]
    },
    {
     "name": "stdout",
     "output_type": "stream",
     "text": [
      "x_vec_for_f =  [9.99616630e-01 8.10947266e-02 3.11011711e-05]\n"
     ]
    },
    {
     "name": "stderr",
     "output_type": "stream",
     "text": [
      " 43%|████▎     | 232/534 [00:36<00:47,  6.41it/s]"
     ]
    },
    {
     "name": "stdout",
     "output_type": "stream",
     "text": [
      "x_vec_for_f =  [9.99617727e-01 8.10948156e-02 3.10122073e-05]\n"
     ]
    },
    {
     "name": "stderr",
     "output_type": "stream",
     "text": [
      " 44%|████▎     | 233/534 [00:36<00:46,  6.41it/s]"
     ]
    },
    {
     "name": "stdout",
     "output_type": "stream",
     "text": [
      "x_vec_for_f =  [9.99618803e-01 8.10949029e-02 3.09249174e-05]\n"
     ]
    },
    {
     "name": "stderr",
     "output_type": "stream",
     "text": [
      " 44%|████▍     | 234/534 [00:36<00:46,  6.43it/s]"
     ]
    },
    {
     "name": "stdout",
     "output_type": "stream",
     "text": [
      "x_vec_for_f =  [9.99619859e-01 8.10949886e-02 3.08392378e-05]\n"
     ]
    },
    {
     "name": "stderr",
     "output_type": "stream",
     "text": [
      " 44%|████▍     | 235/534 [00:36<00:46,  6.45it/s]"
     ]
    },
    {
     "name": "stdout",
     "output_type": "stream",
     "text": [
      "x_vec_for_f =  [9.99620894e-01 8.10950726e-02 3.07552590e-05]\n"
     ]
    },
    {
     "name": "stderr",
     "output_type": "stream",
     "text": [
      " 44%|████▍     | 236/534 [00:37<00:46,  6.47it/s]"
     ]
    },
    {
     "name": "stdout",
     "output_type": "stream",
     "text": [
      "x_vec_for_f =  [9.99621909e-01 8.10951548e-02 3.06729666e-05]\n"
     ]
    },
    {
     "name": "stderr",
     "output_type": "stream",
     "text": [
      " 44%|████▍     | 237/534 [00:37<00:46,  6.45it/s]"
     ]
    },
    {
     "name": "stdout",
     "output_type": "stream",
     "text": [
      "x_vec_for_f =  [9.99622903e-01 8.10952355e-02 3.05923061e-05]\n"
     ]
    },
    {
     "name": "stderr",
     "output_type": "stream",
     "text": [
      " 45%|████▍     | 238/534 [00:37<00:46,  6.43it/s]"
     ]
    },
    {
     "name": "stdout",
     "output_type": "stream",
     "text": [
      "x_vec_for_f =  [9.99623878e-01 8.10953146e-02 3.05132229e-05]\n"
     ]
    },
    {
     "name": "stderr",
     "output_type": "stream",
     "text": [
      " 45%|████▍     | 239/534 [00:37<00:46,  6.39it/s]"
     ]
    },
    {
     "name": "stdout",
     "output_type": "stream",
     "text": [
      "x_vec_for_f =  [9.99624834e-01 8.10953922e-02 3.04356636e-05]\n"
     ]
    },
    {
     "name": "stderr",
     "output_type": "stream",
     "text": [
      " 45%|████▍     | 240/534 [00:37<00:46,  6.36it/s]"
     ]
    },
    {
     "name": "stdout",
     "output_type": "stream",
     "text": [
      "x_vec_for_f =  [9.99625772e-01 8.10954682e-02 3.03595755e-05]\n"
     ]
    },
    {
     "name": "stderr",
     "output_type": "stream",
     "text": [
      " 45%|████▌     | 241/534 [00:37<00:46,  6.32it/s]"
     ]
    },
    {
     "name": "stdout",
     "output_type": "stream",
     "text": [
      "x_vec_for_f =  [9.99626692e-01 8.10955429e-02 3.02849069e-05]\n"
     ]
    },
    {
     "name": "stderr",
     "output_type": "stream",
     "text": [
      " 45%|████▌     | 242/534 [00:38<00:47,  6.12it/s]"
     ]
    },
    {
     "name": "stdout",
     "output_type": "stream",
     "text": [
      "x_vec_for_f =  [9.99627596e-01 8.10956162e-02 3.02116068e-05]\n"
     ]
    },
    {
     "name": "stderr",
     "output_type": "stream",
     "text": [
      " 46%|████▌     | 243/534 [00:38<00:47,  6.08it/s]"
     ]
    },
    {
     "name": "stdout",
     "output_type": "stream",
     "text": [
      "x_vec_for_f =  [9.99628483e-01 8.10956882e-02 3.01396250e-05]\n"
     ]
    },
    {
     "name": "stderr",
     "output_type": "stream",
     "text": [
      " 46%|████▌     | 244/534 [00:38<00:47,  6.15it/s]"
     ]
    },
    {
     "name": "stdout",
     "output_type": "stream",
     "text": [
      "x_vec_for_f =  [9.99629355e-01 8.10957589e-02 3.00689119e-05]\n"
     ]
    },
    {
     "name": "stderr",
     "output_type": "stream",
     "text": [
      " 46%|████▌     | 245/534 [00:38<00:46,  6.20it/s]"
     ]
    },
    {
     "name": "stdout",
     "output_type": "stream",
     "text": [
      "x_vec_for_f =  [9.99630211e-01 8.10958284e-02 2.99994184e-05]\n"
     ]
    },
    {
     "name": "stderr",
     "output_type": "stream",
     "text": [
      " 46%|████▌     | 246/534 [00:38<00:46,  6.23it/s]"
     ]
    },
    {
     "name": "stdout",
     "output_type": "stream",
     "text": [
      "x_vec_for_f =  [9.99631052e-01 8.10958966e-02 2.99312375e-05]\n"
     ]
    },
    {
     "name": "stderr",
     "output_type": "stream",
     "text": [
      " 46%|████▋     | 247/534 [00:38<00:45,  6.26it/s]"
     ]
    },
    {
     "name": "stdout",
     "output_type": "stream",
     "text": [
      "x_vec_for_f =  [9.99631876e-01 8.10959634e-02 2.98643723e-05]\n"
     ]
    },
    {
     "name": "stderr",
     "output_type": "stream",
     "text": [
      " 46%|████▋     | 248/534 [00:39<00:45,  6.27it/s]"
     ]
    },
    {
     "name": "stdout",
     "output_type": "stream",
     "text": [
      "x_vec_for_f =  [9.99632684e-01 8.10960290e-02 2.97987807e-05]\n"
     ]
    },
    {
     "name": "stderr",
     "output_type": "stream",
     "text": [
      " 47%|████▋     | 249/534 [00:39<00:45,  6.28it/s]"
     ]
    },
    {
     "name": "stdout",
     "output_type": "stream",
     "text": [
      "x_vec_for_f =  [9.99633478e-01 8.10960934e-02 2.97344207e-05]\n"
     ]
    },
    {
     "name": "stderr",
     "output_type": "stream",
     "text": [
      " 47%|████▋     | 250/534 [00:39<00:45,  6.30it/s]"
     ]
    },
    {
     "name": "stdout",
     "output_type": "stream",
     "text": [
      "x_vec_for_f =  [9.99634256e-01 8.10961566e-02 2.96712507e-05]\n"
     ]
    },
    {
     "name": "stderr",
     "output_type": "stream",
     "text": [
      " 47%|████▋     | 251/534 [00:39<00:44,  6.34it/s]"
     ]
    },
    {
     "name": "stdout",
     "output_type": "stream",
     "text": [
      "x_vec_for_f =  [9.99635021e-01 8.10962186e-02 2.96092298e-05]\n"
     ]
    },
    {
     "name": "stderr",
     "output_type": "stream",
     "text": [
      " 47%|████▋     | 252/534 [00:39<00:44,  6.39it/s]"
     ]
    },
    {
     "name": "stdout",
     "output_type": "stream",
     "text": [
      "x_vec_for_f =  [9.99635772e-01 8.10962795e-02 2.95483175e-05]\n"
     ]
    },
    {
     "name": "stderr",
     "output_type": "stream",
     "text": [
      " 47%|████▋     | 253/534 [00:39<00:43,  6.43it/s]"
     ]
    },
    {
     "name": "stdout",
     "output_type": "stream",
     "text": [
      "x_vec_for_f =  [9.99636509e-01 8.10963393e-02 2.94884737e-05]\n"
     ]
    },
    {
     "name": "stderr",
     "output_type": "stream",
     "text": [
      " 48%|████▊     | 254/534 [00:39<00:43,  6.45it/s]"
     ]
    },
    {
     "name": "stdout",
     "output_type": "stream",
     "text": [
      "x_vec_for_f =  [9.99637234e-01 8.10963982e-02 2.94296588e-05]\n"
     ]
    },
    {
     "name": "stderr",
     "output_type": "stream",
     "text": [
      " 48%|████▊     | 255/534 [00:40<00:43,  6.42it/s]"
     ]
    },
    {
     "name": "stdout",
     "output_type": "stream",
     "text": [
      "x_vec_for_f =  [9.99637947e-01 8.10964560e-02 2.93718333e-05]\n"
     ]
    },
    {
     "name": "stderr",
     "output_type": "stream",
     "text": [
      " 48%|████▊     | 256/534 [00:40<00:43,  6.39it/s]"
     ]
    },
    {
     "name": "stdout",
     "output_type": "stream",
     "text": [
      "x_vec_for_f =  [9.99638648e-01 8.10965129e-02 2.93149581e-05]\n"
     ]
    },
    {
     "name": "stderr",
     "output_type": "stream",
     "text": [
      " 48%|████▊     | 257/534 [00:40<00:43,  6.43it/s]"
     ]
    },
    {
     "name": "stdout",
     "output_type": "stream",
     "text": [
      "x_vec_for_f =  [9.99639337e-01 8.10965687e-02 2.92591244e-05]\n"
     ]
    },
    {
     "name": "stderr",
     "output_type": "stream",
     "text": [
      " 48%|████▊     | 258/534 [00:40<00:42,  6.44it/s]"
     ]
    },
    {
     "name": "stdout",
     "output_type": "stream",
     "text": [
      "x_vec_for_f =  [9.99640012e-01 8.10966235e-02 2.92043476e-05]\n"
     ]
    },
    {
     "name": "stderr",
     "output_type": "stream",
     "text": [
      " 49%|████▊     | 259/534 [00:40<00:42,  6.46it/s]"
     ]
    },
    {
     "name": "stdout",
     "output_type": "stream",
     "text": [
      "x_vec_for_f =  [9.99640674e-01 8.10966772e-02 2.91505943e-05]\n"
     ]
    },
    {
     "name": "stderr",
     "output_type": "stream",
     "text": [
      " 49%|████▊     | 260/534 [00:40<00:42,  6.44it/s]"
     ]
    },
    {
     "name": "stdout",
     "output_type": "stream",
     "text": [
      "x_vec_for_f =  [9.99641325e-01 8.10967300e-02 2.90978309e-05]\n"
     ]
    },
    {
     "name": "stderr",
     "output_type": "stream",
     "text": [
      " 49%|████▉     | 261/534 [00:41<00:42,  6.46it/s]"
     ]
    },
    {
     "name": "stdout",
     "output_type": "stream",
     "text": [
      "x_vec_for_f =  [9.99641963e-01 8.10967818e-02 2.90460240e-05]\n"
     ]
    },
    {
     "name": "stderr",
     "output_type": "stream",
     "text": [
      " 49%|████▉     | 262/534 [00:41<00:42,  6.47it/s]"
     ]
    },
    {
     "name": "stdout",
     "output_type": "stream",
     "text": [
      "x_vec_for_f =  [9.99642591e-01 8.10968327e-02 2.89951407e-05]\n"
     ]
    },
    {
     "name": "stderr",
     "output_type": "stream",
     "text": [
      " 49%|████▉     | 263/534 [00:41<00:41,  6.49it/s]"
     ]
    },
    {
     "name": "stdout",
     "output_type": "stream",
     "text": [
      "x_vec_for_f =  [9.99643207e-01 8.10968827e-02 2.89451483e-05]\n"
     ]
    },
    {
     "name": "stderr",
     "output_type": "stream",
     "text": [
      " 49%|████▉     | 264/534 [00:41<00:41,  6.48it/s]"
     ]
    },
    {
     "name": "stdout",
     "output_type": "stream",
     "text": [
      "x_vec_for_f =  [9.99643812e-01 8.10969318e-02 2.88960143e-05]\n"
     ]
    },
    {
     "name": "stderr",
     "output_type": "stream",
     "text": [
      " 50%|████▉     | 265/534 [00:41<00:41,  6.47it/s]"
     ]
    },
    {
     "name": "stdout",
     "output_type": "stream",
     "text": [
      "x_vec_for_f =  [9.99644408e-01 8.10969801e-02 2.88477064e-05]\n"
     ]
    },
    {
     "name": "stderr",
     "output_type": "stream",
     "text": [
      " 50%|████▉     | 266/534 [00:41<00:41,  6.47it/s]"
     ]
    },
    {
     "name": "stdout",
     "output_type": "stream",
     "text": [
      "x_vec_for_f =  [9.99644994e-01 8.10970276e-02 2.88001923e-05]\n"
     ]
    },
    {
     "name": "stderr",
     "output_type": "stream",
     "text": [
      " 50%|█████     | 267/534 [00:41<00:41,  6.47it/s]"
     ]
    },
    {
     "name": "stdout",
     "output_type": "stream",
     "text": [
      "x_vec_for_f =  [9.99645570e-01 8.10970744e-02 2.87534398e-05]\n"
     ]
    },
    {
     "name": "stderr",
     "output_type": "stream",
     "text": [
      " 50%|█████     | 268/534 [00:42<00:41,  6.44it/s]"
     ]
    },
    {
     "name": "stdout",
     "output_type": "stream",
     "text": [
      "x_vec_for_f =  [9.99646136e-01 8.10971203e-02 2.87075361e-05]\n"
     ]
    },
    {
     "name": "stderr",
     "output_type": "stream",
     "text": [
      " 50%|█████     | 269/534 [00:42<00:40,  6.47it/s]"
     ]
    },
    {
     "name": "stdout",
     "output_type": "stream",
     "text": [
      "x_vec_for_f =  [9.99646691e-01 8.10971653e-02 2.86625054e-05]\n"
     ]
    },
    {
     "name": "stderr",
     "output_type": "stream",
     "text": [
      " 51%|█████     | 270/534 [00:42<00:40,  6.45it/s]"
     ]
    },
    {
     "name": "stdout",
     "output_type": "stream",
     "text": [
      "x_vec_for_f =  [9.99647235e-01 8.10972095e-02 2.86183201e-05]\n"
     ]
    },
    {
     "name": "stderr",
     "output_type": "stream",
     "text": [
      " 51%|█████     | 271/534 [00:42<00:40,  6.47it/s]"
     ]
    },
    {
     "name": "stdout",
     "output_type": "stream",
     "text": [
      "x_vec_for_f =  [9.99647770e-01 8.10972529e-02 2.85749523e-05]\n"
     ]
    },
    {
     "name": "stderr",
     "output_type": "stream",
     "text": [
      " 51%|█████     | 272/534 [00:42<00:40,  6.46it/s]"
     ]
    },
    {
     "name": "stdout",
     "output_type": "stream",
     "text": [
      "x_vec_for_f =  [9.99648295e-01 8.10972954e-02 2.85323746e-05]\n"
     ]
    },
    {
     "name": "stderr",
     "output_type": "stream",
     "text": [
      " 51%|█████     | 273/534 [00:42<00:40,  6.45it/s]"
     ]
    },
    {
     "name": "stdout",
     "output_type": "stream",
     "text": [
      "x_vec_for_f =  [9.99648810e-01 8.10973373e-02 2.84905596e-05]\n"
     ]
    },
    {
     "name": "stderr",
     "output_type": "stream",
     "text": [
      " 51%|█████▏    | 274/534 [00:43<00:40,  6.45it/s]"
     ]
    },
    {
     "name": "stdout",
     "output_type": "stream",
     "text": [
      "x_vec_for_f =  [9.99649317e-01 8.10973783e-02 2.84494803e-05]\n"
     ]
    },
    {
     "name": "stderr",
     "output_type": "stream",
     "text": [
      " 51%|█████▏    | 275/534 [00:43<00:40,  6.41it/s]"
     ]
    },
    {
     "name": "stdout",
     "output_type": "stream",
     "text": [
      "x_vec_for_f =  [9.99649814e-01 8.10974187e-02 2.84091094e-05]\n"
     ]
    },
    {
     "name": "stderr",
     "output_type": "stream",
     "text": [
      " 52%|█████▏    | 276/534 [00:43<00:40,  6.30it/s]"
     ]
    },
    {
     "name": "stdout",
     "output_type": "stream",
     "text": [
      "x_vec_for_f =  [9.99650303e-01 8.10974584e-02 2.83694198e-05]\n"
     ]
    },
    {
     "name": "stderr",
     "output_type": "stream",
     "text": [
      " 52%|█████▏    | 277/534 [00:43<00:41,  6.13it/s]"
     ]
    },
    {
     "name": "stdout",
     "output_type": "stream",
     "text": [
      "x_vec_for_f =  [9.99650785e-01 8.10974974e-02 2.83303845e-05]\n"
     ]
    },
    {
     "name": "stderr",
     "output_type": "stream",
     "text": [
      " 52%|█████▏    | 278/534 [00:43<00:41,  6.12it/s]"
     ]
    },
    {
     "name": "stdout",
     "output_type": "stream",
     "text": [
      "x_vec_for_f =  [9.99651258e-01 8.10975358e-02 2.82919762e-05]\n"
     ]
    },
    {
     "name": "stderr",
     "output_type": "stream",
     "text": [
      " 52%|█████▏    | 279/534 [00:43<00:40,  6.23it/s]"
     ]
    },
    {
     "name": "stdout",
     "output_type": "stream",
     "text": [
      "x_vec_for_f =  [9.99651723e-01 8.10975735e-02 2.82542749e-05]\n"
     ]
    },
    {
     "name": "stderr",
     "output_type": "stream",
     "text": [
      " 52%|█████▏    | 280/534 [00:44<00:40,  6.28it/s]"
     ]
    },
    {
     "name": "stdout",
     "output_type": "stream",
     "text": [
      "x_vec_for_f =  [9.99652178e-01 8.10976105e-02 2.82173124e-05]\n"
     ]
    },
    {
     "name": "stderr",
     "output_type": "stream",
     "text": [
      " 53%|█████▎    | 281/534 [00:44<00:40,  6.30it/s]"
     ]
    },
    {
     "name": "stdout",
     "output_type": "stream",
     "text": [
      "x_vec_for_f =  [9.99652625e-01 8.10976467e-02 2.81810654e-05]\n"
     ]
    },
    {
     "name": "stderr",
     "output_type": "stream",
     "text": [
      " 53%|█████▎    | 282/534 [00:44<00:39,  6.34it/s]"
     ]
    },
    {
     "name": "stdout",
     "output_type": "stream",
     "text": [
      "x_vec_for_f =  [9.99653064e-01 8.10976823e-02 2.81455104e-05]\n"
     ]
    },
    {
     "name": "stderr",
     "output_type": "stream",
     "text": [
      " 53%|█████▎    | 283/534 [00:44<00:39,  6.34it/s]"
     ]
    },
    {
     "name": "stdout",
     "output_type": "stream",
     "text": [
      "x_vec_for_f =  [9.99653494e-01 8.10977172e-02 2.81106240e-05]\n"
     ]
    },
    {
     "name": "stderr",
     "output_type": "stream",
     "text": [
      " 53%|█████▎    | 284/534 [00:44<00:39,  6.35it/s]"
     ]
    },
    {
     "name": "stdout",
     "output_type": "stream",
     "text": [
      "x_vec_for_f =  [9.99653916e-01 8.10977514e-02 2.80763830e-05]\n"
     ]
    },
    {
     "name": "stderr",
     "output_type": "stream",
     "text": [
      " 53%|█████▎    | 285/534 [00:44<00:39,  6.38it/s]"
     ]
    },
    {
     "name": "stdout",
     "output_type": "stream",
     "text": [
      "x_vec_for_f =  [9.99654330e-01 8.10977851e-02 2.80427642e-05]\n"
     ]
    },
    {
     "name": "stderr",
     "output_type": "stream",
     "text": [
      " 54%|█████▎    | 286/534 [00:44<00:39,  6.34it/s]"
     ]
    },
    {
     "name": "stdout",
     "output_type": "stream",
     "text": [
      "x_vec_for_f =  [9.99654737e-01 8.10978181e-02 2.80097443e-05]\n"
     ]
    },
    {
     "name": "stderr",
     "output_type": "stream",
     "text": [
      " 54%|█████▎    | 287/534 [00:45<00:39,  6.33it/s]"
     ]
    },
    {
     "name": "stdout",
     "output_type": "stream",
     "text": [
      "x_vec_for_f =  [9.99655137e-01 8.10978505e-02 2.79772999e-05]\n"
     ]
    },
    {
     "name": "stderr",
     "output_type": "stream",
     "text": [
      " 54%|█████▍    | 288/534 [00:45<00:38,  6.35it/s]"
     ]
    },
    {
     "name": "stdout",
     "output_type": "stream",
     "text": [
      "x_vec_for_f =  [9.99655530e-01 8.10978824e-02 2.79454078e-05]\n"
     ]
    },
    {
     "name": "stderr",
     "output_type": "stream",
     "text": [
      " 54%|█████▍    | 289/534 [00:45<00:38,  6.39it/s]"
     ]
    },
    {
     "name": "stdout",
     "output_type": "stream",
     "text": [
      "x_vec_for_f =  [9.99655917e-01 8.10979138e-02 2.79140444e-05]\n"
     ]
    },
    {
     "name": "stderr",
     "output_type": "stream",
     "text": [
      " 54%|█████▍    | 290/534 [00:45<00:38,  6.40it/s]"
     ]
    },
    {
     "name": "stdout",
     "output_type": "stream",
     "text": [
      "x_vec_for_f =  [9.99656296e-01 8.10979445e-02 2.78832840e-05]\n"
     ]
    },
    {
     "name": "stderr",
     "output_type": "stream",
     "text": [
      " 54%|█████▍    | 291/534 [00:45<00:37,  6.42it/s]"
     ]
    },
    {
     "name": "stdout",
     "output_type": "stream",
     "text": [
      "x_vec_for_f =  [9.99656667e-01 8.10979747e-02 2.78531631e-05]\n"
     ]
    },
    {
     "name": "stderr",
     "output_type": "stream",
     "text": [
      " 55%|█████▍    | 292/534 [00:45<00:37,  6.42it/s]"
     ]
    },
    {
     "name": "stdout",
     "output_type": "stream",
     "text": [
      "x_vec_for_f =  [9.99657031e-01 8.10980042e-02 2.78236611e-05]\n"
     ]
    },
    {
     "name": "stderr",
     "output_type": "stream",
     "text": [
      " 55%|█████▍    | 293/534 [00:46<00:37,  6.43it/s]"
     ]
    },
    {
     "name": "stdout",
     "output_type": "stream",
     "text": [
      "x_vec_for_f =  [9.99657387e-01 8.10980331e-02 2.77947573e-05]\n"
     ]
    },
    {
     "name": "stderr",
     "output_type": "stream",
     "text": [
      " 55%|█████▌    | 294/534 [00:46<00:37,  6.38it/s]"
     ]
    },
    {
     "name": "stdout",
     "output_type": "stream",
     "text": [
      "x_vec_for_f =  [9.99657736e-01 8.10980614e-02 2.77664315e-05]\n"
     ]
    },
    {
     "name": "stderr",
     "output_type": "stream",
     "text": [
      " 55%|█████▌    | 295/534 [00:46<00:37,  6.41it/s]"
     ]
    },
    {
     "name": "stdout",
     "output_type": "stream",
     "text": [
      "x_vec_for_f =  [9.99658079e-01 8.10980892e-02 2.77386633e-05]\n"
     ]
    },
    {
     "name": "stderr",
     "output_type": "stream",
     "text": [
      " 55%|█████▌    | 296/534 [00:46<00:37,  6.42it/s]"
     ]
    },
    {
     "name": "stdout",
     "output_type": "stream",
     "text": [
      "x_vec_for_f =  [9.99658414e-01 8.10981164e-02 2.77114326e-05]\n"
     ]
    },
    {
     "name": "stderr",
     "output_type": "stream",
     "text": [
      " 56%|█████▌    | 297/534 [00:46<00:37,  6.40it/s]"
     ]
    },
    {
     "name": "stdout",
     "output_type": "stream",
     "text": [
      "x_vec_for_f =  [9.99658743e-01 8.10981431e-02 2.76847189e-05]\n"
     ]
    },
    {
     "name": "stderr",
     "output_type": "stream",
     "text": [
      " 56%|█████▌    | 298/534 [00:46<00:36,  6.41it/s]"
     ]
    },
    {
     "name": "stdout",
     "output_type": "stream",
     "text": [
      "x_vec_for_f =  [9.99659067e-01 8.10981693e-02 2.76585019e-05]\n"
     ]
    },
    {
     "name": "stderr",
     "output_type": "stream",
     "text": [
      " 56%|█████▌    | 299/534 [00:46<00:36,  6.40it/s]"
     ]
    },
    {
     "name": "stdout",
     "output_type": "stream",
     "text": [
      "x_vec_for_f =  [9.99659384e-01 8.10981951e-02 2.76327610e-05]\n"
     ]
    },
    {
     "name": "stderr",
     "output_type": "stream",
     "text": [
      " 56%|█████▌    | 300/534 [00:47<00:36,  6.41it/s]"
     ]
    },
    {
     "name": "stdout",
     "output_type": "stream",
     "text": [
      "x_vec_for_f =  [9.99659696e-01 8.10982203e-02 2.76074754e-05]\n"
     ]
    },
    {
     "name": "stderr",
     "output_type": "stream",
     "text": [
      " 56%|█████▋    | 301/534 [00:47<00:36,  6.42it/s]"
     ]
    },
    {
     "name": "stdout",
     "output_type": "stream",
     "text": [
      "x_vec_for_f =  [9.99660001e-01 8.10982451e-02 2.75827124e-05]\n"
     ]
    },
    {
     "name": "stderr",
     "output_type": "stream",
     "text": [
      " 57%|█████▋    | 302/534 [00:47<00:36,  6.43it/s]"
     ]
    },
    {
     "name": "stdout",
     "output_type": "stream",
     "text": [
      "x_vec_for_f =  [9.99660299e-01 8.10982693e-02 2.75585126e-05]\n"
     ]
    },
    {
     "name": "stderr",
     "output_type": "stream",
     "text": [
      " 57%|█████▋    | 303/534 [00:47<00:35,  6.42it/s]"
     ]
    },
    {
     "name": "stdout",
     "output_type": "stream",
     "text": [
      "x_vec_for_f =  [9.99660591e-01 8.10982930e-02 2.75348575e-05]\n"
     ]
    },
    {
     "name": "stderr",
     "output_type": "stream",
     "text": [
      " 57%|█████▋    | 304/534 [00:47<00:35,  6.43it/s]"
     ]
    },
    {
     "name": "stdout",
     "output_type": "stream",
     "text": [
      "x_vec_for_f =  [9.99660876e-01 8.10983161e-02 2.75117288e-05]\n"
     ]
    },
    {
     "name": "stderr",
     "output_type": "stream",
     "text": [
      " 57%|█████▋    | 305/534 [00:47<00:35,  6.44it/s]"
     ]
    },
    {
     "name": "stdout",
     "output_type": "stream",
     "text": [
      "x_vec_for_f =  [9.99661155e-01 8.10983387e-02 2.74891085e-05]\n"
     ]
    },
    {
     "name": "stderr",
     "output_type": "stream",
     "text": [
      " 57%|█████▋    | 306/534 [00:48<00:35,  6.44it/s]"
     ]
    },
    {
     "name": "stdout",
     "output_type": "stream",
     "text": [
      "x_vec_for_f =  [9.99661427e-01 8.10983608e-02 2.74669786e-05]\n"
     ]
    },
    {
     "name": "stderr",
     "output_type": "stream",
     "text": [
      " 57%|█████▋    | 307/534 [00:48<00:35,  6.46it/s]"
     ]
    },
    {
     "name": "stdout",
     "output_type": "stream",
     "text": [
      "x_vec_for_f =  [9.99661694e-01 8.10983825e-02 2.74453212e-05]\n"
     ]
    },
    {
     "name": "stderr",
     "output_type": "stream",
     "text": [
      " 58%|█████▊    | 308/534 [00:48<00:34,  6.49it/s]"
     ]
    },
    {
     "name": "stdout",
     "output_type": "stream",
     "text": [
      "x_vec_for_f =  [9.99661956e-01 8.10984037e-02 2.74241182e-05]\n"
     ]
    },
    {
     "name": "stderr",
     "output_type": "stream",
     "text": [
      " 58%|█████▊    | 309/534 [00:48<00:34,  6.49it/s]"
     ]
    },
    {
     "name": "stdout",
     "output_type": "stream",
     "text": [
      "x_vec_for_f =  [9.99662212e-01 8.10984245e-02 2.74033513e-05]\n"
     ]
    },
    {
     "name": "stderr",
     "output_type": "stream",
     "text": [
      " 58%|█████▊    | 310/534 [00:48<00:34,  6.50it/s]"
     ]
    },
    {
     "name": "stdout",
     "output_type": "stream",
     "text": [
      "x_vec_for_f =  [9.99662463e-01 8.10984448e-02 2.73830023e-05]\n"
     ]
    },
    {
     "name": "stderr",
     "output_type": "stream",
     "text": [
      " 58%|█████▊    | 311/534 [00:48<00:34,  6.52it/s]"
     ]
    },
    {
     "name": "stdout",
     "output_type": "stream",
     "text": [
      "x_vec_for_f =  [9.99662708e-01 8.10984648e-02 2.73630528e-05]\n"
     ]
    },
    {
     "name": "stderr",
     "output_type": "stream",
     "text": [
      " 58%|█████▊    | 312/534 [00:49<00:35,  6.30it/s]"
     ]
    },
    {
     "name": "stdout",
     "output_type": "stream",
     "text": [
      "x_vec_for_f =  [9.99662949e-01 8.10984843e-02 2.73435626e-05]\n"
     ]
    },
    {
     "name": "stderr",
     "output_type": "stream",
     "text": [
      " 59%|█████▊    | 313/534 [00:49<00:35,  6.23it/s]"
     ]
    },
    {
     "name": "stdout",
     "output_type": "stream",
     "text": [
      "x_vec_for_f =  [9.99663183e-01 8.10985032e-02 2.73245759e-05]\n"
     ]
    },
    {
     "name": "stderr",
     "output_type": "stream",
     "text": [
      " 59%|█████▉    | 314/534 [00:49<00:34,  6.30it/s]"
     ]
    },
    {
     "name": "stdout",
     "output_type": "stream",
     "text": [
      "x_vec_for_f =  [9.99663411e-01 8.10985217e-02 2.73060756e-05]\n"
     ]
    },
    {
     "name": "stderr",
     "output_type": "stream",
     "text": [
      " 59%|█████▉    | 315/534 [00:49<00:34,  6.38it/s]"
     ]
    },
    {
     "name": "stdout",
     "output_type": "stream",
     "text": [
      "x_vec_for_f =  [9.99663633e-01 8.10985398e-02 2.72880455e-05]\n"
     ]
    },
    {
     "name": "stderr",
     "output_type": "stream",
     "text": [
      " 59%|█████▉    | 316/534 [00:49<00:34,  6.39it/s]"
     ]
    },
    {
     "name": "stdout",
     "output_type": "stream",
     "text": [
      "x_vec_for_f =  [9.99663850e-01 8.10985573e-02 2.72704692e-05]\n"
     ]
    },
    {
     "name": "stderr",
     "output_type": "stream",
     "text": [
      " 59%|█████▉    | 317/534 [00:49<00:33,  6.43it/s]"
     ]
    },
    {
     "name": "stdout",
     "output_type": "stream",
     "text": [
      "x_vec_for_f =  [9.99664061e-01 8.10985745e-02 2.72533306e-05]\n"
     ]
    },
    {
     "name": "stderr",
     "output_type": "stream",
     "text": [
      " 60%|█████▉    | 318/534 [00:49<00:33,  6.46it/s]"
     ]
    },
    {
     "name": "stdout",
     "output_type": "stream",
     "text": [
      "x_vec_for_f =  [9.99664267e-01 8.10985912e-02 2.72366136e-05]\n"
     ]
    },
    {
     "name": "stderr",
     "output_type": "stream",
     "text": [
      " 60%|█████▉    | 319/534 [00:50<00:33,  6.46it/s]"
     ]
    },
    {
     "name": "stdout",
     "output_type": "stream",
     "text": [
      "x_vec_for_f =  [9.99664468e-01 8.10986075e-02 2.72203021e-05]\n"
     ]
    },
    {
     "name": "stderr",
     "output_type": "stream",
     "text": [
      " 60%|█████▉    | 320/534 [00:50<00:33,  6.46it/s]"
     ]
    },
    {
     "name": "stdout",
     "output_type": "stream",
     "text": [
      "x_vec_for_f =  [9.99664664e-01 8.10986234e-02 2.72043796e-05]\n"
     ]
    },
    {
     "name": "stderr",
     "output_type": "stream",
     "text": [
      " 60%|██████    | 321/534 [00:50<00:32,  6.47it/s]"
     ]
    },
    {
     "name": "stdout",
     "output_type": "stream",
     "text": [
      "x_vec_for_f =  [9.99664856e-01 8.10986390e-02 2.71888296e-05]\n"
     ]
    },
    {
     "name": "stderr",
     "output_type": "stream",
     "text": [
      " 60%|██████    | 322/534 [00:50<00:32,  6.47it/s]"
     ]
    },
    {
     "name": "stdout",
     "output_type": "stream",
     "text": [
      "x_vec_for_f =  [9.99665043e-01 8.10986542e-02 2.71736356e-05]\n"
     ]
    },
    {
     "name": "stderr",
     "output_type": "stream",
     "text": [
      " 60%|██████    | 323/534 [00:50<00:32,  6.46it/s]"
     ]
    },
    {
     "name": "stdout",
     "output_type": "stream",
     "text": [
      "x_vec_for_f =  [9.99665226e-01 8.10986690e-02 2.71588511e-05]\n"
     ]
    },
    {
     "name": "stderr",
     "output_type": "stream",
     "text": [
      " 61%|██████    | 324/534 [00:50<00:32,  6.46it/s]"
     ]
    },
    {
     "name": "stdout",
     "output_type": "stream",
     "text": [
      "x_vec_for_f =  [9.99665402e-01 8.10986833e-02 2.71445231e-05]\n"
     ]
    },
    {
     "name": "stderr",
     "output_type": "stream",
     "text": [
      " 61%|██████    | 325/534 [00:51<00:32,  6.47it/s]"
     ]
    },
    {
     "name": "stdout",
     "output_type": "stream",
     "text": [
      "x_vec_for_f =  [9.99665573e-01 8.10986972e-02 2.71306355e-05]\n"
     ]
    },
    {
     "name": "stderr",
     "output_type": "stream",
     "text": [
      " 61%|██████    | 326/534 [00:51<00:32,  6.46it/s]"
     ]
    },
    {
     "name": "stdout",
     "output_type": "stream",
     "text": [
      "x_vec_for_f =  [9.99665739e-01 8.10987106e-02 2.71171734e-05]\n"
     ]
    },
    {
     "name": "stderr",
     "output_type": "stream",
     "text": [
      " 61%|██████    | 327/534 [00:51<00:32,  6.46it/s]"
     ]
    },
    {
     "name": "stdout",
     "output_type": "stream",
     "text": [
      "x_vec_for_f =  [9.99665900e-01 8.10987237e-02 2.71041221e-05]\n"
     ]
    },
    {
     "name": "stderr",
     "output_type": "stream",
     "text": [
      " 61%|██████▏   | 328/534 [00:51<00:31,  6.44it/s]"
     ]
    },
    {
     "name": "stdout",
     "output_type": "stream",
     "text": [
      "x_vec_for_f =  [9.99666056e-01 8.10987363e-02 2.70914670e-05]\n"
     ]
    },
    {
     "name": "stderr",
     "output_type": "stream",
     "text": [
      " 62%|██████▏   | 329/534 [00:51<00:31,  6.43it/s]"
     ]
    },
    {
     "name": "stdout",
     "output_type": "stream",
     "text": [
      "x_vec_for_f =  [9.99666207e-01 8.10987486e-02 2.70791936e-05]\n"
     ]
    },
    {
     "name": "stderr",
     "output_type": "stream",
     "text": [
      " 62%|██████▏   | 330/534 [00:51<00:32,  6.36it/s]"
     ]
    },
    {
     "name": "stdout",
     "output_type": "stream",
     "text": [
      "x_vec_for_f =  [9.99666354e-01 8.10987605e-02 2.70672873e-05]\n"
     ]
    },
    {
     "name": "stderr",
     "output_type": "stream",
     "text": [
      " 62%|██████▏   | 331/534 [00:51<00:31,  6.39it/s]"
     ]
    },
    {
     "name": "stdout",
     "output_type": "stream",
     "text": [
      "x_vec_for_f =  [9.99666497e-01 8.10987721e-02 2.70557331e-05]\n"
     ]
    },
    {
     "name": "stderr",
     "output_type": "stream",
     "text": [
      " 62%|██████▏   | 332/534 [00:52<00:31,  6.41it/s]"
     ]
    },
    {
     "name": "stdout",
     "output_type": "stream",
     "text": [
      "x_vec_for_f =  [9.99666635e-01 8.10987833e-02 2.70445164e-05]\n"
     ]
    },
    {
     "name": "stderr",
     "output_type": "stream",
     "text": [
      " 62%|██████▏   | 333/534 [00:52<00:31,  6.43it/s]"
     ]
    },
    {
     "name": "stdout",
     "output_type": "stream",
     "text": [
      "x_vec_for_f =  [9.99666769e-01 8.10987942e-02 2.70336219e-05]\n"
     ]
    },
    {
     "name": "stderr",
     "output_type": "stream",
     "text": [
      " 63%|██████▎   | 334/534 [00:52<00:30,  6.46it/s]"
     ]
    },
    {
     "name": "stdout",
     "output_type": "stream",
     "text": [
      "x_vec_for_f =  [9.99666899e-01 8.10988047e-02 2.70230963e-05]\n"
     ]
    },
    {
     "name": "stderr",
     "output_type": "stream",
     "text": [
      " 63%|██████▎   | 335/534 [00:52<00:30,  6.48it/s]"
     ]
    },
    {
     "name": "stdout",
     "output_type": "stream",
     "text": [
      "x_vec_for_f =  [9.99667024e-01 8.10988148e-02 2.70129883e-05]\n"
     ]
    },
    {
     "name": "stderr",
     "output_type": "stream",
     "text": [
      " 63%|██████▎   | 336/534 [00:52<00:30,  6.45it/s]"
     ]
    },
    {
     "name": "stdout",
     "output_type": "stream",
     "text": [
      "x_vec_for_f =  [9.99667143e-01 8.10988245e-02 2.70032839e-05]\n"
     ]
    },
    {
     "name": "stderr",
     "output_type": "stream",
     "text": [
      " 63%|██████▎   | 337/534 [00:52<00:30,  6.47it/s]"
     ]
    },
    {
     "name": "stdout",
     "output_type": "stream",
     "text": [
      "x_vec_for_f =  [9.99667258e-01 8.10988338e-02 2.69939693e-05]\n"
     ]
    },
    {
     "name": "stderr",
     "output_type": "stream",
     "text": [
      " 63%|██████▎   | 338/534 [00:53<00:30,  6.47it/s]"
     ]
    },
    {
     "name": "stdout",
     "output_type": "stream",
     "text": [
      "x_vec_for_f =  [9.99667368e-01 8.10988428e-02 2.69850313e-05]\n"
     ]
    },
    {
     "name": "stderr",
     "output_type": "stream",
     "text": [
      " 63%|██████▎   | 339/534 [00:53<00:30,  6.46it/s]"
     ]
    },
    {
     "name": "stdout",
     "output_type": "stream",
     "text": [
      "x_vec_for_f =  [9.99667474e-01 8.10988514e-02 2.69764565e-05]\n"
     ]
    },
    {
     "name": "stderr",
     "output_type": "stream",
     "text": [
      " 64%|██████▎   | 340/534 [00:53<00:30,  6.45it/s]"
     ]
    },
    {
     "name": "stdout",
     "output_type": "stream",
     "text": [
      "x_vec_for_f =  [9.99667575e-01 8.10988596e-02 2.69682318e-05]\n"
     ]
    },
    {
     "name": "stderr",
     "output_type": "stream",
     "text": [
      " 64%|██████▍   | 341/534 [00:53<00:29,  6.45it/s]"
     ]
    },
    {
     "name": "stdout",
     "output_type": "stream",
     "text": [
      "x_vec_for_f =  [9.99667672e-01 8.10988675e-02 2.69603439e-05]\n"
     ]
    },
    {
     "name": "stderr",
     "output_type": "stream",
     "text": [
      " 64%|██████▍   | 342/534 [00:53<00:29,  6.47it/s]"
     ]
    },
    {
     "name": "stdout",
     "output_type": "stream",
     "text": [
      "x_vec_for_f =  [9.99667766e-01 8.10988750e-02 2.69527794e-05]\n"
     ]
    },
    {
     "name": "stderr",
     "output_type": "stream",
     "text": [
      " 64%|██████▍   | 343/534 [00:53<00:29,  6.49it/s]"
     ]
    },
    {
     "name": "stdout",
     "output_type": "stream",
     "text": [
      "x_vec_for_f =  [9.99667855e-01 8.10988823e-02 2.69455248e-05]\n"
     ]
    },
    {
     "name": "stderr",
     "output_type": "stream",
     "text": [
      " 64%|██████▍   | 344/534 [00:53<00:29,  6.49it/s]WARNING:root:Setting coarsen_factor=1!\n",
      "WARNING:root:Setting dlnz=0.009950330853168092!\n"
     ]
    },
    {
     "name": "stdout",
     "output_type": "stream",
     "text": [
      "x_vec_for_f =  [9.99667941e-01 8.10988892e-02 2.69385665e-05]\n",
      "x_vec_for_f =  [9.99668023e-01 8.10988959e-02 2.69319460e-05]\n"
     ]
    },
    {
     "name": "stderr",
     "output_type": "stream",
     "text": [
      " 65%|██████▌   | 348/534 [00:54<00:13, 13.64it/s]"
     ]
    },
    {
     "name": "stdout",
     "output_type": "stream",
     "text": [
      "x_vec_for_f =  [9.99668253e-01 8.10989146e-02 2.69132154e-05]\n",
      "x_vec_for_f =  [9.99668318e-01 8.10989199e-02 2.69079427e-05]\n",
      "x_vec_for_f =  [9.99668380e-01 8.10989249e-02 2.69029487e-05]\n",
      "x_vec_for_f =  [9.99668438e-01 8.10989296e-02 2.68982127e-05]\n",
      "x_vec_for_f =  [9.99000000e-01 8.10447020e-02 8.11258278e-05]\n",
      "x_vec_for_f =  [9.99000000e-01 8.10447020e-02 8.11258278e-05]\n"
     ]
    },
    {
     "name": "stderr",
     "output_type": "stream",
     "text": [
      " 66%|██████▌   | 352/534 [00:54<00:09, 19.64it/s]"
     ]
    },
    {
     "name": "stdout",
     "output_type": "stream",
     "text": [
      "x_vec_for_f =  [9.99000000e-01 8.10447020e-02 8.11258278e-05]\n",
      "x_vec_for_f =  [9.99000000e-01 8.10447020e-02 8.11258278e-05]\n"
     ]
    },
    {
     "name": "stderr",
     "output_type": "stream",
     "text": [
      " 67%|██████▋   | 356/534 [00:54<00:07, 24.38it/s]"
     ]
    },
    {
     "name": "stdout",
     "output_type": "stream",
     "text": [
      "x_vec_for_f =  [9.99000000e-01 8.10447020e-02 8.11258278e-05]\n",
      "x_vec_for_f =  [9.99000000e-01 8.10447020e-02 8.11258278e-05]\n",
      "x_vec_for_f =  [9.99000000e-01 8.10447020e-02 8.11258278e-05]\n",
      "x_vec_for_f =  [9.99000000e-01 8.10447020e-02 8.11258278e-05]\n",
      "x_vec_for_f =  [9.99000000e-01 8.10447020e-02 8.11258278e-05]\n",
      "x_vec_for_f =  [9.99000000e-01 8.10447020e-02 8.11258278e-05]\n"
     ]
    },
    {
     "name": "stderr",
     "output_type": "stream",
     "text": [
      " 67%|██████▋   | 360/534 [00:54<00:06, 27.88it/s]"
     ]
    },
    {
     "name": "stdout",
     "output_type": "stream",
     "text": [
      "x_vec_for_f =  [9.99000000e-01 8.10447020e-02 8.11258278e-05]\n",
      "x_vec_for_f =  [9.99000000e-01 8.10447020e-02 8.11258278e-05]\n"
     ]
    },
    {
     "name": "stderr",
     "output_type": "stream",
     "text": [
      " 68%|██████▊   | 364/534 [00:54<00:05, 30.41it/s]"
     ]
    },
    {
     "name": "stdout",
     "output_type": "stream",
     "text": [
      "x_vec_for_f =  [9.99000000e-01 8.10447020e-02 8.11258278e-05]\n",
      "x_vec_for_f =  [9.99000000e-01 8.10447020e-02 8.11258278e-05]\n",
      "x_vec_for_f =  [9.99000000e-01 8.10447020e-02 8.11258278e-05]\n",
      "x_vec_for_f =  [9.99000000e-01 8.10447020e-02 8.11258278e-05]\n",
      "x_vec_for_f =  [9.99000000e-01 8.10447020e-02 8.11258278e-05]\n",
      "x_vec_for_f =  [9.99000000e-01 8.10447020e-02 8.11258278e-05]\n"
     ]
    },
    {
     "name": "stderr",
     "output_type": "stream",
     "text": [
      " 69%|██████▉   | 368/534 [00:54<00:05, 32.35it/s]"
     ]
    },
    {
     "name": "stdout",
     "output_type": "stream",
     "text": [
      "x_vec_for_f =  [9.99000000e-01 8.10447020e-02 8.11258278e-05]\n",
      "x_vec_for_f =  [9.99000000e-01 8.10447020e-02 8.11258278e-05]\n"
     ]
    },
    {
     "name": "stderr",
     "output_type": "stream",
     "text": [
      " 70%|██████▉   | 372/534 [00:54<00:04, 34.01it/s]"
     ]
    },
    {
     "name": "stdout",
     "output_type": "stream",
     "text": [
      "x_vec_for_f =  [9.99000000e-01 8.10447020e-02 8.11258278e-05]\n",
      "x_vec_for_f =  [9.99000000e-01 8.10447020e-02 8.11258278e-05]\n",
      "x_vec_for_f =  [9.99000000e-01 8.10447020e-02 8.11258278e-05]\n",
      "x_vec_for_f =  [9.99000000e-01 8.10447020e-02 8.11258278e-05]\n",
      "x_vec_for_f =  [9.99000000e-01 8.10447020e-02 8.11258278e-05]\n",
      "x_vec_for_f =  [9.99000000e-01 8.10447020e-02 8.11258278e-05]\n"
     ]
    },
    {
     "name": "stderr",
     "output_type": "stream",
     "text": [
      " 70%|███████   | 376/534 [00:54<00:04, 35.22it/s]"
     ]
    },
    {
     "name": "stdout",
     "output_type": "stream",
     "text": [
      "x_vec_for_f =  [9.99000000e-01 8.10447020e-02 8.11258278e-05]\n",
      "x_vec_for_f =  [9.99000000e-01 8.10447020e-02 8.11258278e-05]\n"
     ]
    },
    {
     "name": "stderr",
     "output_type": "stream",
     "text": [
      " 71%|███████   | 380/534 [00:54<00:04, 36.14it/s]"
     ]
    },
    {
     "name": "stdout",
     "output_type": "stream",
     "text": [
      "x_vec_for_f =  [9.99000000e-01 8.10447020e-02 8.11258278e-05]\n",
      "x_vec_for_f =  [9.99000000e-01 8.10447020e-02 8.11258278e-05]\n",
      "x_vec_for_f =  [9.99000000e-01 8.10447020e-02 8.11258278e-05]\n",
      "x_vec_for_f =  [9.99000000e-01 8.10447020e-02 8.11258278e-05]\n",
      "x_vec_for_f =  [9.99000000e-01 8.10447020e-02 8.11258278e-05]\n",
      "x_vec_for_f =  [9.99000000e-01 8.10447020e-02 8.11258278e-05]\n"
     ]
    },
    {
     "name": "stderr",
     "output_type": "stream",
     "text": [
      " 72%|███████▏  | 384/534 [00:55<00:04, 36.89it/s]"
     ]
    },
    {
     "name": "stdout",
     "output_type": "stream",
     "text": [
      "x_vec_for_f =  [9.99000000e-01 8.10447020e-02 8.11258278e-05]\n",
      "x_vec_for_f =  [9.99000000e-01 8.10447020e-02 8.11258278e-05]\n"
     ]
    },
    {
     "name": "stderr",
     "output_type": "stream",
     "text": [
      " 73%|███████▎  | 388/534 [00:55<00:03, 37.25it/s]"
     ]
    },
    {
     "name": "stdout",
     "output_type": "stream",
     "text": [
      "x_vec_for_f =  [9.99000000e-01 8.10447020e-02 8.11258278e-05]\n",
      "x_vec_for_f =  [9.99000000e-01 8.10447020e-02 8.11258278e-05]\n",
      "x_vec_for_f =  [9.99000000e-01 8.10447020e-02 8.11258278e-05]\n",
      "x_vec_for_f =  [9.99000000e-01 8.10447020e-02 8.11258278e-05]\n",
      "x_vec_for_f =  [9.99000000e-01 8.10447020e-02 8.11258278e-05]\n",
      "x_vec_for_f =  [9.99000000e-01 8.10447020e-02 8.11258278e-05]\n"
     ]
    },
    {
     "name": "stderr",
     "output_type": "stream",
     "text": [
      " 73%|███████▎  | 392/534 [00:55<00:03, 37.54it/s]"
     ]
    },
    {
     "name": "stdout",
     "output_type": "stream",
     "text": [
      "x_vec_for_f =  [9.99000000e-01 8.10447020e-02 8.11258278e-05]\n",
      "x_vec_for_f =  [9.99000000e-01 8.10447020e-02 8.11258278e-05]\n"
     ]
    },
    {
     "name": "stderr",
     "output_type": "stream",
     "text": [
      " 74%|███████▍  | 396/534 [00:55<00:03, 37.69it/s]"
     ]
    },
    {
     "name": "stdout",
     "output_type": "stream",
     "text": [
      "x_vec_for_f =  [9.99000000e-01 8.10447020e-02 8.11258278e-05]\n",
      "x_vec_for_f =  [9.99000000e-01 8.10447020e-02 8.11258278e-05]\n",
      "x_vec_for_f =  [9.99000000e-01 8.10447020e-02 8.11258278e-05]\n",
      "x_vec_for_f =  [9.99000000e-01 8.10447020e-02 8.11258278e-05]\n",
      "x_vec_for_f =  [9.99000000e-01 8.10447020e-02 8.11258278e-05]\n",
      "x_vec_for_f =  [9.99000000e-01 8.10447020e-02 8.11258278e-05]\n"
     ]
    },
    {
     "name": "stderr",
     "output_type": "stream",
     "text": [
      " 75%|███████▍  | 400/534 [00:55<00:03, 37.53it/s]"
     ]
    },
    {
     "name": "stdout",
     "output_type": "stream",
     "text": [
      "x_vec_for_f =  [9.99000000e-01 8.10447020e-02 8.11258278e-05]\n",
      "x_vec_for_f =  [9.99000000e-01 8.10447020e-02 8.11258278e-05]\n"
     ]
    },
    {
     "name": "stderr",
     "output_type": "stream",
     "text": [
      " 76%|███████▌  | 404/534 [00:55<00:03, 37.62it/s]"
     ]
    },
    {
     "name": "stdout",
     "output_type": "stream",
     "text": [
      "x_vec_for_f =  [9.99000000e-01 8.10447020e-02 8.11258278e-05]\n",
      "x_vec_for_f =  [9.99000000e-01 8.10447020e-02 8.11258278e-05]\n",
      "x_vec_for_f =  [9.99000000e-01 8.10447020e-02 8.11258278e-05]\n",
      "x_vec_for_f =  [9.99000000e-01 8.10447020e-02 8.11258278e-05]\n",
      "x_vec_for_f =  [9.99000000e-01 8.10447020e-02 8.11258278e-05]\n",
      "x_vec_for_f =  [9.99000000e-01 8.10447020e-02 8.11258278e-05]\n"
     ]
    },
    {
     "name": "stderr",
     "output_type": "stream",
     "text": [
      " 76%|███████▋  | 408/534 [00:55<00:03, 37.83it/s]"
     ]
    },
    {
     "name": "stdout",
     "output_type": "stream",
     "text": [
      "x_vec_for_f =  [9.99000000e-01 8.10447020e-02 8.11258278e-05]\n",
      "x_vec_for_f =  [9.99000000e-01 8.10447020e-02 8.11258278e-05]\n"
     ]
    },
    {
     "name": "stderr",
     "output_type": "stream",
     "text": [
      " 77%|███████▋  | 412/534 [00:55<00:03, 38.01it/s]"
     ]
    },
    {
     "name": "stdout",
     "output_type": "stream",
     "text": [
      "x_vec_for_f =  [9.99000000e-01 8.10447020e-02 8.11258278e-05]\n",
      "x_vec_for_f =  [9.99000000e-01 8.10447020e-02 8.11258278e-05]\n",
      "x_vec_for_f =  [9.99000000e-01 8.10447020e-02 8.11258278e-05]\n",
      "x_vec_for_f =  [9.99000000e-01 8.10447020e-02 8.11258278e-05]\n",
      "x_vec_for_f =  [9.99000000e-01 8.10447020e-02 8.11258278e-05]\n",
      "x_vec_for_f =  [9.99000000e-01 8.10447020e-02 8.11258278e-05]\n"
     ]
    },
    {
     "name": "stderr",
     "output_type": "stream",
     "text": [
      " 78%|███████▊  | 416/534 [00:55<00:03, 38.07it/s]"
     ]
    },
    {
     "name": "stdout",
     "output_type": "stream",
     "text": [
      "x_vec_for_f =  [9.99000000e-01 8.10447020e-02 8.11258278e-05]\n",
      "x_vec_for_f =  [9.99000000e-01 8.10447020e-02 8.11258278e-05]\n"
     ]
    },
    {
     "name": "stderr",
     "output_type": "stream",
     "text": [
      " 79%|███████▊  | 420/534 [00:55<00:02, 38.24it/s]"
     ]
    },
    {
     "name": "stdout",
     "output_type": "stream",
     "text": [
      "x_vec_for_f =  [9.99000000e-01 8.10447020e-02 8.11258278e-05]\n",
      "x_vec_for_f =  [9.99000000e-01 8.10447020e-02 8.11258278e-05]\n",
      "x_vec_for_f =  [9.99000000e-01 8.10447020e-02 8.11258278e-05]\n",
      "x_vec_for_f =  [9.99000000e-01 8.10447020e-02 8.11258278e-05]\n",
      "x_vec_for_f =  [9.99000000e-01 8.10447020e-02 8.11258278e-05]\n",
      "x_vec_for_f =  [9.99000000e-01 8.10447020e-02 8.11258278e-05]\n"
     ]
    },
    {
     "name": "stderr",
     "output_type": "stream",
     "text": [
      " 79%|███████▉  | 424/534 [00:56<00:02, 38.35it/s]"
     ]
    },
    {
     "name": "stdout",
     "output_type": "stream",
     "text": [
      "x_vec_for_f =  [9.99000000e-01 8.10447020e-02 8.11258278e-05]\n",
      "x_vec_for_f =  [9.99000000e-01 8.10447020e-02 8.11258278e-05]\n"
     ]
    },
    {
     "name": "stderr",
     "output_type": "stream",
     "text": [
      " 80%|████████  | 428/534 [00:56<00:02, 38.35it/s]"
     ]
    },
    {
     "name": "stdout",
     "output_type": "stream",
     "text": [
      "x_vec_for_f =  [9.99000000e-01 8.10447020e-02 8.11258278e-05]\n",
      "x_vec_for_f =  [9.99000000e-01 8.10447020e-02 8.11258278e-05]\n",
      "x_vec_for_f =  [9.99000000e-01 8.10447020e-02 8.11258278e-05]\n",
      "x_vec_for_f =  [9.99000000e-01 8.10447020e-02 8.11258278e-05]\n",
      "x_vec_for_f =  [9.99000000e-01 8.10447020e-02 8.11258278e-05]\n",
      "x_vec_for_f =  [9.99000000e-01 8.10447020e-02 8.11258278e-05]\n"
     ]
    },
    {
     "name": "stderr",
     "output_type": "stream",
     "text": [
      " 81%|████████  | 432/534 [00:56<00:02, 38.13it/s]"
     ]
    },
    {
     "name": "stdout",
     "output_type": "stream",
     "text": [
      "x_vec_for_f =  [9.99000000e-01 8.10447020e-02 8.11258278e-05]\n",
      "x_vec_for_f =  [9.99000000e-01 8.10447020e-02 8.11258278e-05]\n"
     ]
    },
    {
     "name": "stderr",
     "output_type": "stream",
     "text": [
      " 82%|████████▏ | 436/534 [00:56<00:02, 37.77it/s]"
     ]
    },
    {
     "name": "stdout",
     "output_type": "stream",
     "text": [
      "x_vec_for_f =  [9.99000000e-01 8.10447020e-02 8.11258278e-05]\n",
      "x_vec_for_f =  [9.99000000e-01 8.10447020e-02 8.11258278e-05]\n",
      "x_vec_for_f =  [9.99000000e-01 8.10447020e-02 8.11258278e-05]\n",
      "x_vec_for_f =  [9.99000000e-01 8.10447020e-02 8.11258278e-05]\n",
      "x_vec_for_f =  [9.99000000e-01 8.10447020e-02 8.11258278e-05]\n",
      "x_vec_for_f =  [9.99000000e-01 8.10447020e-02 8.11258278e-05]\n"
     ]
    },
    {
     "name": "stderr",
     "output_type": "stream",
     "text": [
      " 82%|████████▏ | 440/534 [00:56<00:02, 37.46it/s]"
     ]
    },
    {
     "name": "stdout",
     "output_type": "stream",
     "text": [
      "x_vec_for_f =  [9.99000000e-01 8.10447020e-02 8.11258278e-05]\n",
      "x_vec_for_f =  [9.99000000e-01 8.10447020e-02 8.11258278e-05]\n"
     ]
    },
    {
     "name": "stderr",
     "output_type": "stream",
     "text": [
      " 83%|████████▎ | 444/534 [00:56<00:02, 37.84it/s]"
     ]
    },
    {
     "name": "stdout",
     "output_type": "stream",
     "text": [
      "x_vec_for_f =  [9.99000000e-01 8.10447020e-02 8.11258278e-05]\n",
      "x_vec_for_f =  [9.99000000e-01 8.10447020e-02 8.11258278e-05]\n",
      "x_vec_for_f =  [9.99000000e-01 8.10447020e-02 8.11258278e-05]\n",
      "x_vec_for_f =  [9.99000000e-01 8.10447020e-02 8.11258278e-05]\n",
      "x_vec_for_f =  [9.99000000e-01 8.10447020e-02 8.11258278e-05]\n",
      "x_vec_for_f =  [9.99000000e-01 8.10447020e-02 8.11258278e-05]\n"
     ]
    },
    {
     "name": "stderr",
     "output_type": "stream",
     "text": [
      " 84%|████████▍ | 448/534 [00:56<00:02, 37.93it/s]"
     ]
    },
    {
     "name": "stdout",
     "output_type": "stream",
     "text": [
      "x_vec_for_f =  [9.99000000e-01 8.10447020e-02 8.11258278e-05]\n",
      "x_vec_for_f =  [9.99000000e-01 8.10447020e-02 8.11258278e-05]\n"
     ]
    },
    {
     "name": "stderr",
     "output_type": "stream",
     "text": [
      " 85%|████████▍ | 452/534 [00:56<00:02, 38.12it/s]"
     ]
    },
    {
     "name": "stdout",
     "output_type": "stream",
     "text": [
      "x_vec_for_f =  [9.99000000e-01 8.10447020e-02 8.11258278e-05]\n",
      "x_vec_for_f =  [9.99000000e-01 8.10447020e-02 8.11258278e-05]\n",
      "x_vec_for_f =  [9.99000000e-01 8.10447020e-02 8.11258278e-05]\n",
      "x_vec_for_f =  [9.99000000e-01 8.10447020e-02 8.11258278e-05]\n",
      "x_vec_for_f =  [9.99000000e-01 8.10447020e-02 8.11258278e-05]\n",
      "x_vec_for_f =  [9.99000000e-01 8.10447020e-02 8.11258278e-05]\n"
     ]
    },
    {
     "name": "stderr",
     "output_type": "stream",
     "text": [
      " 85%|████████▌ | 456/534 [00:56<00:02, 38.23it/s]"
     ]
    },
    {
     "name": "stdout",
     "output_type": "stream",
     "text": [
      "x_vec_for_f =  [9.99000000e-01 8.10447020e-02 8.11258278e-05]\n",
      "x_vec_for_f =  [9.99000000e-01 8.10447020e-02 8.11258278e-05]\n"
     ]
    },
    {
     "name": "stderr",
     "output_type": "stream",
     "text": [
      " 86%|████████▌ | 460/534 [00:57<00:01, 38.21it/s]"
     ]
    },
    {
     "name": "stdout",
     "output_type": "stream",
     "text": [
      "x_vec_for_f =  [9.99000000e-01 8.10447020e-02 8.11258278e-05]\n",
      "x_vec_for_f =  [9.99000000e-01 8.10447020e-02 8.11258278e-05]\n",
      "x_vec_for_f =  [9.99000000e-01 8.10447020e-02 8.11258278e-05]\n",
      "x_vec_for_f =  [9.99000000e-01 8.10447020e-02 8.11258278e-05]\n",
      "x_vec_for_f =  [9.99000000e-01 8.10447020e-02 8.11258278e-05]\n",
      "x_vec_for_f =  [9.99000000e-01 8.10447020e-02 8.11258278e-05]\n"
     ]
    },
    {
     "name": "stderr",
     "output_type": "stream",
     "text": [
      " 87%|████████▋ | 464/534 [00:57<00:01, 37.95it/s]"
     ]
    },
    {
     "name": "stdout",
     "output_type": "stream",
     "text": [
      "x_vec_for_f =  [9.99000000e-01 8.10447020e-02 8.11258278e-05]\n",
      "x_vec_for_f =  [9.99000000e-01 8.10447020e-02 8.11258278e-05]\n"
     ]
    },
    {
     "name": "stderr",
     "output_type": "stream",
     "text": [
      " 88%|████████▊ | 468/534 [00:57<00:01, 37.79it/s]"
     ]
    },
    {
     "name": "stdout",
     "output_type": "stream",
     "text": [
      "x_vec_for_f =  [9.99000000e-01 8.10447020e-02 8.11258278e-05]\n",
      "x_vec_for_f =  [9.99000000e-01 8.10447020e-02 8.11258278e-05]\n",
      "x_vec_for_f =  [9.99000000e-01 8.10447020e-02 8.11258278e-05]\n",
      "x_vec_for_f =  [9.99000000e-01 8.10447020e-02 8.11258278e-05]\n",
      "x_vec_for_f =  [9.99000000e-01 8.10447020e-02 8.11258278e-05]\n",
      "x_vec_for_f =  [9.99000000e-01 8.10447020e-02 8.11258278e-05]\n"
     ]
    },
    {
     "name": "stderr",
     "output_type": "stream",
     "text": [
      " 88%|████████▊ | 472/534 [00:57<00:01, 37.56it/s]"
     ]
    },
    {
     "name": "stdout",
     "output_type": "stream",
     "text": [
      "x_vec_for_f =  [9.99000000e-01 8.10447020e-02 8.11258278e-05]\n",
      "x_vec_for_f =  [9.99000000e-01 8.10447020e-02 8.11258278e-05]\n"
     ]
    },
    {
     "name": "stderr",
     "output_type": "stream",
     "text": [
      " 89%|████████▉ | 476/534 [00:57<00:01, 37.55it/s]"
     ]
    },
    {
     "name": "stdout",
     "output_type": "stream",
     "text": [
      "x_vec_for_f =  [9.99000000e-01 8.10447020e-02 8.11258278e-05]\n",
      "x_vec_for_f =  [9.99000000e-01 8.10447020e-02 8.11258278e-05]\n",
      "x_vec_for_f =  [9.99000000e-01 8.10447020e-02 8.11258278e-05]\n",
      "x_vec_for_f =  [9.99000000e-01 8.10447020e-02 8.11258278e-05]\n",
      "x_vec_for_f =  [9.99000000e-01 8.10447020e-02 8.11258278e-05]\n",
      "x_vec_for_f =  [9.99000000e-01 8.10447020e-02 8.11258278e-05]\n"
     ]
    },
    {
     "name": "stderr",
     "output_type": "stream",
     "text": [
      " 90%|████████▉ | 480/534 [00:57<00:01, 37.73it/s]"
     ]
    },
    {
     "name": "stdout",
     "output_type": "stream",
     "text": [
      "x_vec_for_f =  [9.99000000e-01 8.10447020e-02 8.11258278e-05]\n",
      "x_vec_for_f =  [9.99000000e-01 8.10447020e-02 8.11258278e-05]\n"
     ]
    },
    {
     "name": "stderr",
     "output_type": "stream",
     "text": [
      " 91%|█████████ | 484/534 [00:57<00:01, 37.88it/s]"
     ]
    },
    {
     "name": "stdout",
     "output_type": "stream",
     "text": [
      "x_vec_for_f =  [9.99000000e-01 8.10447020e-02 8.11258278e-05]\n",
      "x_vec_for_f =  [9.99000000e-01 8.10447020e-02 8.11258278e-05]\n",
      "x_vec_for_f =  [9.99000000e-01 8.10447020e-02 8.11258278e-05]\n",
      "x_vec_for_f =  [9.99000000e-01 8.10447020e-02 8.11258278e-05]\n",
      "x_vec_for_f =  [9.99000000e-01 8.10447020e-02 8.11258278e-05]\n",
      "x_vec_for_f =  [9.99000000e-01 8.10447020e-02 8.11258278e-05]\n"
     ]
    },
    {
     "name": "stderr",
     "output_type": "stream",
     "text": [
      " 91%|█████████▏| 488/534 [00:57<00:01, 37.85it/s]"
     ]
    },
    {
     "name": "stdout",
     "output_type": "stream",
     "text": [
      "x_vec_for_f =  [9.99000000e-01 8.10447020e-02 8.11258278e-05]\n",
      "x_vec_for_f =  [9.99000000e-01 8.10447020e-02 8.11258278e-05]\n"
     ]
    },
    {
     "name": "stderr",
     "output_type": "stream",
     "text": [
      " 92%|█████████▏| 492/534 [00:57<00:01, 38.00it/s]"
     ]
    },
    {
     "name": "stdout",
     "output_type": "stream",
     "text": [
      "x_vec_for_f =  [9.99000000e-01 8.10447020e-02 8.11258278e-05]\n",
      "x_vec_for_f =  [9.99000000e-01 8.10447020e-02 8.11258278e-05]\n",
      "x_vec_for_f =  [9.99000000e-01 8.10447020e-02 8.11258278e-05]\n",
      "x_vec_for_f =  [9.99000000e-01 8.10447020e-02 8.11258278e-05]\n",
      "x_vec_for_f =  [9.99000000e-01 8.10447020e-02 8.11258278e-05]\n",
      "x_vec_for_f =  [9.99000000e-01 8.10447020e-02 8.11258278e-05]\n"
     ]
    },
    {
     "name": "stderr",
     "output_type": "stream",
     "text": [
      " 93%|█████████▎| 496/534 [00:57<00:00, 38.12it/s]"
     ]
    },
    {
     "name": "stdout",
     "output_type": "stream",
     "text": [
      "x_vec_for_f =  [9.99000000e-01 8.10447020e-02 8.11258278e-05]\n",
      "x_vec_for_f =  [9.99000000e-01 8.10447020e-02 8.11258278e-05]\n"
     ]
    },
    {
     "name": "stderr",
     "output_type": "stream",
     "text": [
      " 94%|█████████▎| 500/534 [00:58<00:00, 37.74it/s]"
     ]
    },
    {
     "name": "stdout",
     "output_type": "stream",
     "text": [
      "x_vec_for_f =  [9.99000000e-01 8.10447020e-02 8.11258278e-05]\n",
      "x_vec_for_f =  [9.99000000e-01 8.10447020e-02 8.11258278e-05]\n",
      "x_vec_for_f =  [9.99000000e-01 8.10447020e-02 8.11258278e-05]\n",
      "x_vec_for_f =  [9.99000000e-01 8.10447020e-02 8.11258278e-05]\n",
      "x_vec_for_f =  [9.99000000e-01 8.10447020e-02 8.11258278e-05]\n",
      "x_vec_for_f =  [9.99000000e-01 8.10447020e-02 8.11258278e-05]\n"
     ]
    },
    {
     "name": "stderr",
     "output_type": "stream",
     "text": [
      " 94%|█████████▍| 504/534 [00:58<00:00, 37.05it/s]"
     ]
    },
    {
     "name": "stdout",
     "output_type": "stream",
     "text": [
      "x_vec_for_f =  [9.99000000e-01 8.10447020e-02 8.11258278e-05]\n",
      "x_vec_for_f =  [9.99000000e-01 8.10447020e-02 8.11258278e-05]\n"
     ]
    },
    {
     "name": "stderr",
     "output_type": "stream",
     "text": [
      " 95%|█████████▌| 508/534 [00:58<00:00, 37.38it/s]"
     ]
    },
    {
     "name": "stdout",
     "output_type": "stream",
     "text": [
      "x_vec_for_f =  [9.99000000e-01 8.10447020e-02 8.11258278e-05]\n",
      "x_vec_for_f =  [9.99000000e-01 8.10447020e-02 8.11258278e-05]\n",
      "x_vec_for_f =  [9.99000000e-01 8.10447020e-02 8.11258278e-05]\n",
      "x_vec_for_f =  [9.99000000e-01 8.10447020e-02 8.11258278e-05]\n",
      "x_vec_for_f =  [9.99000000e-01 8.10447020e-02 8.11258278e-05]\n",
      "x_vec_for_f =  [9.99000000e-01 8.10447020e-02 8.11258278e-05]\n"
     ]
    },
    {
     "name": "stderr",
     "output_type": "stream",
     "text": [
      " 96%|█████████▌| 512/534 [00:58<00:00, 37.49it/s]"
     ]
    },
    {
     "name": "stdout",
     "output_type": "stream",
     "text": [
      "x_vec_for_f =  [9.99000000e-01 8.10447020e-02 8.11258278e-05]\n",
      "x_vec_for_f =  [9.99000000e-01 8.10447020e-02 8.11258278e-05]\n"
     ]
    },
    {
     "name": "stderr",
     "output_type": "stream",
     "text": [
      " 97%|█████████▋| 516/534 [00:58<00:00, 37.74it/s]"
     ]
    },
    {
     "name": "stdout",
     "output_type": "stream",
     "text": [
      "x_vec_for_f =  [9.99000000e-01 8.10447020e-02 8.11258278e-05]\n",
      "x_vec_for_f =  [9.99000000e-01 8.10447020e-02 8.11258278e-05]\n",
      "x_vec_for_f =  [9.99000000e-01 8.10447020e-02 8.11258278e-05]\n",
      "x_vec_for_f =  [9.99000000e-01 8.10447020e-02 8.11258278e-05]\n",
      "x_vec_for_f =  [9.99000000e-01 8.10447020e-02 8.11258278e-05]\n",
      "x_vec_for_f =  [9.99000000e-01 8.10447020e-02 8.11258278e-05]\n"
     ]
    },
    {
     "name": "stderr",
     "output_type": "stream",
     "text": [
      " 97%|█████████▋| 520/534 [00:58<00:00, 37.60it/s]"
     ]
    },
    {
     "name": "stdout",
     "output_type": "stream",
     "text": [
      "x_vec_for_f =  [9.99000000e-01 8.10447020e-02 8.11258278e-05]\n",
      "x_vec_for_f =  [9.99000000e-01 8.10447020e-02 8.11258278e-05]\n"
     ]
    },
    {
     "name": "stderr",
     "output_type": "stream",
     "text": [
      " 98%|█████████▊| 524/534 [00:58<00:00, 37.90it/s]"
     ]
    },
    {
     "name": "stdout",
     "output_type": "stream",
     "text": [
      "x_vec_for_f =  [9.99000000e-01 8.10447020e-02 8.11258278e-05]\n",
      "x_vec_for_f =  [9.99000000e-01 8.10447020e-02 8.11258278e-05]\n",
      "x_vec_for_f =  [9.99000000e-01 8.10447020e-02 8.11258278e-05]\n",
      "x_vec_for_f =  [9.99000000e-01 8.10447020e-02 8.11258278e-05]\n",
      "x_vec_for_f =  [9.99000000e-01 8.10447020e-02 8.11258278e-05]\n",
      "x_vec_for_f =  [9.99000000e-01 8.10447020e-02 8.11258278e-05]\n"
     ]
    },
    {
     "name": "stderr",
     "output_type": "stream",
     "text": [
      " 99%|█████████▉| 528/534 [00:58<00:00, 38.14it/s]"
     ]
    },
    {
     "name": "stdout",
     "output_type": "stream",
     "text": [
      "x_vec_for_f =  [9.99000000e-01 8.10447020e-02 8.11258278e-05]\n",
      "x_vec_for_f =  [9.99000000e-01 8.10447020e-02 8.11258278e-05]\n"
     ]
    },
    {
     "name": "stderr",
     "output_type": "stream",
     "text": [
      "100%|█████████▉| 532/534 [00:58<00:00, 38.32it/s]"
     ]
    },
    {
     "name": "stdout",
     "output_type": "stream",
     "text": [
      "x_vec_for_f =  [9.99000000e-01 8.10447020e-02 8.11258278e-05]\n",
      "x_vec_for_f =  [9.99000000e-01 8.10447020e-02 8.11258278e-05]\n",
      "x_vec_for_f =  [9.99000000e-01 8.10447020e-02 8.11258278e-05]\n",
      "x_vec_for_f =  [9.99000000e-01 8.10447020e-02 8.11258278e-05]\n",
      "x_vec_for_f =  [9.99000000e-01 8.10447020e-02 8.11258278e-05]\n",
      "x_vec_for_f =  [9.99000000e-01 8.10447020e-02 8.11258278e-05]\n"
     ]
    },
    {
     "name": "stderr",
     "output_type": "stream",
     "text": [
      "536it [00:59, 38.37it/s]                         "
     ]
    },
    {
     "name": "stdout",
     "output_type": "stream",
     "text": [
      "x_vec_for_f =  [9.99000000e-01 8.10447020e-02 8.11258278e-05]\n",
      "x_vec_for_f =  [9.99000000e-01 8.10447020e-02 8.11258278e-05]\n"
     ]
    },
    {
     "name": "stderr",
     "output_type": "stream",
     "text": [
      "540it [00:59, 38.59it/s]"
     ]
    },
    {
     "name": "stdout",
     "output_type": "stream",
     "text": [
      "x_vec_for_f =  [9.99000000e-01 8.10447020e-02 8.11258278e-05]\n",
      "x_vec_for_f =  [9.99000000e-01 8.10447020e-02 8.11258278e-05]\n",
      "x_vec_for_f =  [9.99000000e-01 8.10447020e-02 8.11258278e-05]\n",
      "x_vec_for_f =  [9.99000000e-01 8.10447020e-02 8.11258278e-05]\n",
      "x_vec_for_f =  [9.99000000e-01 8.10447020e-02 8.11258278e-05]\n",
      "x_vec_for_f =  [9.99000000e-01 8.10447020e-02 8.11258278e-05]\n"
     ]
    },
    {
     "name": "stderr",
     "output_type": "stream",
     "text": [
      "544it [00:59, 38.75it/s]"
     ]
    },
    {
     "name": "stdout",
     "output_type": "stream",
     "text": [
      "x_vec_for_f =  [9.99000000e-01 8.10447020e-02 8.11258278e-05]\n",
      "x_vec_for_f =  [9.99000000e-01 8.10447020e-02 8.11258278e-05]\n"
     ]
    },
    {
     "name": "stderr",
     "output_type": "stream",
     "text": [
      "548it [00:59, 38.75it/s]"
     ]
    },
    {
     "name": "stdout",
     "output_type": "stream",
     "text": [
      "x_vec_for_f =  [9.99000000e-01 8.10447020e-02 8.11258278e-05]\n",
      "x_vec_for_f =  [9.99000000e-01 8.10447020e-02 8.11258278e-05]\n",
      "x_vec_for_f =  [9.99000000e-01 8.10447020e-02 8.11258278e-05]\n",
      "x_vec_for_f =  [9.99000000e-01 8.10447020e-02 8.11258278e-05]\n",
      "x_vec_for_f =  [9.99000000e-01 8.10447020e-02 8.11258278e-05]\n",
      "x_vec_for_f =  [9.99000000e-01 8.10447020e-02 8.11258278e-05]\n"
     ]
    },
    {
     "name": "stderr",
     "output_type": "stream",
     "text": [
      "552it [00:59, 38.30it/s]"
     ]
    },
    {
     "name": "stdout",
     "output_type": "stream",
     "text": [
      "x_vec_for_f =  [9.99000000e-01 8.10447020e-02 8.11258278e-05]\n",
      "x_vec_for_f =  [9.99000000e-01 8.10447020e-02 8.11258278e-05]\n"
     ]
    },
    {
     "name": "stderr",
     "output_type": "stream",
     "text": [
      "556it [00:59, 37.52it/s]"
     ]
    },
    {
     "name": "stdout",
     "output_type": "stream",
     "text": [
      "x_vec_for_f =  [9.99000000e-01 8.10447020e-02 8.11258278e-05]\n",
      "x_vec_for_f =  [9.99000000e-01 8.10447020e-02 8.11258278e-05]\n",
      "x_vec_for_f =  [9.99000000e-01 8.10447020e-02 8.11258278e-05]\n",
      "x_vec_for_f =  [9.99000000e-01 8.10447020e-02 8.11258278e-05]\n",
      "x_vec_for_f =  [9.99000000e-01 8.10447020e-02 8.11258278e-05]\n",
      "x_vec_for_f =  [9.99000000e-01 8.10447020e-02 8.11258278e-05]\n"
     ]
    },
    {
     "name": "stderr",
     "output_type": "stream",
     "text": [
      "560it [00:59, 37.30it/s]"
     ]
    },
    {
     "name": "stdout",
     "output_type": "stream",
     "text": [
      "x_vec_for_f =  [9.99000000e-01 8.10447020e-02 8.11258278e-05]\n",
      "x_vec_for_f =  [9.99000000e-01 8.10447020e-02 8.11258278e-05]\n"
     ]
    },
    {
     "name": "stderr",
     "output_type": "stream",
     "text": [
      "564it [00:59, 37.21it/s]"
     ]
    },
    {
     "name": "stdout",
     "output_type": "stream",
     "text": [
      "x_vec_for_f =  [9.99000000e-01 8.10447020e-02 8.11258278e-05]\n",
      "x_vec_for_f =  [9.99000000e-01 8.10447020e-02 8.11258278e-05]\n",
      "x_vec_for_f =  [9.99000000e-01 8.10447020e-02 8.11258278e-05]\n",
      "x_vec_for_f =  [9.99000000e-01 8.10447020e-02 8.11258278e-05]\n",
      "x_vec_for_f =  [9.99000000e-01 8.10447020e-02 8.11258278e-05]\n",
      "x_vec_for_f =  [9.99000000e-01 8.10447020e-02 8.11258278e-05]\n"
     ]
    },
    {
     "name": "stderr",
     "output_type": "stream",
     "text": [
      "568it [00:59, 37.51it/s]"
     ]
    },
    {
     "name": "stdout",
     "output_type": "stream",
     "text": [
      "x_vec_for_f =  [9.99000000e-01 8.10447020e-02 8.11258278e-05]\n",
      "x_vec_for_f =  [9.99000000e-01 8.10447020e-02 8.11258278e-05]\n"
     ]
    },
    {
     "name": "stderr",
     "output_type": "stream",
     "text": [
      "573it [01:00,  9.54it/s]"
     ]
    },
    {
     "name": "stdout",
     "output_type": "stream",
     "text": [
      "x_vec_for_f =  [9.99000000e-01 8.10447020e-02 8.11258278e-05]\n",
      "x_vec_for_f =  [9.99000000e-01 8.10447020e-02 8.11258278e-05]\n",
      "x_vec_for_f =  [9.99000000e-01 8.10447020e-02 8.11258278e-05]\n",
      "x_vec_for_f =  [9.99000000e-01 8.10447020e-02 8.11258278e-05]\n",
      "x_vec_for_f =  [9.99000000e-01 8.10447020e-02 8.11258278e-05]\n",
      "Main loop time: 60.019 s\n"
     ]
    },
    {
     "name": "stderr",
     "output_type": "stream",
     "text": [
      "\n"
     ]
    }
   ],
   "source": [
    "run_name = 'dhc_phph'\n",
    "\n",
    "soln = evolve_DH(\n",
    "    DM_process=dm_params.mode, mDM=dm_params.m_DM,\n",
    "    primary=dm_params.primary,\n",
    "    sigmav=dm_params.sigmav, lifetime=dm_params.lifetime,\n",
    "    struct_boost=dm_params.struct_boost,\n",
    "    start_rs=3000, end_rs=4.+1, coarsen_factor=12, verbose=1,\n",
    "    # use fake reionization to get case-A recomb. coeff.\n",
    "    reion_switch=True, reion_rs=47.,\n",
    "    xe_reion_func=lambda x: 1e-3 * (1+phys.chi),\n",
    "    photoion_rate_func=[lambda x: 0., lambda x: 0., lambda x: 0.],\n",
    "    photoheat_rate_func=[lambda x: 0., lambda x: 0., lambda x: 0.],\n",
    "    cross_check_21cmfast=True,\n",
    "    debug_no_bath=False,\n",
    ")\n",
    "\n",
    "pickle.dump(soln, open(f\"run_info/{run_name}_dh_soln.p\", 'wb'))"
   ]
  },
  {
   "cell_type": "code",
   "execution_count": 5,
   "metadata": {},
   "outputs": [],
   "source": [
    "run_name = 'dhc_phph'\n",
    "dh_soln = pickle.load(open(f\"run_info/{run_name}_dh_soln.p\", 'rb'))\n",
    "dh_xe_interp_func = lambda z: interpolate.interp1d(dh_soln['rs']-1, dh_soln['x'][:, 0])(z).item()\n",
    "hep_N_arr = np.array([s.N for s in dh_soln['highengphot']])\n",
    "hep_rs_arr = np.array([s.rs for s in dh_soln['highengphot']])\n",
    "dh_bath_N_interp_func = interpolate.interp1d(hep_rs_arr-1, hep_N_arr, axis=0)"
   ]
  },
  {
   "cell_type": "code",
   "execution_count": 6,
   "metadata": {},
   "outputs": [
    {
     "name": "stdout",
     "output_type": "stream",
     "text": [
      "'run_info/dhc_phph_dh_soln.p' -> '/n/holyscratch01/iaifi_lab/yitians/21cmFAST-cache/dhc_phph/dh_init_soln.p'\n"
     ]
    }
   ],
   "source": [
    "! cp -v run_info/dhc_phph_dh_soln.p $P21C_CACHE_DIR/dhc_phph/dh_init_soln.p"
   ]
  },
  {
   "cell_type": "code",
   "execution_count": 7,
   "metadata": {},
   "outputs": [
    {
     "name": "stderr",
     "output_type": "stream",
     "text": [
      "/n/home07/yitians/.conda/envs/dm21cm/lib/python3.11/site-packages/py21cmfast/inputs.py:487: UserWarning: The USE_INTERPOLATION_TABLES setting has changed in v3.1.2 to be default True. You can likely ignore this warning, but if you relied onhaving USE_INTERPOLATION_TABLES=False by *default*, please set it explicitly. To silence this warning, set it explicitly to True. Thiswarning will be removed in v4.\n",
      "  warnings.warn(\n",
      "INFO:root:Using 21cmFAST version 0.1.dev1581+g40959ca.d20230929\n",
      "INFO:root:Cache dir: /n/holyscratch01/iaifi_lab/yitians/21cmFAST-cache/dhc_phph\n",
      "INFO:jax._src.xla_bridge:Unable to initialize backend 'rocm': NOT_FOUND: Could not find registered platform with name: \"rocm\". Available platform names are: CUDA Interpreter\n",
      "INFO:jax._src.xla_bridge:Unable to initialize backend 'tpu': module 'jaxlib.xla_extension' has no attribute 'get_tpu_client'\n",
      "INFO:root:TransferFunctionWrapper: Loaded photon transfer functions.\n",
      "INFO:root:DarkHistoryWrapper: Found existing DarkHistory initial conditions.\n",
      "WARNING:root:DarkHistoryWrapper: DMParams mismatch, rerunning.\n",
      "WARNING:root:DarkHistoryWrapper: Overriding remember to turn off.\n"
     ]
    },
    {
     "name": "stdout",
     "output_type": "stream",
     "text": [
      "get_init_cond 45.93060465360486 0.001\n",
      "This is commented out: dspec_dzp = - dxe_dzp * T / (1+x_e); need to put it back in\n",
      "box_ct = 0\n",
      "dzp = -3.170662e-01\n",
      "zp = 4.467847e+01\n",
      "dt_dzp = -5.811694e+13\n",
      "dadia_dzp * dzp = -5.655185e-01\n",
      "dspec_dzp * dzp = 0.000000e+00\n",
      "dcomp_dzp * dzp = 3.589178e-02\n",
      "dxheat_dzp * dzp = 0.000000e+00\n",
      "input heating = 0.000000e+00\n",
      "dxion_source = 0.000000e+00\n",
      "dxion_sink = 2.259717e-07\n",
      "T = 4.073600e+01\n",
      "alpha_A(T) = 1.492184e-11\n",
      "global_params.CLUMPING_FACTOR = 1.000000e+00\n",
      "x_e = 2.129700e-04\n",
      "f_H = 9.249617e-01\n",
      "prefactor_1 = 1.958927e-02\n",
      "curr_delNL0 = -2.138955e-06\n",
      "growth_factor_zp = 2.786624e-02\n",
      "input ionization = 0.000000e+00\n",
      "\n",
      "N_b0 = 2.055340e-07\n",
      "f_H = 9.249617e-01\n",
      "\n",
      "dt 26394325743154.156 26563435524124.99\n",
      "before 45.930607 0.001\n",
      "input_heating 0.028705068\n",
      "This is commented out: dspec_dzp = - dxe_dzp * T / (1+x_e); need to put it back in\n",
      "box_ct = 0\n",
      "dzp = -4.522629e-01\n",
      "zp = 4.422620e+01\n",
      "dt_dzp = -5.958076e+13\n",
      "dadia_dzp * dzp = -9.186139e-01\n",
      "dspec_dzp * dzp = 0.000000e+00\n",
      "dcomp_dzp * dzp = 2.185316e-01\n",
      "dxheat_dzp * dzp = 0.000000e+00\n",
      "input heating = 2.870507e-02\n",
      "dxion_source = 0.000000e+00\n",
      "dxion_sink = 6.574286e-06\n",
      "T = 4.593061e+01\n",
      "alpha_A(T) = 1.387311e-11\n",
      "global_params.CLUMPING_FACTOR = 1.000000e+00\n",
      "x_e = 9.999999e-04\n",
      "f_H = 9.249617e-01\n",
      "prefactor_1 = 1.901315e-02\n",
      "curr_delNL0 = -2.117730e-06\n",
      "growth_factor_zp = 2.814553e-02\n",
      "input ionization = 4.684389e-07\n",
      "\n",
      "N_b0 = 2.055340e-07\n",
      "f_H = 9.249617e-01\n",
      "\n",
      "after 45.259224 0.0009938942\n",
      "----- DM21CM -----\n",
      "z 44.67846508307498\n",
      "[3.60477536e-09 5.57546100e-11 3.07063038e-09 2.05788688e-09\n",
      " 5.29790451e-10 2.11315688e-05]\n",
      "0.00046642064\n",
      "1.6820937e-05\n",
      "0.00035600874\n",
      "0.00028160965\n",
      "-----------------\n",
      "i_z=0/204 z=44.68 bath.toteng=5.365e-01 eV/Bavg\n",
      "dt 26792833769366.656 26947656925614.836\n",
      "before 45.259224 0.0009938942\n",
      "input_heating 0.028722383\n",
      "This is commented out: dspec_dzp = - dxe_dzp * T / (1+x_e); need to put it back in\n",
      "box_ct = 0\n",
      "dzp = -4.477844e-01\n",
      "zp = 4.377842e+01\n",
      "dt_dzp = -6.108145e+13\n",
      "dadia_dzp * dzp = -9.051851e-01\n",
      "dspec_dzp * dzp = 0.000000e+00\n",
      "dcomp_dzp * dzp = 2.103697e-01\n",
      "dxheat_dzp * dzp = 0.000000e+00\n",
      "input heating = 2.872239e-02\n",
      "dxion_source = 0.000000e+00\n",
      "dxion_sink = 6.455543e-06\n",
      "T = 4.525923e+01\n",
      "alpha_A(T) = 1.399782e-11\n",
      "global_params.CLUMPING_FACTOR = 1.000000e+00\n",
      "x_e = 9.938941e-04\n",
      "f_H = 9.249617e-01\n",
      "prefactor_1 = 1.845398e-02\n",
      "curr_delNL0 = -2.096716e-06\n",
      "growth_factor_zp = 2.842761e-02\n",
      "input ionization = 4.686347e-07\n",
      "\n",
      "N_b0 = 2.055340e-07\n",
      "f_H = 9.249617e-01\n",
      "\n",
      "after 44.59314 0.000987907\n",
      "----- DM21CM -----\n",
      "z 44.22620305254949\n",
      "[3.57291359e-09 5.52633758e-11 3.04456556e-09 2.03625971e-09\n",
      " 5.25679167e-10 2.09203929e-05]\n",
      "0.000459947\n",
      "1.660388e-05\n",
      "0.0003509173\n",
      "0.00027776204\n",
      "-----------------\n",
      "i_z=1/204 z=44.23 bath.toteng=5.447e-01 eV/Bavg\n",
      "dt 27197341523803.465 27376433431465.04\n",
      "before 44.59314 0.000987907\n",
      "input_heating 0.02875606\n",
      "This is commented out: dspec_dzp = - dxe_dzp * T / (1+x_e); need to put it back in\n",
      "box_ct = 0\n",
      "dzp = -4.433517e-01\n",
      "zp = 4.333507e+01\n",
      "dt_dzp = -6.261994e+13\n",
      "dadia_dzp * dzp = -8.918650e-01\n",
      "dspec_dzp * dzp = 0.000000e+00\n",
      "dcomp_dzp * dzp = 2.025375e-01\n",
      "dxheat_dzp * dzp = 0.000000e+00\n",
      "input heating = 2.875606e-02\n",
      "dxion_source = 0.000000e+00\n",
      "dxion_sink = 6.340389e-06\n",
      "T = 4.459314e+01\n",
      "alpha_A(T) = 1.412450e-11\n",
      "global_params.CLUMPING_FACTOR = 1.000000e+00\n",
      "x_e = 9.879072e-04\n",
      "f_H = 9.249617e-01\n",
      "prefactor_1 = 1.791125e-02\n",
      "curr_delNL0 = -2.075912e-06\n",
      "growth_factor_zp = 2.871252e-02\n",
      "input ionization = 4.690948e-07\n",
      "\n",
      "N_b0 = 2.055340e-07\n",
      "f_H = 9.249617e-01\n",
      "\n",
      "after 43.93256 0.0009820359\n",
      "----- DM21CM -----\n",
      "z 43.77841886391038\n",
      "[3.54114585e-09 5.47747073e-11 3.01853720e-09 2.01481430e-09\n",
      " 5.21560559e-10 2.07112710e-05]\n",
      "0.0004531694\n",
      "1.637792e-05\n",
      "0.0003456042\n",
      "0.00027373215\n",
      "-----------------\n",
      "i_z=2/204 z=43.78 bath.toteng=5.530e-01 eV/Bavg\n",
      "dt 27607939242665.258 27800964625376.133\n",
      "before 43.93256 0.0009820359\n",
      "input_heating 0.028779127\n",
      "This is commented out: dspec_dzp = - dxe_dzp * T / (1+x_e); need to put it back in\n",
      "box_ct = 0\n",
      "dzp = -4.389610e-01\n",
      "zp = 4.289611e+01\n",
      "dt_dzp = -6.419717e+13\n",
      "dadia_dzp * dzp = -8.786513e-01\n",
      "dspec_dzp * dzp = 0.000000e+00\n",
      "dcomp_dzp * dzp = 1.950185e-01\n",
      "dxheat_dzp * dzp = 0.000000e+00\n",
      "input heating = 2.877913e-02\n",
      "dxion_source = 0.000000e+00\n",
      "dxion_sink = 6.228625e-06\n",
      "T = 4.393257e+01\n",
      "alpha_A(T) = 1.425312e-11\n",
      "global_params.CLUMPING_FACTOR = 1.000000e+00\n",
      "x_e = 9.820359e-04\n",
      "f_H = 9.249617e-01\n",
      "prefactor_1 = 1.738448e-02\n",
      "curr_delNL0 = -2.055313e-06\n",
      "growth_factor_zp = 2.900027e-02\n",
      "input ionization = 4.693856e-07\n",
      "\n",
      "N_b0 = 2.055340e-07\n",
      "f_H = 9.249617e-01\n",
      "\n",
      "after 43.277714 0.00097627664\n",
      "----- DM21CM -----\n",
      "z 43.335068182089486\n",
      "[3.50967313e-09 5.42898341e-11 2.99272857e-09 1.99366237e-09\n",
      " 5.17465457e-10 2.05042199e-05]\n",
      "0.0004465107\n",
      "1.615329e-05\n",
      "0.00034038056\n",
      "0.00026976832\n",
      "-----------------\n",
      "i_z=3/204 z=43.34 bath.toteng=5.614e-01 eV/Bavg\n",
      "dt 28024718518387.168 28221292540139.59\n",
      "before 43.277714 0.00097627664\n",
      "input_heating 0.028797656\n",
      "This is commented out: dspec_dzp = - dxe_dzp * T / (1+x_e); need to put it back in\n",
      "box_ct = 0\n",
      "dzp = -4.346161e-01\n",
      "zp = 4.246149e+01\n",
      "dt_dzp = -6.581414e+13\n",
      "dadia_dzp * dzp = -8.655566e-01\n",
      "dspec_dzp * dzp = 0.000000e+00\n",
      "dcomp_dzp * dzp = 1.878002e-01\n",
      "dxheat_dzp * dzp = 0.000000e+00\n",
      "input heating = 2.879766e-02\n",
      "dxion_source = 0.000000e+00\n",
      "dxion_sink = 6.120164e-06\n",
      "T = 4.327771e+01\n",
      "alpha_A(T) = 1.438371e-11\n",
      "global_params.CLUMPING_FACTOR = 1.000000e+00\n",
      "x_e = 9.762766e-04\n",
      "f_H = 9.249617e-01\n",
      "prefactor_1 = 1.687321e-02\n",
      "curr_delNL0 = -2.034920e-06\n",
      "growth_factor_zp = 2.929090e-02\n",
      "input ionization = 4.696032e-07\n",
      "\n",
      "N_b0 = 2.055340e-07\n",
      "f_H = 9.249617e-01\n",
      "\n",
      "after 42.62876 0.0009706262\n",
      "----- DM21CM -----\n",
      "z 42.89610711097969\n",
      "[3.47849510e-09 5.38087617e-11 2.96713865e-09 1.97279815e-09\n",
      " 5.13394287e-10 2.02992187e-05]\n",
      "0.0004400499\n",
      "1.593415e-05\n",
      "0.00033530922\n",
      "0.0002659215\n",
      "-----------------\n",
      "i_z=4/204 z=42.90 bath.toteng=5.700e-01 eV/Bavg\n",
      "dt 28447772319992.723 28637458792380.64\n",
      "before 42.62876 0.0009706262\n",
      "input_heating 0.028814139\n",
      "This is commented out: dspec_dzp = - dxe_dzp * T / (1+x_e); need to put it back in\n",
      "box_ct = 0\n",
      "dzp = -4.303093e-01\n",
      "zp = 4.203118e+01\n",
      "dt_dzp = -6.747182e+13\n",
      "dadia_dzp * dzp = -8.525701e-01\n",
      "dspec_dzp * dzp = 0.000000e+00\n",
      "dcomp_dzp * dzp = 1.808660e-01\n",
      "dxheat_dzp * dzp = 0.000000e+00\n",
      "input heating = 2.881414e-02\n",
      "dxion_source = 0.000000e+00\n",
      "dxion_sink = 6.014767e-06\n",
      "T = 4.262875e+01\n",
      "alpha_A(T) = 1.451625e-11\n",
      "global_params.CLUMPING_FACTOR = 1.000000e+00\n",
      "x_e = 9.706261e-04\n",
      "f_H = 9.249617e-01\n",
      "prefactor_1 = 1.637697e-02\n",
      "curr_delNL0 = -2.014730e-06\n",
      "growth_factor_zp = 2.958443e-02\n",
      "input ionization = 4.697877e-07\n",
      "\n",
      "N_b0 = 2.055340e-07\n",
      "f_H = 9.249617e-01\n",
      "\n",
      "after 41.985863 0.0009650811\n",
      "----- DM21CM -----\n",
      "z 42.4614921890888\n",
      "[3.44760767e-09 5.33314739e-11 2.94176711e-09 1.95221584e-09\n",
      " 5.09347349e-10 2.00962492e-05]\n",
      "0.00043381235\n",
      "1.5721907e-05\n",
      "0.00033040953\n",
      "0.00026220715\n",
      "-----------------\n",
      "i_z=5/204 z=42.46 bath.toteng=5.787e-01 eV/Bavg\n",
      "dt 28877195013747.312 29049504586678.707\n",
      "before 41.985863 0.0009650811\n",
      "input_heating 0.02882918\n",
      "This is commented out: dspec_dzp = - dxe_dzp * T / (1+x_e); need to put it back in\n",
      "box_ct = 0\n",
      "dzp = -4.260521e-01\n",
      "zp = 4.160513e+01\n",
      "dt_dzp = -6.917126e+13\n",
      "dadia_dzp * dzp = -8.397189e-01\n",
      "dspec_dzp * dzp = 0.000000e+00\n",
      "dcomp_dzp * dzp = 1.742082e-01\n",
      "dxheat_dzp * dzp = 0.000000e+00\n",
      "input heating = 2.882917e-02\n",
      "dxion_source = 0.000000e+00\n",
      "dxion_sink = 5.912473e-06\n",
      "T = 4.198586e+01\n",
      "alpha_A(T) = 1.465075e-11\n",
      "global_params.CLUMPING_FACTOR = 1.000000e+00\n",
      "x_e = 9.650811e-04\n",
      "f_H = 9.249617e-01\n",
      "prefactor_1 = 1.589533e-02\n",
      "curr_delNL0 = -1.994740e-06\n",
      "growth_factor_zp = 2.988090e-02\n",
      "input ionization = 4.699485e-07\n",
      "\n",
      "N_b0 = 2.055340e-07\n",
      "f_H = 9.249617e-01\n",
      "\n",
      "after 41.349182 0.00095963856\n",
      "----- DM21CM -----\n",
      "z 42.03118038523644\n",
      "[3.41700981e-09 5.28579815e-11 2.91661224e-09 1.93191016e-09\n",
      " 5.05324981e-10 1.98952919e-05]\n",
      "0.0004277932\n",
      "1.551655e-05\n",
      "0.00032567803\n",
      "0.00025862278\n",
      "-----------------\n",
      "i_z=6/204 z=42.03 bath.toteng=5.875e-01 eV/Bavg\n",
      "dt 29313082384126.58 29498598223099.016\n",
      "before 41.349182 0.00095963856\n",
      "input_heating 0.028846888\n",
      "This is commented out: dspec_dzp = - dxe_dzp * T / (1+x_e); need to put it back in\n",
      "box_ct = 0\n",
      "dzp = -4.218330e-01\n",
      "zp = 4.118330e+01\n",
      "dt_dzp = -7.091350e+13\n",
      "dadia_dzp * dzp = -8.269838e-01\n",
      "dspec_dzp * dzp = 0.000000e+00\n",
      "dcomp_dzp * dzp = 1.678099e-01\n",
      "dxheat_dzp * dzp = 0.000000e+00\n",
      "input heating = 2.884688e-02\n",
      "dxion_source = 0.000000e+00\n",
      "dxion_sink = 5.813002e-06\n",
      "T = 4.134918e+01\n",
      "alpha_A(T) = 1.478722e-11\n",
      "global_params.CLUMPING_FACTOR = 1.000000e+00\n",
      "x_e = 9.596386e-04\n",
      "f_H = 9.249617e-01\n",
      "prefactor_1 = 1.542785e-02\n",
      "curr_delNL0 = -1.974950e-06\n",
      "growth_factor_zp = 3.018034e-02\n",
      "input ionization = 4.701535e-07\n",
      "\n",
      "N_b0 = 2.055340e-07\n",
      "f_H = 9.249617e-01\n",
      "\n",
      "after 40.718864 0.00095429557\n",
      "----- DM21CM -----\n",
      "z 41.6051290942935\n",
      "[3.38654992e-09 5.23873529e-11 2.89153981e-09 1.91179117e-09\n",
      " 5.01306234e-10 1.96962505e-05]\n",
      "0.0004214516\n",
      "1.5299393e-05\n",
      "0.0003207064\n",
      "0.00025484175\n",
      "-----------------\n",
      "i_z=7/204 z=41.61 bath.toteng=5.964e-01 eV/Bavg\n",
      "dt 29755531655094.64 29962430033698.23\n",
      "before 40.718864 0.00095429557\n",
      "input_heating 0.02886522\n",
      "This is commented out: dspec_dzp = - dxe_dzp * T / (1+x_e); need to put it back in\n",
      "box_ct = 0\n",
      "dzp = -4.176559e-01\n",
      "zp = 4.076564e+01\n",
      "dt_dzp = -7.269962e+13\n",
      "dadia_dzp * dzp = -8.143763e-01\n",
      "dspec_dzp * dzp = 0.000000e+00\n",
      "dcomp_dzp * dzp = 1.616616e-01\n",
      "dxheat_dzp * dzp = 0.000000e+00\n",
      "input heating = 2.886523e-02\n",
      "dxion_source = 0.000000e+00\n",
      "dxion_sink = 5.716300e-06\n",
      "T = 4.071886e+01\n",
      "alpha_A(T) = 1.492565e-11\n",
      "global_params.CLUMPING_FACTOR = 1.000000e+00\n",
      "x_e = 9.542957e-04\n",
      "f_H = 9.249617e-01\n",
      "prefactor_1 = 1.497412e-02\n",
      "curr_delNL0 = -1.955355e-06\n",
      "growth_factor_zp = 3.048277e-02\n",
      "input ionization = 4.703699e-07\n",
      "\n",
      "N_b0 = 2.055340e-07\n",
      "f_H = 9.249617e-01\n",
      "\n",
      "after 40.09501 0.0009490496\n",
      "----- DM21CM -----\n",
      "z 41.18329613296386\n",
      "[3.35630636e-09 5.19200671e-11 2.86662001e-09 1.89189958e-09\n",
      " 4.97302603e-10 1.94991417e-05]\n",
      "0.00041510642\n",
      "1.5081377e-05\n",
      "0.0003157358\n",
      "0.0002510563\n",
      "-----------------\n",
      "i_z=8/204 z=41.18 bath.toteng=6.055e-01 eV/Bavg\n",
      "dt 30204641511701.13 30421669450133.094\n",
      "before 40.09501 0.0009490496\n",
      "input_heating 0.028882317\n",
      "This is commented out: dspec_dzp = - dxe_dzp * T / (1+x_e); need to put it back in\n",
      "box_ct = 0\n",
      "dzp = -4.135208e-01\n",
      "zp = 4.035212e+01\n",
      "dt_dzp = -7.453073e+13\n",
      "dadia_dzp * dzp = -8.018995e-01\n",
      "dspec_dzp * dzp = 0.000000e+00\n",
      "dcomp_dzp * dzp = 1.557524e-01\n",
      "dxheat_dzp * dzp = 0.000000e+00\n",
      "input heating = 2.888231e-02\n",
      "dxion_source = 0.000000e+00\n",
      "dxion_sink = 5.622261e-06\n",
      "T = 4.009501e+01\n",
      "alpha_A(T) = 1.506605e-11\n",
      "global_params.CLUMPING_FACTOR = 1.000000e+00\n",
      "x_e = 9.490498e-04\n",
      "f_H = 9.249617e-01\n",
      "prefactor_1 = 1.453373e-02\n",
      "curr_delNL0 = -1.935956e-06\n",
      "growth_factor_zp = 3.078822e-02\n",
      "input ionization = 4.705663e-07\n",
      "\n",
      "N_b0 = 2.055340e-07\n",
      "f_H = 9.249617e-01\n",
      "\n",
      "after 39.477745 0.00094389817\n",
      "----- DM21CM -----\n",
      "z 40.765639735607785\n",
      "[3.32634727e-09 5.14565714e-11 2.84191670e-09 1.87227150e-09\n",
      " 4.93324737e-10 1.93039921e-05]\n",
      "0.0004089997\n",
      "1.4871029e-05\n",
      "0.0003109489\n",
      "0.0002474128\n",
      "-----------------\n",
      "i_z=9/204 z=40.77 bath.toteng=6.147e-01 eV/Bavg\n",
      "dt 30660512121997.074 30876361941652.76\n",
      "before 39.477745 0.00094389817\n",
      "input_heating 0.028898234\n",
      "This is commented out: dspec_dzp = - dxe_dzp * T / (1+x_e); need to put it back in\n",
      "box_ct = 0\n",
      "dzp = -4.094276e-01\n",
      "zp = 3.994269e+01\n",
      "dt_dzp = -7.640796e+13\n",
      "dadia_dzp * dzp = -7.895563e-01\n",
      "dspec_dzp * dzp = 0.000000e+00\n",
      "dcomp_dzp * dzp = 1.500723e-01\n",
      "dxheat_dzp * dzp = 0.000000e+00\n",
      "input heating = 2.889823e-02\n",
      "dxion_source = 0.000000e+00\n",
      "dxion_sink = 5.530787e-06\n",
      "T = 3.947775e+01\n",
      "alpha_A(T) = 1.520842e-11\n",
      "global_params.CLUMPING_FACTOR = 1.000000e+00\n",
      "x_e = 9.438982e-04\n",
      "f_H = 9.249617e-01\n",
      "prefactor_1 = 1.410629e-02\n",
      "curr_delNL0 = -1.916750e-06\n",
      "growth_factor_zp = 3.109673e-02\n",
      "input ionization = 4.707439e-07\n",
      "\n",
      "N_b0 = 2.055340e-07\n",
      "f_H = 9.249617e-01\n",
      "\n",
      "after 38.867165 0.0009388383\n",
      "----- DM21CM -----\n",
      "z 40.35211855010672\n",
      "[3.29666992e-09 5.09968391e-11 2.81742786e-09 1.85290132e-09\n",
      " 4.89372591e-10 1.91107723e-05]\n",
      "0.00040311835\n",
      "1.466801e-05\n",
      "0.00030633548\n",
      "0.00024390369\n",
      "-----------------\n",
      "i_z=10/204 z=40.35 bath.toteng=6.241e-01 eV/Bavg\n",
      "dt 31123245159283.855 31326552527315.8\n",
      "before 38.867165 0.0009388383\n",
      "input_heating 0.028913112\n",
      "This is commented out: dspec_dzp = - dxe_dzp * T / (1+x_e); need to put it back in\n",
      "box_ct = 0\n",
      "dzp = -4.053726e-01\n",
      "zp = 3.953732e+01\n",
      "dt_dzp = -7.833247e+13\n",
      "dadia_dzp * dzp = -7.773421e-01\n",
      "dspec_dzp * dzp = 0.000000e+00\n",
      "dcomp_dzp * dzp = 1.446100e-01\n",
      "dxheat_dzp * dzp = 0.000000e+00\n",
      "input heating = 2.891312e-02\n",
      "dxion_source = 0.000000e+00\n",
      "dxion_sink = 5.441731e-06\n",
      "T = 3.886716e+01\n",
      "alpha_A(T) = 1.535277e-11\n",
      "global_params.CLUMPING_FACTOR = 1.000000e+00\n",
      "x_e = 9.388381e-04\n",
      "f_H = 9.249617e-01\n",
      "prefactor_1 = 1.369143e-02\n",
      "curr_delNL0 = -1.897734e-06\n",
      "growth_factor_zp = 3.140832e-02\n",
      "input ionization = 4.709046e-07\n",
      "\n",
      "N_b0 = 2.055340e-07\n",
      "f_H = 9.249617e-01\n",
      "\n",
      "after 38.263344 0.0009338672\n",
      "----- DM21CM -----\n",
      "z 39.94269163376902\n",
      "[3.26727261e-09 5.05408649e-11 2.79315278e-09 1.83378392e-09\n",
      " 4.85446508e-10 1.89194643e-05]\n",
      "0.0003974509\n",
      "1.4471996e-05\n",
      "0.0003018874\n",
      "0.00024052235\n",
      "-----------------\n",
      "i_z=11/204 z=39.94 bath.toteng=6.336e-01 eV/Bavg\n",
      "dt 31592943824690.793 31772285780447.52\n",
      "before 38.263344 0.0009338672\n",
      "input_heating 0.028927065\n",
      "This is commented out: dspec_dzp = - dxe_dzp * T / (1+x_e); need to put it back in\n",
      "box_ct = 0\n",
      "dzp = -4.013596e-01\n",
      "zp = 3.913596e+01\n",
      "dt_dzp = -8.030545e+13\n",
      "dadia_dzp * dzp = -7.652667e-01\n",
      "dspec_dzp * dzp = 0.000000e+00\n",
      "dcomp_dzp * dzp = 1.393579e-01\n",
      "dxheat_dzp * dzp = 0.000000e+00\n",
      "input heating = 2.892707e-02\n",
      "dxion_source = 0.000000e+00\n",
      "dxion_sink = 5.355058e-06\n",
      "T = 3.826334e+01\n",
      "alpha_A(T) = 1.549911e-11\n",
      "global_params.CLUMPING_FACTOR = 1.000000e+00\n",
      "x_e = 9.338673e-04\n",
      "f_H = 9.249617e-01\n",
      "prefactor_1 = 1.328877e-02\n",
      "curr_delNL0 = -1.878908e-06\n",
      "growth_factor_zp = 3.172303e-02\n",
      "input ionization = 4.710500e-07\n",
      "\n",
      "N_b0 = 2.055340e-07\n",
      "f_H = 9.249617e-01\n",
      "\n",
      "after 37.66636 0.00092898315\n",
      "----- DM21CM -----\n",
      "z 39.53731844927626\n",
      "[3.23815260e-09 5.00886488e-11 2.76909012e-09 1.81491589e-09\n",
      " 4.81546699e-10 1.87300540e-05]\n",
      "0.00039198683\n",
      "1.4282653e-05\n",
      "0.00029759592\n",
      "0.00023726249\n",
      "-----------------\n",
      "i_z=12/204 z=39.54 bath.toteng=6.432e-01 eV/Bavg\n",
      "dt 32069712870091.984 32281268057287.35\n",
      "before 37.66636 0.00092898315\n",
      "input_heating 0.02893036\n",
      "This is commented out: dspec_dzp = - dxe_dzp * T / (1+x_e); need to put it back in\n",
      "box_ct = 0\n",
      "dzp = -3.973846e-01\n",
      "zp = 3.873857e+01\n",
      "dt_dzp = -8.232812e+13\n",
      "dadia_dzp * dzp = -7.533251e-01\n",
      "dspec_dzp * dzp = 0.000000e+00\n",
      "dcomp_dzp * dzp = 1.343059e-01\n",
      "dxheat_dzp * dzp = 0.000000e+00\n",
      "input heating = 2.893036e-02\n",
      "dxion_source = 0.000000e+00\n",
      "dxion_sink = 5.270630e-06\n",
      "T = 3.766636e+01\n",
      "alpha_A(T) = 1.564743e-11\n",
      "global_params.CLUMPING_FACTOR = 1.000000e+00\n",
      "x_e = 9.289833e-04\n",
      "f_H = 9.249617e-01\n",
      "prefactor_1 = 1.289795e-02\n",
      "curr_delNL0 = -1.860268e-06\n",
      "growth_factor_zp = 3.204088e-02\n",
      "input ionization = 4.710267e-07\n",
      "\n",
      "N_b0 = 2.055340e-07\n",
      "f_H = 9.249617e-01\n",
      "\n",
      "after 37.07627 0.00092418375\n",
      "----- DM21CM -----\n",
      "z 39.13595886066957\n",
      "[3.20909732e-09 4.96388174e-11 2.74504841e-09 1.79617340e-09\n",
      " 4.77635860e-10 1.85426015e-05]\n",
      "0.0003857793\n",
      "1.4064678e-05\n",
      "0.00029274286\n",
      "0.00023354811\n",
      "-----------------\n",
      "i_z=13/204 z=39.14 bath.toteng=6.530e-01 eV/Bavg\n",
      "dt 32553658621355.293 32787099160841.23\n",
      "before 37.07627 0.00092418375\n",
      "input_heating 0.028944815\n",
      "This is commented out: dspec_dzp = - dxe_dzp * T / (1+x_e); need to put it back in\n",
      "box_ct = 0\n",
      "dzp = -3.934517e-01\n",
      "zp = 3.834512e+01\n",
      "dt_dzp = -8.440174e+13\n",
      "dadia_dzp * dzp = -7.415263e-01\n",
      "dspec_dzp * dzp = 0.000000e+00\n",
      "dcomp_dzp * dzp = 1.294470e-01\n",
      "dxheat_dzp * dzp = 0.000000e+00\n",
      "input heating = 2.894481e-02\n",
      "dxion_source = 0.000000e+00\n",
      "dxion_sink = 5.188419e-06\n",
      "T = 3.707627e+01\n",
      "alpha_A(T) = 1.579776e-11\n",
      "global_params.CLUMPING_FACTOR = 1.000000e+00\n",
      "x_e = 9.241836e-04\n",
      "f_H = 9.249617e-01\n",
      "prefactor_1 = 1.251862e-02\n",
      "curr_delNL0 = -1.841814e-06\n",
      "growth_factor_zp = 3.236192e-02\n",
      "input ionization = 4.711831e-07\n",
      "\n",
      "N_b0 = 2.055340e-07\n",
      "f_H = 9.249617e-01\n",
      "\n",
      "after 36.493137 0.0009194666\n",
      "----- DM21CM -----\n",
      "z 38.73857312937581\n",
      "[3.18031152e-09 4.91926909e-11 2.72121332e-09 1.77766888e-09\n",
      " 4.73750828e-10 1.83570090e-05]\n",
      "0.00037994504\n",
      "1.3860856e-05\n",
      "0.00028817847\n",
      "0.00023005984\n",
      "-----------------\n",
      "i_z=14/204 z=38.74 bath.toteng=6.629e-01 eV/Bavg\n",
      "dt 33044889001957.47 33287922035647.05\n",
      "before 36.493137 0.0009194666\n",
      "input_heating 0.028959813\n",
      "This is commented out: dspec_dzp = - dxe_dzp * T / (1+x_e); need to put it back in\n",
      "box_ct = 0\n",
      "dzp = -3.895569e-01\n",
      "zp = 3.795557e+01\n",
      "dt_dzp = -8.652760e+13\n",
      "dadia_dzp * dzp = -7.298650e-01\n",
      "dspec_dzp * dzp = 0.000000e+00\n",
      "dcomp_dzp * dzp = 1.247720e-01\n",
      "dxheat_dzp * dzp = 0.000000e+00\n",
      "input heating = 2.895982e-02\n",
      "dxion_source = 0.000000e+00\n",
      "dxion_sink = 5.108299e-06\n",
      "T = 3.649314e+01\n",
      "alpha_A(T) = 1.595008e-11\n",
      "global_params.CLUMPING_FACTOR = 1.000000e+00\n",
      "x_e = 9.194664e-04\n",
      "f_H = 9.249617e-01\n",
      "prefactor_1 = 1.215045e-02\n",
      "curr_delNL0 = -1.823544e-06\n",
      "growth_factor_zp = 3.268616e-02\n",
      "input ionization = 4.713480e-07\n",
      "\n",
      "N_b0 = 2.055340e-07\n",
      "f_H = 9.249617e-01\n",
      "\n",
      "after 35.917 0.0009148296\n",
      "----- DM21CM -----\n",
      "z 38.34512191027308\n",
      "[3.15179758e-09 4.87502746e-11 2.69758860e-09 1.75940197e-09\n",
      " 4.69892667e-10 1.81732502e-05]\n",
      "0.00037435148\n",
      "1.36652725e-05\n",
      "0.0002837996\n",
      "0.00022671602\n",
      "-----------------\n",
      "i_z=15/204 z=38.35 bath.toteng=6.730e-01 eV/Bavg\n",
      "dt 33543513556926.85 33783786268128.062\n",
      "before 35.917 0.0009148296\n",
      "input_heating 0.02897388\n",
      "This is commented out: dspec_dzp = - dxe_dzp * T / (1+x_e); need to put it back in\n",
      "box_ct = 0\n",
      "dzp = -3.857002e-01\n",
      "zp = 3.756987e+01\n",
      "dt_dzp = -8.870700e+13\n",
      "dadia_dzp * dzp = -7.183430e-01\n",
      "dspec_dzp * dzp = 0.000000e+00\n",
      "dcomp_dzp * dzp = 1.202735e-01\n",
      "dxheat_dzp * dzp = 0.000000e+00\n",
      "input heating = 2.897388e-02\n",
      "dxion_source = 0.000000e+00\n",
      "dxion_sink = 5.030198e-06\n",
      "T = 3.591700e+01\n",
      "alpha_A(T) = 1.610442e-11\n",
      "global_params.CLUMPING_FACTOR = 1.000000e+00\n",
      "x_e = 9.148295e-04\n",
      "f_H = 9.249617e-01\n",
      "prefactor_1 = 1.179311e-02\n",
      "curr_delNL0 = -1.805454e-06\n",
      "growth_factor_zp = 3.301365e-02\n",
      "input ionization = 4.714977e-07\n",
      "\n",
      "N_b0 = 2.055340e-07\n",
      "f_H = 9.249617e-01\n",
      "\n",
      "after 35.347904 0.0009102709\n",
      "----- DM21CM -----\n",
      "z 37.955566247795126\n",
      "[3.12355448e-09 4.83115684e-11 2.67417322e-09 1.74136826e-09\n",
      " 4.66061547e-10 1.79913137e-05]\n",
      "0.00036896646\n",
      "1.34766415e-05\n",
      "0.0002795815\n",
      "0.00022349689\n",
      "-----------------\n",
      "i_z=16/204 z=37.96 bath.toteng=6.832e-01 eV/Bavg\n",
      "dt 34049643477171.055 34274740953752.83\n",
      "before 35.347904 0.0009102709\n",
      "input_heating 0.028987048\n",
      "This is commented out: dspec_dzp = - dxe_dzp * T / (1+x_e); need to put it back in\n",
      "box_ct = 0\n",
      "dzp = -3.818779e-01\n",
      "zp = 3.718799e+01\n",
      "dt_dzp = -9.094127e+13\n",
      "dadia_dzp * dzp = -7.069545e-01\n",
      "dspec_dzp * dzp = 0.000000e+00\n",
      "dcomp_dzp * dzp = 1.159432e-01\n",
      "dxheat_dzp * dzp = 0.000000e+00\n",
      "input heating = 2.898704e-02\n",
      "dxion_source = 0.000000e+00\n",
      "dxion_sink = 4.953997e-06\n",
      "T = 3.534791e+01\n",
      "alpha_A(T) = 1.626077e-11\n",
      "global_params.CLUMPING_FACTOR = 1.000000e+00\n",
      "x_e = 9.102708e-04\n",
      "f_H = 9.249617e-01\n",
      "prefactor_1 = 1.144627e-02\n",
      "curr_delNL0 = -1.787545e-06\n",
      "growth_factor_zp = 3.334441e-02\n",
      "input ionization = 4.716326e-07\n",
      "\n",
      "N_b0 = 2.055340e-07\n",
      "f_H = 9.249617e-01\n",
      "\n",
      "after 34.785885 0.00090578845\n",
      "----- DM21CM -----\n",
      "z 37.56986757207438\n",
      "[3.09557914e-09 4.78765512e-11 2.65096582e-09 1.72356383e-09\n",
      " 4.62257638e-10 1.78111815e-05]\n",
      "0.00036377832\n",
      "1.3294588e-05\n",
      "0.00027551514\n",
      "0.00022039558\n",
      "-----------------\n",
      "i_z=17/204 z=37.57 bath.toteng=6.936e-01 eV/Bavg\n",
      "dt 34563391624134.39 34760834701896.156\n",
      "before 34.785885 0.00090578845\n",
      "input_heating 0.028999336\n",
      "This is commented out: dspec_dzp = - dxe_dzp * T / (1+x_e); need to put it back in\n",
      "box_ct = 0\n",
      "dzp = -3.781013e-01\n",
      "zp = 3.680989e+01\n",
      "dt_dzp = -9.323184e+13\n",
      "dadia_dzp * dzp = -6.957223e-01\n",
      "dspec_dzp * dzp = 0.000000e+00\n",
      "dcomp_dzp * dzp = 1.117776e-01\n",
      "dxheat_dzp * dzp = 0.000000e+00\n",
      "input heating = 2.899934e-02\n",
      "dxion_source = 0.000000e+00\n",
      "dxion_sink = 4.879781e-06\n",
      "T = 3.478588e+01\n",
      "alpha_A(T) = 1.641915e-11\n",
      "global_params.CLUMPING_FACTOR = 1.000000e+00\n",
      "x_e = 9.057884e-04\n",
      "f_H = 9.249617e-01\n",
      "prefactor_1 = 1.110964e-02\n",
      "curr_delNL0 = -1.769814e-06\n",
      "growth_factor_zp = 3.367848e-02\n",
      "input ionization = 4.717535e-07\n",
      "\n",
      "N_b0 = 2.055340e-07\n",
      "f_H = 9.249617e-01\n",
      "\n",
      "after 34.230934 0.0009013805\n",
      "----- DM21CM -----\n",
      "z 37.18798769512315\n",
      "[3.06786954e-09 4.74452068e-11 2.62796539e-09 1.70598526e-09\n",
      " 4.58480898e-10 1.76328312e-05]\n",
      "0.0003587763\n",
      "1.3118755e-05\n",
      "0.00027159214\n",
      "0.0002174057\n",
      "-----------------\n",
      "i_z=18/204 z=37.19 bath.toteng=7.041e-01 eV/Bavg\n",
      "dt 35084872554857.797 35316635496843.0\n",
      "before 34.230934 0.0009013805\n",
      "input_heating 0.029029759\n",
      "This is commented out: dspec_dzp = - dxe_dzp * T / (1+x_e); need to put it back in\n",
      "box_ct = 0\n",
      "dzp = -3.743553e-01\n",
      "zp = 3.643553e+01\n",
      "dt_dzp = -9.558008e+13\n",
      "dadia_dzp * dzp = -6.846188e-01\n",
      "dspec_dzp * dzp = 0.000000e+00\n",
      "dcomp_dzp * dzp = 1.077659e-01\n",
      "dxheat_dzp * dzp = 0.000000e+00\n",
      "input heating = 2.902976e-02\n",
      "dxion_source = 0.000000e+00\n",
      "dxion_sink = 4.807289e-06\n",
      "T = 3.423094e+01\n",
      "alpha_A(T) = 1.657956e-11\n",
      "global_params.CLUMPING_FACTOR = 1.000000e+00\n",
      "x_e = 9.013804e-04\n",
      "f_H = 9.249617e-01\n",
      "prefactor_1 = 1.078291e-02\n",
      "curr_delNL0 = -1.752259e-06\n",
      "growth_factor_zp = 3.401589e-02\n",
      "input ionization = 4.721670e-07\n",
      "\n",
      "N_b0 = 2.055340e-07\n",
      "f_H = 9.249617e-01\n",
      "\n",
      "after 33.68311 0.0008970453\n",
      "----- DM21CM -----\n",
      "z 36.80988880705262\n",
      "[3.04022637e-09 4.70162312e-11 2.60499187e-09 1.68851792e-09\n",
      " 4.54700454e-10 1.74561861e-05]\n",
      "0.00035343098\n",
      "1.2932306e-05\n",
      "0.0002674194\n",
      "0.0002142088\n",
      "-----------------\n",
      "i_z=19/204 z=36.81 bath.toteng=7.148e-01 eV/Bavg\n",
      "dt 35614202547379.48 35873313434005.484\n",
      "before 33.68311 0.0008970453\n",
      "input_heating 0.029052444\n",
      "This is commented out: dspec_dzp = - dxe_dzp * T / (1+x_e); need to put it back in\n",
      "box_ct = 0\n",
      "dzp = -3.706474e-01\n",
      "zp = 3.606488e+01\n",
      "dt_dzp = -9.798746e+13\n",
      "dadia_dzp * dzp = -6.736597e-01\n",
      "dspec_dzp * dzp = 0.000000e+00\n",
      "dcomp_dzp * dzp = 1.039040e-01\n",
      "dxheat_dzp * dzp = 0.000000e+00\n",
      "input heating = 2.905245e-02\n",
      "dxion_source = 0.000000e+00\n",
      "dxion_sink = 4.736562e-06\n",
      "T = 3.368311e+01\n",
      "alpha_A(T) = 1.674201e-11\n",
      "global_params.CLUMPING_FACTOR = 1.000000e+00\n",
      "x_e = 8.970453e-04\n",
      "f_H = 9.249617e-01\n",
      "prefactor_1 = 1.046578e-02\n",
      "curr_delNL0 = -1.734878e-06\n",
      "growth_factor_zp = 3.435667e-02\n",
      "input ionization = 4.724578e-07\n",
      "\n",
      "N_b0 = 2.055340e-07\n",
      "f_H = 9.249617e-01\n",
      "\n",
      "after 33.142403 0.00089278095\n",
      "----- DM21CM -----\n",
      "z 36.43553347232933\n",
      "[3.01283019e-09 4.65907901e-11 2.58220896e-09 1.67126096e-09\n",
      " 4.50944921e-10 1.72812867e-05]\n",
      "0.0003481533\n",
      "1.2746916e-05\n",
      "0.00026329936\n",
      "0.00021104951\n",
      "-----------------\n",
      "i_z=20/204 z=36.44 bath.toteng=7.257e-01 eV/Bavg\n",
      "dt 36151499626537.16 36424479708423.79\n",
      "before 33.142403 0.00089278095\n",
      "input_heating 0.029071452\n",
      "This is commented out: dspec_dzp = - dxe_dzp * T / (1+x_e); need to put it back in\n",
      "box_ct = 0\n",
      "dzp = -3.669777e-01\n",
      "zp = 3.569791e+01\n",
      "dt_dzp = -1.004555e+14\n",
      "dadia_dzp * dzp = -6.628457e-01\n",
      "dspec_dzp * dzp = 0.000000e+00\n",
      "dcomp_dzp * dzp = 1.001861e-01\n",
      "dxheat_dzp * dzp = 0.000000e+00\n",
      "input heating = 2.907146e-02\n",
      "dxion_source = 0.000000e+00\n",
      "dxion_sink = 4.667544e-06\n",
      "T = 3.314241e+01\n",
      "alpha_A(T) = 1.690650e-11\n",
      "global_params.CLUMPING_FACTOR = 1.000000e+00\n",
      "x_e = 8.927812e-04\n",
      "f_H = 9.249617e-01\n",
      "prefactor_1 = 1.015799e-02\n",
      "curr_delNL0 = -1.717671e-06\n",
      "growth_factor_zp = 3.470086e-02\n",
      "input ionization = 4.726894e-07\n",
      "\n",
      "N_b0 = 2.055340e-07\n",
      "f_H = 9.249617e-01\n",
      "\n",
      "after 32.60882 0.0008885862\n",
      "----- DM21CM -----\n",
      "z 36.06488462606865\n",
      "[2.98569496e-09 4.61689794e-11 2.55963028e-09 1.65421981e-09\n",
      " 4.47216941e-10 1.71081204e-05]\n",
      "0.00034304653\n",
      "1.2566881e-05\n",
      "0.0002593104\n",
      "0.00020799202\n",
      "-----------------\n",
      "i_z=21/204 z=36.06 bath.toteng=7.367e-01 eV/Bavg\n",
      "dt 36696883590143.86 36970188891016.17\n",
      "before 32.60882 0.0008885862\n",
      "input_heating 0.029089175\n",
      "This is commented out: dspec_dzp = - dxe_dzp * T / (1+x_e); need to put it back in\n",
      "box_ct = 0\n",
      "dzp = -3.633461e-01\n",
      "zp = 3.533456e+01\n",
      "dt_dzp = -1.029857e+14\n",
      "dadia_dzp * dzp = -6.521773e-01\n",
      "dspec_dzp * dzp = 0.000000e+00\n",
      "dcomp_dzp * dzp = 9.660642e-02\n",
      "dxheat_dzp * dzp = 0.000000e+00\n",
      "input heating = 2.908917e-02\n",
      "dxion_source = 0.000000e+00\n",
      "dxion_sink = 4.600181e-06\n",
      "T = 3.260882e+01\n",
      "alpha_A(T) = 1.707305e-11\n",
      "global_params.CLUMPING_FACTOR = 1.000000e+00\n",
      "x_e = 8.885863e-04\n",
      "f_H = 9.249617e-01\n",
      "prefactor_1 = 9.859241e-03\n",
      "curr_delNL0 = -1.700634e-06\n",
      "growth_factor_zp = 3.504849e-02\n",
      "input ionization = 4.729002e-07\n",
      "\n",
      "N_b0 = 2.055340e-07\n",
      "f_H = 9.249617e-01\n",
      "\n",
      "after 32.08234 0.0008844592\n",
      "----- DM21CM -----\n",
      "z 35.697905570364995\n",
      "[2.95881831e-09 4.57507884e-11 2.53725499e-09 1.63739141e-09\n",
      " 4.43516683e-10 1.69366691e-05]\n",
      "0.0003381273\n",
      "1.2393127e-05\n",
      "0.00025546577\n",
      "0.00020504669\n",
      "-----------------\n",
      "i_z=22/204 z=35.70 bath.toteng=7.479e-01 eV/Bavg\n",
      "dt 37250476035553.99 37510495012394.766\n",
      "before 32.08234 0.0008844592\n",
      "input_heating 0.029106073\n",
      "This is commented out: dspec_dzp = - dxe_dzp * T / (1+x_e); need to put it back in\n",
      "box_ct = 0\n",
      "dzp = -3.597488e-01\n",
      "zp = 3.497481e+01\n",
      "dt_dzp = -1.055796e+14\n",
      "dadia_dzp * dzp = -6.416481e-01\n",
      "dspec_dzp * dzp = 0.000000e+00\n",
      "dcomp_dzp * dzp = 9.315864e-02\n",
      "dxheat_dzp * dzp = 0.000000e+00\n",
      "input heating = 2.910607e-02\n",
      "dxion_source = 0.000000e+00\n",
      "dxion_sink = 4.534372e-06\n",
      "T = 3.208234e+01\n",
      "alpha_A(T) = 1.724167e-11\n",
      "global_params.CLUMPING_FACTOR = 1.000000e+00\n",
      "x_e = 8.844591e-04\n",
      "f_H = 9.249617e-01\n",
      "prefactor_1 = 9.569282e-03\n",
      "curr_delNL0 = -1.683766e-06\n",
      "growth_factor_zp = 3.539960e-02\n",
      "input ionization = 4.730977e-07\n",
      "\n",
      "N_b0 = 2.055340e-07\n",
      "f_H = 9.249617e-01\n",
      "\n",
      "after 31.562958 0.0008803978\n",
      "----- DM21CM -----\n",
      "z 35.33455997065841\n",
      "[2.93219785e-09 4.53361957e-11 2.51508104e-09 1.62077185e-09\n",
      " 4.39843977e-10 1.67669145e-05]\n",
      "0.00033339046\n",
      "1.2225531e-05\n",
      "0.00025176123\n",
      "0.00020221066\n",
      "-----------------\n",
      "i_z=23/204 z=35.33 bath.toteng=7.592e-01 eV/Bavg\n",
      "dt 37812400386628.3 38045451568215.16\n",
      "before 31.562958 0.0008803978\n",
      "input_heating 0.02912227\n",
      "This is commented out: dspec_dzp = - dxe_dzp * T / (1+x_e); need to put it back in\n",
      "box_ct = 0\n",
      "dzp = -3.561859e-01\n",
      "zp = 3.461863e+01\n",
      "dt_dzp = -1.082388e+14\n",
      "dadia_dzp * dzp = -6.312586e-01\n",
      "dspec_dzp * dzp = 0.000000e+00\n",
      "dcomp_dzp * dzp = 8.983765e-02\n",
      "dxheat_dzp * dzp = 0.000000e+00\n",
      "input heating = 2.912228e-02\n",
      "dxion_source = 0.000000e+00\n",
      "dxion_sink = 4.470069e-06\n",
      "T = 3.156296e+01\n",
      "alpha_A(T) = 1.741236e-11\n",
      "global_params.CLUMPING_FACTOR = 1.000000e+00\n",
      "x_e = 8.803978e-04\n",
      "f_H = 9.249617e-01\n",
      "prefactor_1 = 9.287851e-03\n",
      "curr_delNL0 = -1.667066e-06\n",
      "growth_factor_zp = 3.575422e-02\n",
      "input ionization = 4.732839e-07\n",
      "\n",
      "N_b0 = 2.055340e-07\n",
      "f_H = 9.249617e-01\n",
      "\n",
      "after 31.05066 0.00087640085\n",
      "----- DM21CM -----\n",
      "z 34.97481185213704\n",
      "[2.90583153e-09 4.49251748e-11 2.49310758e-09 1.60435754e-09\n",
      " 4.36198952e-10 1.65988415e-05]\n",
      "0.00032882654\n",
      "1.2063802e-05\n",
      "0.00024818984\n",
      "0.00019947837\n",
      "-----------------\n",
      "i_z=24/204 z=34.97 bath.toteng=7.708e-01 eV/Bavg\n",
      "dt 38382781921092.58 38620927031929.95\n",
      "before 31.05066 0.00087640085\n",
      "input_heating 0.029141314\n",
      "This is commented out: dspec_dzp = - dxe_dzp * T / (1+x_e); need to put it back in\n",
      "box_ct = 0\n",
      "dzp = -3.526611e-01\n",
      "zp = 3.426596e+01\n",
      "dt_dzp = -1.109650e+14\n",
      "dadia_dzp * dzp = -6.210158e-01\n",
      "dspec_dzp * dzp = 0.000000e+00\n",
      "dcomp_dzp * dzp = 8.663948e-02\n",
      "dxheat_dzp * dzp = 0.000000e+00\n",
      "input heating = 2.914132e-02\n",
      "dxion_source = 0.000000e+00\n",
      "dxion_sink = 4.407274e-06\n",
      "T = 3.105066e+01\n",
      "alpha_A(T) = 1.758513e-11\n",
      "global_params.CLUMPING_FACTOR = 1.000000e+00\n",
      "x_e = 8.764010e-04\n",
      "f_H = 9.249617e-01\n",
      "prefactor_1 = 9.014696e-03\n",
      "curr_delNL0 = -1.650532e-06\n",
      "growth_factor_zp = 3.611239e-02\n",
      "input ionization = 4.735166e-07\n",
      "\n",
      "N_b0 = 2.055340e-07\n",
      "f_H = 9.249617e-01\n",
      "\n",
      "after 30.545418 0.0008724674\n",
      "----- DM21CM -----\n",
      "z 34.618625596175285\n",
      "[2.87961614e-09 4.45170284e-11 2.47124092e-09 1.58808973e-09\n",
      " 4.32565722e-10 1.64324066e-05]\n",
      "0.00032408032\n",
      "1.1895467e-05\n",
      "0.0002444856\n",
      "0.00019663441\n",
      "-----------------\n",
      "i_z=25/204 z=34.62 bath.toteng=7.825e-01 eV/Bavg\n",
      "dt 38961747798313.81 39239913869538.06\n",
      "before 30.545418 0.0008724674\n",
      "input_heating 0.029163308\n",
      "This is commented out: dspec_dzp = - dxe_dzp * T / (1+x_e); need to put it back in\n",
      "box_ct = 0\n",
      "dzp = -3.491669e-01\n",
      "zp = 3.391680e+01\n",
      "dt_dzp = -1.137599e+14\n",
      "dadia_dzp * dzp = -6.109065e-01\n",
      "dspec_dzp * dzp = 0.000000e+00\n",
      "dcomp_dzp * dzp = 8.355759e-02\n",
      "dxheat_dzp * dzp = 0.000000e+00\n",
      "input heating = 2.916332e-02\n",
      "dxion_source = 0.000000e+00\n",
      "dxion_sink = 4.345846e-06\n",
      "T = 3.054542e+01\n",
      "alpha_A(T) = 1.776000e-11\n",
      "global_params.CLUMPING_FACTOR = 1.000000e+00\n",
      "x_e = 8.724673e-04\n",
      "f_H = 9.249617e-01\n",
      "prefactor_1 = 8.749576e-03\n",
      "curr_delNL0 = -1.634162e-06\n",
      "growth_factor_zp = 3.647413e-02\n",
      "input ionization = 4.737984e-07\n",
      "\n",
      "N_b0 = 2.055340e-07\n",
      "f_H = 9.249617e-01\n",
      "\n",
      "after 30.04724 0.00086859526\n",
      "----- DM21CM -----\n",
      "z 34.26596593680721\n",
      "[2.85354212e-09 4.41116819e-11 2.44947322e-09 1.57196091e-09\n",
      " 4.28943394e-10 1.62675849e-05]\n",
      "0.00031915234\n",
      "1.1720488e-05\n",
      "0.00024064913\n",
      "0.00019367873\n",
      "-----------------\n",
      "i_z=26/204 z=34.27 bath.toteng=7.943e-01 eV/Bavg\n",
      "dt 39549427087477.34 39852772124595.59\n",
      "before 30.04724 0.00086859526\n",
      "input_heating 0.029184403\n",
      "This is commented out: dspec_dzp = - dxe_dzp * T / (1+x_e); need to put it back in\n",
      "box_ct = 0\n",
      "dzp = -3.457108e-01\n",
      "zp = 3.357109e+01\n",
      "dt_dzp = -1.166252e+14\n",
      "dadia_dzp * dzp = -6.009446e-01\n",
      "dspec_dzp * dzp = 0.000000e+00\n",
      "dcomp_dzp * dzp = 8.058931e-02\n",
      "dxheat_dzp * dzp = 0.000000e+00\n",
      "input heating = 2.918441e-02\n",
      "dxion_source = 0.000000e+00\n",
      "dxion_sink = 4.285840e-06\n",
      "T = 3.004724e+01\n",
      "alpha_A(T) = 1.793697e-11\n",
      "global_params.CLUMPING_FACTOR = 1.000000e+00\n",
      "x_e = 8.685953e-04\n",
      "f_H = 9.249617e-01\n",
      "prefactor_1 = 8.492252e-03\n",
      "curr_delNL0 = -1.617955e-06\n",
      "growth_factor_zp = 3.683949e-02\n",
      "input ionization = 4.740658e-07\n",
      "\n",
      "N_b0 = 2.055340e-07\n",
      "f_H = 9.249617e-01\n",
      "\n",
      "after 29.556063 0.00086478336\n",
      "----- DM21CM -----\n",
      "z 33.91679795723486\n",
      "[2.82771799e-09 4.37098700e-11 2.42790346e-09 1.55602969e-09\n",
      " 4.25348874e-10 1.61044013e-05]\n",
      "0.00031441663\n",
      "1.1552009e-05\n",
      "0.00023696026\n",
      "0.00019083833\n",
      "-----------------\n",
      "i_z=27/204 z=33.92 bath.toteng=8.064e-01 eV/Bavg\n",
      "dt 40145950796189.42 40459562476137.71\n",
      "before 29.556063 0.00086478336\n",
      "input_heating 0.029204668\n",
      "This is commented out: dspec_dzp = - dxe_dzp * T / (1+x_e); need to put it back in\n",
      "box_ct = 0\n",
      "dzp = -3.422890e-01\n",
      "zp = 3.322880e+01\n",
      "dt_dzp = -1.195626e+14\n",
      "dadia_dzp * dzp = -5.911231e-01\n",
      "dspec_dzp * dzp = 0.000000e+00\n",
      "dcomp_dzp * dzp = 7.772943e-02\n",
      "dxheat_dzp * dzp = 0.000000e+00\n",
      "input heating = 2.920467e-02\n",
      "dxion_source = 0.000000e+00\n",
      "dxion_sink = 4.227165e-06\n",
      "T = 2.955607e+01\n",
      "alpha_A(T) = 1.811606e-11\n",
      "global_params.CLUMPING_FACTOR = 1.000000e+00\n",
      "x_e = 8.647835e-04\n",
      "f_H = 9.249617e-01\n",
      "prefactor_1 = 8.242495e-03\n",
      "curr_delNL0 = -1.601909e-06\n",
      "growth_factor_zp = 3.720851e-02\n",
      "input ionization = 4.743199e-07\n",
      "\n",
      "N_b0 = 2.055340e-07\n",
      "f_H = 9.249617e-01\n",
      "\n",
      "after 29.071875 0.00086103077\n",
      "----- DM21CM -----\n",
      "z 33.57108708637115\n",
      "[2.80214102e-09 4.33115606e-11 2.40653027e-09 1.54029299e-09\n",
      " 4.21782119e-10 1.59428309e-05]\n",
      "0.00030986214\n",
      "1.1389714e-05\n",
      "0.00023341057\n",
      "0.00018810671\n",
      "-----------------\n",
      "i_z=28/204 z=33.57 bath.toteng=8.186e-01 eV/Bavg\n",
      "dt 40751451899510.18 41060345002417.02\n",
      "before 29.071875 0.00086103077\n",
      "input_heating 0.029224219\n",
      "This is commented out: dspec_dzp = - dxe_dzp * T / (1+x_e); need to put it back in\n",
      "box_ct = 0\n",
      "dzp = -3.388977e-01\n",
      "zp = 3.288990e+01\n",
      "dt_dzp = -1.225740e+14\n",
      "dadia_dzp * dzp = -5.814354e-01\n",
      "dspec_dzp * dzp = 0.000000e+00\n",
      "dcomp_dzp * dzp = 7.497302e-02\n",
      "dxheat_dzp * dzp = 0.000000e+00\n",
      "input heating = 2.922422e-02\n",
      "dxion_source = 0.000000e+00\n",
      "dxion_sink = 4.169738e-06\n",
      "T = 2.907188e+01\n",
      "alpha_A(T) = 1.829726e-11\n",
      "global_params.CLUMPING_FACTOR = 1.000000e+00\n",
      "x_e = 8.610307e-04\n",
      "f_H = 9.249617e-01\n",
      "prefactor_1 = 8.000086e-03\n",
      "curr_delNL0 = -1.586022e-06\n",
      "growth_factor_zp = 3.758121e-02\n",
      "input ionization = 4.745622e-07\n",
      "\n",
      "N_b0 = 2.055340e-07\n",
      "f_H = 9.249617e-01\n",
      "\n",
      "after 28.594637 0.00085733546\n",
      "----- DM21CM -----\n",
      "z 33.22879909541698\n",
      "[2.77680900e-09 4.29167405e-11 2.38535177e-09 1.52474775e-09\n",
      " 4.18243086e-10 1.57828596e-05]\n",
      "0.00030547986\n",
      "1.123331e-05\n",
      "0.00022999296\n",
      "0.00018547845\n",
      "-----------------\n",
      "i_z=29/204 z=33.23 bath.toteng=8.310e-01 eV/Bavg\n",
      "dt 41366065369399.62 41655179186851.99\n",
      "before 28.594637 0.00085733546\n",
      "input_heating 0.029243119\n",
      "This is commented out: dspec_dzp = - dxe_dzp * T / (1+x_e); need to put it back in\n",
      "box_ct = 0\n",
      "dzp = -3.355446e-01\n",
      "zp = 3.255436e+01\n",
      "dt_dzp = -1.256613e+14\n",
      "dadia_dzp * dzp = -5.718946e-01\n",
      "dspec_dzp * dzp = 0.000000e+00\n",
      "dcomp_dzp * dzp = 7.231782e-02\n",
      "dxheat_dzp * dzp = 0.000000e+00\n",
      "input heating = 2.924313e-02\n",
      "dxion_source = 0.000000e+00\n",
      "dxion_sink = 4.113614e-06\n",
      "T = 2.859464e+01\n",
      "alpha_A(T) = 1.848059e-11\n",
      "global_params.CLUMPING_FACTOR = 1.000000e+00\n",
      "x_e = 8.573355e-04\n",
      "f_H = 9.249617e-01\n",
      "prefactor_1 = 7.764804e-03\n",
      "curr_delNL0 = -1.570293e-06\n",
      "growth_factor_zp = 3.795765e-02\n",
      "input ionization = 4.747940e-07\n",
      "\n",
      "N_b0 = 2.055340e-07\n",
      "f_H = 9.249617e-01\n",
      "\n",
      "after 28.124306 0.0008536968\n",
      "----- DM21CM -----\n",
      "z 32.88990009447226\n",
      "[2.75172022e-09 4.25253804e-11 2.36436695e-09 1.50939107e-09\n",
      " 4.14731776e-10 1.56244735e-05]\n",
      "0.00030126056\n",
      "1.1082491e-05\n",
      "0.00022670046\n",
      "0.00018294815\n",
      "-----------------\n",
      "i_z=30/204 z=32.89 bath.toteng=8.437e-01 eV/Bavg\n",
      "dt 41989928204615.12 42244123923916.32\n",
      "before 28.124306 0.0008536968\n",
      "input_heating 0.029261438\n",
      "This is commented out: dspec_dzp = - dxe_dzp * T / (1+x_e); need to put it back in\n",
      "box_ct = 0\n",
      "dzp = -3.322220e-01\n",
      "zp = 3.222213e+01\n",
      "dt_dzp = -1.288263e+14\n",
      "dadia_dzp * dzp = -5.624873e-01\n",
      "dspec_dzp * dzp = 0.000000e+00\n",
      "dcomp_dzp * dzp = 6.975839e-02\n",
      "dxheat_dzp * dzp = 0.000000e+00\n",
      "input heating = 2.926144e-02\n",
      "dxion_source = 0.000000e+00\n",
      "dxion_sink = 4.058664e-06\n",
      "T = 2.812431e+01\n",
      "alpha_A(T) = 1.866607e-11\n",
      "global_params.CLUMPING_FACTOR = 1.000000e+00\n",
      "x_e = 8.536967e-04\n",
      "f_H = 9.249617e-01\n",
      "prefactor_1 = 7.536442e-03\n",
      "curr_delNL0 = -1.554721e-06\n",
      "growth_factor_zp = 3.833785e-02\n",
      "input ionization = 4.750160e-07\n",
      "\n",
      "N_b0 = 2.055340e-07\n",
      "f_H = 9.249617e-01\n",
      "\n",
      "after 27.660835 0.00085011305\n",
      "----- DM21CM -----\n",
      "z 32.55435652918045\n",
      "[2.72687178e-09 4.21374670e-11 2.34357410e-09 1.49421973e-09\n",
      " 4.11248061e-10 1.54676558e-05]\n",
      "0.0002971957\n",
      "1.0936966e-05\n",
      "0.00022352645\n",
      "0.00018051056\n",
      "-----------------\n",
      "i_z=31/204 z=32.55 bath.toteng=8.564e-01 eV/Bavg\n",
      "dt 42623179461052.16 42895083865946.0\n",
      "before 27.660835 0.00085011305\n",
      "input_heating 0.029273035\n",
      "This is commented out: dspec_dzp = - dxe_dzp * T / (1+x_e); need to put it back in\n",
      "box_ct = 0\n",
      "dzp = -3.289299e-01\n",
      "zp = 3.189320e+01\n",
      "dt_dzp = -1.320710e+14\n",
      "dadia_dzp * dzp = -5.532132e-01\n",
      "dspec_dzp * dzp = 0.000000e+00\n",
      "dcomp_dzp * dzp = 6.729119e-02\n",
      "dxheat_dzp * dzp = 0.000000e+00\n",
      "input heating = 2.927304e-02\n",
      "dxion_source = 0.000000e+00\n",
      "dxion_sink = 4.004855e-06\n",
      "T = 2.766084e+01\n",
      "alpha_A(T) = 1.885370e-11\n",
      "global_params.CLUMPING_FACTOR = 1.000000e+00\n",
      "x_e = 8.501130e-04\n",
      "f_H = 9.249617e-01\n",
      "prefactor_1 = 7.314797e-03\n",
      "curr_delNL0 = -1.539303e-06\n",
      "growth_factor_zp = 3.872184e-02\n",
      "input ionization = 4.751324e-07\n",
      "\n",
      "N_b0 = 2.055340e-07\n",
      "f_H = 9.249617e-01\n",
      "\n",
      "after 27.204191 0.00084658334\n",
      "----- DM21CM -----\n",
      "z 32.222135177406386\n",
      "[2.70213799e-09 4.17521113e-11 2.32285807e-09 1.47916251e-09\n",
      " 4.07772436e-10 1.53124359e-05]\n",
      "0.00029275377\n",
      "1.0776981e-05\n",
      "0.00022007164\n",
      "0.00017784162\n",
      "-----------------\n",
      "i_z=32/204 z=32.22 bath.toteng=8.694e-01 eV/Bavg\n",
      "dt 43265960282533.49 43584615500683.42\n",
      "before 27.204191 0.00084658334\n",
      "input_heating 0.029289512\n",
      "This is commented out: dspec_dzp = - dxe_dzp * T / (1+x_e); need to put it back in\n",
      "box_ct = 0\n",
      "dzp = -3.256760e-01\n",
      "zp = 3.156753e+01\n",
      "dt_dzp = -1.353975e+14\n",
      "dadia_dzp * dzp = -5.440850e-01\n",
      "dspec_dzp * dzp = 0.000000e+00\n",
      "dcomp_dzp * dzp = 6.491430e-02\n",
      "dxheat_dzp * dzp = 0.000000e+00\n",
      "input heating = 2.928951e-02\n",
      "dxion_source = 0.000000e+00\n",
      "dxion_sink = 3.952247e-06\n",
      "T = 2.720419e+01\n",
      "alpha_A(T) = 1.904349e-11\n",
      "global_params.CLUMPING_FACTOR = 1.000000e+00\n",
      "x_e = 8.465833e-04\n",
      "f_H = 9.249617e-01\n",
      "prefactor_1 = 7.099670e-03\n",
      "curr_delNL0 = -1.524038e-06\n",
      "growth_factor_zp = 3.910968e-02\n",
      "input ionization = 4.753280e-07\n",
      "\n",
      "N_b0 = 2.055340e-07\n",
      "f_H = 9.249617e-01\n",
      "\n",
      "after 26.754305 0.00084310654\n",
      "----- DM21CM -----\n",
      "z 31.89320314594692\n",
      "[2.67755937e-09 4.13695901e-11 2.30225771e-09 1.46424071e-09\n",
      " 4.04311376e-10 1.51587788e-05]\n",
      "0.0002882373\n",
      "1.0614384e-05\n",
      "0.00021656568\n",
      "0.00017512655\n",
      "-----------------\n",
      "i_z=33/204 z=31.89 bath.toteng=8.826e-01 eV/Bavg\n",
      "dt 43918413932040.21 44267320089532.37\n",
      "before 26.754305 0.00084310654\n",
      "input_heating 0.029310467\n",
      "This is commented out: dspec_dzp = - dxe_dzp * T / (1+x_e); need to put it back in\n",
      "box_ct = 0\n",
      "dzp = -3.224506e-01\n",
      "zp = 3.124508e+01\n",
      "dt_dzp = -1.388077e+14\n",
      "dadia_dzp * dzp = -5.350860e-01\n",
      "dspec_dzp * dzp = 0.000000e+00\n",
      "dcomp_dzp * dzp = 6.262246e-02\n",
      "dxheat_dzp * dzp = 0.000000e+00\n",
      "input heating = 2.931047e-02\n",
      "dxion_source = 0.000000e+00\n",
      "dxion_sink = 3.900693e-06\n",
      "T = 2.675431e+01\n",
      "alpha_A(T) = 1.923545e-11\n",
      "global_params.CLUMPING_FACTOR = 1.000000e+00\n",
      "x_e = 8.431064e-04\n",
      "f_H = 9.249617e-01\n",
      "prefactor_1 = 6.890871e-03\n",
      "curr_delNL0 = -1.508925e-06\n",
      "growth_factor_zp = 3.950139e-02\n",
      "input ionization = 4.755953e-07\n",
      "\n",
      "N_b0 = 2.055340e-07\n",
      "f_H = 9.249617e-01\n",
      "\n",
      "after 26.311157 0.0008396813\n",
      "----- DM21CM -----\n",
      "z 31.56752786727418\n",
      "[2.65321650e-09 4.09904464e-11 2.28184607e-09 1.44949759e-09\n",
      " 4.00877996e-10 1.50066441e-05]\n",
      "0.00028394803\n",
      "1.0460111e-05\n",
      "0.00021323389\n",
      "0.00017254906\n",
      "-----------------\n",
      "i_z=34/204 z=31.57 bath.toteng=8.960e-01 eV/Bavg\n",
      "dt 44580685823430.24 44943265227006.56\n",
      "before 26.311157 0.0008396813\n",
      "input_heating 0.029331243\n",
      "This is commented out: dspec_dzp = - dxe_dzp * T / (1+x_e); need to put it back in\n",
      "box_ct = 0\n",
      "dzp = -3.192577e-01\n",
      "zp = 3.092582e+01\n",
      "dt_dzp = -1.423038e+14\n",
      "dadia_dzp * dzp = -5.262224e-01\n",
      "dspec_dzp * dzp = 0.000000e+00\n",
      "dcomp_dzp * dzp = 6.041331e-02\n",
      "dxheat_dzp * dzp = 0.000000e+00\n",
      "input heating = 2.933125e-02\n",
      "dxion_source = 0.000000e+00\n",
      "dxion_sink = 3.850210e-06\n",
      "T = 2.631116e+01\n",
      "alpha_A(T) = 1.942960e-11\n",
      "global_params.CLUMPING_FACTOR = 1.000000e+00\n",
      "x_e = 8.396812e-04\n",
      "f_H = 9.249617e-01\n",
      "prefactor_1 = 6.688210e-03\n",
      "curr_delNL0 = -1.493962e-06\n",
      "growth_factor_zp = 3.989703e-02\n",
      "input ionization = 4.758596e-07\n",
      "\n",
      "N_b0 = 2.055340e-07\n",
      "f_H = 9.249617e-01\n",
      "\n",
      "after 25.874683 0.00083630695\n",
      "----- DM21CM -----\n",
      "z 31.24507709631107\n",
      "[2.62910802e-09 4.06146803e-11 2.26162267e-09 1.43493077e-09\n",
      " 3.97472253e-10 1.48560165e-05]\n",
      "0.00027982972\n",
      "1.031178e-05\n",
      "0.00021003278\n",
      "0.00017007448\n",
      "-----------------\n",
      "i_z=35/204 z=31.25 bath.toteng=9.096e-01 eV/Bavg\n",
      "dt 45252923553607.53 45612517838367.16\n",
      "before 25.874683 0.00083630695\n",
      "input_heating 0.029351292\n",
      "This is commented out: dspec_dzp = - dxe_dzp * T / (1+x_e); need to put it back in\n",
      "box_ct = 0\n",
      "dzp = -3.160973e-01\n",
      "zp = 3.060972e+01\n",
      "dt_dzp = -1.458880e+14\n",
      "dadia_dzp * dzp = -5.174937e-01\n",
      "dspec_dzp * dzp = 0.000000e+00\n",
      "dcomp_dzp * dzp = 5.828376e-02\n",
      "dxheat_dzp * dzp = 0.000000e+00\n",
      "input heating = 2.935129e-02\n",
      "dxion_source = 0.000000e+00\n",
      "dxion_sink = 3.800769e-06\n",
      "T = 2.587468e+01\n",
      "alpha_A(T) = 1.962593e-11\n",
      "global_params.CLUMPING_FACTOR = 1.000000e+00\n",
      "x_e = 8.363069e-04\n",
      "f_H = 9.249617e-01\n",
      "prefactor_1 = 6.491511e-03\n",
      "curr_delNL0 = -1.479148e-06\n",
      "growth_factor_zp = 4.029661e-02\n",
      "input ionization = 4.761116e-07\n",
      "\n",
      "N_b0 = 2.055340e-07\n",
      "f_H = 9.249617e-01\n",
      "\n",
      "after 25.444822 0.0008329823\n",
      "----- DM21CM -----\n",
      "z 30.925818907238686\n",
      "[2.60523188e-09 4.02422570e-11 2.24158612e-09 1.42053753e-09\n",
      " 3.94093977e-10 1.47068791e-05]\n",
      "0.00027586703\n",
      "1.0168833e-05\n",
      "0.00020695102\n",
      "0.00016769356\n",
      "-----------------\n",
      "i_z=36/204 z=30.93 bath.toteng=9.234e-01 eV/Bavg\n",
      "dt 45935276935171.164 46275144186248.93\n",
      "before 25.444822 0.0008329823\n",
      "input_heating 0.0293706\n",
      "This is commented out: dspec_dzp = - dxe_dzp * T / (1+x_e); need to put it back in\n",
      "box_ct = 0\n",
      "dzp = -3.129673e-01\n",
      "zp = 3.029675e+01\n",
      "dt_dzp = -1.495625e+14\n",
      "dadia_dzp * dzp = -5.088960e-01\n",
      "dspec_dzp * dzp = 0.000000e+00\n",
      "dcomp_dzp * dzp = 5.623055e-02\n",
      "dxheat_dzp * dzp = 0.000000e+00\n",
      "input heating = 2.937060e-02\n",
      "dxion_source = 0.000000e+00\n",
      "dxion_sink = 3.752321e-06\n",
      "T = 2.544482e+01\n",
      "alpha_A(T) = 1.982447e-11\n",
      "global_params.CLUMPING_FACTOR = 1.000000e+00\n",
      "x_e = 8.329822e-04\n",
      "f_H = 9.249617e-01\n",
      "prefactor_1 = 6.300597e-03\n",
      "curr_delNL0 = -1.464481e-06\n",
      "growth_factor_zp = 4.070020e-02\n",
      "input ionization = 4.763517e-07\n",
      "\n",
      "N_b0 = 2.055340e-07\n",
      "f_H = 9.249617e-01\n",
      "\n",
      "after 25.021524 0.0008297062\n",
      "----- DM21CM -----\n",
      "z 30.60972169033533\n",
      "[2.58158501e-09 3.98731526e-11 2.22173422e-09 1.40631505e-09\n",
      " 3.90743083e-10 1.45592196e-05]\n",
      "0.00027205126\n",
      "1.00309635e-05\n",
      "0.00020398176\n",
      "0.00016540107\n",
      "-----------------\n",
      "i_z=37/204 z=30.61 bath.toteng=9.374e-01 eV/Bavg\n",
      "dt 46627898029561.164 46931209877220.99\n",
      "before 25.021524 0.0008297062\n",
      "input_heating 0.029389204\n",
      "This is commented out: dspec_dzp = - dxe_dzp * T / (1+x_e); need to put it back in\n",
      "box_ct = 0\n",
      "dzp = -3.098698e-01\n",
      "zp = 2.998689e+01\n",
      "dt_dzp = -1.533294e+14\n",
      "dadia_dzp * dzp = -5.004320e-01\n",
      "dspec_dzp * dzp = 0.000000e+00\n",
      "dcomp_dzp * dzp = 5.425122e-02\n",
      "dxheat_dzp * dzp = 0.000000e+00\n",
      "input heating = 2.938920e-02\n",
      "dxion_source = 0.000000e+00\n",
      "dxion_sink = 3.704861e-06\n",
      "T = 2.502153e+01\n",
      "alpha_A(T) = 2.002521e-11\n",
      "global_params.CLUMPING_FACTOR = 1.000000e+00\n",
      "x_e = 8.297063e-04\n",
      "f_H = 9.249617e-01\n",
      "prefactor_1 = 6.115297e-03\n",
      "curr_delNL0 = -1.449959e-06\n",
      "growth_factor_zp = 4.110782e-02\n",
      "input ionization = 4.765803e-07\n",
      "\n",
      "N_b0 = 2.055340e-07\n",
      "f_H = 9.249617e-01\n",
      "\n",
      "after 24.604734 0.000826478\n",
      "----- DM21CM -----\n",
      "z 30.296754148846862\n",
      "[2.55816640e-09 3.95073486e-11 2.20206594e-09 1.39226130e-09\n",
      " 3.87419528e-10 1.44130223e-05]\n",
      "0.0002683745\n",
      "9.89789e-06\n",
      "0.00020111883\n",
      "0.00016319216\n",
      "-----------------\n",
      "i_z=38/204 z=30.30 bath.toteng=9.516e-01 eV/Bavg\n",
      "dt 47330941180664.98 47609814155450.65\n",
      "before 24.604734 0.000826478\n",
      "input_heating 0.029412098\n",
      "This is commented out: dspec_dzp = - dxe_dzp * T / (1+x_e); need to put it back in\n",
      "box_ct = 0\n",
      "dzp = -3.068008e-01\n",
      "zp = 2.968008e+01\n",
      "dt_dzp = -1.571913e+14\n",
      "dadia_dzp * dzp = -4.920947e-01\n",
      "dspec_dzp * dzp = 0.000000e+00\n",
      "dcomp_dzp * dzp = 5.234242e-02\n",
      "dxheat_dzp * dzp = 0.000000e+00\n",
      "input heating = 2.941210e-02\n",
      "dxion_source = 0.000000e+00\n",
      "dxion_sink = 3.658320e-06\n",
      "T = 2.460473e+01\n",
      "alpha_A(T) = 2.022818e-11\n",
      "global_params.CLUMPING_FACTOR = 1.000000e+00\n",
      "x_e = 8.264780e-04\n",
      "f_H = 9.249617e-01\n",
      "prefactor_1 = 5.935447e-03\n",
      "curr_delNL0 = -1.435582e-06\n",
      "growth_factor_zp = 4.151951e-02\n",
      "input ionization = 4.768781e-07\n",
      "\n",
      "N_b0 = 2.055340e-07\n",
      "f_H = 9.249617e-01\n",
      "\n",
      "after 24.194395 0.00082329655\n",
      "----- DM21CM -----\n",
      "z 29.986885295887983\n",
      "[2.53492971e-09 3.91445068e-11 2.18253973e-09 1.37834969e-09\n",
      " 3.84116073e-10 1.42682610e-05]\n",
      "0.0002647119\n",
      "9.76548e-06\n",
      "0.00019827037\n",
      "0.00016099148\n",
      "-----------------\n",
      "i_z=39/204 z=29.99 bath.toteng=9.660e-01 eV/Bavg\n",
      "dt 48044563048952.61 48388439413221.02\n",
      "before 24.194395 0.00082329655\n",
      "input_heating 0.029450359\n",
      "This is commented out: dspec_dzp = - dxe_dzp * T / (1+x_e); need to put it back in\n",
      "box_ct = 0\n",
      "dzp = -3.037624e-01\n",
      "zp = 2.937632e+01\n",
      "dt_dzp = -1.611504e+14\n",
      "dadia_dzp * dzp = -4.838867e-01\n",
      "dspec_dzp * dzp = 0.000000e+00\n",
      "dcomp_dzp * dzp = 5.050190e-02\n",
      "dxheat_dzp * dzp = 0.000000e+00\n",
      "input heating = 2.945036e-02\n",
      "dxion_source = 0.000000e+00\n",
      "dxion_sink = 3.612695e-06\n",
      "T = 2.419440e+01\n",
      "alpha_A(T) = 2.043338e-11\n",
      "global_params.CLUMPING_FACTOR = 1.000000e+00\n",
      "x_e = 8.232965e-04\n",
      "f_H = 9.249617e-01\n",
      "prefactor_1 = 5.760887e-03\n",
      "curr_delNL0 = -1.421347e-06\n",
      "growth_factor_zp = 4.193532e-02\n",
      "input ionization = 4.774242e-07\n",
      "\n",
      "N_b0 = 2.055340e-07\n",
      "f_H = 9.249617e-01\n",
      "\n",
      "after 23.790464 0.0008201611\n",
      "----- DM21CM -----\n",
      "z 29.680084451374242\n",
      "[2.51175740e-09 3.87837756e-11 2.16304877e-09 1.36451447e-09\n",
      " 3.80814109e-10 1.41248965e-05]\n",
      "0.0002607469\n",
      "9.623063e-06\n",
      "0.0001952036\n",
      "0.00015860697\n",
      "-----------------\n",
      "i_z=40/204 z=29.68 bath.toteng=9.806e-01 eV/Bavg\n",
      "dt 48768922646097.0 49159355510023.375\n",
      "before 23.790464 0.0008201611\n",
      "input_heating 0.029480495\n",
      "This is commented out: dspec_dzp = - dxe_dzp * T / (1+x_e); need to put it back in\n",
      "box_ct = 0\n",
      "dzp = -3.007565e-01\n",
      "zp = 2.907557e+01\n",
      "dt_dzp = -1.652092e+14\n",
      "dadia_dzp * dzp = -4.758105e-01\n",
      "dspec_dzp * dzp = 0.000000e+00\n",
      "dcomp_dzp * dzp = 4.872749e-02\n",
      "dxheat_dzp * dzp = 0.000000e+00\n",
      "input heating = 2.948050e-02\n",
      "dxion_source = 0.000000e+00\n",
      "dxion_sink = 3.567987e-06\n",
      "T = 2.379046e+01\n",
      "alpha_A(T) = 2.064080e-11\n",
      "global_params.CLUMPING_FACTOR = 1.000000e+00\n",
      "x_e = 8.201613e-04\n",
      "f_H = 9.249617e-01\n",
      "prefactor_1 = 5.591459e-03\n",
      "curr_delNL0 = -1.407254e-06\n",
      "growth_factor_zp = 4.235529e-02\n",
      "input ionization = 4.778408e-07\n",
      "\n",
      "N_b0 = 2.055340e-07\n",
      "f_H = 9.249617e-01\n",
      "\n",
      "after 23.392855 0.00081707095\n",
      "----- DM21CM -----\n",
      "z 29.3763212389844\n",
      "[2.48880909e-09 3.84262942e-11 2.14373889e-09 1.35084227e-09\n",
      " 3.77539356e-10 1.39829539e-05]\n",
      "0.00025687888\n",
      "9.483347e-06\n",
      "0.00019221012\n",
      "0.00015627942\n",
      "-----------------\n",
      "i_z=41/204 z=29.38 bath.toteng=9.955e-01 eV/Bavg\n",
      "dt 49504181370106.27 49922638774184.125\n",
      "before 23.392855 0.00081707095\n",
      "input_heating 0.029507287\n",
      "This is commented out: dspec_dzp = - dxe_dzp * T / (1+x_e); need to put it back in\n",
      "box_ct = 0\n",
      "dzp = -2.977772e-01\n",
      "zp = 2.877779e+01\n",
      "dt_dzp = -1.693703e+14\n",
      "dadia_dzp * dzp = -4.678561e-01\n",
      "dspec_dzp * dzp = 0.000000e+00\n",
      "dcomp_dzp * dzp = 4.701590e-02\n",
      "dxheat_dzp * dzp = 0.000000e+00\n",
      "input heating = 2.950729e-02\n",
      "dxion_source = 0.000000e+00\n",
      "dxion_sink = 3.524106e-06\n",
      "T = 2.339286e+01\n",
      "alpha_A(T) = 2.085047e-11\n",
      "global_params.CLUMPING_FACTOR = 1.000000e+00\n",
      "x_e = 8.170711e-04\n",
      "f_H = 9.249617e-01\n",
      "prefactor_1 = 5.427016e-03\n",
      "curr_delNL0 = -1.393301e-06\n",
      "growth_factor_zp = 4.277945e-02\n",
      "input ionization = 4.782035e-07\n",
      "\n",
      "N_b0 = 2.055340e-07\n",
      "f_H = 9.249617e-01\n",
      "\n",
      "after 23.001526 0.00081402523\n",
      "----- DM21CM -----\n",
      "z 29.07556558315287\n",
      "[2.46608188e-09 3.80720173e-11 2.12460786e-09 1.33733028e-09\n",
      " 3.74291644e-10 1.38424137e-05]\n",
      "0.0002531409\n",
      "9.347923e-06\n",
      "0.00018931575\n",
      "0.00015402994\n",
      "-----------------\n",
      "i_z=42/204 z=29.08 bath.toteng=1.011e+00 eV/Bavg\n",
      "dt 50250503040980.83 50678364778303.67\n",
      "before 23.001526 0.00081402523\n",
      "input_heating 0.029532848\n",
      "This is commented out: dspec_dzp = - dxe_dzp * T / (1+x_e); need to put it back in\n",
      "box_ct = 0\n",
      "dzp = -2.948303e-01\n",
      "zp = 2.848296e+01\n",
      "dt_dzp = -1.736361e+14\n",
      "dadia_dzp * dzp = -4.600317e-01\n",
      "dspec_dzp * dzp = 0.000000e+00\n",
      "dcomp_dzp * dzp = 4.536573e-02\n",
      "dxheat_dzp * dzp = 0.000000e+00\n",
      "input heating = 2.953285e-02\n",
      "dxion_source = 0.000000e+00\n",
      "dxion_sink = 3.481098e-06\n",
      "T = 2.300153e+01\n",
      "alpha_A(T) = 2.106239e-11\n",
      "global_params.CLUMPING_FACTOR = 1.000000e+00\n",
      "x_e = 8.140252e-04\n",
      "f_H = 9.249617e-01\n",
      "prefactor_1 = 5.267408e-03\n",
      "curr_delNL0 = -1.379486e-06\n",
      "growth_factor_zp = 4.320786e-02\n",
      "input ionization = 4.785462e-07\n",
      "\n",
      "N_b0 = 2.055340e-07\n",
      "f_H = 9.249617e-01\n",
      "\n",
      "after 22.616392 0.0008110227\n",
      "----- DM21CM -----\n",
      "z 28.77778770609195\n",
      "[2.44357424e-09 3.77209422e-11 2.10565517e-09 1.32397653e-09\n",
      " 3.71070931e-10 1.37032661e-05]\n",
      "0.00024954256\n",
      "9.217308e-06\n",
      "0.00018652764\n",
      "0.00015186435\n",
      "-----------------\n",
      "i_z=43/204 z=28.78 bath.toteng=1.026e+00 eV/Bavg\n",
      "dt 51008053936892.26 51426608346738.875\n",
      "before 22.616392 0.0008110227\n",
      "input_heating 0.029557647\n",
      "This is commented out: dspec_dzp = - dxe_dzp * T / (1+x_e); need to put it back in\n",
      "box_ct = 0\n",
      "dzp = -2.919102e-01\n",
      "zp = 2.819105e+01\n",
      "dt_dzp = -1.780094e+14\n",
      "dadia_dzp * dzp = -4.523274e-01\n",
      "dspec_dzp * dzp = 0.000000e+00\n",
      "dcomp_dzp * dzp = 4.377391e-02\n",
      "dxheat_dzp * dzp = 0.000000e+00\n",
      "input heating = 2.955765e-02\n",
      "dxion_source = 0.000000e+00\n",
      "dxion_sink = 3.438876e-06\n",
      "T = 2.261639e+01\n",
      "alpha_A(T) = 2.127658e-11\n",
      "global_params.CLUMPING_FACTOR = 1.000000e+00\n",
      "x_e = 8.110227e-04\n",
      "f_H = 9.249617e-01\n",
      "prefactor_1 = 5.112494e-03\n",
      "curr_delNL0 = -1.365809e-06\n",
      "growth_factor_zp = 4.364055e-02\n",
      "input ionization = 4.788764e-07\n",
      "\n",
      "N_b0 = 2.055340e-07\n",
      "f_H = 9.249617e-01\n",
      "\n",
      "after 22.237396 0.0008080629\n",
      "----- DM21CM -----\n",
      "z 28.482958124843513\n",
      "[2.42128377e-09 3.73730369e-11 2.08687896e-09 1.31077872e-09\n",
      " 3.67877047e-10 1.35654972e-05]\n",
      "0.00024607952\n",
      "9.091402e-06\n",
      "0.00018384292\n",
      "0.00014978043\n",
      "-----------------\n",
      "i_z=44/204 z=28.48 bath.toteng=1.041e+00 eV/Bavg\n",
      "dt 51777002830897.63 52167443563011.35\n",
      "before 22.237396 0.0008080629\n",
      "input_heating 0.029581822\n",
      "This is commented out: dspec_dzp = - dxe_dzp * T / (1+x_e); need to put it back in\n",
      "box_ct = 0\n",
      "dzp = -2.890205e-01\n",
      "zp = 2.790203e+01\n",
      "dt_dzp = -1.824928e+14\n",
      "dadia_dzp * dzp = -4.447483e-01\n",
      "dspec_dzp * dzp = 0.000000e+00\n",
      "dcomp_dzp * dzp = 4.223890e-02\n",
      "dxheat_dzp * dzp = 0.000000e+00\n",
      "input heating = 2.958183e-02\n",
      "dxion_source = 0.000000e+00\n",
      "dxion_sink = 3.397463e-06\n",
      "T = 2.223740e+01\n",
      "alpha_A(T) = 2.149303e-11\n",
      "global_params.CLUMPING_FACTOR = 1.000000e+00\n",
      "x_e = 8.080627e-04\n",
      "f_H = 9.249617e-01\n",
      "prefactor_1 = 4.962136e-03\n",
      "curr_delNL0 = -1.352267e-06\n",
      "growth_factor_zp = 4.407757e-02\n",
      "input ionization = 4.791966e-07\n",
      "\n",
      "N_b0 = 2.055340e-07\n",
      "f_H = 9.249617e-01\n",
      "\n",
      "after 21.86447 0.00080514443\n",
      "----- DM21CM -----\n",
      "z 28.191047648359913\n",
      "[2.39920913e-09 3.70282830e-11 2.06827802e-09 1.29773456e-09\n",
      " 3.64709948e-10 1.34290916e-05]\n",
      "0.00024274543\n",
      "8.969977e-06\n",
      "0.0001812565\n",
      "0.00014777418\n",
      "-----------------\n",
      "i_z=45/204 z=28.19 bath.toteng=1.057e+00 eV/Bavg\n",
      "dt 52557521028186.62 52900943777142.52\n",
      "before 21.86447 0.00080514443\n",
      "input_heating 0.02960545\n",
      "This is commented out: dspec_dzp = - dxe_dzp * T / (1+x_e); need to put it back in\n",
      "box_ct = 0\n",
      "dzp = -2.861576e-01\n",
      "zp = 2.761587e+01\n",
      "dt_dzp = -1.870892e+14\n",
      "dadia_dzp * dzp = -4.372877e-01\n",
      "dspec_dzp * dzp = 0.000000e+00\n",
      "dcomp_dzp * dzp = 4.075814e-02\n",
      "dxheat_dzp * dzp = 0.000000e+00\n",
      "input heating = 2.960545e-02\n",
      "dxion_source = 0.000000e+00\n",
      "dxion_sink = 3.356798e-06\n",
      "T = 2.186447e+01\n",
      "alpha_A(T) = 2.171177e-11\n",
      "global_params.CLUMPING_FACTOR = 1.000000e+00\n",
      "x_e = 8.051445e-04\n",
      "f_H = 9.249617e-01\n",
      "prefactor_1 = 4.816201e-03\n",
      "curr_delNL0 = -1.338860e-06\n",
      "growth_factor_zp = 4.451896e-02\n",
      "input ionization = 4.795073e-07\n",
      "\n",
      "N_b0 = 2.055340e-07\n",
      "f_H = 9.249617e-01\n",
      "\n",
      "after 21.49755 0.0008022673\n",
      "----- DM21CM -----\n",
      "z 27.902027374613773\n",
      "[2.37734792e-09 3.66866483e-11 2.04985049e-09 1.28484216e-09\n",
      " 3.61569379e-10 1.32940367e-05]\n",
      "0.00023953339\n",
      "8.852814e-06\n",
      "0.0001787632\n",
      "0.00014584162\n",
      "-----------------\n",
      "i_z=46/204 z=27.90 bath.toteng=1.073e+00 eV/Bavg\n",
      "dt 53349782403887.97 53667074149055.26\n",
      "before 21.49755 0.0008022673\n",
      "input_heating 0.029626967\n",
      "This is commented out: dspec_dzp = - dxe_dzp * T / (1+x_e); need to put it back in\n",
      "box_ct = 0\n",
      "dzp = -2.833271e-01\n",
      "zp = 2.733254e+01\n",
      "dt_dzp = -1.918013e+14\n",
      "dadia_dzp * dzp = -4.299535e-01\n",
      "dspec_dzp * dzp = 0.000000e+00\n",
      "dcomp_dzp * dzp = 3.933046e-02\n",
      "dxheat_dzp * dzp = 0.000000e+00\n",
      "input heating = 2.962697e-02\n",
      "dxion_source = 0.000000e+00\n",
      "dxion_sink = 3.316927e-06\n",
      "T = 2.149755e+01\n",
      "alpha_A(T) = 2.193280e-11\n",
      "global_params.CLUMPING_FACTOR = 1.000000e+00\n",
      "x_e = 8.022672e-04\n",
      "f_H = 9.249617e-01\n",
      "prefactor_1 = 4.674556e-03\n",
      "curr_delNL0 = -1.325586e-06\n",
      "growth_factor_zp = 4.496476e-02\n",
      "input ionization = 4.797852e-07\n",
      "\n",
      "N_b0 = 2.055340e-07\n",
      "f_H = 9.249617e-01\n",
      "\n",
      "after 21.136547 0.0007994302\n",
      "----- DM21CM -----\n",
      "z 27.61586868773641\n",
      "[2.35565006e-09 3.63477683e-11 2.03155156e-09 1.27207310e-09\n",
      " 3.58447590e-10 1.31603354e-05]\n",
      "0.00023624941\n",
      "8.732779e-06\n",
      "0.00017621863\n",
      "0.00014386409\n",
      "-----------------\n",
      "i_z=47/204 z=27.62 bath.toteng=1.089e+00 eV/Bavg\n",
      "dt 54153963441428.62 54551504390746.35\n",
      "before 21.136547 0.0007994302\n",
      "input_heating 0.02964705\n",
      "This is commented out: dspec_dzp = - dxe_dzp * T / (1+x_e); need to put it back in\n",
      "box_ct = 0\n",
      "dzp = -2.805195e-01\n",
      "zp = 2.705202e+01\n",
      "dt_dzp = -1.966320e+14\n",
      "dadia_dzp * dzp = -4.227299e-01\n",
      "dspec_dzp * dzp = 0.000000e+00\n",
      "dcomp_dzp * dzp = 3.795268e-02\n",
      "dxheat_dzp * dzp = 0.000000e+00\n",
      "input heating = 2.964704e-02\n",
      "dxion_source = 0.000000e+00\n",
      "dxion_sink = 3.277723e-06\n",
      "T = 2.113655e+01\n",
      "alpha_A(T) = 2.215613e-11\n",
      "global_params.CLUMPING_FACTOR = 1.000000e+00\n",
      "x_e = 7.994301e-04\n",
      "f_H = 9.249617e-01\n",
      "prefactor_1 = 4.537079e-03\n",
      "curr_delNL0 = -1.312444e-06\n",
      "growth_factor_zp = 4.541501e-02\n",
      "input ionization = 4.800427e-07\n",
      "\n",
      "N_b0 = 2.055340e-07\n",
      "f_H = 9.249617e-01\n",
      "\n",
      "after 20.781422 0.0007966325\n",
      "----- DM21CM -----\n",
      "z 27.332543255184564\n",
      "[2.33401114e-09 3.60108553e-11 2.01328449e-09 1.25936927e-09\n",
      " 3.55327930e-10 1.30280030e-05]\n",
      "0.00023254263\n",
      "8.5971615e-06\n",
      "0.00017336266\n",
      "0.00014162758\n",
      "-----------------\n",
      "i_z=48/204 z=27.33 bath.toteng=1.106e+00 eV/Bavg\n",
      "dt 54970243271440.3 55427177897371.195\n",
      "before 20.781422 0.0007966325\n",
      "input_heating 0.02967486\n",
      "This is commented out: dspec_dzp = - dxe_dzp * T / (1+x_e); need to put it back in\n",
      "box_ct = 0\n",
      "dzp = -2.777424e-01\n",
      "zp = 2.677428e+01\n",
      "dt_dzp = -2.015844e+14\n",
      "dadia_dzp * dzp = -4.156278e-01\n",
      "dspec_dzp * dzp = 0.000000e+00\n",
      "dcomp_dzp * dzp = 3.662404e-02\n",
      "dxheat_dzp * dzp = 0.000000e+00\n",
      "input heating = 2.967487e-02\n",
      "dxion_source = 0.000000e+00\n",
      "dxion_sink = 3.239257e-06\n",
      "T = 2.078142e+01\n",
      "alpha_A(T) = 2.238177e-11\n",
      "global_params.CLUMPING_FACTOR = 1.000000e+00\n",
      "x_e = 7.966324e-04\n",
      "f_H = 9.249617e-01\n",
      "prefactor_1 = 4.403644e-03\n",
      "curr_delNL0 = -1.299432e-06\n",
      "growth_factor_zp = 4.586977e-02\n",
      "input ionization = 4.804241e-07\n",
      "\n",
      "N_b0 = 2.055340e-07\n",
      "f_H = 9.249617e-01\n",
      "\n",
      "after 20.432095 0.0007938734\n",
      "----- DM21CM -----\n",
      "z 27.052023024935213\n",
      "[2.31258157e-09 3.56770109e-11 1.99518878e-09 1.24681211e-09\n",
      " 3.52234715e-10 1.28969851e-05]\n",
      "0.00022904907\n",
      "8.469542e-06\n",
      "0.0001706693\n",
      "0.00013952081\n",
      "-----------------\n",
      "i_z=49/204 z=27.05 bath.toteng=1.123e+00 eV/Bavg\n",
      "dt 55798803711268.26 56294181369276.984\n",
      "before 20.432095 0.0007938734\n",
      "input_heating 0.02970293\n",
      "This is commented out: dspec_dzp = - dxe_dzp * T / (1+x_e); need to put it back in\n",
      "box_ct = 0\n",
      "dzp = -2.749939e-01\n",
      "zp = 2.649929e+01\n",
      "dt_dzp = -2.066616e+14\n",
      "dadia_dzp * dzp = -4.086434e-01\n",
      "dspec_dzp * dzp = 0.000000e+00\n",
      "dcomp_dzp * dzp = 3.534253e-02\n",
      "dxheat_dzp * dzp = 0.000000e+00\n",
      "input heating = 2.970293e-02\n",
      "dxion_source = 0.000000e+00\n",
      "dxion_sink = 3.201492e-06\n",
      "T = 2.043209e+01\n",
      "alpha_A(T) = 2.260972e-11\n",
      "global_params.CLUMPING_FACTOR = 1.000000e+00\n",
      "x_e = 7.938736e-04\n",
      "f_H = 9.249617e-01\n",
      "prefactor_1 = 4.274133e-03\n",
      "curr_delNL0 = -1.286549e-06\n",
      "growth_factor_zp = 4.632908e-02\n",
      "input ionization = 4.808089e-07\n",
      "\n",
      "N_b0 = 2.055340e-07\n",
      "f_H = 9.249617e-01\n",
      "\n",
      "after 20.088497 0.0007911529\n",
      "----- DM21CM -----\n",
      "z 26.774280222708132\n",
      "[2.29135947e-09 3.53462087e-11 1.97726255e-09 1.23439973e-09\n",
      " 3.49167817e-10 1.27672621e-05]\n",
      "0.00022570077\n",
      "8.347075e-06\n",
      "0.00016808651\n",
      "0.00013750196\n",
      "-----------------\n",
      "i_z=50/204 z=26.77 bath.toteng=1.140e+00 eV/Bavg\n",
      "dt 56639829305034.03 57152600648391.63\n",
      "before 20.088497 0.0007911529\n",
      "input_heating 0.02973023\n",
      "This is commented out: dspec_dzp = - dxe_dzp * T / (1+x_e); need to put it back in\n",
      "box_ct = 0\n",
      "dzp = -2.722702e-01\n",
      "zp = 2.622702e+01\n",
      "dt_dzp = -2.118666e+14\n",
      "dadia_dzp * dzp = -4.017699e-01\n",
      "dspec_dzp * dzp = 0.000000e+00\n",
      "dcomp_dzp * dzp = 3.410602e-02\n",
      "dxheat_dzp * dzp = 0.000000e+00\n",
      "input heating = 2.973023e-02\n",
      "dxion_source = 0.000000e+00\n",
      "dxion_sink = 3.164368e-06\n",
      "T = 2.008849e+01\n",
      "alpha_A(T) = 2.283999e-11\n",
      "global_params.CLUMPING_FACTOR = 1.000000e+00\n",
      "x_e = 7.911529e-04\n",
      "f_H = 9.249617e-01\n",
      "prefactor_1 = 4.148432e-03\n",
      "curr_delNL0 = -1.273795e-06\n",
      "growth_factor_zp = 4.679297e-02\n",
      "input ionization = 4.811812e-07\n",
      "\n",
      "N_b0 = 2.055340e-07\n",
      "f_H = 9.249617e-01\n",
      "\n",
      "after 19.750559 0.00078846974\n",
      "----- DM21CM -----\n",
      "z 26.499287349215972\n",
      "[2.27034313e-09 3.50184300e-11 1.95950462e-09 1.22213018e-09\n",
      " 3.46127024e-10 1.26388257e-05]\n",
      "0.00022248185\n",
      "8.229135e-06\n",
      "0.00016560194\n",
      "0.0001355612\n",
      "-----------------\n",
      "i_z=51/204 z=26.50 bath.toteng=1.157e+00 eV/Bavg\n",
      "dt 57493507364291.21 58002520726722.96\n",
      "before 19.750559 0.00078846974\n",
      "input_heating 0.029756838\n",
      "This is commented out: dspec_dzp = - dxe_dzp * T / (1+x_e); need to put it back in\n",
      "box_ct = 0\n",
      "dzp = -2.695732e-01\n",
      "zp = 2.595744e+01\n",
      "dt_dzp = -2.172027e+14\n",
      "dadia_dzp * dzp = -3.950094e-01\n",
      "dspec_dzp * dzp = 0.000000e+00\n",
      "dcomp_dzp * dzp = 3.291315e-02\n",
      "dxheat_dzp * dzp = 0.000000e+00\n",
      "input heating = 2.975683e-02\n",
      "dxion_source = 0.000000e+00\n",
      "dxion_sink = 3.127892e-06\n",
      "T = 1.975056e+01\n",
      "alpha_A(T) = 2.307259e-11\n",
      "global_params.CLUMPING_FACTOR = 1.000000e+00\n",
      "x_e = 7.884697e-04\n",
      "f_H = 9.249617e-01\n",
      "prefactor_1 = 4.026427e-03\n",
      "curr_delNL0 = -1.261167e-06\n",
      "growth_factor_zp = 4.726151e-02\n",
      "input ionization = 4.815419e-07\n",
      "\n",
      "N_b0 = 2.055340e-07\n",
      "f_H = 9.249617e-01\n",
      "\n",
      "after 19.418217 0.0007858232\n",
      "----- DM21CM -----\n",
      "z 26.227017177441557\n",
      "[2.24953052e-09 3.46936482e-11 1.94191344e-09 1.21000150e-09\n",
      " 3.43112271e-10 1.25116591e-05]\n",
      "0.00021938531\n",
      "8.115489e-06\n",
      "0.00016321042\n",
      "0.00013369437\n",
      "-----------------\n",
      "i_z=52/204 z=26.23 bath.toteng=1.174e+00 eV/Bavg\n",
      "dt 58360028009282.875 58844025754773.78\n",
      "before 19.418217 0.0007858232\n",
      "input_heating 0.02978277\n",
      "This is commented out: dspec_dzp = - dxe_dzp * T / (1+x_e); need to put it back in\n",
      "box_ct = 0\n",
      "dzp = -2.669067e-01\n",
      "zp = 2.569054e+01\n",
      "dt_dzp = -2.226732e+14\n",
      "dadia_dzp * dzp = -3.883664e-01\n",
      "dspec_dzp * dzp = 0.000000e+00\n",
      "dcomp_dzp * dzp = 3.176281e-02\n",
      "dxheat_dzp * dzp = 0.000000e+00\n",
      "input heating = 2.978276e-02\n",
      "dxion_source = 0.000000e+00\n",
      "dxion_sink = 3.092094e-06\n",
      "T = 1.941822e+01\n",
      "alpha_A(T) = 2.330752e-11\n",
      "global_params.CLUMPING_FACTOR = 1.000000e+00\n",
      "x_e = 7.858233e-04\n",
      "f_H = 9.249617e-01\n",
      "prefactor_1 = 3.908010e-03\n",
      "curr_delNL0 = -1.248664e-06\n",
      "growth_factor_zp = 4.773473e-02\n",
      "input ionization = 4.818916e-07\n",
      "\n",
      "N_b0 = 2.055340e-07\n",
      "f_H = 9.249617e-01\n",
      "\n",
      "after 19.091398 0.0007832132\n",
      "----- DM21CM -----\n",
      "z 25.957442749942135\n",
      "[2.22891960e-09 3.43718367e-11 1.92448767e-09 1.19801190e-09\n",
      " 3.40123325e-10 1.23857540e-05]\n",
      "0.00021640437\n",
      "8.005894e-06\n",
      "0.0001609067\n",
      "0.0001318973\n",
      "-----------------\n",
      "i_z=53/204 z=25.96 bath.toteng=1.192e+00 eV/Bavg\n",
      "dt 59239584210805.71 59677199049873.61\n",
      "before 19.091398 0.0007832132\n",
      "input_heating 0.029808046\n",
      "This is commented out: dspec_dzp = - dxe_dzp * T / (1+x_e); need to put it back in\n",
      "box_ct = 0\n",
      "dzp = -2.642612e-01\n",
      "zp = 2.542628e+01\n",
      "dt_dzp = -2.282814e+14\n",
      "dadia_dzp * dzp = -3.818258e-01\n",
      "dspec_dzp * dzp = 0.000000e+00\n",
      "dcomp_dzp * dzp = 3.065242e-02\n",
      "dxheat_dzp * dzp = 0.000000e+00\n",
      "input heating = 2.980805e-02\n",
      "dxion_source = 0.000000e+00\n",
      "dxion_sink = 3.056850e-06\n",
      "T = 1.909140e+01\n",
      "alpha_A(T) = 2.354479e-11\n",
      "global_params.CLUMPING_FACTOR = 1.000000e+00\n",
      "x_e = 7.832131e-04\n",
      "f_H = 9.249617e-01\n",
      "prefactor_1 = 3.793077e-03\n",
      "curr_delNL0 = -1.236286e-06\n",
      "growth_factor_zp = 4.821267e-02\n",
      "input ionization = 4.822307e-07\n",
      "\n",
      "N_b0 = 2.055340e-07\n",
      "f_H = 9.249617e-01\n",
      "\n",
      "after 18.770031 0.00078063837\n",
      "----- DM21CM -----\n",
      "z 25.69053737618033\n",
      "[2.20850830e-09 3.40529768e-11 1.90722576e-09 1.18615917e-09\n",
      " 3.37160078e-10 1.22610950e-05]\n",
      "0.00021353277\n",
      "7.900139e-06\n",
      "0.00015868607\n",
      "0.00013016627\n",
      "-----------------\n",
      "i_z=54/204 z=25.69 bath.toteng=1.210e+00 eV/Bavg\n",
      "dt 60132371832666.1 60502123104427.89\n",
      "before 18.770031 0.00078063837\n",
      "input_heating 0.029832719\n",
      "This is commented out: dspec_dzp = - dxe_dzp * T / (1+x_e); need to put it back in\n",
      "box_ct = 0\n",
      "dzp = -2.616463e-01\n",
      "zp = 2.516463e+01\n",
      "dt_dzp = -2.340309e+14\n",
      "dadia_dzp * dzp = -3.754006e-01\n",
      "dspec_dzp * dzp = 0.000000e+00\n",
      "dcomp_dzp * dzp = 2.958164e-02\n",
      "dxheat_dzp * dzp = 0.000000e+00\n",
      "input heating = 2.983271e-02\n",
      "dxion_source = 0.000000e+00\n",
      "dxion_sink = 3.022256e-06\n",
      "T = 1.877003e+01\n",
      "alpha_A(T) = 2.378441e-11\n",
      "global_params.CLUMPING_FACTOR = 1.000000e+00\n",
      "x_e = 7.806385e-04\n",
      "f_H = 9.249617e-01\n",
      "prefactor_1 = 3.681523e-03\n",
      "curr_delNL0 = -1.224030e-06\n",
      "growth_factor_zp = 4.869540e-02\n",
      "input ionization = 4.825595e-07\n",
      "\n",
      "N_b0 = 2.055340e-07\n",
      "f_H = 9.249617e-01\n",
      "\n",
      "after 18.454044 0.00077809865\n",
      "----- DM21CM -----\n",
      "z 25.426274629881515\n",
      "[2.18829529e-09 3.37370446e-11 1.89012636e-09 1.17444177e-09\n",
      " 3.34222382e-10 1.21376681e-05]\n",
      "0.00021076453\n",
      "7.798011e-06\n",
      "0.000156544\n",
      "0.00012849766\n",
      "-----------------\n",
      "i_z=55/204 z=25.43 bath.toteng=1.228e+00 eV/Bavg\n",
      "dt 61038589674780.54 61438377333545.81\n",
      "before 18.454044 0.00077809865\n",
      "input_heating 0.029869823\n",
      "This is commented out: dspec_dzp = - dxe_dzp * T / (1+x_e); need to put it back in\n",
      "box_ct = 0\n",
      "dzp = -2.590561e-01\n",
      "zp = 2.490557e+01\n",
      "dt_dzp = -2.399252e+14\n",
      "dadia_dzp * dzp = -3.690814e-01\n",
      "dspec_dzp * dzp = 0.000000e+00\n",
      "dcomp_dzp * dzp = 2.854843e-02\n",
      "dxheat_dzp * dzp = 0.000000e+00\n",
      "input heating = 2.986982e-02\n",
      "dxion_source = 0.000000e+00\n",
      "dxion_sink = 2.988234e-06\n",
      "T = 1.845405e+01\n",
      "alpha_A(T) = 2.402639e-11\n",
      "global_params.CLUMPING_FACTOR = 1.000000e+00\n",
      "x_e = 7.780988e-04\n",
      "f_H = 9.249617e-01\n",
      "prefactor_1 = 3.573250e-03\n",
      "curr_delNL0 = -1.211896e-06\n",
      "growth_factor_zp = 4.918296e-02\n",
      "input ionization = 4.830892e-07\n",
      "\n",
      "N_b0 = 2.055340e-07\n",
      "f_H = 9.249617e-01\n",
      "\n",
      "after 18.143385 0.00077559357\n",
      "----- DM21CM -----\n",
      "z 25.16462834641734\n",
      "[2.16816573e-09 3.34231644e-11 1.87308419e-09 1.16279685e-09\n",
      " 3.31292181e-10 1.20154566e-05]\n",
      "0.00020777964\n",
      "7.68856e-06\n",
      "0.00015424682\n",
      "0.00012669692\n",
      "-----------------\n",
      "i_z=56/204 z=25.16 bath.toteng=1.247e+00 eV/Bavg\n",
      "dt 61958439516893.97 62451839020101.3\n",
      "before 18.143385 0.00077559357\n",
      "input_heating 0.029910708\n",
      "This is commented out: dspec_dzp = - dxe_dzp * T / (1+x_e); need to put it back in\n",
      "box_ct = 0\n",
      "dzp = -2.564907e-01\n",
      "zp = 2.464908e+01\n",
      "dt_dzp = -2.459679e+14\n",
      "dadia_dzp * dzp = -3.628675e-01\n",
      "dspec_dzp * dzp = 0.000000e+00\n",
      "dcomp_dzp * dzp = 2.755150e-02\n",
      "dxheat_dzp * dzp = 0.000000e+00\n",
      "input heating = 2.991070e-02\n",
      "dxion_source = 0.000000e+00\n",
      "dxion_sink = 2.954772e-06\n",
      "T = 1.814338e+01\n",
      "alpha_A(T) = 2.427071e-11\n",
      "global_params.CLUMPING_FACTOR = 1.000000e+00\n",
      "x_e = 7.755936e-04\n",
      "f_H = 9.249617e-01\n",
      "prefactor_1 = 3.468161e-03\n",
      "curr_delNL0 = -1.199883e-06\n",
      "growth_factor_zp = 4.967539e-02\n",
      "input ionization = 4.836810e-07\n",
      "\n",
      "N_b0 = 2.055340e-07\n",
      "f_H = 9.249617e-01\n",
      "\n",
      "after 17.83798 0.00077312253\n",
      "----- DM21CM -----\n",
      "z 24.90557262021519\n",
      "[2.14814997e-09 3.31115572e-11 1.85612752e-09 1.15124000e-09\n",
      " 3.28374393e-10 1.18944451e-05]\n",
      "0.00020465713\n",
      "7.5742064e-06\n",
      "0.0001518515\n",
      "0.00012481147\n",
      "-----------------\n",
      "i_z=57/204 z=24.91 bath.toteng=1.266e+00 eV/Bavg\n",
      "dt 62892126162934.4 63455266432532.48\n",
      "before 17.83798 0.00077312253\n",
      "input_heating 0.029946385\n",
      "This is commented out: dspec_dzp = - dxe_dzp * T / (1+x_e); need to put it back in\n",
      "box_ct = 0\n",
      "dzp = -2.539520e-01\n",
      "zp = 2.439513e+01\n",
      "dt_dzp = -2.521628e+14\n",
      "dadia_dzp * dzp = -3.567606e-01\n",
      "dspec_dzp * dzp = 0.000000e+00\n",
      "dcomp_dzp * dzp = 2.658976e-02\n",
      "dxheat_dzp * dzp = 0.000000e+00\n",
      "input heating = 2.994638e-02\n",
      "dxion_source = 0.000000e+00\n",
      "dxion_sink = 2.921880e-06\n",
      "T = 1.783798e+01\n",
      "alpha_A(T) = 2.451739e-11\n",
      "global_params.CLUMPING_FACTOR = 1.000000e+00\n",
      "x_e = 7.731225e-04\n",
      "f_H = 9.249617e-01\n",
      "prefactor_1 = 3.366163e-03\n",
      "curr_delNL0 = -1.187989e-06\n",
      "growth_factor_zp = 5.017274e-02\n",
      "input ionization = 4.841896e-07\n",
      "\n",
      "N_b0 = 2.055340e-07\n",
      "f_H = 9.249617e-01\n",
      "\n",
      "after 17.537752 0.000770685\n",
      "----- DM21CM -----\n",
      "z 24.649081802193255\n",
      "[2.12832839e-09 3.28028138e-11 1.83933064e-09 1.13981448e-09\n",
      " 3.25481901e-10 1.17746324e-05]\n",
      "0.00020163189\n",
      "7.4630284e-06\n",
      "0.00014952954\n",
      "0.00012298438\n",
      "-----------------\n",
      "i_z=58/204 z=24.65 bath.toteng=1.285e+00 eV/Bavg\n",
      "dt 63839857486016.23 64448758920088.1\n",
      "before 17.537752 0.000770685\n",
      "input_heating 0.029979972\n",
      "This is commented out: dspec_dzp = - dxe_dzp * T / (1+x_e); need to put it back in\n",
      "box_ct = 0\n",
      "dzp = -2.514362e-01\n",
      "zp = 2.414369e+01\n",
      "dt_dzp = -2.585137e+14\n",
      "dadia_dzp * dzp = -3.507541e-01\n",
      "dspec_dzp * dzp = 0.000000e+00\n",
      "dcomp_dzp * dzp = 2.566159e-02\n",
      "dxheat_dzp * dzp = 0.000000e+00\n",
      "input heating = 2.997997e-02\n",
      "dxion_source = 0.000000e+00\n",
      "dxion_sink = 2.889503e-06\n",
      "T = 1.753775e+01\n",
      "alpha_A(T) = 2.476643e-11\n",
      "global_params.CLUMPING_FACTOR = 1.000000e+00\n",
      "x_e = 7.706849e-04\n",
      "f_H = 9.249617e-01\n",
      "prefactor_1 = 3.267165e-03\n",
      "curr_delNL0 = -1.176213e-06\n",
      "growth_factor_zp = 5.067506e-02\n",
      "input ionization = 4.846643e-07\n",
      "\n",
      "N_b0 = 2.055340e-07\n",
      "f_H = 9.249617e-01\n",
      "\n",
      "after 17.242643 0.00076827995\n",
      "----- DM21CM -----\n",
      "z 24.395130497221043\n",
      "[2.10869980e-09 3.24969262e-11 1.82269285e-09 1.12851858e-09\n",
      " 3.22614661e-10 1.16560085e-05]\n",
      "0.00019871778\n",
      "7.355685e-06\n",
      "0.00014729143\n",
      "0.00012122434\n",
      "-----------------\n",
      "i_z=59/204 z=24.40 bath.toteng=1.304e+00 eV/Bavg\n",
      "dt 64801844474107.0 65432414848360.984\n",
      "before 17.242643 0.00076827995\n",
      "input_heating 0.030012572\n",
      "This is commented out: dspec_dzp = - dxe_dzp * T / (1+x_e); need to put it back in\n",
      "box_ct = 0\n",
      "dzp = -2.489471e-01\n",
      "zp = 2.389475e+01\n",
      "dt_dzp = -2.650245e+14\n",
      "dadia_dzp * dzp = -3.448524e-01\n",
      "dspec_dzp * dzp = 0.000000e+00\n",
      "dcomp_dzp * dzp = 2.476621e-02\n",
      "dxheat_dzp * dzp = 0.000000e+00\n",
      "input heating = 3.001257e-02\n",
      "dxion_source = 0.000000e+00\n",
      "dxion_sink = 2.857673e-06\n",
      "T = 1.724264e+01\n",
      "alpha_A(T) = 2.501784e-11\n",
      "global_params.CLUMPING_FACTOR = 1.000000e+00\n",
      "x_e = 7.682800e-04\n",
      "f_H = 9.249617e-01\n",
      "prefactor_1 = 3.171078e-03\n",
      "curr_delNL0 = -1.164553e-06\n",
      "growth_factor_zp = 5.118241e-02\n",
      "input ionization = 4.851229e-07\n",
      "\n",
      "N_b0 = 2.055340e-07\n",
      "f_H = 9.249617e-01\n",
      "\n",
      "after 16.952572 0.0007659075\n",
      "----- DM21CM -----\n",
      "z 24.143693561604994\n",
      "[2.08926165e-09 3.21938599e-11 1.80621211e-09 1.11735044e-09\n",
      " 3.19772375e-10 1.15385574e-05]\n",
      "0.0001959154\n",
      "7.2522653e-06\n",
      "0.00014513776\n",
      "0.00011953179\n",
      "-----------------\n",
      "i_z=60/204 z=24.14 bath.toteng=1.324e+00 eV/Bavg\n",
      "dt 65778301276332.66 66406331609027.21\n",
      "before 16.952572 0.0007659075\n",
      "input_heating 0.03004446\n",
      "This is commented out: dspec_dzp = - dxe_dzp * T / (1+x_e); need to put it back in\n",
      "box_ct = 0\n",
      "dzp = -2.464828e-01\n",
      "zp = 2.364826e+01\n",
      "dt_dzp = -2.716993e+14\n",
      "dadia_dzp * dzp = -3.390517e-01\n",
      "dspec_dzp * dzp = 0.000000e+00\n",
      "dcomp_dzp * dzp = 2.390227e-02\n",
      "dxheat_dzp * dzp = 0.000000e+00\n",
      "input heating = 3.004446e-02\n",
      "dxion_source = 0.000000e+00\n",
      "dxion_sink = 2.826359e-06\n",
      "T = 1.695257e+01\n",
      "alpha_A(T) = 2.527161e-11\n",
      "global_params.CLUMPING_FACTOR = 1.000000e+00\n",
      "x_e = 7.659075e-04\n",
      "f_H = 9.249617e-01\n",
      "prefactor_1 = 3.077817e-03\n",
      "curr_delNL0 = -1.153010e-06\n",
      "growth_factor_zp = 5.169482e-02\n",
      "input ionization = 4.855699e-07\n",
      "\n",
      "N_b0 = 2.055340e-07\n",
      "f_H = 9.249617e-01\n",
      "\n",
      "after 16.667463 0.0007635668\n",
      "----- DM21CM -----\n",
      "z 23.894746100599004\n",
      "[2.07001241e-09 3.18935908e-11 1.78988724e-09 1.10630843e-09\n",
      " 3.16954917e-10 1.14222695e-05]\n",
      "0.0001932198\n",
      "7.152613e-06\n",
      "0.00014306491\n",
      "0.000117903866\n",
      "-----------------\n",
      "i_z=61/204 z=23.89 bath.toteng=1.344e+00 eV/Bavg\n",
      "dt 66769445249986.234 67370605629488.82\n",
      "before 16.667463 0.0007635668\n",
      "input_heating 0.03007573\n",
      "This is commented out: dspec_dzp = - dxe_dzp * T / (1+x_e); need to put it back in\n",
      "box_ct = 0\n",
      "dzp = -2.440434e-01\n",
      "zp = 2.340422e+01\n",
      "dt_dzp = -2.785422e+14\n",
      "dadia_dzp * dzp = -3.333508e-01\n",
      "dspec_dzp * dzp = 0.000000e+00\n",
      "dcomp_dzp * dzp = 2.306868e-02\n",
      "dxheat_dzp * dzp = 0.000000e+00\n",
      "input heating = 3.007573e-02\n",
      "dxion_source = 0.000000e+00\n",
      "dxion_sink = 2.795549e-06\n",
      "T = 1.666746e+01\n",
      "alpha_A(T) = 2.552777e-11\n",
      "global_params.CLUMPING_FACTOR = 1.000000e+00\n",
      "x_e = 7.635667e-04\n",
      "f_H = 9.249617e-01\n",
      "prefactor_1 = 2.987298e-03\n",
      "curr_delNL0 = -1.141581e-06\n",
      "growth_factor_zp = 5.221237e-02\n",
      "input ionization = 4.860067e-07\n",
      "\n",
      "N_b0 = 2.055340e-07\n",
      "f_H = 9.249617e-01\n",
      "\n",
      "after 16.387255 0.0007612572\n",
      "----- DM21CM -----\n",
      "z 23.648263465939607\n",
      "[2.05095002e-09 3.15961004e-11 1.77371686e-09 1.09539094e-09\n",
      " 3.14162115e-10 1.13071320e-05]\n",
      "0.00019062556\n",
      "7.056543e-06\n",
      "0.00014106884\n",
      "0.00011633728\n",
      "-----------------\n",
      "i_z=62/204 z=23.65 bath.toteng=1.365e+00 eV/Bavg\n",
      "dt 67775497008206.53 68325332382421.1\n",
      "before 16.387255 0.0007612572\n",
      "input_heating 0.030106457\n",
      "This is commented out: dspec_dzp = - dxe_dzp * T / (1+x_e); need to put it back in\n",
      "box_ct = 0\n",
      "dzp = -2.416248e-01\n",
      "zp = 2.316260e+01\n",
      "dt_dzp = -2.855574e+14\n",
      "dadia_dzp * dzp = -3.277436e-01\n",
      "dspec_dzp * dzp = 0.000000e+00\n",
      "dcomp_dzp * dzp = 2.226404e-02\n",
      "dxheat_dzp * dzp = 0.000000e+00\n",
      "input heating = 3.010646e-02\n",
      "dxion_source = 0.000000e+00\n",
      "dxion_sink = 2.765190e-06\n",
      "T = 1.638726e+01\n",
      "alpha_A(T) = 2.578630e-11\n",
      "global_params.CLUMPING_FACTOR = 1.000000e+00\n",
      "x_e = 7.612571e-04\n",
      "f_H = 9.249617e-01\n",
      "prefactor_1 = 2.899443e-03\n",
      "curr_delNL0 = -1.130266e-06\n",
      "growth_factor_zp = 5.273508e-02\n",
      "input ionization = 4.864343e-07\n",
      "\n",
      "N_b0 = 2.055340e-07\n",
      "f_H = 9.249617e-01\n",
      "\n",
      "after 16.111881 0.0007589785\n",
      "----- DM21CM -----\n",
      "z 23.404221253405552\n",
      "[2.03207331e-09 3.13013673e-11 1.75769961e-09 1.08459644e-09\n",
      " 3.11393863e-10 1.11931367e-05]\n",
      "0.00018812748\n",
      "6.9638672e-06\n",
      "0.00013914536\n",
      "0.000114828836\n",
      "-----------------\n",
      "i_z=63/204 z=23.40 bath.toteng=1.385e+00 eV/Bavg\n",
      "dt 68796680468340.93 69270606395225.34\n",
      "before 16.111881 0.0007589785\n",
      "input_heating 0.03013664\n",
      "This is commented out: dspec_dzp = - dxe_dzp * T / (1+x_e); need to put it back in\n",
      "box_ct = 0\n",
      "dzp = -2.392349e-01\n",
      "zp = 2.292336e+01\n",
      "dt_dzp = -2.927493e+14\n",
      "dadia_dzp * dzp = -3.222394e-01\n",
      "dspec_dzp * dzp = 0.000000e+00\n",
      "dcomp_dzp * dzp = 2.148802e-02\n",
      "dxheat_dzp * dzp = 0.000000e+00\n",
      "input heating = 3.013664e-02\n",
      "dxion_source = 0.000000e+00\n",
      "dxion_sink = 2.735360e-06\n",
      "T = 1.611188e+01\n",
      "alpha_A(T) = 2.604721e-11\n",
      "global_params.CLUMPING_FACTOR = 1.000000e+00\n",
      "x_e = 7.589784e-04\n",
      "f_H = 9.249617e-01\n",
      "prefactor_1 = 2.814170e-03\n",
      "curr_delNL0 = -1.119062e-06\n",
      "growth_factor_zp = 5.326302e-02\n",
      "input ionization = 4.868530e-07\n",
      "\n",
      "N_b0 = 2.055340e-07\n",
      "f_H = 9.249617e-01\n",
      "\n",
      "after 15.841267 0.00075672974\n",
      "----- DM21CM -----\n",
      "z 23.162595300401538\n",
      "[2.01338005e-09 3.10093703e-11 1.74183431e-09 1.07392313e-09\n",
      " 3.08649969e-10 1.10802696e-05]\n",
      "0.00018572038\n",
      "6.8744057e-06\n",
      "0.00013729071\n",
      "0.00011337544\n",
      "-----------------\n",
      "i_z=64/204 z=23.16 bath.toteng=1.406e+00 eV/Bavg\n",
      "dt 69833222901003.586 70232978362113.05\n",
      "before 15.841267 0.00075672974\n",
      "input_heating 0.030165879\n",
      "This is commented out: dspec_dzp = - dxe_dzp * T / (1+x_e); need to put it back in\n",
      "box_ct = 0\n",
      "dzp = -2.368641e-01\n",
      "zp = 2.268650e+01\n",
      "dt_dzp = -3.001222e+14\n",
      "dadia_dzp * dzp = -3.168242e-01\n",
      "dspec_dzp * dzp = 0.000000e+00\n",
      "dcomp_dzp * dzp = 2.073879e-02\n",
      "dxheat_dzp * dzp = 0.000000e+00\n",
      "input heating = 3.016588e-02\n",
      "dxion_source = 0.000000e+00\n",
      "dxion_sink = 2.705942e-06\n",
      "T = 1.584127e+01\n",
      "alpha_A(T) = 2.631051e-11\n",
      "global_params.CLUMPING_FACTOR = 1.000000e+00\n",
      "x_e = 7.567299e-04\n",
      "f_H = 9.249617e-01\n",
      "prefactor_1 = 2.731406e-03\n",
      "curr_delNL0 = -1.107971e-06\n",
      "growth_factor_zp = 5.379623e-02\n",
      "input ionization = 4.872566e-07\n",
      "\n",
      "N_b0 = 2.055340e-07\n",
      "f_H = 9.249617e-01\n",
      "\n",
      "after 15.575349 0.00075451104\n",
      "----- DM21CM -----\n",
      "z 22.92336168356588\n",
      "[1.99484929e-09 3.07199283e-11 1.72610170e-09 1.06335943e-09\n",
      " 3.05927112e-10 1.09685251e-05]\n",
      "0.00018332784\n",
      "6.7853753e-06\n",
      "0.00013544862\n",
      "0.0001119304\n",
      "-----------------\n",
      "i_z=65/204 z=22.92 bath.toteng=1.427e+00 eV/Bavg\n",
      "dt 70885354979884.38 71420668492592.89\n",
      "before 15.575349 0.00075451104\n",
      "input_heating 0.030193118\n",
      "This is commented out: dspec_dzp = - dxe_dzp * T / (1+x_e); need to put it back in\n",
      "box_ct = 0\n",
      "dzp = -2.345200e-01\n",
      "zp = 2.245198e+01\n",
      "dt_dzp = -3.076809e+14\n",
      "dadia_dzp * dzp = -3.115072e-01\n",
      "dspec_dzp * dzp = 0.000000e+00\n",
      "dcomp_dzp * dzp = 2.001608e-02\n",
      "dxheat_dzp * dzp = 0.000000e+00\n",
      "input heating = 3.019311e-02\n",
      "dxion_source = 0.000000e+00\n",
      "dxion_sink = 2.677012e-06\n",
      "T = 1.557535e+01\n",
      "alpha_A(T) = 2.657620e-11\n",
      "global_params.CLUMPING_FACTOR = 1.000000e+00\n",
      "x_e = 7.545112e-04\n",
      "f_H = 9.249617e-01\n",
      "prefactor_1 = 2.651076e-03\n",
      "curr_delNL0 = -1.096989e-06\n",
      "growth_factor_zp = 5.433478e-02\n",
      "input ionization = 4.876324e-07\n",
      "\n",
      "N_b0 = 2.055340e-07\n",
      "f_H = 9.249617e-01\n",
      "\n",
      "after 15.314053 0.00075232174\n",
      "----- DM21CM -----\n",
      "z 22.686496716401862\n",
      "[1.97632944e-09 3.04318651e-11 1.71036142e-09 1.05282222e-09\n",
      " 3.03200976e-10 1.08579374e-05]\n",
      "0.00018041846\n",
      "6.67747e-06\n",
      "0.00013322859\n",
      "0.00011016847\n",
      "-----------------\n",
      "i_z=66/204 z=22.69 bath.toteng=1.449e+00 eV/Bavg\n",
      "dt 71953310832205.05 72596599314850.17\n",
      "before 15.314053 0.00075232174\n",
      "input_heating 0.030229516\n",
      "This is commented out: dspec_dzp = - dxe_dzp * T / (1+x_e); need to put it back in\n",
      "box_ct = 0\n",
      "dzp = -2.321968e-01\n",
      "zp = 2.221978e+01\n",
      "dt_dzp = -3.154298e+14\n",
      "dadia_dzp * dzp = -3.062797e-01\n",
      "dspec_dzp * dzp = 0.000000e+00\n",
      "dcomp_dzp * dzp = 1.931849e-02\n",
      "dxheat_dzp * dzp = 0.000000e+00\n",
      "input heating = 3.022952e-02\n",
      "dxion_source = 0.000000e+00\n",
      "dxion_sink = 2.648498e-06\n",
      "T = 1.531405e+01\n",
      "alpha_A(T) = 2.684427e-11\n",
      "global_params.CLUMPING_FACTOR = 1.000000e+00\n",
      "x_e = 7.523218e-04\n",
      "f_H = 9.249617e-01\n",
      "prefactor_1 = 2.573108e-03\n",
      "curr_delNL0 = -1.086116e-06\n",
      "growth_factor_zp = 5.487871e-02\n",
      "input ionization = 4.881541e-07\n",
      "\n",
      "N_b0 = 2.055340e-07\n",
      "f_H = 9.249617e-01\n",
      "\n",
      "after 15.057316 0.0007501616\n",
      "----- DM21CM -----\n",
      "z 22.451976946932536\n",
      "[1.95798946e-09 3.01464686e-11 1.69476985e-09 1.04240289e-09\n",
      " 3.00498901e-10 1.07484444e-05]\n",
      "0.00017768602\n",
      "6.576242e-06\n",
      "0.0001311424\n",
      "0.000108514636\n",
      "-----------------\n",
      "i_z=67/204 z=22.45 bath.toteng=1.471e+00 eV/Bavg\n",
      "dt 73037328089982.11 73760887257679.16\n",
      "before 15.057316 0.0007501616\n",
      "input_heating 0.030266227\n",
      "This is commented out: dspec_dzp = - dxe_dzp * T / (1+x_e); need to put it back in\n",
      "box_ct = 0\n",
      "dzp = -2.299004e-01\n",
      "zp = 2.198988e+01\n",
      "dt_dzp = -3.233740e+14\n",
      "dadia_dzp * dzp = -3.011484e-01\n",
      "dspec_dzp * dzp = 0.000000e+00\n",
      "dcomp_dzp * dzp = 1.864560e-02\n",
      "dxheat_dzp * dzp = 0.000000e+00\n",
      "input heating = 3.026623e-02\n",
      "dxion_source = 0.000000e+00\n",
      "dxion_sink = 2.620457e-06\n",
      "T = 1.505732e+01\n",
      "alpha_A(T) = 2.711473e-11\n",
      "global_params.CLUMPING_FACTOR = 1.000000e+00\n",
      "x_e = 7.501615e-04\n",
      "f_H = 9.249617e-01\n",
      "prefactor_1 = 2.497433e-03\n",
      "curr_delNL0 = -1.075351e-06\n",
      "growth_factor_zp = 5.542808e-02\n",
      "input ionization = 4.886805e-07\n",
      "\n",
      "N_b0 = 2.055340e-07\n",
      "f_H = 9.249617e-01\n",
      "\n",
      "after 14.805083 0.0007480298\n",
      "----- DM21CM -----\n",
      "z 22.21977915537875\n",
      "[1.93982833e-09 2.98637391e-11 1.67932698e-09 1.03210015e-09\n",
      " 2.97820800e-10 1.06400356e-05]\n",
      "0.00017507003\n",
      "6.479182e-06\n",
      "0.00012914395\n",
      "0.00010693142\n",
      "-----------------\n",
      "i_z=68/204 z=22.22 bath.toteng=1.493e+00 eV/Bavg\n",
      "dt 74137647941958.08 74913647597113.8\n",
      "before 14.805083 0.0007480298\n",
      "input_heating 0.030302115\n",
      "This is commented out: dspec_dzp = - dxe_dzp * T / (1+x_e); need to put it back in\n",
      "box_ct = 0\n",
      "dzp = -2.276211e-01\n",
      "zp = 2.176226e+01\n",
      "dt_dzp = -3.315181e+14\n",
      "dadia_dzp * dzp = -2.960997e-01\n",
      "dspec_dzp * dzp = 0.000000e+00\n",
      "dcomp_dzp * dzp = 1.799582e-02\n",
      "dxheat_dzp * dzp = 0.000000e+00\n",
      "input heating = 3.030212e-02\n",
      "dxion_source = 0.000000e+00\n",
      "dxion_sink = 2.592772e-06\n",
      "T = 1.480508e+01\n",
      "alpha_A(T) = 2.738757e-11\n",
      "global_params.CLUMPING_FACTOR = 1.000000e+00\n",
      "x_e = 7.480297e-04\n",
      "f_H = 9.249617e-01\n",
      "prefactor_1 = 2.423984e-03\n",
      "curr_delNL0 = -1.064693e-06\n",
      "growth_factor_zp = 5.598293e-02\n",
      "input ionization = 4.891933e-07\n",
      "\n",
      "N_b0 = 2.055340e-07\n",
      "f_H = 9.249617e-01\n",
      "\n",
      "after 14.557281 0.0007459261\n",
      "----- DM21CM -----\n",
      "z 21.989880351860148\n",
      "[1.92184368e-09 2.95836365e-11 1.66403095e-09 1.02191213e-09\n",
      " 2.95166440e-10 1.05326992e-05]\n",
      "0.00017255743\n",
      "6.385787e-06\n",
      "0.00012722328\n",
      "0.00010541085\n",
      "-----------------\n",
      "i_z=69/204 z=21.99 bath.toteng=1.516e+00 eV/Bavg\n",
      "dt 75254515186346.27 76054994467841.17\n",
      "before 14.557281 0.0007459261\n",
      "input_heating 0.03033725\n",
      "This is commented out: dspec_dzp = - dxe_dzp * T / (1+x_e); need to put it back in\n",
      "box_ct = 0\n",
      "dzp = -2.253704e-01\n",
      "zp = 2.153689e+01\n",
      "dt_dzp = -3.398674e+14\n",
      "dadia_dzp * dzp = -2.911476e-01\n",
      "dspec_dzp * dzp = 0.000000e+00\n",
      "dcomp_dzp * dzp = 1.736922e-02\n",
      "dxheat_dzp * dzp = 0.000000e+00\n",
      "input heating = 3.033725e-02\n",
      "dxion_source = 0.000000e+00\n",
      "dxion_sink = 2.565566e-06\n",
      "T = 1.455728e+01\n",
      "alpha_A(T) = 2.766278e-11\n",
      "global_params.CLUMPING_FACTOR = 1.000000e+00\n",
      "x_e = 7.459261e-04\n",
      "f_H = 9.249617e-01\n",
      "prefactor_1 = 2.352695e-03\n",
      "curr_delNL0 = -1.054141e-06\n",
      "growth_factor_zp = 5.654334e-02\n",
      "input ionization = 4.896937e-07\n",
      "\n",
      "N_b0 = 2.055340e-07\n",
      "f_H = 9.249617e-01\n",
      "\n",
      "after 14.313842 0.0007438502\n",
      "----- DM21CM -----\n",
      "z 21.762257774118957\n",
      "[1.90403448e-09 2.93061475e-11 1.64888038e-09 1.01183782e-09\n",
      " 2.92535715e-10 1.04264268e-05]\n",
      "0.0001701423\n",
      "6.2958516e-06\n",
      "0.00012537591\n",
      "0.00010394934\n",
      "-----------------\n",
      "i_z=70/204 z=21.76 bath.toteng=1.538e+00 eV/Bavg\n",
      "dt 76388178284258.14 77185040874501.94\n",
      "before 14.313842 0.0007438502\n",
      "input_heating 0.030371672\n",
      "This is commented out: dspec_dzp = - dxe_dzp * T / (1+x_e); need to put it back in\n",
      "box_ct = 0\n",
      "dzp = -2.231369e-01\n",
      "zp = 2.131375e+01\n",
      "dt_dzp = -3.484268e+14\n",
      "dadia_dzp * dzp = -2.862760e-01\n",
      "dspec_dzp * dzp = 0.000000e+00\n",
      "dcomp_dzp * dzp = 1.676415e-02\n",
      "dxheat_dzp * dzp = 0.000000e+00\n",
      "input heating = 3.037168e-02\n",
      "dxion_source = 0.000000e+00\n",
      "dxion_sink = 2.538701e-06\n",
      "T = 1.431384e+01\n",
      "alpha_A(T) = 2.794038e-11\n",
      "global_params.CLUMPING_FACTOR = 1.000000e+00\n",
      "x_e = 7.438503e-04\n",
      "f_H = 9.249617e-01\n",
      "prefactor_1 = 2.283503e-03\n",
      "curr_delNL0 = -1.043693e-06\n",
      "growth_factor_zp = 5.710935e-02\n",
      "input ionization = 4.901823e-07\n",
      "\n",
      "N_b0 = 2.055340e-07\n",
      "f_H = 9.249617e-01\n",
      "\n",
      "after 14.074696 0.00074180186\n",
      "----- DM21CM -----\n",
      "z 21.536888885266293\n",
      "[1.88639868e-09 2.90312482e-11 1.63387392e-09 1.00187550e-09\n",
      " 2.89928390e-10 1.03212058e-05]\n",
      "0.00016781922\n",
      "6.2091863e-06\n",
      "0.00012359786\n",
      "0.00010254365\n",
      "-----------------\n",
      "i_z=71/204 z=21.54 bath.toteng=1.562e+00 eV/Bavg\n",
      "dt 77538889413981.0 78303898702878.92\n",
      "before 14.074696 0.00074180186\n",
      "input_heating 0.03040543\n",
      "This is commented out: dspec_dzp = - dxe_dzp * T / (1+x_e); need to put it back in\n",
      "box_ct = 0\n",
      "dzp = -2.209282e-01\n",
      "zp = 2.109282e+01\n",
      "dt_dzp = -3.572019e+14\n",
      "dadia_dzp * dzp = -2.814939e-01\n",
      "dspec_dzp * dzp = 0.000000e+00\n",
      "dcomp_dzp * dzp = 1.618042e-02\n",
      "dxheat_dzp * dzp = 0.000000e+00\n",
      "input heating = 3.040543e-02\n",
      "dxion_source = 0.000000e+00\n",
      "dxion_sink = 2.512258e-06\n",
      "T = 1.407470e+01\n",
      "alpha_A(T) = 2.822035e-11\n",
      "global_params.CLUMPING_FACTOR = 1.000000e+00\n",
      "x_e = 7.418017e-04\n",
      "f_H = 9.249617e-01\n",
      "prefactor_1 = 2.216345e-03\n",
      "curr_delNL0 = -1.033349e-06\n",
      "growth_factor_zp = 5.768101e-02\n",
      "input ionization = 4.906601e-07\n",
      "\n",
      "N_b0 = 2.055340e-07\n",
      "f_H = 9.249617e-01\n",
      "\n",
      "after 13.839788 0.0007397802\n",
      "----- DM21CM -----\n",
      "z 21.313751371550786\n",
      "[1.86893458e-09 2.87589146e-11 1.61901055e-09 9.92023986e-10\n",
      " 2.87344359e-10 1.02170286e-05]\n",
      "0.00016558336\n",
      "6.125617e-06\n",
      "0.00012188541\n",
      "0.0001011908\n",
      "-----------------\n",
      "i_z=72/204 z=21.31 bath.toteng=1.585e+00 eV/Bavg\n",
      "dt 78706904525953.78 79411678730974.95\n",
      "before 13.839788 0.0007397802\n",
      "input_heating 0.030438548\n",
      "This is commented out: dspec_dzp = - dxe_dzp * T / (1+x_e); need to put it back in\n",
      "box_ct = 0\n",
      "dzp = -2.187405e-01\n",
      "zp = 2.087408e+01\n",
      "dt_dzp = -3.661978e+14\n",
      "dadia_dzp * dzp = -2.767954e-01\n",
      "dspec_dzp * dzp = 0.000000e+00\n",
      "dcomp_dzp * dzp = 1.561702e-02\n",
      "dxheat_dzp * dzp = 0.000000e+00\n",
      "input heating = 3.043855e-02\n",
      "dxion_source = 0.000000e+00\n",
      "dxion_sink = 2.486185e-06\n",
      "T = 1.383979e+01\n",
      "alpha_A(T) = 2.850271e-11\n",
      "global_params.CLUMPING_FACTOR = 1.000000e+00\n",
      "x_e = 7.397801e-04\n",
      "f_H = 9.249617e-01\n",
      "prefactor_1 = 2.151163e-03\n",
      "curr_delNL0 = -1.023108e-06\n",
      "growth_factor_zp = 5.825839e-02\n",
      "input ionization = 4.911272e-07\n",
      "\n",
      "N_b0 = 2.055340e-07\n",
      "f_H = 9.249617e-01\n",
      "\n",
      "after 13.609054 0.0007377851\n",
      "----- DM21CM -----\n",
      "z 21.092823140149292\n",
      "[1.85164099e-09 2.84891254e-11 1.60428856e-09 9.82281746e-10\n",
      " 2.84783366e-10 1.01138799e-05]\n",
      "0.00016342994\n",
      "6.0449756e-06\n",
      "0.00012023501\n",
      "9.988791e-05\n",
      "-----------------\n",
      "i_z=73/204 z=21.09 bath.toteng=1.609e+00 eV/Bavg\n",
      "dt 79892483398581.16 80508490639980.92\n",
      "before 13.609054 0.0007377851\n",
      "input_heating 0.030471051\n",
      "This is commented out: dspec_dzp = - dxe_dzp * T / (1+x_e); need to put it back in\n",
      "box_ct = 0\n",
      "dzp = -2.165756e-01\n",
      "zp = 2.065751e+01\n",
      "dt_dzp = -3.754204e+14\n",
      "dadia_dzp * dzp = -2.721817e-01\n",
      "dspec_dzp * dzp = 0.000000e+00\n",
      "dcomp_dzp * dzp = 1.507338e-02\n",
      "dxheat_dzp * dzp = 0.000000e+00\n",
      "input heating = 3.047105e-02\n",
      "dxion_source = 0.000000e+00\n",
      "dxion_sink = 2.460497e-06\n",
      "T = 1.360905e+01\n",
      "alpha_A(T) = 2.878743e-11\n",
      "global_params.CLUMPING_FACTOR = 1.000000e+00\n",
      "x_e = 7.377851e-04\n",
      "f_H = 9.249617e-01\n",
      "prefactor_1 = 2.087897e-03\n",
      "curr_delNL0 = -1.012969e-06\n",
      "growth_factor_zp = 5.884154e-02\n",
      "input ionization = 4.915840e-07\n",
      "\n",
      "N_b0 = 2.055340e-07\n",
      "f_H = 9.249617e-01\n",
      "\n",
      "after 13.382415 0.00073581625\n",
      "----- DM21CM -----\n",
      "z 20.874082316979496\n",
      "[1.83451569e-09 2.82218647e-11 1.58970743e-09 9.72647585e-10\n",
      " 2.82245326e-10 1.00117553e-05]\n",
      "0.00016135439\n",
      "5.9671006e-06\n",
      "0.000118643235\n",
      "9.8632234e-05\n",
      "-----------------\n",
      "i_z=74/204 z=20.87 bath.toteng=1.634e+00 eV/Bavg\n",
      "dt 81095889694842.88 81594443025135.34\n",
      "before 13.382415 0.00073581625\n",
      "input_heating 0.030502923\n",
      "This is commented out: dspec_dzp = - dxe_dzp * T / (1+x_e); need to put it back in\n",
      "box_ct = 0\n",
      "dzp = -2.144299e-01\n",
      "zp = 2.044308e+01\n",
      "dt_dzp = -3.848751e+14\n",
      "dadia_dzp * dzp = -2.676471e-01\n",
      "dspec_dzp * dzp = 0.000000e+00\n",
      "dcomp_dzp * dzp = 1.454856e-02\n",
      "dxheat_dzp * dzp = 0.000000e+00\n",
      "input heating = 3.050293e-02\n",
      "dxion_source = 0.000000e+00\n",
      "dxion_sink = 2.435147e-06\n",
      "T = 1.338241e+01\n",
      "alpha_A(T) = 2.907453e-11\n",
      "global_params.CLUMPING_FACTOR = 1.000000e+00\n",
      "x_e = 7.358161e-04\n",
      "f_H = 9.249617e-01\n",
      "prefactor_1 = 2.026493e-03\n",
      "curr_delNL0 = -1.002930e-06\n",
      "growth_factor_zp = 5.943052e-02\n",
      "input ionization = 4.920307e-07\n",
      "\n",
      "N_b0 = 2.055340e-07\n",
      "f_H = 9.249617e-01\n",
      "\n",
      "after 13.15982 0.00073387293\n",
      "----- DM21CM -----\n",
      "z 20.657507244534155\n",
      "[1.81755783e-09 2.79571058e-11 1.57526530e-09 9.63119885e-10\n",
      " 2.79730069e-10 9.91064105e-06]\n",
      "0.00015935268\n",
      "5.891845e-06\n",
      "0.00011710696\n",
      "9.7421325e-05\n",
      "-----------------\n",
      "i_z=75/204 z=20.66 bath.toteng=1.658e+00 eV/Bavg\n",
      "dt 82317391019659.94 82885853182406.5\n",
      "before 13.15982 0.00073387293\n",
      "input_heating 0.030542912\n",
      "This is commented out: dspec_dzp = - dxe_dzp * T / (1+x_e); need to put it back in\n",
      "box_ct = 0\n",
      "dzp = -2.123089e-01\n",
      "zp = 2.023077e+01\n",
      "dt_dzp = -3.945679e+14\n",
      "dadia_dzp * dzp = -2.631979e-01\n",
      "dspec_dzp * dzp = 0.000000e+00\n",
      "dcomp_dzp * dzp = 1.404230e-02\n",
      "dxheat_dzp * dzp = 0.000000e+00\n",
      "input heating = 3.054291e-02\n",
      "dxion_source = 0.000000e+00\n",
      "dxion_sink = 2.410191e-06\n",
      "T = 1.315982e+01\n",
      "alpha_A(T) = 2.936399e-11\n",
      "global_params.CLUMPING_FACTOR = 1.000000e+00\n",
      "x_e = 7.338731e-04\n",
      "f_H = 9.249617e-01\n",
      "prefactor_1 = 1.966894e-03\n",
      "curr_delNL0 = -9.929906e-07\n",
      "growth_factor_zp = 6.002539e-02\n",
      "input ionization = 4.926097e-07\n",
      "\n",
      "N_b0 = 2.055340e-07\n",
      "f_H = 9.249617e-01\n",
      "\n",
      "after 12.941207 0.00073195534\n",
      "----- DM21CM -----\n",
      "z 20.44307647973679\n",
      "[1.80064870e-09 2.76938960e-11 1.56085264e-09 9.53634770e-10\n",
      " 2.77218772e-10 9.81056218e-06]\n",
      "0.0001570552\n",
      "5.8061632e-06\n",
      "0.000115358\n",
      "9.6029195e-05\n",
      "-----------------\n",
      "i_z=76/204 z=20.44 bath.toteng=1.683e+00 eV/Bavg\n",
      "dt 83557258978146.27 84288250787166.03\n",
      "before 12.941207 0.00073195534\n",
      "input_heating 0.03058854\n",
      "This is commented out: dspec_dzp = - dxe_dzp * T / (1+x_e); need to put it back in\n",
      "box_ct = 0\n",
      "dzp = -2.102051e-01\n",
      "zp = 2.002056e+01\n",
      "dt_dzp = -4.045048e+14\n",
      "dadia_dzp * dzp = -2.588234e-01\n",
      "dspec_dzp * dzp = 0.000000e+00\n",
      "dcomp_dzp * dzp = 1.355346e-02\n",
      "dxheat_dzp * dzp = 0.000000e+00\n",
      "input heating = 3.058854e-02\n",
      "dxion_source = 0.000000e+00\n",
      "dxion_sink = 2.385539e-06\n",
      "T = 1.294121e+01\n",
      "alpha_A(T) = 2.965581e-11\n",
      "global_params.CLUMPING_FACTOR = 1.000000e+00\n",
      "x_e = 7.319555e-04\n",
      "f_H = 9.249617e-01\n",
      "prefactor_1 = 1.909048e-03\n",
      "curr_delNL0 = -9.831500e-07\n",
      "growth_factor_zp = 6.062620e-02\n",
      "input ionization = 4.932804e-07\n",
      "\n",
      "N_b0 = 2.055340e-07\n",
      "f_H = 9.249617e-01\n",
      "\n",
      "after 12.726526 0.0007300631\n",
      "----- DM21CM -----\n",
      "z 20.2307687918186\n",
      "[1.78383767e-09 2.74326264e-11 1.54651544e-09 9.44218642e-10\n",
      " 2.74719399e-10 9.71149358e-06]\n",
      "0.0001546529\n",
      "5.7168204e-06\n",
      "0.00011353534\n",
      "9.45725e-05\n",
      "-----------------\n",
      "i_z=77/204 z=20.23 bath.toteng=1.709e+00 eV/Bavg\n",
      "dt 84815769234642.6 85676763267125.94\n",
      "before 12.726526 0.0007300631\n",
      "input_heating 0.030632379\n",
      "This is commented out: dspec_dzp = - dxe_dzp * T / (1+x_e); need to put it back in\n",
      "box_ct = 0\n",
      "dzp = -2.081242e-01\n",
      "zp = 1.981244e+01\n",
      "dt_dzp = -4.146919e+14\n",
      "dadia_dzp * dzp = -2.545302e-01\n",
      "dspec_dzp * dzp = 0.000000e+00\n",
      "dcomp_dzp * dzp = 1.308180e-02\n",
      "dxheat_dzp * dzp = 0.000000e+00\n",
      "input heating = 3.063238e-02\n",
      "dxion_source = 0.000000e+00\n",
      "dxion_sink = 2.361248e-06\n",
      "T = 1.272652e+01\n",
      "alpha_A(T) = 2.994996e-11\n",
      "global_params.CLUMPING_FACTOR = 1.000000e+00\n",
      "x_e = 7.300632e-04\n",
      "f_H = 9.249617e-01\n",
      "prefactor_1 = 1.852903e-03\n",
      "curr_delNL0 = -9.734071e-07\n",
      "growth_factor_zp = 6.123301e-02\n",
      "input ionization = 4.939220e-07\n",
      "\n",
      "N_b0 = 2.055340e-07\n",
      "f_H = 9.249617e-01\n",
      "\n",
      "after 12.515706 0.0007281958\n",
      "----- DM21CM -----\n",
      "z 20.020563160216437\n",
      "[1.76719086e-09 2.71738054e-11 1.53231536e-09 9.34906420e-10\n",
      " 2.72242553e-10 9.61340596e-06]\n",
      "0.00015234515\n",
      "5.6307954e-06\n",
      "0.00011178328\n",
      "9.317319e-05\n",
      "-----------------\n",
      "i_z=78/204 z=20.02 bath.toteng=1.734e+00 eV/Bavg\n",
      "dt 86093201572594.66 87051528098769.42\n",
      "before 12.515706 0.0007281958\n",
      "input_heating 0.030674396\n",
      "This is commented out: dspec_dzp = - dxe_dzp * T / (1+x_e); need to put it back in\n",
      "box_ct = 0\n",
      "dzp = -2.060642e-01\n",
      "zp = 1.960637e+01\n",
      "dt_dzp = -4.251355e+14\n",
      "dadia_dzp * dzp = -2.503147e-01\n",
      "dspec_dzp * dzp = 0.000000e+00\n",
      "dcomp_dzp * dzp = 1.262662e-02\n",
      "dxheat_dzp * dzp = 0.000000e+00\n",
      "input heating = 3.067439e-02\n",
      "dxion_source = 0.000000e+00\n",
      "dxion_sink = 2.337292e-06\n",
      "T = 1.251571e+01\n",
      "alpha_A(T) = 3.024644e-11\n",
      "global_params.CLUMPING_FACTOR = 1.000000e+00\n",
      "x_e = 7.281959e-04\n",
      "f_H = 9.249617e-01\n",
      "prefactor_1 = 1.798409e-03\n",
      "curr_delNL0 = -9.637607e-07\n",
      "growth_factor_zp = 6.184590e-02\n",
      "input ionization = 4.945343e-07\n",
      "\n",
      "N_b0 = 2.055340e-07\n",
      "f_H = 9.249617e-01\n",
      "\n",
      "after 12.308696 0.00072635326\n",
      "----- DM21CM -----\n",
      "z 19.81243877249152\n",
      "[1.75070654e-09 2.69174170e-11 1.51825105e-09 9.25696742e-10\n",
      " 2.69787979e-10 9.51628815e-06]\n",
      "0.00015012598\n",
      "5.5478863e-06\n",
      "0.000110097404\n",
      "9.1827525e-05\n",
      "-----------------\n",
      "i_z=79/204 z=19.81 bath.toteng=1.761e+00 eV/Bavg\n",
      "dt 87389839955288.1 88412681397426.34\n",
      "before 12.308696 0.00072635326\n",
      "input_heating 0.030715292\n",
      "This is commented out: dspec_dzp = - dxe_dzp * T / (1+x_e); need to put it back in\n",
      "box_ct = 0\n",
      "dzp = -2.040234e-01\n",
      "zp = 1.940235e+01\n",
      "dt_dzp = -4.358420e+14\n",
      "dadia_dzp * dzp = -2.461737e-01\n",
      "dspec_dzp * dzp = 0.000000e+00\n",
      "dcomp_dzp * dzp = 1.218724e-02\n",
      "dxheat_dzp * dzp = 0.000000e+00\n",
      "input heating = 3.071530e-02\n",
      "dxion_source = 0.000000e+00\n",
      "dxion_sink = 2.313644e-06\n",
      "T = 1.230869e+01\n",
      "alpha_A(T) = 3.054526e-11\n",
      "global_params.CLUMPING_FACTOR = 1.000000e+00\n",
      "x_e = 7.263531e-04\n",
      "f_H = 9.249617e-01\n",
      "prefactor_1 = 1.745518e-03\n",
      "curr_delNL0 = -9.542102e-07\n",
      "growth_factor_zp = 6.246490e-02\n",
      "input ionization = 4.951283e-07\n",
      "\n",
      "N_b0 = 2.055340e-07\n",
      "f_H = 9.249617e-01\n",
      "\n",
      "after 12.105423 0.00072453456\n",
      "----- DM21CM -----\n",
      "z 19.606375022268832\n",
      "[1.73438303e-09 2.66634400e-11 1.50432113e-09 9.16588330e-10\n",
      " 2.67355634e-10 9.42013457e-06]\n",
      "0.00014799323\n",
      "5.468048e-06\n",
      "0.00010847612\n",
      "9.0534304e-05\n",
      "-----------------\n",
      "i_z=80/204 z=19.61 bath.toteng=1.787e+00 eV/Bavg\n",
      "dt 88705972587438.17 89760357930750.02\n",
      "before 12.105423 0.00072453456\n",
      "input_heating 0.030755393\n",
      "This is commented out: dspec_dzp = - dxe_dzp * T / (1+x_e); need to put it back in\n",
      "box_ct = 0\n",
      "dzp = -2.020035e-01\n",
      "zp = 1.920035e+01\n",
      "dt_dzp = -4.468181e+14\n",
      "dadia_dzp * dzp = -2.421085e-01\n",
      "dspec_dzp * dzp = 0.000000e+00\n",
      "dcomp_dzp * dzp = 1.176322e-02\n",
      "dxheat_dzp * dzp = 0.000000e+00\n",
      "input heating = 3.075539e-02\n",
      "dxion_source = 0.000000e+00\n",
      "dxion_sink = 2.290320e-06\n",
      "T = 1.210542e+01\n",
      "alpha_A(T) = 3.084638e-11\n",
      "global_params.CLUMPING_FACTOR = 1.000000e+00\n",
      "x_e = 7.245346e-04\n",
      "f_H = 9.249617e-01\n",
      "prefactor_1 = 1.694183e-03\n",
      "curr_delNL0 = -9.447544e-07\n",
      "growth_factor_zp = 6.309010e-02\n",
      "input ionization = 4.957092e-07\n",
      "\n",
      "N_b0 = 2.055340e-07\n",
      "f_H = 9.249617e-01\n",
      "\n",
      "after 11.905834 0.0007227399\n",
      "----- DM21CM -----\n",
      "z 19.40235150719686\n",
      "[1.71821895e-09 2.64118451e-11 1.49052475e-09 9.07579992e-10\n",
      " 2.64945220e-10 9.32493126e-06]\n",
      "0.00014594333\n",
      "5.391165e-06\n",
      "0.000106916814\n",
      "8.9291425e-05\n",
      "-----------------\n",
      "i_z=81/204 z=19.40 bath.toteng=1.814e+00 eV/Bavg\n",
      "dt 90041891977645.78 91094691132060.6\n",
      "before 11.905834 0.0007227399\n",
      "input_heating 0.030794777\n",
      "This is commented out: dspec_dzp = - dxe_dzp * T / (1+x_e); need to put it back in\n",
      "box_ct = 0\n",
      "dzp = -2.000027e-01\n",
      "zp = 1.900035e+01\n",
      "dt_dzp = -4.580706e+14\n",
      "dadia_dzp * dzp = -2.381157e-01\n",
      "dspec_dzp * dzp = 0.000000e+00\n",
      "dcomp_dzp * dzp = 1.135393e-02\n",
      "dxheat_dzp * dzp = 0.000000e+00\n",
      "input heating = 3.079478e-02\n",
      "dxion_source = 0.000000e+00\n",
      "dxion_sink = 2.267295e-06\n",
      "T = 1.190583e+01\n",
      "alpha_A(T) = 3.114983e-11\n",
      "global_params.CLUMPING_FACTOR = 1.000000e+00\n",
      "x_e = 7.227400e-04\n",
      "f_H = 9.249617e-01\n",
      "prefactor_1 = 1.644358e-03\n",
      "curr_delNL0 = -9.353924e-07\n",
      "growth_factor_zp = 6.372153e-02\n",
      "input ionization = 4.962784e-07\n",
      "\n",
      "N_b0 = 2.055340e-07\n",
      "f_H = 9.249617e-01\n",
      "\n",
      "after 11.709868 0.0007209691\n",
      "----- DM21CM -----\n",
      "z 19.200348026927585\n",
      "[1.70221244e-09 2.61626190e-11 1.47686004e-09 8.98670535e-10\n",
      " 2.62556652e-10 9.23067125e-06]\n",
      "0.00014397195\n",
      "5.3170847e-06\n",
      "0.000105416286\n",
      "8.809621e-05\n",
      "-----------------\n",
      "i_z=82/204 z=19.20 bath.toteng=1.842e+00 eV/Bavg\n",
      "dt 91397895001733.72 92415813113556.19\n",
      "before 11.709868 0.0007209691\n",
      "input_heating 0.03083354\n",
      "This is commented out: dspec_dzp = - dxe_dzp * T / (1+x_e); need to put it back in\n",
      "box_ct = 0\n",
      "dzp = -1.980247e-01\n",
      "zp = 1.880232e+01\n",
      "dt_dzp = -4.696065e+14\n",
      "dadia_dzp * dzp = -2.341992e-01\n",
      "dspec_dzp * dzp = 0.000000e+00\n",
      "dcomp_dzp * dzp = 1.095908e-02\n",
      "dxheat_dzp * dzp = 0.000000e+00\n",
      "input heating = 3.083354e-02\n",
      "dxion_source = 0.000000e+00\n",
      "dxion_sink = 2.244606e-06\n",
      "T = 1.170987e+01\n",
      "alpha_A(T) = 3.145557e-11\n",
      "global_params.CLUMPING_FACTOR = 1.000000e+00\n",
      "x_e = 7.209690e-04\n",
      "f_H = 9.249617e-01\n",
      "prefactor_1 = 1.595997e-03\n",
      "curr_delNL0 = -9.261234e-07\n",
      "growth_factor_zp = 6.435929e-02\n",
      "input ionization = 4.968371e-07\n",
      "\n",
      "N_b0 = 2.055340e-07\n",
      "f_H = 9.249617e-01\n",
      "\n",
      "after 11.517458 0.00071922125\n",
      "----- DM21CM -----\n",
      "z 19.000344581116423\n",
      "[1.68636263e-09 2.59157403e-11 1.46332650e-09 8.89858852e-10\n",
      " 2.60189717e-10 9.13734478e-06]\n",
      "0.00014207489\n",
      "5.245659e-06\n",
      "0.00010397128\n",
      "8.694613e-05\n",
      "-----------------\n",
      "i_z=83/204 z=19.00 bath.toteng=1.869e+00 eV/Bavg\n",
      "dt 92774282966961.52 93723854679393.44\n",
      "before 11.517458 0.00071922125\n",
      "input_heating 0.030871682\n",
      "This is commented out: dspec_dzp = - dxe_dzp * T / (1+x_e); need to put it back in\n",
      "box_ct = 0\n",
      "dzp = -1.960621e-01\n",
      "zp = 1.860626e+01\n",
      "dt_dzp = -4.814327e+14\n",
      "dadia_dzp * dzp = -2.303486e-01\n",
      "dspec_dzp * dzp = 0.000000e+00\n",
      "dcomp_dzp * dzp = 1.057775e-02\n",
      "dxheat_dzp * dzp = 0.000000e+00\n",
      "input heating = 3.087168e-02\n",
      "dxion_source = 0.000000e+00\n",
      "dxion_sink = 2.222162e-06\n",
      "T = 1.151746e+01\n",
      "alpha_A(T) = 3.176361e-11\n",
      "global_params.CLUMPING_FACTOR = 1.000000e+00\n",
      "x_e = 7.192213e-04\n",
      "f_H = 9.249617e-01\n",
      "prefactor_1 = 1.549059e-03\n",
      "curr_delNL0 = -9.169463e-07\n",
      "growth_factor_zp = 6.500342e-02\n",
      "input ionization = 4.973857e-07\n",
      "\n",
      "N_b0 = 2.055340e-07\n",
      "f_H = 9.249617e-01\n",
      "\n",
      "after 11.328563 0.0007174965\n",
      "----- DM21CM -----\n",
      "z 18.802321367442\n",
      "[1.67066716e-09 2.56711878e-11 1.44992258e-09 8.81143580e-10\n",
      " 2.57844265e-10 9.04494206e-06]\n",
      "0.00014024814\n",
      "5.176742e-06\n",
      "0.0001025789\n",
      "8.583873e-05\n",
      "-----------------\n",
      "i_z=84/204 z=18.80 bath.toteng=1.898e+00 eV/Bavg\n",
      "dt 94171361677169.55 95018945338638.22\n",
      "before 11.328563 0.0007174965\n",
      "input_heating 0.030909238\n",
      "This is commented out: dspec_dzp = - dxe_dzp * T / (1+x_e); need to put it back in\n",
      "box_ct = 0\n",
      "dzp = -1.941204e-01\n",
      "zp = 1.841214e+01\n",
      "dt_dzp = -4.935567e+14\n",
      "dadia_dzp * dzp = -2.265701e-01\n",
      "dspec_dzp * dzp = 0.000000e+00\n",
      "dcomp_dzp * dzp = 1.020979e-02\n",
      "dxheat_dzp * dzp = 0.000000e+00\n",
      "input heating = 3.090924e-02\n",
      "dxion_source = 0.000000e+00\n",
      "dxion_sink = 2.200024e-06\n",
      "T = 1.132856e+01\n",
      "alpha_A(T) = 3.207392e-11\n",
      "global_params.CLUMPING_FACTOR = 1.000000e+00\n",
      "x_e = 7.174965e-04\n",
      "f_H = 9.249617e-01\n",
      "prefactor_1 = 1.503502e-03\n",
      "curr_delNL0 = -9.078605e-07\n",
      "growth_factor_zp = 6.565398e-02\n",
      "input ionization = 4.979245e-07\n",
      "\n",
      "N_b0 = 2.055340e-07\n",
      "f_H = 9.249617e-01\n",
      "\n",
      "after 11.143111 0.00071579433\n",
      "----- DM21CM -----\n",
      "z 18.606258779645547\n",
      "[1.65512549e-09 2.54289402e-11 1.43664727e-09 8.72523613e-10\n",
      " 2.55520149e-10 8.95345473e-06]\n",
      "0.00013848796\n",
      "5.1102043e-06\n",
      "0.000101236335\n",
      "8.477178e-05\n",
      "-----------------\n",
      "i_z=85/204 z=18.61 bath.toteng=1.926e+00 eV/Bavg\n",
      "dt 95589441498783.33 96301213318088.52\n",
      "before 11.143111 0.00071579433\n",
      "input_heating 0.030946227\n",
      "This is commented out: dspec_dzp = - dxe_dzp * T / (1+x_e); need to put it back in\n",
      "box_ct = 0\n",
      "dzp = -1.921997e-01\n",
      "zp = 1.821994e+01\n",
      "dt_dzp = -5.059860e+14\n",
      "dadia_dzp * dzp = -2.228626e-01\n",
      "dspec_dzp * dzp = 0.000000e+00\n",
      "dcomp_dzp * dzp = 9.854740e-03\n",
      "dxheat_dzp * dzp = 0.000000e+00\n",
      "input heating = 3.094623e-02\n",
      "dxion_source = 0.000000e+00\n",
      "dxion_sink = 2.178188e-06\n",
      "T = 1.114311e+01\n",
      "alpha_A(T) = 3.238651e-11\n",
      "global_params.CLUMPING_FACTOR = 1.000000e+00\n",
      "x_e = 7.157944e-04\n",
      "f_H = 9.249617e-01\n",
      "prefactor_1 = 1.459284e-03\n",
      "curr_delNL0 = -8.988646e-07\n",
      "growth_factor_zp = 6.631104e-02\n",
      "input ionization = 4.984540e-07\n",
      "\n",
      "N_b0 = 2.055340e-07\n",
      "f_H = 9.249617e-01\n",
      "\n",
      "after 10.961046 0.00071411475\n",
      "----- DM21CM -----\n",
      "z 18.41213740558965\n",
      "[1.63973543e-09 2.51889815e-11 1.42349920e-09 8.63998014e-10\n",
      " 2.53217176e-10 8.86287303e-06]\n",
      "0.0001367909\n",
      "5.04592e-06\n",
      "9.9940975e-05\n",
      "8.3743136e-05\n",
      "-----------------\n",
      "i_z=86/204 z=18.41 bath.toteng=1.955e+00 eV/Bavg\n",
      "dt 97028837427798.8 97570785574969.98\n",
      "before 10.961046 0.00071411475\n",
      "input_heating 0.030982666\n",
      "This is commented out: dspec_dzp = - dxe_dzp * T / (1+x_e); need to put it back in\n",
      "box_ct = 0\n",
      "dzp = -1.902962e-01\n",
      "zp = 1.802964e+01\n",
      "dt_dzp = -5.187282e+14\n",
      "dadia_dzp * dzp = -2.192207e-01\n",
      "dspec_dzp * dzp = 0.000000e+00\n",
      "dcomp_dzp * dzp = 9.511963e-03\n",
      "dxheat_dzp * dzp = 0.000000e+00\n",
      "input heating = 3.098266e-02\n",
      "dxion_source = 0.000000e+00\n",
      "dxion_sink = 2.156606e-06\n",
      "T = 1.096105e+01\n",
      "alpha_A(T) = 3.270135e-11\n",
      "global_params.CLUMPING_FACTOR = 1.000000e+00\n",
      "x_e = 7.141146e-04\n",
      "f_H = 9.249617e-01\n",
      "prefactor_1 = 1.416366e-03\n",
      "curr_delNL0 = -8.899580e-07\n",
      "growth_factor_zp = 6.697467e-02\n",
      "input ionization = 4.989740e-07\n",
      "\n",
      "N_b0 = 2.055340e-07\n",
      "f_H = 9.249617e-01\n",
      "\n",
      "after 10.78232 0.00071245705\n",
      "----- DM21CM -----\n",
      "z 18.219938025336287\n",
      "[1.62449578e-09 2.49512851e-11 1.41047718e-09 8.55565248e-10\n",
      " 2.50935154e-10 8.77318717e-06]\n",
      "0.00013515353\n",
      "4.9837654e-06\n",
      "9.869022e-05\n",
      "8.275078e-05\n",
      "-----------------\n",
      "i_z=87/204 z=18.22 bath.toteng=1.985e+00 eV/Bavg\n",
      "dt 98489869157652.2 99261877305470.0\n",
      "before 10.78232 0.00071245705\n",
      "input_heating 0.03103852\n",
      "This is commented out: dspec_dzp = - dxe_dzp * T / (1+x_e); need to put it back in\n",
      "box_ct = 0\n",
      "dzp = -1.884136e-01\n",
      "zp = 1.784123e+01\n",
      "dt_dzp = -5.317913e+14\n",
      "dadia_dzp * dzp = -2.156480e-01\n",
      "dspec_dzp * dzp = 0.000000e+00\n",
      "dcomp_dzp * dzp = 9.181227e-03\n",
      "dxheat_dzp * dzp = 0.000000e+00\n",
      "input heating = 3.103852e-02\n",
      "dxion_source = 0.000000e+00\n",
      "dxion_sink = 2.135318e-06\n",
      "T = 1.078232e+01\n",
      "alpha_A(T) = 3.301844e-11\n",
      "global_params.CLUMPING_FACTOR = 1.000000e+00\n",
      "x_e = 7.124570e-04\n",
      "f_H = 9.249617e-01\n",
      "prefactor_1 = 1.374711e-03\n",
      "curr_delNL0 = -8.811397e-07\n",
      "growth_factor_zp = 6.764494e-02\n",
      "input ionization = 4.998092e-07\n",
      "\n",
      "N_b0 = 2.055340e-07\n",
      "f_H = 9.249617e-01\n",
      "\n",
      "after 10.606894 0.0007108216\n",
      "----- DM21CM -----\n",
      "z 18.02964160924385\n",
      "[1.60923722e-09 2.47144617e-11 1.39742323e-09 8.47134442e-10\n",
      " 2.48646788e-10 8.68445160e-06]\n",
      "0.00013307427\n",
      "4.90617e-06\n",
      "9.712327e-05\n",
      "8.148764e-05\n",
      "-----------------\n",
      "i_z=88/204 z=18.03 bath.toteng=2.015e+00 eV/Bavg\n",
      "dt 99972861148037.84 100958588270578.55\n",
      "before 10.606894 0.0007108216\n",
      "input_heating 0.031090228\n",
      "This is commented out: dspec_dzp = - dxe_dzp * T / (1+x_e); need to put it back in\n",
      "box_ct = 0\n",
      "dzp = -1.865463e-01\n",
      "zp = 1.765468e+01\n",
      "dt_dzp = -5.451832e+14\n",
      "dadia_dzp * dzp = -2.121373e-01\n",
      "dspec_dzp * dzp = 0.000000e+00\n",
      "dcomp_dzp * dzp = 8.861848e-03\n",
      "dxheat_dzp * dzp = 0.000000e+00\n",
      "input heating = 3.109023e-02\n",
      "dxion_source = 0.000000e+00\n",
      "dxion_sink = 2.114254e-06\n",
      "T = 1.060689e+01\n",
      "alpha_A(T) = 3.333772e-11\n",
      "global_params.CLUMPING_FACTOR = 1.000000e+00\n",
      "x_e = 7.108215e-04\n",
      "f_H = 9.249617e-01\n",
      "prefactor_1 = 1.334281e-03\n",
      "curr_delNL0 = -8.724091e-07\n",
      "growth_factor_zp = 6.832190e-02\n",
      "input ionization = 5.005780e-07\n",
      "\n",
      "N_b0 = 2.055340e-07\n",
      "f_H = 9.249617e-01\n",
      "\n",
      "after 10.434709 0.0007092078\n",
      "----- DM21CM -----\n",
      "z 17.84122931608302\n",
      "[1.59411919e-09 2.44798048e-11 1.38448646e-09 8.38790763e-10\n",
      " 2.46377861e-10 8.59659652e-06]\n",
      "0.0001310401\n",
      "4.8301044e-06\n",
      "9.559026e-05\n",
      "8.0251615e-05\n",
      "-----------------\n",
      "i_z=89/204 z=17.84 bath.toteng=2.045e+00 eV/Bavg\n",
      "dt 101478142694720.67 102638500117220.67\n",
      "before 10.434709 0.0007092078\n",
      "input_heating 0.031139435\n",
      "This is commented out: dspec_dzp = - dxe_dzp * T / (1+x_e); need to put it back in\n",
      "box_ct = 0\n",
      "dzp = -1.847000e-01\n",
      "zp = 1.746998e+01\n",
      "dt_dzp = -5.589123e+14\n",
      "dadia_dzp * dzp = -2.086944e-01\n",
      "dspec_dzp * dzp = 0.000000e+00\n",
      "dcomp_dzp * dzp = 8.553705e-03\n",
      "dxheat_dzp * dzp = 0.000000e+00\n",
      "input heating = 3.113944e-02\n",
      "dxion_source = 0.000000e+00\n",
      "dxion_sink = 2.093476e-06\n",
      "T = 1.043471e+01\n",
      "alpha_A(T) = 3.365919e-11\n",
      "global_params.CLUMPING_FACTOR = 1.000000e+00\n",
      "x_e = 7.092078e-04\n",
      "f_H = 9.249617e-01\n",
      "prefactor_1 = 1.295040e-03\n",
      "curr_delNL0 = -8.637650e-07\n",
      "growth_factor_zp = 6.900562e-02\n",
      "input ionization = 5.013068e-07\n",
      "\n",
      "N_b0 = 2.055340e-07\n",
      "f_H = 9.249617e-01\n",
      "\n",
      "after 10.265707 0.0007076155\n",
      "----- DM21CM -----\n",
      "z 17.654682491171307\n",
      "[1.57914901e-09 2.42473730e-11 1.37167413e-09 8.30537960e-10\n",
      " 2.44129715e-10 8.50961219e-06]\n",
      "0.00012908413\n",
      "4.7567933e-06\n",
      "9.411517e-05\n",
      "7.9063066e-05\n",
      "-----------------\n",
      "i_z=90/204 z=17.65 bath.toteng=2.076e+00 eV/Bavg\n",
      "dt 103006048000230.2 104301779173301.98\n",
      "before 10.265707 0.0007076155\n",
      "input_heating 0.031187413\n",
      "This is commented out: dspec_dzp = - dxe_dzp * T / (1+x_e); need to put it back in\n",
      "box_ct = 0\n",
      "dzp = -1.828709e-01\n",
      "zp = 1.728711e+01\n",
      "dt_dzp = -5.729869e+14\n",
      "dadia_dzp * dzp = -2.053139e-01\n",
      "dspec_dzp * dzp = 0.000000e+00\n",
      "dcomp_dzp * dzp = 8.256239e-03\n",
      "dxheat_dzp * dzp = 0.000000e+00\n",
      "input heating = 3.118741e-02\n",
      "dxion_source = 0.000000e+00\n",
      "dxion_sink = 2.072938e-06\n",
      "T = 1.026571e+01\n",
      "alpha_A(T) = 3.398282e-11\n",
      "global_params.CLUMPING_FACTOR = 1.000000e+00\n",
      "x_e = 7.076156e-04\n",
      "f_H = 9.249617e-01\n",
      "prefactor_1 = 1.256953e-03\n",
      "curr_delNL0 = -8.552067e-07\n",
      "growth_factor_zp = 6.969618e-02\n",
      "input ionization = 5.020153e-07\n",
      "\n",
      "N_b0 = 2.055340e-07\n",
      "f_H = 9.249617e-01\n",
      "\n",
      "after 10.099837 0.00070604484\n",
      "----- DM21CM -----\n",
      "z 17.469982664526047\n",
      "[1.56432516e-09 2.40171315e-11 1.35898461e-09 8.22375011e-10\n",
      " 2.41902117e-10 8.42348882e-06]\n",
      "0.00012720651\n",
      "4.686276e-06\n",
      "9.269826e-05\n",
      "7.792216e-05\n",
      "-----------------\n",
      "i_z=91/204 z=17.47 bath.toteng=2.107e+00 eV/Bavg\n",
      "dt 104556916245622.02 105948590119917.14\n",
      "before 10.099837 0.00070604484\n",
      "input_heating 0.031234503\n",
      "This is commented out: dspec_dzp = - dxe_dzp * T / (1+x_e); need to put it back in\n",
      "box_ct = 0\n",
      "dzp = -1.810608e-01\n",
      "zp = 1.710605e+01\n",
      "dt_dzp = -5.874160e+14\n",
      "dadia_dzp * dzp = -2.019971e-01\n",
      "dspec_dzp * dzp = 0.000000e+00\n",
      "dcomp_dzp * dzp = 7.969170e-03\n",
      "dxheat_dzp * dzp = 0.000000e+00\n",
      "input heating = 3.123450e-02\n",
      "dxion_source = 0.000000e+00\n",
      "dxion_sink = 2.052657e-06\n",
      "T = 1.009984e+01\n",
      "alpha_A(T) = 3.430861e-11\n",
      "global_params.CLUMPING_FACTOR = 1.000000e+00\n",
      "x_e = 7.060447e-04\n",
      "f_H = 9.249617e-01\n",
      "prefactor_1 = 1.219986e-03\n",
      "curr_delNL0 = -8.467334e-07\n",
      "growth_factor_zp = 7.039364e-02\n",
      "input ionization = 5.027094e-07\n",
      "\n",
      "N_b0 = 2.055340e-07\n",
      "f_H = 9.249617e-01\n",
      "\n",
      "after 9.937043 0.0007044949\n",
      "----- DM21CM -----\n",
      "z 17.28711154903569\n",
      "[1.54964643e-09 2.37890726e-11 1.34641714e-09 8.14300552e-10\n",
      " 2.39694874e-10 8.33821805e-06]\n",
      "0.00012540375\n",
      "4.6184364e-06\n",
      "9.133699e-05\n",
      "7.6826786e-05\n",
      "-----------------\n",
      "i_z=92/204 z=17.29 bath.toteng=2.139e+00 eV/Bavg\n",
      "dt 106131091663147.61 107579096007654.9\n",
      "before 9.937043 0.0007044949\n",
      "input_heating 0.031280838\n",
      "This is commented out: dspec_dzp = - dxe_dzp * T / (1+x_e); need to put it back in\n",
      "box_ct = 0\n",
      "dzp = -1.792679e-01\n",
      "zp = 1.692678e+01\n",
      "dt_dzp = -6.022083e+14\n",
      "dadia_dzp * dzp = -1.987409e-01\n",
      "dspec_dzp * dzp = 0.000000e+00\n",
      "dcomp_dzp * dzp = 7.692059e-03\n",
      "dxheat_dzp * dzp = 0.000000e+00\n",
      "input heating = 3.128083e-02\n",
      "dxion_source = 0.000000e+00\n",
      "dxion_sink = 2.032609e-06\n",
      "T = 9.937043e+00\n",
      "alpha_A(T) = 3.463653e-11\n",
      "global_params.CLUMPING_FACTOR = 1.000000e+00\n",
      "x_e = 7.044948e-04\n",
      "f_H = 9.249617e-01\n",
      "prefactor_1 = 1.184107e-03\n",
      "curr_delNL0 = -8.383442e-07\n",
      "growth_factor_zp = 7.109806e-02\n",
      "input ionization = 5.033910e-07\n",
      "\n",
      "N_b0 = 2.055340e-07\n",
      "f_H = 9.249617e-01\n",
      "\n",
      "after 9.777275 0.00070296566\n",
      "----- DM21CM -----\n",
      "z 17.1060510386492\n",
      "[1.53511113e-09 2.35631721e-11 1.33397078e-09 8.06313902e-10\n",
      " 2.37507901e-10 8.25379220e-06]\n",
      "0.000123672\n",
      "4.5531438e-06\n",
      "9.002849e-05\n",
      "7.5774595e-05\n",
      "-----------------\n",
      "i_z=93/204 z=17.11 bath.toteng=2.171e+00 eV/Bavg\n",
      "dt 107728923609970.19 109193458272741.81\n",
      "before 9.777275 0.00070296566\n",
      "input_heating 0.031326495\n",
      "This is commented out: dspec_dzp = - dxe_dzp * T / (1+x_e); need to put it back in\n",
      "box_ct = 0\n",
      "dzp = -1.774921e-01\n",
      "zp = 1.674929e+01\n",
      "dt_dzp = -6.173729e+14\n",
      "dadia_dzp * dzp = -1.955447e-01\n",
      "dspec_dzp * dzp = 0.000000e+00\n",
      "dcomp_dzp * dzp = 7.424570e-03\n",
      "dxheat_dzp * dzp = 0.000000e+00\n",
      "input heating = 3.132649e-02\n",
      "dxion_source = 0.000000e+00\n",
      "dxion_sink = 2.012790e-06\n",
      "T = 9.777275e+00\n",
      "alpha_A(T) = 3.496657e-11\n",
      "global_params.CLUMPING_FACTOR = 1.000000e+00\n",
      "x_e = 7.029655e-04\n",
      "f_H = 9.249617e-01\n",
      "prefactor_1 = 1.149282e-03\n",
      "curr_delNL0 = -8.300382e-07\n",
      "growth_factor_zp = 7.180952e-02\n",
      "input ionization = 5.040613e-07\n",
      "\n",
      "N_b0 = 2.055340e-07\n",
      "f_H = 9.249617e-01\n",
      "\n",
      "after 9.620482 0.0007014569\n",
      "----- DM21CM -----\n",
      "z 16.926783206583366\n",
      "[1.52071788e-09 2.33394142e-11 1.32164391e-09 7.98413700e-10\n",
      " 2.35341028e-10 8.17020220e-06]\n",
      "0.00012200738\n",
      "4.4902554e-06\n",
      "8.8769855e-05\n",
      "7.476329e-05\n",
      "-----------------\n",
      "i_z=94/204 z=16.93 bath.toteng=2.204e+00 eV/Bavg\n",
      "dt 109350766642834.11 110791836753025.88\n",
      "before 9.620482 0.0007014569\n",
      "input_heating 0.03137151\n",
      "This is commented out: dspec_dzp = - dxe_dzp * T / (1+x_e); need to put it back in\n",
      "box_ct = 0\n",
      "dzp = -1.757355e-01\n",
      "zp = 1.657355e+01\n",
      "dt_dzp = -6.329194e+14\n",
      "dadia_dzp * dzp = -1.924096e-01\n",
      "dspec_dzp * dzp = 0.000000e+00\n",
      "dcomp_dzp * dzp = 7.166449e-03\n",
      "dxheat_dzp * dzp = 0.000000e+00\n",
      "input heating = 3.137152e-02\n",
      "dxion_source = 0.000000e+00\n",
      "dxion_sink = 1.993218e-06\n",
      "T = 9.620481e+00\n",
      "alpha_A(T) = 3.529871e-11\n",
      "global_params.CLUMPING_FACTOR = 1.000000e+00\n",
      "x_e = 7.014568e-04\n",
      "f_H = 9.249617e-01\n",
      "prefactor_1 = 1.115482e-03\n",
      "curr_delNL0 = -8.218146e-07\n",
      "growth_factor_zp = 7.252810e-02\n",
      "input ionization = 5.047214e-07\n",
      "\n",
      "N_b0 = 2.055340e-07\n",
      "f_H = 9.249617e-01\n",
      "\n",
      "after 9.466612 0.0006999682\n",
      "----- DM21CM -----\n",
      "z 16.749290303547888\n",
      "[1.50646585e-09 2.31177802e-11 1.30943594e-09 7.90599092e-10\n",
      " 2.33194085e-10 8.08744038e-06]\n",
      "0.00012040627\n",
      "4.429645e-06\n",
      "8.755838e-05\n",
      "7.3790594e-05\n",
      "-----------------\n",
      "i_z=95/204 z=16.75 bath.toteng=2.237e+00 eV/Bavg\n",
      "dt 110996980593805.64 112374389703802.2\n",
      "before 9.466612 0.0006999682\n",
      "input_heating 0.031415936\n",
      "This is commented out: dspec_dzp = - dxe_dzp * T / (1+x_e); need to put it back in\n",
      "box_ct = 0\n",
      "dzp = -1.739960e-01\n",
      "zp = 1.639956e+01\n",
      "dt_dzp = -6.488572e+14\n",
      "dadia_dzp * dzp = -1.893326e-01\n",
      "dspec_dzp * dzp = 0.000000e+00\n",
      "dcomp_dzp * dzp = 6.917299e-03\n",
      "dxheat_dzp * dzp = 0.000000e+00\n",
      "input heating = 3.141594e-02\n",
      "dxion_source = 0.000000e+00\n",
      "dxion_sink = 1.973871e-06\n",
      "T = 9.466610e+00\n",
      "alpha_A(T) = 3.563292e-11\n",
      "global_params.CLUMPING_FACTOR = 1.000000e+00\n",
      "x_e = 6.999683e-04\n",
      "f_H = 9.249617e-01\n",
      "prefactor_1 = 1.082676e-03\n",
      "curr_delNL0 = -8.136726e-07\n",
      "growth_factor_zp = 7.325385e-02\n",
      "input ionization = 5.053712e-07\n",
      "\n",
      "N_b0 = 2.055340e-07\n",
      "f_H = 9.249617e-01\n",
      "\n",
      "after 9.315612 0.0006984997\n",
      "----- DM21CM -----\n",
      "z 16.573554755988006\n",
      "[1.49235316e-09 2.28982488e-11 1.29734533e-09 7.82868972e-10\n",
      " 2.31066816e-10 8.00549696e-06]\n",
      "0.000118865144\n",
      "4.371187e-06\n",
      "8.63915e-05\n",
      "7.2854404e-05\n",
      "-----------------\n",
      "i_z=96/204 z=16.57 bath.toteng=2.271e+00 eV/Bavg\n",
      "dt 112667930646995.73 113941273813481.72\n",
      "before 9.315612 0.0006984997\n",
      "input_heating 0.031459782\n",
      "This is commented out: dspec_dzp = - dxe_dzp * T / (1+x_e); need to put it back in\n",
      "box_ct = 0\n",
      "dzp = -1.722736e-01\n",
      "zp = 1.622729e+01\n",
      "dt_dzp = -6.651963e+14\n",
      "dadia_dzp * dzp = -1.863131e-01\n",
      "dspec_dzp * dzp = 0.000000e+00\n",
      "dcomp_dzp * dzp = 6.676815e-03\n",
      "dxheat_dzp * dzp = 0.000000e+00\n",
      "input heating = 3.145978e-02\n",
      "dxion_source = 0.000000e+00\n",
      "dxion_sink = 1.954744e-06\n",
      "T = 9.315611e+00\n",
      "alpha_A(T) = 3.596918e-11\n",
      "global_params.CLUMPING_FACTOR = 1.000000e+00\n",
      "x_e = 6.984998e-04\n",
      "f_H = 9.249617e-01\n",
      "prefactor_1 = 1.050834e-03\n",
      "curr_delNL0 = -8.056113e-07\n",
      "growth_factor_zp = 7.398686e-02\n",
      "input ionization = 5.060117e-07\n",
      "\n",
      "N_b0 = 2.055340e-07\n",
      "f_H = 9.249617e-01\n",
      "\n",
      "after 9.167435 0.0006970511\n",
      "----- DM21CM -----\n",
      "z 16.39955916434456\n",
      "[1.47837827e-09 2.26807987e-11 1.28537107e-09 7.75222488e-10\n",
      " 2.28959136e-10 7.92436568e-06]\n",
      "0.0001173809\n",
      "4.314767e-06\n",
      "8.5266845e-05\n",
      "7.1952825e-05\n",
      "-----------------\n",
      "i_z=97/204 z=16.40 bath.toteng=2.305e+00 eV/Bavg\n",
      "dt 114363987416349.39 115492644219105.0\n",
      "before 9.167435 0.0006970511\n",
      "input_heating 0.031503074\n",
      "This is commented out: dspec_dzp = - dxe_dzp * T / (1+x_e); need to put it back in\n",
      "box_ct = 0\n",
      "dzp = -1.705666e-01\n",
      "zp = 1.605672e+01\n",
      "dt_dzp = -6.819466e+14\n",
      "dadia_dzp * dzp = -1.833480e-01\n",
      "dspec_dzp * dzp = 0.000000e+00\n",
      "dcomp_dzp * dzp = 6.444631e-03\n",
      "dxheat_dzp * dzp = 0.000000e+00\n",
      "input heating = 3.150307e-02\n",
      "dxion_source = 0.000000e+00\n",
      "dxion_sink = 1.935813e-06\n",
      "T = 9.167435e+00\n",
      "alpha_A(T) = 3.630748e-11\n",
      "global_params.CLUMPING_FACTOR = 1.000000e+00\n",
      "x_e = 6.970511e-04\n",
      "f_H = 9.249617e-01\n",
      "prefactor_1 = 1.019930e-03\n",
      "curr_delNL0 = -7.976301e-07\n",
      "growth_factor_zp = 7.472718e-02\n",
      "input ionization = 5.066429e-07\n",
      "\n",
      "N_b0 = 2.055340e-07\n",
      "f_H = 9.249617e-01\n",
      "\n",
      "after 9.022035 0.0006956219\n",
      "----- DM21CM -----\n",
      "z 16.227286301331247\n",
      "[1.46454033e-09 2.24654140e-11 1.27351220e-09 7.67658618e-10\n",
      " 2.26870874e-10 7.84403606e-06]\n",
      "0.00011595044\n",
      "4.2602737e-06\n",
      "8.418215e-05\n",
      "7.108398e-05\n",
      "-----------------\n",
      "i_z=98/204 z=16.23 bath.toteng=2.340e+00 eV/Bavg\n",
      "dt 116085527024445.12 117028654521702.3\n",
      "before 9.022035 0.0006956219\n",
      "input_heating 0.03154581\n",
      "This is commented out: dspec_dzp = - dxe_dzp * T / (1+x_e); need to put it back in\n",
      "box_ct = 0\n",
      "dzp = -1.688786e-01\n",
      "zp = 1.588784e+01\n",
      "dt_dzp = -6.991186e+14\n",
      "dadia_dzp * dzp = -1.804409e-01\n",
      "dspec_dzp * dzp = 0.000000e+00\n",
      "dcomp_dzp * dzp = 6.220604e-03\n",
      "dxheat_dzp * dzp = 0.000000e+00\n",
      "input heating = 3.154581e-02\n",
      "dxion_source = 0.000000e+00\n",
      "dxion_sink = 1.917120e-06\n",
      "T = 9.022035e+00\n",
      "alpha_A(T) = 3.664777e-11\n",
      "global_params.CLUMPING_FACTOR = 1.000000e+00\n",
      "x_e = 6.956219e-04\n",
      "f_H = 9.249617e-01\n",
      "prefactor_1 = 9.899337e-04\n",
      "curr_delNL0 = -7.897280e-07\n",
      "growth_factor_zp = 7.547490e-02\n",
      "input ionization = 5.072650e-07\n",
      "\n",
      "N_b0 = 2.055340e-07\n",
      "f_H = 9.249617e-01\n",
      "\n",
      "after 8.879362 0.0006942119\n",
      "----- DM21CM -----\n",
      "z 16.056719110228958\n",
      "[1.45083815e-09 2.22520799e-11 1.26176780e-09 7.60176340e-10\n",
      " 2.24801903e-10 7.76450461e-06]\n",
      "0.00011457099\n",
      "4.2076085e-06\n",
      "8.3135346e-05\n",
      "7.024616e-05\n",
      "-----------------\n",
      "i_z=99/204 z=16.06 bath.toteng=2.376e+00 eV/Bavg\n",
      "dt 117832931182392.77 118549456801501.61\n",
      "before 8.879362 0.0006942119\n",
      "input_heating 0.031588014\n",
      "This is commented out: dspec_dzp = - dxe_dzp * T / (1+x_e); need to put it back in\n",
      "box_ct = 0\n",
      "dzp = -1.672058e-01\n",
      "zp = 1.572063e+01\n",
      "dt_dzp = -7.167228e+14\n",
      "dadia_dzp * dzp = -1.775866e-01\n",
      "dspec_dzp * dzp = 0.000000e+00\n",
      "dcomp_dzp * dzp = 6.004317e-03\n",
      "dxheat_dzp * dzp = 0.000000e+00\n",
      "input heating = 3.158801e-02\n",
      "dxion_source = 0.000000e+00\n",
      "dxion_sink = 1.898618e-06\n",
      "T = 8.879360e+00\n",
      "alpha_A(T) = 3.699005e-11\n",
      "global_params.CLUMPING_FACTOR = 1.000000e+00\n",
      "x_e = 6.942120e-04\n",
      "f_H = 9.249617e-01\n",
      "prefactor_1 = 9.608200e-04\n",
      "curr_delNL0 = -7.819044e-07\n",
      "growth_factor_zp = 7.623009e-02\n",
      "input ionization = 5.078780e-07\n",
      "\n",
      "N_b0 = 2.055340e-07\n",
      "f_H = 9.249617e-01\n",
      "\n",
      "after 8.739366 0.00069282117\n",
      "----- DM21CM -----\n",
      "z 15.88784070319699\n",
      "[1.43726986e-09 2.20407714e-11 1.25013660e-09 7.52774632e-10\n",
      " 2.22752052e-10 7.68575878e-06]\n",
      "0.00011323996\n",
      "4.1566777e-06\n",
      "8.212448e-05\n",
      "6.9437825e-05\n",
      "-----------------\n",
      "i_z=100/204 z=15.89 bath.toteng=2.411e+00 eV/Bavg\n",
      "dt 119606587270758.66 120519823070098.9\n",
      "before 8.739366 0.00069282117\n",
      "input_heating 0.031631477\n",
      "This is commented out: dspec_dzp = - dxe_dzp * T / (1+x_e); need to put it back in\n",
      "box_ct = 0\n",
      "dzp = -1.655512e-01\n",
      "zp = 1.555508e+01\n",
      "dt_dzp = -7.347701e+14\n",
      "dadia_dzp * dzp = -1.747877e-01\n",
      "dspec_dzp * dzp = 0.000000e+00\n",
      "dcomp_dzp * dzp = 5.795607e-03\n",
      "dxheat_dzp * dzp = 0.000000e+00\n",
      "input heating = 3.163148e-02\n",
      "dxion_source = 0.000000e+00\n",
      "dxion_sink = 1.880337e-06\n",
      "T = 8.739366e+00\n",
      "alpha_A(T) = 3.733428e-11\n",
      "global_params.CLUMPING_FACTOR = 1.000000e+00\n",
      "x_e = 6.928213e-04\n",
      "f_H = 9.249617e-01\n",
      "prefactor_1 = 9.325625e-04\n",
      "curr_delNL0 = -7.741584e-07\n",
      "growth_factor_zp = 7.699283e-02\n",
      "input ionization = 5.085157e-07\n",
      "\n",
      "N_b0 = 2.055340e-07\n",
      "f_H = 9.249617e-01\n",
      "\n",
      "after 8.602005 0.0006914493\n",
      "----- DM21CM -----\n",
      "z 15.720634359600979\n",
      "[1.42371161e-09 2.18304435e-11 1.23850164e-09 7.45386807e-10\n",
      " 2.20701478e-10 7.60784462e-06]\n",
      "0.00011153004\n",
      "4.0922278e-06\n",
      "8.0842074e-05\n",
      "6.8396555e-05\n",
      "-----------------\n",
      "i_z=101/204 z=15.72 bath.toteng=2.448e+00 eV/Bavg\n",
      "dt 121406888421591.88 122643884982135.2\n",
      "before 8.602005 0.0006914493\n",
      "input_heating 0.03168433\n",
      "This is commented out: dspec_dzp = - dxe_dzp * T / (1+x_e); need to put it back in\n",
      "box_ct = 0\n",
      "dzp = -1.639118e-01\n",
      "zp = 1.539117e+01\n",
      "dt_dzp = -7.532720e+14\n",
      "dadia_dzp * dzp = -1.720402e-01\n",
      "dspec_dzp * dzp = 0.000000e+00\n",
      "dcomp_dzp * dzp = 5.594119e-03\n",
      "dxheat_dzp * dzp = 0.000000e+00\n",
      "input heating = 3.168433e-02\n",
      "dxion_source = 0.000000e+00\n",
      "dxion_sink = 1.862243e-06\n",
      "T = 8.602005e+00\n",
      "alpha_A(T) = 3.768044e-11\n",
      "global_params.CLUMPING_FACTOR = 1.000000e+00\n",
      "x_e = 6.914494e-04\n",
      "f_H = 9.249617e-01\n",
      "prefactor_1 = 9.051357e-04\n",
      "curr_delNL0 = -7.664892e-07\n",
      "growth_factor_zp = 7.776319e-02\n",
      "input ionization = 5.093042e-07\n",
      "\n",
      "N_b0 = 2.055340e-07\n",
      "f_H = 9.249617e-01\n",
      "\n",
      "after 8.467241 0.00069009664\n",
      "----- DM21CM -----\n",
      "z 15.555083524357403\n",
      "[1.41023999e-09 2.16217273e-11 1.22693568e-09 7.38053915e-10\n",
      " 2.18662572e-10 7.53071886e-06]\n",
      "0.00010976985\n",
      "4.026164e-06\n",
      "7.952607e-05\n",
      "6.7324305e-05\n",
      "-----------------\n",
      "i_z=102/204 z=15.56 bath.toteng=2.485e+00 eV/Bavg\n",
      "dt 123234233601536.58 124746916578210.72\n",
      "before 8.467241 0.00069009664\n",
      "input_heating 0.031739168\n",
      "This is commented out: dspec_dzp = - dxe_dzp * T / (1+x_e); need to put it back in\n",
      "box_ct = 0\n",
      "dzp = -1.622887e-01\n",
      "zp = 1.522888e+01\n",
      "dt_dzp = -7.722393e+14\n",
      "dadia_dzp * dzp = -1.693447e-01\n",
      "dspec_dzp * dzp = 0.000000e+00\n",
      "dcomp_dzp * dzp = 5.399636e-03\n",
      "dxheat_dzp * dzp = 0.000000e+00\n",
      "input heating = 3.173916e-02\n",
      "dxion_source = 0.000000e+00\n",
      "dxion_sink = 1.844344e-06\n",
      "T = 8.467243e+00\n",
      "alpha_A(T) = 3.802847e-11\n",
      "global_params.CLUMPING_FACTOR = 1.000000e+00\n",
      "x_e = 6.900965e-04\n",
      "f_H = 9.249617e-01\n",
      "prefactor_1 = 8.785158e-04\n",
      "curr_delNL0 = -7.588962e-07\n",
      "growth_factor_zp = 7.854124e-02\n",
      "input ionization = 5.101238e-07\n",
      "\n",
      "N_b0 = 2.055340e-07\n",
      "f_H = 9.249617e-01\n",
      "\n",
      "after 8.335037 0.00068876235\n",
      "----- DM21CM -----\n",
      "z 15.391171806294459\n",
      "[1.39690071e-09 2.14150045e-11 1.21548162e-09 7.30799891e-10\n",
      " 2.16642573e-10 7.45435778e-06]\n",
      "0.000108094406\n",
      "3.963188e-06\n",
      "7.827271e-05\n",
      "6.6303845e-05\n",
      "-----------------\n",
      "i_z=103/204 z=15.39 bath.toteng=2.522e+00 eV/Bavg\n",
      "dt 125089027696016.44 126829126079275.6\n",
      "before 8.335037 0.00068876235\n",
      "input_heating 0.03179315\n",
      "This is commented out: dspec_dzp = - dxe_dzp * T / (1+x_e); need to put it back in\n",
      "box_ct = 0\n",
      "dzp = -1.606817e-01\n",
      "zp = 1.506820e+01\n",
      "dt_dzp = -7.916839e+14\n",
      "dadia_dzp * dzp = -1.667005e-01\n",
      "dspec_dzp * dzp = 0.000000e+00\n",
      "dcomp_dzp * dzp = 5.211921e-03\n",
      "dxheat_dzp * dzp = 0.000000e+00\n",
      "input heating = 3.179315e-02\n",
      "dxion_source = 0.000000e+00\n",
      "dxion_sink = 1.826637e-06\n",
      "T = 8.335037e+00\n",
      "alpha_A(T) = 3.837833e-11\n",
      "global_params.CLUMPING_FACTOR = 1.000000e+00\n",
      "x_e = 6.887623e-04\n",
      "f_H = 9.249617e-01\n",
      "prefactor_1 = 8.526790e-04\n",
      "curr_delNL0 = -7.513785e-07\n",
      "growth_factor_zp = 7.932706e-02\n",
      "input ionization = 5.109297e-07\n",
      "\n",
      "N_b0 = 2.055340e-07\n",
      "f_H = 9.249617e-01\n",
      "\n",
      "after 8.205343 0.0006874465\n",
      "----- DM21CM -----\n",
      "z 15.228882976529167\n",
      "[1.38369167e-09 2.12102446e-11 1.20413795e-09 7.23623796e-10\n",
      " 2.14641248e-10 7.37875302e-06]\n",
      "0.00010648932\n",
      "3.902735e-06\n",
      "7.707119e-05\n",
      "6.532626e-05\n",
      "-----------------\n",
      "i_z=104/204 z=15.23 bath.toteng=2.560e+00 eV/Bavg\n",
      "dt 126971681594540.22 128890719644686.34\n",
      "before 8.205343 0.0006874465\n",
      "input_heating 0.03184617\n",
      "This is commented out: dspec_dzp = - dxe_dzp * T / (1+x_e); need to put it back in\n",
      "box_ct = 0\n",
      "dzp = -1.590910e-01\n",
      "zp = 1.490911e+01\n",
      "dt_dzp = -8.116181e+14\n",
      "dadia_dzp * dzp = -1.641067e-01\n",
      "dspec_dzp * dzp = 0.000000e+00\n",
      "dcomp_dzp * dzp = 5.030743e-03\n",
      "dxheat_dzp * dzp = 0.000000e+00\n",
      "input heating = 3.184617e-02\n",
      "dxion_source = 0.000000e+00\n",
      "dxion_sink = 1.809121e-06\n",
      "T = 8.205342e+00\n",
      "alpha_A(T) = 3.872999e-11\n",
      "global_params.CLUMPING_FACTOR = 1.000000e+00\n",
      "x_e = 6.874466e-04\n",
      "f_H = 9.249617e-01\n",
      "prefactor_1 = 8.276018e-04\n",
      "curr_delNL0 = -7.439354e-07\n",
      "growth_factor_zp = 8.012073e-02\n",
      "input ionization = 5.117197e-07\n",
      "\n",
      "N_b0 = 2.055340e-07\n",
      "f_H = 9.249617e-01\n",
      "\n",
      "after 8.078112 0.0006861492\n",
      "----- DM21CM -----\n",
      "z 15.068200966860562\n",
      "[1.37061224e-09 2.10074370e-11 1.19290380e-09 7.16524779e-10\n",
      " 2.12658468e-10 7.30389621e-06]\n",
      "0.00010494966\n",
      "3.8446274e-06\n",
      "7.59179e-05\n",
      "6.438856e-05\n",
      "-----------------\n",
      "i_z=105/204 z=15.07 bath.toteng=2.599e+00 eV/Bavg\n",
      "dt 128882612277126.78 130931901392617.8\n",
      "before 8.078112 0.0006861492\n",
      "input_heating 0.03189832\n",
      "This is commented out: dspec_dzp = - dxe_dzp * T / (1+x_e); need to put it back in\n",
      "box_ct = 0\n",
      "dzp = -1.575165e-01\n",
      "zp = 1.475159e+01\n",
      "dt_dzp = -8.320541e+14\n",
      "dadia_dzp * dzp = -1.615628e-01\n",
      "dspec_dzp * dzp = 0.000000e+00\n",
      "dcomp_dzp * dzp = 4.855878e-03\n",
      "dxheat_dzp * dzp = 0.000000e+00\n",
      "input heating = 3.189832e-02\n",
      "dxion_source = 0.000000e+00\n",
      "dxion_sink = 1.791794e-06\n",
      "T = 8.078113e+00\n",
      "alpha_A(T) = 3.908341e-11\n",
      "global_params.CLUMPING_FACTOR = 1.000000e+00\n",
      "x_e = 6.861492e-04\n",
      "f_H = 9.249617e-01\n",
      "prefactor_1 = 8.032621e-04\n",
      "curr_delNL0 = -7.365661e-07\n",
      "growth_factor_zp = 8.092233e-02\n",
      "input ionization = 5.124954e-07\n",
      "\n",
      "N_b0 = 2.055340e-07\n",
      "f_H = 9.249617e-01\n",
      "\n",
      "after 7.9533024 0.00068486977\n",
      "----- DM21CM -----\n",
      "z 14.909109868178774\n",
      "[1.35766091e-09 2.08065616e-11 1.18177807e-09 7.09501861e-10\n",
      " 2.10694063e-10 7.22978035e-06]\n",
      "0.00010347185\n",
      "3.788742e-06\n",
      "7.481021e-05\n",
      "6.348857e-05\n",
      "-----------------\n",
      "i_z=106/204 z=14.91 bath.toteng=2.638e+00 eV/Bavg\n",
      "dt 130822242901849.5 132952873420272.7\n",
      "before 7.9533024 0.00068486977\n",
      "input_heating 0.031949673\n",
      "This is commented out: dspec_dzp = - dxe_dzp * T / (1+x_e); need to put it back in\n",
      "box_ct = 0\n",
      "dzp = -1.559563e-01\n",
      "zp = 1.459564e+01\n",
      "dt_dzp = -8.530043e+14\n",
      "dadia_dzp * dzp = -1.590660e-01\n",
      "dspec_dzp * dzp = 0.000000e+00\n",
      "dcomp_dzp * dzp = 4.687055e-03\n",
      "dxheat_dzp * dzp = 0.000000e+00\n",
      "input heating = 3.194968e-02\n",
      "dxion_source = 0.000000e+00\n",
      "dxion_sink = 1.774632e-06\n",
      "T = 7.953304e+00\n",
      "alpha_A(T) = 3.943858e-11\n",
      "global_params.CLUMPING_FACTOR = 1.000000e+00\n",
      "x_e = 6.848699e-04\n",
      "f_H = 9.249617e-01\n",
      "prefactor_1 = 7.796383e-04\n",
      "curr_delNL0 = -7.292700e-07\n",
      "growth_factor_zp = 8.173193e-02\n",
      "input ionization = 5.132581e-07\n",
      "\n",
      "N_b0 = 2.055340e-07\n",
      "f_H = 9.249617e-01\n",
      "\n",
      "after 7.8308735 0.0006836085\n",
      "----- DM21CM -----\n",
      "z 14.751593928889875\n",
      "[1.34483666e-09 2.06076039e-11 1.17075991e-09 7.02554360e-10\n",
      " 2.08747949e-10 7.15639918e-06]\n",
      "0.00010205243\n",
      "3.7349544e-06\n",
      "7.374552e-05\n",
      "6.262416e-05\n",
      "-----------------\n",
      "i_z=107/204 z=14.75 bath.toteng=2.678e+00 eV/Bavg\n",
      "dt 132791002893489.47 134953835823891.4\n",
      "before 7.8308735 0.0006836085\n",
      "input_heating 0.032000296\n",
      "This is commented out: dspec_dzp = - dxe_dzp * T / (1+x_e); need to put it back in\n",
      "box_ct = 0\n",
      "dzp = -1.544123e-01\n",
      "zp = 1.444123e+01\n",
      "dt_dzp = -8.744819e+14\n",
      "dadia_dzp * dzp = -1.566175e-01\n",
      "dspec_dzp * dzp = 0.000000e+00\n",
      "dcomp_dzp * dzp = 4.524124e-03\n",
      "dxheat_dzp * dzp = 0.000000e+00\n",
      "input heating = 3.200029e-02\n",
      "dxion_source = 0.000000e+00\n",
      "dxion_sink = 1.757656e-06\n",
      "T = 7.830874e+00\n",
      "alpha_A(T) = 3.979545e-11\n",
      "global_params.CLUMPING_FACTOR = 1.000000e+00\n",
      "x_e = 6.836085e-04\n",
      "f_H = 9.249617e-01\n",
      "prefactor_1 = 7.567092e-04\n",
      "curr_delNL0 = -7.220463e-07\n",
      "growth_factor_zp = 8.254962e-02\n",
      "input ionization = 5.140087e-07\n",
      "\n",
      "N_b0 = 2.055340e-07\n",
      "f_H = 9.249617e-01\n",
      "\n",
      "after 7.710783 0.00068236486\n",
      "----- DM21CM -----\n",
      "z 14.595637553356312\n",
      "[1.33213786e-09 2.04105438e-11 1.15984830e-09 6.95681169e-10\n",
      " 2.06819890e-10 7.08374362e-06]\n",
      "0.00010068813\n",
      "3.6831486e-06\n",
      "7.272149e-05\n",
      "6.179338e-05\n",
      "-----------------\n",
      "i_z=108/204 z=14.60 bath.toteng=2.718e+00 eV/Bavg\n",
      "dt 134789328033367.8 136934986718563.4\n",
      "before 7.710783 0.00068236486\n",
      "input_heating 0.0320502\n",
      "This is commented out: dspec_dzp = - dxe_dzp * T / (1+x_e); need to put it back in\n",
      "box_ct = 0\n",
      "dzp = -1.528835e-01\n",
      "zp = 1.428834e+01\n",
      "dt_dzp = -8.965000e+14\n",
      "dadia_dzp * dzp = -1.542157e-01\n",
      "dspec_dzp * dzp = 0.000000e+00\n",
      "dcomp_dzp * dzp = 4.366856e-03\n",
      "dxheat_dzp * dzp = 0.000000e+00\n",
      "input heating = 3.205020e-02\n",
      "dxion_source = 0.000000e+00\n",
      "dxion_sink = 1.740851e-06\n",
      "T = 7.710782e+00\n",
      "alpha_A(T) = 4.015399e-11\n",
      "global_params.CLUMPING_FACTOR = 1.000000e+00\n",
      "x_e = 6.823649e-04\n",
      "f_H = 9.249617e-01\n",
      "prefactor_1 = 7.344545e-04\n",
      "curr_delNL0 = -7.148942e-07\n",
      "growth_factor_zp = 8.337548e-02\n",
      "input ionization = 5.147476e-07\n",
      "\n",
      "N_b0 = 2.055340e-07\n",
      "f_H = 9.249617e-01\n",
      "\n",
      "after 7.5929813 0.00068113866\n",
      "----- DM21CM -----\n",
      "z 14.441225300352784\n",
      "[1.31956357e-09 2.02153655e-11 1.14904204e-09 6.88881521e-10\n",
      " 2.04909759e-10 7.01180879e-06]\n",
      "9.937587e-05\n",
      "3.6332142e-06\n",
      "7.173586e-05\n",
      "6.0994345e-05\n",
      "-----------------\n",
      "i_z=109/204 z=14.44 bath.toteng=2.759e+00 eV/Bavg\n",
      "dt 136817660550298.98 138896522257842.61\n",
      "before 7.5929813 0.00068113866\n",
      "input_heating 0.032099433\n",
      "This is commented out: dspec_dzp = - dxe_dzp * T / (1+x_e); need to put it back in\n",
      "box_ct = 0\n",
      "dzp = -1.513691e-01\n",
      "zp = 1.413697e+01\n",
      "dt_dzp = -9.190721e+14\n",
      "dadia_dzp * dzp = -1.518590e-01\n",
      "dspec_dzp * dzp = 0.000000e+00\n",
      "dcomp_dzp * dzp = 4.215033e-03\n",
      "dxheat_dzp * dzp = 0.000000e+00\n",
      "input heating = 3.209944e-02\n",
      "dxion_source = 0.000000e+00\n",
      "dxion_sink = 1.724207e-06\n",
      "T = 7.592983e+00\n",
      "alpha_A(T) = 4.051417e-11\n",
      "global_params.CLUMPING_FACTOR = 1.000000e+00\n",
      "x_e = 6.811388e-04\n",
      "f_H = 9.249617e-01\n",
      "prefactor_1 = 7.128544e-04\n",
      "curr_delNL0 = -7.078131e-07\n",
      "growth_factor_zp = 8.420958e-02\n",
      "input ionization = 5.154754e-07\n",
      "\n",
      "N_b0 = 2.055340e-07\n",
      "f_H = 9.249617e-01\n",
      "\n",
      "after 7.4774394 0.00067993003\n",
      "----- DM21CM -----\n",
      "z 14.28834188153741\n",
      "[1.30711270e-09 2.00220502e-11 1.13834028e-09 6.82154651e-10\n",
      " 2.03017429e-10 6.94058562e-06]\n",
      "9.8112876e-05\n",
      "3.5850487e-06\n",
      "7.078652e-05\n",
      "6.022534e-05\n",
      "-----------------\n",
      "i_z=110/204 z=14.29 bath.toteng=2.801e+00 eV/Bavg\n",
      "dt 138876449212716.23 140838636653168.53\n",
      "before 7.4774394 0.00067993003\n",
      "input_heating 0.032148007\n",
      "This is commented out: dspec_dzp = - dxe_dzp * T / (1+x_e); need to put it back in\n",
      "box_ct = 0\n",
      "dzp = -1.498709e-01\n",
      "zp = 1.398710e+01\n",
      "dt_dzp = -9.422123e+14\n",
      "dadia_dzp * dzp = -1.495486e-01\n",
      "dspec_dzp * dzp = 0.000000e+00\n",
      "dcomp_dzp * dzp = 4.068521e-03\n",
      "dxheat_dzp * dzp = 0.000000e+00\n",
      "input heating = 3.214801e-02\n",
      "dxion_source = 0.000000e+00\n",
      "dxion_sink = 1.707743e-06\n",
      "T = 7.477438e+00\n",
      "alpha_A(T) = 4.087593e-11\n",
      "global_params.CLUMPING_FACTOR = 1.000000e+00\n",
      "x_e = 6.799300e-04\n",
      "f_H = 9.249617e-01\n",
      "prefactor_1 = 6.918895e-04\n",
      "curr_delNL0 = -7.008023e-07\n",
      "growth_factor_zp = 8.505201e-02\n",
      "input ionization = 5.161924e-07\n",
      "\n",
      "N_b0 = 2.055340e-07\n",
      "f_H = 9.249617e-01\n",
      "\n",
      "after 7.3641057 0.0006787385\n",
      "----- DM21CM -----\n",
      "z 14.13697215993803\n",
      "[1.29478379e-09 1.98305820e-11 1.12774209e-09 6.75499748e-10\n",
      " 2.01142729e-10 6.87006713e-06]\n",
      "9.689648e-05\n",
      "3.538559e-06\n",
      "6.987151e-05\n",
      "5.9484708e-05\n",
      "-----------------\n",
      "i_z=111/204 z=14.14 bath.toteng=2.843e+00 eV/Bavg\n",
      "dt 140966149421933.78 142761522193095.22\n",
      "before 7.3641057 0.0006787385\n",
      "input_heating 0.032195933\n",
      "This is commented out: dspec_dzp = - dxe_dzp * T / (1+x_e); need to put it back in\n",
      "box_ct = 0\n",
      "dzp = -1.483879e-01\n",
      "zp = 1.383871e+01\n",
      "dt_dzp = -9.659350e+14\n",
      "dadia_dzp * dzp = -1.472829e-01\n",
      "dspec_dzp * dzp = 0.000000e+00\n",
      "dcomp_dzp * dzp = 3.927112e-03\n",
      "dxheat_dzp * dzp = 0.000000e+00\n",
      "input heating = 3.219594e-02\n",
      "dxion_source = 0.000000e+00\n",
      "dxion_sink = 1.691447e-06\n",
      "T = 7.364106e+00\n",
      "alpha_A(T) = 4.123926e-11\n",
      "global_params.CLUMPING_FACTOR = 1.000000e+00\n",
      "x_e = 6.787385e-04\n",
      "f_H = 9.249617e-01\n",
      "prefactor_1 = 6.715410e-04\n",
      "curr_delNL0 = -6.938610e-07\n",
      "growth_factor_zp = 8.590286e-02\n",
      "input ionization = 5.168985e-07\n",
      "\n",
      "N_b0 = 2.055340e-07\n",
      "f_H = 9.249617e-01\n",
      "\n",
      "after 7.2529454 0.0006775639\n",
      "----- DM21CM -----\n",
      "z 13.987101148453494\n",
      "[1.28257581e-09 1.96409450e-11 1.11724653e-09 6.68915834e-10\n",
      " 1.99285510e-10 6.80024775e-06]\n",
      "9.572417e-05\n",
      "3.49365e-06\n",
      "6.898898e-05\n",
      "5.877101e-05\n",
      "-----------------\n",
      "i_z=112/204 z=13.99 bath.toteng=2.886e+00 eV/Bavg\n",
      "dt 143087223306630.06 144665369262329.56\n",
      "before 7.2529454 0.0006775639\n",
      "input_heating 0.032243226\n",
      "This is commented out: dspec_dzp = - dxe_dzp * T / (1+x_e); need to put it back in\n",
      "box_ct = 0\n",
      "dzp = -1.469173e-01\n",
      "zp = 1.369180e+01\n",
      "dt_dzp = -9.902544e+14\n",
      "dadia_dzp * dzp = -1.450583e-01\n",
      "dspec_dzp * dzp = 0.000000e+00\n",
      "dcomp_dzp * dzp = 3.790560e-03\n",
      "dxheat_dzp * dzp = 0.000000e+00\n",
      "input heating = 3.224323e-02\n",
      "dxion_source = 0.000000e+00\n",
      "dxion_sink = 1.675285e-06\n",
      "T = 7.252946e+00\n",
      "alpha_A(T) = 4.160411e-11\n",
      "global_params.CLUMPING_FACTOR = 1.000000e+00\n",
      "x_e = 6.775639e-04\n",
      "f_H = 9.249617e-01\n",
      "prefactor_1 = 6.517912e-04\n",
      "curr_delNL0 = -6.869886e-07\n",
      "growth_factor_zp = 8.676220e-02\n",
      "input ionization = 5.175942e-07\n",
      "\n",
      "N_b0 = 2.055340e-07\n",
      "f_H = 9.249617e-01\n",
      "\n",
      "after 7.1439214 0.00067640626\n",
      "----- DM21CM -----\n",
      "z 13.838714008369795\n",
      "[1.27048751e-09 1.94531204e-11 1.10685241e-09 6.62402015e-10\n",
      " 1.97445580e-10 6.73111909e-06]\n",
      "9.4593626e-05\n",
      "3.4502427e-06\n",
      "6.813724e-05\n",
      "5.8082736e-05\n",
      "-----------------\n",
      "i_z=113/204 z=13.84 bath.toteng=2.929e+00 eV/Bavg\n",
      "dt 145240139818476.75 146550366360581.38\n",
      "before 7.1439214 0.00067640626\n",
      "input_heating 0.032289866\n",
      "This is commented out: dspec_dzp = - dxe_dzp * T / (1+x_e); need to put it back in\n",
      "box_ct = 0\n",
      "dzp = -1.454639e-01\n",
      "zp = 1.354633e+01\n",
      "dt_dzp = -1.015186e+15\n",
      "dadia_dzp * dzp = -1.428790e-01\n",
      "dspec_dzp * dzp = 0.000000e+00\n",
      "dcomp_dzp * dzp = 3.658820e-03\n",
      "dxheat_dzp * dzp = 0.000000e+00\n",
      "input heating = 3.228987e-02\n",
      "dxion_source = 0.000000e+00\n",
      "dxion_sink = 1.659311e-06\n",
      "T = 7.143922e+00\n",
      "alpha_A(T) = 4.197044e-11\n",
      "global_params.CLUMPING_FACTOR = 1.000000e+00\n",
      "x_e = 6.764062e-04\n",
      "f_H = 9.249617e-01\n",
      "prefactor_1 = 6.326220e-04\n",
      "curr_delNL0 = -6.801844e-07\n",
      "growth_factor_zp = 8.763013e-02\n",
      "input ionization = 5.182792e-07\n",
      "\n",
      "N_b0 = 2.055340e-07\n",
      "f_H = 9.249617e-01\n",
      "\n",
      "after 7.036993 0.00067526504\n",
      "----- DM21CM -----\n",
      "z 13.691796047890886\n",
      "[1.25851792e-09 1.92670951e-11 1.09655895e-09 6.55957820e-10\n",
      " 1.95622876e-10 6.66267558e-06]\n",
      "9.350265e-05\n",
      "3.4082539e-06\n",
      "6.7314635e-05\n",
      "5.74186e-05\n",
      "-----------------\n",
      "i_z=114/204 z=13.69 bath.toteng=2.973e+00 eV/Bavg\n",
      "dt 147425374828936.06 148416700121226.72\n",
      "before 7.036993 0.00067526504\n",
      "input_heating 0.032335874\n",
      "This is commented out: dspec_dzp = - dxe_dzp * T / (1+x_e); need to put it back in\n",
      "box_ct = 0\n",
      "dzp = -1.440229e-01\n",
      "zp = 1.340231e+01\n",
      "dt_dzp = -1.040745e+15\n",
      "dadia_dzp * dzp = -1.407397e-01\n",
      "dspec_dzp * dzp = 0.000000e+00\n",
      "dcomp_dzp * dzp = 3.531610e-03\n",
      "dxheat_dzp * dzp = 0.000000e+00\n",
      "input heating = 3.233587e-02\n",
      "dxion_source = 0.000000e+00\n",
      "dxion_sink = 1.643467e-06\n",
      "T = 7.036992e+00\n",
      "alpha_A(T) = 4.233820e-11\n",
      "global_params.CLUMPING_FACTOR = 1.000000e+00\n",
      "x_e = 6.752652e-04\n",
      "f_H = 9.249617e-01\n",
      "prefactor_1 = 6.140167e-04\n",
      "curr_delNL0 = -6.734477e-07\n",
      "growth_factor_zp = 8.850672e-02\n",
      "input ionization = 5.189537e-07\n",
      "\n",
      "N_b0 = 2.055340e-07\n",
      "f_H = 9.249617e-01\n",
      "\n",
      "after 6.932121 0.00067414064\n",
      "----- DM21CM -----\n",
      "z 13.546332720684045\n",
      "[1.24666562e-09 1.90828450e-11 1.08636506e-09 6.49582102e-10\n",
      " 1.93817162e-10 6.59490884e-06]\n",
      "9.244915e-05\n",
      "3.3676083e-06\n",
      "6.651966e-05\n",
      "5.6777328e-05\n",
      "-----------------\n",
      "i_z=115/204 z=13.55 bath.toteng=3.018e+00 eV/Bavg\n",
      "dt 149643411227305.47 150732532569369.25\n",
      "before 6.932121 0.00067414064\n",
      "input_heating 0.0323899\n",
      "This is commented out: dspec_dzp = - dxe_dzp * T / (1+x_e); need to put it back in\n",
      "box_ct = 0\n",
      "dzp = -1.425972e-01\n",
      "zp = 1.325971e+01\n",
      "dt_dzp = -1.066947e+15\n",
      "dadia_dzp * dzp = -1.386425e-01\n",
      "dspec_dzp * dzp = 0.000000e+00\n",
      "dcomp_dzp * dzp = 3.408846e-03\n",
      "dxheat_dzp * dzp = 0.000000e+00\n",
      "input heating = 3.238990e-02\n",
      "dxion_source = 0.000000e+00\n",
      "dxion_sink = 1.627787e-06\n",
      "T = 6.932119e+00\n",
      "alpha_A(T) = 4.270737e-11\n",
      "global_params.CLUMPING_FACTOR = 1.000000e+00\n",
      "x_e = 6.741406e-04\n",
      "f_H = 9.249617e-01\n",
      "prefactor_1 = 5.959585e-04\n",
      "curr_delNL0 = -6.667779e-07\n",
      "growth_factor_zp = 8.939206e-02\n",
      "input ionization = 5.197591e-07\n",
      "\n",
      "N_b0 = 2.055340e-07\n",
      "f_H = 9.249617e-01\n",
      "\n",
      "after 6.8292766 0.0006730325\n",
      "----- DM21CM -----\n",
      "z 13.40230962443965\n",
      "[1.23484951e-09 1.88996728e-11 1.07619433e-09 6.43231594e-10\n",
      " 1.92015580e-10 6.52785795e-06]\n",
      "9.117189e-05\n",
      "3.319173e-06\n",
      "6.5566644e-05\n",
      "5.5998407e-05\n",
      "-----------------\n",
      "i_z=116/204 z=13.40 bath.toteng=3.064e+00 eV/Bavg\n",
      "dt 151894739019922.06 153497049742837.8\n",
      "before 6.8292766 0.0006730325\n",
      "input_heating 0.03245491\n",
      "This is commented out: dspec_dzp = - dxe_dzp * T / (1+x_e); need to put it back in\n",
      "box_ct = 0\n",
      "dzp = -1.411848e-01\n",
      "zp = 1.311853e+01\n",
      "dt_dzp = -1.093808e+15\n",
      "dadia_dzp * dzp = -1.365851e-01\n",
      "dspec_dzp * dzp = 0.000000e+00\n",
      "dcomp_dzp * dzp = 3.290331e-03\n",
      "dxheat_dzp * dzp = 0.000000e+00\n",
      "input heating = 3.245491e-02\n",
      "dxion_source = 0.000000e+00\n",
      "dxion_sink = 1.612245e-06\n",
      "T = 6.829276e+00\n",
      "alpha_A(T) = 4.307786e-11\n",
      "global_params.CLUMPING_FACTOR = 1.000000e+00\n",
      "x_e = 6.730326e-04\n",
      "f_H = 9.249617e-01\n",
      "prefactor_1 = 5.784316e-04\n",
      "curr_delNL0 = -6.601742e-07\n",
      "growth_factor_zp = 9.028623e-02\n",
      "input ionization = 5.207431e-07\n",
      "\n",
      "N_b0 = 2.055340e-07\n",
      "f_H = 9.249617e-01\n",
      "\n",
      "after 6.7284374 0.000671941\n",
      "----- DM21CM -----\n",
      "z 13.259712499445197\n",
      "[1.22306891e-09 1.87175599e-11 1.06604566e-09 6.36905445e-10\n",
      " 1.90217936e-10 6.46151314e-06]\n",
      "8.970089e-05\n",
      "3.2640437e-06\n",
      "6.447749e-05\n",
      "5.5100245e-05\n",
      "-----------------\n",
      "i_z=117/204 z=13.26 bath.toteng=3.110e+00 eV/Bavg\n",
      "dt 154179855430544.12 156234195459143.3\n",
      "before 6.7284374 0.000671941\n",
      "input_heating 0.032519706\n",
      "This is commented out: dspec_dzp = - dxe_dzp * T / (1+x_e); need to put it back in\n",
      "box_ct = 0\n",
      "dzp = -1.397877e-01\n",
      "zp = 1.297874e+01\n",
      "dt_dzp = -1.121345e+15\n",
      "dadia_dzp * dzp = -1.345690e-01\n",
      "dspec_dzp * dzp = 0.000000e+00\n",
      "dcomp_dzp * dzp = 3.175963e-03\n",
      "dxheat_dzp * dzp = 0.000000e+00\n",
      "input heating = 3.251971e-02\n",
      "dxion_source = 0.000000e+00\n",
      "dxion_sink = 1.596864e-06\n",
      "T = 6.728436e+00\n",
      "alpha_A(T) = 4.344958e-11\n",
      "global_params.CLUMPING_FACTOR = 1.000000e+00\n",
      "x_e = 6.719411e-04\n",
      "f_H = 9.249617e-01\n",
      "prefactor_1 = 5.614199e-04\n",
      "curr_delNL0 = -6.536361e-07\n",
      "growth_factor_zp = 9.118934e-02\n",
      "input ionization = 5.217233e-07\n",
      "\n",
      "N_b0 = 2.055340e-07\n",
      "f_H = 9.249617e-01\n",
      "\n",
      "after 6.629563 0.00067086605\n",
      "----- DM21CM -----\n",
      "z 13.118527227173463\n",
      "[1.21140389e-09 1.85371904e-11 1.05599537e-09 6.30646706e-10\n",
      " 1.88437135e-10 6.39582765e-06]\n",
      "8.8296845e-05\n",
      "3.211303e-06\n",
      "6.3437175e-05\n",
      "5.4243013e-05\n",
      "-----------------\n",
      "i_z=118/204 z=13.12 bath.toteng=3.157e+00 eV/Bavg\n",
      "dt 156499265002057.03 158944240722812.12\n",
      "before 6.629563 0.00067086605\n",
      "input_heating 0.032582052\n",
      "This is commented out: dspec_dzp = - dxe_dzp * T / (1+x_e); need to put it back in\n",
      "box_ct = 0\n",
      "dzp = -1.384029e-01\n",
      "zp = 1.284034e+01\n",
      "dt_dzp = -1.149575e+15\n",
      "dadia_dzp * dzp = -1.325908e-01\n",
      "dspec_dzp * dzp = 0.000000e+00\n",
      "dcomp_dzp * dzp = 3.065538e-03\n",
      "dxheat_dzp * dzp = 0.000000e+00\n",
      "input heating = 3.258206e-02\n",
      "dxion_source = 0.000000e+00\n",
      "dxion_sink = 1.581608e-06\n",
      "T = 6.629563e+00\n",
      "alpha_A(T) = 4.382249e-11\n",
      "global_params.CLUMPING_FACTOR = 1.000000e+00\n",
      "x_e = 6.708659e-04\n",
      "f_H = 9.249617e-01\n",
      "prefactor_1 = 5.449087e-04\n",
      "curr_delNL0 = -6.471629e-07\n",
      "growth_factor_zp = 9.210145e-02\n",
      "input ionization = 5.226641e-07\n",
      "\n",
      "N_b0 = 2.055340e-07\n",
      "f_H = 9.249617e-01\n",
      "\n",
      "after 6.5326204 0.0006698071\n",
      "----- DM21CM -----\n",
      "z 12.978739828884617\n",
      "[1.19985309e-09 1.83585468e-11 1.04604242e-09 6.24454400e-10\n",
      " 1.86673006e-10 6.33079104e-06]\n",
      "8.6949505e-05\n",
      "3.1605734e-06\n",
      "6.243815e-05\n",
      "5.3420365e-05\n",
      "-----------------\n",
      "i_z=119/204 z=12.98 bath.toteng=3.204e+00 eV/Bavg\n",
      "dt 158853479699219.75 161627453855157.5\n",
      "before 6.5326204 0.0006698071\n",
      "input_heating 0.03264281\n",
      "This is commented out: dspec_dzp = - dxe_dzp * T / (1+x_e); need to put it back in\n",
      "box_ct = 0\n",
      "dzp = -1.370335e-01\n",
      "zp = 1.270330e+01\n",
      "dt_dzp = -1.178516e+15\n",
      "dadia_dzp * dzp = -1.306528e-01\n",
      "dspec_dzp * dzp = 0.000000e+00\n",
      "dcomp_dzp * dzp = 2.958983e-03\n",
      "dxheat_dzp * dzp = 0.000000e+00\n",
      "input heating = 3.264281e-02\n",
      "dxion_source = 0.000000e+00\n",
      "dxion_sink = 1.566509e-06\n",
      "T = 6.532619e+00\n",
      "alpha_A(T) = 4.419654e-11\n",
      "global_params.CLUMPING_FACTOR = 1.000000e+00\n",
      "x_e = 6.698070e-04\n",
      "f_H = 9.249617e-01\n",
      "prefactor_1 = 5.288830e-04\n",
      "curr_delNL0 = -6.407539e-07\n",
      "growth_factor_zp = 9.302268e-02\n",
      "input ionization = 5.235790e-07\n",
      "\n",
      "N_b0 = 2.055340e-07\n",
      "f_H = 9.249617e-01\n",
      "\n",
      "after 6.4375687 0.00066876406\n",
      "----- DM21CM -----\n",
      "z 12.840336464242196\n",
      "[1.18841590e-09 1.81816186e-11 1.03618597e-09 6.18327887e-10\n",
      " 1.84925421e-10 6.26639910e-06]\n",
      "8.565748e-05\n",
      "3.1118227e-06\n",
      "6.147946e-05\n",
      "5.263148e-05\n",
      "-----------------\n",
      "i_z=120/204 z=12.84 bath.toteng=3.252e+00 eV/Bavg\n",
      "dt 161243019012774.3 164284100520845.97\n",
      "before 6.4375687 0.00066876406\n",
      "input_heating 0.032702424\n",
      "This is commented out: dspec_dzp = - dxe_dzp * T / (1+x_e); need to put it back in\n",
      "box_ct = 0\n",
      "dzp = -1.356764e-01\n",
      "zp = 1.256763e+01\n",
      "dt_dzp = -1.208184e+15\n",
      "dadia_dzp * dzp = -1.287515e-01\n",
      "dspec_dzp * dzp = 0.000000e+00\n",
      "dcomp_dzp * dzp = 2.856107e-03\n",
      "dxheat_dzp * dzp = 0.000000e+00\n",
      "input heating = 3.270243e-02\n",
      "dxion_source = 0.000000e+00\n",
      "dxion_sink = 1.551535e-06\n",
      "T = 6.437569e+00\n",
      "alpha_A(T) = 4.457169e-11\n",
      "global_params.CLUMPING_FACTOR = 1.000000e+00\n",
      "x_e = 6.687641e-04\n",
      "f_H = 9.249617e-01\n",
      "prefactor_1 = 5.133286e-04\n",
      "curr_delNL0 = -6.344085e-07\n",
      "growth_factor_zp = 9.395310e-02\n",
      "input ionization = 5.244754e-07\n",
      "\n",
      "N_b0 = 2.055340e-07\n",
      "f_H = 9.249617e-01\n",
      "\n",
      "after 6.3443756 0.0006677369\n",
      "----- DM21CM -----\n",
      "z 12.703303429942768\n",
      "[1.17709087e-09 1.80063845e-11 1.02642524e-09 6.12266400e-10\n",
      " 1.83194209e-10 6.20264348e-06]\n",
      "8.4418345e-05\n",
      "3.06497e-06\n",
      "6.0559447e-05\n",
      "5.1874944e-05\n",
      "-----------------\n",
      "i_z=121/204 z=12.70 bath.toteng=3.301e+00 eV/Bavg\n",
      "dt 163668410064737.53 166914443754200.9\n",
      "before 6.3443756 0.0006677369\n",
      "input_heating 0.0327611\n",
      "This is commented out: dspec_dzp = - dxe_dzp * T / (1+x_e); need to put it back in\n",
      "box_ct = 0\n",
      "dzp = -1.343327e-01\n",
      "zp = 1.243329e+01\n",
      "dt_dzp = -1.238599e+15\n",
      "dadia_dzp * dzp = -1.268872e-01\n",
      "dspec_dzp * dzp = 0.000000e+00\n",
      "dcomp_dzp * dzp = 2.756804e-03\n",
      "dxheat_dzp * dzp = 0.000000e+00\n",
      "input heating = 3.276110e-02\n",
      "dxion_source = 0.000000e+00\n",
      "dxion_sink = 1.536695e-06\n",
      "T = 6.344376e+00\n",
      "alpha_A(T) = 4.494789e-11\n",
      "global_params.CLUMPING_FACTOR = 1.000000e+00\n",
      "x_e = 6.677370e-04\n",
      "f_H = 9.249617e-01\n",
      "prefactor_1 = 4.982317e-04\n",
      "curr_delNL0 = -6.281260e-07\n",
      "growth_factor_zp = 9.489281e-02\n",
      "input ionization = 5.253565e-07\n",
      "\n",
      "N_b0 = 2.055340e-07\n",
      "f_H = 9.249617e-01\n",
      "\n",
      "after 6.2530065 0.0006667255\n",
      "----- DM21CM -----\n",
      "z 12.567627158359176\n",
      "[1.16587691e-09 1.78328324e-11 1.01675889e-09 6.06269089e-10\n",
      " 1.81479244e-10 6.13952067e-06]\n",
      "8.322941e-05\n",
      "3.0199203e-06\n",
      "5.967608e-05\n",
      "5.1149076e-05\n",
      "-----------------\n",
      "i_z=122/204 z=12.57 bath.toteng=3.351e+00 eV/Bavg\n",
      "dt 166130187714840.44 169518743985245.38\n",
      "before 6.2530065 0.0006667255\n",
      "input_heating 0.03281895\n",
      "This is commented out: dspec_dzp = - dxe_dzp * T / (1+x_e); need to put it back in\n",
      "box_ct = 0\n",
      "dzp = -1.330032e-01\n",
      "zp = 1.230029e+01\n",
      "dt_dzp = -1.269779e+15\n",
      "dadia_dzp * dzp = -1.250604e-01\n",
      "dspec_dzp * dzp = 0.000000e+00\n",
      "dcomp_dzp * dzp = 2.660972e-03\n",
      "dxheat_dzp * dzp = 0.000000e+00\n",
      "input heating = 3.281895e-02\n",
      "dxion_source = 0.000000e+00\n",
      "dxion_sink = 1.521999e-06\n",
      "T = 6.253006e+00\n",
      "alpha_A(T) = 4.532509e-11\n",
      "global_params.CLUMPING_FACTOR = 1.000000e+00\n",
      "x_e = 6.667256e-04\n",
      "f_H = 9.249617e-01\n",
      "prefactor_1 = 4.835787e-04\n",
      "curr_delNL0 = -6.219060e-07\n",
      "growth_factor_zp = 9.584189e-02\n",
      "input ionization = 5.262241e-07\n",
      "\n",
      "N_b0 = 2.055340e-07\n",
      "f_H = 9.249617e-01\n",
      "\n",
      "after 6.163427 0.00066572987\n",
      "----- DM21CM -----\n",
      "z 12.433294216197204\n",
      "[1.15477316e-09 1.76609478e-11 1.00718656e-09 6.00335569e-10\n",
      " 1.79780396e-10 6.07702300e-06]\n",
      "8.208798e-05\n",
      "2.976577e-06\n",
      "5.8827405e-05\n",
      "5.0452214e-05\n",
      "-----------------\n",
      "i_z=123/204 z=12.43 bath.toteng=3.402e+00 eV/Bavg\n",
      "dt 168628894668339.12 172097259065487.44\n",
      "before 6.163427 0.00066572987\n",
      "input_heating 0.03287604\n",
      "This is commented out: dspec_dzp = - dxe_dzp * T / (1+x_e); need to put it back in\n",
      "box_ct = 0\n",
      "dzp = -1.316862e-01\n",
      "zp = 1.216860e+01\n",
      "dt_dzp = -1.301743e+15\n",
      "dadia_dzp * dzp = -1.232687e-01\n",
      "dspec_dzp * dzp = 0.000000e+00\n",
      "dcomp_dzp * dzp = 2.568455e-03\n",
      "dxheat_dzp * dzp = 0.000000e+00\n",
      "input heating = 3.287604e-02\n",
      "dxion_source = 0.000000e+00\n",
      "dxion_sink = 1.507425e-06\n",
      "T = 6.163426e+00\n",
      "alpha_A(T) = 4.570325e-11\n",
      "global_params.CLUMPING_FACTOR = 1.000000e+00\n",
      "x_e = 6.657299e-04\n",
      "f_H = 9.249617e-01\n",
      "prefactor_1 = 4.693568e-04\n",
      "curr_delNL0 = -6.157476e-07\n",
      "growth_factor_zp = 9.680045e-02\n",
      "input ionization = 5.270790e-07\n",
      "\n",
      "N_b0 = 2.055340e-07\n",
      "f_H = 9.249617e-01\n",
      "\n",
      "after 6.0756006 0.0006647495\n",
      "----- DM21CM -----\n",
      "z 12.30029130316555\n",
      "[1.14377833e-09 1.74907094e-11 9.97707066e-10 5.94464733e-10\n",
      " 1.78097497e-10 6.01514281e-06]\n",
      "8.099133e-05\n",
      "2.9348473e-06\n",
      "5.8011454e-05\n",
      "4.9782742e-05\n",
      "-----------------\n",
      "i_z=124/204 z=12.30 bath.toteng=3.453e+00 eV/Bavg\n",
      "dt 171165081584892.66 174650244293449.88\n",
      "before 6.0756006 0.0006647495\n",
      "input_heating 0.032932397\n",
      "This is commented out: dspec_dzp = - dxe_dzp * T / (1+x_e); need to put it back in\n",
      "box_ct = 0\n",
      "dzp = -1.303816e-01\n",
      "zp = 1.203822e+01\n",
      "dt_dzp = -1.334511e+15\n",
      "dadia_dzp * dzp = -1.215114e-01\n",
      "dspec_dzp * dzp = 0.000000e+00\n",
      "dcomp_dzp * dzp = 2.479140e-03\n",
      "dxheat_dzp * dzp = 0.000000e+00\n",
      "input heating = 3.293240e-02\n",
      "dxion_source = 0.000000e+00\n",
      "dxion_sink = 1.492971e-06\n",
      "T = 6.075602e+00\n",
      "alpha_A(T) = 4.608230e-11\n",
      "global_params.CLUMPING_FACTOR = 1.000000e+00\n",
      "x_e = 6.647495e-04\n",
      "f_H = 9.249617e-01\n",
      "prefactor_1 = 4.555531e-04\n",
      "curr_delNL0 = -6.096504e-07\n",
      "growth_factor_zp = 9.776856e-02\n",
      "input ionization = 5.279221e-07\n",
      "\n",
      "N_b0 = 2.055340e-07\n",
      "f_H = 9.249617e-01\n",
      "\n",
      "after 5.9895015 0.0006637844\n",
      "----- DM21CM -----\n",
      "z 12.16860525065896\n",
      "[1.13289142e-09 1.73221091e-11 9.88319385e-10 5.88656028e-10\n",
      " 1.76430439e-10 5.95387520e-06]\n",
      "7.9936995e-05\n",
      "2.8946356e-06\n",
      "5.72264e-05\n",
      "4.9139115e-05\n",
      "-----------------\n",
      "i_z=125/204 z=12.17 bath.toteng=3.505e+00 eV/Bavg\n",
      "dt 173739307188800.06 177177952439947.38\n",
      "before 5.9895015 0.0006637844\n",
      "input_heating 0.032988064\n",
      "This is commented out: dspec_dzp = - dxe_dzp * T / (1+x_e); need to put it back in\n",
      "box_ct = 0\n",
      "dzp = -1.290913e-01\n",
      "zp = 1.190913e+01\n",
      "dt_dzp = -1.368104e+15\n",
      "dadia_dzp * dzp = -1.197900e-01\n",
      "dspec_dzp * dzp = 0.000000e+00\n",
      "dcomp_dzp * dzp = 2.392956e-03\n",
      "dxheat_dzp * dzp = 0.000000e+00\n",
      "input heating = 3.298806e-02\n",
      "dxion_source = 0.000000e+00\n",
      "dxion_sink = 1.478661e-06\n",
      "T = 5.989501e+00\n",
      "alpha_A(T) = 4.646219e-11\n",
      "global_params.CLUMPING_FACTOR = 1.000000e+00\n",
      "x_e = 6.637845e-04\n",
      "f_H = 9.249617e-01\n",
      "prefactor_1 = 4.421554e-04\n",
      "curr_delNL0 = -6.036137e-07\n",
      "growth_factor_zp = 9.874634e-02\n",
      "input ionization = 5.287537e-07\n",
      "\n",
      "N_b0 = 2.055340e-07\n",
      "f_H = 9.249617e-01\n",
      "\n",
      "after 5.9050922 0.0006628345\n",
      "----- DM21CM -----\n",
      "z 12.038223020454415\n",
      "[1.12211156e-09 1.71551270e-11 9.79023004e-10 5.82908859e-10\n",
      " 1.74779074e-10 5.89321529e-06]\n",
      "7.892268e-05\n",
      "2.8558663e-06\n",
      "5.64706e-05\n",
      "4.8519934e-05\n",
      "-----------------\n",
      "i_z=126/204 z=12.04 bath.toteng=3.558e+00 eV/Bavg\n",
      "dt 176352138380385.16 179680633773113.2\n",
      "before 5.9050922 0.0006628345\n",
      "input_heating 0.033043053\n",
      "This is commented out: dspec_dzp = - dxe_dzp * T / (1+x_e); need to put it back in\n",
      "box_ct = 0\n",
      "dzp = -1.278133e-01\n",
      "zp = 1.178132e+01\n",
      "dt_dzp = -1.402542e+15\n",
      "dadia_dzp * dzp = -1.181020e-01\n",
      "dspec_dzp * dzp = 0.000000e+00\n",
      "dcomp_dzp * dzp = 2.309758e-03\n",
      "dxheat_dzp * dzp = 0.000000e+00\n",
      "input heating = 3.304305e-02\n",
      "dxion_source = 0.000000e+00\n",
      "dxion_sink = 1.464470e-06\n",
      "T = 5.905093e+00\n",
      "alpha_A(T) = 4.684288e-11\n",
      "global_params.CLUMPING_FACTOR = 1.000000e+00\n",
      "x_e = 6.628346e-04\n",
      "f_H = 9.249617e-01\n",
      "prefactor_1 = 4.291516e-04\n",
      "curr_delNL0 = -5.976369e-07\n",
      "growth_factor_zp = 9.973388e-02\n",
      "input ionization = 5.295743e-07\n",
      "\n",
      "N_b0 = 2.055340e-07\n",
      "f_H = 9.249617e-01\n",
      "\n",
      "after 5.8223424 0.0006618996\n",
      "----- DM21CM -----\n",
      "z 11.909131703420213\n",
      "[1.11143749e-09 1.69897499e-11 9.69816903e-10 5.77222414e-10\n",
      " 1.73143241e-10 5.83315610e-06]\n",
      "7.7946184e-05\n",
      "2.8184552e-06\n",
      "5.5742406e-05\n",
      "4.79239e-05\n",
      "-----------------\n",
      "i_z=127/204 z=11.91 bath.toteng=3.611e+00 eV/Bavg\n",
      "dt 179004150348656.34 182158536083178.3\n",
      "before 5.8223424 0.0006618996\n",
      "input_heating 0.033097383\n",
      "This is commented out: dspec_dzp = - dxe_dzp * T / (1+x_e); need to put it back in\n",
      "box_ct = 0\n",
      "dzp = -1.265478e-01\n",
      "zp = 1.165477e+01\n",
      "dt_dzp = -1.437845e+15\n",
      "dadia_dzp * dzp = -1.164470e-01\n",
      "dspec_dzp * dzp = 0.000000e+00\n",
      "dcomp_dzp * dzp = 2.229447e-03\n",
      "dxheat_dzp * dzp = 0.000000e+00\n",
      "input heating = 3.309738e-02\n",
      "dxion_source = 0.000000e+00\n",
      "dxion_sink = 1.450398e-06\n",
      "T = 5.822343e+00\n",
      "alpha_A(T) = 4.722430e-11\n",
      "global_params.CLUMPING_FACTOR = 1.000000e+00\n",
      "x_e = 6.618997e-04\n",
      "f_H = 9.249617e-01\n",
      "prefactor_1 = 4.165303e-04\n",
      "curr_delNL0 = -5.917194e-07\n",
      "growth_factor_zp = 1.007313e-01\n",
      "input ionization = 5.303841e-07\n",
      "\n",
      "N_b0 = 2.055340e-07\n",
      "f_H = 9.249617e-01\n",
      "\n",
      "after 5.741224 0.00066097983\n",
      "----- DM21CM -----\n",
      "z 11.781318518237835\n",
      "[1.10086817e-09 1.68259617e-11 9.60700230e-10 5.71595971e-10\n",
      " 1.71522824e-10 5.77369136e-06]\n",
      "7.7005505e-05\n",
      "2.7823305e-06\n",
      "5.504036e-05\n",
      "4.7349717e-05\n",
      "-----------------\n",
      "i_z=128/204 z=11.78 bath.toteng=3.666e+00 eV/Bavg\n",
      "dt 181695926685143.84 184611904707005.22\n",
      "before 5.741224 0.00066097983\n",
      "input_heating 0.033151068\n",
      "This is commented out: dspec_dzp = - dxe_dzp * T / (1+x_e); need to put it back in\n",
      "box_ct = 0\n",
      "dzp = -1.252947e-01\n",
      "zp = 1.152948e+01\n",
      "dt_dzp = -1.474037e+15\n",
      "dadia_dzp * dzp = -1.148244e-01\n",
      "dspec_dzp * dzp = 0.000000e+00\n",
      "dcomp_dzp * dzp = 2.151924e-03\n",
      "dxheat_dzp * dzp = 0.000000e+00\n",
      "input heating = 3.315107e-02\n",
      "dxion_source = 0.000000e+00\n",
      "dxion_sink = 1.436445e-06\n",
      "T = 5.741223e+00\n",
      "alpha_A(T) = 4.760641e-11\n",
      "global_params.CLUMPING_FACTOR = 1.000000e+00\n",
      "x_e = 6.609797e-04\n",
      "f_H = 9.249617e-01\n",
      "prefactor_1 = 4.042802e-04\n",
      "curr_delNL0 = -5.858606e-07\n",
      "growth_factor_zp = 1.017386e-01\n",
      "input ionization = 5.311831e-07\n",
      "\n",
      "N_b0 = 2.055340e-07\n",
      "f_H = 9.249617e-01\n",
      "\n",
      "after 5.6617026 0.0006600746\n",
      "----- DM21CM -----\n",
      "z 11.65477081013647\n",
      "[1.09040267e-09 1.66637491e-11 9.51671962e-10 5.66028977e-10\n",
      " 1.69917663e-10 5.71481479e-06]\n",
      "7.6098695e-05\n",
      "2.747422e-06\n",
      "5.436306e-05\n",
      "4.6796256e-05\n",
      "-----------------\n",
      "i_z=129/204 z=11.65 bath.toteng=3.721e+00 eV/Bavg\n",
      "dt 184428059499017.3 187040982552378.38\n",
      "before 5.6617026 0.0006600746\n",
      "input_heating 0.03320411\n",
      "This is commented out: dspec_dzp = - dxe_dzp * T / (1+x_e); need to put it back in\n",
      "box_ct = 0\n",
      "dzp = -1.240540e-01\n",
      "zp = 1.140542e+01\n",
      "dt_dzp = -1.511139e+15\n",
      "dadia_dzp * dzp = -1.132338e-01\n",
      "dspec_dzp * dzp = 0.000000e+00\n",
      "dcomp_dzp * dzp = 2.077095e-03\n",
      "dxheat_dzp * dzp = 0.000000e+00\n",
      "input heating = 3.320411e-02\n",
      "dxion_source = 0.000000e+00\n",
      "dxion_sink = 1.422610e-06\n",
      "T = 5.661702e+00\n",
      "alpha_A(T) = 4.798913e-11\n",
      "global_params.CLUMPING_FACTOR = 1.000000e+00\n",
      "x_e = 6.600745e-04\n",
      "f_H = 9.249617e-01\n",
      "prefactor_1 = 3.923904e-04\n",
      "curr_delNL0 = -5.800600e-07\n",
      "growth_factor_zp = 1.027560e-01\n",
      "input ionization = 5.319716e-07\n",
      "\n",
      "N_b0 = 2.055340e-07\n",
      "f_H = 9.249617e-01\n",
      "\n",
      "after 5.583749 0.0006591837\n",
      "----- DM21CM -----\n",
      "z 11.52947604964007\n",
      "[1.08003997e-09 1.65030975e-11 9.42731589e-10 5.60520578e-10\n",
      " 1.68327662e-10 5.65652185e-06]\n",
      "7.522399e-05\n",
      "2.7136684e-06\n",
      "5.3709224e-05\n",
      "4.6262416e-05\n",
      "-----------------\n",
      "i_z=130/204 z=11.53 bath.toteng=3.777e+00 eV/Bavg\n",
      "dt 187201149533350.94 189446010122054.78\n",
      "before 5.583749 0.0006591837\n",
      "input_heating 0.033256505\n",
      "This is commented out: dspec_dzp = - dxe_dzp * T / (1+x_e); need to put it back in\n",
      "box_ct = 0\n",
      "dzp = -1.228266e-01\n",
      "zp = 1.128260e+01\n",
      "dt_dzp = -1.549174e+15\n",
      "dadia_dzp * dzp = -1.116756e-01\n",
      "dspec_dzp * dzp = 0.000000e+00\n",
      "dcomp_dzp * dzp = 2.004882e-03\n",
      "dxheat_dzp * dzp = 0.000000e+00\n",
      "input heating = 3.325651e-02\n",
      "dxion_source = 0.000000e+00\n",
      "dxion_sink = 1.408904e-06\n",
      "T = 5.583750e+00\n",
      "alpha_A(T) = 4.837243e-11\n",
      "global_params.CLUMPING_FACTOR = 1.000000e+00\n",
      "x_e = 6.591838e-04\n",
      "f_H = 9.249617e-01\n",
      "prefactor_1 = 3.808502e-04\n",
      "curr_delNL0 = -5.743169e-07\n",
      "growth_factor_zp = 1.037835e-01\n",
      "input ionization = 5.327495e-07\n",
      "\n",
      "N_b0 = 2.055340e-07\n",
      "f_H = 9.249617e-01\n",
      "\n",
      "after 5.5073366 0.0006583076\n",
      "----- DM21CM -----\n",
      "z 11.405421831326802\n",
      "[1.06977922e-09 1.63439923e-11 9.33878003e-10 5.55070393e-10\n",
      " 1.66752672e-10 5.59880591e-06]\n",
      "7.4379735e-05\n",
      "2.6810055e-06\n",
      "5.307758e-05\n",
      "4.5747183e-05\n",
      "-----------------\n",
      "i_z=131/204 z=11.41 bath.toteng=3.834e+00 eV/Bavg\n",
      "dt 190015806282704.34 191827225537575.94\n",
      "before 5.5073366 0.0006583076\n",
      "input_heating 0.033308264\n",
      "This is commented out: dspec_dzp = - dxe_dzp * T / (1+x_e); need to put it back in\n",
      "box_ct = 0\n",
      "dzp = -1.216097e-01\n",
      "zp = 1.116099e+01\n",
      "dt_dzp = -1.588165e+15\n",
      "dadia_dzp * dzp = -1.101466e-01\n",
      "dspec_dzp * dzp = 0.000000e+00\n",
      "dcomp_dzp * dzp = 1.935153e-03\n",
      "dxheat_dzp * dzp = 0.000000e+00\n",
      "input heating = 3.330826e-02\n",
      "dxion_source = 0.000000e+00\n",
      "dxion_sink = 1.395294e-06\n",
      "T = 5.507336e+00\n",
      "alpha_A(T) = 4.875624e-11\n",
      "global_params.CLUMPING_FACTOR = 1.000000e+00\n",
      "x_e = 6.583077e-04\n",
      "f_H = 9.249617e-01\n",
      "prefactor_1 = 3.696495e-04\n",
      "curr_delNL0 = -5.686309e-07\n",
      "growth_factor_zp = 1.048213e-01\n",
      "input ionization = 5.335168e-07\n",
      "\n",
      "N_b0 = 2.055340e-07\n",
      "f_H = 9.249617e-01\n",
      "\n",
      "after 5.4324336 0.0006574458\n",
      "----- DM21CM -----\n",
      "z 11.282595872600794\n",
      "[1.05961906e-09 1.61864174e-11 9.25110523e-10 5.49677527e-10\n",
      " 1.65192512e-10 5.54166104e-06]\n",
      "7.35644e-05\n",
      "2.649378e-06\n",
      "5.2467043e-05\n",
      "4.5249624e-05\n",
      "-----------------\n",
      "i_z=132/204 z=11.28 bath.toteng=3.892e+00 eV/Bavg\n",
      "dt 192872648111792.72 194184864562844.44\n",
      "before 5.4324336 0.0006574458\n",
      "input_heating 0.03335938\n",
      "This is commented out: dspec_dzp = - dxe_dzp * T / (1+x_e); need to put it back in\n",
      "box_ct = 0\n",
      "dzp = -1.204062e-01\n",
      "zp = 1.104058e+01\n",
      "dt_dzp = -1.628137e+15\n",
      "dadia_dzp * dzp = -1.086490e-01\n",
      "dspec_dzp * dzp = 0.000000e+00\n",
      "dcomp_dzp * dzp = 1.867866e-03\n",
      "dxheat_dzp * dzp = 0.000000e+00\n",
      "input heating = 3.335938e-02\n",
      "dxion_source = 0.000000e+00\n",
      "dxion_sink = 1.381812e-06\n",
      "T = 5.432433e+00\n",
      "alpha_A(T) = 4.914050e-11\n",
      "global_params.CLUMPING_FACTOR = 1.000000e+00\n",
      "x_e = 6.574459e-04\n",
      "f_H = 9.249617e-01\n",
      "prefactor_1 = 3.587781e-04\n",
      "curr_delNL0 = -5.630013e-07\n",
      "growth_factor_zp = 1.058695e-01\n",
      "input ionization = 5.342735e-07\n",
      "\n",
      "N_b0 = 2.055340e-07\n",
      "f_H = 9.249617e-01\n",
      "\n",
      "after 5.3590097 0.0006565983\n",
      "----- DM21CM -----\n",
      "z 11.160986012476034\n",
      "[1.04955888e-09 1.60303596e-11 9.16428297e-10 5.44341511e-10\n",
      " 1.63647128e-10 5.48508271e-06]\n",
      "7.2776485e-05\n",
      "2.618734e-06\n",
      "5.1876523e-05\n",
      "4.476883e-05\n",
      "-----------------\n",
      "i_z=133/204 z=11.16 bath.toteng=3.950e+00 eV/Bavg\n",
      "dt 195772302375439.66 197322768522288.56\n",
      "before 5.3590097 0.0006565983\n",
      "input_heating 0.033417113\n",
      "This is commented out: dspec_dzp = - dxe_dzp * T / (1+x_e); need to put it back in\n",
      "box_ct = 0\n",
      "dzp = -1.192131e-01\n",
      "zp = 1.092137e+01\n",
      "dt_dzp = -1.669114e+15\n",
      "dadia_dzp * dzp = -1.071797e-01\n",
      "dspec_dzp * dzp = 0.000000e+00\n",
      "dcomp_dzp * dzp = 1.802896e-03\n",
      "dxheat_dzp * dzp = 0.000000e+00\n",
      "input heating = 3.341712e-02\n",
      "dxion_source = 0.000000e+00\n",
      "dxion_sink = 1.368425e-06\n",
      "T = 5.359011e+00\n",
      "alpha_A(T) = 4.952516e-11\n",
      "global_params.CLUMPING_FACTOR = 1.000000e+00\n",
      "x_e = 6.565984e-04\n",
      "f_H = 9.249617e-01\n",
      "prefactor_1 = 3.482266e-04\n",
      "curr_delNL0 = -5.574276e-07\n",
      "growth_factor_zp = 1.069280e-01\n",
      "input ionization = 5.351398e-07\n",
      "\n",
      "N_b0 = 2.055340e-07\n",
      "f_H = 9.249617e-01\n",
      "\n",
      "after 5.287051 0.000655765\n",
      "----- DM21CM -----\n",
      "z 11.04058021037231\n",
      "[1.03951557e-09 1.58750777e-11 9.07752374e-10 5.39017759e-10\n",
      " 1.62103332e-10 5.42910963e-06]\n",
      "7.173715e-05\n",
      "2.5794093e-06\n",
      "5.1109455e-05\n",
      "4.413316e-05\n",
      "-----------------\n",
      "i_z=134/204 z=11.04 bath.toteng=4.010e+00 eV/Bavg\n",
      "dt 198715405539706.9 201115039281326.72\n",
      "before 5.287051 0.000655765\n",
      "input_heating 0.033486836\n",
      "This is commented out: dspec_dzp = - dxe_dzp * T / (1+x_e); need to put it back in\n",
      "box_ct = 0\n",
      "dzp = -1.180334e-01\n",
      "zp = 1.080333e+01\n",
      "dt_dzp = -1.711121e+15\n",
      "dadia_dzp * dzp = -1.057411e-01\n",
      "dspec_dzp * dzp = 0.000000e+00\n",
      "dcomp_dzp * dzp = 1.740206e-03\n",
      "dxheat_dzp * dzp = 0.000000e+00\n",
      "input heating = 3.348683e-02\n",
      "dxion_source = 0.000000e+00\n",
      "dxion_sink = 1.355165e-06\n",
      "T = 5.287051e+00\n",
      "alpha_A(T) = 4.991011e-11\n",
      "global_params.CLUMPING_FACTOR = 1.000000e+00\n",
      "x_e = 6.557651e-04\n",
      "f_H = 9.249617e-01\n",
      "prefactor_1 = 3.379853e-04\n",
      "curr_delNL0 = -5.519092e-07\n",
      "growth_factor_zp = 1.079972e-01\n",
      "input ionization = 5.362000e-07\n",
      "\n",
      "N_b0 = 2.055340e-07\n",
      "f_H = 9.249617e-01\n",
      "\n",
      "after 5.216537 0.0006549461\n",
      "----- DM21CM -----\n",
      "z 10.92136654492308\n",
      "[1.02950138e-09 1.57206740e-11 8.99094336e-10 5.33712660e-10\n",
      " 1.60563048e-10 5.37373101e-06]\n",
      "7.052548e-05\n",
      "2.53422e-06\n",
      "5.022241e-05\n",
      "4.3391305e-05\n",
      "-----------------\n",
      "i_z=135/204 z=10.92 bath.toteng=4.070e+00 eV/Bavg\n",
      "dt 201702603304206.78 204869762805126.88\n",
      "before 5.216537 0.0006549461\n",
      "input_heating 0.03355912\n",
      "This is commented out: dspec_dzp = - dxe_dzp * T / (1+x_e); need to put it back in\n",
      "box_ct = 0\n",
      "dzp = -1.168652e-01\n",
      "zp = 1.068647e+01\n",
      "dt_dzp = -1.754185e+15\n",
      "dadia_dzp * dzp = -1.043312e-01\n",
      "dspec_dzp * dzp = 0.000000e+00\n",
      "dcomp_dzp * dzp = 1.679689e-03\n",
      "dxheat_dzp * dzp = 0.000000e+00\n",
      "input heating = 3.355912e-02\n",
      "dxion_source = 0.000000e+00\n",
      "dxion_sink = 1.342010e-06\n",
      "T = 5.216537e+00\n",
      "alpha_A(T) = 5.029523e-11\n",
      "global_params.CLUMPING_FACTOR = 1.000000e+00\n",
      "x_e = 6.549461e-04\n",
      "f_H = 9.249617e-01\n",
      "prefactor_1 = 3.280451e-04\n",
      "curr_delNL0 = -5.464456e-07\n",
      "growth_factor_zp = 1.090770e-01\n",
      "input ionization = 5.373013e-07\n",
      "\n",
      "N_b0 = 2.055340e-07\n",
      "f_H = 9.249617e-01\n",
      "\n",
      "after 5.147445 0.00065414136\n",
      "----- DM21CM -----\n",
      "z 10.80333321279513\n",
      "[1.01958548e-09 1.55677529e-11 8.90520531e-10 5.28463261e-10\n",
      " 1.59037307e-10 5.31889973e-06]\n",
      "6.937675e-05\n",
      "2.4912881e-06\n",
      "4.9380902e-05\n",
      "4.268802e-05\n",
      "-----------------\n",
      "i_z=136/204 z=10.80 bath.toteng=4.131e+00 eV/Bavg\n",
      "dt 204734550725533.9 208587310848493.38\n",
      "before 5.147445 0.00065414136\n",
      "input_heating 0.033629917\n",
      "This is commented out: dspec_dzp = - dxe_dzp * T / (1+x_e); need to put it back in\n",
      "box_ct = 0\n",
      "dzp = -1.157074e-01\n",
      "zp = 1.057076e+01\n",
      "dt_dzp = -1.798331e+15\n",
      "dadia_dzp * dzp = -1.029487e-01\n",
      "dspec_dzp * dzp = 0.000000e+00\n",
      "dcomp_dzp * dzp = 1.621260e-03\n",
      "dxheat_dzp * dzp = 0.000000e+00\n",
      "input heating = 3.362991e-02\n",
      "dxion_source = 0.000000e+00\n",
      "dxion_sink = 1.328946e-06\n",
      "T = 5.147445e+00\n",
      "alpha_A(T) = 5.068043e-11\n",
      "global_params.CLUMPING_FACTOR = 1.000000e+00\n",
      "x_e = 6.541414e-04\n",
      "f_H = 9.249617e-01\n",
      "prefactor_1 = 3.183974e-04\n",
      "curr_delNL0 = -5.410362e-07\n",
      "growth_factor_zp = 1.101676e-01\n",
      "input ionization = 5.383782e-07\n",
      "\n",
      "N_b0 = 2.055340e-07\n",
      "f_H = 9.249617e-01\n",
      "\n",
      "after 5.079747 0.0006533508\n",
      "----- DM21CM -----\n",
      "z 10.68646852751993\n",
      "[1.00976710e-09 1.54163062e-11 8.82030021e-10 5.23269094e-10\n",
      " 1.57525992e-10 5.26461057e-06]\n",
      "6.827848e-05\n",
      "2.4501555e-06\n",
      "4.8575836e-05\n",
      "4.2015636e-05\n",
      "-----------------\n",
      "i_z=137/204 z=10.69 bath.toteng=4.193e+00 eV/Bavg\n",
      "dt 207811912341954.7 212268051485489.9\n",
      "before 5.079747 0.0006533508\n",
      "input_heating 0.033699222\n",
      "This is commented out: dspec_dzp = - dxe_dzp * T / (1+x_e); need to put it back in\n",
      "box_ct = 0\n",
      "dzp = -1.145620e-01\n",
      "zp = 1.045620e+01\n",
      "dt_dzp = -1.843587e+15\n",
      "dadia_dzp * dzp = -1.015950e-01\n",
      "dspec_dzp * dzp = 0.000000e+00\n",
      "dcomp_dzp * dzp = 1.564873e-03\n",
      "dxheat_dzp * dzp = 0.000000e+00\n",
      "input heating = 3.369923e-02\n",
      "dxion_source = 0.000000e+00\n",
      "dxion_sink = 1.315998e-06\n",
      "T = 5.079747e+00\n",
      "alpha_A(T) = 5.106565e-11\n",
      "global_params.CLUMPING_FACTOR = 1.000000e+00\n",
      "x_e = 6.533508e-04\n",
      "f_H = 9.249617e-01\n",
      "prefactor_1 = 3.090334e-04\n",
      "curr_delNL0 = -5.356806e-07\n",
      "growth_factor_zp = 1.112690e-01\n",
      "input ionization = 5.394313e-07\n",
      "\n",
      "N_b0 = 2.055340e-07\n",
      "f_H = 9.249617e-01\n",
      "\n",
      "after 5.0134153 0.0006525741\n",
      "----- DM21CM -----\n",
      "z 10.570760918336564\n",
      "[1.00004513e-09 1.52663207e-11 8.73622125e-10 5.18129520e-10\n",
      " 1.56029027e-10 5.21086073e-06]\n",
      "6.7227425e-05\n",
      "2.4107085e-06\n",
      "4.7804868e-05\n",
      "4.1372183e-05\n",
      "-----------------\n",
      "i_z=138/204 z=10.57 bath.toteng=4.257e+00 eV/Bavg\n",
      "dt 210935362299177.72 215912349145882.53\n",
      "before 5.0134153 0.0006525741\n",
      "input_heating 0.03376734\n",
      "This is commented out: dspec_dzp = - dxe_dzp * T / (1+x_e); need to put it back in\n",
      "box_ct = 0\n",
      "dzp = -1.134272e-01\n",
      "zp = 1.034277e+01\n",
      "dt_dzp = -1.889980e+15\n",
      "dadia_dzp * dzp = -1.002678e-01\n",
      "dspec_dzp * dzp = 0.000000e+00\n",
      "dcomp_dzp * dzp = 1.510434e-03\n",
      "dxheat_dzp * dzp = 0.000000e+00\n",
      "input heating = 3.376734e-02\n",
      "dxion_source = 0.000000e+00\n",
      "dxion_sink = 1.303142e-06\n",
      "T = 5.013416e+00\n",
      "alpha_A(T) = 5.145084e-11\n",
      "global_params.CLUMPING_FACTOR = 1.000000e+00\n",
      "x_e = 6.525742e-04\n",
      "f_H = 9.249617e-01\n",
      "prefactor_1 = 2.999448e-04\n",
      "curr_delNL0 = -5.303781e-07\n",
      "growth_factor_zp = 1.123814e-01\n",
      "input ionization = 5.404650e-07\n",
      "\n",
      "N_b0 = 2.055340e-07\n",
      "f_H = 9.249617e-01\n",
      "\n",
      "after 4.948426 0.00065181154\n",
      "----- DM21CM -----\n",
      "z 10.456198929046103\n",
      "[9.90418974e-10 1.51177818e-11 8.65296161e-10 5.13043902e-10\n",
      " 1.54546233e-10 5.15764255e-06]\n",
      "6.622107e-05\n",
      "2.372858e-06\n",
      "4.706616e-05\n",
      "4.0756102e-05\n",
      "-----------------\n",
      "i_z=139/204 z=10.46 bath.toteng=4.321e+00 eV/Bavg\n",
      "dt 214105584477259.38 219520564651221.75\n",
      "before 4.948426 0.00065181154\n",
      "input_heating 0.033834405\n",
      "This is commented out: dspec_dzp = - dxe_dzp * T / (1+x_e); need to put it back in\n",
      "box_ct = 0\n",
      "dzp = -1.123047e-01\n",
      "zp = 1.023047e+01\n",
      "dt_dzp = -1.937540e+15\n",
      "dadia_dzp * dzp = -9.896854e-02\n",
      "dspec_dzp * dzp = 0.000000e+00\n",
      "dcomp_dzp * dzp = 1.457900e-03\n",
      "dxheat_dzp * dzp = 0.000000e+00\n",
      "input heating = 3.383441e-02\n",
      "dxion_source = 0.000000e+00\n",
      "dxion_sink = 1.290400e-06\n",
      "T = 4.948426e+00\n",
      "alpha_A(T) = 5.183592e-11\n",
      "global_params.CLUMPING_FACTOR = 1.000000e+00\n",
      "x_e = 6.518115e-04\n",
      "f_H = 9.249617e-01\n",
      "prefactor_1 = 2.911235e-04\n",
      "curr_delNL0 = -5.251283e-07\n",
      "growth_factor_zp = 1.135049e-01\n",
      "input ionization = 5.414815e-07\n",
      "\n",
      "N_b0 = 2.055340e-07\n",
      "f_H = 9.249617e-01\n",
      "\n",
      "after 4.88475 0.0006510625\n",
      "----- DM21CM -----\n",
      "z 10.34277121687733\n",
      "[9.80887186e-10 1.49706761e-11 8.57051279e-10 5.08011684e-10\n",
      " 1.53077480e-10 5.10495114e-06]\n",
      "6.525684e-05\n",
      "2.3365174e-06\n",
      "4.6357898e-05\n",
      "4.0165825e-05\n",
      "-----------------\n",
      "i_z=140/204 z=10.34 bath.toteng=4.386e+00 eV/Bavg\n",
      "dt 217323272618642.72 223093055250567.53\n",
      "before 4.88475 0.0006510625\n",
      "input_heating 0.03390055\n",
      "This is commented out: dspec_dzp = - dxe_dzp * T / (1+x_e); need to put it back in\n",
      "box_ct = 0\n",
      "dzp = -1.111927e-01\n",
      "zp = 1.011927e+01\n",
      "dt_dzp = -1.986295e+15\n",
      "dadia_dzp * dzp = -9.769497e-02\n",
      "dspec_dzp * dzp = 0.000000e+00\n",
      "dcomp_dzp * dzp = 1.407184e-03\n",
      "dxheat_dzp * dzp = 0.000000e+00\n",
      "input heating = 3.390055e-02\n",
      "dxion_source = 0.000000e+00\n",
      "dxion_sink = 1.277751e-06\n",
      "T = 4.884750e+00\n",
      "alpha_A(T) = 5.222083e-11\n",
      "global_params.CLUMPING_FACTOR = 1.000000e+00\n",
      "x_e = 6.510626e-04\n",
      "f_H = 9.249617e-01\n",
      "prefactor_1 = 2.825616e-04\n",
      "curr_delNL0 = -5.199306e-07\n",
      "growth_factor_zp = 1.146396e-01\n",
      "input ionization = 5.424828e-07\n",
      "\n",
      "N_b0 = 2.055340e-07\n",
      "f_H = 9.249617e-01\n",
      "\n",
      "after 4.8223624 0.00065032736\n",
      "----- DM21CM -----\n",
      "z 10.230466551363692\n",
      "[9.71449255e-10 1.48249903e-11 8.48886626e-10 5.03032186e-10\n",
      " 1.51622675e-10 5.05278161e-06]\n",
      "6.433234e-05\n",
      "2.3015991e-06\n",
      "4.5678345e-05\n",
      "3.9599876e-05\n",
      "-----------------\n",
      "i_z=141/204 z=10.23 bath.toteng=4.452e+00 eV/Bavg\n",
      "dt 220589130457273.88 226630174655860.38\n",
      "before 4.8223624 0.00065032736\n",
      "input_heating 0.0339658\n",
      "This is commented out: dspec_dzp = - dxe_dzp * T / (1+x_e); need to put it back in\n",
      "box_ct = 0\n",
      "dzp = -1.100922e-01\n",
      "zp = 1.000918e+01\n",
      "dt_dzp = -2.036275e+15\n",
      "dadia_dzp * dzp = -9.644755e-02\n",
      "dspec_dzp * dzp = 0.000000e+00\n",
      "dcomp_dzp * dzp = 1.358234e-03\n",
      "dxheat_dzp * dzp = 0.000000e+00\n",
      "input heating = 3.396580e-02\n",
      "dxion_source = 0.000000e+00\n",
      "dxion_sink = 1.265205e-06\n",
      "T = 4.822362e+00\n",
      "alpha_A(T) = 5.260552e-11\n",
      "global_params.CLUMPING_FACTOR = 1.000000e+00\n",
      "x_e = 6.503274e-04\n",
      "f_H = 9.249617e-01\n",
      "prefactor_1 = 2.742514e-04\n",
      "curr_delNL0 = -5.147844e-07\n",
      "growth_factor_zp = 1.157856e-01\n",
      "input ionization = 5.434698e-07\n",
      "\n",
      "N_b0 = 2.055340e-07\n",
      "f_H = 9.249617e-01\n",
      "\n",
      "after 4.7612386 0.00064960576\n",
      "----- DM21CM -----\n",
      "z 10.119273813231379\n",
      "[9.62103988e-10 1.46807085e-11 8.40801521e-10 4.98104854e-10\n",
      " 1.50181656e-10 5.00112768e-06]\n",
      "6.344531e-05\n",
      "2.2680224e-06\n",
      "4.502587e-05\n",
      "3.905686e-05\n",
      "-----------------\n",
      "i_z=142/204 z=10.12 bath.toteng=4.519e+00 eV/Bavg\n",
      "dt 223903871848800.9 230132273076942.38\n",
      "before 4.7612386 0.00064960576\n",
      "input_heating 0.034030225\n",
      "This is commented out: dspec_dzp = - dxe_dzp * T / (1+x_e); need to put it back in\n",
      "box_ct = 0\n",
      "dzp = -1.090021e-01\n",
      "zp = 9.900180e+00\n",
      "dt_dzp = -2.087512e+15\n",
      "dadia_dzp * dzp = -9.522506e-02\n",
      "dspec_dzp * dzp = 0.000000e+00\n",
      "dcomp_dzp * dzp = 1.310980e-03\n",
      "dxheat_dzp * dzp = 0.000000e+00\n",
      "input heating = 3.403023e-02\n",
      "dxion_source = 0.000000e+00\n",
      "dxion_sink = 1.252752e-06\n",
      "T = 4.761239e+00\n",
      "alpha_A(T) = 5.298991e-11\n",
      "global_params.CLUMPING_FACTOR = 1.000000e+00\n",
      "x_e = 6.496056e-04\n",
      "f_H = 9.249617e-01\n",
      "prefactor_1 = 2.661857e-04\n",
      "curr_delNL0 = -5.096894e-07\n",
      "growth_factor_zp = 1.169431e-01\n",
      "input ionization = 5.444434e-07\n",
      "\n",
      "N_b0 = 2.055340e-07\n",
      "f_H = 9.249617e-01\n",
      "\n",
      "after 4.701355 0.00064889726\n",
      "----- DM21CM -----\n",
      "z 10.009181993298395\n",
      "[9.52850703e-10 1.45378200e-11 8.32795027e-10 4.93229049e-10\n",
      " 1.48754328e-10 4.94998587e-06]\n",
      "6.2593506e-05\n",
      "2.2357094e-06\n",
      "4.4398883e-05\n",
      "3.8535465e-05\n",
      "-----------------\n",
      "i_z=143/204 z=10.01 bath.toteng=4.587e+00 eV/Bavg\n",
      "dt 227268220901818.7 233599697256231.5\n",
      "before 4.701355 0.00064889726\n",
      "input_heating 0.034093864\n",
      "This is commented out: dspec_dzp = - dxe_dzp * T / (1+x_e); need to put it back in\n",
      "box_ct = 0\n",
      "dzp = -1.079226e-01\n",
      "zp = 9.792257e+00\n",
      "dt_dzp = -2.140036e+15\n",
      "dadia_dzp * dzp = -9.402708e-02\n",
      "dspec_dzp * dzp = 0.000000e+00\n",
      "dcomp_dzp * dzp = 1.265364e-03\n",
      "dxheat_dzp * dzp = 0.000000e+00\n",
      "input heating = 3.409387e-02\n",
      "dxion_source = 0.000000e+00\n",
      "dxion_sink = 1.240392e-06\n",
      "T = 4.701355e+00\n",
      "alpha_A(T) = 5.337393e-11\n",
      "global_params.CLUMPING_FACTOR = 1.000000e+00\n",
      "x_e = 6.488973e-04\n",
      "f_H = 9.249617e-01\n",
      "prefactor_1 = 2.583572e-04\n",
      "curr_delNL0 = -5.046450e-07\n",
      "growth_factor_zp = 1.181120e-01\n",
      "input ionization = 5.454041e-07\n",
      "\n",
      "N_b0 = 2.055340e-07\n",
      "f_H = 9.249617e-01\n",
      "\n",
      "after 4.6426873 0.0006482023\n",
      "----- DM21CM -----\n",
      "z 9.90018019138455\n",
      "[9.43688294e-10 1.43963128e-11 8.24866634e-10 4.88404389e-10\n",
      " 1.47340563e-10 4.89935059e-06]\n",
      "6.177505e-05\n",
      "2.204591e-06\n",
      "4.3795964e-05\n",
      "3.8034468e-05\n",
      "-----------------\n",
      "i_z=144/204 z=9.90 bath.toteng=4.656e+00 eV/Bavg\n",
      "dt 230682912110154.12 237032790503052.4\n",
      "before 4.6426873 0.0006482023\n",
      "input_heating 0.034156747\n",
      "This is commented out: dspec_dzp = - dxe_dzp * T / (1+x_e); need to put it back in\n",
      "box_ct = 0\n",
      "dzp = -1.068535e-01\n",
      "zp = 9.685404e+00\n",
      "dt_dzp = -2.193880e+15\n",
      "dadia_dzp * dzp = -9.285327e-02\n",
      "dspec_dzp * dzp = 0.000000e+00\n",
      "dcomp_dzp * dzp = 1.221330e-03\n",
      "dxheat_dzp * dzp = 0.000000e+00\n",
      "input heating = 3.415675e-02\n",
      "dxion_source = 0.000000e+00\n",
      "dxion_sink = 1.228124e-06\n",
      "T = 4.642687e+00\n",
      "alpha_A(T) = 5.375753e-11\n",
      "global_params.CLUMPING_FACTOR = 1.000000e+00\n",
      "x_e = 6.482023e-04\n",
      "f_H = 9.249617e-01\n",
      "prefactor_1 = 2.507590e-04\n",
      "curr_delNL0 = -4.996507e-07\n",
      "growth_factor_zp = 1.192926e-01\n",
      "input ionization = 5.463523e-07\n",
      "\n",
      "N_b0 = 2.055340e-07\n",
      "f_H = 9.249617e-01\n",
      "\n",
      "after 4.585212 0.0006475206\n",
      "----- DM21CM -----\n",
      "z 9.792257615232227\n",
      "[9.34616078e-10 1.42561723e-11 8.17015488e-10 4.83630191e-10\n",
      " 1.45940233e-10 4.84921627e-06]\n",
      "6.0988023e-05\n",
      "2.174597e-06\n",
      "4.3215758e-05\n",
      "3.7552723e-05\n",
      "-----------------\n",
      "i_z=145/204 z=9.79 bath.toteng=4.726e+00 eV/Bavg\n",
      "dt 234148690486127.22 240431892727627.6\n",
      "before 4.585212 0.0006475206\n",
      "input_heating 0.0342189\n",
      "This is commented out: dspec_dzp = - dxe_dzp * T / (1+x_e); need to put it back in\n",
      "box_ct = 0\n",
      "dzp = -1.057959e-01\n",
      "zp = 9.579608e+00\n",
      "dt_dzp = -2.249077e+15\n",
      "dadia_dzp * dzp = -9.170406e-02\n",
      "dspec_dzp * dzp = 0.000000e+00\n",
      "dcomp_dzp * dzp = 1.178835e-03\n",
      "dxheat_dzp * dzp = 0.000000e+00\n",
      "input heating = 3.421890e-02\n",
      "dxion_source = 0.000000e+00\n",
      "dxion_sink = 1.215961e-06\n",
      "T = 4.585212e+00\n",
      "alpha_A(T) = 5.414063e-11\n",
      "global_params.CLUMPING_FACTOR = 1.000000e+00\n",
      "x_e = 6.475205e-04\n",
      "f_H = 9.249617e-01\n",
      "prefactor_1 = 2.433843e-04\n",
      "curr_delNL0 = -4.947059e-07\n",
      "growth_factor_zp = 1.204850e-01\n",
      "input ionization = 5.472885e-07\n",
      "\n",
      "N_b0 = 2.055340e-07\n",
      "f_H = 9.249617e-01\n",
      "\n",
      "after 4.528907 0.0006468519\n",
      "----- DM21CM -----\n",
      "z 9.685403579437848\n",
      "[9.25633035e-10 1.41173866e-11 8.09240910e-10 4.78905945e-10\n",
      " 1.44553222e-10 4.79957941e-06]\n",
      "6.0230683e-05\n",
      "2.1456672e-06\n",
      "4.2657004e-05\n",
      "3.7089176e-05\n",
      "-----------------\n",
      "i_z=146/204 z=9.69 bath.toteng=4.797e+00 eV/Bavg\n",
      "dt 237666311694800.3 243797340474731.72\n",
      "before 4.528907 0.0006468519\n",
      "input_heating 0.034280308\n",
      "This is commented out: dspec_dzp = - dxe_dzp * T / (1+x_e); need to put it back in\n",
      "box_ct = 0\n",
      "dzp = -1.047487e-01\n",
      "zp = 9.474859e+00\n",
      "dt_dzp = -2.305661e+15\n",
      "dadia_dzp * dzp = -9.057823e-02\n",
      "dspec_dzp * dzp = 0.000000e+00\n",
      "dcomp_dzp * dzp = 1.137817e-03\n",
      "dxheat_dzp * dzp = 0.000000e+00\n",
      "input heating = 3.428031e-02\n",
      "dxion_source = 0.000000e+00\n",
      "dxion_sink = 1.203890e-06\n",
      "T = 4.528906e+00\n",
      "alpha_A(T) = 5.452317e-11\n",
      "global_params.CLUMPING_FACTOR = 1.000000e+00\n",
      "x_e = 6.468518e-04\n",
      "f_H = 9.249617e-01\n",
      "prefactor_1 = 2.362264e-04\n",
      "curr_delNL0 = -4.898103e-07\n",
      "growth_factor_zp = 1.216892e-01\n",
      "input ionization = 5.482127e-07\n",
      "\n",
      "N_b0 = 2.055340e-07\n",
      "f_H = 9.249617e-01\n",
      "\n",
      "after 4.4737463 0.00064619625\n",
      "----- DM21CM -----\n",
      "z 9.579607504393909\n",
      "[9.16738483e-10 1.39799422e-11 8.01542132e-10 4.74231054e-10\n",
      " 1.43179412e-10 4.75043303e-06]\n",
      "5.950142e-05\n",
      "2.1177434e-06\n",
      "4.2118565e-05\n",
      "3.6642843e-05\n",
      "-----------------\n",
      "i_z=147/204 z=9.58 bath.toteng=4.869e+00 eV/Bavg\n",
      "dt 241236542189167.66 247129466957013.03\n",
      "before 4.4737463 0.00064619625\n",
      "input_heating 0.034341\n",
      "This is commented out: dspec_dzp = - dxe_dzp * T / (1+x_e); need to put it back in\n",
      "box_ct = 0\n",
      "dzp = -1.037121e-01\n",
      "zp = 9.371147e+00\n",
      "dt_dzp = -2.363666e+15\n",
      "dadia_dzp * dzp = -8.947544e-02\n",
      "dspec_dzp * dzp = 0.000000e+00\n",
      "dcomp_dzp * dzp = 1.098224e-03\n",
      "dxheat_dzp * dzp = 0.000000e+00\n",
      "input heating = 3.434100e-02\n",
      "dxion_source = 0.000000e+00\n",
      "dxion_sink = 1.191914e-06\n",
      "T = 4.473746e+00\n",
      "alpha_A(T) = 5.490509e-11\n",
      "global_params.CLUMPING_FACTOR = 1.000000e+00\n",
      "x_e = 6.461962e-04\n",
      "f_H = 9.249617e-01\n",
      "prefactor_1 = 2.292789e-04\n",
      "curr_delNL0 = -4.849633e-07\n",
      "growth_factor_zp = 1.229055e-01\n",
      "input ionization = 5.491250e-07\n",
      "\n",
      "N_b0 = 2.055340e-07\n",
      "f_H = 9.249617e-01\n",
      "\n",
      "after 4.419709 0.0006455534\n",
      "----- DM21CM -----\n",
      "z 9.474858915241494\n",
      "[9.07931314e-10 1.38438287e-11 7.93918303e-10 4.69604838e-10\n",
      " 1.41818665e-10 4.70177366e-06]\n",
      "5.8798723e-05\n",
      "2.0907696e-06\n",
      "4.1599294e-05\n",
      "3.621276e-05\n",
      "-----------------\n",
      "i_z=148/204 z=9.47 bath.toteng=4.942e+00 eV/Bavg\n",
      "dt 244860159346186.34 250428602087984.62\n",
      "before 4.419709 0.0006455534\n",
      "input_heating 0.03440097\n",
      "This is commented out: dspec_dzp = - dxe_dzp * T / (1+x_e); need to put it back in\n",
      "box_ct = 0\n",
      "dzp = -1.026840e-01\n",
      "zp = 9.268463e+00\n",
      "dt_dzp = -2.423128e+15\n",
      "dadia_dzp * dzp = -8.839367e-02\n",
      "dspec_dzp * dzp = 0.000000e+00\n",
      "dcomp_dzp * dzp = 1.059989e-03\n",
      "dxheat_dzp * dzp = 0.000000e+00\n",
      "input heating = 3.440097e-02\n",
      "dxion_source = 0.000000e+00\n",
      "dxion_sink = 1.180008e-06\n",
      "T = 4.419710e+00\n",
      "alpha_A(T) = 5.528631e-11\n",
      "global_params.CLUMPING_FACTOR = 1.000000e+00\n",
      "x_e = 6.455534e-04\n",
      "f_H = 9.249617e-01\n",
      "prefactor_1 = 2.225359e-04\n",
      "curr_delNL0 = -4.801645e-07\n",
      "growth_factor_zp = 1.241338e-01\n",
      "input ionization = 5.500254e-07\n",
      "\n",
      "N_b0 = 2.055340e-07\n",
      "f_H = 9.249617e-01\n",
      "\n",
      "after 4.3667765 0.0006449233\n",
      "----- DM21CM -----\n",
      "z 9.371147440833163\n",
      "[8.99210677e-10 1.37090272e-11 7.86368741e-10 4.65026997e-10\n",
      " 1.40470885e-10 4.65359570e-06]\n",
      "5.8121175e-05\n",
      "2.0646946e-06\n",
      "4.109817e-05\n",
      "3.57981e-05\n",
      "-----------------\n",
      "i_z=149/204 z=9.37 bath.toteng=5.017e+00 eV/Bavg\n",
      "dt 248537951603835.1 253695072514689.2\n",
      "before 4.3667765 0.0006449233\n",
      "input_heating 0.034460213\n",
      "This is commented out: dspec_dzp = - dxe_dzp * T / (1+x_e); need to put it back in\n",
      "box_ct = 0\n",
      "dzp = -1.016684e-01\n",
      "zp = 9.166795e+00\n",
      "dt_dzp = -2.484084e+15\n",
      "dadia_dzp * dzp = -8.733589e-02\n",
      "dspec_dzp * dzp = 0.000000e+00\n",
      "dcomp_dzp * dzp = 1.023105e-03\n",
      "dxheat_dzp * dzp = 0.000000e+00\n",
      "input heating = 3.446021e-02\n",
      "dxion_source = 0.000000e+00\n",
      "dxion_sink = 1.168219e-06\n",
      "T = 4.366777e+00\n",
      "alpha_A(T) = 5.566677e-11\n",
      "global_params.CLUMPING_FACTOR = 1.000000e+00\n",
      "x_e = 6.449234e-04\n",
      "f_H = 9.249617e-01\n",
      "prefactor_1 = 2.159911e-04\n",
      "curr_delNL0 = -4.754132e-07\n",
      "growth_factor_zp = 1.253744e-01\n",
      "input ionization = 5.509144e-07\n",
      "\n",
      "N_b0 = 2.055340e-07\n",
      "f_H = 9.249617e-01\n",
      "\n",
      "after 4.314925 0.00064430607\n",
      "----- DM21CM -----\n",
      "z 9.268462812706101\n",
      "[8.90576061e-10 1.35755326e-11 7.78893107e-10 4.60496979e-10\n",
      " 1.39135933e-10 4.60589497e-06]\n",
      "5.7467478e-05\n",
      "2.0394725e-06\n",
      "4.0614297e-05\n",
      "3.539804e-05\n",
      "-----------------\n",
      "i_z=150/204 z=9.27 bath.toteng=5.092e+00 eV/Bavg\n",
      "dt 252270718598784.75 256929201650040.25\n",
      "before 4.314925 0.00064430607\n",
      "input_heating 0.03451874\n",
      "This is commented out: dspec_dzp = - dxe_dzp * T / (1+x_e); need to put it back in\n",
      "box_ct = 0\n",
      "dzp = -1.006613e-01\n",
      "zp = 9.066133e+00\n",
      "dt_dzp = -2.546571e+15\n",
      "dadia_dzp * dzp = -8.629844e-02\n",
      "dspec_dzp * dzp = 0.000000e+00\n",
      "dcomp_dzp * dzp = 9.874880e-04\n",
      "dxheat_dzp * dzp = 0.000000e+00\n",
      "input heating = 3.451874e-02\n",
      "dxion_source = 0.000000e+00\n",
      "dxion_sink = 1.156501e-06\n",
      "T = 4.314924e+00\n",
      "alpha_A(T) = 5.604641e-11\n",
      "global_params.CLUMPING_FACTOR = 1.000000e+00\n",
      "x_e = 6.443061e-04\n",
      "f_H = 9.249617e-01\n",
      "prefactor_1 = 2.096389e-04\n",
      "curr_delNL0 = -4.707093e-07\n",
      "growth_factor_zp = 1.266273e-01\n",
      "input ionization = 5.517912e-07\n",
      "\n",
      "N_b0 = 2.055340e-07\n",
      "f_H = 9.249617e-01\n",
      "\n",
      "after 4.2641325 0.00064370135\n",
      "----- DM21CM -----\n",
      "z 9.166794864065446\n",
      "[8.82026188e-10 1.34433288e-11 7.71490206e-10 4.56014060e-10\n",
      " 1.37813715e-10 4.55866659e-06]\n",
      "5.683637e-05\n",
      "2.015056e-06\n",
      "4.01467e-05\n",
      "3.5011813e-05\n",
      "-----------------\n",
      "i_z=151/204 z=9.17 bath.toteng=5.169e+00 eV/Bavg\n",
      "dt 256059271305014.47 260131309704843.25\n",
      "before 4.2641325 0.00064370135\n",
      "input_heating 0.03457654\n",
      "This is commented out: dspec_dzp = - dxe_dzp * T / (1+x_e); need to put it back in\n",
      "box_ct = 0\n",
      "dzp = -9.966469e-02\n",
      "zp = 8.966469e+00\n",
      "dt_dzp = -2.610628e+15\n",
      "dadia_dzp * dzp = -8.528264e-02\n",
      "dspec_dzp * dzp = 0.000000e+00\n",
      "dcomp_dzp * dzp = 9.531128e-04\n",
      "dxheat_dzp * dzp = 0.000000e+00\n",
      "input heating = 3.457654e-02\n",
      "dxion_source = 0.000000e+00\n",
      "dxion_sink = 1.144878e-06\n",
      "T = 4.264132e+00\n",
      "alpha_A(T) = 5.642516e-11\n",
      "global_params.CLUMPING_FACTOR = 1.000000e+00\n",
      "x_e = 6.437014e-04\n",
      "f_H = 9.249617e-01\n",
      "prefactor_1 = 2.034734e-04\n",
      "curr_delNL0 = -4.660520e-07\n",
      "growth_factor_zp = 1.278927e-01\n",
      "input ionization = 5.526563e-07\n",
      "\n",
      "N_b0 = 2.055340e-07\n",
      "f_H = 9.249617e-01\n",
      "\n",
      "after 4.214379 0.0006431091\n",
      "----- DM21CM -----\n",
      "z 9.06613352877767\n",
      "[8.73560547e-10 1.33124079e-11 7.64159529e-10 4.51577983e-10\n",
      " 1.36504112e-10 4.51190602e-06]\n",
      "5.622671e-05\n",
      "1.9914057e-06\n",
      "3.9694587e-05\n",
      "3.463873e-05\n",
      "-----------------\n",
      "i_z=152/204 z=9.07 bath.toteng=5.247e+00 eV/Bavg\n",
      "dt 259904432173107.84 263301713719499.72\n",
      "before 4.214379 0.0006431091\n",
      "input_heating 0.03463361\n",
      "This is commented out: dspec_dzp = - dxe_dzp * T / (1+x_e); need to put it back in\n",
      "box_ct = 0\n",
      "dzp = -9.867764e-02\n",
      "zp = 8.867791e+00\n",
      "dt_dzp = -2.676292e+15\n",
      "dadia_dzp * dzp = -8.428734e-02\n",
      "dspec_dzp * dzp = 0.000000e+00\n",
      "dcomp_dzp * dzp = 9.199286e-04\n",
      "dxheat_dzp * dzp = 0.000000e+00\n",
      "input heating = 3.463361e-02\n",
      "dxion_source = 0.000000e+00\n",
      "dxion_sink = 1.133339e-06\n",
      "T = 4.214379e+00\n",
      "alpha_A(T) = 5.680294e-11\n",
      "global_params.CLUMPING_FACTOR = 1.000000e+00\n",
      "x_e = 6.431092e-04\n",
      "f_H = 9.249617e-01\n",
      "prefactor_1 = 1.974893e-04\n",
      "curr_delNL0 = -4.614410e-07\n",
      "growth_factor_zp = 1.291707e-01\n",
      "input ionization = 5.535093e-07\n",
      "\n",
      "N_b0 = 2.055340e-07\n",
      "f_H = 9.249617e-01\n",
      "\n",
      "after 4.165645 0.0006425294\n",
      "----- DM21CM -----\n",
      "z 8.96646884037393\n",
      "[8.65178117e-10 1.31827512e-11 7.56900395e-10 4.47188026e-10\n",
      " 1.35206986e-10 4.46560803e-06]\n",
      "5.5637393e-05\n",
      "1.9684803e-06\n",
      "3.9257175e-05\n",
      "3.427813e-05\n",
      "-----------------\n",
      "i_z=153/204 z=8.97 bath.toteng=5.326e+00 eV/Bavg\n",
      "dt 263807035270267.16 266440727595397.16\n",
      "before 4.165645 0.0006425294\n",
      "input_heating 0.03468991\n",
      "This is commented out: dspec_dzp = - dxe_dzp * T / (1+x_e); need to put it back in\n",
      "box_ct = 0\n",
      "dzp = -9.770107e-02\n",
      "zp = 8.770090e+00\n",
      "dt_dzp = -2.743606e+15\n",
      "dadia_dzp * dzp = -8.331305e-02\n",
      "dspec_dzp * dzp = 0.000000e+00\n",
      "dcomp_dzp * dzp = 8.879036e-04\n",
      "dxheat_dzp * dzp = 0.000000e+00\n",
      "input heating = 3.468992e-02\n",
      "dxion_source = 0.000000e+00\n",
      "dxion_sink = 1.121895e-06\n",
      "T = 4.165645e+00\n",
      "alpha_A(T) = 5.717970e-11\n",
      "global_params.CLUMPING_FACTOR = 1.000000e+00\n",
      "x_e = 6.425294e-04\n",
      "f_H = 9.249617e-01\n",
      "prefactor_1 = 1.916812e-04\n",
      "curr_delNL0 = -4.568758e-07\n",
      "growth_factor_zp = 1.304614e-01\n",
      "input ionization = 5.543502e-07\n",
      "\n",
      "N_b0 = 2.055340e-07\n",
      "f_H = 9.249617e-01\n",
      "\n",
      "after 4.1179094 0.0006419619\n",
      "----- DM21CM -----\n",
      "z 8.867790931063297\n",
      "[8.56878301e-10 1.30543535e-11 7.49712206e-10 4.42843762e-10\n",
      " 1.33922252e-10 4.41976913e-06]\n",
      "5.506745e-05\n",
      "1.946244e-06\n",
      "3.883371e-05\n",
      "3.3929373e-05\n",
      "-----------------\n",
      "i_z=154/204 z=8.87 bath.toteng=5.406e+00 eV/Bavg\n",
      "dt 267767926420895.2 269548662125988.72\n",
      "before 4.1179094 0.0006419619\n",
      "input_heating 0.034745477\n",
      "This is commented out: dspec_dzp = - dxe_dzp * T / (1+x_e); need to put it back in\n",
      "box_ct = 0\n",
      "dzp = -9.673405e-02\n",
      "zp = 8.673356e+00\n",
      "dt_dzp = -2.812610e+15\n",
      "dadia_dzp * dzp = -8.235861e-02\n",
      "dspec_dzp * dzp = 0.000000e+00\n",
      "dcomp_dzp * dzp = 8.569896e-04\n",
      "dxheat_dzp * dzp = 0.000000e+00\n",
      "input heating = 3.474547e-02\n",
      "dxion_source = 0.000000e+00\n",
      "dxion_sink = 1.110535e-06\n",
      "T = 4.117910e+00\n",
      "alpha_A(T) = 5.755538e-11\n",
      "global_params.CLUMPING_FACTOR = 1.000000e+00\n",
      "x_e = 6.419619e-04\n",
      "f_H = 9.249617e-01\n",
      "prefactor_1 = 1.860438e-04\n",
      "curr_delNL0 = -4.523559e-07\n",
      "growth_factor_zp = 1.317649e-01\n",
      "input ionization = 5.551786e-07\n",
      "\n",
      "N_b0 = 2.055340e-07\n",
      "f_H = 9.249617e-01\n",
      "\n",
      "after 4.0711527 0.0006414065\n",
      "----- DM21CM -----\n",
      "z 8.770090030755739\n",
      "[8.48660076e-10 1.29271973e-11 7.42594111e-10 4.38544722e-10\n",
      " 1.32649804e-10 4.37438374e-06]\n",
      "5.4515876e-05\n",
      "1.924662e-06\n",
      "3.8423517e-05\n",
      "3.3591874e-05\n",
      "-----------------\n",
      "i_z=155/204 z=8.77 bath.toteng=5.487e+00 eV/Bavg\n",
      "dt 271787963347856.78 274357192712789.34\n",
      "before 4.0711527 0.0006414065\n",
      "input_heating 0.03482255\n",
      "This is commented out: dspec_dzp = - dxe_dzp * T / (1+x_e); need to put it back in\n",
      "box_ct = 0\n",
      "dzp = -9.577560e-02\n",
      "zp = 8.577580e+00\n",
      "dt_dzp = -2.883346e+15\n",
      "dadia_dzp * dzp = -8.142290e-02\n",
      "dspec_dzp * dzp = 0.000000e+00\n",
      "dcomp_dzp * dzp = 8.271410e-04\n",
      "dxheat_dzp * dzp = 0.000000e+00\n",
      "input heating = 3.482255e-02\n",
      "dxion_source = 0.000000e+00\n",
      "dxion_sink = 1.099249e-06\n",
      "T = 4.071154e+00\n",
      "alpha_A(T) = 5.792991e-11\n",
      "global_params.CLUMPING_FACTOR = 1.000000e+00\n",
      "x_e = 6.414065e-04\n",
      "f_H = 9.249617e-01\n",
      "prefactor_1 = 1.805723e-04\n",
      "curr_delNL0 = -4.478811e-07\n",
      "growth_factor_zp = 1.330814e-01\n",
      "input ionization = 5.563551e-07\n",
      "\n",
      "N_b0 = 2.055340e-07\n",
      "f_H = 9.249617e-01\n",
      "\n",
      "after 4.02538 0.0006408636\n",
      "----- DM21CM -----\n",
      "z 8.673356466094791\n",
      "[8.40428140e-10 1.28003911e-11 7.35454468e-10 4.34239381e-10\n",
      " 1.31374407e-10 4.32949616e-06]\n",
      "5.36755e-05\n",
      "1.893357e-06\n",
      "3.7813228e-05\n",
      "3.3076325e-05\n",
      "-----------------\n",
      "i_z=156/204 z=8.67 bath.toteng=5.570e+00 eV/Bavg\n",
      "dt 275868015814195.9 280015867343937.4\n",
      "before 4.02538 0.0006408636\n",
      "input_heating 0.03491092\n",
      "This is commented out: dspec_dzp = - dxe_dzp * T / (1+x_e); need to put it back in\n",
      "box_ct = 0\n",
      "dzp = -9.482765e-02\n",
      "zp = 8.482753e+00\n",
      "dt_dzp = -2.955858e+15\n",
      "dadia_dzp * dzp = -8.050772e-02\n",
      "dspec_dzp * dzp = 0.000000e+00\n",
      "dcomp_dzp * dzp = 7.983372e-04\n",
      "dxheat_dzp * dzp = 0.000000e+00\n",
      "input heating = 3.491092e-02\n",
      "dxion_source = 0.000000e+00\n",
      "dxion_sink = 1.088057e-06\n",
      "T = 4.025381e+00\n",
      "alpha_A(T) = 5.830303e-11\n",
      "global_params.CLUMPING_FACTOR = 1.000000e+00\n",
      "x_e = 6.408636e-04\n",
      "f_H = 9.249617e-01\n",
      "prefactor_1 = 1.752617e-04\n",
      "curr_delNL0 = -4.434506e-07\n",
      "growth_factor_zp = 1.344110e-01\n",
      "input ionization = 5.577150e-07\n",
      "\n",
      "N_b0 = 2.055340e-07\n",
      "f_H = 9.249617e-01\n",
      "\n",
      "after 3.980583 0.0006403333\n",
      "----- DM21CM -----\n",
      "z 8.577580659499793\n",
      "[8.32228227e-10 1.26743581e-11 7.28337396e-10 4.29952478e-10\n",
      " 1.30103397e-10 4.28507884e-06]\n",
      "5.2720705e-05\n",
      "1.8582555e-06\n",
      "3.7124384e-05\n",
      "3.2490163e-05\n",
      "-----------------\n",
      "i_z=157/204 z=8.58 bath.toteng=5.653e+00 eV/Bavg\n",
      "dt 280008965765378.1 285618515493588.9\n",
      "before 3.980583 0.0006403333\n",
      "input_heating 0.03499669\n",
      "This is commented out: dspec_dzp = - dxe_dzp * T / (1+x_e); need to put it back in\n",
      "box_ct = 0\n",
      "dzp = -9.388828e-02\n",
      "zp = 8.388865e+00\n",
      "dt_dzp = -3.030190e+15\n",
      "dadia_dzp * dzp = -7.961134e-02\n",
      "dspec_dzp * dzp = 0.000000e+00\n",
      "dcomp_dzp * dzp = 7.705270e-04\n",
      "dxheat_dzp * dzp = 0.000000e+00\n",
      "input heating = 3.499669e-02\n",
      "dxion_source = 0.000000e+00\n",
      "dxion_sink = 1.076937e-06\n",
      "T = 3.980582e+00\n",
      "alpha_A(T) = 5.867459e-11\n",
      "global_params.CLUMPING_FACTOR = 1.000000e+00\n",
      "x_e = 6.403333e-04\n",
      "f_H = 9.249617e-01\n",
      "prefactor_1 = 1.701073e-04\n",
      "curr_delNL0 = -4.390642e-07\n",
      "growth_factor_zp = 1.357538e-01\n",
      "input ionization = 5.590327e-07\n",
      "\n",
      "N_b0 = 2.055340e-07\n",
      "f_H = 9.249617e-01\n",
      "\n",
      "after 3.9367373 0.00063981523\n",
      "----- DM21CM -----\n",
      "z 8.482753128217617\n",
      "[8.24108969e-10 1.25495454e-11 7.21289821e-10 4.25710034e-10\n",
      " 1.28844533e-10 4.24110176e-06]\n",
      "5.181007e-05\n",
      "1.8247e-06\n",
      "3.646687e-05\n",
      "3.193109e-05\n",
      "-----------------\n",
      "i_z=158/204 z=8.48 bath.toteng=5.738e+00 eV/Bavg\n",
      "dt 284211707471788.8 291165691879382.5\n",
      "before 3.9367373 0.00063981523\n",
      "input_heating 0.035079625\n",
      "This is commented out: dspec_dzp = - dxe_dzp * T / (1+x_e); need to put it back in\n",
      "box_ct = 0\n",
      "dzp = -9.295940e-02\n",
      "zp = 8.295905e+00\n",
      "dt_dzp = -3.106388e+15\n",
      "dadia_dzp * dzp = -7.873506e-02\n",
      "dspec_dzp * dzp = 0.000000e+00\n",
      "dcomp_dzp * dzp = 7.436916e-04\n",
      "dxheat_dzp * dzp = 0.000000e+00\n",
      "input heating = 3.507962e-02\n",
      "dxion_source = 0.000000e+00\n",
      "dxion_sink = 1.065910e-06\n",
      "T = 3.936738e+00\n",
      "alpha_A(T) = 5.904452e-11\n",
      "global_params.CLUMPING_FACTOR = 1.000000e+00\n",
      "x_e = 6.398153e-04\n",
      "f_H = 9.249617e-01\n",
      "prefactor_1 = 1.651045e-04\n",
      "curr_delNL0 = -4.347214e-07\n",
      "growth_factor_zp = 1.371100e-01\n",
      "input ionization = 5.603051e-07\n",
      "\n",
      "N_b0 = 2.055340e-07\n",
      "f_H = 9.249617e-01\n",
      "\n",
      "after 3.8938258 0.00063930976\n",
      "----- DM21CM -----\n",
      "z 8.388864483383779\n",
      "[8.16069600e-10 1.24259411e-11 7.14310978e-10 4.21511877e-10\n",
      " 1.27597700e-10 4.19756006e-06]\n",
      "5.094011e-05\n",
      "1.7925739e-06\n",
      "3.5838282e-05\n",
      "3.1396965e-05\n",
      "-----------------\n",
      "i_z=159/204 z=8.39 bath.toteng=5.825e+00 eV/Bavg\n",
      "dt 288477147671750.44 296657945726702.8\n",
      "before 3.8938258 0.00063930976\n",
      "input_heating 0.035160508\n",
      "This is commented out: dspec_dzp = - dxe_dzp * T / (1+x_e); need to put it back in\n",
      "box_ct = 0\n",
      "dzp = -9.203815e-02\n",
      "zp = 8.203867e+00\n",
      "dt_dzp = -3.184497e+15\n",
      "dadia_dzp * dzp = -7.787609e-02\n",
      "dspec_dzp * dzp = 0.000000e+00\n",
      "dcomp_dzp * dzp = 7.177759e-04\n",
      "dxheat_dzp * dzp = 0.000000e+00\n",
      "input heating = 3.516050e-02\n",
      "dxion_source = 0.000000e+00\n",
      "dxion_sink = 1.054945e-06\n",
      "T = 3.893826e+00\n",
      "alpha_A(T) = 5.941278e-11\n",
      "global_params.CLUMPING_FACTOR = 1.000000e+00\n",
      "x_e = 6.393098e-04\n",
      "f_H = 9.249617e-01\n",
      "prefactor_1 = 1.602488e-04\n",
      "curr_delNL0 = -4.304217e-07\n",
      "growth_factor_zp = 1.384796e-01\n",
      "input ionization = 5.615445e-07\n",
      "\n",
      "N_b0 = 2.055340e-07\n",
      "f_H = 9.249617e-01\n",
      "\n",
      "after 3.8518288 0.0006388164\n",
      "----- DM21CM -----\n",
      "z 8.295905429092851\n",
      "[8.08109353e-10 1.23035371e-11 7.07400312e-10 4.17357157e-10\n",
      " 1.26362790e-10 4.15444849e-06]\n",
      "5.010908e-05\n",
      "1.7618219e-06\n",
      "3.52374e-05\n",
      "3.088675e-05\n",
      "-----------------\n",
      "i_z=160/204 z=8.30 bath.toteng=5.912e+00 eV/Bavg\n",
      "dt 292806205714675.4 302095820823059.56\n",
      "before 3.8518288 0.0006388164\n",
      "input_heating 0.03523985\n",
      "This is commented out: dspec_dzp = - dxe_dzp * T / (1+x_e); need to put it back in\n",
      "box_ct = 0\n",
      "dzp = -9.112740e-02\n",
      "zp = 8.112740e+00\n",
      "dt_dzp = -3.264566e+15\n",
      "dadia_dzp * dzp = -7.703657e-02\n",
      "dspec_dzp * dzp = 0.000000e+00\n",
      "dcomp_dzp * dzp = 6.927705e-04\n",
      "dxheat_dzp * dzp = 0.000000e+00\n",
      "input heating = 3.523985e-02\n",
      "dxion_source = 0.000000e+00\n",
      "dxion_sink = 1.044075e-06\n",
      "T = 3.851828e+00\n",
      "alpha_A(T) = 5.977931e-11\n",
      "global_params.CLUMPING_FACTOR = 1.000000e+00\n",
      "x_e = 6.388163e-04\n",
      "f_H = 9.249617e-01\n",
      "prefactor_1 = 1.555359e-04\n",
      "curr_delNL0 = -4.261648e-07\n",
      "growth_factor_zp = 1.398629e-01\n",
      "input ionization = 5.627590e-07\n",
      "\n",
      "N_b0 = 2.055340e-07\n",
      "f_H = 9.249617e-01\n",
      "\n",
      "after 3.8107252 0.000638335\n",
      "----- DM21CM -----\n",
      "z 8.203866761478071\n",
      "[8.00227546e-10 1.21823201e-11 7.00557271e-10 4.13245617e-10\n",
      " 1.25139719e-10 4.11176496e-06]\n",
      "4.931499e-05\n",
      "1.7323758e-06\n",
      "3.4662844e-05\n",
      "3.0399227e-05\n",
      "-----------------\n",
      "i_z=161/204 z=8.20 bath.toteng=6.001e+00 eV/Bavg\n",
      "dt 297199813704283.1 307479855571927.7\n",
      "before 3.8107252 0.000638335\n",
      "input_heating 0.03531793\n",
      "This is commented out: dspec_dzp = - dxe_dzp * T / (1+x_e); need to put it back in\n",
      "box_ct = 0\n",
      "dzp = -9.022522e-02\n",
      "zp = 8.022514e+00\n",
      "dt_dzp = -3.346645e+15\n",
      "dadia_dzp * dzp = -7.621456e-02\n",
      "dspec_dzp * dzp = 0.000000e+00\n",
      "dcomp_dzp * dzp = 6.686300e-04\n",
      "dxheat_dzp * dzp = 0.000000e+00\n",
      "input heating = 3.531794e-02\n",
      "dxion_source = 0.000000e+00\n",
      "dxion_sink = 1.033279e-06\n",
      "T = 3.810724e+00\n",
      "alpha_A(T) = 6.014403e-11\n",
      "global_params.CLUMPING_FACTOR = 1.000000e+00\n",
      "x_e = 6.383350e-04\n",
      "f_H = 9.249617e-01\n",
      "prefactor_1 = 1.509616e-04\n",
      "curr_delNL0 = -4.219502e-07\n",
      "growth_factor_zp = 1.412599e-01\n",
      "input ionization = 5.639530e-07\n",
      "\n",
      "N_b0 = 2.055340e-07\n",
      "f_H = 9.249617e-01\n",
      "\n",
      "after 3.7704966 0.0006378657\n",
      "----- DM21CM -----\n",
      "z 8.11273936780007\n",
      "[7.92423329e-10 1.20622795e-11 6.93781045e-10 4.09176790e-10\n",
      " 1.23928326e-10 4.06950355e-06]\n",
      "4.8555765e-05\n",
      "1.7041651e-06\n",
      "3.411316e-05\n",
      "2.9933106e-05\n",
      "-----------------\n",
      "i_z=162/204 z=8.11 bath.toteng=6.092e+00 eV/Bavg\n",
      "dt 301658916642163.3 312810583046054.6\n",
      "before 3.7704966 0.0006378657\n",
      "input_heating 0.035394903\n",
      "This is commented out: dspec_dzp = - dxe_dzp * T / (1+x_e); need to put it back in\n",
      "box_ct = 0\n",
      "dzp = -8.933210e-02\n",
      "zp = 7.933182e+00\n",
      "dt_dzp = -3.430783e+15\n",
      "dadia_dzp * dzp = -7.541017e-02\n",
      "dspec_dzp * dzp = 0.000000e+00\n",
      "dcomp_dzp * dzp = 6.453286e-04\n",
      "dxheat_dzp * dzp = 0.000000e+00\n",
      "input heating = 3.539490e-02\n",
      "dxion_source = 0.000000e+00\n",
      "dxion_sink = 1.022563e-06\n",
      "T = 3.770497e+00\n",
      "alpha_A(T) = 6.050691e-11\n",
      "global_params.CLUMPING_FACTOR = 1.000000e+00\n",
      "x_e = 6.378657e-04\n",
      "f_H = 9.249617e-01\n",
      "prefactor_1 = 1.465218e-04\n",
      "curr_delNL0 = -4.177775e-07\n",
      "growth_factor_zp = 1.426708e-01\n",
      "input ionization = 5.651290e-07\n",
      "\n",
      "N_b0 = 2.055340e-07\n",
      "f_H = 9.249617e-01\n",
      "\n",
      "after 3.7311258 0.0006374083\n",
      "----- DM21CM -----\n",
      "z 8.022514225544624\n",
      "[7.84695849e-10 1.19434021e-11 6.87070996e-10 4.05150079e-10\n",
      " 1.22728549e-10 4.02766040e-06]\n",
      "4.7829337e-05\n",
      "1.6771172e-06\n",
      "3.3586843e-05\n",
      "2.9487133e-05\n",
      "-----------------\n",
      "i_z=163/204 z=8.02 bath.toteng=6.183e+00 eV/Bavg\n",
      "dt 306184472571093.8 318088531040239.56\n",
      "before 3.7311258 0.0006374083\n",
      "input_heating 0.03547087\n",
      "This is commented out: dspec_dzp = - dxe_dzp * T / (1+x_e); need to put it back in\n",
      "box_ct = 0\n",
      "dzp = -8.844709e-02\n",
      "zp = 7.844735e+00\n",
      "dt_dzp = -3.517030e+15\n",
      "dadia_dzp * dzp = -7.462232e-02\n",
      "dspec_dzp * dzp = 0.000000e+00\n",
      "dcomp_dzp * dzp = 6.228312e-04\n",
      "dxheat_dzp * dzp = 0.000000e+00\n",
      "input heating = 3.547087e-02\n",
      "dxion_source = 0.000000e+00\n",
      "dxion_sink = 1.011917e-06\n",
      "T = 3.731127e+00\n",
      "alpha_A(T) = 6.086786e-11\n",
      "global_params.CLUMPING_FACTOR = 1.000000e+00\n",
      "x_e = 6.374082e-04\n",
      "f_H = 9.249617e-01\n",
      "prefactor_1 = 1.422127e-04\n",
      "curr_delNL0 = -4.136463e-07\n",
      "growth_factor_zp = 1.440957e-01\n",
      "input ionization = 5.662889e-07\n",
      "\n",
      "N_b0 = 2.055340e-07\n",
      "f_H = 9.249617e-01\n",
      "\n",
      "after 3.6925974 0.0006369626\n",
      "----- DM21CM -----\n",
      "z 7.933182401529331\n",
      "[7.77044596e-10 1.18256797e-11 6.80426612e-10 4.01165144e-10\n",
      " 1.21540280e-10 3.98623240e-06]\n",
      "4.713377e-05\n",
      "1.651162e-06\n",
      "3.3082564e-05\n",
      "2.9060102e-05\n",
      "-----------------\n",
      "i_z=164/204 z=7.93 bath.toteng=6.276e+00 eV/Bavg\n",
      "dt 310777452718327.75 323314222123591.1\n",
      "before 3.6925974 0.0006369626\n",
      "input_heating 0.03554591\n",
      "This is commented out: dspec_dzp = - dxe_dzp * T / (1+x_e); need to put it back in\n",
      "box_ct = 0\n",
      "dzp = -8.757162e-02\n",
      "zp = 7.757164e+00\n",
      "dt_dzp = -3.605440e+15\n",
      "dadia_dzp * dzp = -7.385195e-02\n",
      "dspec_dzp * dzp = 0.000000e+00\n",
      "dcomp_dzp * dzp = 6.011204e-04\n",
      "dxheat_dzp * dzp = 0.000000e+00\n",
      "input heating = 3.554591e-02\n",
      "dxion_source = 0.000000e+00\n",
      "dxion_sink = 1.001358e-06\n",
      "T = 3.692598e+00\n",
      "alpha_A(T) = 6.122684e-11\n",
      "global_params.CLUMPING_FACTOR = 1.000000e+00\n",
      "x_e = 6.369626e-04\n",
      "f_H = 9.249617e-01\n",
      "prefactor_1 = 1.380302e-04\n",
      "curr_delNL0 = -4.095562e-07\n",
      "growth_factor_zp = 1.455347e-01\n",
      "input ionization = 5.674335e-07\n",
      "\n",
      "N_b0 = 2.055340e-07\n",
      "f_H = 9.249617e-01\n",
      "\n",
      "after 3.6548922 0.0006365286\n",
      "----- DM21CM -----\n",
      "z 7.844735051019139\n",
      "[7.69468632e-10 1.17090992e-11 6.73847127e-10 3.97221472e-10\n",
      " 1.20363392e-10 3.94521394e-06]\n",
      "4.646721e-05\n",
      "1.6262363e-06\n",
      "3.259895e-05\n",
      "2.8650882e-05\n",
      "-----------------\n",
      "i_z=165/204 z=7.84 bath.toteng=6.370e+00 eV/Bavg\n",
      "dt 315438841638739.6 328488173691265.9\n",
      "before 3.6548922 0.0006365286\n",
      "input_heating 0.035620064\n",
      "This is commented out: dspec_dzp = - dxe_dzp * T / (1+x_e); need to put it back in\n",
      "box_ct = 0\n",
      "dzp = -8.670473e-02\n",
      "zp = 7.670459e+00\n",
      "dt_dzp = -3.696069e+15\n",
      "dadia_dzp * dzp = -7.309798e-02\n",
      "dspec_dzp * dzp = 0.000000e+00\n",
      "dcomp_dzp * dzp = 5.801630e-04\n",
      "dxheat_dzp * dzp = 0.000000e+00\n",
      "input heating = 3.562006e-02\n",
      "dxion_source = 0.000000e+00\n",
      "dxion_sink = 9.908747e-07\n",
      "T = 3.654893e+00\n",
      "alpha_A(T) = 6.158377e-11\n",
      "global_params.CLUMPING_FACTOR = 1.000000e+00\n",
      "x_e = 6.365287e-04\n",
      "f_H = 9.249617e-01\n",
      "prefactor_1 = 1.339708e-04\n",
      "curr_delNL0 = -4.055067e-07\n",
      "growth_factor_zp = 1.469881e-01\n",
      "input ionization = 5.685638e-07\n",
      "\n",
      "N_b0 = 2.055340e-07\n",
      "f_H = 9.249617e-01\n",
      "\n",
      "after 3.617996 0.00063610636\n",
      "----- DM21CM -----\n",
      "z 7.7571634168506325\n",
      "[7.61967276e-10 1.15936511e-11 6.67331944e-10 3.93318597e-10\n",
      " 1.19197767e-10 3.90460121e-06]\n",
      "4.5827943e-05\n",
      "1.6022786e-06\n",
      "3.213482e-05\n",
      "2.8258446e-05\n",
      "-----------------\n",
      "i_z=166/204 z=7.76 bath.toteng=6.466e+00 eV/Bavg\n",
      "dt 320169637357540.94 333610898015696.4\n",
      "before 3.617996 0.00063610636\n",
      "input_heating 0.03569338\n",
      "This is commented out: dspec_dzp = - dxe_dzp * T / (1+x_e); need to put it back in\n",
      "box_ct = 0\n",
      "dzp = -8.584595e-02\n",
      "zp = 7.584613e+00\n",
      "dt_dzp = -3.788969e+15\n",
      "dadia_dzp * dzp = -7.235975e-02\n",
      "dspec_dzp * dzp = 0.000000e+00\n",
      "dcomp_dzp * dzp = 5.599302e-04\n",
      "dxheat_dzp * dzp = 0.000000e+00\n",
      "input heating = 3.569338e-02\n",
      "dxion_source = 0.000000e+00\n",
      "dxion_sink = 9.804631e-07\n",
      "T = 3.617995e+00\n",
      "alpha_A(T) = 6.193859e-11\n",
      "global_params.CLUMPING_FACTOR = 1.000000e+00\n",
      "x_e = 6.361064e-04\n",
      "f_H = 9.249617e-01\n",
      "prefactor_1 = 1.300307e-04\n",
      "curr_delNL0 = -4.014976e-07\n",
      "growth_factor_zp = 1.484558e-01\n",
      "input ionization = 5.696805e-07\n",
      "\n",
      "N_b0 = 2.055340e-07\n",
      "f_H = 9.249617e-01\n",
      "\n",
      "after 3.5818894 0.0006356956\n",
      "----- DM21CM -----\n",
      "z 7.670458828564982\n",
      "[7.54539762e-10 1.14793262e-11 6.60880468e-10 3.89456092e-10\n",
      " 1.18043342e-10 3.86439105e-06]\n",
      "4.521441e-05\n",
      "1.5792336e-06\n",
      "3.168904e-05\n",
      "2.7881792e-05\n",
      "-----------------\n",
      "i_z=167/204 z=7.67 bath.toteng=6.563e+00 eV/Bavg\n",
      "dt 324970851512708.5 338682902297310.6\n",
      "before 3.5818894 0.0006356956\n",
      "input_heating 0.03576589\n",
      "This is commented out: dspec_dzp = - dxe_dzp * T / (1+x_e); need to put it back in\n",
      "box_ct = 0\n",
      "dzp = -8.499622e-02\n",
      "zp = 7.499617e+00\n",
      "dt_dzp = -3.884198e+15\n",
      "dadia_dzp * dzp = -7.163783e-02\n",
      "dspec_dzp * dzp = 0.000000e+00\n",
      "dcomp_dzp * dzp = 5.404036e-04\n",
      "dxheat_dzp * dzp = 0.000000e+00\n",
      "input heating = 3.576589e-02\n",
      "dxion_source = 0.000000e+00\n",
      "dxion_sink = 9.701345e-07\n",
      "T = 3.581889e+00\n",
      "alpha_A(T) = 6.229126e-11\n",
      "global_params.CLUMPING_FACTOR = 1.000000e+00\n",
      "x_e = 6.356956e-04\n",
      "f_H = 9.249617e-01\n",
      "prefactor_1 = 1.262065e-04\n",
      "curr_delNL0 = -3.975283e-07\n",
      "growth_factor_zp = 1.499381e-01\n",
      "input ionization = 5.707841e-07\n",
      "\n",
      "N_b0 = 2.055340e-07\n",
      "f_H = 9.249617e-01\n",
      "\n",
      "after 3.5465581 0.00063529616\n",
      "----- DM21CM -----\n",
      "z 7.584612701549487\n",
      "[7.47185408e-10 1.13661098e-11 6.54492188e-10 3.85633574e-10\n",
      " 1.16900010e-10 3.82457927e-06]\n",
      "4.462511e-05\n",
      "1.5570483e-06\n",
      "3.1260555e-05\n",
      "2.752004e-05\n",
      "-----------------\n",
      "i_z=168/204 z=7.58 bath.toteng=6.662e+00 eV/Bavg\n",
      "dt 329843509496732.94 343704688714750.5\n",
      "before 3.5465581 0.00063529616\n",
      "input_heating 0.035837613\n",
      "This is commented out: dspec_dzp = - dxe_dzp * T / (1+x_e); need to put it back in\n",
      "box_ct = 0\n",
      "dzp = -8.415461e-02\n",
      "zp = 7.415462e+00\n",
      "dt_dzp = -3.981814e+15\n",
      "dadia_dzp * dzp = -7.093114e-02\n",
      "dspec_dzp * dzp = 0.000000e+00\n",
      "dcomp_dzp * dzp = 5.215532e-04\n",
      "dxheat_dzp * dzp = 0.000000e+00\n",
      "input heating = 3.583761e-02\n",
      "dxion_source = 0.000000e+00\n",
      "dxion_sink = 9.598786e-07\n",
      "T = 3.546557e+00\n",
      "alpha_A(T) = 6.264170e-11\n",
      "global_params.CLUMPING_FACTOR = 1.000000e+00\n",
      "x_e = 6.352962e-04\n",
      "f_H = 9.249617e-01\n",
      "prefactor_1 = 1.224948e-04\n",
      "curr_delNL0 = -3.935984e-07\n",
      "growth_factor_zp = 1.514352e-01\n",
      "input ionization = 5.718748e-07\n",
      "\n",
      "N_b0 = 2.055340e-07\n",
      "f_H = 9.249617e-01\n",
      "\n",
      "after 3.5119855 0.0006349083\n",
      "----- DM21CM -----\n",
      "z 7.499616536187611\n",
      "[7.39903448e-10 1.12539939e-11 6.48166336e-10 3.81850617e-10\n",
      " 1.15767634e-10 3.78516171e-06]\n",
      "4.4058706e-05\n",
      "1.5356743e-06\n",
      "3.0848383e-05\n",
      "2.7172335e-05\n",
      "-----------------\n",
      "i_z=169/204 z=7.50 bath.toteng=6.762e+00 eV/Bavg\n",
      "dt 334788650597785.6 348676754474592.0\n",
      "before 3.5119855 0.0006349083\n",
      "input_heating 0.035908557\n",
      "This is commented out: dspec_dzp = - dxe_dzp * T / (1+x_e); need to put it back in\n",
      "box_ct = 0\n",
      "dzp = -8.332157e-02\n",
      "zp = 7.332140e+00\n",
      "dt_dzp = -4.081878e+15\n",
      "dadia_dzp * dzp = -7.023985e-02\n",
      "dspec_dzp * dzp = 0.000000e+00\n",
      "dcomp_dzp * dzp = 5.033591e-04\n",
      "dxheat_dzp * dzp = 0.000000e+00\n",
      "input heating = 3.590856e-02\n",
      "dxion_source = 0.000000e+00\n",
      "dxion_sink = 9.497014e-07\n",
      "T = 3.511986e+00\n",
      "alpha_A(T) = 6.298985e-11\n",
      "global_params.CLUMPING_FACTOR = 1.000000e+00\n",
      "x_e = 6.349082e-04\n",
      "f_H = 9.249617e-01\n",
      "prefactor_1 = 1.188922e-04\n",
      "curr_delNL0 = -3.897077e-07\n",
      "growth_factor_zp = 1.529470e-01\n",
      "input ionization = 5.729527e-07\n",
      "\n",
      "N_b0 = 2.055340e-07\n",
      "f_H = 9.249617e-01\n",
      "\n",
      "after 3.4781573 0.0006345315\n",
      "----- DM21CM -----\n",
      "z 7.415461917017437\n",
      "[7.32693285e-10 1.11429680e-11 6.41902317e-10 3.78106625e-10\n",
      " 1.14646137e-10 3.74613346e-06]\n",
      "4.3513857e-05\n",
      "1.5150646e-06\n",
      "3.0451612e-05\n",
      "2.6837883e-05\n",
      "-----------------\n",
      "i_z=170/204 z=7.42 bath.toteng=6.864e+00 eV/Bavg\n",
      "dt 339807328140062.3 353599591860573.75\n",
      "before 3.4781573 0.0006345315\n",
      "input_heating 0.035978742\n",
      "This is commented out: dspec_dzp = - dxe_dzp * T / (1+x_e); need to put it back in\n",
      "box_ct = 0\n",
      "dzp = -8.249617e-02\n",
      "zp = 7.249644e+00\n",
      "dt_dzp = -4.184447e+15\n",
      "dadia_dzp * dzp = -6.956292e-02\n",
      "dspec_dzp * dzp = 0.000000e+00\n",
      "dcomp_dzp * dzp = 4.857931e-04\n",
      "dxheat_dzp * dzp = 0.000000e+00\n",
      "input heating = 3.597875e-02\n",
      "dxion_source = 0.000000e+00\n",
      "dxion_sink = 9.395930e-07\n",
      "T = 3.478158e+00\n",
      "alpha_A(T) = 6.333568e-11\n",
      "global_params.CLUMPING_FACTOR = 1.000000e+00\n",
      "x_e = 6.345315e-04\n",
      "f_H = 9.249617e-01\n",
      "prefactor_1 = 1.153956e-04\n",
      "curr_delNL0 = -3.858557e-07\n",
      "growth_factor_zp = 1.544739e-01\n",
      "input ionization = 5.740185e-07\n",
      "\n",
      "N_b0 = 2.055340e-07\n",
      "f_H = 9.249617e-01\n",
      "\n",
      "after 3.4450598 0.00063416583\n",
      "----- DM21CM -----\n",
      "z 7.3321405118984515\n",
      "[7.25554154e-10 1.10330226e-11 6.35699705e-10 3.74401385e-10\n",
      " 1.13535447e-10 3.70749313e-06]\n",
      "4.2989428e-05\n",
      "1.4951789e-06\n",
      "3.0069392e-05\n",
      "2.6515969e-05\n",
      "-----------------\n",
      "i_z=171/204 z=7.33 bath.toteng=6.967e+00 eV/Bavg\n",
      "dt 344900609623177.25 358473688282337.75\n",
      "before 3.4450598 0.00063416583\n",
      "input_heating 0.03604818\n",
      "This is commented out: dspec_dzp = - dxe_dzp * T / (1+x_e); need to put it back in\n",
      "box_ct = 0\n",
      "dzp = -8.167982e-02\n",
      "zp = 7.167964e+00\n",
      "dt_dzp = -4.289586e+15\n",
      "dadia_dzp * dzp = -6.890133e-02\n",
      "dspec_dzp * dzp = 0.000000e+00\n",
      "dcomp_dzp * dzp = 4.688423e-04\n",
      "dxheat_dzp * dzp = 0.000000e+00\n",
      "input heating = 3.604819e-02\n",
      "dxion_source = 0.000000e+00\n",
      "dxion_sink = 9.295698e-07\n",
      "T = 3.445059e+00\n",
      "alpha_A(T) = 6.367910e-11\n",
      "global_params.CLUMPING_FACTOR = 1.000000e+00\n",
      "x_e = 6.341659e-04\n",
      "f_H = 9.249617e-01\n",
      "prefactor_1 = 1.120019e-04\n",
      "curr_delNL0 = -3.820421e-07\n",
      "growth_factor_zp = 1.560159e-01\n",
      "input ionization = 5.750721e-07\n",
      "\n",
      "N_b0 = 2.055340e-07\n",
      "f_H = 9.249617e-01\n",
      "\n",
      "after 3.4126742 0.00063381146\n",
      "----- DM21CM -----\n",
      "z 7.2496440711865855\n",
      "[7.18485372e-10 1.09241459e-11 6.29557734e-10 3.70734386e-10\n",
      " 1.12435402e-10 3.66923445e-06]\n",
      "4.2484335e-05\n",
      "1.4759768e-06\n",
      "2.9700937e-05\n",
      "2.6205922e-05\n",
      "-----------------\n",
      "i_z=172/204 z=7.25 bath.toteng=7.072e+00 eV/Bavg\n",
      "dt 350069576860471.1 363299526323688.3\n",
      "before 3.4126742 0.00063381146\n",
      "input_heating 0.036116876\n",
      "This is commented out: dspec_dzp = - dxe_dzp * T / (1+x_e); need to put it back in\n",
      "box_ct = 0\n",
      "dzp = -8.087111e-02\n",
      "zp = 7.087093e+00\n",
      "dt_dzp = -4.397361e+15\n",
      "dadia_dzp * dzp = -6.825364e-02\n",
      "dspec_dzp * dzp = 0.000000e+00\n",
      "dcomp_dzp * dzp = 4.524777e-04\n",
      "dxheat_dzp * dzp = 0.000000e+00\n",
      "input heating = 3.611687e-02\n",
      "dxion_source = 0.000000e+00\n",
      "dxion_sink = 9.196165e-07\n",
      "T = 3.412675e+00\n",
      "alpha_A(T) = 6.402009e-11\n",
      "global_params.CLUMPING_FACTOR = 1.000000e+00\n",
      "x_e = 6.338114e-04\n",
      "f_H = 9.249617e-01\n",
      "prefactor_1 = 1.087079e-04\n",
      "curr_delNL0 = -3.782663e-07\n",
      "growth_factor_zp = 1.575732e-01\n",
      "input ionization = 5.761132e-07\n",
      "\n",
      "N_b0 = 2.055340e-07\n",
      "f_H = 9.249617e-01\n",
      "\n",
      "after 3.38099 0.0006334679\n",
      "----- DM21CM -----\n",
      "z 7.167964426917411\n",
      "[7.11486131e-10 1.08163271e-11 6.23475849e-10 3.67105159e-10\n",
      " 1.11345940e-10 3.63135463e-06]\n",
      "4.199748e-05\n",
      "1.457421e-06\n",
      "2.9345507e-05\n",
      "2.590708e-05\n",
      "-----------------\n",
      "i_z=173/204 z=7.17 bath.toteng=7.178e+00 eV/Bavg\n",
      "dt 355315326116085.94 368077583790372.06\n",
      "before 3.38099 0.0006334679\n",
      "input_heating 0.03618481\n",
      "This is commented out: dspec_dzp = - dxe_dzp * T / (1+x_e); need to put it back in\n",
      "box_ct = 0\n",
      "dzp = -8.007002e-02\n",
      "zp = 7.007023e+00\n",
      "dt_dzp = -4.507835e+15\n",
      "dadia_dzp * dzp = -6.761963e-02\n",
      "dspec_dzp * dzp = 0.000000e+00\n",
      "dcomp_dzp * dzp = 4.366795e-04\n",
      "dxheat_dzp * dzp = 0.000000e+00\n",
      "input heating = 3.618481e-02\n",
      "dxion_source = 0.000000e+00\n",
      "dxion_sink = 9.097336e-07\n",
      "T = 3.380990e+00\n",
      "alpha_A(T) = 6.435857e-11\n",
      "global_params.CLUMPING_FACTOR = 1.000000e+00\n",
      "x_e = 6.334679e-04\n",
      "f_H = 9.249617e-01\n",
      "prefactor_1 = 1.055108e-04\n",
      "curr_delNL0 = -3.745282e-07\n",
      "growth_factor_zp = 1.591459e-01\n",
      "input ionization = 5.771424e-07\n",
      "\n",
      "N_b0 = 2.055340e-07\n",
      "f_H = 9.249617e-01\n",
      "\n",
      "after 3.3499918 0.0006331354\n",
      "----- DM21CM -----\n",
      "z 7.087093491997436\n",
      "[7.04555962e-10 1.07095583e-11 6.17453583e-10 3.63513364e-10\n",
      " 1.10266964e-10 3.59384982e-06]\n",
      "4.1527936e-05\n",
      "1.4394768e-06\n",
      "2.9002398e-05\n",
      "2.561888e-05\n",
      "-----------------\n",
      "i_z=174/204 z=7.09 bath.toteng=7.286e+00 eV/Bavg\n",
      "dt 360638968240627.7 372808333757385.56\n",
      "before 3.3499918 0.0006331354\n",
      "input_heating 0.036252\n",
      "This is commented out: dspec_dzp = - dxe_dzp * T / (1+x_e); need to put it back in\n",
      "box_ct = 0\n",
      "dzp = -7.927752e-02\n",
      "zp = 6.927746e+00\n",
      "dt_dzp = -4.621074e+15\n",
      "dadia_dzp * dzp = -6.699989e-02\n",
      "dspec_dzp * dzp = 0.000000e+00\n",
      "dcomp_dzp * dzp = 4.214335e-04\n",
      "dxheat_dzp * dzp = 0.000000e+00\n",
      "input heating = 3.625200e-02\n",
      "dxion_source = 0.000000e+00\n",
      "dxion_sink = 8.999326e-07\n",
      "T = 3.349992e+00\n",
      "alpha_A(T) = 6.469449e-11\n",
      "global_params.CLUMPING_FACTOR = 1.000000e+00\n",
      "x_e = 6.331353e-04\n",
      "f_H = 9.249617e-01\n",
      "prefactor_1 = 1.024078e-04\n",
      "curr_delNL0 = -3.708273e-07\n",
      "growth_factor_zp = 1.607342e-01\n",
      "input ionization = 5.781592e-07\n",
      "\n",
      "N_b0 = 2.055340e-07\n",
      "f_H = 9.249617e-01\n",
      "\n",
      "after 3.319665 0.00063281355\n",
      "----- DM21CM -----\n",
      "z 7.007023259403402\n",
      "[6.97694013e-10 1.06038281e-11 6.11490211e-10 3.59958618e-10\n",
      " 1.09198379e-10 3.55671619e-06]\n",
      "4.107481e-05\n",
      "1.4221131e-06\n",
      "2.8670993e-05\n",
      "2.534076e-05\n",
      "-----------------\n",
      "i_z=175/204 z=7.01 bath.toteng=7.395e+00 eV/Bavg\n",
      "dt 366041628805231.6 377492244615814.9\n",
      "before 3.319665 0.00063281355\n",
      "input_heating 0.03631844\n",
      "This is commented out: dspec_dzp = - dxe_dzp * T / (1+x_e); need to put it back in\n",
      "box_ct = 0\n",
      "dzp = -7.849264e-02\n",
      "zp = 6.849253e+00\n",
      "dt_dzp = -4.737149e+15\n",
      "dadia_dzp * dzp = -6.639341e-02\n",
      "dspec_dzp * dzp = 0.000000e+00\n",
      "dcomp_dzp * dzp = 4.067159e-04\n",
      "dxheat_dzp * dzp = 0.000000e+00\n",
      "input heating = 3.631844e-02\n",
      "dxion_source = 0.000000e+00\n",
      "dxion_sink = 8.902033e-07\n",
      "T = 3.319666e+00\n",
      "alpha_A(T) = 6.502781e-11\n",
      "global_params.CLUMPING_FACTOR = 1.000000e+00\n",
      "x_e = 6.328135e-04\n",
      "f_H = 9.249617e-01\n",
      "prefactor_1 = 9.939597e-05\n",
      "curr_delNL0 = -3.671632e-07\n",
      "growth_factor_zp = 1.623383e-01\n",
      "input ionization = 5.791639e-07\n",
      "\n",
      "N_b0 = 2.055340e-07\n",
      "f_H = 9.249617e-01\n",
      "\n",
      "after 3.2899973 0.0006325025\n",
      "----- DM21CM -----\n",
      "z 6.927745801389507\n",
      "[6.90899731e-10 1.04991287e-11 6.05585351e-10 3.56440451e-10\n",
      " 1.08140089e-10 3.51995095e-06]\n",
      "4.0637242e-05\n",
      "1.4052994e-06\n",
      "2.835067e-05\n",
      "2.5072195e-05\n",
      "-----------------\n",
      "i_z=176/204 z=6.93 bath.toteng=7.506e+00 eV/Bavg\n",
      "dt 371524448233956.06 382129780119210.2\n",
      "before 3.2899973 0.0006325025\n",
      "input_heating 0.036384113\n",
      "This is commented out: dspec_dzp = - dxe_dzp * T / (1+x_e); need to put it back in\n",
      "box_ct = 0\n",
      "dzp = -7.771540e-02\n",
      "zp = 6.771538e+00\n",
      "dt_dzp = -4.856130e+15\n",
      "dadia_dzp * dzp = -6.579996e-02\n",
      "dspec_dzp * dzp = 0.000000e+00\n",
      "dcomp_dzp * dzp = 3.925087e-04\n",
      "dxheat_dzp * dzp = 0.000000e+00\n",
      "input heating = 3.638412e-02\n",
      "dxion_source = 0.000000e+00\n",
      "dxion_sink = 8.805464e-07\n",
      "T = 3.289997e+00\n",
      "alpha_A(T) = 6.535849e-11\n",
      "global_params.CLUMPING_FACTOR = 1.000000e+00\n",
      "x_e = 6.325025e-04\n",
      "f_H = 9.249617e-01\n",
      "prefactor_1 = 9.647275e-05\n",
      "curr_delNL0 = -3.635356e-07\n",
      "growth_factor_zp = 1.639582e-01\n",
      "input ionization = 5.801562e-07\n",
      "\n",
      "N_b0 = 2.055340e-07\n",
      "f_H = 9.249617e-01\n",
      "\n",
      "after 3.2609746 0.00063220214\n",
      "----- DM21CM -----\n",
      "z 6.849253268702482\n",
      "[6.84172393e-10 1.03954472e-11 5.99738192e-10 3.52958525e-10\n",
      " 1.07091987e-10 3.48354921e-06]\n",
      "4.0214476e-05\n",
      "1.3890073e-06\n",
      "2.8040893e-05\n",
      "2.4812714e-05\n",
      "-----------------\n",
      "i_z=177/204 z=6.85 bath.toteng=7.619e+00 eV/Bavg\n",
      "dt 377088581934060.3 386721399429502.5\n",
      "before 3.2609746 0.00063220214\n",
      "input_heating 0.036449023\n",
      "This is commented out: dspec_dzp = - dxe_dzp * T / (1+x_e); need to put it back in\n",
      "box_ct = 0\n",
      "dzp = -7.694578e-02\n",
      "zp = 6.694592e+00\n",
      "dt_dzp = -4.978089e+15\n",
      "dadia_dzp * dzp = -6.521936e-02\n",
      "dspec_dzp * dzp = 0.000000e+00\n",
      "dcomp_dzp * dzp = 3.787949e-04\n",
      "dxheat_dzp * dzp = 0.000000e+00\n",
      "input heating = 3.644903e-02\n",
      "dxion_source = 0.000000e+00\n",
      "dxion_sink = 8.709624e-07\n",
      "T = 3.260974e+00\n",
      "alpha_A(T) = 6.568646e-11\n",
      "global_params.CLUMPING_FACTOR = 1.000000e+00\n",
      "x_e = 6.322021e-04\n",
      "f_H = 9.249617e-01\n",
      "prefactor_1 = 9.363551e-05\n",
      "curr_delNL0 = -3.599442e-07\n",
      "growth_factor_zp = 1.655941e-01\n",
      "input ionization = 5.811359e-07\n",
      "\n",
      "N_b0 = 2.055340e-07\n",
      "f_H = 9.249617e-01\n",
      "\n",
      "after 3.2325823 0.00063191226\n",
      "----- DM21CM -----\n",
      "z 6.771537889804438\n",
      "[6.77511358e-10 1.02927759e-11 5.93948395e-10 3.49512412e-10\n",
      " 1.06053989e-10 3.44750819e-06]\n",
      "3.980573e-05\n",
      "1.3732094e-06\n",
      "2.7741082e-05\n",
      "2.4561847e-05\n",
      "-----------------\n",
      "i_z=178/204 z=6.77 bath.toteng=7.734e+00 eV/Bavg\n",
      "dt 382735200424372.75 391267557162465.25\n",
      "before 3.2325823 0.00063191226\n",
      "input_heating 0.036513172\n",
      "This is commented out: dspec_dzp = - dxe_dzp * T / (1+x_e); need to put it back in\n",
      "box_ct = 0\n",
      "dzp = -7.618427e-02\n",
      "zp = 6.618408e+00\n",
      "dt_dzp = -5.103100e+15\n",
      "dadia_dzp * dzp = -6.465181e-02\n",
      "dspec_dzp * dzp = 0.000000e+00\n",
      "dcomp_dzp * dzp = 3.655597e-04\n",
      "dxheat_dzp * dzp = 0.000000e+00\n",
      "input heating = 3.651317e-02\n",
      "dxion_source = 0.000000e+00\n",
      "dxion_sink = 8.614576e-07\n",
      "T = 3.232582e+00\n",
      "alpha_A(T) = 6.601169e-11\n",
      "global_params.CLUMPING_FACTOR = 1.000000e+00\n",
      "x_e = 6.319123e-04\n",
      "f_H = 9.249617e-01\n",
      "prefactor_1 = 9.088169e-05\n",
      "curr_delNL0 = -3.563885e-07\n",
      "growth_factor_zp = 1.672463e-01\n",
      "input ionization = 5.821032e-07\n",
      "\n",
      "N_b0 = 2.055340e-07\n",
      "f_H = 9.249617e-01\n",
      "\n",
      "after 3.2048097 0.0006316329\n",
      "----- DM21CM -----\n",
      "z 6.694591970103404\n",
      "[6.70915946e-10 1.01911046e-11 5.88215278e-10 3.46101771e-10\n",
      " 1.05025987e-10 3.41182370e-06]\n",
      "3.9410337e-05\n",
      "1.3578824e-06\n",
      "2.74508e-05\n",
      "2.4319177e-05\n",
      "-----------------\n",
      "i_z=179/204 z=6.69 bath.toteng=7.850e+00 eV/Bavg\n",
      "dt 388465489461024.75 395768703432725.44\n",
      "before 3.2048097 0.0006316329\n",
      "input_heating 0.036576517\n",
      "This is commented out: dspec_dzp = - dxe_dzp * T / (1+x_e); need to put it back in\n",
      "box_ct = 0\n",
      "dzp = -7.542944e-02\n",
      "zp = 6.542978e+00\n",
      "dt_dzp = -5.231237e+15\n",
      "dadia_dzp * dzp = -6.409589e-02\n",
      "dspec_dzp * dzp = 0.000000e+00\n",
      "dcomp_dzp * dzp = 3.527803e-04\n",
      "dxheat_dzp * dzp = 0.000000e+00\n",
      "input heating = 3.657652e-02\n",
      "dxion_source = 0.000000e+00\n",
      "dxion_sink = 8.520164e-07\n",
      "T = 3.204809e+00\n",
      "alpha_A(T) = 6.633413e-11\n",
      "global_params.CLUMPING_FACTOR = 1.000000e+00\n",
      "x_e = 6.316329e-04\n",
      "f_H = 9.249617e-01\n",
      "prefactor_1 = 8.820889e-05\n",
      "curr_delNL0 = -3.528682e-07\n",
      "growth_factor_zp = 1.689148e-01\n",
      "input ionization = 5.830575e-07\n",
      "\n",
      "N_b0 = 2.055340e-07\n",
      "f_H = 9.249617e-01\n",
      "\n",
      "after 3.1776426 0.000631364\n",
      "----- DM21CM -----\n",
      "z 6.618407891191489\n",
      "[6.64385603e-10 1.00904240e-11 5.82538330e-10 3.42726200e-10\n",
      " 1.04007907e-10 3.37649259e-06]\n",
      "3.902764e-05\n",
      "1.3430011e-06\n",
      "2.716952e-05\n",
      "2.4084306e-05\n",
      "-----------------\n",
      "i_z=180/204 z=6.62 bath.toteng=7.968e+00 eV/Bavg\n",
      "dt 394280650160920.56 400225283898329.5\n",
      "before 3.1776426 0.000631364\n",
      "input_heating 0.036639076\n",
      "This is commented out: dspec_dzp = - dxe_dzp * T / (1+x_e); need to put it back in\n",
      "box_ct = 0\n",
      "dzp = -7.468319e-02\n",
      "zp = 6.468295e+00\n",
      "dt_dzp = -5.362581e+15\n",
      "dadia_dzp * dzp = -6.355306e-02\n",
      "dspec_dzp * dzp = 0.000000e+00\n",
      "dcomp_dzp * dzp = 3.404500e-04\n",
      "dxheat_dzp * dzp = 0.000000e+00\n",
      "input heating = 3.663908e-02\n",
      "dxion_source = 0.000000e+00\n",
      "dxion_sink = 8.426608e-07\n",
      "T = 3.177643e+00\n",
      "alpha_A(T) = 6.665374e-11\n",
      "global_params.CLUMPING_FACTOR = 1.000000e+00\n",
      "x_e = 6.313639e-04\n",
      "f_H = 9.249617e-01\n",
      "prefactor_1 = 8.561467e-05\n",
      "curr_delNL0 = -3.493830e-07\n",
      "growth_factor_zp = 1.705997e-01\n",
      "input ionization = 5.839989e-07\n",
      "\n",
      "N_b0 = 2.055340e-07\n",
      "f_H = 9.249617e-01\n",
      "\n",
      "after 3.1510694 0.0006311052\n",
      "----- DM21CM -----\n",
      "z 6.5429781100905835\n",
      "[6.57919649e-10 9.99072556e-12 5.76917083e-10 3.39385270e-10\n",
      " 1.02999653e-10 3.34151173e-06]\n",
      "3.8657025e-05\n",
      "1.3285444e-06\n",
      "2.6896849e-05\n",
      "2.3856857e-05\n",
      "-----------------\n",
      "i_z=181/204 z=6.54 bath.toteng=8.087e+00 eV/Bavg\n",
      "dt 400181899122131.8 404637739804868.25\n",
      "before 3.1510694 0.0006311052\n",
      "input_heating 0.036700822\n",
      "This is commented out: dspec_dzp = - dxe_dzp * T / (1+x_e); need to put it back in\n",
      "box_ct = 0\n",
      "dzp = -7.394361e-02\n",
      "zp = 6.394351e+00\n",
      "dt_dzp = -5.497210e+15\n",
      "dadia_dzp * dzp = -6.302147e-02\n",
      "dspec_dzp * dzp = 0.000000e+00\n",
      "dcomp_dzp * dzp = 3.285448e-04\n",
      "dxheat_dzp * dzp = 0.000000e+00\n",
      "input heating = 3.670082e-02\n",
      "dxion_source = 0.000000e+00\n",
      "dxion_sink = 8.333700e-07\n",
      "T = 3.151069e+00\n",
      "alpha_A(T) = 6.697049e-11\n",
      "global_params.CLUMPING_FACTOR = 1.000000e+00\n",
      "x_e = 6.311053e-04\n",
      "f_H = 9.249617e-01\n",
      "prefactor_1 = 8.309675e-05\n",
      "curr_delNL0 = -3.459325e-07\n",
      "growth_factor_zp = 1.723014e-01\n",
      "input ionization = 5.849271e-07\n",
      "\n",
      "N_b0 = 2.055340e-07\n",
      "f_H = 9.249617e-01\n",
      "\n",
      "after 3.1250765 0.00063085684\n",
      "----- DM21CM -----\n",
      "z 6.468295158505528\n",
      "[6.51517315e-10 9.89199791e-12 5.71350897e-10 3.36078707e-10\n",
      " 1.02001120e-10 3.30687693e-06]\n",
      "3.8297894e-05\n",
      "1.3144914e-06\n",
      "2.6632339e-05\n",
      "2.3636461e-05\n",
      "-----------------\n",
      "i_z=182/204 z=6.47 bath.toteng=8.209e+00 eV/Bavg\n",
      "dt 406170468541411.4 409006508029164.0\n",
      "before 3.1250765 0.00063085684\n",
      "input_heating 0.03676173\n",
      "This is commented out: dspec_dzp = - dxe_dzp * T / (1+x_e); need to put it back in\n",
      "box_ct = 0\n",
      "dzp = -7.321119e-02\n",
      "zp = 6.321140e+00\n",
      "dt_dzp = -5.635204e+15\n",
      "dadia_dzp * dzp = -6.250136e-02\n",
      "dspec_dzp * dzp = 0.000000e+00\n",
      "dcomp_dzp * dzp = 3.170525e-04\n",
      "dxheat_dzp * dzp = 0.000000e+00\n",
      "input heating = 3.676173e-02\n",
      "dxion_source = 0.000000e+00\n",
      "dxion_sink = 8.241503e-07\n",
      "T = 3.125077e+00\n",
      "alpha_A(T) = 6.728433e-11\n",
      "global_params.CLUMPING_FACTOR = 1.000000e+00\n",
      "x_e = 6.308568e-04\n",
      "f_H = 9.249617e-01\n",
      "prefactor_1 = 8.065289e-05\n",
      "curr_delNL0 = -3.425164e-07\n",
      "growth_factor_zp = 1.740198e-01\n",
      "input ionization = 5.858420e-07\n",
      "\n",
      "N_b0 = 2.055340e-07\n",
      "f_H = 9.249617e-01\n",
      "\n",
      "after 3.099655 0.00063061866\n",
      "----- DM21CM -----\n",
      "z 6.394351642084681\n",
      "[6.45178177e-10 9.79423241e-12 5.65839220e-10 3.32806062e-10\n",
      " 1.01012221e-10 3.27258471e-06]\n",
      "3.794973e-05\n",
      "1.3008219e-06\n",
      "2.6375636e-05\n",
      "2.3422805e-05\n",
      "-----------------\n",
      "i_z=183/204 z=6.39 bath.toteng=8.332e+00 eV/Bavg\n",
      "dt 412247606328375.8 416921114698421.3\n",
      "before 3.099655 0.00063061866\n",
      "input_heating 0.03683638\n",
      "This is commented out: dspec_dzp = - dxe_dzp * T / (1+x_e); need to put it back in\n",
      "box_ct = 0\n",
      "dzp = -7.248640e-02\n",
      "zp = 6.248654e+00\n",
      "dt_dzp = -5.776648e+15\n",
      "dadia_dzp * dzp = -6.199297e-02\n",
      "dspec_dzp * dzp = 0.000000e+00\n",
      "dcomp_dzp * dzp = 3.059612e-04\n",
      "dxheat_dzp * dzp = 0.000000e+00\n",
      "input heating = 3.683637e-02\n",
      "dxion_source = 0.000000e+00\n",
      "dxion_sink = 8.150074e-07\n",
      "T = 3.099654e+00\n",
      "alpha_A(T) = 6.759523e-11\n",
      "global_params.CLUMPING_FACTOR = 1.000000e+00\n",
      "x_e = 6.306185e-04\n",
      "f_H = 9.249617e-01\n",
      "prefactor_1 = 7.828091e-05\n",
      "curr_delNL0 = -3.391344e-07\n",
      "growth_factor_zp = 1.757552e-01\n",
      "input ionization = 5.869800e-07\n",
      "\n",
      "N_b0 = 2.055340e-07\n",
      "f_H = 9.249617e-01\n",
      "\n",
      "after 3.0748036 0.00063039054\n",
      "----- DM21CM -----\n",
      "z 6.321140239687803\n",
      "[6.38807101e-10 9.69645825e-12 5.60290579e-10 3.29515681e-10\n",
      " 1.00017989e-10 3.23863715e-06]\n",
      "3.7302932e-05\n",
      "1.2773199e-06\n",
      "2.5914003e-05\n",
      "2.3024813e-05\n",
      "-----------------\n",
      "i_z=184/204 z=6.32 bath.toteng=8.457e+00 eV/Bavg\n",
      "dt 418414576216103.3 426706264787073.44\n",
      "before 3.0748036 0.00063039054\n",
      "input_heating 0.036931418\n",
      "This is commented out: dspec_dzp = - dxe_dzp * T / (1+x_e); need to put it back in\n",
      "box_ct = 0\n",
      "dzp = -7.176924e-02\n",
      "zp = 6.176885e+00\n",
      "dt_dzp = -5.921628e+15\n",
      "dadia_dzp * dzp = -6.149641e-02\n",
      "dspec_dzp * dzp = 0.000000e+00\n",
      "dcomp_dzp * dzp = 2.952570e-04\n",
      "dxheat_dzp * dzp = 0.000000e+00\n",
      "input heating = 3.693142e-02\n",
      "dxion_source = 0.000000e+00\n",
      "dxion_sink = 8.059405e-07\n",
      "T = 3.074804e+00\n",
      "alpha_A(T) = 6.790297e-11\n",
      "global_params.CLUMPING_FACTOR = 1.000000e+00\n",
      "x_e = 6.303905e-04\n",
      "f_H = 9.249617e-01\n",
      "prefactor_1 = 7.597867e-05\n",
      "curr_delNL0 = -3.357861e-07\n",
      "growth_factor_zp = 1.775078e-01\n",
      "input ionization = 5.884469e-07\n",
      "\n",
      "N_b0 = 2.055340e-07\n",
      "f_H = 9.249617e-01\n",
      "\n",
      "after 3.0505335 0.00063017296\n",
      "----- DM21CM -----\n",
      "z 6.248653702661191\n",
      "[6.32447608e-10 9.59911327e-12 5.54746878e-10 3.26231261e-10\n",
      " 9.90252468e-11 3.20502798e-06]\n",
      "3.6539674e-05\n",
      "1.2500677e-06\n",
      "2.5373434e-05\n",
      "2.2554863e-05\n",
      "-----------------\n",
      "i_z=185/204 z=6.25 bath.toteng=8.584e+00 eV/Bavg\n",
      "dt 424672657867898.75 436394532201580.44\n",
      "before 3.0505335 0.00063017296\n",
      "input_heating 0.03702963\n",
      "This is commented out: dspec_dzp = - dxe_dzp * T / (1+x_e); need to put it back in\n",
      "box_ct = 0\n",
      "dzp = -7.105827e-02\n",
      "zp = 6.105826e+00\n",
      "dt_dzp = -6.070229e+15\n",
      "dadia_dzp * dzp = -6.101069e-02\n",
      "dspec_dzp * dzp = 0.000000e+00\n",
      "dcomp_dzp * dzp = 2.849207e-04\n",
      "dxheat_dzp * dzp = 0.000000e+00\n",
      "input heating = 3.702964e-02\n",
      "dxion_source = 0.000000e+00\n",
      "dxion_sink = 7.969319e-07\n",
      "T = 3.050534e+00\n",
      "alpha_A(T) = 6.820726e-11\n",
      "global_params.CLUMPING_FACTOR = 1.000000e+00\n",
      "x_e = 6.301730e-04\n",
      "f_H = 9.249617e-01\n",
      "prefactor_1 = 7.374415e-05\n",
      "curr_delNL0 = -3.324712e-07\n",
      "growth_factor_zp = 1.792776e-01\n",
      "input ionization = 5.899650e-07\n",
      "\n",
      "N_b0 = 2.055340e-07\n",
      "f_H = 9.249617e-01\n",
      "\n",
      "after 3.0268376 0.0006299661\n",
      "----- DM21CM -----\n",
      "z 6.176884854119991\n",
      "[6.26150714e-10 9.50271646e-12 5.49257473e-10 3.22980569e-10\n",
      " 9.80420971e-11 3.17175092e-06]\n",
      "3.582173e-05\n",
      "1.2243796e-06\n",
      "2.4864683e-05\n",
      "2.2112785e-05\n",
      "-----------------\n",
      "i_z=186/204 z=6.18 bath.toteng=8.713e+00 eV/Bavg\n",
      "dt 431023146979959.9 445986876176339.9\n",
      "before 3.0268376 0.0006299661\n",
      "input_heating 0.03712546\n",
      "This is commented out: dspec_dzp = - dxe_dzp * T / (1+x_e); need to put it back in\n",
      "box_ct = 0\n",
      "dzp = -7.035446e-02\n",
      "zp = 6.035472e+00\n",
      "dt_dzp = -6.222542e+15\n",
      "dadia_dzp * dzp = -6.053654e-02\n",
      "dspec_dzp * dzp = 0.000000e+00\n",
      "dcomp_dzp * dzp = 2.749438e-04\n",
      "dxheat_dzp * dzp = 0.000000e+00\n",
      "input heating = 3.712546e-02\n",
      "dxion_source = 0.000000e+00\n",
      "dxion_sink = 7.879928e-07\n",
      "T = 3.026838e+00\n",
      "alpha_A(T) = 6.850800e-11\n",
      "global_params.CLUMPING_FACTOR = 1.000000e+00\n",
      "x_e = 6.299660e-04\n",
      "f_H = 9.249617e-01\n",
      "prefactor_1 = 7.157535e-05\n",
      "curr_delNL0 = -3.291893e-07\n",
      "growth_factor_zp = 1.810649e-01\n",
      "input ionization = 5.914445e-07\n",
      "\n",
      "N_b0 = 2.055340e-07\n",
      "f_H = 9.249617e-01\n",
      "\n",
      "after 3.0037014 0.0006297695\n",
      "----- DM21CM -----\n",
      "z 6.105826588237615\n",
      "[6.19915993e-10 9.40725984e-12 5.43821894e-10 3.19763220e-10\n",
      " 9.70684330e-11 3.13880387e-06]\n",
      "3.5140267e-05\n",
      "1.1999495e-06\n",
      "2.438148e-05\n",
      "2.1693162e-05\n",
      "-----------------\n",
      "i_z=187/204 z=6.11 bath.toteng=8.844e+00 eV/Bavg\n",
      "dt 437467355379554.8 455484246448379.0\n",
      "before 3.0037014 0.0006297695\n",
      "input_heating 0.03721898\n",
      "This is commented out: dspec_dzp = - dxe_dzp * T / (1+x_e); need to put it back in\n",
      "box_ct = 0\n",
      "dzp = -6.965828e-02\n",
      "zp = 5.965814e+00\n",
      "dt_dzp = -6.378660e+15\n",
      "dadia_dzp * dzp = -6.007416e-02\n",
      "dspec_dzp * dzp = 0.000000e+00\n",
      "dcomp_dzp * dzp = 2.653158e-04\n",
      "dxheat_dzp * dzp = 0.000000e+00\n",
      "input heating = 3.721898e-02\n",
      "dxion_source = 0.000000e+00\n",
      "dxion_sink = 7.791292e-07\n",
      "T = 3.003702e+00\n",
      "alpha_A(T) = 6.880516e-11\n",
      "global_params.CLUMPING_FACTOR = 1.000000e+00\n",
      "x_e = 6.297695e-04\n",
      "f_H = 9.249617e-01\n",
      "prefactor_1 = 6.947032e-05\n",
      "curr_delNL0 = -3.259402e-07\n",
      "growth_factor_zp = 1.828699e-01\n",
      "input ionization = 5.928871e-07\n",
      "\n",
      "N_b0 = 2.055340e-07\n",
      "f_H = 9.249617e-01\n",
      "\n",
      "after 2.9811122 0.00062958326\n",
      "----- DM21CM -----\n",
      "z 6.035471869542192\n",
      "[6.13742807e-10 9.31273675e-12 5.38439716e-10 3.16578874e-10\n",
      " 9.61042014e-11 3.10618265e-06]\n",
      "3.4492594e-05\n",
      "1.1766854e-06\n",
      "2.3921923e-05\n",
      "2.1294341e-05\n",
      "-----------------\n",
      "i_z=188/204 z=6.04 bath.toteng=8.977e+00 eV/Bavg\n",
      "dt 444006611118589.3 464887583351388.0\n",
      "before 2.9811122 0.00062958326\n",
      "input_heating 0.037310593\n",
      "This is commented out: dspec_dzp = - dxe_dzp * T / (1+x_e); need to put it back in\n",
      "box_ct = 0\n",
      "dzp = -6.896830e-02\n",
      "zp = 5.896845e+00\n",
      "dt_dzp = -6.538675e+15\n",
      "dadia_dzp * dzp = -5.962210e-02\n",
      "dspec_dzp * dzp = 0.000000e+00\n",
      "dcomp_dzp * dzp = 2.560195e-04\n",
      "dxheat_dzp * dzp = 0.000000e+00\n",
      "input heating = 3.731059e-02\n",
      "dxion_source = 0.000000e+00\n",
      "dxion_sink = 7.703263e-07\n",
      "T = 2.981112e+00\n",
      "alpha_A(T) = 6.909875e-11\n",
      "global_params.CLUMPING_FACTOR = 1.000000e+00\n",
      "x_e = 6.295832e-04\n",
      "f_H = 9.249617e-01\n",
      "prefactor_1 = 6.742722e-05\n",
      "curr_delNL0 = -3.227235e-07\n",
      "growth_factor_zp = 1.846926e-01\n",
      "input ionization = 5.942991e-07\n",
      "\n",
      "N_b0 = 2.055340e-07\n",
      "f_H = 9.249617e-01\n",
      "\n",
      "after 2.9590566 0.00062940724\n",
      "----- DM21CM -----\n",
      "z 5.965813732219992\n",
      "[6.07630347e-10 9.21913388e-12 5.33110258e-10 3.13427148e-10\n",
      " 9.51492745e-11 3.07388482e-06]\n",
      "3.387651e-05\n",
      "1.1545143e-06\n",
      "2.3484512e-05\n",
      "2.0914977e-05\n",
      "-----------------\n",
      "i_z=189/204 z=5.97 bath.toteng=9.111e+00 eV/Bavg\n",
      "dt 450642258561823.9 474197817908822.56\n",
      "before 2.9590566 0.00062940724\n",
      "input_heating 0.037400596\n",
      "This is commented out: dspec_dzp = - dxe_dzp * T / (1+x_e); need to put it back in\n",
      "box_ct = 0\n",
      "dzp = -6.828547e-02\n",
      "zp = 5.828560e+00\n",
      "dt_dzp = -6.702685e+15\n",
      "dadia_dzp * dzp = -5.918101e-02\n",
      "dspec_dzp * dzp = 0.000000e+00\n",
      "dcomp_dzp * dzp = 2.470473e-04\n",
      "dxheat_dzp * dzp = 0.000000e+00\n",
      "input heating = 3.740059e-02\n",
      "dxion_source = 0.000000e+00\n",
      "dxion_sink = 7.615955e-07\n",
      "T = 2.959056e+00\n",
      "alpha_A(T) = 6.938875e-11\n",
      "global_params.CLUMPING_FACTOR = 1.000000e+00\n",
      "x_e = 6.294072e-04\n",
      "f_H = 9.249617e-01\n",
      "prefactor_1 = 6.544420e-05\n",
      "curr_delNL0 = -3.195389e-07\n",
      "growth_factor_zp = 1.865333e-01\n",
      "input ionization = 5.956852e-07\n",
      "\n",
      "N_b0 = 2.055340e-07\n",
      "f_H = 9.249617e-01\n",
      "\n",
      "after 2.937523 0.0006292413\n",
      "----- DM21CM -----\n",
      "z 5.896845279425735\n",
      "[6.01578229e-10 9.12644526e-12 5.27833094e-10 3.10307680e-10\n",
      " 9.42035885e-11 3.04190654e-06]\n",
      "3.3289958e-05\n",
      "1.1333659e-06\n",
      "2.3067807e-05\n",
      "2.0553794e-05\n",
      "-----------------\n",
      "i_z=190/204 z=5.90 bath.toteng=9.248e+00 eV/Bavg\n",
      "dt 457375658469975.3 483415871926084.5\n",
      "before 2.937523 0.0006292413\n",
      "input_heating 0.037489153\n",
      "This is commented out: dspec_dzp = - dxe_dzp * T / (1+x_e); need to put it back in\n",
      "box_ct = 0\n",
      "dzp = -6.760979e-02\n",
      "zp = 5.760950e+00\n",
      "dt_dzp = -6.870787e+15\n",
      "dadia_dzp * dzp = -5.875071e-02\n",
      "dspec_dzp * dzp = 0.000000e+00\n",
      "dcomp_dzp * dzp = 2.383881e-04\n",
      "dxheat_dzp * dzp = 0.000000e+00\n",
      "input heating = 3.748915e-02\n",
      "dxion_source = 0.000000e+00\n",
      "dxion_sink = 7.529376e-07\n",
      "T = 2.937523e+00\n",
      "alpha_A(T) = 6.967513e-11\n",
      "global_params.CLUMPING_FACTOR = 1.000000e+00\n",
      "x_e = 6.292413e-04\n",
      "f_H = 9.249617e-01\n",
      "prefactor_1 = 6.351948e-05\n",
      "curr_delNL0 = -3.163861e-07\n",
      "growth_factor_zp = 1.883921e-01\n",
      "input ionization = 5.970478e-07\n",
      "\n",
      "N_b0 = 2.055340e-07\n",
      "f_H = 9.249617e-01\n",
      "\n",
      "after 2.9164999 0.0006290854\n",
      "----- DM21CM -----\n",
      "z 5.828559682599738\n",
      "[5.95585814e-10 9.03466155e-12 5.22607713e-10 3.07220192e-10\n",
      " 9.32670688e-11 3.01024536e-06]\n",
      "3.2730994e-05\n",
      "1.1131734e-06\n",
      "2.267045e-05\n",
      "2.0209605e-05\n",
      "-----------------\n",
      "i_z=191/204 z=5.83 bath.toteng=9.387e+00 eV/Bavg\n",
      "dt 464208188076855.75 492542658081789.4\n",
      "before 2.9164999 0.0006290854\n",
      "input_heating 0.03757638\n",
      "This is commented out: dspec_dzp = - dxe_dzp * T / (1+x_e); need to put it back in\n",
      "box_ct = 0\n",
      "dzp = -6.693983e-02\n",
      "zp = 5.694010e+00\n",
      "dt_dzp = -7.043083e+15\n",
      "dadia_dzp * dzp = -5.832976e-02\n",
      "dspec_dzp * dzp = 0.000000e+00\n",
      "dcomp_dzp * dzp = 2.300263e-04\n",
      "dxheat_dzp * dzp = 0.000000e+00\n",
      "input heating = 3.757638e-02\n",
      "dxion_source = 0.000000e+00\n",
      "dxion_sink = 7.443375e-07\n",
      "T = 2.916500e+00\n",
      "alpha_A(T) = 6.995788e-11\n",
      "global_params.CLUMPING_FACTOR = 1.000000e+00\n",
      "x_e = 6.290854e-04\n",
      "f_H = 9.249617e-01\n",
      "prefactor_1 = 6.165139e-05\n",
      "curr_delNL0 = -3.132648e-07\n",
      "growth_factor_zp = 1.902692e-01\n",
      "input ionization = 5.983893e-07\n",
      "\n",
      "N_b0 = 2.055340e-07\n",
      "f_H = 9.249617e-01\n",
      "\n",
      "after 2.8959768 0.0006289395\n",
      "----- DM21CM -----\n",
      "z 5.76095018079182\n",
      "[5.89652507e-10 8.94377345e-12 5.17433604e-10 3.04164239e-10\n",
      " 9.23395983e-11 2.97889745e-06]\n",
      "3.2197804e-05\n",
      "1.0938741e-06\n",
      "2.2291168e-05\n",
      "1.9881281e-05\n",
      "-----------------\n",
      "i_z=192/204 z=5.76 bath.toteng=9.528e+00 eV/Bavg\n",
      "dt 471141241160197.7 501579080018131.0\n",
      "before 2.8959768 0.0006289395\n",
      "input_heating 0.03766241\n",
      "This is commented out: dspec_dzp = - dxe_dzp * T / (1+x_e); need to put it back in\n",
      "box_ct = 0\n",
      "dzp = -6.627750e-02\n",
      "zp = 5.627733e+00\n",
      "dt_dzp = -7.219676e+15\n",
      "dadia_dzp * dzp = -5.791968e-02\n",
      "dspec_dzp * dzp = 0.000000e+00\n",
      "dcomp_dzp * dzp = 2.219584e-04\n",
      "dxheat_dzp * dzp = 0.000000e+00\n",
      "input heating = 3.766241e-02\n",
      "dxion_source = 0.000000e+00\n",
      "dxion_sink = 7.358170e-07\n",
      "T = 2.895976e+00\n",
      "alpha_A(T) = 7.023698e-11\n",
      "global_params.CLUMPING_FACTOR = 1.000000e+00\n",
      "x_e = 6.289395e-04\n",
      "f_H = 9.249617e-01\n",
      "prefactor_1 = 5.983823e-05\n",
      "curr_delNL0 = -3.101746e-07\n",
      "growth_factor_zp = 1.921648e-01\n",
      "input ionization = 5.997112e-07\n",
      "\n",
      "N_b0 = 2.055340e-07\n",
      "f_H = 9.249617e-01\n",
      "\n",
      "after 2.875941 0.0006288033\n",
      "----- DM21CM -----\n",
      "z 5.694010079991901\n",
      "[5.83777711e-10 8.85377431e-12 5.12310255e-10 3.01139585e-10\n",
      " 9.14211132e-11 2.94785968e-06]\n",
      "3.1688705e-05\n",
      "1.0754102e-06\n",
      "2.1928792e-05\n",
      "1.9567795e-05\n",
      "-----------------\n",
      "i_z=193/204 z=5.69 bath.toteng=9.670e+00 eV/Bavg\n",
      "dt 478176228106358.44 510526032430350.4\n",
      "before 2.875941 0.0006288033\n",
      "input_heating 0.037747294\n",
      "This is commented out: dspec_dzp = - dxe_dzp * T / (1+x_e); need to put it back in\n",
      "box_ct = 0\n",
      "dzp = -6.562090e-02\n",
      "zp = 5.562112e+00\n",
      "dt_dzp = -7.400671e+15\n",
      "dadia_dzp * dzp = -5.751863e-02\n",
      "dspec_dzp * dzp = 0.000000e+00\n",
      "dcomp_dzp * dzp = 2.141681e-04\n",
      "dxheat_dzp * dzp = 0.000000e+00\n",
      "input heating = 3.774729e-02\n",
      "dxion_source = 0.000000e+00\n",
      "dxion_sink = 7.273559e-07\n",
      "T = 2.875941e+00\n",
      "alpha_A(T) = 7.051241e-11\n",
      "global_params.CLUMPING_FACTOR = 1.000000e+00\n",
      "x_e = 6.288034e-04\n",
      "f_H = 9.249617e-01\n",
      "prefactor_1 = 5.807840e-05\n",
      "curr_delNL0 = -3.071153e-07\n",
      "growth_factor_zp = 1.940790e-01\n",
      "input ionization = 6.010146e-07\n",
      "\n",
      "N_b0 = 2.055340e-07\n",
      "f_H = 9.249617e-01\n",
      "\n",
      "after 2.856384 0.0006286771\n",
      "----- DM21CM -----\n",
      "z 5.627732752467228\n",
      "[5.77960830e-10 8.76465214e-12 5.07237241e-10 2.98145805e-10\n",
      " 9.05115282e-11 2.91712924e-06]\n",
      "3.1202155e-05\n",
      "1.057729e-06\n",
      "2.158224e-05\n",
      "1.9268196e-05\n",
      "-----------------\n",
      "i_z=194/204 z=5.63 bath.toteng=9.816e+00 eV/Bavg\n",
      "dt 485314575967456.94 519384401155320.0\n",
      "before 2.856384 0.0006286771\n",
      "input_heating 0.03783109\n",
      "This is commented out: dspec_dzp = - dxe_dzp * T / (1+x_e); need to put it back in\n",
      "box_ct = 0\n",
      "dzp = -6.497145e-02\n",
      "zp = 5.497140e+00\n",
      "dt_dzp = -7.586179e+15\n",
      "dadia_dzp * dzp = -5.712771e-02\n",
      "dspec_dzp * dzp = 0.000000e+00\n",
      "dcomp_dzp * dzp = 2.066505e-04\n",
      "dxheat_dzp * dzp = 0.000000e+00\n",
      "input heating = 3.783109e-02\n",
      "dxion_source = 0.000000e+00\n",
      "dxion_sink = 7.189706e-07\n",
      "T = 2.856384e+00\n",
      "alpha_A(T) = 7.078416e-11\n",
      "global_params.CLUMPING_FACTOR = 1.000000e+00\n",
      "x_e = 6.286770e-04\n",
      "f_H = 9.249617e-01\n",
      "prefactor_1 = 5.637032e-05\n",
      "curr_delNL0 = -3.040866e-07\n",
      "growth_factor_zp = 1.960121e-01\n",
      "input ionization = 6.023005e-07\n",
      "\n",
      "N_b0 = 2.055340e-07\n",
      "f_H = 9.249617e-01\n",
      "\n",
      "after 2.8372943 0.00062856043\n",
      "----- DM21CM -----\n",
      "z 5.562111636106167\n",
      "[5.72201354e-10 8.67640295e-12 5.02213966e-10 2.95182644e-10\n",
      " 8.96107583e-11 2.88670300e-06]\n",
      "3.0736737e-05\n",
      "1.0407808e-06\n",
      "2.1250518e-05\n",
      "1.8981613e-05\n",
      "-----------------\n",
      "i_z=195/204 z=5.56 bath.toteng=9.963e+00 eV/Bavg\n",
      "dt 492557728511573.06 528155063259250.3\n",
      "before 2.8372943 0.00062856043\n",
      "input_heating 0.037913855\n",
      "This is commented out: dspec_dzp = - dxe_dzp * T / (1+x_e); need to put it back in\n",
      "box_ct = 0\n",
      "dzp = -6.432819e-02\n",
      "zp = 5.432812e+00\n",
      "dt_dzp = -7.776308e+15\n",
      "dadia_dzp * dzp = -5.674594e-02\n",
      "dspec_dzp * dzp = 0.000000e+00\n",
      "dcomp_dzp * dzp = 1.993935e-04\n",
      "dxheat_dzp * dzp = 0.000000e+00\n",
      "input heating = 3.791386e-02\n",
      "dxion_source = 0.000000e+00\n",
      "dxion_sink = 7.106513e-07\n",
      "T = 2.837294e+00\n",
      "alpha_A(T) = 7.105222e-11\n",
      "global_params.CLUMPING_FACTOR = 1.000000e+00\n",
      "x_e = 6.285604e-04\n",
      "f_H = 9.249617e-01\n",
      "prefactor_1 = 5.471248e-05\n",
      "curr_delNL0 = -3.010881e-07\n",
      "growth_factor_zp = 1.979641e-01\n",
      "input ionization = 6.035697e-07\n",
      "\n",
      "N_b0 = 2.055340e-07\n",
      "f_H = 9.249617e-01\n",
      "\n",
      "after 2.818661 0.00062845333\n",
      "----- DM21CM -----\n",
      "z 5.497140233768482\n",
      "[5.66498685e-10 8.58901610e-12 4.97240089e-10 2.92249760e-10\n",
      " 8.87187288e-11 2.85657835e-06]\n",
      "3.0291141e-05\n",
      "1.0245205e-06\n",
      "2.0932703e-05\n",
      "1.8707236e-05\n",
      "-----------------\n",
      "i_z=196/204 z=5.50 bath.toteng=1.011e+01 eV/Bavg\n",
      "dt 499907146264882.06 536838887124527.9\n",
      "before 2.818661 0.00062845333\n",
      "input_heating 0.037995614\n",
      "This is commented out: dspec_dzp = - dxe_dzp * T / (1+x_e); need to put it back in\n",
      "box_ct = 0\n",
      "dzp = -6.369114e-02\n",
      "zp = 5.369121e+00\n",
      "dt_dzp = -7.971173e+15\n",
      "dadia_dzp * dzp = -5.637316e-02\n",
      "dspec_dzp * dzp = 0.000000e+00\n",
      "dcomp_dzp * dzp = 1.923882e-04\n",
      "dxheat_dzp * dzp = 0.000000e+00\n",
      "input heating = 3.799561e-02\n",
      "dxion_source = 0.000000e+00\n",
      "dxion_sink = 7.023987e-07\n",
      "T = 2.818661e+00\n",
      "alpha_A(T) = 7.131657e-11\n",
      "global_params.CLUMPING_FACTOR = 1.000000e+00\n",
      "x_e = 6.284533e-04\n",
      "f_H = 9.249617e-01\n",
      "prefactor_1 = 5.310339e-05\n",
      "curr_delNL0 = -2.981196e-07\n",
      "growth_factor_zp = 1.999353e-01\n",
      "input ionization = 6.048224e-07\n",
      "\n",
      "N_b0 = 2.055340e-07\n",
      "f_H = 9.249617e-01\n",
      "\n",
      "after 2.800476 0.0006283558\n",
      "----- DM21CM -----\n",
      "z 5.432812112642061\n",
      "[5.60852312e-10 8.50248161e-12 4.92314972e-10 2.89346770e-10\n",
      " 8.78353333e-11 2.82675196e-06]\n",
      "2.9864157e-05\n",
      "1.0089061e-06\n",
      "2.0627955e-05\n",
      "1.8444325e-05\n",
      "-----------------\n",
      "i_z=197/204 z=5.43 bath.toteng=1.026e+01 eV/Bavg\n",
      "dt 507364306545355.6 545436732535693.75\n",
      "before 2.800476 0.0006283558\n",
      "input_heating 0.038076382\n",
      "This is commented out: dspec_dzp = - dxe_dzp * T / (1+x_e); need to put it back in\n",
      "box_ct = 0\n",
      "dzp = -6.306076e-02\n",
      "zp = 5.306060e+00\n",
      "dt_dzp = -8.170891e+15\n",
      "dadia_dzp * dzp = -5.600966e-02\n",
      "dspec_dzp * dzp = 0.000000e+00\n",
      "dcomp_dzp * dzp = 1.856274e-04\n",
      "dxheat_dzp * dzp = 0.000000e+00\n",
      "input heating = 3.807638e-02\n",
      "dxion_source = 0.000000e+00\n",
      "dxion_sink = 6.942187e-07\n",
      "T = 2.800476e+00\n",
      "alpha_A(T) = 7.157720e-11\n",
      "global_params.CLUMPING_FACTOR = 1.000000e+00\n",
      "x_e = 6.283557e-04\n",
      "f_H = 9.249617e-01\n",
      "prefactor_1 = 5.154163e-05\n",
      "curr_delNL0 = -2.951807e-07\n",
      "growth_factor_zp = 2.019259e-01\n",
      "input ionization = 6.060598e-07\n",
      "\n",
      "N_b0 = 2.055340e-07\n",
      "f_H = 9.249617e-01\n",
      "\n",
      "after 2.782729 0.0006282675\n",
      "----- DM21CM -----\n",
      "z 5.369120903606001\n",
      "[5.55261641e-10 8.41679615e-12 4.87438315e-10 2.86473377e-10\n",
      " 8.69605187e-11 2.79722053e-06]\n",
      "2.9454663e-05\n",
      "9.938973e-07\n",
      "2.0335461e-05\n",
      "1.8192171e-05\n",
      "-----------------\n",
      "i_z=198/204 z=5.37 bath.toteng=1.042e+01 eV/Bavg\n",
      "dt 514930703487868.56 553949450764570.9\n",
      "before 2.782729 0.0006282675\n",
      "input_heating 0.038156204\n",
      "This is commented out: dspec_dzp = - dxe_dzp * T / (1+x_e); need to put it back in\n",
      "box_ct = 0\n",
      "dzp = -6.243610e-02\n",
      "zp = 5.243624e+00\n",
      "dt_dzp = -8.375579e+15\n",
      "dadia_dzp * dzp = -5.565445e-02\n",
      "dspec_dzp * dzp = 0.000000e+00\n",
      "dcomp_dzp * dzp = 1.791003e-04\n",
      "dxheat_dzp * dzp = 0.000000e+00\n",
      "input heating = 3.815620e-02\n",
      "dxion_source = 0.000000e+00\n",
      "dxion_sink = 6.861015e-07\n",
      "T = 2.782728e+00\n",
      "alpha_A(T) = 7.183411e-11\n",
      "global_params.CLUMPING_FACTOR = 1.000000e+00\n",
      "x_e = 6.282675e-04\n",
      "f_H = 9.249617e-01\n",
      "prefactor_1 = 5.002580e-05\n",
      "curr_delNL0 = -2.922713e-07\n",
      "growth_factor_zp = 2.039360e-01\n",
      "input ionization = 6.072813e-07\n",
      "\n",
      "N_b0 = 2.055340e-07\n",
      "f_H = 9.249617e-01\n",
      "\n",
      "after 2.7654088 0.0006281886\n",
      "----- DM21CM -----\n",
      "z 5.306060300600001\n",
      "[5.49726073e-10 8.33194508e-12 4.82609482e-10 2.83629282e-10\n",
      " 8.60941837e-11 2.76798144e-06]\n",
      "2.9061617e-05\n",
      "9.794602e-07\n",
      "2.0054518e-05\n",
      "1.7950155e-05\n",
      "-----------------\n",
      "i_z=199/204 z=5.31 bath.toteng=1.057e+01 eV/Bavg\n",
      "dt 522607848059713.0 562377884654548.25\n",
      "before 2.7654088 0.0006281886\n",
      "input_heating 0.038235072\n",
      "This is commented out: dspec_dzp = - dxe_dzp * T / (1+x_e); need to put it back in\n",
      "box_ct = 0\n",
      "dzp = -6.181812e-02\n",
      "zp = 5.181806e+00\n",
      "dt_dzp = -8.585362e+15\n",
      "dadia_dzp * dzp = -5.530824e-02\n",
      "dspec_dzp * dzp = 0.000000e+00\n",
      "dcomp_dzp * dzp = 1.728014e-04\n",
      "dxheat_dzp * dzp = 0.000000e+00\n",
      "input heating = 3.823507e-02\n",
      "dxion_source = 0.000000e+00\n",
      "dxion_sink = 6.780582e-07\n",
      "T = 2.765409e+00\n",
      "alpha_A(T) = 7.208728e-11\n",
      "global_params.CLUMPING_FACTOR = 1.000000e+00\n",
      "x_e = 6.281887e-04\n",
      "f_H = 9.249617e-01\n",
      "prefactor_1 = 4.855455e-05\n",
      "curr_delNL0 = -2.893910e-07\n",
      "growth_factor_zp = 2.059658e-01\n",
      "input ionization = 6.084877e-07\n",
      "\n",
      "N_b0 = 2.055340e-07\n",
      "f_H = 9.249617e-01\n",
      "\n",
      "after 2.7485087 0.0006281192\n",
      "----- DM21CM -----\n",
      "z 5.243624060000001\n",
      "[5.44245185e-10 8.24792707e-12 4.77828087e-10 2.80814251e-10\n",
      " 8.52362804e-11 2.73903224e-06]\n",
      "2.8684066e-05\n",
      "9.655599e-07\n",
      "1.9784462e-05\n",
      "1.7717686e-05\n",
      "-----------------\n",
      "i_z=200/204 z=5.24 bath.toteng=1.073e+01 eV/Bavg\n",
      "dt 530397268066533.1 570722868704030.8\n",
      "before 2.7485087 0.0006281192\n",
      "input_heating 0.038313013\n",
      "This is commented out: dspec_dzp = - dxe_dzp * T / (1+x_e); need to put it back in\n",
      "box_ct = 0\n",
      "dzp = -6.120586e-02\n",
      "zp = 5.120600e+00\n",
      "dt_dzp = -8.800361e+15\n",
      "dadia_dzp * dzp = -5.497006e-02\n",
      "dspec_dzp * dzp = 0.000000e+00\n",
      "dcomp_dzp * dzp = 1.667206e-04\n",
      "dxheat_dzp * dzp = 0.000000e+00\n",
      "input heating = 3.831301e-02\n",
      "dxion_source = 0.000000e+00\n",
      "dxion_sink = 6.700789e-07\n",
      "T = 2.748509e+00\n",
      "alpha_A(T) = 7.233672e-11\n",
      "global_params.CLUMPING_FACTOR = 1.000000e+00\n",
      "x_e = 6.281192e-04\n",
      "f_H = 9.249617e-01\n",
      "prefactor_1 = 4.712657e-05\n",
      "curr_delNL0 = -2.865395e-07\n",
      "growth_factor_zp = 2.080154e-01\n",
      "input ionization = 6.096790e-07\n",
      "\n",
      "N_b0 = 2.055340e-07\n",
      "f_H = 9.249617e-01\n",
      "\n",
      "after 2.7320187 0.00062805874\n",
      "----- DM21CM -----\n",
      "z 5.181806000000001\n",
      "[5.38818293e-10 8.16473014e-12 4.73093791e-10 2.78027836e-10\n",
      " 8.43866971e-11 2.71036946e-06]\n",
      "2.8321123e-05\n",
      "9.521657e-07\n",
      "1.952463e-05\n",
      "1.7494202e-05\n",
      "-----------------\n",
      "i_z=201/204 z=5.18 bath.toteng=1.089e+01 eV/Bavg\n",
      "dt 538300508147490.44 578985229149063.0\n",
      "before 2.7320187 0.00062805874\n",
      "input_heating 0.038390033\n",
      "This is commented out: dspec_dzp = - dxe_dzp * T / (1+x_e); need to put it back in\n",
      "box_ct = 0\n",
      "dzp = -6.060028e-02\n",
      "zp = 5.060000e+00\n",
      "dt_dzp = -9.020708e+15\n",
      "dadia_dzp * dzp = -5.464063e-02\n",
      "dspec_dzp * dzp = 0.000000e+00\n",
      "dcomp_dzp * dzp = 1.608528e-04\n",
      "dxheat_dzp * dzp = 0.000000e+00\n",
      "input heating = 3.839003e-02\n",
      "dxion_source = 0.000000e+00\n",
      "dxion_sink = 6.621747e-07\n",
      "T = 2.732019e+00\n",
      "alpha_A(T) = 7.258241e-11\n",
      "global_params.CLUMPING_FACTOR = 1.000000e+00\n",
      "x_e = 6.280587e-04\n",
      "f_H = 9.249617e-01\n",
      "prefactor_1 = 4.574058e-05\n",
      "curr_delNL0 = -2.837165e-07\n",
      "growth_factor_zp = 2.100852e-01\n",
      "input ionization = 6.108552e-07\n",
      "\n",
      "N_b0 = 2.055340e-07\n",
      "f_H = 9.249617e-01\n",
      "\n",
      "after 2.7159286 0.00062800746\n",
      "----- DM21CM -----\n",
      "z 5.1206000000000005\n",
      "[5.33445101e-10 8.08234764e-12 4.68405912e-10 2.75269804e-10\n",
      " 8.35453645e-11 2.68199098e-06]\n",
      "2.7971979e-05\n",
      "9.3925036e-07\n",
      "1.9274492e-05\n",
      "1.7279224e-05\n",
      "-----------------\n",
      "i_z=202/204 z=5.12 bath.toteng=1.106e+01 eV/Bavg\n",
      "dt 546319129759742.7 587165784045134.5\n",
      "before 2.7159286 0.00062800746\n",
      "input_heating 0.038466115\n",
      "This is commented out: dspec_dzp = - dxe_dzp * T / (1+x_e); need to put it back in\n",
      "box_ct = 0\n",
      "dzp = -5.999994e-02\n",
      "zp = 5.000000e+00\n",
      "dt_dzp = -9.246531e+15\n",
      "dadia_dzp * dzp = -5.431853e-02\n",
      "dspec_dzp * dzp = 0.000000e+00\n",
      "dcomp_dzp * dzp = 1.551872e-04\n",
      "dxheat_dzp * dzp = 0.000000e+00\n",
      "input heating = 3.846611e-02\n",
      "dxion_source = 0.000000e+00\n",
      "dxion_sink = 6.543305e-07\n",
      "T = 2.715929e+00\n",
      "alpha_A(T) = 7.282437e-11\n",
      "global_params.CLUMPING_FACTOR = 1.000000e+00\n",
      "x_e = 6.280074e-04\n",
      "f_H = 9.249617e-01\n",
      "prefactor_1 = 4.439535e-05\n",
      "curr_delNL0 = -2.809219e-07\n",
      "growth_factor_zp = 2.121752e-01\n",
      "input ionization = 6.120165e-07\n",
      "\n",
      "N_b0 = 2.055340e-07\n",
      "f_H = 9.249617e-01\n",
      "\n",
      "after 2.7002323 0.0006279651\n",
      "----- DM21CM -----\n",
      "z 5.0600000000000005\n",
      "[5.28124841e-10 8.00077026e-12 4.63764109e-10 2.72539857e-10\n",
      " 8.27122189e-11 2.65389264e-06]\n",
      "2.7635835e-05\n",
      "9.2678516e-07\n",
      "1.9033465e-05\n",
      "1.7072252e-05\n",
      "-----------------\n",
      "i_z=203/204 z=5.06 bath.toteng=1.122e+01 eV/Bavg\n",
      "xray: 0.0151 +/- 0.0910 s\n",
      "bath+dm: 0.0254 +/- 0.0017 s\n",
      "21cmFAST: 0.5326 +/- 0.0328 s\n",
      "prep_next: 0.0467 +/- 0.0139 s\n"
     ]
    }
   ],
   "source": [
    "dm_params = DMParams(\n",
    "    mode = 'decay',\n",
    "    primary = 'phot_delta',\n",
    "    m_DM = 1.2e10,\n",
    "    lifetime = 1e25,\n",
    ")\n",
    "\n",
    "return_dict = evolve(\n",
    "    run_name = 'dhc_phph',\n",
    "    z_start = 45.,\n",
    "    z_end = 5.,\n",
    "    zplusone_step_factor = 1.01,\n",
    "    dm_params = dm_params,\n",
    "    enable_elec = False,\n",
    "    tf_version = tf_version,\n",
    "    \n",
    "    p21c_initial_conditions = p21c.initial_conditions(\n",
    "        user_params = p21c.UserParams(\n",
    "            HII_DIM = 16,\n",
    "            BOX_LEN = 16 * 4, # [conformal Mpc]\n",
    "            N_THREADS = 32,\n",
    "        ),\n",
    "        cosmo_params = p21c.CosmoParams(\n",
    "            OMm = Planck18.Om0,\n",
    "            OMb = Planck18.Ob0,\n",
    "            POWER_INDEX = Planck18.meta['n'],\n",
    "            #SIGMA_8 = Planck18.meta['sigma8'],\n",
    "            SIGMA_8 = 1e-8,\n",
    "            hlittle = Planck18.h,\n",
    "        ),\n",
    "        random_seed = 54321,\n",
    "        write = True,\n",
    "    ),\n",
    "    \n",
    "    rerun_DH = False,\n",
    "    clear_cache = True,\n",
    "    use_tqdm = False,\n",
    "    debug_flags = ['uniform_xray'],\n",
    "    debug_xray_multiplier = 1.,\n",
    "    debug_astro_params = p21c.AstroParams(\n",
    "        L_X = 0. # log10 value\n",
    "    ),\n",
    "    save_dir='run_info',\n",
    "    debug_dhc_DH_xe_func=dh_xe_interp_func,\n",
    "    debug_dhc_delta_fixed=True,\n",
    "    debug_no_bath=False,\n",
    "    debug_use_tf_dt=True,\n",
    "    dh_bath_N_interp_func=dh_bath_N_interp_func,\n",
    ")"
   ]
  },
  {
   "cell_type": "markdown",
   "metadata": {},
   "source": [
    "## compare"
   ]
  },
  {
   "cell_type": "code",
   "execution_count": 8,
   "metadata": {},
   "outputs": [],
   "source": [
    "def plot_global(dh_soln, soln):\n",
    "    fig, axs = plt.subplots(2, 4, figsize=(20, 10))\n",
    "\n",
    "    color_dict = {\n",
    "        'DH' : 'k',\n",
    "        '21' : 'r',\n",
    "    }\n",
    "\n",
    "    z_plot_start = 50.\n",
    "    i_z_st = np.argmin(np.abs(dh_soln['rs']-1 - z_plot_start))\n",
    "    ax = axs[0,0]\n",
    "    ax.plot(dh_soln['rs'][i_z_st:] - 1, dh_soln['Tm'][i_z_st:]/phys.kB, color=color_dict['DH'], label='DarkHistory')\n",
    "    ax.plot(soln['z'], soln['T_k'], color=color_dict['21'], ls=':', label='dm21cm')\n",
    "    ax.plot(soln['z'][0], soln['T_k'][0], color=color_dict['21'], marker='+', ms=5)\n",
    "    ax.set(xlim=(5, 50), xscale='log', yscale='log')\n",
    "    ax.set(xlabel='$z$', ylabel='$T_k$ [K]', title='Gas temperature')\n",
    "    ax.legend()\n",
    "\n",
    "    ax = axs[0,1]\n",
    "    ax.plot(dh_soln['rs'][i_z_st:] - 1, dh_soln['x'][i_z_st:, 0], color=color_dict['DH'], label='DH HII')\n",
    "    #ax.plot(dh_soln['rs'][i_z_st:] - 1, dh_soln['x'][i_z_st:, 1], color='b', label='DH HeII')\n",
    "    ax.plot(soln['z'], soln['x_e'], color=color_dict['21'], ls=':', label='dm21cm')\n",
    "    ax.plot(soln['z'][0], soln['x_e'][0], color=color_dict['21'], marker='+', ms=5)\n",
    "    ax.set(xlim=(5, 50), xscale='log', yscale='log')\n",
    "    ax.set(xlabel='$z$', ylabel='$x_e$', title='$x_e$')\n",
    "    ax.legend()\n",
    "\n",
    "    ax = axs[0,2]\n",
    "    ax.plot(dh_soln['rs'][i_z_st:] - 1, dh_soln['x'][i_z_st:, 0], color=color_dict['DH'], label='DH HII')\n",
    "    #ax.plot(dh_soln['rs'][i_z_st:] - 1, dh_soln['x'][i_z_st:, 1], color='b', label='DH HeII')\n",
    "    ax.plot(soln['z'], soln['1-x_H'], color=color_dict['21'], ls=':', label='dm21cm')\n",
    "    ax.plot(soln['z'][0], soln['1-x_H'][0], color=color_dict['21'], marker='+', ms=5)\n",
    "    ax.set(xlim=(5, 50), xscale='log', yscale='log')\n",
    "    ax.set(xlabel='$z$', ylabel='$1-x_H$', title='$1-x_H$')\n",
    "    ax.legend()\n",
    "\n",
    "    ax = axs[0,3]\n",
    "    ax.plot(soln['z'], soln['T_b'], color=color_dict['21'], ls=':', label='dm21cm')\n",
    "    ax.set(xlim=(5, 50), xscale='log')\n",
    "    ax.set(xlabel='$z$', ylabel='$T_b$ [K]', title='Brightness temperature')\n",
    "\n",
    "    ax = axs[1,0]\n",
    "    dh_bath_engs = [s.toteng() for s in dh_soln['highengphot']]\n",
    "    ax.plot(dh_soln['rs'][i_z_st:] - 1, dh_bath_engs[i_z_st:], color=color_dict['DH'], label='DarkHistory')\n",
    "    ax.plot(soln['z'], soln['E_phot'], color=color_dict['21'], ls=':', label='dm21cm')\n",
    "    ax.plot(soln['z'][0], soln['E_phot'][0], color=color_dict['21'], marker='+', ms=5)\n",
    "    ax.set(xlim=(5, 50), xscale='log', yscale='log')\n",
    "    ax.set(xlabel='$z$', ylabel='$E$ [eV/Bavg]', title='Bath energy')\n",
    "\n",
    "    ax = axs[1,1]\n",
    "    dh_fs = dh_soln['f']['low']['heat'] + dh_soln['f']['high']['heat']\n",
    "    ax.plot(dh_soln['rs'][i_z_st:] - 1, dh_fs[i_z_st:], color=color_dict['DH'], label='DarkHistory')\n",
    "    ax.plot(soln['z'], soln['f_heat'], color=color_dict['21'], ls=':', label='dm21cm')\n",
    "    ax.set(xlim=(5, 50), xscale='log', yscale='log')\n",
    "    ax.set(xlabel='$z$', ylabel='$f$', title=r'$f\\mathrm{heat}$')\n",
    "\n",
    "    ax = axs[1,2]\n",
    "    dh_fs = dh_soln['f']['low']['H ion'] + dh_soln['f']['high']['H ion'] + dh_soln['f']['low']['He ion'] + dh_soln['f']['high']['He ion']\n",
    "    ax.plot(dh_soln['rs'][i_z_st:] - 1, dh_fs[i_z_st:], color=color_dict['DH'], label='DarkHistory')\n",
    "    ax.plot(soln['z'], soln['f_ion'], color=color_dict['21'], ls=':', label='dm21cm')\n",
    "    ax.set(xlim=(5, 50), xscale='log', yscale='log')\n",
    "    ax.set(xlabel='$z$', ylabel='$f$', title=r'$f\\mathrm{ion}$')\n",
    "\n",
    "    ax = axs[1,3]\n",
    "    dh_fs = dh_soln['f']['low']['exc'] + dh_soln['f']['high']['exc']\n",
    "    ax.plot(dh_soln['rs'][i_z_st:] - 1, dh_fs[i_z_st:], color=color_dict['DH'], label='DarkHistory')\n",
    "    ax.plot(soln['z'], soln['f_exc'], color=color_dict['21'], ls=':', label='dm21cm')\n",
    "    ax.set(xlim=(5, 50), xscale='log', yscale='log')\n",
    "    ax.set(xlabel='$z$', ylabel='$f$', title=r'$f\\mathrm{exc}$')"
   ]
  },
  {
   "cell_type": "code",
   "execution_count": 9,
   "metadata": {},
   "outputs": [
    {
     "data": {
      "image/png": "[encoded data removed]",
      "text/plain": [
       "<Figure size 2400x1200 with 8 Axes>"
      ]
     },
     "metadata": {},
     "output_type": "display_data"
    }
   ],
   "source": [
    "run_name = 'dhc_phph'\n",
    "dh_soln = pickle.load(open(f\"run_info/{run_name}_dh_soln.p\", 'rb'))\n",
    "run_name = 'dhc_phph'\n",
    "soln = np.load(f\"run_info/{run_name}_records.npy\", allow_pickle=True).item()\n",
    "plot_global(dh_soln, soln)"
   ]
  },
  {
   "cell_type": "code",
   "execution_count": 10,
   "metadata": {},
   "outputs": [],
   "source": [
    "from dm21cm.utils import load_h5_dict\n",
    "abscs = load_h5_dict(f\"../data/abscissas/abscs_{tf_version}.h5\")"
   ]
  },
  {
   "cell_type": "code",
   "execution_count": 11,
   "metadata": {},
   "outputs": [
    {
     "data": {
      "text/plain": [
       "dict_keys(['dep_c', 'dlnz', 'elecEk', 'nBs', 'photE', 'rs', 'x'])"
      ]
     },
     "execution_count": 11,
     "metadata": {},
     "output_type": "execute_result"
    }
   ],
   "source": [
    "abscs.keys()"
   ]
  },
  {
   "cell_type": "code",
   "execution_count": 12,
   "metadata": {},
   "outputs": [
    {
     "data": {
      "text/plain": [
       "<matplotlib.legend.Legend at 0x7f06f00a3f90>"
      ]
     },
     "execution_count": 12,
     "metadata": {},
     "output_type": "execute_result"
    },
    {
     "data": {
      "image/png": "[encoded data removed]",
      "text/plain": [
       "<Figure size 720x480 with 1 Axes>"
      ]
     },
     "metadata": {},
     "output_type": "display_data"
    }
   ],
   "source": [
    "diffs = {}\n",
    "for k in ['heat', 'ion', 'exc']:\n",
    "    if k == 'ion':\n",
    "        dh_fs = dh_soln['f']['low']['H ion'] + dh_soln['f']['high']['H ion'] + dh_soln['f']['low']['He ion'] + dh_soln['f']['high']['He ion']\n",
    "    else:\n",
    "        dh_fs = dh_soln['f']['low'][k] + dh_soln['f']['high'][k]\n",
    "    interp_dh = interpolate.interp1d(dh_soln['rs'] - 1, dh_fs, bounds_error=False, fill_value=0.)\n",
    "    interp_dm21 = interpolate.interp1d(soln['z'], soln[f'f_{k}'], bounds_error=False, fill_value=0.)\n",
    "\n",
    "    common_x = np.geomspace(5, 50, 100)  # you can adjust the number of points\n",
    "    common_dh = interp_dh(common_x)\n",
    "    common_dm21 = interp_dm21(common_x)\n",
    "    diffs.update({k : (common_dh - common_dm21) / common_dh})\n",
    "\n",
    "fig, ax = plt.subplots()\n",
    "for i, k in enumerate(diffs):\n",
    "    ax.plot(common_x, diffs[k], label=k, color=f'C{i}')\n",
    "    ax.plot(common_x, -diffs[k], ls=':', color=f'C{i}')\n",
    "for rs in abscs['rs']:\n",
    "    ax.axvline(rs-1, ls='--', color='k', alpha=0.2)\n",
    "ax.set(xlim=(5, 50), xscale='log', yscale='log')  # adjust scales as needed\n",
    "ax.set(xlabel='$z$', ylabel='Relative Difference', title='Relative Difference between DarkHistory and dm21cm')\n",
    "ax.legend()"
   ]
  },
  {
   "cell_type": "code",
   "execution_count": 13,
   "metadata": {},
   "outputs": [
    {
     "data": {
      "text/plain": [
       "<matplotlib.legend.Legend at 0x7f06dfd11c10>"
      ]
     },
     "execution_count": 13,
     "metadata": {},
     "output_type": "execute_result"
    },
    {
     "data": {
      "image/png": "[encoded data removed]",
      "text/plain": [
       "<Figure size 720x480 with 1 Axes>"
      ]
     },
     "metadata": {},
     "output_type": "display_data"
    }
   ],
   "source": [
    "interp_dh = interpolate.interp1d(dh_soln['rs'] - 1, [s.toteng() for s in dh_soln['highengphot']], bounds_error=False, fill_value=0.)\n",
    "interp_dm21 = interpolate.interp1d(soln['z'], soln['E_phot'], bounds_error=False, fill_value=0.)\n",
    "\n",
    "common_x = np.geomspace(5, 50, 100)  # you can adjust the number of points\n",
    "common_dh = interp_dh(common_x)\n",
    "common_dm21 = interp_dm21(common_x)\n",
    "diff = (common_dh - common_dm21) / common_dh\n",
    "\n",
    "fig, ax = plt.subplots()\n",
    "ax.plot(common_x, diff, label='bath', color=f'k')\n",
    "ax.plot(common_x, -diff, ls=':', color=f'k')\n",
    "for rs in abscs['rs']:\n",
    "    ax.axvline(rs-1, ls='--', color='k', alpha=0.2)\n",
    "ax.set(xlim=(5, 50), xscale='log', yscale='log')  # adjust scales as needed\n",
    "ax.set(xlabel='$z$', ylabel='Relative Difference', title='Relative Difference between DarkHistory and dm21cm')\n",
    "ax.legend()"
   ]
  },
  {
   "cell_type": "code",
   "execution_count": 18,
   "metadata": {},
   "outputs": [
    {
     "data": {
      "text/plain": [
       "dict_keys(['rs', 'x', 'Tm', 'highengphot', 'lowengphot', 'lowengelec', 'f'])"
      ]
     },
     "execution_count": 18,
     "metadata": {},
     "output_type": "execute_result"
    }
   ],
   "source": [
    "dh_soln.keys()"
   ]
  },
  {
   "cell_type": "code",
   "execution_count": null,
   "metadata": {},
   "outputs": [],
   "source": []
  },
  {
   "cell_type": "code",
   "execution_count": null,
   "metadata": {},
   "outputs": [],
   "source": []
  },
  {
   "cell_type": "code",
   "execution_count": null,
   "metadata": {},
   "outputs": [],
   "source": []
  },
  {
   "cell_type": "code",
   "execution_count": null,
   "metadata": {},
   "outputs": [],
   "source": [
    "zs = np.linspace(5.001, 44.999, 100)\n",
    "dh_fs = dh_soln['f']['low']['heat'] + dh_soln['f']['high']['heat']\n",
    "dh_arr = np.interp(1+zs, dh_soln['rs'][::-1], dh_fs[::-1])\n",
    "p21c_arr = np.interp(zs, soln['z'][::-1], soln['f_heat'][::-1])\n",
    "(np.abs(p21c_arr-dh_arr)/dh_arr)"
   ]
  },
  {
   "cell_type": "code",
   "execution_count": null,
   "metadata": {},
   "outputs": [
    {
     "data": {
      "text/plain": [
       "0.05427165381579362"
      ]
     },
     "execution_count": 69,
     "metadata": {},
     "output_type": "execute_result"
    }
   ],
   "source": [
    "zs = np.linspace(5.001, 44.999, 100)\n",
    "dh_bath_engs = [s.toteng() for s in dh_soln['highengphot']]\n",
    "dh_arr = np.interp(1+zs, dh_soln['rs'][::-1], dh_bath_engs[::-1])\n",
    "p21c_arr = np.interp(zs, soln['z'][::-1], soln['E_phot'][::-1])\n",
    "np.max(np.abs(p21c_arr-dh_arr)/dh_arr)"
   ]
  },
  {
   "cell_type": "code",
   "execution_count": null,
   "metadata": {},
   "outputs": [],
   "source": [
    "plt.plot(zs, p21c_arr)\n",
    "plt.plot(zs, dh_arr)"
   ]
  },
  {
   "cell_type": "code",
   "execution_count": null,
   "metadata": {},
   "outputs": [],
   "source": []
  }
 ],
 "metadata": {
  "kernelspec": {
   "display_name": "dm21cm",
   "language": "python",
   "name": "python3"
  },
  "language_info": {
   "codemirror_mode": {
    "name": "ipython",
    "version": 3
   },
   "file_extension": ".py",
   "mimetype": "text/x-python",
   "name": "python",
   "nbconvert_exporter": "python",
   "pygments_lexer": "ipython3",
   "version": "3.11.5"
  },
  "orig_nbformat": 4
 },
 "nbformat": 4,
 "nbformat_minor": 2
}
