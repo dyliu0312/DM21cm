{
 "cells": [
  {
   "cell_type": "code",
   "execution_count": 1,
   "id": "dc6d5aab-492a-457d-9a70-7a63b6a74d40",
   "metadata": {
    "tags": []
   },
   "outputs": [
    {
     "name": "stderr",
     "output_type": "stream",
     "text": [
      "/n/home07/yitians/.conda/envs/dm21cm/lib/python3.11/site-packages/py21cmfast/_cfg.py:58: UserWarning: Your configuration file is out of date. Updating...\n",
      "  warnings.warn(\n",
      "/n/home07/yitians/.conda/envs/dm21cm/lib/python3.11/site-packages/py21cmfast/_cfg.py:42: UserWarning: Your configuration file is out of date. Updating...\n",
      "  warnings.warn(\"Your configuration file is out of date. Updating...\")\n"
     ]
    },
    {
     "name": "stdout",
     "output_type": "stream",
     "text": [
      "1.0.0-dm21cm.0\n"
     ]
    }
   ],
   "source": [
    "%reload_ext autoreload\n",
    "%autoreload 2\n",
    "\n",
    "import os\n",
    "import sys\n",
    "import pickle\n",
    "import logging\n",
    "from tqdm import tqdm\n",
    "\n",
    "import numpy as np\n",
    "from scipy import interpolate\n",
    "from astropy.io import fits\n",
    "import jax.numpy as jnp\n",
    "\n",
    "sys.path.append(os.environ['DM21CM_DIR'])\n",
    "import dm21cm.physics as phys\n",
    "from dm21cm.utils import load_h5_dict\n",
    "from dm21cm.dm_params import DMParams\n",
    "from dm21cm.evolve import get_z_edges\n",
    "from dm21cm.interpolators_jax import BatchInterpolator\n",
    "\n",
    "sys.path.append(os.environ['DH_DIR'])\n",
    "import darkhistory\n",
    "from darkhistory.spec.spectrum import Spectrum\n",
    "from darkhistory.main import evolve as dh_evolve\n",
    "from darkhistory.config import load_data as dh_load_data\n",
    "print(darkhistory.__version__)\n",
    "\n",
    "%matplotlib inline\n",
    "import matplotlib as mpl\n",
    "import matplotlib.pyplot as plt\n",
    "mpl.rc_file('../../matplotlibrc')"
   ]
  },
  {
   "cell_type": "code",
   "execution_count": 9,
   "id": "7d127062-3d40-42d6-b39d-d1e06f01f058",
   "metadata": {
    "tags": []
   },
   "outputs": [],
   "source": [
    "tf_name = 'zf01'\n",
    "abscs = load_h5_dict(os.environ['DM21CM_DIR'] + f\"/data/abscissas/abscs_{tf_name}.h5\")"
   ]
  },
  {
   "cell_type": "code",
   "execution_count": 6,
   "id": "71741a08-2dbe-4b98-b829-f4b00660b71b",
   "metadata": {
    "tags": []
   },
   "outputs": [],
   "source": [
    "rs = 38.71318413405634\n",
    "xe = 0.1"
   ]
  },
  {
   "cell_type": "code",
   "execution_count": 4,
   "id": "244bd16b",
   "metadata": {},
   "outputs": [
    {
     "data": {
      "text/plain": [
       "array([1.0000e-05, 1.0000e-04, 1.0000e-03, 1.0000e-02, 1.0000e-01,\n",
       "       3.0000e-01, 7.0000e-01, 9.0000e-01, 9.9900e-01, 9.9999e-01])"
      ]
     },
     "execution_count": 4,
     "metadata": {},
     "output_type": "execute_result"
    }
   ],
   "source": [
    "abscs['x']"
   ]
  },
  {
   "cell_type": "markdown",
   "id": "9df9df82-5948-4319-9a54-8d6570ac843d",
   "metadata": {},
   "source": [
    "## DH_run"
   ]
  },
  {
   "cell_type": "code",
   "execution_count": 7,
   "id": "04693746-6af8-4714-b3e3-6687b8ca2229",
   "metadata": {
    "tags": []
   },
   "outputs": [
    {
     "name": "stdout",
     "output_type": "stream",
     "text": [
      "****** Loading transfer functions... ******\n",
      "Using data at /n/holyscratch01/iaifi_lab/yitians/darkhistory/DHdata_v1_1_zf01\n",
      "    for propagating photons...  "
     ]
    },
    {
     "name": "stdout",
     "output_type": "stream",
     "text": [
      " Done!\n",
      "    for low-energy photons...  Done!\n",
      "    for low-energy electrons...  Done!\n",
      "    for high-energy deposition...  Done!\n",
      "    for total upscattered CMB energy rate...  Done!\n",
      "****** Loading complete! ******\n"
     ]
    }
   ],
   "source": [
    "dep_tf = dh_load_data(\n",
    "    'dep_tf',\n",
    "    verbose=1,\n",
    "    prefix=\"/n/holyscratch01/iaifi_lab/yitians/darkhistory/DHdata_v1_1_zf01\",\n",
    "    force_reload=True\n",
    ")"
   ]
  },
  {
   "cell_type": "code",
   "execution_count": 10,
   "id": "0a10e047-e40b-4fad-9575-69a95ac0eeb4",
   "metadata": {
    "tags": []
   },
   "outputs": [
    {
     "name": "stderr",
     "output_type": "stream",
     "text": [
      "WARNING:root:Cross checking 21cmfast!\n",
      "WARNING:root:Using dm21cm's compute_fs!\n",
      "WARNING:root:Using Planck18 dt!\n",
      "WARNING:root:Setting coarsen_factor=1!\n",
      "WARNING:root:Setting dlnz=0.009950330853168092!\n",
      "WARNING:root:Setting dt=33860104491436.59! dt/dt_old_normalized=1.003536\n"
     ]
    },
    {
     "name": "stdout",
     "output_type": "stream",
     "text": [
      "Loading time: 0.000 s\n",
      "Initialization time: 0.020 s\n",
      "rs=38.71318413405634, bath point injection\n",
      "(array([407, 410]),)\n",
      "bath energy 44423.86333850733\n",
      "eng per inj 12000000000.0\n",
      "inj_per_Bavg 1.4093865081752076e-11\n",
      "inj eng 0.16912638098102492\n",
      "Main loop time: 0.097 s\n"
     ]
    }
   ],
   "source": [
    "dh_soln = dh_evolve(\n",
    "    DM_process='decay', mDM=1.2e10, lifetime=1e24, primary='phot_delta',\n",
    "    start_rs=rs, end_rs=rs/1.01,\n",
    "    coarsen_factor=12, backreaction=True,\n",
    "    init_cond=(xe, phys.chi*xe, 10*phys.kB),\n",
    "    use_tqdm=False, verbose=1,\n",
    "    cross_check_21cmfast=True,\n",
    "    cross_check_21cmfast_tf_version=tf_name,\n",
    "    debug_bath_point_injection=True,\n",
    "    #debug_use_tf_dt=True,\n",
    ")"
   ]
  },
  {
   "cell_type": "code",
   "execution_count": 11,
   "id": "d963bf99-154d-4bc6-b396-309c9bcdc4ca",
   "metadata": {
    "tags": []
   },
   "outputs": [],
   "source": [
    "f_dh = np.array([dh_soln['f']['low'][k] + dh_soln['f']['high'][k] for k in dh_soln['f']['low']])\n",
    "f_dh = f_dh[:,0]"
   ]
  },
  {
   "cell_type": "code",
   "execution_count": 12,
   "id": "9f683348",
   "metadata": {},
   "outputs": [
    {
     "data": {
      "text/plain": [
       "array([5.88871345e-04, 5.83532064e-06, 4.68194212e-04, 2.66565270e-03,\n",
       "       2.41026549e-05])"
      ]
     },
     "execution_count": 12,
     "metadata": {},
     "output_type": "execute_result"
    }
   ],
   "source": [
    "f_dh"
   ]
  },
  {
   "cell_type": "markdown",
   "id": "1e74e46d",
   "metadata": {},
   "source": [
    "## 21 run"
   ]
  },
  {
   "cell_type": "code",
   "execution_count": 13,
   "id": "0929ad0a",
   "metadata": {},
   "outputs": [],
   "source": [
    "from dm21cm.evolve import evolve\n",
    "import py21cmfast as p21c\n",
    "from astropy.cosmology import Planck18"
   ]
  },
  {
   "cell_type": "code",
   "execution_count": 15,
   "id": "cc3c5e3d",
   "metadata": {},
   "outputs": [
    {
     "name": "stderr",
     "output_type": "stream",
     "text": [
      "INFO:root:Using 21cmFAST version 0.1.dev1585+ge3818c7.d20231008\n",
      "INFO:root:Cache dir: /n/holyscratch01/iaifi_lab/yitians/21cmFAST-cache/dhc_test\n",
      "INFO:jax._src.xla_bridge:Unable to initialize backend 'rocm': NOT_FOUND: Could not find registered platform with name: \"rocm\". Available platform names are: Interpreter CUDA\n",
      "INFO:jax._src.xla_bridge:Unable to initialize backend 'tpu': module 'jaxlib.xla_extension' has no attribute 'get_tpu_client'\n",
      "INFO:root:TransferFunctionWrapper: Loaded photon transfer functions.\n",
      "INFO:root:DarkHistoryWrapper: Found existing DarkHistory initial conditions.\n",
      "WARNING:root:DarkHistoryWrapper: DMParams mismatch, rerunning.\n",
      "WARNING:root:DarkHistoryWrapper: Overriding remember to turn off.\n",
      "WARNING:root:Turning off bath, remember to turn back on\n"
     ]
    },
    {
     "name": "stdout",
     "output_type": "stream",
     "text": [
      "get_init_cond 74.6501517924096 0.0009509455728424983\n"
     ]
    },
    {
     "name": "stderr",
     "output_type": "stream",
     "text": [
      "i_z=0/206 z=45.77\n"
     ]
    },
    {
     "name": "stdout",
     "output_type": "stream",
     "text": [
      "This is commented out: dspec_dzp = - dxe_dzp * T / (1+x_e); need to put it back in\n",
      "TsBox.c DEBUG:  zp = 4.576974e+01\n",
      "  E_heat = 0.000000e+00 eV/A\n",
      "  E_ion = 0.000000e+00 eV/A\n",
      "  E_lya = 0.000000e+00 eV/A\n",
      "  E_lya_star = 0.000000e+00 eV/A\n",
      "  E_(tot=heat+ion+lya) = 0.000000e+00 eV/A\n",
      "  frac_heat = -nan\n",
      "  frac_ion = -nan\n",
      "  frac_lya = -nan\n",
      "  (1.+curr_delNL0*growth_factor_zp) = 9.999999e-01\n",
      "zp = 4.576974e+01 E_tot_ave = 0.000000e+00\n",
      "This is commented out: dspec_dzp = - dxe_dzp * T / (1+x_e); need to put it back in\n",
      "TsBox.c DEBUG:  zp = 4.530668e+01\n",
      "  E_heat = 0.000000e+00 eV/A\n",
      "  E_ion = 0.000000e+00 eV/A\n",
      "  E_lya = 0.000000e+00 eV/A\n",
      "  E_lya_star = 0.000000e+00 eV/A\n",
      "  E_(tot=heat+ion+lya) = 0.000000e+00 eV/A\n",
      "  frac_heat = -nan\n",
      "  frac_ion = -nan\n",
      "  frac_lya = -nan\n",
      "  (1.+curr_delNL0*growth_factor_zp) = 9.999999e-01\n",
      "zp = 4.530668e+01 E_tot_ave = 0.000000e+00\n"
     ]
    },
    {
     "name": "stderr",
     "output_type": "stream",
     "text": [
      "i_z=1/206 z=45.31\n",
      "WARNING:root:Point injecting bath at z=45.30667755087399 ---------------------\n"
     ]
    },
    {
     "name": "stdout",
     "output_type": "stream",
     "text": [
      "bath energy 44423.69421212635\n",
      "eng per inj 12000000000.0\n",
      "inj_per_Bavg 1.0762617e-11\n",
      "inj eng 0.12915140831792904\n",
      "(array([407]),)\n",
      "(array([410]),)\n"
     ]
    },
    {
     "name": "stderr",
     "output_type": "stream",
     "text": [
      "i_z=2/206 z=44.85\n"
     ]
    },
    {
     "name": "stdout",
     "output_type": "stream",
     "text": [
      "This is commented out: dspec_dzp = - dxe_dzp * T / (1+x_e); need to put it back in\n",
      "TsBox.c DEBUG:  zp = 4.484819e+01\n",
      "  E_heat = 0.000000e+00 eV/A\n",
      "  E_ion = 0.000000e+00 eV/A\n",
      "  E_lya = 0.000000e+00 eV/A\n",
      "  E_lya_star = 0.000000e+00 eV/A\n",
      "  E_(tot=heat+ion+lya) = 0.000000e+00 eV/A\n",
      "  frac_heat = -nan\n",
      "  frac_ion = -nan\n",
      "  frac_lya = -nan\n",
      "  (1.+curr_delNL0*growth_factor_zp) = 9.999999e-01\n",
      "zp = 4.484819e+01 E_tot_ave = 0.000000e+00\n",
      "This is commented out: dspec_dzp = - dxe_dzp * T / (1+x_e); need to put it back in\n",
      "TsBox.c DEBUG:  zp = 4.439425e+01\n",
      "  E_heat = 0.000000e+00 eV/A\n",
      "  E_ion = 0.000000e+00 eV/A\n",
      "  E_lya = 0.000000e+00 eV/A\n",
      "  E_lya_star = 0.000000e+00 eV/A\n",
      "  E_(tot=heat+ion+lya) = 0.000000e+00 eV/A\n",
      "  frac_heat = -nan\n",
      "  frac_ion = -nan\n",
      "  frac_lya = -nan\n",
      "  (1.+curr_delNL0*growth_factor_zp) = 9.999999e-01\n",
      "zp = 4.439425e+01 E_tot_ave = 0.000000e+00\n",
      "xray: 0.4147 +/- 0.4076 s\n",
      "bath+dm: 0.0586 +/- 0.0019 s\n",
      "21cmFAST: 0.3728 +/- 0.0001 s\n",
      "prep_next: 0.0111 +/- 0.0002 s\n"
     ]
    }
   ],
   "source": [
    "dm_params = DMParams(\n",
    "    mode = 'decay',\n",
    "    primary = 'phot_delta',\n",
    "    m_DM = 1.2e10,\n",
    "    lifetime = 1e24,\n",
    ")\n",
    "\n",
    "return_dict = evolve(\n",
    "    run_name = 'dhc_test',\n",
    "    z_start = 46.2, # 38.2\n",
    "    z_end = 4.96266792, # 4.96266792\n",
    "    zplusone_step_factor = 1.01,\n",
    "    dm_params = dm_params,\n",
    "    enable_elec = False,\n",
    "    tf_version = 'zf01',\n",
    "    \n",
    "    p21c_initial_conditions = p21c.initial_conditions(\n",
    "        user_params = p21c.UserParams(\n",
    "            HII_DIM = 16,\n",
    "            BOX_LEN = 16 * 4, # [conformal Mpc]\n",
    "            N_THREADS = 32,\n",
    "        ),\n",
    "        cosmo_params = p21c.CosmoParams(\n",
    "            OMm = Planck18.Om0,\n",
    "            OMb = Planck18.Ob0,\n",
    "            POWER_INDEX = Planck18.meta['n'],\n",
    "            SIGMA_8 = 1e-8, # Planck18.meta['sigma8']\n",
    "            hlittle = Planck18.h,\n",
    "        ),\n",
    "        random_seed = 54321,\n",
    "        write = True,\n",
    "    ),\n",
    "    \n",
    "    rerun_DH = False,\n",
    "    clear_cache = True,\n",
    "    use_tqdm = False,\n",
    "    debug_flags = ['uniform_xray'],\n",
    "    debug_xray_multiplier = 1.,\n",
    "    debug_astro_params = p21c.AstroParams(\n",
    "        L_X = 0. # log10 value\n",
    "    ),\n",
    "    save_dir='../run_info',\n",
    "    debug_dhc_delta_fixed=True,\n",
    "    #debug_use_tf_dt=True,\n",
    "    debug_no_bath=True,\n",
    "    debug_bath_point_injection=True,\n",
    "    debug_break_after_z=45.,\n",
    "    debug_dhc_DH_xe_func=lambda z : xe,\n",
    ")"
   ]
  },
  {
   "cell_type": "code",
   "execution_count": 25,
   "id": "e46403ae",
   "metadata": {},
   "outputs": [],
   "source": [
    "# DM21CM:\n",
    "# WARNING:root:Point injecting bath at z=37.713184\n",
    "# dt 33860104410955.453 34050802162151.98\n",
    "# bath energy 44423.695\n",
    "# eng per inj 10000000000.000002\n",
    "# inj_per_Bavg 1.7007892e-11\n",
    "# inj eng 0.17007891622844443"
   ]
  },
  {
   "cell_type": "code",
   "execution_count": 26,
   "id": "8abcac81",
   "metadata": {},
   "outputs": [],
   "source": [
    "# DarkHistory\n",
    "# rs=38.71318413405634, bath point injection\n",
    "# (array([407, 408]),)\n",
    "# bath energy 44423.864291015205\n",
    "# eng per inj 10000000000.0\n",
    "# inj_per_Bavg 1.7007888885729e-11\n",
    "# inj eng 0.17007888885729"
   ]
  },
  {
   "cell_type": "code",
   "execution_count": 27,
   "id": "9a925d1e",
   "metadata": {},
   "outputs": [],
   "source": [
    "# DM21CM:\n",
    "# WARNING:root:Point injecting bath at z=45.30667755087399 ---------------------\n",
    "# dt 25856886555192.566 26728107321173.67\n",
    "# bath energy 44423.695\n",
    "# eng per inj 12000000000.0\n",
    "# inj_per_Bavg 1.1125254e-11\n",
    "# inj eng 0.1335030523630376\n",
    "# (array([407]),)\n",
    "# (array([410]),)"
   ]
  },
  {
   "cell_type": "code",
   "execution_count": 28,
   "metadata": {},
   "outputs": [],
   "source": [
    "# DH:\n",
    "# rs=46.30667755087399, bath point injection\n",
    "# (array([407, 410]),)\n",
    "# bath energy 44423.827715201114\n",
    "# eng per inj 12000000000.0\n",
    "# inj_per_Bavg 1.1125256230453793e-11\n",
    "# inj eng 0.1335030747654455"
   ]
  },
  {
   "cell_type": "code",
   "execution_count": 16,
   "id": "a41510d8",
   "metadata": {},
   "outputs": [],
   "source": [
    "run_name = 'dhc_test'\n",
    "soln = np.load(f\"../run_info/{run_name}_records.npy\", allow_pickle=True).item()"
   ]
  },
  {
   "cell_type": "code",
   "execution_count": 18,
   "id": "1c8e6353",
   "metadata": {},
   "outputs": [
    {
     "ename": "KeyError",
     "evalue": "'f_heat'",
     "output_type": "error",
     "traceback": [
      "\u001b[0;31m---------------------------------------------------------------------------\u001b[0m",
      "\u001b[0;31mKeyError\u001b[0m                                  Traceback (most recent call last)",
      "\u001b[1;32m/n/home07/yitians/dm21cm/DM21cm/cross_check/f/compare_f_bath.ipynb Cell 18\u001b[0m line \u001b[0;36m1\n\u001b[0;32m----> <a href='vscode-notebook-cell://tunnel%2Bholygpu8a27102rcfasharvardedu/n/home07/yitians/dm21cm/DM21cm/cross_check/f/compare_f_bath.ipynb#X24sdnNjb2RlLXJlbW90ZQ%3D%3D?line=0'>1</a>\u001b[0m soln[\u001b[39m'\u001b[39;49m\u001b[39mf_heat\u001b[39;49m\u001b[39m'\u001b[39;49m]\n",
      "\u001b[0;31mKeyError\u001b[0m: 'f_heat'"
     ]
    }
   ],
   "source": [
    "soln['f_heat']"
   ]
  },
  {
   "cell_type": "code",
   "execution_count": 19,
   "id": "44e555fa",
   "metadata": {},
   "outputs": [
    {
     "ename": "KeyError",
     "evalue": "'f_ion'",
     "output_type": "error",
     "traceback": [
      "\u001b[0;31m---------------------------------------------------------------------------\u001b[0m",
      "\u001b[0;31mKeyError\u001b[0m                                  Traceback (most recent call last)",
      "\u001b[1;32m/n/home07/yitians/dm21cm/DM21cm/cross_check/f/compare_f_bath.ipynb Cell 19\u001b[0m line \u001b[0;36m1\n\u001b[0;32m----> <a href='vscode-notebook-cell://tunnel%2Bholygpu8a27102rcfasharvardedu/n/home07/yitians/dm21cm/DM21cm/cross_check/f/compare_f_bath.ipynb#X25sdnNjb2RlLXJlbW90ZQ%3D%3D?line=0'>1</a>\u001b[0m f3_dm21cm \u001b[39m=\u001b[39m np\u001b[39m.\u001b[39marray([soln[\u001b[39m'\u001b[39;49m\u001b[39mf_ion\u001b[39;49m\u001b[39m'\u001b[39;49m][\u001b[39m2\u001b[39m], soln[\u001b[39m'\u001b[39m\u001b[39mf_exc\u001b[39m\u001b[39m'\u001b[39m][\u001b[39m2\u001b[39m], soln[\u001b[39m'\u001b[39m\u001b[39mf_heat\u001b[39m\u001b[39m'\u001b[39m][\u001b[39m2\u001b[39m]])\n",
      "\u001b[0;31mKeyError\u001b[0m: 'f_ion'"
     ]
    }
   ],
   "source": [
    "f3_dm21cm = np.array([soln['f_ion'][2], soln['f_exc'][2], soln['f_heat'][2]])"
   ]
  },
  {
   "cell_type": "code",
   "execution_count": 32,
   "id": "fa128b67",
   "metadata": {},
   "outputs": [],
   "source": [
    "f3_dh = np.array([f_dh[0] + f_dh[1], f_dh[2], f_dh[3]])"
   ]
  },
  {
   "cell_type": "code",
   "execution_count": 33,
   "id": "0e103e11",
   "metadata": {},
   "outputs": [
    {
     "data": {
      "text/plain": [
       "array([-0.01319811, -0.01592913, -0.0050066 ])"
      ]
     },
     "execution_count": 33,
     "metadata": {},
     "output_type": "execute_result"
    }
   ],
   "source": [
    "1 - f3_dm21cm / f3_dh"
   ]
  },
  {
   "cell_type": "markdown",
   "id": "9d6948b1",
   "metadata": {},
   "source": [
    "## compare"
   ]
  },
  {
   "cell_type": "code",
   "execution_count": 17,
   "id": "58cad4d7",
   "metadata": {},
   "outputs": [
    {
     "ename": "NameError",
     "evalue": "name 'f3_dh' is not defined",
     "output_type": "error",
     "traceback": [
      "\u001b[0;31m---------------------------------------------------------------------------\u001b[0m",
      "\u001b[0;31mNameError\u001b[0m                                 Traceback (most recent call last)",
      "\u001b[1;32m/n/home07/yitians/dm21cm/DM21cm/cross_check/f/compare_f_bath.ipynb Cell 23\u001b[0m line \u001b[0;36m6\n\u001b[1;32m      <a href='vscode-notebook-cell://tunnel%2Bholygpu8a27102rcfasharvardedu/n/home07/yitians/dm21cm/DM21cm/cross_check/f/compare_f_bath.ipynb#X32sdnNjb2RlLXJlbW90ZQ%3D%3D?line=1'>2</a>\u001b[0m logger\u001b[39m.\u001b[39msetLevel(logging\u001b[39m.\u001b[39mCRITICAL\u001b[39m+\u001b[39m\u001b[39m1\u001b[39m)\n\u001b[1;32m      <a href='vscode-notebook-cell://tunnel%2Bholygpu8a27102rcfasharvardedu/n/home07/yitians/dm21cm/DM21cm/cross_check/f/compare_f_bath.ipynb#X32sdnNjb2RlLXJlbW90ZQ%3D%3D?line=3'>4</a>\u001b[0m fig, ax \u001b[39m=\u001b[39m plt\u001b[39m.\u001b[39msubplots()\n\u001b[0;32m----> <a href='vscode-notebook-cell://tunnel%2Bholygpu8a27102rcfasharvardedu/n/home07/yitians/dm21cm/DM21cm/cross_check/f/compare_f_bath.ipynb#X32sdnNjb2RlLXJlbW90ZQ%3D%3D?line=5'>6</a>\u001b[0m ax\u001b[39m.\u001b[39mplot(f3_dh, label\u001b[39m=\u001b[39m\u001b[39m'\u001b[39m\u001b[39mDarkHistory\u001b[39m\u001b[39m'\u001b[39m, color\u001b[39m=\u001b[39m\u001b[39m'\u001b[39m\u001b[39mk\u001b[39m\u001b[39m'\u001b[39m)\n\u001b[1;32m      <a href='vscode-notebook-cell://tunnel%2Bholygpu8a27102rcfasharvardedu/n/home07/yitians/dm21cm/DM21cm/cross_check/f/compare_f_bath.ipynb#X32sdnNjb2RlLXJlbW90ZQ%3D%3D?line=6'>7</a>\u001b[0m ax\u001b[39m.\u001b[39mplot(f3_dm21cm, label\u001b[39m=\u001b[39m\u001b[39m'\u001b[39m\u001b[39mdm21cm\u001b[39m\u001b[39m'\u001b[39m, color\u001b[39m=\u001b[39m\u001b[39m'\u001b[39m\u001b[39mr\u001b[39m\u001b[39m'\u001b[39m, ls\u001b[39m=\u001b[39m\u001b[39m'\u001b[39m\u001b[39m:\u001b[39m\u001b[39m'\u001b[39m)\n\u001b[1;32m      <a href='vscode-notebook-cell://tunnel%2Bholygpu8a27102rcfasharvardedu/n/home07/yitians/dm21cm/DM21cm/cross_check/f/compare_f_bath.ipynb#X32sdnNjb2RlLXJlbW90ZQ%3D%3D?line=7'>8</a>\u001b[0m ax\u001b[39m.\u001b[39mset_xticks(np\u001b[39m.\u001b[39marange(\u001b[39m3\u001b[39m))\n",
      "\u001b[0;31mNameError\u001b[0m: name 'f3_dh' is not defined"
     ]
    },
    {
     "data": {
      "image/png": "[encoded data removed]",
      "text/plain": [
       "<Figure size 720x480 with 1 Axes>"
      ]
     },
     "metadata": {},
     "output_type": "display_data"
    }
   ],
   "source": [
    "logger = logging.getLogger()\n",
    "logger.setLevel(logging.CRITICAL+1)\n",
    "\n",
    "fig, ax = plt.subplots()\n",
    "\n",
    "ax.plot(f3_dh, label='DarkHistory', color='k')\n",
    "ax.plot(f3_dm21cm, label='dm21cm', color='r', ls=':')\n",
    "ax.set_xticks(np.arange(3))\n",
    "ax.set_xticklabels(['ion', 'exc', 'heat'])\n",
    "ax.set(yscale='log')\n",
    "#ax.set(ylim=(1e-7,1e-4))\n",
    "ax.legend();"
   ]
  },
  {
   "cell_type": "markdown",
   "id": "93c4e2a7",
   "metadata": {},
   "source": [
    "## A. HED pipeline"
   ]
  },
  {
   "cell_type": "code",
   "execution_count": 110,
   "id": "0420ca04",
   "metadata": {},
   "outputs": [
    {
     "data": {
      "text/plain": [
       "array([11.0582994 ,  8.78602481,  3.48876916, -0.0763134 ])"
      ]
     },
     "execution_count": 110,
     "metadata": {},
     "output_type": "execute_result"
    }
   ],
   "source": [
    "# .npy\n",
    "data_dir = f\"{os.environ['DM21CM_DATA_DIR']}/tf/zf01/phot\"\n",
    "hed_tfgv = np.load(f'{data_dir}/hed_tf_rxneo.npy')\n",
    "hed_tfgv[8, 3, 6, 429]"
   ]
  },
  {
   "cell_type": "code",
   "execution_count": 111,
   "id": "160a9bd1",
   "metadata": {},
   "outputs": [
    {
     "data": {
      "text/plain": [
       "array([11.0582994 ,  8.78602481,  3.48876916, -0.0763134 ])"
      ]
     },
     "execution_count": 111,
     "metadata": {},
     "output_type": "execute_result"
    }
   ],
   "source": [
    "# dm21cm tf\n",
    "tf = np.load(f\"{os.environ['DM21CM_DATA_DIR']}/tf/zf01/phot/hed_tf_rxneo.npy\")\n",
    "tf[8, 3, 6, 429]"
   ]
  },
  {
   "cell_type": "code",
   "execution_count": 134,
   "id": "50e87082",
   "metadata": {},
   "outputs": [
    {
     "data": {
      "text/plain": [
       "array([11.0582994 ,  8.78602481,  3.48876916, -0.0763134 ])"
      ]
     },
     "execution_count": 134,
     "metadata": {},
     "output_type": "execute_result"
    }
   ],
   "source": [
    "# dhtf\n",
    "dhtf = pickle.load(open(f\"{os.environ['DH_DATA_DIR']}/../DHdata_v1_1_zf01/highengdep_interp.raw\", 'rb'))\n",
    "dhtf.grid_vals[0][3, 0, 8, 429] * (abscs['dlnz'] / phys.hubble(abscs['rs'][-2]))"
   ]
  },
  {
   "cell_type": "code",
   "execution_count": 135,
   "id": "ad7d5202",
   "metadata": {},
   "outputs": [
    {
     "data": {
      "text/plain": [
       "array([11.0582994 ,  8.78602481,  3.48876916, -0.0763134 ])"
      ]
     },
     "execution_count": 135,
     "metadata": {},
     "output_type": "execute_result"
    }
   ],
   "source": [
    "dhtf.get_val(0.01, 0.9, abscs['rs'][-2])[429] * (abscs['dlnz'] / phys.hubble(abscs['rs'][-2]))"
   ]
  },
  {
   "cell_type": "markdown",
   "id": "d4146471",
   "metadata": {},
   "source": [
    "correct!!"
   ]
  }
 ],
 "metadata": {
  "kernelspec": {
   "display_name": "Python 3 (ipykernel)",
   "language": "python",
   "name": "python3"
  },
  "language_info": {
   "codemirror_mode": {
    "name": "ipython",
    "version": 3
   },
   "file_extension": ".py",
   "mimetype": "text/x-python",
   "name": "python",
   "nbconvert_exporter": "python",
   "pygments_lexer": "ipython3",
   "version": "3.11.5"
  }
 },
 "nbformat": 4,
 "nbformat_minor": 5
}
