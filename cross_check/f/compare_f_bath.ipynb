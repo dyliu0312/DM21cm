{
 "cells": [
  {
   "cell_type": "code",
   "execution_count": 2,
   "id": "dc6d5aab-492a-457d-9a70-7a63b6a74d40",
   "metadata": {
    "tags": []
   },
   "outputs": [
    {
     "name": "stdout",
     "output_type": "stream",
     "text": [
      "1.0.0-dm21cm.0\n"
     ]
    }
   ],
   "source": [
    "%reload_ext autoreload\n",
    "%autoreload 2\n",
    "\n",
    "import os\n",
    "import sys\n",
    "import pickle\n",
    "import logging\n",
    "from tqdm import tqdm\n",
    "\n",
    "import numpy as np\n",
    "from scipy import interpolate\n",
    "from astropy.io import fits\n",
    "import jax.numpy as jnp\n",
    "\n",
    "sys.path.append(os.environ['DM21CM_DIR'])\n",
    "import dm21cm.physics as phys\n",
    "from dm21cm.utils import load_h5_dict\n",
    "from dm21cm.dm_params import DMParams\n",
    "from dm21cm.evolve import get_z_edges\n",
    "from dm21cm.interpolators_jax import BatchInterpolator\n",
    "\n",
    "sys.path.append(os.environ['DH_DIR'])\n",
    "import darkhistory\n",
    "from darkhistory.spec.spectrum import Spectrum\n",
    "from darkhistory.main import evolve as dh_evolve\n",
    "from darkhistory.config import load_data as dh_load_data\n",
    "print(darkhistory.__version__)\n",
    "\n",
    "%matplotlib inline\n",
    "import matplotlib as mpl\n",
    "import matplotlib.pyplot as plt\n",
    "mpl.rc_file('../../matplotlibrc')"
   ]
  },
  {
   "cell_type": "code",
   "execution_count": 3,
   "id": "7d127062-3d40-42d6-b39d-d1e06f01f058",
   "metadata": {
    "tags": []
   },
   "outputs": [],
   "source": [
    "tf_name = 'zf01'\n",
    "abscs = load_h5_dict(os.environ['DM21CM_DIR'] + f\"/data/abscissas/abscs_{tf_name}.h5\")"
   ]
  },
  {
   "cell_type": "code",
   "execution_count": 13,
   "id": "b3fe9fe5-5d56-4bbf-852a-170460c87e95",
   "metadata": {
    "tags": []
   },
   "outputs": [
    {
     "name": "stdout",
     "output_type": "stream",
     "text": [
      "total energy = 1988413.835399729\n"
     ]
    }
   ],
   "source": [
    "# inject 1 photon\n",
    "spec_N = np.zeros((500,))\n",
    "i_injE = 307\n",
    "spec_N[i_injE] = 1.\n",
    "photeng = abscs['photE']\n",
    "print(f'total energy = {np.dot(spec_N, photeng)}')"
   ]
  },
  {
   "cell_type": "code",
   "execution_count": 14,
   "id": "71741a08-2dbe-4b98-b829-f4b00660b71b",
   "metadata": {
    "tags": []
   },
   "outputs": [],
   "source": [
    "rs = 38.71318413405634\n",
    "xe = 0.01"
   ]
  },
  {
   "cell_type": "markdown",
   "id": "9df9df82-5948-4319-9a54-8d6570ac843d",
   "metadata": {},
   "source": [
    "## DH_run"
   ]
  },
  {
   "cell_type": "code",
   "execution_count": 11,
   "id": "04693746-6af8-4714-b3e3-6687b8ca2229",
   "metadata": {
    "tags": []
   },
   "outputs": [
    {
     "name": "stdout",
     "output_type": "stream",
     "text": [
      "****** Loading transfer functions... ******\n",
      "Using data at /n/holyscratch01/iaifi_lab/yitians/darkhistory/DHdata_v1_1_zf01\n",
      "    for propagating photons...  "
     ]
    },
    {
     "name": "stdout",
     "output_type": "stream",
     "text": [
      " Done!\n",
      "    for low-energy photons...  Done!\n",
      "    for low-energy electrons...  Done!\n",
      "    for high-energy deposition...  Done!\n",
      "    for total upscattered CMB energy rate...  Done!\n",
      "****** Loading complete! ******\n"
     ]
    }
   ],
   "source": [
    "dep_tf = dh_load_data(\n",
    "    'dep_tf',\n",
    "    verbose=1,\n",
    "    prefix=\"/n/holyscratch01/iaifi_lab/yitians/darkhistory/DHdata_v1_1_zf01\",\n",
    "    force_reload=True\n",
    ")"
   ]
  },
  {
   "cell_type": "code",
   "execution_count": 87,
   "id": "0a10e047-e40b-4fad-9575-69a95ac0eeb4",
   "metadata": {
    "tags": []
   },
   "outputs": [
    {
     "name": "stderr",
     "output_type": "stream",
     "text": [
      "WARNING:root:Cross checking 21cmfast!\n",
      "WARNING:root:Setting coarsen_factor=1!\n",
      "WARNING:root:Setting dlnz=0.009950330853168092!\n"
     ]
    },
    {
     "name": "stdout",
     "output_type": "stream",
     "text": [
      "Loading time: 0.004 s\n",
      "Initialization time: 0.026 s\n",
      "rs=38.71318413405634, bath point injection\n",
      "bath energy 1.988413835399729\n",
      "eng per inj 10000000000.0\n",
      "inj_per_Bavg 1.7007888885729e-11\n",
      "inj eng 0.17007888885729\n",
      "Main loop time: 0.077 s\n"
     ]
    }
   ],
   "source": [
    "dh_soln = dh_evolve(\n",
    "    DM_process='decay', mDM=1e10, lifetime=1e24, primary='phot_delta',\n",
    "    start_rs=rs, end_rs=rs/1.01,\n",
    "    coarsen_factor=12, backreaction=True,\n",
    "    init_cond=(xe, phys.chi*xe, 10*phys.kB),\n",
    "    use_tqdm=False, verbose=1,\n",
    "    cross_check_21cmfast=True,\n",
    "    debug_bath_point_injection=True,\n",
    "    debug_use_tf_dt=True,\n",
    ")"
   ]
  },
  {
   "cell_type": "code",
   "execution_count": 88,
   "id": "d963bf99-154d-4bc6-b396-309c9bcdc4ca",
   "metadata": {
    "tags": []
   },
   "outputs": [],
   "source": [
    "f_dh = np.array([dh_soln['f']['low'][k] + dh_soln['f']['high'][k] for k in dh_soln['f']['low']])\n",
    "f_dh = f_dh[:,1]"
   ]
  },
  {
   "cell_type": "code",
   "execution_count": 89,
   "id": "9f683348",
   "metadata": {},
   "outputs": [
    {
     "data": {
      "text/plain": [
       "array([3.33156783e-04, 5.33402993e-06, 2.68549376e-04, 3.47445583e-04,\n",
       "       3.45719560e-05])"
      ]
     },
     "execution_count": 89,
     "metadata": {},
     "output_type": "execute_result"
    }
   ],
   "source": [
    "f_dh"
   ]
  },
  {
   "cell_type": "markdown",
   "id": "1e74e46d",
   "metadata": {},
   "source": [
    "## 21 run"
   ]
  },
  {
   "cell_type": "code",
   "execution_count": 43,
   "id": "0929ad0a",
   "metadata": {},
   "outputs": [],
   "source": [
    "from dm21cm.evolve import evolve\n",
    "import py21cmfast as p21c\n",
    "from astropy.cosmology import Planck18"
   ]
  },
  {
   "cell_type": "code",
   "execution_count": 68,
   "id": "cc3c5e3d",
   "metadata": {},
   "outputs": [
    {
     "name": "stderr",
     "output_type": "stream",
     "text": [
      "INFO:root:Using 21cmFAST version 0.1.dev1581+g40959ca.d20230929\n",
      "INFO:root:Cache dir: /n/holyscratch01/iaifi_lab/yitians/21cmFAST-cache/dhc_test\n",
      "INFO:root:TransferFunctionWrapper: Loaded photon transfer functions.\n",
      "INFO:root:DarkHistoryWrapper: Found existing DarkHistory initial conditions.\n",
      "WARNING:root:Turning off bath, remember to turn back on\n"
     ]
    },
    {
     "name": "stdout",
     "output_type": "stream",
     "text": [
      "get_init_cond 61.559512985154036 0.001043024536618191\n",
      "This is commented out: dspec_dzp = - dxe_dzp * T / (1+x_e); need to put it back in\n",
      "box_ct = 0\n",
      "dzp = -9.587479e-02\n",
      "zp = 3.810032e+01\n",
      "dt_dzp = -8.572903e+13\n",
      "dadia_dzp * dzp = -1.478124e-01\n",
      "dspec_dzp * dzp = 0.000000e+00\n",
      "dcomp_dzp * dzp = 7.661585e-03\n",
      "dxheat_dzp * dzp = 0.000000e+00\n",
      "input heating = 0.000000e+00\n",
      "dxion_source = 0.000000e+00\n",
      "dxion_sink = 7.227056e-08\n",
      "T = 3.014094e+01\n",
      "alpha_A(T) = 1.790334e-11\n",
      "global_params.CLUMPING_FACTOR = 1.000000e+00\n",
      "x_e = 2.078851e-04\n",
      "f_H = 9.249617e-01\n",
      "prefactor_1 = 1.228640e-02\n",
      "curr_delNL0 = -1.830332e-06\n",
      "growth_factor_zp = 3.256493e-02\n",
      "input ionization = 0.000000e+00\n",
      "\n",
      "N_b0 = 2.055340e-07\n",
      "f_H = 9.249617e-01\n",
      "\n",
      "dt 33356785139759.77 33677476183046.547\n",
      "before 61.55951 0.0010430245\n",
      "input_heating 2.728844e-06\n",
      "This is commented out: dspec_dzp = - dxe_dzp * T / (1+x_e); need to put it back in\n",
      "box_ct = 0\n",
      "dzp = -3.871307e-01\n",
      "zp = 3.771318e+01\n",
      "dt_dzp = -8.788830e+13\n",
      "dadia_dzp * dzp = -1.231187e+00\n",
      "dspec_dzp * dzp = 0.000000e+00\n",
      "dcomp_dzp * dzp = 8.796123e-02\n",
      "dxheat_dzp * dzp = 0.000000e+00\n",
      "input heating = 2.728844e-06\n",
      "dxion_source = 0.000000e+00\n",
      "dxion_sink = 4.738226e-06\n",
      "T = 6.155951e+01\n",
      "alpha_A(T) = 1.160523e-11\n",
      "global_params.CLUMPING_FACTOR = 1.000000e+00\n",
      "x_e = 1.043024e-03\n",
      "f_H = 9.249617e-01\n",
      "prefactor_1 = 1.192506e-02\n",
      "curr_delNL0 = -1.812176e-06\n",
      "growth_factor_zp = 3.289120e-02\n",
      "input ionization = 4.585688e-11\n",
      "\n",
      "N_b0 = 2.055340e-07\n",
      "f_H = 9.249617e-01\n",
      "\n",
      "after 60.416275 0.0010382861\n",
      "----- DM21CM -----\n",
      "z 38.10031603714576\n",
      "[3.67512381e-09 5.64105932e-11 3.13287367e-09 2.11087326e-09\n",
      " 5.39277970e-10 2.10709215e-05]\n",
      "3.6748955e-09\n",
      "5.6408538e-11\n",
      "3.1326028e-09\n",
      "2.1116937e-09\n",
      "-----------------\n",
      "i_z=0/189 z=38.10 bath.toteng=0.000e+00 eV/Bavg\n"
     ]
    },
    {
     "name": "stderr",
     "output_type": "stream",
     "text": [
      "WARNING:root:Point injecting bath at z=37.713184\n"
     ]
    },
    {
     "name": "stdout",
     "output_type": "stream",
     "text": [
      "dt 33860104410955.453 34050802162151.98\n",
      "bath energy 1.9884138\n",
      "eng per inj 10000000000.000002\n",
      "inj_per_Bavg 1.7007892e-11\n",
      "inj eng 0.17007891622844443\n",
      "before 60.416275 0.0010382861\n",
      "input_heating 0.2844925\n",
      "This is commented out: dspec_dzp = - dxe_dzp * T / (1+x_e); need to put it back in\n",
      "box_ct = 0\n",
      "dzp = -3.833008e-01\n",
      "zp = 3.732988e+01\n",
      "dt_dzp = -9.010197e+13\n",
      "dadia_dzp * dzp = -1.208332e+00\n",
      "dspec_dzp * dzp = 0.000000e+00\n",
      "dcomp_dzp * dzp = 8.560505e-02\n",
      "dxheat_dzp * dzp = 0.000000e+00\n",
      "input heating = 2.844925e-01\n",
      "dxion_source = 0.000000e+00\n",
      "dxion_sink = 4.679031e-06\n",
      "T = 6.041629e+01\n",
      "alpha_A(T) = 1.173891e-11\n",
      "global_params.CLUMPING_FACTOR = 1.000000e+00\n",
      "x_e = 1.038286e-03\n",
      "f_H = 9.249617e-01\n",
      "prefactor_1 = 1.157434e-02\n",
      "curr_delNL0 = -1.794200e-06\n",
      "growth_factor_zp = 3.322074e-02\n",
      "input ionization = 4.803791e-06\n",
      "\n",
      "N_b0 = 2.055340e-07\n",
      "f_H = 9.249617e-01\n",
      "\n",
      "after 59.57806 0.0010384109\n",
      "----- DM21CM -----\n",
      "z 37.71318419519382\n",
      "[3.64213308e-09 5.58752945e-11 3.10500895e-09 2.09205219e-09\n",
      " 5.34460710e-10 2.08593825e-05]\n",
      "0.00038071565\n",
      "5.8758596e-06\n",
      "0.00032373975\n",
      "0.00021773746\n",
      "-----------------\n",
      "i_z=1/189 z=37.71 bath.toteng=1.988e+00 eV/Bavg\n",
      "dt 34370999644096.598 34751781717207.863\n",
      "before 59.57806 0.0010384109\n",
      "input_heating 2.7640283e-06\n",
      "This is commented out: dspec_dzp = - dxe_dzp * T / (1+x_e); need to put it back in\n",
      "box_ct = 0\n",
      "dzp = -3.795013e-01\n",
      "zp = 3.695038e+01\n",
      "dt_dzp = -9.237137e+13\n",
      "dadia_dzp * dzp = -1.191553e+00\n",
      "dspec_dzp * dzp = 0.000000e+00\n",
      "dcomp_dzp * dzp = 8.314244e-02\n",
      "dxheat_dzp * dzp = 0.000000e+00\n",
      "input heating = 2.764029e-06\n",
      "dxion_source = 0.000000e+00\n",
      "dxion_sink = 4.650280e-06\n",
      "T = 5.957805e+01\n",
      "alpha_A(T) = 1.183951e-11\n",
      "global_params.CLUMPING_FACTOR = 1.000000e+00\n",
      "x_e = 1.038411e-03\n",
      "f_H = 9.249617e-01\n",
      "prefactor_1 = 1.123394e-02\n",
      "curr_delNL0 = -1.776402e-06\n",
      "growth_factor_zp = 3.355357e-02\n",
      "input ionization = 4.646318e-11\n",
      "\n",
      "N_b0 = 2.055340e-07\n",
      "f_H = 9.249617e-01\n",
      "\n",
      "after 58.46965 0.0010337607\n",
      "----- DM21CM -----\n",
      "z 37.329885341776055\n",
      "[3.60864707e-09 5.53406542e-11 3.07674276e-09 2.07199433e-09\n",
      " 5.29635252e-10 2.06498591e-05]\n",
      "3.6084262e-09\n",
      "5.533866e-11\n",
      "3.0764797e-09\n",
      "2.0727906e-09\n",
      "-----------------\n",
      "i_z=2/189 z=37.33 bath.toteng=0.000e+00 eV/Bavg\n",
      "dt 34889584761256.23 35445820932957.69\n",
      "before 58.46965 0.0010337607\n",
      "input_heating 2.792232e-06\n",
      "This is commented out: dspec_dzp = - dxe_dzp * T / (1+x_e); need to put it back in\n",
      "box_ct = 0\n",
      "dzp = -3.757477e-01\n",
      "zp = 3.657463e+01\n",
      "dt_dzp = -9.469796e+13\n",
      "dadia_dzp * dzp = -1.169397e+00\n",
      "dspec_dzp * dzp = 0.000000e+00\n",
      "dcomp_dzp * dzp = 8.089497e-02\n",
      "dxheat_dzp * dzp = 0.000000e+00\n",
      "input heating = 2.792231e-06\n",
      "dxion_source = 0.000000e+00\n",
      "dxion_sink = 4.592854e-06\n",
      "T = 5.846964e+01\n",
      "alpha_A(T) = 1.197606e-11\n",
      "global_params.CLUMPING_FACTOR = 1.000000e+00\n",
      "x_e = 1.033761e-03\n",
      "f_H = 9.249617e-01\n",
      "prefactor_1 = 1.090355e-02\n",
      "curr_delNL0 = -1.758782e-06\n",
      "growth_factor_zp = 3.388973e-02\n",
      "input ionization = 4.695542e-11\n",
      "\n",
      "N_b0 = 2.055340e-07\n",
      "f_H = 9.249617e-01\n",
      "\n",
      "after 57.38115 0.0010291681\n",
      "----- DM21CM -----\n",
      "z 36.950381526510945\n",
      "[3.57548820e-09 5.48112805e-11 3.04875124e-09 2.05215132e-09\n",
      " 5.24855505e-10 2.04424132e-05]\n",
      "3.5752732e-09\n",
      "5.4809348e-11\n",
      "3.0484952e-09\n",
      "2.0529312e-09\n",
      "-----------------\n",
      "i_z=3/189 z=36.95 bath.toteng=0.000e+00 eV/Bavg\n",
      "xray: 0.0080 +/- 0.0002 s\n",
      "bath+dm: 0.0281 +/- 0.0013 s\n",
      "21cmFAST: 0.5077 +/- 0.0078 s\n",
      "prep_next: 0.0225 +/- 0.0007 s\n"
     ]
    }
   ],
   "source": [
    "dm_params = DMParams(\n",
    "    mode = 'decay',\n",
    "    primary = 'phot_delta',\n",
    "    m_DM = 1e10,\n",
    "    lifetime = 1e24,\n",
    ")\n",
    "\n",
    "return_dict = evolve(\n",
    "    run_name = 'dhc_test',\n",
    "    z_start = 38.2,\n",
    "    z_end = 4.96266792,\n",
    "    zplusone_step_factor = 1.01,\n",
    "    dm_params = dm_params,\n",
    "    enable_elec = False,\n",
    "    tf_version = 'zf01',\n",
    "    \n",
    "    p21c_initial_conditions = p21c.initial_conditions(\n",
    "        user_params = p21c.UserParams(\n",
    "            HII_DIM = 16,\n",
    "            BOX_LEN = 16 * 4, # [conformal Mpc]\n",
    "            N_THREADS = 32,\n",
    "        ),\n",
    "        cosmo_params = p21c.CosmoParams(\n",
    "            OMm = Planck18.Om0,\n",
    "            OMb = Planck18.Ob0,\n",
    "            POWER_INDEX = Planck18.meta['n'],\n",
    "            SIGMA_8 = 1e-8, # Planck18.meta['sigma8']\n",
    "            hlittle = Planck18.h,\n",
    "        ),\n",
    "        random_seed = 54321,\n",
    "        write = True,\n",
    "    ),\n",
    "    \n",
    "    rerun_DH = False,\n",
    "    clear_cache = True,\n",
    "    use_tqdm = False,\n",
    "    debug_flags = ['uniform_xray'],\n",
    "    debug_xray_multiplier = 1.,\n",
    "    debug_astro_params = p21c.AstroParams(\n",
    "        L_X = 0. # log10 value\n",
    "    ),\n",
    "    save_dir='../run_info',\n",
    "    debug_dhc_delta_fixed=True,\n",
    "    debug_use_tf_dt=True,\n",
    "    debug_no_bath=True,\n",
    "    debug_bath_point_injection=True,\n",
    "    debug_break_after_z=37.,\n",
    ")"
   ]
  },
  {
   "cell_type": "code",
   "execution_count": null,
   "id": "e46403ae",
   "metadata": {},
   "outputs": [],
   "source": [
    "# DM21CM:\n",
    "# WARNING:root:Point injecting bath at z=37.713184\n",
    "# dt 33860104410955.453 34050802162151.98\n",
    "# bath energy 1.9884138\n",
    "# eng per inj 10000000000.000002\n",
    "# inj_per_Bavg 1.7007892e-11\n",
    "# inj eng 0.17007891622844443"
   ]
  },
  {
   "cell_type": "code",
   "execution_count": null,
   "id": "8abcac81",
   "metadata": {},
   "outputs": [],
   "source": [
    "# DarkHistory\n",
    "# rs=38.71318413405634, bath point injection\n",
    "# bath energy 1.988413835399729\n",
    "# eng per inj 10000000000.0\n",
    "# inj_per_Bavg 1.7007888885729e-11\n",
    "# inj eng 0.17007888885729"
   ]
  },
  {
   "cell_type": "code",
   "execution_count": 80,
   "id": "a41510d8",
   "metadata": {},
   "outputs": [],
   "source": [
    "run_name = 'dhc_test'\n",
    "soln = np.load(f\"../run_info/{run_name}_records.npy\", allow_pickle=True).item()"
   ]
  },
  {
   "cell_type": "code",
   "execution_count": 81,
   "id": "1c8e6353",
   "metadata": {},
   "outputs": [
    {
     "data": {
      "text/plain": [
       "array([38.10031604, 37.7131842 , 37.32988534, 36.95038153, 36.57463517])"
      ]
     },
     "execution_count": 81,
     "metadata": {},
     "output_type": "execute_result"
    }
   ],
   "source": [
    "soln['z']"
   ]
  },
  {
   "cell_type": "code",
   "execution_count": 85,
   "id": "44e555fa",
   "metadata": {},
   "outputs": [
    {
     "data": {
      "text/plain": [
       "array([0.00038659, 0.00032374, 0.00021774])"
      ]
     },
     "execution_count": 85,
     "metadata": {},
     "output_type": "execute_result"
    }
   ],
   "source": [
    "np.array([soln['f_ion'][2], soln['f_exc'][2], soln['f_heat'][2]])"
   ]
  },
  {
   "cell_type": "code",
   "execution_count": 90,
   "id": "fa128b67",
   "metadata": {},
   "outputs": [
    {
     "data": {
      "text/plain": [
       "array([0.00033849, 0.00026855, 0.00034745])"
      ]
     },
     "execution_count": 90,
     "metadata": {},
     "output_type": "execute_result"
    }
   ],
   "source": [
    "np.array([f_dh[0] + f_dh[1], f_dh[2], f_dh[3]])"
   ]
  },
  {
   "cell_type": "markdown",
   "id": "9d6948b1",
   "metadata": {},
   "source": [
    "## compare"
   ]
  },
  {
   "cell_type": "code",
   "execution_count": null,
   "id": "58cad4d7",
   "metadata": {},
   "outputs": [],
   "source": [
    "logger = logging.getLogger()\n",
    "logger.setLevel(logging.CRITICAL+1)\n",
    "\n",
    "fig, ax = plt.subplots()\n",
    "\n",
    "ax.plot(f_dh[:4], label='DarkHistory', color='k')\n",
    "ax.plot(f_dm21cm[:4], label='dm21cm', color='r', ls=':')\n",
    "ax.set_xticks(np.arange(4))\n",
    "ax.set_xticklabels([s.decode('utf-8') for s in dmcm_dep_tf.abscs['out'][:4]])\n",
    "ax.set(yscale='log')\n",
    "#ax.set(ylim=(1e-7,1e-4))\n",
    "ax.legend();"
   ]
  },
  {
   "cell_type": "code",
   "execution_count": null,
   "id": "fe41b1f7",
   "metadata": {},
   "outputs": [
    {
     "data": {
      "text/plain": [
       "array([1.        , 0.99999994, 1.        , 0.99999993])"
      ]
     },
     "metadata": {},
     "output_type": "display_data"
    }
   ],
   "source": [
    "f_dm21cm[:4] / f_dh[:4]"
   ]
  },
  {
   "cell_type": "markdown",
   "id": "93c4e2a7",
   "metadata": {},
   "source": [
    "## A. HED pipeline"
   ]
  },
  {
   "cell_type": "code",
   "execution_count": 110,
   "id": "0420ca04",
   "metadata": {},
   "outputs": [
    {
     "data": {
      "text/plain": [
       "array([11.0582994 ,  8.78602481,  3.48876916, -0.0763134 ])"
      ]
     },
     "execution_count": 110,
     "metadata": {},
     "output_type": "execute_result"
    }
   ],
   "source": [
    "# .npy\n",
    "data_dir = f\"{os.environ['DM21CM_DATA_DIR']}/tf/zf01/phot\"\n",
    "hed_tfgv = np.load(f'{data_dir}/hed_tf_rxneo.npy')\n",
    "hed_tfgv[8, 3, 6, 429]"
   ]
  },
  {
   "cell_type": "code",
   "execution_count": 111,
   "id": "160a9bd1",
   "metadata": {},
   "outputs": [
    {
     "data": {
      "text/plain": [
       "array([11.0582994 ,  8.78602481,  3.48876916, -0.0763134 ])"
      ]
     },
     "execution_count": 111,
     "metadata": {},
     "output_type": "execute_result"
    }
   ],
   "source": [
    "# dm21cm tf\n",
    "tf = np.load(f\"{os.environ['DM21CM_DATA_DIR']}/tf/zf01/phot/hed_tf_rxneo.npy\")\n",
    "tf[8, 3, 6, 429]"
   ]
  },
  {
   "cell_type": "code",
   "execution_count": 134,
   "id": "50e87082",
   "metadata": {},
   "outputs": [
    {
     "data": {
      "text/plain": [
       "array([11.0582994 ,  8.78602481,  3.48876916, -0.0763134 ])"
      ]
     },
     "execution_count": 134,
     "metadata": {},
     "output_type": "execute_result"
    }
   ],
   "source": [
    "# dhtf\n",
    "dhtf = pickle.load(open(f\"{os.environ['DH_DATA_DIR']}/../DHdata_v1_1_zf01/highengdep_interp.raw\", 'rb'))\n",
    "dhtf.grid_vals[0][3, 0, 8, 429] * (abscs['dlnz'] / phys.hubble(abscs['rs'][-2]))"
   ]
  },
  {
   "cell_type": "code",
   "execution_count": 135,
   "id": "ad7d5202",
   "metadata": {},
   "outputs": [
    {
     "data": {
      "text/plain": [
       "array([11.0582994 ,  8.78602481,  3.48876916, -0.0763134 ])"
      ]
     },
     "execution_count": 135,
     "metadata": {},
     "output_type": "execute_result"
    }
   ],
   "source": [
    "dhtf.get_val(0.01, 0.9, abscs['rs'][-2])[429] * (abscs['dlnz'] / phys.hubble(abscs['rs'][-2]))"
   ]
  },
  {
   "cell_type": "markdown",
   "id": "d4146471",
   "metadata": {},
   "source": [
    "correct!!"
   ]
  }
 ],
 "metadata": {
  "kernelspec": {
   "display_name": "Python 3 (ipykernel)",
   "language": "python",
   "name": "python3"
  },
  "language_info": {
   "codemirror_mode": {
    "name": "ipython",
    "version": 3
   },
   "file_extension": ".py",
   "mimetype": "text/x-python",
   "name": "python",
   "nbconvert_exporter": "python",
   "pygments_lexer": "ipython3",
   "version": "3.11.5"
  }
 },
 "nbformat": 4,
 "nbformat_minor": 5
}
