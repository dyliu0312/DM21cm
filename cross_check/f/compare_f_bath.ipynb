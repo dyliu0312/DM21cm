{
 "cells": [
  {
   "cell_type": "code",
   "execution_count": 1,
   "id": "dc6d5aab-492a-457d-9a70-7a63b6a74d40",
   "metadata": {
    "tags": []
   },
   "outputs": [
    {
     "name": "stderr",
     "output_type": "stream",
     "text": [
      "/n/home07/yitians/.conda/envs/dm21cm/lib/python3.11/site-packages/py21cmfast/_cfg.py:58: UserWarning: Your configuration file is out of date. Updating...\n",
      "  warnings.warn(\n",
      "/n/home07/yitians/.conda/envs/dm21cm/lib/python3.11/site-packages/py21cmfast/_cfg.py:42: UserWarning: Your configuration file is out of date. Updating...\n",
      "  warnings.warn(\"Your configuration file is out of date. Updating...\")\n"
     ]
    },
    {
     "name": "stdout",
     "output_type": "stream",
     "text": [
      "1.0.0-dm21cm.0\n"
     ]
    }
   ],
   "source": [
    "%reload_ext autoreload\n",
    "%autoreload 2\n",
    "\n",
    "import os\n",
    "import sys\n",
    "import pickle\n",
    "import logging\n",
    "from tqdm import tqdm\n",
    "\n",
    "import numpy as np\n",
    "from scipy import interpolate\n",
    "from astropy.io import fits\n",
    "import jax.numpy as jnp\n",
    "\n",
    "sys.path.append(os.environ['DM21CM_DIR'])\n",
    "import dm21cm.physics as phys\n",
    "from dm21cm.utils import load_h5_dict\n",
    "from dm21cm.dm_params import DMParams\n",
    "from dm21cm.evolve import get_z_edges\n",
    "from dm21cm.interpolators_jax import BatchInterpolator\n",
    "\n",
    "sys.path.append(os.environ['DH_DIR'])\n",
    "import darkhistory\n",
    "from darkhistory.spec.spectrum import Spectrum\n",
    "from darkhistory.main import evolve as dh_evolve\n",
    "from darkhistory.config import load_data as dh_load_data\n",
    "print(darkhistory.__version__)\n",
    "\n",
    "%matplotlib inline\n",
    "import matplotlib as mpl\n",
    "import matplotlib.pyplot as plt\n",
    "mpl.rc_file('../../matplotlibrc')"
   ]
  },
  {
   "cell_type": "code",
   "execution_count": 2,
   "id": "7d127062-3d40-42d6-b39d-d1e06f01f058",
   "metadata": {
    "tags": []
   },
   "outputs": [],
   "source": [
    "tf_name = 'debug_231002'\n",
    "abscs = load_h5_dict(os.environ['DM21CM_DIR'] + f\"/data/abscissas/abscs_{tf_name}.h5\")"
   ]
  },
  {
   "cell_type": "code",
   "execution_count": 3,
   "id": "71741a08-2dbe-4b98-b829-f4b00660b71b",
   "metadata": {
    "tags": []
   },
   "outputs": [],
   "source": [
    "rs = 38.71318413405634\n",
    "xe = 0.1"
   ]
  },
  {
   "cell_type": "code",
   "execution_count": 3,
   "id": "244bd16b",
   "metadata": {},
   "outputs": [
    {
     "data": {
      "text/plain": [
       "array([1.0000e-05, 3.3330e-05, 1.0000e-04, 3.3330e-04, 1.0000e-03,\n",
       "       3.3330e-03, 1.0000e-02, 3.3330e-02, 1.0000e-01, 2.0000e-01,\n",
       "       3.0000e-01, 5.0000e-01, 7.0000e-01, 8.0000e-01, 9.0000e-01,\n",
       "       9.9000e-01, 9.9900e-01, 9.9990e-01, 9.9999e-01])"
      ]
     },
     "execution_count": 3,
     "metadata": {},
     "output_type": "execute_result"
    }
   ],
   "source": [
    "abscs['x']"
   ]
  },
  {
   "cell_type": "code",
   "execution_count": 18,
   "id": "1f44dd95",
   "metadata": {},
   "outputs": [],
   "source": [
    "rs = 45.30667755087399+1\n",
    "xe = 0.002"
   ]
  },
  {
   "cell_type": "markdown",
   "id": "9df9df82-5948-4319-9a54-8d6570ac843d",
   "metadata": {},
   "source": [
    "## DH_run"
   ]
  },
  {
   "cell_type": "code",
   "execution_count": 19,
   "id": "04693746-6af8-4714-b3e3-6687b8ca2229",
   "metadata": {
    "tags": []
   },
   "outputs": [
    {
     "name": "stdout",
     "output_type": "stream",
     "text": [
      "****** Loading transfer functions... ******\n",
      "Using data at /n/holyscratch01/iaifi_lab/yitians/darkhistory/DHdata_v1_1_debug_231002\n",
      "    for propagating photons...   Done!\n",
      "    for low-energy photons...  Done!\n",
      "    for low-energy electrons...  Done!\n",
      "    for high-energy deposition...  Done!\n",
      "    for total upscattered CMB energy rate...  Done!\n",
      "****** Loading complete! ******\n"
     ]
    }
   ],
   "source": [
    "dep_tf = dh_load_data(\n",
    "    'dep_tf',\n",
    "    verbose=1,\n",
    "    prefix=\"/n/holyscratch01/iaifi_lab/yitians/darkhistory/DHdata_v1_1_debug_231002\",\n",
    "    force_reload=True\n",
    ")"
   ]
  },
  {
   "cell_type": "code",
   "execution_count": 20,
   "id": "0a10e047-e40b-4fad-9575-69a95ac0eeb4",
   "metadata": {
    "tags": []
   },
   "outputs": [
    {
     "name": "stderr",
     "output_type": "stream",
     "text": [
      "WARNING:root:Cross checking 21cmfast!\n",
      "WARNING:root:Setting coarsen_factor=1!\n",
      "WARNING:root:Setting dlnz=0.009950330853168092!\n"
     ]
    },
    {
     "name": "stdout",
     "output_type": "stream",
     "text": [
      "Loading time: 0.000 s\n",
      "Initialization time: 0.025 s\n",
      "rs=46.30667755087399, bath point injection\n",
      "(array([407, 410]),)\n",
      "bath energy 44423.827715201114\n",
      "eng per inj 12000000000.0\n",
      "inj_per_Bavg 1.1125256230453793e-11\n",
      "inj eng 0.1335030747654455\n",
      "Main loop time: 0.072 s\n"
     ]
    },
    {
     "name": "stderr",
     "output_type": "stream",
     "text": [
      "/n/home07/yitians/darkhistory/DarkHistory/darkhistory/spec/spectrum.py:861: RuntimeWarning: The new abscissa lies below the old one: only bins that lie within the new abscissa will be rebinned, bins above the abscissa will be discarded.\n",
      "  warnings.warn(\"The new abscissa lies below the old one: only bins that lie within the new abscissa will be rebinned, bins above the abscissa will be discarded.\", RuntimeWarning)\n"
     ]
    }
   ],
   "source": [
    "dh_soln = dh_evolve(\n",
    "    DM_process='decay', mDM=1.2e10, lifetime=1e24, primary='phot_delta',\n",
    "    start_rs=rs, end_rs=rs/1.01,\n",
    "    coarsen_factor=12, backreaction=True,\n",
    "    init_cond=(xe, phys.chi*xe, 10*phys.kB),\n",
    "    use_tqdm=False, verbose=1,\n",
    "    cross_check_21cmfast=True,\n",
    "    debug_bath_point_injection=True,\n",
    "    debug_use_tf_dt=True,\n",
    ")"
   ]
  },
  {
   "cell_type": "code",
   "execution_count": 21,
   "id": "d963bf99-154d-4bc6-b396-309c9bcdc4ca",
   "metadata": {
    "tags": []
   },
   "outputs": [],
   "source": [
    "f_dh = np.array([dh_soln['f']['low'][k] + dh_soln['f']['high'][k] for k in dh_soln['f']['low']])\n",
    "f_dh = f_dh[:,0]"
   ]
  },
  {
   "cell_type": "code",
   "execution_count": 22,
   "id": "9f683348",
   "metadata": {},
   "outputs": [
    {
     "data": {
      "text/plain": [
       "array([1.51946658e-03, 2.59564716e-05, 1.27021998e-03, 1.00308540e-03,\n",
       "       2.02890799e-04])"
      ]
     },
     "execution_count": 22,
     "metadata": {},
     "output_type": "execute_result"
    }
   ],
   "source": [
    "f_dh"
   ]
  },
  {
   "cell_type": "markdown",
   "id": "1e74e46d",
   "metadata": {},
   "source": [
    "## 21 run"
   ]
  },
  {
   "cell_type": "code",
   "execution_count": 23,
   "id": "0929ad0a",
   "metadata": {},
   "outputs": [],
   "source": [
    "from dm21cm.evolve import evolve\n",
    "import py21cmfast as p21c\n",
    "from astropy.cosmology import Planck18"
   ]
  },
  {
   "cell_type": "code",
   "execution_count": 24,
   "id": "cc3c5e3d",
   "metadata": {},
   "outputs": [
    {
     "name": "stderr",
     "output_type": "stream",
     "text": [
      "/n/home07/yitians/.conda/envs/dm21cm/lib/python3.11/site-packages/py21cmfast/inputs.py:487: UserWarning: The USE_INTERPOLATION_TABLES setting has changed in v3.1.2 to be default True. You can likely ignore this warning, but if you relied onhaving USE_INTERPOLATION_TABLES=False by *default*, please set it explicitly. To silence this warning, set it explicitly to True. Thiswarning will be removed in v4.\n",
      "  warnings.warn(\n",
      "INFO:root:Using 21cmFAST version 0.1.dev1581+g40959ca.d20230929\n",
      "INFO:root:Cache dir: /n/holyscratch01/iaifi_lab/yitians/21cmFAST-cache/dhc_test\n"
     ]
    },
    {
     "name": "stderr",
     "output_type": "stream",
     "text": [
      "INFO:root:TransferFunctionWrapper: Loaded photon transfer functions.\n",
      "INFO:root:DarkHistoryWrapper: Found existing DarkHistory initial conditions.\n",
      "WARNING:root:DarkHistoryWrapper: DMParams mismatch, rerunning.\n",
      "WARNING:root:DarkHistoryWrapper: Overriding remember to turn off.\n",
      "WARNING:root:Turning off bath, remember to turn back on\n"
     ]
    },
    {
     "name": "stdout",
     "output_type": "stream",
     "text": [
      "get_init_cond 76.69051241902868 0.0010065095731422143\n",
      "This is commented out: dspec_dzp = - dxe_dzp * T / (1+x_e); need to put it back in\n",
      "box_ct = 0\n",
      "dzp = -4.256783e-01\n",
      "zp = 4.576974e+01\n",
      "dt_dzp = -5.478598e+13\n",
      "dadia_dzp * dzp = -7.780616e-01\n",
      "dspec_dzp * dzp = 0.000000e+00\n",
      "dcomp_dzp * dzp = 5.069821e-02\n",
      "dxheat_dzp * dzp = 0.000000e+00\n",
      "input heating = 0.000000e+00\n",
      "dxion_source = 0.000000e+00\n",
      "dxion_sink = 3.005761e-07\n",
      "T = 4.274325e+01\n",
      "alpha_A(T) = 1.449264e-11\n",
      "global_params.CLUMPING_FACTOR = 1.000000e+00\n",
      "x_e = 2.138340e-04\n",
      "f_H = 9.249617e-01\n",
      "prefactor_1 = 2.102707e-02\n",
      "curr_delNL0 = -2.190174e-06\n",
      "growth_factor_zp = 2.721458e-02\n",
      "input ionization = 0.000000e+00\n",
      "\n",
      "N_b0 = 2.055340e-07\n",
      "f_H = 9.249617e-01\n",
      "\n",
      "dt 25472261010280.54 25646820891680.023\n",
      "before 76.69054 0.0010065099\n",
      "input_heating 2.3266489e-06\n",
      "This is commented out: dspec_dzp = - dxe_dzp * T / (1+x_e); need to put it back in\n",
      "box_ct = 0\n",
      "dzp = -4.630661e-01\n",
      "zp = 4.530668e+01\n",
      "dt_dzp = -5.616589e+13\n",
      "dadia_dzp * dzp = -1.533808e+00\n",
      "dspec_dzp * dzp = 0.000000e+00\n",
      "dcomp_dzp * dzp = 1.495121e-01\n",
      "dxheat_dzp * dzp = 0.000000e+00\n",
      "input heating = 2.326649e-06\n",
      "dxion_source = 0.000000e+00\n",
      "dxion_sink = 5.045530e-06\n",
      "T = 7.669052e+01\n",
      "alpha_A(T) = 1.014418e-11\n",
      "global_params.CLUMPING_FACTOR = 1.000000e+00\n",
      "x_e = 1.006510e-03\n",
      "f_H = 9.249617e-01\n",
      "prefactor_1 = 2.040867e-02\n",
      "curr_delNL0 = -2.168439e-06\n",
      "growth_factor_zp = 2.748735e-02\n",
      "input ionization = 3.440422e-11\n",
      "\n",
      "N_b0 = 2.055340e-07\n",
      "f_H = 9.249617e-01\n",
      "\n",
      "after 75.30623 0.0010014642\n",
      "----- DM21CM -----\n",
      "z 45.769744326382735\n",
      "[3.68248776e-09 5.69921440e-11 3.13529760e-09 2.10618271e-09\n",
      " 5.40527680e-10 2.16410738e-05]\n",
      "3.6199892e-09\n",
      "5.5996728e-11\n",
      "3.0292637e-09\n",
      "2.3664868e-09\n",
      "-----------------\n",
      "i_z=0/207 z=45.77 bath.toteng=0.000e+00 eV/Bavg\n"
     ]
    },
    {
     "name": "stderr",
     "output_type": "stream",
     "text": [
      "WARNING:root:Point injecting bath at z=45.30667755087399 ---------------------\n"
     ]
    },
    {
     "name": "stdout",
     "output_type": "stream",
     "text": [
      "dt 25856886555192.566 26035771551956.367\n",
      "bath energy 44423.695\n",
      "eng per inj 12000000000.0\n",
      "inj_per_Bavg 1.08370795e-11\n",
      "inj eng 0.13004495397206384\n",
      "(array([407]),)\n",
      "(array([410]),)\n",
      "before 75.30623 0.0010014642\n",
      "input_heating 1.0061682\n",
      "This is commented out: dspec_dzp = - dxe_dzp * T / (1+x_e); need to put it back in\n",
      "box_ct = 0\n",
      "dzp = -4.584846e-01\n",
      "zp = 4.484819e+01\n",
      "dt_dzp = -5.758058e+13\n",
      "dadia_dzp * dzp = -1.506134e+00\n",
      "dspec_dzp * dzp = 0.000000e+00\n",
      "dcomp_dzp * dzp = 1.455090e-01\n",
      "dxheat_dzp * dzp = 0.000000e+00\n",
      "input heating = 1.006168e+00\n",
      "dxion_source = 0.000000e+00\n",
      "dxion_sink = 4.976394e-06\n",
      "T = 7.530623e+01\n",
      "alpha_A(T) = 1.025815e-11\n",
      "global_params.CLUMPING_FACTOR = 1.000000e+00\n",
      "x_e = 1.001464e-03\n",
      "f_H = 9.249617e-01\n",
      "prefactor_1 = 1.980845e-02\n",
      "curr_delNL0 = -2.146921e-06\n",
      "growth_factor_zp = 2.776285e-02\n",
      "input ionization = 1.487704e-05\n",
      "\n",
      "N_b0 = 2.055340e-07\n",
      "f_H = 9.249617e-01\n",
      "\n",
      "after 74.951775 0.001011365\n",
      "----- DM21CM -----\n",
      "z 45.30667755087399\n",
      "[3.64854923e-09 5.64393219e-11 3.10611865e-09 2.08976721e-09\n",
      " 5.35196987e-10 2.14249386e-05]\n",
      "0.0015419789\n",
      "2.384061e-05\n",
      "0.0012904535\n",
      "0.0010081074\n",
      "-----------------\n",
      "i_z=1/207 z=45.31 bath.toteng=4.442e+04 eV/Bavg\n",
      "dt 26247303031699.734 26420871215596.312\n",
      "before 74.951775 0.001011365\n",
      "input_heating 2.3540754e-06\n",
      "This is commented out: dspec_dzp = - dxe_dzp * T / (1+x_e); need to put it back in\n",
      "box_ct = 0\n",
      "dzp = -4.539413e-01\n",
      "zp = 4.439425e+01\n",
      "dt_dzp = -5.903088e+13\n",
      "dadia_dzp * dzp = -1.499032e+00\n",
      "dspec_dzp * dzp = 0.000000e+00\n",
      "dcomp_dzp * dzp = 1.407976e-01\n",
      "dxheat_dzp * dzp = 0.000000e+00\n",
      "input heating = 2.354075e-06\n",
      "dxion_source = 0.000000e+00\n",
      "dxion_sink = 5.014529e-06\n",
      "T = 7.495177e+01\n",
      "alpha_A(T) = 1.028787e-11\n",
      "global_params.CLUMPING_FACTOR = 1.000000e+00\n",
      "x_e = 1.011365e-03\n",
      "f_H = 9.249617e-01\n",
      "prefactor_1 = 1.922589e-02\n",
      "curr_delNL0 = -2.125617e-06\n",
      "growth_factor_zp = 2.804111e-02\n",
      "input ionization = 3.480347e-11\n",
      "\n",
      "N_b0 = 2.055340e-07\n",
      "f_H = 9.249617e-01\n",
      "\n",
      "after 73.593544 0.0010063502\n",
      "----- DM21CM -----\n",
      "z 44.848195594924746\n",
      "[3.61586847e-09 5.59066475e-11 3.07879265e-09 2.06967411e-09\n",
      " 5.30609352e-10 2.12108672e-05]\n",
      "3.5547671e-09\n",
      "5.4932753e-11\n",
      "2.97515e-09\n",
      "2.3242352e-09\n",
      "-----------------\n",
      "i_z=2/207 z=44.85 bath.toteng=0.000e+00 eV/Bavg\n",
      "xray: 0.0081 +/- 0.0000 s\n",
      "bath+dm: 0.0257 +/- 0.0006 s\n",
      "21cmFAST: 0.5152 +/- 0.0052 s\n",
      "prep_next: 0.0227 +/- 0.0012 s\n"
     ]
    }
   ],
   "source": [
    "dm_params = DMParams(\n",
    "    mode = 'decay',\n",
    "    primary = 'phot_delta',\n",
    "    m_DM = 1.2e10,\n",
    "    lifetime = 1e24,\n",
    ")\n",
    "\n",
    "return_dict = evolve(\n",
    "    run_name = 'dhc_test',\n",
    "    z_start = 46.2, # 38.2\n",
    "    z_end = 4.96266792, # 4.96266792\n",
    "    zplusone_step_factor = 1.01,\n",
    "    dm_params = dm_params,\n",
    "    enable_elec = False,\n",
    "    tf_version = 'debug_231002',\n",
    "    \n",
    "    p21c_initial_conditions = p21c.initial_conditions(\n",
    "        user_params = p21c.UserParams(\n",
    "            HII_DIM = 16,\n",
    "            BOX_LEN = 16 * 4, # [conformal Mpc]\n",
    "            N_THREADS = 32,\n",
    "        ),\n",
    "        cosmo_params = p21c.CosmoParams(\n",
    "            OMm = Planck18.Om0,\n",
    "            OMb = Planck18.Ob0,\n",
    "            POWER_INDEX = Planck18.meta['n'],\n",
    "            SIGMA_8 = 1e-8, # Planck18.meta['sigma8']\n",
    "            hlittle = Planck18.h,\n",
    "        ),\n",
    "        random_seed = 54321,\n",
    "        write = True,\n",
    "    ),\n",
    "    \n",
    "    rerun_DH = False,\n",
    "    clear_cache = True,\n",
    "    use_tqdm = False,\n",
    "    debug_flags = ['uniform_xray'],\n",
    "    debug_xray_multiplier = 1.,\n",
    "    debug_astro_params = p21c.AstroParams(\n",
    "        L_X = 0. # log10 value\n",
    "    ),\n",
    "    save_dir='../run_info',\n",
    "    debug_dhc_delta_fixed=True,\n",
    "    debug_use_tf_dt=True,\n",
    "    debug_no_bath=True,\n",
    "    debug_bath_point_injection=True,\n",
    "    debug_break_after_z=45.,\n",
    "    debug_dhc_DH_xe_func=lambda z : xe,\n",
    ")"
   ]
  },
  {
   "cell_type": "code",
   "execution_count": 25,
   "id": "e46403ae",
   "metadata": {},
   "outputs": [],
   "source": [
    "# DM21CM:\n",
    "# WARNING:root:Point injecting bath at z=37.713184\n",
    "# dt 33860104410955.453 34050802162151.98\n",
    "# bath energy 44423.695\n",
    "# eng per inj 10000000000.000002\n",
    "# inj_per_Bavg 1.7007892e-11\n",
    "# inj eng 0.17007891622844443"
   ]
  },
  {
   "cell_type": "code",
   "execution_count": 26,
   "id": "8abcac81",
   "metadata": {},
   "outputs": [],
   "source": [
    "# DarkHistory\n",
    "# rs=38.71318413405634, bath point injection\n",
    "# (array([407, 408]),)\n",
    "# bath energy 44423.864291015205\n",
    "# eng per inj 10000000000.0\n",
    "# inj_per_Bavg 1.7007888885729e-11\n",
    "# inj eng 0.17007888885729"
   ]
  },
  {
   "cell_type": "code",
   "execution_count": 27,
   "id": "9a925d1e",
   "metadata": {},
   "outputs": [],
   "source": [
    "# DM21CM:\n",
    "# WARNING:root:Point injecting bath at z=45.30667755087399 ---------------------\n",
    "# dt 25856886555192.566 26728107321173.67\n",
    "# bath energy 44423.695\n",
    "# eng per inj 12000000000.0\n",
    "# inj_per_Bavg 1.1125254e-11\n",
    "# inj eng 0.1335030523630376\n",
    "# (array([407]),)\n",
    "# (array([410]),)"
   ]
  },
  {
   "cell_type": "code",
   "execution_count": 28,
   "metadata": {},
   "outputs": [],
   "source": [
    "# DH:\n",
    "# rs=46.30667755087399, bath point injection\n",
    "# (array([407, 410]),)\n",
    "# bath energy 44423.827715201114\n",
    "# eng per inj 12000000000.0\n",
    "# inj_per_Bavg 1.1125256230453793e-11\n",
    "# inj eng 0.1335030747654455"
   ]
  },
  {
   "cell_type": "code",
   "execution_count": 29,
   "id": "a41510d8",
   "metadata": {},
   "outputs": [],
   "source": [
    "run_name = 'dhc_test'\n",
    "soln = np.load(f\"../run_info/{run_name}_records.npy\", allow_pickle=True).item()"
   ]
  },
  {
   "cell_type": "code",
   "execution_count": 30,
   "id": "1c8e6353",
   "metadata": {},
   "outputs": [
    {
     "data": {
      "text/plain": [
       "array([0.00000000e+00, 2.36648678e-09, 1.00810744e-03, 2.32423525e-09])"
      ]
     },
     "execution_count": 30,
     "metadata": {},
     "output_type": "execute_result"
    }
   ],
   "source": [
    "soln['f_heat']"
   ]
  },
  {
   "cell_type": "code",
   "execution_count": 31,
   "id": "44e555fa",
   "metadata": {},
   "outputs": [],
   "source": [
    "f3_dm21cm = np.array([soln['f_ion'][2], soln['f_exc'][2], soln['f_heat'][2]])"
   ]
  },
  {
   "cell_type": "code",
   "execution_count": 32,
   "id": "fa128b67",
   "metadata": {},
   "outputs": [],
   "source": [
    "f3_dh = np.array([f_dh[0] + f_dh[1], f_dh[2], f_dh[3]])"
   ]
  },
  {
   "cell_type": "code",
   "execution_count": 33,
   "id": "0e103e11",
   "metadata": {},
   "outputs": [
    {
     "data": {
      "text/plain": [
       "array([-0.01319811, -0.01592913, -0.0050066 ])"
      ]
     },
     "execution_count": 33,
     "metadata": {},
     "output_type": "execute_result"
    }
   ],
   "source": [
    "1 - f3_dm21cm / f3_dh"
   ]
  },
  {
   "cell_type": "markdown",
   "id": "9d6948b1",
   "metadata": {},
   "source": [
    "## compare"
   ]
  },
  {
   "cell_type": "code",
   "execution_count": 15,
   "id": "58cad4d7",
   "metadata": {},
   "outputs": [
    {
     "data": {
      "image/png": "[encoded data removed]",
      "text/plain": [
       "<Figure size 720x480 with 1 Axes>"
      ]
     },
     "metadata": {},
     "output_type": "display_data"
    }
   ],
   "source": [
    "logger = logging.getLogger()\n",
    "logger.setLevel(logging.CRITICAL+1)\n",
    "\n",
    "fig, ax = plt.subplots()\n",
    "\n",
    "ax.plot(f3_dh, label='DarkHistory', color='k')\n",
    "ax.plot(f3_dm21cm, label='dm21cm', color='r', ls=':')\n",
    "ax.set_xticks(np.arange(3))\n",
    "ax.set_xticklabels(['ion', 'exc', 'heat'])\n",
    "ax.set(yscale='log')\n",
    "#ax.set(ylim=(1e-7,1e-4))\n",
    "ax.legend();"
   ]
  },
  {
   "cell_type": "markdown",
   "id": "93c4e2a7",
   "metadata": {},
   "source": [
    "## A. HED pipeline"
   ]
  },
  {
   "cell_type": "code",
   "execution_count": 110,
   "id": "0420ca04",
   "metadata": {},
   "outputs": [
    {
     "data": {
      "text/plain": [
       "array([11.0582994 ,  8.78602481,  3.48876916, -0.0763134 ])"
      ]
     },
     "execution_count": 110,
     "metadata": {},
     "output_type": "execute_result"
    }
   ],
   "source": [
    "# .npy\n",
    "data_dir = f\"{os.environ['DM21CM_DATA_DIR']}/tf/zf01/phot\"\n",
    "hed_tfgv = np.load(f'{data_dir}/hed_tf_rxneo.npy')\n",
    "hed_tfgv[8, 3, 6, 429]"
   ]
  },
  {
   "cell_type": "code",
   "execution_count": 111,
   "id": "160a9bd1",
   "metadata": {},
   "outputs": [
    {
     "data": {
      "text/plain": [
       "array([11.0582994 ,  8.78602481,  3.48876916, -0.0763134 ])"
      ]
     },
     "execution_count": 111,
     "metadata": {},
     "output_type": "execute_result"
    }
   ],
   "source": [
    "# dm21cm tf\n",
    "tf = np.load(f\"{os.environ['DM21CM_DATA_DIR']}/tf/zf01/phot/hed_tf_rxneo.npy\")\n",
    "tf[8, 3, 6, 429]"
   ]
  },
  {
   "cell_type": "code",
   "execution_count": 134,
   "id": "50e87082",
   "metadata": {},
   "outputs": [
    {
     "data": {
      "text/plain": [
       "array([11.0582994 ,  8.78602481,  3.48876916, -0.0763134 ])"
      ]
     },
     "execution_count": 134,
     "metadata": {},
     "output_type": "execute_result"
    }
   ],
   "source": [
    "# dhtf\n",
    "dhtf = pickle.load(open(f\"{os.environ['DH_DATA_DIR']}/../DHdata_v1_1_zf01/highengdep_interp.raw\", 'rb'))\n",
    "dhtf.grid_vals[0][3, 0, 8, 429] * (abscs['dlnz'] / phys.hubble(abscs['rs'][-2]))"
   ]
  },
  {
   "cell_type": "code",
   "execution_count": 135,
   "id": "ad7d5202",
   "metadata": {},
   "outputs": [
    {
     "data": {
      "text/plain": [
       "array([11.0582994 ,  8.78602481,  3.48876916, -0.0763134 ])"
      ]
     },
     "execution_count": 135,
     "metadata": {},
     "output_type": "execute_result"
    }
   ],
   "source": [
    "dhtf.get_val(0.01, 0.9, abscs['rs'][-2])[429] * (abscs['dlnz'] / phys.hubble(abscs['rs'][-2]))"
   ]
  },
  {
   "cell_type": "markdown",
   "id": "d4146471",
   "metadata": {},
   "source": [
    "correct!!"
   ]
  }
 ],
 "metadata": {
  "kernelspec": {
   "display_name": "Python 3 (ipykernel)",
   "language": "python",
   "name": "python3"
  },
  "language_info": {
   "codemirror_mode": {
    "name": "ipython",
    "version": 3
   },
   "file_extension": ".py",
   "mimetype": "text/x-python",
   "name": "python",
   "nbconvert_exporter": "python",
   "pygments_lexer": "ipython3",
   "version": "3.11.5"
  }
 },
 "nbformat": 4,
 "nbformat_minor": 5
}
