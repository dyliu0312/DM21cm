{
 "cells": [
  {
   "cell_type": "code",
   "execution_count": 1,
   "id": "dc6d5aab-492a-457d-9a70-7a63b6a74d40",
   "metadata": {
    "tags": []
   },
   "outputs": [
    {
     "name": "stderr",
     "output_type": "stream",
     "text": [
      "/n/home07/yitians/.conda/envs/dm21cm/lib/python3.11/site-packages/py21cmfast/_cfg.py:58: UserWarning: Your configuration file is out of date. Updating...\n",
      "  warnings.warn(\n",
      "/n/home07/yitians/.conda/envs/dm21cm/lib/python3.11/site-packages/py21cmfast/_cfg.py:42: UserWarning: Your configuration file is out of date. Updating...\n",
      "  warnings.warn(\"Your configuration file is out of date. Updating...\")\n"
     ]
    },
    {
     "name": "stdout",
     "output_type": "stream",
     "text": [
      "1.0.0-dm21cm.0\n"
     ]
    }
   ],
   "source": [
    "%reload_ext autoreload\n",
    "%autoreload 2\n",
    "\n",
    "import os\n",
    "import sys\n",
    "import pickle\n",
    "import logging\n",
    "from tqdm import tqdm\n",
    "\n",
    "import numpy as np\n",
    "from scipy import interpolate\n",
    "from astropy.io import fits\n",
    "import jax.numpy as jnp\n",
    "\n",
    "WDIR = os.environ['DM21CM_DIR']\n",
    "sys.path.append(WDIR)\n",
    "import dm21cm.physics as phys\n",
    "from dm21cm.utils import load_h5_dict\n",
    "from dm21cm.dm_params import DMParams\n",
    "from dm21cm.evolve import get_z_edges\n",
    "from dm21cm.interpolators_jax import BatchInterpolator\n",
    "\n",
    "sys.path.append(os.environ['DH_DIR'])\n",
    "import darkhistory\n",
    "import darkhistory.physics as dh_phys\n",
    "from darkhistory.spec.spectrum import Spectrum\n",
    "from darkhistory.main import evolve as dh_evolve\n",
    "from darkhistory.config import load_data as dh_load_data\n",
    "print(darkhistory.__version__)\n",
    "\n",
    "%matplotlib inline\n",
    "import matplotlib as mpl\n",
    "import matplotlib.pyplot as plt\n",
    "mpl.rc_file(f\"{WDIR}/matplotlibrc\")"
   ]
  },
  {
   "cell_type": "code",
   "execution_count": 2,
   "id": "7d127062-3d40-42d6-b39d-d1e06f01f058",
   "metadata": {
    "tags": []
   },
   "outputs": [],
   "source": [
    "tf_name = 'zf01'\n",
    "abscs = load_h5_dict(f\"{WDIR}/data/abscissas/abscs_{tf_name}.h5\")"
   ]
  },
  {
   "cell_type": "markdown",
   "id": "839ef78c-1a33-4e42-9f56-cf4b1437eefa",
   "metadata": {},
   "source": [
    "## dm21cm_tf"
   ]
  },
  {
   "cell_type": "code",
   "execution_count": 3,
   "id": "fc2defb4",
   "metadata": {},
   "outputs": [],
   "source": [
    "dc_dep_tf = BatchInterpolator(f\"{os.environ['DM21CM_DATA_DIR']}/tf/{tf_name}/elec_dep.h5\")\n",
    "dc_scat_tf = BatchInterpolator(f\"{os.environ['DM21CM_DATA_DIR']}/tf/{tf_name}/elec_scat.h5\")"
   ]
  },
  {
   "cell_type": "code",
   "execution_count": 4,
   "id": "b3fe9fe5-5d56-4bbf-852a-170460c87e95",
   "metadata": {
    "tags": []
   },
   "outputs": [
    {
     "name": "stdout",
     "output_type": "stream",
     "text": [
      "total energy = 83739425895.51418 eV\n"
     ]
    }
   ],
   "source": [
    "# inject 1 electron\n",
    "spec_N = np.zeros((500,))\n",
    "i_injE = 428\n",
    "spec_N[i_injE] = 1.\n",
    "elecEk = dc_dep_tf.abscs['Ein']\n",
    "injE = np.dot(spec_N, elecEk + phys.m_e)\n",
    "print(f'total energy = {injE} eV')"
   ]
  },
  {
   "cell_type": "code",
   "execution_count": 10,
   "id": "71741a08-2dbe-4b98-b829-f4b00660b71b",
   "metadata": {
    "tags": []
   },
   "outputs": [
    {
     "name": "stdout",
     "output_type": "stream",
     "text": [
      "38.71318413405634\n",
      "0.01\n",
      "1.0\n"
     ]
    }
   ],
   "source": [
    "rs = 38.71318413405634\n",
    "i_rs = 8\n",
    "rs = abscs['rs'][i_rs]\n",
    "print(rs)\n",
    "i_x = 3\n",
    "xe = abscs['x'][i_x]\n",
    "print(xe)\n",
    "nBs = 1.0\n",
    "print(nBs)"
   ]
  },
  {
   "cell_type": "code",
   "execution_count": 11,
   "id": "b16d4e3a-bec4-46f1-89cf-0a91f4473ea7",
   "metadata": {
    "tags": []
   },
   "outputs": [
    {
     "name": "stdout",
     "output_type": "stream",
     "text": [
      "[2.71374026e-04 1.00901268e-05 1.56921757e-04 3.55957353e-04\n",
      " 6.00383670e-05 2.01473613e-03]\n"
     ]
    }
   ],
   "source": [
    "f_dc = dc_dep_tf(\n",
    "    in_spec = spec_N,\n",
    "    sum_result = False,\n",
    "    rs = rs,\n",
    "    nBs_s = jnp.array([nBs]),\n",
    "    x_s = jnp.array([xe]),\n",
    "    out_of_bounds_action = 'clip',\n",
    ") / injE\n",
    "\n",
    "f_dc = np.array(f_dc).flatten()\n",
    "print(f_dc)"
   ]
  },
  {
   "cell_type": "code",
   "execution_count": 12,
   "id": "2788868e",
   "metadata": {},
   "outputs": [],
   "source": [
    "sec_phot_N = dc_scat_tf(\n",
    "    in_spec = spec_N,\n",
    "    sum_result = False,\n",
    "    rs = rs,\n",
    "    nBs_s = jnp.array([nBs]),\n",
    "    x_s = jnp.array([xe]),\n",
    "    out_of_bounds_action = 'clip',\n",
    ")\n",
    "f_phot_dc = np.dot(sec_phot_N, abscs['photE']) / injE"
   ]
  },
  {
   "cell_type": "code",
   "execution_count": 13,
   "id": "fe68bff5",
   "metadata": {},
   "outputs": [
    {
     "name": "stdout",
     "output_type": "stream",
     "text": [
      "[0.99999995]\n"
     ]
    }
   ],
   "source": [
    "print(np.sum(f_dc[:5]) + f_phot_dc)"
   ]
  },
  {
   "cell_type": "markdown",
   "id": "9df9df82-5948-4319-9a54-8d6570ac843d",
   "metadata": {},
   "source": [
    "## DH_run"
   ]
  },
  {
   "cell_type": "code",
   "execution_count": 9,
   "id": "04693746-6af8-4714-b3e3-6687b8ca2229",
   "metadata": {
    "tags": []
   },
   "outputs": [
    {
     "name": "stdout",
     "output_type": "stream",
     "text": [
      "****** Loading transfer functions... ******\n",
      "Using data at /n/holyscratch01/iaifi_lab/yitians/darkhistory/DHdata_v1_1/../DHdata_v1_1_zf01\n",
      "    for propagating photons...   Done!\n",
      "    for low-energy photons...  Done!\n",
      "    for low-energy electrons...  Done!\n",
      "    for high-energy deposition...  Done!\n",
      "    for total upscattered CMB energy rate...  Done!\n",
      "****** Loading complete! ******\n",
      "****** Loading transfer functions... ******\n",
      "    for inverse Compton (Thomson)...  Done!\n",
      "    for inverse Compton (relativistic)...  Done!\n",
      "    for inverse Compton (energy loss)...  Done!\n",
      "****** Loading complete! ******\n"
     ]
    }
   ],
   "source": [
    "tf_version = 'zf01'\n",
    "\n",
    "dh_load_data('dep_tf', prefix=f\"{os.environ['DH_DATA_DIR']}/../DHdata_v1_1_{tf_version}\")\n",
    "dh_load_data('ics_tf', prefix=f\"{os.environ['DH_DATA_DIR']}/../DHdata_v1_1_{tf_version}\");"
   ]
  },
  {
   "cell_type": "code",
   "execution_count": 14,
   "id": "0a10e047-e40b-4fad-9575-69a95ac0eeb4",
   "metadata": {
    "tags": []
   },
   "outputs": [
    {
     "name": "stderr",
     "output_type": "stream",
     "text": [
      "WARNING:root:Cross checking 21cmfast!\n"
     ]
    },
    {
     "name": "stdout",
     "output_type": "stream",
     "text": [
      "Loading time: 0.023 s\n",
      "Initialization time: 0.171 s\n"
     ]
    },
    {
     "name": "stderr",
     "output_type": "stream",
     "text": [
      "WARNING:root:Using dm21cm's compute_fs!\n",
      "WARNING:root:Using Planck18 dt!\n",
      "WARNING:root:Setting coarsen_factor=1!\n",
      "WARNING:root:Setting dlnz=0.009950330853168092!\n",
      "WARNING:root:Setting dt=33860104491436.59! dt/dt_old_normalized=1.003536\n",
      "/n/home07/yitians/darkhistory/DarkHistory/darkhistory/spec/spectrum.py:861: RuntimeWarning: The new abscissa lies below the old one: only bins that lie within the new abscissa will be rebinned, bins above the abscissa will be discarded.\n",
      "  warnings.warn(\"The new abscissa lies below the old one: only bins that lie within the new abscissa will be rebinned, bins above the abscissa will be discarded.\", RuntimeWarning)\n"
     ]
    },
    {
     "name": "stdout",
     "output_type": "stream",
     "text": [
      "lowengelec_spec_at_rs 5.939512594328622e-07\n",
      "deposited_ion 2.7078735085180553e-07\n",
      "deposited_exc 2.1454341136254034e-07\n",
      "deposited_heat 8.510457632972852e-08\n",
      "deposited_ICS -1.4707940988656798e-10\n",
      "ics_phot_spec 0.9999927335100701\n",
      "positronium_phot_spec 6.102250411110153e-06\n",
      "highengphot_spec_at_rs 0.9999988357604813\n",
      "lowengelec_spec_at_rs 6.007311228978402e-07\n",
      "deposited_ion 2.7406359264873863e-07\n",
      "deposited_exc 2.1688078573417458e-07\n",
      "deposited_heat 7.080990656333432e-08\n",
      "deposited_ICS -1.4691988912775464e-10\n",
      "ics_phot_spec 0.9999927354111011\n",
      "positronium_phot_spec 6.102250411110154e-06\n",
      "highengphot_spec_at_rs 2.004319883736032\n",
      "Main loop time: 0.368 s\n"
     ]
    }
   ],
   "source": [
    "soln = dh_evolve(\n",
    "    DM_process='swave', mDM=injE+1, sigmav=1e-25, primary='elec_delta', # sigmav shouldn't matter\n",
    "    start_rs=rs, end_rs=rs/1.01,\n",
    "    coarsen_factor=12, backreaction=True,\n",
    "    struct_boost=lambda rs: 1.,\n",
    "    init_cond=(xe, phys.chi*xe, 10*phys.kB),\n",
    "    use_tqdm=False, verbose=1,\n",
    "    cross_check_21cmfast=True,\n",
    ")"
   ]
  },
  {
   "cell_type": "code",
   "execution_count": 15,
   "id": "d963bf99-154d-4bc6-b396-309c9bcdc4ca",
   "metadata": {
    "tags": []
   },
   "outputs": [],
   "source": [
    "f_dh = np.array([soln['f']['low'][k] + soln['f']['high'][k] for k in soln['f']['low']])\n",
    "f_dh = f_dh[:,0]"
   ]
  },
  {
   "cell_type": "code",
   "execution_count": 16,
   "id": "5b16855e",
   "metadata": {},
   "outputs": [
    {
     "data": {
      "text/plain": [
       "array([2.71374045e-04, 1.00901271e-05, 1.56921772e-04, 3.55957373e-04,\n",
       "       1.44768956e-04])"
      ]
     },
     "execution_count": 16,
     "metadata": {},
     "output_type": "execute_result"
    }
   ],
   "source": [
    "f_dh"
   ]
  },
  {
   "cell_type": "code",
   "execution_count": 17,
   "id": "d4ebbd3a-1e5e-4390-849d-90ef5d4328b3",
   "metadata": {
    "tags": []
   },
   "outputs": [
    {
     "data": {
      "image/png": "[encoded data removed]",
      "text/plain": [
       "<Figure size 720x480 with 1 Axes>"
      ]
     },
     "metadata": {},
     "output_type": "display_data"
    }
   ],
   "source": [
    "logger = logging.getLogger()\n",
    "logger.setLevel(logging.CRITICAL+1)\n",
    "\n",
    "fig, ax = plt.subplots()\n",
    "\n",
    "ax.plot(f_dh[:4], label='DarkHistory', color='k')\n",
    "ax.plot(f_dc[:4], label='dm21cm', color='r', ls=':')\n",
    "ax.set_xticks(np.arange(4))\n",
    "ax.set_xticklabels([s.decode('utf-8') for s in dc_dep_tf.abscs['out'][:4]])\n",
    "ax.set(yscale='log')\n",
    "#ax.set(ylim=(1e-7,1e-4))\n",
    "ax.legend();"
   ]
  },
  {
   "cell_type": "code",
   "execution_count": 18,
   "id": "10488aa8-7456-44b3-b226-2449f6b5038a",
   "metadata": {
    "tags": []
   },
   "outputs": [
    {
     "data": {
      "text/plain": [
       "array([0.99999993, 0.99999997, 0.99999991, 0.99999994])"
      ]
     },
     "execution_count": 18,
     "metadata": {},
     "output_type": "execute_result"
    }
   ],
   "source": [
    "f_dc[:4] / f_dh[:4]"
   ]
  }
 ],
 "metadata": {
  "kernelspec": {
   "display_name": "Python 3 (ipykernel)",
   "language": "python",
   "name": "python3"
  },
  "language_info": {
   "codemirror_mode": {
    "name": "ipython",
    "version": 3
   },
   "file_extension": ".py",
   "mimetype": "text/x-python",
   "name": "python",
   "nbconvert_exporter": "python",
   "pygments_lexer": "ipython3",
   "version": "3.11.5"
  }
 },
 "nbformat": 4,
 "nbformat_minor": 5
}
