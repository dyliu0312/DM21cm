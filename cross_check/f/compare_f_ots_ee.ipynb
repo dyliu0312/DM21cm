{
 "cells": [
  {
   "cell_type": "code",
   "execution_count": 1,
   "id": "dc6d5aab-492a-457d-9a70-7a63b6a74d40",
   "metadata": {
    "tags": []
   },
   "outputs": [
    {
     "name": "stderr",
     "output_type": "stream",
     "text": [
      "/n/home07/yitians/.conda/envs/dm21cm/lib/python3.11/site-packages/py21cmfast/_cfg.py:58: UserWarning: Your configuration file is out of date. Updating...\n",
      "  warnings.warn(\n",
      "/n/home07/yitians/.conda/envs/dm21cm/lib/python3.11/site-packages/py21cmfast/_cfg.py:42: UserWarning: Your configuration file is out of date. Updating...\n",
      "  warnings.warn(\"Your configuration file is out of date. Updating...\")\n"
     ]
    },
    {
     "name": "stdout",
     "output_type": "stream",
     "text": [
      "1.0.0-dm21cm.0\n"
     ]
    }
   ],
   "source": [
    "%reload_ext autoreload\n",
    "%autoreload 2\n",
    "\n",
    "import os\n",
    "import sys\n",
    "import pickle\n",
    "import logging\n",
    "from tqdm import tqdm\n",
    "\n",
    "import numpy as np\n",
    "from scipy import interpolate\n",
    "from astropy.io import fits\n",
    "import jax.numpy as jnp\n",
    "\n",
    "WDIR = os.environ['DM21CM_DIR']\n",
    "sys.path.append(WDIR)\n",
    "import dm21cm.physics as phys\n",
    "from dm21cm.utils import load_h5_dict\n",
    "from dm21cm.dm_params import DMParams\n",
    "from dm21cm.evolve import get_z_edges\n",
    "from dm21cm.interpolators_jax import BatchInterpolator\n",
    "\n",
    "sys.path.append(os.environ['DH_DIR'])\n",
    "import darkhistory\n",
    "import darkhistory.physics as dh_phys\n",
    "from darkhistory.spec.spectrum import Spectrum\n",
    "from darkhistory.main import evolve as dh_evolve\n",
    "from darkhistory.config import load_data as dh_load_data\n",
    "print(darkhistory.__version__)\n",
    "\n",
    "%matplotlib inline\n",
    "import matplotlib as mpl\n",
    "import matplotlib.pyplot as plt\n",
    "mpl.rc_file(f\"{WDIR}/matplotlibrc\")"
   ]
  },
  {
   "cell_type": "code",
   "execution_count": 2,
   "id": "7d127062-3d40-42d6-b39d-d1e06f01f058",
   "metadata": {
    "tags": []
   },
   "outputs": [],
   "source": [
    "tf_name = 'zf01'\n",
    "abscs = load_h5_dict(f\"{WDIR}/data/abscissas/abscs_{tf_name}.h5\")"
   ]
  },
  {
   "cell_type": "markdown",
   "id": "839ef78c-1a33-4e42-9f56-cf4b1437eefa",
   "metadata": {},
   "source": [
    "## dm21cm_tf"
   ]
  },
  {
   "cell_type": "code",
   "execution_count": 3,
   "id": "fc2defb4",
   "metadata": {},
   "outputs": [
    {
     "name": "stderr",
     "output_type": "stream",
     "text": [
      "2023-10-16 20:27:02.329292: W external/xla/xla/service/platform_util.cc:198] unable to create StreamExecutor for CUDA:0: failed initializing StreamExecutor for CUDA device ordinal 0: INTERNAL: failed call to cuDevicePrimaryCtxRetain: CUDA_ERROR_OUT_OF_MEMORY: out of memory; total memory reported: 84987740160\n",
      "No GPU/TPU found, falling back to CPU. (Set TF_CPP_MIN_LOG_LEVEL=0 and rerun for more info.)\n"
     ]
    }
   ],
   "source": [
    "dc_dep_tf = BatchInterpolator(f\"{os.environ['DM21CM_DATA_DIR']}/tf/{tf_name}/elec_dep.h5\")\n",
    "dc_scat_tf = BatchInterpolator(f\"{os.environ['DM21CM_DATA_DIR']}/tf/{tf_name}/elec_scat.h5\")"
   ]
  },
  {
   "cell_type": "code",
   "execution_count": 5,
   "id": "b3fe9fe5-5d56-4bbf-852a-170460c87e95",
   "metadata": {
    "tags": []
   },
   "outputs": [
    {
     "name": "stdout",
     "output_type": "stream",
     "text": [
      "total energy = 104489685.92043817 eV\n"
     ]
    }
   ],
   "source": [
    "# inject 1 electron\n",
    "spec_N = np.zeros((500,))\n",
    "i_injE = 314\n",
    "spec_N[i_injE] = 1.\n",
    "elecEk = dc_dep_tf.abscs['Ein']\n",
    "injE = np.dot(spec_N, elecEk + phys.m_e)\n",
    "print(f'total energy = {injE} eV')"
   ]
  },
  {
   "cell_type": "code",
   "execution_count": 6,
   "id": "71741a08-2dbe-4b98-b829-f4b00660b71b",
   "metadata": {
    "tags": []
   },
   "outputs": [
    {
     "name": "stdout",
     "output_type": "stream",
     "text": [
      "38.71318413405634\n",
      "0.01\n",
      "1.0\n"
     ]
    }
   ],
   "source": [
    "i_rs = 8\n",
    "rs = abscs['rs'][i_rs]\n",
    "print(rs)\n",
    "i_x = 3\n",
    "xe = abscs['x'][i_x]\n",
    "print(xe)\n",
    "nBs = 1.0\n",
    "print(nBs)"
   ]
  },
  {
   "cell_type": "code",
   "execution_count": 27,
   "id": "3e8291f5",
   "metadata": {},
   "outputs": [],
   "source": [
    "rs = 44.\n",
    "xe = 0.3\n",
    "nBs = 1.0"
   ]
  },
  {
   "cell_type": "code",
   "execution_count": 28,
   "id": "b16d4e3a-bec4-46f1-89cf-0a91f4473ea7",
   "metadata": {
    "tags": []
   },
   "outputs": [
    {
     "name": "stdout",
     "output_type": "stream",
     "text": [
      "[0.08040393 0.00115805 0.02061086 0.40724226 0.00333172 0.4162925 ]\n"
     ]
    }
   ],
   "source": [
    "f_dc = dc_dep_tf(\n",
    "    in_spec = spec_N,\n",
    "    sum_result = False,\n",
    "    rs = rs,\n",
    "    nBs_s = jnp.array([nBs]),\n",
    "    x_s = jnp.array([xe]),\n",
    "    out_of_bounds_action = 'clip',\n",
    ") / injE\n",
    "\n",
    "f_dc = np.array(f_dc).flatten()\n",
    "print(f_dc)"
   ]
  },
  {
   "cell_type": "code",
   "execution_count": 29,
   "id": "2788868e",
   "metadata": {},
   "outputs": [],
   "source": [
    "sec_phot_N = dc_scat_tf(\n",
    "    in_spec = spec_N,\n",
    "    sum_result = False,\n",
    "    rs = rs,\n",
    "    nBs_s = jnp.array([nBs]),\n",
    "    x_s = jnp.array([xe]),\n",
    "    out_of_bounds_action = 'clip',\n",
    ")\n",
    "f_phot_dc = np.dot(sec_phot_N, abscs['photE']) / injE"
   ]
  },
  {
   "cell_type": "code",
   "execution_count": 30,
   "id": "fe68bff5",
   "metadata": {},
   "outputs": [
    {
     "name": "stdout",
     "output_type": "stream",
     "text": [
      "[0.99974869]\n"
     ]
    }
   ],
   "source": [
    "print(np.sum(f_dc[:5]) + f_phot_dc)"
   ]
  },
  {
   "cell_type": "markdown",
   "id": "9df9df82-5948-4319-9a54-8d6570ac843d",
   "metadata": {},
   "source": [
    "## DH_run"
   ]
  },
  {
   "cell_type": "code",
   "execution_count": 31,
   "id": "04693746-6af8-4714-b3e3-6687b8ca2229",
   "metadata": {
    "tags": []
   },
   "outputs": [],
   "source": [
    "tf_version = 'zf01'\n",
    "\n",
    "dh_load_data('dep_tf', prefix=f\"{os.environ['DH_DATA_DIR']}/../DHdata_v1_1_{tf_version}\")\n",
    "dh_load_data('ics_tf', prefix=f\"{os.environ['DH_DATA_DIR']}/../DHdata_v1_1_{tf_version}\");"
   ]
  },
  {
   "cell_type": "code",
   "execution_count": 32,
   "id": "0a10e047-e40b-4fad-9575-69a95ac0eeb4",
   "metadata": {
    "tags": []
   },
   "outputs": [
    {
     "name": "stdout",
     "output_type": "stream",
     "text": [
      "Loading time: 0.000 s\n",
      "Initialization time: 0.218 s\n",
      "Main loop time: 0.217 s\n"
     ]
    }
   ],
   "source": [
    "soln = dh_evolve(\n",
    "    DM_process='swave', mDM=injE+1, sigmav=1e-25, primary='elec_delta', # sigmav shouldn't matter\n",
    "    start_rs=rs, end_rs=rs/1.01,\n",
    "    coarsen_factor=12, backreaction=True,\n",
    "    struct_boost=lambda rs: 1.,\n",
    "    init_cond=(xe, phys.chi*xe, 10*phys.kB),\n",
    "    use_tqdm=False, verbose=1,\n",
    "    cross_check_21cmfast=True,\n",
    "    cross_check_21cmfast_tf_version=tf_name,\n",
    ")"
   ]
  },
  {
   "cell_type": "code",
   "execution_count": 33,
   "id": "d963bf99-154d-4bc6-b396-309c9bcdc4ca",
   "metadata": {
    "tags": []
   },
   "outputs": [],
   "source": [
    "f_dh = np.array([soln['f']['low'][k] + soln['f']['high'][k] for k in soln['f']['low']])\n",
    "f_dh = f_dh[:,0]"
   ]
  },
  {
   "cell_type": "code",
   "execution_count": 34,
   "id": "5b16855e",
   "metadata": {},
   "outputs": [
    {
     "data": {
      "text/plain": [
       "array([0.08574156, 0.00156438, 0.02366616, 0.48326824, 0.06737423])"
      ]
     },
     "execution_count": 34,
     "metadata": {},
     "output_type": "execute_result"
    }
   ],
   "source": [
    "f_dh"
   ]
  },
  {
   "cell_type": "code",
   "execution_count": 35,
   "id": "d4ebbd3a-1e5e-4390-849d-90ef5d4328b3",
   "metadata": {
    "tags": []
   },
   "outputs": [
    {
     "data": {
      "image/png": "[encoded data removed]",
      "text/plain": [
       "<Figure size 720x480 with 1 Axes>"
      ]
     },
     "metadata": {},
     "output_type": "display_data"
    }
   ],
   "source": [
    "logger = logging.getLogger()\n",
    "logger.setLevel(logging.CRITICAL+1)\n",
    "\n",
    "fig, ax = plt.subplots()\n",
    "\n",
    "ax.plot(f_dh[:4], label='DarkHistory', color='k')\n",
    "ax.plot(f_dc[:4], label='dm21cm', color='r', ls=':')\n",
    "ax.set_xticks(np.arange(4))\n",
    "ax.set_xticklabels([s.decode('utf-8') for s in dc_dep_tf.abscs['out'][:4]])\n",
    "ax.set(yscale='log')\n",
    "#ax.set(ylim=(1e-7,1e-4))\n",
    "ax.legend();"
   ]
  },
  {
   "cell_type": "code",
   "execution_count": 36,
   "id": "10488aa8-7456-44b3-b226-2449f6b5038a",
   "metadata": {
    "tags": []
   },
   "outputs": [
    {
     "data": {
      "text/plain": [
       "array([0.93774753, 0.74026269, 0.87090007, 0.84268368])"
      ]
     },
     "execution_count": 36,
     "metadata": {},
     "output_type": "execute_result"
    }
   ],
   "source": [
    "f_dc[:4] / f_dh[:4]"
   ]
  },
  {
   "cell_type": "code",
   "execution_count": 43,
   "id": "64eff69d",
   "metadata": {},
   "outputs": [
    {
     "data": {
      "text/plain": [
       "<matplotlib.legend.Legend at 0x7f0fc40a1c50>"
      ]
     },
     "execution_count": 43,
     "metadata": {},
     "output_type": "execute_result"
    },
    {
     "data": {
      "image/png": "[encoded data removed]",
      "text/plain": [
       "<Figure size 720x480 with 1 Axes>"
      ]
     },
     "metadata": {},
     "output_type": "display_data"
    }
   ],
   "source": [
    "for i in range(5):\n",
    "    plt.plot(dc_dep_tf.abscs['x'], dc_dep_tf.data[5, 314, 6, :, i] / (dc_dep_tf.abscs['Ein'][314]+phys.m_e), label=dc_dep_tf.abscs['out'][i])\n",
    "plt.axvline(0.1, color='k', alpha=0.2)\n",
    "plt.xlabel('xe')\n",
    "plt.ylabel('f')\n",
    "plt.legend()"
   ]
  },
  {
   "cell_type": "code",
   "execution_count": 23,
   "id": "282096ff",
   "metadata": {},
   "outputs": [
    {
     "data": {
      "text/plain": [
       "array([ 5.        ,  6.45774833,  8.34050269, 10.77217345, 13.91279701,\n",
       "       17.96906832, 23.20794417, 29.97421252, 38.71318413, 50.        ])"
      ]
     },
     "execution_count": 23,
     "metadata": {},
     "output_type": "execute_result"
    }
   ],
   "source": [
    "dc_dep_tf.abscs['rs']"
   ]
  },
  {
   "cell_type": "code",
   "execution_count": null,
   "id": "07c4328e",
   "metadata": {},
   "outputs": [],
   "source": []
  }
 ],
 "metadata": {
  "kernelspec": {
   "display_name": "Python 3 (ipykernel)",
   "language": "python",
   "name": "python3"
  },
  "language_info": {
   "codemirror_mode": {
    "name": "ipython",
    "version": 3
   },
   "file_extension": ".py",
   "mimetype": "text/x-python",
   "name": "python",
   "nbconvert_exporter": "python",
   "pygments_lexer": "ipython3",
   "version": "3.11.5"
  }
 },
 "nbformat": 4,
 "nbformat_minor": 5
}
