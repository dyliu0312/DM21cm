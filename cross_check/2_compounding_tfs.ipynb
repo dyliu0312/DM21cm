{
 "cells": [
  {
   "cell_type": "code",
   "execution_count": 1,
   "id": "30164e61-c24f-430e-812a-470e5bf97a74",
   "metadata": {
    "tags": []
   },
   "outputs": [],
   "source": [
    "%reload_ext autoreload\n",
    "%autoreload 2\n",
    "\n",
    "import os, sys\n",
    "import pickle\n",
    "from tqdm import tqdm\n",
    "\n",
    "import numpy as np\n",
    "import jax.numpy as jnp\n",
    "from jax import jit\n",
    "\n",
    "%matplotlib inline\n",
    "import matplotlib as mpl\n",
    "import matplotlib.pyplot as plt\n",
    "mpl.rc_file('../matplotlibrc')"
   ]
  },
  {
   "cell_type": "code",
   "execution_count": 2,
   "id": "47a23b31-3864-49d0-9bef-3fddfc119aae",
   "metadata": {},
   "outputs": [],
   "source": [
    "# import darkhistory\n",
    "if os.environ['USER'] == 'yitians' and 'submit' in os.uname().nodename:\n",
    "    os.environ['DH_DIR'] = '/work/submit/yitians/darkhistory/DarkHistory'\n",
    "    os.environ['DM21CM_DATA_DIR'] = '/data/submit/yitians/DM21cm'\n",
    "sys.path.append(os.environ['DH_DIR'])\n",
    "# import DM21cm\n",
    "sys.path.append('..')"
   ]
  },
  {
   "cell_type": "markdown",
   "id": "be3c5086-7253-44b3-a48e-f84898e5c938",
   "metadata": {},
   "source": [
    "## 0. Load"
   ]
  },
  {
   "cell_type": "code",
   "execution_count": 3,
   "id": "0279bb5b-266a-4380-ab6c-54a91bfb8461",
   "metadata": {},
   "outputs": [
    {
     "name": "stdout",
     "output_type": "stream",
     "text": [
      "3.8G\t/data/submit/yitians/DM21cm/transferfunctions/nBs_test/archive\n",
      "39M\t/data/submit/yitians/DM21cm/transferfunctions/nBs_test/phot_cdep_dlnz48m_nxreo_ad.p\n",
      "39M\t/data/submit/yitians/DM21cm/transferfunctions/nBs_test/phot_cdep_dlnz48m_renxo_ad.p\n",
      "3.8G\t/data/submit/yitians/DM21cm/transferfunctions/nBs_test/phot_ctf_dlnz48m_nxreo_ad.p\n",
      "3.8G\t/data/submit/yitians/DM21cm/transferfunctions/nBs_test/phot_ctf_dlnz48m_renxo_ad.p\n",
      "39M\t/data/submit/yitians/DM21cm/transferfunctions/nBs_test/phot_depgv.npy\n",
      "39M\t/data/submit/yitians/DM21cm/transferfunctions/nBs_test/phot_dep_nxreo_ad.p\n",
      "39M\t/data/submit/yitians/DM21cm/transferfunctions/nBs_test/phot_dep_renxo_ad.p\n",
      "3.8G\t/data/submit/yitians/DM21cm/transferfunctions/nBs_test/phot_tfgv.npy\n",
      "3.8G\t/data/submit/yitians/DM21cm/transferfunctions/nBs_test/phot_tf_nxreo_ad.p\n",
      "3.8G\t/data/submit/yitians/DM21cm/transferfunctions/nBs_test/phot_tf_renxo_ad.p\n"
     ]
    }
   ],
   "source": [
    "! du -smh /data/submit/yitians/DM21cm/transferfunctions/nBs_test/*"
   ]
  },
  {
   "cell_type": "markdown",
   "id": "cbce28e9-fae2-47ec-b47e-cfa135d1c188",
   "metadata": {},
   "source": [
    "`phot_depgv.npy` and `phot_tfgv.npy` are ~ (nBs, x, rs, Ein, out)"
   ]
  },
  {
   "cell_type": "code",
   "execution_count": 4,
   "id": "bce0baa1-7ba9-434a-a05d-ae81f360af10",
   "metadata": {},
   "outputs": [
    {
     "name": "stdout",
     "output_type": "stream",
     "text": [
      "(10, 10, 20, 500, 500)\n",
      "(10, 10, 20, 500, 5)\n"
     ]
    }
   ],
   "source": [
    "DATA_DIR = os.environ['DM21CM_DATA_DIR'] + '/transferfunctions/nBs_test'\n",
    "tf_abscs, tf = pickle.load(open(f'{DATA_DIR}/phot_tf_nxreo_ad.p', 'rb'))\n",
    "dep_abscs, dep = pickle.load(open(f'{DATA_DIR}/phot_dep_nxreo_ad.p', 'rb'))\n",
    "\n",
    "print(tf.shape)\n",
    "print(dep.shape)"
   ]
  },
  {
   "cell_type": "markdown",
   "id": "94ce175e-efde-457e-81c4-24ff74c156bc",
   "metadata": {},
   "source": [
    "## 1. Check energy conservation"
   ]
  },
  {
   "cell_type": "code",
   "execution_count": 5,
   "id": "dc594e1b-c42d-4e2e-9053-c77edc57c990",
   "metadata": {},
   "outputs": [],
   "source": [
    "i, j, k = 3, 4, 5\n",
    "tf_slice = tf[i,j,k]\n",
    "dep_slice = dep[i,j,k]\n",
    "in_eng = tf_abscs['Ein']\n",
    "out_eng = tf_abscs['out']\n",
    "\n",
    "tf_fs = np.dot(tf_slice, out_eng)/in_eng\n",
    "dep_fs = np.sum(dep_slice, axis=-1)/in_eng"
   ]
  },
  {
   "cell_type": "code",
   "execution_count": 6,
   "id": "2a1ff04f-e159-444d-8df9-c88f5d8c7928",
   "metadata": {},
   "outputs": [
    {
     "data": {
      "image/png": "[encoded data removed]",
      "text/plain": [
       "<Figure size 720x480 with 1 Axes>"
      ]
     },
     "metadata": {},
     "output_type": "display_data"
    }
   ],
   "source": [
    "plt.plot(tf_fs, label='tf')\n",
    "plt.plot(dep_fs, label='dep')\n",
    "plt.plot(tf_fs+dep_fs, label='total')\n",
    "plt.ylim(1-1e-5, 1+1e-5)\n",
    "plt.legend();"
   ]
  },
  {
   "cell_type": "markdown",
   "id": "8c90cbf3-fbf7-40dd-81fd-67be1ea2ce11",
   "metadata": {},
   "source": [
    "## 2. Compounding"
   ]
  },
  {
   "cell_type": "code",
   "execution_count": 7,
   "id": "3c6daa8d-4f23-492d-8ba9-a15f61257a11",
   "metadata": {},
   "outputs": [],
   "source": [
    "def compound(tf, dep, n):\n",
    "    ctf = np.linalg.matrix_power(tf, n)\n",
    "    prop_tf = np.zeros_like(tf)\n",
    "    for i in range(n):\n",
    "        prop_tf += np.linalg.matrix_power(tf, i)\n",
    "    cdep = np.dot(prop_tf, dep)\n",
    "    return ctf, cdep"
   ]
  },
  {
   "cell_type": "code",
   "execution_count": 8,
   "id": "80f2419d-63c0-4610-b908-b6310ac3dfbf",
   "metadata": {},
   "outputs": [],
   "source": [
    "@jit\n",
    "def compound_50(tf, dep):\n",
    "    \n",
    "    dot = jnp.dot\n",
    "    \n",
    "    s2 = jnp.identity(tf.shape[0]) + tf\n",
    "    p2 = dot(tf, tf)\n",
    "    s4 = s2 + dot(p2, s2)\n",
    "    p4 = dot(p2, p2)\n",
    "    s8 = s4 + dot(p4, s4)\n",
    "    p8 = dot(p4, p4)\n",
    "    s16 = s8 + dot(p8, s8)\n",
    "    p16 = dot(p8, p8)\n",
    "    s32 = s16 + dot(p16, s16)\n",
    "    p32 = dot(p16, p16)\n",
    "    \n",
    "    p48 = dot(p32, p16)\n",
    "    p50 = dot(p48, p2)\n",
    "    s50 = s32 + dot(p32, s16) + dot(p48, s2)\n",
    "    \n",
    "    return p50, dot(s50, dep)"
   ]
  },
  {
   "cell_type": "code",
   "execution_count": 9,
   "id": "4339077f-7ac1-46ee-b13f-ae3d786a5316",
   "metadata": {},
   "outputs": [
    {
     "name": "stderr",
     "output_type": "stream",
     "text": [
      "WARNING:jax._src.lib.xla_bridge:No GPU/TPU found, falling back to CPU. (Set TF_CPP_MIN_LOG_LEVEL=0 and rerun for more info.)\n"
     ]
    },
    {
     "name": "stdout",
     "output_type": "stream",
     "text": [
      "11.3 ms ± 1.64 ms per loop (mean ± std. dev. of 7 runs, 1 loop each)\n"
     ]
    }
   ],
   "source": [
    "%timeit ctf, cdep = compound_50(tf_slice, dep_slice)"
   ]
  },
  {
   "cell_type": "code",
   "execution_count": 10,
   "id": "787873aa-21c8-4867-87ca-95603b3c4fdc",
   "metadata": {},
   "outputs": [
    {
     "name": "stdout",
     "output_type": "stream",
     "text": [
      "901 ms ± 213 ms per loop (mean ± std. dev. of 7 runs, 1 loop each)\n"
     ]
    }
   ],
   "source": [
    "%timeit ctf, cdep = compound(tf_slice, dep_slice, 50)"
   ]
  },
  {
   "cell_type": "code",
   "execution_count": 11,
   "id": "4e9a860f-52aa-40cf-acc5-224ff74ffc09",
   "metadata": {},
   "outputs": [],
   "source": [
    "ctf, cdep = compound_50(tf_slice, dep_slice)\n",
    "#ctf, cdep = compound(tf_slice, dep_slice, 50)\n",
    "tf_fs = np.dot(ctf, out_eng)/in_eng\n",
    "dep_fs = np.sum(cdep, axis=-1)/in_eng"
   ]
  },
  {
   "cell_type": "code",
   "execution_count": 12,
   "id": "759867e9-d286-4c2a-999d-13362ece125f",
   "metadata": {},
   "outputs": [
    {
     "data": {
      "image/png": "[encoded data removed]",
      "text/plain": [
       "<Figure size 720x480 with 1 Axes>"
      ]
     },
     "metadata": {},
     "output_type": "display_data"
    }
   ],
   "source": [
    "plt.plot(tf_fs, label='tf')\n",
    "plt.plot(dep_fs, label='dep')\n",
    "plt.plot(tf_fs+dep_fs, label='total')\n",
    "plt.ylim(1-1e-3, 1+1e-3)\n",
    "plt.legend();"
   ]
  },
  {
   "cell_type": "code",
   "execution_count": null,
   "id": "38696d64-b349-4367-9b6d-eff36431a820",
   "metadata": {},
   "outputs": [],
   "source": []
  }
 ],
 "metadata": {
  "kernelspec": {
   "display_name": "21cmfast",
   "language": "python",
   "name": "21cmfast"
  },
  "language_info": {
   "codemirror_mode": {
    "name": "ipython",
    "version": 3
   },
   "file_extension": ".py",
   "mimetype": "text/x-python",
   "name": "python",
   "nbconvert_exporter": "python",
   "pygments_lexer": "ipython3",
   "version": "3.7.12"
  }
 },
 "nbformat": 4,
 "nbformat_minor": 5
}
