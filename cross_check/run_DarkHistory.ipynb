{
 "cells": [
  {
   "cell_type": "code",
   "execution_count": 1,
   "id": "0ca0886a-278e-4713-989e-27531e908286",
   "metadata": {
    "tags": []
   },
   "outputs": [],
   "source": [
    "%reload_ext autoreload\n",
    "%autoreload 2\n",
    "\n",
    "import os\n",
    "import sys\n",
    "import pickle\n",
    "\n",
    "import numpy as np\n",
    "from scipy import interpolate\n",
    "\n",
    "sys.path.append(os.environ['DM21CM_DIR'])\n",
    "import dm21cm.physics as phys\n",
    "\n",
    "sys.path.append(os.environ['DH_DIR'])\n",
    "from darkhistory.main import evolve as dh_evolve\n",
    "import darkhistory.physics as dhphys\n",
    "\n",
    "%matplotlib inline\n",
    "import matplotlib as mpl\n",
    "import matplotlib.pyplot as plt\n",
    "mpl.rc_file('../matplotlibrc')"
   ]
  },
  {
   "cell_type": "markdown",
   "id": "3dfd9587-ef3e-4a8a-ab6b-5b8296bb88bd",
   "metadata": {},
   "source": [
    "## 1. DarkHistory runs"
   ]
  },
  {
   "cell_type": "code",
   "execution_count": 2,
   "id": "cc2fa77f-f8a7-4c1b-abce-d105f1e0a9fe",
   "metadata": {
    "tags": []
   },
   "outputs": [],
   "source": [
    "base_21cmfast = np.load(f'../data/run_info/base_records.npy', allow_pickle=True).item()\n",
    "\n",
    "start_rs = base_21cmfast['z'][0] + 1\n",
    "end_rs = base_21cmfast['z'][-1] + 1"
   ]
  },
  {
   "cell_type": "code",
   "execution_count": 3,
   "id": "e432b14a-56ad-4643-b5b4-2c31b19eb172",
   "metadata": {
    "tags": []
   },
   "outputs": [
    {
     "data": {
      "text/plain": [
       "40.54271295180308"
      ]
     },
     "execution_count": 3,
     "metadata": {},
     "output_type": "execute_result"
    }
   ],
   "source": [
    "base_21cmfast['z'][1] + 1"
   ]
  },
  {
   "cell_type": "markdown",
   "id": "fdebc3e0-eee9-423c-8b4d-7ec279320f23",
   "metadata": {},
   "source": [
    "### 1.1 regular run"
   ]
  },
  {
   "cell_type": "code",
   "execution_count": 4,
   "id": "33b96131-4ee9-4998-8354-ff2bc5c4e087",
   "metadata": {
    "tags": []
   },
   "outputs": [],
   "source": [
    "from darkhistory.config import load_data"
   ]
  },
  {
   "cell_type": "code",
   "execution_count": 5,
   "id": "7abad1ae-431c-45ed-95b7-892cd46112c2",
   "metadata": {
    "tags": []
   },
   "outputs": [
    {
     "name": "stdout",
     "output_type": "stream",
     "text": [
      "****** Loading transfer functions... ******\n",
      "Using data at /n/holyscratch01/iaifi_lab/yitians/darkhistory/DHdata_v1_1_test\n",
      "    for propagating photons...   Done!\n",
      "    for low-energy photons...  Done!\n",
      "    for low-energy electrons...  Done!\n",
      "    for high-energy deposition...  Done!\n",
      "    for total upscattered CMB energy rate...  Done!\n",
      "****** Loading complete! ******\n"
     ]
    },
    {
     "data": {
      "text/plain": [
       "{'highengphot': <darkhistory.spec.transferfunclist.TransferFuncInterp at 0x7fa84288e9e0>,\n",
       " 'lowengphot': <darkhistory.spec.transferfunclist.TransferFuncInterp at 0x7fa84288cbb0>,\n",
       " 'lowengelec': <darkhistory.spec.transferfunclist.TransferFuncInterp at 0x7fa84288f9a0>,\n",
       " 'highengdep': <darkhistory.history.histools.IonRSInterp at 0x7fa84288c760>,\n",
       " 'CMB_engloss': <darkhistory.history.histools.IonRSInterp at 0x7fa81092d150>}"
      ]
     },
     "execution_count": 5,
     "metadata": {},
     "output_type": "execute_result"
    }
   ],
   "source": [
    "load_data('dep_tf', prefix='/n/holyscratch01/iaifi_lab/yitians/darkhistory/DHdata_v1_1_test')"
   ]
  },
  {
   "cell_type": "code",
   "execution_count": 6,
   "id": "7537e8b9-59bc-4afd-91f9-0f3073f9a2a2",
   "metadata": {
    "tags": []
   },
   "outputs": [
    {
     "name": "stdout",
     "output_type": "stream",
     "text": [
      "****** Loading transfer functions... ******\n",
      "    for inverse Compton (Thomson)...  Done!\n",
      "    for inverse Compton (relativistic)...  Done!\n",
      "    for inverse Compton (energy loss)...  Done!\n",
      "****** Loading complete! ******\n",
      "Loading time: 0.844 s\n"
     ]
    },
    {
     "name": "stderr",
     "output_type": "stream",
     "text": [
      "  0%|                                                                                       | 0/534 [00:00<?, ?it/s]"
     ]
    },
    {
     "name": "stdout",
     "output_type": "stream",
     "text": [
      "Initialization time: 0.067 s\n"
     ]
    },
    {
     "name": "stderr",
     "output_type": "stream",
     "text": [
      " 10%|███████▉                                                                      | 54/534 [00:07<01:05,  7.31it/s]/n/home07/yitians/.local/lib/python3.10/site-packages/scipy/integrate/_odepack_py.py:248: ODEintWarning: Excess work done on this call (perhaps wrong Dfun type). Run with full_output = 1 to get quantitative information.\n",
      "  warnings.warn(warning_msg, ODEintWarning)\n",
      " 64%|█████████████████████████████████████████████████▌                           | 344/534 [00:48<00:26,  7.24it/s]WARNING:root:Overwriting coarsen_factor and dlnz!\n",
      "573it [00:53, 10.68it/s]                                                                                            "
     ]
    },
    {
     "name": "stdout",
     "output_type": "stream",
     "text": [
      "Main loop time: 53.632 s\n"
     ]
    },
    {
     "name": "stderr",
     "output_type": "stream",
     "text": [
      "\n"
     ]
    }
   ],
   "source": [
    "run_name = 'phph'\n",
    "\n",
    "soln = dh_evolve(\n",
    "    DM_process='swave', mDM=1e10, sigmav=1e-23, primary='phot_delta',\n",
    "    start_rs=3000, end_rs=5,\n",
    "    coarsen_factor=12, backreaction=True, \n",
    "    struct_boost=phys.struct_boost_func('erfc 1e-3'),\n",
    "    reion_switch=False,\n",
    "    use_tqdm=True, verbose=1,\n",
    "    custom_dlnz=True\n",
    ")"
   ]
  },
  {
   "cell_type": "code",
   "execution_count": 7,
   "id": "0a974e36-5f31-49ab-b1a1-daf34f7d526b",
   "metadata": {
    "tags": []
   },
   "outputs": [],
   "source": [
    "pickle.dump(soln, open(f'../data/run_info/DH/{run_name}_21tf_soln.p', 'wb'))"
   ]
  },
  {
   "cell_type": "markdown",
   "id": "856a4fcc-edb6-406b-a5ec-80be5d388458",
   "metadata": {},
   "source": [
    "### 1.2 force case A with fake reionization"
   ]
  },
  {
   "cell_type": "code",
   "execution_count": 8,
   "id": "d4bc556f-63b0-45e0-a368-5f4a9fc966c6",
   "metadata": {
    "tags": []
   },
   "outputs": [
    {
     "name": "stdout",
     "output_type": "stream",
     "text": [
      "****** Loading transfer functions... ******\n",
      "Using data at /n/holyscratch01/iaifi_lab/yitians/darkhistory/DHdata_v1_1\n",
      "    for propagating photons...   Done!\n",
      "    for low-energy photons...  Done!\n",
      "    for low-energy electrons...  Done!\n",
      "    for high-energy deposition...  Done!\n",
      "    for total upscattered CMB energy rate...  Done!\n",
      "****** Loading complete! ******\n",
      "****** Loading transfer functions... ******\n",
      "    for inverse Compton (Thomson)...  Done!\n",
      "    for inverse Compton (relativistic)...  Done!\n",
      "    for inverse Compton (energy loss)...  Done!\n",
      "****** Loading complete! ******\n",
      "Loading time: 32.039 s\n"
     ]
    },
    {
     "name": "stderr",
     "output_type": "stream",
     "text": [
      "  0%|                                                                                           | 0/518 [00:00<?, ?it/s]"
     ]
    },
    {
     "name": "stdout",
     "output_type": "stream",
     "text": [
      "Initialization time: 0.127 s\n"
     ]
    },
    {
     "name": "stderr",
     "output_type": "stream",
     "text": [
      " 10%|████████▌                                                                         | 54/518 [00:06<00:59,  7.83it/s]/n/home07/yitians/.local/lib/python3.10/site-packages/scipy/integrate/_odepack_py.py:248: ODEintWarning: Excess work done on this call (perhaps wrong Dfun type). Run with full_output = 1 to get quantitative information.\n",
      "  warnings.warn(warning_msg, ODEintWarning)\n",
      "100%|█████████████████████████████████████████████████████████████████████████████████| 518/518 [01:17<00:00,  6.72it/s]\n"
     ]
    },
    {
     "name": "stdout",
     "output_type": "stream",
     "text": [
      "Main loop time: 77.095 s\n"
     ]
    }
   ],
   "source": [
    "run_name = 'phph_caseA_in_reion'\n",
    "\n",
    "soln = dh_evolve(\n",
    "    DM_process='swave', mDM=1e10, sigmav=1e-23, primary='phot_delta',\n",
    "    start_rs=3000, end_rs=6,\n",
    "    coarsen_factor=12, backreaction=True, \n",
    "    struct_boost=phys.struct_boost_func('erfc 1e-3'),\n",
    "    reion_switch=True, reion_rs=base_21cmfast['z'][1]+1,\n",
    "    photoion_rate_func = [lambda rs: 0.] * 3,\n",
    "    photoheat_rate_func = [lambda rs: 0.] * 3,\n",
    "    use_tqdm=True, verbose=1\n",
    ")"
   ]
  },
  {
   "cell_type": "code",
   "execution_count": 9,
   "id": "bedad118-a790-44dd-803f-c3832d35e3ec",
   "metadata": {
    "tags": []
   },
   "outputs": [],
   "source": [
    "pickle.dump(soln, open(f'../../data/run_info/DH/{run_name}_soln.p', 'wb'))"
   ]
  },
  {
   "cell_type": "markdown",
   "id": "ba7eb605-b9a4-4d9b-9fd0-37606e22a9d8",
   "metadata": {},
   "source": [
    "### 1.3 custom injection"
   ]
  },
  {
   "cell_type": "code",
   "execution_count": null,
   "id": "3179d1c9-21a8-4977-b6f6-15e8b2ecc898",
   "metadata": {},
   "outputs": [],
   "source": [
    "import darkhistory.physics as dhphys\n",
    "from darkhistory.spec import pppc\n",
    "from config import load_data"
   ]
  },
  {
   "cell_type": "code",
   "execution_count": null,
   "id": "051b607d-0994-43f0-92da-01515a75e5e4",
   "metadata": {},
   "outputs": [],
   "source": [
    "# custom xe levels\n",
    "def x_reion_func(rs):\n",
    "    # extrapolate z low so that darkhistory doesn't complain\n",
    "    z_arr = base_records['z'].copy()\n",
    "    z_arr = np.append(z_arr, 2 * z_arr[-1] - z_arr[-2])\n",
    "    x_e_arr = base_records['x_e'].copy()\n",
    "    x_e_arr = np.append(x_e_arr, x_e_arr[-1])\n",
    "    return interpolate.interp1d(1 + z_arr, x_e_arr)(rs)"
   ]
  },
  {
   "cell_type": "code",
   "execution_count": 21,
   "id": "2fd4cb11-44ab-444a-9c51-164b51739ff8",
   "metadata": {},
   "outputs": [],
   "source": [
    "run_name = 'phph_turnon_z35_comp'\n",
    "\n",
    "mDM = 1e10\n",
    "sigmav = 1e-23\n",
    "struct_boost = phys.struct_boost_func('erfc 1e-3')\n",
    "\n",
    "photeng = load_data('binning')['phot']\n",
    "eleceng = load_data('binning')['elec']\n",
    "\n",
    "def in_spec_elec_func(rs):\n",
    "    in_spec_elec = pppc.get_pppc_spec(1e10, eleceng, 'phot_delta', 'elec')\n",
    "    in_spec_elec.rs = rs\n",
    "    if rs > 36:\n",
    "        in_spec_elec *= 0\n",
    "    return in_spec_elec\n",
    "\n",
    "def in_spec_phot_func(rs):\n",
    "    in_spec_phot = pppc.get_pppc_spec(1e10, photeng, 'phot_delta', 'phot')\n",
    "    in_spec_phot.rs = rs\n",
    "    if rs > 36:\n",
    "        in_spec_phot *= 0\n",
    "    return in_spec_phot\n",
    "\n",
    "def rate_func_N(rs):\n",
    "    return (\n",
    "        dhphys.inj_rate('swave', rs, mDM=mDM, sigmav=sigmav)\n",
    "        * struct_boost(rs) / (2*mDM)\n",
    "    )\n",
    "def rate_func_eng(rs):\n",
    "    return (\n",
    "        dhphys.inj_rate('swave', rs, mDM=mDM, sigmav=sigmav) \n",
    "        * struct_boost(rs)\n",
    "    )"
   ]
  },
  {
   "cell_type": "code",
   "execution_count": 25,
   "id": "7b8a2e51-07e5-48a0-b9a9-be98acb536c1",
   "metadata": {
    "tags": []
   },
   "outputs": [
    {
     "name": "stdout",
     "output_type": "stream",
     "text": [
      "Loading time: 0.000 s\n",
      "Initialization time: 0.004 s\n",
      "Main loop time: 49.761 s\n"
     ]
    }
   ],
   "source": [
    "soln = main.evolve(\n",
    "    in_spec_elec = in_spec_elec_func,\n",
    "    in_spec_phot = in_spec_phot_func,\n",
    "    rate_func_N = rate_func_N,\n",
    "    rate_func_eng = rate_func_eng,\n",
    "    start_rs=3000, end_rs=7,\n",
    "    coarsen_factor=12, backreaction=True, reion_switch=True,\n",
    "    struct_boost=phys.struct_boost_func('erfc 1e-3'),\n",
    "    verbose=1,\n",
    "    use_tqdm=False\n",
    ")"
   ]
  },
  {
   "cell_type": "markdown",
   "id": "fb7f224d-df88-48d0-bb75-dffa910f01a8",
   "metadata": {},
   "source": [
    "### 1.1 Get recfast values"
   ]
  },
  {
   "cell_type": "code",
   "execution_count": 20,
   "id": "b28619a7-03e9-4f3b-820e-7aba436e26a0",
   "metadata": {},
   "outputs": [
    {
     "name": "stdout",
     "output_type": "stream",
     "text": [
      "base_recfast\n"
     ]
    }
   ],
   "source": [
    "run_name = 'base_recfast'\n",
    "\n",
    "rs_s = np.geomspace(start_rs, end_rs, 100)\n",
    "x_e_s = dhphys.xHII_std(rs_s)\n",
    "T_k_s = dhphys.Tm_std(rs_s) / phys.kB\n",
    "\n",
    "arr_records = {\n",
    "    'z' : rs_s - 1,\n",
    "    'x_e' : x_e_s,\n",
    "    'T_k' : T_k_s,\n",
    "}\n",
    "print(run_name)"
   ]
  },
  {
   "cell_type": "code",
   "execution_count": 22,
   "id": "032658ad-758b-43f7-bd3a-fbc11265d8cc",
   "metadata": {},
   "outputs": [],
   "source": [
    "np.save(f'../../data/run_info/DH/{run_name}_records', arr_records)"
   ]
  },
  {
   "cell_type": "markdown",
   "id": "c71c3927-d2bf-4da9-9464-220307b2a16f",
   "metadata": {},
   "source": [
    "## 2. Make arr_records and save"
   ]
  },
  {
   "cell_type": "code",
   "execution_count": 9,
   "id": "440d8fae-356f-42c2-be71-02d164e344f6",
   "metadata": {
    "tags": []
   },
   "outputs": [],
   "source": [
    "run_name = 'phph_21tf'\n",
    "soln = pickle.load(open(f'../data/run_info/DH/{run_name}_soln.p', 'rb'))"
   ]
  },
  {
   "cell_type": "code",
   "execution_count": 10,
   "id": "fae168e2-1f28-45fc-8ab7-a1a48fc8ad72",
   "metadata": {
    "tags": []
   },
   "outputs": [
    {
     "name": "stdout",
     "output_type": "stream",
     "text": [
      "phph_21tf\n"
     ]
    }
   ],
   "source": [
    "arr_records = {\n",
    "    'z' : soln['rs'] - 1,\n",
    "    'x_e' : soln['x'][:,0],\n",
    "    'T_k' : soln['Tm']/phys.kB,\n",
    "    'f_heat' : soln['f']['low']['heat'] + soln['f']['high']['heat'],\n",
    "    'f_ion' : soln['f']['low']['H ion']  + soln['f']['high']['H ion'] + \\\n",
    "              soln['f']['low']['He ion'] + soln['f']['high']['He ion'],\n",
    "    'f_exc' : soln['f']['low']['exc'] + soln['f']['high']['exc'],\n",
    "}\n",
    "\n",
    "z_low, z_high = 6, 44\n",
    "z_arr = arr_records['z'][::-1]\n",
    "i_low = np.searchsorted(z_arr, z_low)\n",
    "i_high = np.searchsorted(z_arr, z_high)\n",
    "\n",
    "for k in arr_records.keys():\n",
    "    arr_records[k] = arr_records[k][::-1][i_low:i_high]\n",
    "    \n",
    "print(run_name)"
   ]
  },
  {
   "cell_type": "code",
   "execution_count": 12,
   "id": "88d1a173-f450-4d42-8102-017ee37ae0a4",
   "metadata": {
    "tags": []
   },
   "outputs": [],
   "source": [
    "np.save(f'../data/run_info/DH/{run_name}_records', arr_records)"
   ]
  },
  {
   "cell_type": "code",
   "execution_count": null,
   "id": "0afd1ef6-39f0-4b37-a5b6-ab7ac74cae93",
   "metadata": {},
   "outputs": [],
   "source": []
  }
 ],
 "metadata": {
  "kernelspec": {
   "display_name": "Python 3 (ipykernel)",
   "language": "python",
   "name": "python3"
  },
  "language_info": {
   "codemirror_mode": {
    "name": "ipython",
    "version": 3
   },
   "file_extension": ".py",
   "mimetype": "text/x-python",
   "name": "python",
   "nbconvert_exporter": "python",
   "pygments_lexer": "ipython3",
   "version": "3.11.4"
  }
 },
 "nbformat": 4,
 "nbformat_minor": 5
}
