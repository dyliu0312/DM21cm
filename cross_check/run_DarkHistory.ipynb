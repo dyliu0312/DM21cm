{
 "cells": [
  {
   "cell_type": "code",
   "execution_count": 1,
   "id": "0ca0886a-278e-4713-989e-27531e908286",
   "metadata": {
    "tags": []
   },
   "outputs": [],
   "source": [
    "%reload_ext autoreload\n",
    "%autoreload 2\n",
    "\n",
    "import os\n",
    "import sys\n",
    "import pickle\n",
    "\n",
    "import numpy as np\n",
    "from scipy import interpolate\n",
    "\n",
    "sys.path.append(os.environ['DM21CM_DIR'])\n",
    "import dm21cm.physics as phys\n",
    "\n",
    "sys.path.append(os.environ['DH_DIR'])\n",
    "from darkhistory.main import evolve as dh_evolve\n",
    "import darkhistory.physics as dhphys\n",
    "\n",
    "%matplotlib inline\n",
    "import matplotlib as mpl\n",
    "import matplotlib.pyplot as plt\n",
    "mpl.rc_file('../matplotlibrc')"
   ]
  },
  {
   "cell_type": "markdown",
   "id": "3dfd9587-ef3e-4a8a-ab6b-5b8296bb88bd",
   "metadata": {},
   "source": [
    "## 1. DarkHistory runs"
   ]
  },
  {
   "cell_type": "markdown",
   "id": "fdebc3e0-eee9-423c-8b4d-7ec279320f23",
   "metadata": {},
   "source": [
    "### 1.1 regular run"
   ]
  },
  {
   "cell_type": "code",
   "execution_count": 2,
   "id": "33b96131-4ee9-4998-8354-ff2bc5c4e087",
   "metadata": {
    "tags": []
   },
   "outputs": [],
   "source": [
    "from darkhistory.config import load_data"
   ]
  },
  {
   "cell_type": "code",
   "execution_count": 3,
   "id": "e6ff9ac4-95a0-4f76-8008-ba5a4eba7a9f",
   "metadata": {
    "tags": []
   },
   "outputs": [
    {
     "name": "stdout",
     "output_type": "stream",
     "text": [
      "binning.p\t\t\t f_phot_swave_std_einasto_subs.p\n",
      "boost_data.txt\t\t\t f_phot_swave_std.p\n",
      "boost_Einasto_subs.txt\t\t hci_interp.raw\n",
      "CMB_engloss_interp.raw\t\t hep_lb_interp.raw\n",
      "CMB_limits_elec_decay.csv\t highengdep_interp.raw\n",
      "CMB_limits_elec_swave.dat\t highengphot_tf_interp.raw\n",
      "CMB_limits_phot_decay.csv\t ics_rel_ref_tf.raw\n",
      "CMB_limits_phot_swave.dat\t ics_thomson_ref_tf.raw\n",
      "dlNdlxIEW_coords_table.txt\t lci_interp.raw\n",
      "dlNdlxIEW_values_table.txt\t lowengelec_tf_interp.raw\n",
      "engloss_ref_tf.raw\t\t lowengphot_tf_interp.raw\n",
      "f_elec_decay_std.p\t\t nntf_models\n",
      "f_elec_swave_std_einasto_subs.p  std_soln_He.p\n",
      "f_elec_swave_std.p\t\t tf_E_interp.raw\n",
      "f_phot_decay_std.p\n"
     ]
    }
   ],
   "source": [
    "! ls /n/holyscratch01/iaifi_lab/yitians/darkhistory/DHdata_v1_1_debug"
   ]
  },
  {
   "cell_type": "code",
   "execution_count": 4,
   "id": "7abad1ae-431c-45ed-95b7-892cd46112c2",
   "metadata": {
    "tags": []
   },
   "outputs": [
    {
     "name": "stdout",
     "output_type": "stream",
     "text": [
      "****** Loading transfer functions... ******\n",
      "Using data at /n/holyscratch01/iaifi_lab/yitians/darkhistory/DHdata_v1_1_debug\n",
      "    for propagating photons...  "
     ]
    }
   ],
   "source": [
    "tf_name = 'debug'\n",
    "dep_tf = load_data('dep_tf', prefix=f'/n/holyscratch01/iaifi_lab/yitians/darkhistory/DHdata_v1_1_{tf_name}', force_reload=True)"
   ]
  },
  {
   "cell_type": "code",
   "execution_count": null,
   "id": "7537e8b9-59bc-4afd-91f9-0f3073f9a2a2",
   "metadata": {
    "tags": []
   },
   "outputs": [],
   "source": [
    "run_name = 'phph_debug_fine'\n",
    "\n",
    "soln = dh_evolve(\n",
    "    DM_process='swave', mDM=1e10, sigmav=1e-24, primary='phot_delta',\n",
    "    start_rs=2965.0894801243167, end_rs=5,\n",
    "    coarsen_factor=12, backreaction=True, \n",
    "    struct_boost=phys.struct_boost_func('erfc 1e-3'),\n",
    "    reion_switch=False,\n",
    "    use_tqdm=True, verbose=1,\n",
    "    custom_dlnz=True, debug=True\n",
    ")"
   ]
  },
  {
   "cell_type": "code",
   "execution_count": 6,
   "id": "0a974e36-5f31-49ab-b1a1-daf34f7d526b",
   "metadata": {
    "tags": []
   },
   "outputs": [],
   "source": [
    "pickle.dump(soln, open(f'../data/run_info/DH/{run_name}_soln.p', 'wb'))"
   ]
  },
  {
   "cell_type": "markdown",
   "id": "856a4fcc-edb6-406b-a5ec-80be5d388458",
   "metadata": {},
   "source": [
    "### 1.2 force case A with fake reionization"
   ]
  },
  {
   "cell_type": "code",
   "execution_count": null,
   "id": "d4bc556f-63b0-45e0-a368-5f4a9fc966c6",
   "metadata": {
    "tags": []
   },
   "outputs": [],
   "source": [
    "run_name = 'phph_caseA_in_reion'\n",
    "\n",
    "soln = dh_evolve(\n",
    "    DM_process='swave', mDM=1e10, sigmav=1e-23, primary='phot_delta',\n",
    "    start_rs=3000, end_rs=6,\n",
    "    coarsen_factor=12, backreaction=True, \n",
    "    struct_boost=phys.struct_boost_func('erfc 1e-3'),\n",
    "    reion_switch=True, reion_rs=base_21cmfast['z'][1]+1,\n",
    "    photoion_rate_func = [lambda rs: 0.] * 3,\n",
    "    photoheat_rate_func = [lambda rs: 0.] * 3,\n",
    "    use_tqdm=True, verbose=1\n",
    ")"
   ]
  },
  {
   "cell_type": "code",
   "execution_count": null,
   "id": "bedad118-a790-44dd-803f-c3832d35e3ec",
   "metadata": {
    "tags": []
   },
   "outputs": [],
   "source": [
    "pickle.dump(soln, open(f'../../data/run_info/DH/{run_name}_soln.p', 'wb'))"
   ]
  },
  {
   "cell_type": "markdown",
   "id": "ba7eb605-b9a4-4d9b-9fd0-37606e22a9d8",
   "metadata": {},
   "source": [
    "### 1.3 custom injection"
   ]
  },
  {
   "cell_type": "code",
   "execution_count": null,
   "id": "3179d1c9-21a8-4977-b6f6-15e8b2ecc898",
   "metadata": {},
   "outputs": [],
   "source": [
    "import darkhistory.physics as dhphys\n",
    "from darkhistory.spec import pppc\n",
    "from config import load_data"
   ]
  },
  {
   "cell_type": "code",
   "execution_count": null,
   "id": "051b607d-0994-43f0-92da-01515a75e5e4",
   "metadata": {},
   "outputs": [],
   "source": [
    "# custom xe levels\n",
    "def x_reion_func(rs):\n",
    "    # extrapolate z low so that darkhistory doesn't complain\n",
    "    z_arr = base_records['z'].copy()\n",
    "    z_arr = np.append(z_arr, 2 * z_arr[-1] - z_arr[-2])\n",
    "    x_e_arr = base_records['x_e'].copy()\n",
    "    x_e_arr = np.append(x_e_arr, x_e_arr[-1])\n",
    "    return interpolate.interp1d(1 + z_arr, x_e_arr)(rs)"
   ]
  },
  {
   "cell_type": "code",
   "execution_count": null,
   "id": "2fd4cb11-44ab-444a-9c51-164b51739ff8",
   "metadata": {},
   "outputs": [],
   "source": [
    "run_name = 'phph_turnon_z35_comp'\n",
    "\n",
    "mDM = 1e10\n",
    "sigmav = 1e-23\n",
    "struct_boost = phys.struct_boost_func('erfc 1e-3')\n",
    "\n",
    "photeng = load_data('binning')['phot']\n",
    "eleceng = load_data('binning')['elec']\n",
    "\n",
    "def in_spec_elec_func(rs):\n",
    "    in_spec_elec = pppc.get_pppc_spec(1e10, eleceng, 'phot_delta', 'elec')\n",
    "    in_spec_elec.rs = rs\n",
    "    if rs > 36:\n",
    "        in_spec_elec *= 0\n",
    "    return in_spec_elec\n",
    "\n",
    "def in_spec_phot_func(rs):\n",
    "    in_spec_phot = pppc.get_pppc_spec(1e10, photeng, 'phot_delta', 'phot')\n",
    "    in_spec_phot.rs = rs\n",
    "    if rs > 36:\n",
    "        in_spec_phot *= 0\n",
    "    return in_spec_phot\n",
    "\n",
    "def rate_func_N(rs):\n",
    "    return (\n",
    "        dhphys.inj_rate('swave', rs, mDM=mDM, sigmav=sigmav)\n",
    "        * struct_boost(rs) / (2*mDM)\n",
    "    )\n",
    "def rate_func_eng(rs):\n",
    "    return (\n",
    "        dhphys.inj_rate('swave', rs, mDM=mDM, sigmav=sigmav) \n",
    "        * struct_boost(rs)\n",
    "    )"
   ]
  },
  {
   "cell_type": "code",
   "execution_count": null,
   "id": "7b8a2e51-07e5-48a0-b9a9-be98acb536c1",
   "metadata": {
    "tags": []
   },
   "outputs": [],
   "source": [
    "soln = main.evolve(\n",
    "    in_spec_elec = in_spec_elec_func,\n",
    "    in_spec_phot = in_spec_phot_func,\n",
    "    rate_func_N = rate_func_N,\n",
    "    rate_func_eng = rate_func_eng,\n",
    "    start_rs=3000, end_rs=7,\n",
    "    coarsen_factor=12, backreaction=True, reion_switch=True,\n",
    "    struct_boost=phys.struct_boost_func('erfc 1e-3'),\n",
    "    verbose=1,\n",
    "    use_tqdm=False\n",
    ")"
   ]
  },
  {
   "cell_type": "markdown",
   "id": "fb7f224d-df88-48d0-bb75-dffa910f01a8",
   "metadata": {},
   "source": [
    "### 1.1 Get recfast values"
   ]
  },
  {
   "cell_type": "code",
   "execution_count": null,
   "id": "b28619a7-03e9-4f3b-820e-7aba436e26a0",
   "metadata": {},
   "outputs": [],
   "source": [
    "run_name = 'base_recfast'\n",
    "\n",
    "rs_s = np.geomspace(start_rs, end_rs, 100)\n",
    "x_e_s = dhphys.xHII_std(rs_s)\n",
    "T_k_s = dhphys.Tm_std(rs_s) / phys.kB\n",
    "\n",
    "arr_records = {\n",
    "    'z' : rs_s - 1,\n",
    "    'x_e' : x_e_s,\n",
    "    'T_k' : T_k_s,\n",
    "}\n",
    "print(run_name)"
   ]
  },
  {
   "cell_type": "code",
   "execution_count": null,
   "id": "032658ad-758b-43f7-bd3a-fbc11265d8cc",
   "metadata": {},
   "outputs": [],
   "source": [
    "np.save(f'../../data/run_info/DH/{run_name}_records', arr_records)"
   ]
  },
  {
   "cell_type": "markdown",
   "id": "c71c3927-d2bf-4da9-9464-220307b2a16f",
   "metadata": {},
   "source": [
    "## 2. Make arr_records and save"
   ]
  },
  {
   "cell_type": "code",
   "execution_count": 7,
   "id": "440d8fae-356f-42c2-be71-02d164e344f6",
   "metadata": {
    "tags": []
   },
   "outputs": [],
   "source": [
    "run_name = 'phph_debug_fine'\n",
    "soln = pickle.load(open(f'../data/run_info/DH/{run_name}_soln.p', 'rb'))"
   ]
  },
  {
   "cell_type": "code",
   "execution_count": 8,
   "id": "fae168e2-1f28-45fc-8ab7-a1a48fc8ad72",
   "metadata": {
    "tags": []
   },
   "outputs": [
    {
     "name": "stdout",
     "output_type": "stream",
     "text": [
      "phph_debug_fine\n"
     ]
    }
   ],
   "source": [
    "arr_records = {\n",
    "    'z' : soln['rs'] - 1,\n",
    "    'x_e' : soln['x'][:,0],\n",
    "    'T_k' : soln['Tm']/phys.kB,\n",
    "    'f_heat' : soln['f']['low']['heat'] + soln['f']['high']['heat'],\n",
    "    'f_ion' : soln['f']['low']['H ion']  + soln['f']['high']['H ion'] + \\\n",
    "              soln['f']['low']['He ion'] + soln['f']['high']['He ion'],\n",
    "    'f_exc' : soln['f']['low']['exc'] + soln['f']['high']['exc'],\n",
    "}\n",
    "\n",
    "z_low, z_high = 6, 44\n",
    "z_arr = arr_records['z'][::-1]\n",
    "i_low = np.searchsorted(z_arr, z_low)\n",
    "i_high = np.searchsorted(z_arr, z_high)\n",
    "\n",
    "for k in arr_records.keys():\n",
    "    arr_records[k] = arr_records[k][::-1][i_low:i_high]\n",
    "    \n",
    "print(run_name)"
   ]
  },
  {
   "cell_type": "code",
   "execution_count": 9,
   "id": "88d1a173-f450-4d42-8102-017ee37ae0a4",
   "metadata": {
    "tags": []
   },
   "outputs": [],
   "source": [
    "np.save(f'../data/run_info/DH/{run_name}_records', arr_records)"
   ]
  },
  {
   "cell_type": "markdown",
   "id": "3de25d23-9bd0-445d-890a-e2b077629d33",
   "metadata": {},
   "source": [
    "## debug"
   ]
  },
  {
   "cell_type": "code",
   "execution_count": 150,
   "id": "dce7a703-6edb-43fa-9b9e-51f29c5ed407",
   "metadata": {
    "tags": []
   },
   "outputs": [],
   "source": [
    "from darkhistory.spec.spectrum import Spectrum"
   ]
  },
  {
   "cell_type": "code",
   "execution_count": 162,
   "id": "9a2ac8f9-ce74-42f0-9d30-915cd346513c",
   "metadata": {
    "tags": []
   },
   "outputs": [
    {
     "data": {
      "text/plain": [
       "array([9.91152406e-04, 1.17104841e-01, 1.21482896e-01, 1.26428213e-01,\n",
       "       1.32247690e-01, 1.39398441e-01, 1.48519366e-01, 1.60494729e-01,\n",
       "       1.76500550e-01, 1.98059125e-01, 2.27106763e-01, 2.66028255e-01,\n",
       "       3.17742954e-01, 3.85732988e-01, 4.74108116e-01, 5.87661937e-01,\n",
       "       7.31879033e-01, 9.13067118e-01, 1.13828368e+00, 1.41561699e+00,\n",
       "       1.75389566e+00, 2.16302752e+00, 2.65395920e+00, 3.23871124e+00,\n",
       "       3.93049639e+00, 4.74434614e+00, 5.69538740e+00, 6.80153863e+00,\n",
       "       8.08126883e+00, 9.55615359e+00, 1.12468571e+01, 1.31791477e+01,\n",
       "       1.53808052e+01, 1.78788863e+01, 2.07049307e+01, 2.38932338e+01,\n",
       "       2.74809560e+01, 3.15081328e+01, 3.60175145e+01, 4.10541318e+01,\n",
       "       4.66719981e+01, 5.29453643e+01, 5.99126068e+01, 6.76254184e+01,\n",
       "       7.61991157e+01, 8.57011357e+01, 9.61367208e+01, 1.07787155e+02])"
      ]
     },
     "execution_count": 162,
     "metadata": {},
     "output_type": "execute_result"
    }
   ],
   "source": [
    "soln['f']['high']['heat'][342:400]"
   ]
  },
  {
   "cell_type": "code",
   "execution_count": null,
   "id": "0afd1ef6-39f0-4b37-a5b6-ab7ac74cae93",
   "metadata": {},
   "outputs": [],
   "source": [
    "arr_records"
   ]
  },
  {
   "cell_type": "code",
   "execution_count": 152,
   "id": "dff690e2-4e25-4e59-9ee9-365a323890d5",
   "metadata": {
    "tags": []
   },
   "outputs": [],
   "source": [
    "hed_tf = dep_tf['highengdep']"
   ]
  },
  {
   "cell_type": "code",
   "execution_count": 153,
   "id": "a8fa1fe5-c81c-4915-a2e6-b1807869dcb1",
   "metadata": {
    "tags": []
   },
   "outputs": [],
   "source": [
    "from dm21cm.utils import load_dict"
   ]
  },
  {
   "cell_type": "code",
   "execution_count": 154,
   "id": "9066e0be-4254-4fc6-bad4-e8c206afa40a",
   "metadata": {
    "tags": []
   },
   "outputs": [],
   "source": [
    "abscs = load_dict('../data/abscissas/abscs_debug_230802.h5')"
   ]
  },
  {
   "cell_type": "code",
   "execution_count": 155,
   "id": "b28ed062-d4d1-4874-a9c6-04dd97f25fb5",
   "metadata": {
    "tags": []
   },
   "outputs": [
    {
     "data": {
      "text/plain": [
       "array([[0.   , 0.   , 0.001, 0.   ],\n",
       "       [0.   , 0.   , 0.001, 0.   ],\n",
       "       [0.   , 0.   , 0.001, 0.   ],\n",
       "       ...,\n",
       "       [0.   , 0.   , 0.001, 0.   ],\n",
       "       [0.   , 0.   , 0.001, 0.   ],\n",
       "       [0.   , 0.   , 0.001, 0.   ]])"
      ]
     },
     "execution_count": 155,
     "metadata": {},
     "output_type": "execute_result"
    }
   ],
   "source": [
    "rs = 40\n",
    "dlnz = np.log(1.05)\n",
    "dt = dlnz / phys.hubble(rs)\n",
    "hed_tf.get_val(0.1, 0.1, 40) * dt / abscs['photE'][:,None]"
   ]
  },
  {
   "cell_type": "code",
   "execution_count": 156,
   "id": "c3f0c6dd-b5fb-481f-9859-27f6562b3d27",
   "metadata": {
    "tags": []
   },
   "outputs": [],
   "source": [
    "N = np.zeros((500,))\n",
    "N[400] = 1\n",
    "s = Spectrum(abscs['photE'], N, spec_type='N')"
   ]
  },
  {
   "cell_type": "code",
   "execution_count": 157,
   "id": "9689eef2-a047-4582-a029-c3e11c8d126f",
   "metadata": {
    "tags": []
   },
   "outputs": [
    {
     "data": {
      "text/plain": [
       "2589268681.802462"
      ]
     },
     "execution_count": 157,
     "metadata": {},
     "output_type": "execute_result"
    }
   ],
   "source": [
    "s.toteng()"
   ]
  },
  {
   "cell_type": "code",
   "execution_count": 158,
   "id": "4061f821-94a9-46fb-ba17-121f68162e62",
   "metadata": {
    "tags": []
   },
   "outputs": [],
   "source": [
    "highengdep_arr = hed_tf.get_val(1, 1, rs)"
   ]
  },
  {
   "cell_type": "code",
   "execution_count": 159,
   "id": "0a24f872-793a-441e-8ee9-0c9cd4423afa",
   "metadata": {
    "tags": []
   },
   "outputs": [
    {
     "data": {
      "text/plain": [
       "array([[0.00000000e+00, 0.00000000e+00, 6.63966807e-22, 0.00000000e+00],\n",
       "       [0.00000000e+00, 0.00000000e+00, 7.17195321e-22, 0.00000000e+00],\n",
       "       [0.00000000e+00, 0.00000000e+00, 7.74691029e-22, 0.00000000e+00],\n",
       "       ...,\n",
       "       [0.00000000e+00, 0.00000000e+00, 2.93232839e-05, 0.00000000e+00],\n",
       "       [0.00000000e+00, 0.00000000e+00, 3.16740563e-05, 0.00000000e+00],\n",
       "       [0.00000000e+00, 0.00000000e+00, 3.42132841e-05, 0.00000000e+00]])"
      ]
     },
     "execution_count": 159,
     "metadata": {},
     "output_type": "execute_result"
    }
   ],
   "source": [
    "highengdep_arr"
   ]
  },
  {
   "cell_type": "code",
   "execution_count": 160,
   "id": "10e8680a-f21f-49c6-bbc0-f643eeb3a796",
   "metadata": {
    "tags": []
   },
   "outputs": [],
   "source": [
    "highengdep_at_rs = np.dot(\n",
    "    np.swapaxes(highengdep_arr, 0, 1),\n",
    "    s.N\n",
    ")"
   ]
  },
  {
   "cell_type": "code",
   "execution_count": 161,
   "id": "5e81572d-e268-4c29-896b-2a324963d7d8",
   "metadata": {
    "tags": []
   },
   "outputs": [
    {
     "data": {
      "text/plain": [
       "array([0.   , 0.   , 0.001, 0.   ])"
      ]
     },
     "execution_count": 161,
     "metadata": {},
     "output_type": "execute_result"
    }
   ],
   "source": [
    "highengdep_at_rs * dt / s.toteng()"
   ]
  },
  {
   "cell_type": "code",
   "execution_count": null,
   "id": "b10ace49-cca2-40fb-a9d4-fad385dbbac3",
   "metadata": {},
   "outputs": [],
   "source": []
  },
  {
   "cell_type": "code",
   "execution_count": null,
   "id": "a96317e5-986c-4b50-a642-0ee908fa0869",
   "metadata": {},
   "outputs": [],
   "source": []
  }
 ],
 "metadata": {
  "kernelspec": {
   "display_name": "Python 3 (ipykernel)",
   "language": "python",
   "name": "python3"
  },
  "language_info": {
   "codemirror_mode": {
    "name": "ipython",
    "version": 3
   },
   "file_extension": ".py",
   "mimetype": "text/x-python",
   "name": "python",
   "nbconvert_exporter": "python",
   "pygments_lexer": "ipython3",
   "version": "3.10.12"
  }
 },
 "nbformat": 4,
 "nbformat_minor": 5
}
