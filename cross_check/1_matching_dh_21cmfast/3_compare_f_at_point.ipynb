{
 "cells": [
  {
   "cell_type": "code",
   "execution_count": 3,
   "id": "dc6d5aab-492a-457d-9a70-7a63b6a74d40",
   "metadata": {
    "tags": []
   },
   "outputs": [
    {
     "name": "stderr",
     "output_type": "stream",
     "text": [
      "/n/home07/yitians/.conda/envs/21cmfast/lib/python3.10/site-packages/py21cmfast/_cfg.py:58: UserWarning: Your configuration file is out of date. Updating...\n",
      "  warnings.warn(\n",
      "/n/home07/yitians/.conda/envs/21cmfast/lib/python3.10/site-packages/py21cmfast/_cfg.py:42: UserWarning: Your configuration file is out of date. Updating...\n",
      "  warnings.warn(\"Your configuration file is out of date. Updating...\")\n",
      "INFO:root:Using 21cmFAST version 0.1.dev1579+g6b1da6d.d20230702\n"
     ]
    }
   ],
   "source": [
    "%reload_ext autoreload\n",
    "%autoreload 2\n",
    "\n",
    "import os\n",
    "import sys\n",
    "import pickle\n",
    "import logging\n",
    "from tqdm import tqdm\n",
    "\n",
    "import numpy as np\n",
    "from scipy import interpolate\n",
    "from astropy.io import fits\n",
    "import jax.numpy as jnp\n",
    "\n",
    "sys.path.append(os.environ['DM21CM_DIR'])\n",
    "import dm21cm.physics as phys\n",
    "from dm21cm.data_loader import load_data\n",
    "from dm21cm.dm_params import DMParams\n",
    "from dm21cm.evolve import get_z_edges\n",
    "\n",
    "sys.path.append(os.environ['DH_DIR'])\n",
    "import darkhistory\n",
    "from darkhistory.spec.spectrum import Spectrum\n",
    "from darkhistory.main import evolve as dh_evolve\n",
    "\n",
    "%matplotlib inline\n",
    "import matplotlib as mpl\n",
    "import matplotlib.pyplot as plt\n",
    "mpl.rc_file('../../matplotlibrc')"
   ]
  },
  {
   "cell_type": "code",
   "execution_count": 4,
   "id": "1fe18b15-d26b-4aee-a401-da1e07e8bb8f",
   "metadata": {
    "tags": []
   },
   "outputs": [
    {
     "name": "stdout",
     "output_type": "stream",
     "text": [
      "1.0.0-dm21cm.0\n"
     ]
    }
   ],
   "source": [
    "print(darkhistory.__version__)"
   ]
  },
  {
   "cell_type": "markdown",
   "id": "839ef78c-1a33-4e42-9f56-cf4b1437eefa",
   "metadata": {},
   "source": [
    "## dm21cm"
   ]
  },
  {
   "cell_type": "code",
   "execution_count": 5,
   "id": "f7eb327b-bb4e-430f-a97d-0d3bce47a2c7",
   "metadata": {
    "tags": []
   },
   "outputs": [
    {
     "name": "stderr",
     "output_type": "stream",
     "text": [
      "INFO:root:Loaded photon deposition transfer function.\n"
     ]
    }
   ],
   "source": [
    "dep_tf = load_data(\n",
    "    'phot_dep',\n",
    "    prefix=os.environ['DM21CM_DATA_DIR'] + '/tf/230408x/phot',\n",
    "    reload=True\n",
    ")"
   ]
  },
  {
   "cell_type": "markdown",
   "id": "130d5e6f-c1fe-4ff6-92c6-02820d4cf4ef",
   "metadata": {},
   "source": [
    "### dm21cm: 1 photon"
   ]
  },
  {
   "cell_type": "code",
   "execution_count": 13,
   "id": "b3fe9fe5-5d56-4bbf-852a-170460c87e95",
   "metadata": {
    "tags": []
   },
   "outputs": [
    {
     "name": "stdout",
     "output_type": "stream",
     "text": [
      "total energy = 1158962.0723298236\n"
     ]
    }
   ],
   "source": [
    "spec_N = np.zeros((500,))\n",
    "spec_N[300] = 1.\n",
    "photeng = dep_tf.abscs['Ein']\n",
    "print(f'total energy = {np.dot(spec_N, photeng)}')"
   ]
  },
  {
   "cell_type": "code",
   "execution_count": 14,
   "id": "9037123b-fbd2-4808-8aef-4ef82c4d05d2",
   "metadata": {
    "tags": []
   },
   "outputs": [
    {
     "name": "stdout",
     "output_type": "stream",
     "text": [
      "38.71318413405634\n"
     ]
    }
   ],
   "source": [
    "rs_grid = np.geomspace(5, 50, 10)\n",
    "#rs = np.sqrt(rs_grid[-2]*rs_grid[-3])\n",
    "rs_start = rs_grid[8]\n",
    "rs_end = rs_start / 1.05\n",
    "xe = 0.001\n",
    "print(rs_start)"
   ]
  },
  {
   "cell_type": "code",
   "execution_count": 20,
   "id": "b16d4e3a-bec4-46f1-89cf-0a91f4473ea7",
   "metadata": {
    "tags": []
   },
   "outputs": [],
   "source": [
    "dm21cm_dep = dep_tf(\n",
    "    in_spec = spec_N,\n",
    "    sum_result = False,\n",
    "    rs = rs_start,\n",
    "    nBs_s = jnp.array([1.]),\n",
    "    x_s = jnp.array([xe]),\n",
    "    out_of_bounds_action = 'clip',\n",
    ") / np.dot(spec_N, photeng) / (0.04879016/0.001)\n",
    "\n",
    "dm21cm_dep = np.array(dm21cm_dep).flatten()"
   ]
  },
  {
   "cell_type": "markdown",
   "id": "9df9df82-5948-4319-9a54-8d6570ac843d",
   "metadata": {},
   "source": [
    "## DH"
   ]
  },
  {
   "cell_type": "code",
   "execution_count": 21,
   "id": "0a10e047-e40b-4fad-9575-69a95ac0eeb4",
   "metadata": {
    "tags": []
   },
   "outputs": [
    {
     "name": "stdout",
     "output_type": "stream",
     "text": [
      "Loading time: 0.000 s\n",
      "Initialization time: 0.023 s\n",
      "0 rs=38.713\n",
      "1 rs=38.674\n",
      "Main loop time: 0.052 s\n"
     ]
    }
   ],
   "source": [
    "soln = dh_evolve(\n",
    "    DM_process='swave', mDM=photeng[301], sigmav=1e-23, primary='phot_delta',\n",
    "    start_rs=rs_start, end_rs=rs_start/1.001**2,\n",
    "    coarsen_factor=1, backreaction=True, \n",
    "    struct_boost=lambda rs: 1.,\n",
    "    init_cond=(xe, phys.chi*xe, 10*phys.kB),\n",
    "    use_tqdm=False, verbose=1,\n",
    "    debug=True\n",
    ")"
   ]
  },
  {
   "cell_type": "code",
   "execution_count": 22,
   "id": "d963bf99-154d-4bc6-b396-309c9bcdc4ca",
   "metadata": {
    "tags": []
   },
   "outputs": [],
   "source": [
    "dh_dep = np.array([soln['f']['low'][k] + soln['f']['high'][k] for k in soln['f']['low']])\n",
    "dh_dep = dh_dep[:,1]"
   ]
  },
  {
   "cell_type": "code",
   "execution_count": 24,
   "id": "d4ebbd3a-1e5e-4390-849d-90ef5d4328b3",
   "metadata": {
    "tags": []
   },
   "outputs": [
    {
     "data": {
      "image/png": "[encoded data removed]",
      "text/plain": [
       "<Figure size 720x480 with 1 Axes>"
      ]
     },
     "metadata": {},
     "output_type": "display_data"
    }
   ],
   "source": [
    "logger = logging.getLogger()\n",
    "logger.setLevel(logging.CRITICAL+1)\n",
    "\n",
    "fig, ax = plt.subplots()\n",
    "ax.plot(dm21cm_dep[:4], label='dm21cm', color='r')\n",
    "ax.plot(dh_dep[:4], label='DarkHistory', color='k')\n",
    "ax.set_xticks(np.arange(4))\n",
    "ax.set_xticklabels([s.decode('utf-8') for s in dep_tf.abscs['out'][:4]])\n",
    "ax.set(yscale='log')\n",
    "#ax.set(ylim=(1e-7,1e-4))\n",
    "ax.legend();"
   ]
  },
  {
   "cell_type": "code",
   "execution_count": 25,
   "id": "10488aa8-7456-44b3-b226-2449f6b5038a",
   "metadata": {
    "tags": []
   },
   "outputs": [
    {
     "data": {
      "text/plain": [
       "array([5.16169468, 5.22770238, 5.33356603, 5.05137835])"
      ]
     },
     "execution_count": 25,
     "metadata": {},
     "output_type": "execute_result"
    }
   ],
   "source": [
    "dm21cm_dep[:4] / dh_dep[:4]"
   ]
  },
  {
   "cell_type": "markdown",
   "id": "b1207a40-7d54-4a10-8321-c8e21822b936",
   "metadata": {},
   "source": [
    "## loop over rs"
   ]
  },
  {
   "cell_type": "code",
   "execution_count": 27,
   "id": "6b7e7750-acc9-465b-b9fc-bc336d40fdfc",
   "metadata": {
    "tags": []
   },
   "outputs": [
    {
     "name": "stderr",
     "output_type": "stream",
     "text": [
      "100%|█████████████████████████████████████████████████████████████████████████████████| 100/100 [00:10<00:00,  9.36it/s]\n"
     ]
    }
   ],
   "source": [
    "f_ratios_arr = []\n",
    "\n",
    "for rs in tqdm(np.geomspace(5, 50, 100)):\n",
    "    rs_start = rs\n",
    "    rs_end = rs_start / 1.05\n",
    "    xe = 0.001\n",
    "    dm21cm_dep = dep_tf(\n",
    "        in_spec = spec_N,\n",
    "        sum_result = False,\n",
    "        rs = rs_start,\n",
    "        nBs_s = jnp.array([1.]),\n",
    "        x_s = jnp.array([xe]),\n",
    "        out_of_bounds_action = 'clip',\n",
    "    ) / np.dot(spec_N, photeng) / (0.04879016/0.001)\n",
    "\n",
    "    dm21cm_dep = np.array(dm21cm_dep).flatten()\n",
    "\n",
    "    soln = dh_evolve(\n",
    "        DM_process='swave', mDM=photeng[301], sigmav=1e-20, primary='phot_delta',\n",
    "        start_rs=rs_start, end_rs=rs_start/1.001**3,\n",
    "        coarsen_factor=1, backreaction=True, \n",
    "        struct_boost=lambda rs: 1.,\n",
    "        init_cond=(xe, phys.chi*xe, 10*phys.kB),\n",
    "        use_tqdm=False, verbose=0\n",
    "    )\n",
    "\n",
    "    dh_dep = np.array([soln['f']['low'][k] + soln['f']['high'][k] for k in soln['f']['low']])\n",
    "    dh_dep = dh_dep[:,1]\n",
    "\n",
    "    f_ratios_arr.append(dm21cm_dep[:4]/dh_dep[:4])\n",
    "    \n",
    "f_ratios_arr = np.array(f_ratios_arr)"
   ]
  },
  {
   "cell_type": "code",
   "execution_count": 28,
   "id": "49bd1c71-bb83-41d3-a0b7-09316cc60dce",
   "metadata": {
    "tags": []
   },
   "outputs": [],
   "source": [
    "logger = logging.getLogger()\n",
    "logger.setLevel(logging.CRITICAL+1)"
   ]
  },
  {
   "cell_type": "code",
   "execution_count": 30,
   "id": "5c150901-a867-4765-a490-6c41b56c7e06",
   "metadata": {
    "tags": []
   },
   "outputs": [
    {
     "data": {
      "image/png": "[encoded data removed]",
      "text/plain": [
       "<Figure size 720x480 with 1 Axes>"
      ]
     },
     "metadata": {},
     "output_type": "display_data"
    }
   ],
   "source": [
    "fig, ax = plt.subplots()\n",
    "\n",
    "rs_arr = np.geomspace(5, 50, 100)\n",
    "ax.plot(rs_arr, f_ratios_arr[:, 0], label='H ion')\n",
    "ax.plot(rs_arr, f_ratios_arr[:, 1], label='He ion')\n",
    "ax.plot(rs_arr, f_ratios_arr[:, 2], label='exc')\n",
    "ax.plot(rs_arr, f_ratios_arr[:, 3], label='heat')\n",
    "\n",
    "ax.legend()\n",
    "ax.set(yscale='log')\n",
    "ax.set(xscale='log');"
   ]
  },
  {
   "cell_type": "markdown",
   "id": "a7b82a00-c8a7-49f9-aacb-8ff8e4d315c2",
   "metadata": {},
   "source": [
    "## Strategy: let DH output tf values"
   ]
  },
  {
   "cell_type": "code",
   "execution_count": 115,
   "id": "4743cd84-ef2f-47ff-85c9-52afa0758a69",
   "metadata": {
    "tags": []
   },
   "outputs": [
    {
     "name": "stdout",
     "output_type": "stream",
     "text": [
      "38.71318413405634\n"
     ]
    }
   ],
   "source": [
    "rs_start = rs_grid[-2]\n",
    "xe = 0.001\n",
    "print(rs_start)"
   ]
  },
  {
   "cell_type": "code",
   "execution_count": 116,
   "id": "0f464f2b-578c-4d0d-a624-e7fd4ccc9133",
   "metadata": {},
   "outputs": [
    {
     "name": "stdout",
     "output_type": "stream",
     "text": [
      "Loading time: 0.000 s\n",
      "Initialization time: 0.020 s\n",
      "0 rs=38.713\n",
      "1 rs=38.674\n",
      "2 rs=38.636\n",
      "Main loop time: 0.087 s\n"
     ]
    }
   ],
   "source": [
    "soln = dh_evolve(\n",
    "    DM_process='swave', mDM=photeng[301], sigmav=1e-20, primary='phot_delta',\n",
    "    start_rs=rs_start, end_rs=rs_start/1.001**3,\n",
    "    coarsen_factor=1, backreaction=True, \n",
    "    struct_boost=lambda rs: 1.,\n",
    "    init_cond=(xe, phys.chi*xe, 10*phys.kB),\n",
    "    use_tqdm=False, verbose=1,\n",
    "    debug=True\n",
    ")"
   ]
  },
  {
   "cell_type": "code",
   "execution_count": 117,
   "id": "d4c63e78-c524-4d4a-b526-7048d1b4c040",
   "metadata": {
    "tags": []
   },
   "outputs": [],
   "source": [
    "f_dh = np.array([soln['f']['low'][k] + soln['f']['high'][k] for k in soln['f']['low']])\n",
    "f_dh = f_dh[:,1]"
   ]
  },
  {
   "cell_type": "code",
   "execution_count": 118,
   "id": "7a83d7d5-bae0-4035-9b50-5e82a0718b7d",
   "metadata": {},
   "outputs": [],
   "source": [
    "spec_N = np.zeros((500,))\n",
    "spec_N[300] = 1.\n",
    "\n",
    "f_dm21cm = dep_tf(\n",
    "    in_spec = spec_N,\n",
    "    sum_result = False,\n",
    "    rs = rs_start,\n",
    "    nBs_s = jnp.array([1.]),\n",
    "    x_s = jnp.array([xe]),\n",
    "    out_of_bounds_action = 'clip',\n",
    ") / np.dot(spec_N, photeng) / (0.04879016/0.001)\n",
    "f_dm21cm = np.array(f_dm21cm).flatten()"
   ]
  },
  {
   "cell_type": "code",
   "execution_count": 119,
   "id": "1973837a-d83d-48f6-a7d1-04b94f84cb4f",
   "metadata": {
    "tags": []
   },
   "outputs": [
    {
     "data": {
      "image/png": "[encoded data removed]",
      "text/plain": [
       "<Figure size 720x480 with 1 Axes>"
      ]
     },
     "metadata": {},
     "output_type": "display_data"
    }
   ],
   "source": [
    "logger = logging.getLogger()\n",
    "logger.setLevel(logging.CRITICAL+1)\n",
    "\n",
    "fig, ax = plt.subplots()\n",
    "ax.plot(f_dm21cm[:4], label='dm21cm', color='r')\n",
    "ax.plot(f_dh[:4], label='DarkHistory', color='k')\n",
    "ax.set_xticks(np.arange(4))\n",
    "ax.set_xticklabels([s.decode('utf-8') for s in dep_tf.abscs['out'][:4]])\n",
    "ax.set(yscale='log')\n",
    "#ax.set(ylim=(1e-7,1e-4))\n",
    "ax.legend();"
   ]
  },
  {
   "cell_type": "code",
   "execution_count": 120,
   "id": "eab4b8ac-db4f-4702-812d-50d443c739cc",
   "metadata": {},
   "outputs": [
    {
     "data": {
      "text/plain": [
       "array([5.16169468, 5.22770238, 5.33356603, 5.05137835])"
      ]
     },
     "execution_count": 120,
     "metadata": {},
     "output_type": "execute_result"
    }
   ],
   "source": [
    "f_dm21cm[:4]/f_dh[:4]"
   ]
  },
  {
   "cell_type": "markdown",
   "id": "d901f0aa-3d92-4527-8578-1d72de3516f4",
   "metadata": {},
   "source": [
    "## compare HED tf"
   ]
  },
  {
   "cell_type": "code",
   "execution_count": 121,
   "id": "81cd21dd-e33f-4726-8f38-40621082ff32",
   "metadata": {
    "tags": []
   },
   "outputs": [],
   "source": [
    "hed_dh = soln['debug'][1]['hed']"
   ]
  },
  {
   "cell_type": "code",
   "execution_count": 122,
   "id": "fed262eb-f2d2-4ff7-84d1-6b1f41002a82",
   "metadata": {
    "tags": []
   },
   "outputs": [
    {
     "data": {
      "text/plain": [
       "array([ 1.49291640e-12,  1.17544497e-12,  3.57459190e-14, -7.41452588e-15])"
      ]
     },
     "execution_count": 122,
     "metadata": {},
     "output_type": "execute_result"
    }
   ],
   "source": [
    "hed_dh"
   ]
  },
  {
   "cell_type": "code",
   "execution_count": 123,
   "id": "c6db02b8-9c48-46a5-8ef6-238e670a739f",
   "metadata": {},
   "outputs": [],
   "source": [
    "from darkhistory.config import load_data as dh_load_data"
   ]
  },
  {
   "cell_type": "code",
   "execution_count": 124,
   "id": "f63e5336-62bc-4f22-9ccb-607516c8c9ed",
   "metadata": {
    "tags": []
   },
   "outputs": [],
   "source": [
    "dh_dep_tf = dh_load_data('dep_tf')\n",
    "dh_hed_tf = dh_dep_tf['highengdep']"
   ]
  },
  {
   "cell_type": "code",
   "execution_count": 125,
   "id": "9d260b49-42cf-433c-8d8a-c7e68906d4a4",
   "metadata": {
    "tags": []
   },
   "outputs": [
    {
     "data": {
      "text/plain": [
       "array([ 1.49640502e-12,  1.17832492e-12,  3.88089232e-14, -7.44093853e-15])"
      ]
     },
     "execution_count": 125,
     "metadata": {},
     "output_type": "execute_result"
    }
   ],
   "source": [
    "dh_hed_tf.get_val(xe, phys.chi*xe, rs_start)[300]"
   ]
  },
  {
   "cell_type": "code",
   "execution_count": 131,
   "id": "aae64504-8775-4ab2-a02a-3e6d9c7f613a",
   "metadata": {
    "tags": []
   },
   "outputs": [],
   "source": [
    "hdul = fits.open('../tf_z_3.871E+01_x_1.000E-03_nBs_1.006E+00.fits')"
   ]
  },
  {
   "cell_type": "code",
   "execution_count": 132,
   "id": "30ad06c0-25ca-491d-87cb-5e3b6eb3c19c",
   "metadata": {
    "tags": []
   },
   "outputs": [
    {
     "data": {
      "text/plain": [
       "array([ 1.33635997e-12,  1.05298514e-12,  3.68787233e-14, -6.33108720e-15])"
      ]
     },
     "execution_count": 132,
     "metadata": {},
     "output_type": "execute_result"
    }
   ],
   "source": [
    "hed_dm21cm = hdul[1].data['HED_TF'][0,300]\n",
    "hed_dm21cm"
   ]
  },
  {
   "cell_type": "code",
   "execution_count": 133,
   "id": "a6b2ba3c-b301-44a6-951f-875f7bc0ee0f",
   "metadata": {
    "tags": []
   },
   "outputs": [
    {
     "data": {
      "text/plain": [
       "array([0.89513382, 0.89581832, 1.03169045, 0.8538762 ])"
      ]
     },
     "execution_count": 133,
     "metadata": {},
     "output_type": "execute_result"
    }
   ],
   "source": [
    "hed_dm21cm / hed_dh"
   ]
  },
  {
   "cell_type": "code",
   "execution_count": null,
   "id": "ea822e2a-a236-4c92-867a-e4bea73f777e",
   "metadata": {},
   "outputs": [],
   "source": [
    "# idl n=1.000\n",
    "array([ 1.32418559e-12,  1.04332344e-12,  3.65378420e-14, -6.30489835e-15])"
   ]
  },
  {
   "cell_type": "code",
   "execution_count": null,
   "id": "5925f518-f438-4202-84ea-17362ccaa13d",
   "metadata": {},
   "outputs": [],
   "source": [
    "# idl n=1.006"
   ]
  },
  {
   "cell_type": "markdown",
   "id": "3989a55f-a3a9-4cc3-be72-1f351f47eb17",
   "metadata": {},
   "source": [
    "# 3. f"
   ]
  },
  {
   "cell_type": "code",
   "execution_count": 52,
   "id": "ab162729-caa9-4f3a-8040-2bffdcc18d69",
   "metadata": {
    "tags": []
   },
   "outputs": [
    {
     "name": "stdout",
     "output_type": "stream",
     "text": [
      "38.71318413405634\n"
     ]
    }
   ],
   "source": [
    "rs = rs_grid[-2]\n",
    "rs_start = rs\n",
    "xe = 0.001\n",
    "print(rs_start)"
   ]
  },
  {
   "cell_type": "markdown",
   "id": "bd12453a-dd19-49f4-984b-d7d1f7132fa2",
   "metadata": {},
   "source": [
    "## 3.1 DH soln f"
   ]
  },
  {
   "cell_type": "code",
   "execution_count": 53,
   "id": "469b40c1-6f17-43a3-bdba-ea9bf4e13c46",
   "metadata": {},
   "outputs": [],
   "source": [
    "soln = dh_evolve(\n",
    "    DM_process='swave', mDM=photeng[301], sigmav=1e-20, primary='phot_delta',\n",
    "    start_rs=rs_start, end_rs=rs_start/1.001**3,\n",
    "    coarsen_factor=1, backreaction=True, \n",
    "    struct_boost=lambda rs: 1.,\n",
    "    init_cond=(xe, phys.chi*xe, 10*phys.kB),\n",
    "    use_tqdm=False, verbose=0,\n",
    "    debug=True\n",
    ")"
   ]
  },
  {
   "cell_type": "code",
   "execution_count": 54,
   "id": "f913ecff-1cf4-4968-9554-4d9df38c24a6",
   "metadata": {
    "tags": []
   },
   "outputs": [
    {
     "name": "stdout",
     "output_type": "stream",
     "text": [
      "[6.77732039e-06 1.05066765e-07 5.75031585e-06 3.84128932e-06\n",
      " 1.00710943e-06]\n"
     ]
    }
   ],
   "source": [
    "f_dh = np.array([soln['f']['low'][k] + soln['f']['high'][k] for k in soln['f']['low']])\n",
    "f_dh = f_dh[:,1]\n",
    "print(f_dh)"
   ]
  },
  {
   "cell_type": "markdown",
   "id": "4a2cc7a9-4f5c-4dcc-a3a4-003cb8b5d831",
   "metadata": {},
   "source": [
    "## 3.2 Manual DH"
   ]
  },
  {
   "cell_type": "code",
   "execution_count": 45,
   "id": "c06d42ab-ee3f-4a3d-970f-54292d37a803",
   "metadata": {
    "tags": []
   },
   "outputs": [],
   "source": [
    "from darkhistory.low_energy.lowE_electrons import make_interpolator\n",
    "from darkhistory.low_energy.lowE_deposition import compute_fs\n",
    "from darkhistory.config import load_data as dh_load_data\n",
    "\n",
    "from dm21cm.utils import load_dict"
   ]
  },
  {
   "cell_type": "code",
   "execution_count": 35,
   "id": "ce448c63-ec1e-421c-82bd-2e46818b694f",
   "metadata": {
    "tags": []
   },
   "outputs": [],
   "source": [
    "MEDEA_interp = make_interpolator(interp_type='2D', cross_check=False)"
   ]
  },
  {
   "cell_type": "code",
   "execution_count": 42,
   "id": "f75db132-0c06-46c5-8597-89a3654ce6f8",
   "metadata": {
    "tags": []
   },
   "outputs": [],
   "source": [
    "abscs = load_dict(f\"../../data/abscissas/abscs_230408x.h5\")"
   ]
  },
  {
   "cell_type": "code",
   "execution_count": 43,
   "id": "93ddf13e-4743-44ba-912c-49a2c9eee612",
   "metadata": {
    "tags": []
   },
   "outputs": [],
   "source": [
    "photeng = abscs['photE']\n",
    "eleceng = abscs['elecEk']"
   ]
  },
  {
   "cell_type": "code",
   "execution_count": 57,
   "id": "1c672407-e829-49ed-b0b9-ec1f69f756dd",
   "metadata": {
    "tags": []
   },
   "outputs": [],
   "source": [
    "lep_tf = dh_load_data('dep_tf')['lowengphot'].get_tf(xe, phys.chi*xe, rs)\n",
    "lee_tf = dh_load_data('dep_tf')['lowengelec'].get_tf(xe, phys.chi*xe, rs)\n",
    "hed_tf = dh_load_data('dep_tf')['highengdep'].get_val(xe, phys.chi*xe, rs)"
   ]
  },
  {
   "cell_type": "code",
   "execution_count": 67,
   "id": "b1acd0a3-0e76-4cf8-ae27-afa3c3318c76",
   "metadata": {
    "tags": []
   },
   "outputs": [],
   "source": [
    "struct_boost = lambda x: 1.\n",
    "rate_func_N = lambda x: 1.\n",
    "rate_func_eng = lambda x: photeng[300]"
   ]
  },
  {
   "cell_type": "code",
   "execution_count": 61,
   "id": "f783152b-9485-4df6-8306-914fe78c6f1f",
   "metadata": {
    "tags": []
   },
   "outputs": [],
   "source": [
    "import darkhistory.physics as phys"
   ]
  },
  {
   "cell_type": "code",
   "execution_count": 62,
   "id": "7895879a-5be7-4f96-afef-388ec71bff0e",
   "metadata": {
    "tags": []
   },
   "outputs": [],
   "source": [
    "dlnz = 0.001\n",
    "start_rs = rs\n",
    "dt = dlnz * 1 / phys.hubble(rs)\n",
    "\n",
    "def norm_fac(rs):\n",
    "    # Normalization to convert from per injection event to \n",
    "    # per baryon per dlnz step. \n",
    "    return rate_func_N(rs) * (\n",
    "        dlnz * 1 / phys.hubble(rs) / (phys.nB * rs**3)\n",
    "    )\n",
    "\n",
    "def rate_func_eng_unclustered(rs):\n",
    "    return rate_func_eng(rs)"
   ]
  },
  {
   "cell_type": "code",
   "execution_count": 63,
   "id": "45c60d36-9f88-4da9-acaa-1185a6a8d174",
   "metadata": {
    "tags": []
   },
   "outputs": [],
   "source": [
    "in_spec_phot_N = np.zeros((500,))\n",
    "in_spec_phot_N[300] = 1.\n",
    "in_spec_phot = Spectrum(photeng, in_spec_phot_N, spec_type='N', rs=rs)\n",
    "\n",
    "lowengphot_spec_at_rs  = Spectrum(photeng, lep_tf.grid_vals[300], spec_type='N', rs=rs) * norm_fac(rs)\n",
    "lowengelec_spec_at_rs  = Spectrum(eleceng, lee_tf.grid_vals[300], spec_type='N', rs=rs) * norm_fac(rs)\n",
    "highengdep_at_rs       = hed_tf[300] * norm_fac(rs)"
   ]
  },
  {
   "cell_type": "code",
   "execution_count": 65,
   "id": "f6e9ca97-55fa-41c4-8557-c752a51b81f6",
   "metadata": {
    "tags": []
   },
   "outputs": [],
   "source": [
    "x_vec_for_f = np.array([1-xe, phys.chi*(1-xe), phys.chi*xe])"
   ]
  },
  {
   "cell_type": "code",
   "execution_count": 68,
   "id": "24a56a30-08fa-4c9c-9485-fa9beffbf5c8",
   "metadata": {
    "tags": []
   },
   "outputs": [],
   "source": [
    "f_raw = compute_fs(\n",
    "    MEDEA_interp, lowengelec_spec_at_rs, lowengphot_spec_at_rs,\n",
    "    x_vec_for_f, rate_func_eng_unclustered(rs), dt,\n",
    "    highengdep_at_rs, method='no_He', cross_check=False\n",
    ")\n",
    "fs = np.sum(f_raw, axis=0)"
   ]
  },
  {
   "cell_type": "code",
   "execution_count": 69,
   "id": "3e78f958-5bff-4f84-8d58-48f264d81abe",
   "metadata": {
    "tags": []
   },
   "outputs": [
    {
     "data": {
      "text/plain": [
       "array([6.76041712e-06, 1.04900712e-07, 5.73618417e-06, 3.83615518e-06,\n",
       "       1.00547641e-06])"
      ]
     },
     "execution_count": 69,
     "metadata": {},
     "output_type": "execute_result"
    }
   ],
   "source": [
    "fs"
   ]
  },
  {
   "cell_type": "markdown",
   "id": "e61f4cd4-4594-49f2-a636-9fab8cb29f9d",
   "metadata": {},
   "source": [
    "## 3.3 phot_depgv"
   ]
  },
  {
   "cell_type": "code",
   "execution_count": 73,
   "id": "25db1513-bb62-467a-a116-b6594f7f10f7",
   "metadata": {
    "tags": []
   },
   "outputs": [],
   "source": [
    "f_phot_depgv = np.array([3.02620381e-04, 4.91613873e-06,\n",
    "                         2.57787009e-04, 1.80138647e-04, 4.73036216e-05])"
   ]
  },
  {
   "cell_type": "markdown",
   "id": "ece6965a-64d8-4b08-9e56-3791d850a5b8",
   "metadata": {},
   "source": [
    "## 3.4 phot_dep.h5"
   ]
  },
  {
   "cell_type": "code",
   "execution_count": 82,
   "id": "639f7f4f-c42f-44c0-9d44-cccc3d46d8ca",
   "metadata": {
    "tags": []
   },
   "outputs": [],
   "source": [
    "f_phot_dep = np.array([350.7255435,5.69761833,298.76536614,208.77385962,54.82310326]) / photeng[300]"
   ]
  },
  {
   "cell_type": "code",
   "execution_count": 83,
   "id": "427d7f68-f700-4256-969f-89014de72960",
   "metadata": {
    "tags": []
   },
   "outputs": [
    {
     "data": {
      "image/png": "[encoded data removed]",
      "text/plain": [
       "<Figure size 720x480 with 1 Axes>"
      ]
     },
     "metadata": {},
     "output_type": "display_data"
    }
   ],
   "source": [
    "plt.plot(f_dh[:4], label='DH')\n",
    "plt.plot(fs[:4], ls=':', label='DH regen using DHs tf')\n",
    "plt.plot(f_phot_depgv[:4]/(0.04879016/0.001), label='dm21cm regen')\n",
    "plt.plot(f_phot_dep[:4]/(0.04879016/0.001), label='dm21cm regen h5')\n",
    "plt.legend()\n",
    "plt.yscale('log')"
   ]
  },
  {
   "cell_type": "code",
   "execution_count": null,
   "id": "6791d035-d995-483c-a3b3-54aa3110b7ce",
   "metadata": {},
   "outputs": [],
   "source": []
  },
  {
   "cell_type": "code",
   "execution_count": null,
   "id": "094b524d-e3b9-49fb-a468-ec1d4e03eac7",
   "metadata": {},
   "outputs": [],
   "source": []
  },
  {
   "cell_type": "code",
   "execution_count": null,
   "id": "8cc3f038-9ba3-4a0d-96e8-3dc3fafe81e9",
   "metadata": {},
   "outputs": [],
   "source": []
  },
  {
   "cell_type": "code",
   "execution_count": null,
   "id": "47ebdede-f0b2-46af-823b-c4fc6fa56e90",
   "metadata": {},
   "outputs": [],
   "source": []
  },
  {
   "cell_type": "code",
   "execution_count": null,
   "id": "ce93b3de-d574-4fd3-aeeb-12fe709301a2",
   "metadata": {},
   "outputs": [],
   "source": []
  },
  {
   "cell_type": "code",
   "execution_count": null,
   "id": "0cd9db18-0e33-40dc-95ee-926ce020df40",
   "metadata": {},
   "outputs": [],
   "source": []
  },
  {
   "cell_type": "code",
   "execution_count": null,
   "id": "64242c1d-21b3-43eb-a995-2ecae64e9bfa",
   "metadata": {},
   "outputs": [],
   "source": []
  },
  {
   "cell_type": "code",
   "execution_count": null,
   "id": "9b36bd31-444a-4eef-99f1-99179ab20d28",
   "metadata": {},
   "outputs": [],
   "source": []
  },
  {
   "cell_type": "code",
   "execution_count": null,
   "id": "fbb9ec70-dc79-4c37-b629-b2453c961df7",
   "metadata": {},
   "outputs": [],
   "source": []
  },
  {
   "cell_type": "code",
   "execution_count": null,
   "id": "c6477bc1-9263-420a-ac00-7633ae406a02",
   "metadata": {},
   "outputs": [],
   "source": []
  },
  {
   "cell_type": "code",
   "execution_count": null,
   "id": "1d7c72ab-dbd9-4740-a306-a6993369c7be",
   "metadata": {},
   "outputs": [],
   "source": []
  },
  {
   "cell_type": "code",
   "execution_count": null,
   "id": "5af33571-7574-43fc-9fdd-6ca2c6e9cdca",
   "metadata": {},
   "outputs": [],
   "source": []
  },
  {
   "cell_type": "markdown",
   "id": "be44b449-723b-48d8-b4be-7ddc07bf2396",
   "metadata": {},
   "source": [
    "## depgv"
   ]
  },
  {
   "cell_type": "code",
   "execution_count": 11,
   "id": "26696250-1e3c-44e5-856d-5bec04a23e73",
   "metadata": {
    "tags": []
   },
   "outputs": [],
   "source": [
    "photeng = dep_tf.abscs['Ein']"
   ]
  },
  {
   "cell_type": "code",
   "execution_count": 12,
   "id": "4fb97ea2-0a4f-4e40-a0dc-0377e4aed33b",
   "metadata": {
    "tags": []
   },
   "outputs": [
    {
     "data": {
      "text/plain": [
       "array([2.61113274e-10, 4.24184609e-12, 2.22429202e-10, 1.55431011e-10,\n",
       "       4.08155044e-11])"
      ]
     },
     "execution_count": 12,
     "metadata": {},
     "output_type": "execute_result"
    }
   ],
   "source": [
    "np.array([3.02620381e-04, 4.91613873e-06, 2.57787009e-04, 1.80138647e-04, 4.73036216e-05]) / photeng[300]"
   ]
  },
  {
   "cell_type": "markdown",
   "id": "3a4124fc-c78c-4df1-a4be-3da01c102742",
   "metadata": {},
   "source": [
    "## tmp"
   ]
  },
  {
   "cell_type": "code",
   "execution_count": null,
   "id": "31082dee-ea5a-43db-b958-f1cc9e58853e",
   "metadata": {},
   "outputs": [],
   "source": []
  },
  {
   "cell_type": "code",
   "execution_count": 9,
   "id": "33582038-0e24-41bc-aad1-37460f95bbdd",
   "metadata": {
    "tags": []
   },
   "outputs": [
    {
     "data": {
      "text/plain": [
       "1.006"
      ]
     },
     "execution_count": 9,
     "metadata": {},
     "output_type": "execute_result"
    }
   ],
   "source": [
    "dep_tf.abscs['nBs'][6]"
   ]
  },
  {
   "cell_type": "markdown",
   "id": "232c0130-a10a-42c2-9cc4-2263babd6835",
   "metadata": {},
   "source": [
    "### whether interp is good"
   ]
  },
  {
   "cell_type": "code",
   "execution_count": 75,
   "id": "a2f2af4c-ba14-4d8b-97a5-1b5c278487f9",
   "metadata": {
    "tags": []
   },
   "outputs": [
    {
     "data": {
      "text/plain": [
       "array([ 4.        ,  4.56626611,  5.21269655,  5.9506399 ,  6.79305133,\n",
       "        7.75472002,  8.85252881, 10.10575058, 11.5363866 , 13.16955279,\n",
       "       15.03392065, 17.1622206 , 19.59181658, 22.36536203, 25.53154867,\n",
       "       29.14596137, 33.27205392, 37.98226307, 43.35928017, 49.49750292])"
      ]
     },
     "execution_count": 75,
     "metadata": {},
     "output_type": "execute_result"
    }
   ],
   "source": [
    "dh_hed_tf.rs[0]"
   ]
  },
  {
   "cell_type": "code",
   "execution_count": 72,
   "id": "3fca2259-3117-4934-bab0-721d652c2493",
   "metadata": {
    "tags": []
   },
   "outputs": [
    {
     "data": {
      "text/plain": [
       "array([4.64187033e-15, 6.56835553e-15, 9.28174429e-15, 1.30984713e-14,\n",
       "       1.84602453e-14, 2.59829472e-14, 3.65242104e-14, 5.12769460e-14,\n",
       "       7.18984137e-14, 1.00688250e-13, 1.40833838e-13, 1.96747688e-13,\n",
       "       2.74531522e-13, 3.82612848e-13, 5.32618476e-13, 7.40569560e-13,\n",
       "       1.02851857e-12, 1.42678247e-12, 1.97699157e-12, 2.73624409e-12])"
      ]
     },
     "execution_count": 72,
     "metadata": {},
     "output_type": "execute_result"
    }
   ],
   "source": [
    "dh_hed_tf.grid_vals[0][0,0,:,300,0]"
   ]
  },
  {
   "cell_type": "code",
   "execution_count": 89,
   "id": "eab94338-5503-4101-bc77-2c230ed324bf",
   "metadata": {
    "tags": []
   },
   "outputs": [
    {
     "data": {
      "text/plain": [
       "[]"
      ]
     },
     "execution_count": 89,
     "metadata": {},
     "output_type": "execute_result"
    },
    {
     "data": {
      "image/png": "[encoded data removed]",
      "text/plain": [
       "<Figure size 720x480 with 1 Axes>"
      ]
     },
     "metadata": {},
     "output_type": "display_data"
    }
   ],
   "source": [
    "plt.plot(dh_hed_tf.rs[0], dh_hed_tf.grid_vals[0][1,1,:,300,0], '.')\n",
    "plt.loglog()"
   ]
  },
  {
   "cell_type": "code",
   "execution_count": null,
   "id": "8a5aa073-f231-4dd4-bea5-0eb3c45b04d9",
   "metadata": {},
   "outputs": [],
   "source": []
  },
  {
   "cell_type": "code",
   "execution_count": null,
   "id": "678012a8-0827-4e8b-871d-29612d97ecea",
   "metadata": {},
   "outputs": [],
   "source": []
  },
  {
   "cell_type": "code",
   "execution_count": null,
   "id": "a95ec90c-a1b5-4654-aae8-3269eb54a110",
   "metadata": {},
   "outputs": [],
   "source": []
  },
  {
   "cell_type": "code",
   "execution_count": null,
   "id": "36673b91-6d02-4952-a9e9-58f812ee37dc",
   "metadata": {},
   "outputs": [],
   "source": []
  },
  {
   "cell_type": "markdown",
   "id": "ced88c8b-96a4-4192-95b8-785d063e7710",
   "metadata": {},
   "source": [
    "# Appendix"
   ]
  },
  {
   "cell_type": "markdown",
   "id": "705e3312-7431-4c9d-8026-1111d6d92a69",
   "metadata": {
    "tags": []
   },
   "source": [
    "### dm21cm: DM"
   ]
  },
  {
   "cell_type": "code",
   "execution_count": 35,
   "id": "4898550e-6ab9-4345-abb2-bcbb1dbbd26e",
   "metadata": {
    "tags": []
   },
   "outputs": [],
   "source": [
    "dm_params = DMParams(\n",
    "    mode = 'swave',\n",
    "    primary = 'phot_delta',\n",
    "    m_DM = 1e10,\n",
    "    sigmav = 1e-23,\n",
    ")"
   ]
  },
  {
   "cell_type": "code",
   "execution_count": 36,
   "id": "b369a0e9-bc98-44b8-813e-52cfb040da85",
   "metadata": {
    "tags": []
   },
   "outputs": [],
   "source": [
    "z_edges = get_z_edges(44, 6, 1.05)"
   ]
  },
  {
   "cell_type": "code",
   "execution_count": 37,
   "id": "f57035b6-b008-4eb7-bafe-8853a300f046",
   "metadata": {
    "tags": []
   },
   "outputs": [],
   "source": [
    "z_early, z_late, z_mid = z_edges[3], z_edges[4], np.sqrt(z_edges[3]*z_edges[4])"
   ]
  },
  {
   "cell_type": "code",
   "execution_count": 38,
   "id": "6f61b10f-fa98-439b-9926-e0bf1c40442b",
   "metadata": {
    "tags": []
   },
   "outputs": [
    {
     "data": {
      "text/plain": [
       "36.68125290890279"
      ]
     },
     "execution_count": 38,
     "metadata": {},
     "output_type": "execute_result"
    }
   ],
   "source": [
    "z_mid"
   ]
  },
  {
   "cell_type": "code",
   "execution_count": 40,
   "id": "d78f40a4-0bf7-4573-9e0a-ce800d01499f",
   "metadata": {
    "tags": []
   },
   "outputs": [],
   "source": [
    "dt = phys.dt_between_z(z_early, z_late)\n",
    "n_Bavg = phys.n_B * (1+z_mid)**3 # [Bavg cm^-3]\n",
    "delta_box = 0.\n",
    "struct_boost = 1.\n",
    "rho_DM_box = (1 + delta_box) * phys.rho_DM * (1+z_mid)**3 # [eV cm^-3]\n",
    "inj_per_Bavg_box = phys.inj_rate(rho_DM_box, dm_params) * dt * struct_boost / n_Bavg\n",
    "dE_inj_per_Bavg = dm_params.eng_per_inj * np.mean(inj_per_Bavg_box)\n",
    "dE_inj_per_Bavg_unclustered = dE_inj_per_Bavg / struct_boost"
   ]
  },
  {
   "cell_type": "code",
   "execution_count": 41,
   "id": "6acdc777-271c-456a-a624-89cb44075a22",
   "metadata": {
    "tags": []
   },
   "outputs": [
    {
     "data": {
      "text/plain": [
       "0.05832310611619097"
      ]
     },
     "execution_count": 41,
     "metadata": {},
     "output_type": "execute_result"
    }
   ],
   "source": [
    "dE_inj_per_Bavg_unclustered"
   ]
  },
  {
   "cell_type": "code",
   "execution_count": 42,
   "id": "8b289887-3e42-43fe-be82-72c750e45009",
   "metadata": {
    "tags": []
   },
   "outputs": [],
   "source": [
    "records = np.load(\"../../data/run_info/phph_dhinit_s8zero_records.npy\", allow_pickle=True).item()"
   ]
  },
  {
   "cell_type": "code",
   "execution_count": 43,
   "id": "4995bd94-12b9-482e-9bf9-277b85a5cb7a",
   "metadata": {
    "tags": []
   },
   "outputs": [],
   "source": [
    "x_e = interpolate.interp1d(records['z'], records['x_e'])(z_mid).item()"
   ]
  },
  {
   "cell_type": "code",
   "execution_count": 44,
   "id": "c71cffc8-5074-40f7-9e4e-99cb63b6799b",
   "metadata": {
    "tags": []
   },
   "outputs": [
    {
     "data": {
      "text/plain": [
       "0.006042476201550739"
      ]
     },
     "execution_count": 44,
     "metadata": {},
     "output_type": "execute_result"
    }
   ],
   "source": [
    "x_e"
   ]
  },
  {
   "cell_type": "code",
   "execution_count": 47,
   "id": "d0502d5c-1057-4ab2-bdbe-349baf701c25",
   "metadata": {
    "tags": []
   },
   "outputs": [
    {
     "data": {
      "text/plain": [
       "2.916155305809549e-12"
      ]
     },
     "execution_count": 47,
     "metadata": {},
     "output_type": "execute_result"
    }
   ],
   "source": [
    "inj_per_Bavg_box"
   ]
  },
  {
   "cell_type": "code",
   "execution_count": 48,
   "id": "06091a26-1760-493e-b5c1-12599aa25175",
   "metadata": {
    "tags": []
   },
   "outputs": [
    {
     "data": {
      "text/plain": [
       "Array([[4.6513392e-08, 7.2935558e-10, 3.9496822e-08, 4.0667299e-08,\n",
       "        6.2892513e-09, 1.2869677e-04]], dtype=float32)"
      ]
     },
     "execution_count": 48,
     "metadata": {},
     "output_type": "execute_result"
    }
   ],
   "source": [
    "dep_tf(in_spec=dm_params.inj_phot_spec.N, sum_result=False, rs = 1+z_mid,\n",
    "       nBs_s = jnp.array([1.]),\n",
    "       x_s = jnp.array([x_e]),\n",
    "       out_of_bounds_action = 'clip',) * inj_per_Bavg_box / dE_inj_per_Bavg_unclustered"
   ]
  },
  {
   "cell_type": "code",
   "execution_count": null,
   "id": "76be137c-5544-4bc5-bdad-2d69b6dd293e",
   "metadata": {},
   "outputs": [],
   "source": []
  },
  {
   "cell_type": "code",
   "execution_count": null,
   "id": "1af8f87c-5565-43b3-a396-931524fa80b9",
   "metadata": {},
   "outputs": [],
   "source": []
  },
  {
   "cell_type": "code",
   "execution_count": null,
   "id": "bdb29250-ce63-41bf-86e1-dfd3ee0a3bbd",
   "metadata": {},
   "outputs": [],
   "source": []
  },
  {
   "cell_type": "code",
   "execution_count": null,
   "id": "9aaf3026-f125-48a8-9d85-76280f53f4c9",
   "metadata": {},
   "outputs": [],
   "source": []
  },
  {
   "cell_type": "code",
   "execution_count": null,
   "id": "93dad66d-054e-4dd2-9c5a-c6eeabc0b946",
   "metadata": {},
   "outputs": [],
   "source": []
  }
 ],
 "metadata": {
  "kernelspec": {
   "display_name": "Python [conda env:.conda-21cmfast] *",
   "language": "python",
   "name": "conda-env-.conda-21cmfast-py"
  },
  "language_info": {
   "codemirror_mode": {
    "name": "ipython",
    "version": 3
   },
   "file_extension": ".py",
   "mimetype": "text/x-python",
   "name": "python",
   "nbconvert_exporter": "python",
   "pygments_lexer": "ipython3",
   "version": "3.10.12"
  }
 },
 "nbformat": 4,
 "nbformat_minor": 5
}
