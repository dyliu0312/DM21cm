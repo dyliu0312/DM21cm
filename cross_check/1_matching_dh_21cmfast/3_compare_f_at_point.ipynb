{
 "cells": [
  {
   "cell_type": "code",
   "execution_count": 158,
   "id": "dc6d5aab-492a-457d-9a70-7a63b6a74d40",
   "metadata": {
    "tags": []
   },
   "outputs": [],
   "source": [
    "%reload_ext autoreload\n",
    "%autoreload 2\n",
    "\n",
    "import os\n",
    "import sys\n",
    "import pickle\n",
    "import logging\n",
    "from tqdm import tqdm\n",
    "\n",
    "import numpy as np\n",
    "from scipy import interpolate\n",
    "import jax.numpy as jnp\n",
    "\n",
    "sys.path.append(os.environ['DM21CM_DIR'])\n",
    "import dm21cm.physics as phys\n",
    "from dm21cm.data_loader import load_data\n",
    "from dm21cm.dm_params import DMParams\n",
    "from dm21cm.evolve import get_z_edges\n",
    "\n",
    "sys.path.append(os.environ['DH_DIR'])\n",
    "from darkhistory.spec.spectrum import Spectrum\n",
    "from darkhistory.main import evolve as dh_evolve\n",
    "\n",
    "%matplotlib inline\n",
    "import matplotlib as mpl\n",
    "import matplotlib.pyplot as plt\n",
    "mpl.rc_file('../../matplotlibrc')"
   ]
  },
  {
   "cell_type": "markdown",
   "id": "839ef78c-1a33-4e42-9f56-cf4b1437eefa",
   "metadata": {},
   "source": [
    "## dm21cm"
   ]
  },
  {
   "cell_type": "code",
   "execution_count": 2,
   "id": "f7eb327b-bb4e-430f-a97d-0d3bce47a2c7",
   "metadata": {
    "tags": []
   },
   "outputs": [
    {
     "name": "stderr",
     "output_type": "stream",
     "text": [
      "INFO:root:Loaded photon deposition transfer function.\n"
     ]
    }
   ],
   "source": [
    "dep_tf = load_data(\n",
    "    'phot_dep',\n",
    "    prefix=os.environ['DM21CM_DATA_DIR'] + '/tf/230408x/phot',\n",
    "    reload=True\n",
    ")"
   ]
  },
  {
   "cell_type": "markdown",
   "id": "130d5e6f-c1fe-4ff6-92c6-02820d4cf4ef",
   "metadata": {},
   "source": [
    "### dm21cm: 1 photon"
   ]
  },
  {
   "cell_type": "code",
   "execution_count": 3,
   "id": "b3fe9fe5-5d56-4bbf-852a-170460c87e95",
   "metadata": {
    "tags": []
   },
   "outputs": [
    {
     "name": "stdout",
     "output_type": "stream",
     "text": [
      "total energy = 1158962.0723298236\n"
     ]
    }
   ],
   "source": [
    "spec_N = np.zeros((500,))\n",
    "spec_N[300] = 1.\n",
    "photeng = dep_tf.abscs['Ein']\n",
    "print(f'total energy = {np.dot(spec_N, photeng)}')"
   ]
  },
  {
   "cell_type": "code",
   "execution_count": 134,
   "id": "9037123b-fbd2-4808-8aef-4ef82c4d05d2",
   "metadata": {
    "tags": []
   },
   "outputs": [
    {
     "name": "stdout",
     "output_type": "stream",
     "text": [
      "6.457748325074419\n"
     ]
    }
   ],
   "source": [
    "rs_grid = np.geomspace(5, 50, 10)\n",
    "#rs = np.sqrt(rs_grid[-2]*rs_grid[-3])\n",
    "rs_start = rs_grid[1]\n",
    "rs_end = rs_start / 1.05\n",
    "xe = 0.001\n",
    "print(rs_start)"
   ]
  },
  {
   "cell_type": "code",
   "execution_count": 149,
   "id": "b16d4e3a-bec4-46f1-89cf-0a91f4473ea7",
   "metadata": {
    "tags": []
   },
   "outputs": [],
   "source": [
    "dm21cm_dep = dep_tf(\n",
    "    in_spec = spec_N,\n",
    "    sum_result = False,\n",
    "    rs = rs_start,\n",
    "    nBs_s = jnp.array([1.]),\n",
    "    x_s = jnp.array([xe]),\n",
    "    out_of_bounds_action = 'clip',\n",
    ") / np.dot(spec_N, photeng)\n",
    "\n",
    "dm21cm_dep = np.array(dm21cm_dep).flatten()"
   ]
  },
  {
   "cell_type": "markdown",
   "id": "9df9df82-5948-4319-9a54-8d6570ac843d",
   "metadata": {},
   "source": [
    "## DH"
   ]
  },
  {
   "cell_type": "code",
   "execution_count": 136,
   "id": "0a10e047-e40b-4fad-9575-69a95ac0eeb4",
   "metadata": {
    "tags": []
   },
   "outputs": [
    {
     "name": "stdout",
     "output_type": "stream",
     "text": [
      "Loading time: 0.000 s\n",
      "Initialization time: 0.023 s\n",
      "Main loop time: 1.247 s\n"
     ]
    }
   ],
   "source": [
    "soln = dh_evolve(\n",
    "    in_spec_phot = Spectrum(photeng, spec_N, spec_type='N', rs=rs),\n",
    "    rate_func_N = lambda rs: 1.,\n",
    "    DM_process='swave', mDM=2*photeng[300], sigmav=1e-100, primary='phot_delta',\n",
    "    start_rs=rs_start, end_rs=rs_end,\n",
    "    coarsen_factor=1, backreaction=False, \n",
    "    struct_boost=lambda rs: 1.,\n",
    "    reion_switch=True, reion_rs = 50,\n",
    "    photoion_rate_func = [lambda rs: 0.] * 3,\n",
    "    photoheat_rate_func = [lambda rs: 0.] * 3,\n",
    "    xe_reion_func = lambda rs: xe,\n",
    "    use_tqdm=False, verbose=1\n",
    ")"
   ]
  },
  {
   "cell_type": "code",
   "execution_count": 137,
   "id": "b0f1d029-36c8-48f3-b544-e2e2f32f3e16",
   "metadata": {
    "collapsed": true,
    "jupyter": {
     "outputs_hidden": true
    },
    "tags": []
   },
   "outputs": [
    {
     "data": {
      "text/plain": [
       "array([[0.00000000e+00, 5.13073474e-07, 1.02605576e-06, 1.53894342e-06,\n",
       "        2.05173304e-06, 2.56442114e-06, 3.07700426e-06, 3.58947888e-06,\n",
       "        4.10184150e-06, 4.61408858e-06, 5.12621656e-06, 5.63822187e-06,\n",
       "        6.15010090e-06, 6.66185005e-06, 7.17346567e-06, 7.68494411e-06,\n",
       "        8.19628170e-06, 8.70747474e-06, 9.21851951e-06, 9.72941227e-06,\n",
       "        1.02401493e-05, 1.07507267e-05, 1.12611409e-05, 1.17713878e-05,\n",
       "        1.22814638e-05, 1.27913649e-05, 1.33010873e-05, 1.38106270e-05,\n",
       "        1.43199801e-05, 1.48291428e-05, 1.53381109e-05, 1.58468806e-05,\n",
       "        1.63554478e-05, 1.68638085e-05, 1.73719587e-05, 1.78798942e-05,\n",
       "        1.83876110e-05, 1.88951049e-05, 1.94023719e-05, 1.99094077e-05,\n",
       "        2.04162081e-05, 2.09227690e-05, 2.14290862e-05, 2.19351553e-05,\n",
       "        2.24409722e-05, 2.29465324e-05, 2.34518318e-05, 2.39568659e-05,\n",
       "        2.44616304e-05],\n",
       "       [0.00000000e+00, 7.95812680e-09, 1.59142952e-08, 2.38685065e-08,\n",
       "        3.18207624e-08, 3.97710641e-08, 4.77194132e-08, 5.56658110e-08,\n",
       "        6.36102589e-08, 7.15527583e-08, 7.94933106e-08, 8.74319171e-08,\n",
       "        9.53685792e-08, 1.03303298e-07, 1.11236075e-07, 1.19166912e-07,\n",
       "        1.27095809e-07, 1.35022769e-07, 1.42947792e-07, 1.50870879e-07,\n",
       "        1.58792032e-07, 1.66711252e-07, 1.74628541e-07, 1.82543898e-07,\n",
       "        1.90457326e-07, 1.98368826e-07, 2.06278399e-07, 2.14186045e-07,\n",
       "        2.22091767e-07, 2.29995565e-07, 2.37897440e-07, 2.45797393e-07,\n",
       "        2.53695425e-07, 2.61591538e-07, 2.69485733e-07, 2.77378010e-07,\n",
       "        2.85268370e-07, 2.93156814e-07, 3.01043344e-07, 3.08927961e-07,\n",
       "        3.16810664e-07, 3.24691455e-07, 3.32570336e-07, 3.40447307e-07,\n",
       "        3.48322368e-07, 3.56195521e-07, 3.64066766e-07, 3.71936105e-07,\n",
       "        3.79803538e-07],\n",
       "       [0.00000000e+00, 4.58857420e-07, 9.17636768e-07, 1.37633531e-06,\n",
       "        1.83495031e-06, 2.29347901e-06, 2.75191863e-06, 3.21026637e-06,\n",
       "        3.66851945e-06, 4.12667502e-06, 4.58473026e-06, 5.04268231e-06,\n",
       "        5.50052830e-06, 5.95826535e-06, 6.41589055e-06, 6.87340100e-06,\n",
       "        7.33079374e-06, 7.78806585e-06, 8.24521434e-06, 8.70223624e-06,\n",
       "        9.15912855e-06, 9.61588825e-06, 1.00725123e-05, 1.05289977e-05,\n",
       "        1.09853413e-05, 1.14415401e-05, 1.18975910e-05, 1.23534908e-05,\n",
       "        1.28092364e-05, 1.32648247e-05, 1.37202525e-05, 1.41755167e-05,\n",
       "        1.46306139e-05, 1.50855411e-05, 1.55402949e-05, 1.59948722e-05,\n",
       "        1.64492696e-05, 1.69034838e-05, 1.73575116e-05, 1.78113496e-05,\n",
       "        1.82649946e-05, 1.87184430e-05, 1.91716916e-05, 1.96247370e-05,\n",
       "        2.00775757e-05, 2.05302043e-05, 2.09826194e-05, 2.14348175e-05,\n",
       "        2.18867952e-05],\n",
       "       [0.00000000e+00, 2.18165221e-07, 4.36269985e-07, 6.54314339e-07,\n",
       "        8.72298326e-07, 1.09022199e-06, 1.30808538e-06, 1.52588854e-06,\n",
       "        1.74363150e-06, 1.96131432e-06, 2.17893703e-06, 2.39649968e-06,\n",
       "        2.61400230e-06, 2.83144494e-06, 3.04882764e-06, 3.26615044e-06,\n",
       "        3.48341337e-06, 3.70061648e-06, 3.91775980e-06, 4.13484337e-06,\n",
       "        4.35186723e-06, 4.56883141e-06, 4.78573595e-06, 5.00258089e-06,\n",
       "        5.21936626e-06, 5.43609210e-06, 5.65275844e-06, 5.86936531e-06,\n",
       "        6.08591274e-06, 6.30240078e-06, 6.51882944e-06, 6.73519877e-06,\n",
       "        6.95150878e-06, 7.16775953e-06, 7.38395102e-06, 7.60008330e-06,\n",
       "        7.81615639e-06, 8.03217032e-06, 8.24812511e-06, 8.46402080e-06,\n",
       "        8.67985741e-06, 8.89563497e-06, 9.11135350e-06, 9.32701302e-06,\n",
       "        9.54261357e-06, 9.75815517e-06, 9.97363784e-06, 1.01890616e-05,\n",
       "        1.04044265e-05],\n",
       "       [0.00000000e+00, 8.66580458e-08, 5.70204781e-06, 1.13030116e-05,\n",
       "        1.68895577e-05, 2.24616943e-05, 2.80194296e-05, 3.35627718e-05,\n",
       "        3.90917292e-05, 4.46063101e-05, 5.01065226e-05, 5.55923752e-05,\n",
       "        6.10638760e-05, 6.65210334e-05, 7.19638557e-05, 7.73923512e-05,\n",
       "        8.28065282e-05, 8.82063951e-05, 9.35919602e-05, 9.89632318e-05,\n",
       "        1.04320218e-04, 1.09662928e-04, 1.14991369e-04, 1.20305551e-04,\n",
       "        1.25605481e-04, 1.30891167e-04, 1.36162619e-04, 1.41419844e-04,\n",
       "        1.46662851e-04, 1.51891648e-04, 1.57106244e-04, 1.62306647e-04,\n",
       "        1.67492866e-04, 1.72664908e-04, 1.77822783e-04, 1.82966499e-04,\n",
       "        1.88096064e-04, 1.93211486e-04, 1.98312774e-04, 2.03399937e-04,\n",
       "        2.08472983e-04, 2.13531919e-04, 2.18576756e-04, 2.23607500e-04,\n",
       "        2.28624162e-04, 2.33626748e-04, 2.38615267e-04, 2.43589728e-04,\n",
       "        2.48550140e-04]])"
      ]
     },
     "execution_count": 137,
     "metadata": {},
     "output_type": "execute_result"
    }
   ],
   "source": [
    "np.array([soln['f']['low'][k] + soln['f']['high'][k] for k in soln['f']['low']])"
   ]
  },
  {
   "cell_type": "code",
   "execution_count": 147,
   "id": "7d73f112-b0de-4305-bf61-7238d1e4b193",
   "metadata": {
    "tags": []
   },
   "outputs": [],
   "source": [
    "dh_dep = np.array([soln['f']['low'][k] + soln['f']['high'][k] for k in soln['f']['low']])\n",
    "dh_dep = np.sum(dh_dep, axis=-1)"
   ]
  },
  {
   "cell_type": "code",
   "execution_count": 145,
   "id": "d963bf99-154d-4bc6-b396-309c9bcdc4ca",
   "metadata": {
    "tags": []
   },
   "outputs": [],
   "source": [
    "dh_dep = np.array([soln['f']['low'][k] + soln['f']['high'][k] for k in soln['f']['low']])\n",
    "dh_dep = dh_dep[:,1]"
   ]
  },
  {
   "cell_type": "code",
   "execution_count": 150,
   "id": "d4ebbd3a-1e5e-4390-849d-90ef5d4328b3",
   "metadata": {
    "tags": []
   },
   "outputs": [
    {
     "data": {
      "image/png": "[encoded data removed]",
      "text/plain": [
       "<Figure size 720x480 with 1 Axes>"
      ]
     },
     "metadata": {},
     "output_type": "display_data"
    }
   ],
   "source": [
    "logger = logging.getLogger()\n",
    "logger.setLevel(logging.CRITICAL+1)\n",
    "\n",
    "fig, ax = plt.subplots()\n",
    "ax.plot(dm21cm_dep[:4], label='dm21cm', color='r')\n",
    "ax.plot(dh_dep[:4], label='DarkHistory', color='k')\n",
    "ax.set_xticks(np.arange(4))\n",
    "ax.set_xticklabels([s.decode('utf-8') for s in dep_tf.abscs['out'][:4]])\n",
    "ax.set(yscale='log')\n",
    "#ax.set(ylim=(1e-7,1e-4))\n",
    "ax.legend();"
   ]
  },
  {
   "cell_type": "markdown",
   "id": "b1207a40-7d54-4a10-8321-c8e21822b936",
   "metadata": {},
   "source": [
    "## loop over rs"
   ]
  },
  {
   "cell_type": "code",
   "execution_count": 166,
   "id": "6b7e7750-acc9-465b-b9fc-bc336d40fdfc",
   "metadata": {
    "tags": []
   },
   "outputs": [
    {
     "name": "stderr",
     "output_type": "stream",
     "text": [
      "100%|█████████████████████████████████████████████████████████████████████████████████| 100/100 [00:10<00:00,  9.64it/s]\n"
     ]
    }
   ],
   "source": [
    "f_ratios_arr = []\n",
    "\n",
    "for rs in tqdm(np.geomspace(5, 50, 100)):\n",
    "    rs_start = rs\n",
    "    rs_end = rs_start / 1.05\n",
    "    xe = 0.001\n",
    "    dm21cm_dep = dep_tf(\n",
    "        in_spec = spec_N,\n",
    "        sum_result = False,\n",
    "        rs = rs_start,\n",
    "        nBs_s = jnp.array([1.]),\n",
    "        x_s = jnp.array([xe]),\n",
    "        out_of_bounds_action = 'clip',\n",
    "    ) / np.dot(spec_N, photeng) / (0.04879016/0.001)\n",
    "\n",
    "    dm21cm_dep = np.array(dm21cm_dep).flatten()\n",
    "\n",
    "    soln = dh_evolve(\n",
    "        in_spec_phot = Spectrum(photeng, spec_N, spec_type='N', rs=rs_start),\n",
    "        rate_func_N = lambda rs: 1.,\n",
    "        DM_process='swave', mDM=2*photeng[300], sigmav=1e-100, primary='phot_delta',\n",
    "        start_rs=rs_start, end_rs=rs_start/1.001**3,\n",
    "        coarsen_factor=1, backreaction=False, \n",
    "        struct_boost=lambda rs: 1.,\n",
    "        reion_switch=True, reion_rs = 50,\n",
    "        photoion_rate_func = [lambda rs: 0.] * 3,\n",
    "        photoheat_rate_func = [lambda rs: 0.] * 3,\n",
    "        xe_reion_func = lambda rs: xe,\n",
    "        use_tqdm=False, verbose=0\n",
    "    )\n",
    "\n",
    "    dh_dep = np.array([soln['f']['low'][k] + soln['f']['high'][k] for k in soln['f']['low']])\n",
    "    dh_dep = dh_dep[:,1]\n",
    "\n",
    "    f_ratios_arr.append(dh_dep[:4]/dm21cm_dep[:4])\n",
    "    \n",
    "f_ratios_arr = np.array(f_ratios_arr)"
   ]
  },
  {
   "cell_type": "code",
   "execution_count": 169,
   "id": "5c150901-a867-4765-a490-6c41b56c7e06",
   "metadata": {
    "tags": []
   },
   "outputs": [
    {
     "data": {
      "text/plain": [
       "[None]"
      ]
     },
     "execution_count": 169,
     "metadata": {},
     "output_type": "execute_result"
    },
    {
     "data": {
      "image/png": "[encoded data removed]",
      "text/plain": [
       "<Figure size 720x480 with 1 Axes>"
      ]
     },
     "metadata": {},
     "output_type": "display_data"
    }
   ],
   "source": [
    "fig, ax = plt.subplots()\n",
    "\n",
    "rs_arr = np.geomspace(5, 50, 100)\n",
    "ax.plot(rs_arr, f_ratios_arr[:, 0], label='H ion')\n",
    "ax.plot(rs_arr, f_ratios_arr[:, 1], label='He ion')\n",
    "ax.plot(rs_arr, f_ratios_arr[:, 2], label='exc')\n",
    "ax.plot(rs_arr, f_ratios_arr[:, 3], label='heat')\n",
    "\n",
    "ax.legend()\n",
    "ax.set(yscale='log')"
   ]
  },
  {
   "cell_type": "code",
   "execution_count": null,
   "id": "23e6967c-a8a4-4a73-bbe2-591b8a48c89a",
   "metadata": {},
   "outputs": [],
   "source": []
  },
  {
   "cell_type": "code",
   "execution_count": null,
   "id": "bacd8db9-b417-4cb0-b812-84923397155e",
   "metadata": {},
   "outputs": [],
   "source": []
  },
  {
   "cell_type": "code",
   "execution_count": null,
   "id": "0f464f2b-578c-4d0d-a624-e7fd4ccc9133",
   "metadata": {},
   "outputs": [],
   "source": []
  },
  {
   "cell_type": "code",
   "execution_count": null,
   "id": "4ae77302-3acd-47c7-93de-f6a0b4d2e8d8",
   "metadata": {},
   "outputs": [],
   "source": []
  },
  {
   "cell_type": "code",
   "execution_count": null,
   "id": "7a83d7d5-bae0-4035-9b50-5e82a0718b7d",
   "metadata": {},
   "outputs": [],
   "source": []
  },
  {
   "cell_type": "code",
   "execution_count": null,
   "id": "312f2186-c90c-429f-ac15-e45e9191a5ed",
   "metadata": {},
   "outputs": [],
   "source": []
  },
  {
   "cell_type": "code",
   "execution_count": null,
   "id": "febe66cb-3315-43cb-b840-f8a17f68d8a2",
   "metadata": {},
   "outputs": [],
   "source": []
  },
  {
   "cell_type": "code",
   "execution_count": null,
   "id": "eab4b8ac-db4f-4702-812d-50d443c739cc",
   "metadata": {},
   "outputs": [],
   "source": []
  },
  {
   "cell_type": "code",
   "execution_count": null,
   "id": "5925f518-f438-4202-84ea-17362ccaa13d",
   "metadata": {},
   "outputs": [],
   "source": []
  },
  {
   "cell_type": "code",
   "execution_count": null,
   "id": "c6db02b8-9c48-46a5-8ef6-238e670a739f",
   "metadata": {},
   "outputs": [],
   "source": []
  },
  {
   "cell_type": "code",
   "execution_count": null,
   "id": "b53213c0-8a1f-4fc4-8512-475b6138510b",
   "metadata": {},
   "outputs": [],
   "source": []
  },
  {
   "cell_type": "code",
   "execution_count": null,
   "id": "c59c385f-58e5-406c-9723-c5ce4af44fcd",
   "metadata": {},
   "outputs": [],
   "source": []
  },
  {
   "cell_type": "code",
   "execution_count": null,
   "id": "f327c1e1-1c58-47d0-9da6-8704d2c4b880",
   "metadata": {},
   "outputs": [],
   "source": []
  },
  {
   "cell_type": "markdown",
   "id": "705e3312-7431-4c9d-8026-1111d6d92a69",
   "metadata": {
    "tags": []
   },
   "source": [
    "### dm21cm: DM"
   ]
  },
  {
   "cell_type": "code",
   "execution_count": 35,
   "id": "4898550e-6ab9-4345-abb2-bcbb1dbbd26e",
   "metadata": {
    "tags": []
   },
   "outputs": [],
   "source": [
    "dm_params = DMParams(\n",
    "    mode = 'swave',\n",
    "    primary = 'phot_delta',\n",
    "    m_DM = 1e10,\n",
    "    sigmav = 1e-23,\n",
    ")"
   ]
  },
  {
   "cell_type": "code",
   "execution_count": 36,
   "id": "b369a0e9-bc98-44b8-813e-52cfb040da85",
   "metadata": {
    "tags": []
   },
   "outputs": [],
   "source": [
    "z_edges = get_z_edges(44, 6, 1.05)"
   ]
  },
  {
   "cell_type": "code",
   "execution_count": 37,
   "id": "f57035b6-b008-4eb7-bafe-8853a300f046",
   "metadata": {
    "tags": []
   },
   "outputs": [],
   "source": [
    "z_early, z_late, z_mid = z_edges[3], z_edges[4], np.sqrt(z_edges[3]*z_edges[4])"
   ]
  },
  {
   "cell_type": "code",
   "execution_count": 38,
   "id": "6f61b10f-fa98-439b-9926-e0bf1c40442b",
   "metadata": {
    "tags": []
   },
   "outputs": [
    {
     "data": {
      "text/plain": [
       "36.68125290890279"
      ]
     },
     "execution_count": 38,
     "metadata": {},
     "output_type": "execute_result"
    }
   ],
   "source": [
    "z_mid"
   ]
  },
  {
   "cell_type": "code",
   "execution_count": 40,
   "id": "d78f40a4-0bf7-4573-9e0a-ce800d01499f",
   "metadata": {
    "tags": []
   },
   "outputs": [],
   "source": [
    "dt = phys.dt_between_z(z_early, z_late)\n",
    "n_Bavg = phys.n_B * (1+z_mid)**3 # [Bavg cm^-3]\n",
    "delta_box = 0.\n",
    "struct_boost = 1.\n",
    "rho_DM_box = (1 + delta_box) * phys.rho_DM * (1+z_mid)**3 # [eV cm^-3]\n",
    "inj_per_Bavg_box = phys.inj_rate(rho_DM_box, dm_params) * dt * struct_boost / n_Bavg\n",
    "dE_inj_per_Bavg = dm_params.eng_per_inj * np.mean(inj_per_Bavg_box)\n",
    "dE_inj_per_Bavg_unclustered = dE_inj_per_Bavg / struct_boost"
   ]
  },
  {
   "cell_type": "code",
   "execution_count": 41,
   "id": "6acdc777-271c-456a-a624-89cb44075a22",
   "metadata": {
    "tags": []
   },
   "outputs": [
    {
     "data": {
      "text/plain": [
       "0.05832310611619097"
      ]
     },
     "execution_count": 41,
     "metadata": {},
     "output_type": "execute_result"
    }
   ],
   "source": [
    "dE_inj_per_Bavg_unclustered"
   ]
  },
  {
   "cell_type": "code",
   "execution_count": 42,
   "id": "8b289887-3e42-43fe-be82-72c750e45009",
   "metadata": {
    "tags": []
   },
   "outputs": [],
   "source": [
    "records = np.load(\"../../data/run_info/phph_dhinit_s8zero_records.npy\", allow_pickle=True).item()"
   ]
  },
  {
   "cell_type": "code",
   "execution_count": 43,
   "id": "4995bd94-12b9-482e-9bf9-277b85a5cb7a",
   "metadata": {
    "tags": []
   },
   "outputs": [],
   "source": [
    "x_e = interpolate.interp1d(records['z'], records['x_e'])(z_mid).item()"
   ]
  },
  {
   "cell_type": "code",
   "execution_count": 44,
   "id": "c71cffc8-5074-40f7-9e4e-99cb63b6799b",
   "metadata": {
    "tags": []
   },
   "outputs": [
    {
     "data": {
      "text/plain": [
       "0.006042476201550739"
      ]
     },
     "execution_count": 44,
     "metadata": {},
     "output_type": "execute_result"
    }
   ],
   "source": [
    "x_e"
   ]
  },
  {
   "cell_type": "code",
   "execution_count": 47,
   "id": "d0502d5c-1057-4ab2-bdbe-349baf701c25",
   "metadata": {
    "tags": []
   },
   "outputs": [
    {
     "data": {
      "text/plain": [
       "2.916155305809549e-12"
      ]
     },
     "execution_count": 47,
     "metadata": {},
     "output_type": "execute_result"
    }
   ],
   "source": [
    "inj_per_Bavg_box"
   ]
  },
  {
   "cell_type": "code",
   "execution_count": 48,
   "id": "06091a26-1760-493e-b5c1-12599aa25175",
   "metadata": {
    "tags": []
   },
   "outputs": [
    {
     "data": {
      "text/plain": [
       "Array([[4.6513392e-08, 7.2935558e-10, 3.9496822e-08, 4.0667299e-08,\n",
       "        6.2892513e-09, 1.2869677e-04]], dtype=float32)"
      ]
     },
     "execution_count": 48,
     "metadata": {},
     "output_type": "execute_result"
    }
   ],
   "source": [
    "dep_tf(in_spec=dm_params.inj_phot_spec.N, sum_result=False, rs = 1+z_mid,\n",
    "       nBs_s = jnp.array([1.]),\n",
    "       x_s = jnp.array([x_e]),\n",
    "       out_of_bounds_action = 'clip',) * inj_per_Bavg_box / dE_inj_per_Bavg_unclustered"
   ]
  },
  {
   "cell_type": "code",
   "execution_count": null,
   "id": "76be137c-5544-4bc5-bdad-2d69b6dd293e",
   "metadata": {},
   "outputs": [],
   "source": []
  },
  {
   "cell_type": "code",
   "execution_count": null,
   "id": "1af8f87c-5565-43b3-a396-931524fa80b9",
   "metadata": {},
   "outputs": [],
   "source": []
  },
  {
   "cell_type": "code",
   "execution_count": null,
   "id": "bdb29250-ce63-41bf-86e1-dfd3ee0a3bbd",
   "metadata": {},
   "outputs": [],
   "source": []
  },
  {
   "cell_type": "code",
   "execution_count": null,
   "id": "9aaf3026-f125-48a8-9d85-76280f53f4c9",
   "metadata": {},
   "outputs": [],
   "source": []
  },
  {
   "cell_type": "code",
   "execution_count": 56,
   "id": "2758ed8e-fb88-4d0b-982b-ddb2181a6304",
   "metadata": {
    "tags": []
   },
   "outputs": [
    {
     "data": {
      "text/plain": [
       "\u001b[0;31mSignature:\u001b[0m\n",
       "\u001b[0mdh_evolve\u001b[0m\u001b[0;34m(\u001b[0m\u001b[0;34m\u001b[0m\n",
       "\u001b[0;34m\u001b[0m    \u001b[0min_spec_elec\u001b[0m\u001b[0;34m=\u001b[0m\u001b[0;32mNone\u001b[0m\u001b[0;34m,\u001b[0m\u001b[0;34m\u001b[0m\n",
       "\u001b[0;34m\u001b[0m    \u001b[0min_spec_phot\u001b[0m\u001b[0;34m=\u001b[0m\u001b[0;32mNone\u001b[0m\u001b[0;34m,\u001b[0m\u001b[0;34m\u001b[0m\n",
       "\u001b[0;34m\u001b[0m    \u001b[0mrate_func_N\u001b[0m\u001b[0;34m=\u001b[0m\u001b[0;32mNone\u001b[0m\u001b[0;34m,\u001b[0m\u001b[0;34m\u001b[0m\n",
       "\u001b[0;34m\u001b[0m    \u001b[0mrate_func_eng\u001b[0m\u001b[0;34m=\u001b[0m\u001b[0;32mNone\u001b[0m\u001b[0;34m,\u001b[0m\u001b[0;34m\u001b[0m\n",
       "\u001b[0;34m\u001b[0m    \u001b[0mDM_process\u001b[0m\u001b[0;34m=\u001b[0m\u001b[0;32mNone\u001b[0m\u001b[0;34m,\u001b[0m\u001b[0;34m\u001b[0m\n",
       "\u001b[0;34m\u001b[0m    \u001b[0mmDM\u001b[0m\u001b[0;34m=\u001b[0m\u001b[0;32mNone\u001b[0m\u001b[0;34m,\u001b[0m\u001b[0;34m\u001b[0m\n",
       "\u001b[0;34m\u001b[0m    \u001b[0msigmav\u001b[0m\u001b[0;34m=\u001b[0m\u001b[0;32mNone\u001b[0m\u001b[0;34m,\u001b[0m\u001b[0;34m\u001b[0m\n",
       "\u001b[0;34m\u001b[0m    \u001b[0mlifetime\u001b[0m\u001b[0;34m=\u001b[0m\u001b[0;32mNone\u001b[0m\u001b[0;34m,\u001b[0m\u001b[0;34m\u001b[0m\n",
       "\u001b[0;34m\u001b[0m    \u001b[0mprimary\u001b[0m\u001b[0;34m=\u001b[0m\u001b[0;32mNone\u001b[0m\u001b[0;34m,\u001b[0m\u001b[0;34m\u001b[0m\n",
       "\u001b[0;34m\u001b[0m    \u001b[0mstruct_boost\u001b[0m\u001b[0;34m=\u001b[0m\u001b[0;32mNone\u001b[0m\u001b[0;34m,\u001b[0m\u001b[0;34m\u001b[0m\n",
       "\u001b[0;34m\u001b[0m    \u001b[0mstart_rs\u001b[0m\u001b[0;34m=\u001b[0m\u001b[0;32mNone\u001b[0m\u001b[0;34m,\u001b[0m\u001b[0;34m\u001b[0m\n",
       "\u001b[0;34m\u001b[0m    \u001b[0mend_rs\u001b[0m\u001b[0;34m=\u001b[0m\u001b[0;36m4\u001b[0m\u001b[0;34m,\u001b[0m\u001b[0;34m\u001b[0m\n",
       "\u001b[0;34m\u001b[0m    \u001b[0mhelium_TLA\u001b[0m\u001b[0;34m=\u001b[0m\u001b[0;32mFalse\u001b[0m\u001b[0;34m,\u001b[0m\u001b[0;34m\u001b[0m\n",
       "\u001b[0;34m\u001b[0m    \u001b[0mreion_switch\u001b[0m\u001b[0;34m=\u001b[0m\u001b[0;32mFalse\u001b[0m\u001b[0;34m,\u001b[0m\u001b[0;34m\u001b[0m\n",
       "\u001b[0;34m\u001b[0m    \u001b[0mreion_rs\u001b[0m\u001b[0;34m=\u001b[0m\u001b[0;32mNone\u001b[0m\u001b[0;34m,\u001b[0m\u001b[0;34m\u001b[0m\n",
       "\u001b[0;34m\u001b[0m    \u001b[0mphotoion_rate_func\u001b[0m\u001b[0;34m=\u001b[0m\u001b[0;32mNone\u001b[0m\u001b[0;34m,\u001b[0m\u001b[0;34m\u001b[0m\n",
       "\u001b[0;34m\u001b[0m    \u001b[0mphotoheat_rate_func\u001b[0m\u001b[0;34m=\u001b[0m\u001b[0;32mNone\u001b[0m\u001b[0;34m,\u001b[0m\u001b[0;34m\u001b[0m\n",
       "\u001b[0;34m\u001b[0m    \u001b[0mxe_reion_func\u001b[0m\u001b[0;34m=\u001b[0m\u001b[0;32mNone\u001b[0m\u001b[0;34m,\u001b[0m\u001b[0;34m\u001b[0m\n",
       "\u001b[0;34m\u001b[0m    \u001b[0minit_cond\u001b[0m\u001b[0;34m=\u001b[0m\u001b[0;32mNone\u001b[0m\u001b[0;34m,\u001b[0m\u001b[0;34m\u001b[0m\n",
       "\u001b[0;34m\u001b[0m    \u001b[0mcoarsen_factor\u001b[0m\u001b[0;34m=\u001b[0m\u001b[0;36m1\u001b[0m\u001b[0;34m,\u001b[0m\u001b[0;34m\u001b[0m\n",
       "\u001b[0;34m\u001b[0m    \u001b[0mbackreaction\u001b[0m\u001b[0;34m=\u001b[0m\u001b[0;32mTrue\u001b[0m\u001b[0;34m,\u001b[0m\u001b[0;34m\u001b[0m\n",
       "\u001b[0;34m\u001b[0m    \u001b[0mcompute_fs_method\u001b[0m\u001b[0;34m=\u001b[0m\u001b[0;34m'no_He'\u001b[0m\u001b[0;34m,\u001b[0m\u001b[0;34m\u001b[0m\n",
       "\u001b[0;34m\u001b[0m    \u001b[0mmxstep\u001b[0m\u001b[0;34m=\u001b[0m\u001b[0;36m1000\u001b[0m\u001b[0;34m,\u001b[0m\u001b[0;34m\u001b[0m\n",
       "\u001b[0;34m\u001b[0m    \u001b[0mrtol\u001b[0m\u001b[0;34m=\u001b[0m\u001b[0;36m0.0001\u001b[0m\u001b[0;34m,\u001b[0m\u001b[0;34m\u001b[0m\n",
       "\u001b[0;34m\u001b[0m    \u001b[0muse_tqdm\u001b[0m\u001b[0;34m=\u001b[0m\u001b[0;32mTrue\u001b[0m\u001b[0;34m,\u001b[0m\u001b[0;34m\u001b[0m\n",
       "\u001b[0;34m\u001b[0m    \u001b[0mcross_check\u001b[0m\u001b[0;34m=\u001b[0m\u001b[0;32mFalse\u001b[0m\u001b[0;34m,\u001b[0m\u001b[0;34m\u001b[0m\n",
       "\u001b[0;34m\u001b[0m    \u001b[0mtf_mode\u001b[0m\u001b[0;34m=\u001b[0m\u001b[0;34m'table'\u001b[0m\u001b[0;34m,\u001b[0m\u001b[0;34m\u001b[0m\n",
       "\u001b[0;34m\u001b[0m    \u001b[0mverbose\u001b[0m\u001b[0;34m=\u001b[0m\u001b[0;36m0\u001b[0m\u001b[0;34m,\u001b[0m\u001b[0;34m\u001b[0m\n",
       "\u001b[0;34m\u001b[0m\u001b[0;34m)\u001b[0m\u001b[0;34m\u001b[0m\u001b[0;34m\u001b[0m\u001b[0m\n",
       "\u001b[0;31mDocstring:\u001b[0m\n",
       "Main function computing histories and spectra. \n",
       "\n",
       "Parameters\n",
       "-----------\n",
       "in_spec_elec : :class:`.Spectrum` or function, optional\n",
       "    Spectrum per injection event into electrons. *in_spec_elec.rs*\n",
       "    of the :class:`.Spectrum` must be the initial redshift. \n",
       "    Alternatively, a function taking :math:`(1+z)` as input and output a\n",
       "    :class:`.Spectrum` object with the corresponding redshift.\n",
       "in_spec_phot : :class:`.Spectrum` or function, optional\n",
       "    Spectrum per injection event into photons. *in_spec_phot.rs* \n",
       "    of the :class:`.Spectrum` must be the initial redshift. \n",
       "    Alternatively, a function taking :math:`(1+z)` as input and output a\n",
       "    :class:`.Spectrum` object with the corresponding redshift.\n",
       "rate_func_N : function, optional\n",
       "    Function returning number of injection events per volume per time, with redshift :math:`(1+z)` as an input.  \n",
       "rate_func_eng : function, optional\n",
       "    Function returning energy injected per volume per time, with redshift :math:`(1+z)` as an input. \n",
       "DM_process : {'swave', 'decay'}, optional\n",
       "    Dark matter process to use. \n",
       "sigmav : float, optional\n",
       "    Thermally averaged cross section for dark matter annihilation. \n",
       "lifetime : float, optional\n",
       "    Decay lifetime for dark matter decay.\n",
       "primary : string, optional\n",
       "    Primary channel of annihilation/decay. See :func:`.get_pppc_spec` for complete list. Use *'elec_delta'* or *'phot_delta'* for delta function injections of a pair of photons/an electron-positron pair. \n",
       "struct_boost : function, optional\n",
       "    Energy injection boost factor due to structure formation.\n",
       "start_rs : float, optional\n",
       "    Starting redshift :math:`(1+z)` to evolve from. Default is :math:`(1+z)` = 3000. Specify only for use with *DM_process*. Otherwise, initialize *in_spec_elec.rs* and/or *in_spec_phot.rs* directly. \n",
       "end_rs : float, optional\n",
       "    Final redshift :math:`(1+z)` to evolve to. Default is 1+z = 4. \n",
       "reion_switch : bool\n",
       "    Reionization model included if *True*, default is *False*. \n",
       "helium_TLA : bool\n",
       "    If *True*, the TLA is solved with helium. Default is *False*.\n",
       "reion_rs : float, optional\n",
       "    Redshift :math:`(1+z)` at which reionization effects turn on. \n",
       "photoion_rate_func : tuple of functions, optional\n",
       "    Functions take redshift :math:`1+z` as input, return the photoionization rate in s\\ :sup:`-1` of HI, HeI and HeII respectively. If not specified, defaults to :func:`.photoion_rate`.\n",
       "photoheat_rate_func : tuple of functions, optional\n",
       "    Functions take redshift :math:`1+z` as input, return the photoheating rate in s\\ :sup:`-1` of HI, HeI and HeII respectively. If not specified, defaults to :func:`.photoheat_rate`.\n",
       "xe_reion_func : function, optional\n",
       "    Specifies a fixed ionization history after reion_rs.\n",
       "init_cond : tuple of floats\n",
       "    Specifies the initial (xH, xHe, Tm). Defaults to :func:`.Tm_std`, :func:`.xHII_std` and :func:`.xHeII_std` at the *start_rs*. \n",
       "coarsen_factor : int\n",
       "    Coarsening to apply to the transfer function matrix. Default is 1. \n",
       "backreaction : bool\n",
       "    If *False*, uses the baseline TLA solution to calculate :math:`f_c(z)`. Default is True.\n",
       "compute_fs_method : {'no_He', 'He_recomb', 'He'}\n",
       "\n",
       "mxstep : int, optional\n",
       "    The maximum number of steps allowed for each integration point. See *scipy.integrate.odeint()* for more information. Default is *1000*. \n",
       "rtol : float, optional\n",
       "    The relative error of the solution. See *scipy.integrate.odeint()* for more information. Default is *1e-4*.\n",
       "use_tqdm : bool, optional\n",
       "    Uses tqdm if *True*. Default is *True*. \n",
       "cross_check : bool, optional\n",
       "    If *True*, compare against 1604.02457 by using original MEDEA files, turning off partial binning, etc. Default is *False*.\n",
       "    \n",
       "tf_mode : {'table', 'nn'}\n",
       "    Specifies transfer function mode being used. Options: 'table': generate transfer functions from interpolating data tables; 'nn': use neural network to generate transfer functions with preset coarsen factor 12.\n",
       "verbose : {0, 1}\n",
       "    Set verbosity. Tqdm not affected.\n",
       "\n",
       "Examples\n",
       "--------\n",
       "\n",
       "1. *Dark matter annihilation* -- dark matter mass of 50 GeV, annihilation cross section :math:`2 \\times 10^{-26}` cm\\ :sup:`3` s\\ :sup:`-1`, annihilating to :math:`b \\bar{b}`, solved without backreaction, a coarsening factor of 32 and the default structure formation boost: ::\n",
       "\n",
       "    import darkhistory.physics as phys\n",
       "\n",
       "    out = evolve(\n",
       "        DM_process='swave', mDM=50e9, sigmav=2e-26, \n",
       "        primary='b', start_rs=3000., \n",
       "        backreaction=False,\n",
       "        struct_boost=phys.struct_boost_func()\n",
       "    )\n",
       "\n",
       "2. *Dark matter decay* -- dark matter mass of 100 GeV, decay lifetime :math:`3 \\times 10^{25}` s, decaying to a pair of :math:`e^+e^-`, solved with backreaction, a coarsening factor of 16: ::\n",
       "\n",
       "    out = evolve(\n",
       "        DM_process='decay', mDM=1e8, lifetime=3e25,\n",
       "        primary='elec_delta', start_rs=3000.,\n",
       "        backreaction=True\n",
       "    ) \n",
       "\n",
       "See Also\n",
       "---------\n",
       ":func:`.get_pppc_spec`\n",
       "\n",
       ":func:`.struct_boost_func`\n",
       "\n",
       ":func:`.photoion_rate`, :func:`.photoheat_rate`\n",
       "\n",
       ":func:`.Tm_std`, :func:`.xHII_std` and :func:`.xHeII_std`\n",
       "\u001b[0;31mFile:\u001b[0m      ~/darkhistory/DarkHistory/darkhistory/main.py\n",
       "\u001b[0;31mType:\u001b[0m      function"
      ]
     },
     "metadata": {},
     "output_type": "display_data"
    }
   ],
   "source": [
    "dh_evolve?"
   ]
  },
  {
   "cell_type": "code",
   "execution_count": null,
   "id": "93dad66d-054e-4dd2-9c5a-c6eeabc0b946",
   "metadata": {},
   "outputs": [],
   "source": []
  }
 ],
 "metadata": {
  "kernelspec": {
   "display_name": "Python [conda env:.conda-21cmfast] *",
   "language": "python",
   "name": "conda-env-.conda-21cmfast-py"
  },
  "language_info": {
   "codemirror_mode": {
    "name": "ipython",
    "version": 3
   },
   "file_extension": ".py",
   "mimetype": "text/x-python",
   "name": "python",
   "nbconvert_exporter": "python",
   "pygments_lexer": "ipython3",
   "version": "3.10.12"
  }
 },
 "nbformat": 4,
 "nbformat_minor": 5
}
