{
 "cells": [
  {
   "cell_type": "code",
   "execution_count": 2,
   "id": "0ca0886a-278e-4713-989e-27531e908286",
   "metadata": {},
   "outputs": [],
   "source": [
    "%reload_ext autoreload\n",
    "%autoreload 2\n",
    "\n",
    "import os, sys\n",
    "import pickle\n",
    "\n",
    "import numpy as np\n",
    "from scipy import interpolate\n",
    "\n",
    "%matplotlib inline\n",
    "import matplotlib as mpl\n",
    "import matplotlib.pyplot as plt\n",
    "mpl.rc_file('../../matplotlibrc')"
   ]
  },
  {
   "cell_type": "code",
   "execution_count": 3,
   "id": "7490182b-3388-43d6-95ed-aaa7df273c5c",
   "metadata": {},
   "outputs": [],
   "source": [
    "if os.environ['USER'] == 'yitians' and 'submit' in os.uname().nodename:\n",
    "    os.environ['DM21CM_DATA_DIR'] = '/data/submit/yitians/DM21cm/data'\n",
    "sys.path.append(os.environ['DH_DIR'])\n",
    "sys.path.append('..')"
   ]
  },
  {
   "cell_type": "code",
   "execution_count": 43,
   "id": "2b6eaffb-dcff-40ab-b5f1-21f61145876a",
   "metadata": {},
   "outputs": [],
   "source": [
    "import main\n",
    "\n",
    "import dm21cm.physics as phys\n",
    "import darkhistory.physics as dhphys"
   ]
  },
  {
   "cell_type": "markdown",
   "id": "3dfd9587-ef3e-4a8a-ab6b-5b8296bb88bd",
   "metadata": {},
   "source": [
    "## 1. DarkHistory runs"
   ]
  },
  {
   "cell_type": "code",
   "execution_count": 18,
   "id": "cc2fa77f-f8a7-4c1b-abce-d105f1e0a9fe",
   "metadata": {},
   "outputs": [],
   "source": [
    "base_21cmfast = np.load(f'../../data/run_info/base_records.npy', allow_pickle=True).item()\n",
    "\n",
    "start_rs = base_21cmfast['z'][0] + 1\n",
    "end_rs = base_21cmfast['z'][-1] + 1"
   ]
  },
  {
   "cell_type": "markdown",
   "id": "863e3bd4-dc3f-4969-a020-42180f6a5db3",
   "metadata": {},
   "source": [
    "### 1.1 Get recfast values"
   ]
  },
  {
   "cell_type": "code",
   "execution_count": 19,
   "id": "2380aa87-e6cf-4a3f-80bf-b18d93d95b8f",
   "metadata": {},
   "outputs": [],
   "source": [
    "run_name = 'base_recfast'\n",
    "\n",
    "rs_s = np.geomspace(start_rs, end_rs, 100)\n",
    "x_e_s = dhphys.xHII_std(rs_s)\n",
    "T_k_s = dhphys.Tm_std(rs_s) / phys.kB"
   ]
  },
  {
   "cell_type": "code",
   "execution_count": 20,
   "id": "b6ef3038-89fd-4121-ae0f-4eaa1223221a",
   "metadata": {},
   "outputs": [
    {
     "name": "stdout",
     "output_type": "stream",
     "text": [
      "base_recfast\n"
     ]
    }
   ],
   "source": [
    "arr_records = {\n",
    "    'z' : rs_s - 1,\n",
    "    'x_e' : x_e_s,\n",
    "    'T_k' : T_k_s,\n",
    "}\n",
    "print(run_name)"
   ]
  },
  {
   "cell_type": "code",
   "execution_count": 22,
   "id": "ae533f33-13ba-4b77-b287-8c2ad5ad3e5b",
   "metadata": {},
   "outputs": [],
   "source": [
    "np.save(f'../../data/run_info/DH/{run_name}_records', arr_records)"
   ]
  },
  {
   "cell_type": "markdown",
   "id": "856a4fcc-edb6-406b-a5ec-80be5d388458",
   "metadata": {},
   "source": [
    "### 1.2 force case A with fake reionization"
   ]
  },
  {
   "cell_type": "code",
   "execution_count": 42,
   "id": "d4bc556f-63b0-45e0-a368-5f4a9fc966c6",
   "metadata": {
    "tags": []
   },
   "outputs": [
    {
     "name": "stdout",
     "output_type": "stream",
     "text": [
      "Loading time: 0.016 s\n",
      "Initialization time: 0.047 s\n",
      "B1.1743e-02 B4.2103e-03 B1.1743e-02 B1.1743e-02 B1.1632e-02 B4.1372e-03 B1.1632e-02 B1.1632e-02 B1.1632e-02 B4.1364e-03 B1.1632e-02 B1.1632e-02 B1.1521e-02 B4.0639e-03 B1.1521e-02 B1.1521e-02 B1.1521e-02 B4.0631e-03 B1.1521e-02 B1.1521e-02 B1.1603e-02 B4.1171e-03 B1.1603e-02 B1.1603e-02 B1.1508e-02 B4.0553e-03 B1.1508e-02 B1.1508e-02 B1.1508e-02 B4.0547e-03 B1.1508e-02 B1.1508e-02 A4.0547e-03 A1.0137e-03 B1.1508e-02 A4.0547e-03 A1.0137e-03 A1.0137e-03 A4.0264e-03 A1.0066e-03 B1.1465e-02 A4.0264e-03 A1.0066e-03 A1.0066e-03 A4.0263e-03 A1.0066e-03 B1.1465e-02 A4.0263e-03 A1.0066e-03 A1.0066e-03 A4.0263e-03 A1.0066e-03 B1.1465e-02 A4.0263e-03 A1.0066e-03 A1.0066e-03 A3.9601e-03 A9.9003e-04 B1.1362e-02 A3.9601e-03 A9.9003e-04 A9.9003e-04 A3.9595e-03 A9.8987e-04 B1.1362e-02 A3.9595e-03 A9.8987e-04 A9.8987e-04 A3.9908e-03 A9.9771e-04 B1.1410e-02 A3.9908e-03 A9.9771e-04 A9.9771e-04 A3.9906e-03 A9.9766e-04 B1.1410e-02 A3.9906e-03 A9.9766e-04 A9.9766e-04 A3.9554e-03 A9.8884e-04 B1.1355e-02 A3.9554e-03 A9.8884e-04 A9.8884e-04 A3.9552e-03 A9.8879e-04 B1.1355e-02 A3.9552e-03 A9.8879e-04 A9.8879e-04 A3.8848e-03 A9.7120e-04 B1.1246e-02 A3.8848e-03 A9.7120e-04 A9.7120e-04 A3.8848e-03 A9.7120e-04 B1.1246e-02 A3.8848e-03 A9.7120e-04 A9.7120e-04 A3.9375e-03 A9.8436e-04 B1.1328e-02 A3.9375e-03 A9.8436e-04 A9.8436e-04 A3.8726e-03 A9.6816e-04 B1.1227e-02 A3.8726e-03 A9.6816e-04 A9.6816e-04 A3.8720e-03 A9.6799e-04 B1.1227e-02 A3.8720e-03 A9.6799e-04 A9.6799e-04 A3.9026e-03 A9.7564e-04 B1.1274e-02 A3.9026e-03 A9.7564e-04 A9.7564e-04 A3.9024e-03 A9.7559e-04 B1.1274e-02 A3.9024e-03 A9.7559e-04 A9.7559e-04 A3.8676e-03 A9.6690e-04 B1.1219e-02 A3.8676e-03 A9.6690e-04 A9.6690e-04 A3.8674e-03 A9.6685e-04 B1.1219e-02 A3.8674e-03 A9.6685e-04 A9.6685e-04 A3.7981e-03 A9.4951e-04 B1.1111e-02 A3.7981e-03 A9.4951e-04 A9.4951e-04 A3.7980e-03 A9.4951e-04 B1.1111e-02 A3.7980e-03 A9.4951e-04 A9.4951e-04 Main loop time: 1.094 s\n"
     ]
    }
   ],
   "source": [
    "run_name = 'base_caseA_in_reion'\n",
    "\n",
    "soln = main.evolve(\n",
    "    DM_process='swave', mDM=1e10, sigmav=1e-50, primary='phot_delta',\n",
    "    start_rs=50, end_rs=48,\n",
    "    coarsen_factor=12, backreaction=False, reion_switch=True,\n",
    "    struct_boost=phys.struct_boost_func('erfc 1e-3'),\n",
    "    reion_rs=49,\n",
    "    photoion_rate_func = [lambda rs: 0.] * 3,\n",
    "    photoheat_rate_func = [lambda rs: 0.] * 3,\n",
    "    use_tqdm=False, verbose=1\n",
    ")"
   ]
  },
  {
   "cell_type": "code",
   "execution_count": 31,
   "id": "bedad118-a790-44dd-803f-c3832d35e3ec",
   "metadata": {},
   "outputs": [],
   "source": [
    "pickle.dump(soln, open(f'../../data/run_info/DH/{run_name}_soln.p', 'wb'))"
   ]
  },
  {
   "cell_type": "markdown",
   "id": "ba7eb605-b9a4-4d9b-9fd0-37606e22a9d8",
   "metadata": {},
   "source": [
    "### 1.3 custom injection"
   ]
  },
  {
   "cell_type": "code",
   "execution_count": null,
   "id": "3179d1c9-21a8-4977-b6f6-15e8b2ecc898",
   "metadata": {},
   "outputs": [],
   "source": [
    "import darkhistory.physics as dhphys\n",
    "from darkhistory.spec import pppc\n",
    "from config import load_data"
   ]
  },
  {
   "cell_type": "code",
   "execution_count": null,
   "id": "051b607d-0994-43f0-92da-01515a75e5e4",
   "metadata": {},
   "outputs": [],
   "source": [
    "# custom xe levels\n",
    "def x_reion_func(rs):\n",
    "    # extrapolate z low so that darkhistory doesn't complain\n",
    "    z_arr = base_records['z'].copy()\n",
    "    z_arr = np.append(z_arr, 2 * z_arr[-1] - z_arr[-2])\n",
    "    x_e_arr = base_records['x_e'].copy()\n",
    "    x_e_arr = np.append(x_e_arr, x_e_arr[-1])\n",
    "    return interpolate.interp1d(1 + z_arr, x_e_arr)(rs)"
   ]
  },
  {
   "cell_type": "code",
   "execution_count": 21,
   "id": "2fd4cb11-44ab-444a-9c51-164b51739ff8",
   "metadata": {},
   "outputs": [],
   "source": [
    "run_name = 'phph_turnon_z35_comp'\n",
    "\n",
    "mDM = 1e10\n",
    "sigmav = 1e-23\n",
    "struct_boost = phys.struct_boost_func('erfc 1e-3')\n",
    "\n",
    "photeng = load_data('binning')['phot']\n",
    "eleceng = load_data('binning')['elec']\n",
    "\n",
    "def in_spec_elec_func(rs):\n",
    "    in_spec_elec = pppc.get_pppc_spec(1e10, eleceng, 'phot_delta', 'elec')\n",
    "    in_spec_elec.rs = rs\n",
    "    if rs > 36:\n",
    "        in_spec_elec *= 0\n",
    "    return in_spec_elec\n",
    "\n",
    "def in_spec_phot_func(rs):\n",
    "    in_spec_phot = pppc.get_pppc_spec(1e10, photeng, 'phot_delta', 'phot')\n",
    "    in_spec_phot.rs = rs\n",
    "    if rs > 36:\n",
    "        in_spec_phot *= 0\n",
    "    return in_spec_phot\n",
    "\n",
    "def rate_func_N(rs):\n",
    "    return (\n",
    "        dhphys.inj_rate('swave', rs, mDM=mDM, sigmav=sigmav)\n",
    "        * struct_boost(rs) / (2*mDM)\n",
    "    )\n",
    "def rate_func_eng(rs):\n",
    "    return (\n",
    "        dhphys.inj_rate('swave', rs, mDM=mDM, sigmav=sigmav) \n",
    "        * struct_boost(rs)\n",
    "    )"
   ]
  },
  {
   "cell_type": "code",
   "execution_count": 25,
   "id": "7b8a2e51-07e5-48a0-b9a9-be98acb536c1",
   "metadata": {
    "tags": []
   },
   "outputs": [
    {
     "name": "stdout",
     "output_type": "stream",
     "text": [
      "Loading time: 0.000 s\n",
      "Initialization time: 0.004 s\n",
      "Main loop time: 49.761 s\n"
     ]
    }
   ],
   "source": [
    "soln = main.evolve(\n",
    "    in_spec_elec = in_spec_elec_func,\n",
    "    in_spec_phot = in_spec_phot_func,\n",
    "    rate_func_N = rate_func_N,\n",
    "    rate_func_eng = rate_func_eng,\n",
    "    start_rs=3000, end_rs=7,\n",
    "    coarsen_factor=12, backreaction=True, reion_switch=True,\n",
    "    struct_boost=phys.struct_boost_func('erfc 1e-3'),\n",
    "    verbose=1,\n",
    "    use_tqdm=False\n",
    ")"
   ]
  },
  {
   "cell_type": "markdown",
   "id": "c71c3927-d2bf-4da9-9464-220307b2a16f",
   "metadata": {},
   "source": [
    "## 2. Make arr_records and save"
   ]
  },
  {
   "cell_type": "code",
   "execution_count": 25,
   "id": "fae168e2-1f28-45fc-8ab7-a1a48fc8ad72",
   "metadata": {},
   "outputs": [
    {
     "name": "stdout",
     "output_type": "stream",
     "text": [
      "base_caseA_in_reion\n"
     ]
    }
   ],
   "source": [
    "arr_records = {\n",
    "    'z' : soln['rs'] - 1,\n",
    "    'x_e' : soln['x'][:,0],\n",
    "    'T_k' : soln['Tm']/phys.kB,\n",
    "    'f_heat' : soln['f']['low']['heat'] + soln['f']['high']['heat'],\n",
    "    'f_ion' : soln['f']['low']['H ion']  + soln['f']['high']['H ion'] + \\\n",
    "              soln['f']['low']['He ion'] + soln['f']['high']['He ion'],\n",
    "    'f_exc' : soln['f']['low']['exc'] + soln['f']['high']['exc'],\n",
    "}\n",
    "\n",
    "z_low, z_high = 6, 44\n",
    "z_arr = arr_records['z'][::-1]\n",
    "i_low = np.searchsorted(z_arr, z_low)\n",
    "i_high = np.searchsorted(z_arr, z_high)\n",
    "\n",
    "for k in arr_records.keys():\n",
    "    arr_records[k] = arr_records[k][::-1][i_low:i_high]\n",
    "    \n",
    "print(run_name)"
   ]
  },
  {
   "cell_type": "code",
   "execution_count": 27,
   "id": "88d1a173-f450-4d42-8102-017ee37ae0a4",
   "metadata": {},
   "outputs": [],
   "source": [
    "np.save(f'../../data/run_info/DH/{run_name}_records', arr_records)"
   ]
  },
  {
   "cell_type": "code",
   "execution_count": null,
   "id": "0afd1ef6-39f0-4b37-a5b6-ab7ac74cae93",
   "metadata": {},
   "outputs": [],
   "source": []
  }
 ],
 "metadata": {
  "kernelspec": {
   "display_name": "21cmfast",
   "language": "python",
   "name": "21cmfast"
  },
  "language_info": {
   "codemirror_mode": {
    "name": "ipython",
    "version": 3
   },
   "file_extension": ".py",
   "mimetype": "text/x-python",
   "name": "python",
   "nbconvert_exporter": "python",
   "pygments_lexer": "ipython3",
   "version": "3.7.12"
  }
 },
 "nbformat": 4,
 "nbformat_minor": 5
}
