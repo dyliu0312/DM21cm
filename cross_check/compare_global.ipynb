{
 "cells": [
  {
   "cell_type": "code",
   "execution_count": 12,
   "metadata": {},
   "outputs": [],
   "source": [
    "%reload_ext autoreload\n",
    "%autoreload 2\n",
    "\n",
    "import os\n",
    "import sys\n",
    "import pickle\n",
    "import numpy as np\n",
    "\n",
    "import py21cmfast as p21c\n",
    "from astropy.cosmology import Planck18\n",
    "\n",
    "sys.path.append(\"..\")\n",
    "from dm21cm.dm_params import DMParams\n",
    "from dm21cm.evolve import evolve\n",
    "import dm21cm.physics as phys\n",
    "\n",
    "sys.path.append(os.environ['DH_DIR'])\n",
    "from darkhistory.main import evolve as evolve_DH"
   ]
  },
  {
   "cell_type": "markdown",
   "metadata": {},
   "source": [
    "## DMParam"
   ]
  },
  {
   "cell_type": "code",
   "execution_count": 13,
   "metadata": {},
   "outputs": [],
   "source": [
    "dm_params = DMParams(\n",
    "    mode = 'swave',\n",
    "    primary = 'phot_delta',\n",
    "    m_DM = 1e1,\n",
    "    sigmav = 1e-50,\n",
    "    struct_boost_model = 'erfc 1e-3',\n",
    ")"
   ]
  },
  {
   "cell_type": "markdown",
   "metadata": {},
   "source": [
    "## DarkHistory"
   ]
  },
  {
   "cell_type": "code",
   "execution_count": 14,
   "metadata": {},
   "outputs": [
    {
     "name": "stdout",
     "output_type": "stream",
     "text": [
      "****** Loading transfer functions... ******\n",
      "Using data at /n/holyscratch01/iaifi_lab/yitians/darkhistory/DHdata_v1_1\n",
      "    for propagating photons...  "
     ]
    },
    {
     "name": "stdout",
     "output_type": "stream",
     "text": [
      " Done!\n",
      "    for low-energy photons...  Done!\n",
      "    for low-energy electrons...  Done!\n",
      "    for high-energy deposition...  Done!\n",
      "    for total upscattered CMB energy rate...  Done!\n",
      "****** Loading complete! ******\n",
      "****** Loading transfer functions... ******\n",
      "    for inverse Compton (Thomson)...  Done!\n",
      "    for inverse Compton (relativistic)...  Done!\n",
      "    for inverse Compton (energy loss)...  Done!\n",
      "****** Loading complete! ******\n",
      "Loading time: 34.676 s\n"
     ]
    },
    {
     "name": "stderr",
     "output_type": "stream",
     "text": [
      "  0%|          | 0/518 [00:00<?, ?it/s]"
     ]
    },
    {
     "name": "stdout",
     "output_type": "stream",
     "text": [
      "Initialization time: 0.070 s\n"
     ]
    },
    {
     "name": "stderr",
     "output_type": "stream",
     "text": [
      "100%|██████████| 518/518 [01:33<00:00,  5.54it/s]\n"
     ]
    },
    {
     "name": "stdout",
     "output_type": "stream",
     "text": [
      "Main loop time: 93.483 s\n"
     ]
    }
   ],
   "source": [
    "soln = evolve_DH(\n",
    "    DM_process=dm_params.mode, mDM=dm_params.m_DM,\n",
    "    primary=dm_params.primary,\n",
    "    sigmav=dm_params.sigmav, lifetime=dm_params.lifetime,\n",
    "    struct_boost=dm_params.struct_boost,\n",
    "    start_rs=3000, end_rs=5.+1, coarsen_factor=12, verbose=1,\n",
    "    reion_switch=False\n",
    ")"
   ]
  },
  {
   "cell_type": "code",
   "execution_count": 15,
   "metadata": {},
   "outputs": [],
   "source": [
    "save_dir = \"../data/run_info/DH\"\n",
    "pickle.dump(soln, open(f\"{save_dir}/base_soln.p\", 'wb'))"
   ]
  },
  {
   "cell_type": "code",
   "execution_count": 16,
   "metadata": {},
   "outputs": [
    {
     "name": "stderr",
     "output_type": "stream",
     "text": [
      "/n/home07/yitians/.conda/envs/dm21cm/lib/python3.11/site-packages/py21cmfast/inputs.py:487: UserWarning: The USE_INTERPOLATION_TABLES setting has changed in v3.1.2 to be default True. You can likely ignore this warning, but if you relied onhaving USE_INTERPOLATION_TABLES=False by *default*, please set it explicitly. To silence this warning, set it explicitly to True. Thiswarning will be removed in v4.\n",
      "  warnings.warn(\n",
      "INFO:root:Using 21cmFAST version 0.1.dev1579+g6b1da6d.d20230914\n",
      "INFO:root:Cache dir: /n/holyscratch01/iaifi_lab/yitians/21cmFAST-cache/base\n",
      "INFO:jax._src.xla_bridge:Unable to initialize backend 'rocm': NOT_FOUND: Could not find registered platform with name: \"rocm\". Available platform names are: Interpreter CUDA\n",
      "INFO:jax._src.xla_bridge:Unable to initialize backend 'tpu': module 'jaxlib.xla_extension' has no attribute 'get_tpu_client'\n",
      "INFO:root:TransferFunctionWrapper: Loaded photon transfer functions.\n",
      "INFO:root:TransferFunctionWrapper: Loaded electron transfer functions.\n",
      "INFO:root:DarkHistoryWrapper: Running DarkHistory to generate initial conditions...\n"
     ]
    },
    {
     "name": "stdout",
     "output_type": "stream",
     "text": [
      "Loading time: 0.000 s\n"
     ]
    },
    {
     "name": "stderr",
     "output_type": "stream",
     "text": [
      "  1%|          | 2/357 [00:00<00:34, 10.37it/s]"
     ]
    },
    {
     "name": "stdout",
     "output_type": "stream",
     "text": [
      "Initialization time: 0.023 s\n"
     ]
    },
    {
     "name": "stderr",
     "output_type": "stream",
     "text": [
      "100%|██████████| 357/357 [01:02<00:00,  5.69it/s]\n"
     ]
    },
    {
     "name": "stdout",
     "output_type": "stream",
     "text": [
      "Main loop time: 62.770 s\n"
     ]
    },
    {
     "name": "stderr",
     "output_type": "stream",
     "text": [
      "INFO:root:DarkHistoryWrapper: Saved DarkHistory initial conditions.\n",
      "  1%|          | 2/205 [00:08<13:53,  4.11s/it]\n"
     ]
    },
    {
     "ename": "ValueError",
     "evalue": "input_heating.input_heating has NaNs",
     "output_type": "error",
     "traceback": [
      "\u001b[0;31m---------------------------------------------------------------------------\u001b[0m",
      "\u001b[0;31mValueError\u001b[0m                                Traceback (most recent call last)",
      "\u001b[1;32m/n/home07/yitians/dm21cm/DM21cm/cross_check/compare_global.ipynb Cell 7\u001b[0m line \u001b[0;36m1\n\u001b[0;32m----> <a href='vscode-notebook-cell://tunnel%2Bholygpu8a27102rcfasharvardedu/n/home07/yitians/dm21cm/DM21cm/cross_check/compare_global.ipynb#W6sdnNjb2RlLXJlbW90ZQ%3D%3D?line=0'>1</a>\u001b[0m return_dict \u001b[39m=\u001b[39m evolve(\n\u001b[1;32m      <a href='vscode-notebook-cell://tunnel%2Bholygpu8a27102rcfasharvardedu/n/home07/yitians/dm21cm/DM21cm/cross_check/compare_global.ipynb#W6sdnNjb2RlLXJlbW90ZQ%3D%3D?line=1'>2</a>\u001b[0m     run_name \u001b[39m=\u001b[39;49m \u001b[39m'\u001b[39;49m\u001b[39mbase\u001b[39;49m\u001b[39m'\u001b[39;49m,\n\u001b[1;32m      <a href='vscode-notebook-cell://tunnel%2Bholygpu8a27102rcfasharvardedu/n/home07/yitians/dm21cm/DM21cm/cross_check/compare_global.ipynb#W6sdnNjb2RlLXJlbW90ZQ%3D%3D?line=2'>3</a>\u001b[0m     z_start \u001b[39m=\u001b[39;49m \u001b[39m45.\u001b[39;49m,\n\u001b[1;32m      <a href='vscode-notebook-cell://tunnel%2Bholygpu8a27102rcfasharvardedu/n/home07/yitians/dm21cm/DM21cm/cross_check/compare_global.ipynb#W6sdnNjb2RlLXJlbW90ZQ%3D%3D?line=3'>4</a>\u001b[0m     z_end \u001b[39m=\u001b[39;49m \u001b[39m5.\u001b[39;49m,\n\u001b[1;32m      <a href='vscode-notebook-cell://tunnel%2Bholygpu8a27102rcfasharvardedu/n/home07/yitians/dm21cm/DM21cm/cross_check/compare_global.ipynb#W6sdnNjb2RlLXJlbW90ZQ%3D%3D?line=4'>5</a>\u001b[0m     zplusone_step_factor \u001b[39m=\u001b[39;49m \u001b[39m1.01\u001b[39;49m,\n\u001b[1;32m      <a href='vscode-notebook-cell://tunnel%2Bholygpu8a27102rcfasharvardedu/n/home07/yitians/dm21cm/DM21cm/cross_check/compare_global.ipynb#W6sdnNjb2RlLXJlbW90ZQ%3D%3D?line=5'>6</a>\u001b[0m     dm_params \u001b[39m=\u001b[39;49m dm_params,\n\u001b[1;32m      <a href='vscode-notebook-cell://tunnel%2Bholygpu8a27102rcfasharvardedu/n/home07/yitians/dm21cm/DM21cm/cross_check/compare_global.ipynb#W6sdnNjb2RlLXJlbW90ZQ%3D%3D?line=6'>7</a>\u001b[0m     enable_elec \u001b[39m=\u001b[39;49m \u001b[39mTrue\u001b[39;49;00m,\n\u001b[1;32m      <a href='vscode-notebook-cell://tunnel%2Bholygpu8a27102rcfasharvardedu/n/home07/yitians/dm21cm/DM21cm/cross_check/compare_global.ipynb#W6sdnNjb2RlLXJlbW90ZQ%3D%3D?line=7'>8</a>\u001b[0m     tf_version \u001b[39m=\u001b[39;49m \u001b[39m'\u001b[39;49m\u001b[39m230629\u001b[39;49m\u001b[39m'\u001b[39;49m,\n\u001b[1;32m      <a href='vscode-notebook-cell://tunnel%2Bholygpu8a27102rcfasharvardedu/n/home07/yitians/dm21cm/DM21cm/cross_check/compare_global.ipynb#W6sdnNjb2RlLXJlbW90ZQ%3D%3D?line=8'>9</a>\u001b[0m     \n\u001b[1;32m     <a href='vscode-notebook-cell://tunnel%2Bholygpu8a27102rcfasharvardedu/n/home07/yitians/dm21cm/DM21cm/cross_check/compare_global.ipynb#W6sdnNjb2RlLXJlbW90ZQ%3D%3D?line=9'>10</a>\u001b[0m     p21c_initial_conditions \u001b[39m=\u001b[39;49m p21c\u001b[39m.\u001b[39;49minitial_conditions(\n\u001b[1;32m     <a href='vscode-notebook-cell://tunnel%2Bholygpu8a27102rcfasharvardedu/n/home07/yitians/dm21cm/DM21cm/cross_check/compare_global.ipynb#W6sdnNjb2RlLXJlbW90ZQ%3D%3D?line=10'>11</a>\u001b[0m         user_params \u001b[39m=\u001b[39;49m p21c\u001b[39m.\u001b[39;49mUserParams(\n\u001b[1;32m     <a href='vscode-notebook-cell://tunnel%2Bholygpu8a27102rcfasharvardedu/n/home07/yitians/dm21cm/DM21cm/cross_check/compare_global.ipynb#W6sdnNjb2RlLXJlbW90ZQ%3D%3D?line=11'>12</a>\u001b[0m             HII_DIM \u001b[39m=\u001b[39;49m \u001b[39m64\u001b[39;49m,\n\u001b[1;32m     <a href='vscode-notebook-cell://tunnel%2Bholygpu8a27102rcfasharvardedu/n/home07/yitians/dm21cm/DM21cm/cross_check/compare_global.ipynb#W6sdnNjb2RlLXJlbW90ZQ%3D%3D?line=12'>13</a>\u001b[0m             BOX_LEN \u001b[39m=\u001b[39;49m \u001b[39m64\u001b[39;49m \u001b[39m*\u001b[39;49m \u001b[39m2\u001b[39;49m, \u001b[39m# [conformal Mpc]\u001b[39;49;00m\n\u001b[1;32m     <a href='vscode-notebook-cell://tunnel%2Bholygpu8a27102rcfasharvardedu/n/home07/yitians/dm21cm/DM21cm/cross_check/compare_global.ipynb#W6sdnNjb2RlLXJlbW90ZQ%3D%3D?line=13'>14</a>\u001b[0m             N_THREADS \u001b[39m=\u001b[39;49m \u001b[39m32\u001b[39;49m,\n\u001b[1;32m     <a href='vscode-notebook-cell://tunnel%2Bholygpu8a27102rcfasharvardedu/n/home07/yitians/dm21cm/DM21cm/cross_check/compare_global.ipynb#W6sdnNjb2RlLXJlbW90ZQ%3D%3D?line=14'>15</a>\u001b[0m         ),\n\u001b[1;32m     <a href='vscode-notebook-cell://tunnel%2Bholygpu8a27102rcfasharvardedu/n/home07/yitians/dm21cm/DM21cm/cross_check/compare_global.ipynb#W6sdnNjb2RlLXJlbW90ZQ%3D%3D?line=15'>16</a>\u001b[0m         cosmo_params \u001b[39m=\u001b[39;49m p21c\u001b[39m.\u001b[39;49mCosmoParams(\n\u001b[1;32m     <a href='vscode-notebook-cell://tunnel%2Bholygpu8a27102rcfasharvardedu/n/home07/yitians/dm21cm/DM21cm/cross_check/compare_global.ipynb#W6sdnNjb2RlLXJlbW90ZQ%3D%3D?line=16'>17</a>\u001b[0m             OMm \u001b[39m=\u001b[39;49m Planck18\u001b[39m.\u001b[39;49mOm0,\n\u001b[1;32m     <a href='vscode-notebook-cell://tunnel%2Bholygpu8a27102rcfasharvardedu/n/home07/yitians/dm21cm/DM21cm/cross_check/compare_global.ipynb#W6sdnNjb2RlLXJlbW90ZQ%3D%3D?line=17'>18</a>\u001b[0m             OMb \u001b[39m=\u001b[39;49m Planck18\u001b[39m.\u001b[39;49mOb0,\n\u001b[1;32m     <a href='vscode-notebook-cell://tunnel%2Bholygpu8a27102rcfasharvardedu/n/home07/yitians/dm21cm/DM21cm/cross_check/compare_global.ipynb#W6sdnNjb2RlLXJlbW90ZQ%3D%3D?line=18'>19</a>\u001b[0m             POWER_INDEX \u001b[39m=\u001b[39;49m Planck18\u001b[39m.\u001b[39;49mmeta[\u001b[39m'\u001b[39;49m\u001b[39mn\u001b[39;49m\u001b[39m'\u001b[39;49m],\n\u001b[1;32m     <a href='vscode-notebook-cell://tunnel%2Bholygpu8a27102rcfasharvardedu/n/home07/yitians/dm21cm/DM21cm/cross_check/compare_global.ipynb#W6sdnNjb2RlLXJlbW90ZQ%3D%3D?line=19'>20</a>\u001b[0m             SIGMA_8 \u001b[39m=\u001b[39;49m Planck18\u001b[39m.\u001b[39;49mmeta[\u001b[39m'\u001b[39;49m\u001b[39msigma8\u001b[39;49m\u001b[39m'\u001b[39;49m],\n\u001b[1;32m     <a href='vscode-notebook-cell://tunnel%2Bholygpu8a27102rcfasharvardedu/n/home07/yitians/dm21cm/DM21cm/cross_check/compare_global.ipynb#W6sdnNjb2RlLXJlbW90ZQ%3D%3D?line=20'>21</a>\u001b[0m             hlittle \u001b[39m=\u001b[39;49m Planck18\u001b[39m.\u001b[39;49mh,\n\u001b[1;32m     <a href='vscode-notebook-cell://tunnel%2Bholygpu8a27102rcfasharvardedu/n/home07/yitians/dm21cm/DM21cm/cross_check/compare_global.ipynb#W6sdnNjb2RlLXJlbW90ZQ%3D%3D?line=21'>22</a>\u001b[0m         ),\n\u001b[1;32m     <a href='vscode-notebook-cell://tunnel%2Bholygpu8a27102rcfasharvardedu/n/home07/yitians/dm21cm/DM21cm/cross_check/compare_global.ipynb#W6sdnNjb2RlLXJlbW90ZQ%3D%3D?line=22'>23</a>\u001b[0m         random_seed \u001b[39m=\u001b[39;49m \u001b[39m54321\u001b[39;49m,\n\u001b[1;32m     <a href='vscode-notebook-cell://tunnel%2Bholygpu8a27102rcfasharvardedu/n/home07/yitians/dm21cm/DM21cm/cross_check/compare_global.ipynb#W6sdnNjb2RlLXJlbW90ZQ%3D%3D?line=23'>24</a>\u001b[0m         write \u001b[39m=\u001b[39;49m \u001b[39mTrue\u001b[39;49;00m,\n\u001b[1;32m     <a href='vscode-notebook-cell://tunnel%2Bholygpu8a27102rcfasharvardedu/n/home07/yitians/dm21cm/DM21cm/cross_check/compare_global.ipynb#W6sdnNjb2RlLXJlbW90ZQ%3D%3D?line=24'>25</a>\u001b[0m     ),\n\u001b[1;32m     <a href='vscode-notebook-cell://tunnel%2Bholygpu8a27102rcfasharvardedu/n/home07/yitians/dm21cm/DM21cm/cross_check/compare_global.ipynb#W6sdnNjb2RlLXJlbW90ZQ%3D%3D?line=25'>26</a>\u001b[0m     \n\u001b[1;32m     <a href='vscode-notebook-cell://tunnel%2Bholygpu8a27102rcfasharvardedu/n/home07/yitians/dm21cm/DM21cm/cross_check/compare_global.ipynb#W6sdnNjb2RlLXJlbW90ZQ%3D%3D?line=26'>27</a>\u001b[0m     rerun_DH \u001b[39m=\u001b[39;49m \u001b[39mTrue\u001b[39;49;00m,\n\u001b[1;32m     <a href='vscode-notebook-cell://tunnel%2Bholygpu8a27102rcfasharvardedu/n/home07/yitians/dm21cm/DM21cm/cross_check/compare_global.ipynb#W6sdnNjb2RlLXJlbW90ZQ%3D%3D?line=27'>28</a>\u001b[0m     clear_cache \u001b[39m=\u001b[39;49m \u001b[39mTrue\u001b[39;49;00m,\n\u001b[1;32m     <a href='vscode-notebook-cell://tunnel%2Bholygpu8a27102rcfasharvardedu/n/home07/yitians/dm21cm/DM21cm/cross_check/compare_global.ipynb#W6sdnNjb2RlLXJlbW90ZQ%3D%3D?line=28'>29</a>\u001b[0m     use_tqdm \u001b[39m=\u001b[39;49m \u001b[39mTrue\u001b[39;49;00m,\n\u001b[1;32m     <a href='vscode-notebook-cell://tunnel%2Bholygpu8a27102rcfasharvardedu/n/home07/yitians/dm21cm/DM21cm/cross_check/compare_global.ipynb#W6sdnNjb2RlLXJlbW90ZQ%3D%3D?line=29'>30</a>\u001b[0m )\n",
      "File \u001b[0;32m~/dm21cm/DM21cm/cross_check/../dm21cm/evolve.py:174\u001b[0m, in \u001b[0;36mevolve\u001b[0;34m(run_name, z_start, z_end, zplusone_step_factor, dm_params, enable_elec, tf_version, p21c_initial_conditions, rerun_DH, clear_cache, use_tqdm, debug_flag)\u001b[0m\n\u001b[1;32m    172\u001b[0m \u001b[39mif\u001b[39;00m i_z \u001b[39m>\u001b[39m \u001b[39m0\u001b[39m:\n\u001b[1;32m    173\u001b[0m     \u001b[39mif\u001b[39;00m np\u001b[39m.\u001b[39many(np\u001b[39m.\u001b[39misnan(input_heating\u001b[39m.\u001b[39minput_heating)):\n\u001b[0;32m--> 174\u001b[0m         \u001b[39mraise\u001b[39;00m \u001b[39mValueError\u001b[39;00m(\u001b[39m'\u001b[39m\u001b[39minput_heating.input_heating has NaNs\u001b[39m\u001b[39m'\u001b[39m)\n\u001b[1;32m    175\u001b[0m     \u001b[39mif\u001b[39;00m np\u001b[39m.\u001b[39many(np\u001b[39m.\u001b[39misnan(input_ionization\u001b[39m.\u001b[39minput_ionization)):\n\u001b[1;32m    176\u001b[0m         \u001b[39mraise\u001b[39;00m \u001b[39mValueError\u001b[39;00m(\u001b[39m'\u001b[39m\u001b[39minput_ionization.input_ionization has NaNs\u001b[39m\u001b[39m'\u001b[39m)\n",
      "\u001b[0;31mValueError\u001b[0m: input_heating.input_heating has NaNs"
     ]
    }
   ],
   "source": [
    "return_dict = evolve(\n",
    "    run_name = 'base',\n",
    "    z_start = 45.,\n",
    "    z_end = 5.,\n",
    "    zplusone_step_factor = 1.01,\n",
    "    dm_params = dm_params,\n",
    "    enable_elec = True,\n",
    "    tf_version = '230629',\n",
    "    \n",
    "    p21c_initial_conditions = p21c.initial_conditions(\n",
    "        user_params = p21c.UserParams(\n",
    "            HII_DIM = 64,\n",
    "            BOX_LEN = 64 * 2, # [conformal Mpc]\n",
    "            N_THREADS = 32,\n",
    "        ),\n",
    "        cosmo_params = p21c.CosmoParams(\n",
    "            OMm = Planck18.Om0,\n",
    "            OMb = Planck18.Ob0,\n",
    "            POWER_INDEX = Planck18.meta['n'],\n",
    "            SIGMA_8 = Planck18.meta['sigma8'],\n",
    "            hlittle = Planck18.h,\n",
    "        ),\n",
    "        random_seed = 54321,\n",
    "        write = True,\n",
    "    ),\n",
    "    \n",
    "    rerun_DH = True,\n",
    "    clear_cache = True,\n",
    "    use_tqdm = True,\n",
    ")"
   ]
  },
  {
   "cell_type": "markdown",
   "metadata": {},
   "source": [
    "## compare"
   ]
  },
  {
   "cell_type": "code",
   "execution_count": 2,
   "metadata": {},
   "outputs": [],
   "source": [
    "%matplotlib inline\n",
    "import matplotlib as mpl\n",
    "import matplotlib.pyplot as plt\n",
    "mpl.rc_file('../matplotlibrc')"
   ]
  },
  {
   "cell_type": "code",
   "execution_count": 3,
   "metadata": {},
   "outputs": [],
   "source": [
    "dh_soln = pickle.load(open(f\"../data/run_info/DH/ee_swave_soln.p\", 'rb'))\n",
    "soln = np.load(f\"../data/run_info/ee_swave_records.npy\", allow_pickle=True).item()"
   ]
  },
  {
   "cell_type": "code",
   "execution_count": null,
   "metadata": {},
   "outputs": [],
   "source": [
    "fig, axs = plt.subplots(1, 3, figsize=(15, 5))\n",
    "\n",
    "ax = axs[0]\n",
    "ax.plot(dh_soln['rs'] - 1, dh_soln['Tm']/phys.kB, label='DarkHistory')\n",
    "ax.plot(soln['z'], soln['T_k'], label='dm21cm')\n",
    "ax.set(xlim=(5, 50), xscale='log', yscale='log')\n",
    "ax.set(xlabel='z', ylabel='T [K]')\n",
    "\n",
    "ax = axs[1]\n",
    "ax.plot(dh_soln['rs'] - 1, dh_soln['x'][:, 0], label='DarkHistory')\n",
    "ax.plot(soln['z'], soln['x_e'], label='dm21cm')\n",
    "ax.set(xlim=(5, 50))"
   ]
  },
  {
   "cell_type": "code",
   "execution_count": null,
   "metadata": {},
   "outputs": [],
   "source": []
  },
  {
   "cell_type": "markdown",
   "metadata": {},
   "source": [
    "## DEBUG"
   ]
  },
  {
   "cell_type": "code",
   "execution_count": null,
   "metadata": {},
   "outputs": [],
   "source": []
  }
 ],
 "metadata": {
  "kernelspec": {
   "display_name": "dm21cm",
   "language": "python",
   "name": "python3"
  },
  "language_info": {
   "codemirror_mode": {
    "name": "ipython",
    "version": 3
   },
   "file_extension": ".py",
   "mimetype": "text/x-python",
   "name": "python",
   "nbconvert_exporter": "python",
   "pygments_lexer": "ipython3",
   "version": "3.11.5"
  },
  "orig_nbformat": 4
 },
 "nbformat": 4,
 "nbformat_minor": 2
}
