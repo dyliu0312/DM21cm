{
 "cells": [
  {
   "cell_type": "code",
   "execution_count": 27,
   "id": "8373c1e7-78b1-4c6d-a490-bc25428b1bab",
   "metadata": {
    "tags": []
   },
   "outputs": [],
   "source": [
    "%reload_ext autoreload\n",
    "%autoreload 2\n",
    "\n",
    "import os\n",
    "import sys\n",
    "import pickle\n",
    "import logging\n",
    "from tqdm import tqdm\n",
    "\n",
    "import numpy as np\n",
    "from scipy import interpolate\n",
    "import jax.numpy as jnp\n",
    "\n",
    "sys.path.append(os.environ['DM21CM_DIR'])\n",
    "import dm21cm.physics as phys\n",
    "from dm21cm.data_loader import load_data\n",
    "from dm21cm.dm_params import DMParams\n",
    "from dm21cm.evolve import get_z_edges\n",
    "\n",
    "sys.path.append(os.environ['DH_DIR'])\n",
    "from darkhistory.spec.spectrum import Spectrum\n",
    "from darkhistory.main import evolve as dh_evolve\n",
    "from darkhistory.config import load_data as dh_load_data\n",
    "import darkhistory.physics as dh_phys\n",
    "\n",
    "%matplotlib inline\n",
    "import matplotlib as mpl\n",
    "import matplotlib.pyplot as plt\n",
    "mpl.rc_file(\"../matplotlibrc\")"
   ]
  },
  {
   "cell_type": "code",
   "execution_count": 4,
   "id": "b0809c52-7bee-4fc7-91e8-dfcadbd0d0d1",
   "metadata": {
    "tags": []
   },
   "outputs": [
    {
     "name": "stderr",
     "output_type": "stream",
     "text": [
      "INFO:root:Loaded photon deposition transfer function.\n"
     ]
    }
   ],
   "source": [
    "dep_tf = load_data(\n",
    "    'phot_dep',\n",
    "    prefix=os.environ['DM21CM_DATA_DIR'] + '/tf/230408x/phot',\n",
    "    reload=True\n",
    ")"
   ]
  },
  {
   "cell_type": "code",
   "execution_count": 8,
   "id": "fe4ed0fb-88c6-4309-8a03-63daa8fd329c",
   "metadata": {
    "tags": []
   },
   "outputs": [],
   "source": [
    "spec_N = np.zeros((500,))\n",
    "spec_N[300] = 1."
   ]
  },
  {
   "cell_type": "code",
   "execution_count": 36,
   "id": "28e3a2ca-3e0a-4e93-80a1-7f6e6a40c987",
   "metadata": {
    "tags": []
   },
   "outputs": [],
   "source": [
    "rs = 29.97\n",
    "x = 1e-2\n",
    "nBs = 1"
   ]
  },
  {
   "cell_type": "code",
   "execution_count": 37,
   "id": "138fcc36-07cb-45f2-977d-c1b4819f2836",
   "metadata": {
    "tags": []
   },
   "outputs": [],
   "source": [
    "dep_arr = dep_tf(\n",
    "    in_spec = spec_N,\n",
    "    sum_result = False,\n",
    "    rs = rs,\n",
    "    nBs_s = jnp.array([1.]),\n",
    "    x_s = jnp.array([x]),\n",
    "    out_of_bounds_action = 'error',\n",
    ")"
   ]
  },
  {
   "cell_type": "code",
   "execution_count": 38,
   "id": "a46e02e5-39e8-401c-8455-515f25bdf401",
   "metadata": {
    "tags": []
   },
   "outputs": [],
   "source": [
    "dep_arr = np.array(dep_arr).flatten()"
   ]
  },
  {
   "cell_type": "code",
   "execution_count": 39,
   "id": "394a9d51-3fb7-4614-93cf-8161f6e5bb10",
   "metadata": {
    "tags": []
   },
   "outputs": [],
   "source": [
    "dh_dep_tf_dict = dh_load_data('dep_tf')"
   ]
  },
  {
   "cell_type": "code",
   "execution_count": 40,
   "id": "0765c2a6-75d7-4a90-9490-efae83a3636f",
   "metadata": {
    "tags": []
   },
   "outputs": [],
   "source": [
    "dh_dep_tf = dh_dep_tf_dict['highengdep']"
   ]
  },
  {
   "cell_type": "code",
   "execution_count": 41,
   "id": "d71baf09-33d0-4111-96df-be8aecb83d5c",
   "metadata": {
    "tags": []
   },
   "outputs": [
    {
     "data": {
      "text/plain": [
       "array([ 3.80647822,  3.00855731,  1.03341883, -0.01559652])"
      ]
     },
     "execution_count": 41,
     "metadata": {},
     "output_type": "execute_result"
    }
   ],
   "source": [
    "dlnz = 0.001\n",
    "dt = dlnz / phys.hubble(rs)\n",
    "np.dot(spec_N, dh_dep_tf.get_val(x, phys.chi*x, rs)) * dt"
   ]
  },
  {
   "cell_type": "code",
   "execution_count": 42,
   "id": "922f6e04-ab3b-49f7-9914-ff6cdcd2a2ab",
   "metadata": {
    "tags": []
   },
   "outputs": [
    {
     "data": {
      "text/plain": [
       "array([4.338409  , 0.07210897, 3.5534062 , 4.436583  ], dtype=float32)"
      ]
     },
     "execution_count": 42,
     "metadata": {},
     "output_type": "execute_result"
    }
   ],
   "source": [
    "dep_arr[:4]/(0.04879016/0.001)"
   ]
  },
  {
   "cell_type": "markdown",
   "id": "2006cb4b-6d9b-4afc-8549-7a5eb1bd3344",
   "metadata": {},
   "source": [
    "## check generated fits file"
   ]
  },
  {
   "cell_type": "code",
   "execution_count": 45,
   "id": "18e3e0bf-b7c0-4864-b1af-88cc625973a4",
   "metadata": {
    "tags": []
   },
   "outputs": [],
   "source": [
    "from astropy.io import fits"
   ]
  },
  {
   "cell_type": "code",
   "execution_count": 46,
   "id": "50f84c8f-6039-415c-8c6b-e959a6144774",
   "metadata": {
    "tags": []
   },
   "outputs": [],
   "source": [
    "hdul = fits.open('tf_z_2.997E+01_x_1.000E-02_nBs_1.006E+00.fits')"
   ]
  },
  {
   "cell_type": "code",
   "execution_count": 54,
   "id": "23ddb99c-2228-426d-b206-1eafee6223e8",
   "metadata": {
    "tags": []
   },
   "outputs": [],
   "source": [
    "dh_tf = dh_dep_tf.get_val(x, phys.chi*x, rs)"
   ]
  },
  {
   "cell_type": "code",
   "execution_count": 52,
   "id": "7a44119c-f6c6-409b-87ec-ab2c06ab6d42",
   "metadata": {
    "tags": []
   },
   "outputs": [],
   "source": [
    "logger = logging.getLogger()\n",
    "logger.setLevel(logging.CRITICAL+1)"
   ]
  },
  {
   "cell_type": "code",
   "execution_count": 56,
   "id": "69408acb-ae83-400d-81b2-d363a6235199",
   "metadata": {
    "collapsed": true,
    "jupyter": {
     "outputs_hidden": true
    },
    "tags": []
   },
   "outputs": [
    {
     "data": {
      "text/plain": [
       "array([ 0.00000000e+00,  0.00000000e+00,  0.00000000e+00,  0.00000000e+00,\n",
       "        0.00000000e+00,  0.00000000e+00,  0.00000000e+00,  0.00000000e+00,\n",
       "        0.00000000e+00,  0.00000000e+00,  0.00000000e+00,  0.00000000e+00,\n",
       "        0.00000000e+00,  0.00000000e+00,  0.00000000e+00,  0.00000000e+00,\n",
       "        0.00000000e+00,  0.00000000e+00,  0.00000000e+00,  0.00000000e+00,\n",
       "        0.00000000e+00,  0.00000000e+00,  0.00000000e+00,  0.00000000e+00,\n",
       "        0.00000000e+00,  0.00000000e+00,  0.00000000e+00,  0.00000000e+00,\n",
       "        0.00000000e+00,  0.00000000e+00,  0.00000000e+00,  0.00000000e+00,\n",
       "        0.00000000e+00,  0.00000000e+00,  0.00000000e+00,  0.00000000e+00,\n",
       "        0.00000000e+00,  0.00000000e+00,  0.00000000e+00,  0.00000000e+00,\n",
       "        0.00000000e+00,  0.00000000e+00,  0.00000000e+00,  0.00000000e+00,\n",
       "        0.00000000e+00,  0.00000000e+00,  0.00000000e+00,  0.00000000e+00,\n",
       "        0.00000000e+00,  0.00000000e+00,  0.00000000e+00,  0.00000000e+00,\n",
       "        0.00000000e+00,  0.00000000e+00,  0.00000000e+00,  0.00000000e+00,\n",
       "        0.00000000e+00,  0.00000000e+00,  0.00000000e+00,  0.00000000e+00,\n",
       "        0.00000000e+00,  0.00000000e+00,  0.00000000e+00,  0.00000000e+00,\n",
       "        0.00000000e+00,  0.00000000e+00,  0.00000000e+00,  0.00000000e+00,\n",
       "        0.00000000e+00,  0.00000000e+00,  0.00000000e+00,  0.00000000e+00,\n",
       "        0.00000000e+00,  0.00000000e+00,  0.00000000e+00,  0.00000000e+00,\n",
       "        0.00000000e+00,  0.00000000e+00,  0.00000000e+00,  0.00000000e+00,\n",
       "        0.00000000e+00,  0.00000000e+00,  0.00000000e+00,  0.00000000e+00,\n",
       "        0.00000000e+00,  0.00000000e+00,  0.00000000e+00,  0.00000000e+00,\n",
       "        0.00000000e+00,  0.00000000e+00,  0.00000000e+00,  0.00000000e+00,\n",
       "        0.00000000e+00,  0.00000000e+00,  0.00000000e+00,  0.00000000e+00,\n",
       "        0.00000000e+00,  0.00000000e+00,  0.00000000e+00,  0.00000000e+00,\n",
       "        0.00000000e+00,  0.00000000e+00,  0.00000000e+00,  0.00000000e+00,\n",
       "        0.00000000e+00,  0.00000000e+00,  0.00000000e+00,  0.00000000e+00,\n",
       "        0.00000000e+00,  0.00000000e+00,  0.00000000e+00,  0.00000000e+00,\n",
       "        0.00000000e+00,  0.00000000e+00,  0.00000000e+00,  0.00000000e+00,\n",
       "        0.00000000e+00,  0.00000000e+00,  0.00000000e+00,  0.00000000e+00,\n",
       "        0.00000000e+00,  0.00000000e+00,  0.00000000e+00,  0.00000000e+00,\n",
       "        0.00000000e+00,  0.00000000e+00,  0.00000000e+00,  0.00000000e+00,\n",
       "        0.00000000e+00,  0.00000000e+00,  0.00000000e+00,  0.00000000e+00,\n",
       "        0.00000000e+00,  0.00000000e+00,  0.00000000e+00,  0.00000000e+00,\n",
       "        0.00000000e+00,  0.00000000e+00,  0.00000000e+00,  0.00000000e+00,\n",
       "        0.00000000e+00,  0.00000000e+00,  0.00000000e+00,  0.00000000e+00,\n",
       "        0.00000000e+00,  0.00000000e+00,  0.00000000e+00,  0.00000000e+00,\n",
       "        0.00000000e+00,  0.00000000e+00,  0.00000000e+00,  0.00000000e+00,\n",
       "        0.00000000e+00,  0.00000000e+00,  0.00000000e+00,  0.00000000e+00,\n",
       "        0.00000000e+00,  0.00000000e+00,  0.00000000e+00,  0.00000000e+00,\n",
       "        0.00000000e+00,  0.00000000e+00,  0.00000000e+00,  0.00000000e+00,\n",
       "        0.00000000e+00,  0.00000000e+00,  0.00000000e+00,  0.00000000e+00,\n",
       "        0.00000000e+00,  0.00000000e+00,  0.00000000e+00,  0.00000000e+00,\n",
       "        0.00000000e+00,  0.00000000e+00,  0.00000000e+00,  0.00000000e+00,\n",
       "        0.00000000e+00,  0.00000000e+00,  0.00000000e+00,  0.00000000e+00,\n",
       "        0.00000000e+00,  0.00000000e+00,  0.00000000e+00,  0.00000000e+00,\n",
       "        0.00000000e+00,  0.00000000e+00,  0.00000000e+00,  0.00000000e+00,\n",
       "        0.00000000e+00,  0.00000000e+00,  0.00000000e+00,  0.00000000e+00,\n",
       "        0.00000000e+00,  0.00000000e+00,  0.00000000e+00,  0.00000000e+00,\n",
       "        0.00000000e+00,  0.00000000e+00,  0.00000000e+00,  0.00000000e+00,\n",
       "        0.00000000e+00,  0.00000000e+00,  0.00000000e+00,  0.00000000e+00,\n",
       "        0.00000000e+00,  0.00000000e+00,  0.00000000e+00,  0.00000000e+00,\n",
       "        0.00000000e+00,  0.00000000e+00,  0.00000000e+00,  0.00000000e+00,\n",
       "        0.00000000e+00,  0.00000000e+00,  0.00000000e+00,  0.00000000e+00,\n",
       "        0.00000000e+00,  0.00000000e+00,  0.00000000e+00,  0.00000000e+00,\n",
       "        0.00000000e+00,  0.00000000e+00,  0.00000000e+00, -7.05627183e-18,\n",
       "       -1.03337189e-17, -1.37775339e-17, -1.48214817e-17, -1.36163226e-17,\n",
       "       -1.39619682e-17, -1.40921448e-17, -1.16214438e-17, -1.07466715e-17,\n",
       "       -1.10908969e-17, -8.60691045e-18, -7.46102718e-18, -7.93350210e-18,\n",
       "       -5.96942478e-18, -5.07830252e-18, -5.13565580e-18, -4.06565115e-18,\n",
       "       -3.33517060e-18, -3.21958685e-18, -2.69574218e-18, -2.13622063e-18,\n",
       "       -1.96924984e-18, -1.75033242e-18, -1.34268382e-18, -1.18169755e-18,\n",
       "       -1.11792201e-18, -8.30876408e-19, -6.97150201e-19, -7.03475998e-19,\n",
       "       -5.70807612e-19, -1.62664090e-18, -4.33893981e-18, -8.33035383e-18,\n",
       "       -1.37603364e-17, -2.07231387e-17, -2.93444499e-17, -3.98550924e-17,\n",
       "       -5.25920379e-17, -6.77860431e-17, -8.57963528e-17, -1.07055590e-16,\n",
       "       -1.31865843e-16, -1.60692054e-16, -1.94017490e-16, -2.32211337e-16,\n",
       "       -2.75711762e-16, -3.25022455e-16, -3.80405300e-16, -4.42115089e-16,\n",
       "       -5.10340377e-16, -5.85179159e-16, -6.66545686e-16, -7.54146026e-16,\n",
       "       -8.47577516e-16, -9.46238604e-16, -1.04945381e-15, -1.15641502e-15,\n",
       "       -1.26617016e-15, -1.37769273e-15, -1.48991575e-15, -1.60175947e-15,\n",
       "       -1.71215839e-15, -1.82008609e-15, -1.92453121e-15, -2.02445009e-15,\n",
       "       -2.11910202e-15, -2.20776392e-15, -2.28980353e-15, -2.36440936e-15,\n",
       "       -2.43115363e-15, -2.48990260e-15, -2.54022639e-15, -2.58172798e-15,\n",
       "       -2.61479151e-15, -2.63903700e-15, -2.65467240e-15, -2.66415183e-15,\n",
       "       -2.66890828e-15, -2.66738628e-15, -2.65893121e-15, -2.64427742e-15,\n",
       "       -2.62330163e-15, -2.59684755e-15, -2.56495164e-15, -2.52848677e-15,\n",
       "       -2.48754810e-15, -2.44306104e-15, -2.39512514e-15, -2.34452653e-15,\n",
       "       -2.29156306e-15, -2.23676391e-15, -2.18065116e-15, -2.12346710e-15,\n",
       "       -2.06574398e-15, -2.00766592e-15, -1.94973744e-15, -1.89233255e-15,\n",
       "       -1.83528657e-15, -1.77941570e-15, -1.72462522e-15, -1.67103456e-15,\n",
       "       -1.61908803e-15, -1.56847128e-15, -1.51976509e-15, -1.47261670e-15,\n",
       "       -1.42725016e-15, -1.38289255e-15, -1.34029381e-15, -1.29955539e-15,\n",
       "       -1.26063600e-15, -1.22404875e-15, -1.18893569e-15, -1.15620585e-15,\n",
       "       -1.12523489e-15, -1.09614405e-15, -1.06931355e-15, -1.04363811e-15,\n",
       "       -1.02009904e-15, -9.98311626e-16, -9.77768336e-16, -9.59184882e-16,\n",
       "       -9.41879612e-16, -9.25854947e-16, -9.11592410e-16, -8.98201973e-16,\n",
       "       -8.86063136e-16, -8.75495912e-16, -8.65467269e-16, -8.56607525e-16,\n",
       "       -8.49142382e-16, -8.41956628e-16, -8.35811816e-16, -8.30901277e-16,\n",
       "       -8.26082975e-16, -8.22138601e-16, -8.19285728e-16, -8.16406719e-16,\n",
       "       -8.14200222e-16, -8.12960122e-16, -8.11640155e-16, -8.10760791e-16,\n",
       "       -8.10739948e-16, -8.10645837e-16, -8.10734139e-16, -8.11589838e-16,\n",
       "       -8.12434950e-16, -8.13181204e-16, -8.14619699e-16, -8.16162046e-16,\n",
       "       -8.17305152e-16, -8.19080893e-16, -8.21122441e-16, -8.22448366e-16,\n",
       "       -8.24362249e-16, -8.26747029e-16, -8.28087002e-16, -8.29984059e-16,\n",
       "       -8.32405977e-16, -8.33822621e-16, -8.35588368e-16, -8.37862450e-16,\n",
       "       -8.39370759e-16, -8.40926562e-16, -8.42984240e-16, -8.44545673e-16,\n",
       "       -8.46386492e-16, -8.47978033e-16, -8.49665204e-16, -8.50729450e-16,\n",
       "       -8.52075137e-16, -8.53695875e-16, -8.54555130e-16, -8.55652738e-16,\n",
       "       -8.57168291e-16, -8.57876089e-16, -8.58734703e-16, -8.60021004e-16,\n",
       "       -8.60730067e-16, -8.61365804e-16, -8.62427895e-16, -8.63167295e-16,\n",
       "       -8.63600892e-16, -8.64455081e-16, -8.65242408e-16, -8.65498169e-16,\n",
       "       -8.66161293e-16, -8.67006997e-16, -8.67113515e-16, -8.67601586e-16,\n",
       "       -8.68499640e-16, -8.68497530e-16, -8.68825628e-16, -8.69664248e-16,\n",
       "       -8.69695025e-16, -8.69877093e-16, -8.70568232e-16, -8.70743516e-16,\n",
       "       -8.70792654e-16, -8.71345262e-16, -8.71673464e-16, -8.71602915e-16,\n",
       "       -8.72024514e-16, -8.72508107e-16, -8.72332946e-16, -8.72629858e-16,\n",
       "       -8.73261279e-16, -8.73003106e-16, -8.73180909e-16, -8.73914981e-16,\n",
       "       -8.73629762e-16, -8.73693508e-16, -8.74313495e-16, -8.74225413e-16,\n",
       "       -8.74180194e-16, -8.74686345e-16, -8.74799457e-16, -8.74650898e-16,\n",
       "       -8.75044799e-16, -8.75357583e-16, -8.75113221e-16, -8.75396268e-16,\n",
       "       -8.75901345e-16, -8.75573193e-16, -8.75746745e-16, -8.76421176e-16,\n",
       "       -8.76035575e-16, -8.76101170e-16, -8.76751360e-16, -8.76503761e-16,\n",
       "       -8.76463261e-16, -8.77004195e-16, -8.76979699e-16, -8.76835631e-16,\n",
       "       -8.77266937e-16, -8.77463714e-16, -8.77220431e-16, -8.77541914e-16,\n",
       "       -8.77954428e-16, -8.77619540e-16, -8.77831301e-16, -8.78445333e-16,\n",
       "       -8.78034258e-16, -8.78136439e-16, -8.78842542e-16, -8.78465128e-16,\n",
       "       -8.78458436e-16, -8.79054335e-16, -8.78912253e-16, -8.78798124e-16,\n",
       "       -8.79283113e-16, -8.79375469e-16, -8.79156850e-16, -8.79530195e-16,\n",
       "       -8.79853144e-16, -8.79535226e-16, -8.79800583e-16, -8.80397543e-16,\n",
       "       -8.80846997e-16, -8.90753142e-16, -9.73626428e-16, -1.49702855e-15,\n",
       "       -4.18405712e-15, -1.83161670e-14, -9.28939316e-14, -4.06981361e-13,\n",
       "       -1.11089190e-12, -1.13125389e-12, -1.13743919e-12, -1.13935960e-12,\n",
       "       -1.14006502e-12, -1.14044321e-12, -1.14056388e-12, -1.14068245e-12,\n",
       "       -1.14061294e-12, -1.14075455e-12, -1.14152658e-12, -1.14422437e-12])"
      ]
     },
     "execution_count": 56,
     "metadata": {},
     "output_type": "execute_result"
    }
   ],
   "source": [
    "hdul[1].data['HED_TF'][0,:,3]"
   ]
  },
  {
   "cell_type": "code",
   "execution_count": 57,
   "id": "85abf685-e640-4338-bd52-e0a2b8565363",
   "metadata": {
    "tags": []
   },
   "outputs": [
    {
     "data": {
      "image/png": "[encoded data removed]",
      "text/plain": [
       "<Figure size 720x480 with 1 Axes>"
      ]
     },
     "metadata": {},
     "output_type": "display_data"
    }
   ],
   "source": [
    "for i in range(4):\n",
    "    plt.plot(np.abs(hdul[1].data['HED_TF'][0,:,i]), color=f'C{i}')\n",
    "    plt.plot(np.abs(dh_tf[:,i]), color=f'C{i}', ls=':')\n",
    "plt.yscale('log')"
   ]
  },
  {
   "cell_type": "code",
   "execution_count": null,
   "id": "30579c66-9ba9-41f3-83de-01f7fbbc643d",
   "metadata": {},
   "outputs": [],
   "source": []
  },
  {
   "cell_type": "code",
   "execution_count": null,
   "id": "c11e88ac-0bc8-4586-949b-8a9cf710ae83",
   "metadata": {},
   "outputs": [],
   "source": []
  },
  {
   "cell_type": "code",
   "execution_count": null,
   "id": "da98a345-226e-498b-8642-a53d20e2646c",
   "metadata": {},
   "outputs": [],
   "source": []
  },
  {
   "cell_type": "code",
   "execution_count": null,
   "id": "ef544821-94bf-4ad6-badc-3b5c890c07b4",
   "metadata": {},
   "outputs": [],
   "source": []
  },
  {
   "cell_type": "code",
   "execution_count": null,
   "id": "1210c309-3d48-4b4b-a8f9-983971a46fa7",
   "metadata": {},
   "outputs": [],
   "source": []
  },
  {
   "cell_type": "code",
   "execution_count": null,
   "id": "4276ac4c-8477-4aa5-a835-b386ec7b9095",
   "metadata": {},
   "outputs": [],
   "source": []
  },
  {
   "cell_type": "code",
   "execution_count": null,
   "id": "82fed8dc-b886-4fd0-b901-05416d91ca5f",
   "metadata": {},
   "outputs": [],
   "source": []
  },
  {
   "cell_type": "code",
   "execution_count": null,
   "id": "4d6fe722-c6cd-42ec-8e01-edaea47c9fca",
   "metadata": {},
   "outputs": [],
   "source": [
    "abscs_name = 'abscs_230408x'\n",
    "abscs = {\n",
    "    'rs' : np.logspace(np.log10(5), np.log10(50), 10),\n",
    "    'x' : np.array([1e-5, 1e-4, 1e-3, 1e-2, 0.1, 0.3, 0.7, 0.9, 1-1e-3, 1-1e-5]),\n",
    "    'nBs' : np.array([0.001, 0.262, 0.708, 0.818, 0.888, 0.944, 1.006, 1.102, 4.855, 10.]),\n",
    "    'photE' : photE_DH(n=500),\n",
    "    'elecEk' : elecEk_DH(n=500),\n",
    "    'dep_c' : ['H ion', 'He ion', 'exc', 'heat', 'cont', 'xray'],\n",
    "    'dlnz' : 0.04879016,\n",
    "}"
   ]
  },
  {
   "cell_type": "code",
   "execution_count": null,
   "id": "8b5faf18-89b0-45a8-8c78-f3c0a51f628f",
   "metadata": {},
   "outputs": [],
   "source": []
  },
  {
   "cell_type": "code",
   "execution_count": null,
   "id": "54eaf3a9-ccf2-48cf-835f-65bcc2973ca0",
   "metadata": {},
   "outputs": [],
   "source": []
  },
  {
   "cell_type": "code",
   "execution_count": null,
   "id": "7c7f0c67-e0ab-4828-885c-34875d42ab1e",
   "metadata": {},
   "outputs": [],
   "source": []
  },
  {
   "cell_type": "code",
   "execution_count": null,
   "id": "0c89a8ee-7f5a-4a38-92b8-ba5da94fd759",
   "metadata": {},
   "outputs": [],
   "source": []
  },
  {
   "cell_type": "code",
   "execution_count": null,
   "id": "931dd0b8-f4b5-40fd-9ea8-87964dfa8908",
   "metadata": {},
   "outputs": [],
   "source": []
  }
 ],
 "metadata": {
  "kernelspec": {
   "display_name": "Python [conda env:.conda-21cmfast] *",
   "language": "python",
   "name": "conda-env-.conda-21cmfast-py"
  },
  "language_info": {
   "codemirror_mode": {
    "name": "ipython",
    "version": 3
   },
   "file_extension": ".py",
   "mimetype": "text/x-python",
   "name": "python",
   "nbconvert_exporter": "python",
   "pygments_lexer": "ipython3",
   "version": "3.10.12"
  }
 },
 "nbformat": 4,
 "nbformat_minor": 5
}
