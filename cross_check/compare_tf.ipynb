{
 "cells": [
  {
   "cell_type": "code",
   "execution_count": 1,
   "id": "8373c1e7-78b1-4c6d-a490-bc25428b1bab",
   "metadata": {
    "tags": []
   },
   "outputs": [],
   "source": [
    "%reload_ext autoreload\n",
    "%autoreload 2\n",
    "\n",
    "import os\n",
    "import sys\n",
    "import pickle\n",
    "import logging\n",
    "from tqdm import tqdm\n",
    "\n",
    "import numpy as np\n",
    "from scipy import interpolate\n",
    "from astropy.io import fits\n",
    "#import jax.numpy as jnp\n",
    "\n",
    "sys.path.append(os.environ['DM21CM_DIR'])\n",
    "import dm21cm.physics as phys\n",
    "# from dm21cm.data_loader import load_data\n",
    "# from dm21cm.dm_params import DMParams\n",
    "# from dm21cm.evolve import get_z_edges\n",
    "\n",
    "sys.path.append(os.environ['DH_DIR'])\n",
    "from darkhistory.spec.spectrum import Spectrum\n",
    "from darkhistory.main import evolve as dh_evolve\n",
    "from darkhistory.config import load_data as dh_load_data\n",
    "import darkhistory.physics as dh_phys\n",
    "\n",
    "%matplotlib inline\n",
    "import matplotlib as mpl\n",
    "import matplotlib.pyplot as plt\n",
    "mpl.rc_file(\"../matplotlibrc\")"
   ]
  },
  {
   "cell_type": "markdown",
   "id": "22cee990-fd0d-414d-b165-1a4de7de8e12",
   "metadata": {},
   "source": [
    "## 1. compare HED"
   ]
  },
  {
   "cell_type": "markdown",
   "id": "13043581-720c-4bc5-af3d-83b4c37e8693",
   "metadata": {},
   "source": [
    "### 1.1 DH on grid"
   ]
  },
  {
   "cell_type": "code",
   "execution_count": 2,
   "id": "e4baf639-afff-43bf-9a51-421105944e84",
   "metadata": {},
   "outputs": [
    {
     "name": "stdout",
     "output_type": "stream",
     "text": [
      "****** Loading transfer functions... ******\n",
      "Using data at /zfs/yitians/darkhistory/DHdata_alt\n",
      "    for propagating photons...   Done!\n",
      "    for low-energy photons...  Done!\n",
      "    for low-energy electrons...  Done!\n",
      "    for high-energy deposition...  Done!\n",
      "    for total upscattered CMB energy rate...  Done!\n",
      "****** Loading complete! ******\n"
     ]
    }
   ],
   "source": [
    "dh_dep_tf = dh_load_data('dep_tf')['highengdep']"
   ]
  },
  {
   "cell_type": "code",
   "execution_count": 7,
   "id": "eff0d085-37ef-4179-a5f2-dc49be86ecd5",
   "metadata": {},
   "outputs": [
    {
     "name": "stdout",
     "output_type": "stream",
     "text": [
      "0.009951801866904308 0.0007856685684398137 6.793051330746054\n"
     ]
    }
   ],
   "source": [
    "dh_xH_arr = dh_dep_tf.x[0][:,0,0]\n",
    "dh_xHe_arr = dh_dep_tf.x[0][0,:,1]\n",
    "dh_rs_arr = dh_dep_tf.rs[0]\n",
    "\n",
    "i_xH = 1\n",
    "i_xHe = 1\n",
    "i_rs = 4\n",
    "i_E = 300\n",
    "\n",
    "xH = dh_xH_arr[i_xH]\n",
    "xHe = dh_xHe_arr[i_xHe]\n",
    "rs = dh_rs_arr[i_rs]\n",
    "\n",
    "print(xH, xHe, rs)"
   ]
  },
  {
   "cell_type": "code",
   "execution_count": 6,
   "id": "1a73178a-2075-4370-98da-57713a4efb8e",
   "metadata": {},
   "outputs": [
    {
     "data": {
      "text/plain": [
       "array([ 1.75750284e-14,  1.40953776e-14,  5.67682753e-15, -2.17047803e-17])"
      ]
     },
     "execution_count": 6,
     "metadata": {},
     "output_type": "execute_result"
    }
   ],
   "source": [
    "dh_dep_tf_slice = dh_dep_tf.get_val(xH, xHe, rs)\n",
    "dh_dep_tf_slice[i_E]"
   ]
  },
  {
   "cell_type": "code",
   "execution_count": 8,
   "id": "2c8e9367-be23-4e40-acb0-22cf6ea59d5c",
   "metadata": {},
   "outputs": [],
   "source": [
    "hdul = fits.open('ionhist_outputs/tf_z_6.793E+00_x_9.952E-03_nBs_1.000E+00.fits')"
   ]
  },
  {
   "cell_type": "code",
   "execution_count": 9,
   "id": "b635eb6b-54bc-44a1-9125-1057484c2802",
   "metadata": {},
   "outputs": [
    {
     "data": {
      "text/plain": [
       "array([ 1.75750284e-14,  1.40953777e-14,  5.67682755e-15, -2.17046676e-17])"
      ]
     },
     "execution_count": 9,
     "metadata": {},
     "output_type": "execute_result"
    }
   ],
   "source": [
    "hdul[1].data['HED_TF'][0, 300]"
   ]
  },
  {
   "cell_type": "markdown",
   "id": "bfec21ab-d443-4446-995c-04a211afc8e3",
   "metadata": {},
   "source": [
    "IDL agrees with DH on grid"
   ]
  },
  {
   "cell_type": "markdown",
   "id": "5cb221c6-6207-4407-a7d4-0e60d00ea848",
   "metadata": {},
   "source": [
    "### 1.2 DH off grid"
   ]
  },
  {
   "cell_type": "code",
   "execution_count": 10,
   "id": "c3c3c4f5-5118-49ff-94d4-378dd7564629",
   "metadata": {},
   "outputs": [
    {
     "name": "stdout",
     "output_type": "stream",
     "text": [
      "0.1394466116184497 0.011008943022509184 7.257975692943122\n"
     ]
    }
   ],
   "source": [
    "i_xH = 1\n",
    "i_xHe = 1\n",
    "i_rs = 4\n",
    "i_E = 300\n",
    "\n",
    "xH = (dh_xH_arr[i_xH] + dh_xH_arr[i_xH+1]) / 2\n",
    "xHe = (dh_xHe_arr[i_xHe] + dh_xHe_arr[i_xHe+1]) / 2\n",
    "rs = np.sqrt(dh_rs_arr[i_rs] * dh_rs_arr[i_rs+1])\n",
    "\n",
    "print(xH, xHe, rs)"
   ]
  },
  {
   "cell_type": "code",
   "execution_count": 11,
   "id": "94afaa35-cf0a-4e07-991d-3e4ec32618ba",
   "metadata": {},
   "outputs": [
    {
     "data": {
      "text/plain": [
       "array([ 1.45276205e-14,  1.17552026e-14,  5.43907351e-14, -2.22061825e-17])"
      ]
     },
     "execution_count": 11,
     "metadata": {},
     "output_type": "execute_result"
    }
   ],
   "source": [
    "dh_dep_tf_slice = dh_dep_tf.get_val(xH, xHe, rs)\n",
    "dh_dep_tf_slice[i_E]"
   ]
  },
  {
   "cell_type": "code",
   "execution_count": 14,
   "id": "7c712b24-2c00-479b-8cfc-fdda57f4fdfd",
   "metadata": {},
   "outputs": [],
   "source": [
    "hdul = fits.open('ionhist_outputs/tf_z_7.258E+00_x_1.394E-01_nBs_1.000E+00.fits')"
   ]
  },
  {
   "cell_type": "code",
   "execution_count": 15,
   "id": "d383c609-cd0b-4632-b3f5-16ec5657ad03",
   "metadata": {},
   "outputs": [
    {
     "data": {
      "text/plain": [
       "array([ 1.27107982e-14,  1.02835650e-14,  6.39856587e-14, -2.05938945e-17])"
      ]
     },
     "execution_count": 15,
     "metadata": {},
     "output_type": "execute_result"
    }
   ],
   "source": [
    "hdul[1].data['HED_TF'][0, 0]"
   ]
  },
  {
   "cell_type": "markdown",
   "id": "4239fa8c-a1fa-4070-8137-4a756e290315",
   "metadata": {},
   "source": [
    "can be off by 20 percent!"
   ]
  },
  {
   "cell_type": "markdown",
   "id": "0acc6f5b-4391-4d83-8fd3-65f6d664478b",
   "metadata": {},
   "source": [
    "### 1.3 Just rs off grid"
   ]
  },
  {
   "cell_type": "code",
   "execution_count": 48,
   "id": "8d633cc0-c790-4b14-9278-6e3f4f5159c6",
   "metadata": {},
   "outputs": [
    {
     "name": "stdout",
     "output_type": "stream",
     "text": [
      "6.793051330746054\n"
     ]
    }
   ],
   "source": [
    "i_xH = 1\n",
    "i_xHe = 1\n",
    "i_rs = 4\n",
    "i_E = 300\n",
    "\n",
    "x_s = np.linspace(4e-5, 1-4e-5, 100)\n",
    "rs = dh_rs_arr[i_rs]\n",
    "\n",
    "print(rs)"
   ]
  },
  {
   "cell_type": "code",
   "execution_count": 49,
   "id": "8771abb9-c281-4f2d-887a-00d105278074",
   "metadata": {},
   "outputs": [],
   "source": [
    "dh_f_s = np.array([dh_dep_tf.get_val(x, phys.chi*x, rs)[i_E] for x in x_s])"
   ]
  },
  {
   "cell_type": "code",
   "execution_count": 50,
   "id": "f4eec62e-641d-4177-a045-cd1be5983589",
   "metadata": {},
   "outputs": [
    {
     "name": "stdout",
     "output_type": "stream",
     "text": [
      "[0.0000400000d, 0.0101402020d, 0.0202404040d, 0.0303406061d, 0.0404408081d, 0.0505410101d, 0.0606412121d, 0.0707414141d, 0.0808416162d, 0.0909418182d, 0.1010420202d, 0.1111422222d, 0.1212424242d, 0.1313426263d, 0.1414428283d, 0.1515430303d, 0.1616432323d, 0.1717434343d, 0.1818436364d, 0.1919438384d, 0.2020440404d, 0.2121442424d, 0.2222444444d, 0.2323446465d, 0.2424448485d, 0.2525450505d, 0.2626452525d, 0.2727454545d, 0.2828456566d, 0.2929458586d, 0.3030460606d, 0.3131462626d, 0.3232464646d, 0.3333466667d, 0.3434468687d, 0.3535470707d, 0.3636472727d, 0.3737474747d, 0.3838476768d, 0.3939478788d, 0.4040480808d, 0.4141482828d, 0.4242484848d, 0.4343486869d, 0.4444488889d, 0.4545490909d, 0.4646492929d, 0.4747494949d, 0.4848496970d, 0.4949498990d, 0.5050501010d, 0.5151503030d, 0.5252505051d, 0.5353507071d, 0.5454509091d, 0.5555511111d, 0.5656513131d, 0.5757515152d, 0.5858517172d, 0.5959519192d, 0.6060521212d, 0.6161523232d, 0.6262525253d, 0.6363527273d, 0.6464529293d, 0.6565531313d, 0.6666533333d, 0.6767535354d, 0.6868537374d, 0.6969539394d, 0.7070541414d, 0.7171543434d, 0.7272545455d, 0.7373547475d, 0.7474549495d, 0.7575551515d, 0.7676553535d, 0.7777555556d, 0.7878557576d, 0.7979559596d, 0.8080561616d, 0.8181563636d, 0.8282565657d, 0.8383567677d, 0.8484569697d, 0.8585571717d, 0.8686573737d, 0.8787575758d, 0.8888577778d, 0.8989579798d, 0.9090581818d, 0.9191583838d, 0.9292585859d, 0.9393587879d, 0.9494589899d, 0.9595591919d, 0.9696593939d, 0.9797595960d, 0.9898597980d, 0.9999600000d]\n"
     ]
    }
   ],
   "source": [
    "print('['+'d, '.join([f'{x:.10f}' for x in x_s])+'d]')"
   ]
  },
  {
   "cell_type": "code",
   "execution_count": 51,
   "id": "a2674170-137b-40b0-bb25-2e4eb89a3619",
   "metadata": {},
   "outputs": [],
   "source": [
    "idl_f_s = np.zeros((len(x_s), 4))\n",
    "\n",
    "for i in range(len(x_s)):\n",
    "    x = x_s[i]\n",
    "    with fits.open(f'ionhist_outputs/tf_z_{rs:.3E}_x_{x:.3E}_nBs_1.000E+00.fits') as hdul:\n",
    "        idl_f_s[i] = hdul[1].data['HED_TF'][0, 0]"
   ]
  },
  {
   "cell_type": "code",
   "execution_count": 59,
   "id": "124c5bf6-cd34-4908-94ec-960df6b47e82",
   "metadata": {},
   "outputs": [
    {
     "data": {
      "text/plain": [
       "<matplotlib.legend.Legend at 0x7fde863fb340>"
      ]
     },
     "execution_count": 59,
     "metadata": {},
     "output_type": "execute_result"
    },
    {
     "data": {
      "image/png": "[encoded data removed]",
      "text/plain": [
       "<Figure size 720x480 with 1 Axes>"
      ]
     },
     "metadata": {},
     "output_type": "display_data"
    }
   ],
   "source": [
    "ch_s = ['H ion', 'He ion', 'exc', 'heat']\n",
    "for i in range(4):\n",
    "    plt.plot(x_s, dh_f_s[:,i], '.', color=f'C{i}', markersize=1, label=f'DH {ch_s[i]}')\n",
    "    plt.plot(x_s, idl_f_s[:,i], color=f'C{i}', ls='-', label=f'IDL {ch_s[i]}')\n",
    "plt.legend()"
   ]
  },
  {
   "cell_type": "code",
   "execution_count": null,
   "id": "f702854b-2875-4902-bd5a-fc8a7efd3e34",
   "metadata": {},
   "outputs": [],
   "source": []
  },
  {
   "cell_type": "code",
   "execution_count": null,
   "id": "512cdfa7-2bea-404c-acba-f5183be6c3d0",
   "metadata": {},
   "outputs": [],
   "source": []
  },
  {
   "cell_type": "code",
   "execution_count": null,
   "id": "5a7c52d9-ad9f-458e-b8bd-26224ec2509f",
   "metadata": {},
   "outputs": [],
   "source": []
  },
  {
   "cell_type": "code",
   "execution_count": null,
   "id": "a6a0fc61-b2ca-43b7-9d7c-ff8f44580d9b",
   "metadata": {},
   "outputs": [],
   "source": []
  },
  {
   "cell_type": "code",
   "execution_count": null,
   "id": "83617e0e-9738-4a9a-b229-b0fe140956c0",
   "metadata": {},
   "outputs": [],
   "source": []
  },
  {
   "cell_type": "code",
   "execution_count": null,
   "id": "2aaa0814-bef9-4137-b655-22e08c47336c",
   "metadata": {},
   "outputs": [],
   "source": []
  },
  {
   "cell_type": "code",
   "execution_count": null,
   "id": "4c8dba0d-193b-4c37-b8ef-b5b2056cdc2b",
   "metadata": {},
   "outputs": [],
   "source": []
  },
  {
   "cell_type": "code",
   "execution_count": null,
   "id": "9fa22646-4091-455d-b1b0-5f870fe04298",
   "metadata": {},
   "outputs": [],
   "source": []
  },
  {
   "cell_type": "code",
   "execution_count": 4,
   "id": "b0809c52-7bee-4fc7-91e8-dfcadbd0d0d1",
   "metadata": {
    "tags": []
   },
   "outputs": [
    {
     "name": "stderr",
     "output_type": "stream",
     "text": [
      "INFO:root:Loaded photon deposition transfer function.\n"
     ]
    }
   ],
   "source": [
    "dep_tf = load_data(\n",
    "    'phot_dep',\n",
    "    prefix=os.environ['DM21CM_DATA_DIR'] + '/tf/230408x/phot',\n",
    "    reload=True\n",
    ")"
   ]
  },
  {
   "cell_type": "code",
   "execution_count": 8,
   "id": "fe4ed0fb-88c6-4309-8a03-63daa8fd329c",
   "metadata": {
    "tags": []
   },
   "outputs": [],
   "source": [
    "spec_N = np.zeros((500,))\n",
    "spec_N[300] = 1."
   ]
  },
  {
   "cell_type": "code",
   "execution_count": 36,
   "id": "28e3a2ca-3e0a-4e93-80a1-7f6e6a40c987",
   "metadata": {
    "tags": []
   },
   "outputs": [],
   "source": [
    "rs = 29.97\n",
    "x = 1e-2\n",
    "nBs = 1"
   ]
  },
  {
   "cell_type": "code",
   "execution_count": 37,
   "id": "138fcc36-07cb-45f2-977d-c1b4819f2836",
   "metadata": {
    "tags": []
   },
   "outputs": [],
   "source": [
    "dep_arr = dep_tf(\n",
    "    in_spec = spec_N,\n",
    "    sum_result = False,\n",
    "    rs = rs,\n",
    "    nBs_s = jnp.array([1.]),\n",
    "    x_s = jnp.array([x]),\n",
    "    out_of_bounds_action = 'error',\n",
    ")"
   ]
  },
  {
   "cell_type": "code",
   "execution_count": 38,
   "id": "a46e02e5-39e8-401c-8455-515f25bdf401",
   "metadata": {
    "tags": []
   },
   "outputs": [],
   "source": [
    "dep_arr = np.array(dep_arr).flatten()"
   ]
  },
  {
   "cell_type": "code",
   "execution_count": 39,
   "id": "394a9d51-3fb7-4614-93cf-8161f6e5bb10",
   "metadata": {
    "tags": []
   },
   "outputs": [],
   "source": [
    "dh_dep_tf_dict = dh_load_data('dep_tf')"
   ]
  },
  {
   "cell_type": "code",
   "execution_count": 40,
   "id": "0765c2a6-75d7-4a90-9490-efae83a3636f",
   "metadata": {
    "tags": []
   },
   "outputs": [],
   "source": [
    "dh_dep_tf = dh_dep_tf_dict['highengdep']"
   ]
  },
  {
   "cell_type": "code",
   "execution_count": 41,
   "id": "d71baf09-33d0-4111-96df-be8aecb83d5c",
   "metadata": {
    "tags": []
   },
   "outputs": [
    {
     "data": {
      "text/plain": [
       "array([ 3.80647822,  3.00855731,  1.03341883, -0.01559652])"
      ]
     },
     "execution_count": 41,
     "metadata": {},
     "output_type": "execute_result"
    }
   ],
   "source": [
    "dlnz = 0.001\n",
    "dt = dlnz / phys.hubble(rs)\n",
    "np.dot(spec_N, dh_dep_tf.get_val(x, phys.chi*x, rs)) * dt"
   ]
  },
  {
   "cell_type": "code",
   "execution_count": 42,
   "id": "922f6e04-ab3b-49f7-9914-ff6cdcd2a2ab",
   "metadata": {
    "tags": []
   },
   "outputs": [
    {
     "data": {
      "text/plain": [
       "array([4.338409  , 0.07210897, 3.5534062 , 4.436583  ], dtype=float32)"
      ]
     },
     "execution_count": 42,
     "metadata": {},
     "output_type": "execute_result"
    }
   ],
   "source": [
    "dep_arr[:4]/(0.04879016/0.001)"
   ]
  },
  {
   "cell_type": "markdown",
   "id": "2006cb4b-6d9b-4afc-8549-7a5eb1bd3344",
   "metadata": {},
   "source": [
    "## check generated fits file"
   ]
  },
  {
   "cell_type": "code",
   "execution_count": 45,
   "id": "18e3e0bf-b7c0-4864-b1af-88cc625973a4",
   "metadata": {
    "tags": []
   },
   "outputs": [],
   "source": [
    "from astropy.io import fits"
   ]
  },
  {
   "cell_type": "code",
   "execution_count": 46,
   "id": "50f84c8f-6039-415c-8c6b-e959a6144774",
   "metadata": {
    "tags": []
   },
   "outputs": [],
   "source": [
    "hdul = fits.open('tf_z_2.997E+01_x_1.000E-02_nBs_1.006E+00.fits')"
   ]
  },
  {
   "cell_type": "code",
   "execution_count": 54,
   "id": "23ddb99c-2228-426d-b206-1eafee6223e8",
   "metadata": {
    "tags": []
   },
   "outputs": [],
   "source": [
    "dh_tf = dh_dep_tf.get_val(x, phys.chi*x, rs)"
   ]
  },
  {
   "cell_type": "code",
   "execution_count": 52,
   "id": "7a44119c-f6c6-409b-87ec-ab2c06ab6d42",
   "metadata": {
    "tags": []
   },
   "outputs": [],
   "source": [
    "logger = logging.getLogger()\n",
    "logger.setLevel(logging.CRITICAL+1)"
   ]
  },
  {
   "cell_type": "code",
   "execution_count": 56,
   "id": "69408acb-ae83-400d-81b2-d363a6235199",
   "metadata": {
    "collapsed": true,
    "jupyter": {
     "outputs_hidden": true
    },
    "tags": []
   },
   "outputs": [
    {
     "data": {
      "text/plain": [
       "array([ 0.00000000e+00,  0.00000000e+00,  0.00000000e+00,  0.00000000e+00,\n",
       "        0.00000000e+00,  0.00000000e+00,  0.00000000e+00,  0.00000000e+00,\n",
       "        0.00000000e+00,  0.00000000e+00,  0.00000000e+00,  0.00000000e+00,\n",
       "        0.00000000e+00,  0.00000000e+00,  0.00000000e+00,  0.00000000e+00,\n",
       "        0.00000000e+00,  0.00000000e+00,  0.00000000e+00,  0.00000000e+00,\n",
       "        0.00000000e+00,  0.00000000e+00,  0.00000000e+00,  0.00000000e+00,\n",
       "        0.00000000e+00,  0.00000000e+00,  0.00000000e+00,  0.00000000e+00,\n",
       "        0.00000000e+00,  0.00000000e+00,  0.00000000e+00,  0.00000000e+00,\n",
       "        0.00000000e+00,  0.00000000e+00,  0.00000000e+00,  0.00000000e+00,\n",
       "        0.00000000e+00,  0.00000000e+00,  0.00000000e+00,  0.00000000e+00,\n",
       "        0.00000000e+00,  0.00000000e+00,  0.00000000e+00,  0.00000000e+00,\n",
       "        0.00000000e+00,  0.00000000e+00,  0.00000000e+00,  0.00000000e+00,\n",
       "        0.00000000e+00,  0.00000000e+00,  0.00000000e+00,  0.00000000e+00,\n",
       "        0.00000000e+00,  0.00000000e+00,  0.00000000e+00,  0.00000000e+00,\n",
       "        0.00000000e+00,  0.00000000e+00,  0.00000000e+00,  0.00000000e+00,\n",
       "        0.00000000e+00,  0.00000000e+00,  0.00000000e+00,  0.00000000e+00,\n",
       "        0.00000000e+00,  0.00000000e+00,  0.00000000e+00,  0.00000000e+00,\n",
       "        0.00000000e+00,  0.00000000e+00,  0.00000000e+00,  0.00000000e+00,\n",
       "        0.00000000e+00,  0.00000000e+00,  0.00000000e+00,  0.00000000e+00,\n",
       "        0.00000000e+00,  0.00000000e+00,  0.00000000e+00,  0.00000000e+00,\n",
       "        0.00000000e+00,  0.00000000e+00,  0.00000000e+00,  0.00000000e+00,\n",
       "        0.00000000e+00,  0.00000000e+00,  0.00000000e+00,  0.00000000e+00,\n",
       "        0.00000000e+00,  0.00000000e+00,  0.00000000e+00,  0.00000000e+00,\n",
       "        0.00000000e+00,  0.00000000e+00,  0.00000000e+00,  0.00000000e+00,\n",
       "        0.00000000e+00,  0.00000000e+00,  0.00000000e+00,  0.00000000e+00,\n",
       "        0.00000000e+00,  0.00000000e+00,  0.00000000e+00,  0.00000000e+00,\n",
       "        0.00000000e+00,  0.00000000e+00,  0.00000000e+00,  0.00000000e+00,\n",
       "        0.00000000e+00,  0.00000000e+00,  0.00000000e+00,  0.00000000e+00,\n",
       "        0.00000000e+00,  0.00000000e+00,  0.00000000e+00,  0.00000000e+00,\n",
       "        0.00000000e+00,  0.00000000e+00,  0.00000000e+00,  0.00000000e+00,\n",
       "        0.00000000e+00,  0.00000000e+00,  0.00000000e+00,  0.00000000e+00,\n",
       "        0.00000000e+00,  0.00000000e+00,  0.00000000e+00,  0.00000000e+00,\n",
       "        0.00000000e+00,  0.00000000e+00,  0.00000000e+00,  0.00000000e+00,\n",
       "        0.00000000e+00,  0.00000000e+00,  0.00000000e+00,  0.00000000e+00,\n",
       "        0.00000000e+00,  0.00000000e+00,  0.00000000e+00,  0.00000000e+00,\n",
       "        0.00000000e+00,  0.00000000e+00,  0.00000000e+00,  0.00000000e+00,\n",
       "        0.00000000e+00,  0.00000000e+00,  0.00000000e+00,  0.00000000e+00,\n",
       "        0.00000000e+00,  0.00000000e+00,  0.00000000e+00,  0.00000000e+00,\n",
       "        0.00000000e+00,  0.00000000e+00,  0.00000000e+00,  0.00000000e+00,\n",
       "        0.00000000e+00,  0.00000000e+00,  0.00000000e+00,  0.00000000e+00,\n",
       "        0.00000000e+00,  0.00000000e+00,  0.00000000e+00,  0.00000000e+00,\n",
       "        0.00000000e+00,  0.00000000e+00,  0.00000000e+00,  0.00000000e+00,\n",
       "        0.00000000e+00,  0.00000000e+00,  0.00000000e+00,  0.00000000e+00,\n",
       "        0.00000000e+00,  0.00000000e+00,  0.00000000e+00,  0.00000000e+00,\n",
       "        0.00000000e+00,  0.00000000e+00,  0.00000000e+00,  0.00000000e+00,\n",
       "        0.00000000e+00,  0.00000000e+00,  0.00000000e+00,  0.00000000e+00,\n",
       "        0.00000000e+00,  0.00000000e+00,  0.00000000e+00,  0.00000000e+00,\n",
       "        0.00000000e+00,  0.00000000e+00,  0.00000000e+00,  0.00000000e+00,\n",
       "        0.00000000e+00,  0.00000000e+00,  0.00000000e+00,  0.00000000e+00,\n",
       "        0.00000000e+00,  0.00000000e+00,  0.00000000e+00,  0.00000000e+00,\n",
       "        0.00000000e+00,  0.00000000e+00,  0.00000000e+00,  0.00000000e+00,\n",
       "        0.00000000e+00,  0.00000000e+00,  0.00000000e+00,  0.00000000e+00,\n",
       "        0.00000000e+00,  0.00000000e+00,  0.00000000e+00,  0.00000000e+00,\n",
       "        0.00000000e+00,  0.00000000e+00,  0.00000000e+00,  0.00000000e+00,\n",
       "        0.00000000e+00,  0.00000000e+00,  0.00000000e+00,  0.00000000e+00,\n",
       "        0.00000000e+00,  0.00000000e+00,  0.00000000e+00, -7.05627183e-18,\n",
       "       -1.03337189e-17, -1.37775339e-17, -1.48214817e-17, -1.36163226e-17,\n",
       "       -1.39619682e-17, -1.40921448e-17, -1.16214438e-17, -1.07466715e-17,\n",
       "       -1.10908969e-17, -8.60691045e-18, -7.46102718e-18, -7.93350210e-18,\n",
       "       -5.96942478e-18, -5.07830252e-18, -5.13565580e-18, -4.06565115e-18,\n",
       "       -3.33517060e-18, -3.21958685e-18, -2.69574218e-18, -2.13622063e-18,\n",
       "       -1.96924984e-18, -1.75033242e-18, -1.34268382e-18, -1.18169755e-18,\n",
       "       -1.11792201e-18, -8.30876408e-19, -6.97150201e-19, -7.03475998e-19,\n",
       "       -5.70807612e-19, -1.62664090e-18, -4.33893981e-18, -8.33035383e-18,\n",
       "       -1.37603364e-17, -2.07231387e-17, -2.93444499e-17, -3.98550924e-17,\n",
       "       -5.25920379e-17, -6.77860431e-17, -8.57963528e-17, -1.07055590e-16,\n",
       "       -1.31865843e-16, -1.60692054e-16, -1.94017490e-16, -2.32211337e-16,\n",
       "       -2.75711762e-16, -3.25022455e-16, -3.80405300e-16, -4.42115089e-16,\n",
       "       -5.10340377e-16, -5.85179159e-16, -6.66545686e-16, -7.54146026e-16,\n",
       "       -8.47577516e-16, -9.46238604e-16, -1.04945381e-15, -1.15641502e-15,\n",
       "       -1.26617016e-15, -1.37769273e-15, -1.48991575e-15, -1.60175947e-15,\n",
       "       -1.71215839e-15, -1.82008609e-15, -1.92453121e-15, -2.02445009e-15,\n",
       "       -2.11910202e-15, -2.20776392e-15, -2.28980353e-15, -2.36440936e-15,\n",
       "       -2.43115363e-15, -2.48990260e-15, -2.54022639e-15, -2.58172798e-15,\n",
       "       -2.61479151e-15, -2.63903700e-15, -2.65467240e-15, -2.66415183e-15,\n",
       "       -2.66890828e-15, -2.66738628e-15, -2.65893121e-15, -2.64427742e-15,\n",
       "       -2.62330163e-15, -2.59684755e-15, -2.56495164e-15, -2.52848677e-15,\n",
       "       -2.48754810e-15, -2.44306104e-15, -2.39512514e-15, -2.34452653e-15,\n",
       "       -2.29156306e-15, -2.23676391e-15, -2.18065116e-15, -2.12346710e-15,\n",
       "       -2.06574398e-15, -2.00766592e-15, -1.94973744e-15, -1.89233255e-15,\n",
       "       -1.83528657e-15, -1.77941570e-15, -1.72462522e-15, -1.67103456e-15,\n",
       "       -1.61908803e-15, -1.56847128e-15, -1.51976509e-15, -1.47261670e-15,\n",
       "       -1.42725016e-15, -1.38289255e-15, -1.34029381e-15, -1.29955539e-15,\n",
       "       -1.26063600e-15, -1.22404875e-15, -1.18893569e-15, -1.15620585e-15,\n",
       "       -1.12523489e-15, -1.09614405e-15, -1.06931355e-15, -1.04363811e-15,\n",
       "       -1.02009904e-15, -9.98311626e-16, -9.77768336e-16, -9.59184882e-16,\n",
       "       -9.41879612e-16, -9.25854947e-16, -9.11592410e-16, -8.98201973e-16,\n",
       "       -8.86063136e-16, -8.75495912e-16, -8.65467269e-16, -8.56607525e-16,\n",
       "       -8.49142382e-16, -8.41956628e-16, -8.35811816e-16, -8.30901277e-16,\n",
       "       -8.26082975e-16, -8.22138601e-16, -8.19285728e-16, -8.16406719e-16,\n",
       "       -8.14200222e-16, -8.12960122e-16, -8.11640155e-16, -8.10760791e-16,\n",
       "       -8.10739948e-16, -8.10645837e-16, -8.10734139e-16, -8.11589838e-16,\n",
       "       -8.12434950e-16, -8.13181204e-16, -8.14619699e-16, -8.16162046e-16,\n",
       "       -8.17305152e-16, -8.19080893e-16, -8.21122441e-16, -8.22448366e-16,\n",
       "       -8.24362249e-16, -8.26747029e-16, -8.28087002e-16, -8.29984059e-16,\n",
       "       -8.32405977e-16, -8.33822621e-16, -8.35588368e-16, -8.37862450e-16,\n",
       "       -8.39370759e-16, -8.40926562e-16, -8.42984240e-16, -8.44545673e-16,\n",
       "       -8.46386492e-16, -8.47978033e-16, -8.49665204e-16, -8.50729450e-16,\n",
       "       -8.52075137e-16, -8.53695875e-16, -8.54555130e-16, -8.55652738e-16,\n",
       "       -8.57168291e-16, -8.57876089e-16, -8.58734703e-16, -8.60021004e-16,\n",
       "       -8.60730067e-16, -8.61365804e-16, -8.62427895e-16, -8.63167295e-16,\n",
       "       -8.63600892e-16, -8.64455081e-16, -8.65242408e-16, -8.65498169e-16,\n",
       "       -8.66161293e-16, -8.67006997e-16, -8.67113515e-16, -8.67601586e-16,\n",
       "       -8.68499640e-16, -8.68497530e-16, -8.68825628e-16, -8.69664248e-16,\n",
       "       -8.69695025e-16, -8.69877093e-16, -8.70568232e-16, -8.70743516e-16,\n",
       "       -8.70792654e-16, -8.71345262e-16, -8.71673464e-16, -8.71602915e-16,\n",
       "       -8.72024514e-16, -8.72508107e-16, -8.72332946e-16, -8.72629858e-16,\n",
       "       -8.73261279e-16, -8.73003106e-16, -8.73180909e-16, -8.73914981e-16,\n",
       "       -8.73629762e-16, -8.73693508e-16, -8.74313495e-16, -8.74225413e-16,\n",
       "       -8.74180194e-16, -8.74686345e-16, -8.74799457e-16, -8.74650898e-16,\n",
       "       -8.75044799e-16, -8.75357583e-16, -8.75113221e-16, -8.75396268e-16,\n",
       "       -8.75901345e-16, -8.75573193e-16, -8.75746745e-16, -8.76421176e-16,\n",
       "       -8.76035575e-16, -8.76101170e-16, -8.76751360e-16, -8.76503761e-16,\n",
       "       -8.76463261e-16, -8.77004195e-16, -8.76979699e-16, -8.76835631e-16,\n",
       "       -8.77266937e-16, -8.77463714e-16, -8.77220431e-16, -8.77541914e-16,\n",
       "       -8.77954428e-16, -8.77619540e-16, -8.77831301e-16, -8.78445333e-16,\n",
       "       -8.78034258e-16, -8.78136439e-16, -8.78842542e-16, -8.78465128e-16,\n",
       "       -8.78458436e-16, -8.79054335e-16, -8.78912253e-16, -8.78798124e-16,\n",
       "       -8.79283113e-16, -8.79375469e-16, -8.79156850e-16, -8.79530195e-16,\n",
       "       -8.79853144e-16, -8.79535226e-16, -8.79800583e-16, -8.80397543e-16,\n",
       "       -8.80846997e-16, -8.90753142e-16, -9.73626428e-16, -1.49702855e-15,\n",
       "       -4.18405712e-15, -1.83161670e-14, -9.28939316e-14, -4.06981361e-13,\n",
       "       -1.11089190e-12, -1.13125389e-12, -1.13743919e-12, -1.13935960e-12,\n",
       "       -1.14006502e-12, -1.14044321e-12, -1.14056388e-12, -1.14068245e-12,\n",
       "       -1.14061294e-12, -1.14075455e-12, -1.14152658e-12, -1.14422437e-12])"
      ]
     },
     "execution_count": 56,
     "metadata": {},
     "output_type": "execute_result"
    }
   ],
   "source": [
    "hdul[1].data['HED_TF'][0,:,3]"
   ]
  },
  {
   "cell_type": "code",
   "execution_count": 57,
   "id": "85abf685-e640-4338-bd52-e0a2b8565363",
   "metadata": {
    "tags": []
   },
   "outputs": [
    {
     "data": {
      "image/png": "[encoded data removed]",
      "text/plain": [
       "<Figure size 720x480 with 1 Axes>"
      ]
     },
     "metadata": {},
     "output_type": "display_data"
    }
   ],
   "source": [
    "for i in range(4):\n",
    "    plt.plot(np.abs(hdul[1].data['HED_TF'][0,:,i]), color=f'C{i}')\n",
    "    plt.plot(np.abs(dh_tf[:,i]), color=f'C{i}', ls=':')\n",
    "plt.yscale('log')"
   ]
  },
  {
   "cell_type": "code",
   "execution_count": null,
   "id": "30579c66-9ba9-41f3-83de-01f7fbbc643d",
   "metadata": {},
   "outputs": [],
   "source": []
  },
  {
   "cell_type": "code",
   "execution_count": null,
   "id": "c11e88ac-0bc8-4586-949b-8a9cf710ae83",
   "metadata": {},
   "outputs": [],
   "source": []
  },
  {
   "cell_type": "code",
   "execution_count": null,
   "id": "da98a345-226e-498b-8642-a53d20e2646c",
   "metadata": {},
   "outputs": [],
   "source": []
  },
  {
   "cell_type": "code",
   "execution_count": null,
   "id": "ef544821-94bf-4ad6-badc-3b5c890c07b4",
   "metadata": {},
   "outputs": [],
   "source": []
  },
  {
   "cell_type": "code",
   "execution_count": null,
   "id": "1210c309-3d48-4b4b-a8f9-983971a46fa7",
   "metadata": {},
   "outputs": [],
   "source": []
  },
  {
   "cell_type": "code",
   "execution_count": null,
   "id": "4276ac4c-8477-4aa5-a835-b386ec7b9095",
   "metadata": {},
   "outputs": [],
   "source": []
  },
  {
   "cell_type": "code",
   "execution_count": null,
   "id": "82fed8dc-b886-4fd0-b901-05416d91ca5f",
   "metadata": {},
   "outputs": [],
   "source": []
  },
  {
   "cell_type": "code",
   "execution_count": null,
   "id": "4d6fe722-c6cd-42ec-8e01-edaea47c9fca",
   "metadata": {},
   "outputs": [],
   "source": [
    "abscs_name = 'abscs_230408x'\n",
    "abscs = {\n",
    "    'rs' : np.logspace(np.log10(5), np.log10(50), 10),\n",
    "    'x' : np.array([1e-5, 1e-4, 1e-3, 1e-2, 0.1, 0.3, 0.7, 0.9, 1-1e-3, 1-1e-5]),\n",
    "    'nBs' : np.array([0.001, 0.262, 0.708, 0.818, 0.888, 0.944, 1.006, 1.102, 4.855, 10.]),\n",
    "    'photE' : photE_DH(n=500),\n",
    "    'elecEk' : elecEk_DH(n=500),\n",
    "    'dep_c' : ['H ion', 'He ion', 'exc', 'heat', 'cont', 'xray'],\n",
    "    'dlnz' : 0.04879016,\n",
    "}"
   ]
  },
  {
   "cell_type": "code",
   "execution_count": null,
   "id": "8b5faf18-89b0-45a8-8c78-f3c0a51f628f",
   "metadata": {},
   "outputs": [],
   "source": []
  },
  {
   "cell_type": "code",
   "execution_count": null,
   "id": "7c7f0c67-e0ab-4828-885c-34875d42ab1e",
   "metadata": {},
   "outputs": [],
   "source": []
  },
  {
   "cell_type": "code",
   "execution_count": null,
   "id": "0c89a8ee-7f5a-4a38-92b8-ba5da94fd759",
   "metadata": {},
   "outputs": [],
   "source": []
  },
  {
   "cell_type": "code",
   "execution_count": null,
   "id": "931dd0b8-f4b5-40fd-9ea8-87964dfa8908",
   "metadata": {},
   "outputs": [],
   "source": []
  }
 ],
 "metadata": {
  "kernelspec": {
   "display_name": "Python 3",
   "language": "python",
   "name": "python3"
  },
  "language_info": {
   "codemirror_mode": {
    "name": "ipython",
    "version": 3
   },
   "file_extension": ".py",
   "mimetype": "text/x-python",
   "name": "python",
   "nbconvert_exporter": "python",
   "pygments_lexer": "ipython3",
   "version": "3.8.8"
  }
 },
 "nbformat": 4,
 "nbformat_minor": 5
}
