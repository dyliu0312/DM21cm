{
 "cells": [
  {
   "cell_type": "code",
   "execution_count": 1,
   "id": "0ca0886a-278e-4713-989e-27531e908286",
   "metadata": {},
   "outputs": [],
   "source": [
    "%reload_ext autoreload\n",
    "%autoreload 2\n",
    "\n",
    "import os, sys\n",
    "import pickle\n",
    "\n",
    "import numpy as np\n",
    "from scipy import interpolate\n",
    "\n",
    "%matplotlib inline\n",
    "import matplotlib as mpl\n",
    "import matplotlib.pyplot as plt\n",
    "mpl.rc_file('../matplotlibrc')"
   ]
  },
  {
   "cell_type": "code",
   "execution_count": 2,
   "id": "7490182b-3388-43d6-95ed-aaa7df273c5c",
   "metadata": {},
   "outputs": [],
   "source": [
    "if os.environ['USER'] == 'yitians' and 'submit' in os.uname().nodename:\n",
    "    os.environ['DH_DIR'] = '/work/submit/yitians/darkhistory/DarkHistory'\n",
    "    os.environ['DM21CM_DATA_DIR'] = '/data/submit/yitians/DM21cm'\n",
    "sys.path.append(os.environ['DH_DIR'])\n",
    "sys.path.append('..')"
   ]
  },
  {
   "cell_type": "code",
   "execution_count": 3,
   "id": "2b6eaffb-dcff-40ab-b5f1-21f61145876a",
   "metadata": {},
   "outputs": [],
   "source": [
    "import main\n",
    "\n",
    "import dm21cm.physics as phys"
   ]
  },
  {
   "cell_type": "markdown",
   "id": "3dfd9587-ef3e-4a8a-ab6b-5b8296bb88bd",
   "metadata": {},
   "source": [
    "## 1 DarkHistory runs"
   ]
  },
  {
   "cell_type": "markdown",
   "id": "856a4fcc-edb6-406b-a5ec-80be5d388458",
   "metadata": {},
   "source": [
    "### 1.1 Default injection"
   ]
  },
  {
   "cell_type": "code",
   "execution_count": 60,
   "id": "cc2fa77f-f8a7-4c1b-abce-d105f1e0a9fe",
   "metadata": {},
   "outputs": [],
   "source": [
    "run_name = 'ee_21reion'\n",
    "\n",
    "# custom xe levels\n",
    "base_records = np.load(f'../data/run_info/base_records.npy', allow_pickle=True).item()\n",
    "def x_reion_func(rs):\n",
    "    # extrapolate z low so that darkhistory doesn't complain\n",
    "    z_arr = base_records['z'].copy()\n",
    "    z_arr = np.append(z_arr, 2 * z_arr[-1] - z_arr[-2])\n",
    "    x_e_arr = base_records['x_e'].copy()\n",
    "    x_e_arr = np.append(x_e_arr, x_e_arr[-1])\n",
    "    return interpolate.interp1d(1 + z_arr, x_e_arr)(rs)\n",
    "\n",
    "reion_rs = 41\n",
    "end_rs = base_records['z'][-1] + 1"
   ]
  },
  {
   "cell_type": "code",
   "execution_count": 61,
   "id": "d4bc556f-63b0-45e0-a368-5f4a9fc966c6",
   "metadata": {
    "tags": []
   },
   "outputs": [
    {
     "name": "stdout",
     "output_type": "stream",
     "text": [
      "Loading time: 0.000 s\n",
      "Initialization time: 0.191 s\n",
      "55/506\r"
     ]
    },
    {
     "name": "stderr",
     "output_type": "stream",
     "text": [
      "/zfs/yitians/anaconda3/lib/python3.8/site-packages/scipy/integrate/odepack.py:247: ODEintWarning: Excess work done on this call (perhaps wrong Dfun type). Run with full_output = 1 to get quantitative information.\n",
      "  warnings.warn(warning_msg, ODEintWarning)\n"
     ]
    },
    {
     "name": "stdout",
     "output_type": "stream",
     "text": [
      "Main loop time: 148.839 s\n"
     ]
    }
   ],
   "source": [
    "soln = main.evolve(\n",
    "    DM_process='swave', mDM=1e10, sigmav=1e-23, primary='elec_delta',\n",
    "    start_rs=3000, end_rs=end_rs,\n",
    "    coarsen_factor=12, backreaction=True, reion_switch=True,\n",
    "    struct_boost=phys.struct_boost_func('erfc 1e-3'),\n",
    "    verbose=1, injection_modifier_func=injection_modifier_func,\n",
    "    xe_reion_func=x_reion_func, reion_rs=reion_rs, use_tqdm=False\n",
    ")"
   ]
  },
  {
   "cell_type": "code",
   "execution_count": 63,
   "id": "bedad118-a790-44dd-803f-c3832d35e3ec",
   "metadata": {},
   "outputs": [],
   "source": [
    "pickle.dump(soln, open(f'../data/run_info/DH/{run_name}_soln.p', 'wb'))"
   ]
  },
  {
   "cell_type": "markdown",
   "id": "ba7eb605-b9a4-4d9b-9fd0-37606e22a9d8",
   "metadata": {},
   "source": [
    "### 1.2 Custom injection"
   ]
  },
  {
   "cell_type": "code",
   "execution_count": 9,
   "id": "3179d1c9-21a8-4977-b6f6-15e8b2ecc898",
   "metadata": {},
   "outputs": [],
   "source": [
    "import darkhistory.physics as dhphys\n",
    "from   darkhistory.spec import pppc\n",
    "from   config import load_data"
   ]
  },
  {
   "cell_type": "code",
   "execution_count": 21,
   "id": "2fd4cb11-44ab-444a-9c51-164b51739ff8",
   "metadata": {},
   "outputs": [],
   "source": [
    "run_name = 'phph_turnon_z35_comp'\n",
    "\n",
    "mDM = 1e10\n",
    "sigmav = 1e-23\n",
    "struct_boost = phys.struct_boost_func('erfc 1e-3')\n",
    "\n",
    "photeng = load_data('binning')['phot']\n",
    "eleceng = load_data('binning')['elec']\n",
    "\n",
    "def in_spec_elec_func(rs):\n",
    "    in_spec_elec = pppc.get_pppc_spec(1e10, eleceng, 'phot_delta', 'elec')\n",
    "    in_spec_elec.rs = rs\n",
    "    if rs > 36:\n",
    "        in_spec_elec *= 0\n",
    "    return in_spec_elec\n",
    "\n",
    "def in_spec_phot_func(rs):\n",
    "    in_spec_phot = pppc.get_pppc_spec(1e10, photeng, 'phot_delta', 'phot')\n",
    "    in_spec_phot.rs = rs\n",
    "    if rs > 36:\n",
    "        in_spec_phot *= 0\n",
    "    return in_spec_phot\n",
    "\n",
    "def rate_func_N(rs):\n",
    "    return (\n",
    "        dhphys.inj_rate('swave', rs, mDM=mDM, sigmav=sigmav)\n",
    "        * struct_boost(rs) / (2*mDM)\n",
    "    )\n",
    "def rate_func_eng(rs):\n",
    "    return (\n",
    "        dhphys.inj_rate('swave', rs, mDM=mDM, sigmav=sigmav) \n",
    "        * struct_boost(rs)\n",
    "    )"
   ]
  },
  {
   "cell_type": "code",
   "execution_count": 25,
   "id": "7b8a2e51-07e5-48a0-b9a9-be98acb536c1",
   "metadata": {
    "tags": []
   },
   "outputs": [
    {
     "name": "stdout",
     "output_type": "stream",
     "text": [
      "Loading time: 0.000 s\n",
      "Initialization time: 0.004 s\n",
      "Main loop time: 49.761 s\n"
     ]
    }
   ],
   "source": [
    "soln = main.evolve(\n",
    "    in_spec_elec = in_spec_elec_func,\n",
    "    in_spec_phot = in_spec_phot_func,\n",
    "    rate_func_N = rate_func_N,\n",
    "    rate_func_eng = rate_func_eng,\n",
    "    start_rs=3000, end_rs=7,\n",
    "    coarsen_factor=12, backreaction=True, reion_switch=True,\n",
    "    struct_boost=phys.struct_boost_func('erfc 1e-3'),\n",
    "    verbose=1,\n",
    "    use_tqdm=False\n",
    ")"
   ]
  },
  {
   "cell_type": "markdown",
   "id": "c71c3927-d2bf-4da9-9464-220307b2a16f",
   "metadata": {},
   "source": [
    "## 2. Make arr_records and save"
   ]
  },
  {
   "cell_type": "code",
   "execution_count": 26,
   "id": "fae168e2-1f28-45fc-8ab7-a1a48fc8ad72",
   "metadata": {},
   "outputs": [
    {
     "name": "stdout",
     "output_type": "stream",
     "text": [
      "phph_turnon_z35_comp\n"
     ]
    }
   ],
   "source": [
    "arr_records = {\n",
    "    'z' : soln['rs'] - 1,\n",
    "    'x_e' : soln['x'][:,0],\n",
    "    'T_k' : soln['Tm']/phys.kB,\n",
    "    'f_heat' : soln['f']['low']['heat'] + soln['f']['high']['heat'],\n",
    "    'f_ion' : soln['f']['low']['H ion']  + soln['f']['high']['H ion'] + \\\n",
    "              soln['f']['low']['He ion'] + soln['f']['high']['He ion'],\n",
    "    'f_exc' : soln['f']['low']['exc'] + soln['f']['high']['exc'],\n",
    "}\n",
    "\n",
    "z_low, z_high = 6, 44\n",
    "z_arr = arr_records['z'][::-1]\n",
    "i_low = np.searchsorted(z_arr, z_low)\n",
    "i_high = np.searchsorted(z_arr, z_high)\n",
    "\n",
    "for k in arr_records.keys():\n",
    "    arr_records[k] = arr_records[k][::-1][i_low:i_high]\n",
    "    \n",
    "print(run_name)"
   ]
  },
  {
   "cell_type": "code",
   "execution_count": 27,
   "id": "88d1a173-f450-4d42-8102-017ee37ae0a4",
   "metadata": {},
   "outputs": [],
   "source": [
    "np.save(f'../data/run_info/DH/{run_name}_records', arr_records)"
   ]
  },
  {
   "cell_type": "code",
   "execution_count": null,
   "id": "0afd1ef6-39f0-4b37-a5b6-ab7ac74cae93",
   "metadata": {},
   "outputs": [],
   "source": []
  }
 ],
 "metadata": {
  "kernelspec": {
   "display_name": "Python 3",
   "language": "python",
   "name": "python3"
  },
  "language_info": {
   "codemirror_mode": {
    "name": "ipython",
    "version": 3
   },
   "file_extension": ".py",
   "mimetype": "text/x-python",
   "name": "python",
   "nbconvert_exporter": "python",
   "pygments_lexer": "ipython3",
   "version": "3.8.8"
  }
 },
 "nbformat": 4,
 "nbformat_minor": 5
}
