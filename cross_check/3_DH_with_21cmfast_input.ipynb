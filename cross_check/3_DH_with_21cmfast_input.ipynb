{
 "cells": [
  {
   "cell_type": "code",
   "execution_count": 1,
   "id": "0ca0886a-278e-4713-989e-27531e908286",
   "metadata": {},
   "outputs": [],
   "source": [
    "%reload_ext autoreload\n",
    "%autoreload 2\n",
    "\n",
    "import os, sys\n",
    "\n",
    "import numpy as np\n",
    "from scipy import interpolate\n",
    "\n",
    "%matplotlib inline\n",
    "import matplotlib as mpl\n",
    "import matplotlib.pyplot as plt\n",
    "mpl.rc_file('../matplotlibrc')"
   ]
  },
  {
   "cell_type": "code",
   "execution_count": 2,
   "id": "7490182b-3388-43d6-95ed-aaa7df273c5c",
   "metadata": {},
   "outputs": [],
   "source": [
    "if os.environ['USER'] == 'yitians' and 'submit' in os.uname().nodename:\n",
    "    os.environ['DH_DIR'] = '/work/submit/yitians/darkhistory/DarkHistory'\n",
    "    os.environ['DM21CM_DATA_DIR'] = '/data/submit/yitians/DM21cm'\n",
    "sys.path.append(os.environ['DH_DIR'])\n",
    "sys.path.append('..')"
   ]
  },
  {
   "cell_type": "code",
   "execution_count": 15,
   "id": "2b6eaffb-dcff-40ab-b5f1-21f61145876a",
   "metadata": {},
   "outputs": [],
   "source": [
    "import main\n",
    "\n",
    "import dm21cm.physics as phys"
   ]
  },
  {
   "cell_type": "markdown",
   "id": "3dfd9587-ef3e-4a8a-ab6b-5b8296bb88bd",
   "metadata": {},
   "source": [
    "## config"
   ]
  },
  {
   "cell_type": "code",
   "execution_count": 13,
   "id": "cc2fa77f-f8a7-4c1b-abce-d105f1e0a9fe",
   "metadata": {},
   "outputs": [],
   "source": [
    "run_name = 'rundh_phph_mh3_21reion'\n",
    "\n",
    "# DM turns on\n",
    "#injection_modifier_func = lambda rs: float(rs < 41)\n",
    "injection_modifier_func = None\n",
    "\n",
    "# custom xe levels\n",
    "base_records = np.load(f'../data/run_info/base_records.npy', allow_pickle=True).item()\n",
    "def xe_reion_func(rs):\n",
    "    return (1 + phys.chi) * interpolate.interp1d(1 + base_records['z'], base_records['x_e'])(rs)\n",
    "def xH_reion_func(rs):\n",
    "    return xe_reion_func(rs) / (1 + phys.chi)"
   ]
  },
  {
   "cell_type": "code",
   "execution_count": 17,
   "id": "801782f7-d2d9-4947-b1a2-9dff4fa6e56a",
   "metadata": {},
   "outputs": [
    {
     "data": {
      "text/plain": [
       "41.56984859939324"
      ]
     },
     "execution_count": 17,
     "metadata": {},
     "output_type": "execute_result"
    }
   ],
   "source": [
    "base_records['z'][0]"
   ]
  },
  {
   "cell_type": "code",
   "execution_count": 18,
   "id": "d4bc556f-63b0-45e0-a368-5f4a9fc966c6",
   "metadata": {
    "tags": []
   },
   "outputs": [
    {
     "name": "stdout",
     "output_type": "stream",
     "text": [
      "Loading time: 0.209 s\n"
     ]
    },
    {
     "name": "stderr",
     "output_type": "stream",
     "text": [
      "\n",
      "\n",
      "  0%|          | 0/506 [00:00<?, ?it/s]\u001b[A\u001b[A\n",
      "\n",
      "  0%|          | 1/506 [00:00<01:32,  5.47it/s]\u001b[A\u001b[A"
     ]
    },
    {
     "name": "stdout",
     "output_type": "stream",
     "text": [
      "Initialization time: 0.291 s\n"
     ]
    },
    {
     "name": "stderr",
     "output_type": "stream",
     "text": [
      "\n",
      "\n",
      "  0%|          | 2/506 [00:01<09:00,  1.07s/it]\u001b[A\u001b[A\n",
      "\n",
      "  1%|          | 3/506 [00:03<10:41,  1.28s/it]\u001b[A\u001b[A\n",
      "\n",
      "  1%|          | 4/506 [00:04<11:38,  1.39s/it]\u001b[A\u001b[A\n",
      "\n",
      "  1%|          | 5/506 [00:06<12:30,  1.50s/it]\u001b[A\u001b[A\n",
      "\n",
      "  1%|          | 6/506 [00:08<12:06,  1.45s/it]\u001b[A\u001b[A\n",
      "\n",
      "  1%|▏         | 7/506 [00:09<12:23,  1.49s/it]\u001b[A\u001b[A\n",
      "\n",
      "  2%|▏         | 8/506 [00:11<12:17,  1.48s/it]\u001b[A\u001b[A\n",
      "\n",
      "  2%|▏         | 9/506 [00:12<13:22,  1.61s/it]\u001b[A\u001b[A\n",
      "\n",
      "  2%|▏         | 10/506 [00:14<13:15,  1.60s/it]\u001b[A\u001b[A\n",
      "\n",
      "  2%|▏         | 11/506 [00:16<13:40,  1.66s/it]\u001b[A\u001b[A\n",
      "\n",
      "  2%|▏         | 12/506 [00:19<16:43,  2.03s/it]\u001b[A\u001b[A\n",
      "\n",
      "  3%|▎         | 13/506 [00:21<16:34,  2.02s/it]\u001b[A\u001b[A\n",
      "\n",
      "  3%|▎         | 14/506 [00:23<16:30,  2.01s/it]\u001b[A\u001b[A\n",
      "\n",
      "  3%|▎         | 15/506 [00:25<16:57,  2.07s/it]\u001b[A\u001b[A\n",
      "\n",
      "  3%|▎         | 16/506 [00:27<16:54,  2.07s/it]\u001b[A\u001b[A\n",
      "\n",
      "  3%|▎         | 17/506 [00:29<16:46,  2.06s/it]\u001b[A\u001b[A\n",
      "\n",
      "  4%|▎         | 18/506 [00:31<15:32,  1.91s/it]\u001b[A\u001b[A\n",
      "\n",
      "  4%|▍         | 19/506 [00:32<14:36,  1.80s/it]\u001b[A\u001b[A\n",
      "\n",
      "  4%|▍         | 20/506 [00:33<13:29,  1.66s/it]\u001b[A\u001b[A\n",
      "\n",
      "  4%|▍         | 21/506 [00:35<13:23,  1.66s/it]\u001b[A\u001b[A\n",
      "\n",
      "  4%|▍         | 22/506 [00:36<12:06,  1.50s/it]\u001b[A\u001b[A\n",
      "\n",
      "  5%|▍         | 23/506 [00:38<12:36,  1.57s/it]\u001b[A\u001b[A\n",
      "\n",
      "  5%|▍         | 24/506 [00:39<12:26,  1.55s/it]\u001b[A\u001b[A\n",
      "\n",
      "  5%|▍         | 25/506 [00:41<13:01,  1.62s/it]\u001b[A\u001b[A\n",
      "\n",
      "  5%|▌         | 26/506 [00:43<12:10,  1.52s/it]\u001b[A\u001b[A"
     ]
    },
    {
     "ename": "KeyboardInterrupt",
     "evalue": "",
     "output_type": "error",
     "traceback": [
      "\u001b[0;31m---------------------------------------------------------------------------\u001b[0m",
      "\u001b[0;31mKeyboardInterrupt\u001b[0m                         Traceback (most recent call last)",
      "\u001b[0;32m/tmp/ipykernel_465190/3147377650.py\u001b[0m in \u001b[0;36m<module>\u001b[0;34m\u001b[0m\n\u001b[1;32m      8\u001b[0m     \u001b[0mstruct_boost\u001b[0m\u001b[0;34m=\u001b[0m\u001b[0mphys\u001b[0m\u001b[0;34m.\u001b[0m\u001b[0mstruct_boost_func\u001b[0m\u001b[0;34m(\u001b[0m\u001b[0;34m'erfc 1e-3'\u001b[0m\u001b[0;34m)\u001b[0m\u001b[0;34m,\u001b[0m\u001b[0;34m\u001b[0m\u001b[0;34m\u001b[0m\u001b[0m\n\u001b[1;32m      9\u001b[0m     \u001b[0mverbose\u001b[0m\u001b[0;34m=\u001b[0m\u001b[0;36m1\u001b[0m\u001b[0;34m,\u001b[0m \u001b[0minjection_modifier_func\u001b[0m\u001b[0;34m=\u001b[0m\u001b[0minjection_modifier_func\u001b[0m\u001b[0;34m,\u001b[0m\u001b[0;34m\u001b[0m\u001b[0;34m\u001b[0m\u001b[0m\n\u001b[0;32m---> 10\u001b[0;31m     \u001b[0mxe_reion_func\u001b[0m\u001b[0;34m=\u001b[0m\u001b[0mxH_reion_func\u001b[0m\u001b[0;34m,\u001b[0m \u001b[0mreion_rs\u001b[0m\u001b[0;34m=\u001b[0m\u001b[0mreion_rs\u001b[0m\u001b[0;34m\u001b[0m\u001b[0;34m\u001b[0m\u001b[0m\n\u001b[0m\u001b[1;32m     11\u001b[0m )\n",
      "\u001b[0;32m/work/submit/yitians/darkhistory/DarkHistory/main.py\u001b[0m in \u001b[0;36mevolve\u001b[0;34m(in_spec_elec, in_spec_phot, rate_func_N, rate_func_eng, DM_process, mDM, sigmav, lifetime, primary, struct_boost, start_rs, end_rs, helium_TLA, reion_switch, reion_rs, photoion_rate_func, photoheat_rate_func, xe_reion_func, init_cond, coarsen_factor, backreaction, compute_fs_method, mxstep, rtol, use_tqdm, cross_check, tf_mode, verbose, injection_modifier_func)\u001b[0m\n\u001b[1;32m    680\u001b[0m                 get_tf(\n\u001b[1;32m    681\u001b[0m                     \u001b[0mrs\u001b[0m\u001b[0;34m,\u001b[0m \u001b[0mxHII_to_interp\u001b[0m\u001b[0;34m,\u001b[0m \u001b[0mxHeII_to_interp\u001b[0m\u001b[0;34m,\u001b[0m\u001b[0;34m\u001b[0m\u001b[0;34m\u001b[0m\u001b[0m\n\u001b[0;32m--> 682\u001b[0;31m                     \u001b[0mdlnz\u001b[0m\u001b[0;34m,\u001b[0m \u001b[0mcoarsen_factor\u001b[0m\u001b[0;34m=\u001b[0m\u001b[0mcoarsen_factor\u001b[0m\u001b[0;34m\u001b[0m\u001b[0;34m\u001b[0m\u001b[0m\n\u001b[0m\u001b[1;32m    683\u001b[0m                 )\n\u001b[1;32m    684\u001b[0m             )\n",
      "\u001b[0;32m/work/submit/yitians/darkhistory/DarkHistory/main.py\u001b[0m in \u001b[0;36mget_tf\u001b[0;34m(rs, xHII, xHeII, dlnz, coarsen_factor)\u001b[0m\n\u001b[1;32m    936\u001b[0m         \u001b[0mprop_tf\u001b[0m \u001b[0;34m=\u001b[0m \u001b[0mnp\u001b[0m\u001b[0;34m.\u001b[0m\u001b[0mzeros_like\u001b[0m\u001b[0;34m(\u001b[0m\u001b[0mhighengphot_tf\u001b[0m\u001b[0;34m.\u001b[0m\u001b[0m_grid_vals\u001b[0m\u001b[0;34m)\u001b[0m\u001b[0;34m\u001b[0m\u001b[0;34m\u001b[0m\u001b[0m\n\u001b[1;32m    937\u001b[0m         \u001b[0;32mfor\u001b[0m \u001b[0mi\u001b[0m \u001b[0;32min\u001b[0m \u001b[0mnp\u001b[0m\u001b[0;34m.\u001b[0m\u001b[0marange\u001b[0m\u001b[0;34m(\u001b[0m\u001b[0mcoarsen_factor\u001b[0m\u001b[0;34m)\u001b[0m\u001b[0;34m:\u001b[0m\u001b[0;34m\u001b[0m\u001b[0;34m\u001b[0m\u001b[0m\n\u001b[0;32m--> 938\u001b[0;31m             \u001b[0mprop_tf\u001b[0m \u001b[0;34m+=\u001b[0m \u001b[0mmatrix_power\u001b[0m\u001b[0;34m(\u001b[0m\u001b[0mhighengphot_tf\u001b[0m\u001b[0;34m.\u001b[0m\u001b[0m_grid_vals\u001b[0m\u001b[0;34m,\u001b[0m \u001b[0mi\u001b[0m\u001b[0;34m)\u001b[0m\u001b[0;34m\u001b[0m\u001b[0;34m\u001b[0m\u001b[0m\n\u001b[0m\u001b[1;32m    939\u001b[0m         lowengphot_tf._grid_vals = np.matmul(\n\u001b[1;32m    940\u001b[0m             \u001b[0mprop_tf\u001b[0m\u001b[0;34m,\u001b[0m \u001b[0mlowengphot_tf\u001b[0m\u001b[0;34m.\u001b[0m\u001b[0m_grid_vals\u001b[0m\u001b[0;34m\u001b[0m\u001b[0;34m\u001b[0m\u001b[0m\n",
      "\u001b[0;32m<__array_function__ internals>\u001b[0m in \u001b[0;36mmatrix_power\u001b[0;34m(*args, **kwargs)\u001b[0m\n",
      "\u001b[0;32m/work/submit/yitians/anaconda3/envs/21cmfast/lib/python3.7/site-packages/numpy/linalg/linalg.py\u001b[0m in \u001b[0;36mmatrix_power\u001b[0;34m(a, n)\u001b[0m\n\u001b[1;32m    662\u001b[0m         \u001b[0mn\u001b[0m\u001b[0;34m,\u001b[0m \u001b[0mbit\u001b[0m \u001b[0;34m=\u001b[0m \u001b[0mdivmod\u001b[0m\u001b[0;34m(\u001b[0m\u001b[0mn\u001b[0m\u001b[0;34m,\u001b[0m \u001b[0;36m2\u001b[0m\u001b[0;34m)\u001b[0m\u001b[0;34m\u001b[0m\u001b[0;34m\u001b[0m\u001b[0m\n\u001b[1;32m    663\u001b[0m         \u001b[0;32mif\u001b[0m \u001b[0mbit\u001b[0m\u001b[0;34m:\u001b[0m\u001b[0;34m\u001b[0m\u001b[0;34m\u001b[0m\u001b[0m\n\u001b[0;32m--> 664\u001b[0;31m             \u001b[0mresult\u001b[0m \u001b[0;34m=\u001b[0m \u001b[0mz\u001b[0m \u001b[0;32mif\u001b[0m \u001b[0mresult\u001b[0m \u001b[0;32mis\u001b[0m \u001b[0;32mNone\u001b[0m \u001b[0;32melse\u001b[0m \u001b[0mfmatmul\u001b[0m\u001b[0;34m(\u001b[0m\u001b[0mresult\u001b[0m\u001b[0;34m,\u001b[0m \u001b[0mz\u001b[0m\u001b[0;34m)\u001b[0m\u001b[0;34m\u001b[0m\u001b[0;34m\u001b[0m\u001b[0m\n\u001b[0m\u001b[1;32m    665\u001b[0m \u001b[0;34m\u001b[0m\u001b[0m\n\u001b[1;32m    666\u001b[0m     \u001b[0;32mreturn\u001b[0m \u001b[0mresult\u001b[0m\u001b[0;34m\u001b[0m\u001b[0;34m\u001b[0m\u001b[0m\n",
      "\u001b[0;31mKeyboardInterrupt\u001b[0m: "
     ]
    }
   ],
   "source": [
    "reion_rs = 41\n",
    "end_rs = base_records['z'][-1] + 1\n",
    "\n",
    "soln = main.evolve(\n",
    "    DM_process='swave', mDM=1e10, sigmav=1e-23, primary='phot_delta',\n",
    "    start_rs=3000, end_rs=end_rs,\n",
    "    coarsen_factor=12, backreaction=True, reion_switch=True,\n",
    "    struct_boost=phys.struct_boost_func('erfc 1e-3'),\n",
    "    verbose=1, injection_modifier_func=injection_modifier_func,\n",
    "    xe_reion_func=xH_reion_func, reion_rs=reion_rs\n",
    ")"
   ]
  },
  {
   "cell_type": "code",
   "execution_count": 15,
   "id": "bedad118-a790-44dd-803f-c3832d35e3ec",
   "metadata": {},
   "outputs": [],
   "source": [
    "pickle.dump(soln, open(f'../data/{run_name}_soln.p', 'wb'))"
   ]
  },
  {
   "cell_type": "code",
   "execution_count": 16,
   "id": "fae168e2-1f28-45fc-8ab7-a1a48fc8ad72",
   "metadata": {},
   "outputs": [],
   "source": [
    "arr_records = {\n",
    "    'z' : soln['rs'] - 1,\n",
    "    'x_e' : soln['x'][:,0],\n",
    "    'T_k' : soln['Tm']/phys.kB,\n",
    "    'f_heat' : soln['f']['low']['heat'] + soln['f']['high']['heat'],\n",
    "    'f_ion' : soln['f']['low']['H ion']  + soln['f']['high']['H ion'] + \\\n",
    "              soln['f']['low']['He ion'] + soln['f']['high']['He ion'],\n",
    "    'f_exc' : soln['f']['low']['exc'] + soln['f']['high']['exc'],\n",
    "}\n",
    "\n",
    "z_low, z_high = 6, 44\n",
    "z_arr = arr_records['z'][::-1]\n",
    "i_low = np.searchsorted(z_arr, z_low)\n",
    "i_high = np.searchsorted(z_arr, z_high)\n",
    "\n",
    "for k in arr_records.keys():\n",
    "    arr_records[k] = arr_records[k][::-1][i_low:i_high]"
   ]
  },
  {
   "cell_type": "code",
   "execution_count": 17,
   "id": "88d1a173-f450-4d42-8102-017ee37ae0a4",
   "metadata": {},
   "outputs": [],
   "source": [
    "np.save(f'../data/run_info/{run_name}_records', arr_records)"
   ]
  },
  {
   "cell_type": "code",
   "execution_count": null,
   "id": "750f6c36-2d54-4fef-8691-4969ee571185",
   "metadata": {},
   "outputs": [],
   "source": []
  }
 ],
 "metadata": {
  "kernelspec": {
   "display_name": "21cmfast",
   "language": "python",
   "name": "21cmfast"
  },
  "language_info": {
   "codemirror_mode": {
    "name": "ipython",
    "version": 3
   },
   "file_extension": ".py",
   "mimetype": "text/x-python",
   "name": "python",
   "nbconvert_exporter": "python",
   "pygments_lexer": "ipython3",
   "version": "3.7.12"
  }
 },
 "nbformat": 4,
 "nbformat_minor": 5
}
