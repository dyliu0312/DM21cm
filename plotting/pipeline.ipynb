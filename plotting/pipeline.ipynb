{
 "cells": [
  {
   "cell_type": "code",
   "execution_count": 159,
   "metadata": {},
   "outputs": [],
   "source": [
    "%reload_ext autoreload\n",
    "%autoreload 2\n",
    "\n",
    "import os\n",
    "import sys\n",
    "\n",
    "import numpy as np\n",
    "from dataclasses import dataclass\n",
    "\n",
    "%matplotlib inline\n",
    "import matplotlib as mpl\n",
    "import matplotlib.pyplot as plt\n",
    "from matplotlib import colormaps as cms\n",
    "mpl.rc_file('../matplotlibrc')\n",
    "\n",
    "from matplotlib.transforms import Affine2D\n",
    "from matplotlib.colors import Normalize\n",
    "\n",
    "from PIL import Image\n",
    "import glob"
   ]
  },
  {
   "cell_type": "code",
   "execution_count": 160,
   "metadata": {},
   "outputs": [],
   "source": [
    "@dataclass\n",
    "class PlotConfig:\n",
    "    k: str\n",
    "    i_arr: list\n",
    "    cmap: str\n",
    "    drange: tuple\n",
    "\n",
    "def normalize_to_range(arr, vmin, vmax):\n",
    "    return (arr - vmin) / (vmax - vmin)\n",
    "\n",
    "def remove_white_pixels(image):\n",
    "    img = image.convert(\"RGBA\")\n",
    "    data = img.getdata()\n",
    "    newData = [(r, g, b, 0) if np.sqrt((r-255)**2+(g-255)**2+(b-255)**2) < 10 else (r, g, b, a) for r, g, b, a in data]\n",
    "    img.putdata(newData)\n",
    "    return img\n",
    "\n",
    "def crop_transparent(image):\n",
    "    image_data = np.array(image)\n",
    "    non_empty_columns = np.where(image_data.max(axis=0)[:, 3] > 0)[0]\n",
    "    non_empty_rows = np.where(image_data.max(axis=1)[:, 3] > 0)[0]\n",
    "    cropBox = (min(non_empty_rows), max(non_empty_rows), min(non_empty_columns), max(non_empty_columns))\n",
    "    image_data_new = image_data[cropBox[0]:cropBox[1]+1, cropBox[2]:cropBox[3]+1 , :]\n",
    "    return Image.fromarray(image_data_new)"
   ]
  },
  {
   "cell_type": "code",
   "execution_count": null,
   "metadata": {},
   "outputs": [],
   "source": [
    "run_data = np.load(\"../outputs/dm21cm/plot_records.npy\", allow_pickle=True).item()"
   ]
  },
  {
   "cell_type": "code",
   "execution_count": 154,
   "metadata": {},
   "outputs": [],
   "source": [
    "configs = [\n",
    "    PlotConfig('delta_slice', [130, 140], 'binary', (-0.5, 1.0)),\n",
    "    PlotConfig('T_k_slice',   [130, 140], 'plasma', (3., 10.)),\n",
    "    PlotConfig('x_H_slice',   [130, 140], 'viridis', (0., 1.)),\n",
    "    PlotConfig('dep_heat_slice', [130], 'Reds', (0., 1.)),\n",
    "    PlotConfig('dep_ion_slice', [130], 'Greens', (0., 0.5)),\n",
    "    PlotConfig('dep_exc_slice', [130], 'Purples', (0., 0.3)),\n",
    "]"
   ]
  },
  {
   "cell_type": "code",
   "execution_count": null,
   "metadata": {},
   "outputs": [],
   "source": [
    "for c in configs:\n",
    "    n_max = 32\n",
    "    for i in c.i_arr:\n",
    "        data = run_data[c.k][i][:n_max, :n_max].copy()\n",
    "        tot_dep = run_data['dep_heat_slice'][i][:n_max, :n_max] \\\n",
    "                + run_data['dep_ion_slice'][i][:n_max, :n_max] \\\n",
    "                + run_data['dep_exc_slice'][i][:n_max, :n_max]\n",
    "        tot_dep = np.mean(tot_dep)\n",
    "        if c.k == 'x_H_slice':\n",
    "            data = 1 - data\n",
    "        if c.k.startswith('dep'):\n",
    "            data /= tot_dep\n",
    "        data = normalize_to_range(data, *c.drange)\n",
    "\n",
    "        fig, ax = plt.subplots()\n",
    "        im = ax.imshow(data, interpolation='none', cmap=c.cmap, origin='lower', vmin=0, vmax=1)\n",
    "        transform = Affine2D().scale(1, 0.3).skew_deg(45, 0) + ax.transData\n",
    "        im.set_transform(transform)\n",
    "        ax.set(xlim=(-1,1+int(n_max*1.3)), ylim=(-1,1+int(n_max*0.3)))\n",
    "        ax.axis('off')\n",
    "        fig.savefig(f\"../plots/pipeline_diagram/{c.k}-{i}.png\", bbox_inches='tight')"
   ]
  },
  {
   "cell_type": "code",
   "execution_count": 163,
   "metadata": {},
   "outputs": [],
   "source": [
    "plot_dir = \"../plots/pipeline_diagram\"\n",
    "fns = glob.glob(f\"{plot_dir}/*.png\")\n",
    "for fn in fns:\n",
    "    save_fn = f\"{fn.split('.png')[0]}_cropped.png\"\n",
    "    original_image = Image.open(fn)\n",
    "    no_white_image = remove_white_pixels(original_image)\n",
    "    cropped_image = crop_transparent(no_white_image)\n",
    "    cropped_image.save(save_fn)"
   ]
  },
  {
   "cell_type": "markdown",
   "metadata": {},
   "source": [
    "## fake data"
   ]
  },
  {
   "cell_type": "code",
   "execution_count": null,
   "metadata": {},
   "outputs": [],
   "source": [
    "for cmap in ['binary', 'plasma', 'magma', 'viridis', 'Blues', 'Reds', 'Greens', 'Purples']:\n",
    "    N = 10\n",
    "    data = np.random.rand(N, N)\n",
    "    norm = Normalize(-0.4, 1.4, clip=False)\n",
    "\n",
    "    fig, ax = plt.subplots()\n",
    "    im = ax.imshow(data, interpolation='none', cmap=cmap, origin='lower', norm=norm)\n",
    "    transform = Affine2D().scale(1, 0.3).skew_deg(45, 0) + ax.transData\n",
    "    im.set_transform(transform)\n",
    "    ax.set(xlim=(-1,13), ylim=(-1,4))\n",
    "    ax.axis('off')\n",
    "    fig.savefig(f\"../plots/pipeline_diagram/{cmap}.png\", bbox_inches='tight')"
   ]
  }
 ],
 "metadata": {
  "kernelspec": {
   "display_name": "torch",
   "language": "python",
   "name": "python3"
  },
  "language_info": {
   "codemirror_mode": {
    "name": "ipython",
    "version": 3
   },
   "file_extension": ".py",
   "mimetype": "text/x-python",
   "name": "python",
   "nbconvert_exporter": "python",
   "pygments_lexer": "ipython3",
   "version": "3.11.5"
  }
 },
 "nbformat": 4,
 "nbformat_minor": 2
}
