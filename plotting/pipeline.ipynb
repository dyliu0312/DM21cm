{
 "cells": [
  {
   "cell_type": "code",
   "execution_count": 20,
   "metadata": {},
   "outputs": [],
   "source": [
    "%reload_ext autoreload\n",
    "%autoreload 2\n",
    "\n",
    "import numpy as np\n",
    "\n",
    "%matplotlib inline\n",
    "import matplotlib as mpl\n",
    "import matplotlib.pyplot as plt\n",
    "from matplotlib import colormaps as cms\n",
    "mpl.rc_file('../matplotlibrc')"
   ]
  },
  {
   "cell_type": "code",
   "execution_count": 25,
   "metadata": {},
   "outputs": [],
   "source": [
    "from matplotlib.transforms import Affine2D\n",
    "from matplotlib.colors import Normalize"
   ]
  },
  {
   "cell_type": "code",
   "execution_count": null,
   "metadata": {},
   "outputs": [],
   "source": [
    "for cmap in ['binary', 'plasma', 'magma', 'viridis', 'Blues', 'Reds', 'Greens', 'Purples']:\n",
    "    N = 10\n",
    "    data = np.random.rand(N, N)\n",
    "    norm = Normalize(-0.4, 1.4, clip=False)\n",
    "\n",
    "    fig, ax = plt.subplots()\n",
    "    im = ax.imshow(data, interpolation='none', cmap=cmap, origin='lower', norm=norm)\n",
    "    transform = Affine2D().scale(1, 0.3).skew_deg(45, 0) + ax.transData\n",
    "    im.set_transform(transform)\n",
    "    ax.set(xlim=(-1,13), ylim=(-1,4))\n",
    "    ax.axis('off')\n",
    "    fig.savefig(f\"../plots/pipeline_diagram/{cmap}.png\", bbox_inches='tight')"
   ]
  },
  {
   "cell_type": "code",
   "execution_count": 45,
   "metadata": {},
   "outputs": [],
   "source": [
    "from PIL import Image\n",
    "\n",
    "def remove_white_pixels(image):\n",
    "    img = image.convert(\"RGBA\")\n",
    "    data = img.getdata()\n",
    "    newData = [(r, g, b, 0) if np.sqrt((r-255)**2+(g-255)**2+(b-255)**2) < 10 else (r, g, b, a) for r, g, b, a in data]\n",
    "    img.putdata(newData)\n",
    "    return img\n",
    "\n",
    "def crop_transparent(image):\n",
    "    image_data = np.array(image)\n",
    "    non_empty_columns = np.where(image_data.max(axis=0)[:, 3] > 0)[0]\n",
    "    non_empty_rows = np.where(image_data.max(axis=1)[:, 3] > 0)[0]\n",
    "    cropBox = (min(non_empty_rows), max(non_empty_rows), min(non_empty_columns), max(non_empty_columns))\n",
    "    image_data_new = image_data[cropBox[0]:cropBox[1]+1, cropBox[2]:cropBox[3]+1 , :]\n",
    "    return Image.fromarray(image_data_new)"
   ]
  },
  {
   "cell_type": "code",
   "execution_count": 46,
   "metadata": {},
   "outputs": [],
   "source": [
    "for cmap in ['binary', 'plasma', 'magma', 'viridis', 'Blues', 'Reds', 'Greens', 'Purples']:\n",
    "    plot_dir = \"../plots/pipeline_diagram/\"\n",
    "    fn = plot_dir + cmap + '.png'\n",
    "    save_fn = plot_dir + cmap + '_cropped.png'\n",
    "    original_image = Image.open(fn)\n",
    "    no_white_image = remove_white_pixels(original_image)\n",
    "    cropped_image = crop_transparent(no_white_image)\n",
    "    cropped_image.save(save_fn)"
   ]
  },
  {
   "cell_type": "code",
   "execution_count": null,
   "metadata": {},
   "outputs": [],
   "source": []
  }
 ],
 "metadata": {
  "kernelspec": {
   "display_name": "torch",
   "language": "python",
   "name": "python3"
  },
  "language_info": {
   "codemirror_mode": {
    "name": "ipython",
    "version": 3
   },
   "file_extension": ".py",
   "mimetype": "text/x-python",
   "name": "python",
   "nbconvert_exporter": "python",
   "pygments_lexer": "ipython3",
   "version": "3.10.4"
  }
 },
 "nbformat": 4,
 "nbformat_minor": 2
}
