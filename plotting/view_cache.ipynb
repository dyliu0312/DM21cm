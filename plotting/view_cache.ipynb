{
 "cells": [
  {
   "cell_type": "code",
   "execution_count": 1,
   "metadata": {},
   "outputs": [],
   "source": [
    "%reload_ext autoreload\n",
    "%autoreload 2\n",
    "\n",
    "import os\n",
    "import sys\n",
    "\n",
    "from tqdm import tqdm\n",
    "import pickle\n",
    "import h5py\n",
    "\n",
    "import numpy as np\n",
    "from astropy.cosmology import Planck18\n",
    "from astropy import units as u\n",
    "from astropy import constants as const\n",
    "\n",
    "%matplotlib inline\n",
    "import matplotlib as mpl\n",
    "import matplotlib.pyplot as plt\n",
    "from matplotlib import colormaps as cms\n",
    "mpl.rc_file('../matplotlibrc')"
   ]
  },
  {
   "cell_type": "code",
   "execution_count": 2,
   "metadata": {},
   "outputs": [],
   "source": [
    "sys.path.append(os.environ['DM21CM_DIR'])\n",
    "sys.path.append(os.environ['DH_DIR'])"
   ]
  },
  {
   "cell_type": "code",
   "execution_count": 3,
   "metadata": {},
   "outputs": [],
   "source": [
    "cache_dir = os.environ['P21C_CACHE_DIR']"
   ]
  },
  {
   "cell_type": "code",
   "execution_count": 5,
   "metadata": {},
   "outputs": [],
   "source": [
    "run_name = 'xcis_phph_lifetime26_noLX_nopop2_zf001'\n",
    "flist = os.listdir(cache_dir + '/' + run_name)\n"
   ]
  },
  {
   "cell_type": "code",
   "execution_count": 8,
   "metadata": {},
   "outputs": [],
   "source": [
    "ionizedbox_fl = [f for f in flist if f.startswith('IonizedBox')]"
   ]
  },
  {
   "cell_type": "code",
   "execution_count": 13,
   "metadata": {},
   "outputs": [
    {
     "name": "stderr",
     "output_type": "stream",
     "text": [
      "100%|██████████| 2038/2038 [00:01<00:00, 1777.84it/s]\n"
     ]
    }
   ],
   "source": [
    "base_dir = cache_dir + '/' + run_name\n",
    "\n",
    "z_s = []\n",
    "for f in tqdm(ionizedbox_fl):\n",
    "    with h5py.File(base_dir + '/' + ionizedbox_fl[0], 'r') as hf:\n",
    "        z_s.append(hf.attrs['redshift'])\n",
    "pickle.dump((ionizedbox_fl, z_s), open(base_dir + '/ionizedbox_fl_zs.p', 'wb'))"
   ]
  },
  {
   "cell_type": "code",
   "execution_count": null,
   "metadata": {},
   "outputs": [],
   "source": []
  }
 ],
 "metadata": {
  "kernelspec": {
   "display_name": "dm21cm",
   "language": "python",
   "name": "python3"
  },
  "language_info": {
   "codemirror_mode": {
    "name": "ipython",
    "version": 3
   },
   "file_extension": ".py",
   "mimetype": "text/x-python",
   "name": "python",
   "nbconvert_exporter": "python",
   "pygments_lexer": "ipython3",
   "version": "3.11.5"
  }
 },
 "nbformat": 4,
 "nbformat_minor": 2
}
