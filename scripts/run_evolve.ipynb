{
 "cells": [
  {
   "cell_type": "code",
   "execution_count": 1,
   "metadata": {},
   "outputs": [
    {
     "name": "stderr",
     "output_type": "stream",
     "text": [
      "/n/home07/yitians/.conda/envs/dm21cm/lib/python3.11/site-packages/py21cmfast/_cfg.py:58: UserWarning: Your configuration file is out of date. Updating...\n",
      "  warnings.warn(\n",
      "/n/home07/yitians/.conda/envs/dm21cm/lib/python3.11/site-packages/py21cmfast/_cfg.py:42: UserWarning: Your configuration file is out of date. Updating...\n",
      "  warnings.warn(\"Your configuration file is out of date. Updating...\")\n"
     ]
    }
   ],
   "source": [
    "%reload_ext autoreload\n",
    "%autoreload 2\n",
    "\n",
    "import os\n",
    "import sys\n",
    "\n",
    "import numpy as np\n",
    "\n",
    "from astropy.cosmology import Planck18\n",
    "import py21cmfast as p21c\n",
    "\n",
    "WDIR = os.environ['DM21CM_DIR']\n",
    "sys.path.append(WDIR)\n",
    "from dm21cm.dm_params import DMParams\n",
    "from dm21cm.evolve import evolve"
   ]
  },
  {
   "cell_type": "code",
   "execution_count": 2,
   "metadata": {},
   "outputs": [],
   "source": [
    "os.environ['DM21CM_DATA_DIR'] = '/n/holyscratch01/iaifi_lab/yitians/dm21cm/DM21cm/data/tf/zf01/data'"
   ]
  },
  {
   "cell_type": "code",
   "execution_count": 3,
   "metadata": {},
   "outputs": [
    {
     "name": "stderr",
     "output_type": "stream",
     "text": [
      "/n/home07/yitians/.conda/envs/dm21cm/lib/python3.11/site-packages/py21cmfast/inputs.py:487: UserWarning: The USE_INTERPOLATION_TABLES setting has changed in v3.1.2 to be default True. You can likely ignore this warning, but if you relied onhaving USE_INTERPOLATION_TABLES=False by *default*, please set it explicitly. To silence this warning, set it explicitly to True. Thiswarning will be removed in v4.\n",
      "  warnings.warn(\n",
      "INFO:root:Using 21cmFAST version 0.1.dev1586+g60df221.d20231024\n",
      "INFO:root:Cache dir: /n/holyscratch01/iaifi_lab/yitians/21cmFAST-cache/test\n",
      "INFO:jax._src.xla_bridge:Unable to initialize backend 'rocm': NOT_FOUND: Could not find registered platform with name: \"rocm\". Available platform names are: CUDA Interpreter\n",
      "INFO:jax._src.xla_bridge:Unable to initialize backend 'tpu': module 'jaxlib.xla_extension' has no attribute 'get_tpu_client'\n",
      "INFO:root:TransferFunctionWrapper: Loaded photon transfer functions.\n",
      "INFO:root:TransferFunctionWrapper: Skipping electron transfer functions.\n",
      "INFO:root:DarkHistoryWrapper: Found existing DarkHistory initial conditions.\n"
     ]
    },
    {
     "name": "stdout",
     "output_type": "stream",
     "text": [
      "TsBox.c DEBUG:  zp = 4.471045e+01\n",
      "  E_(tot=heat+ion+lya) = 0.000000e+00 eV/A\n",
      "zp = 4.471045e+01 E_tot_ave = 0.000000e+00\n"
     ]
    },
    {
     "name": "stderr",
     "output_type": "stream",
     "text": [
      "  0%|          | 0/24 [00:00<?, ?it/s]"
     ]
    },
    {
     "name": "stdout",
     "output_type": "stream",
     "text": [
      "TsBox.c DEBUG:  zp = 4.425787e+01\n",
      "  E_(tot=heat+ion+lya) = 0.000000e+00 eV/A\n",
      "zp = 4.425787e+01 E_tot_ave = 0.000000e+00\n"
     ]
    },
    {
     "name": "stderr",
     "output_type": "stream",
     "text": [
      "  8%|▊         | 2/24 [00:04<00:48,  2.22s/it]"
     ]
    },
    {
     "name": "stdout",
     "output_type": "stream",
     "text": [
      "TsBox.c DEBUG:  zp = 4.380977e+01\n",
      "  E_(tot=heat+ion+lya) = 0.000000e+00 eV/A\n",
      "zp = 4.380977e+01 E_tot_ave = 0.000000e+00\n"
     ]
    },
    {
     "name": "stderr",
     "output_type": "stream",
     "text": [
      " 12%|█▎        | 3/24 [00:05<00:30,  1.44s/it]"
     ]
    },
    {
     "name": "stdout",
     "output_type": "stream",
     "text": [
      "TsBox.c DEBUG:  zp = 4.336611e+01\n",
      "  E_(tot=heat+ion+lya) = 0.000000e+00 eV/A\n",
      "zp = 4.336611e+01 E_tot_ave = 0.000000e+00\n"
     ]
    },
    {
     "name": "stderr",
     "output_type": "stream",
     "text": [
      " 17%|█▋        | 4/24 [00:05<00:21,  1.08s/it]"
     ]
    },
    {
     "name": "stdout",
     "output_type": "stream",
     "text": [
      "TsBox.c DEBUG:  zp = 4.292684e+01\n",
      "  E_(tot=heat+ion+lya) = 0.000000e+00 eV/A\n",
      "zp = 4.292684e+01 E_tot_ave = 0.000000e+00\n"
     ]
    },
    {
     "name": "stderr",
     "output_type": "stream",
     "text": [
      " 21%|██        | 5/24 [00:06<00:18,  1.06it/s]"
     ]
    },
    {
     "name": "stdout",
     "output_type": "stream",
     "text": [
      "TsBox.c DEBUG:  zp = 4.249192e+01\n",
      "  E_(tot=heat+ion+lya) = 0.000000e+00 eV/A\n",
      "zp = 4.249192e+01 E_tot_ave = 0.000000e+00\n"
     ]
    },
    {
     "name": "stderr",
     "output_type": "stream",
     "text": [
      " 25%|██▌       | 6/24 [00:07<00:14,  1.24it/s]"
     ]
    },
    {
     "name": "stdout",
     "output_type": "stream",
     "text": [
      "TsBox.c DEBUG:  zp = 4.206131e+01\n",
      "  E_(tot=heat+ion+lya) = 0.000000e+00 eV/A\n",
      "zp = 4.206131e+01 E_tot_ave = 0.000000e+00\n"
     ]
    },
    {
     "name": "stderr",
     "output_type": "stream",
     "text": [
      " 29%|██▉       | 7/24 [00:07<00:12,  1.39it/s]"
     ]
    },
    {
     "name": "stdout",
     "output_type": "stream",
     "text": [
      "TsBox.c DEBUG:  zp = 4.163496e+01\n",
      "  E_(tot=heat+ion+lya) = 0.000000e+00 eV/A\n",
      "zp = 4.163496e+01 E_tot_ave = 0.000000e+00\n"
     ]
    },
    {
     "name": "stderr",
     "output_type": "stream",
     "text": [
      " 33%|███▎      | 8/24 [00:08<00:10,  1.52it/s]"
     ]
    },
    {
     "name": "stdout",
     "output_type": "stream",
     "text": [
      "TsBox.c DEBUG:  zp = 4.121283e+01\n",
      "  E_(tot=heat+ion+lya) = 0.000000e+00 eV/A\n",
      "zp = 4.121283e+01 E_tot_ave = 0.000000e+00\n"
     ]
    },
    {
     "name": "stderr",
     "output_type": "stream",
     "text": [
      " 38%|███▊      | 9/24 [00:08<00:09,  1.62it/s]"
     ]
    },
    {
     "name": "stdout",
     "output_type": "stream",
     "text": [
      "TsBox.c DEBUG:  zp = 4.079488e+01\n",
      "  E_(tot=heat+ion+lya) = 0.000000e+00 eV/A\n",
      "zp = 4.079488e+01 E_tot_ave = 0.000000e+00\n"
     ]
    },
    {
     "name": "stderr",
     "output_type": "stream",
     "text": [
      " 42%|████▏     | 10/24 [00:09<00:08,  1.69it/s]"
     ]
    },
    {
     "name": "stdout",
     "output_type": "stream",
     "text": [
      "TsBox.c DEBUG:  zp = 4.038107e+01\n",
      "  E_(tot=heat+ion+lya) = 0.000000e+00 eV/A\n",
      "zp = 4.038107e+01 E_tot_ave = 0.000000e+00\n"
     ]
    },
    {
     "name": "stderr",
     "output_type": "stream",
     "text": [
      " 46%|████▌     | 11/24 [00:09<00:07,  1.76it/s]"
     ]
    },
    {
     "name": "stdout",
     "output_type": "stream",
     "text": [
      "TsBox.c DEBUG:  zp = 3.997136e+01\n",
      "  E_(tot=heat+ion+lya) = 0.000000e+00 eV/A\n",
      "zp = 3.997136e+01 E_tot_ave = 0.000000e+00\n"
     ]
    },
    {
     "name": "stderr",
     "output_type": "stream",
     "text": [
      " 50%|█████     | 12/24 [00:10<00:06,  1.79it/s]"
     ]
    },
    {
     "name": "stdout",
     "output_type": "stream",
     "text": [
      "TsBox.c DEBUG:  zp = 3.956570e+01\n",
      "  E_(tot=heat+ion+lya) = 0.000000e+00 eV/A\n",
      "zp = 3.956570e+01 E_tot_ave = 0.000000e+00\n"
     ]
    },
    {
     "name": "stderr",
     "output_type": "stream",
     "text": [
      " 54%|█████▍    | 13/24 [00:10<00:06,  1.82it/s]"
     ]
    },
    {
     "name": "stdout",
     "output_type": "stream",
     "text": [
      "TsBox.c DEBUG:  zp = 3.916406e+01\n",
      "  E_(tot=heat+ion+lya) = 0.000000e+00 eV/A\n",
      "zp = 3.916406e+01 E_tot_ave = 0.000000e+00\n"
     ]
    },
    {
     "name": "stderr",
     "output_type": "stream",
     "text": [
      " 58%|█████▊    | 14/24 [00:11<00:05,  1.84it/s]"
     ]
    },
    {
     "name": "stdout",
     "output_type": "stream",
     "text": [
      "TsBox.c DEBUG:  zp = 3.876640e+01\n",
      "  E_(tot=heat+ion+lya) = 0.000000e+00 eV/A\n",
      "zp = 3.876640e+01 E_tot_ave = 0.000000e+00\n"
     ]
    },
    {
     "name": "stderr",
     "output_type": "stream",
     "text": [
      " 62%|██████▎   | 15/24 [00:11<00:04,  1.86it/s]"
     ]
    },
    {
     "name": "stdout",
     "output_type": "stream",
     "text": [
      "TsBox.c DEBUG:  zp = 3.837267e+01\n",
      "  E_(tot=heat+ion+lya) = 0.000000e+00 eV/A\n",
      "zp = 3.837267e+01 E_tot_ave = 0.000000e+00\n"
     ]
    },
    {
     "name": "stderr",
     "output_type": "stream",
     "text": [
      " 67%|██████▋   | 16/24 [00:12<00:04,  1.86it/s]"
     ]
    },
    {
     "name": "stdout",
     "output_type": "stream",
     "text": [
      "TsBox.c DEBUG:  zp = 3.798284e+01\n",
      "  E_(tot=heat+ion+lya) = 0.000000e+00 eV/A\n",
      "zp = 3.798284e+01 E_tot_ave = 0.000000e+00\n"
     ]
    },
    {
     "name": "stderr",
     "output_type": "stream",
     "text": [
      " 71%|███████   | 17/24 [00:12<00:03,  1.86it/s]"
     ]
    },
    {
     "name": "stdout",
     "output_type": "stream",
     "text": [
      "TsBox.c DEBUG:  zp = 3.759687e+01\n",
      "  E_(tot=heat+ion+lya) = 6.960477e-58 eV/A\n",
      "zp = 3.759687e+01 E_tot_ave = 1.687094e-57\n"
     ]
    },
    {
     "name": "stderr",
     "output_type": "stream",
     "text": [
      " 75%|███████▌  | 18/24 [00:13<00:03,  1.87it/s]"
     ]
    },
    {
     "name": "stdout",
     "output_type": "stream",
     "text": [
      "TsBox.c DEBUG:  zp = 3.721473e+01\n",
      "  E_(tot=heat+ion+lya) = 1.255782e-57 eV/A\n",
      "zp = 3.721473e+01 E_tot_ave = 2.985799e-57\n"
     ]
    },
    {
     "name": "stderr",
     "output_type": "stream",
     "text": [
      " 79%|███████▉  | 19/24 [00:14<00:02,  1.84it/s]"
     ]
    },
    {
     "name": "stdout",
     "output_type": "stream",
     "text": [
      "TsBox.c DEBUG:  zp = 3.683636e+01\n",
      "  E_(tot=heat+ion+lya) = 2.249466e-57 eV/A\n",
      "zp = 3.683636e+01 E_tot_ave = 5.250732e-57\n"
     ]
    },
    {
     "name": "stderr",
     "output_type": "stream",
     "text": [
      " 83%|████████▎ | 20/24 [00:14<00:02,  1.84it/s]"
     ]
    },
    {
     "name": "stdout",
     "output_type": "stream",
     "text": [
      "TsBox.c DEBUG:  zp = 3.646175e+01\n",
      "  E_(tot=heat+ion+lya) = 3.976375e-57 eV/A\n",
      "zp = 3.646175e+01 E_tot_ave = 9.132618e-57\n"
     ]
    },
    {
     "name": "stderr",
     "output_type": "stream",
     "text": [
      " 88%|████████▊ | 21/24 [00:15<00:01,  1.85it/s]"
     ]
    },
    {
     "name": "stdout",
     "output_type": "stream",
     "text": [
      "TsBox.c DEBUG:  zp = 3.609084e+01\n",
      "  E_(tot=heat+ion+lya) = 6.976557e-57 eV/A\n",
      "zp = 3.609084e+01 E_tot_ave = 1.574047e-56\n"
     ]
    },
    {
     "name": "stderr",
     "output_type": "stream",
     "text": [
      " 92%|█████████▏| 22/24 [00:15<00:01,  1.85it/s]"
     ]
    },
    {
     "name": "stdout",
     "output_type": "stream",
     "text": [
      "TsBox.c DEBUG:  zp = 3.572360e+01\n",
      "  E_(tot=heat+ion+lya) = 1.213318e-56 eV/A\n",
      "zp = 3.572360e+01 E_tot_ave = 2.689303e-56\n"
     ]
    },
    {
     "name": "stderr",
     "output_type": "stream",
     "text": [
      " 96%|█████████▌| 23/24 [00:16<00:00,  1.86it/s]"
     ]
    },
    {
     "name": "stdout",
     "output_type": "stream",
     "text": [
      "TsBox.c DEBUG:  zp = 3.536000e+01\n",
      "  E_(tot=heat+ion+lya) = 2.088601e-56 eV/A\n",
      "zp = 3.536000e+01 E_tot_ave = 4.541337e-56\n"
     ]
    },
    {
     "name": "stderr",
     "output_type": "stream",
     "text": [
      "100%|██████████| 24/24 [00:16<00:00,  1.44it/s]"
     ]
    },
    {
     "name": "stdout",
     "output_type": "stream",
     "text": [
      "TsBox.c DEBUG:  zp = 3.500000e+01\n",
      "  E_(tot=heat+ion+lya) = 3.566264e-56 eV/A\n",
      "zp = 3.500000e+01 E_tot_ave = 7.639687e-56\n",
      "xray: 0.1077 +/- 0.1670 s\n",
      "bath+dm: 0.0564 +/- 0.0005 s\n",
      "21cmFAST: 0.3989 +/- 0.0080 s\n",
      "prep_next: 0.0121 +/- 0.0012 s\n"
     ]
    },
    {
     "name": "stderr",
     "output_type": "stream",
     "text": [
      "\n"
     ]
    }
   ],
   "source": [
    "run_name = 'test'\n",
    "\n",
    "#===== global params =====\n",
    "p21c.global_params.CLUMPING_FACTOR = 1.\n",
    "#p21c.global_params.Pop2_ion = 0.\n",
    "\n",
    "return_dict = evolve(\n",
    "    run_name = run_name,\n",
    "    z_start = 45.,\n",
    "    z_end = 35.,\n",
    "    zplusone_step_factor = 1.01,\n",
    "    dm_params = DMParams(\n",
    "        mode='decay',\n",
    "        primary='phot_delta',\n",
    "        m_DM=1e8, # [eV]\n",
    "        lifetime=1e26, # [s]\n",
    "    ),\n",
    "    enable_elec = False,\n",
    "    \n",
    "    p21c_initial_conditions = p21c.initial_conditions(\n",
    "        user_params = p21c.UserParams(\n",
    "            HII_DIM = 32,\n",
    "            BOX_LEN = 32 * 2, # [conformal Mpc]\n",
    "            N_THREADS = 32,\n",
    "        ),\n",
    "        cosmo_params = p21c.CosmoParams(\n",
    "            OMm = Planck18.Om0,\n",
    "            OMb = Planck18.Ob0,\n",
    "            POWER_INDEX = Planck18.meta['n'],\n",
    "            SIGMA_8 = Planck18.meta['sigma8'],\n",
    "            hlittle = Planck18.h,\n",
    "        ),\n",
    "        random_seed = 54321,\n",
    "        write = True,\n",
    "    ),\n",
    "    p21c_astro_params = p21c.AstroParams(L_X = 0.), # log10 value\n",
    "\n",
    "    clear_cache = True,\n",
    "    #debug_flags = ['uniform_xray'], # homogeneous injection\n",
    "    #debug_flags = ['xraycheck', 'xc-noatten'], # our xray noatten to compare with 21cmfast\n",
    "    #debug_flags = ['xraycheck'], # our xray ST compare with DH\n",
    "    #debug_flags = ['xraycheck', 'xc-bath', 'xc-force-bath'], # our xray ST forced to bath compare with DH\n",
    "    #tf_on_device = False,\n",
    ")\n",
    "\n",
    "np.save(f'{run_name}_records.npy', return_dict['records'])"
   ]
  },
  {
   "cell_type": "code",
   "execution_count": null,
   "metadata": {},
   "outputs": [],
   "source": []
  }
 ],
 "metadata": {
  "kernelspec": {
   "display_name": "dm21cm",
   "language": "python",
   "name": "python3"
  },
  "language_info": {
   "codemirror_mode": {
    "name": "ipython",
    "version": 3
   },
   "file_extension": ".py",
   "mimetype": "text/x-python",
   "name": "python",
   "nbconvert_exporter": "python",
   "pygments_lexer": "ipython3",
   "version": "3.11.5"
  }
 },
 "nbformat": 4,
 "nbformat_minor": 2
}
