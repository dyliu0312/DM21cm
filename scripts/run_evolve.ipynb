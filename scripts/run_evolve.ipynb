{
 "cells": [
  {
   "cell_type": "code",
   "execution_count": 1,
   "metadata": {},
   "outputs": [
    {
     "name": "stderr",
     "output_type": "stream",
     "text": [
      "/n/home07/yitians/.conda/envs/dm21cm/lib/python3.11/site-packages/py21cmfast/_cfg.py:58: UserWarning: Your configuration file is out of date. Updating...\n",
      "  warnings.warn(\n",
      "/n/home07/yitians/.conda/envs/dm21cm/lib/python3.11/site-packages/py21cmfast/_cfg.py:42: UserWarning: Your configuration file is out of date. Updating...\n",
      "  warnings.warn(\"Your configuration file is out of date. Updating...\")\n"
     ]
    }
   ],
   "source": [
    "%reload_ext autoreload\n",
    "%autoreload 2\n",
    "\n",
    "import os\n",
    "import sys\n",
    "\n",
    "import numpy as np\n",
    "\n",
    "from astropy.cosmology import Planck18\n",
    "import py21cmfast as p21c\n",
    "\n",
    "WDIR = os.environ['DM21CM_DIR']\n",
    "sys.path.append(WDIR)\n",
    "from dm21cm.dm_params import DMParams\n",
    "from dm21cm.evolve import evolve"
   ]
  },
  {
   "cell_type": "code",
   "execution_count": 5,
   "metadata": {},
   "outputs": [
    {
     "ename": "AssertionError",
     "evalue": "",
     "output_type": "error",
     "traceback": [
      "\u001b[0;31m---------------------------------------------------------------------------\u001b[0m",
      "\u001b[0;31mAssertionError\u001b[0m                            Traceback (most recent call last)",
      "\u001b[1;32m/n/home07/yitians/dm21cm/DM21cm/scripts/run_evolve.ipynb Cell 2\u001b[0m line \u001b[0;36m1\n\u001b[0;32m----> <a href='vscode-notebook-cell://tunnel%2Bholygpu8a27102rcfasharvardedu/n/home07/yitians/dm21cm/DM21cm/scripts/run_evolve.ipynb#W4sdnNjb2RlLXJlbW90ZQ%3D%3D?line=0'>1</a>\u001b[0m \u001b[39massert\u001b[39;00m \u001b[39mnot\u001b[39;00m \u001b[39mTrue\u001b[39;00m\n",
      "\u001b[0;31mAssertionError\u001b[0m: "
     ]
    }
   ],
   "source": [
    "assert not True"
   ]
  },
  {
   "cell_type": "code",
   "execution_count": 4,
   "metadata": {},
   "outputs": [
    {
     "name": "stderr",
     "output_type": "stream",
     "text": [
      "/n/home07/yitians/.conda/envs/dm21cm/lib/python3.11/site-packages/py21cmfast/inputs.py:487: UserWarning: The USE_INTERPOLATION_TABLES setting has changed in v3.1.2 to be default True. You can likely ignore this warning, but if you relied onhaving USE_INTERPOLATION_TABLES=False by *default*, please set it explicitly. To silence this warning, set it explicitly to True. Thiswarning will be removed in v4.\n",
      "  warnings.warn(\n",
      "INFO:root:Using 21cmFAST version 0.1.dev1586+g60df221.d20231024\n",
      "INFO:root:Cache dir: /n/holyscratch01/iaifi_lab/yitians/21cmFAST-cache/test\n"
     ]
    },
    {
     "name": "stdout",
     "output_type": "stream",
     "text": [
      "0.245001\n"
     ]
    },
    {
     "ename": "TypeError",
     "evalue": "'NoneType' object is not subscriptable",
     "output_type": "error",
     "traceback": [
      "\u001b[0;31m---------------------------------------------------------------------------\u001b[0m",
      "\u001b[0;31mTypeError\u001b[0m                                 Traceback (most recent call last)",
      "\u001b[1;32m/n/home07/yitians/dm21cm/DM21cm/scripts/run_evolve.ipynb Cell 3\u001b[0m line \u001b[0;36m4\n\u001b[1;32m      <a href='vscode-notebook-cell://tunnel%2Bholygpu8a27102rcfasharvardedu/n/home07/yitians/dm21cm/DM21cm/scripts/run_evolve.ipynb#W1sdnNjb2RlLXJlbW90ZQ%3D%3D?line=2'>3</a>\u001b[0m p21c\u001b[39m.\u001b[39mglobal_params\u001b[39m.\u001b[39mY_He \u001b[39m=\u001b[39m \u001b[39m0.245001\u001b[39m\n\u001b[1;32m      <a href='vscode-notebook-cell://tunnel%2Bholygpu8a27102rcfasharvardedu/n/home07/yitians/dm21cm/DM21cm/scripts/run_evolve.ipynb#W1sdnNjb2RlLXJlbW90ZQ%3D%3D?line=4'>5</a>\u001b[0m return_dict \u001b[39m=\u001b[39m evolve(\n\u001b[1;32m      <a href='vscode-notebook-cell://tunnel%2Bholygpu8a27102rcfasharvardedu/n/home07/yitians/dm21cm/DM21cm/scripts/run_evolve.ipynb#W1sdnNjb2RlLXJlbW90ZQ%3D%3D?line=5'>6</a>\u001b[0m     run_name \u001b[39m=\u001b[39m run_name,\n\u001b[1;32m      <a href='vscode-notebook-cell://tunnel%2Bholygpu8a27102rcfasharvardedu/n/home07/yitians/dm21cm/DM21cm/scripts/run_evolve.ipynb#W1sdnNjb2RlLXJlbW90ZQ%3D%3D?line=6'>7</a>\u001b[0m     z_start \u001b[39m=\u001b[39m \u001b[39m45.\u001b[39m,\n\u001b[0;32m   (...)\u001b[0m\n\u001b[1;32m     <a href='vscode-notebook-cell://tunnel%2Bholygpu8a27102rcfasharvardedu/n/home07/yitians/dm21cm/DM21cm/scripts/run_evolve.ipynb#W1sdnNjb2RlLXJlbW90ZQ%3D%3D?line=44'>45</a>\u001b[0m     \u001b[39m#tf_on_device = False,\u001b[39;00m\n\u001b[1;32m     <a href='vscode-notebook-cell://tunnel%2Bholygpu8a27102rcfasharvardedu/n/home07/yitians/dm21cm/DM21cm/scripts/run_evolve.ipynb#W1sdnNjb2RlLXJlbW90ZQ%3D%3D?line=45'>46</a>\u001b[0m )\n\u001b[0;32m---> <a href='vscode-notebook-cell://tunnel%2Bholygpu8a27102rcfasharvardedu/n/home07/yitians/dm21cm/DM21cm/scripts/run_evolve.ipynb#W1sdnNjb2RlLXJlbW90ZQ%3D%3D?line=47'>48</a>\u001b[0m np\u001b[39m.\u001b[39msave(\u001b[39mf\u001b[39m\u001b[39m'\u001b[39m\u001b[39m{\u001b[39;00mrun_name\u001b[39m}\u001b[39;00m\u001b[39m_records.npy\u001b[39m\u001b[39m'\u001b[39m, return_dict[\u001b[39m'\u001b[39;49m\u001b[39mrecords\u001b[39;49m\u001b[39m'\u001b[39;49m])\n",
      "\u001b[0;31mTypeError\u001b[0m: 'NoneType' object is not subscriptable"
     ]
    }
   ],
   "source": [
    "run_name = 'test'\n",
    "\n",
    "# set global params\n",
    "p21c.global_params.CLUMPING_FACTOR = 1.\n",
    "#p21c.global_params.Pop2_ion = 0.\n",
    "\n",
    "return_dict = evolve(\n",
    "    run_name = run_name,\n",
    "    z_start = 45.,\n",
    "    z_end = 35.,\n",
    "    zplusone_step_factor = 1.01,\n",
    "    dm_params = DMParams(\n",
    "        mode='decay',\n",
    "        primary='phot_delta',\n",
    "        m_DM=1e8, # [eV]\n",
    "        lifetime=1e26, # [s]\n",
    "    ),\n",
    "    enable_elec = False,\n",
    "    tf_version = 'zf01',\n",
    "    \n",
    "    p21c_initial_conditions = p21c.initial_conditions(\n",
    "        user_params = p21c.UserParams(\n",
    "            HII_DIM = 32,\n",
    "            BOX_LEN = 32 * 2, # [conformal Mpc]\n",
    "            N_THREADS = 32,\n",
    "        ),\n",
    "        cosmo_params = p21c.CosmoParams(\n",
    "            OMm = Planck18.Om0,\n",
    "            OMb = Planck18.Ob0,\n",
    "            POWER_INDEX = Planck18.meta['n'],\n",
    "            SIGMA_8 = Planck18.meta['sigma8'],\n",
    "            hlittle = Planck18.h,\n",
    "        ),\n",
    "        random_seed = 54321,\n",
    "        write = True,\n",
    "    ),\n",
    "    p21c_astro_params = p21c.AstroParams(L_X = 0.), # log10 value\n",
    "\n",
    "    clear_cache = True,\n",
    "    #debug_flags = ['uniform_xray'], # homogeneous injection\n",
    "    #debug_flags = ['xraycheck', 'xc-noatten'], # our xray noatten to compare with 21cmfast\n",
    "    #debug_flags = ['xraycheck'], # our xray ST compare with DH\n",
    "    #debug_flags = ['xraycheck', 'xc-bath', 'xc-force-bath'], # our xray ST forced to bath compare with DH\n",
    "    #tf_on_device = False,\n",
    ")\n",
    "\n",
    "np.save(f'{run_name}_records.npy', return_dict['records'])"
   ]
  },
  {
   "cell_type": "code",
   "execution_count": null,
   "metadata": {},
   "outputs": [],
   "source": []
  }
 ],
 "metadata": {
  "kernelspec": {
   "display_name": "dm21cm",
   "language": "python",
   "name": "python3"
  },
  "language_info": {
   "codemirror_mode": {
    "name": "ipython",
    "version": 3
   },
   "file_extension": ".py",
   "mimetype": "text/x-python",
   "name": "python",
   "nbconvert_exporter": "python",
   "pygments_lexer": "ipython3",
   "version": "3.11.5"
  }
 },
 "nbformat": 4,
 "nbformat_minor": 2
}
