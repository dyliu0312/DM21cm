{
 "cells": [
  {
   "cell_type": "code",
   "execution_count": 1,
   "metadata": {},
   "outputs": [],
   "source": [
    "%reload_ext autoreload\n",
    "%autoreload 2\n",
    "\n",
    "import os\n",
    "import sys\n",
    "import pickle\n",
    "\n",
    "sys.path.append(\"..\")\n",
    "from dm21cm.dm_params import DMParams\n",
    "\n",
    "sys.path.append(os.environ['DH_DIR'])\n",
    "from darkhistory.main import evolve as evolve_DH\n",
    "from darkhistory.config import load_data"
   ]
  },
  {
   "cell_type": "code",
   "execution_count": 2,
   "metadata": {},
   "outputs": [
    {
     "name": "stdout",
     "output_type": "stream",
     "text": [
      "****** Loading transfer functions... ******\n",
      "Using data at /n/holyscratch01/iaifi_lab/yitians/darkhistory/DHdata_v1_1/../DHdata_v1_1_zf01\n",
      "    for propagating photons...  "
     ]
    },
    {
     "name": "stdout",
     "output_type": "stream",
     "text": [
      " Done!\n",
      "    for low-energy photons...  Done!\n",
      "    for low-energy electrons...  Done!\n",
      "    for high-energy deposition...  Done!\n",
      "    for total upscattered CMB energy rate...  Done!\n",
      "****** Loading complete! ******\n",
      "****** Loading transfer functions... ******\n",
      "    for inverse Compton (Thomson)...  Done!\n",
      "    for inverse Compton (relativistic)...  Done!\n",
      "    for inverse Compton (energy loss)...  Done!\n",
      "****** Loading complete! ******\n"
     ]
    }
   ],
   "source": [
    "tf_version = 'zf01'\n",
    "\n",
    "load_data('dep_tf', prefix=f\"{os.environ['DH_DATA_DIR']}/../DHdata_v1_1_{tf_version}\")\n",
    "load_data('ics_tf', prefix=f\"{os.environ['DH_DATA_DIR']}/../DHdata_v1_1_{tf_version}\");"
   ]
  },
  {
   "cell_type": "code",
   "execution_count": 3,
   "metadata": {},
   "outputs": [],
   "source": [
    "# phph\n",
    "dm_params = DMParams(\n",
    "    mode = 'decay',\n",
    "    primary = 'phot_delta',\n",
    "    m_DM = 1e8, # [eV]\n",
    "    lifetime = 1e25, #[s]\n",
    ")"
   ]
  },
  {
   "cell_type": "code",
   "execution_count": 3,
   "metadata": {},
   "outputs": [],
   "source": [
    "# ee\n",
    "dm_params = DMParams(\n",
    "    mode = 'decay',\n",
    "    primary = 'elec_delta',\n",
    "    m_DM = 1e8, # [eV]\n",
    "    lifetime = 1e25, #[s]\n",
    ")"
   ]
  },
  {
   "cell_type": "code",
   "execution_count": 3,
   "metadata": {},
   "outputs": [],
   "source": [
    "# off\n",
    "dm_params = DMParams(\n",
    "    mode = 'decay',\n",
    "    primary = 'phot_delta',\n",
    "    m_DM = 1e8, # [eV]\n",
    "    lifetime = 1e50, #[s]\n",
    ")"
   ]
  },
  {
   "cell_type": "code",
   "execution_count": 4,
   "metadata": {},
   "outputs": [
    {
     "name": "stdout",
     "output_type": "stream",
     "text": [
      "Loading time: 0.026 s\n"
     ]
    },
    {
     "name": "stderr",
     "output_type": "stream",
     "text": [
      "  0%|          | 0/534 [00:00<?, ?it/s]WARNING:root:Cross checking 21cmfast!\n"
     ]
    },
    {
     "name": "stdout",
     "output_type": "stream",
     "text": [
      "Initialization time: 0.066 s\n"
     ]
    },
    {
     "name": "stderr",
     "output_type": "stream",
     "text": [
      "WARNING:root:Using dm21cm's compute_fs!\n",
      "WARNING:root:Using Planck18 dt!\n",
      " 64%|██████▍   | 344/534 [00:52<00:29,  6.53it/s]WARNING:root:Setting coarsen_factor=1!\n",
      "WARNING:root:Setting dlnz=0.009950330853168092!\n",
      "WARNING:root:Setting dt=23798122126921.9! dt/dt_old_normalized=1.003059\n",
      "WARNING:root:not adjusting lowengphot when dlnz changes!\n",
      " 65%|██████▌   | 349/534 [00:52<00:11, 15.52it/s]"
     ]
    },
    {
     "name": "stdout",
     "output_type": "stream",
     "text": [
      "xrayST: injecting 3.414e-24 eV/Bavg\n",
      "xrayST: injecting 7.925e-24 eV/Bavg\n",
      "xrayST: injecting 1.867e-23 eV/Bavg\n",
      "xrayST: injecting 4.245e-23 eV/Bavg\n",
      "xrayST: injecting 9.392e-23 eV/Bavg\n",
      "xrayST: injecting 2.033e-22 eV/Bavg\n",
      "xrayST: injecting 4.532e-22 eV/Bavg\n",
      "xrayST: injecting 9.989e-22 eV/Bavg\n",
      "xrayST: injecting 2.145e-21 eV/Bavg\n"
     ]
    },
    {
     "name": "stderr",
     "output_type": "stream",
     "text": [
      " 67%|██████▋   | 359/534 [00:52<00:06, 28.37it/s]"
     ]
    },
    {
     "name": "stdout",
     "output_type": "stream",
     "text": [
      "xrayST: injecting 4.509e-21 eV/Bavg\n",
      "xrayST: injecting 9.312e-21 eV/Bavg\n",
      "xrayST: injecting 1.894e-20 eV/Bavg\n",
      "xrayST: injecting 3.799e-20 eV/Bavg\n",
      "xrayST: injecting 7.527e-20 eV/Bavg\n",
      "xrayST: injecting 1.486e-19 eV/Bavg\n",
      "xrayST: injecting 2.948e-19 eV/Bavg\n",
      "xrayST: injecting 5.757e-19 eV/Bavg\n",
      "xrayST: injecting 1.108e-18 eV/Bavg\n"
     ]
    },
    {
     "name": "stderr",
     "output_type": "stream",
     "text": [
      " 69%|██████▉   | 369/534 [00:53<00:04, 35.89it/s]"
     ]
    },
    {
     "name": "stdout",
     "output_type": "stream",
     "text": [
      "xrayST: injecting 2.106e-18 eV/Bavg\n",
      "xrayST: injecting 3.953e-18 eV/Bavg\n",
      "xrayST: injecting 7.335e-18 eV/Bavg\n",
      "xrayST: injecting 1.346e-17 eV/Bavg\n",
      "xrayST: injecting 2.442e-17 eV/Bavg\n",
      "xrayST: injecting 4.382e-17 eV/Bavg\n",
      "xrayST: injecting 7.781e-17 eV/Bavg\n",
      "xrayST: injecting 1.366e-16 eV/Bavg\n",
      "xrayST: injecting 2.372e-16 eV/Bavg\n",
      "xrayST: injecting 4.072e-16 eV/Bavg\n"
     ]
    },
    {
     "name": "stderr",
     "output_type": "stream",
     "text": [
      " 71%|███████   | 379/534 [00:53<00:03, 40.01it/s]"
     ]
    },
    {
     "name": "stdout",
     "output_type": "stream",
     "text": [
      "xrayST: injecting 6.911e-16 eV/Bavg\n",
      "xrayST: injecting 1.185e-15 eV/Bavg\n",
      "xrayST: injecting 2.012e-15 eV/Bavg\n",
      "xrayST: injecting 3.385e-15 eV/Bavg\n",
      "xrayST: injecting 5.636e-15 eV/Bavg\n",
      "xrayST: injecting 9.282e-15 eV/Bavg\n",
      "xrayST: injecting 1.511e-14 eV/Bavg\n",
      "xrayST: injecting 2.429e-14 eV/Bavg\n",
      "xrayST: injecting 3.849e-14 eV/Bavg\n"
     ]
    },
    {
     "name": "stderr",
     "output_type": "stream",
     "text": [
      " 73%|███████▎  | 389/534 [00:53<00:03, 41.47it/s]"
     ]
    },
    {
     "name": "stdout",
     "output_type": "stream",
     "text": [
      "xrayST: injecting 6.004e-14 eV/Bavg\n",
      "xrayST: injecting 9.600e-14 eV/Bavg\n",
      "xrayST: injecting 1.519e-13 eV/Bavg\n",
      "xrayST: injecting 2.373e-13 eV/Bavg\n",
      "xrayST: injecting 3.653e-13 eV/Bavg\n",
      "xrayST: injecting 5.529e-13 eV/Bavg\n",
      "xrayST: injecting 8.286e-13 eV/Bavg\n",
      "xrayST: injecting 1.271e-12 eV/Bavg\n",
      "xrayST: injecting 1.923e-12 eV/Bavg\n"
     ]
    },
    {
     "name": "stderr",
     "output_type": "stream",
     "text": [
      " 74%|███████▍  | 394/534 [00:53<00:03, 41.81it/s]"
     ]
    },
    {
     "name": "stdout",
     "output_type": "stream",
     "text": [
      "xrayST: injecting 2.859e-12 eV/Bavg\n",
      "xrayST: injecting 4.167e-12 eV/Bavg\n",
      "xrayST: injecting 6.122e-12 eV/Bavg\n",
      "xrayST: injecting 9.063e-12 eV/Bavg\n",
      "xrayST: injecting 1.318e-11 eV/Bavg\n",
      "xrayST: injecting 1.876e-11 eV/Bavg\n",
      "xrayST: injecting 2.686e-11 eV/Bavg\n",
      "xrayST: injecting 3.879e-11 eV/Bavg\n",
      "xrayST: injecting 5.490e-11 eV/Bavg\n"
     ]
    },
    {
     "name": "stderr",
     "output_type": "stream",
     "text": [
      " 76%|███████▌  | 404/534 [00:54<00:03, 41.26it/s]"
     ]
    },
    {
     "name": "stdout",
     "output_type": "stream",
     "text": [
      "xrayST: injecting 7.580e-11 eV/Bavg\n",
      "xrayST: injecting 1.079e-10 eV/Bavg\n",
      "xrayST: injecting 1.512e-10 eV/Bavg\n",
      "xrayST: injecting 2.070e-10 eV/Bavg\n",
      "xrayST: injecting 2.857e-10 eV/Bavg\n",
      "xrayST: injecting 3.959e-10 eV/Bavg\n",
      "xrayST: injecting 5.351e-10 eV/Bavg\n",
      "xrayST: injecting 7.244e-10 eV/Bavg\n"
     ]
    },
    {
     "name": "stderr",
     "output_type": "stream",
     "text": [
      " 77%|███████▋  | 413/534 [00:54<00:03, 37.99it/s]"
     ]
    },
    {
     "name": "stdout",
     "output_type": "stream",
     "text": [
      "xrayST: injecting 9.892e-10 eV/Bavg\n",
      "xrayST: injecting 1.316e-09 eV/Bavg\n",
      "xrayST: injecting 1.762e-09 eV/Bavg\n",
      "xrayST: injecting 2.365e-09 eV/Bavg\n",
      "xrayST: injecting 3.087e-09 eV/Bavg\n",
      "xrayST: injecting 4.116e-09 eV/Bavg\n",
      "xrayST: injecting 5.416e-09 eV/Bavg\n"
     ]
    },
    {
     "name": "stderr",
     "output_type": "stream",
     "text": [
      " 78%|███████▊  | 417/534 [00:54<00:03, 35.90it/s]"
     ]
    },
    {
     "name": "stdout",
     "output_type": "stream",
     "text": [
      "xrayST: injecting 6.981e-09 eV/Bavg\n",
      "xrayST: injecting 9.227e-09 eV/Bavg\n",
      "xrayST: injecting 1.186e-08 eV/Bavg\n",
      "xrayST: injecting 1.535e-08 eV/Bavg\n",
      "xrayST: injecting 1.982e-08 eV/Bavg\n",
      "xrayST: injecting 2.505e-08 eV/Bavg\n",
      "xrayST: injecting 3.239e-08 eV/Bavg\n"
     ]
    },
    {
     "name": "stderr",
     "output_type": "stream",
     "text": [
      " 80%|███████▉  | 425/534 [00:54<00:03, 31.67it/s]"
     ]
    },
    {
     "name": "stdout",
     "output_type": "stream",
     "text": [
      "xrayST: injecting 4.064e-08 eV/Bavg\n",
      "xrayST: injecting 5.196e-08 eV/Bavg\n",
      "xrayST: injecting 6.531e-08 eV/Bavg\n",
      "xrayST: injecting 8.198e-08 eV/Bavg\n",
      "xrayST: injecting 1.030e-07 eV/Bavg\n",
      "xrayST: injecting 1.274e-07 eV/Bavg\n"
     ]
    },
    {
     "name": "stderr",
     "output_type": "stream",
     "text": [
      " 80%|████████  | 429/534 [00:54<00:03, 29.66it/s]"
     ]
    },
    {
     "name": "stdout",
     "output_type": "stream",
     "text": [
      "xrayST: injecting 1.599e-07 eV/Bavg\n",
      "xrayST: injecting 1.955e-07 eV/Bavg\n",
      "xrayST: injecting 2.445e-07 eV/Bavg\n",
      "xrayST: injecting 2.960e-07 eV/Bavg\n",
      "xrayST: injecting 3.688e-07 eV/Bavg\n",
      "xrayST: injecting 4.448e-07 eV/Bavg\n"
     ]
    },
    {
     "name": "stderr",
     "output_type": "stream",
     "text": [
      " 82%|████████▏ | 436/534 [00:55<00:03, 26.78it/s]"
     ]
    },
    {
     "name": "stdout",
     "output_type": "stream",
     "text": [
      "xrayST: injecting 5.492e-07 eV/Bavg\n",
      "xrayST: injecting 6.592e-07 eV/Bavg\n",
      "xrayST: injecting 8.080e-07 eV/Bavg\n",
      "xrayST: injecting 9.641e-07 eV/Bavg\n",
      "xrayST: injecting 1.175e-06 eV/Bavg\n"
     ]
    },
    {
     "name": "stderr",
     "output_type": "stream",
     "text": [
      " 82%|████████▏ | 439/534 [00:55<00:03, 25.63it/s]"
     ]
    },
    {
     "name": "stdout",
     "output_type": "stream",
     "text": [
      "xrayST: injecting 1.392e-06 eV/Bavg\n",
      "xrayST: injecting 1.689e-06 eV/Bavg\n",
      "xrayST: injecting 1.992e-06 eV/Bavg\n",
      "xrayST: injecting 2.401e-06 eV/Bavg\n",
      "xrayST: injecting 2.825e-06 eV/Bavg\n"
     ]
    },
    {
     "name": "stderr",
     "output_type": "stream",
     "text": [
      " 83%|████████▎ | 445/534 [00:55<00:03, 23.76it/s]"
     ]
    },
    {
     "name": "stdout",
     "output_type": "stream",
     "text": [
      "xrayST: injecting 3.375e-06 eV/Bavg\n",
      "xrayST: injecting 3.966e-06 eV/Bavg\n",
      "xrayST: injecting 4.691e-06 eV/Bavg\n",
      "xrayST: injecting 5.510e-06 eV/Bavg\n",
      "xrayST: injecting 6.447e-06 eV/Bavg\n"
     ]
    },
    {
     "name": "stderr",
     "output_type": "stream",
     "text": [
      " 84%|████████▍ | 451/534 [00:55<00:03, 22.23it/s]"
     ]
    },
    {
     "name": "stdout",
     "output_type": "stream",
     "text": [
      "xrayST: injecting 7.574e-06 eV/Bavg\n",
      "xrayST: injecting 8.758e-06 eV/Bavg\n",
      "xrayST: injecting 1.030e-05 eV/Bavg\n",
      "xrayST: injecting 1.188e-05 eV/Bavg\n",
      "xrayST: injecting 1.386e-05 eV/Bavg\n"
     ]
    },
    {
     "name": "stderr",
     "output_type": "stream",
     "text": [
      " 85%|████████▌ | 454/534 [00:55<00:03, 21.61it/s]"
     ]
    },
    {
     "name": "stdout",
     "output_type": "stream",
     "text": [
      "xrayST: injecting 1.600e-05 eV/Bavg\n",
      "xrayST: injecting 1.842e-05 eV/Bavg\n",
      "xrayST: injecting 2.132e-05 eV/Bavg\n",
      "xrayST: injecting 2.428e-05 eV/Bavg\n",
      "xrayST: injecting 2.811e-05 eV/Bavg\n"
     ]
    },
    {
     "name": "stderr",
     "output_type": "stream",
     "text": [
      " 86%|████████▌ | 460/534 [00:56<00:03, 20.70it/s]"
     ]
    },
    {
     "name": "stdout",
     "output_type": "stream",
     "text": [
      "xrayST: injecting 3.209e-05 eV/Bavg\n",
      "xrayST: injecting 3.661e-05 eV/Bavg\n",
      "xrayST: injecting 4.194e-05 eV/Bavg\n",
      "xrayST: injecting 4.737e-05 eV/Bavg\n"
     ]
    },
    {
     "name": "stderr",
     "output_type": "stream",
     "text": [
      " 87%|████████▋ | 463/534 [00:56<00:03, 20.35it/s]"
     ]
    },
    {
     "name": "stdout",
     "output_type": "stream",
     "text": [
      "xrayST: injecting 5.418e-05 eV/Bavg\n",
      "xrayST: injecting 6.140e-05 eV/Bavg\n",
      "xrayST: injecting 6.912e-05 eV/Bavg\n",
      "xrayST: injecting 7.868e-05 eV/Bavg\n"
     ]
    },
    {
     "name": "stderr",
     "output_type": "stream",
     "text": [
      " 88%|████████▊ | 469/534 [00:56<00:03, 19.55it/s]"
     ]
    },
    {
     "name": "stdout",
     "output_type": "stream",
     "text": [
      "xrayST: injecting 8.842e-05 eV/Bavg\n",
      "xrayST: injecting 9.957e-05 eV/Bavg\n",
      "xrayST: injecting 1.124e-04 eV/Bavg\n",
      "xrayST: injecting 1.254e-04 eV/Bavg\n"
     ]
    },
    {
     "name": "stderr",
     "output_type": "stream",
     "text": [
      " 89%|████████▊ | 473/534 [00:56<00:03, 19.06it/s]"
     ]
    },
    {
     "name": "stdout",
     "output_type": "stream",
     "text": [
      "xrayST: injecting 1.411e-04 eV/Bavg\n",
      "xrayST: injecting 1.582e-04 eV/Bavg\n",
      "xrayST: injecting 1.756e-04 eV/Bavg\n",
      "xrayST: injecting 1.969e-04 eV/Bavg\n"
     ]
    },
    {
     "name": "stderr",
     "output_type": "stream",
     "text": [
      " 89%|████████▉ | 475/534 [00:57<00:03, 18.83it/s]"
     ]
    },
    {
     "name": "stdout",
     "output_type": "stream",
     "text": [
      "xrayST: injecting 2.195e-04 eV/Bavg\n",
      "xrayST: injecting 2.426e-04 eV/Bavg\n",
      "xrayST: injecting 2.710e-04 eV/Bavg\n",
      "xrayST: injecting 3.008e-04 eV/Bavg\n"
     ]
    },
    {
     "name": "stderr",
     "output_type": "stream",
     "text": [
      " 90%|████████▉ | 479/534 [00:57<00:03, 18.27it/s]"
     ]
    },
    {
     "name": "stdout",
     "output_type": "stream",
     "text": [
      "xrayST: injecting 3.313e-04 eV/Bavg\n",
      "xrayST: injecting 3.682e-04 eV/Bavg\n",
      "xrayST: injecting 4.073e-04 eV/Bavg\n",
      "xrayST: injecting 4.472e-04 eV/Bavg\n"
     ]
    },
    {
     "name": "stderr",
     "output_type": "stream",
     "text": [
      " 90%|█████████ | 483/534 [00:57<00:02, 17.90it/s]"
     ]
    },
    {
     "name": "stdout",
     "output_type": "stream",
     "text": [
      "xrayST: injecting 4.940e-04 eV/Bavg\n",
      "xrayST: injecting 5.450e-04 eV/Bavg\n",
      "xrayST: injecting 5.970e-04 eV/Bavg\n",
      "xrayST: injecting 6.550e-04 eV/Bavg\n"
     ]
    },
    {
     "name": "stderr",
     "output_type": "stream",
     "text": [
      " 91%|█████████ | 487/534 [00:57<00:02, 17.61it/s]"
     ]
    },
    {
     "name": "stdout",
     "output_type": "stream",
     "text": [
      "xrayST: injecting 7.211e-04 eV/Bavg\n",
      "xrayST: injecting 7.885e-04 eV/Bavg\n",
      "xrayST: injecting 8.582e-04 eV/Bavg\n",
      "xrayST: injecting 9.435e-04 eV/Bavg\n"
     ]
    },
    {
     "name": "stderr",
     "output_type": "stream",
     "text": [
      " 92%|█████████▏| 491/534 [00:57<00:02, 17.22it/s]"
     ]
    },
    {
     "name": "stdout",
     "output_type": "stream",
     "text": [
      "xrayST: injecting 1.030e-03 eV/Bavg\n",
      "xrayST: injecting 1.119e-03 eV/Bavg\n",
      "xrayST: injecting 1.221e-03 eV/Bavg\n",
      "xrayST: injecting 1.332e-03 eV/Bavg\n"
     ]
    },
    {
     "name": "stderr",
     "output_type": "stream",
     "text": [
      " 93%|█████████▎| 495/534 [00:58<00:02, 16.97it/s]"
     ]
    },
    {
     "name": "stdout",
     "output_type": "stream",
     "text": [
      "xrayST: injecting 1.446e-03 eV/Bavg\n",
      "xrayST: injecting 1.562e-03 eV/Bavg\n",
      "xrayST: injecting 1.705e-03 eV/Bavg\n",
      "xrayST: injecting 1.850e-03 eV/Bavg\n"
     ]
    },
    {
     "name": "stderr",
     "output_type": "stream",
     "text": [
      " 93%|█████████▎| 499/534 [00:58<00:02, 16.86it/s]"
     ]
    },
    {
     "name": "stdout",
     "output_type": "stream",
     "text": [
      "xrayST: injecting 1.998e-03 eV/Bavg\n",
      "xrayST: injecting 2.157e-03 eV/Bavg\n",
      "xrayST: injecting 2.341e-03 eV/Bavg\n",
      "xrayST: injecting 2.529e-03 eV/Bavg\n"
     ]
    },
    {
     "name": "stderr",
     "output_type": "stream",
     "text": [
      " 94%|█████████▍| 503/534 [00:58<00:01, 16.73it/s]"
     ]
    },
    {
     "name": "stdout",
     "output_type": "stream",
     "text": [
      "xrayST: injecting 2.721e-03 eV/Bavg\n",
      "xrayST: injecting 2.932e-03 eV/Bavg\n",
      "xrayST: injecting 3.169e-03 eV/Bavg\n",
      "xrayST: injecting 3.411e-03 eV/Bavg\n"
     ]
    },
    {
     "name": "stderr",
     "output_type": "stream",
     "text": [
      " 95%|█████████▍| 507/534 [00:58<00:01, 16.42it/s]"
     ]
    },
    {
     "name": "stdout",
     "output_type": "stream",
     "text": [
      "xrayST: injecting 3.658e-03 eV/Bavg\n",
      "xrayST: injecting 3.928e-03 eV/Bavg\n",
      "xrayST: injecting 4.233e-03 eV/Bavg\n",
      "xrayST: injecting 4.543e-03 eV/Bavg\n"
     ]
    },
    {
     "name": "stderr",
     "output_type": "stream",
     "text": [
      " 96%|█████████▌| 511/534 [00:59<00:01, 16.32it/s]"
     ]
    },
    {
     "name": "stdout",
     "output_type": "stream",
     "text": [
      "xrayST: injecting 4.859e-03 eV/Bavg\n",
      "xrayST: injecting 5.194e-03 eV/Bavg\n",
      "xrayST: injecting 5.583e-03 eV/Bavg\n",
      "xrayST: injecting 5.979e-03 eV/Bavg\n"
     ]
    },
    {
     "name": "stderr",
     "output_type": "stream",
     "text": [
      " 96%|█████████▋| 515/534 [00:59<00:01, 16.24it/s]"
     ]
    },
    {
     "name": "stdout",
     "output_type": "stream",
     "text": [
      "xrayST: injecting 6.383e-03 eV/Bavg\n",
      "xrayST: injecting 6.794e-03 eV/Bavg\n",
      "xrayST: injecting 7.277e-03 eV/Bavg\n",
      "xrayST: injecting 7.781e-03 eV/Bavg\n"
     ]
    },
    {
     "name": "stderr",
     "output_type": "stream",
     "text": [
      " 97%|█████████▋| 519/534 [00:59<00:00, 16.10it/s]"
     ]
    },
    {
     "name": "stdout",
     "output_type": "stream",
     "text": [
      "xrayST: injecting 8.294e-03 eV/Bavg\n",
      "xrayST: injecting 8.817e-03 eV/Bavg\n",
      "xrayST: injecting 9.375e-03 eV/Bavg\n",
      "xrayST: injecting 1.001e-02 eV/Bavg\n"
     ]
    },
    {
     "name": "stderr",
     "output_type": "stream",
     "text": [
      " 98%|█████████▊| 523/534 [00:59<00:00, 15.74it/s]"
     ]
    },
    {
     "name": "stdout",
     "output_type": "stream",
     "text": [
      "xrayST: injecting 1.066e-02 eV/Bavg\n",
      "xrayST: injecting 1.133e-02 eV/Bavg\n",
      "xrayST: injecting 1.200e-02 eV/Bavg\n",
      "xrayST: injecting 1.275e-02 eV/Bavg\n"
     ]
    },
    {
     "name": "stderr",
     "output_type": "stream",
     "text": [
      " 99%|█████████▊| 527/534 [01:00<00:00, 15.62it/s]"
     ]
    },
    {
     "name": "stdout",
     "output_type": "stream",
     "text": [
      "xrayST: injecting 1.357e-02 eV/Bavg\n",
      "xrayST: injecting 1.440e-02 eV/Bavg\n",
      "xrayST: injecting 1.525e-02 eV/Bavg\n",
      "xrayST: injecting 1.612e-02 eV/Bavg\n"
     ]
    },
    {
     "name": "stderr",
     "output_type": "stream",
     "text": [
      " 99%|█████████▉| 531/534 [01:00<00:00, 15.44it/s]"
     ]
    },
    {
     "name": "stdout",
     "output_type": "stream",
     "text": [
      "xrayST: injecting 1.707e-02 eV/Bavg\n",
      "xrayST: injecting 1.813e-02 eV/Bavg\n",
      "xrayST: injecting 1.920e-02 eV/Bavg\n",
      "xrayST: injecting 2.029e-02 eV/Bavg\n"
     ]
    },
    {
     "name": "stderr",
     "output_type": "stream",
     "text": [
      "535it [01:00, 15.20it/s]                         "
     ]
    },
    {
     "name": "stdout",
     "output_type": "stream",
     "text": [
      "xrayST: injecting 2.140e-02 eV/Bavg\n",
      "xrayST: injecting 2.257e-02 eV/Bavg\n",
      "xrayST: injecting 2.391e-02 eV/Bavg\n",
      "xrayST: injecting 2.528e-02 eV/Bavg\n"
     ]
    },
    {
     "name": "stderr",
     "output_type": "stream",
     "text": [
      "539it [01:01, 15.12it/s]"
     ]
    },
    {
     "name": "stdout",
     "output_type": "stream",
     "text": [
      "xrayST: injecting 2.667e-02 eV/Bavg\n",
      "xrayST: injecting 2.809e-02 eV/Bavg\n",
      "xrayST: injecting 2.954e-02 eV/Bavg\n",
      "xrayST: injecting 3.115e-02 eV/Bavg\n"
     ]
    },
    {
     "name": "stderr",
     "output_type": "stream",
     "text": [
      "543it [01:01, 15.03it/s]"
     ]
    },
    {
     "name": "stdout",
     "output_type": "stream",
     "text": [
      "xrayST: injecting 3.289e-02 eV/Bavg\n",
      "xrayST: injecting 3.467e-02 eV/Bavg\n",
      "xrayST: injecting 3.648e-02 eV/Bavg\n",
      "xrayST: injecting 3.832e-02 eV/Bavg\n"
     ]
    },
    {
     "name": "stderr",
     "output_type": "stream",
     "text": [
      "547it [01:01, 14.92it/s]"
     ]
    },
    {
     "name": "stdout",
     "output_type": "stream",
     "text": [
      "xrayST: injecting 4.019e-02 eV/Bavg\n",
      "xrayST: injecting 4.231e-02 eV/Bavg\n",
      "xrayST: injecting 4.456e-02 eV/Bavg\n"
     ]
    },
    {
     "name": "stderr",
     "output_type": "stream",
     "text": [
      "551it [01:01, 14.84it/s]"
     ]
    },
    {
     "name": "stdout",
     "output_type": "stream",
     "text": [
      "xrayST: injecting 4.685e-02 eV/Bavg\n",
      "xrayST: injecting 4.919e-02 eV/Bavg\n",
      "xrayST: injecting 5.157e-02 eV/Bavg\n"
     ]
    },
    {
     "name": "stderr",
     "output_type": "stream",
     "text": [
      "553it [01:01, 14.81it/s]"
     ]
    },
    {
     "name": "stdout",
     "output_type": "stream",
     "text": [
      "xrayST: injecting 5.399e-02 eV/Bavg\n",
      "xrayST: injecting 5.660e-02 eV/Bavg\n",
      "xrayST: injecting 5.950e-02 eV/Bavg\n"
     ]
    },
    {
     "name": "stderr",
     "output_type": "stream",
     "text": [
      "557it [01:02, 14.71it/s]"
     ]
    },
    {
     "name": "stdout",
     "output_type": "stream",
     "text": [
      "xrayST: injecting 6.245e-02 eV/Bavg\n",
      "xrayST: injecting 6.545e-02 eV/Bavg\n",
      "xrayST: injecting 6.851e-02 eV/Bavg\n"
     ]
    },
    {
     "name": "stderr",
     "output_type": "stream",
     "text": [
      "559it [01:02, 14.70it/s]"
     ]
    },
    {
     "name": "stdout",
     "output_type": "stream",
     "text": [
      "xrayST: injecting 7.163e-02 eV/Bavg\n",
      "xrayST: injecting 7.480e-02 eV/Bavg\n",
      "xrayST: injecting 7.835e-02 eV/Bavg\n"
     ]
    },
    {
     "name": "stderr",
     "output_type": "stream",
     "text": [
      "563it [01:02, 14.60it/s]"
     ]
    },
    {
     "name": "stdout",
     "output_type": "stream",
     "text": [
      "xrayST: injecting 8.212e-02 eV/Bavg\n",
      "xrayST: injecting 8.596e-02 eV/Bavg\n",
      "xrayST: injecting 8.987e-02 eV/Bavg\n"
     ]
    },
    {
     "name": "stderr",
     "output_type": "stream",
     "text": [
      "565it [01:02, 14.59it/s]"
     ]
    },
    {
     "name": "stdout",
     "output_type": "stream",
     "text": [
      "xrayST: injecting 9.385e-02 eV/Bavg\n",
      "xrayST: injecting 9.790e-02 eV/Bavg\n",
      "xrayST: injecting 1.020e-01 eV/Bavg\n"
     ]
    },
    {
     "name": "stderr",
     "output_type": "stream",
     "text": [
      "569it [01:03, 14.57it/s]"
     ]
    },
    {
     "name": "stdout",
     "output_type": "stream",
     "text": [
      "xrayST: injecting 1.065e-01 eV/Bavg\n",
      "xrayST: injecting 1.114e-01 eV/Bavg\n",
      "xrayST: injecting 1.163e-01 eV/Bavg\n"
     ]
    },
    {
     "name": "stderr",
     "output_type": "stream",
     "text": [
      "571it [01:03, 14.56it/s]"
     ]
    },
    {
     "name": "stdout",
     "output_type": "stream",
     "text": [
      "xrayST: injecting 1.214e-01 eV/Bavg\n",
      "xrayST: injecting 1.265e-01 eV/Bavg\n",
      "xrayST: injecting 1.317e-01 eV/Bavg\n"
     ]
    },
    {
     "name": "stderr",
     "output_type": "stream",
     "text": [
      "573it [01:03,  9.04it/s]"
     ]
    },
    {
     "name": "stdout",
     "output_type": "stream",
     "text": [
      "xrayST: injecting 1.370e-01 eV/Bavg\n",
      "xrayST: injecting 1.424e-01 eV/Bavg\n",
      "Main loop time: 63.368 s\n"
     ]
    },
    {
     "name": "stderr",
     "output_type": "stream",
     "text": [
      "\n"
     ]
    }
   ],
   "source": [
    "run_name = 'xc_xrayST'\n",
    "tf_version = 'zf01'\n",
    "\n",
    "soln = evolve_DH(\n",
    "    DM_process=dm_params.mode, mDM=dm_params.m_DM,\n",
    "    primary=dm_params.primary,\n",
    "    sigmav=dm_params.sigmav, lifetime=dm_params.lifetime,\n",
    "    struct_boost=dm_params.struct_boost,\n",
    "    start_rs=3000, end_rs=4.+1, coarsen_factor=12, verbose=1,\n",
    "    # use fake reionization to get case-A recomb. coeff.\n",
    "    reion_switch=True, reion_rs=47.,\n",
    "    photoion_rate_func=[lambda x: 0., lambda x: 0., lambda x: 0.],\n",
    "    photoheat_rate_func=[lambda x: 0., lambda x: 0., lambda x: 0.],\n",
    "    cross_check_21cmfast=True,\n",
    "    cross_check_21cmfast_tf_version=tf_version,\n",
    "    debug_inject_ST_xray=True,\n",
    ")\n",
    "\n",
    "pickle.dump(soln, open(f\"{os.environ['DM21CM_DIR']}/outputs/dh/{run_name}_soln.p\", 'wb'))"
   ]
  },
  {
   "cell_type": "code",
   "execution_count": null,
   "metadata": {},
   "outputs": [],
   "source": []
  }
 ],
 "metadata": {
  "kernelspec": {
   "display_name": "dm21cm",
   "language": "python",
   "name": "python3"
  },
  "language_info": {
   "codemirror_mode": {
    "name": "ipython",
    "version": 3
   },
   "file_extension": ".py",
   "mimetype": "text/x-python",
   "name": "python",
   "nbconvert_exporter": "python",
   "pygments_lexer": "ipython3",
   "version": "3.11.5"
  }
 },
 "nbformat": 4,
 "nbformat_minor": 2
}
