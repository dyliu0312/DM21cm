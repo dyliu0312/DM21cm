{
 "cells": [
  {
   "cell_type": "code",
   "execution_count": 1,
   "metadata": {},
   "outputs": [
    {
     "name": "stderr",
     "output_type": "stream",
     "text": [
      "WARNING:root:DM21CM: We dont do Helium here\n",
      "WARNING:root:DarkHistory: It's all hydrogen now.\n"
     ]
    }
   ],
   "source": [
    "%reload_ext autoreload\n",
    "%autoreload 2\n",
    "\n",
    "import os\n",
    "import sys\n",
    "import pickle\n",
    "\n",
    "sys.path.append(\"..\")\n",
    "from dm21cm.dm_params import DMParams\n",
    "\n",
    "sys.path.append(os.environ['DH_DIR'])\n",
    "from darkhistory.main import evolve as evolve_DH\n",
    "from darkhistory.config import load_data"
   ]
  },
  {
   "cell_type": "code",
   "execution_count": 2,
   "metadata": {},
   "outputs": [
    {
     "name": "stdout",
     "output_type": "stream",
     "text": [
      "****** Loading transfer functions... ******\n",
      "Using data at /n/holyscratch01/iaifi_lab/yitians/darkhistory/DHdata_v1_1/../DHdata_v1_1_zf01\n",
      "    for propagating photons...  "
     ]
    },
    {
     "name": "stdout",
     "output_type": "stream",
     "text": [
      " Done!\n",
      "    for low-energy photons...  Done!\n",
      "    for low-energy electrons...  Done!\n",
      "    for high-energy deposition...  Done!\n",
      "    for total upscattered CMB energy rate...  Done!\n",
      "****** Loading complete! ******\n",
      "****** Loading transfer functions... ******\n",
      "    for inverse Compton (Thomson)...  Done!\n",
      "    for inverse Compton (relativistic)...  Done!\n",
      "    for inverse Compton (energy loss)...  Done!\n",
      "****** Loading complete! ******\n"
     ]
    }
   ],
   "source": [
    "tf_version = 'zf01'\n",
    "\n",
    "load_data('dep_tf', prefix=f\"{os.environ['DH_DATA_DIR']}/../DHdata_v1_1_{tf_version}\")\n",
    "load_data('ics_tf', prefix=f\"{os.environ['DH_DATA_DIR']}/../DHdata_v1_1_{tf_version}\");"
   ]
  },
  {
   "cell_type": "code",
   "execution_count": 5,
   "metadata": {},
   "outputs": [],
   "source": [
    "# phph\n",
    "dm_params = DMParams(\n",
    "    mode = 'decay',\n",
    "    primary = 'phot_delta',\n",
    "    m_DM = 1e8, # [eV]\n",
    "    lifetime = 1e26, #[s]\n",
    ")"
   ]
  },
  {
   "cell_type": "code",
   "execution_count": 3,
   "metadata": {},
   "outputs": [],
   "source": [
    "# ee\n",
    "dm_params = DMParams(\n",
    "    mode = 'decay',\n",
    "    primary = 'elec_delta',\n",
    "    m_DM = 1e8, # [eV]\n",
    "    lifetime = 1e26, #[s]\n",
    ")"
   ]
  },
  {
   "cell_type": "code",
   "execution_count": 4,
   "metadata": {},
   "outputs": [],
   "source": [
    "# off\n",
    "dm_params = DMParams(\n",
    "    mode = 'decay',\n",
    "    primary = 'phot_delta',\n",
    "    m_DM = 1e8, # [eV]\n",
    "    lifetime = 1e50, #[s]\n",
    ")"
   ]
  },
  {
   "cell_type": "code",
   "execution_count": 4,
   "metadata": {},
   "outputs": [
    {
     "name": "stdout",
     "output_type": "stream",
     "text": [
      "Loading time: 0.022 s\n"
     ]
    },
    {
     "name": "stderr",
     "output_type": "stream",
     "text": [
      "  0%|          | 0/534 [00:00<?, ?it/s]WARNING:root:Cross checking 21cmfast!\n"
     ]
    },
    {
     "name": "stdout",
     "output_type": "stream",
     "text": [
      "Initialization time: 0.301 s\n"
     ]
    },
    {
     "name": "stderr",
     "output_type": "stream",
     "text": [
      "WARNING:root:Using dts associated with transfer functions!\n",
      "  0%|          | 1/534 [00:00<05:13,  1.70it/s]/n/home07/yitians/darkhistory/DarkHistory/darkhistory/spec/spectrum.py:861: RuntimeWarning: The new abscissa lies below the old one: only bins that lie within the new abscissa will be rebinned, bins above the abscissa will be discarded.\n",
      "  warnings.warn(\"The new abscissa lies below the old one: only bins that lie within the new abscissa will be rebinned, bins above the abscissa will be discarded.\", RuntimeWarning)\n",
      "/n/home07/yitians/darkhistory/DarkHistory/darkhistory/history/tla.py:640: RuntimeWarning: invalid value encountered in arctanh\n",
      "  _init_cond[2] = np.arctanh(2/chi * (_init_cond[2] - chi/2))\n",
      "/n/home07/yitians/.conda/envs/dm21cm/lib/python3.11/site-packages/scipy/integrate/_odepack_py.py:248: ODEintWarning: Illegal input detected (internal error). Run with full_output = 1 to get quantitative information.\n",
      "  warnings.warn(warning_msg, ODEintWarning)\n",
      "  0%|          | 2/534 [00:01<05:51,  1.52it/s]"
     ]
    },
    {
     "name": "stdout",
     "output_type": "stream",
     "text": [
      " lsoda--  at start of problem, too much accuracy   \u0000\u0000\n",
      "       requested for precision of machine..  see tolsf (=r1) \n",
      "      in above message,  r1 =                  NaN\n"
     ]
    },
    {
     "name": "stderr",
     "output_type": "stream",
     "text": [
      "  1%|          | 3/534 [00:01<04:08,  2.13it/s]"
     ]
    },
    {
     "name": "stdout",
     "output_type": "stream",
     "text": [
      " lsoda--  at start of problem, too much accuracy   \u0000\u0000\n",
      "       requested for precision of machine..  see tolsf (=r1) \n",
      "      in above message,  r1 =                  NaN\n"
     ]
    },
    {
     "name": "stderr",
     "output_type": "stream",
     "text": [
      "  1%|          | 4/534 [00:01<03:18,  2.67it/s]"
     ]
    },
    {
     "name": "stdout",
     "output_type": "stream",
     "text": [
      " lsoda--  at start of problem, too much accuracy   \u0000\u0000\n",
      "       requested for precision of machine..  see tolsf (=r1) \n",
      "      in above message,  r1 =                  NaN\n"
     ]
    },
    {
     "name": "stderr",
     "output_type": "stream",
     "text": [
      "  1%|          | 5/534 [00:02<02:50,  3.10it/s]"
     ]
    },
    {
     "name": "stdout",
     "output_type": "stream",
     "text": [
      " lsoda--  at start of problem, too much accuracy   \u0000\u0000\n",
      "       requested for precision of machine..  see tolsf (=r1) \n",
      "      in above message,  r1 =                  NaN\n"
     ]
    },
    {
     "name": "stderr",
     "output_type": "stream",
     "text": [
      "  1%|          | 6/534 [00:02<02:35,  3.40it/s]"
     ]
    },
    {
     "name": "stdout",
     "output_type": "stream",
     "text": [
      " lsoda--  at start of problem, too much accuracy   \u0000\u0000\n",
      "       requested for precision of machine..  see tolsf (=r1) \n",
      "      in above message,  r1 =                  NaN\n"
     ]
    },
    {
     "name": "stderr",
     "output_type": "stream",
     "text": [
      "/n/home07/yitians/.conda/envs/dm21cm/lib/python3.11/site-packages/scipy/integrate/_odepack_py.py:248: ODEintWarning: Run terminated (internal error). Run with full_output = 1 to get quantitative information.\n",
      "  warnings.warn(warning_msg, ODEintWarning)\n",
      "  1%|▏         | 7/534 [00:02<02:21,  3.73it/s]"
     ]
    },
    {
     "name": "stdout",
     "output_type": "stream",
     "text": [
      " lsoda--  at start of problem, too much accuracy   \u0000\u0000\n",
      "       requested for precision of machine..  see tolsf (=r1) \n",
      "      in above message,  r1 =                  NaN\n",
      " lsoda--  repeated occurrences of illegal input    \u0000 \n"
     ]
    },
    {
     "name": "stderr",
     "output_type": "stream",
     "text": [
      "  1%|▏         | 8/534 [00:02<02:11,  3.99it/s]"
     ]
    },
    {
     "name": "stdout",
     "output_type": "stream",
     "text": [
      " lsoda--  at start of problem, too much accuracy   \u0000\u0000\n",
      "       requested for precision of machine..  see tolsf (=r1) \n",
      "      in above message,  r1 =                  NaN\n",
      " lsoda--  repeated occurrences of illegal input    \u0000 \n"
     ]
    },
    {
     "name": "stderr",
     "output_type": "stream",
     "text": [
      "  2%|▏         | 9/534 [00:02<02:05,  4.19it/s]"
     ]
    },
    {
     "name": "stdout",
     "output_type": "stream",
     "text": [
      " lsoda--  at start of problem, too much accuracy   \u0000\u0000\n",
      "       requested for precision of machine..  see tolsf (=r1) \n",
      "      in above message,  r1 =                  NaN\n",
      " lsoda--  repeated occurrences of illegal input    \u0000 \n"
     ]
    },
    {
     "name": "stderr",
     "output_type": "stream",
     "text": [
      "  2%|▏         | 10/534 [00:03<02:01,  4.33it/s]"
     ]
    },
    {
     "name": "stdout",
     "output_type": "stream",
     "text": [
      " lsoda--  at start of problem, too much accuracy   \u0000\u0000\n",
      "       requested for precision of machine..  see tolsf (=r1) \n",
      "      in above message,  r1 =                  NaN\n",
      " lsoda--  repeated occurrences of illegal input    \u0000 \n"
     ]
    },
    {
     "name": "stderr",
     "output_type": "stream",
     "text": [
      "  2%|▏         | 11/534 [00:03<01:57,  4.43it/s]"
     ]
    },
    {
     "name": "stdout",
     "output_type": "stream",
     "text": [
      " lsoda--  at start of problem, too much accuracy   \u0000\u0000\n",
      "       requested for precision of machine..  see tolsf (=r1) \n",
      "      in above message,  r1 =                  NaN\n",
      " lsoda--  repeated occurrences of illegal input    \u0000 \n"
     ]
    },
    {
     "name": "stderr",
     "output_type": "stream",
     "text": [
      "  2%|▏         | 12/534 [00:03<01:56,  4.48it/s]"
     ]
    },
    {
     "name": "stdout",
     "output_type": "stream",
     "text": [
      " lsoda--  at start of problem, too much accuracy   \u0000\u0000\n",
      "       requested for precision of machine..  see tolsf (=r1) \n",
      "      in above message,  r1 =                  NaN\n",
      " lsoda--  repeated occurrences of illegal input    \u0000 \n"
     ]
    },
    {
     "name": "stderr",
     "output_type": "stream",
     "text": [
      "  2%|▏         | 13/534 [00:03<01:54,  4.55it/s]"
     ]
    },
    {
     "name": "stdout",
     "output_type": "stream",
     "text": [
      " lsoda--  at start of problem, too much accuracy   \u0000\u0000\n",
      "       requested for precision of machine..  see tolsf (=r1) \n",
      "      in above message,  r1 =                  NaN\n",
      " lsoda--  repeated occurrences of illegal input    \u0000 \n"
     ]
    },
    {
     "name": "stderr",
     "output_type": "stream",
     "text": [
      "  3%|▎         | 14/534 [00:03<01:53,  4.57it/s]"
     ]
    },
    {
     "name": "stdout",
     "output_type": "stream",
     "text": [
      " lsoda--  at start of problem, too much accuracy   \u0000\u0000\n",
      "       requested for precision of machine..  see tolsf (=r1) \n",
      "      in above message,  r1 =                  NaN\n",
      " lsoda--  repeated occurrences of illegal input    \u0000 \n"
     ]
    },
    {
     "name": "stderr",
     "output_type": "stream",
     "text": [
      "  3%|▎         | 15/534 [00:04<01:52,  4.61it/s]"
     ]
    },
    {
     "name": "stdout",
     "output_type": "stream",
     "text": [
      " lsoda--  at start of problem, too much accuracy   \u0000\u0000\n",
      "       requested for precision of machine..  see tolsf (=r1) \n",
      "      in above message,  r1 =                  NaN\n",
      " lsoda--  repeated occurrences of illegal input    \u0000 \n"
     ]
    },
    {
     "name": "stderr",
     "output_type": "stream",
     "text": [
      "  3%|▎         | 16/534 [00:04<01:51,  4.63it/s]"
     ]
    },
    {
     "name": "stdout",
     "output_type": "stream",
     "text": [
      " lsoda--  at start of problem, too much accuracy   \u0000\u0000\n",
      "       requested for precision of machine..  see tolsf (=r1) \n",
      "      in above message,  r1 =                  NaN\n",
      " lsoda--  repeated occurrences of illegal input    \u0000 \n"
     ]
    },
    {
     "name": "stderr",
     "output_type": "stream",
     "text": [
      "  3%|▎         | 17/534 [00:04<01:51,  4.64it/s]"
     ]
    },
    {
     "name": "stdout",
     "output_type": "stream",
     "text": [
      " lsoda--  at start of problem, too much accuracy   \u0000\u0000\n",
      "       requested for precision of machine..  see tolsf (=r1) \n",
      "      in above message,  r1 =                  NaN\n",
      " lsoda--  repeated occurrences of illegal input    \u0000 \n"
     ]
    },
    {
     "name": "stderr",
     "output_type": "stream",
     "text": [
      "  3%|▎         | 18/534 [00:04<01:50,  4.65it/s]"
     ]
    },
    {
     "name": "stdout",
     "output_type": "stream",
     "text": [
      " lsoda--  at start of problem, too much accuracy   \u0000\u0000\n",
      "       requested for precision of machine..  see tolsf (=r1) \n",
      "      in above message,  r1 =                  NaN\n",
      " lsoda--  repeated occurrences of illegal input    \u0000 \n"
     ]
    },
    {
     "name": "stderr",
     "output_type": "stream",
     "text": [
      "  4%|▎         | 19/534 [00:05<01:50,  4.65it/s]"
     ]
    },
    {
     "name": "stdout",
     "output_type": "stream",
     "text": [
      " lsoda--  at start of problem, too much accuracy   \u0000\u0000\n",
      "       requested for precision of machine..  see tolsf (=r1) \n",
      "      in above message,  r1 =                  NaN\n",
      " lsoda--  repeated occurrences of illegal input    \u0000 \n"
     ]
    },
    {
     "name": "stderr",
     "output_type": "stream",
     "text": [
      "  4%|▎         | 20/534 [00:05<01:50,  4.66it/s]"
     ]
    },
    {
     "name": "stdout",
     "output_type": "stream",
     "text": [
      " lsoda--  at start of problem, too much accuracy   \u0000\u0000\n",
      "       requested for precision of machine..  see tolsf (=r1) \n",
      "      in above message,  r1 =                  NaN\n",
      " lsoda--  repeated occurrences of illegal input    \u0000 \n"
     ]
    },
    {
     "name": "stderr",
     "output_type": "stream",
     "text": [
      "  4%|▍         | 21/534 [00:05<01:50,  4.63it/s]"
     ]
    },
    {
     "name": "stdout",
     "output_type": "stream",
     "text": [
      " lsoda--  at start of problem, too much accuracy   \u0000\u0000\n",
      "       requested for precision of machine..  see tolsf (=r1) \n",
      "      in above message,  r1 =                  NaN\n",
      " lsoda--  repeated occurrences of illegal input    \u0000 \n"
     ]
    },
    {
     "name": "stderr",
     "output_type": "stream",
     "text": [
      "  4%|▍         | 22/534 [00:05<01:50,  4.63it/s]"
     ]
    },
    {
     "name": "stdout",
     "output_type": "stream",
     "text": [
      " lsoda--  at start of problem, too much accuracy   \u0000\u0000\n",
      "       requested for precision of machine..  see tolsf (=r1) \n",
      "      in above message,  r1 =                  NaN\n",
      " lsoda--  repeated occurrences of illegal input    \u0000 \n"
     ]
    },
    {
     "name": "stderr",
     "output_type": "stream",
     "text": [
      "  4%|▍         | 23/534 [00:05<01:49,  4.66it/s]"
     ]
    },
    {
     "name": "stdout",
     "output_type": "stream",
     "text": [
      " lsoda--  at start of problem, too much accuracy   \u0000\u0000\n",
      "       requested for precision of machine..  see tolsf (=r1) \n",
      "      in above message,  r1 =                  NaN\n",
      " lsoda--  repeated occurrences of illegal input    \u0000 \n"
     ]
    },
    {
     "name": "stderr",
     "output_type": "stream",
     "text": [
      "  4%|▍         | 24/534 [00:06<01:48,  4.69it/s]"
     ]
    },
    {
     "name": "stdout",
     "output_type": "stream",
     "text": [
      " lsoda--  at start of problem, too much accuracy   \u0000\u0000\n",
      "       requested for precision of machine..  see tolsf (=r1) \n",
      "      in above message,  r1 =                  NaN\n",
      " lsoda--  repeated occurrences of illegal input    \u0000 \n"
     ]
    },
    {
     "name": "stderr",
     "output_type": "stream",
     "text": [
      "  5%|▍         | 25/534 [00:06<01:48,  4.70it/s]"
     ]
    },
    {
     "name": "stdout",
     "output_type": "stream",
     "text": [
      " lsoda--  at start of problem, too much accuracy   \u0000\u0000\n",
      "       requested for precision of machine..  see tolsf (=r1) \n",
      "      in above message,  r1 =                  NaN\n",
      " lsoda--  repeated occurrences of illegal input    \u0000 \n"
     ]
    },
    {
     "name": "stderr",
     "output_type": "stream",
     "text": [
      "  5%|▍         | 26/534 [00:06<01:48,  4.69it/s]"
     ]
    },
    {
     "name": "stdout",
     "output_type": "stream",
     "text": [
      " lsoda--  at start of problem, too much accuracy   \u0000\u0000\n",
      "       requested for precision of machine..  see tolsf (=r1) \n",
      "      in above message,  r1 =                  NaN\n",
      " lsoda--  repeated occurrences of illegal input    \u0000 \n"
     ]
    },
    {
     "name": "stderr",
     "output_type": "stream",
     "text": [
      "  5%|▌         | 27/534 [00:06<01:48,  4.69it/s]"
     ]
    },
    {
     "name": "stdout",
     "output_type": "stream",
     "text": [
      " lsoda--  at start of problem, too much accuracy   \u0000\u0000\n",
      "       requested for precision of machine..  see tolsf (=r1) \n",
      "      in above message,  r1 =                  NaN\n",
      " lsoda--  repeated occurrences of illegal input    \u0000 \n"
     ]
    },
    {
     "name": "stderr",
     "output_type": "stream",
     "text": [
      "  5%|▌         | 28/534 [00:06<01:47,  4.70it/s]"
     ]
    },
    {
     "name": "stdout",
     "output_type": "stream",
     "text": [
      " lsoda--  at start of problem, too much accuracy   \u0000\u0000\n",
      "       requested for precision of machine..  see tolsf (=r1) \n",
      "      in above message,  r1 =                  NaN\n",
      " lsoda--  repeated occurrences of illegal input    \u0000 \n"
     ]
    },
    {
     "name": "stderr",
     "output_type": "stream",
     "text": [
      "  5%|▌         | 29/534 [00:07<01:47,  4.69it/s]"
     ]
    },
    {
     "name": "stdout",
     "output_type": "stream",
     "text": [
      " lsoda--  at start of problem, too much accuracy   \u0000\u0000\n",
      "       requested for precision of machine..  see tolsf (=r1) \n",
      "      in above message,  r1 =                  NaN\n",
      " lsoda--  repeated occurrences of illegal input    \u0000 \n"
     ]
    },
    {
     "name": "stderr",
     "output_type": "stream",
     "text": [
      "  6%|▌         | 30/534 [00:07<01:51,  4.53it/s]"
     ]
    },
    {
     "name": "stdout",
     "output_type": "stream",
     "text": [
      " lsoda--  at start of problem, too much accuracy   \u0000\u0000\n",
      "       requested for precision of machine..  see tolsf (=r1) \n",
      "      in above message,  r1 =                  NaN\n",
      " lsoda--  repeated occurrences of illegal input    \u0000 \n"
     ]
    },
    {
     "name": "stderr",
     "output_type": "stream",
     "text": [
      "  6%|▌         | 31/534 [00:07<01:50,  4.54it/s]"
     ]
    },
    {
     "name": "stdout",
     "output_type": "stream",
     "text": [
      " lsoda--  at start of problem, too much accuracy   \u0000\u0000\n",
      "       requested for precision of machine..  see tolsf (=r1) \n",
      "      in above message,  r1 =                  NaN\n",
      " lsoda--  repeated occurrences of illegal input    \u0000 \n"
     ]
    },
    {
     "name": "stderr",
     "output_type": "stream",
     "text": [
      "  6%|▌         | 32/534 [00:07<01:49,  4.61it/s]"
     ]
    },
    {
     "name": "stdout",
     "output_type": "stream",
     "text": [
      " lsoda--  at start of problem, too much accuracy   \u0000\u0000\n",
      "       requested for precision of machine..  see tolsf (=r1) \n",
      "      in above message,  r1 =                  NaN\n",
      " lsoda--  repeated occurrences of illegal input    \u0000 \n"
     ]
    },
    {
     "name": "stderr",
     "output_type": "stream",
     "text": [
      "  6%|▌         | 33/534 [00:08<01:48,  4.62it/s]"
     ]
    },
    {
     "name": "stdout",
     "output_type": "stream",
     "text": [
      " lsoda--  at start of problem, too much accuracy   \u0000\u0000\n",
      "       requested for precision of machine..  see tolsf (=r1) \n",
      "      in above message,  r1 =                  NaN\n",
      " lsoda--  repeated occurrences of illegal input    \u0000 \n"
     ]
    },
    {
     "name": "stderr",
     "output_type": "stream",
     "text": [
      "  6%|▋         | 34/534 [00:08<01:50,  4.53it/s]"
     ]
    },
    {
     "name": "stdout",
     "output_type": "stream",
     "text": [
      " lsoda--  at start of problem, too much accuracy   \u0000\u0000\n",
      "       requested for precision of machine..  see tolsf (=r1) \n",
      "      in above message,  r1 =                  NaN\n",
      " lsoda--  repeated occurrences of illegal input    \u0000 \n"
     ]
    },
    {
     "name": "stderr",
     "output_type": "stream",
     "text": [
      "  7%|▋         | 35/534 [00:08<01:49,  4.55it/s]"
     ]
    },
    {
     "name": "stdout",
     "output_type": "stream",
     "text": [
      " lsoda--  at start of problem, too much accuracy   \u0000\u0000\n",
      "       requested for precision of machine..  see tolsf (=r1) \n",
      "      in above message,  r1 =                  NaN\n",
      " lsoda--  repeated occurrences of illegal input    \u0000 \n"
     ]
    },
    {
     "name": "stderr",
     "output_type": "stream",
     "text": [
      "  7%|▋         | 36/534 [00:08<01:48,  4.59it/s]"
     ]
    },
    {
     "name": "stdout",
     "output_type": "stream",
     "text": [
      " lsoda--  at start of problem, too much accuracy   \u0000\u0000\n",
      "       requested for precision of machine..  see tolsf (=r1) \n",
      "      in above message,  r1 =                  NaN\n",
      " lsoda--  repeated occurrences of illegal input    \u0000 \n"
     ]
    },
    {
     "name": "stderr",
     "output_type": "stream",
     "text": [
      "  7%|▋         | 37/534 [00:08<01:47,  4.63it/s]"
     ]
    },
    {
     "name": "stdout",
     "output_type": "stream",
     "text": [
      " lsoda--  at start of problem, too much accuracy   \u0000\u0000\n",
      "       requested for precision of machine..  see tolsf (=r1) \n",
      "      in above message,  r1 =                  NaN\n",
      " lsoda--  repeated occurrences of illegal input    \u0000 \n"
     ]
    },
    {
     "name": "stderr",
     "output_type": "stream",
     "text": [
      "  7%|▋         | 38/534 [00:09<01:46,  4.65it/s]"
     ]
    },
    {
     "name": "stdout",
     "output_type": "stream",
     "text": [
      " lsoda--  at start of problem, too much accuracy   \u0000\u0000\n",
      "       requested for precision of machine..  see tolsf (=r1) \n",
      "      in above message,  r1 =                  NaN\n",
      " lsoda--  repeated occurrences of illegal input    \u0000 \n"
     ]
    },
    {
     "name": "stderr",
     "output_type": "stream",
     "text": [
      "  7%|▋         | 39/534 [00:09<01:46,  4.66it/s]"
     ]
    },
    {
     "name": "stdout",
     "output_type": "stream",
     "text": [
      " lsoda--  at start of problem, too much accuracy   \u0000\u0000\n",
      "       requested for precision of machine..  see tolsf (=r1) \n",
      "      in above message,  r1 =                  NaN\n",
      " lsoda--  repeated occurrences of illegal input    \u0000 \n"
     ]
    },
    {
     "name": "stderr",
     "output_type": "stream",
     "text": [
      "  7%|▋         | 40/534 [00:09<01:45,  4.68it/s]"
     ]
    },
    {
     "name": "stdout",
     "output_type": "stream",
     "text": [
      " lsoda--  at start of problem, too much accuracy   \u0000\u0000\n",
      "       requested for precision of machine..  see tolsf (=r1) \n",
      "      in above message,  r1 =                  NaN\n",
      " lsoda--  repeated occurrences of illegal input    \u0000 \n"
     ]
    },
    {
     "name": "stderr",
     "output_type": "stream",
     "text": [
      "  8%|▊         | 41/534 [00:09<01:45,  4.69it/s]"
     ]
    },
    {
     "name": "stdout",
     "output_type": "stream",
     "text": [
      " lsoda--  at start of problem, too much accuracy   \u0000\u0000\n",
      "       requested for precision of machine..  see tolsf (=r1) \n",
      "      in above message,  r1 =                  NaN\n",
      " lsoda--  repeated occurrences of illegal input    \u0000 \n"
     ]
    },
    {
     "name": "stderr",
     "output_type": "stream",
     "text": [
      "  8%|▊         | 42/534 [00:09<01:44,  4.69it/s]"
     ]
    },
    {
     "name": "stdout",
     "output_type": "stream",
     "text": [
      " lsoda--  at start of problem, too much accuracy   \u0000\u0000\n",
      "       requested for precision of machine..  see tolsf (=r1) \n",
      "      in above message,  r1 =                  NaN\n",
      " lsoda--  repeated occurrences of illegal input    \u0000 \n"
     ]
    },
    {
     "name": "stderr",
     "output_type": "stream",
     "text": [
      "  8%|▊         | 43/534 [00:10<01:44,  4.70it/s]"
     ]
    },
    {
     "name": "stdout",
     "output_type": "stream",
     "text": [
      " lsoda--  at start of problem, too much accuracy   \u0000\u0000\n",
      "       requested for precision of machine..  see tolsf (=r1) \n",
      "      in above message,  r1 =                  NaN\n",
      " lsoda--  repeated occurrences of illegal input    \u0000 \n"
     ]
    },
    {
     "name": "stderr",
     "output_type": "stream",
     "text": [
      "  8%|▊         | 44/534 [00:10<01:44,  4.71it/s]"
     ]
    },
    {
     "name": "stdout",
     "output_type": "stream",
     "text": [
      " lsoda--  at start of problem, too much accuracy   \u0000\u0000\n",
      "       requested for precision of machine..  see tolsf (=r1) \n",
      "      in above message,  r1 =                  NaN\n",
      " lsoda--  repeated occurrences of illegal input    \u0000 \n"
     ]
    },
    {
     "name": "stderr",
     "output_type": "stream",
     "text": [
      "  8%|▊         | 45/534 [00:10<01:44,  4.70it/s]"
     ]
    },
    {
     "name": "stdout",
     "output_type": "stream",
     "text": [
      " lsoda--  at start of problem, too much accuracy   \u0000\u0000\n",
      "       requested for precision of machine..  see tolsf (=r1) \n",
      "      in above message,  r1 =                  NaN\n",
      " lsoda--  repeated occurrences of illegal input    \u0000 \n"
     ]
    },
    {
     "name": "stderr",
     "output_type": "stream",
     "text": [
      "  9%|▊         | 46/534 [00:10<01:43,  4.71it/s]"
     ]
    },
    {
     "name": "stdout",
     "output_type": "stream",
     "text": [
      " lsoda--  at start of problem, too much accuracy   \u0000\u0000\n",
      "       requested for precision of machine..  see tolsf (=r1) \n",
      "      in above message,  r1 =                  NaN\n",
      " lsoda--  repeated occurrences of illegal input    \u0000 \n"
     ]
    },
    {
     "name": "stderr",
     "output_type": "stream",
     "text": [
      "  9%|▉         | 47/534 [00:11<01:43,  4.72it/s]"
     ]
    },
    {
     "name": "stdout",
     "output_type": "stream",
     "text": [
      " lsoda--  at start of problem, too much accuracy   \u0000\u0000\n",
      "       requested for precision of machine..  see tolsf (=r1) \n",
      "      in above message,  r1 =                  NaN\n",
      " lsoda--  repeated occurrences of illegal input    \u0000 \n"
     ]
    },
    {
     "name": "stderr",
     "output_type": "stream",
     "text": [
      "  9%|▉         | 48/534 [00:11<01:43,  4.71it/s]"
     ]
    },
    {
     "name": "stdout",
     "output_type": "stream",
     "text": [
      " lsoda--  at start of problem, too much accuracy   \u0000\u0000\n",
      "       requested for precision of machine..  see tolsf (=r1) \n",
      "      in above message,  r1 =                  NaN\n",
      " lsoda--  repeated occurrences of illegal input    \u0000 \n"
     ]
    },
    {
     "name": "stderr",
     "output_type": "stream",
     "text": [
      "  9%|▉         | 49/534 [00:11<01:42,  4.72it/s]"
     ]
    },
    {
     "name": "stdout",
     "output_type": "stream",
     "text": [
      " lsoda--  at start of problem, too much accuracy   \u0000\u0000\n",
      "       requested for precision of machine..  see tolsf (=r1) \n",
      "      in above message,  r1 =                  NaN\n",
      " lsoda--  repeated occurrences of illegal input    \u0000 \n"
     ]
    },
    {
     "name": "stderr",
     "output_type": "stream",
     "text": [
      " 64%|██████▍   | 344/534 [01:16<00:41,  4.55it/s]WARNING:root:Setting coarsen_factor=1!\n",
      "WARNING:root:Setting dlnz=0.009950330853168092!\n",
      "573it [01:42,  5.60it/s]                         \n"
     ]
    },
    {
     "name": "stdout",
     "output_type": "stream",
     "text": [
      "Main loop time: 102.170 s\n"
     ]
    }
   ],
   "source": [
    "run_name = 'xc_ee_noHe'\n",
    "\n",
    "soln = evolve_DH(\n",
    "    DM_process=dm_params.mode, mDM=dm_params.m_DM,\n",
    "    primary=dm_params.primary,\n",
    "    sigmav=dm_params.sigmav, lifetime=dm_params.lifetime,\n",
    "    struct_boost=dm_params.struct_boost,\n",
    "    start_rs=3000, end_rs=4.+1, coarsen_factor=12, verbose=1,\n",
    "    # use fake reionization to get case-A recomb. coeff.\n",
    "    reion_switch=True, reion_rs=47.,\n",
    "    photoion_rate_func=[lambda x: 0., lambda x: 0., lambda x: 0.],\n",
    "    photoheat_rate_func=[lambda x: 0., lambda x: 0., lambda x: 0.],\n",
    "    cross_check_21cmfast=True,\n",
    "    debug_no_bath=False,\n",
    "    debug_inject_ST_xray=False,\n",
    ")\n",
    "\n",
    "pickle.dump(soln, open(f\"{os.environ['DM21CM_DIR']}/outputs/dh/{run_name}_soln.p\", 'wb'))"
   ]
  },
  {
   "cell_type": "code",
   "execution_count": null,
   "metadata": {},
   "outputs": [],
   "source": []
  }
 ],
 "metadata": {
  "kernelspec": {
   "display_name": "dm21cm",
   "language": "python",
   "name": "python3"
  },
  "language_info": {
   "codemirror_mode": {
    "name": "ipython",
    "version": 3
   },
   "file_extension": ".py",
   "mimetype": "text/x-python",
   "name": "python",
   "nbconvert_exporter": "python",
   "pygments_lexer": "ipython3",
   "version": "3.11.5"
  }
 },
 "nbformat": 4,
 "nbformat_minor": 2
}
