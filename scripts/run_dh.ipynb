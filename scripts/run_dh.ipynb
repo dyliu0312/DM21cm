{
 "cells": [
  {
   "cell_type": "code",
   "execution_count": 2,
   "metadata": {},
   "outputs": [
    {
     "name": "stderr",
     "output_type": "stream",
     "text": [
      "WARNING:root:DM21CM: We dont do Helium here\n",
      "WARNING:root:DarkHistory: It's all hydrogen now.\n"
     ]
    }
   ],
   "source": [
    "%reload_ext autoreload\n",
    "%autoreload 2\n",
    "\n",
    "import os\n",
    "import sys\n",
    "import pickle\n",
    "\n",
    "sys.path.append(\"..\")\n",
    "from dm21cm.dm_params import DMParams\n",
    "\n",
    "sys.path.append(os.environ['DH_DIR'])\n",
    "from darkhistory.main import evolve as evolve_DH\n",
    "from darkhistory.config import load_data"
   ]
  },
  {
   "cell_type": "code",
   "execution_count": 3,
   "metadata": {},
   "outputs": [
    {
     "name": "stdout",
     "output_type": "stream",
     "text": [
      "****** Loading transfer functions... ******\n",
      "Using data at /n/holyscratch01/iaifi_lab/yitians/darkhistory/DHdata_v1_1/../DHdata_v1_1_zf01\n",
      "    for propagating photons...  "
     ]
    },
    {
     "name": "stdout",
     "output_type": "stream",
     "text": [
      " Done!\n",
      "    for low-energy photons...  Done!\n",
      "    for low-energy electrons...  Done!\n",
      "    for high-energy deposition...  Done!\n",
      "    for total upscattered CMB energy rate...  Done!\n",
      "****** Loading complete! ******\n",
      "****** Loading transfer functions... ******\n",
      "    for inverse Compton (Thomson)...  Done!\n",
      "    for inverse Compton (relativistic)...  Done!\n",
      "    for inverse Compton (energy loss)...  Done!\n",
      "****** Loading complete! ******\n"
     ]
    }
   ],
   "source": [
    "tf_version = 'zf01'\n",
    "\n",
    "load_data('dep_tf', prefix=f\"{os.environ['DH_DATA_DIR']}/../DHdata_v1_1_{tf_version}\")\n",
    "load_data('ics_tf', prefix=f\"{os.environ['DH_DATA_DIR']}/../DHdata_v1_1_{tf_version}\");"
   ]
  },
  {
   "cell_type": "code",
   "execution_count": 5,
   "metadata": {},
   "outputs": [],
   "source": [
    "# phph\n",
    "dm_params = DMParams(\n",
    "    mode = 'decay',\n",
    "    primary = 'phot_delta',\n",
    "    m_DM = 1e8, # [eV]\n",
    "    lifetime = 1e25, #[s]\n",
    ")"
   ]
  },
  {
   "cell_type": "code",
   "execution_count": 4,
   "metadata": {},
   "outputs": [],
   "source": [
    "# off\n",
    "dm_params = DMParams(\n",
    "    mode = 'decay',\n",
    "    primary = 'phot_delta',\n",
    "    m_DM = 1e8, # [eV]\n",
    "    lifetime = 1e50, #[s]\n",
    ")"
   ]
  },
  {
   "cell_type": "code",
   "execution_count": 11,
   "metadata": {},
   "outputs": [
    {
     "name": "stdout",
     "output_type": "stream",
     "text": [
      "Loading time: 0.000 s\n"
     ]
    },
    {
     "name": "stderr",
     "output_type": "stream",
     "text": [
      "  0%|          | 0/534 [00:00<?, ?it/s]WARNING:root:Cross checking 21cmfast!\n",
      "WARNING:root:Using dts associated with transfer functions!\n"
     ]
    },
    {
     "name": "stdout",
     "output_type": "stream",
     "text": [
      "Initialization time: 0.027 s\n"
     ]
    },
    {
     "name": "stderr",
     "output_type": "stream",
     "text": [
      "  0%|          | 2/534 [00:00<00:54,  9.76it/s]"
     ]
    },
    {
     "name": "stdout",
     "output_type": "stream",
     "text": [
      " lsoda--  at start of problem, too much accuracy   \u0000\u0000\n",
      "       requested for precision of machine..  see tolsf (=r1) \n",
      "      in above message,  r1 =                  NaN\n"
     ]
    },
    {
     "name": "stderr",
     "output_type": "stream",
     "text": [
      "  1%|          | 3/534 [00:00<01:05,  8.10it/s]"
     ]
    },
    {
     "name": "stdout",
     "output_type": "stream",
     "text": [
      " lsoda--  at start of problem, too much accuracy   \u0000\u0000\n",
      "       requested for precision of machine..  see tolsf (=r1) \n",
      "      in above message,  r1 =                  NaN\n"
     ]
    },
    {
     "name": "stderr",
     "output_type": "stream",
     "text": [
      "  1%|          | 4/534 [00:00<01:10,  7.51it/s]"
     ]
    },
    {
     "name": "stdout",
     "output_type": "stream",
     "text": [
      " lsoda--  at start of problem, too much accuracy   \u0000\u0000\n",
      "       requested for precision of machine..  see tolsf (=r1) \n",
      "      in above message,  r1 =                  NaN\n"
     ]
    },
    {
     "name": "stderr",
     "output_type": "stream",
     "text": [
      "  1%|          | 5/534 [00:00<01:13,  7.18it/s]"
     ]
    },
    {
     "name": "stdout",
     "output_type": "stream",
     "text": [
      " lsoda--  at start of problem, too much accuracy   \u0000\u0000\n",
      "       requested for precision of machine..  see tolsf (=r1) \n",
      "      in above message,  r1 =                  NaN\n"
     ]
    },
    {
     "name": "stderr",
     "output_type": "stream",
     "text": [
      "  1%|          | 6/534 [00:00<01:16,  6.93it/s]"
     ]
    },
    {
     "name": "stdout",
     "output_type": "stream",
     "text": [
      " lsoda--  at start of problem, too much accuracy   \u0000\u0000\n",
      "       requested for precision of machine..  see tolsf (=r1) \n",
      "      in above message,  r1 =                  NaN\n"
     ]
    },
    {
     "name": "stderr",
     "output_type": "stream",
     "text": [
      "  1%|▏         | 7/534 [00:00<01:16,  6.86it/s]"
     ]
    },
    {
     "name": "stdout",
     "output_type": "stream",
     "text": [
      " lsoda--  at start of problem, too much accuracy   \u0000\u0000\n",
      "       requested for precision of machine..  see tolsf (=r1) \n",
      "      in above message,  r1 =                  NaN\n",
      " lsoda--  repeated occurrences of illegal input    \u0000 \n"
     ]
    },
    {
     "name": "stderr",
     "output_type": "stream",
     "text": [
      "  1%|▏         | 8/534 [00:01<01:17,  6.77it/s]"
     ]
    },
    {
     "name": "stdout",
     "output_type": "stream",
     "text": [
      " lsoda--  at start of problem, too much accuracy   \u0000\u0000\n",
      "       requested for precision of machine..  see tolsf (=r1) \n",
      "      in above message,  r1 =                  NaN\n",
      " lsoda--  repeated occurrences of illegal input    \u0000 \n"
     ]
    },
    {
     "name": "stderr",
     "output_type": "stream",
     "text": [
      "  2%|▏         | 9/534 [00:01<01:18,  6.71it/s]"
     ]
    },
    {
     "name": "stdout",
     "output_type": "stream",
     "text": [
      " lsoda--  at start of problem, too much accuracy   \u0000\u0000\n",
      "       requested for precision of machine..  see tolsf (=r1) \n",
      "      in above message,  r1 =                  NaN\n",
      " lsoda--  repeated occurrences of illegal input    \u0000 \n"
     ]
    },
    {
     "name": "stderr",
     "output_type": "stream",
     "text": [
      "  2%|▏         | 10/534 [00:01<01:20,  6.49it/s]"
     ]
    },
    {
     "name": "stdout",
     "output_type": "stream",
     "text": [
      " lsoda--  at start of problem, too much accuracy   \u0000\u0000\n",
      "       requested for precision of machine..  see tolsf (=r1) \n",
      "      in above message,  r1 =                  NaN\n",
      " lsoda--  repeated occurrences of illegal input    \u0000 \n"
     ]
    },
    {
     "name": "stderr",
     "output_type": "stream",
     "text": [
      "  2%|▏         | 11/534 [00:01<01:21,  6.44it/s]"
     ]
    },
    {
     "name": "stdout",
     "output_type": "stream",
     "text": [
      " lsoda--  at start of problem, too much accuracy   \u0000\u0000\n",
      "       requested for precision of machine..  see tolsf (=r1) \n",
      "      in above message,  r1 =                  NaN\n",
      " lsoda--  repeated occurrences of illegal input    \u0000 \n"
     ]
    },
    {
     "name": "stderr",
     "output_type": "stream",
     "text": [
      "  2%|▏         | 12/534 [00:01<01:21,  6.42it/s]"
     ]
    },
    {
     "name": "stdout",
     "output_type": "stream",
     "text": [
      " lsoda--  at start of problem, too much accuracy   \u0000\u0000\n",
      "       requested for precision of machine..  see tolsf (=r1) \n",
      "      in above message,  r1 =                  NaN\n",
      " lsoda--  repeated occurrences of illegal input    \u0000 \n"
     ]
    },
    {
     "name": "stderr",
     "output_type": "stream",
     "text": [
      "  2%|▏         | 13/534 [00:01<01:20,  6.43it/s]"
     ]
    },
    {
     "name": "stdout",
     "output_type": "stream",
     "text": [
      " lsoda--  at start of problem, too much accuracy   \u0000\u0000\n",
      "       requested for precision of machine..  see tolsf (=r1) \n",
      "      in above message,  r1 =                  NaN\n",
      " lsoda--  repeated occurrences of illegal input    \u0000 \n"
     ]
    },
    {
     "name": "stderr",
     "output_type": "stream",
     "text": [
      "  3%|▎         | 14/534 [00:02<01:20,  6.44it/s]"
     ]
    },
    {
     "name": "stdout",
     "output_type": "stream",
     "text": [
      " lsoda--  at start of problem, too much accuracy   \u0000\u0000\n",
      "       requested for precision of machine..  see tolsf (=r1) \n",
      "      in above message,  r1 =                  NaN\n",
      " lsoda--  repeated occurrences of illegal input    \u0000 \n"
     ]
    },
    {
     "name": "stderr",
     "output_type": "stream",
     "text": [
      "  3%|▎         | 15/534 [00:02<01:20,  6.44it/s]"
     ]
    },
    {
     "name": "stdout",
     "output_type": "stream",
     "text": [
      " lsoda--  at start of problem, too much accuracy   \u0000\u0000\n",
      "       requested for precision of machine..  see tolsf (=r1) \n",
      "      in above message,  r1 =                  NaN\n",
      " lsoda--  repeated occurrences of illegal input    \u0000 \n"
     ]
    },
    {
     "name": "stderr",
     "output_type": "stream",
     "text": [
      "  3%|▎         | 16/534 [00:02<01:22,  6.26it/s]"
     ]
    },
    {
     "name": "stdout",
     "output_type": "stream",
     "text": [
      " lsoda--  at start of problem, too much accuracy   \u0000\u0000\n",
      "       requested for precision of machine..  see tolsf (=r1) \n",
      "      in above message,  r1 =                  NaN\n",
      " lsoda--  repeated occurrences of illegal input    \u0000 \n"
     ]
    },
    {
     "name": "stderr",
     "output_type": "stream",
     "text": [
      "  3%|▎         | 17/534 [00:02<01:21,  6.37it/s]"
     ]
    },
    {
     "name": "stdout",
     "output_type": "stream",
     "text": [
      " lsoda--  at start of problem, too much accuracy   \u0000\u0000\n",
      "       requested for precision of machine..  see tolsf (=r1) \n",
      "      in above message,  r1 =                  NaN\n",
      " lsoda--  repeated occurrences of illegal input    \u0000 \n"
     ]
    },
    {
     "name": "stderr",
     "output_type": "stream",
     "text": [
      "  3%|▎         | 18/534 [00:02<01:19,  6.47it/s]"
     ]
    },
    {
     "name": "stdout",
     "output_type": "stream",
     "text": [
      " lsoda--  at start of problem, too much accuracy   \u0000\u0000\n",
      "       requested for precision of machine..  see tolsf (=r1) \n",
      "      in above message,  r1 =                  NaN\n",
      " lsoda--  repeated occurrences of illegal input    \u0000 \n"
     ]
    },
    {
     "name": "stderr",
     "output_type": "stream",
     "text": [
      "  4%|▎         | 19/534 [00:02<01:18,  6.58it/s]"
     ]
    },
    {
     "name": "stdout",
     "output_type": "stream",
     "text": [
      " lsoda--  at start of problem, too much accuracy   \u0000\u0000\n",
      "       requested for precision of machine..  see tolsf (=r1) \n",
      "      in above message,  r1 =                  NaN\n",
      " lsoda--  repeated occurrences of illegal input    \u0000 \n"
     ]
    },
    {
     "name": "stderr",
     "output_type": "stream",
     "text": [
      "  4%|▎         | 20/534 [00:02<01:17,  6.67it/s]"
     ]
    },
    {
     "name": "stdout",
     "output_type": "stream",
     "text": [
      " lsoda--  at start of problem, too much accuracy   \u0000\u0000\n",
      "       requested for precision of machine..  see tolsf (=r1) \n",
      "      in above message,  r1 =                  NaN\n",
      " lsoda--  repeated occurrences of illegal input    \u0000 \n"
     ]
    },
    {
     "name": "stderr",
     "output_type": "stream",
     "text": [
      "  4%|▍         | 21/534 [00:03<01:16,  6.67it/s]"
     ]
    },
    {
     "name": "stdout",
     "output_type": "stream",
     "text": [
      " lsoda--  at start of problem, too much accuracy   \u0000\u0000\n",
      "       requested for precision of machine..  see tolsf (=r1) \n",
      "      in above message,  r1 =                  NaN\n",
      " lsoda--  repeated occurrences of illegal input    \u0000 \n"
     ]
    },
    {
     "name": "stderr",
     "output_type": "stream",
     "text": [
      "  4%|▍         | 22/534 [00:03<01:16,  6.69it/s]"
     ]
    },
    {
     "name": "stdout",
     "output_type": "stream",
     "text": [
      " lsoda--  at start of problem, too much accuracy   \u0000\u0000\n",
      "       requested for precision of machine..  see tolsf (=r1) \n",
      "      in above message,  r1 =                  NaN\n",
      " lsoda--  repeated occurrences of illegal input    \u0000 \n"
     ]
    },
    {
     "name": "stderr",
     "output_type": "stream",
     "text": [
      "  4%|▍         | 23/534 [00:03<01:15,  6.77it/s]"
     ]
    },
    {
     "name": "stdout",
     "output_type": "stream",
     "text": [
      " lsoda--  at start of problem, too much accuracy   \u0000\u0000\n",
      "       requested for precision of machine..  see tolsf (=r1) \n",
      "      in above message,  r1 =                  NaN\n",
      " lsoda--  repeated occurrences of illegal input    \u0000 \n"
     ]
    },
    {
     "name": "stderr",
     "output_type": "stream",
     "text": [
      "  4%|▍         | 24/534 [00:03<01:15,  6.78it/s]"
     ]
    },
    {
     "name": "stdout",
     "output_type": "stream",
     "text": [
      " lsoda--  at start of problem, too much accuracy   \u0000\u0000\n",
      "       requested for precision of machine..  see tolsf (=r1) \n",
      "      in above message,  r1 =                  NaN\n",
      " lsoda--  repeated occurrences of illegal input    \u0000 \n"
     ]
    },
    {
     "name": "stderr",
     "output_type": "stream",
     "text": [
      "  5%|▍         | 25/534 [00:03<01:15,  6.75it/s]"
     ]
    },
    {
     "name": "stdout",
     "output_type": "stream",
     "text": [
      " lsoda--  at start of problem, too much accuracy   \u0000\u0000\n",
      "       requested for precision of machine..  see tolsf (=r1) \n",
      "      in above message,  r1 =                  NaN\n",
      " lsoda--  repeated occurrences of illegal input    \u0000 \n"
     ]
    },
    {
     "name": "stderr",
     "output_type": "stream",
     "text": [
      "  5%|▍         | 26/534 [00:03<01:14,  6.78it/s]"
     ]
    },
    {
     "name": "stdout",
     "output_type": "stream",
     "text": [
      " lsoda--  at start of problem, too much accuracy   \u0000\u0000\n",
      "       requested for precision of machine..  see tolsf (=r1) \n",
      "      in above message,  r1 =                  NaN\n",
      " lsoda--  repeated occurrences of illegal input    \u0000 \n"
     ]
    },
    {
     "name": "stderr",
     "output_type": "stream",
     "text": [
      "  5%|▌         | 27/534 [00:04<01:15,  6.75it/s]"
     ]
    },
    {
     "name": "stdout",
     "output_type": "stream",
     "text": [
      " lsoda--  at start of problem, too much accuracy   \u0000\u0000\n",
      "       requested for precision of machine..  see tolsf (=r1) \n",
      "      in above message,  r1 =                  NaN\n",
      " lsoda--  repeated occurrences of illegal input    \u0000 \n"
     ]
    },
    {
     "name": "stderr",
     "output_type": "stream",
     "text": [
      "  5%|▌         | 28/534 [00:04<01:14,  6.80it/s]"
     ]
    },
    {
     "name": "stdout",
     "output_type": "stream",
     "text": [
      " lsoda--  at start of problem, too much accuracy   \u0000\u0000\n",
      "       requested for precision of machine..  see tolsf (=r1) \n",
      "      in above message,  r1 =                  NaN\n",
      " lsoda--  repeated occurrences of illegal input    \u0000 \n"
     ]
    },
    {
     "name": "stderr",
     "output_type": "stream",
     "text": [
      "  5%|▌         | 29/534 [00:04<01:14,  6.80it/s]"
     ]
    },
    {
     "name": "stdout",
     "output_type": "stream",
     "text": [
      " lsoda--  at start of problem, too much accuracy   \u0000\u0000\n",
      "       requested for precision of machine..  see tolsf (=r1) \n",
      "      in above message,  r1 =                  NaN\n",
      " lsoda--  repeated occurrences of illegal input    \u0000 \n"
     ]
    },
    {
     "name": "stderr",
     "output_type": "stream",
     "text": [
      "  6%|▌         | 30/534 [00:04<01:14,  6.79it/s]"
     ]
    },
    {
     "name": "stdout",
     "output_type": "stream",
     "text": [
      " lsoda--  at start of problem, too much accuracy   \u0000\u0000\n",
      "       requested for precision of machine..  see tolsf (=r1) \n",
      "      in above message,  r1 =                  NaN\n",
      " lsoda--  repeated occurrences of illegal input    \u0000 \n"
     ]
    },
    {
     "name": "stderr",
     "output_type": "stream",
     "text": [
      "  6%|▌         | 31/534 [00:04<01:14,  6.79it/s]"
     ]
    },
    {
     "name": "stdout",
     "output_type": "stream",
     "text": [
      " lsoda--  at start of problem, too much accuracy   \u0000\u0000\n",
      "       requested for precision of machine..  see tolsf (=r1) \n",
      "      in above message,  r1 =                  NaN\n",
      " lsoda--  repeated occurrences of illegal input    \u0000 \n"
     ]
    },
    {
     "name": "stderr",
     "output_type": "stream",
     "text": [
      "  6%|▌         | 32/534 [00:04<01:14,  6.70it/s]"
     ]
    },
    {
     "name": "stdout",
     "output_type": "stream",
     "text": [
      " lsoda--  at start of problem, too much accuracy   \u0000\u0000\n",
      "       requested for precision of machine..  see tolsf (=r1) \n",
      "      in above message,  r1 =                  NaN\n",
      " lsoda--  repeated occurrences of illegal input    \u0000 \n"
     ]
    },
    {
     "name": "stderr",
     "output_type": "stream",
     "text": [
      "  6%|▌         | 33/534 [00:04<01:14,  6.77it/s]"
     ]
    },
    {
     "name": "stdout",
     "output_type": "stream",
     "text": [
      " lsoda--  at start of problem, too much accuracy   \u0000\u0000\n",
      "       requested for precision of machine..  see tolsf (=r1) \n",
      "      in above message,  r1 =                  NaN\n",
      " lsoda--  repeated occurrences of illegal input    \u0000 \n"
     ]
    },
    {
     "name": "stderr",
     "output_type": "stream",
     "text": [
      "  6%|▋         | 34/534 [00:05<01:13,  6.76it/s]"
     ]
    },
    {
     "name": "stdout",
     "output_type": "stream",
     "text": [
      " lsoda--  at start of problem, too much accuracy   \u0000\u0000\n",
      "       requested for precision of machine..  see tolsf (=r1) \n",
      "      in above message,  r1 =                  NaN\n",
      " lsoda--  repeated occurrences of illegal input    \u0000 \n"
     ]
    },
    {
     "name": "stderr",
     "output_type": "stream",
     "text": [
      "  7%|▋         | 35/534 [00:05<01:14,  6.73it/s]"
     ]
    },
    {
     "name": "stdout",
     "output_type": "stream",
     "text": [
      " lsoda--  at start of problem, too much accuracy   \u0000\u0000\n",
      "       requested for precision of machine..  see tolsf (=r1) \n",
      "      in above message,  r1 =                  NaN\n",
      " lsoda--  repeated occurrences of illegal input    \u0000 \n"
     ]
    },
    {
     "name": "stderr",
     "output_type": "stream",
     "text": [
      "  7%|▋         | 36/534 [00:05<01:13,  6.75it/s]"
     ]
    },
    {
     "name": "stdout",
     "output_type": "stream",
     "text": [
      " lsoda--  at start of problem, too much accuracy   \u0000\u0000\n",
      "       requested for precision of machine..  see tolsf (=r1) \n",
      "      in above message,  r1 =                  NaN\n",
      " lsoda--  repeated occurrences of illegal input    \u0000 \n"
     ]
    },
    {
     "name": "stderr",
     "output_type": "stream",
     "text": [
      "  7%|▋         | 37/534 [00:05<01:12,  6.81it/s]"
     ]
    },
    {
     "name": "stdout",
     "output_type": "stream",
     "text": [
      " lsoda--  at start of problem, too much accuracy   \u0000\u0000\n",
      "       requested for precision of machine..  see tolsf (=r1) \n",
      "      in above message,  r1 =                  NaN\n",
      " lsoda--  repeated occurrences of illegal input    \u0000 \n"
     ]
    },
    {
     "name": "stderr",
     "output_type": "stream",
     "text": [
      "  7%|▋         | 38/534 [00:05<01:13,  6.75it/s]"
     ]
    },
    {
     "name": "stdout",
     "output_type": "stream",
     "text": [
      " lsoda--  at start of problem, too much accuracy   \u0000\u0000\n",
      "       requested for precision of machine..  see tolsf (=r1) \n",
      "      in above message,  r1 =                  NaN\n",
      " lsoda--  repeated occurrences of illegal input    \u0000 \n"
     ]
    },
    {
     "name": "stderr",
     "output_type": "stream",
     "text": [
      "  7%|▋         | 39/534 [00:05<01:13,  6.71it/s]"
     ]
    },
    {
     "name": "stdout",
     "output_type": "stream",
     "text": [
      " lsoda--  at start of problem, too much accuracy   \u0000\u0000\n",
      "       requested for precision of machine..  see tolsf (=r1) \n",
      "      in above message,  r1 =                  NaN\n",
      " lsoda--  repeated occurrences of illegal input    \u0000 \n"
     ]
    },
    {
     "name": "stderr",
     "output_type": "stream",
     "text": [
      "  7%|▋         | 40/534 [00:05<01:13,  6.73it/s]"
     ]
    },
    {
     "name": "stdout",
     "output_type": "stream",
     "text": [
      " lsoda--  at start of problem, too much accuracy   \u0000\u0000\n",
      "       requested for precision of machine..  see tolsf (=r1) \n",
      "      in above message,  r1 =                  NaN\n",
      " lsoda--  repeated occurrences of illegal input    \u0000 \n"
     ]
    },
    {
     "name": "stderr",
     "output_type": "stream",
     "text": [
      "  8%|▊         | 41/534 [00:06<01:12,  6.77it/s]"
     ]
    },
    {
     "name": "stdout",
     "output_type": "stream",
     "text": [
      " lsoda--  at start of problem, too much accuracy   \u0000\u0000\n",
      "       requested for precision of machine..  see tolsf (=r1) \n",
      "      in above message,  r1 =                  NaN\n",
      " lsoda--  repeated occurrences of illegal input    \u0000 \n"
     ]
    },
    {
     "name": "stderr",
     "output_type": "stream",
     "text": [
      "  8%|▊         | 42/534 [00:06<01:12,  6.78it/s]"
     ]
    },
    {
     "name": "stdout",
     "output_type": "stream",
     "text": [
      " lsoda--  at start of problem, too much accuracy   \u0000\u0000\n",
      "       requested for precision of machine..  see tolsf (=r1) \n",
      "      in above message,  r1 =                  NaN\n",
      " lsoda--  repeated occurrences of illegal input    \u0000 \n"
     ]
    },
    {
     "name": "stderr",
     "output_type": "stream",
     "text": [
      "  8%|▊         | 43/534 [00:06<01:12,  6.77it/s]"
     ]
    },
    {
     "name": "stdout",
     "output_type": "stream",
     "text": [
      " lsoda--  at start of problem, too much accuracy   \u0000\u0000\n",
      "       requested for precision of machine..  see tolsf (=r1) \n",
      "      in above message,  r1 =                  NaN\n",
      " lsoda--  repeated occurrences of illegal input    \u0000 \n"
     ]
    },
    {
     "name": "stderr",
     "output_type": "stream",
     "text": [
      "  8%|▊         | 44/534 [00:06<01:12,  6.77it/s]"
     ]
    },
    {
     "name": "stdout",
     "output_type": "stream",
     "text": [
      " lsoda--  at start of problem, too much accuracy   \u0000\u0000\n",
      "       requested for precision of machine..  see tolsf (=r1) \n",
      "      in above message,  r1 =                  NaN\n",
      " lsoda--  repeated occurrences of illegal input    \u0000 \n"
     ]
    },
    {
     "name": "stderr",
     "output_type": "stream",
     "text": [
      "  8%|▊         | 45/534 [00:06<01:12,  6.77it/s]"
     ]
    },
    {
     "name": "stdout",
     "output_type": "stream",
     "text": [
      " lsoda--  at start of problem, too much accuracy   \u0000\u0000\n",
      "       requested for precision of machine..  see tolsf (=r1) \n",
      "      in above message,  r1 =                  NaN\n",
      " lsoda--  repeated occurrences of illegal input    \u0000 \n"
     ]
    },
    {
     "name": "stderr",
     "output_type": "stream",
     "text": [
      "  9%|▊         | 46/534 [00:06<01:12,  6.76it/s]"
     ]
    },
    {
     "name": "stdout",
     "output_type": "stream",
     "text": [
      " lsoda--  at start of problem, too much accuracy   \u0000\u0000\n",
      "       requested for precision of machine..  see tolsf (=r1) \n",
      "      in above message,  r1 =                  NaN\n",
      " lsoda--  repeated occurrences of illegal input    \u0000 \n"
     ]
    },
    {
     "name": "stderr",
     "output_type": "stream",
     "text": [
      "  9%|▉         | 47/534 [00:06<01:11,  6.79it/s]"
     ]
    },
    {
     "name": "stdout",
     "output_type": "stream",
     "text": [
      " lsoda--  at start of problem, too much accuracy   \u0000\u0000\n",
      "       requested for precision of machine..  see tolsf (=r1) \n",
      "      in above message,  r1 =                  NaN\n",
      " lsoda--  repeated occurrences of illegal input    \u0000 \n"
     ]
    },
    {
     "name": "stderr",
     "output_type": "stream",
     "text": [
      "  9%|▉         | 48/534 [00:07<01:11,  6.82it/s]"
     ]
    },
    {
     "name": "stdout",
     "output_type": "stream",
     "text": [
      " lsoda--  at start of problem, too much accuracy   \u0000\u0000\n",
      "       requested for precision of machine..  see tolsf (=r1) \n",
      "      in above message,  r1 =                  NaN\n",
      " lsoda--  repeated occurrences of illegal input    \u0000 \n"
     ]
    },
    {
     "name": "stderr",
     "output_type": "stream",
     "text": [
      "  9%|▉         | 49/534 [00:07<01:11,  6.83it/s]"
     ]
    },
    {
     "name": "stdout",
     "output_type": "stream",
     "text": [
      " lsoda--  at start of problem, too much accuracy   \u0000\u0000\n",
      "       requested for precision of machine..  see tolsf (=r1) \n",
      "      in above message,  r1 =                  NaN\n",
      " lsoda--  repeated occurrences of illegal input    \u0000 \n"
     ]
    },
    {
     "name": "stderr",
     "output_type": "stream",
     "text": [
      " 64%|██████▍   | 344/534 [00:54<00:30,  6.17it/s]WARNING:root:Setting coarsen_factor=1!\n",
      "WARNING:root:Setting dlnz=0.009950330853168092!\n",
      " 65%|██████▌   | 348/534 [00:54<00:14, 13.02it/s]"
     ]
    },
    {
     "name": "stdout",
     "output_type": "stream",
     "text": [
      "xrayST: injecting 3.414e-24 eV/Bavg\n",
      "xrayST: injecting 8.059e-24 eV/Bavg\n",
      "xrayST: injecting 1.907e-23 eV/Bavg\n",
      "xrayST: injecting 4.350e-23 eV/Bavg\n",
      "xrayST: injecting 9.654e-23 eV/Bavg\n",
      "xrayST: injecting 2.095e-22 eV/Bavg\n",
      "xrayST: injecting 4.680e-22 eV/Bavg\n",
      "xrayST: injecting 1.033e-21 eV/Bavg\n"
     ]
    },
    {
     "name": "stderr",
     "output_type": "stream",
     "text": [
      " 67%|██████▋   | 356/534 [00:55<00:07, 23.66it/s]"
     ]
    },
    {
     "name": "stdout",
     "output_type": "stream",
     "text": [
      "xrayST: injecting 2.221e-21 eV/Bavg\n",
      "xrayST: injecting 4.674e-21 eV/Bavg\n",
      "xrayST: injecting 9.656e-21 eV/Bavg\n",
      "xrayST: injecting 1.964e-20 eV/Bavg\n",
      "xrayST: injecting 3.938e-20 eV/Bavg\n",
      "xrayST: injecting 7.797e-20 eV/Bavg\n",
      "xrayST: injecting 1.538e-19 eV/Bavg\n",
      "xrayST: injecting 3.047e-19 eV/Bavg\n"
     ]
    },
    {
     "name": "stderr",
     "output_type": "stream",
     "text": [
      " 68%|██████▊   | 364/534 [00:55<00:05, 30.32it/s]"
     ]
    },
    {
     "name": "stdout",
     "output_type": "stream",
     "text": [
      "xrayST: injecting 5.939e-19 eV/Bavg\n",
      "xrayST: injecting 1.141e-18 eV/Bavg\n",
      "xrayST: injecting 2.164e-18 eV/Bavg\n",
      "xrayST: injecting 4.051e-18 eV/Bavg\n",
      "xrayST: injecting 7.495e-18 eV/Bavg\n",
      "xrayST: injecting 1.371e-17 eV/Bavg\n",
      "xrayST: injecting 2.479e-17 eV/Bavg\n",
      "xrayST: injecting 4.433e-17 eV/Bavg\n"
     ]
    },
    {
     "name": "stderr",
     "output_type": "stream",
     "text": [
      " 70%|██████▉   | 372/534 [00:55<00:04, 34.09it/s]"
     ]
    },
    {
     "name": "stdout",
     "output_type": "stream",
     "text": [
      "xrayST: injecting 7.841e-17 eV/Bavg\n",
      "xrayST: injecting 1.378e-16 eV/Bavg\n",
      "xrayST: injecting 2.404e-16 eV/Bavg\n",
      "xrayST: injecting 4.145e-16 eV/Bavg\n",
      "xrayST: injecting 7.064e-16 eV/Bavg\n",
      "xrayST: injecting 1.215e-15 eV/Bavg\n",
      "xrayST: injecting 2.070e-15 eV/Bavg\n",
      "xrayST: injecting 3.490e-15 eV/Bavg\n"
     ]
    },
    {
     "name": "stderr",
     "output_type": "stream",
     "text": [
      " 71%|███████   | 380/534 [00:55<00:04, 36.03it/s]"
     ]
    },
    {
     "name": "stdout",
     "output_type": "stream",
     "text": [
      "xrayST: injecting 5.823e-15 eV/Bavg\n",
      "xrayST: injecting 9.604e-15 eV/Bavg\n",
      "xrayST: injecting 1.565e-14 eV/Bavg\n",
      "xrayST: injecting 2.518e-14 eV/Bavg\n",
      "xrayST: injecting 3.991e-14 eV/Bavg\n",
      "xrayST: injecting 6.225e-14 eV/Bavg\n",
      "xrayST: injecting 9.948e-14 eV/Bavg\n",
      "xrayST: injecting 1.573e-13 eV/Bavg\n"
     ]
    },
    {
     "name": "stderr",
     "output_type": "stream",
     "text": [
      " 73%|███████▎  | 388/534 [00:55<00:03, 36.83it/s]"
     ]
    },
    {
     "name": "stdout",
     "output_type": "stream",
     "text": [
      "xrayST: injecting 2.455e-13 eV/Bavg\n",
      "xrayST: injecting 3.773e-13 eV/Bavg\n",
      "xrayST: injecting 5.700e-13 eV/Bavg\n",
      "xrayST: injecting 8.526e-13 eV/Bavg\n",
      "xrayST: injecting 1.305e-12 eV/Bavg\n",
      "xrayST: injecting 1.968e-12 eV/Bavg\n",
      "xrayST: injecting 2.918e-12 eV/Bavg\n",
      "xrayST: injecting 4.240e-12 eV/Bavg\n"
     ]
    },
    {
     "name": "stderr",
     "output_type": "stream",
     "text": [
      " 74%|███████▍  | 396/534 [00:56<00:03, 36.96it/s]"
     ]
    },
    {
     "name": "stdout",
     "output_type": "stream",
     "text": [
      "xrayST: injecting 6.209e-12 eV/Bavg\n",
      "xrayST: injecting 9.158e-12 eV/Bavg\n",
      "xrayST: injecting 1.327e-11 eV/Bavg\n",
      "xrayST: injecting 1.894e-11 eV/Bavg\n",
      "xrayST: injecting 2.725e-11 eV/Bavg\n",
      "xrayST: injecting 3.953e-11 eV/Bavg\n",
      "xrayST: injecting 5.616e-11 eV/Bavg\n",
      "xrayST: injecting 7.780e-11 eV/Bavg\n"
     ]
    },
    {
     "name": "stderr",
     "output_type": "stream",
     "text": [
      " 76%|███████▌  | 404/534 [00:56<00:03, 36.85it/s]"
     ]
    },
    {
     "name": "stdout",
     "output_type": "stream",
     "text": [
      "xrayST: injecting 1.110e-10 eV/Bavg\n",
      "xrayST: injecting 1.560e-10 eV/Bavg\n",
      "xrayST: injecting 2.139e-10 eV/Bavg\n",
      "xrayST: injecting 2.957e-10 eV/Bavg\n",
      "xrayST: injecting 4.101e-10 eV/Bavg\n",
      "xrayST: injecting 5.547e-10 eV/Bavg\n",
      "xrayST: injecting 7.510e-10 eV/Bavg\n",
      "xrayST: injecting 1.025e-09 eV/Bavg\n"
     ]
    },
    {
     "name": "stderr",
     "output_type": "stream",
     "text": [
      " 77%|███████▋  | 412/534 [00:56<00:03, 37.13it/s]"
     ]
    },
    {
     "name": "stdout",
     "output_type": "stream",
     "text": [
      "xrayST: injecting 1.364e-09 eV/Bavg\n",
      "xrayST: injecting 1.824e-09 eV/Bavg\n",
      "xrayST: injecting 2.446e-09 eV/Bavg\n",
      "xrayST: injecting 3.187e-09 eV/Bavg\n",
      "xrayST: injecting 4.241e-09 eV/Bavg\n",
      "xrayST: injecting 5.569e-09 eV/Bavg\n",
      "xrayST: injecting 7.160e-09 eV/Bavg\n",
      "xrayST: injecting 9.438e-09 eV/Bavg\n"
     ]
    },
    {
     "name": "stderr",
     "output_type": "stream",
     "text": [
      " 79%|███████▊  | 420/534 [00:56<00:03, 37.51it/s]"
     ]
    },
    {
     "name": "stdout",
     "output_type": "stream",
     "text": [
      "xrayST: injecting 1.209e-08 eV/Bavg\n",
      "xrayST: injecting 1.561e-08 eV/Bavg\n",
      "xrayST: injecting 2.008e-08 eV/Bavg\n",
      "xrayST: injecting 2.529e-08 eV/Bavg\n",
      "xrayST: injecting 3.258e-08 eV/Bavg\n",
      "xrayST: injecting 4.109e-08 eV/Bavg\n",
      "xrayST: injecting 5.279e-08 eV/Bavg\n",
      "xrayST: injecting 6.663e-08 eV/Bavg\n"
     ]
    },
    {
     "name": "stderr",
     "output_type": "stream",
     "text": [
      " 80%|████████  | 428/534 [00:56<00:02, 37.57it/s]"
     ]
    },
    {
     "name": "stdout",
     "output_type": "stream",
     "text": [
      "xrayST: injecting 8.395e-08 eV/Bavg\n",
      "xrayST: injecting 1.058e-07 eV/Bavg\n",
      "xrayST: injecting 1.313e-07 eV/Bavg\n",
      "xrayST: injecting 1.650e-07 eV/Bavg\n",
      "xrayST: injecting 2.021e-07 eV/Bavg\n",
      "xrayST: injecting 2.531e-07 eV/Bavg\n",
      "xrayST: injecting 3.067e-07 eV/Bavg\n",
      "xrayST: injecting 3.823e-07 eV/Bavg\n"
     ]
    },
    {
     "name": "stderr",
     "output_type": "stream",
     "text": [
      " 82%|████████▏ | 436/534 [00:57<00:02, 37.61it/s]"
     ]
    },
    {
     "name": "stdout",
     "output_type": "stream",
     "text": [
      "xrayST: injecting 4.611e-07 eV/Bavg\n",
      "xrayST: injecting 5.692e-07 eV/Bavg\n",
      "xrayST: injecting 6.828e-07 eV/Bavg\n",
      "xrayST: injecting 8.360e-07 eV/Bavg\n",
      "xrayST: injecting 9.963e-07 eV/Bavg\n",
      "xrayST: injecting 1.212e-06 eV/Bavg\n",
      "xrayST: injecting 1.433e-06 eV/Bavg\n",
      "xrayST: injecting 1.735e-06 eV/Bavg\n"
     ]
    },
    {
     "name": "stderr",
     "output_type": "stream",
     "text": [
      " 83%|████████▎ | 444/534 [00:57<00:02, 37.71it/s]"
     ]
    },
    {
     "name": "stdout",
     "output_type": "stream",
     "text": [
      "xrayST: injecting 2.041e-06 eV/Bavg\n",
      "xrayST: injecting 2.454e-06 eV/Bavg\n",
      "xrayST: injecting 2.879e-06 eV/Bavg\n",
      "xrayST: injecting 3.428e-06 eV/Bavg\n",
      "xrayST: injecting 4.013e-06 eV/Bavg\n",
      "xrayST: injecting 4.730e-06 eV/Bavg\n",
      "xrayST: injecting 5.550e-06 eV/Bavg\n",
      "xrayST: injecting 6.528e-06 eV/Bavg\n"
     ]
    },
    {
     "name": "stderr",
     "output_type": "stream",
     "text": [
      " 85%|████████▍ | 452/534 [00:57<00:02, 37.64it/s]"
     ]
    },
    {
     "name": "stdout",
     "output_type": "stream",
     "text": [
      "xrayST: injecting 7.705e-06 eV/Bavg\n",
      "xrayST: injecting 8.945e-06 eV/Bavg\n",
      "xrayST: injecting 1.056e-05 eV/Bavg\n",
      "xrayST: injecting 1.221e-05 eV/Bavg\n",
      "xrayST: injecting 1.428e-05 eV/Bavg\n",
      "xrayST: injecting 1.652e-05 eV/Bavg\n",
      "xrayST: injecting 1.906e-05 eV/Bavg\n",
      "xrayST: injecting 2.208e-05 eV/Bavg\n"
     ]
    },
    {
     "name": "stderr",
     "output_type": "stream",
     "text": [
      " 86%|████████▌ | 460/534 [00:57<00:01, 37.62it/s]"
     ]
    },
    {
     "name": "stdout",
     "output_type": "stream",
     "text": [
      "xrayST: injecting 2.516e-05 eV/Bavg\n",
      "xrayST: injecting 2.914e-05 eV/Bavg\n",
      "xrayST: injecting 3.326e-05 eV/Bavg\n",
      "xrayST: injecting 3.794e-05 eV/Bavg\n",
      "xrayST: injecting 4.342e-05 eV/Bavg\n",
      "xrayST: injecting 4.899e-05 eV/Bavg\n",
      "xrayST: injecting 5.596e-05 eV/Bavg\n",
      "xrayST: injecting 6.331e-05 eV/Bavg\n"
     ]
    },
    {
     "name": "stderr",
     "output_type": "stream",
     "text": [
      " 88%|████████▊ | 468/534 [00:57<00:01, 37.76it/s]"
     ]
    },
    {
     "name": "stdout",
     "output_type": "stream",
     "text": [
      "xrayST: injecting 7.113e-05 eV/Bavg\n",
      "xrayST: injecting 8.078e-05 eV/Bavg\n",
      "xrayST: injecting 9.054e-05 eV/Bavg\n",
      "xrayST: injecting 1.017e-04 eV/Bavg\n",
      "xrayST: injecting 1.144e-04 eV/Bavg\n",
      "xrayST: injecting 1.273e-04 eV/Bavg\n",
      "xrayST: injecting 1.426e-04 eV/Bavg\n",
      "xrayST: injecting 1.593e-04 eV/Bavg\n"
     ]
    },
    {
     "name": "stderr",
     "output_type": "stream",
     "text": [
      " 89%|████████▉ | 476/534 [00:58<00:01, 37.88it/s]"
     ]
    },
    {
     "name": "stdout",
     "output_type": "stream",
     "text": [
      "xrayST: injecting 1.771e-04 eV/Bavg\n",
      "xrayST: injecting 1.996e-04 eV/Bavg\n",
      "xrayST: injecting 2.236e-04 eV/Bavg\n",
      "xrayST: injecting 2.480e-04 eV/Bavg\n",
      "xrayST: injecting 2.780e-04 eV/Bavg\n",
      "xrayST: injecting 3.095e-04 eV/Bavg\n",
      "xrayST: injecting 3.416e-04 eV/Bavg\n",
      "xrayST: injecting 3.804e-04 eV/Bavg\n"
     ]
    },
    {
     "name": "stderr",
     "output_type": "stream",
     "text": [
      " 91%|█████████ | 484/534 [00:58<00:01, 37.71it/s]"
     ]
    },
    {
     "name": "stdout",
     "output_type": "stream",
     "text": [
      "xrayST: injecting 4.214e-04 eV/Bavg\n",
      "xrayST: injecting 4.631e-04 eV/Bavg\n",
      "xrayST: injecting 5.120e-04 eV/Bavg\n",
      "xrayST: injecting 5.650e-04 eV/Bavg\n",
      "xrayST: injecting 6.188e-04 eV/Bavg\n",
      "xrayST: injecting 6.785e-04 eV/Bavg\n",
      "xrayST: injecting 7.464e-04 eV/Bavg\n",
      "xrayST: injecting 8.152e-04 eV/Bavg\n"
     ]
    },
    {
     "name": "stderr",
     "output_type": "stream",
     "text": [
      " 92%|█████████▏| 492/534 [00:58<00:01, 37.91it/s]"
     ]
    },
    {
     "name": "stdout",
     "output_type": "stream",
     "text": [
      "xrayST: injecting 8.860e-04 eV/Bavg\n",
      "xrayST: injecting 9.723e-04 eV/Bavg\n",
      "xrayST: injecting 1.060e-03 eV/Bavg\n",
      "xrayST: injecting 1.148e-03 eV/Bavg\n",
      "xrayST: injecting 1.249e-03 eV/Bavg\n",
      "xrayST: injecting 1.359e-03 eV/Bavg\n",
      "xrayST: injecting 1.471e-03 eV/Bavg\n",
      "xrayST: injecting 1.583e-03 eV/Bavg\n"
     ]
    },
    {
     "name": "stderr",
     "output_type": "stream",
     "text": [
      " 94%|█████████▎| 500/534 [00:58<00:00, 37.18it/s]"
     ]
    },
    {
     "name": "stdout",
     "output_type": "stream",
     "text": [
      "xrayST: injecting 1.721e-03 eV/Bavg\n",
      "xrayST: injecting 1.860e-03 eV/Bavg\n",
      "xrayST: injecting 2.018e-03 eV/Bavg\n",
      "xrayST: injecting 2.190e-03 eV/Bavg\n",
      "xrayST: injecting 2.387e-03 eV/Bavg\n",
      "xrayST: injecting 2.588e-03 eV/Bavg\n",
      "xrayST: injecting 2.793e-03 eV/Bavg\n",
      "xrayST: injecting 3.018e-03 eV/Bavg\n"
     ]
    },
    {
     "name": "stderr",
     "output_type": "stream",
     "text": [
      " 95%|█████████▌| 508/534 [00:59<00:00, 36.15it/s]"
     ]
    },
    {
     "name": "stdout",
     "output_type": "stream",
     "text": [
      "xrayST: injecting 3.269e-03 eV/Bavg\n",
      "xrayST: injecting 3.525e-03 eV/Bavg\n",
      "xrayST: injecting 3.785e-03 eV/Bavg\n",
      "xrayST: injecting 4.069e-03 eV/Bavg\n",
      "xrayST: injecting 4.386e-03 eV/Bavg\n",
      "xrayST: injecting 4.709e-03 eV/Bavg\n",
      "xrayST: injecting 5.035e-03 eV/Bavg\n",
      "xrayST: injecting 5.379e-03 eV/Bavg\n"
     ]
    },
    {
     "name": "stderr",
     "output_type": "stream",
     "text": [
      " 97%|█████████▋| 516/534 [00:59<00:00, 35.65it/s]"
     ]
    },
    {
     "name": "stdout",
     "output_type": "stream",
     "text": [
      "xrayST: injecting 5.776e-03 eV/Bavg\n",
      "xrayST: injecting 6.179e-03 eV/Bavg\n",
      "xrayST: injecting 6.585e-03 eV/Bavg\n",
      "xrayST: injecting 6.997e-03 eV/Bavg\n",
      "xrayST: injecting 7.477e-03 eV/Bavg\n",
      "xrayST: injecting 7.976e-03 eV/Bavg\n",
      "xrayST: injecting 8.479e-03 eV/Bavg\n",
      "xrayST: injecting 8.987e-03 eV/Bavg\n"
     ]
    },
    {
     "name": "stderr",
     "output_type": "stream",
     "text": [
      " 98%|█████████▊| 524/534 [00:59<00:00, 35.92it/s]"
     ]
    },
    {
     "name": "stdout",
     "output_type": "stream",
     "text": [
      "xrayST: injecting 9.525e-03 eV/Bavg\n",
      "xrayST: injecting 1.014e-02 eV/Bavg\n",
      "xrayST: injecting 1.076e-02 eV/Bavg\n",
      "xrayST: injecting 1.140e-02 eV/Bavg\n",
      "xrayST: injecting 1.214e-02 eV/Bavg\n",
      "xrayST: injecting 1.296e-02 eV/Bavg\n",
      "xrayST: injecting 1.385e-02 eV/Bavg\n",
      "xrayST: injecting 1.475e-02 eV/Bavg\n"
     ]
    },
    {
     "name": "stderr",
     "output_type": "stream",
     "text": [
      "100%|█████████▉| 532/534 [00:59<00:00, 36.14it/s]"
     ]
    },
    {
     "name": "stdout",
     "output_type": "stream",
     "text": [
      "xrayST: injecting 1.567e-02 eV/Bavg\n",
      "xrayST: injecting 1.660e-02 eV/Bavg\n",
      "xrayST: injecting 1.762e-02 eV/Bavg\n",
      "xrayST: injecting 1.874e-02 eV/Bavg\n",
      "xrayST: injecting 1.987e-02 eV/Bavg\n",
      "xrayST: injecting 2.101e-02 eV/Bavg\n",
      "xrayST: injecting 2.217e-02 eV/Bavg\n",
      "xrayST: injecting 2.338e-02 eV/Bavg\n"
     ]
    },
    {
     "name": "stderr",
     "output_type": "stream",
     "text": [
      "540it [00:59, 36.21it/s]                         "
     ]
    },
    {
     "name": "stdout",
     "output_type": "stream",
     "text": [
      "xrayST: injecting 2.477e-02 eV/Bavg\n",
      "xrayST: injecting 2.617e-02 eV/Bavg\n",
      "xrayST: injecting 2.758e-02 eV/Bavg\n",
      "xrayST: injecting 2.901e-02 eV/Bavg\n",
      "xrayST: injecting 3.045e-02 eV/Bavg\n",
      "xrayST: injecting 3.205e-02 eV/Bavg\n",
      "xrayST: injecting 3.377e-02 eV/Bavg\n",
      "xrayST: injecting 3.551e-02 eV/Bavg\n"
     ]
    },
    {
     "name": "stderr",
     "output_type": "stream",
     "text": [
      "548it [01:00, 36.26it/s]"
     ]
    },
    {
     "name": "stdout",
     "output_type": "stream",
     "text": [
      "xrayST: injecting 3.725e-02 eV/Bavg\n",
      "xrayST: injecting 3.902e-02 eV/Bavg\n",
      "xrayST: injecting 4.079e-02 eV/Bavg\n",
      "xrayST: injecting 4.278e-02 eV/Bavg\n",
      "xrayST: injecting 4.489e-02 eV/Bavg\n",
      "xrayST: injecting 4.723e-02 eV/Bavg\n",
      "xrayST: injecting 4.983e-02 eV/Bavg\n",
      "xrayST: injecting 5.247e-02 eV/Bavg\n"
     ]
    },
    {
     "name": "stderr",
     "output_type": "stream",
     "text": [
      "556it [01:00, 36.57it/s]"
     ]
    },
    {
     "name": "stdout",
     "output_type": "stream",
     "text": [
      "xrayST: injecting 5.514e-02 eV/Bavg\n",
      "xrayST: injecting 5.800e-02 eV/Bavg\n",
      "xrayST: injecting 6.115e-02 eV/Bavg\n",
      "xrayST: injecting 6.433e-02 eV/Bavg\n",
      "xrayST: injecting 6.755e-02 eV/Bavg\n",
      "xrayST: injecting 7.081e-02 eV/Bavg\n",
      "xrayST: injecting 7.411e-02 eV/Bavg\n",
      "xrayST: injecting 7.744e-02 eV/Bavg\n"
     ]
    },
    {
     "name": "stderr",
     "output_type": "stream",
     "text": [
      "564it [01:00, 36.90it/s]"
     ]
    },
    {
     "name": "stdout",
     "output_type": "stream",
     "text": [
      "xrayST: injecting 8.114e-02 eV/Bavg\n",
      "xrayST: injecting 8.504e-02 eV/Bavg\n",
      "xrayST: injecting 8.898e-02 eV/Bavg\n",
      "xrayST: injecting 9.295e-02 eV/Bavg\n",
      "xrayST: injecting 9.696e-02 eV/Bavg\n",
      "xrayST: injecting 1.010e-01 eV/Bavg\n",
      "xrayST: injecting 1.051e-01 eV/Bavg\n",
      "xrayST: injecting 1.095e-01 eV/Bavg\n"
     ]
    },
    {
     "name": "stderr",
     "output_type": "stream",
     "text": [
      "573it [01:00,  9.41it/s]"
     ]
    },
    {
     "name": "stdout",
     "output_type": "stream",
     "text": [
      "xrayST: injecting 1.142e-01 eV/Bavg\n",
      "xrayST: injecting 1.190e-01 eV/Bavg\n",
      "xrayST: injecting 1.238e-01 eV/Bavg\n",
      "xrayST: injecting 1.286e-01 eV/Bavg\n",
      "xrayST: injecting 1.335e-01 eV/Bavg\n",
      "xrayST: injecting 1.384e-01 eV/Bavg\n",
      "xrayST: injecting 1.433e-01 eV/Bavg\n",
      "Main loop time: 60.873 s\n"
     ]
    },
    {
     "name": "stderr",
     "output_type": "stream",
     "text": [
      "\n"
     ]
    }
   ],
   "source": [
    "run_name = 'xc_xrayST_noHe'\n",
    "\n",
    "soln = evolve_DH(\n",
    "    DM_process=dm_params.mode, mDM=dm_params.m_DM,\n",
    "    primary=dm_params.primary,\n",
    "    sigmav=dm_params.sigmav, lifetime=dm_params.lifetime,\n",
    "    struct_boost=dm_params.struct_boost,\n",
    "    start_rs=3000, end_rs=4.+1, coarsen_factor=12, verbose=1,\n",
    "    # use fake reionization to get case-A recomb. coeff.\n",
    "    reion_switch=True, reion_rs=47.,\n",
    "    photoion_rate_func=[lambda x: 0., lambda x: 0., lambda x: 0.],\n",
    "    photoheat_rate_func=[lambda x: 0., lambda x: 0., lambda x: 0.],\n",
    "    cross_check_21cmfast=True,\n",
    "    debug_no_bath=False,\n",
    "    debug_inject_ST_xray=True,\n",
    ")\n",
    "\n",
    "pickle.dump(soln, open(f\"{os.environ['DM21CM_DIR']}/outputs/dh/{run_name}_soln.p\", 'wb'))"
   ]
  },
  {
   "cell_type": "code",
   "execution_count": null,
   "metadata": {},
   "outputs": [],
   "source": []
  }
 ],
 "metadata": {
  "kernelspec": {
   "display_name": "dm21cm",
   "language": "python",
   "name": "python3"
  },
  "language_info": {
   "codemirror_mode": {
    "name": "ipython",
    "version": 3
   },
   "file_extension": ".py",
   "mimetype": "text/x-python",
   "name": "python",
   "nbconvert_exporter": "python",
   "pygments_lexer": "ipython3",
   "version": "3.11.5"
  }
 },
 "nbformat": 4,
 "nbformat_minor": 2
}
