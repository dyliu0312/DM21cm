{
 "cells": [
  {
   "cell_type": "code",
   "execution_count": 1,
   "metadata": {},
   "outputs": [
    {
     "name": "stderr",
     "output_type": "stream",
     "text": [
      "WARNING:root:DM21CM: We dont do Helium here\n",
      "WARNING:root:DarkHistory: It's all hydrogen now.\n"
     ]
    }
   ],
   "source": [
    "%reload_ext autoreload\n",
    "%autoreload 2\n",
    "\n",
    "import os\n",
    "import sys\n",
    "import pickle\n",
    "\n",
    "sys.path.append(\"..\")\n",
    "from dm21cm.dm_params import DMParams\n",
    "\n",
    "sys.path.append(os.environ['DH_DIR'])\n",
    "from darkhistory.main import evolve as evolve_DH\n",
    "from darkhistory.config import load_data"
   ]
  },
  {
   "cell_type": "code",
   "execution_count": 2,
   "metadata": {},
   "outputs": [
    {
     "name": "stdout",
     "output_type": "stream",
     "text": [
      "****** Loading transfer functions... ******\n",
      "Using data at /n/holyscratch01/iaifi_lab/yitians/darkhistory/DHdata_v1_1/../DHdata_v1_1_zf01\n",
      "    for propagating photons...  "
     ]
    },
    {
     "name": "stdout",
     "output_type": "stream",
     "text": [
      " Done!\n",
      "    for low-energy photons...  Done!\n",
      "    for low-energy electrons...  Done!\n",
      "    for high-energy deposition...  Done!\n",
      "    for total upscattered CMB energy rate...  Done!\n",
      "****** Loading complete! ******\n",
      "****** Loading transfer functions... ******\n",
      "    for inverse Compton (Thomson)...  Done!\n",
      "    for inverse Compton (relativistic)...  Done!\n",
      "    for inverse Compton (energy loss)...  Done!\n",
      "****** Loading complete! ******\n"
     ]
    }
   ],
   "source": [
    "tf_version = 'zf01'\n",
    "\n",
    "load_data('dep_tf', prefix=f\"{os.environ['DH_DATA_DIR']}/../DHdata_v1_1_{tf_version}\")\n",
    "load_data('ics_tf', prefix=f\"{os.environ['DH_DATA_DIR']}/../DHdata_v1_1_{tf_version}\");"
   ]
  },
  {
   "cell_type": "code",
   "execution_count": 12,
   "metadata": {},
   "outputs": [],
   "source": [
    "# phph\n",
    "dm_params = DMParams(\n",
    "    mode = 'decay',\n",
    "    primary = 'phot_delta',\n",
    "    m_DM = 1e8, # [eV]\n",
    "    lifetime = 1e25, #[s]\n",
    ")"
   ]
  },
  {
   "cell_type": "code",
   "execution_count": 3,
   "metadata": {},
   "outputs": [],
   "source": [
    "# ee\n",
    "dm_params = DMParams(\n",
    "    mode = 'decay',\n",
    "    primary = 'elec_delta',\n",
    "    m_DM = 1e8, # [eV]\n",
    "    lifetime = 1e26, #[s]\n",
    ")"
   ]
  },
  {
   "cell_type": "code",
   "execution_count": 4,
   "metadata": {},
   "outputs": [],
   "source": [
    "# off\n",
    "dm_params = DMParams(\n",
    "    mode = 'decay',\n",
    "    primary = 'phot_delta',\n",
    "    m_DM = 1e8, # [eV]\n",
    "    lifetime = 1e50, #[s]\n",
    ")"
   ]
  },
  {
   "cell_type": "code",
   "execution_count": 13,
   "metadata": {},
   "outputs": [
    {
     "name": "stdout",
     "output_type": "stream",
     "text": [
      "Loading time: 0.000 s\n"
     ]
    },
    {
     "name": "stderr",
     "output_type": "stream",
     "text": [
      "  0%|          | 0/534 [00:00<?, ?it/s]WARNING:root:Cross checking 21cmfast!\n",
      "WARNING:root:Using dm21cm's compute_fs!\n"
     ]
    },
    {
     "name": "stderr",
     "output_type": "stream",
     "text": [
      "WARNING:root:Using Planck18 dt!\n",
      "  0%|          | 2/534 [00:00<00:50, 10.45it/s]"
     ]
    },
    {
     "name": "stdout",
     "output_type": "stream",
     "text": [
      "Initialization time: 0.026 s\n",
      " lsoda--  at start of problem, too much accuracy   \u0000\u0000\n",
      "       requested for precision of machine..  see tolsf (=r1) \n",
      "      in above message,  r1 =                  NaN\n"
     ]
    },
    {
     "name": "stderr",
     "output_type": "stream",
     "text": [
      "  1%|          | 4/534 [00:00<01:00,  8.71it/s]"
     ]
    },
    {
     "name": "stdout",
     "output_type": "stream",
     "text": [
      " lsoda--  at start of problem, too much accuracy   \u0000\u0000\n",
      "       requested for precision of machine..  see tolsf (=r1) \n",
      "      in above message,  r1 =                  NaN\n",
      " lsoda--  at start of problem, too much accuracy   \u0000\u0000\n",
      "       requested for precision of machine..  see tolsf (=r1) \n",
      "      in above message,  r1 =                  NaN\n"
     ]
    },
    {
     "name": "stderr",
     "output_type": "stream",
     "text": [
      "  1%|          | 6/534 [00:00<01:03,  8.27it/s]"
     ]
    },
    {
     "name": "stdout",
     "output_type": "stream",
     "text": [
      " lsoda--  at start of problem, too much accuracy   \u0000\u0000\n",
      "       requested for precision of machine..  see tolsf (=r1) \n",
      "      in above message,  r1 =                  NaN\n",
      " lsoda--  at start of problem, too much accuracy   \u0000\u0000\n",
      "       requested for precision of machine..  see tolsf (=r1) \n",
      "      in above message,  r1 =                  NaN\n"
     ]
    },
    {
     "name": "stderr",
     "output_type": "stream",
     "text": [
      "  1%|▏         | 8/534 [00:00<01:04,  8.13it/s]"
     ]
    },
    {
     "name": "stdout",
     "output_type": "stream",
     "text": [
      " lsoda--  at start of problem, too much accuracy   \u0000\u0000\n",
      "       requested for precision of machine..  see tolsf (=r1) \n",
      "      in above message,  r1 =                  NaN\n",
      " lsoda--  repeated occurrences of illegal input    \u0000 \n",
      " lsoda--  at start of problem, too much accuracy   \u0000\u0000\n",
      "       requested for precision of machine..  see tolsf (=r1) \n",
      "      in above message,  r1 =                  NaN\n",
      " lsoda--  repeated occurrences of illegal input    \u0000 \n"
     ]
    },
    {
     "name": "stderr",
     "output_type": "stream",
     "text": [
      "  2%|▏         | 10/534 [00:01<01:05,  8.04it/s]"
     ]
    },
    {
     "name": "stdout",
     "output_type": "stream",
     "text": [
      " lsoda--  at start of problem, too much accuracy   \u0000\u0000\n",
      "       requested for precision of machine..  see tolsf (=r1) \n",
      "      in above message,  r1 =                  NaN\n",
      " lsoda--  repeated occurrences of illegal input    \u0000 \n",
      " lsoda--  at start of problem, too much accuracy   \u0000\u0000\n",
      "       requested for precision of machine..  see tolsf (=r1) \n",
      "      in above message,  r1 =                  NaN\n",
      " lsoda--  repeated occurrences of illegal input    \u0000 \n"
     ]
    },
    {
     "name": "stderr",
     "output_type": "stream",
     "text": [
      "  2%|▏         | 12/534 [00:01<01:09,  7.52it/s]"
     ]
    },
    {
     "name": "stdout",
     "output_type": "stream",
     "text": [
      " lsoda--  at start of problem, too much accuracy   \u0000\u0000\n",
      "       requested for precision of machine..  see tolsf (=r1) \n",
      "      in above message,  r1 =                  NaN\n",
      " lsoda--  repeated occurrences of illegal input    \u0000 \n",
      " lsoda--  at start of problem, too much accuracy   \u0000\u0000\n",
      "       requested for precision of machine..  see tolsf (=r1) \n",
      "      in above message,  r1 =                  NaN\n",
      " lsoda--  repeated occurrences of illegal input    \u0000 \n"
     ]
    },
    {
     "name": "stderr",
     "output_type": "stream",
     "text": [
      "  3%|▎         | 14/534 [00:01<01:07,  7.75it/s]"
     ]
    },
    {
     "name": "stdout",
     "output_type": "stream",
     "text": [
      " lsoda--  at start of problem, too much accuracy   \u0000\u0000\n",
      "       requested for precision of machine..  see tolsf (=r1) \n",
      "      in above message,  r1 =                  NaN\n",
      " lsoda--  repeated occurrences of illegal input    \u0000 \n",
      " lsoda--  at start of problem, too much accuracy   \u0000\u0000\n",
      "       requested for precision of machine..  see tolsf (=r1) \n",
      "      in above message,  r1 =                  NaN\n",
      " lsoda--  repeated occurrences of illegal input    \u0000 \n"
     ]
    },
    {
     "name": "stderr",
     "output_type": "stream",
     "text": [
      "  3%|▎         | 16/534 [00:01<01:06,  7.84it/s]"
     ]
    },
    {
     "name": "stdout",
     "output_type": "stream",
     "text": [
      " lsoda--  at start of problem, too much accuracy   \u0000\u0000\n",
      "       requested for precision of machine..  see tolsf (=r1) \n",
      "      in above message,  r1 =                  NaN\n",
      " lsoda--  repeated occurrences of illegal input    \u0000 \n",
      " lsoda--  at start of problem, too much accuracy   \u0000\u0000\n",
      "       requested for precision of machine..  see tolsf (=r1) \n",
      "      in above message,  r1 =                  NaN\n",
      " lsoda--  repeated occurrences of illegal input    \u0000 \n"
     ]
    },
    {
     "name": "stderr",
     "output_type": "stream",
     "text": [
      "  3%|▎         | 18/534 [00:02<01:05,  7.92it/s]"
     ]
    },
    {
     "name": "stdout",
     "output_type": "stream",
     "text": [
      " lsoda--  at start of problem, too much accuracy   \u0000\u0000\n",
      "       requested for precision of machine..  see tolsf (=r1) \n",
      "      in above message,  r1 =                  NaN\n",
      " lsoda--  repeated occurrences of illegal input    \u0000 \n",
      " lsoda--  at start of problem, too much accuracy   \u0000\u0000\n",
      "       requested for precision of machine..  see tolsf (=r1) \n",
      "      in above message,  r1 =                  NaN\n",
      " lsoda--  repeated occurrences of illegal input    \u0000 \n"
     ]
    },
    {
     "name": "stderr",
     "output_type": "stream",
     "text": [
      "  4%|▎         | 20/534 [00:02<01:04,  7.96it/s]"
     ]
    },
    {
     "name": "stdout",
     "output_type": "stream",
     "text": [
      " lsoda--  at start of problem, too much accuracy   \u0000\u0000\n",
      "       requested for precision of machine..  see tolsf (=r1) \n",
      "      in above message,  r1 =                  NaN\n",
      " lsoda--  repeated occurrences of illegal input    \u0000 \n",
      " lsoda--  at start of problem, too much accuracy   \u0000\u0000\n",
      "       requested for precision of machine..  see tolsf (=r1) \n",
      "      in above message,  r1 =                  NaN\n",
      " lsoda--  repeated occurrences of illegal input    \u0000 \n"
     ]
    },
    {
     "name": "stderr",
     "output_type": "stream",
     "text": [
      "  4%|▍         | 22/534 [00:02<01:04,  7.92it/s]"
     ]
    },
    {
     "name": "stdout",
     "output_type": "stream",
     "text": [
      " lsoda--  at start of problem, too much accuracy   \u0000\u0000\n",
      "       requested for precision of machine..  see tolsf (=r1) \n",
      "      in above message,  r1 =                  NaN\n",
      " lsoda--  repeated occurrences of illegal input    \u0000 \n",
      " lsoda--  at start of problem, too much accuracy   \u0000\u0000\n",
      "       requested for precision of machine..  see tolsf (=r1) \n",
      "      in above message,  r1 =                  NaN\n",
      " lsoda--  repeated occurrences of illegal input    \u0000 \n"
     ]
    },
    {
     "name": "stderr",
     "output_type": "stream",
     "text": [
      "  4%|▍         | 24/534 [00:02<01:04,  7.96it/s]"
     ]
    },
    {
     "name": "stdout",
     "output_type": "stream",
     "text": [
      " lsoda--  at start of problem, too much accuracy   \u0000\u0000\n",
      "       requested for precision of machine..  see tolsf (=r1) \n",
      "      in above message,  r1 =                  NaN\n",
      " lsoda--  repeated occurrences of illegal input    \u0000 \n",
      " lsoda--  at start of problem, too much accuracy   \u0000\u0000\n",
      "       requested for precision of machine..  see tolsf (=r1) \n",
      "      in above message,  r1 =                  NaN\n",
      " lsoda--  repeated occurrences of illegal input    \u0000 \n"
     ]
    },
    {
     "name": "stderr",
     "output_type": "stream",
     "text": [
      "  5%|▍         | 26/534 [00:03<01:03,  7.97it/s]"
     ]
    },
    {
     "name": "stdout",
     "output_type": "stream",
     "text": [
      " lsoda--  at start of problem, too much accuracy   \u0000\u0000\n",
      "       requested for precision of machine..  see tolsf (=r1) \n",
      "      in above message,  r1 =                  NaN\n",
      " lsoda--  repeated occurrences of illegal input    \u0000 \n",
      " lsoda--  at start of problem, too much accuracy   \u0000\u0000\n",
      "       requested for precision of machine..  see tolsf (=r1) \n",
      "      in above message,  r1 =                  NaN\n",
      " lsoda--  repeated occurrences of illegal input    \u0000 \n"
     ]
    },
    {
     "name": "stderr",
     "output_type": "stream",
     "text": [
      "  5%|▌         | 28/534 [00:03<01:03,  7.99it/s]"
     ]
    },
    {
     "name": "stdout",
     "output_type": "stream",
     "text": [
      " lsoda--  at start of problem, too much accuracy   \u0000\u0000\n",
      "       requested for precision of machine..  see tolsf (=r1) \n",
      "      in above message,  r1 =                  NaN\n",
      " lsoda--  repeated occurrences of illegal input    \u0000 \n",
      " lsoda--  at start of problem, too much accuracy   \u0000\u0000\n",
      "       requested for precision of machine..  see tolsf (=r1) \n",
      "      in above message,  r1 =                  NaN\n",
      " lsoda--  repeated occurrences of illegal input    \u0000 \n"
     ]
    },
    {
     "name": "stderr",
     "output_type": "stream",
     "text": [
      "  6%|▌         | 30/534 [00:03<01:03,  7.99it/s]"
     ]
    },
    {
     "name": "stdout",
     "output_type": "stream",
     "text": [
      " lsoda--  at start of problem, too much accuracy   \u0000\u0000\n",
      "       requested for precision of machine..  see tolsf (=r1) \n",
      "      in above message,  r1 =                  NaN\n",
      " lsoda--  repeated occurrences of illegal input    \u0000 \n",
      " lsoda--  at start of problem, too much accuracy   \u0000\u0000\n",
      "       requested for precision of machine..  see tolsf (=r1) \n",
      "      in above message,  r1 =                  NaN\n",
      " lsoda--  repeated occurrences of illegal input    \u0000 \n"
     ]
    },
    {
     "name": "stderr",
     "output_type": "stream",
     "text": [
      "  6%|▌         | 32/534 [00:03<01:02,  7.98it/s]"
     ]
    },
    {
     "name": "stdout",
     "output_type": "stream",
     "text": [
      " lsoda--  at start of problem, too much accuracy   \u0000\u0000\n",
      "       requested for precision of machine..  see tolsf (=r1) \n",
      "      in above message,  r1 =                  NaN\n",
      " lsoda--  repeated occurrences of illegal input    \u0000 \n",
      " lsoda--  at start of problem, too much accuracy   \u0000\u0000\n",
      "       requested for precision of machine..  see tolsf (=r1) \n",
      "      in above message,  r1 =                  NaN\n",
      " lsoda--  repeated occurrences of illegal input    \u0000 \n"
     ]
    },
    {
     "name": "stderr",
     "output_type": "stream",
     "text": [
      "  6%|▋         | 34/534 [00:04<01:02,  7.99it/s]"
     ]
    },
    {
     "name": "stdout",
     "output_type": "stream",
     "text": [
      " lsoda--  at start of problem, too much accuracy   \u0000\u0000\n",
      "       requested for precision of machine..  see tolsf (=r1) \n",
      "      in above message,  r1 =                  NaN\n",
      " lsoda--  repeated occurrences of illegal input    \u0000 \n",
      " lsoda--  at start of problem, too much accuracy   \u0000\u0000\n",
      "       requested for precision of machine..  see tolsf (=r1) \n",
      "      in above message,  r1 =                  NaN\n",
      " lsoda--  repeated occurrences of illegal input    \u0000 \n"
     ]
    },
    {
     "name": "stderr",
     "output_type": "stream",
     "text": [
      "  7%|▋         | 36/534 [00:04<01:02,  7.98it/s]"
     ]
    },
    {
     "name": "stdout",
     "output_type": "stream",
     "text": [
      " lsoda--  at start of problem, too much accuracy   \u0000\u0000\n",
      "       requested for precision of machine..  see tolsf (=r1) \n",
      "      in above message,  r1 =                  NaN\n",
      " lsoda--  repeated occurrences of illegal input    \u0000 \n",
      " lsoda--  at start of problem, too much accuracy   \u0000\u0000\n",
      "       requested for precision of machine..  see tolsf (=r1) \n",
      "      in above message,  r1 =                  NaN\n",
      " lsoda--  repeated occurrences of illegal input    \u0000 \n"
     ]
    },
    {
     "name": "stderr",
     "output_type": "stream",
     "text": [
      "  7%|▋         | 38/534 [00:04<01:02,  7.96it/s]"
     ]
    },
    {
     "name": "stdout",
     "output_type": "stream",
     "text": [
      " lsoda--  at start of problem, too much accuracy   \u0000\u0000\n",
      "       requested for precision of machine..  see tolsf (=r1) \n",
      "      in above message,  r1 =                  NaN\n",
      " lsoda--  repeated occurrences of illegal input    \u0000 \n",
      " lsoda--  at start of problem, too much accuracy   \u0000\u0000\n",
      "       requested for precision of machine..  see tolsf (=r1) \n",
      "      in above message,  r1 =                  NaN\n",
      " lsoda--  repeated occurrences of illegal input    \u0000 \n"
     ]
    },
    {
     "name": "stderr",
     "output_type": "stream",
     "text": [
      "  7%|▋         | 40/534 [00:04<01:01,  7.98it/s]"
     ]
    },
    {
     "name": "stdout",
     "output_type": "stream",
     "text": [
      " lsoda--  at start of problem, too much accuracy   \u0000\u0000\n",
      "       requested for precision of machine..  see tolsf (=r1) \n",
      "      in above message,  r1 =                  NaN\n",
      " lsoda--  repeated occurrences of illegal input    \u0000 \n",
      " lsoda--  at start of problem, too much accuracy   \u0000\u0000\n",
      "       requested for precision of machine..  see tolsf (=r1) \n",
      "      in above message,  r1 =                  NaN\n",
      " lsoda--  repeated occurrences of illegal input    \u0000 \n"
     ]
    },
    {
     "name": "stderr",
     "output_type": "stream",
     "text": [
      "  8%|▊         | 42/534 [00:05<01:01,  7.99it/s]"
     ]
    },
    {
     "name": "stdout",
     "output_type": "stream",
     "text": [
      " lsoda--  at start of problem, too much accuracy   \u0000\u0000\n",
      "       requested for precision of machine..  see tolsf (=r1) \n",
      "      in above message,  r1 =                  NaN\n",
      " lsoda--  repeated occurrences of illegal input    \u0000 \n",
      " lsoda--  at start of problem, too much accuracy   \u0000\u0000\n",
      "       requested for precision of machine..  see tolsf (=r1) \n",
      "      in above message,  r1 =                  NaN\n",
      " lsoda--  repeated occurrences of illegal input    \u0000 \n"
     ]
    },
    {
     "name": "stderr",
     "output_type": "stream",
     "text": [
      "  8%|▊         | 44/534 [00:05<01:01,  8.00it/s]"
     ]
    },
    {
     "name": "stdout",
     "output_type": "stream",
     "text": [
      " lsoda--  at start of problem, too much accuracy   \u0000\u0000\n",
      "       requested for precision of machine..  see tolsf (=r1) \n",
      "      in above message,  r1 =                  NaN\n",
      " lsoda--  repeated occurrences of illegal input    \u0000 \n",
      " lsoda--  at start of problem, too much accuracy   \u0000\u0000\n",
      "       requested for precision of machine..  see tolsf (=r1) \n",
      "      in above message,  r1 =                  NaN\n",
      " lsoda--  repeated occurrences of illegal input    \u0000 \n"
     ]
    },
    {
     "name": "stderr",
     "output_type": "stream",
     "text": [
      "  9%|▊         | 46/534 [00:05<01:01,  7.96it/s]"
     ]
    },
    {
     "name": "stdout",
     "output_type": "stream",
     "text": [
      " lsoda--  at start of problem, too much accuracy   \u0000\u0000\n",
      "       requested for precision of machine..  see tolsf (=r1) \n",
      "      in above message,  r1 =                  NaN\n",
      " lsoda--  repeated occurrences of illegal input    \u0000 \n",
      " lsoda--  at start of problem, too much accuracy   \u0000\u0000\n",
      "       requested for precision of machine..  see tolsf (=r1) \n",
      "      in above message,  r1 =                  NaN\n",
      " lsoda--  repeated occurrences of illegal input    \u0000 \n"
     ]
    },
    {
     "name": "stderr",
     "output_type": "stream",
     "text": [
      "  9%|▉         | 48/534 [00:05<01:00,  7.97it/s]"
     ]
    },
    {
     "name": "stdout",
     "output_type": "stream",
     "text": [
      " lsoda--  at start of problem, too much accuracy   \u0000\u0000\n",
      "       requested for precision of machine..  see tolsf (=r1) \n",
      "      in above message,  r1 =                  NaN\n",
      " lsoda--  repeated occurrences of illegal input    \u0000 \n",
      " lsoda--  at start of problem, too much accuracy   \u0000\u0000\n",
      "       requested for precision of machine..  see tolsf (=r1) \n",
      "      in above message,  r1 =                  NaN\n",
      " lsoda--  repeated occurrences of illegal input    \u0000 \n"
     ]
    },
    {
     "name": "stderr",
     "output_type": "stream",
     "text": [
      "  9%|▉         | 50/534 [00:06<01:02,  7.77it/s]"
     ]
    },
    {
     "name": "stdout",
     "output_type": "stream",
     "text": [
      " lsoda--  at start of problem, too much accuracy   \u0000\u0000\n",
      "       requested for precision of machine..  see tolsf (=r1) \n",
      "      in above message,  r1 =                  NaN\n",
      " lsoda--  repeated occurrences of illegal input    \u0000 \n"
     ]
    },
    {
     "name": "stderr",
     "output_type": "stream",
     "text": [
      " 64%|██████▍   | 344/534 [00:45<00:25,  7.59it/s]WARNING:root:Setting coarsen_factor=1!\n",
      "WARNING:root:Setting dlnz=0.009950330853168092!\n",
      "WARNING:root:Setting dt=23798122126921.9! dt/dt_old_normalized=1.003059\n",
      "573it [00:51, 11.17it/s]                         \n"
     ]
    },
    {
     "name": "stdout",
     "output_type": "stream",
     "text": [
      "Main loop time: 51.267 s\n"
     ]
    }
   ],
   "source": [
    "run_name = 'xc_phph_noHe'\n",
    "\n",
    "soln = evolve_DH(\n",
    "    DM_process=dm_params.mode, mDM=dm_params.m_DM,\n",
    "    primary=dm_params.primary,\n",
    "    sigmav=dm_params.sigmav, lifetime=dm_params.lifetime,\n",
    "    struct_boost=dm_params.struct_boost,\n",
    "    start_rs=3000, end_rs=4.+1, coarsen_factor=12, verbose=1,\n",
    "    # use fake reionization to get case-A recomb. coeff.\n",
    "    reion_switch=True, reion_rs=47.,\n",
    "    photoion_rate_func=[lambda x: 0., lambda x: 0., lambda x: 0.],\n",
    "    photoheat_rate_func=[lambda x: 0., lambda x: 0., lambda x: 0.],\n",
    "    cross_check_21cmfast=True,\n",
    "    debug_no_bath=False,\n",
    "    debug_inject_ST_xray=False,\n",
    ")\n",
    "\n",
    "pickle.dump(soln, open(f\"{os.environ['DM21CM_DIR']}/outputs/dh/{run_name}_soln.p\", 'wb'))"
   ]
  },
  {
   "cell_type": "code",
   "execution_count": null,
   "metadata": {},
   "outputs": [],
   "source": []
  }
 ],
 "metadata": {
  "kernelspec": {
   "display_name": "dm21cm",
   "language": "python",
   "name": "python3"
  },
  "language_info": {
   "codemirror_mode": {
    "name": "ipython",
    "version": 3
   },
   "file_extension": ".py",
   "mimetype": "text/x-python",
   "name": "python",
   "nbconvert_exporter": "python",
   "pygments_lexer": "ipython3",
   "version": "3.11.5"
  }
 },
 "nbformat": 4,
 "nbformat_minor": 2
}
