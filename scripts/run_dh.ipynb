{
 "cells": [
  {
   "cell_type": "code",
   "execution_count": 1,
   "metadata": {},
   "outputs": [],
   "source": [
    "%reload_ext autoreload\n",
    "%autoreload 2\n",
    "\n",
    "import os\n",
    "import sys\n",
    "import pickle\n",
    "\n",
    "sys.path.append(\"..\")\n",
    "from dm21cm.dm_params import DMParams\n",
    "\n",
    "sys.path.append(os.environ['DH_DIR'])\n",
    "from darkhistory.main import evolve as evolve_DH\n",
    "from darkhistory.config import load_data"
   ]
  },
  {
   "cell_type": "code",
   "execution_count": 2,
   "metadata": {},
   "outputs": [
    {
     "name": "stdout",
     "output_type": "stream",
     "text": [
      "****** Loading transfer functions... ******\n",
      "Using data at /n/holyscratch01/iaifi_lab/yitians/darkhistory/DHdata_v1_1/../DHdata_v1_1_zf01\n",
      "    for propagating photons...  "
     ]
    },
    {
     "name": "stdout",
     "output_type": "stream",
     "text": [
      " Done!\n",
      "    for low-energy photons...  Done!\n",
      "    for low-energy electrons...  Done!\n",
      "    for high-energy deposition...  Done!\n",
      "    for total upscattered CMB energy rate...  Done!\n",
      "****** Loading complete! ******\n",
      "****** Loading transfer functions... ******\n",
      "    for inverse Compton (Thomson)...  Done!\n",
      "    for inverse Compton (relativistic)...  Done!\n",
      "    for inverse Compton (energy loss)...  Done!\n",
      "****** Loading complete! ******\n"
     ]
    }
   ],
   "source": [
    "tf_version = 'zf01'\n",
    "\n",
    "load_data('dep_tf', prefix=f\"{os.environ['DH_DATA_DIR']}/../DHdata_v1_1_{tf_version}\")\n",
    "load_data('ics_tf', prefix=f\"{os.environ['DH_DATA_DIR']}/../DHdata_v1_1_{tf_version}\");"
   ]
  },
  {
   "cell_type": "code",
   "execution_count": 5,
   "metadata": {},
   "outputs": [],
   "source": [
    "dm_params = DMParams(\n",
    "    mode = 'decay',\n",
    "    primary = 'phot_delta',\n",
    "    m_DM = 1e8, # [eV]\n",
    "    lifetime = 1e25, #[s]\n",
    ")"
   ]
  },
  {
   "cell_type": "code",
   "execution_count": 6,
   "metadata": {},
   "outputs": [
    {
     "name": "stdout",
     "output_type": "stream",
     "text": [
      "Loading time: 0.001 s\n"
     ]
    },
    {
     "name": "stderr",
     "output_type": "stream",
     "text": [
      "  0%|          | 0/534 [00:00<?, ?it/s]"
     ]
    },
    {
     "name": "stderr",
     "output_type": "stream",
     "text": [
      "WARNING:root:Cross checking 21cmfast!\n",
      "WARNING:root:Using dts associated with transfer functions!\n",
      "  0%|          | 2/534 [00:00<00:45, 11.60it/s]"
     ]
    },
    {
     "name": "stdout",
     "output_type": "stream",
     "text": [
      "Initialization time: 0.027 s\n",
      " lsoda--  at start of problem, too much accuracy   \u0000\u0000\n",
      "       requested for precision of machine..  see tolsf (=r1) \n",
      "      in above message,  r1 =                  NaN\n"
     ]
    },
    {
     "name": "stderr",
     "output_type": "stream",
     "text": [
      "  1%|          | 4/534 [00:00<01:01,  8.66it/s]"
     ]
    },
    {
     "name": "stdout",
     "output_type": "stream",
     "text": [
      " lsoda--  at start of problem, too much accuracy   \u0000\u0000\n",
      "       requested for precision of machine..  see tolsf (=r1) \n",
      "      in above message,  r1 =                  NaN\n",
      " lsoda--  at start of problem, too much accuracy   \u0000\u0000\n",
      "       requested for precision of machine..  see tolsf (=r1) \n",
      "      in above message,  r1 =                  NaN\n"
     ]
    },
    {
     "name": "stderr",
     "output_type": "stream",
     "text": [
      "  1%|          | 6/534 [00:00<01:07,  7.85it/s]"
     ]
    },
    {
     "name": "stdout",
     "output_type": "stream",
     "text": [
      " lsoda--  at start of problem, too much accuracy   \u0000\u0000\n",
      "       requested for precision of machine..  see tolsf (=r1) \n",
      "      in above message,  r1 =                  NaN\n",
      " lsoda--  at start of problem, too much accuracy   \u0000\u0000\n",
      "       requested for precision of machine..  see tolsf (=r1) \n",
      "      in above message,  r1 =                  NaN\n"
     ]
    },
    {
     "name": "stderr",
     "output_type": "stream",
     "text": [
      "  1%|▏         | 8/534 [00:01<01:12,  7.28it/s]"
     ]
    },
    {
     "name": "stdout",
     "output_type": "stream",
     "text": [
      " lsoda--  at start of problem, too much accuracy   \u0000\u0000\n",
      "       requested for precision of machine..  see tolsf (=r1) \n",
      "      in above message,  r1 =                  NaN\n",
      " lsoda--  repeated occurrences of illegal input    \u0000 \n",
      " lsoda--  at start of problem, too much accuracy   \u0000\u0000\n",
      "       requested for precision of machine..  see tolsf (=r1) \n",
      "      in above message,  r1 =                  NaN\n",
      " lsoda--  repeated occurrences of illegal input    \u0000 \n"
     ]
    },
    {
     "name": "stderr",
     "output_type": "stream",
     "text": [
      "  2%|▏         | 10/534 [00:01<01:10,  7.42it/s]"
     ]
    },
    {
     "name": "stdout",
     "output_type": "stream",
     "text": [
      " lsoda--  at start of problem, too much accuracy   \u0000\u0000\n",
      "       requested for precision of machine..  see tolsf (=r1) \n",
      "      in above message,  r1 =                  NaN\n",
      " lsoda--  repeated occurrences of illegal input    \u0000 \n",
      " lsoda--  at start of problem, too much accuracy   \u0000\u0000\n",
      "       requested for precision of machine..  see tolsf (=r1) \n",
      "      in above message,  r1 =                  NaN\n",
      " lsoda--  repeated occurrences of illegal input    \u0000 \n"
     ]
    },
    {
     "name": "stderr",
     "output_type": "stream",
     "text": [
      "  2%|▏         | 12/534 [00:01<01:08,  7.61it/s]"
     ]
    },
    {
     "name": "stdout",
     "output_type": "stream",
     "text": [
      " lsoda--  at start of problem, too much accuracy   \u0000\u0000\n",
      "       requested for precision of machine..  see tolsf (=r1) \n",
      "      in above message,  r1 =                  NaN\n",
      " lsoda--  repeated occurrences of illegal input    \u0000 \n",
      " lsoda--  at start of problem, too much accuracy   \u0000\u0000\n",
      "       requested for precision of machine..  see tolsf (=r1) \n",
      "      in above message,  r1 =                  NaN\n",
      " lsoda--  repeated occurrences of illegal input    \u0000 \n"
     ]
    },
    {
     "name": "stderr",
     "output_type": "stream",
     "text": [
      "  3%|▎         | 14/534 [00:01<01:07,  7.71it/s]"
     ]
    },
    {
     "name": "stdout",
     "output_type": "stream",
     "text": [
      " lsoda--  at start of problem, too much accuracy   \u0000\u0000\n",
      "       requested for precision of machine..  see tolsf (=r1) \n",
      "      in above message,  r1 =                  NaN\n",
      " lsoda--  repeated occurrences of illegal input    \u0000 \n",
      " lsoda--  at start of problem, too much accuracy   \u0000\u0000\n",
      "       requested for precision of machine..  see tolsf (=r1) \n",
      "      in above message,  r1 =                  NaN\n",
      " lsoda--  repeated occurrences of illegal input    \u0000 \n"
     ]
    },
    {
     "name": "stderr",
     "output_type": "stream",
     "text": [
      "  3%|▎         | 16/534 [00:02<01:07,  7.70it/s]"
     ]
    },
    {
     "name": "stdout",
     "output_type": "stream",
     "text": [
      " lsoda--  at start of problem, too much accuracy   \u0000\u0000\n",
      "       requested for precision of machine..  see tolsf (=r1) \n",
      "      in above message,  r1 =                  NaN\n",
      " lsoda--  repeated occurrences of illegal input    \u0000 \n",
      " lsoda--  at start of problem, too much accuracy   \u0000\u0000\n",
      "       requested for precision of machine..  see tolsf (=r1) \n",
      "      in above message,  r1 =                  NaN\n",
      " lsoda--  repeated occurrences of illegal input    \u0000 \n"
     ]
    },
    {
     "name": "stderr",
     "output_type": "stream",
     "text": [
      "  3%|▎         | 18/534 [00:02<01:07,  7.64it/s]"
     ]
    },
    {
     "name": "stdout",
     "output_type": "stream",
     "text": [
      " lsoda--  at start of problem, too much accuracy   \u0000\u0000\n",
      "       requested for precision of machine..  see tolsf (=r1) \n",
      "      in above message,  r1 =                  NaN\n",
      " lsoda--  repeated occurrences of illegal input    \u0000 \n",
      " lsoda--  at start of problem, too much accuracy   \u0000\u0000\n",
      "       requested for precision of machine..  see tolsf (=r1) \n",
      "      in above message,  r1 =                  NaN\n",
      " lsoda--  repeated occurrences of illegal input    \u0000 \n"
     ]
    },
    {
     "name": "stderr",
     "output_type": "stream",
     "text": [
      "  4%|▎         | 20/534 [00:02<01:06,  7.72it/s]"
     ]
    },
    {
     "name": "stdout",
     "output_type": "stream",
     "text": [
      " lsoda--  at start of problem, too much accuracy   \u0000\u0000\n",
      "       requested for precision of machine..  see tolsf (=r1) \n",
      "      in above message,  r1 =                  NaN\n",
      " lsoda--  repeated occurrences of illegal input    \u0000 \n",
      " lsoda--  at start of problem, too much accuracy   \u0000\u0000\n",
      "       requested for precision of machine..  see tolsf (=r1) \n",
      "      in above message,  r1 =                  NaN\n",
      " lsoda--  repeated occurrences of illegal input    \u0000 \n"
     ]
    },
    {
     "name": "stderr",
     "output_type": "stream",
     "text": [
      "  4%|▍         | 22/534 [00:02<01:05,  7.77it/s]"
     ]
    },
    {
     "name": "stdout",
     "output_type": "stream",
     "text": [
      " lsoda--  at start of problem, too much accuracy   \u0000\u0000\n",
      "       requested for precision of machine..  see tolsf (=r1) \n",
      "      in above message,  r1 =                  NaN\n",
      " lsoda--  repeated occurrences of illegal input    \u0000 \n",
      " lsoda--  at start of problem, too much accuracy   \u0000\u0000\n",
      "       requested for precision of machine..  see tolsf (=r1) \n",
      "      in above message,  r1 =                  NaN\n",
      " lsoda--  repeated occurrences of illegal input    \u0000 \n"
     ]
    },
    {
     "name": "stderr",
     "output_type": "stream",
     "text": [
      "  4%|▍         | 24/534 [00:03<01:05,  7.79it/s]"
     ]
    },
    {
     "name": "stdout",
     "output_type": "stream",
     "text": [
      " lsoda--  at start of problem, too much accuracy   \u0000\u0000\n",
      "       requested for precision of machine..  see tolsf (=r1) \n",
      "      in above message,  r1 =                  NaN\n",
      " lsoda--  repeated occurrences of illegal input    \u0000 \n",
      " lsoda--  at start of problem, too much accuracy   \u0000\u0000\n",
      "       requested for precision of machine..  see tolsf (=r1) \n",
      "      in above message,  r1 =                  NaN\n",
      " lsoda--  repeated occurrences of illegal input    \u0000 \n"
     ]
    },
    {
     "name": "stderr",
     "output_type": "stream",
     "text": [
      "  5%|▍         | 26/534 [00:03<01:05,  7.81it/s]"
     ]
    },
    {
     "name": "stdout",
     "output_type": "stream",
     "text": [
      " lsoda--  at start of problem, too much accuracy   \u0000\u0000\n",
      "       requested for precision of machine..  see tolsf (=r1) \n",
      "      in above message,  r1 =                  NaN\n",
      " lsoda--  repeated occurrences of illegal input    \u0000 \n",
      " lsoda--  at start of problem, too much accuracy   \u0000\u0000\n",
      "       requested for precision of machine..  see tolsf (=r1) \n",
      "      in above message,  r1 =                  NaN\n",
      " lsoda--  repeated occurrences of illegal input    \u0000 \n"
     ]
    },
    {
     "name": "stderr",
     "output_type": "stream",
     "text": [
      "  5%|▌         | 28/534 [00:03<01:07,  7.53it/s]"
     ]
    },
    {
     "name": "stdout",
     "output_type": "stream",
     "text": [
      " lsoda--  at start of problem, too much accuracy   \u0000\u0000\n",
      "       requested for precision of machine..  see tolsf (=r1) \n",
      "      in above message,  r1 =                  NaN\n",
      " lsoda--  repeated occurrences of illegal input    \u0000 \n",
      " lsoda--  at start of problem, too much accuracy   \u0000\u0000\n",
      "       requested for precision of machine..  see tolsf (=r1) \n",
      "      in above message,  r1 =                  NaN\n",
      " lsoda--  repeated occurrences of illegal input    \u0000 \n"
     ]
    },
    {
     "name": "stderr",
     "output_type": "stream",
     "text": [
      "  6%|▌         | 30/534 [00:03<01:08,  7.40it/s]"
     ]
    },
    {
     "name": "stdout",
     "output_type": "stream",
     "text": [
      " lsoda--  at start of problem, too much accuracy   \u0000\u0000\n",
      "       requested for precision of machine..  see tolsf (=r1) \n",
      "      in above message,  r1 =                  NaN\n",
      " lsoda--  repeated occurrences of illegal input    \u0000 \n",
      " lsoda--  at start of problem, too much accuracy   \u0000\u0000\n",
      "       requested for precision of machine..  see tolsf (=r1) \n",
      "      in above message,  r1 =                  NaN\n",
      " lsoda--  repeated occurrences of illegal input    \u0000 \n"
     ]
    },
    {
     "name": "stderr",
     "output_type": "stream",
     "text": [
      "  6%|▌         | 32/534 [00:04<01:06,  7.51it/s]"
     ]
    },
    {
     "name": "stdout",
     "output_type": "stream",
     "text": [
      " lsoda--  at start of problem, too much accuracy   \u0000\u0000\n",
      "       requested for precision of machine..  see tolsf (=r1) \n",
      "      in above message,  r1 =                  NaN\n",
      " lsoda--  repeated occurrences of illegal input    \u0000 \n",
      " lsoda--  at start of problem, too much accuracy   \u0000\u0000\n",
      "       requested for precision of machine..  see tolsf (=r1) \n",
      "      in above message,  r1 =                  NaN\n",
      " lsoda--  repeated occurrences of illegal input    \u0000 \n"
     ]
    },
    {
     "name": "stderr",
     "output_type": "stream",
     "text": [
      "  6%|▋         | 34/534 [00:04<01:05,  7.66it/s]"
     ]
    },
    {
     "name": "stdout",
     "output_type": "stream",
     "text": [
      " lsoda--  at start of problem, too much accuracy   \u0000\u0000\n",
      "       requested for precision of machine..  see tolsf (=r1) \n",
      "      in above message,  r1 =                  NaN\n",
      " lsoda--  repeated occurrences of illegal input    \u0000 \n",
      " lsoda--  at start of problem, too much accuracy   \u0000\u0000\n",
      "       requested for precision of machine..  see tolsf (=r1) \n",
      "      in above message,  r1 =                  NaN\n",
      " lsoda--  repeated occurrences of illegal input    \u0000 \n"
     ]
    },
    {
     "name": "stderr",
     "output_type": "stream",
     "text": [
      "  7%|▋         | 36/534 [00:04<01:04,  7.70it/s]"
     ]
    },
    {
     "name": "stdout",
     "output_type": "stream",
     "text": [
      " lsoda--  at start of problem, too much accuracy   \u0000\u0000\n",
      "       requested for precision of machine..  see tolsf (=r1) \n",
      "      in above message,  r1 =                  NaN\n",
      " lsoda--  repeated occurrences of illegal input    \u0000 \n",
      " lsoda--  at start of problem, too much accuracy   \u0000\u0000\n",
      "       requested for precision of machine..  see tolsf (=r1) \n",
      "      in above message,  r1 =                  NaN\n",
      " lsoda--  repeated occurrences of illegal input    \u0000 \n"
     ]
    },
    {
     "name": "stderr",
     "output_type": "stream",
     "text": [
      "  7%|▋         | 38/534 [00:04<01:04,  7.69it/s]"
     ]
    },
    {
     "name": "stdout",
     "output_type": "stream",
     "text": [
      " lsoda--  at start of problem, too much accuracy   \u0000\u0000\n",
      "       requested for precision of machine..  see tolsf (=r1) \n",
      "      in above message,  r1 =                  NaN\n",
      " lsoda--  repeated occurrences of illegal input    \u0000 \n",
      " lsoda--  at start of problem, too much accuracy   \u0000\u0000\n",
      "       requested for precision of machine..  see tolsf (=r1) \n",
      "      in above message,  r1 =                  NaN\n",
      " lsoda--  repeated occurrences of illegal input    \u0000 \n"
     ]
    },
    {
     "name": "stderr",
     "output_type": "stream",
     "text": [
      "  7%|▋         | 40/534 [00:05<01:05,  7.58it/s]"
     ]
    },
    {
     "name": "stdout",
     "output_type": "stream",
     "text": [
      " lsoda--  at start of problem, too much accuracy   \u0000\u0000\n",
      "       requested for precision of machine..  see tolsf (=r1) \n",
      "      in above message,  r1 =                  NaN\n",
      " lsoda--  repeated occurrences of illegal input    \u0000 \n",
      " lsoda--  at start of problem, too much accuracy   \u0000\u0000\n",
      "       requested for precision of machine..  see tolsf (=r1) \n",
      "      in above message,  r1 =                  NaN\n",
      " lsoda--  repeated occurrences of illegal input    \u0000 \n"
     ]
    },
    {
     "name": "stderr",
     "output_type": "stream",
     "text": [
      "  8%|▊         | 42/534 [00:05<01:04,  7.61it/s]"
     ]
    },
    {
     "name": "stdout",
     "output_type": "stream",
     "text": [
      " lsoda--  at start of problem, too much accuracy   \u0000\u0000\n",
      "       requested for precision of machine..  see tolsf (=r1) \n",
      "      in above message,  r1 =                  NaN\n",
      " lsoda--  repeated occurrences of illegal input    \u0000 \n",
      " lsoda--  at start of problem, too much accuracy   \u0000\u0000\n",
      "       requested for precision of machine..  see tolsf (=r1) \n",
      "      in above message,  r1 =                  NaN\n",
      " lsoda--  repeated occurrences of illegal input    \u0000 \n"
     ]
    },
    {
     "name": "stderr",
     "output_type": "stream",
     "text": [
      "  8%|▊         | 44/534 [00:05<01:03,  7.66it/s]"
     ]
    },
    {
     "name": "stdout",
     "output_type": "stream",
     "text": [
      " lsoda--  at start of problem, too much accuracy   \u0000\u0000\n",
      "       requested for precision of machine..  see tolsf (=r1) \n",
      "      in above message,  r1 =                  NaN\n",
      " lsoda--  repeated occurrences of illegal input    \u0000 \n",
      " lsoda--  at start of problem, too much accuracy   \u0000\u0000\n",
      "       requested for precision of machine..  see tolsf (=r1) \n",
      "      in above message,  r1 =                  NaN\n",
      " lsoda--  repeated occurrences of illegal input    \u0000 \n"
     ]
    },
    {
     "name": "stderr",
     "output_type": "stream",
     "text": [
      "  9%|▊         | 46/534 [00:05<01:03,  7.68it/s]"
     ]
    },
    {
     "name": "stdout",
     "output_type": "stream",
     "text": [
      " lsoda--  at start of problem, too much accuracy   \u0000\u0000\n",
      "       requested for precision of machine..  see tolsf (=r1) \n",
      "      in above message,  r1 =                  NaN\n",
      " lsoda--  repeated occurrences of illegal input    \u0000 \n",
      " lsoda--  at start of problem, too much accuracy   \u0000\u0000\n",
      "       requested for precision of machine..  see tolsf (=r1) \n",
      "      in above message,  r1 =                  NaN\n",
      " lsoda--  repeated occurrences of illegal input    \u0000 \n"
     ]
    },
    {
     "name": "stderr",
     "output_type": "stream",
     "text": [
      "  9%|▉         | 48/534 [00:06<01:04,  7.57it/s]"
     ]
    },
    {
     "name": "stdout",
     "output_type": "stream",
     "text": [
      " lsoda--  at start of problem, too much accuracy   \u0000\u0000\n",
      "       requested for precision of machine..  see tolsf (=r1) \n",
      "      in above message,  r1 =                  NaN\n",
      " lsoda--  repeated occurrences of illegal input    \u0000 \n",
      " lsoda--  at start of problem, too much accuracy   \u0000\u0000\n",
      "       requested for precision of machine..  see tolsf (=r1) \n",
      "      in above message,  r1 =                  NaN\n",
      " lsoda--  repeated occurrences of illegal input    \u0000 \n"
     ]
    },
    {
     "name": "stderr",
     "output_type": "stream",
     "text": [
      "  9%|▉         | 50/534 [00:06<01:08,  7.09it/s]"
     ]
    },
    {
     "name": "stdout",
     "output_type": "stream",
     "text": [
      " lsoda--  at start of problem, too much accuracy   \u0000\u0000\n",
      "       requested for precision of machine..  see tolsf (=r1) \n",
      "      in above message,  r1 =                  NaN\n",
      " lsoda--  repeated occurrences of illegal input    \u0000 \n"
     ]
    },
    {
     "name": "stderr",
     "output_type": "stream",
     "text": [
      " 64%|██████▍   | 344/534 [00:48<00:26,  7.13it/s]WARNING:root:Setting coarsen_factor=1!\n",
      "WARNING:root:Setting dlnz=0.009950330853168092!\n",
      "573it [00:54, 10.52it/s]                         "
     ]
    },
    {
     "name": "stdout",
     "output_type": "stream",
     "text": [
      "Main loop time: 54.445 s\n"
     ]
    },
    {
     "name": "stderr",
     "output_type": "stream",
     "text": [
      "\n"
     ]
    }
   ],
   "source": [
    "run_name = 'xc_phph_noHe'\n",
    "\n",
    "soln = evolve_DH(\n",
    "    DM_process=dm_params.mode, mDM=dm_params.m_DM,\n",
    "    primary=dm_params.primary,\n",
    "    sigmav=dm_params.sigmav, lifetime=dm_params.lifetime,\n",
    "    struct_boost=dm_params.struct_boost,\n",
    "    start_rs=3000, end_rs=4.+1, coarsen_factor=12, verbose=1,\n",
    "    # use fake reionization to get case-A recomb. coeff.\n",
    "    reion_switch=True, reion_rs=47.,\n",
    "    photoion_rate_func=[lambda x: 0., lambda x: 0., lambda x: 0.],\n",
    "    photoheat_rate_func=[lambda x: 0., lambda x: 0., lambda x: 0.],\n",
    "    cross_check_21cmfast=True,\n",
    "    debug_no_bath=False,\n",
    ")\n",
    "\n",
    "pickle.dump(soln, open(f\"{os.environ['DM21CM_DIR']}/outputs/dh/{run_name}_soln.p\", 'wb'))"
   ]
  },
  {
   "cell_type": "code",
   "execution_count": null,
   "metadata": {},
   "outputs": [],
   "source": []
  }
 ],
 "metadata": {
  "kernelspec": {
   "display_name": "dm21cm",
   "language": "python",
   "name": "python3"
  },
  "language_info": {
   "codemirror_mode": {
    "name": "ipython",
    "version": 3
   },
   "file_extension": ".py",
   "mimetype": "text/x-python",
   "name": "python",
   "nbconvert_exporter": "python",
   "pygments_lexer": "ipython3",
   "version": "3.11.5"
  }
 },
 "nbformat": 4,
 "nbformat_minor": 2
}
