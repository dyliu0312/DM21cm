{
 "cells": [
  {
   "cell_type": "code",
   "execution_count": 1,
   "metadata": {},
   "outputs": [
    {
     "name": "stderr",
     "output_type": "stream",
     "text": [
      "WARNING:root:DM21CM: We dont do Helium here\n",
      "WARNING:root:DarkHistory: It's all hydrogen now.\n"
     ]
    }
   ],
   "source": [
    "%reload_ext autoreload\n",
    "%autoreload 2\n",
    "\n",
    "import os\n",
    "import sys\n",
    "import pickle\n",
    "\n",
    "sys.path.append(\"..\")\n",
    "from dm21cm.dm_params import DMParams\n",
    "\n",
    "sys.path.append(os.environ['DH_DIR'])\n",
    "from darkhistory.main import evolve as evolve_DH\n",
    "from darkhistory.config import load_data"
   ]
  },
  {
   "cell_type": "code",
   "execution_count": 2,
   "metadata": {},
   "outputs": [
    {
     "name": "stdout",
     "output_type": "stream",
     "text": [
      "****** Loading transfer functions... ******\n",
      "Using data at /n/holyscratch01/iaifi_lab/yitians/darkhistory/DHdata_v1_1/../DHdata_v1_1_zf001\n",
      "    for propagating photons...   Done!\n",
      "    for low-energy photons...  Done!\n",
      "    for low-energy electrons...  Done!\n",
      "    for high-energy deposition...  Done!\n",
      "    for total upscattered CMB energy rate...  Done!\n",
      "****** Loading complete! ******\n",
      "****** Loading transfer functions... ******\n",
      "    for inverse Compton (Thomson)...  Done!\n",
      "    for inverse Compton (relativistic)...  Done!\n",
      "    for inverse Compton (energy loss)...  Done!\n",
      "****** Loading complete! ******\n"
     ]
    }
   ],
   "source": [
    "tf_version = 'zf001'\n",
    "\n",
    "load_data('dep_tf', prefix=f\"{os.environ['DH_DATA_DIR']}/../DHdata_v1_1_{tf_version}\")\n",
    "load_data('ics_tf', prefix=f\"{os.environ['DH_DATA_DIR']}/../DHdata_v1_1_{tf_version}\");"
   ]
  },
  {
   "cell_type": "code",
   "execution_count": 3,
   "metadata": {},
   "outputs": [],
   "source": [
    "# phph\n",
    "dm_params = DMParams(\n",
    "    mode = 'decay',\n",
    "    primary = 'phot_delta',\n",
    "    m_DM = 1e8, # [eV]\n",
    "    lifetime = 1e25, #[s]\n",
    ")"
   ]
  },
  {
   "cell_type": "code",
   "execution_count": 3,
   "metadata": {},
   "outputs": [],
   "source": [
    "# ee\n",
    "dm_params = DMParams(\n",
    "    mode = 'decay',\n",
    "    primary = 'elec_delta',\n",
    "    m_DM = 1e8, # [eV]\n",
    "    lifetime = 1e26, #[s]\n",
    ")"
   ]
  },
  {
   "cell_type": "code",
   "execution_count": 5,
   "metadata": {},
   "outputs": [],
   "source": [
    "# off\n",
    "dm_params = DMParams(\n",
    "    mode = 'decay',\n",
    "    primary = 'phot_delta',\n",
    "    m_DM = 1e8, # [eV]\n",
    "    lifetime = 1e50, #[s]\n",
    ")"
   ]
  },
  {
   "cell_type": "code",
   "execution_count": 4,
   "metadata": {},
   "outputs": [
    {
     "name": "stdout",
     "output_type": "stream",
     "text": [
      "Loading time: 0.009 s\n"
     ]
    },
    {
     "name": "stderr",
     "output_type": "stream",
     "text": [
      "  0%|          | 0/534 [00:00<?, ?it/s]WARNING:root:Cross checking 21cmfast!\n"
     ]
    },
    {
     "name": "stdout",
     "output_type": "stream",
     "text": [
      "Initialization time: 0.053 s\n"
     ]
    },
    {
     "name": "stderr",
     "output_type": "stream",
     "text": [
      "WARNING:root:Using dm21cm's compute_fs!\n",
      "WARNING:root:Using Planck18 dt!\n",
      "  0%|          | 1/534 [00:00<02:45,  3.23it/s]/n/home07/yitians/darkhistory/DarkHistory/darkhistory/history/tla.py:640: RuntimeWarning: invalid value encountered in arctanh\n",
      "  _init_cond[2] = np.arctanh(2/chi * (_init_cond[2] - chi/2))\n",
      "/n/home07/yitians/.conda/envs/dm21cm/lib/python3.11/site-packages/scipy/integrate/_odepack_py.py:248: ODEintWarning: Illegal input detected (internal error). Run with full_output = 1 to get quantitative information.\n",
      "  warnings.warn(warning_msg, ODEintWarning)\n",
      "  1%|          | 3/534 [00:00<01:41,  5.23it/s]"
     ]
    },
    {
     "name": "stdout",
     "output_type": "stream",
     "text": [
      " lsoda--  at start of problem, too much accuracy   \u0000\u0000\n",
      "       requested for precision of machine..  see tolsf (=r1) \n",
      "      in above message,  r1 =                  NaN\n",
      " lsoda--  at start of problem, too much accuracy   \u0000\u0000\n",
      "       requested for precision of machine..  see tolsf (=r1) \n",
      "      in above message,  r1 =                  NaN\n"
     ]
    },
    {
     "name": "stderr",
     "output_type": "stream",
     "text": [
      "  1%|          | 5/534 [00:00<01:28,  5.98it/s]"
     ]
    },
    {
     "name": "stdout",
     "output_type": "stream",
     "text": [
      " lsoda--  at start of problem, too much accuracy   \u0000\u0000\n",
      "       requested for precision of machine..  see tolsf (=r1) \n",
      "      in above message,  r1 =                  NaN\n",
      " lsoda--  at start of problem, too much accuracy   \u0000\u0000\n",
      "       requested for precision of machine..  see tolsf (=r1) \n",
      "      in above message,  r1 =                  NaN\n"
     ]
    },
    {
     "name": "stderr",
     "output_type": "stream",
     "text": [
      "  1%|          | 6/534 [00:01<01:25,  6.17it/s]/n/home07/yitians/.conda/envs/dm21cm/lib/python3.11/site-packages/scipy/integrate/_odepack_py.py:248: ODEintWarning: Run terminated (internal error). Run with full_output = 1 to get quantitative information.\n",
      "  warnings.warn(warning_msg, ODEintWarning)\n",
      "  1%|▏         | 7/534 [00:01<01:23,  6.31it/s]"
     ]
    },
    {
     "name": "stdout",
     "output_type": "stream",
     "text": [
      " lsoda--  at start of problem, too much accuracy   \u0000\u0000\n",
      "       requested for precision of machine..  see tolsf (=r1) \n",
      "      in above message,  r1 =                  NaN\n",
      " lsoda--  at start of problem, too much accuracy   \u0000\u0000\n",
      "       requested for precision of machine..  see tolsf (=r1) \n",
      "      in above message,  r1 =                  NaN\n",
      " lsoda--  repeated occurrences of illegal input    \u0000 \n"
     ]
    },
    {
     "name": "stderr",
     "output_type": "stream",
     "text": [
      "  2%|▏         | 9/534 [00:01<01:21,  6.41it/s]"
     ]
    },
    {
     "name": "stdout",
     "output_type": "stream",
     "text": [
      " lsoda--  at start of problem, too much accuracy   \u0000\u0000\n",
      "       requested for precision of machine..  see tolsf (=r1) \n",
      "      in above message,  r1 =                  NaN\n",
      " lsoda--  repeated occurrences of illegal input    \u0000 \n",
      " lsoda--  at start of problem, too much accuracy   \u0000\u0000\n",
      "       requested for precision of machine..  see tolsf (=r1) \n",
      "      in above message,  r1 =                  NaN\n",
      " lsoda--  repeated occurrences of illegal input    \u0000 \n"
     ]
    },
    {
     "name": "stderr",
     "output_type": "stream",
     "text": [
      "  2%|▏         | 11/534 [00:01<01:20,  6.53it/s]"
     ]
    },
    {
     "name": "stdout",
     "output_type": "stream",
     "text": [
      " lsoda--  at start of problem, too much accuracy   \u0000\u0000\n",
      "       requested for precision of machine..  see tolsf (=r1) \n",
      "      in above message,  r1 =                  NaN\n",
      " lsoda--  repeated occurrences of illegal input    \u0000 \n",
      " lsoda--  at start of problem, too much accuracy   \u0000\u0000\n",
      "       requested for precision of machine..  see tolsf (=r1) \n",
      "      in above message,  r1 =                  NaN\n",
      " lsoda--  repeated occurrences of illegal input    \u0000 \n"
     ]
    },
    {
     "name": "stderr",
     "output_type": "stream",
     "text": [
      "  2%|▏         | 13/534 [00:02<01:19,  6.59it/s]"
     ]
    },
    {
     "name": "stdout",
     "output_type": "stream",
     "text": [
      " lsoda--  at start of problem, too much accuracy   \u0000\u0000\n",
      "       requested for precision of machine..  see tolsf (=r1) \n",
      "      in above message,  r1 =                  NaN\n",
      " lsoda--  repeated occurrences of illegal input    \u0000 \n",
      " lsoda--  at start of problem, too much accuracy   \u0000\u0000\n",
      "       requested for precision of machine..  see tolsf (=r1) \n",
      "      in above message,  r1 =                  NaN\n",
      " lsoda--  repeated occurrences of illegal input    \u0000 \n"
     ]
    },
    {
     "name": "stderr",
     "output_type": "stream",
     "text": [
      "  3%|▎         | 15/534 [00:02<01:19,  6.57it/s]"
     ]
    },
    {
     "name": "stdout",
     "output_type": "stream",
     "text": [
      " lsoda--  at start of problem, too much accuracy   \u0000\u0000\n",
      "       requested for precision of machine..  see tolsf (=r1) \n",
      "      in above message,  r1 =                  NaN\n",
      " lsoda--  repeated occurrences of illegal input    \u0000 \n",
      " lsoda--  at start of problem, too much accuracy   \u0000\u0000\n",
      "       requested for precision of machine..  see tolsf (=r1) \n",
      "      in above message,  r1 =                  NaN\n",
      " lsoda--  repeated occurrences of illegal input    \u0000 \n"
     ]
    },
    {
     "name": "stderr",
     "output_type": "stream",
     "text": [
      "  3%|▎         | 17/534 [00:02<01:18,  6.58it/s]"
     ]
    },
    {
     "name": "stdout",
     "output_type": "stream",
     "text": [
      " lsoda--  at start of problem, too much accuracy   \u0000\u0000\n",
      "       requested for precision of machine..  see tolsf (=r1) \n",
      "      in above message,  r1 =                  NaN\n",
      " lsoda--  repeated occurrences of illegal input    \u0000 \n",
      " lsoda--  at start of problem, too much accuracy   \u0000\u0000\n",
      "       requested for precision of machine..  see tolsf (=r1) \n",
      "      in above message,  r1 =                  NaN\n",
      " lsoda--  repeated occurrences of illegal input    \u0000 \n"
     ]
    },
    {
     "name": "stderr",
     "output_type": "stream",
     "text": [
      "  4%|▎         | 19/534 [00:03<01:18,  6.56it/s]"
     ]
    },
    {
     "name": "stdout",
     "output_type": "stream",
     "text": [
      " lsoda--  at start of problem, too much accuracy   \u0000\u0000\n",
      "       requested for precision of machine..  see tolsf (=r1) \n",
      "      in above message,  r1 =                  NaN\n",
      " lsoda--  repeated occurrences of illegal input    \u0000 \n",
      " lsoda--  at start of problem, too much accuracy   \u0000\u0000\n",
      "       requested for precision of machine..  see tolsf (=r1) \n",
      "      in above message,  r1 =                  NaN\n",
      " lsoda--  repeated occurrences of illegal input    \u0000 \n"
     ]
    },
    {
     "name": "stderr",
     "output_type": "stream",
     "text": [
      "  4%|▍         | 21/534 [00:03<01:18,  6.55it/s]"
     ]
    },
    {
     "name": "stdout",
     "output_type": "stream",
     "text": [
      " lsoda--  at start of problem, too much accuracy   \u0000\u0000\n",
      "       requested for precision of machine..  see tolsf (=r1) \n",
      "      in above message,  r1 =                  NaN\n",
      " lsoda--  repeated occurrences of illegal input    \u0000 \n",
      " lsoda--  at start of problem, too much accuracy   \u0000\u0000\n",
      "       requested for precision of machine..  see tolsf (=r1) \n",
      "      in above message,  r1 =                  NaN\n",
      " lsoda--  repeated occurrences of illegal input    \u0000 \n"
     ]
    },
    {
     "name": "stderr",
     "output_type": "stream",
     "text": [
      "  4%|▍         | 23/534 [00:03<01:18,  6.54it/s]"
     ]
    },
    {
     "name": "stdout",
     "output_type": "stream",
     "text": [
      " lsoda--  at start of problem, too much accuracy   \u0000\u0000\n",
      "       requested for precision of machine..  see tolsf (=r1) \n",
      "      in above message,  r1 =                  NaN\n",
      " lsoda--  repeated occurrences of illegal input    \u0000 \n",
      " lsoda--  at start of problem, too much accuracy   \u0000\u0000\n",
      "       requested for precision of machine..  see tolsf (=r1) \n",
      "      in above message,  r1 =                  NaN\n",
      " lsoda--  repeated occurrences of illegal input    \u0000 \n"
     ]
    },
    {
     "name": "stderr",
     "output_type": "stream",
     "text": [
      "  5%|▍         | 25/534 [00:03<01:18,  6.52it/s]"
     ]
    },
    {
     "name": "stdout",
     "output_type": "stream",
     "text": [
      " lsoda--  at start of problem, too much accuracy   \u0000\u0000\n",
      "       requested for precision of machine..  see tolsf (=r1) \n",
      "      in above message,  r1 =                  NaN\n",
      " lsoda--  repeated occurrences of illegal input    \u0000 \n",
      " lsoda--  at start of problem, too much accuracy   \u0000\u0000\n",
      "       requested for precision of machine..  see tolsf (=r1) \n",
      "      in above message,  r1 =                  NaN\n",
      " lsoda--  repeated occurrences of illegal input    \u0000 \n"
     ]
    },
    {
     "name": "stderr",
     "output_type": "stream",
     "text": [
      "  5%|▌         | 27/534 [00:04<01:17,  6.53it/s]"
     ]
    },
    {
     "name": "stdout",
     "output_type": "stream",
     "text": [
      " lsoda--  at start of problem, too much accuracy   \u0000\u0000\n",
      "       requested for precision of machine..  see tolsf (=r1) \n",
      "      in above message,  r1 =                  NaN\n",
      " lsoda--  repeated occurrences of illegal input    \u0000 \n",
      " lsoda--  at start of problem, too much accuracy   \u0000\u0000\n",
      "       requested for precision of machine..  see tolsf (=r1) \n",
      "      in above message,  r1 =                  NaN\n",
      " lsoda--  repeated occurrences of illegal input    \u0000 \n"
     ]
    },
    {
     "name": "stderr",
     "output_type": "stream",
     "text": [
      "  5%|▌         | 29/534 [00:04<01:17,  6.54it/s]"
     ]
    },
    {
     "name": "stdout",
     "output_type": "stream",
     "text": [
      " lsoda--  at start of problem, too much accuracy   \u0000\u0000\n",
      "       requested for precision of machine..  see tolsf (=r1) \n",
      "      in above message,  r1 =                  NaN\n",
      " lsoda--  repeated occurrences of illegal input    \u0000 \n",
      " lsoda--  at start of problem, too much accuracy   \u0000\u0000\n",
      "       requested for precision of machine..  see tolsf (=r1) \n",
      "      in above message,  r1 =                  NaN\n",
      " lsoda--  repeated occurrences of illegal input    \u0000 \n"
     ]
    },
    {
     "name": "stderr",
     "output_type": "stream",
     "text": [
      "  6%|▌         | 31/534 [00:04<01:16,  6.56it/s]"
     ]
    },
    {
     "name": "stdout",
     "output_type": "stream",
     "text": [
      " lsoda--  at start of problem, too much accuracy   \u0000\u0000\n",
      "       requested for precision of machine..  see tolsf (=r1) \n",
      "      in above message,  r1 =                  NaN\n",
      " lsoda--  repeated occurrences of illegal input    \u0000 \n",
      " lsoda--  at start of problem, too much accuracy   \u0000\u0000\n",
      "       requested for precision of machine..  see tolsf (=r1) \n",
      "      in above message,  r1 =                  NaN\n",
      " lsoda--  repeated occurrences of illegal input    \u0000 \n"
     ]
    },
    {
     "name": "stderr",
     "output_type": "stream",
     "text": [
      "  6%|▌         | 33/534 [00:05<01:16,  6.57it/s]"
     ]
    },
    {
     "name": "stdout",
     "output_type": "stream",
     "text": [
      " lsoda--  at start of problem, too much accuracy   \u0000\u0000\n",
      "       requested for precision of machine..  see tolsf (=r1) \n",
      "      in above message,  r1 =                  NaN\n",
      " lsoda--  repeated occurrences of illegal input    \u0000 \n",
      " lsoda--  at start of problem, too much accuracy   \u0000\u0000\n",
      "       requested for precision of machine..  see tolsf (=r1) \n",
      "      in above message,  r1 =                  NaN\n",
      " lsoda--  repeated occurrences of illegal input    \u0000 \n"
     ]
    },
    {
     "name": "stderr",
     "output_type": "stream",
     "text": [
      "  7%|▋         | 35/534 [00:05<01:16,  6.57it/s]"
     ]
    },
    {
     "name": "stdout",
     "output_type": "stream",
     "text": [
      " lsoda--  at start of problem, too much accuracy   \u0000\u0000\n",
      "       requested for precision of machine..  see tolsf (=r1) \n",
      "      in above message,  r1 =                  NaN\n",
      " lsoda--  repeated occurrences of illegal input    \u0000 \n",
      " lsoda--  at start of problem, too much accuracy   \u0000\u0000\n",
      "       requested for precision of machine..  see tolsf (=r1) \n",
      "      in above message,  r1 =                  NaN\n",
      " lsoda--  repeated occurrences of illegal input    \u0000 \n"
     ]
    },
    {
     "name": "stderr",
     "output_type": "stream",
     "text": [
      "  7%|▋         | 37/534 [00:05<01:16,  6.53it/s]"
     ]
    },
    {
     "name": "stdout",
     "output_type": "stream",
     "text": [
      " lsoda--  at start of problem, too much accuracy   \u0000\u0000\n",
      "       requested for precision of machine..  see tolsf (=r1) \n",
      "      in above message,  r1 =                  NaN\n",
      " lsoda--  repeated occurrences of illegal input    \u0000 \n",
      " lsoda--  at start of problem, too much accuracy   \u0000\u0000\n",
      "       requested for precision of machine..  see tolsf (=r1) \n",
      "      in above message,  r1 =                  NaN\n",
      " lsoda--  repeated occurrences of illegal input    \u0000 \n"
     ]
    },
    {
     "name": "stderr",
     "output_type": "stream",
     "text": [
      "  7%|▋         | 39/534 [00:06<01:16,  6.51it/s]"
     ]
    },
    {
     "name": "stdout",
     "output_type": "stream",
     "text": [
      " lsoda--  at start of problem, too much accuracy   \u0000\u0000\n",
      "       requested for precision of machine..  see tolsf (=r1) \n",
      "      in above message,  r1 =                  NaN\n",
      " lsoda--  repeated occurrences of illegal input    \u0000 \n",
      " lsoda--  at start of problem, too much accuracy   \u0000\u0000\n",
      "       requested for precision of machine..  see tolsf (=r1) \n",
      "      in above message,  r1 =                  NaN\n",
      " lsoda--  repeated occurrences of illegal input    \u0000 \n"
     ]
    },
    {
     "name": "stderr",
     "output_type": "stream",
     "text": [
      "  8%|▊         | 41/534 [00:06<01:15,  6.54it/s]"
     ]
    },
    {
     "name": "stdout",
     "output_type": "stream",
     "text": [
      " lsoda--  at start of problem, too much accuracy   \u0000\u0000\n",
      "       requested for precision of machine..  see tolsf (=r1) \n",
      "      in above message,  r1 =                  NaN\n",
      " lsoda--  repeated occurrences of illegal input    \u0000 \n",
      " lsoda--  at start of problem, too much accuracy   \u0000\u0000\n",
      "       requested for precision of machine..  see tolsf (=r1) \n",
      "      in above message,  r1 =                  NaN\n",
      " lsoda--  repeated occurrences of illegal input    \u0000 \n"
     ]
    },
    {
     "name": "stderr",
     "output_type": "stream",
     "text": [
      "  8%|▊         | 43/534 [00:06<01:15,  6.54it/s]"
     ]
    },
    {
     "name": "stdout",
     "output_type": "stream",
     "text": [
      " lsoda--  at start of problem, too much accuracy   \u0000\u0000\n",
      "       requested for precision of machine..  see tolsf (=r1) \n",
      "      in above message,  r1 =                  NaN\n",
      " lsoda--  repeated occurrences of illegal input    \u0000 \n",
      " lsoda--  at start of problem, too much accuracy   \u0000\u0000\n",
      "       requested for precision of machine..  see tolsf (=r1) \n",
      "      in above message,  r1 =                  NaN\n",
      " lsoda--  repeated occurrences of illegal input    \u0000 \n"
     ]
    },
    {
     "name": "stderr",
     "output_type": "stream",
     "text": [
      "  8%|▊         | 45/534 [00:07<01:15,  6.52it/s]"
     ]
    },
    {
     "name": "stdout",
     "output_type": "stream",
     "text": [
      " lsoda--  at start of problem, too much accuracy   \u0000\u0000\n",
      "       requested for precision of machine..  see tolsf (=r1) \n",
      "      in above message,  r1 =                  NaN\n",
      " lsoda--  repeated occurrences of illegal input    \u0000 \n",
      " lsoda--  at start of problem, too much accuracy   \u0000\u0000\n",
      "       requested for precision of machine..  see tolsf (=r1) \n",
      "      in above message,  r1 =                  NaN\n",
      " lsoda--  repeated occurrences of illegal input    \u0000 \n"
     ]
    },
    {
     "name": "stderr",
     "output_type": "stream",
     "text": [
      "  9%|▉         | 47/534 [00:07<01:14,  6.55it/s]"
     ]
    },
    {
     "name": "stdout",
     "output_type": "stream",
     "text": [
      " lsoda--  at start of problem, too much accuracy   \u0000\u0000\n",
      "       requested for precision of machine..  see tolsf (=r1) \n",
      "      in above message,  r1 =                  NaN\n",
      " lsoda--  repeated occurrences of illegal input    \u0000 \n",
      " lsoda--  at start of problem, too much accuracy   \u0000\u0000\n",
      "       requested for precision of machine..  see tolsf (=r1) \n",
      "      in above message,  r1 =                  NaN\n",
      " lsoda--  repeated occurrences of illegal input    \u0000 \n"
     ]
    },
    {
     "name": "stderr",
     "output_type": "stream",
     "text": [
      "  9%|▉         | 49/534 [00:07<01:13,  6.58it/s]"
     ]
    },
    {
     "name": "stdout",
     "output_type": "stream",
     "text": [
      " lsoda--  at start of problem, too much accuracy   \u0000\u0000\n",
      "       requested for precision of machine..  see tolsf (=r1) \n",
      "      in above message,  r1 =                  NaN\n",
      " lsoda--  repeated occurrences of illegal input    \u0000 \n",
      " lsoda--  at start of problem, too much accuracy   \u0000\u0000\n",
      "       requested for precision of machine..  see tolsf (=r1) \n",
      "      in above message,  r1 =                  NaN\n",
      " lsoda--  repeated occurrences of illegal input    \u0000 \n"
     ]
    },
    {
     "name": "stderr",
     "output_type": "stream",
     "text": [
      " 64%|██████▍   | 344/534 [00:54<00:30,  6.33it/s]WARNING:root:Setting coarsen_factor=1!\n",
      "WARNING:root:Setting dlnz=0.0009995003330834232!\n",
      "WARNING:root:Setting dt=2374411292420.487! dt/dt_old_normalized=0.996310\n",
      "2626it [01:53, 23.07it/s]                        \n"
     ]
    },
    {
     "name": "stdout",
     "output_type": "stream",
     "text": [
      "Main loop time: 113.814 s\n"
     ]
    }
   ],
   "source": [
    "run_name = 'xc_phph_noHe_lifetime25_zf001'\n",
    "tf_version = 'zf001'\n",
    "\n",
    "soln = evolve_DH(\n",
    "    DM_process=dm_params.mode, mDM=dm_params.m_DM,\n",
    "    primary=dm_params.primary,\n",
    "    sigmav=dm_params.sigmav, lifetime=dm_params.lifetime,\n",
    "    struct_boost=dm_params.struct_boost,\n",
    "    start_rs=3000, end_rs=4.+1, coarsen_factor=12, verbose=1,\n",
    "    # use fake reionization to get case-A recomb. coeff.\n",
    "    reion_switch=True, reion_rs=47.,\n",
    "    photoion_rate_func=[lambda x: 0., lambda x: 0., lambda x: 0.],\n",
    "    photoheat_rate_func=[lambda x: 0., lambda x: 0., lambda x: 0.],\n",
    "    cross_check_21cmfast=True,\n",
    "    cross_check_21cmfast_tf_version=tf_version,\n",
    "    debug_inject_ST_xray=False,\n",
    ")\n",
    "\n",
    "pickle.dump(soln, open(f\"{os.environ['DM21CM_DIR']}/outputs/dh/{run_name}_soln.p\", 'wb'))"
   ]
  },
  {
   "cell_type": "code",
   "execution_count": null,
   "metadata": {},
   "outputs": [],
   "source": []
  }
 ],
 "metadata": {
  "kernelspec": {
   "display_name": "dm21cm",
   "language": "python",
   "name": "python3"
  },
  "language_info": {
   "codemirror_mode": {
    "name": "ipython",
    "version": 3
   },
   "file_extension": ".py",
   "mimetype": "text/x-python",
   "name": "python",
   "nbconvert_exporter": "python",
   "pygments_lexer": "ipython3",
   "version": "3.11.5"
  }
 },
 "nbformat": 4,
 "nbformat_minor": 2
}
