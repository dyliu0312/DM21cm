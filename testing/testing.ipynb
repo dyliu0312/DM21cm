{
 "cells": [
  {
   "cell_type": "code",
   "execution_count": 1,
   "metadata": {},
   "outputs": [
    {
     "name": "stderr",
     "output_type": "stream",
     "text": [
      "/n/home07/yitians/.conda/envs/dm21cm/lib/python3.11/site-packages/py21cmfast/_cfg.py:58: UserWarning: Your configuration file is out of date. Updating...\n",
      "  warnings.warn(\n",
      "/n/home07/yitians/.conda/envs/dm21cm/lib/python3.11/site-packages/py21cmfast/_cfg.py:42: UserWarning: Your configuration file is out of date. Updating...\n",
      "  warnings.warn(\"Your configuration file is out of date. Updating...\")\n"
     ]
    }
   ],
   "source": [
    "%reload_ext autoreload\n",
    "%autoreload 2\n",
    "\n",
    "import os\n",
    "import sys\n",
    "\n",
    "from astropy.cosmology import Planck18\n",
    "import py21cmfast as p21c\n",
    "\n",
    "WDIR = os.environ['DM21CM_DIR']\n",
    "sys.path.append(WDIR)\n",
    "from dm21cm.dm_params import DMParams\n",
    "from dm21cm.evolve import evolve"
   ]
  },
  {
   "cell_type": "markdown",
   "metadata": {},
   "source": [
    "## xray"
   ]
  },
  {
   "cell_type": "markdown",
   "metadata": {},
   "source": [
    "21cmFAST: species term: ON. xray attenuation: ON. even-split-f: OFF."
   ]
  },
  {
   "cell_type": "code",
   "execution_count": 5,
   "metadata": {},
   "outputs": [
    {
     "name": "stderr",
     "output_type": "stream",
     "text": [
      "INFO:root:Using 21cmFAST version 0.1.dev1586+g60df221.d20231023\n",
      "INFO:root:Cache dir: /n/holyscratch01/iaifi_lab/yitians/21cmFAST-cache/test_xray\n",
      "INFO:root:TransferFunctionWrapper: Loaded photon transfer functions.\n"
     ]
    },
    {
     "name": "stdout",
     "output_type": "stream",
     "text": [
      "TsBox.c DEBUG:  zp = 4.484497e+01\n",
      "  E_heat = 0.000000e+00 eV/A\n",
      "  E_ion = 0.000000e+00 eV/A\n",
      "  E_lya = 0.000000e+00 eV/A\n",
      "  E_lya_star = 0.000000e+00 eV/A\n",
      "  E_(tot=heat+ion+lya) = 0.000000e+00 eV/A\n",
      "  frac_heat = -nan\n",
      "  frac_ion = -nan\n",
      "  frac_lya = -nan\n",
      "  (1.+curr_delNL0*growth_factor_zp) = 9.757347e-01\n",
      "zp = 4.484497e+01 E_tot_ave = 0.000000e+00\n"
     ]
    },
    {
     "name": "stderr",
     "output_type": "stream",
     "text": [
      "  0%|          | 0/57 [00:00<?, ?it/s]"
     ]
    },
    {
     "name": "stdout",
     "output_type": "stream",
     "text": [
      "TsBox.c DEBUG:  zp = 4.439106e+01\n",
      "  E_heat = 0.000000e+00 eV/A\n",
      "  E_ion = 0.000000e+00 eV/A\n",
      "  E_lya = 0.000000e+00 eV/A\n",
      "  E_lya_star = 0.000000e+00 eV/A\n",
      "  E_(tot=heat+ion+lya) = 0.000000e+00 eV/A\n",
      "  frac_heat = -nan\n",
      "  frac_ion = -nan\n",
      "  frac_lya = -nan\n",
      "  (1.+curr_delNL0*growth_factor_zp) = 9.755307e-01\n",
      "zp = 4.439106e+01 E_tot_ave = 0.000000e+00\n"
     ]
    },
    {
     "name": "stderr",
     "output_type": "stream",
     "text": [
      "  2%|▏         | 1/57 [00:01<01:15,  1.36s/it]"
     ]
    },
    {
     "name": "stdout",
     "output_type": "stream",
     "text": [
      "XCBATH-DEBUG: SHELL i_z=1 i_shell=0, raw 4.231e-01 eV/Msun\n",
      "XCBATH-DEBUG: SHELL i_z=1 i_shell=0, inject 1.767e-21 eV/Bavg\n"
     ]
    },
    {
     "name": "stderr",
     "output_type": "stream",
     "text": [
      "  4%|▎         | 2/57 [00:03<01:27,  1.59s/it]"
     ]
    },
    {
     "name": "stdout",
     "output_type": "stream",
     "text": [
      "TsBox.c DEBUG:  zp = 4.394164e+01\n",
      "  E_heat = 0.000000e+00 eV/A\n",
      "  E_ion = 0.000000e+00 eV/A\n",
      "  E_lya = 0.000000e+00 eV/A\n",
      "  E_lya_star = 0.000000e+00 eV/A\n",
      "  E_(tot=heat+ion+lya) = 0.000000e+00 eV/A\n",
      "  frac_heat = -nan\n",
      "  frac_ion = -nan\n",
      "  frac_lya = -nan\n",
      "  (1.+curr_delNL0*growth_factor_zp) = 9.753240e-01\n",
      "zp = 4.394164e+01 E_tot_ave = 0.000000e+00\n",
      "XCBATH-DEBUG: SHELL i_z=2 i_shell=0, raw 3.049e-01 eV/Msun\n",
      "XCBATH-DEBUG: SHELL i_z=2 i_shell=0, inject 1.096e-21 eV/Bavg\n",
      "XCBATH-DEBUG: SHELL i_z=2 i_shell=1, raw 4.231e-01 eV/Msun\n",
      "XCBATH-DEBUG: SHELL i_z=2 i_shell=1, inject 3.701e-21 eV/Bavg\n"
     ]
    },
    {
     "name": "stderr",
     "output_type": "stream",
     "text": [
      "  5%|▌         | 3/57 [00:03<01:04,  1.20s/it]"
     ]
    },
    {
     "name": "stdout",
     "output_type": "stream",
     "text": [
      "TsBox.c DEBUG:  zp = 4.349667e+01\n",
      "  E_heat = 0.000000e+00 eV/A\n",
      "  E_ion = 0.000000e+00 eV/A\n",
      "  E_lya = 0.000000e+00 eV/A\n",
      "  E_lya_star = 0.000000e+00 eV/A\n",
      "  E_(tot=heat+ion+lya) = 0.000000e+00 eV/A\n",
      "  frac_heat = -nan\n",
      "  frac_ion = -nan\n",
      "  frac_lya = -nan\n",
      "  (1.+curr_delNL0*growth_factor_zp) = 9.751144e-01\n",
      "zp = 4.349667e+01 E_tot_ave = 0.000000e+00\n",
      "XCBATH-DEBUG: SHELL i_z=3 i_shell=0, raw 2.813e-01 eV/Msun\n",
      "XCBATH-DEBUG: SHELL i_z=3 i_shell=0, inject 1.014e-21 eV/Bavg\n",
      "XCBATH-DEBUG: SHELL i_z=3 i_shell=1, raw 3.055e-01 eV/Msun\n",
      "XCBATH-DEBUG: SHELL i_z=3 i_shell=1, inject 2.298e-21 eV/Bavg\n",
      "XCBATH-DEBUG: SHELL i_z=3 i_shell=2, raw 4.231e-01 eV/Msun\n",
      "XCBATH-DEBUG: SHELL i_z=3 i_shell=2, inject 7.930e-21 eV/Bavg\n"
     ]
    },
    {
     "name": "stderr",
     "output_type": "stream",
     "text": [
      "  7%|▋         | 4/57 [00:04<00:55,  1.06s/it]"
     ]
    },
    {
     "name": "stdout",
     "output_type": "stream",
     "text": [
      "TsBox.c DEBUG:  zp = 4.305611e+01\n",
      "  E_heat = 0.000000e+00 eV/A\n",
      "  E_ion = 0.000000e+00 eV/A\n",
      "  E_lya = 0.000000e+00 eV/A\n",
      "  E_lya_star = 0.000000e+00 eV/A\n",
      "  E_(tot=heat+ion+lya) = 0.000000e+00 eV/A\n",
      "  frac_heat = -nan\n",
      "  frac_ion = -nan\n",
      "  frac_lya = -nan\n",
      "  (1.+curr_delNL0*growth_factor_zp) = 9.749020e-01\n",
      "zp = 4.305611e+01 E_tot_ave = 0.000000e+00\n",
      "XCBATH-DEBUG: SHELL i_z=4 i_shell=0, raw 2.647e-01 eV/Msun\n",
      "XCBATH-DEBUG: SHELL i_z=4 i_shell=0, inject 9.663e-22 eV/Bavg\n",
      "XCBATH-DEBUG: SHELL i_z=4 i_shell=1, raw 2.819e-01 eV/Msun\n",
      "XCBATH-DEBUG: SHELL i_z=4 i_shell=1, inject 2.126e-21 eV/Bavg\n",
      "XCBATH-DEBUG: SHELL i_z=4 i_shell=2, raw 3.060e-01 eV/Msun\n",
      "XCBATH-DEBUG: SHELL i_z=4 i_shell=2, inject 4.931e-21 eV/Bavg\n",
      "XCBATH-DEBUG: SHELL i_z=4 i_shell=3, raw 4.231e-01 eV/Msun\n",
      "XCBATH-DEBUG: SHELL i_z=4 i_shell=3, inject 1.660e-20 eV/Bavg\n"
     ]
    },
    {
     "name": "stderr",
     "output_type": "stream",
     "text": [
      "  9%|▉         | 5/57 [00:05<00:56,  1.08s/it]"
     ]
    },
    {
     "name": "stdout",
     "output_type": "stream",
     "text": [
      "TsBox.c DEBUG:  zp = 4.261991e+01\n",
      "  E_heat = 0.000000e+00 eV/A\n",
      "  E_ion = 0.000000e+00 eV/A\n",
      "  E_lya = 0.000000e+00 eV/A\n",
      "  E_lya_star = 0.000000e+00 eV/A\n",
      "  E_(tot=heat+ion+lya) = 0.000000e+00 eV/A\n",
      "  frac_heat = -nan\n",
      "  frac_ion = -nan\n",
      "  frac_lya = -nan\n",
      "  (1.+curr_delNL0*growth_factor_zp) = 9.746868e-01\n",
      "zp = 4.261991e+01 E_tot_ave = 0.000000e+00\n",
      "XCBATH-DEBUG: SHELL i_z=5 i_shell=0, raw 2.516e-01 eV/Msun\n",
      "XCBATH-DEBUG: SHELL i_z=5 i_shell=0, inject 9.323e-22 eV/Bavg\n",
      "XCBATH-DEBUG: SHELL i_z=5 i_shell=1, raw 2.653e-01 eV/Msun\n",
      "XCBATH-DEBUG: SHELL i_z=5 i_shell=1, inject 2.027e-21 eV/Bavg\n",
      "XCBATH-DEBUG: SHELL i_z=5 i_shell=2, raw 2.825e-01 eV/Msun\n",
      "XCBATH-DEBUG: SHELL i_z=5 i_shell=2, inject 4.564e-21 eV/Bavg\n",
      "XCBATH-DEBUG: SHELL i_z=5 i_shell=3, raw 3.066e-01 eV/Msun\n",
      "XCBATH-DEBUG: SHELL i_z=5 i_shell=3, inject 1.034e-20 eV/Bavg\n",
      "XCBATH-DEBUG: SHELL i_z=5 i_shell=4, raw 4.231e-01 eV/Msun\n",
      "XCBATH-DEBUG: SHELL i_z=5 i_shell=4, inject 3.413e-20 eV/Bavg\n"
     ]
    },
    {
     "name": "stderr",
     "output_type": "stream",
     "text": [
      " 11%|█         | 6/57 [00:06<00:54,  1.07s/it]"
     ]
    },
    {
     "name": "stdout",
     "output_type": "stream",
     "text": [
      "TsBox.c DEBUG:  zp = 4.218803e+01\n",
      "  E_heat = 0.000000e+00 eV/A\n",
      "  E_ion = 0.000000e+00 eV/A\n",
      "  E_lya = 0.000000e+00 eV/A\n",
      "  E_lya_star = 0.000000e+00 eV/A\n",
      "  E_(tot=heat+ion+lya) = 0.000000e+00 eV/A\n",
      "  frac_heat = -nan\n",
      "  frac_ion = -nan\n",
      "  frac_lya = -nan\n",
      "  (1.+curr_delNL0*growth_factor_zp) = 9.744686e-01\n",
      "zp = 4.218803e+01 E_tot_ave = 0.000000e+00\n",
      "XCBATH-DEBUG: SHELL i_z=6 i_shell=0, raw 2.408e-01 eV/Msun\n",
      "XCBATH-DEBUG: SHELL i_z=6 i_shell=0, inject 9.055e-22 eV/Bavg\n",
      "XCBATH-DEBUG: SHELL i_z=6 i_shell=1, raw 2.522e-01 eV/Msun\n",
      "XCBATH-DEBUG: SHELL i_z=6 i_shell=1, inject 1.956e-21 eV/Bavg\n",
      "XCBATH-DEBUG: SHELL i_z=6 i_shell=2, raw 2.659e-01 eV/Msun\n",
      "XCBATH-DEBUG: SHELL i_z=6 i_shell=2, inject 4.352e-21 eV/Bavg\n",
      "XCBATH-DEBUG: SHELL i_z=6 i_shell=3, raw 2.831e-01 eV/Msun\n",
      "XCBATH-DEBUG: SHELL i_z=6 i_shell=3, inject 9.570e-21 eV/Bavg\n",
      "XCBATH-DEBUG: SHELL i_z=6 i_shell=4, raw 3.072e-01 eV/Msun\n",
      "XCBATH-DEBUG: SHELL i_z=6 i_shell=4, inject 2.125e-20 eV/Bavg\n",
      "XCBATH-DEBUG: SHELL i_z=6 i_shell=5, raw 4.231e-01 eV/Msun\n",
      "XCBATH-DEBUG: SHELL i_z=6 i_shell=5, inject 6.899e-20 eV/Bavg\n"
     ]
    },
    {
     "name": "stderr",
     "output_type": "stream",
     "text": [
      " 12%|█▏        | 7/57 [00:08<00:55,  1.12s/it]"
     ]
    },
    {
     "name": "stdout",
     "output_type": "stream",
     "text": [
      "TsBox.c DEBUG:  zp = 4.176043e+01\n",
      "  E_heat = 0.000000e+00 eV/A\n",
      "  E_ion = 0.000000e+00 eV/A\n",
      "  E_lya = 0.000000e+00 eV/A\n",
      "  E_lya_star = 0.000000e+00 eV/A\n",
      "  E_(tot=heat+ion+lya) = 0.000000e+00 eV/A\n",
      "  frac_heat = -nan\n",
      "  frac_ion = -nan\n",
      "  frac_lya = -nan\n",
      "  (1.+curr_delNL0*growth_factor_zp) = 9.742473e-01\n",
      "zp = 4.176043e+01 E_tot_ave = 0.000000e+00\n",
      "XCBATH-DEBUG: SHELL i_z=7 i_shell=0, raw 2.314e-01 eV/Msun\n",
      "XCBATH-DEBUG: SHELL i_z=7 i_shell=0, inject 8.834e-22 eV/Bavg\n",
      "XCBATH-DEBUG: SHELL i_z=7 i_shell=1, raw 2.414e-01 eV/Msun\n",
      "XCBATH-DEBUG: SHELL i_z=7 i_shell=1, inject 1.900e-21 eV/Bavg\n",
      "XCBATH-DEBUG: SHELL i_z=7 i_shell=2, raw 2.528e-01 eV/Msun\n",
      "XCBATH-DEBUG: SHELL i_z=7 i_shell=2, inject 4.200e-21 eV/Bavg\n",
      "XCBATH-DEBUG: SHELL i_z=7 i_shell=3, raw 2.665e-01 eV/Msun\n",
      "XCBATH-DEBUG: SHELL i_z=7 i_shell=3, inject 9.128e-21 eV/Bavg\n",
      "XCBATH-DEBUG: SHELL i_z=7 i_shell=4, raw 2.838e-01 eV/Msun\n",
      "XCBATH-DEBUG: SHELL i_z=7 i_shell=4, inject 1.968e-20 eV/Bavg\n",
      "XCBATH-DEBUG: SHELL i_z=7 i_shell=5, raw 3.077e-01 eV/Msun\n",
      "XCBATH-DEBUG: SHELL i_z=7 i_shell=5, inject 4.295e-20 eV/Bavg\n",
      "XCBATH-DEBUG: SHELL i_z=7 i_shell=6, raw 4.231e-01 eV/Msun\n",
      "XCBATH-DEBUG: SHELL i_z=7 i_shell=6, inject 1.374e-19 eV/Bavg\n"
     ]
    },
    {
     "name": "stderr",
     "output_type": "stream",
     "text": [
      " 14%|█▍        | 8/57 [00:09<01:00,  1.23s/it]"
     ]
    },
    {
     "name": "stdout",
     "output_type": "stream",
     "text": [
      "TsBox.c DEBUG:  zp = 4.133706e+01\n",
      "  E_heat = 0.000000e+00 eV/A\n",
      "  E_ion = 0.000000e+00 eV/A\n",
      "  E_lya = 0.000000e+00 eV/A\n",
      "  E_lya_star = 0.000000e+00 eV/A\n",
      "  E_(tot=heat+ion+lya) = 0.000000e+00 eV/A\n",
      "  frac_heat = -nan\n",
      "  frac_ion = -nan\n",
      "  frac_lya = -nan\n",
      "  (1.+curr_delNL0*growth_factor_zp) = 9.740230e-01\n",
      "zp = 4.133706e+01 E_tot_ave = 0.000000e+00\n",
      "XCBATH-DEBUG: SHELL i_z=8 i_shell=0, raw 2.232e-01 eV/Msun\n",
      "XCBATH-DEBUG: SHELL i_z=8 i_shell=0, inject 8.647e-22 eV/Bavg\n",
      "XCBATH-DEBUG: SHELL i_z=8 i_shell=1, raw 2.320e-01 eV/Msun\n",
      "XCBATH-DEBUG: SHELL i_z=8 i_shell=1, inject 1.854e-21 eV/Bavg\n",
      "XCBATH-DEBUG: SHELL i_z=8 i_shell=2, raw 2.419e-01 eV/Msun\n",
      "XCBATH-DEBUG: SHELL i_z=8 i_shell=2, inject 4.080e-21 eV/Bavg\n",
      "XCBATH-DEBUG: SHELL i_z=8 i_shell=3, raw 2.534e-01 eV/Msun\n",
      "XCBATH-DEBUG: SHELL i_z=8 i_shell=3, inject 8.809e-21 eV/Bavg\n",
      "XCBATH-DEBUG: SHELL i_z=8 i_shell=4, raw 2.671e-01 eV/Msun\n",
      "XCBATH-DEBUG: SHELL i_z=8 i_shell=4, inject 1.877e-20 eV/Bavg\n",
      "XCBATH-DEBUG: SHELL i_z=8 i_shell=5, raw 2.844e-01 eV/Msun\n",
      "XCBATH-DEBUG: SHELL i_z=8 i_shell=5, inject 3.980e-20 eV/Bavg\n",
      "XCBATH-DEBUG: SHELL i_z=8 i_shell=6, raw 3.083e-01 eV/Msun\n",
      "XCBATH-DEBUG: SHELL i_z=8 i_shell=6, inject 8.556e-20 eV/Bavg\n",
      "XCBATH-DEBUG: SHELL i_z=8 i_shell=7, raw 4.231e-01 eV/Msun\n",
      "XCBATH-DEBUG: SHELL i_z=8 i_shell=7, inject 2.698e-19 eV/Bavg\n"
     ]
    },
    {
     "name": "stderr",
     "output_type": "stream",
     "text": [
      " 16%|█▌        | 9/57 [00:11<01:04,  1.34s/it]"
     ]
    },
    {
     "name": "stdout",
     "output_type": "stream",
     "text": [
      "TsBox.c DEBUG:  zp = 4.091788e+01\n",
      "  E_heat = 0.000000e+00 eV/A\n",
      "  E_ion = 0.000000e+00 eV/A\n",
      "  E_lya = 0.000000e+00 eV/A\n",
      "  E_lya_star = 0.000000e+00 eV/A\n",
      "  E_(tot=heat+ion+lya) = 0.000000e+00 eV/A\n",
      "  frac_heat = -nan\n",
      "  frac_ion = -nan\n",
      "  frac_lya = -nan\n",
      "  (1.+curr_delNL0*growth_factor_zp) = 9.737958e-01\n",
      "zp = 4.091788e+01 E_tot_ave = 0.000000e+00\n",
      "XCBATH-DEBUG: SHELL i_z=9 i_shell=0, raw 2.157e-01 eV/Msun\n",
      "XCBATH-DEBUG: SHELL i_z=9 i_shell=0, inject 8.486e-22 eV/Bavg\n",
      "XCBATH-DEBUG: SHELL i_z=9 i_shell=1, raw 2.237e-01 eV/Msun\n",
      "XCBATH-DEBUG: SHELL i_z=9 i_shell=1, inject 1.815e-21 eV/Bavg\n",
      "XCBATH-DEBUG: SHELL i_z=9 i_shell=2, raw 2.326e-01 eV/Msun\n",
      "XCBATH-DEBUG: SHELL i_z=9 i_shell=2, inject 3.981e-21 eV/Bavg\n",
      "XCBATH-DEBUG: SHELL i_z=9 i_shell=3, raw 2.425e-01 eV/Msun\n",
      "XCBATH-DEBUG: SHELL i_z=9 i_shell=3, inject 8.558e-21 eV/Bavg\n",
      "XCBATH-DEBUG: SHELL i_z=9 i_shell=4, raw 2.540e-01 eV/Msun\n",
      "XCBATH-DEBUG: SHELL i_z=9 i_shell=4, inject 1.812e-20 eV/Bavg\n",
      "XCBATH-DEBUG: SHELL i_z=9 i_shell=5, raw 2.677e-01 eV/Msun\n",
      "XCBATH-DEBUG: SHELL i_z=9 i_shell=5, inject 3.797e-20 eV/Bavg\n",
      "XCBATH-DEBUG: SHELL i_z=9 i_shell=6, raw 2.850e-01 eV/Msun\n",
      "XCBATH-DEBUG: SHELL i_z=9 i_shell=6, inject 7.931e-20 eV/Bavg\n",
      "XCBATH-DEBUG: SHELL i_z=9 i_shell=7, raw 3.088e-01 eV/Msun\n",
      "XCBATH-DEBUG: SHELL i_z=9 i_shell=7, inject 1.682e-19 eV/Bavg\n",
      "XCBATH-DEBUG: SHELL i_z=9 i_shell=8, raw 4.231e-01 eV/Msun\n",
      "XCBATH-DEBUG: SHELL i_z=9 i_shell=8, inject 5.236e-19 eV/Bavg\n"
     ]
    },
    {
     "name": "stderr",
     "output_type": "stream",
     "text": [
      " 18%|█▊        | 10/57 [00:12<01:09,  1.48s/it]"
     ]
    },
    {
     "name": "stdout",
     "output_type": "stream",
     "text": [
      "TsBox.c DEBUG:  zp = 4.050285e+01\n",
      "  E_heat = 0.000000e+00 eV/A\n",
      "  E_ion = 0.000000e+00 eV/A\n",
      "  E_lya = 0.000000e+00 eV/A\n",
      "  E_lya_star = 0.000000e+00 eV/A\n",
      "  E_(tot=heat+ion+lya) = 0.000000e+00 eV/A\n",
      "  frac_heat = -nan\n",
      "  frac_ion = -nan\n",
      "  frac_lya = -nan\n",
      "  (1.+curr_delNL0*growth_factor_zp) = 9.735653e-01\n",
      "zp = 4.050285e+01 E_tot_ave = 0.000000e+00\n",
      "XCBATH-DEBUG: SHELL i_z=10 i_shell=0, raw 2.090e-01 eV/Msun\n",
      "XCBATH-DEBUG: SHELL i_z=10 i_shell=0, inject 8.344e-22 eV/Bavg\n",
      "XCBATH-DEBUG: SHELL i_z=10 i_shell=1, raw 2.163e-01 eV/Msun\n",
      "XCBATH-DEBUG: SHELL i_z=10 i_shell=1, inject 1.781e-21 eV/Bavg\n",
      "XCBATH-DEBUG: SHELL i_z=10 i_shell=2, raw 2.243e-01 eV/Msun\n",
      "XCBATH-DEBUG: SHELL i_z=10 i_shell=2, inject 3.898e-21 eV/Bavg\n",
      "XCBATH-DEBUG: SHELL i_z=10 i_shell=3, raw 2.332e-01 eV/Msun\n",
      "XCBATH-DEBUG: SHELL i_z=10 i_shell=3, inject 8.352e-21 eV/Bavg\n",
      "XCBATH-DEBUG: SHELL i_z=10 i_shell=4, raw 2.431e-01 eV/Msun\n",
      "XCBATH-DEBUG: SHELL i_z=10 i_shell=4, inject 1.761e-20 eV/Bavg\n",
      "XCBATH-DEBUG: SHELL i_z=10 i_shell=5, raw 2.546e-01 eV/Msun\n",
      "XCBATH-DEBUG: SHELL i_z=10 i_shell=5, inject 3.665e-20 eV/Bavg\n",
      "XCBATH-DEBUG: SHELL i_z=10 i_shell=6, raw 2.683e-01 eV/Msun\n",
      "XCBATH-DEBUG: SHELL i_z=10 i_shell=6, inject 7.569e-20 eV/Bavg\n",
      "XCBATH-DEBUG: SHELL i_z=10 i_shell=7, raw 2.856e-01 eV/Msun\n",
      "XCBATH-DEBUG: SHELL i_z=10 i_shell=7, inject 1.560e-19 eV/Bavg\n",
      "XCBATH-DEBUG: SHELL i_z=10 i_shell=8, raw 3.094e-01 eV/Msun\n",
      "XCBATH-DEBUG: SHELL i_z=10 i_shell=8, inject 3.267e-19 eV/Bavg\n",
      "XCBATH-DEBUG: SHELL i_z=10 i_shell=9, raw 4.231e-01 eV/Msun\n",
      "XCBATH-DEBUG: SHELL i_z=10 i_shell=9, inject 1.004e-18 eV/Bavg\n"
     ]
    },
    {
     "name": "stderr",
     "output_type": "stream",
     "text": [
      " 19%|█▉        | 11/57 [00:15<01:18,  1.70s/it]"
     ]
    },
    {
     "name": "stdout",
     "output_type": "stream",
     "text": [
      "TsBox.c DEBUG:  zp = 4.009193e+01\n",
      "  E_heat = 0.000000e+00 eV/A\n",
      "  E_ion = 0.000000e+00 eV/A\n",
      "  E_lya = 0.000000e+00 eV/A\n",
      "  E_lya_star = 0.000000e+00 eV/A\n",
      "  E_(tot=heat+ion+lya) = 0.000000e+00 eV/A\n",
      "  frac_heat = -nan\n",
      "  frac_ion = -nan\n",
      "  frac_lya = -nan\n",
      "  (1.+curr_delNL0*growth_factor_zp) = 9.733318e-01\n",
      "zp = 4.009193e+01 E_tot_ave = 0.000000e+00\n",
      "XCBATH-DEBUG: SHELL i_z=11 i_shell=0, raw 2.027e-01 eV/Msun\n",
      "XCBATH-DEBUG: SHELL i_z=11 i_shell=0, inject 8.218e-22 eV/Bavg\n",
      "XCBATH-DEBUG: SHELL i_z=11 i_shell=1, raw 2.095e-01 eV/Msun\n",
      "XCBATH-DEBUG: SHELL i_z=11 i_shell=1, inject 1.751e-21 eV/Bavg\n",
      "XCBATH-DEBUG: SHELL i_z=11 i_shell=2, raw 2.169e-01 eV/Msun\n",
      "XCBATH-DEBUG: SHELL i_z=11 i_shell=2, inject 3.826e-21 eV/Bavg\n",
      "XCBATH-DEBUG: SHELL i_z=11 i_shell=3, raw 2.249e-01 eV/Msun\n",
      "XCBATH-DEBUG: SHELL i_z=11 i_shell=3, inject 8.177e-21 eV/Bavg\n",
      "XCBATH-DEBUG: SHELL i_z=11 i_shell=4, raw 2.338e-01 eV/Msun\n",
      "XCBATH-DEBUG: SHELL i_z=11 i_shell=4, inject 1.718e-20 eV/Bavg\n",
      "XCBATH-DEBUG: SHELL i_z=11 i_shell=5, raw 2.438e-01 eV/Msun\n",
      "XCBATH-DEBUG: SHELL i_z=11 i_shell=5, inject 3.562e-20 eV/Bavg\n",
      "XCBATH-DEBUG: SHELL i_z=11 i_shell=6, raw 2.552e-01 eV/Msun\n",
      "XCBATH-DEBUG: SHELL i_z=11 i_shell=6, inject 7.307e-20 eV/Bavg\n",
      "XCBATH-DEBUG: SHELL i_z=11 i_shell=7, raw 2.690e-01 eV/Msun\n",
      "XCBATH-DEBUG: SHELL i_z=11 i_shell=7, inject 1.489e-19 eV/Bavg\n",
      "XCBATH-DEBUG: SHELL i_z=11 i_shell=8, raw 2.862e-01 eV/Msun\n",
      "XCBATH-DEBUG: SHELL i_z=11 i_shell=8, inject 3.031e-19 eV/Bavg\n",
      "XCBATH-DEBUG: SHELL i_z=11 i_shell=9, raw 3.099e-01 eV/Msun\n",
      "XCBATH-DEBUG: SHELL i_z=11 i_shell=9, inject 6.274e-19 eV/Bavg\n",
      "XCBATH-DEBUG: SHELL i_z=11 i_shell=10, raw 4.231e-01 eV/Msun\n",
      "XCBATH-DEBUG: SHELL i_z=11 i_shell=10, inject 1.906e-18 eV/Bavg\n"
     ]
    },
    {
     "name": "stderr",
     "output_type": "stream",
     "text": [
      " 21%|██        | 12/57 [00:17<01:21,  1.82s/it]"
     ]
    },
    {
     "name": "stdout",
     "output_type": "stream",
     "text": [
      "TsBox.c DEBUG:  zp = 3.968508e+01\n",
      "  E_heat = 0.000000e+00 eV/A\n",
      "  E_ion = 0.000000e+00 eV/A\n",
      "  E_lya = 0.000000e+00 eV/A\n",
      "  E_lya_star = 0.000000e+00 eV/A\n",
      "  E_(tot=heat+ion+lya) = 0.000000e+00 eV/A\n",
      "  frac_heat = -nan\n",
      "  frac_ion = -nan\n",
      "  frac_lya = -nan\n",
      "  (1.+curr_delNL0*growth_factor_zp) = 9.730948e-01\n",
      "zp = 3.968508e+01 E_tot_ave = 0.000000e+00\n",
      "XCBATH-DEBUG: SHELL i_z=12 i_shell=0, raw 1.970e-01 eV/Msun\n",
      "XCBATH-DEBUG: SHELL i_z=12 i_shell=0, inject 8.104e-22 eV/Bavg\n",
      "XCBATH-DEBUG: SHELL i_z=12 i_shell=1, raw 2.033e-01 eV/Msun\n",
      "XCBATH-DEBUG: SHELL i_z=12 i_shell=1, inject 1.725e-21 eV/Bavg\n",
      "XCBATH-DEBUG: SHELL i_z=12 i_shell=2, raw 2.101e-01 eV/Msun\n",
      "XCBATH-DEBUG: SHELL i_z=12 i_shell=2, inject 3.762e-21 eV/Bavg\n",
      "XCBATH-DEBUG: SHELL i_z=12 i_shell=3, raw 2.175e-01 eV/Msun\n",
      "XCBATH-DEBUG: SHELL i_z=12 i_shell=3, inject 8.026e-21 eV/Bavg\n",
      "XCBATH-DEBUG: SHELL i_z=12 i_shell=4, raw 2.255e-01 eV/Msun\n",
      "XCBATH-DEBUG: SHELL i_z=12 i_shell=4, inject 1.682e-20 eV/Bavg\n",
      "XCBATH-DEBUG: SHELL i_z=12 i_shell=5, raw 2.344e-01 eV/Msun\n",
      "XCBATH-DEBUG: SHELL i_z=12 i_shell=5, inject 3.476e-20 eV/Bavg\n",
      "XCBATH-DEBUG: SHELL i_z=12 i_shell=6, raw 2.444e-01 eV/Msun\n",
      "XCBATH-DEBUG: SHELL i_z=12 i_shell=6, inject 7.101e-20 eV/Bavg\n",
      "XCBATH-DEBUG: SHELL i_z=12 i_shell=7, raw 2.559e-01 eV/Msun\n",
      "XCBATH-DEBUG: SHELL i_z=12 i_shell=7, inject 1.438e-19 eV/Bavg\n",
      "XCBATH-DEBUG: SHELL i_z=12 i_shell=8, raw 2.696e-01 eV/Msun\n",
      "XCBATH-DEBUG: SHELL i_z=12 i_shell=8, inject 2.894e-19 eV/Bavg\n",
      "XCBATH-DEBUG: SHELL i_z=12 i_shell=9, raw 2.868e-01 eV/Msun\n",
      "XCBATH-DEBUG: SHELL i_z=12 i_shell=9, inject 5.824e-19 eV/Bavg\n",
      "XCBATH-DEBUG: SHELL i_z=12 i_shell=10, raw 3.104e-01 eV/Msun\n",
      "XCBATH-DEBUG: SHELL i_z=12 i_shell=10, inject 1.192e-18 eV/Bavg\n",
      "XCBATH-DEBUG: SHELL i_z=12 i_shell=11, raw 4.231e-01 eV/Msun\n",
      "XCBATH-DEBUG: SHELL i_z=12 i_shell=11, inject 3.585e-18 eV/Bavg\n"
     ]
    },
    {
     "name": "stderr",
     "output_type": "stream",
     "text": [
      " 23%|██▎       | 13/57 [00:19<01:22,  1.88s/it]"
     ]
    },
    {
     "name": "stdout",
     "output_type": "stream",
     "text": [
      "TsBox.c DEBUG:  zp = 3.928226e+01\n",
      "  E_heat = 0.000000e+00 eV/A\n",
      "  E_ion = 0.000000e+00 eV/A\n",
      "  E_lya = 0.000000e+00 eV/A\n",
      "  E_lya_star = 0.000000e+00 eV/A\n",
      "  E_(tot=heat+ion+lya) = 0.000000e+00 eV/A\n",
      "  frac_heat = -nan\n",
      "  frac_ion = -nan\n",
      "  frac_lya = -nan\n",
      "  (1.+curr_delNL0*growth_factor_zp) = 9.728547e-01\n",
      "zp = 3.928226e+01 E_tot_ave = 0.000000e+00\n",
      "XCBATH-DEBUG: SHELL i_z=13 i_shell=0, raw 1.916e-01 eV/Msun\n",
      "XCBATH-DEBUG: SHELL i_z=13 i_shell=0, inject 8.001e-22 eV/Bavg\n",
      "XCBATH-DEBUG: SHELL i_z=13 i_shell=1, raw 1.975e-01 eV/Msun\n",
      "XCBATH-DEBUG: SHELL i_z=13 i_shell=1, inject 1.701e-21 eV/Bavg\n",
      "XCBATH-DEBUG: SHELL i_z=13 i_shell=2, raw 2.039e-01 eV/Msun\n",
      "XCBATH-DEBUG: SHELL i_z=13 i_shell=2, inject 3.706e-21 eV/Bavg\n",
      "XCBATH-DEBUG: SHELL i_z=13 i_shell=3, raw 2.107e-01 eV/Msun\n",
      "XCBATH-DEBUG: SHELL i_z=13 i_shell=3, inject 7.893e-21 eV/Bavg\n",
      "XCBATH-DEBUG: SHELL i_z=13 i_shell=4, raw 2.181e-01 eV/Msun\n",
      "XCBATH-DEBUG: SHELL i_z=13 i_shell=4, inject 1.651e-20 eV/Bavg\n",
      "XCBATH-DEBUG: SHELL i_z=13 i_shell=5, raw 2.261e-01 eV/Msun\n",
      "XCBATH-DEBUG: SHELL i_z=13 i_shell=5, inject 3.404e-20 eV/Bavg\n",
      "XCBATH-DEBUG: SHELL i_z=13 i_shell=6, raw 2.350e-01 eV/Msun\n",
      "XCBATH-DEBUG: SHELL i_z=13 i_shell=6, inject 6.931e-20 eV/Bavg\n",
      "XCBATH-DEBUG: SHELL i_z=13 i_shell=7, raw 2.450e-01 eV/Msun\n",
      "XCBATH-DEBUG: SHELL i_z=13 i_shell=7, inject 1.397e-19 eV/Bavg\n",
      "XCBATH-DEBUG: SHELL i_z=13 i_shell=8, raw 2.565e-01 eV/Msun\n",
      "XCBATH-DEBUG: SHELL i_z=13 i_shell=8, inject 2.794e-19 eV/Bavg\n",
      "XCBATH-DEBUG: SHELL i_z=13 i_shell=9, raw 2.702e-01 eV/Msun\n",
      "XCBATH-DEBUG: SHELL i_z=13 i_shell=9, inject 5.561e-19 eV/Bavg\n",
      "XCBATH-DEBUG: SHELL i_z=13 i_shell=10, raw 2.874e-01 eV/Msun\n",
      "XCBATH-DEBUG: SHELL i_z=13 i_shell=10, inject 1.107e-18 eV/Bavg\n",
      "XCBATH-DEBUG: SHELL i_z=13 i_shell=11, raw 3.110e-01 eV/Msun\n",
      "XCBATH-DEBUG: SHELL i_z=13 i_shell=11, inject 2.242e-18 eV/Bavg\n",
      "XCBATH-DEBUG: SHELL i_z=13 i_shell=12, raw 4.231e-01 eV/Msun\n",
      "XCBATH-DEBUG: SHELL i_z=13 i_shell=12, inject 6.677e-18 eV/Bavg\n"
     ]
    },
    {
     "name": "stderr",
     "output_type": "stream",
     "text": [
      " 25%|██▍       | 14/57 [00:21<01:27,  2.03s/it]"
     ]
    },
    {
     "name": "stdout",
     "output_type": "stream",
     "text": [
      "TsBox.c DEBUG:  zp = 3.888342e+01\n",
      "  E_heat = 0.000000e+00 eV/A\n",
      "  E_ion = 0.000000e+00 eV/A\n",
      "  E_lya = 0.000000e+00 eV/A\n",
      "  E_lya_star = 0.000000e+00 eV/A\n",
      "  E_(tot=heat+ion+lya) = 0.000000e+00 eV/A\n",
      "  frac_heat = -nan\n",
      "  frac_ion = -nan\n",
      "  frac_lya = -nan\n",
      "  (1.+curr_delNL0*growth_factor_zp) = 9.726112e-01\n",
      "zp = 3.888342e+01 E_tot_ave = 0.000000e+00\n",
      "XCBATH-DEBUG: SHELL i_z=14 i_shell=0, raw 1.865e-01 eV/Msun\n",
      "XCBATH-DEBUG: SHELL i_z=14 i_shell=0, inject 7.907e-22 eV/Bavg\n",
      "XCBATH-DEBUG: SHELL i_z=14 i_shell=1, raw 1.921e-01 eV/Msun\n",
      "XCBATH-DEBUG: SHELL i_z=14 i_shell=1, inject 1.680e-21 eV/Bavg\n",
      "XCBATH-DEBUG: SHELL i_z=14 i_shell=2, raw 1.981e-01 eV/Msun\n",
      "XCBATH-DEBUG: SHELL i_z=14 i_shell=2, inject 3.655e-21 eV/Bavg\n",
      "XCBATH-DEBUG: SHELL i_z=14 i_shell=3, raw 2.045e-01 eV/Msun\n",
      "XCBATH-DEBUG: SHELL i_z=14 i_shell=3, inject 7.775e-21 eV/Bavg\n",
      "XCBATH-DEBUG: SHELL i_z=14 i_shell=4, raw 2.113e-01 eV/Msun\n",
      "XCBATH-DEBUG: SHELL i_z=14 i_shell=4, inject 1.624e-20 eV/Bavg\n",
      "XCBATH-DEBUG: SHELL i_z=14 i_shell=5, raw 2.186e-01 eV/Msun\n",
      "XCBATH-DEBUG: SHELL i_z=14 i_shell=5, inject 3.342e-20 eV/Bavg\n",
      "XCBATH-DEBUG: SHELL i_z=14 i_shell=6, raw 2.267e-01 eV/Msun\n",
      "XCBATH-DEBUG: SHELL i_z=14 i_shell=6, inject 6.788e-20 eV/Bavg\n",
      "XCBATH-DEBUG: SHELL i_z=14 i_shell=7, raw 2.356e-01 eV/Msun\n",
      "XCBATH-DEBUG: SHELL i_z=14 i_shell=7, inject 1.364e-19 eV/Bavg\n",
      "XCBATH-DEBUG: SHELL i_z=14 i_shell=8, raw 2.456e-01 eV/Msun\n",
      "XCBATH-DEBUG: SHELL i_z=14 i_shell=8, inject 2.716e-19 eV/Bavg\n",
      "XCBATH-DEBUG: SHELL i_z=14 i_shell=9, raw 2.571e-01 eV/Msun\n",
      "XCBATH-DEBUG: SHELL i_z=14 i_shell=9, inject 5.370e-19 eV/Bavg\n",
      "XCBATH-DEBUG: SHELL i_z=14 i_shell=10, raw 2.708e-01 eV/Msun\n",
      "XCBATH-DEBUG: SHELL i_z=14 i_shell=10, inject 1.057e-18 eV/Bavg\n",
      "XCBATH-DEBUG: SHELL i_z=14 i_shell=11, raw 2.881e-01 eV/Msun\n",
      "XCBATH-DEBUG: SHELL i_z=14 i_shell=11, inject 2.083e-18 eV/Bavg\n",
      "XCBATH-DEBUG: SHELL i_z=14 i_shell=12, raw 3.115e-01 eV/Msun\n",
      "XCBATH-DEBUG: SHELL i_z=14 i_shell=12, inject 4.176e-18 eV/Bavg\n",
      "XCBATH-DEBUG: SHELL i_z=14 i_shell=13, raw 4.231e-01 eV/Msun\n",
      "XCBATH-DEBUG: SHELL i_z=14 i_shell=13, inject 1.231e-17 eV/Bavg\n"
     ]
    },
    {
     "name": "stderr",
     "output_type": "stream",
     "text": [
      " 26%|██▋       | 15/57 [00:23<01:27,  2.09s/it]"
     ]
    },
    {
     "name": "stdout",
     "output_type": "stream",
     "text": [
      "TsBox.c DEBUG:  zp = 3.848854e+01\n",
      "  E_heat = 0.000000e+00 eV/A\n",
      "  E_ion = 0.000000e+00 eV/A\n",
      "  E_lya = 0.000000e+00 eV/A\n",
      "  E_lya_star = 0.000000e+00 eV/A\n",
      "  E_(tot=heat+ion+lya) = 0.000000e+00 eV/A\n",
      "  frac_heat = -nan\n",
      "  frac_ion = -nan\n",
      "  frac_lya = -nan\n",
      "  (1.+curr_delNL0*growth_factor_zp) = 9.723644e-01\n",
      "zp = 3.848854e+01 E_tot_ave = 0.000000e+00\n",
      "XCBATH-DEBUG: SHELL i_z=15 i_shell=0, raw 1.817e-01 eV/Msun\n",
      "XCBATH-DEBUG: SHELL i_z=15 i_shell=0, inject 7.820e-22 eV/Bavg\n",
      "XCBATH-DEBUG: SHELL i_z=15 i_shell=1, raw 1.871e-01 eV/Msun\n",
      "XCBATH-DEBUG: SHELL i_z=15 i_shell=1, inject 1.660e-21 eV/Bavg\n",
      "XCBATH-DEBUG: SHELL i_z=15 i_shell=2, raw 1.927e-01 eV/Msun\n",
      "XCBATH-DEBUG: SHELL i_z=15 i_shell=2, inject 3.609e-21 eV/Bavg\n",
      "XCBATH-DEBUG: SHELL i_z=15 i_shell=3, raw 1.987e-01 eV/Msun\n",
      "XCBATH-DEBUG: SHELL i_z=15 i_shell=3, inject 7.669e-21 eV/Bavg\n",
      "XCBATH-DEBUG: SHELL i_z=15 i_shell=4, raw 2.050e-01 eV/Msun\n",
      "XCBATH-DEBUG: SHELL i_z=15 i_shell=4, inject 1.600e-20 eV/Bavg\n",
      "XCBATH-DEBUG: SHELL i_z=15 i_shell=5, raw 2.119e-01 eV/Msun\n",
      "XCBATH-DEBUG: SHELL i_z=15 i_shell=5, inject 3.287e-20 eV/Bavg\n",
      "XCBATH-DEBUG: SHELL i_z=15 i_shell=6, raw 2.192e-01 eV/Msun\n",
      "XCBATH-DEBUG: SHELL i_z=15 i_shell=6, inject 6.664e-20 eV/Bavg\n",
      "XCBATH-DEBUG: SHELL i_z=15 i_shell=7, raw 2.273e-01 eV/Msun\n",
      "XCBATH-DEBUG: SHELL i_z=15 i_shell=7, inject 1.336e-19 eV/Bavg\n",
      "XCBATH-DEBUG: SHELL i_z=15 i_shell=8, raw 2.362e-01 eV/Msun\n",
      "XCBATH-DEBUG: SHELL i_z=15 i_shell=8, inject 2.651e-19 eV/Bavg\n",
      "XCBATH-DEBUG: SHELL i_z=15 i_shell=9, raw 2.462e-01 eV/Msun\n",
      "XCBATH-DEBUG: SHELL i_z=15 i_shell=9, inject 5.220e-19 eV/Bavg\n",
      "XCBATH-DEBUG: SHELL i_z=15 i_shell=10, raw 2.577e-01 eV/Msun\n",
      "XCBATH-DEBUG: SHELL i_z=15 i_shell=10, inject 1.021e-18 eV/Bavg\n",
      "XCBATH-DEBUG: SHELL i_z=15 i_shell=11, raw 2.715e-01 eV/Msun\n",
      "XCBATH-DEBUG: SHELL i_z=15 i_shell=11, inject 1.990e-18 eV/Bavg\n",
      "XCBATH-DEBUG: SHELL i_z=15 i_shell=12, raw 2.887e-01 eV/Msun\n",
      "XCBATH-DEBUG: SHELL i_z=15 i_shell=12, inject 3.883e-18 eV/Bavg\n",
      "XCBATH-DEBUG: SHELL i_z=15 i_shell=13, raw 3.120e-01 eV/Msun\n",
      "XCBATH-DEBUG: SHELL i_z=15 i_shell=13, inject 7.704e-18 eV/Bavg\n",
      "XCBATH-DEBUG: SHELL i_z=15 i_shell=14, raw 4.231e-01 eV/Msun\n",
      "XCBATH-DEBUG: SHELL i_z=15 i_shell=14, inject 2.249e-17 eV/Bavg\n"
     ]
    },
    {
     "name": "stderr",
     "output_type": "stream",
     "text": [
      " 28%|██▊       | 16/57 [00:26<01:28,  2.17s/it]"
     ]
    },
    {
     "name": "stdout",
     "output_type": "stream",
     "text": [
      "TsBox.c DEBUG:  zp = 3.809756e+01\n",
      "  E_heat = 0.000000e+00 eV/A\n",
      "  E_ion = 0.000000e+00 eV/A\n",
      "  E_lya = 0.000000e+00 eV/A\n",
      "  E_lya_star = 0.000000e+00 eV/A\n",
      "  E_(tot=heat+ion+lya) = 0.000000e+00 eV/A\n",
      "  frac_heat = -nan\n",
      "  frac_ion = -nan\n",
      "  frac_lya = -nan\n",
      "  (1.+curr_delNL0*growth_factor_zp) = 9.721142e-01\n",
      "zp = 3.809756e+01 E_tot_ave = 0.000000e+00\n",
      "XCBATH-DEBUG: SHELL i_z=16 i_shell=0, raw 1.772e-01 eV/Msun\n",
      "XCBATH-DEBUG: SHELL i_z=16 i_shell=0, inject 7.739e-22 eV/Bavg\n",
      "XCBATH-DEBUG: SHELL i_z=16 i_shell=1, raw 1.823e-01 eV/Msun\n",
      "XCBATH-DEBUG: SHELL i_z=16 i_shell=1, inject 1.642e-21 eV/Bavg\n",
      "XCBATH-DEBUG: SHELL i_z=16 i_shell=2, raw 1.876e-01 eV/Msun\n",
      "XCBATH-DEBUG: SHELL i_z=16 i_shell=2, inject 3.566e-21 eV/Bavg\n",
      "XCBATH-DEBUG: SHELL i_z=16 i_shell=3, raw 1.933e-01 eV/Msun\n",
      "XCBATH-DEBUG: SHELL i_z=16 i_shell=3, inject 7.573e-21 eV/Bavg\n",
      "XCBATH-DEBUG: SHELL i_z=16 i_shell=4, raw 1.992e-01 eV/Msun\n",
      "XCBATH-DEBUG: SHELL i_z=16 i_shell=4, inject 1.578e-20 eV/Bavg\n"
     ]
    },
    {
     "name": "stderr",
     "output_type": "stream",
     "text": [
      " 28%|██▊       | 16/57 [00:26<01:08,  1.68s/it]\n"
     ]
    },
    {
     "ename": "KeyboardInterrupt",
     "evalue": "",
     "output_type": "error",
     "traceback": [
      "\u001b[0;31m---------------------------------------------------------------------------\u001b[0m",
      "\u001b[0;31mKeyboardInterrupt\u001b[0m                         Traceback (most recent call last)",
      "\u001b[1;32m/n/home07/yitians/dm21cm/DM21cm/testing/testing.ipynb Cell 3\u001b[0m line \u001b[0;36m1\n\u001b[0;32m----> <a href='vscode-notebook-cell://tunnel%2Bholygpu8a27102rcfasharvardedu/n/home07/yitians/dm21cm/DM21cm/testing/testing.ipynb#W1sdnNjb2RlLXJlbW90ZQ%3D%3D?line=0'>1</a>\u001b[0m return_dict \u001b[39m=\u001b[39m evolve(\n\u001b[1;32m      <a href='vscode-notebook-cell://tunnel%2Bholygpu8a27102rcfasharvardedu/n/home07/yitians/dm21cm/DM21cm/testing/testing.ipynb#W1sdnNjb2RlLXJlbW90ZQ%3D%3D?line=1'>2</a>\u001b[0m     run_name \u001b[39m=\u001b[39;49m \u001b[39mf\u001b[39;49m\u001b[39m'\u001b[39;49m\u001b[39mtest_xray\u001b[39;49m\u001b[39m'\u001b[39;49m,\n\u001b[1;32m      <a href='vscode-notebook-cell://tunnel%2Bholygpu8a27102rcfasharvardedu/n/home07/yitians/dm21cm/DM21cm/testing/testing.ipynb#W1sdnNjb2RlLXJlbW90ZQ%3D%3D?line=2'>3</a>\u001b[0m     z_start \u001b[39m=\u001b[39;49m \u001b[39m45.\u001b[39;49m,\n\u001b[1;32m      <a href='vscode-notebook-cell://tunnel%2Bholygpu8a27102rcfasharvardedu/n/home07/yitians/dm21cm/DM21cm/testing/testing.ipynb#W1sdnNjb2RlLXJlbW90ZQ%3D%3D?line=3'>4</a>\u001b[0m     z_end \u001b[39m=\u001b[39;49m \u001b[39m25.\u001b[39;49m,\n\u001b[1;32m      <a href='vscode-notebook-cell://tunnel%2Bholygpu8a27102rcfasharvardedu/n/home07/yitians/dm21cm/DM21cm/testing/testing.ipynb#W1sdnNjb2RlLXJlbW90ZQ%3D%3D?line=4'>5</a>\u001b[0m     zplusone_step_factor \u001b[39m=\u001b[39;49m \u001b[39m1.01\u001b[39;49m,\n\u001b[1;32m      <a href='vscode-notebook-cell://tunnel%2Bholygpu8a27102rcfasharvardedu/n/home07/yitians/dm21cm/DM21cm/testing/testing.ipynb#W1sdnNjb2RlLXJlbW90ZQ%3D%3D?line=5'>6</a>\u001b[0m     dm_params \u001b[39m=\u001b[39;49m DMParams(\n\u001b[1;32m      <a href='vscode-notebook-cell://tunnel%2Bholygpu8a27102rcfasharvardedu/n/home07/yitians/dm21cm/DM21cm/testing/testing.ipynb#W1sdnNjb2RlLXJlbW90ZQ%3D%3D?line=6'>7</a>\u001b[0m         mode\u001b[39m=\u001b[39;49m\u001b[39m'\u001b[39;49m\u001b[39mdecay\u001b[39;49m\u001b[39m'\u001b[39;49m,\n\u001b[1;32m      <a href='vscode-notebook-cell://tunnel%2Bholygpu8a27102rcfasharvardedu/n/home07/yitians/dm21cm/DM21cm/testing/testing.ipynb#W1sdnNjb2RlLXJlbW90ZQ%3D%3D?line=7'>8</a>\u001b[0m         primary\u001b[39m=\u001b[39;49m\u001b[39m'\u001b[39;49m\u001b[39mphot_delta\u001b[39;49m\u001b[39m'\u001b[39;49m,\n\u001b[1;32m      <a href='vscode-notebook-cell://tunnel%2Bholygpu8a27102rcfasharvardedu/n/home07/yitians/dm21cm/DM21cm/testing/testing.ipynb#W1sdnNjb2RlLXJlbW90ZQ%3D%3D?line=8'>9</a>\u001b[0m         m_DM\u001b[39m=\u001b[39;49m\u001b[39m1e8\u001b[39;49m, \u001b[39m# [eV]\u001b[39;49;00m\n\u001b[1;32m     <a href='vscode-notebook-cell://tunnel%2Bholygpu8a27102rcfasharvardedu/n/home07/yitians/dm21cm/DM21cm/testing/testing.ipynb#W1sdnNjb2RlLXJlbW90ZQ%3D%3D?line=9'>10</a>\u001b[0m         lifetime\u001b[39m=\u001b[39;49m\u001b[39m1e50\u001b[39;49m, \u001b[39m# [s]\u001b[39;49;00m\n\u001b[1;32m     <a href='vscode-notebook-cell://tunnel%2Bholygpu8a27102rcfasharvardedu/n/home07/yitians/dm21cm/DM21cm/testing/testing.ipynb#W1sdnNjb2RlLXJlbW90ZQ%3D%3D?line=10'>11</a>\u001b[0m     ),\n\u001b[1;32m     <a href='vscode-notebook-cell://tunnel%2Bholygpu8a27102rcfasharvardedu/n/home07/yitians/dm21cm/DM21cm/testing/testing.ipynb#W1sdnNjb2RlLXJlbW90ZQ%3D%3D?line=11'>12</a>\u001b[0m     enable_elec \u001b[39m=\u001b[39;49m \u001b[39mFalse\u001b[39;49;00m,\n\u001b[1;32m     <a href='vscode-notebook-cell://tunnel%2Bholygpu8a27102rcfasharvardedu/n/home07/yitians/dm21cm/DM21cm/testing/testing.ipynb#W1sdnNjb2RlLXJlbW90ZQ%3D%3D?line=12'>13</a>\u001b[0m     tf_version \u001b[39m=\u001b[39;49m \u001b[39m'\u001b[39;49m\u001b[39mzf01\u001b[39;49m\u001b[39m'\u001b[39;49m,\n\u001b[1;32m     <a href='vscode-notebook-cell://tunnel%2Bholygpu8a27102rcfasharvardedu/n/home07/yitians/dm21cm/DM21cm/testing/testing.ipynb#W1sdnNjb2RlLXJlbW90ZQ%3D%3D?line=13'>14</a>\u001b[0m     \n\u001b[1;32m     <a href='vscode-notebook-cell://tunnel%2Bholygpu8a27102rcfasharvardedu/n/home07/yitians/dm21cm/DM21cm/testing/testing.ipynb#W1sdnNjb2RlLXJlbW90ZQ%3D%3D?line=14'>15</a>\u001b[0m     p21c_initial_conditions \u001b[39m=\u001b[39;49m p21c\u001b[39m.\u001b[39;49minitial_conditions(\n\u001b[1;32m     <a href='vscode-notebook-cell://tunnel%2Bholygpu8a27102rcfasharvardedu/n/home07/yitians/dm21cm/DM21cm/testing/testing.ipynb#W1sdnNjb2RlLXJlbW90ZQ%3D%3D?line=15'>16</a>\u001b[0m         user_params \u001b[39m=\u001b[39;49m p21c\u001b[39m.\u001b[39;49mUserParams(\n\u001b[1;32m     <a href='vscode-notebook-cell://tunnel%2Bholygpu8a27102rcfasharvardedu/n/home07/yitians/dm21cm/DM21cm/testing/testing.ipynb#W1sdnNjb2RlLXJlbW90ZQ%3D%3D?line=16'>17</a>\u001b[0m             HII_DIM \u001b[39m=\u001b[39;49m \u001b[39m32\u001b[39;49m,\n\u001b[1;32m     <a href='vscode-notebook-cell://tunnel%2Bholygpu8a27102rcfasharvardedu/n/home07/yitians/dm21cm/DM21cm/testing/testing.ipynb#W1sdnNjb2RlLXJlbW90ZQ%3D%3D?line=17'>18</a>\u001b[0m             BOX_LEN \u001b[39m=\u001b[39;49m \u001b[39m32\u001b[39;49m \u001b[39m*\u001b[39;49m \u001b[39m2\u001b[39;49m, \u001b[39m# [conformal Mpc]\u001b[39;49;00m\n\u001b[1;32m     <a href='vscode-notebook-cell://tunnel%2Bholygpu8a27102rcfasharvardedu/n/home07/yitians/dm21cm/DM21cm/testing/testing.ipynb#W1sdnNjb2RlLXJlbW90ZQ%3D%3D?line=18'>19</a>\u001b[0m             N_THREADS \u001b[39m=\u001b[39;49m \u001b[39m32\u001b[39;49m,\n\u001b[1;32m     <a href='vscode-notebook-cell://tunnel%2Bholygpu8a27102rcfasharvardedu/n/home07/yitians/dm21cm/DM21cm/testing/testing.ipynb#W1sdnNjb2RlLXJlbW90ZQ%3D%3D?line=19'>20</a>\u001b[0m         ),\n\u001b[1;32m     <a href='vscode-notebook-cell://tunnel%2Bholygpu8a27102rcfasharvardedu/n/home07/yitians/dm21cm/DM21cm/testing/testing.ipynb#W1sdnNjb2RlLXJlbW90ZQ%3D%3D?line=20'>21</a>\u001b[0m         cosmo_params \u001b[39m=\u001b[39;49m p21c\u001b[39m.\u001b[39;49mCosmoParams(\n\u001b[1;32m     <a href='vscode-notebook-cell://tunnel%2Bholygpu8a27102rcfasharvardedu/n/home07/yitians/dm21cm/DM21cm/testing/testing.ipynb#W1sdnNjb2RlLXJlbW90ZQ%3D%3D?line=21'>22</a>\u001b[0m             OMm \u001b[39m=\u001b[39;49m Planck18\u001b[39m.\u001b[39;49mOm0,\n\u001b[1;32m     <a href='vscode-notebook-cell://tunnel%2Bholygpu8a27102rcfasharvardedu/n/home07/yitians/dm21cm/DM21cm/testing/testing.ipynb#W1sdnNjb2RlLXJlbW90ZQ%3D%3D?line=22'>23</a>\u001b[0m             OMb \u001b[39m=\u001b[39;49m Planck18\u001b[39m.\u001b[39;49mOb0,\n\u001b[1;32m     <a href='vscode-notebook-cell://tunnel%2Bholygpu8a27102rcfasharvardedu/n/home07/yitians/dm21cm/DM21cm/testing/testing.ipynb#W1sdnNjb2RlLXJlbW90ZQ%3D%3D?line=23'>24</a>\u001b[0m             POWER_INDEX \u001b[39m=\u001b[39;49m Planck18\u001b[39m.\u001b[39;49mmeta[\u001b[39m'\u001b[39;49m\u001b[39mn\u001b[39;49m\u001b[39m'\u001b[39;49m],\n\u001b[1;32m     <a href='vscode-notebook-cell://tunnel%2Bholygpu8a27102rcfasharvardedu/n/home07/yitians/dm21cm/DM21cm/testing/testing.ipynb#W1sdnNjb2RlLXJlbW90ZQ%3D%3D?line=24'>25</a>\u001b[0m             SIGMA_8 \u001b[39m=\u001b[39;49m Planck18\u001b[39m.\u001b[39;49mmeta[\u001b[39m'\u001b[39;49m\u001b[39msigma8\u001b[39;49m\u001b[39m'\u001b[39;49m],\n\u001b[1;32m     <a href='vscode-notebook-cell://tunnel%2Bholygpu8a27102rcfasharvardedu/n/home07/yitians/dm21cm/DM21cm/testing/testing.ipynb#W1sdnNjb2RlLXJlbW90ZQ%3D%3D?line=25'>26</a>\u001b[0m             hlittle \u001b[39m=\u001b[39;49m Planck18\u001b[39m.\u001b[39;49mh,\n\u001b[1;32m     <a href='vscode-notebook-cell://tunnel%2Bholygpu8a27102rcfasharvardedu/n/home07/yitians/dm21cm/DM21cm/testing/testing.ipynb#W1sdnNjb2RlLXJlbW90ZQ%3D%3D?line=26'>27</a>\u001b[0m         ),\n\u001b[1;32m     <a href='vscode-notebook-cell://tunnel%2Bholygpu8a27102rcfasharvardedu/n/home07/yitians/dm21cm/DM21cm/testing/testing.ipynb#W1sdnNjb2RlLXJlbW90ZQ%3D%3D?line=27'>28</a>\u001b[0m         random_seed \u001b[39m=\u001b[39;49m \u001b[39m54321\u001b[39;49m,\n\u001b[1;32m     <a href='vscode-notebook-cell://tunnel%2Bholygpu8a27102rcfasharvardedu/n/home07/yitians/dm21cm/DM21cm/testing/testing.ipynb#W1sdnNjb2RlLXJlbW90ZQ%3D%3D?line=28'>29</a>\u001b[0m         write \u001b[39m=\u001b[39;49m \u001b[39mTrue\u001b[39;49;00m,\n\u001b[1;32m     <a href='vscode-notebook-cell://tunnel%2Bholygpu8a27102rcfasharvardedu/n/home07/yitians/dm21cm/DM21cm/testing/testing.ipynb#W1sdnNjb2RlLXJlbW90ZQ%3D%3D?line=29'>30</a>\u001b[0m     ),\n\u001b[1;32m     <a href='vscode-notebook-cell://tunnel%2Bholygpu8a27102rcfasharvardedu/n/home07/yitians/dm21cm/DM21cm/testing/testing.ipynb#W1sdnNjb2RlLXJlbW90ZQ%3D%3D?line=30'>31</a>\u001b[0m     \n\u001b[1;32m     <a href='vscode-notebook-cell://tunnel%2Bholygpu8a27102rcfasharvardedu/n/home07/yitians/dm21cm/DM21cm/testing/testing.ipynb#W1sdnNjb2RlLXJlbW90ZQ%3D%3D?line=31'>32</a>\u001b[0m     rerun_DH \u001b[39m=\u001b[39;49m \u001b[39mFalse\u001b[39;49;00m,\n\u001b[1;32m     <a href='vscode-notebook-cell://tunnel%2Bholygpu8a27102rcfasharvardedu/n/home07/yitians/dm21cm/DM21cm/testing/testing.ipynb#W1sdnNjb2RlLXJlbW90ZQ%3D%3D?line=32'>33</a>\u001b[0m     clear_cache \u001b[39m=\u001b[39;49m \u001b[39mTrue\u001b[39;49;00m,\n\u001b[1;32m     <a href='vscode-notebook-cell://tunnel%2Bholygpu8a27102rcfasharvardedu/n/home07/yitians/dm21cm/DM21cm/testing/testing.ipynb#W1sdnNjb2RlLXJlbW90ZQ%3D%3D?line=33'>34</a>\u001b[0m     use_tqdm \u001b[39m=\u001b[39;49m \u001b[39mTrue\u001b[39;49;00m,\n\u001b[1;32m     <a href='vscode-notebook-cell://tunnel%2Bholygpu8a27102rcfasharvardedu/n/home07/yitians/dm21cm/DM21cm/testing/testing.ipynb#W1sdnNjb2RlLXJlbW90ZQ%3D%3D?line=34'>35</a>\u001b[0m     debug_flags \u001b[39m=\u001b[39;49m [\u001b[39m'\u001b[39;49m\u001b[39mxraycheck\u001b[39;49m\u001b[39m'\u001b[39;49m], \u001b[39m# our xray ST compare with DH\u001b[39;49;00m\n\u001b[1;32m     <a href='vscode-notebook-cell://tunnel%2Bholygpu8a27102rcfasharvardedu/n/home07/yitians/dm21cm/DM21cm/testing/testing.ipynb#W1sdnNjb2RlLXJlbW90ZQ%3D%3D?line=35'>36</a>\u001b[0m     debug_astro_params \u001b[39m=\u001b[39;49m p21c\u001b[39m.\u001b[39;49mAstroParams(L_X \u001b[39m=\u001b[39;49m \u001b[39m0.\u001b[39;49m), \u001b[39m# log10 value\u001b[39;49;00m\n\u001b[1;32m     <a href='vscode-notebook-cell://tunnel%2Bholygpu8a27102rcfasharvardedu/n/home07/yitians/dm21cm/DM21cm/testing/testing.ipynb#W1sdnNjb2RlLXJlbW90ZQ%3D%3D?line=36'>37</a>\u001b[0m     use_DH_init \u001b[39m=\u001b[39;49m \u001b[39mFalse\u001b[39;49;00m,\n\u001b[1;32m     <a href='vscode-notebook-cell://tunnel%2Bholygpu8a27102rcfasharvardedu/n/home07/yitians/dm21cm/DM21cm/testing/testing.ipynb#W1sdnNjb2RlLXJlbW90ZQ%3D%3D?line=37'>38</a>\u001b[0m     custom_YHe \u001b[39m=\u001b[39;49m \u001b[39m0.245\u001b[39;49m,\n\u001b[1;32m     <a href='vscode-notebook-cell://tunnel%2Bholygpu8a27102rcfasharvardedu/n/home07/yitians/dm21cm/DM21cm/testing/testing.ipynb#W1sdnNjb2RlLXJlbW90ZQ%3D%3D?line=38'>39</a>\u001b[0m     debug_turn_off_pop2ion \u001b[39m=\u001b[39;49m \u001b[39mFalse\u001b[39;49;00m,\n\u001b[1;32m     <a href='vscode-notebook-cell://tunnel%2Bholygpu8a27102rcfasharvardedu/n/home07/yitians/dm21cm/DM21cm/testing/testing.ipynb#W1sdnNjb2RlLXJlbW90ZQ%3D%3D?line=39'>40</a>\u001b[0m     track_Tk_xe \u001b[39m=\u001b[39;49m \u001b[39mTrue\u001b[39;49;00m,\n\u001b[1;32m     <a href='vscode-notebook-cell://tunnel%2Bholygpu8a27102rcfasharvardedu/n/home07/yitians/dm21cm/DM21cm/testing/testing.ipynb#W1sdnNjb2RlLXJlbW90ZQ%3D%3D?line=40'>41</a>\u001b[0m )\n",
      "File \u001b[0;32m~/dm21cm/DM21cm/dm21cm/evolve.py:384\u001b[0m, in \u001b[0;36mevolve\u001b[0;34m(run_name, z_start, z_end, zplusone_step_factor, dm_params, enable_elec, tf_version, p21c_initial_conditions, use_DH_init, rerun_DH, clear_cache, use_tqdm, debug_flags, debug_xray_multiplier, debug_astro_params, save_dir, debug_dhc_DH_xe_func, debug_dhc_delta_fixed, debug_no_bath, debug_bath_point_injection, debug_break_after_z, dh_bath_N_interp_func, custom_YHe, coarsen_interp_factor, debug_turn_off_pop2ion, debug_even_split_f, debug_copy_dh_init, track_Tk_xe, track_Tk_xe_set_tf_input, use_21totf)\u001b[0m\n\u001b[1;32m    381\u001b[0m     \u001b[39mprint\u001b[39m(\u001b[39mf\u001b[39m\u001b[39m'\u001b[39m\u001b[39mXCBATH-DEBUG: SHELL i_z=\u001b[39m\u001b[39m{\u001b[39;00mi_z\u001b[39m}\u001b[39;00m\u001b[39m i_shell=\u001b[39m\u001b[39m{\u001b[39;00mi_z_shell\u001b[39m}\u001b[39;00m\u001b[39m, inject \u001b[39m\u001b[39m{\u001b[39;00mnp\u001b[39m.\u001b[39mmean(emissivity_bracket)\u001b[39m*\u001b[39mnp\u001b[39m.\u001b[39mdot(L_X_spec_inj\u001b[39m.\u001b[39mN,\u001b[39m \u001b[39mabscs[\u001b[39m\"\u001b[39m\u001b[39mphotE\u001b[39m\u001b[39m\"\u001b[39m])\u001b[39m:\u001b[39;00m\u001b[39m.3e\u001b[39m\u001b[39m}\u001b[39;00m\u001b[39m eV/Bavg\u001b[39m\u001b[39m'\u001b[39m)\n\u001b[1;32m    383\u001b[0m     \u001b[39mif\u001b[39;00m ST_SFRD_Interpolator(z_donor) \u001b[39m>\u001b[39m \u001b[39m0.\u001b[39m:\n\u001b[0;32m--> 384\u001b[0m         tf_wrapper\u001b[39m.\u001b[39;49minject_phot(L_X_spec_inj, inject_type\u001b[39m=\u001b[39;49m\u001b[39m'\u001b[39;49m\u001b[39mxray\u001b[39;49m\u001b[39m'\u001b[39;49m, weight_box\u001b[39m=\u001b[39;49mjnp\u001b[39m.\u001b[39;49masarray(emissivity_bracket))\n\u001b[1;32m    386\u001b[0m print_str \u001b[39m+\u001b[39m\u001b[39m=\u001b[39m \u001b[39mf\u001b[39m\u001b[39m'\u001b[39m\u001b[39m shells:\u001b[39m\u001b[39m{\u001b[39;00mi_xraycheck_loop_start\u001b[39m}\u001b[39;00m\u001b[39m-\u001b[39m\u001b[39m{\u001b[39;00mi_z\u001b[39m}\u001b[39;00m\u001b[39m'\u001b[39m\n\u001b[1;32m    387\u001b[0m \u001b[39mif\u001b[39;00m i_z \u001b[39m>\u001b[39m i_xraycheck_loop_start: \u001b[39m# if shells were injected at all\u001b[39;00m\n",
      "File \u001b[0;32m~/dm21cm/DM21cm/dm21cm/dh_wrappers.py:189\u001b[0m, in \u001b[0;36mTransferFunctionWrapper.inject_phot\u001b[0;34m(self, in_spec, inject_type, weight_box)\u001b[0m\n\u001b[1;32m    186\u001b[0m     \u001b[39mraise\u001b[39;00m \u001b[39mNotImplementedError\u001b[39;00m(inject_type)\n\u001b[1;32m    188\u001b[0m \u001b[39m# Apply phot_scat_tf\u001b[39;00m\n\u001b[0;32m--> 189\u001b[0m \u001b[39mself\u001b[39m\u001b[39m.\u001b[39memit_phot_N \u001b[39m+\u001b[39m\u001b[39m=\u001b[39m unif_norm \u001b[39m*\u001b[39m \u001b[39mself\u001b[39;49m\u001b[39m.\u001b[39;49mphot_scat_tf(\n\u001b[1;32m    190\u001b[0m     in_spec\u001b[39m=\u001b[39;49min_spec\u001b[39m.\u001b[39;49mN, sum_result\u001b[39m=\u001b[39;49m\u001b[39mTrue\u001b[39;49;00m, sum_weight\u001b[39m=\u001b[39;49msum_weight, \u001b[39m*\u001b[39;49m\u001b[39m*\u001b[39;49m\u001b[39mself\u001b[39;49m\u001b[39m.\u001b[39;49mtf_kwargs\n\u001b[1;32m    191\u001b[0m ) \u001b[39m# [N / Bavg]\u001b[39;00m\n\u001b[1;32m    193\u001b[0m \u001b[39m# Apply phot_dep_tf\u001b[39;00m\n\u001b[1;32m    194\u001b[0m \u001b[39mself\u001b[39m\u001b[39m.\u001b[39mdep_box \u001b[39m+\u001b[39m\u001b[39m=\u001b[39m weight_norm \u001b[39m*\u001b[39m \u001b[39mself\u001b[39m\u001b[39m.\u001b[39mphot_dep_tf(\n\u001b[1;32m    195\u001b[0m     in_spec\u001b[39m=\u001b[39min_spec\u001b[39m.\u001b[39mN, sum_result\u001b[39m=\u001b[39m\u001b[39mFalse\u001b[39;00m, \u001b[39m*\u001b[39m\u001b[39m*\u001b[39m\u001b[39mself\u001b[39m\u001b[39m.\u001b[39mtf_kwargs\n\u001b[1;32m    196\u001b[0m )\u001b[39m.\u001b[39mreshape(\u001b[39mself\u001b[39m\u001b[39m.\u001b[39mdep_box\u001b[39m.\u001b[39mshape)\n",
      "File \u001b[0;32m~/dm21cm/DM21cm/dm21cm/interpolators_jax.py:175\u001b[0m, in \u001b[0;36mBatchInterpolator.__call__\u001b[0;34m(self, rs, in_spec, nBs_s, x_s, sum_result, sum_weight, sum_batch_size, out_of_bounds_action)\u001b[0m\n\u001b[1;32m    173\u001b[0m         result \u001b[39m+\u001b[39m\u001b[39m=\u001b[39m jnp\u001b[39m.\u001b[39msum(interp_result, axis\u001b[39m=\u001b[39m\u001b[39m0\u001b[39m)\n\u001b[1;32m    174\u001b[0m     \u001b[39melse\u001b[39;00m:\n\u001b[0;32m--> 175\u001b[0m         result \u001b[39m+\u001b[39m\u001b[39m=\u001b[39m jnp\u001b[39m.\u001b[39;49mdot(sum_weight_batches[i_batch], interp_result)\n\u001b[1;32m    177\u001b[0m \u001b[39mreturn\u001b[39;00m result\n",
      "\u001b[0;31mKeyboardInterrupt\u001b[0m: "
     ]
    }
   ],
   "source": [
    "return_dict = evolve(\n",
    "    run_name = f'test_xray',\n",
    "    z_start = 45.,\n",
    "    z_end = 25.,\n",
    "    zplusone_step_factor = 1.01,\n",
    "    dm_params = DMParams(\n",
    "        mode='decay',\n",
    "        primary='phot_delta',\n",
    "        m_DM=1e8, # [eV]\n",
    "        lifetime=1e50, # [s]\n",
    "    ),\n",
    "    enable_elec = False,\n",
    "    tf_version = 'zf01',\n",
    "    \n",
    "    p21c_initial_conditions = p21c.initial_conditions(\n",
    "        user_params = p21c.UserParams(\n",
    "            HII_DIM = 32,\n",
    "            BOX_LEN = 32 * 2, # [conformal Mpc]\n",
    "            N_THREADS = 32,\n",
    "        ),\n",
    "        cosmo_params = p21c.CosmoParams(\n",
    "            OMm = Planck18.Om0,\n",
    "            OMb = Planck18.Ob0,\n",
    "            POWER_INDEX = Planck18.meta['n'],\n",
    "            SIGMA_8 = Planck18.meta['sigma8'],\n",
    "            hlittle = Planck18.h,\n",
    "        ),\n",
    "        random_seed = 54321,\n",
    "        write = True,\n",
    "    ),\n",
    "    \n",
    "    rerun_DH = False,\n",
    "    clear_cache = True,\n",
    "    use_tqdm = True,\n",
    "    debug_flags = ['xraycheck'], # our xray ST compare with DH\n",
    "    debug_astro_params = p21c.AstroParams(L_X = 0.), # log10 value\n",
    "    use_DH_init = False,\n",
    "    custom_YHe = 0.245,\n",
    "    debug_turn_off_pop2ion = False,\n",
    "    track_Tk_xe = True,\n",
    ")"
   ]
  },
  {
   "cell_type": "code",
   "execution_count": null,
   "metadata": {},
   "outputs": [],
   "source": []
  }
 ],
 "metadata": {
  "kernelspec": {
   "display_name": "dm21cm",
   "language": "python",
   "name": "python3"
  },
  "language_info": {
   "codemirror_mode": {
    "name": "ipython",
    "version": 3
   },
   "file_extension": ".py",
   "mimetype": "text/x-python",
   "name": "python",
   "nbconvert_exporter": "python",
   "pygments_lexer": "ipython3",
   "version": "3.11.5"
  }
 },
 "nbformat": 4,
 "nbformat_minor": 2
}
