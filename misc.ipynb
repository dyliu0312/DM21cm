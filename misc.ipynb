{
 "cells": [
  {
   "cell_type": "markdown",
   "id": "5b7dfab4-d884-4708-b8d7-d29983b32032",
   "metadata": {},
   "source": [
    "## 1. Range of delta\n",
    "Assuming $200\\times200\\times200$ simulation."
   ]
  },
  {
   "cell_type": "code",
   "execution_count": 1,
   "id": "61e0ac9e-26b6-44b7-ae9f-843697b1df92",
   "metadata": {},
   "outputs": [],
   "source": [
    "from scipy import stats"
   ]
  },
  {
   "cell_type": "code",
   "execution_count": 2,
   "id": "5decc871-1b5e-42a4-a867-7755da7ab4cc",
   "metadata": {},
   "outputs": [
    {
     "name": "stdout",
     "output_type": "stream",
     "text": [
      "1/cell#: 1.250e-07\n",
      "5 sigma: 2.867e-07\n",
      "6 sigma: 9.866e-10\n"
     ]
    }
   ],
   "source": [
    "print(f'1/cell#: {(1/200**3):.3e}')\n",
    "print(f'5 sigma: {(1-stats.norm.cdf(5)):.3e}')\n",
    "print(f'6 sigma: {(1-stats.norm.cdf(6)):.3e}')"
   ]
  },
  {
   "cell_type": "markdown",
   "id": "9945546b-a351-418e-b7b6-dcdba40a3de6",
   "metadata": {},
   "source": [
    "5 sigma not always enough, generating $\\delta=0\\sim1.7$ for $1+z=5\\sim50$"
   ]
  }
 ],
 "metadata": {
  "kernelspec": {
   "display_name": "Python 3",
   "language": "python",
   "name": "python3"
  },
  "language_info": {
   "codemirror_mode": {
    "name": "ipython",
    "version": 3
   },
   "file_extension": ".py",
   "mimetype": "text/x-python",
   "name": "python",
   "nbconvert_exporter": "python",
   "pygments_lexer": "ipython3",
   "version": "3.7.6"
  }
 },
 "nbformat": 4,
 "nbformat_minor": 5
}
